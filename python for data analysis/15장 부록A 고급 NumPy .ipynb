{
 "cells": [
  {
   "cell_type": "code",
   "execution_count": 1,
   "metadata": {},
   "outputs": [],
   "source": [
    "import numpy as np\n",
    "import pandas as pd"
   ]
  },
  {
   "cell_type": "markdown",
   "metadata": {},
   "source": [
    "# nadarray 객체 구조"
   ]
  },
  {
   "cell_type": "raw",
   "metadata": {},
   "source": [
    "ndarray 객체에는 메모리 덩어리와 dtype뿐 아니라 보폭(striding) 정보를 포함하고 있다.\n",
    "\n",
    "-데이터 포인터: RAM이나 메모리 맵 파일에서 데이터의 블록\n",
    "-dtype: 배열 내에서 값을 담는 고정된 크기를 나타낸다.\n",
    "-배열의 모양을 알려주는 튜플\n",
    "\n",
    "-하나의 차원을 따라 다음 원소로 몇 바이트 이동해야 하는지를 나타내는 stride를 담고 있는 튜플"
   ]
  },
  {
   "cell_type": "code",
   "execution_count": 2,
   "metadata": {},
   "outputs": [
    {
     "data": {
      "text/plain": [
       "(10, 5)"
      ]
     },
     "execution_count": 2,
     "metadata": {},
     "output_type": "execute_result"
    }
   ],
   "source": [
    "np.ones((10,5)).shape"
   ]
  },
  {
   "cell_type": "code",
   "execution_count": 3,
   "metadata": {},
   "outputs": [
    {
     "data": {
      "text/plain": [
       "(40, 8)"
      ]
     },
     "execution_count": 3,
     "metadata": {},
     "output_type": "execute_result"
    }
   ],
   "source": [
    "np.ones((10,5)).strides"
   ]
  },
  {
   "cell_type": "code",
   "execution_count": 4,
   "metadata": {},
   "outputs": [
    {
     "data": {
      "text/plain": [
       "(160, 40, 8)"
      ]
     },
     "execution_count": 4,
     "metadata": {},
     "output_type": "execute_result"
    }
   ],
   "source": [
    "np.ones((3,4,5),dtype=np.float64).strides"
   ]
  },
  {
   "cell_type": "raw",
   "metadata": {},
   "source": [
    "stride 값이 클수록 해당 축을 따라 연산을 수행하는 비용이 많이 든다.\n",
    "stride 값은 음수일 수도 있는데 메모리상에서 뒤로 이동해야한다는 의미( ex) obj[::-1], obj[:,::-1] )"
   ]
  },
  {
   "cell_type": "markdown",
   "metadata": {},
   "source": [
    "NumPy dtype 구조 (p590 그림 A-2를 참고하시오)"
   ]
  },
  {
   "cell_type": "code",
   "execution_count": 9,
   "metadata": {},
   "outputs": [
    {
     "data": {
      "text/plain": [
       "True"
      ]
     },
     "execution_count": 9,
     "metadata": {},
     "output_type": "execute_result"
    }
   ],
   "source": [
    "# dtype은 np.issubdtype 함수와 결합하여 사용할 수 있는 np.integer나 np.floating 같은 부모 클래스를 가진다.\n",
    "\n",
    "ints = np.ones(10,dtype=np.uint16)\n",
    "floats = np.ones(10,dtype=np.float32)\n",
    "\n",
    "np.issubdtype(ints.dtype, np.integer)"
   ]
  },
  {
   "cell_type": "code",
   "execution_count": 11,
   "metadata": {},
   "outputs": [
    {
     "data": {
      "text/plain": [
       "True"
      ]
     },
     "execution_count": 11,
     "metadata": {},
     "output_type": "execute_result"
    }
   ],
   "source": [
    "np.issubdtype(floats.dtype, np.floating)"
   ]
  },
  {
   "cell_type": "code",
   "execution_count": 12,
   "metadata": {},
   "outputs": [
    {
     "data": {
      "text/plain": [
       "[numpy.float64,\n",
       " numpy.floating,\n",
       " numpy.inexact,\n",
       " numpy.number,\n",
       " numpy.generic,\n",
       " float,\n",
       " object]"
      ]
     },
     "execution_count": 12,
     "metadata": {},
     "output_type": "execute_result"
    }
   ],
   "source": [
    "# 특정 dtype의 모든 부모 클래스는 mro 메서드를 이용해서 확인할 수 있다.\n",
    "\n",
    "np.float64.mro()"
   ]
  },
  {
   "cell_type": "code",
   "execution_count": 13,
   "metadata": {},
   "outputs": [
    {
     "data": {
      "text/plain": [
       "[numpy.float32,\n",
       " numpy.floating,\n",
       " numpy.inexact,\n",
       " numpy.number,\n",
       " numpy.generic,\n",
       " object]"
      ]
     },
     "execution_count": 13,
     "metadata": {},
     "output_type": "execute_result"
    }
   ],
   "source": [
    "np.float32.mro()"
   ]
  },
  {
   "cell_type": "code",
   "execution_count": 14,
   "metadata": {},
   "outputs": [
    {
     "data": {
      "text/plain": [
       "True"
      ]
     },
     "execution_count": 14,
     "metadata": {},
     "output_type": "execute_result"
    }
   ],
   "source": [
    "np.issubdtype(ints.dtype, np.number)"
   ]
  },
  {
   "cell_type": "code",
   "execution_count": 15,
   "metadata": {},
   "outputs": [
    {
     "data": {
      "text/plain": [
       "[numpy.int64,\n",
       " numpy.signedinteger,\n",
       " numpy.integer,\n",
       " numpy.number,\n",
       " numpy.generic,\n",
       " object]"
      ]
     },
     "execution_count": 15,
     "metadata": {},
     "output_type": "execute_result"
    }
   ],
   "source": [
    "np.int64.mro()"
   ]
  },
  {
   "cell_type": "markdown",
   "metadata": {},
   "source": [
    "# 고급 배열 조작 기법"
   ]
  },
  {
   "cell_type": "raw",
   "metadata": {},
   "source": [
    "데이터 분석 애플리케이션에서 까다로운 작업은 pandas의 상위레벨 함수에서 처리하지만 라이브러리에 존재하지 않는 데이터 알고리즘을 직접 작성해야하는 경우도 있다."
   ]
  },
  {
   "cell_type": "markdown",
   "metadata": {},
   "source": [
    "배열 재형성하기"
   ]
  },
  {
   "cell_type": "code",
   "execution_count": 16,
   "metadata": {},
   "outputs": [
    {
     "data": {
      "text/plain": [
       "array([[0, 1],\n",
       "       [2, 3],\n",
       "       [4, 5],\n",
       "       [6, 7]])"
      ]
     },
     "execution_count": 16,
     "metadata": {},
     "output_type": "execute_result"
    }
   ],
   "source": [
    "# reshape 메서드\n",
    "\n",
    "arr = np.arange(8)\n",
    "arr.reshape((4,2))    \n",
    "# arr.reshape((4,3),order=?) \n",
    "# order = 'C' --> 로우 우선     order = 'F' --> 컬럼 우선"
   ]
  },
  {
   "cell_type": "code",
   "execution_count": 18,
   "metadata": {},
   "outputs": [
    {
     "data": {
      "text/plain": [
       "array([[0, 1, 2, 3],\n",
       "       [4, 5, 6, 7]])"
      ]
     },
     "execution_count": 18,
     "metadata": {},
     "output_type": "execute_result"
    }
   ],
   "source": [
    "# 다차원 배열 역시 재형성이 가능\n",
    "\n",
    "arr.reshape((4,2)).reshape((2,4))"
   ]
  },
  {
   "cell_type": "code",
   "execution_count": 21,
   "metadata": {},
   "outputs": [
    {
     "data": {
      "text/plain": [
       "array([[ 0,  1,  2],\n",
       "       [ 3,  4,  5],\n",
       "       [ 6,  7,  8],\n",
       "       [ 9, 10, 11],\n",
       "       [12, 13, 14]])"
      ]
     },
     "execution_count": 21,
     "metadata": {},
     "output_type": "execute_result"
    }
   ],
   "source": [
    "# -1을 넘길 수도 있는데 이 때는 원본 데이터를 참조해서 적절한 값을 추론하게 된다.\n",
    "\n",
    "arr = np.arange(15).reshape((5,-1))\n",
    "arr"
   ]
  },
  {
   "cell_type": "code",
   "execution_count": 22,
   "metadata": {},
   "outputs": [
    {
     "data": {
      "text/plain": [
       "array([[ 0,  1,  2,  3,  4],\n",
       "       [ 5,  6,  7,  8,  9],\n",
       "       [10, 11, 12, 13, 14]])"
      ]
     },
     "execution_count": 22,
     "metadata": {},
     "output_type": "execute_result"
    }
   ],
   "source": [
    "# shape 속성은 튜플이기 때문에 reshape 메서드에 이를 직접 넘기는 것도 가능하다.\n",
    "\n",
    "other_arr = np.ones((3,5))\n",
    "arr.reshape(other_arr.shape)   # other_arr.shape --> (3,5)"
   ]
  },
  {
   "cell_type": "code",
   "execution_count": 185,
   "metadata": {},
   "outputs": [
    {
     "data": {
      "text/plain": [
       "array([ 0,  1,  2,  3,  4,  5,  6,  7,  8,  9, 10, 11, 12, 13, 14])"
      ]
     },
     "execution_count": 185,
     "metadata": {},
     "output_type": "execute_result"
    }
   ],
   "source": [
    "# 다차원 배열을 낮은 차원으로 변환하는 것을 평탄화(flattening, raveling)라고 한다.\n",
    "\n",
    "arr = np.arange(15).reshape((3,5))\n",
    "\n",
    "arr.ravel()   # ravel 메서드 주목"
   ]
  },
  {
   "cell_type": "code",
   "execution_count": 24,
   "metadata": {},
   "outputs": [
    {
     "data": {
      "text/plain": [
       "array([ 0,  1,  2,  3,  4,  5,  6,  7,  8,  9, 10, 11, 12, 13, 14])"
      ]
     },
     "execution_count": 24,
     "metadata": {},
     "output_type": "execute_result"
    }
   ],
   "source": [
    "arr.flatten()  \n",
    "# ravel 메서드는 필요하지 않다면 원본 데이터의 복사본을 생성하지 않는다.\n",
    "# flatten 메서드는 ravel과 유사하나 항상 데이터 복사본을 반환한다."
   ]
  },
  {
   "cell_type": "markdown",
   "metadata": {},
   "source": [
    "C 순서와 포트란 순서"
   ]
  },
  {
   "cell_type": "raw",
   "metadata": {},
   "source": [
    "reshape나 ravel 같은 함수는 배열에서 데이터의 순서를 나타내는 인자를 받는다. 'C'아니면 'F'인데 드물게 'A'나 'K'를 쓰기도 한다"
   ]
  },
  {
   "cell_type": "code",
   "execution_count": 25,
   "metadata": {},
   "outputs": [
    {
     "data": {
      "text/plain": [
       "array([[ 0,  1,  2,  3],\n",
       "       [ 4,  5,  6,  7],\n",
       "       [ 8,  9, 10, 11]])"
      ]
     },
     "execution_count": 25,
     "metadata": {},
     "output_type": "execute_result"
    }
   ],
   "source": [
    "arr = np.arange(12).reshape((3,4))\n",
    "arr"
   ]
  },
  {
   "cell_type": "code",
   "execution_count": 26,
   "metadata": {},
   "outputs": [
    {
     "data": {
      "text/plain": [
       "array([ 0,  1,  2,  3,  4,  5,  6,  7,  8,  9, 10, 11])"
      ]
     },
     "execution_count": 26,
     "metadata": {},
     "output_type": "execute_result"
    }
   ],
   "source": [
    "arr.ravel()   # 기본 값은 'C'"
   ]
  },
  {
   "cell_type": "code",
   "execution_count": 27,
   "metadata": {},
   "outputs": [
    {
     "data": {
      "text/plain": [
       "array([ 0,  4,  8,  1,  5,  9,  2,  6, 10,  3,  7, 11])"
      ]
     },
     "execution_count": 27,
     "metadata": {},
     "output_type": "execute_result"
    }
   ],
   "source": [
    "arr.ravel('F')     #포트란 순서 (컬럼 우선 순서)"
   ]
  },
  {
   "cell_type": "markdown",
   "metadata": {},
   "source": [
    "배열 이어붙이고 나누기 (concatenate,split)"
   ]
  },
  {
   "cell_type": "code",
   "execution_count": 30,
   "metadata": {},
   "outputs": [
    {
     "data": {
      "text/plain": [
       "array([[ 1,  2,  3],\n",
       "       [ 4,  5,  6],\n",
       "       [ 7,  8,  9],\n",
       "       [10, 11, 12]])"
      ]
     },
     "execution_count": 30,
     "metadata": {},
     "output_type": "execute_result"
    }
   ],
   "source": [
    "arr1 = np.array([[1,2,3],[4,5,6]])\n",
    "arr2 = np.array([[7,8,9],[10,11,12]])\n",
    "\n",
    "np.concatenate([arr1,arr2],axis=0)"
   ]
  },
  {
   "cell_type": "code",
   "execution_count": 31,
   "metadata": {},
   "outputs": [
    {
     "data": {
      "text/plain": [
       "array([[ 1,  2,  3,  7,  8,  9],\n",
       "       [ 4,  5,  6, 10, 11, 12]])"
      ]
     },
     "execution_count": 31,
     "metadata": {},
     "output_type": "execute_result"
    }
   ],
   "source": [
    "np.concatenate([arr1,arr2],axis=1)"
   ]
  },
  {
   "cell_type": "code",
   "execution_count": 32,
   "metadata": {},
   "outputs": [
    {
     "data": {
      "text/plain": [
       "array([[ 1,  2,  3],\n",
       "       [ 4,  5,  6],\n",
       "       [ 7,  8,  9],\n",
       "       [10, 11, 12]])"
      ]
     },
     "execution_count": 32,
     "metadata": {},
     "output_type": "execute_result"
    }
   ],
   "source": [
    "# vstack과 hstack 함수 이용\n",
    "\n",
    "np.vstack((arr1,arr2))     # axis = 0으로 쌓음, row_stack"
   ]
  },
  {
   "cell_type": "code",
   "execution_count": 33,
   "metadata": {},
   "outputs": [
    {
     "data": {
      "text/plain": [
       "array([[ 1,  2,  3,  7,  8,  9],\n",
       "       [ 4,  5,  6, 10, 11, 12]])"
      ]
     },
     "execution_count": 33,
     "metadata": {},
     "output_type": "execute_result"
    }
   ],
   "source": [
    "np.hstack((arr1,arr2))    # axis = 1로 쌓음"
   ]
  },
  {
   "cell_type": "code",
   "execution_count": 41,
   "metadata": {},
   "outputs": [
    {
     "data": {
      "text/plain": [
       "array([[0, 1, 2, 3, 4, 5, 6, 7]])"
      ]
     },
     "execution_count": 41,
     "metadata": {},
     "output_type": "execute_result"
    }
   ],
   "source": [
    "# column_stack은 hstack과 같지만 1차원 배열을 2차원 컬럼 벡터로 먼저 변환시킨다.\n",
    "np.column_stack(np.arange(8))"
   ]
  },
  {
   "cell_type": "code",
   "execution_count": null,
   "metadata": {},
   "outputs": [],
   "source": [
    "# dstack은 깊이(axis = 2)에 따라 배열을 쌓는다."
   ]
  },
  {
   "cell_type": "code",
   "execution_count": 42,
   "metadata": {},
   "outputs": [
    {
     "data": {
      "text/plain": [
       "array([[-1.93964656, -1.33624215],\n",
       "       [-0.66682996,  0.75782752],\n",
       "       [-0.04018216,  0.4148268 ],\n",
       "       [-0.08957505,  0.97517203],\n",
       "       [ 0.16550085, -0.93247957]])"
      ]
     },
     "execution_count": 42,
     "metadata": {},
     "output_type": "execute_result"
    }
   ],
   "source": [
    "# split메서드로 하나의 배열을 축을 따라 여러 개의 배열로 나눌 수 있다.\n",
    "\n",
    "arr = np.random.randn(5,2)\n",
    "arr"
   ]
  },
  {
   "cell_type": "code",
   "execution_count": 52,
   "metadata": {},
   "outputs": [
    {
     "data": {
      "text/plain": [
       "array([[-1.93964656, -1.33624215]])"
      ]
     },
     "execution_count": 52,
     "metadata": {},
     "output_type": "execute_result"
    }
   ],
   "source": [
    "first,second,third = np.split(arr,[1,3])      # [1,3]은 배열을 나눌 때 기준이 되는 위치(1번 행, 3번 행 기준으로)\n",
    "                                              # 이 역시 hsplit와 vsplit가 있음(axis에 따라)\n",
    "first"
   ]
  },
  {
   "cell_type": "code",
   "execution_count": 53,
   "metadata": {},
   "outputs": [
    {
     "data": {
      "text/plain": [
       "array([[-0.66682996,  0.75782752],\n",
       "       [-0.04018216,  0.4148268 ]])"
      ]
     },
     "execution_count": 53,
     "metadata": {},
     "output_type": "execute_result"
    }
   ],
   "source": [
    "second"
   ]
  },
  {
   "cell_type": "code",
   "execution_count": 54,
   "metadata": {},
   "outputs": [
    {
     "data": {
      "text/plain": [
       "array([[-0.08957505,  0.97517203],\n",
       "       [ 0.16550085, -0.93247957]])"
      ]
     },
     "execution_count": 54,
     "metadata": {},
     "output_type": "execute_result"
    }
   ],
   "source": [
    "third"
   ]
  },
  {
   "cell_type": "markdown",
   "metadata": {},
   "source": [
    "배열 쌓기 도우미: r_과 c_"
   ]
  },
  {
   "cell_type": "code",
   "execution_count": 56,
   "metadata": {},
   "outputs": [
    {
     "data": {
      "text/plain": [
       "array([[ 0.        ,  1.        ],\n",
       "       [ 2.        ,  3.        ],\n",
       "       [ 4.        ,  5.        ],\n",
       "       [-0.17511981, -0.28302445],\n",
       "       [ 2.02741151, -0.53997885],\n",
       "       [ 0.22972651, -0.70888319]])"
      ]
     },
     "execution_count": 56,
     "metadata": {},
     "output_type": "execute_result"
    }
   ],
   "source": [
    "arr = np.arange(6)\n",
    "arr1 = arr.reshape((3,2))\n",
    "arr2 = np.random.randn(3,2)\n",
    "\n",
    "np.r_[arr1,arr2]"
   ]
  },
  {
   "cell_type": "code",
   "execution_count": 57,
   "metadata": {},
   "outputs": [
    {
     "data": {
      "text/plain": [
       "array([[ 0.        ,  1.        ,  0.        ],\n",
       "       [ 2.        ,  3.        ,  1.        ],\n",
       "       [ 4.        ,  5.        ,  2.        ],\n",
       "       [-0.17511981, -0.28302445,  3.        ],\n",
       "       [ 2.02741151, -0.53997885,  4.        ],\n",
       "       [ 0.22972651, -0.70888319,  5.        ]])"
      ]
     },
     "execution_count": 57,
     "metadata": {},
     "output_type": "execute_result"
    }
   ],
   "source": [
    "np.c_[np.r_[arr1,arr2],arr]"
   ]
  },
  {
   "cell_type": "code",
   "execution_count": 60,
   "metadata": {},
   "outputs": [
    {
     "data": {
      "text/plain": [
       "array([[  1, -10],\n",
       "       [  2,  -9],\n",
       "       [  3,  -8],\n",
       "       [  4,  -7],\n",
       "       [  5,  -6]])"
      ]
     },
     "execution_count": 60,
     "metadata": {},
     "output_type": "execute_result"
    }
   ],
   "source": [
    "# 슬라이스를 배열로 변환해준다.\n",
    "\n",
    "np.c_[1:6,-10:-5]"
   ]
  },
  {
   "cell_type": "markdown",
   "metadata": {},
   "source": [
    "원소 반복하기: repeat, tile"
   ]
  },
  {
   "cell_type": "code",
   "execution_count": 61,
   "metadata": {},
   "outputs": [
    {
     "data": {
      "text/plain": [
       "array([0, 0, 0, 1, 1, 1, 2, 2, 2])"
      ]
     },
     "execution_count": 61,
     "metadata": {},
     "output_type": "execute_result"
    }
   ],
   "source": [
    "arr = np.arange(3)\n",
    "arr.repeat(3)"
   ]
  },
  {
   "cell_type": "code",
   "execution_count": 62,
   "metadata": {},
   "outputs": [
    {
     "data": {
      "text/plain": [
       "array([0, 0, 1, 1, 1, 2, 2, 2, 2])"
      ]
     },
     "execution_count": 62,
     "metadata": {},
     "output_type": "execute_result"
    }
   ],
   "source": [
    "# 정수를 넘기면 각 배열은 그 수만큼 반복, 정수의 배열을 넘기면 각 원소는 배열에 담긴 정수만큼 다르게 반복\n",
    "\n",
    "arr.repeat([2,3,4])"
   ]
  },
  {
   "cell_type": "code",
   "execution_count": 63,
   "metadata": {},
   "outputs": [
    {
     "data": {
      "text/plain": [
       "array([[-0.05086941,  1.19195532],\n",
       "       [-0.05086941,  1.19195532],\n",
       "       [-0.75536766, -0.86113956],\n",
       "       [-0.75536766, -0.86113956]])"
      ]
     },
     "execution_count": 63,
     "metadata": {},
     "output_type": "execute_result"
    }
   ],
   "source": [
    "arr = np.random.randn(2,2)\n",
    "arr.repeat(2,axis=0)"
   ]
  },
  {
   "cell_type": "code",
   "execution_count": 64,
   "metadata": {},
   "outputs": [
    {
     "data": {
      "text/plain": [
       "array([[-0.05086941, -0.05086941,  1.19195532,  1.19195532],\n",
       "       [-0.75536766, -0.75536766, -0.86113956, -0.86113956]])"
      ]
     },
     "execution_count": 64,
     "metadata": {},
     "output_type": "execute_result"
    }
   ],
   "source": [
    "arr.repeat(2,axis=1)"
   ]
  },
  {
   "cell_type": "code",
   "execution_count": 66,
   "metadata": {},
   "outputs": [
    {
     "data": {
      "text/plain": [
       "array([-0.05086941, -0.05086941,  1.19195532,  1.19195532, -0.75536766,\n",
       "       -0.75536766, -0.86113956, -0.86113956])"
      ]
     },
     "execution_count": 66,
     "metadata": {},
     "output_type": "execute_result"
    }
   ],
   "source": [
    "# 다차원 배열에서는  axis 인자를 넘기지 않는다면 평탄화 되어버리므로 주의\n",
    "\n",
    "arr.repeat(2)"
   ]
  },
  {
   "cell_type": "code",
   "execution_count": 67,
   "metadata": {},
   "outputs": [
    {
     "data": {
      "text/plain": [
       "array([[-0.05086941,  1.19195532],\n",
       "       [-0.05086941,  1.19195532],\n",
       "       [-0.75536766, -0.86113956],\n",
       "       [-0.75536766, -0.86113956],\n",
       "       [-0.75536766, -0.86113956]])"
      ]
     },
     "execution_count": 67,
     "metadata": {},
     "output_type": "execute_result"
    }
   ],
   "source": [
    "# 다차원 배열 역시 정수의 배열을 넘겨 반복시킬 수 있음\n",
    "\n",
    "arr.repeat([2,3],axis=0)"
   ]
  },
  {
   "cell_type": "code",
   "execution_count": 68,
   "metadata": {},
   "outputs": [
    {
     "data": {
      "text/plain": [
       "array([[-0.05086941,  1.19195532, -0.05086941,  1.19195532],\n",
       "       [-0.75536766, -0.86113956, -0.75536766, -0.86113956]])"
      ]
     },
     "execution_count": 68,
     "metadata": {},
     "output_type": "execute_result"
    }
   ],
   "source": [
    "# tile 메서드는 축을 따라 배열을 복사해서 쌓는 함수 (반복되는 배열의 원소들의 모양을 보면 차이가 있음)\n",
    "\n",
    "np.tile(arr,2)    # repeat은 원소를 바로 옆에서 반복, tile은 배열을 반복\n",
    "\n",
    " # tile 메서드의 두 번째 인자는 타일의 개수, 스칼라값 \n",
    " # 컬럼 대 컬럼이 아닌 로우 대 로우로 이어붙임"
   ]
  },
  {
   "cell_type": "code",
   "execution_count": 70,
   "metadata": {},
   "outputs": [
    {
     "data": {
      "text/plain": [
       "array([[-0.05086941,  1.19195532],\n",
       "       [-0.75536766, -0.86113956],\n",
       "       [-0.05086941,  1.19195532],\n",
       "       [-0.75536766, -0.86113956]])"
      ]
     },
     "execution_count": 70,
     "metadata": {},
     "output_type": "execute_result"
    }
   ],
   "source": [
    "np.tile(arr,(2,1))"
   ]
  },
  {
   "cell_type": "code",
   "execution_count": 71,
   "metadata": {},
   "outputs": [
    {
     "data": {
      "text/plain": [
       "array([[-0.05086941,  1.19195532, -0.05086941,  1.19195532],\n",
       "       [-0.75536766, -0.86113956, -0.75536766, -0.86113956],\n",
       "       [-0.05086941,  1.19195532, -0.05086941,  1.19195532],\n",
       "       [-0.75536766, -0.86113956, -0.75536766, -0.86113956],\n",
       "       [-0.05086941,  1.19195532, -0.05086941,  1.19195532],\n",
       "       [-0.75536766, -0.86113956, -0.75536766, -0.86113956]])"
      ]
     },
     "execution_count": 71,
     "metadata": {},
     "output_type": "execute_result"
    }
   ],
   "source": [
    "np.tile(arr,(3,2))  # 두 번째 인자는 타일을 이어붙일 모양을 나타내는 튜플이 될 수도 있다."
   ]
  },
  {
   "cell_type": "markdown",
   "metadata": {},
   "source": [
    "팬시 색인: take와 put"
   ]
  },
  {
   "cell_type": "raw",
   "metadata": {},
   "source": [
    "정수 배열을 사용한 팬시 색인 기능으로 배열의 일부 값을 지정하거나 가져올 수 있다.(4장 참고)"
   ]
  },
  {
   "cell_type": "code",
   "execution_count": 72,
   "metadata": {},
   "outputs": [
    {
     "data": {
      "text/plain": [
       "array([700, 100, 200, 600])"
      ]
     },
     "execution_count": 72,
     "metadata": {},
     "output_type": "execute_result"
    }
   ],
   "source": [
    "arr = np.arange(10) * 100\n",
    "inds = [7,1,2,6]\n",
    "\n",
    "arr[inds]"
   ]
  },
  {
   "cell_type": "code",
   "execution_count": 73,
   "metadata": {},
   "outputs": [
    {
     "data": {
      "text/plain": [
       "array([700, 100, 200, 600])"
      ]
     },
     "execution_count": 73,
     "metadata": {},
     "output_type": "execute_result"
    }
   ],
   "source": [
    "# take와 put은 ndarray의 단일 축에 대한 값을 선택할 때 사용하는 메서드\n",
    "\n",
    "arr.take(inds)     # take는 취함, put은 넣음"
   ]
  },
  {
   "cell_type": "code",
   "execution_count": 75,
   "metadata": {},
   "outputs": [
    {
     "data": {
      "text/plain": [
       "array([  0,  42,  42, 300, 400, 500,  42,  42, 800, 900])"
      ]
     },
     "execution_count": 75,
     "metadata": {},
     "output_type": "execute_result"
    }
   ],
   "source": [
    "arr.put(inds,42)   # inds에 해당하는 index마다 42로 치환\n",
    "arr"
   ]
  },
  {
   "cell_type": "code",
   "execution_count": 77,
   "metadata": {},
   "outputs": [
    {
     "data": {
      "text/plain": [
       "array([  0,  41,  42, 300, 400, 500,  43,  40, 800, 900])"
      ]
     },
     "execution_count": 77,
     "metadata": {},
     "output_type": "execute_result"
    }
   ],
   "source": [
    "arr.put(inds,[40,41,42,43])        #inds 값들의 순서가 아니라 그냥 색인의 오름차순으로\n",
    "arr"
   ]
  },
  {
   "cell_type": "code",
   "execution_count": 78,
   "metadata": {},
   "outputs": [
    {
     "data": {
      "text/plain": [
       "array([[-0.56661296,  0.57206887, -0.67647857,  0.40776956],\n",
       "       [-0.42037512,  1.83791721,  1.6318403 ,  0.45507297]])"
      ]
     },
     "execution_count": 78,
     "metadata": {},
     "output_type": "execute_result"
    }
   ],
   "source": [
    "# 다른 축에 take메서드를 사용하고자 한다면 axis 인자를 넘김\n",
    "\n",
    "inds = [2,0,2,1]\n",
    "arr = np.random.randn(2,4)\n",
    "arr"
   ]
  },
  {
   "cell_type": "code",
   "execution_count": 79,
   "metadata": {},
   "outputs": [
    {
     "data": {
      "text/plain": [
       "array([[-0.67647857, -0.56661296, -0.67647857,  0.57206887],\n",
       "       [ 1.6318403 , -0.42037512,  1.6318403 ,  1.83791721]])"
      ]
     },
     "execution_count": 79,
     "metadata": {},
     "output_type": "execute_result"
    }
   ],
   "source": [
    "arr.take(inds,axis=1)       # 순서대로 컬럼 2번, 0번, 2번, 1번"
   ]
  },
  {
   "cell_type": "raw",
   "metadata": {},
   "source": [
    "put 메서드는 axis 인자를 받지 않고 평탄화된 배열(1차원, C순서)에 대한 색인을 받는다"
   ]
  },
  {
   "cell_type": "markdown",
   "metadata": {},
   "source": [
    "# 브로드캐스팅"
   ]
  },
  {
   "cell_type": "raw",
   "metadata": {},
   "source": [
    "다른 모양의 배열 간 산술 연산을 어떻게 수행해야 하는지 설명"
   ]
  },
  {
   "cell_type": "code",
   "execution_count": 80,
   "metadata": {},
   "outputs": [
    {
     "data": {
      "text/plain": [
       "array([ 0,  4,  8, 12, 16])"
      ]
     },
     "execution_count": 80,
     "metadata": {},
     "output_type": "execute_result"
    }
   ],
   "source": [
    "arr = np.arange(5)\n",
    "\n",
    "arr * 4      # 스칼라값 4는 곱셈 연산 과정에서 배열의 모든 원소로 브로드캐스트 되었음"
   ]
  },
  {
   "cell_type": "raw",
   "metadata": {},
   "source": [
    "브로드캐스팅 규칙\n",
    "\n",
    "만일 이어지는 각 차원(시작부터 끝까지)에 대해 축의 길이가 일치하거나 둥 중 하나의 길이가 1이라면 브로드캐스팅 호환이다.\n",
    "브로드캐스팅은 누락된 혹은 길이가 1인 차원에 대해 수행된다."
   ]
  },
  {
   "cell_type": "code",
   "execution_count": 81,
   "metadata": {},
   "outputs": [
    {
     "data": {
      "text/plain": [
       "array([[-1.42822193,  0.14952826, -0.96307312],\n",
       "       [ 1.24336176, -0.52418991,  1.14295822],\n",
       "       [ 0.29390606,  1.55345697,  0.07712475],\n",
       "       [-0.10904589, -1.17879532, -0.25700985]])"
      ]
     },
     "execution_count": 81,
     "metadata": {},
     "output_type": "execute_result"
    }
   ],
   "source": [
    "arr = np.random.randn(4,3)\n",
    "arr.mean(0)     # 0번 축을 따라 평균 반환\n",
    "\n",
    "demanded = arr-arr.mean(0)      # arr.mean(0)은 1x3 배열인데 4개의 로우에 모두 빼기 연산을 한다.\n",
    "demanded"
   ]
  },
  {
   "cell_type": "code",
   "execution_count": 82,
   "metadata": {},
   "outputs": [
    {
     "data": {
      "text/plain": [
       "array([0.00000000e+00, 5.55111512e-17, 8.32667268e-17])"
      ]
     },
     "execution_count": 82,
     "metadata": {},
     "output_type": "execute_result"
    }
   ],
   "source": [
    "demanded.mean(0)"
   ]
  },
  {
   "cell_type": "code",
   "execution_count": 87,
   "metadata": {},
   "outputs": [
    {
     "data": {
      "text/plain": [
       "array([[-1.07820816,  0.38763045,  0.69057772],\n",
       "       [ 0.22540991, -1.65405334,  1.42864343],\n",
       "       [-0.7448317 ,  0.40280764,  0.34202406],\n",
       "       [ 0.00866263, -1.17299837,  1.16433574]])"
      ]
     },
     "execution_count": 87,
     "metadata": {},
     "output_type": "execute_result"
    }
   ],
   "source": [
    "demanded2 = arr - arr.mean(1).reshape((4,1))  \n",
    "# 위 셀에서는 (3,)로 브로드캐스팅이 되었지만 arr.mean(1).shape=(4,)로는 브로드캐스팅이 되지 않음\n",
    "# --> reshape로 연산하는 모양((4,1))으로 바꿔줘야 브로드캐스팅됨\n",
    "\n",
    "demanded2"
   ]
  },
  {
   "cell_type": "code",
   "execution_count": 88,
   "metadata": {},
   "outputs": [
    {
     "data": {
      "text/plain": [
       "array([ 0.00000000e+00,  0.00000000e+00,  7.40148683e-17, -7.40148683e-17])"
      ]
     },
     "execution_count": 88,
     "metadata": {},
     "output_type": "execute_result"
    }
   ],
   "source": [
    "demanded2.mean(1)"
   ]
  },
  {
   "cell_type": "markdown",
   "metadata": {},
   "source": [
    "다른 축에 대해 브로드캐스팅하기"
   ]
  },
  {
   "cell_type": "raw",
   "metadata": {},
   "source": [
    "브로드캐스팅 규칙에 따르면 '브로드캐스트 차원'은 작은 배열에서는 반드시 1이어야 한다.\n",
    "(연산시 차원( , , )이 안 맞으면 안맞는만큼 앞에서부터 1로 여김-->윗윗셀이 reshape를 하지 않으면 연산되지 않는 이유)"
   ]
  },
  {
   "cell_type": "code",
   "execution_count": 89,
   "metadata": {},
   "outputs": [
    {
     "ename": "ValueError",
     "evalue": "operands could not be broadcast together with shapes (4,3) (4,) ",
     "output_type": "error",
     "traceback": [
      "\u001b[1;31m---------------------------------------------------------------------------\u001b[0m",
      "\u001b[1;31mValueError\u001b[0m                                Traceback (most recent call last)",
      "\u001b[1;32m<ipython-input-89-8b8ada26fac0>\u001b[0m in \u001b[0;36m<module>\u001b[1;34m\u001b[0m\n\u001b[1;32m----> 1\u001b[1;33m \u001b[0marr\u001b[0m \u001b[1;33m-\u001b[0m \u001b[0marr\u001b[0m\u001b[1;33m.\u001b[0m\u001b[0mmean\u001b[0m\u001b[1;33m(\u001b[0m\u001b[1;36m1\u001b[0m\u001b[1;33m)\u001b[0m\u001b[1;33m\u001b[0m\u001b[1;33m\u001b[0m\u001b[0m\n\u001b[0m",
      "\u001b[1;31mValueError\u001b[0m: operands could not be broadcast together with shapes (4,3) (4,) "
     ]
    }
   ],
   "source": [
    "arr - arr.mean(1)        # 일부러 오류 띄운 것임"
   ]
  },
  {
   "cell_type": "code",
   "execution_count": 90,
   "metadata": {},
   "outputs": [
    {
     "data": {
      "text/plain": [
       "(4, 1, 4)"
      ]
     },
     "execution_count": 90,
     "metadata": {},
     "output_type": "execute_result"
    }
   ],
   "source": [
    "# reshape를 이용하는 것도 방법이지만 축을 하나 새롭게 추가하는 것은 새로운 모양을 나타낼 튜플을 하나 생성해야한다.\n",
    "# np.newaxis을 이용하면 배열 전체 슬라이스와 함께 사용해서 새 축을 추가할 수 있다.\n",
    "\n",
    "arr = np.zeros((4,4))\n",
    "arr_3d = arr[:,np.newaxis,:]\n",
    "arr_3d.shape"
   ]
  },
  {
   "cell_type": "code",
   "execution_count": 91,
   "metadata": {},
   "outputs": [
    {
     "data": {
      "text/plain": [
       "array([0.70598364, 0.74399057, 0.90476488])"
      ]
     },
     "execution_count": 91,
     "metadata": {},
     "output_type": "execute_result"
    }
   ],
   "source": [
    "arr_1d = np.random.normal(size=3)\n",
    "arr_1d"
   ]
  },
  {
   "cell_type": "code",
   "execution_count": 92,
   "metadata": {},
   "outputs": [
    {
     "data": {
      "text/plain": [
       "array([[0.70598364],\n",
       "       [0.74399057],\n",
       "       [0.90476488]])"
      ]
     },
     "execution_count": 92,
     "metadata": {},
     "output_type": "execute_result"
    }
   ],
   "source": [
    "arr_1d[:,np.newaxis]"
   ]
  },
  {
   "cell_type": "code",
   "execution_count": 93,
   "metadata": {},
   "outputs": [
    {
     "data": {
      "text/plain": [
       "array([[0.70598364, 0.74399057, 0.90476488]])"
      ]
     },
     "execution_count": 93,
     "metadata": {},
     "output_type": "execute_result"
    }
   ],
   "source": [
    "arr_1d[np.newaxis,:]"
   ]
  },
  {
   "cell_type": "code",
   "execution_count": 94,
   "metadata": {},
   "outputs": [
    {
     "data": {
      "text/plain": [
       "(3, 4)"
      ]
     },
     "execution_count": 94,
     "metadata": {},
     "output_type": "execute_result"
    }
   ],
   "source": [
    "# 3차원 배열에서 2번 축에 대해 평균값을 빼고 싶다면 다음과 같이 작성\n",
    "\n",
    "arr = np.random.randn(3,4,5)\n",
    "depth_means = arr.mean(2)\n",
    "depth_means.shape"
   ]
  },
  {
   "cell_type": "code",
   "execution_count": 95,
   "metadata": {},
   "outputs": [
    {
     "data": {
      "text/plain": [
       "array([[ 0.00000000e+00,  1.11022302e-17, -8.88178420e-17,\n",
       "         0.00000000e+00],\n",
       "       [ 6.66133815e-17,  8.88178420e-17,  0.00000000e+00,\n",
       "         4.44089210e-17],\n",
       "       [ 4.44089210e-17, -4.44089210e-17, -4.44089210e-17,\n",
       "        -1.77635684e-16]])"
      ]
     },
     "execution_count": 95,
     "metadata": {},
     "output_type": "execute_result"
    }
   ],
   "source": [
    "demanded = arr - depth_means[:,:,np.newaxis]    #마지막 축을 갖고 있되(arr과 같은 차원) (3,4,1)로 맞춤\n",
    "demanded.mean(2)"
   ]
  },
  {
   "cell_type": "code",
   "execution_count": 96,
   "metadata": {},
   "outputs": [
    {
     "data": {
      "text/plain": [
       "array([[ 0.00000000e+00,  1.11022302e-17, -8.88178420e-17,\n",
       "         0.00000000e+00],\n",
       "       [ 6.66133815e-17,  8.88178420e-17,  0.00000000e+00,\n",
       "         4.44089210e-17],\n",
       "       [ 4.44089210e-17, -4.44089210e-17, -4.44089210e-17,\n",
       "        -1.77635684e-16]])"
      ]
     },
     "execution_count": 96,
     "metadata": {},
     "output_type": "execute_result"
    }
   ],
   "source": [
    "demanded_clone = arr - depth_means.reshape(3,4,1)\n",
    "demanded_clone.mean(2)          # reshape를 이용하는 방법  --> 이와 같이 맞추지 않으면 (1,3,4)로 해석돼서 연산에 오류가 생김"
   ]
  },
  {
   "cell_type": "markdown",
   "metadata": {},
   "source": [
    "브로드캐스팅을 이용해서 배열에 값 대입하기"
   ]
  },
  {
   "cell_type": "code",
   "execution_count": 97,
   "metadata": {},
   "outputs": [
    {
     "data": {
      "text/plain": [
       "array([[5., 5., 5.],\n",
       "       [5., 5., 5.],\n",
       "       [5., 5., 5.],\n",
       "       [5., 5., 5.]])"
      ]
     },
     "execution_count": 97,
     "metadata": {},
     "output_type": "execute_result"
    }
   ],
   "source": [
    "arr = np.zeros((4,3))\n",
    "arr[:] = 5\n",
    "arr"
   ]
  },
  {
   "cell_type": "code",
   "execution_count": 99,
   "metadata": {
    "scrolled": true
   },
   "outputs": [
    {
     "data": {
      "text/plain": [
       "array([[ 4.,  4.,  4.],\n",
       "       [ 6.,  6.,  6.],\n",
       "       [ 8.,  8.,  8.],\n",
       "       [10., 10., 10.]])"
      ]
     },
     "execution_count": 99,
     "metadata": {},
     "output_type": "execute_result"
    }
   ],
   "source": [
    "col = np.array([4, 6, 8, 10])\n",
    "arr[:] = col[:,np.newaxis]      # col[:,np.newaxis].shape 는 (4,1)\n",
    "arr"
   ]
  },
  {
   "cell_type": "code",
   "execution_count": 101,
   "metadata": {},
   "outputs": [
    {
     "data": {
      "text/plain": [
       "array([[ 4.5,  4.5,  4.5],\n",
       "       [ 6.5,  6.5,  6.5],\n",
       "       [ 8. ,  8. ,  8. ],\n",
       "       [10. , 10. , 10. ]])"
      ]
     },
     "execution_count": 101,
     "metadata": {},
     "output_type": "execute_result"
    }
   ],
   "source": [
    "arr[:2] = [[4.5],[6.5]]      # (2,1)\n",
    "arr"
   ]
  },
  {
   "cell_type": "markdown",
   "metadata": {},
   "source": [
    "# 고급 ufunc 사용법"
   ]
  },
  {
   "cell_type": "raw",
   "metadata": {},
   "source": [
    "반복문을 사용하지 않고 좀 더 간결한 코드를 작성할 수 있는 부가적 기능들이 있음 \n",
    "\n",
    "(p610의 표 참고)\n",
    "reduce(x) : 연산의 연속된 적용으로 값을 집계\n",
    "accumulate(x) : 모든 부분적 집계값을 유지한 채 값을 집계\n",
    "reduceat(x,bins) : 로컬 reduce 또는 groupby. 연속된 데이터 슬라이스를 집계된 배열로 축소\n",
    "outer(x,y) : x와 y의 모든 원소 조합에 대해 연산을 적용한다. 결과 배열은 x.shape + y.shape의 모양 갖는다."
   ]
  },
  {
   "cell_type": "code",
   "execution_count": 106,
   "metadata": {},
   "outputs": [
    {
     "data": {
      "text/plain": [
       "45"
      ]
     },
     "execution_count": 106,
     "metadata": {},
     "output_type": "execute_result"
    }
   ],
   "source": [
    "arr = np.arange(10)\n",
    "np.add.reduce(arr)       # 다차원 배열에서는  axis를 줄 수 있음"
   ]
  },
  {
   "cell_type": "code",
   "execution_count": 188,
   "metadata": {},
   "outputs": [
    {
     "data": {
      "text/plain": [
       "array([[ True,  True,  True,  True],\n",
       "       [False,  True, False, False],\n",
       "       [ True,  True,  True,  True],\n",
       "       [ True, False,  True,  True],\n",
       "       [ True,  True,  True,  True]])"
      ]
     },
     "execution_count": 188,
     "metadata": {},
     "output_type": "execute_result"
    }
   ],
   "source": [
    "np.random.seed(12346)\n",
    "\n",
    "arr = np.random.randn(5,5)\n",
    "arr[::2].sort(1)    # 일부 로우를 정렬, ::2는 2칸씩 건너뛰며 전체를 포괄하는 것\n",
    "arr[:,:-1] < arr[:,1:]"
   ]
  },
  {
   "cell_type": "code",
   "execution_count": 122,
   "metadata": {},
   "outputs": [
    {
     "data": {
      "text/plain": [
       "array([ True, False,  True, False,  True])"
      ]
     },
     "execution_count": 122,
     "metadata": {},
     "output_type": "execute_result"
    }
   ],
   "source": [
    "np.logical_and.reduce(arr[:,:-1] < arr[:,1:],axis=1)     # 논리 연산에서  all 메서드와 동일"
   ]
  },
  {
   "cell_type": "code",
   "execution_count": 124,
   "metadata": {},
   "outputs": [
    {
     "data": {
      "text/plain": [
       "array([[ 0,  1,  3,  6, 10],\n",
       "       [ 5, 11, 18, 26, 35],\n",
       "       [10, 21, 33, 46, 60]], dtype=int32)"
      ]
     },
     "execution_count": 124,
     "metadata": {},
     "output_type": "execute_result"
    }
   ],
   "source": [
    "# cumsum 메서드가 sum과 관련있듯 accumulate는 reduce와 관련있음\n",
    "\n",
    "arr = np.arange(15).reshape((3,5))\n",
    "np.add.accumulate(arr,axis=1)"
   ]
  },
  {
   "cell_type": "code",
   "execution_count": 125,
   "metadata": {},
   "outputs": [
    {
     "data": {
      "text/plain": [
       "array([0, 1, 1, 2, 2])"
      ]
     },
     "execution_count": 125,
     "metadata": {},
     "output_type": "execute_result"
    }
   ],
   "source": [
    "# outer는 두 배열간 외적(벡터곱)\n",
    "\n",
    "arr = np.arange(3).repeat([1,2,2])\n",
    "arr"
   ]
  },
  {
   "cell_type": "code",
   "execution_count": 127,
   "metadata": {},
   "outputs": [
    {
     "data": {
      "text/plain": [
       "array([[0, 0, 0, 0, 0],\n",
       "       [0, 1, 2, 3, 4],\n",
       "       [0, 1, 2, 3, 4],\n",
       "       [0, 2, 4, 6, 8],\n",
       "       [0, 2, 4, 6, 8]])"
      ]
     },
     "execution_count": 127,
     "metadata": {},
     "output_type": "execute_result"
    }
   ],
   "source": [
    "np.multiply.outer(arr, np.arange(5))"
   ]
  },
  {
   "cell_type": "code",
   "execution_count": 130,
   "metadata": {},
   "outputs": [
    {
     "data": {
      "text/plain": [
       "(3, 4, 5)"
      ]
     },
     "execution_count": 130,
     "metadata": {},
     "output_type": "execute_result"
    }
   ],
   "source": [
    "x,y = np.random.randn(3,4), np.random.randn(5)\n",
    "result = np.subtract.outer(x,y)   # outer 메서드 결과의 차원은 입력한 차원의 합이 된다.\n",
    "result.shape"
   ]
  },
  {
   "cell_type": "code",
   "execution_count": 131,
   "metadata": {},
   "outputs": [
    {
     "data": {
      "text/plain": [
       "array([10, 18, 17], dtype=int32)"
      ]
     },
     "execution_count": 131,
     "metadata": {},
     "output_type": "execute_result"
    }
   ],
   "source": [
    "# reduceat 메서드는 로컬 reduce를 수행. 본질적으로 로컬 reduce는 배열의 groupby 연산으로 배열의 슬라이스를 모두 집계하는 것\n",
    "\n",
    "arr = np.arange(10)\n",
    "np.add.reduceat(arr,[0,5,8])     # 해당 색인까지의 부분합들의 배열"
   ]
  },
  {
   "cell_type": "code",
   "execution_count": 137,
   "metadata": {},
   "outputs": [
    {
     "data": {
      "text/plain": [
       "array([[ 0,  0,  0,  0,  0],\n",
       "       [ 0,  1,  2,  3,  4],\n",
       "       [ 0,  2,  4,  6,  8],\n",
       "       [ 0,  3,  6,  9, 12]])"
      ]
     },
     "execution_count": 137,
     "metadata": {},
     "output_type": "execute_result"
    }
   ],
   "source": [
    "arr = np.multiply.outer(np.arange(4), np.arange(5))\n",
    "arr      # 외적"
   ]
  },
  {
   "cell_type": "code",
   "execution_count": 138,
   "metadata": {},
   "outputs": [
    {
     "data": {
      "text/plain": [
       "array([[ 0,  0,  0],\n",
       "       [ 1,  5,  4],\n",
       "       [ 2, 10,  8],\n",
       "       [ 3, 15, 12]], dtype=int32)"
      ]
     },
     "execution_count": 138,
     "metadata": {},
     "output_type": "execute_result"
    }
   ],
   "source": [
    "np.add.reduceat(arr,[0,2,4],axis=1)  # 컬럼 방향으로 0번,2번,4번 색인들만으로 집계"
   ]
  },
  {
   "cell_type": "markdown",
   "metadata": {},
   "source": [
    "사용자 정의 ufunc 작성하기"
   ]
  },
  {
   "cell_type": "code",
   "execution_count": 35,
   "metadata": {},
   "outputs": [
    {
     "data": {
      "text/plain": [
       "array([0, 2, 4, 6, 8, 10, 12, 14], dtype=object)"
      ]
     },
     "execution_count": 35,
     "metadata": {},
     "output_type": "execute_result"
    }
   ],
   "source": [
    "# numpy.frompyfunc는 입력과 출력에 대한 표준과 함께 파이썬 함수를 인자로 취한다.\n",
    "# 예를 들어 원소별 합을 구하는 함수는 다음과 같이\n",
    "\n",
    "def add_elements(x,y,):\n",
    "    return x+y\n",
    "\n",
    "add_them = np.frompyfunc(add_elements,2,1)  # 두 개 입력, 한 개 출력\n",
    "\n",
    "add_them(np.arange(8),np.arange(8))"
   ]
  },
  {
   "cell_type": "code",
   "execution_count": 30,
   "metadata": {},
   "outputs": [
    {
     "data": {
      "text/plain": [
       "array([ 0.,  2.,  4.,  6.,  8., 10., 12., 14.])"
      ]
     },
     "execution_count": 30,
     "metadata": {},
     "output_type": "execute_result"
    }
   ],
   "source": [
    "# frompyfunc를 이용해서 생성한 함수는 항상 파이썬 객체가 담긴 배열을 반환하는데 그다지 유용하지 못함.\n",
    "# numpy.vectorize를 사용하면 반환 자료형을 지정할 수 있음\n",
    "\n",
    "add_them = np.vectorize(add_elements ,otypes=[np.float64])\n",
    "\n",
    "add_them(np.arange(8),np.arange(8))"
   ]
  },
  {
   "cell_type": "markdown",
   "metadata": {},
   "source": [
    "# 구조화된 배열과 레코드 배열"
   ]
  },
  {
   "cell_type": "raw",
   "metadata": {},
   "source": [
    "ndarray는 단일 데이터 저장소, 각 원소가 dtype에 의해 결정된 같은 크기의 메모리를 차지하고 있다는 뜻.\n",
    "구조화된 배열은 배열의 각 원소가 C의 구조체 혹은 다양한 이름의 필드를 갖는 SQL 테이블의 한 로우로 표현되는 것으로 \n",
    "생각할 수 있는 ndarray다."
   ]
  },
  {
   "cell_type": "code",
   "execution_count": 143,
   "metadata": {},
   "outputs": [
    {
     "data": {
      "text/plain": [
       "array([(1.5       ,  6), (3.14159265, -2)],\n",
       "      dtype=[('x', '<f8'), ('y', '<i4')])"
      ]
     },
     "execution_count": 143,
     "metadata": {},
     "output_type": "execute_result"
    }
   ],
   "source": [
    "dtype = [('x',np.float64),('y',np.int32)]\n",
    "sarr = np.array([(1.5,6),(np.pi,-2)],dtype=dtype)\n",
    "\n",
    "sarr"
   ]
  },
  {
   "cell_type": "code",
   "execution_count": 144,
   "metadata": {},
   "outputs": [
    {
     "data": {
      "text/plain": [
       "(1.5, 6)"
      ]
     },
     "execution_count": 144,
     "metadata": {},
     "output_type": "execute_result"
    }
   ],
   "source": [
    "# 구조화된 dtype을 지정하는 방법은 여러 가지(NumPy 문서참고). 한 가지 방법은 튜플(field_name, field_data_type)을 이용하는 것\n",
    "\n",
    "sarr[0]"
   ]
  },
  {
   "cell_type": "code",
   "execution_count": 149,
   "metadata": {},
   "outputs": [
    {
     "data": {
      "text/plain": [
       "6"
      ]
     },
     "execution_count": 149,
     "metadata": {},
     "output_type": "execute_result"
    }
   ],
   "source": [
    "sarr[0]['y']"
   ]
  },
  {
   "cell_type": "code",
   "execution_count": 151,
   "metadata": {},
   "outputs": [
    {
     "data": {
      "text/plain": [
       "array([1.5       , 3.14159265])"
      ]
     },
     "execution_count": 151,
     "metadata": {},
     "output_type": "execute_result"
    }
   ],
   "source": [
    "sarr['x']"
   ]
  },
  {
   "cell_type": "markdown",
   "metadata": {},
   "source": [
    "중첩된 dtype과 다차원 필드"
   ]
  },
  {
   "cell_type": "code",
   "execution_count": 153,
   "metadata": {},
   "outputs": [
    {
     "data": {
      "text/plain": [
       "array([([0, 0, 0], 0), ([0, 0, 0], 0), ([0, 0, 0], 0), ([0, 0, 0], 0)],\n",
       "      dtype=[('x', '<i8', (3,)), ('y', '<i4')])"
      ]
     },
     "execution_count": 153,
     "metadata": {},
     "output_type": "execute_result"
    }
   ],
   "source": [
    "dtype = [('x',np.int64,3),('y',np.int32)]\n",
    "arr = np.zeros(4,dtype=dtype)\n",
    "arr"
   ]
  },
  {
   "cell_type": "code",
   "execution_count": 156,
   "metadata": {},
   "outputs": [
    {
     "data": {
      "text/plain": [
       "array([([1, 1, 1], 1), ([2, 2, 2], 2), ([3, 3, 3], 3), ([4, 4, 4], 4)],\n",
       "      dtype=[('x', '<i8', (3,)), ('y', '<i4')])"
      ]
     },
     "execution_count": 156,
     "metadata": {},
     "output_type": "execute_result"
    }
   ],
   "source": [
    "arr2 = np.array([1,2,3,4],dtype=dtype)\n",
    "arr2"
   ]
  },
  {
   "cell_type": "code",
   "execution_count": 158,
   "metadata": {},
   "outputs": [
    {
     "data": {
      "text/plain": [
       "array([[0, 0, 0],\n",
       "       [0, 0, 0],\n",
       "       [0, 0, 0],\n",
       "       [0, 0, 0]], dtype=int64)"
      ]
     },
     "execution_count": 158,
     "metadata": {},
     "output_type": "execute_result"
    }
   ],
   "source": [
    "arr['x']"
   ]
  },
  {
   "cell_type": "code",
   "execution_count": 159,
   "metadata": {},
   "outputs": [
    {
     "data": {
      "text/plain": [
       "array([0, 0, 0, 0])"
      ]
     },
     "execution_count": 159,
     "metadata": {},
     "output_type": "execute_result"
    }
   ],
   "source": [
    "arr['y']"
   ]
  },
  {
   "cell_type": "code",
   "execution_count": 160,
   "metadata": {},
   "outputs": [
    {
     "data": {
      "text/plain": [
       "array([(1., 2.), (3., 4.)], dtype=[('a', '<f8'), ('b', '<f4')])"
      ]
     },
     "execution_count": 160,
     "metadata": {},
     "output_type": "execute_result"
    }
   ],
   "source": [
    "# 좀 더 복잡한 중첩 구조를 하나의 배열 안엫서 단일 메모리로 표현할 수 있다. \n",
    "# dtype을 무한히 복잡하게 만들 수 있는데 중첩된 dtype도 가능\n",
    "\n",
    "dtype = [('x',[('a','f8'),('b','f4')]),('y', np.int32)]\n",
    "data = np.array([((1,2),5),((3,4),6)],dtype=dtype)\n",
    "data['x']"
   ]
  },
  {
   "cell_type": "code",
   "execution_count": 161,
   "metadata": {},
   "outputs": [
    {
     "data": {
      "text/plain": [
       "array([5, 6])"
      ]
     },
     "execution_count": 161,
     "metadata": {},
     "output_type": "execute_result"
    }
   ],
   "source": [
    "data['y']"
   ]
  },
  {
   "cell_type": "code",
   "execution_count": 162,
   "metadata": {},
   "outputs": [
    {
     "data": {
      "text/plain": [
       "array([1., 3.])"
      ]
     },
     "execution_count": 162,
     "metadata": {},
     "output_type": "execute_result"
    }
   ],
   "source": [
    "data['x']['a']"
   ]
  },
  {
   "cell_type": "code",
   "execution_count": 166,
   "metadata": {},
   "outputs": [
    {
     "data": {
      "text/plain": [
       "(1., 2.)"
      ]
     },
     "execution_count": 166,
     "metadata": {},
     "output_type": "execute_result"
    }
   ],
   "source": [
    "data[0]['x']"
   ]
  },
  {
   "cell_type": "markdown",
   "metadata": {},
   "source": [
    "# 정렬에 관하여"
   ]
  },
  {
   "cell_type": "code",
   "execution_count": 165,
   "metadata": {},
   "outputs": [
    {
     "data": {
      "text/plain": [
       "array([-0.80834049,  0.20953165,  0.56054234,  0.5737325 ,  0.88934866,\n",
       "        1.19235405])"
      ]
     },
     "execution_count": 165,
     "metadata": {},
     "output_type": "execute_result"
    }
   ],
   "source": [
    "arr = np.random.randn(6)\n",
    "arr.sort()\n",
    "arr"
   ]
  },
  {
   "cell_type": "code",
   "execution_count": 167,
   "metadata": {},
   "outputs": [
    {
     "data": {
      "text/plain": [
       "array([[-0.28809532, -1.64057362, -1.60527455, -1.2455788 , -1.02308479],\n",
       "       [ 0.52965007,  0.77449569, -1.71227443,  0.75621521, -1.4076804 ],\n",
       "       [-0.88118398, -0.19028772, -1.12589743,  0.21492496,  1.0566424 ]])"
      ]
     },
     "execution_count": 167,
     "metadata": {},
     "output_type": "execute_result"
    }
   ],
   "source": [
    "arr = np.random.randn(3,5)\n",
    "arr"
   ]
  },
  {
   "cell_type": "code",
   "execution_count": 169,
   "metadata": {},
   "outputs": [
    {
     "data": {
      "text/plain": [
       "array([[-0.88118398, -1.64057362, -1.60527455, -1.2455788 , -1.02308479],\n",
       "       [-0.28809532,  0.77449569, -1.71227443,  0.75621521, -1.4076804 ],\n",
       "       [ 0.52965007, -0.19028772, -1.12589743,  0.21492496,  1.0566424 ]])"
      ]
     },
     "execution_count": 169,
     "metadata": {},
     "output_type": "execute_result"
    }
   ],
   "source": [
    "arr[:,0].sort()   # 첫 번째 컬럼의 값만 정렬\n",
    "arr"
   ]
  },
  {
   "cell_type": "code",
   "execution_count": 170,
   "metadata": {},
   "outputs": [
    {
     "data": {
      "text/plain": [
       "array([-0.66369841, -0.0238772 ,  0.39261312,  0.55176632,  1.23913165])"
      ]
     },
     "execution_count": 170,
     "metadata": {},
     "output_type": "execute_result"
    }
   ],
   "source": [
    "# np.sort를 사용해 정렬된 배열의 복사본을 생성할 수 있다.\n",
    "\n",
    "arr = np.random.randn(5)\n",
    "np.sort(arr)        # arr.sort()는 arr에 정렬된 값을 저장"
   ]
  },
  {
   "cell_type": "code",
   "execution_count": 171,
   "metadata": {},
   "outputs": [
    {
     "data": {
      "text/plain": [
       "array([ 0.55176632, -0.66369841,  0.39261312,  1.23913165, -0.0238772 ])"
      ]
     },
     "execution_count": 171,
     "metadata": {},
     "output_type": "execute_result"
    }
   ],
   "source": [
    "arr      # arr 배열 자체는 변하지 않았음"
   ]
  },
  {
   "cell_type": "code",
   "execution_count": 173,
   "metadata": {},
   "outputs": [
    {
     "data": {
      "text/plain": [
       "array([[-1.60929328, -1.28619135, -0.30134626, -0.29506434, -0.27480783],\n",
       "       [-0.77343659,  0.66494768,  0.71681953,  0.73718796,  0.91983717],\n",
       "       [-0.72102572, -0.27299172,  0.68646244,  0.93517521,  1.62861984]])"
      ]
     },
     "execution_count": 173,
     "metadata": {},
     "output_type": "execute_result"
    }
   ],
   "source": [
    "# 다차원 배열의 경우  axis인자를 통해 정렬할 수 있음\n",
    "\n",
    "# list[::-1]처럼 순서가 뒤집어진 배열을 얻어오는 트릭\n",
    "\n",
    "arr = np.random.randn(3,5)\n",
    "arr.sort(axis=1)\n",
    "arr"
   ]
  },
  {
   "cell_type": "code",
   "execution_count": 174,
   "metadata": {},
   "outputs": [
    {
     "data": {
      "text/plain": [
       "array([[-0.27480783, -0.29506434, -0.30134626, -1.28619135, -1.60929328],\n",
       "       [ 0.91983717,  0.73718796,  0.71681953,  0.66494768, -0.77343659],\n",
       "       [ 1.62861984,  0.93517521,  0.68646244, -0.27299172, -0.72102572]])"
      ]
     },
     "execution_count": 174,
     "metadata": {},
     "output_type": "execute_result"
    }
   ],
   "source": [
    "arr[:,::-1]   # 가로방향에 대해 뒤집어진 순서(윗 셀 참조)"
   ]
  },
  {
   "cell_type": "markdown",
   "metadata": {},
   "source": [
    "간접 정렬 : argsort 와 lexsort"
   ]
  },
  {
   "cell_type": "raw",
   "metadata": {},
   "source": [
    "하나 이상의 키를 기준으로 데이터를 정렬해야하는 경우(사실 매우 흔함).  예를 들어 성으로 정렬 후 이름으로 다시 정렬"
   ]
  },
  {
   "cell_type": "code",
   "execution_count": 176,
   "metadata": {},
   "outputs": [
    {
     "data": {
      "text/plain": [
       "array([1, 2, 4, 3, 0], dtype=int64)"
      ]
     },
     "execution_count": 176,
     "metadata": {},
     "output_type": "execute_result"
    }
   ],
   "source": [
    "values = np.array([5,0,1,3,2])\n",
    "indexer = values.argsort()\n",
    "# 주어진 단일 키 혹은 여러 개의 키로 데이터를 정렬하려면 어떤 순서로 나열해야하는지 알려주는 정수색인\n",
    "\n",
    "indexer    # 출력만으로 이해가 안된다면 다음 셀을 보시라"
   ]
  },
  {
   "cell_type": "code",
   "execution_count": 177,
   "metadata": {},
   "outputs": [
    {
     "data": {
      "text/plain": [
       "array([0, 1, 2, 3, 5])"
      ]
     },
     "execution_count": 177,
     "metadata": {},
     "output_type": "execute_result"
    }
   ],
   "source": [
    "values[indexer]      # values 자체는 변하지 않는다."
   ]
  },
  {
   "cell_type": "code",
   "execution_count": 179,
   "metadata": {},
   "outputs": [
    {
     "data": {
      "text/plain": [
       "array([[ 5.        ,  0.        ,  1.        ,  3.        ,  2.        ],\n",
       "       [ 0.52336223,  1.00924846, -0.79543194,  0.02518327,  0.55245887],\n",
       "       [-0.85389963, -0.643449  ,  0.6690576 , -0.56294119,  0.48047137]])"
      ]
     },
     "execution_count": 179,
     "metadata": {},
     "output_type": "execute_result"
    }
   ],
   "source": [
    "arr = np.random.randn(3,5)\n",
    "arr[0] = values\n",
    "arr"
   ]
  },
  {
   "cell_type": "code",
   "execution_count": 180,
   "metadata": {},
   "outputs": [
    {
     "data": {
      "text/plain": [
       "array([[ 0.        ,  1.        ,  2.        ,  3.        ,  5.        ],\n",
       "       [ 1.00924846, -0.79543194,  0.55245887,  0.02518327,  0.52336223],\n",
       "       [-0.643449  ,  0.6690576 ,  0.48047137, -0.56294119, -0.85389963]])"
      ]
     },
     "execution_count": 180,
     "metadata": {},
     "output_type": "execute_result"
    }
   ],
   "source": [
    "arr[:,arr[0].argsort()]   #arr[0].argsort()는 뭔가 배열이 나올 것이고 그 배열에 맞게  arr이 컬럼방향으로 정렬하면 깔끔해짐"
   ]
  },
  {
   "cell_type": "code",
   "execution_count": 181,
   "metadata": {},
   "outputs": [
    {
     "data": {
      "text/plain": [
       "array([1, 2, 3, 0, 4], dtype=int64)"
      ]
     },
     "execution_count": 181,
     "metadata": {},
     "output_type": "execute_result"
    }
   ],
   "source": [
    "# lexsort는 argsort와 유사하지만 다중 키 배열에 대해 간접 사전순 정렬을 수행한다.\n",
    "\n",
    "first_name = np.array(['Bob','Jane','Steve','Bill','Barbara'])\n",
    "last_name = np.array(['Jones','Arnold','Arnold','Jones','Walters'])\n",
    "\n",
    "sorter = np.lexsort((first_name,last_name))  # 나중에 넘겨준 배열이 데이터를 정렬하는데 먼저 사용된다.\n",
    "sorter"
   ]
  },
  {
   "cell_type": "code",
   "execution_count": 184,
   "metadata": {},
   "outputs": [
    {
     "data": {
      "text/plain": [
       "[('Arnold', 'Jane'),\n",
       " ('Arnold', 'Steve'),\n",
       " ('Jones', 'Bill'),\n",
       " ('Jones', 'Bob'),\n",
       " ('Walters', 'Barbara')]"
      ]
     },
     "execution_count": 184,
     "metadata": {},
     "output_type": "execute_result"
    }
   ],
   "source": [
    "full_names = zip(last_name[sorter],first_name[sorter])\n",
    "full_names_sorted=[]\n",
    "for i in full_names:\n",
    "    full_names_sorted.append(i)\n",
    "full_names_sorted"
   ]
  },
  {
   "cell_type": "markdown",
   "metadata": {},
   "source": [
    "대안 정렬 알고리즘"
   ]
  },
  {
   "cell_type": "raw",
   "metadata": {},
   "source": [
    "견고한(stable) 정렬 알고리즘은 동일한 원소의 상대적 위치를 그대로 둔다. \n",
    "이는 상대적인 순서가 의미를 가지는 간접 정렬의 경우 특히 중요한 기능이다."
   ]
  },
  {
   "cell_type": "code",
   "execution_count": 2,
   "metadata": {},
   "outputs": [
    {
     "data": {
      "text/plain": [
       "array([2, 3, 4, 0, 1], dtype=int64)"
      ]
     },
     "execution_count": 2,
     "metadata": {},
     "output_type": "execute_result"
    }
   ],
   "source": [
    "values = np.array(['2:first','2:second','1:first','1:second','1:third'])\n",
    "key = np.array([2,2,1,1,1])\n",
    "indexer = key.argsort(kind='mergesort')\n",
    "\n",
    "indexer"
   ]
  },
  {
   "cell_type": "code",
   "execution_count": 3,
   "metadata": {},
   "outputs": [
    {
     "data": {
      "text/plain": [
       "array(['1:first', '1:second', '1:third', '2:first', '2:second'],\n",
       "      dtype='<U8')"
      ]
     },
     "execution_count": 3,
     "metadata": {},
     "output_type": "execute_result"
    }
   ],
   "source": [
    "values.take(indexer)        # values[indexer] 해도 동일한 결과"
   ]
  },
  {
   "cell_type": "raw",
   "metadata": {},
   "source": [
    "배열 정렬 메서드\n",
    "\n",
    "'quicksort' 속도:1  견고함:n  공간복잡도:0     시간복잡도:0(n^2)\n",
    "'mergesort' 속도:2  견고함:y  공간복잡도:n/2   시간복잡도:0(n log n)\n",
    "'heapsort'  속도:3  견고함:n  공간복잡도:0     시간복잡도:0(n log n)\n",
    "\n",
    "존재한다는 정도만 알아두자"
   ]
  },
  {
   "cell_type": "markdown",
   "metadata": {},
   "source": [
    "배열 일부만 정렬하기"
   ]
  },
  {
   "cell_type": "code",
   "execution_count": 5,
   "metadata": {},
   "outputs": [
    {
     "data": {
      "text/plain": [
       "array([-0.20470766,  0.47894334, -0.51943872, -0.5557303 ,  1.96578057,\n",
       "        1.39340583,  0.09290788,  0.28174615,  0.76902257,  1.24643474,\n",
       "        1.00718936, -1.29622111,  0.27499163,  0.22891288,  1.35291684,\n",
       "        0.88642934, -2.00163731, -0.37184254,  1.66902531, -0.43856974])"
      ]
     },
     "execution_count": 5,
     "metadata": {},
     "output_type": "execute_result"
    }
   ],
   "source": [
    "np.random.seed(12345)\n",
    "arr = np.random.randn(20)\n",
    "arr"
   ]
  },
  {
   "cell_type": "code",
   "execution_count": 7,
   "metadata": {},
   "outputs": [
    {
     "data": {
      "text/plain": [
       "array([-2.00163731, -1.29622111, -0.5557303 , -0.51943872, -0.37184254,\n",
       "       -0.43856974, -0.20470766,  0.28174615,  0.76902257,  0.47894334,\n",
       "        1.00718936,  0.09290788,  0.27499163,  0.22891288,  1.35291684,\n",
       "        0.88642934,  1.39340583,  1.96578057,  1.66902531,  1.24643474])"
      ]
     },
     "execution_count": 7,
     "metadata": {},
     "output_type": "execute_result"
    }
   ],
   "source": [
    "np.partition(arr,3)        # 반환된 결과 배열의 첫 세 원소는 해당 배열에서 가장 작은 값이 차지한다."
   ]
  },
  {
   "cell_type": "code",
   "execution_count": 8,
   "metadata": {},
   "outputs": [
    {
     "data": {
      "text/plain": [
       "array([16, 11,  3,  2, 17, 19,  0,  7,  8,  1, 10,  6, 12, 13, 14, 15,  5,\n",
       "        4, 18,  9], dtype=int64)"
      ]
     },
     "execution_count": 8,
     "metadata": {},
     "output_type": "execute_result"
    }
   ],
   "source": [
    "# numpy.argpartition은 numpy.argsort와 유사하게 해당 원소의 위치를 반환한다.\n",
    "\n",
    "indices = np.argpartition(arr,3)       # 첫 세 원소가 해당 배열에서 가장 작은 값이 차지할 수 있도록 인덱스 빈환\n",
    "indices"
   ]
  },
  {
   "cell_type": "code",
   "execution_count": 9,
   "metadata": {},
   "outputs": [
    {
     "data": {
      "text/plain": [
       "array([-2.00163731, -1.29622111, -0.5557303 , -0.51943872, -0.37184254,\n",
       "       -0.43856974, -0.20470766,  0.28174615,  0.76902257,  0.47894334,\n",
       "        1.00718936,  0.09290788,  0.27499163,  0.22891288,  1.35291684,\n",
       "        0.88642934,  1.39340583,  1.96578057,  1.66902531,  1.24643474])"
      ]
     },
     "execution_count": 9,
     "metadata": {},
     "output_type": "execute_result"
    }
   ],
   "source": [
    "arr.take(indices)"
   ]
  },
  {
   "cell_type": "markdown",
   "metadata": {},
   "source": [
    "numpy.searchsorted: 정렬된 배열에서 원소 찾기"
   ]
  },
  {
   "cell_type": "code",
   "execution_count": 10,
   "metadata": {},
   "outputs": [
    {
     "data": {
      "text/plain": [
       "3"
      ]
     },
     "execution_count": 10,
     "metadata": {},
     "output_type": "execute_result"
    }
   ],
   "source": [
    "arr = np.array([0,1,7,12,15])\n",
    "arr.searchsorted(9)         # 정렬된 배열에서 탐색을 수행해 새 값을 삽입할 때 정렬된 상태를 계속 유지하기 위한 위치를 반환"
   ]
  },
  {
   "cell_type": "code",
   "execution_count": 11,
   "metadata": {},
   "outputs": [
    {
     "data": {
      "text/plain": [
       "array([0, 3, 3, 5], dtype=int64)"
      ]
     },
     "execution_count": 11,
     "metadata": {},
     "output_type": "execute_result"
    }
   ],
   "source": [
    "arr.searchsorted([0,8,11,16])      # 배열을 넘길 수도 있다.(0의 경우 0을 반환하듯 동일한 값의 그룹의 왼쪽에서부터 색인을 반환)"
   ]
  },
  {
   "cell_type": "code",
   "execution_count": 12,
   "metadata": {},
   "outputs": [
    {
     "data": {
      "text/plain": [
       "array([0, 3], dtype=int64)"
      ]
     },
     "execution_count": 12,
     "metadata": {},
     "output_type": "execute_result"
    }
   ],
   "source": [
    "arr = np.array([0,0,0,1,1,1,1])\n",
    "arr.searchsorted([0,1])        # 중복된 배열에서는 제일 왼쪽 값을 기준으로"
   ]
  },
  {
   "cell_type": "code",
   "execution_count": 13,
   "metadata": {},
   "outputs": [
    {
     "data": {
      "text/plain": [
       "array([3, 7], dtype=int64)"
      ]
     },
     "execution_count": 13,
     "metadata": {},
     "output_type": "execute_result"
    }
   ],
   "source": [
    "arr.searchsorted([0,1], side='right')   # 오른쪽에서부터 찾을 수도 있어"
   ]
  },
  {
   "cell_type": "code",
   "execution_count": 19,
   "metadata": {},
   "outputs": [
    {
     "data": {
      "text/plain": [
       "array([4, 3, 4, 3, 3, 3, 3, 4, 3, 4, 4, 4, 4, 3, 4, 3, 4, 4, 2, 3, 3, 4,\n",
       "       2, 3, 4, 4, 4, 4, 4, 4, 3, 4, 3, 2, 4, 4, 4, 4, 3, 4, 4, 2, 4, 4,\n",
       "       4, 3, 3, 2, 3, 3], dtype=int64)"
      ]
     },
     "execution_count": 19,
     "metadata": {},
     "output_type": "execute_result"
    }
   ],
   "source": [
    "# searchsorted의 활용법\n",
    "\n",
    "data = np.floor(np.random.uniform(0,10000,size=50))\n",
    "bins = np.array([0,100,1000,5000,10000])\n",
    "labels = bins.searchsorted(data)     # 당연한 말이지만 data와 같은 크기의 배열이 반환된다.\n",
    "labels"
   ]
  },
  {
   "cell_type": "code",
   "execution_count": 20,
   "metadata": {},
   "outputs": [
    {
     "data": {
      "text/plain": [
       "2     637.600000\n",
       "3    3278.833333\n",
       "4    7331.518519\n",
       "dtype: float64"
      ]
     },
     "execution_count": 20,
     "metadata": {},
     "output_type": "execute_result"
    }
   ],
   "source": [
    "pd.Series(data).groupby(labels).mean()"
   ]
  },
  {
   "cell_type": "markdown",
   "metadata": {},
   "source": [
    "# Numba를 이용하여 빠른 NumPy 함수 작성하기"
   ]
  },
  {
   "cell_type": "code",
   "execution_count": 8,
   "metadata": {},
   "outputs": [],
   "source": [
    "# 일단 for 문을 사용하여 (x-y).mean()을 계산하는 순수 파이썬 코드를 작성\n",
    "\n",
    "def mean_distance(x,y):\n",
    "    nx = len(x)\n",
    "    result = 0.0\n",
    "    count = 0\n",
    "    for i in range(nx):\n",
    "        result += x[i] - y[i]\n",
    "        count += 1\n",
    "    return result/count"
   ]
  },
  {
   "cell_type": "code",
   "execution_count": 9,
   "metadata": {},
   "outputs": [
    {
     "name": "stdout",
     "output_type": "stream",
     "text": [
      "315 ms ± 8.96 ms per loop (mean ± std. dev. of 7 runs, 1 loop each)\n"
     ]
    }
   ],
   "source": [
    "x = np.random.randn(1000000)\n",
    "y = np.random.randn(1000000)\n",
    "%timeit mean_distance(x,y)"
   ]
  },
  {
   "cell_type": "code",
   "execution_count": 23,
   "metadata": {},
   "outputs": [
    {
     "name": "stdout",
     "output_type": "stream",
     "text": [
      "3.71 ms ± 98.4 µs per loop (mean ± std. dev. of 7 runs, 100 loops each)\n"
     ]
    }
   ],
   "source": [
    "%timeit (x-y).mean()         # 정의된 함수가 더 느린 것을 확인할 수 있다."
   ]
  },
  {
   "cell_type": "code",
   "execution_count": 10,
   "metadata": {},
   "outputs": [],
   "source": [
    "# NumPy로 작성된 코드는 100배 넘게 빠르다. numba.jit 함수를 이용\n",
    "\n",
    "import numba as nb\n",
    "numba_mean_distance = nb.jit(mean_distance)"
   ]
  },
  {
   "cell_type": "code",
   "execution_count": 5,
   "metadata": {},
   "outputs": [],
   "source": [
    "@nb.jit\n",
    "def mean_distance(x,y):\n",
    "    nx = len(x)\n",
    "    result = 0.0\n",
    "    count = 0\n",
    "    for i in range(nx):\n",
    "        result += x[i] - y[i]\n",
    "        count += 1\n",
    "    return result/count\n",
    "    \n",
    "이처럼 장식자를 사용할 수도 있음"
   ]
  },
  {
   "cell_type": "code",
   "execution_count": 11,
   "metadata": {},
   "outputs": [
    {
     "name": "stdout",
     "output_type": "stream",
     "text": [
      "1.34 ms ± 127 µs per loop (mean ± std. dev. of 7 runs, 1 loop each)\n"
     ]
    }
   ],
   "source": [
    "%timeit numba_mean_distance(x,y)       # 윗 셀과 더불어 세 가지 결과를 확인하라."
   ]
  },
  {
   "cell_type": "raw",
   "metadata": {},
   "source": [
    "p624 Numba를 이용한 사용자 정의 numpy.ufunc는 생략"
   ]
  },
  {
   "cell_type": "markdown",
   "metadata": {},
   "source": [
    "# 고급 배열 입출력, 성능 팁 관련 부분은 생략"
   ]
  },
  {
   "cell_type": "code",
   "execution_count": null,
   "metadata": {},
   "outputs": [],
   "source": []
  }
 ],
 "metadata": {
  "kernelspec": {
   "display_name": "Python 3",
   "language": "python",
   "name": "python3"
  },
  "language_info": {
   "codemirror_mode": {
    "name": "ipython",
    "version": 3
   },
   "file_extension": ".py",
   "mimetype": "text/x-python",
   "name": "python",
   "nbconvert_exporter": "python",
   "pygments_lexer": "ipython3",
   "version": "3.7.4"
  }
 },
 "nbformat": 4,
 "nbformat_minor": 2
}
