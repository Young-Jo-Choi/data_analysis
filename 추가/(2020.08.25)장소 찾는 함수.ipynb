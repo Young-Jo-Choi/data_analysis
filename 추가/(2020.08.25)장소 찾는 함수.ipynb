{
 "cells": [
  {
   "cell_type": "code",
   "execution_count": 1,
   "metadata": {},
   "outputs": [],
   "source": [
    "import requests\n",
    "def find_places(searching):\n",
    "    \n",
    "    url = 'https://dapi.kakao.com/v2/local/search/keyword.json?query={}'.format(searching)\n",
    "    headers = {\n",
    "        \"Authorization\": \"입력하시오\"\n",
    "        }\n",
    "    places = requests.get(url, headers = headers).json()['documents']\n",
    "    \n",
    "    place = places[0]\n",
    "    name = place['place_name']\n",
    "    x = place['x']\n",
    "    y = place['y']\n",
    "    data = [name,x,y,searching]\n",
    "    \n",
    "    return data"
   ]
  },
  {
   "cell_type": "code",
   "execution_count": 6,
   "metadata": {},
   "outputs": [
    {
     "data": {
      "text/plain": [
       "['AK플라자 AKTown점', '127.000689957099', '37.2655524309286', 'AK플라자 수원역점']"
      ]
     },
     "execution_count": 6,
     "metadata": {},
     "output_type": "execute_result"
    }
   ],
   "source": [
    "find_places('AK플라자 수원역점')"
   ]
  },
  {
   "cell_type": "code",
   "execution_count": null,
   "metadata": {},
   "outputs": [],
   "source": []
  }
 ],
 "metadata": {
  "kernelspec": {
   "display_name": "Python 3 (ipykernel)",
   "language": "python",
   "name": "python3"
  },
  "language_info": {
   "codemirror_mode": {
    "name": "ipython",
    "version": 3
   },
   "file_extension": ".py",
   "mimetype": "text/x-python",
   "name": "python",
   "nbconvert_exporter": "python",
   "pygments_lexer": "ipython3",
   "version": "3.7.4"
  }
 },
 "nbformat": 4,
 "nbformat_minor": 2
}
