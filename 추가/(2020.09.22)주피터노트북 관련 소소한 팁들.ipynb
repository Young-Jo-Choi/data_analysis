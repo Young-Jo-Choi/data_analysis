{
 "cells": [
  {
   "cell_type": "markdown",
   "metadata": {},
   "source": [
    "기본적 기능들에 대해 정리한 것임\n",
    "\n",
    "중간중간 cell들은 가독성을 높이기 위해 삽입해둔 것이니 큰 의미는 없음"
   ]
  },
  {
   "cell_type": "code",
   "execution_count": null,
   "metadata": {},
   "outputs": [],
   "source": []
  },
  {
   "cell_type": "markdown",
   "metadata": {},
   "source": [
    "markdown은 메모기능"
   ]
  },
  {
   "cell_type": "code",
   "execution_count": null,
   "metadata": {},
   "outputs": [],
   "source": []
  },
  {
   "cell_type": "markdown",
   "metadata": {},
   "source": [
    "# 1. 메모 기능\n",
    "## 작은 제목\n",
    "\n",
    "(큰 제목은 # 하나, 작은 제목은 ## 두 개, ### 세 개나 네 개도 가능하나 #이 여러 개 붙을 수록 글자 크기는 작아짐)\n",
    "\n",
    "설명\n",
    "- 하나하나씩\n",
    "- 두번째"
   ]
  },
  {
   "cell_type": "markdown",
   "metadata": {},
   "source": [
    "그냥 엔터 한번은 이어서 붙인다.\n",
    "이런 식으로"
   ]
  },
  {
   "cell_type": "code",
   "execution_count": null,
   "metadata": {},
   "outputs": [],
   "source": []
  },
  {
   "cell_type": "markdown",
   "metadata": {},
   "source": [
    "엔터 두 번은 칸을 띄운다.\n",
    "\n",
    "이런 식으로\n",
    "\n",
    "<'br'>은 한칸을 띄운다.(따옴표는 당연히 원래 안쓰는 것)<br>\n",
    "이런 식으로"
   ]
  },
  {
   "cell_type": "markdown",
   "metadata": {},
   "source": [
    "설명을 체계적으로 쓰고 싶으면 -(+)하고 한 칸 띄워가며 쓰면 된다. 이런 식으로\n",
    "- 첫 번째\n",
    "+ 두 번째\n",
    "- 세 번째\n",
    "    - 세 번째의 하위 첫 번째"
   ]
  },
  {
   "cell_type": "markdown",
   "metadata": {},
   "source": [
    "수식 넣기<br>\n",
    "$$ Xm\\over (y+3) $$\n",
    "$$\\hat{f}{\\xi} = \\int_{-\\infty}^{+\\infty} f(x)\\, \\mathrm{e}^{-i \\xi x}$$"
   ]
  },
  {
   "cell_type": "code",
   "execution_count": null,
   "metadata": {},
   "outputs": [],
   "source": []
  },
  {
   "cell_type": "markdown",
   "metadata": {},
   "source": [
    "## 2. 링크를 삽입해봅시다\n",
    "\n",
    "다음을 클릭하면 네이버로 접속이 된다.\n",
    "\n",
    "http://www.naver.com"
   ]
  },
  {
   "cell_type": "code",
   "execution_count": null,
   "metadata": {},
   "outputs": [],
   "source": []
  },
  {
   "cell_type": "markdown",
   "metadata": {},
   "source": [
    "좀 더 멋있게 사이트를 띄우려면 [원하는 표시](도메인 주소) 이런 식이면 된다.(하이퍼링크 생성)\n",
    "\n",
    "[네이버 들어가기](http://www.naver.com)"
   ]
  },
  {
   "cell_type": "code",
   "execution_count": null,
   "metadata": {},
   "outputs": [],
   "source": []
  },
  {
   "cell_type": "markdown",
   "metadata": {},
   "source": [
    "## File 항목의 'Download as'를 보면 여러 가지 형식으로 다운로드하는 것도 가능하다"
   ]
  },
  {
   "cell_type": "code",
   "execution_count": null,
   "metadata": {},
   "outputs": [],
   "source": []
  },
  {
   "cell_type": "markdown",
   "metadata": {},
   "source": [
    "## 3. 이미지 삽입하기\n",
    "\n",
    "- 이미지 주소 복사 <'img src'=주소>의 형식으로 \n",
    "- <'center'>강아지--> 이미지 위에 강아지라는 제목을 붙이듯 가운데 정렬할 수도 있음\n",
    "\n",
    "(따옴표는 가독성을 위해 붙인 것일 뿐 빼고 하는게 맞음)\n",
    "\n",
    "<center>강아지\n",
    "<img src =data:image/jpeg;base64,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>"
   ]
  },
  {
   "cell_type": "markdown",
   "metadata": {},
   "source": []
  },
  {
   "cell_type": "markdown",
   "metadata": {},
   "source": [
    "## 4. 표 만들기\n",
    "\n",
    "- \\|    a\\|    b\\|\n",
    "- \\|-----\\|-----\\|\n",
    "- \\|    c\\|    d\\|\n",
    "- \\|    c\\|    d\\|\n",
    "- \\|    c\\|    d\\|\n",
    "- \\|    c\\|    d\\|\n",
    "- 따옴표 빼고 위와 같은 형식으로 만들면 된다.(라인은 굳이 맞추지 않아도 되지만 |로 칸마다 구분)\n",
    "\n",
    "\n",
    "|    a|    b|\n",
    "|-----|-----|\n",
    "|    c|    d|\n",
    "|    c|    d|\n",
    "|    c|    d|\n",
    "|    c|    d|"
   ]
  },
  {
   "cell_type": "code",
   "execution_count": null,
   "metadata": {},
   "outputs": [],
   "source": []
  },
  {
   "cell_type": "markdown",
   "metadata": {},
   "source": [
    "## 5. 코드 실행시간 측정"
   ]
  },
  {
   "cell_type": "code",
   "execution_count": null,
   "metadata": {},
   "outputs": [],
   "source": [
    "def a():\n",
    "    for i in range(10):\n",
    "        print(i)\n",
    "%timeit a()\n",
    "\n",
    "# timeit은 함수가 실행되는데 걸리는 시간을 측정해준다. \n",
    "# 맨 밑줄에 '1000번의 루프를 돌렸더니 평균적으로 483마이크로초에 28마이크로초 가량의 편차가 있다고 출력됨'"
   ]
  },
  {
   "cell_type": "markdown",
   "metadata": {},
   "source": [
    "## 6. 시스템 명령어"
   ]
  },
  {
   "cell_type": "code",
   "execution_count": null,
   "metadata": {},
   "outputs": [],
   "source": [
    "!calc       # 실행하면 계산기가 나옴\n",
    "\n",
    "# 시스템에 접근하는 함수도 실행가능"
   ]
  },
  {
   "cell_type": "code",
   "execution_count": null,
   "metadata": {},
   "outputs": [],
   "source": []
  },
  {
   "cell_type": "markdown",
   "metadata": {},
   "source": [
    "# tab 키"
   ]
  },
  {
   "cell_type": "code",
   "execution_count": null,
   "metadata": {},
   "outputs": [],
   "source": [
    "import numpy as np"
   ]
  },
  {
   "cell_type": "markdown",
   "metadata": {},
   "source": [
    "np. 후 tab키 누르면 np에 딸린 여러 메서드 목록이 보임, 선택해서 사용가능<br>\n",
    "변수를 키인하고 shift+tab하면 내부 특성 조회<br>\n",
    "함수()에서 괄호안에 커서 놓고 shift+tab하면 parameter 와 return 값들 조회"
   ]
  },
  {
   "cell_type": "code",
   "execution_count": null,
   "metadata": {},
   "outputs": [],
   "source": [
    "list?       # 이 셀을 실행시키면 list객체의 내부 정보를 볼 수 있다."
   ]
  },
  {
   "cell_type": "code",
   "execution_count": null,
   "metadata": {},
   "outputs": [],
   "source": [
    "str?        # 마찬가지"
   ]
  },
  {
   "cell_type": "code",
   "execution_count": null,
   "metadata": {},
   "outputs": [],
   "source": [
    "def add(x,y):\n",
    "    return x+y\n",
    "\n",
    "# 정의된 객체에 ?? 하면 help 정보가 보임"
   ]
  },
  {
   "cell_type": "code",
   "execution_count": null,
   "metadata": {},
   "outputs": [],
   "source": [
    "add?? "
   ]
  },
  {
   "cell_type": "markdown",
   "metadata": {},
   "source": [
    "# 표현식"
   ]
  },
  {
   "cell_type": "code",
   "execution_count": null,
   "metadata": {},
   "outputs": [],
   "source": [
    "1+1"
   ]
  },
  {
   "cell_type": "code",
   "execution_count": null,
   "metadata": {},
   "outputs": [],
   "source": [
    "_+2"
   ]
  },
  {
   "cell_type": "code",
   "execution_count": null,
   "metadata": {
    "scrolled": true
   },
   "outputs": [],
   "source": [
    "def square(x):\n",
    "    return x*x\n",
    "def cubic(x):\n",
    "    return x*x*x\n",
    "\n",
    "k=2\n",
    "func_dict = {'square':square,'cubic':cubic}\n",
    "\n",
    "for func in func_dict:\n",
    "    print(func,func_dict[func](k))"
   ]
  },
  {
   "cell_type": "code",
   "execution_count": null,
   "metadata": {},
   "outputs": [],
   "source": []
  },
  {
   "cell_type": "markdown",
   "metadata": {},
   "source": [
    "cltr + enter는 현재 셀을 실행한 후 다음 셀이 활성화되지 않음<br>\n",
    "shift(alt) + enter는 현재 셀을 실행한 후 다음 셀을 활성화"
   ]
  },
  {
   "cell_type": "markdown",
   "metadata": {},
   "source": [
    "단축키\n",
    "- a: 현재 위치 위에 셀 추가\n",
    "- b: 현재 위치 아래에 셀 추가\n",
    "- dd: 현재 셀 삭제\n",
    "- c: 현재 셀 복사\n",
    "- x: 셀 잘라내기 \n",
    "- v: 복사하거나 자른 셀 붙여넣기\n",
    "- Ctrl + Shift + - : 현재 위치한 라인을 기준으로 셀 분할\n",
    "- Shift + M: 선택한 복수의 셀을 하나로 병합(하나만 선택했을 시 아래 셀과)\n",
    "- z: 셀 편집 작업 취소\n",
    "- <br>\n",
    "- 메뉴바-View_Toggle Line Numbers : 코드라인(숫자) 표시\n",
    "- <br>\n",
    "- m누르면 markdown으로 변경\n",
    "- r은 raw NBC convert\n",
    "- h는 여러 단축키\n",
    "- j는 아래로 이동\n",
    "- k는 위로 이동(esc+k는 편집모드에서도 사용가능)\n",
    "- <br>\n",
    "- esc: 명령모드로 전환, enter: 편집모드로 전환"
   ]
  },
  {
   "cell_type": "code",
   "execution_count": null,
   "metadata": {},
   "outputs": [],
   "source": []
  },
  {
   "cell_type": "markdown",
   "metadata": {},
   "source": [
    "%timeit 함수1<br>\n",
    "함수1의 실행시간 체크"
   ]
  },
  {
   "cell_type": "code",
   "execution_count": null,
   "metadata": {},
   "outputs": [],
   "source": []
  },
  {
   "cell_type": "markdown",
   "metadata": {},
   "source": [
    "우측 상단 키보드 모양 버튼 --> 주피터 노트북에서 사용 가능한 명령 및 단축키 확인 가능"
   ]
  },
  {
   "cell_type": "code",
   "execution_count": null,
   "metadata": {},
   "outputs": [],
   "source": []
  },
  {
   "cell_type": "code",
   "execution_count": 2,
   "metadata": {},
   "outputs": [
    {
     "name": "stdout",
     "output_type": "stream",
     "text": [
      "integer part of pi is 3 and decimal part is 0.14\n"
     ]
    }
   ],
   "source": [
    "# format 문자열 포매팅\n",
    "\n",
    "integer = 3\n",
    "decimal = 0.141592\n",
    "print(\"integer part of pi is {} and decimal part is {:.2f}\".format(integer,decimal))"
   ]
  },
  {
   "cell_type": "code",
   "execution_count": null,
   "metadata": {},
   "outputs": [],
   "source": []
  },
  {
   "cell_type": "code",
   "execution_count": 3,
   "metadata": {},
   "outputs": [
    {
     "name": "stdout",
     "output_type": "stream",
     "text": [
      "는 여러 줄에 걸친 문자열\n",
      "ㅇㅁㄴㅇ\n",
      "ㅁㄴㅇㅈ\n",
      "ㅗㅗㅗㅗ\n",
      "ㅏㅏㅏㅏ\n",
      "ㅣㅣㅣㅣ\n"
     ]
    }
   ],
   "source": [
    "a='''는 여러 줄에 걸친 문자열\n",
    "ㅇㅁㄴㅇ\n",
    "ㅁㄴㅇㅈ\n",
    "ㅗㅗㅗㅗ\n",
    "ㅏㅏㅏㅏ\n",
    "ㅣㅣㅣㅣ'''\n",
    "print(a)"
   ]
  },
  {
   "cell_type": "code",
   "execution_count": null,
   "metadata": {},
   "outputs": [],
   "source": []
  },
  {
   "cell_type": "code",
   "execution_count": null,
   "metadata": {},
   "outputs": [],
   "source": [
    "# 주피터 노트북의 그래프에서 한글 글꼴을 제대로 표현하기 위한 설정. 이해나 암기x 필요할 때마다 복사해서 쓸 것.\n",
    "\n",
    "from matplotlib import font_manager,rc\n",
    "import platform\n",
    "\n",
    "if platform.system() == 'Windows':\n",
    "    path = 'c:/windows/Fonts/malgun.ttf'\n",
    "    font_name = font_manager.FontProperties(fname=path).get_name()\n",
    "    rc('font',family = font_name)\n",
    "elif platform.system() == 'Darwin':\n",
    "    rc('font',family = 'AppleGothic')\n",
    "else:\n",
    "    print('Check your OS system')\n",
    "    \n",
    "%matplotlib inline"
   ]
  },
  {
   "cell_type": "code",
   "execution_count": null,
   "metadata": {},
   "outputs": [],
   "source": [
    "# 음수기호가 깨지는 현상 방지\n",
    "import matplotlib\n",
    "matplotlib.rcParams['axes.unicode_minus'] = False"
   ]
  },
  {
   "cell_type": "code",
   "execution_count": null,
   "metadata": {},
   "outputs": [],
   "source": []
  },
  {
   "cell_type": "code",
   "execution_count": null,
   "metadata": {},
   "outputs": [],
   "source": [
    "# 카카오 API 이용하기\n",
    "\n",
    "import requests\n",
    "\n",
    "url = 'https://dapi.kakao.com/v2/local/search/keyword.json?query={}'.format(searching)\n",
    "headers = {\n",
    "    \"Authorization\": \"KakaoAK b87ec76e37e5df364cd2b08b2c35e49a\"\n",
    "}"
   ]
  },
  {
   "cell_type": "code",
   "execution_count": null,
   "metadata": {},
   "outputs": [],
   "source": []
  },
  {
   "cell_type": "code",
   "execution_count": null,
   "metadata": {},
   "outputs": [],
   "source": [
    "# 차트의 한글 깨짐 방지를 위한 코드 추가\n",
    "\n",
    "from matplotlib import font_manager, rc\n",
    "import matplotlib.pyplot as plt\n",
    "import seaborn as sns\n",
    "import platform\n",
    "\n",
    "# 그래프에서 한글 표기를 위한 글꼴 변경(윈도우)\n",
    "font_path = ''\n",
    "font_path = 'c:/Windows/Fonts/malgun.ttf'\n",
    "font_name = font_manager.FontProperties(fname = font_path).get_name()\n",
    "rc('font',family = font_name)\n",
    "\n",
    "%matplotlib inline"
   ]
  },
  {
   "cell_type": "code",
   "execution_count": null,
   "metadata": {},
   "outputs": [],
   "source": []
  },
  {
   "cell_type": "code",
   "execution_count": null,
   "metadata": {},
   "outputs": [],
   "source": [
    "# 시간 측정\n",
    "\n",
    "import time\n",
    "start = time.time()\n",
    " \n",
    " \n",
    "artist = 함수()\n",
    "  \n",
    "print(\"time :\", time.time() - start)"
   ]
  },
  {
   "cell_type": "code",
   "execution_count": null,
   "metadata": {},
   "outputs": [],
   "source": [
    "%%timeit -n 100 를 첫 줄에 써주면 해당 셀을 100번 실행해 평균적으로 걸리는 시간을 잰다."
   ]
  },
  {
   "cell_type": "code",
   "execution_count": null,
   "metadata": {},
   "outputs": [],
   "source": [
    "%timeit 함수(변수1,변수2,....)\n",
    "\n",
    "해당 함수에 변수1,변수2를 넣어 걸리는 시간을 측정\n",
    "\n",
    "출처: https://3months.tistory.com/419 [Deep Play]"
   ]
  },
  {
   "cell_type": "code",
   "execution_count": null,
   "metadata": {},
   "outputs": [],
   "source": [
    "# 경고 무시\n",
    "\n",
    "import warnings\n",
    "warnings.filterwarnings('ignore')"
   ]
  }
 ],
 "metadata": {
  "kernelspec": {
   "display_name": "Python 3",
   "language": "python",
   "name": "python3"
  },
  "language_info": {
   "codemirror_mode": {
    "name": "ipython",
    "version": 3
   },
   "file_extension": ".py",
   "mimetype": "text/x-python",
   "name": "python",
   "nbconvert_exporter": "python",
   "pygments_lexer": "ipython3",
   "version": "3.7.4"
  }
 },
 "nbformat": 4,
 "nbformat_minor": 2
}
