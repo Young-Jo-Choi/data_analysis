{
 "cells": [
  {
   "cell_type": "markdown",
   "metadata": {},
   "source": [
    "# 조건에 맞는 컬럼 이름만 추출\n",
    "(상관계수를 예시로 들겠음)"
   ]
  },
  {
   "cell_type": "code",
   "execution_count": 1,
   "metadata": {},
   "outputs": [],
   "source": [
    "import numpy as np\n",
    "import pandas as pd\n",
    "from sklearn.datasets import load_boston\n",
    "boston = load_boston()"
   ]
  },
  {
   "cell_type": "code",
   "execution_count": 2,
   "metadata": {},
   "outputs": [],
   "source": [
    "df = pd.DataFrame(boston.data,columns=boston.feature_names)\n",
    "corr_df = df.corr()"
   ]
  },
  {
   "cell_type": "markdown",
   "metadata": {},
   "source": [
    "## for문을 이용"
   ]
  },
  {
   "cell_type": "code",
   "execution_count": 6,
   "metadata": {},
   "outputs": [],
   "source": [
    "cond = (np.abs(corr_df)>0.3)\n",
    "def find_col(df):\n",
    "    empty_list_1=[]\n",
    "    for raw in df.index:\n",
    "        empty_list_2=[]\n",
    "        for col in df.columns:\n",
    "            if df.loc[raw,col] == True:\n",
    "                empty_list_2.append(col)\n",
    "        empty_list_1.append(empty_list_2)\n",
    "    return empty_list_1"
   ]
  },
  {
   "cell_type": "code",
   "execution_count": 7,
   "metadata": {},
   "outputs": [
    {
     "data": {
      "text/plain": [
       "CRIM        [CRIM, INDUS, NOX, AGE, DIS, RAD, TAX, B, LSTAT]\n",
       "ZN         [ZN, INDUS, NOX, RM, AGE, DIS, RAD, TAX, PTRAT...\n",
       "INDUS      [CRIM, ZN, INDUS, NOX, RM, AGE, DIS, RAD, TAX,...\n",
       "CHAS                                                  [CHAS]\n",
       "NOX        [CRIM, ZN, INDUS, NOX, RM, AGE, DIS, RAD, TAX,...\n",
       "RM                      [ZN, INDUS, NOX, RM, PTRATIO, LSTAT]\n",
       "AGE        [CRIM, ZN, INDUS, NOX, AGE, DIS, RAD, TAX, LSTAT]\n",
       "DIS        [CRIM, ZN, INDUS, NOX, AGE, DIS, RAD, TAX, LSTAT]\n",
       "RAD        [CRIM, ZN, INDUS, NOX, AGE, DIS, RAD, TAX, PTR...\n",
       "TAX        [CRIM, ZN, INDUS, NOX, AGE, DIS, RAD, TAX, PTR...\n",
       "PTRATIO            [ZN, INDUS, RM, RAD, TAX, PTRATIO, LSTAT]\n",
       "B                     [CRIM, INDUS, NOX, RAD, TAX, B, LSTAT]\n",
       "LSTAT      [CRIM, ZN, INDUS, NOX, RM, AGE, DIS, RAD, TAX,...\n",
       "dtype: object"
      ]
     },
     "execution_count": 7,
     "metadata": {},
     "output_type": "execute_result"
    }
   ],
   "source": [
    "pd.Series(find_col(cond),index = corr_df.index)"
   ]
  },
  {
   "cell_type": "markdown",
   "metadata": {},
   "source": [
    "## map을 이용(for문 사용x)\n",
    "map을 이용한 함수 사용시 인자를 추가하는 방법"
   ]
  },
  {
   "cell_type": "code",
   "execution_count": 3,
   "metadata": {},
   "outputs": [],
   "source": [
    "# 클로저를 이용하면 map 함수를 사용하더라도 인자 입력이 가능하다.\n",
    "def find_col(i):\n",
    "    def find_cols(col):\n",
    "        ser = corr_df[col]\n",
    "        temp = list(ser[np.abs(ser)>i].index)\n",
    "        temp.remove(col)\n",
    "        return ','.join(temp)\n",
    "    return find_cols"
   ]
  },
  {
   "cell_type": "code",
   "execution_count": 4,
   "metadata": {},
   "outputs": [
    {
     "data": {
      "text/plain": [
       "CRIM                    INDUS,NOX,AGE,DIS,RAD,TAX,B,LSTAT\n",
       "ZN             INDUS,NOX,RM,AGE,DIS,RAD,TAX,PTRATIO,LSTAT\n",
       "INDUS      CRIM,ZN,NOX,RM,AGE,DIS,RAD,TAX,PTRATIO,B,LSTAT\n",
       "CHAS                                                     \n",
       "NOX              CRIM,ZN,INDUS,RM,AGE,DIS,RAD,TAX,B,LSTAT\n",
       "RM                             ZN,INDUS,NOX,PTRATIO,LSTAT\n",
       "AGE                   CRIM,ZN,INDUS,NOX,DIS,RAD,TAX,LSTAT\n",
       "DIS                   CRIM,ZN,INDUS,NOX,AGE,RAD,TAX,LSTAT\n",
       "RAD         CRIM,ZN,INDUS,NOX,AGE,DIS,TAX,PTRATIO,B,LSTAT\n",
       "TAX         CRIM,ZN,INDUS,NOX,AGE,DIS,RAD,PTRATIO,B,LSTAT\n",
       "PTRATIO                         ZN,INDUS,RM,RAD,TAX,LSTAT\n",
       "B                            CRIM,INDUS,NOX,RAD,TAX,LSTAT\n",
       "LSTAT      CRIM,ZN,INDUS,NOX,RM,AGE,DIS,RAD,TAX,PTRATIO,B\n",
       "dtype: object"
      ]
     },
     "execution_count": 4,
     "metadata": {},
     "output_type": "execute_result"
    }
   ],
   "source": [
    "corr_df = df.corr()\n",
    "pd.Series(corr_df.columns.map(find_col(0.3)),index=corr_df.index)"
   ]
  },
  {
   "cell_type": "markdown",
   "metadata": {},
   "source": [
    "# 같은 그룹의 평균으로 빈값 채워넣기"
   ]
  },
  {
   "cell_type": "code",
   "execution_count": null,
   "metadata": {},
   "outputs": [],
   "source": [
    "# df_A의 빈값들을 df_B의 B컬럼별로 묶어 그 그룹마다의 A 특성 평균들로 채워넣을 수 있다.\n",
    "# mean 대신 다른 연산도 여러 가지 가능\n",
    "df_A['A'].fillna(df_B.groupby('B')['A'].transform('mean'),inplace=True)"
   ]
  },
  {
   "cell_type": "markdown",
   "metadata": {},
   "source": [
    "# Groupby.get_groupby"
   ]
  },
  {
   "cell_type": "code",
   "execution_count": 5,
   "metadata": {},
   "outputs": [],
   "source": [
    "import matplotlib.pyplot as plt\n",
    "import seaborn as sns"
   ]
  },
  {
   "cell_type": "code",
   "execution_count": 2,
   "metadata": {},
   "outputs": [
    {
     "data": {
      "text/html": [
       "<div>\n",
       "<style scoped>\n",
       "    .dataframe tbody tr th:only-of-type {\n",
       "        vertical-align: middle;\n",
       "    }\n",
       "\n",
       "    .dataframe tbody tr th {\n",
       "        vertical-align: top;\n",
       "    }\n",
       "\n",
       "    .dataframe thead th {\n",
       "        text-align: right;\n",
       "    }\n",
       "</style>\n",
       "<table border=\"1\" class=\"dataframe\">\n",
       "  <thead>\n",
       "    <tr style=\"text-align: right;\">\n",
       "      <th></th>\n",
       "      <th>total_bill</th>\n",
       "      <th>tip</th>\n",
       "      <th>sex</th>\n",
       "      <th>smoker</th>\n",
       "      <th>day</th>\n",
       "      <th>time</th>\n",
       "      <th>size</th>\n",
       "    </tr>\n",
       "  </thead>\n",
       "  <tbody>\n",
       "    <tr>\n",
       "      <td>0</td>\n",
       "      <td>16.99</td>\n",
       "      <td>1.01</td>\n",
       "      <td>Female</td>\n",
       "      <td>No</td>\n",
       "      <td>Sun</td>\n",
       "      <td>Dinner</td>\n",
       "      <td>2</td>\n",
       "    </tr>\n",
       "    <tr>\n",
       "      <td>1</td>\n",
       "      <td>10.34</td>\n",
       "      <td>1.66</td>\n",
       "      <td>Male</td>\n",
       "      <td>No</td>\n",
       "      <td>Sun</td>\n",
       "      <td>Dinner</td>\n",
       "      <td>3</td>\n",
       "    </tr>\n",
       "    <tr>\n",
       "      <td>2</td>\n",
       "      <td>21.01</td>\n",
       "      <td>3.50</td>\n",
       "      <td>Male</td>\n",
       "      <td>No</td>\n",
       "      <td>Sun</td>\n",
       "      <td>Dinner</td>\n",
       "      <td>3</td>\n",
       "    </tr>\n",
       "    <tr>\n",
       "      <td>3</td>\n",
       "      <td>23.68</td>\n",
       "      <td>3.31</td>\n",
       "      <td>Male</td>\n",
       "      <td>No</td>\n",
       "      <td>Sun</td>\n",
       "      <td>Dinner</td>\n",
       "      <td>2</td>\n",
       "    </tr>\n",
       "    <tr>\n",
       "      <td>4</td>\n",
       "      <td>24.59</td>\n",
       "      <td>3.61</td>\n",
       "      <td>Female</td>\n",
       "      <td>No</td>\n",
       "      <td>Sun</td>\n",
       "      <td>Dinner</td>\n",
       "      <td>4</td>\n",
       "    </tr>\n",
       "  </tbody>\n",
       "</table>\n",
       "</div>"
      ],
      "text/plain": [
       "   total_bill   tip     sex smoker  day    time  size\n",
       "0       16.99  1.01  Female     No  Sun  Dinner     2\n",
       "1       10.34  1.66    Male     No  Sun  Dinner     3\n",
       "2       21.01  3.50    Male     No  Sun  Dinner     3\n",
       "3       23.68  3.31    Male     No  Sun  Dinner     2\n",
       "4       24.59  3.61  Female     No  Sun  Dinner     4"
      ]
     },
     "execution_count": 2,
     "metadata": {},
     "output_type": "execute_result"
    }
   ],
   "source": [
    "tips = sns.load_dataset('tips')\n",
    "tips.head()"
   ]
  },
  {
   "cell_type": "code",
   "execution_count": 3,
   "metadata": {},
   "outputs": [
    {
     "data": {
      "text/html": [
       "<div>\n",
       "<style scoped>\n",
       "    .dataframe tbody tr th:only-of-type {\n",
       "        vertical-align: middle;\n",
       "    }\n",
       "\n",
       "    .dataframe tbody tr th {\n",
       "        vertical-align: top;\n",
       "    }\n",
       "\n",
       "    .dataframe thead th {\n",
       "        text-align: right;\n",
       "    }\n",
       "</style>\n",
       "<table border=\"1\" class=\"dataframe\">\n",
       "  <thead>\n",
       "    <tr style=\"text-align: right;\">\n",
       "      <th></th>\n",
       "      <th>total_bill</th>\n",
       "      <th>tip</th>\n",
       "      <th>sex</th>\n",
       "      <th>smoker</th>\n",
       "      <th>day</th>\n",
       "      <th>time</th>\n",
       "      <th>size</th>\n",
       "    </tr>\n",
       "  </thead>\n",
       "  <tbody>\n",
       "    <tr>\n",
       "      <td>220</td>\n",
       "      <td>12.16</td>\n",
       "      <td>2.20</td>\n",
       "      <td>Male</td>\n",
       "      <td>Yes</td>\n",
       "      <td>Fri</td>\n",
       "      <td>Lunch</td>\n",
       "      <td>2</td>\n",
       "    </tr>\n",
       "    <tr>\n",
       "      <td>221</td>\n",
       "      <td>13.42</td>\n",
       "      <td>3.48</td>\n",
       "      <td>Female</td>\n",
       "      <td>Yes</td>\n",
       "      <td>Fri</td>\n",
       "      <td>Lunch</td>\n",
       "      <td>2</td>\n",
       "    </tr>\n",
       "    <tr>\n",
       "      <td>222</td>\n",
       "      <td>8.58</td>\n",
       "      <td>1.92</td>\n",
       "      <td>Male</td>\n",
       "      <td>Yes</td>\n",
       "      <td>Fri</td>\n",
       "      <td>Lunch</td>\n",
       "      <td>1</td>\n",
       "    </tr>\n",
       "    <tr>\n",
       "      <td>223</td>\n",
       "      <td>15.98</td>\n",
       "      <td>3.00</td>\n",
       "      <td>Female</td>\n",
       "      <td>No</td>\n",
       "      <td>Fri</td>\n",
       "      <td>Lunch</td>\n",
       "      <td>3</td>\n",
       "    </tr>\n",
       "    <tr>\n",
       "      <td>224</td>\n",
       "      <td>13.42</td>\n",
       "      <td>1.58</td>\n",
       "      <td>Male</td>\n",
       "      <td>Yes</td>\n",
       "      <td>Fri</td>\n",
       "      <td>Lunch</td>\n",
       "      <td>2</td>\n",
       "    </tr>\n",
       "    <tr>\n",
       "      <td>225</td>\n",
       "      <td>16.27</td>\n",
       "      <td>2.50</td>\n",
       "      <td>Female</td>\n",
       "      <td>Yes</td>\n",
       "      <td>Fri</td>\n",
       "      <td>Lunch</td>\n",
       "      <td>2</td>\n",
       "    </tr>\n",
       "    <tr>\n",
       "      <td>226</td>\n",
       "      <td>10.09</td>\n",
       "      <td>2.00</td>\n",
       "      <td>Female</td>\n",
       "      <td>Yes</td>\n",
       "      <td>Fri</td>\n",
       "      <td>Lunch</td>\n",
       "      <td>2</td>\n",
       "    </tr>\n",
       "  </tbody>\n",
       "</table>\n",
       "</div>"
      ],
      "text/plain": [
       "     total_bill   tip     sex smoker  day   time  size\n",
       "220       12.16  2.20    Male    Yes  Fri  Lunch     2\n",
       "221       13.42  3.48  Female    Yes  Fri  Lunch     2\n",
       "222        8.58  1.92    Male    Yes  Fri  Lunch     1\n",
       "223       15.98  3.00  Female     No  Fri  Lunch     3\n",
       "224       13.42  1.58    Male    Yes  Fri  Lunch     2\n",
       "225       16.27  2.50  Female    Yes  Fri  Lunch     2\n",
       "226       10.09  2.00  Female    Yes  Fri  Lunch     2"
      ]
     },
     "execution_count": 3,
     "metadata": {},
     "output_type": "execute_result"
    }
   ],
   "source": [
    "# 해당 그룹에서 원하는 조건을 설정에 조회할 수 있다.\n",
    "# 해당 조건을 만족하는 샘플이 하나도 없으면 에러 반환\n",
    "tips.groupby(['day','time']).get_group(('Fri','Lunch'))"
   ]
  },
  {
   "cell_type": "code",
   "execution_count": 6,
   "metadata": {},
   "outputs": [
    {
     "data": {
      "image/png": "[encoded data removed]",
      "text/plain": [
       "<Figure size 1080x720 with 8 Axes>"
      ]
     },
     "metadata": {
      "needs_background": "light"
     },
     "output_type": "display_data"
    }
   ],
   "source": [
    "# 시각화에도 유용하게 사용할 수 있다.\n",
    "\n",
    "row_variable = 'day'\n",
    "col_variable = 'smoker'\n",
    "hue_variable = 'sex'\n",
    "row_variables = tips[row_variable].unique()\n",
    "col_variables = tips[col_variable].unique()\n",
    "num_rows = row_variables.shape[0]\n",
    "num_cols = col_variables.shape[0]\n",
    "\n",
    "fig,axes = plt.subplots(num_rows, num_cols, sharex=True, sharey=True, figsize=(15,10))\n",
    "subset = tips.groupby([row_variable,col_variable])\n",
    "for row in range(num_rows):\n",
    "    for col in range(num_cols):\n",
    "        ax = axes[row][col]\n",
    "        row_id = row_variables[row]\n",
    "        col_id = col_variables[col]\n",
    "        \n",
    "        # 해당 조건을 만족하는 데이터만 뽑아 각 axes에 그린다.\n",
    "        ax_data = subset.get_group((row_id, col_id))\n",
    "        \n",
    "        sns.scatterplot(x='total_bill', y='tip', data=ax_data, hue=hue_variable,ax=ax)\n",
    "        \n",
    "        title = row_variable + ' : '  + row_id + ' ' + col_variable + ' : ' + col_id\n",
    "        ax.set_title(title)"
   ]
  },
  {
   "cell_type": "markdown",
   "metadata": {},
   "source": [
    "단, 위의 그림들은 seaborn의 FacetGrid를 이용하면 쉽게 그릴 수 있다."
   ]
  },
  {
   "cell_type": "markdown",
   "metadata": {},
   "source": [
    "# 두 개의 리스트를 사전으로 쉽게 통합"
   ]
  },
  {
   "cell_type": "code",
   "execution_count": 1,
   "metadata": {},
   "outputs": [
    {
     "data": {
      "text/plain": [
       "{'김': '철수',\n",
       " '이': '짱구',\n",
       " '박': '유리',\n",
       " '최': '맹구',\n",
       " '정': '훈이',\n",
       " '윤': '수지',\n",
       " '류': '루피',\n",
       " '송': '나루토'}"
      ]
     },
     "execution_count": 1,
     "metadata": {},
     "output_type": "execute_result"
    }
   ],
   "source": [
    "list_A = ['김','이','박','최','정','윤','류','송']\n",
    "list_B = ['철수','짱구','유리','맹구','훈이','수지','루피','나루토']\n",
    "dict(zip(list_A,list_B))"
   ]
  },
  {
   "cell_type": "code",
   "execution_count": null,
   "metadata": {},
   "outputs": [],
   "source": []
  }
 ],
 "metadata": {
  "kernelspec": {
   "display_name": "Python 3",
   "language": "python",
   "name": "python3"
  },
  "language_info": {
   "codemirror_mode": {
    "name": "ipython",
    "version": 3
   },
   "file_extension": ".py",
   "mimetype": "text/x-python",
   "name": "python",
   "nbconvert_exporter": "python",
   "pygments_lexer": "ipython3",
   "version": "3.7.4"
  }
 },
 "nbformat": 4,
 "nbformat_minor": 2
}
