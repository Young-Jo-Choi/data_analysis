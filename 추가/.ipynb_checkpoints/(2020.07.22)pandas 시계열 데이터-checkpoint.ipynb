{
 "cells": [
  {
   "cell_type": "code",
   "execution_count": 1,
   "metadata": {},
   "outputs": [],
   "source": [
    "import numpy as np\n",
    "import pandas as pd"
   ]
  },
  {
   "cell_type": "markdown",
   "metadata": {},
   "source": [
    "- 시간 내에서 특정 순간의 타임스탬프\n",
    "- 2007년 1월이나 2010년 전체 같은 고정된 기간\n",
    "- 시작과 끝 타임스탬프로 표시되는 시간 간격, 기간은 시간 간격의 특수한 경우로 생각\n",
    "- 실험 혹은 경과 시간. 각 타임스탬프는 특정 시작 시간에 상대적인 시간의 측정값이다."
   ]
  },
  {
   "cell_type": "markdown",
   "metadata": {},
   "source": [
    "# 날짜, 시간 자료형, 도구"
   ]
  },
  {
   "cell_type": "code",
   "execution_count": 1,
   "metadata": {},
   "outputs": [
    {
     "data": {
      "text/plain": [
       "datetime.datetime(2020, 8, 9, 16, 45, 14, 262238)"
      ]
     },
     "execution_count": 1,
     "metadata": {},
     "output_type": "execute_result"
    }
   ],
   "source": [
    "from datetime import datetime\n",
    "\n",
    "# datetime은 날짜와 시간을 모두 저장하며 마이크로초까지 지원\n",
    "\n",
    "now = datetime.now()\n",
    "now"
   ]
  },
  {
   "cell_type": "code",
   "execution_count": 4,
   "metadata": {},
   "outputs": [
    {
     "name": "stdout",
     "output_type": "stream",
     "text": [
      "2020 7 11 19 43 3\n"
     ]
    }
   ],
   "source": [
    "print(now.year, now.month, now.day, now.hour, now.minute, now.second)"
   ]
  },
  {
   "cell_type": "code",
   "execution_count": 16,
   "metadata": {},
   "outputs": [
    {
     "data": {
      "text/plain": [
       "datetime.timedelta(days=1184, seconds=86340)"
      ]
     },
     "execution_count": 16,
     "metadata": {},
     "output_type": "execute_result"
    }
   ],
   "source": [
    "# 두 객체간 시간적 차이\n",
    "\n",
    "delta = datetime(2020,7,4,8,14) - datetime(2017,4,6,8,15)\n",
    "\n",
    "delta"
   ]
  },
  {
   "cell_type": "code",
   "execution_count": 3,
   "metadata": {},
   "outputs": [
    {
     "data": {
      "text/plain": [
       "datetime.timedelta(microseconds=7329)"
      ]
     },
     "execution_count": 3,
     "metadata": {},
     "output_type": "execute_result"
    }
   ],
   "source": [
    "start = datetime.now()\n",
    "A = np.random.randint(1,100,size=(40,30))\n",
    "B = np.random.randint(1,100,size=(30,50))\n",
    "C = np.dot(A,B)\n",
    "now = datetime.now()\n",
    "now-start"
   ]
  },
  {
   "cell_type": "code",
   "execution_count": 17,
   "metadata": {},
   "outputs": [
    {
     "name": "stdout",
     "output_type": "stream",
     "text": [
      "날의 차:  1184 \n",
      "초단위의 차:  86340\n"
     ]
    }
   ],
   "source": [
    "print('날의 차: ',delta.days, '\\n초단위의 차: ',delta.seconds)"
   ]
  },
  {
   "cell_type": "code",
   "execution_count": 20,
   "metadata": {},
   "outputs": [
    {
     "name": "stdout",
     "output_type": "stream",
     "text": [
      "2020-07-23 19:53:07.370100 2020-08-04 19:53:07.370100\n"
     ]
    }
   ],
   "source": [
    "from datetime import timedelta\n",
    "start = datetime.now()\n",
    "\n",
    "# 일 단위로 더함\n",
    "\n",
    "print(start + timedelta(12), start+ 2*timedelta(12))"
   ]
  },
  {
   "cell_type": "markdown",
   "metadata": {},
   "source": [
    "# 문자열의 변환"
   ]
  },
  {
   "cell_type": "code",
   "execution_count": 22,
   "metadata": {},
   "outputs": [
    {
     "data": {
      "text/plain": [
       "'2011-01-03 00:00:00'"
      ]
     },
     "execution_count": 22,
     "metadata": {},
     "output_type": "execute_result"
    }
   ],
   "source": [
    "stamp = datetime(2011,1,3)\n",
    "str(stamp)"
   ]
  },
  {
   "cell_type": "code",
   "execution_count": 34,
   "metadata": {},
   "outputs": [
    {
     "name": "stdout",
     "output_type": "stream",
     "text": [
      "<class 'str'>\n",
      "2011/01-03\n"
     ]
    }
   ],
   "source": [
    "# strftime 함수는 datetime 객체를 받아 원하는 문자열 형식으로 변환\n",
    "\n",
    "print(type(stamp.strftime('%Y/%m-%d')))\n",
    "print(stamp.strftime('%Y/%m-%d'))"
   ]
  },
  {
   "cell_type": "code",
   "execution_count": 2,
   "metadata": {},
   "outputs": [
    {
     "name": "stdout",
     "output_type": "stream",
     "text": [
      "에러입니다.\n"
     ]
    }
   ],
   "source": [
    "# strptime은 알려진 형식의 날짜를 파싱하는 방법\n",
    "# 다음처럼 하면 문자열의 형식과 일치하지 않으므로 에러가 뜬다\n",
    "\n",
    "try:\n",
    "    value = '2011-01-03'\n",
    "    datetime.strptime(value,'%Y/%m/%d')\n",
    "except:\n",
    "    print('에러입니다.')"
   ]
  },
  {
   "cell_type": "code",
   "execution_count": 35,
   "metadata": {},
   "outputs": [
    {
     "data": {
      "text/plain": [
       "datetime.datetime(2011, 3, 1, 0, 0)"
      ]
     },
     "execution_count": 35,
     "metadata": {},
     "output_type": "execute_result"
    }
   ],
   "source": [
    "# 문자열과 형식을 맞춰야함\n",
    "\n",
    "value = '2011-01-03'\n",
    "datetime.strptime(value,'%Y-%d-%m')"
   ]
  },
  {
   "cell_type": "code",
   "execution_count": 4,
   "metadata": {},
   "outputs": [
    {
     "data": {
      "text/plain": [
       "datetime.datetime(2011, 3, 1, 0, 0)"
      ]
     },
     "execution_count": 4,
     "metadata": {},
     "output_type": "execute_result"
    }
   ],
   "source": [
    "value = '2011/01--03'\n",
    "datetime.strptime(value,'%Y/%d--%m')"
   ]
  },
  {
   "cell_type": "code",
   "execution_count": 37,
   "metadata": {},
   "outputs": [
    {
     "data": {
      "text/plain": [
       "datetime.datetime(2011, 1, 7, 0, 0)"
      ]
     },
     "execution_count": 37,
     "metadata": {},
     "output_type": "execute_result"
    }
   ],
   "source": [
    "# 일일이 문자열의 형식을 맞춰주는 것은 번거롭기 때문에 parse함수로 자동으로 맞춰줄 수 있다.\n",
    "\n",
    "from dateutil.parser import parse\n",
    "parse('2011/01-07')"
   ]
  },
  {
   "cell_type": "code",
   "execution_count": 38,
   "metadata": {},
   "outputs": [
    {
     "data": {
      "text/plain": [
       "datetime.datetime(2020, 1, 31, 22, 45)"
      ]
     },
     "execution_count": 38,
     "metadata": {},
     "output_type": "execute_result"
    }
   ],
   "source": [
    "# 다음과 같이 난잡한 형식도 쉽게 파싱\n",
    "\n",
    "parse('Jan 31,1997 10:45PM')"
   ]
  },
  {
   "cell_type": "code",
   "execution_count": 40,
   "metadata": {},
   "outputs": [
    {
     "name": "stdout",
     "output_type": "stream",
     "text": [
      "2011-06-12 00:00:00\n",
      "2011-12-06 00:00:00\n"
     ]
    }
   ],
   "source": [
    "# 날짜가 월 앞에 오는 경우\n",
    "print(parse('6/12/2011'))\n",
    "print(parse('6/12/2011',dayfirst=True))"
   ]
  },
  {
   "cell_type": "markdown",
   "metadata": {},
   "source": [
    "일반적으로 DataFrame의 컬럼이나 축 색인으로 날짜가 담긴 배열을 사용하는데 pandas의 to_datetime 메서드는 많은 종류의 날짜 표현을 처리한다."
   ]
  },
  {
   "cell_type": "code",
   "execution_count": 41,
   "metadata": {},
   "outputs": [
    {
     "data": {
      "text/plain": [
       "DatetimeIndex(['2011-07-06 12:00:00', '2011-08-06 00:00:00'], dtype='datetime64[ns]', freq=None)"
      ]
     },
     "execution_count": 41,
     "metadata": {},
     "output_type": "execute_result"
    }
   ],
   "source": [
    "# 표준 날짜 형식은 매우 빠르게 처리\n",
    "datestrs = ['2011-07-06 12:00:00','2011-08-06 00:00:00']\n",
    "\n",
    "pd.to_datetime(datestrs)"
   ]
  },
  {
   "cell_type": "code",
   "execution_count": 43,
   "metadata": {},
   "outputs": [
    {
     "data": {
      "text/plain": [
       "DatetimeIndex(['2011-07-06 12:00:00', '2011-08-06 00:00:00', 'NaT'], dtype='datetime64[ns]', freq=None)"
      ]
     },
     "execution_count": 43,
     "metadata": {},
     "output_type": "execute_result"
    }
   ],
   "source": [
    "# NaT는 pandas에서 누락된 타임스탬프를 나타냄\n",
    "\n",
    "pd.to_datetime(datestrs+[None])"
   ]
  },
  {
   "cell_type": "markdown",
   "metadata": {},
   "source": [
    "# 시계열 기초"
   ]
  },
  {
   "cell_type": "code",
   "execution_count": 6,
   "metadata": {},
   "outputs": [],
   "source": [
    "dates = [datetime(2011,1,2),datetime(2011,1,5),datetime(2011,1,7),datetime(2011,1,8),datetime(2011,1,10),datetime(2011,1,12)]\n",
    "\n",
    "ts = pd.Series(np.random.randn(6),index=dates)"
   ]
  },
  {
   "cell_type": "code",
   "execution_count": 7,
   "metadata": {},
   "outputs": [
    {
     "data": {
      "text/plain": [
       "2011-01-02   -0.743919\n",
       "2011-01-05   -0.007231\n",
       "2011-01-07   -0.404229\n",
       "2011-01-08   -0.661643\n",
       "2011-01-10   -0.307668\n",
       "2011-01-12    1.574062\n",
       "dtype: float64"
      ]
     },
     "execution_count": 7,
     "metadata": {},
     "output_type": "execute_result"
    }
   ],
   "source": [
    "ts"
   ]
  },
  {
   "cell_type": "code",
   "execution_count": 8,
   "metadata": {},
   "outputs": [
    {
     "data": {
      "text/plain": [
       "DatetimeIndex(['2011-01-02', '2011-01-05', '2011-01-07', '2011-01-08',\n",
       "               '2011-01-10', '2011-01-12'],\n",
       "              dtype='datetime64[ns]', freq=None)"
      ]
     },
     "execution_count": 8,
     "metadata": {},
     "output_type": "execute_result"
    }
   ],
   "source": [
    "ts.index"
   ]
  },
  {
   "cell_type": "code",
   "execution_count": 9,
   "metadata": {},
   "outputs": [
    {
     "data": {
      "text/plain": [
       "2011-01-02   -0.743919\n",
       "2011-01-05         NaN\n",
       "2011-01-07   -0.404229\n",
       "2011-01-08         NaN\n",
       "2011-01-10   -0.307668\n",
       "2011-01-12         NaN\n",
       "dtype: float64"
      ]
     },
     "execution_count": 9,
     "metadata": {},
     "output_type": "execute_result"
    }
   ],
   "source": [
    "# 당연한 얘기지만 산술연산은 인덱스(날짜)에 맞춰진다.\n",
    "(ts + ts[::2])/2"
   ]
  },
  {
   "cell_type": "code",
   "execution_count": 10,
   "metadata": {},
   "outputs": [
    {
     "data": {
      "text/plain": [
       "Timestamp('2011-01-02 00:00:00')"
      ]
     },
     "execution_count": 10,
     "metadata": {},
     "output_type": "execute_result"
    }
   ],
   "source": [
    "# pandas에 저장된 datetime의 객체명은 Timestamp\n",
    "\n",
    "ts.index[0]"
   ]
  },
  {
   "cell_type": "code",
   "execution_count": 11,
   "metadata": {},
   "outputs": [
    {
     "data": {
      "text/plain": [
       "Timestamp('2011-01-04 00:00:00')"
      ]
     },
     "execution_count": 11,
     "metadata": {},
     "output_type": "execute_result"
    }
   ],
   "source": [
    "# 인덱스 말고 데이터 value로 저장되었어도 마찬가지\n",
    "\n",
    "aa = pd.Series([datetime(2011,1,2),datetime(2011,1,4)])\n",
    "aa[1]"
   ]
  },
  {
   "cell_type": "markdown",
   "metadata": {},
   "source": [
    "- Timestamp는 datetime 객체를 사용하는 어떤 곳에서도 대체 사용이 가능하다.\n",
    "- pandas는 NumPy의 datetime64 자료형을 이용해 나노초의 정밀도를 가지는 타임스탬프를 저장한다.\n",
    "- 가능하면 빈도에 관한 정보도 저장하며 시간대 변환을 하는 방법과 다른 종류의 조작을 하는 방법 역시 포함한다."
   ]
  },
  {
   "cell_type": "markdown",
   "metadata": {},
   "source": [
    "## 색인, 선택, 부분 선택\n",
    "시계열은 라벨에 기반해 데이터를 선택하고 인덱싱할 때 보통 Series와 동일하게 동작한다."
   ]
  },
  {
   "cell_type": "code",
   "execution_count": 16,
   "metadata": {},
   "outputs": [
    {
     "data": {
      "text/plain": [
       "-0.7439188968020933"
      ]
     },
     "execution_count": 16,
     "metadata": {},
     "output_type": "execute_result"
    }
   ],
   "source": [
    "stamp = ts.index[0]\n",
    "ts[stamp]"
   ]
  },
  {
   "cell_type": "code",
   "execution_count": 20,
   "metadata": {},
   "outputs": [
    {
     "data": {
      "text/plain": [
       "2011-01-02   -0.743919\n",
       "2011-01-05   -0.007231\n",
       "2011-01-07   -0.404229\n",
       "2011-01-08   -0.661643\n",
       "2011-01-10   -0.307668\n",
       "2011-01-12    1.574062\n",
       "dtype: float64"
      ]
     },
     "execution_count": 20,
     "metadata": {},
     "output_type": "execute_result"
    }
   ],
   "source": [
    "# 해석할 수 있는 날짜를 문자열로 넘겨서 편리하게 사용할 수 있다. parse함수처럼 알아서 파싱해준다.\n",
    "ts"
   ]
  },
  {
   "cell_type": "code",
   "execution_count": 18,
   "metadata": {},
   "outputs": [
    {
     "data": {
      "text/plain": [
       "-0.6616434080249466"
      ]
     },
     "execution_count": 18,
     "metadata": {},
     "output_type": "execute_result"
    }
   ],
   "source": [
    "ts['2011/01/08']"
   ]
  },
  {
   "cell_type": "code",
   "execution_count": 19,
   "metadata": {},
   "outputs": [
    {
     "data": {
      "text/plain": [
       "-0.3076678236755808"
      ]
     },
     "execution_count": 19,
     "metadata": {},
     "output_type": "execute_result"
    }
   ],
   "source": [
    "ts['20110110']"
   ]
  },
  {
   "cell_type": "code",
   "execution_count": 21,
   "metadata": {},
   "outputs": [
    {
     "data": {
      "text/plain": [
       "-0.0072310381280341505"
      ]
     },
     "execution_count": 21,
     "metadata": {},
     "output_type": "execute_result"
    }
   ],
   "source": [
    "ts['1/5/2011']"
   ]
  },
  {
   "cell_type": "markdown",
   "metadata": {},
   "source": [
    "#### 긴 시계열에서는 년, 월 단위만 선택할 수 있다."
   ]
  },
  {
   "cell_type": "code",
   "execution_count": 24,
   "metadata": {},
   "outputs": [
    {
     "data": {
      "text/plain": [
       "2000-01-01   -0.937374\n",
       "2000-01-02    0.921644\n",
       "2000-01-03   -0.696241\n",
       "2000-01-04    0.326193\n",
       "2000-01-05   -0.238474\n",
       "                ...   \n",
       "2002-09-22    0.324839\n",
       "2002-09-23    0.301935\n",
       "2002-09-24    0.763745\n",
       "2002-09-25    0.544767\n",
       "2002-09-26    0.029824\n",
       "Freq: D, Length: 1000, dtype: float64"
      ]
     },
     "execution_count": 24,
     "metadata": {},
     "output_type": "execute_result"
    }
   ],
   "source": [
    "# date_range 함수 기억\n",
    "\n",
    "long_ts = pd.Series(np.random.randn(1000),index=pd.date_range('1/1/2000',periods=1000))\n",
    "long_ts"
   ]
  },
  {
   "cell_type": "code",
   "execution_count": 25,
   "metadata": {},
   "outputs": [
    {
     "data": {
      "text/plain": [
       "2001-01-01    1.735253\n",
       "2001-01-02   -0.973069\n",
       "2001-01-03   -0.752035\n",
       "2001-01-04   -1.883276\n",
       "2001-01-05   -1.698077\n",
       "                ...   \n",
       "2001-12-27    0.951499\n",
       "2001-12-28    0.740550\n",
       "2001-12-29   -0.080540\n",
       "2001-12-30    0.731187\n",
       "2001-12-31   -2.769073\n",
       "Freq: D, Length: 365, dtype: float64"
      ]
     },
     "execution_count": 25,
     "metadata": {},
     "output_type": "execute_result"
    }
   ],
   "source": [
    "long_ts['2001']"
   ]
  },
  {
   "cell_type": "code",
   "execution_count": 27,
   "metadata": {},
   "outputs": [
    {
     "data": {
      "text/plain": [
       "30"
      ]
     },
     "execution_count": 27,
     "metadata": {},
     "output_type": "execute_result"
    }
   ],
   "source": [
    "len(long_ts['2001/4'])"
   ]
  },
  {
   "cell_type": "code",
   "execution_count": 28,
   "metadata": {},
   "outputs": [
    {
     "data": {
      "text/plain": [
       "2001-12-13   -1.200326\n",
       "2001-12-14    0.322133\n",
       "2001-12-15   -0.137647\n",
       "2001-12-16    0.241824\n",
       "2001-12-17   -2.171092\n",
       "Freq: D, dtype: float64"
      ]
     },
     "execution_count": 28,
     "metadata": {},
     "output_type": "execute_result"
    }
   ],
   "source": [
    "# 슬라이싱 역시 일반적인 Series와 동일하게 수행할 수 있다.\n",
    "\n",
    "long_ts[datetime(2001,12,13):datetime(2001,12,17)]"
   ]
  },
  {
   "cell_type": "code",
   "execution_count": 31,
   "metadata": {},
   "outputs": [
    {
     "data": {
      "text/plain": [
       "2001-12-13   -1.200326\n",
       "2001-12-15   -0.137647\n",
       "2001-12-17   -2.171092\n",
       "Freq: 2D, dtype: float64"
      ]
     },
     "execution_count": 31,
     "metadata": {},
     "output_type": "execute_result"
    }
   ],
   "source": [
    "long_ts['2001-12-13':'2001/12/17':2]"
   ]
  },
  {
   "cell_type": "code",
   "execution_count": 37,
   "metadata": {},
   "outputs": [
    {
     "data": {
      "text/plain": [
       "2001-01-09   -0.946801\n",
       "2001-01-10   -0.784732\n",
       "2001-01-11   -1.948494\n",
       "2001-01-12    0.880699\n",
       "2001-01-13   -0.744889\n",
       "2001-01-14    1.264778\n",
       "2001-01-15   -0.023458\n",
       "2001-01-16    0.351655\n",
       "2001-01-17   -0.146364\n",
       "2001-01-18   -0.009957\n",
       "Freq: D, dtype: float64"
      ]
     },
     "execution_count": 37,
     "metadata": {},
     "output_type": "execute_result"
    }
   ],
   "source": [
    "# 같은 기능의 메서드\n",
    "\n",
    "long_ts.truncate(before='1/9/2001',after='1/18/2001')"
   ]
  },
  {
   "cell_type": "markdown",
   "metadata": {},
   "source": [
    "- DataFrame에도 동일하게 적용된다. loc 등의 함수를 이용하면 된다."
   ]
  },
  {
   "cell_type": "markdown",
   "metadata": {},
   "source": [
    "## 중복된 색인에 대하여"
   ]
  },
  {
   "cell_type": "code",
   "execution_count": 39,
   "metadata": {},
   "outputs": [
    {
     "data": {
      "text/plain": [
       "2000-01-01    0\n",
       "2000-01-02    1\n",
       "2000-01-02    2\n",
       "2000-01-02    3\n",
       "2000-01-03    4\n",
       "dtype: int32"
      ]
     },
     "execution_count": 39,
     "metadata": {},
     "output_type": "execute_result"
    }
   ],
   "source": [
    "dates = pd.DatetimeIndex(['1/1/2000','1/2/2000','1/2/2000','1/2/2000','1/3/2000'])\n",
    "dup_ts = pd.Series(np.arange(5),index=dates)\n",
    "dup_ts"
   ]
  },
  {
   "cell_type": "code",
   "execution_count": 40,
   "metadata": {},
   "outputs": [
    {
     "data": {
      "text/plain": [
       "False"
      ]
     },
     "execution_count": 40,
     "metadata": {},
     "output_type": "execute_result"
    }
   ],
   "source": [
    "dup_ts.index.is_unique"
   ]
  },
  {
   "cell_type": "code",
   "execution_count": 50,
   "metadata": {},
   "outputs": [
    {
     "name": "stdout",
     "output_type": "stream",
     "text": [
      "에러입니다.\n"
     ]
    }
   ],
   "source": [
    "try:\n",
    "    grouped = dup_ts.groupby()\n",
    "except:\n",
    "    print('에러입니다.')"
   ]
  },
  {
   "cell_type": "code",
   "execution_count": 51,
   "metadata": {},
   "outputs": [
    {
     "data": {
      "text/plain": [
       "2000-01-01    0\n",
       "2000-01-02    2\n",
       "2000-01-03    4\n",
       "dtype: int32"
      ]
     },
     "execution_count": 51,
     "metadata": {},
     "output_type": "execute_result"
    }
   ],
   "source": [
    "# 유일하지 않은 타임스탬프를 가지는 데이터를 집계한다면 groupby에 level=0(단일 단계 인덱싱)을 넘기는 것\n",
    "\n",
    "grouped = dup_ts.groupby(level=0)\n",
    "grouped.mean()"
   ]
  },
  {
   "cell_type": "code",
   "execution_count": 42,
   "metadata": {},
   "outputs": [
    {
     "data": {
      "text/plain": [
       "2000-01-01    1\n",
       "2000-01-02    3\n",
       "2000-01-03    1\n",
       "dtype: int64"
      ]
     },
     "execution_count": 42,
     "metadata": {},
     "output_type": "execute_result"
    }
   ],
   "source": [
    "grouped.count()"
   ]
  },
  {
   "cell_type": "markdown",
   "metadata": {},
   "source": [
    "# 날짜 범위, 빈도, 이동\n",
    "pandas의 일반적인 시계열은 불규칙적인 것으로 간주된다. 즉, 고정된 빈도를 갖지 않는다. 대부분의 어플리케이션에서는 이로 충분하지만 매 15분, 일별, 월별 같은 고정 빈도에서의 작업이 요구되는 경우가 종종 있다.\n",
    "\n",
    "pandas에는 리샘플링, 표준 시계열 빈도 모음, 빈도 추론, 고정된 빈도의 날짜 범위를 위한 도구가 제공된다."
   ]
  },
  {
   "cell_type": "code",
   "execution_count": 52,
   "metadata": {},
   "outputs": [
    {
     "data": {
      "text/plain": [
       "2011-01-02   -0.743919\n",
       "2011-01-05   -0.007231\n",
       "2011-01-07   -0.404229\n",
       "2011-01-08   -0.661643\n",
       "2011-01-10   -0.307668\n",
       "2011-01-12    1.574062\n",
       "dtype: float64"
      ]
     },
     "execution_count": 52,
     "metadata": {},
     "output_type": "execute_result"
    }
   ],
   "source": [
    "ts"
   ]
  },
  {
   "cell_type": "markdown",
   "metadata": {},
   "source": [
    "## 날짜 범위"
   ]
  },
  {
   "cell_type": "code",
   "execution_count": 54,
   "metadata": {},
   "outputs": [
    {
     "data": {
      "text/plain": [
       "DatetimeIndex(['2012-04-01', '2012-04-02', '2012-04-03', '2012-04-04',\n",
       "               '2012-04-05', '2012-04-06', '2012-04-07', '2012-04-08',\n",
       "               '2012-04-09', '2012-04-10', '2012-04-11', '2012-04-12',\n",
       "               '2012-04-13', '2012-04-14', '2012-04-15', '2012-04-16',\n",
       "               '2012-04-17', '2012-04-18', '2012-04-19', '2012-04-20',\n",
       "               '2012-04-21', '2012-04-22', '2012-04-23', '2012-04-24',\n",
       "               '2012-04-25', '2012-04-26', '2012-04-27', '2012-04-28',\n",
       "               '2012-04-29', '2012-04-30', '2012-05-01', '2012-05-02',\n",
       "               '2012-05-03', '2012-05-04', '2012-05-05', '2012-05-06',\n",
       "               '2012-05-07', '2012-05-08', '2012-05-09', '2012-05-10',\n",
       "               '2012-05-11', '2012-05-12', '2012-05-13', '2012-05-14',\n",
       "               '2012-05-15', '2012-05-16', '2012-05-17', '2012-05-18',\n",
       "               '2012-05-19', '2012-05-20', '2012-05-21', '2012-05-22',\n",
       "               '2012-05-23', '2012-05-24', '2012-05-25', '2012-05-26',\n",
       "               '2012-05-27', '2012-05-28', '2012-05-29', '2012-05-30',\n",
       "               '2012-05-31', '2012-06-01'],\n",
       "              dtype='datetime64[ns]', freq='D')"
      ]
     },
     "execution_count": 54,
     "metadata": {},
     "output_type": "execute_result"
    }
   ],
   "source": [
    "# 기본값은 일별 타임스탬프 생성\n",
    "index = pd.date_range('2012-04-01','2012-06-01')\n",
    "index"
   ]
  },
  {
   "cell_type": "code",
   "execution_count": 58,
   "metadata": {},
   "outputs": [
    {
     "data": {
      "text/plain": [
       "DatetimeIndex(['2012-04-01', '2012-04-02', '2012-04-03', '2012-04-04',\n",
       "               '2012-04-05', '2012-04-06', '2012-04-07', '2012-04-08',\n",
       "               '2012-04-09', '2012-04-10'],\n",
       "              dtype='datetime64[ns]', freq='D')"
      ]
     },
     "execution_count": 58,
     "metadata": {},
     "output_type": "execute_result"
    }
   ],
   "source": [
    "# period는 생성할 날짜의 개수\n",
    "\n",
    "pd.date_range(start='2012-04-01',periods=10)"
   ]
  },
  {
   "cell_type": "code",
   "execution_count": 59,
   "metadata": {},
   "outputs": [
    {
     "data": {
      "text/plain": [
       "DatetimeIndex(['2012-03-23', '2012-03-24', '2012-03-25', '2012-03-26',\n",
       "               '2012-03-27', '2012-03-28', '2012-03-29', '2012-03-30',\n",
       "               '2012-03-31', '2012-04-01'],\n",
       "              dtype='datetime64[ns]', freq='D')"
      ]
     },
     "execution_count": 59,
     "metadata": {},
     "output_type": "execute_result"
    }
   ],
   "source": [
    "pd.date_range(end='2012-04-01',periods=10)"
   ]
  },
  {
   "cell_type": "code",
   "execution_count": 60,
   "metadata": {},
   "outputs": [
    {
     "data": {
      "text/plain": [
       "DatetimeIndex(['2000-01-31', '2000-02-29', '2000-03-31', '2000-04-28',\n",
       "               '2000-05-31', '2000-06-30', '2000-07-31', '2000-08-31',\n",
       "               '2000-09-29', '2000-10-31', '2000-11-30'],\n",
       "              dtype='datetime64[ns]', freq='BM')"
      ]
     },
     "execution_count": 60,
     "metadata": {},
     "output_type": "execute_result"
    }
   ],
   "source": [
    "# 독특한 방식의 빈도값을 줄 수 있는데 예를 들어 'BM'은 매 월 영업마감일을 나타낸다.\n",
    "\n",
    "pd.date_range('2000-01-01','2000-12-01',freq='BM')"
   ]
  },
  {
   "cell_type": "markdown",
   "metadata": {},
   "source": [
    "- D: 달력상 일,  B: 매 영업일,  H/ T 혹은 min/ S: 매시/매분/매초,  L 혹은 ms/U: 밀리초/마이크로초\n",
    "- M: 월 마지막 일,  BM: 월 영업마감일,  MS: 월 시작일,  BMS: 월 영업시작일\n",
    "- W-MON, W-TUE,...: 매 해당 요일,  WOM-1MON, WOM-2MON...:월별 주차와 요일, 예를 들어 WOM-3FRI는 매월 3째 주 금요일이다.\n",
    "\n",
    "나머지는 책이나 사진을 참고하시라"
   ]
  },
  {
   "cell_type": "code",
   "execution_count": 69,
   "metadata": {},
   "outputs": [
    {
     "data": {
      "text/plain": [
       "DatetimeIndex(['2018-01-23', '2018-02-27', '2018-03-27', '2018-04-24',\n",
       "               '2018-05-22', '2018-06-26', '2018-07-24', '2018-08-28',\n",
       "               '2018-09-25', '2018-10-23', '2018-11-27', '2018-12-25',\n",
       "               '2019-01-22', '2019-02-26', '2019-03-26', '2019-04-23',\n",
       "               '2019-05-28', '2019-06-25', '2019-07-23', '2019-08-27',\n",
       "               '2019-09-24', '2019-10-22', '2019-11-26', '2019-12-24'],\n",
       "              dtype='datetime64[ns]', freq='WOM-4TUE')"
      ]
     },
     "execution_count": 69,
     "metadata": {},
     "output_type": "execute_result"
    }
   ],
   "source": [
    "pd.date_range('2018-01-01','2020/01/03',freq='WOM-4TUE')"
   ]
  },
  {
   "cell_type": "code",
   "execution_count": 72,
   "metadata": {},
   "outputs": [
    {
     "data": {
      "text/plain": [
       "DatetimeIndex(['2019-11-20', '2019-11-27', '2019-12-04', '2019-12-11',\n",
       "               '2019-12-18', '2019-12-25', '2020-01-01', '2020-01-08',\n",
       "               '2020-01-15'],\n",
       "              dtype='datetime64[ns]', freq='W-WED')"
      ]
     },
     "execution_count": 72,
     "metadata": {},
     "output_type": "execute_result"
    }
   ],
   "source": [
    "pd.date_range('2019-11-16','2020-1-16',freq='W-WED')"
   ]
  },
  {
   "cell_type": "code",
   "execution_count": 80,
   "metadata": {},
   "outputs": [
    {
     "data": {
      "text/plain": [
       "DatetimeIndex(['2019-11-16 20:00:34', '2019-11-16 21:30:34',\n",
       "               '2019-11-16 23:00:34', '2019-11-17 00:30:34',\n",
       "               '2019-11-17 02:00:34', '2019-11-17 03:30:34',\n",
       "               '2019-11-17 05:00:34', '2019-11-17 06:30:34',\n",
       "               '2019-11-17 08:00:34', '2019-11-17 09:30:34',\n",
       "               '2019-11-17 11:00:34', '2019-11-17 12:30:34'],\n",
       "              dtype='datetime64[ns]', freq='90T')"
      ]
     },
     "execution_count": 80,
     "metadata": {},
     "output_type": "execute_result"
    }
   ],
   "source": [
    "pd.date_range('2019-11-16 20:00:34','2019-11-17 13:00:34',freq='1h30min')"
   ]
  },
  {
   "cell_type": "code",
   "execution_count": 73,
   "metadata": {},
   "outputs": [
    {
     "data": {
      "text/plain": [
       "DatetimeIndex(['2012-05-02 12:56:31', '2012-05-03 12:56:31',\n",
       "               '2012-05-04 12:56:31', '2012-05-05 12:56:31',\n",
       "               '2012-05-06 12:56:31'],\n",
       "              dtype='datetime64[ns]', freq='D')"
      ]
     },
     "execution_count": 73,
     "metadata": {},
     "output_type": "execute_result"
    }
   ],
   "source": [
    "# 기본적으로 시작 시간이나 종료 시간의 타임스탬프(존재한다면)를 보존한다.\n",
    "pd.date_range('2012-05-02 12:56:31',periods=5)"
   ]
  },
  {
   "cell_type": "code",
   "execution_count": 76,
   "metadata": {},
   "outputs": [
    {
     "data": {
      "text/plain": [
       "DatetimeIndex(['2012-05-02', '2012-05-03', '2012-05-04', '2012-05-05',\n",
       "               '2012-05-06'],\n",
       "              dtype='datetime64[ns]', freq='D')"
      ]
     },
     "execution_count": 76,
     "metadata": {},
     "output_type": "execute_result"
    }
   ],
   "source": [
    "# 관례에 맞게 자정에 맞춰 정규화하고자 할 때\n",
    "pd.date_range('2012-05-02 12:56:31',periods=5, normalize=True)"
   ]
  },
  {
   "cell_type": "code",
   "execution_count": 77,
   "metadata": {},
   "outputs": [
    {
     "data": {
      "text/plain": [
       "Timestamp('2012-05-02 00:00:00', freq='D')"
      ]
     },
     "execution_count": 77,
     "metadata": {},
     "output_type": "execute_result"
    }
   ],
   "source": [
    "pd.date_range('2012-05-02 12:56:31',periods=5, normalize=True)[0]"
   ]
  },
  {
   "cell_type": "markdown",
   "metadata": {},
   "source": [
    "## 데이터 시프트\n",
    "데이터를 시간 축에서 앞이나 뒤로 이동하는 것을 의미<br>\n",
    "pandas에는 색인을 변경하지 않고 데이터를 앞이나 뒤로 느슨한 시프트를 수행하는 shift 메서드를 가지고 있음<br>\n",
    "shift 메서드 자체는 시계열에 관계없이 사용이 가능"
   ]
  },
  {
   "cell_type": "code",
   "execution_count": 87,
   "metadata": {},
   "outputs": [
    {
     "data": {
      "text/plain": [
       "2000-01-01    0.002172\n",
       "2000-02-01    0.755591\n",
       "2000-03-01   -0.183988\n",
       "2000-04-01   -0.533402\n",
       "Freq: MS, dtype: float64"
      ]
     },
     "execution_count": 87,
     "metadata": {},
     "output_type": "execute_result"
    }
   ],
   "source": [
    "ts = pd.Series(np.random.randn(4),index=pd.date_range('1/1/2000',periods=4,freq='MS'))\n",
    "ts"
   ]
  },
  {
   "cell_type": "code",
   "execution_count": 88,
   "metadata": {},
   "outputs": [
    {
     "data": {
      "text/plain": [
       "2000-01-01         NaN\n",
       "2000-02-01         NaN\n",
       "2000-03-01    0.002172\n",
       "2000-04-01    0.755591\n",
       "Freq: MS, dtype: float64"
      ]
     },
     "execution_count": 88,
     "metadata": {},
     "output_type": "execute_result"
    }
   ],
   "source": [
    "ts.shift(2)"
   ]
  },
  {
   "cell_type": "code",
   "execution_count": 89,
   "metadata": {},
   "outputs": [
    {
     "data": {
      "text/plain": [
       "2000-01-01   -0.183988\n",
       "2000-02-01   -0.533402\n",
       "2000-03-01         NaN\n",
       "2000-04-01         NaN\n",
       "Freq: MS, dtype: float64"
      ]
     },
     "execution_count": 89,
     "metadata": {},
     "output_type": "execute_result"
    }
   ],
   "source": [
    "ts.shift(-2)"
   ]
  },
  {
   "cell_type": "code",
   "execution_count": 91,
   "metadata": {},
   "outputs": [
    {
     "data": {
      "text/plain": [
       "2000-03-01    0.002172\n",
       "2000-04-01    0.755591\n",
       "2000-05-01   -0.183988\n",
       "2000-06-01   -0.533402\n",
       "Freq: MS, dtype: float64"
      ]
     },
     "execution_count": 91,
     "metadata": {},
     "output_type": "execute_result"
    }
   ],
   "source": [
    "# 결측치가 발생하게 되는데 빈도를 알고 있다면 shift에 빈도를 넘겨 타임스탬프 자체가 확장되도록 할 수 있다.\n",
    "\n",
    "ts.shift(2,freq='MS')"
   ]
  },
  {
   "cell_type": "code",
   "execution_count": 92,
   "metadata": {},
   "outputs": [
    {
     "data": {
      "text/plain": [
       "2000-01-03    0.002172\n",
       "2000-02-03    0.755591\n",
       "2000-03-03   -0.183988\n",
       "2000-04-03   -0.533402\n",
       "dtype: float64"
      ]
     },
     "execution_count": 92,
     "metadata": {},
     "output_type": "execute_result"
    }
   ],
   "source": [
    "ts.shift(2,freq='D')"
   ]
  },
  {
   "cell_type": "code",
   "execution_count": 94,
   "metadata": {},
   "outputs": [
    {
     "data": {
      "text/plain": [
       "2000-01-01 04:30:00    0.002172\n",
       "2000-02-01 04:30:00    0.755591\n",
       "2000-03-01 04:30:00   -0.183988\n",
       "2000-04-01 04:30:00   -0.533402\n",
       "Freq: MS, dtype: float64"
      ]
     },
     "execution_count": 94,
     "metadata": {},
     "output_type": "execute_result"
    }
   ],
   "source": [
    "ts.shift(3,freq='90T')\n",
    "# ==ts.shift(3,freq='1h30min')"
   ]
  },
  {
   "cell_type": "markdown",
   "metadata": {},
   "source": [
    "#### 참고) 빈도수를 직접 정의하기"
   ]
  },
  {
   "cell_type": "code",
   "execution_count": 104,
   "metadata": {},
   "outputs": [],
   "source": [
    "from pandas.tseries import offsets\n",
    "a = offsets.Hour(4)+offsets.Second(15)"
   ]
  },
  {
   "cell_type": "code",
   "execution_count": 96,
   "metadata": {},
   "outputs": [
    {
     "data": {
      "text/plain": [
       "DatetimeIndex(['2020-07-19 00:00:00', '2020-07-19 04:00:15',\n",
       "               '2020-07-19 08:00:30', '2020-07-19 12:00:45',\n",
       "               '2020-07-19 16:01:00'],\n",
       "              dtype='datetime64[ns]', freq='14415S')"
      ]
     },
     "execution_count": 96,
     "metadata": {},
     "output_type": "execute_result"
    }
   ],
   "source": [
    "pd.date_range('2020/7/19',freq=a,periods=5)"
   ]
  },
  {
   "cell_type": "code",
   "execution_count": 97,
   "metadata": {},
   "outputs": [
    {
     "data": {
      "text/plain": [
       "Timestamp('2020-07-06 17:30:15')"
      ]
     },
     "execution_count": 97,
     "metadata": {},
     "output_type": "execute_result"
    }
   ],
   "source": [
    "# 날짜 오프셋은 바로 연산에도 적용가능\n",
    "datetime(2020,7,6,13,30)+a"
   ]
  },
  {
   "cell_type": "code",
   "execution_count": 107,
   "metadata": {},
   "outputs": [],
   "source": [
    "# 날짜 당기고 밀기\n",
    "a = offsets.MonthEnd()\n",
    "now = datetime.now()"
   ]
  },
  {
   "cell_type": "code",
   "execution_count": 99,
   "metadata": {},
   "outputs": [
    {
     "data": {
      "text/plain": [
       "Timestamp('2020-07-31 20:05:59.621454')"
      ]
     },
     "execution_count": 99,
     "metadata": {},
     "output_type": "execute_result"
    }
   ],
   "source": [
    "a.rollforward(now)"
   ]
  },
  {
   "cell_type": "code",
   "execution_count": 100,
   "metadata": {},
   "outputs": [
    {
     "data": {
      "text/plain": [
       "Timestamp('2020-06-30 20:05:59.621454')"
      ]
     },
     "execution_count": 100,
     "metadata": {},
     "output_type": "execute_result"
    }
   ],
   "source": [
    "a.rollback(now)"
   ]
  },
  {
   "cell_type": "markdown",
   "metadata": {},
   "source": [
    "### (유용) groupby와 결합"
   ]
  },
  {
   "cell_type": "code",
   "execution_count": 102,
   "metadata": {},
   "outputs": [
    {
     "data": {
      "text/plain": [
       "2000-01-15    1.306955\n",
       "2000-01-19    0.465767\n",
       "2000-01-23   -1.139345\n",
       "2000-01-27   -0.532415\n",
       "2000-01-31   -1.004944\n",
       "2000-02-04   -0.632147\n",
       "2000-02-08   -0.380419\n",
       "2000-02-12    1.150356\n",
       "2000-02-16    0.020456\n",
       "2000-02-20    1.724955\n",
       "2000-02-24   -0.768174\n",
       "2000-02-28   -1.181339\n",
       "2000-03-03   -1.948139\n",
       "2000-03-07   -0.239954\n",
       "2000-03-11   -0.406812\n",
       "2000-03-15   -2.917013\n",
       "2000-03-19    1.000507\n",
       "2000-03-23   -0.342479\n",
       "2000-03-27    1.057336\n",
       "2000-03-31    0.191365\n",
       "Freq: 4D, dtype: float64"
      ]
     },
     "execution_count": 102,
     "metadata": {},
     "output_type": "execute_result"
    }
   ],
   "source": [
    "ts = pd.Series(np.random.randn(20),index=pd.date_range('1/15/2000',periods=20,freq='4d'))\n",
    "ts"
   ]
  },
  {
   "cell_type": "code",
   "execution_count": 108,
   "metadata": {},
   "outputs": [
    {
     "data": {
      "text/plain": [
       "2000-01-31   -0.180796\n",
       "2000-02-29   -0.009473\n",
       "2000-03-31   -0.450649\n",
       "dtype: float64"
      ]
     },
     "execution_count": 108,
     "metadata": {},
     "output_type": "execute_result"
    }
   ],
   "source": [
    "# a = offsets.MonthEnd()\n",
    "ts.groupby(a.rollforward).mean()\n",
    "\n",
    "# resample로도 동일한 연산을 수행할 수 있는데 차후 서술"
   ]
  },
  {
   "cell_type": "markdown",
   "metadata": {},
   "source": [
    "# 시간대 다루기\n",
    "국제표준시(UTC)를 기본으로 선택하지만 pytz 라이브러리를 이용해 DST(서머타임, 일광절약시간)과 여러 지역 시간대로 변경할 수 있다.<br>\n",
    "다른 시간대끼리의 연산 역시 가능한데 연산 후에는 UTC가 된다. \n",
    "\n",
    "자세한 내용은 책을 참고."
   ]
  },
  {
   "cell_type": "markdown",
   "metadata": {},
   "source": [
    "# 기간과 기간 연산\n",
    "기간(며칠, 몇 개월, 몇 분기, 몇 해 등)은 Period 클래스로 표현이 가능 "
   ]
  },
  {
   "cell_type": "code",
   "execution_count": 5,
   "metadata": {},
   "outputs": [
    {
     "data": {
      "text/plain": [
       "Period('2007', 'A-DEC')"
      ]
     },
     "execution_count": 5,
     "metadata": {},
     "output_type": "execute_result"
    }
   ],
   "source": [
    "# A-JAN, A-FEB....는 주어진 월의 마지막 일을 가리키는 연간 주기\n",
    "# 다음 Period 객체는 2007년 1월 1일부터 같은 해 12월 31일까지의 기간을 표현\n",
    "\n",
    "p = pd.Period(2007,freq='A-DEC')\n",
    "p"
   ]
  },
  {
   "cell_type": "code",
   "execution_count": 110,
   "metadata": {},
   "outputs": [
    {
     "data": {
      "text/plain": [
       "Period('2012', 'A-DEC')"
      ]
     },
     "execution_count": 110,
     "metadata": {},
     "output_type": "execute_result"
    }
   ],
   "source": [
    "p+5"
   ]
  },
  {
   "cell_type": "code",
   "execution_count": 111,
   "metadata": {},
   "outputs": [
    {
     "data": {
      "text/plain": [
       "Period('2005', 'A-DEC')"
      ]
     },
     "execution_count": 111,
     "metadata": {},
     "output_type": "execute_result"
    }
   ],
   "source": [
    "p-2"
   ]
  },
  {
   "cell_type": "code",
   "execution_count": 113,
   "metadata": {},
   "outputs": [
    {
     "data": {
      "text/plain": [
       "<7 * YearEnds: month=12>"
      ]
     },
     "execution_count": 113,
     "metadata": {},
     "output_type": "execute_result"
    }
   ],
   "source": [
    "# 같은 빈도를 가지는 두 기간의 차는 간격이 된다.\n",
    "pd.Period('2014',freq='A-DEC') - p"
   ]
  },
  {
   "cell_type": "code",
   "execution_count": 8,
   "metadata": {},
   "outputs": [
    {
     "data": {
      "text/plain": [
       "PeriodIndex(['2000-01', '2000-02', '2000-03', '2000-04', '2000-05', '2000-06'], dtype='period[M]', freq='M')"
      ]
     },
     "execution_count": 8,
     "metadata": {},
     "output_type": "execute_result"
    }
   ],
   "source": [
    "# 일반적인 기간 범위는 period_range 함수로 생성 가능\n",
    "\n",
    "rng = pd.period_range('2000-01-01','2000-06-30',freq='M')\n",
    "rng"
   ]
  },
  {
   "cell_type": "code",
   "execution_count": 116,
   "metadata": {},
   "outputs": [
    {
     "data": {
      "text/plain": [
       "2000-01    0.637599\n",
       "2000-02    0.300003\n",
       "2000-03   -1.161678\n",
       "2000-04    1.128345\n",
       "2000-05    1.146876\n",
       "2000-06    0.207242\n",
       "Freq: M, dtype: float64"
      ]
     },
     "execution_count": 116,
     "metadata": {},
     "output_type": "execute_result"
    }
   ],
   "source": [
    "# PeriodIndex 클래스는 순차적인 기간을 저장, pandas의 색인으로 사용 가능\n",
    "pd.Series(np.random.randn(6),index=rng)"
   ]
  },
  {
   "cell_type": "code",
   "execution_count": 118,
   "metadata": {},
   "outputs": [
    {
     "data": {
      "text/plain": [
       "PeriodIndex(['2001Q1', '2002Q2', '2003Q1'], dtype='period[Q-DEC]', freq='Q-DEC')"
      ]
     },
     "execution_count": 118,
     "metadata": {},
     "output_type": "execute_result"
    }
   ],
   "source": [
    "# Q-JAN, Q-FEB....: 지정된 월을 해당년도의 마감으로 하여 지정된 월의 마지막 날짜를 가리키는 분기 주기\n",
    "# 문자열 배열로 PeriodIndex 클래스 생성 가능\n",
    "\n",
    "values = ['2001','2002Q2','2003Q1']\n",
    "index = pd.PeriodIndex(values,freq='Q-DEC')\n",
    "index"
   ]
  },
  {
   "cell_type": "code",
   "execution_count": 119,
   "metadata": {},
   "outputs": [
    {
     "data": {
      "text/plain": [
       "Period('2007', 'A-DEC')"
      ]
     },
     "execution_count": 119,
     "metadata": {},
     "output_type": "execute_result"
    }
   ],
   "source": [
    "# asfreq 메서드로 빈도 변환 가능, p는 새해 첫날부터 시작하는 연간 빈도\n",
    "p"
   ]
  },
  {
   "cell_type": "code",
   "execution_count": 120,
   "metadata": {},
   "outputs": [
    {
     "data": {
      "text/plain": [
       "Period('2007-01', 'M')"
      ]
     },
     "execution_count": 120,
     "metadata": {},
     "output_type": "execute_result"
    }
   ],
   "source": [
    "# 월간 빈도로 변환\n",
    "p.asfreq('M',how='start')   # start는 그 기간의 처음으로 맞추는 것"
   ]
  },
  {
   "cell_type": "code",
   "execution_count": 121,
   "metadata": {},
   "outputs": [
    {
     "data": {
      "text/plain": [
       "Period('2007-12', 'M')"
      ]
     },
     "execution_count": 121,
     "metadata": {},
     "output_type": "execute_result"
    }
   ],
   "source": [
    "p.asfreq('M',how='end')"
   ]
  },
  {
   "cell_type": "code",
   "execution_count": 123,
   "metadata": {},
   "outputs": [
    {
     "data": {
      "text/plain": [
       "Period('2007', 'A-JUN')"
      ]
     },
     "execution_count": 123,
     "metadata": {},
     "output_type": "execute_result"
    }
   ],
   "source": [
    "p2 = pd.Period('2007',freq='A-JUN')\n",
    "p2"
   ]
  },
  {
   "cell_type": "code",
   "execution_count": 124,
   "metadata": {},
   "outputs": [
    {
     "data": {
      "text/plain": [
       "Period('2006-07', 'M')"
      ]
     },
     "execution_count": 124,
     "metadata": {},
     "output_type": "execute_result"
    }
   ],
   "source": [
    "p2.asfreq('M','start')"
   ]
  },
  {
   "cell_type": "code",
   "execution_count": 10,
   "metadata": {},
   "outputs": [
    {
     "data": {
      "text/plain": [
       "Period('2007-08', 'M')"
      ]
     },
     "execution_count": 10,
     "metadata": {},
     "output_type": "execute_result"
    }
   ],
   "source": [
    "# 빈도가 상위 단계(더 자세한 기간)에서 하위 단계(더 포괄적인 기간)로 변환되는 경우 \n",
    "# 상위 기간은 하위 기간이 어디에 속했는지에 따라 결정된다.\n",
    "\n",
    "p = pd.Period('Aug/2007','M')\n",
    "p"
   ]
  },
  {
   "cell_type": "code",
   "execution_count": 11,
   "metadata": {},
   "outputs": [
    {
     "data": {
      "text/plain": [
       "Period('2008', 'A-JUN')"
      ]
     },
     "execution_count": 11,
     "metadata": {},
     "output_type": "execute_result"
    }
   ],
   "source": [
    "p.asfreq('A-JUN')"
   ]
  },
  {
   "cell_type": "code",
   "execution_count": 13,
   "metadata": {},
   "outputs": [
    {
     "data": {
      "text/plain": [
       "PeriodIndex(['2006', '2007', '2008', '2009'], dtype='period[A-DEC]', freq='A-DEC')"
      ]
     },
     "execution_count": 13,
     "metadata": {},
     "output_type": "execute_result"
    }
   ],
   "source": [
    "# PeriodIndex 객체나 시계열은 앞의 모든 내용과 같은 방식으로 변환 가능\n",
    "\n",
    "rng = pd.period_range('2006','2009',freq='A-DEC')\n",
    "rng"
   ]
  },
  {
   "cell_type": "code",
   "execution_count": 14,
   "metadata": {},
   "outputs": [
    {
     "data": {
      "text/plain": [
       "2006   -1.160977\n",
       "2007   -0.631376\n",
       "2008   -1.219817\n",
       "2009   -0.990349\n",
       "Freq: A-DEC, dtype: float64"
      ]
     },
     "execution_count": 14,
     "metadata": {},
     "output_type": "execute_result"
    }
   ],
   "source": [
    "ts = pd.Series(np.random.randn(len(rng)),index=rng)\n",
    "ts"
   ]
  },
  {
   "cell_type": "code",
   "execution_count": 15,
   "metadata": {},
   "outputs": [
    {
     "data": {
      "text/plain": [
       "2006-01   -1.160977\n",
       "2007-01   -0.631376\n",
       "2008-01   -1.219817\n",
       "2009-01   -0.990349\n",
       "Freq: M, dtype: float64"
      ]
     },
     "execution_count": 15,
     "metadata": {},
     "output_type": "execute_result"
    }
   ],
   "source": [
    "ts.asfreq('M',how='start')"
   ]
  },
  {
   "cell_type": "code",
   "execution_count": 21,
   "metadata": {},
   "outputs": [
    {
     "data": {
      "text/plain": [
       "2006-12-31 23:59:59   -1.160977\n",
       "2007-12-31 23:59:59   -0.631376\n",
       "2008-12-31 23:59:59   -1.219817\n",
       "2009-12-31 23:59:59   -0.990349\n",
       "Freq: S, dtype: float64"
      ]
     },
     "execution_count": 21,
     "metadata": {},
     "output_type": "execute_result"
    }
   ],
   "source": [
    "ts.asfreq('S',how='end')"
   ]
  },
  {
   "cell_type": "markdown",
   "metadata": {},
   "source": [
    "정리) 기간에 관련된 객체(Period,PeriodIndex)는 asfreq 메서드를 통해 다른 빈도로 변환할 수 있고 처음과 끝 역시 지정 가능하다.\n",
    "\n",
    "Q-DEC 등을 사용하는 분기 빈도와 관련된 설명은 책을 참고\n",
    "\n",
    "## 타임스탬프와 기간 서로 변환하기"
   ]
  },
  {
   "cell_type": "code",
   "execution_count": 26,
   "metadata": {},
   "outputs": [
    {
     "data": {
      "text/plain": [
       "2000-01-31   -0.599739\n",
       "2000-02-29   -0.479458\n",
       "2000-03-31   -0.987674\n",
       "Freq: M, dtype: float64"
      ]
     },
     "execution_count": 26,
     "metadata": {},
     "output_type": "execute_result"
    }
   ],
   "source": [
    "# 참고) M은 월 마지막 일, MS는 월 시작일\n",
    "rng = pd.date_range('2000-01-01',periods=3,freq='M')\n",
    "ts = pd.Series(np.random.randn(3),index=rng)\n",
    "ts"
   ]
  },
  {
   "cell_type": "code",
   "execution_count": 27,
   "metadata": {},
   "outputs": [
    {
     "data": {
      "text/plain": [
       "2000-01   -0.599739\n",
       "2000-02   -0.479458\n",
       "2000-03   -0.987674\n",
       "Freq: M, dtype: float64"
      ]
     },
     "execution_count": 27,
     "metadata": {},
     "output_type": "execute_result"
    }
   ],
   "source": [
    "# 기간으로의 변환\n",
    "\n",
    "ts.to_period()"
   ]
  },
  {
   "cell_type": "code",
   "execution_count": 29,
   "metadata": {},
   "outputs": [
    {
     "data": {
      "text/plain": [
       "2000-01-29   -0.522048\n",
       "2000-01-30    0.953873\n",
       "2000-01-31    0.665222\n",
       "2000-02-01   -1.271087\n",
       "2000-02-02    0.141902\n",
       "2000-02-03   -0.002990\n",
       "Freq: D, dtype: float64"
      ]
     },
     "execution_count": 29,
     "metadata": {},
     "output_type": "execute_result"
    }
   ],
   "source": [
    "# PeriodIndex의 빈도는 기본적으로 타임스탬프의 값을 통해 (하나의 기간에만 속하도록) 추론되나 원하는 빈도를 직접 입력하는 것도 가능\n",
    "\n",
    "rng = pd.date_range('1/29/2000',periods=6,freq='D')\n",
    "ts2 = pd.Series(np.random.randn(len(rng)),index=rng)\n",
    "ts2"
   ]
  },
  {
   "cell_type": "code",
   "execution_count": 42,
   "metadata": {},
   "outputs": [
    {
     "data": {
      "text/plain": [
       "2000-01   -0.522048\n",
       "2000-01    0.953873\n",
       "2000-01    0.665222\n",
       "2000-02   -1.271087\n",
       "2000-02    0.141902\n",
       "2000-02   -0.002990\n",
       "Freq: M, dtype: float64"
      ]
     },
     "execution_count": 42,
     "metadata": {},
     "output_type": "execute_result"
    }
   ],
   "source": [
    "ts2.to_period('M')"
   ]
  },
  {
   "cell_type": "code",
   "execution_count": 40,
   "metadata": {},
   "outputs": [
    {
     "data": {
      "text/plain": [
       "2000-01-29   -0.522048\n",
       "2000-01-30    0.953873\n",
       "2000-01-31    0.665222\n",
       "2000-02-01   -1.271087\n",
       "2000-02-02    0.141902\n",
       "2000-02-03   -0.002990\n",
       "Freq: D, dtype: float64"
      ]
     },
     "execution_count": 40,
     "metadata": {},
     "output_type": "execute_result"
    }
   ],
   "source": [
    "pts = ts2.to_period()\n",
    "pts"
   ]
  },
  {
   "cell_type": "code",
   "execution_count": 44,
   "metadata": {},
   "outputs": [
    {
     "data": {
      "text/plain": [
       "2000-01-29 23:59:59.999999999   -0.522048\n",
       "2000-01-30 23:59:59.999999999    0.953873\n",
       "2000-01-31 23:59:59.999999999    0.665222\n",
       "2000-02-01 23:59:59.999999999   -1.271087\n",
       "2000-02-02 23:59:59.999999999    0.141902\n",
       "2000-02-03 23:59:59.999999999   -0.002990\n",
       "Freq: D, dtype: float64"
      ]
     },
     "execution_count": 44,
     "metadata": {},
     "output_type": "execute_result"
    }
   ],
   "source": [
    "pts.to_timestamp(how='end')"
   ]
  },
  {
   "cell_type": "markdown",
   "metadata": {},
   "source": [
    "## 배열로 PeriodIndex 생성하기"
   ]
  },
  {
   "cell_type": "code",
   "execution_count": 45,
   "metadata": {},
   "outputs": [
    {
     "data": {
      "text/html": [
       "<div>\n",
       "<style scoped>\n",
       "    .dataframe tbody tr th:only-of-type {\n",
       "        vertical-align: middle;\n",
       "    }\n",
       "\n",
       "    .dataframe tbody tr th {\n",
       "        vertical-align: top;\n",
       "    }\n",
       "\n",
       "    .dataframe thead th {\n",
       "        text-align: right;\n",
       "    }\n",
       "</style>\n",
       "<table border=\"1\" class=\"dataframe\">\n",
       "  <thead>\n",
       "    <tr style=\"text-align: right;\">\n",
       "      <th></th>\n",
       "      <th>year</th>\n",
       "      <th>quarter</th>\n",
       "      <th>realgdp</th>\n",
       "      <th>realcons</th>\n",
       "      <th>realinv</th>\n",
       "      <th>realgovt</th>\n",
       "      <th>realdpi</th>\n",
       "      <th>cpi</th>\n",
       "      <th>m1</th>\n",
       "      <th>tbilrate</th>\n",
       "      <th>unemp</th>\n",
       "      <th>pop</th>\n",
       "      <th>infl</th>\n",
       "      <th>realint</th>\n",
       "    </tr>\n",
       "  </thead>\n",
       "  <tbody>\n",
       "    <tr>\n",
       "      <td>0</td>\n",
       "      <td>1959.0</td>\n",
       "      <td>1.0</td>\n",
       "      <td>2710.349</td>\n",
       "      <td>1707.4</td>\n",
       "      <td>286.898</td>\n",
       "      <td>470.045</td>\n",
       "      <td>1886.9</td>\n",
       "      <td>28.98</td>\n",
       "      <td>139.7</td>\n",
       "      <td>2.82</td>\n",
       "      <td>5.8</td>\n",
       "      <td>177.146</td>\n",
       "      <td>0.00</td>\n",
       "      <td>0.00</td>\n",
       "    </tr>\n",
       "    <tr>\n",
       "      <td>1</td>\n",
       "      <td>1959.0</td>\n",
       "      <td>2.0</td>\n",
       "      <td>2778.801</td>\n",
       "      <td>1733.7</td>\n",
       "      <td>310.859</td>\n",
       "      <td>481.301</td>\n",
       "      <td>1919.7</td>\n",
       "      <td>29.15</td>\n",
       "      <td>141.7</td>\n",
       "      <td>3.08</td>\n",
       "      <td>5.1</td>\n",
       "      <td>177.830</td>\n",
       "      <td>2.34</td>\n",
       "      <td>0.74</td>\n",
       "    </tr>\n",
       "    <tr>\n",
       "      <td>2</td>\n",
       "      <td>1959.0</td>\n",
       "      <td>3.0</td>\n",
       "      <td>2775.488</td>\n",
       "      <td>1751.8</td>\n",
       "      <td>289.226</td>\n",
       "      <td>491.260</td>\n",
       "      <td>1916.4</td>\n",
       "      <td>29.35</td>\n",
       "      <td>140.5</td>\n",
       "      <td>3.82</td>\n",
       "      <td>5.3</td>\n",
       "      <td>178.657</td>\n",
       "      <td>2.74</td>\n",
       "      <td>1.09</td>\n",
       "    </tr>\n",
       "    <tr>\n",
       "      <td>3</td>\n",
       "      <td>1959.0</td>\n",
       "      <td>4.0</td>\n",
       "      <td>2785.204</td>\n",
       "      <td>1753.7</td>\n",
       "      <td>299.356</td>\n",
       "      <td>484.052</td>\n",
       "      <td>1931.3</td>\n",
       "      <td>29.37</td>\n",
       "      <td>140.0</td>\n",
       "      <td>4.33</td>\n",
       "      <td>5.6</td>\n",
       "      <td>179.386</td>\n",
       "      <td>0.27</td>\n",
       "      <td>4.06</td>\n",
       "    </tr>\n",
       "    <tr>\n",
       "      <td>4</td>\n",
       "      <td>1960.0</td>\n",
       "      <td>1.0</td>\n",
       "      <td>2847.699</td>\n",
       "      <td>1770.5</td>\n",
       "      <td>331.722</td>\n",
       "      <td>462.199</td>\n",
       "      <td>1955.5</td>\n",
       "      <td>29.54</td>\n",
       "      <td>139.6</td>\n",
       "      <td>3.50</td>\n",
       "      <td>5.2</td>\n",
       "      <td>180.007</td>\n",
       "      <td>2.31</td>\n",
       "      <td>1.19</td>\n",
       "    </tr>\n",
       "  </tbody>\n",
       "</table>\n",
       "</div>"
      ],
      "text/plain": [
       "     year  quarter   realgdp  realcons  realinv  realgovt  realdpi    cpi  \\\n",
       "0  1959.0      1.0  2710.349    1707.4  286.898   470.045   1886.9  28.98   \n",
       "1  1959.0      2.0  2778.801    1733.7  310.859   481.301   1919.7  29.15   \n",
       "2  1959.0      3.0  2775.488    1751.8  289.226   491.260   1916.4  29.35   \n",
       "3  1959.0      4.0  2785.204    1753.7  299.356   484.052   1931.3  29.37   \n",
       "4  1960.0      1.0  2847.699    1770.5  331.722   462.199   1955.5  29.54   \n",
       "\n",
       "      m1  tbilrate  unemp      pop  infl  realint  \n",
       "0  139.7      2.82    5.8  177.146  0.00     0.00  \n",
       "1  141.7      3.08    5.1  177.830  2.34     0.74  \n",
       "2  140.5      3.82    5.3  178.657  2.74     1.09  \n",
       "3  140.0      4.33    5.6  179.386  0.27     4.06  \n",
       "4  139.6      3.50    5.2  180.007  2.31     1.19  "
      ]
     },
     "execution_count": 45,
     "metadata": {},
     "output_type": "execute_result"
    }
   ],
   "source": [
    "data = pd.read_csv('macrodata.csv')\n",
    "data.head()"
   ]
  },
  {
   "cell_type": "code",
   "execution_count": 47,
   "metadata": {},
   "outputs": [],
   "source": [
    "# year 컬럼과 quarter 컬럼을 조합해 PeriodIndex에 빈도값과 함께 전달해 색인을 만들어낸다.\n",
    "# Q-월 : 지정된 월을 해당년도의 마지막으로 하여 지정된 월의 마지막 날짜를 가리키는 분기 주기\n",
    "\n",
    "index = pd.PeriodIndex(year = data.year, quarter=data.quarter, freq='Q-DEC')"
   ]
  },
  {
   "cell_type": "code",
   "execution_count": 49,
   "metadata": {},
   "outputs": [
    {
     "data": {
      "text/plain": [
       "1959Q1    0.00\n",
       "1959Q2    2.34\n",
       "1959Q3    2.74\n",
       "1959Q4    0.27\n",
       "1960Q1    2.31\n",
       "          ... \n",
       "2008Q3   -3.16\n",
       "2008Q4   -8.79\n",
       "2009Q1    0.94\n",
       "2009Q2    3.37\n",
       "2009Q3    3.56\n",
       "Freq: Q-DEC, Name: infl, Length: 203, dtype: float64"
      ]
     },
     "execution_count": 49,
     "metadata": {},
     "output_type": "execute_result"
    }
   ],
   "source": [
    "data.index=index\n",
    "data.infl"
   ]
  },
  {
   "cell_type": "markdown",
   "metadata": {},
   "source": [
    "# 리샘플링과 빈도 변환\n",
    "리샘플링은 시계열의 빈도를 변환하는 과정을 말한다.\n",
    "- 다운샘플링: 상위->하위(더 포괄적으로)\n",
    "- 업샘플링: 하위->상위(더 상세하게)\n",
    "<br> W-WED를 W-FRI로 바꾸는 것은 리샘플링이지만 업도 다운도 아니다.\n",
    "\n",
    "pandas는 resample 메서드를 가지고 있는데, groupby와 비슷한 API를 가지고 있다."
   ]
  },
  {
   "cell_type": "code",
   "execution_count": 51,
   "metadata": {},
   "outputs": [
    {
     "data": {
      "text/plain": [
       "2000-01-01    1.758435\n",
       "2000-01-02    0.437840\n",
       "2000-01-03   -0.351490\n",
       "2000-01-04   -0.169942\n",
       "2000-01-05    1.362484\n",
       "                ...   \n",
       "2000-04-05    0.763850\n",
       "2000-04-06    1.542121\n",
       "2000-04-07   -1.690935\n",
       "2000-04-08   -0.146405\n",
       "2000-04-09   -0.530416\n",
       "Freq: D, Length: 100, dtype: float64"
      ]
     },
     "execution_count": 51,
     "metadata": {},
     "output_type": "execute_result"
    }
   ],
   "source": [
    "rng = pd.date_range('2000-01-01',periods=100,freq='D')\n",
    "ts = pd.Series(np.random.randn(len(rng)),index=rng)\n",
    "ts"
   ]
  },
  {
   "cell_type": "code",
   "execution_count": 54,
   "metadata": {},
   "outputs": [
    {
     "data": {
      "text/plain": [
       "2000-01-31    0.021777\n",
       "2000-02-29   -0.201543\n",
       "2000-03-31   -0.191396\n",
       "2000-04-30    0.120631\n",
       "Freq: M, dtype: float64"
      ]
     },
     "execution_count": 54,
     "metadata": {},
     "output_type": "execute_result"
    }
   ],
   "source": [
    "ts.resample('M').mean()"
   ]
  },
  {
   "cell_type": "code",
   "execution_count": 57,
   "metadata": {},
   "outputs": [
    {
     "data": {
      "text/html": [
       "<div>\n",
       "<style scoped>\n",
       "    .dataframe tbody tr th:only-of-type {\n",
       "        vertical-align: middle;\n",
       "    }\n",
       "\n",
       "    .dataframe tbody tr th {\n",
       "        vertical-align: top;\n",
       "    }\n",
       "\n",
       "    .dataframe thead th {\n",
       "        text-align: right;\n",
       "    }\n",
       "</style>\n",
       "<table border=\"1\" class=\"dataframe\">\n",
       "  <thead>\n",
       "    <tr style=\"text-align: right;\">\n",
       "      <th></th>\n",
       "      <th>mean</th>\n",
       "      <th>sum</th>\n",
       "    </tr>\n",
       "  </thead>\n",
       "  <tbody>\n",
       "    <tr>\n",
       "      <td>2000-01</td>\n",
       "      <td>0.021777</td>\n",
       "      <td>0.675078</td>\n",
       "    </tr>\n",
       "    <tr>\n",
       "      <td>2000-02</td>\n",
       "      <td>-0.201543</td>\n",
       "      <td>-5.844738</td>\n",
       "    </tr>\n",
       "    <tr>\n",
       "      <td>2000-03</td>\n",
       "      <td>-0.191396</td>\n",
       "      <td>-5.933279</td>\n",
       "    </tr>\n",
       "    <tr>\n",
       "      <td>2000-04</td>\n",
       "      <td>0.120631</td>\n",
       "      <td>1.085676</td>\n",
       "    </tr>\n",
       "  </tbody>\n",
       "</table>\n",
       "</div>"
      ],
      "text/plain": [
       "             mean       sum\n",
       "2000-01  0.021777  0.675078\n",
       "2000-02 -0.201543 -5.844738\n",
       "2000-03 -0.191396 -5.933279\n",
       "2000-04  0.120631  1.085676"
      ]
     },
     "execution_count": 57,
     "metadata": {},
     "output_type": "execute_result"
    }
   ],
   "source": [
    "# agg도 사용가능\n",
    "# kind 인자로 타임스탬프 or 기간 형태를 선택할 수 있음\n",
    "\n",
    "ts.resample('M',kind='period').agg(['mean','sum'])"
   ]
  },
  {
   "cell_type": "markdown",
   "metadata": {},
   "source": [
    "resample 메서드 인자에 대한 설명은 책이나 사진을 참고, freq, axis, fill_method, kind, closed, label, loffset, limit, convention 등이 있다."
   ]
  },
  {
   "cell_type": "markdown",
   "metadata": {},
   "source": [
    "## 다운샘플링\n",
    "고려사항\n",
    "- 각 간격의 양끝 중 어느쪽을 닫아둘 것인가(closed 인자)\n",
    "- 집계하려는 구간의 라벨을 간격의 시작으로 할지 끝으로 할지 여부"
   ]
  },
  {
   "cell_type": "code",
   "execution_count": 60,
   "metadata": {},
   "outputs": [
    {
     "data": {
      "text/plain": [
       "2000-01-01 00:00:00    0.875421\n",
       "2000-01-01 00:01:00    0.991710\n",
       "2000-01-01 00:02:00   -0.983068\n",
       "2000-01-01 00:03:00    0.196465\n",
       "2000-01-01 00:04:00    0.837899\n",
       "2000-01-01 00:05:00   -0.908449\n",
       "2000-01-01 00:06:00    0.256902\n",
       "2000-01-01 00:07:00   -0.371962\n",
       "2000-01-01 00:08:00   -2.395854\n",
       "2000-01-01 00:09:00   -1.066743\n",
       "2000-01-01 00:10:00    1.385698\n",
       "2000-01-01 00:11:00    0.185716\n",
       "Freq: T, dtype: float64"
      ]
     },
     "execution_count": 60,
     "metadata": {},
     "output_type": "execute_result"
    }
   ],
   "source": [
    "rng = pd.date_range('2000-01-01',periods=12,freq='T')\n",
    "ts = pd.Series(np.random.randn(len(rng)),index=rng)\n",
    "ts"
   ]
  },
  {
   "cell_type": "code",
   "execution_count": 75,
   "metadata": {},
   "outputs": [
    {
     "data": {
      "text/plain": [
       "1999-12-31 23:55:00    0.875421\n",
       "2000-01-01 00:00:00    0.134557\n",
       "2000-01-01 00:05:00   -2.191959\n",
       "2000-01-01 00:10:00    0.185716\n",
       "Freq: 5T, dtype: float64"
      ]
     },
     "execution_count": 75,
     "metadata": {},
     "output_type": "execute_result"
    }
   ],
   "source": [
    "# 각 구간의 오른쪽 값들, < 관계이지 <= 관계는 아님\n",
    "\n",
    "ts.resample('5min',closed='right').sum()"
   ]
  },
  {
   "cell_type": "code",
   "execution_count": 64,
   "metadata": {},
   "outputs": [
    {
     "data": {
      "text/plain": [
       "2000-01-01 00:00:00    1.918427\n",
       "2000-01-01 00:05:00   -4.486105\n",
       "2000-01-01 00:10:00    1.571413\n",
       "Freq: 5T, dtype: float64"
      ]
     },
     "execution_count": 64,
     "metadata": {},
     "output_type": "execute_result"
    }
   ],
   "source": [
    "# 기본값, 각 구간의 오른쪽 값인건 마찬가지, < 관계가 아닌 <=관계\n",
    "\n",
    "ts.resample('5min',closed='left').sum()"
   ]
  },
  {
   "cell_type": "code",
   "execution_count": 68,
   "metadata": {},
   "outputs": [
    {
     "data": {
      "text/plain": [
       "1999-12-31 23:59:59    0.875421\n",
       "2000-01-01 00:04:59    0.134557\n",
       "2000-01-01 00:09:59   -2.191959\n",
       "2000-01-01 00:14:59    0.185716\n",
       "Freq: 5T, dtype: float64"
      ]
     },
     "execution_count": 68,
     "metadata": {},
     "output_type": "execute_result"
    }
   ],
   "source": [
    "# loffset : 나뉜 그룹의 라벨을 맞추기 위한 오프셋, '-1s'/Second(-1)은 집계된 라벨을 1초 앞당긴다.\n",
    "# label :  다운샘플링시 집계된 결과의 라벨을 정함. 즉 구간의 양 끝 값의 왼쪽에 맞출지 오른쪽에 맞출지 결정\n",
    "\n",
    "ts.resample('5min',closed='right',label='right',loffset='-1s').agg('sum')\n",
    "# ts.resample('5min',closed='right',label='right').agg('sum').shift(-1,freq='s') 는 동일한 결과"
   ]
  },
  {
   "cell_type": "markdown",
   "metadata": {},
   "source": [
    "#### 참고)OHLC 리샘플링\n",
    "시가(open), 고가(high), 저가(low), 종가(close), 금융분야에서 흔히 쓰는 방식"
   ]
  },
  {
   "cell_type": "code",
   "execution_count": 78,
   "metadata": {},
   "outputs": [
    {
     "data": {
      "text/html": [
       "<div>\n",
       "<style scoped>\n",
       "    .dataframe tbody tr th:only-of-type {\n",
       "        vertical-align: middle;\n",
       "    }\n",
       "\n",
       "    .dataframe tbody tr th {\n",
       "        vertical-align: top;\n",
       "    }\n",
       "\n",
       "    .dataframe thead th {\n",
       "        text-align: right;\n",
       "    }\n",
       "</style>\n",
       "<table border=\"1\" class=\"dataframe\">\n",
       "  <thead>\n",
       "    <tr style=\"text-align: right;\">\n",
       "      <th></th>\n",
       "      <th>open</th>\n",
       "      <th>high</th>\n",
       "      <th>low</th>\n",
       "      <th>close</th>\n",
       "    </tr>\n",
       "  </thead>\n",
       "  <tbody>\n",
       "    <tr>\n",
       "      <td>2000-01-01 00:00:00</td>\n",
       "      <td>0.875421</td>\n",
       "      <td>0.991710</td>\n",
       "      <td>-0.983068</td>\n",
       "      <td>0.837899</td>\n",
       "    </tr>\n",
       "    <tr>\n",
       "      <td>2000-01-01 00:05:00</td>\n",
       "      <td>-0.908449</td>\n",
       "      <td>0.256902</td>\n",
       "      <td>-2.395854</td>\n",
       "      <td>-1.066743</td>\n",
       "    </tr>\n",
       "    <tr>\n",
       "      <td>2000-01-01 00:10:00</td>\n",
       "      <td>1.385698</td>\n",
       "      <td>1.385698</td>\n",
       "      <td>0.185716</td>\n",
       "      <td>0.185716</td>\n",
       "    </tr>\n",
       "  </tbody>\n",
       "</table>\n",
       "</div>"
      ],
      "text/plain": [
       "                         open      high       low     close\n",
       "2000-01-01 00:00:00  0.875421  0.991710 -0.983068  0.837899\n",
       "2000-01-01 00:05:00 -0.908449  0.256902 -2.395854 -1.066743\n",
       "2000-01-01 00:10:00  1.385698  1.385698  0.185716  0.185716"
      ]
     },
     "execution_count": 78,
     "metadata": {},
     "output_type": "execute_result"
    }
   ],
   "source": [
    "ts.resample('5min').ohlc()"
   ]
  },
  {
   "cell_type": "code",
   "execution_count": 81,
   "metadata": {},
   "outputs": [
    {
     "data": {
      "text/html": [
       "<div>\n",
       "<style scoped>\n",
       "    .dataframe tbody tr th:only-of-type {\n",
       "        vertical-align: middle;\n",
       "    }\n",
       "\n",
       "    .dataframe tbody tr th {\n",
       "        vertical-align: top;\n",
       "    }\n",
       "\n",
       "    .dataframe thead th {\n",
       "        text-align: right;\n",
       "    }\n",
       "</style>\n",
       "<table border=\"1\" class=\"dataframe\">\n",
       "  <thead>\n",
       "    <tr style=\"text-align: right;\">\n",
       "      <th></th>\n",
       "      <th>open</th>\n",
       "      <th>high</th>\n",
       "      <th>low</th>\n",
       "      <th>close</th>\n",
       "    </tr>\n",
       "  </thead>\n",
       "  <tbody>\n",
       "    <tr>\n",
       "      <td>2000-01-01 00:00:00</td>\n",
       "      <td>0.875421</td>\n",
       "      <td>0.991710</td>\n",
       "      <td>-0.983068</td>\n",
       "      <td>0.837899</td>\n",
       "    </tr>\n",
       "    <tr>\n",
       "      <td>2000-01-01 00:05:00</td>\n",
       "      <td>-0.908449</td>\n",
       "      <td>0.256902</td>\n",
       "      <td>-2.395854</td>\n",
       "      <td>-1.066743</td>\n",
       "    </tr>\n",
       "    <tr>\n",
       "      <td>2000-01-01 00:10:00</td>\n",
       "      <td>1.385698</td>\n",
       "      <td>1.385698</td>\n",
       "      <td>0.185716</td>\n",
       "      <td>0.185716</td>\n",
       "    </tr>\n",
       "  </tbody>\n",
       "</table>\n",
       "</div>"
      ],
      "text/plain": [
       "                         open      high       low     close\n",
       "2000-01-01 00:00:00  0.875421  0.991710 -0.983068  0.837899\n",
       "2000-01-01 00:05:00 -0.908449  0.256902 -2.395854 -1.066743\n",
       "2000-01-01 00:10:00  1.385698  1.385698  0.185716  0.185716"
      ]
     },
     "execution_count": 81,
     "metadata": {},
     "output_type": "execute_result"
    }
   ],
   "source": [
    "import warnings\n",
    "warnings.filterwarnings('ignore')\n",
    "\n",
    "# 동일한 결과\n",
    "ts.resample('5min',how='ohlc')"
   ]
  },
  {
   "cell_type": "markdown",
   "metadata": {},
   "source": [
    "## 업샘플링과 보간\n",
    "집계가 필요하지는 않음"
   ]
  },
  {
   "cell_type": "code",
   "execution_count": 103,
   "metadata": {},
   "outputs": [
    {
     "data": {
      "text/html": [
       "<div>\n",
       "<style scoped>\n",
       "    .dataframe tbody tr th:only-of-type {\n",
       "        vertical-align: middle;\n",
       "    }\n",
       "\n",
       "    .dataframe tbody tr th {\n",
       "        vertical-align: top;\n",
       "    }\n",
       "\n",
       "    .dataframe thead th {\n",
       "        text-align: right;\n",
       "    }\n",
       "</style>\n",
       "<table border=\"1\" class=\"dataframe\">\n",
       "  <thead>\n",
       "    <tr style=\"text-align: right;\">\n",
       "      <th></th>\n",
       "      <th>Colorado</th>\n",
       "      <th>Texas</th>\n",
       "      <th>New York</th>\n",
       "      <th>Ohio</th>\n",
       "    </tr>\n",
       "  </thead>\n",
       "  <tbody>\n",
       "    <tr>\n",
       "      <td>2000-01-05</td>\n",
       "      <td>-0.355148</td>\n",
       "      <td>0.279341</td>\n",
       "      <td>1.062755</td>\n",
       "      <td>1.187711</td>\n",
       "    </tr>\n",
       "    <tr>\n",
       "      <td>2000-01-12</td>\n",
       "      <td>0.235201</td>\n",
       "      <td>0.385644</td>\n",
       "      <td>2.530131</td>\n",
       "      <td>-1.612731</td>\n",
       "    </tr>\n",
       "  </tbody>\n",
       "</table>\n",
       "</div>"
      ],
      "text/plain": [
       "            Colorado     Texas  New York      Ohio\n",
       "2000-01-05 -0.355148  0.279341  1.062755  1.187711\n",
       "2000-01-12  0.235201  0.385644  2.530131 -1.612731"
      ]
     },
     "execution_count": 103,
     "metadata": {},
     "output_type": "execute_result"
    }
   ],
   "source": [
    "df = pd.DataFrame(np.random.randn(2,4),index=pd.date_range('1/1/2000',periods=2,freq='W-WED'),\n",
    "                  columns=['Colorado','Texas','New York','Ohio'])\n",
    "df"
   ]
  },
  {
   "cell_type": "code",
   "execution_count": 104,
   "metadata": {},
   "outputs": [
    {
     "data": {
      "text/html": [
       "<div>\n",
       "<style scoped>\n",
       "    .dataframe tbody tr th:only-of-type {\n",
       "        vertical-align: middle;\n",
       "    }\n",
       "\n",
       "    .dataframe tbody tr th {\n",
       "        vertical-align: top;\n",
       "    }\n",
       "\n",
       "    .dataframe thead th {\n",
       "        text-align: right;\n",
       "    }\n",
       "</style>\n",
       "<table border=\"1\" class=\"dataframe\">\n",
       "  <thead>\n",
       "    <tr style=\"text-align: right;\">\n",
       "      <th></th>\n",
       "      <th>Colorado</th>\n",
       "      <th>Texas</th>\n",
       "      <th>New York</th>\n",
       "      <th>Ohio</th>\n",
       "    </tr>\n",
       "  </thead>\n",
       "  <tbody>\n",
       "    <tr>\n",
       "      <td>2000-01-05</td>\n",
       "      <td>-0.355148</td>\n",
       "      <td>0.279341</td>\n",
       "      <td>1.062755</td>\n",
       "      <td>1.187711</td>\n",
       "    </tr>\n",
       "    <tr>\n",
       "      <td>2000-01-06</td>\n",
       "      <td>NaN</td>\n",
       "      <td>NaN</td>\n",
       "      <td>NaN</td>\n",
       "      <td>NaN</td>\n",
       "    </tr>\n",
       "    <tr>\n",
       "      <td>2000-01-07</td>\n",
       "      <td>NaN</td>\n",
       "      <td>NaN</td>\n",
       "      <td>NaN</td>\n",
       "      <td>NaN</td>\n",
       "    </tr>\n",
       "    <tr>\n",
       "      <td>2000-01-08</td>\n",
       "      <td>NaN</td>\n",
       "      <td>NaN</td>\n",
       "      <td>NaN</td>\n",
       "      <td>NaN</td>\n",
       "    </tr>\n",
       "    <tr>\n",
       "      <td>2000-01-09</td>\n",
       "      <td>NaN</td>\n",
       "      <td>NaN</td>\n",
       "      <td>NaN</td>\n",
       "      <td>NaN</td>\n",
       "    </tr>\n",
       "    <tr>\n",
       "      <td>2000-01-10</td>\n",
       "      <td>NaN</td>\n",
       "      <td>NaN</td>\n",
       "      <td>NaN</td>\n",
       "      <td>NaN</td>\n",
       "    </tr>\n",
       "    <tr>\n",
       "      <td>2000-01-11</td>\n",
       "      <td>NaN</td>\n",
       "      <td>NaN</td>\n",
       "      <td>NaN</td>\n",
       "      <td>NaN</td>\n",
       "    </tr>\n",
       "    <tr>\n",
       "      <td>2000-01-12</td>\n",
       "      <td>0.235201</td>\n",
       "      <td>0.385644</td>\n",
       "      <td>2.530131</td>\n",
       "      <td>-1.612731</td>\n",
       "    </tr>\n",
       "  </tbody>\n",
       "</table>\n",
       "</div>"
      ],
      "text/plain": [
       "            Colorado     Texas  New York      Ohio\n",
       "2000-01-05 -0.355148  0.279341  1.062755  1.187711\n",
       "2000-01-06       NaN       NaN       NaN       NaN\n",
       "2000-01-07       NaN       NaN       NaN       NaN\n",
       "2000-01-08       NaN       NaN       NaN       NaN\n",
       "2000-01-09       NaN       NaN       NaN       NaN\n",
       "2000-01-10       NaN       NaN       NaN       NaN\n",
       "2000-01-11       NaN       NaN       NaN       NaN\n",
       "2000-01-12  0.235201  0.385644  2.530131 -1.612731"
      ]
     },
     "execution_count": 104,
     "metadata": {},
     "output_type": "execute_result"
    }
   ],
   "source": [
    "df_upresample = df.resample('D').asfreq()\n",
    "df_upresample"
   ]
  },
  {
   "cell_type": "code",
   "execution_count": 105,
   "metadata": {},
   "outputs": [
    {
     "data": {
      "text/html": [
       "<div>\n",
       "<style scoped>\n",
       "    .dataframe tbody tr th:only-of-type {\n",
       "        vertical-align: middle;\n",
       "    }\n",
       "\n",
       "    .dataframe tbody tr th {\n",
       "        vertical-align: top;\n",
       "    }\n",
       "\n",
       "    .dataframe thead th {\n",
       "        text-align: right;\n",
       "    }\n",
       "</style>\n",
       "<table border=\"1\" class=\"dataframe\">\n",
       "  <thead>\n",
       "    <tr style=\"text-align: right;\">\n",
       "      <th></th>\n",
       "      <th>Colorado</th>\n",
       "      <th>Texas</th>\n",
       "      <th>New York</th>\n",
       "      <th>Ohio</th>\n",
       "    </tr>\n",
       "  </thead>\n",
       "  <tbody>\n",
       "    <tr>\n",
       "      <td>2000-01-05</td>\n",
       "      <td>-0.355148</td>\n",
       "      <td>0.279341</td>\n",
       "      <td>1.062755</td>\n",
       "      <td>1.187711</td>\n",
       "    </tr>\n",
       "    <tr>\n",
       "      <td>2000-01-06</td>\n",
       "      <td>-0.355148</td>\n",
       "      <td>0.279341</td>\n",
       "      <td>1.062755</td>\n",
       "      <td>1.187711</td>\n",
       "    </tr>\n",
       "    <tr>\n",
       "      <td>2000-01-07</td>\n",
       "      <td>-0.355148</td>\n",
       "      <td>0.279341</td>\n",
       "      <td>1.062755</td>\n",
       "      <td>1.187711</td>\n",
       "    </tr>\n",
       "    <tr>\n",
       "      <td>2000-01-08</td>\n",
       "      <td>-0.355148</td>\n",
       "      <td>0.279341</td>\n",
       "      <td>1.062755</td>\n",
       "      <td>1.187711</td>\n",
       "    </tr>\n",
       "    <tr>\n",
       "      <td>2000-01-09</td>\n",
       "      <td>-0.355148</td>\n",
       "      <td>0.279341</td>\n",
       "      <td>1.062755</td>\n",
       "      <td>1.187711</td>\n",
       "    </tr>\n",
       "    <tr>\n",
       "      <td>2000-01-10</td>\n",
       "      <td>-0.355148</td>\n",
       "      <td>0.279341</td>\n",
       "      <td>1.062755</td>\n",
       "      <td>1.187711</td>\n",
       "    </tr>\n",
       "    <tr>\n",
       "      <td>2000-01-11</td>\n",
       "      <td>-0.355148</td>\n",
       "      <td>0.279341</td>\n",
       "      <td>1.062755</td>\n",
       "      <td>1.187711</td>\n",
       "    </tr>\n",
       "    <tr>\n",
       "      <td>2000-01-12</td>\n",
       "      <td>0.235201</td>\n",
       "      <td>0.385644</td>\n",
       "      <td>2.530131</td>\n",
       "      <td>-1.612731</td>\n",
       "    </tr>\n",
       "  </tbody>\n",
       "</table>\n",
       "</div>"
      ],
      "text/plain": [
       "            Colorado     Texas  New York      Ohio\n",
       "2000-01-05 -0.355148  0.279341  1.062755  1.187711\n",
       "2000-01-06 -0.355148  0.279341  1.062755  1.187711\n",
       "2000-01-07 -0.355148  0.279341  1.062755  1.187711\n",
       "2000-01-08 -0.355148  0.279341  1.062755  1.187711\n",
       "2000-01-09 -0.355148  0.279341  1.062755  1.187711\n",
       "2000-01-10 -0.355148  0.279341  1.062755  1.187711\n",
       "2000-01-11 -0.355148  0.279341  1.062755  1.187711\n",
       "2000-01-12  0.235201  0.385644  2.530131 -1.612731"
      ]
     },
     "execution_count": 105,
     "metadata": {},
     "output_type": "execute_result"
    }
   ],
   "source": [
    "# 보간\n",
    "df_upresample = df.resample('D').ffill()\n",
    "df_upresample"
   ]
  },
  {
   "cell_type": "code",
   "execution_count": 106,
   "metadata": {},
   "outputs": [
    {
     "data": {
      "text/html": [
       "<div>\n",
       "<style scoped>\n",
       "    .dataframe tbody tr th:only-of-type {\n",
       "        vertical-align: middle;\n",
       "    }\n",
       "\n",
       "    .dataframe tbody tr th {\n",
       "        vertical-align: top;\n",
       "    }\n",
       "\n",
       "    .dataframe thead th {\n",
       "        text-align: right;\n",
       "    }\n",
       "</style>\n",
       "<table border=\"1\" class=\"dataframe\">\n",
       "  <thead>\n",
       "    <tr style=\"text-align: right;\">\n",
       "      <th></th>\n",
       "      <th>Colorado</th>\n",
       "      <th>Texas</th>\n",
       "      <th>New York</th>\n",
       "      <th>Ohio</th>\n",
       "    </tr>\n",
       "  </thead>\n",
       "  <tbody>\n",
       "    <tr>\n",
       "      <td>2000-01-05</td>\n",
       "      <td>-0.355148</td>\n",
       "      <td>0.279341</td>\n",
       "      <td>1.062755</td>\n",
       "      <td>1.187711</td>\n",
       "    </tr>\n",
       "    <tr>\n",
       "      <td>2000-01-06</td>\n",
       "      <td>NaN</td>\n",
       "      <td>NaN</td>\n",
       "      <td>NaN</td>\n",
       "      <td>NaN</td>\n",
       "    </tr>\n",
       "    <tr>\n",
       "      <td>2000-01-07</td>\n",
       "      <td>NaN</td>\n",
       "      <td>NaN</td>\n",
       "      <td>NaN</td>\n",
       "      <td>NaN</td>\n",
       "    </tr>\n",
       "    <tr>\n",
       "      <td>2000-01-08</td>\n",
       "      <td>NaN</td>\n",
       "      <td>NaN</td>\n",
       "      <td>NaN</td>\n",
       "      <td>NaN</td>\n",
       "    </tr>\n",
       "    <tr>\n",
       "      <td>2000-01-09</td>\n",
       "      <td>NaN</td>\n",
       "      <td>NaN</td>\n",
       "      <td>NaN</td>\n",
       "      <td>NaN</td>\n",
       "    </tr>\n",
       "    <tr>\n",
       "      <td>2000-01-10</td>\n",
       "      <td>0.235201</td>\n",
       "      <td>0.385644</td>\n",
       "      <td>2.530131</td>\n",
       "      <td>-1.612731</td>\n",
       "    </tr>\n",
       "    <tr>\n",
       "      <td>2000-01-11</td>\n",
       "      <td>0.235201</td>\n",
       "      <td>0.385644</td>\n",
       "      <td>2.530131</td>\n",
       "      <td>-1.612731</td>\n",
       "    </tr>\n",
       "    <tr>\n",
       "      <td>2000-01-12</td>\n",
       "      <td>0.235201</td>\n",
       "      <td>0.385644</td>\n",
       "      <td>2.530131</td>\n",
       "      <td>-1.612731</td>\n",
       "    </tr>\n",
       "  </tbody>\n",
       "</table>\n",
       "</div>"
      ],
      "text/plain": [
       "            Colorado     Texas  New York      Ohio\n",
       "2000-01-05 -0.355148  0.279341  1.062755  1.187711\n",
       "2000-01-06       NaN       NaN       NaN       NaN\n",
       "2000-01-07       NaN       NaN       NaN       NaN\n",
       "2000-01-08       NaN       NaN       NaN       NaN\n",
       "2000-01-09       NaN       NaN       NaN       NaN\n",
       "2000-01-10  0.235201  0.385644  2.530131 -1.612731\n",
       "2000-01-11  0.235201  0.385644  2.530131 -1.612731\n",
       "2000-01-12  0.235201  0.385644  2.530131 -1.612731"
      ]
     },
     "execution_count": 106,
     "metadata": {},
     "output_type": "execute_result"
    }
   ],
   "source": [
    "# limit옵션으로 보간의 범위를 지정(보통의 fillna 함수에서도 사용가능)\n",
    "df.resample('D').bfill(limit=2)"
   ]
  },
  {
   "cell_type": "code",
   "execution_count": 109,
   "metadata": {},
   "outputs": [
    {
     "data": {
      "text/html": [
       "<div>\n",
       "<style scoped>\n",
       "    .dataframe tbody tr th:only-of-type {\n",
       "        vertical-align: middle;\n",
       "    }\n",
       "\n",
       "    .dataframe tbody tr th {\n",
       "        vertical-align: top;\n",
       "    }\n",
       "\n",
       "    .dataframe thead th {\n",
       "        text-align: right;\n",
       "    }\n",
       "</style>\n",
       "<table border=\"1\" class=\"dataframe\">\n",
       "  <thead>\n",
       "    <tr style=\"text-align: right;\">\n",
       "      <th></th>\n",
       "      <th>Colorado</th>\n",
       "      <th>Texas</th>\n",
       "      <th>New York</th>\n",
       "      <th>Ohio</th>\n",
       "    </tr>\n",
       "  </thead>\n",
       "  <tbody>\n",
       "    <tr>\n",
       "      <td>2000-01-06</td>\n",
       "      <td>-0.355148</td>\n",
       "      <td>0.279341</td>\n",
       "      <td>1.062755</td>\n",
       "      <td>1.187711</td>\n",
       "    </tr>\n",
       "    <tr>\n",
       "      <td>2000-01-13</td>\n",
       "      <td>0.235201</td>\n",
       "      <td>0.385644</td>\n",
       "      <td>2.530131</td>\n",
       "      <td>-1.612731</td>\n",
       "    </tr>\n",
       "  </tbody>\n",
       "</table>\n",
       "</div>"
      ],
      "text/plain": [
       "            Colorado     Texas  New York      Ohio\n",
       "2000-01-06 -0.355148  0.279341  1.062755  1.187711\n",
       "2000-01-13  0.235201  0.385644  2.530131 -1.612731"
      ]
     },
     "execution_count": 109,
     "metadata": {},
     "output_type": "execute_result"
    }
   ],
   "source": [
    "# 새 날짜 색인은 이전 색인과 겹칠 필요가 없음\n",
    "df.resample('W-THU').sum()"
   ]
  },
  {
   "cell_type": "code",
   "execution_count": 108,
   "metadata": {},
   "outputs": [
    {
     "data": {
      "text/html": [
       "<div>\n",
       "<style scoped>\n",
       "    .dataframe tbody tr th:only-of-type {\n",
       "        vertical-align: middle;\n",
       "    }\n",
       "\n",
       "    .dataframe tbody tr th {\n",
       "        vertical-align: top;\n",
       "    }\n",
       "\n",
       "    .dataframe thead th {\n",
       "        text-align: right;\n",
       "    }\n",
       "</style>\n",
       "<table border=\"1\" class=\"dataframe\">\n",
       "  <thead>\n",
       "    <tr style=\"text-align: right;\">\n",
       "      <th></th>\n",
       "      <th>Colorado</th>\n",
       "      <th>Texas</th>\n",
       "      <th>New York</th>\n",
       "      <th>Ohio</th>\n",
       "    </tr>\n",
       "  </thead>\n",
       "  <tbody>\n",
       "    <tr>\n",
       "      <td>2000-01-06</td>\n",
       "      <td>-0.355148</td>\n",
       "      <td>0.279341</td>\n",
       "      <td>1.062755</td>\n",
       "      <td>1.187711</td>\n",
       "    </tr>\n",
       "    <tr>\n",
       "      <td>2000-01-13</td>\n",
       "      <td>0.235201</td>\n",
       "      <td>0.385644</td>\n",
       "      <td>2.530131</td>\n",
       "      <td>-1.612731</td>\n",
       "    </tr>\n",
       "  </tbody>\n",
       "</table>\n",
       "</div>"
      ],
      "text/plain": [
       "            Colorado     Texas  New York      Ohio\n",
       "2000-01-06 -0.355148  0.279341  1.062755  1.187711\n",
       "2000-01-13  0.235201  0.385644  2.530131 -1.612731"
      ]
     },
     "execution_count": 108,
     "metadata": {},
     "output_type": "execute_result"
    }
   ],
   "source": [
    "df.resample('W-THU').ffill()"
   ]
  },
  {
   "cell_type": "markdown",
   "metadata": {},
   "source": [
    "## 기간 리샘플링"
   ]
  },
  {
   "cell_type": "code",
   "execution_count": 110,
   "metadata": {},
   "outputs": [
    {
     "data": {
      "text/html": [
       "<div>\n",
       "<style scoped>\n",
       "    .dataframe tbody tr th:only-of-type {\n",
       "        vertical-align: middle;\n",
       "    }\n",
       "\n",
       "    .dataframe tbody tr th {\n",
       "        vertical-align: top;\n",
       "    }\n",
       "\n",
       "    .dataframe thead th {\n",
       "        text-align: right;\n",
       "    }\n",
       "</style>\n",
       "<table border=\"1\" class=\"dataframe\">\n",
       "  <thead>\n",
       "    <tr style=\"text-align: right;\">\n",
       "      <th></th>\n",
       "      <th>Colorado</th>\n",
       "      <th>Texas</th>\n",
       "      <th>New York</th>\n",
       "      <th>Ohio</th>\n",
       "    </tr>\n",
       "  </thead>\n",
       "  <tbody>\n",
       "    <tr>\n",
       "      <td>2000-01</td>\n",
       "      <td>-0.066746</td>\n",
       "      <td>-0.109659</td>\n",
       "      <td>1.700841</td>\n",
       "      <td>0.161942</td>\n",
       "    </tr>\n",
       "    <tr>\n",
       "      <td>2000-02</td>\n",
       "      <td>-0.685687</td>\n",
       "      <td>0.242735</td>\n",
       "      <td>-0.775320</td>\n",
       "      <td>0.212368</td>\n",
       "    </tr>\n",
       "    <tr>\n",
       "      <td>2000-03</td>\n",
       "      <td>-0.189183</td>\n",
       "      <td>-0.533590</td>\n",
       "      <td>0.500145</td>\n",
       "      <td>0.421253</td>\n",
       "    </tr>\n",
       "    <tr>\n",
       "      <td>2000-04</td>\n",
       "      <td>-0.299938</td>\n",
       "      <td>-1.790720</td>\n",
       "      <td>0.762470</td>\n",
       "      <td>-1.017969</td>\n",
       "    </tr>\n",
       "    <tr>\n",
       "      <td>2000-05</td>\n",
       "      <td>0.079460</td>\n",
       "      <td>-0.192241</td>\n",
       "      <td>-0.599762</td>\n",
       "      <td>0.355887</td>\n",
       "    </tr>\n",
       "  </tbody>\n",
       "</table>\n",
       "</div>"
      ],
      "text/plain": [
       "         Colorado     Texas  New York      Ohio\n",
       "2000-01 -0.066746 -0.109659  1.700841  0.161942\n",
       "2000-02 -0.685687  0.242735 -0.775320  0.212368\n",
       "2000-03 -0.189183 -0.533590  0.500145  0.421253\n",
       "2000-04 -0.299938 -1.790720  0.762470 -1.017969\n",
       "2000-05  0.079460 -0.192241 -0.599762  0.355887"
      ]
     },
     "execution_count": 110,
     "metadata": {},
     "output_type": "execute_result"
    }
   ],
   "source": [
    "df = pd.DataFrame(np.random.randn(24,4),index=pd.period_range('1-2000','12-2001',freq='M'),\n",
    "                 columns=['Colorado','Texas','New York','Ohio'])\n",
    "df.head()"
   ]
  },
  {
   "cell_type": "code",
   "execution_count": 111,
   "metadata": {},
   "outputs": [
    {
     "data": {
      "text/html": [
       "<div>\n",
       "<style scoped>\n",
       "    .dataframe tbody tr th:only-of-type {\n",
       "        vertical-align: middle;\n",
       "    }\n",
       "\n",
       "    .dataframe tbody tr th {\n",
       "        vertical-align: top;\n",
       "    }\n",
       "\n",
       "    .dataframe thead th {\n",
       "        text-align: right;\n",
       "    }\n",
       "</style>\n",
       "<table border=\"1\" class=\"dataframe\">\n",
       "  <thead>\n",
       "    <tr style=\"text-align: right;\">\n",
       "      <th></th>\n",
       "      <th>Colorado</th>\n",
       "      <th>Texas</th>\n",
       "      <th>New York</th>\n",
       "      <th>Ohio</th>\n",
       "    </tr>\n",
       "  </thead>\n",
       "  <tbody>\n",
       "    <tr>\n",
       "      <td>2000</td>\n",
       "      <td>0.007061</td>\n",
       "      <td>-0.450750</td>\n",
       "      <td>0.001314</td>\n",
       "      <td>0.265317</td>\n",
       "    </tr>\n",
       "    <tr>\n",
       "      <td>2001</td>\n",
       "      <td>0.031408</td>\n",
       "      <td>-0.217711</td>\n",
       "      <td>-0.302498</td>\n",
       "      <td>0.245231</td>\n",
       "    </tr>\n",
       "  </tbody>\n",
       "</table>\n",
       "</div>"
      ],
      "text/plain": [
       "      Colorado     Texas  New York      Ohio\n",
       "2000  0.007061 -0.450750  0.001314  0.265317\n",
       "2001  0.031408 -0.217711 -0.302498  0.245231"
      ]
     },
     "execution_count": 111,
     "metadata": {},
     "output_type": "execute_result"
    }
   ],
   "source": [
    "# 다운샘플링\n",
    "# A-DEC : 주어진 월의 마지막 일을 가리키는 연간주기\n",
    "\n",
    "df_re = df.resample('A-DEC').mean()\n",
    "df_re"
   ]
  },
  {
   "cell_type": "code",
   "execution_count": 112,
   "metadata": {},
   "outputs": [
    {
     "data": {
      "text/html": [
       "<div>\n",
       "<style scoped>\n",
       "    .dataframe tbody tr th:only-of-type {\n",
       "        vertical-align: middle;\n",
       "    }\n",
       "\n",
       "    .dataframe tbody tr th {\n",
       "        vertical-align: top;\n",
       "    }\n",
       "\n",
       "    .dataframe thead th {\n",
       "        text-align: right;\n",
       "    }\n",
       "</style>\n",
       "<table border=\"1\" class=\"dataframe\">\n",
       "  <thead>\n",
       "    <tr style=\"text-align: right;\">\n",
       "      <th></th>\n",
       "      <th>Colorado</th>\n",
       "      <th>Texas</th>\n",
       "      <th>New York</th>\n",
       "      <th>Ohio</th>\n",
       "    </tr>\n",
       "  </thead>\n",
       "  <tbody>\n",
       "    <tr>\n",
       "      <td>2000Q1</td>\n",
       "      <td>0.007061</td>\n",
       "      <td>-0.450750</td>\n",
       "      <td>0.001314</td>\n",
       "      <td>0.265317</td>\n",
       "    </tr>\n",
       "    <tr>\n",
       "      <td>2000Q2</td>\n",
       "      <td>0.007061</td>\n",
       "      <td>-0.450750</td>\n",
       "      <td>0.001314</td>\n",
       "      <td>0.265317</td>\n",
       "    </tr>\n",
       "    <tr>\n",
       "      <td>2000Q3</td>\n",
       "      <td>0.007061</td>\n",
       "      <td>-0.450750</td>\n",
       "      <td>0.001314</td>\n",
       "      <td>0.265317</td>\n",
       "    </tr>\n",
       "    <tr>\n",
       "      <td>2000Q4</td>\n",
       "      <td>0.007061</td>\n",
       "      <td>-0.450750</td>\n",
       "      <td>0.001314</td>\n",
       "      <td>0.265317</td>\n",
       "    </tr>\n",
       "    <tr>\n",
       "      <td>2001Q1</td>\n",
       "      <td>0.031408</td>\n",
       "      <td>-0.217711</td>\n",
       "      <td>-0.302498</td>\n",
       "      <td>0.245231</td>\n",
       "    </tr>\n",
       "    <tr>\n",
       "      <td>2001Q2</td>\n",
       "      <td>0.031408</td>\n",
       "      <td>-0.217711</td>\n",
       "      <td>-0.302498</td>\n",
       "      <td>0.245231</td>\n",
       "    </tr>\n",
       "    <tr>\n",
       "      <td>2001Q3</td>\n",
       "      <td>0.031408</td>\n",
       "      <td>-0.217711</td>\n",
       "      <td>-0.302498</td>\n",
       "      <td>0.245231</td>\n",
       "    </tr>\n",
       "    <tr>\n",
       "      <td>2001Q4</td>\n",
       "      <td>0.031408</td>\n",
       "      <td>-0.217711</td>\n",
       "      <td>-0.302498</td>\n",
       "      <td>0.245231</td>\n",
       "    </tr>\n",
       "  </tbody>\n",
       "</table>\n",
       "</div>"
      ],
      "text/plain": [
       "        Colorado     Texas  New York      Ohio\n",
       "2000Q1  0.007061 -0.450750  0.001314  0.265317\n",
       "2000Q2  0.007061 -0.450750  0.001314  0.265317\n",
       "2000Q3  0.007061 -0.450750  0.001314  0.265317\n",
       "2000Q4  0.007061 -0.450750  0.001314  0.265317\n",
       "2001Q1  0.031408 -0.217711 -0.302498  0.245231\n",
       "2001Q2  0.031408 -0.217711 -0.302498  0.245231\n",
       "2001Q3  0.031408 -0.217711 -0.302498  0.245231\n",
       "2001Q4  0.031408 -0.217711 -0.302498  0.245231"
      ]
     },
     "execution_count": 112,
     "metadata": {},
     "output_type": "execute_result"
    }
   ],
   "source": [
    "# 업샘플링\n",
    "\n",
    "df_re.resample('Q-DEC').ffill()"
   ]
  },
  {
   "cell_type": "markdown",
   "metadata": {},
   "source": [
    "기간의 업샘플링과 다운샘플링은 몇가지 규칙이 따른다.\n",
    "- 다운샘플링의 경우 대상 빈도는 반드시 원본 빈도의 하위 기간이어야 한다.\n",
    "- 업샘플링의 경우 대상 빈도는 반드시 원본 빈도의 상위 기간이어야 한다."
   ]
  },
  {
   "cell_type": "code",
   "execution_count": 113,
   "metadata": {},
   "outputs": [
    {
     "data": {
      "text/html": [
       "<div>\n",
       "<style scoped>\n",
       "    .dataframe tbody tr th:only-of-type {\n",
       "        vertical-align: middle;\n",
       "    }\n",
       "\n",
       "    .dataframe tbody tr th {\n",
       "        vertical-align: top;\n",
       "    }\n",
       "\n",
       "    .dataframe thead th {\n",
       "        text-align: right;\n",
       "    }\n",
       "</style>\n",
       "<table border=\"1\" class=\"dataframe\">\n",
       "  <thead>\n",
       "    <tr style=\"text-align: right;\">\n",
       "      <th></th>\n",
       "      <th>Colorado</th>\n",
       "      <th>Texas</th>\n",
       "      <th>New York</th>\n",
       "      <th>Ohio</th>\n",
       "    </tr>\n",
       "  </thead>\n",
       "  <tbody>\n",
       "    <tr>\n",
       "      <td>2000Q4</td>\n",
       "      <td>0.007061</td>\n",
       "      <td>-0.450750</td>\n",
       "      <td>0.001314</td>\n",
       "      <td>0.265317</td>\n",
       "    </tr>\n",
       "    <tr>\n",
       "      <td>2001Q1</td>\n",
       "      <td>0.007061</td>\n",
       "      <td>-0.450750</td>\n",
       "      <td>0.001314</td>\n",
       "      <td>0.265317</td>\n",
       "    </tr>\n",
       "    <tr>\n",
       "      <td>2001Q2</td>\n",
       "      <td>0.007061</td>\n",
       "      <td>-0.450750</td>\n",
       "      <td>0.001314</td>\n",
       "      <td>0.265317</td>\n",
       "    </tr>\n",
       "    <tr>\n",
       "      <td>2001Q3</td>\n",
       "      <td>0.007061</td>\n",
       "      <td>-0.450750</td>\n",
       "      <td>0.001314</td>\n",
       "      <td>0.265317</td>\n",
       "    </tr>\n",
       "    <tr>\n",
       "      <td>2001Q4</td>\n",
       "      <td>0.031408</td>\n",
       "      <td>-0.217711</td>\n",
       "      <td>-0.302498</td>\n",
       "      <td>0.245231</td>\n",
       "    </tr>\n",
       "    <tr>\n",
       "      <td>2002Q1</td>\n",
       "      <td>0.031408</td>\n",
       "      <td>-0.217711</td>\n",
       "      <td>-0.302498</td>\n",
       "      <td>0.245231</td>\n",
       "    </tr>\n",
       "    <tr>\n",
       "      <td>2002Q2</td>\n",
       "      <td>0.031408</td>\n",
       "      <td>-0.217711</td>\n",
       "      <td>-0.302498</td>\n",
       "      <td>0.245231</td>\n",
       "    </tr>\n",
       "    <tr>\n",
       "      <td>2002Q3</td>\n",
       "      <td>0.031408</td>\n",
       "      <td>-0.217711</td>\n",
       "      <td>-0.302498</td>\n",
       "      <td>0.245231</td>\n",
       "    </tr>\n",
       "  </tbody>\n",
       "</table>\n",
       "</div>"
      ],
      "text/plain": [
       "        Colorado     Texas  New York      Ohio\n",
       "2000Q4  0.007061 -0.450750  0.001314  0.265317\n",
       "2001Q1  0.007061 -0.450750  0.001314  0.265317\n",
       "2001Q2  0.007061 -0.450750  0.001314  0.265317\n",
       "2001Q3  0.007061 -0.450750  0.001314  0.265317\n",
       "2001Q4  0.031408 -0.217711 -0.302498  0.245231\n",
       "2002Q1  0.031408 -0.217711 -0.302498  0.245231\n",
       "2002Q2  0.031408 -0.217711 -0.302498  0.245231\n",
       "2002Q3  0.031408 -0.217711 -0.302498  0.245231"
      ]
     },
     "execution_count": 113,
     "metadata": {},
     "output_type": "execute_result"
    }
   ],
   "source": [
    "df_re.resample('Q-MAR').ffill()"
   ]
  },
  {
   "cell_type": "markdown",
   "metadata": {},
   "source": [
    "# 이동창 함수(moving window function)"
   ]
  },
  {
   "cell_type": "markdown",
   "metadata": {},
   "source": [
    "시계열 연산에서는 통계 등의 함수들을 이용해 누락된 데이터를 매끄럽게 다듬는 기술 등이 매우 중요하다.<br>\n",
    "moving window function이란 고정된 크기의 창을 가지지 않는 함수들을 말한다."
   ]
  },
  {
   "cell_type": "code",
   "execution_count": 2,
   "metadata": {},
   "outputs": [],
   "source": [
    "from matplotlib import font_manager, rc\n",
    "import matplotlib.pyplot as plt\n",
    "import seaborn as sns\n",
    "import platform\n",
    "\n",
    "# 그래프에서 한글 표기를 위한 글꼴 변경(윈도우)\n",
    "font_path = ''\n",
    "font_path = 'c:/Windows/Fonts/malgun.ttf'\n",
    "font_name = font_manager.FontProperties(fname = font_path).get_name()\n",
    "rc('font',family = font_name)\n"
   ]
  },
  {
   "cell_type": "code",
   "execution_count": 3,
   "metadata": {},
   "outputs": [
    {
     "data": {
      "text/html": [
       "<div>\n",
       "<style scoped>\n",
       "    .dataframe tbody tr th:only-of-type {\n",
       "        vertical-align: middle;\n",
       "    }\n",
       "\n",
       "    .dataframe tbody tr th {\n",
       "        vertical-align: top;\n",
       "    }\n",
       "\n",
       "    .dataframe thead th {\n",
       "        text-align: right;\n",
       "    }\n",
       "</style>\n",
       "<table border=\"1\" class=\"dataframe\">\n",
       "  <thead>\n",
       "    <tr style=\"text-align: right;\">\n",
       "      <th></th>\n",
       "      <th>AAPL</th>\n",
       "      <th>MSFT</th>\n",
       "      <th>XOM</th>\n",
       "      <th>SPX</th>\n",
       "    </tr>\n",
       "  </thead>\n",
       "  <tbody>\n",
       "    <tr>\n",
       "      <td>2011-10-10</td>\n",
       "      <td>388.81</td>\n",
       "      <td>26.94</td>\n",
       "      <td>76.28</td>\n",
       "      <td>1194.89</td>\n",
       "    </tr>\n",
       "    <tr>\n",
       "      <td>2011-10-11</td>\n",
       "      <td>400.29</td>\n",
       "      <td>27.00</td>\n",
       "      <td>76.27</td>\n",
       "      <td>1195.54</td>\n",
       "    </tr>\n",
       "    <tr>\n",
       "      <td>2011-10-12</td>\n",
       "      <td>402.19</td>\n",
       "      <td>26.96</td>\n",
       "      <td>77.16</td>\n",
       "      <td>1207.25</td>\n",
       "    </tr>\n",
       "    <tr>\n",
       "      <td>2011-10-13</td>\n",
       "      <td>408.43</td>\n",
       "      <td>27.18</td>\n",
       "      <td>76.37</td>\n",
       "      <td>1203.66</td>\n",
       "    </tr>\n",
       "    <tr>\n",
       "      <td>2011-10-14</td>\n",
       "      <td>422.00</td>\n",
       "      <td>27.27</td>\n",
       "      <td>78.11</td>\n",
       "      <td>1224.58</td>\n",
       "    </tr>\n",
       "  </tbody>\n",
       "</table>\n",
       "</div>"
      ],
      "text/plain": [
       "              AAPL   MSFT    XOM      SPX\n",
       "2011-10-10  388.81  26.94  76.28  1194.89\n",
       "2011-10-11  400.29  27.00  76.27  1195.54\n",
       "2011-10-12  402.19  26.96  77.16  1207.25\n",
       "2011-10-13  408.43  27.18  76.37  1203.66\n",
       "2011-10-14  422.00  27.27  78.11  1224.58"
      ]
     },
     "execution_count": 3,
     "metadata": {},
     "output_type": "execute_result"
    }
   ],
   "source": [
    "# parse_dates를 True로 함으로서 timestamp indexe들이 깔끔해졌다.\n",
    "close_px_all = pd.read_csv('stock_px_2.csv',parse_dates=True,index_col=0)\n",
    "close_px_all.tail()"
   ]
  },
  {
   "cell_type": "code",
   "execution_count": 4,
   "metadata": {},
   "outputs": [],
   "source": [
    "close_px = close_px_all.drop('SPX',axis=1)"
   ]
  },
  {
   "cell_type": "code",
   "execution_count": 17,
   "metadata": {},
   "outputs": [
    {
     "data": {
      "text/html": [
       "<div>\n",
       "<style scoped>\n",
       "    .dataframe tbody tr th:only-of-type {\n",
       "        vertical-align: middle;\n",
       "    }\n",
       "\n",
       "    .dataframe tbody tr th {\n",
       "        vertical-align: top;\n",
       "    }\n",
       "\n",
       "    .dataframe thead th {\n",
       "        text-align: right;\n",
       "    }\n",
       "</style>\n",
       "<table border=\"1\" class=\"dataframe\">\n",
       "  <thead>\n",
       "    <tr style=\"text-align: right;\">\n",
       "      <th></th>\n",
       "      <th>AAPL</th>\n",
       "      <th>MSFT</th>\n",
       "      <th>XOM</th>\n",
       "    </tr>\n",
       "  </thead>\n",
       "  <tbody>\n",
       "    <tr>\n",
       "      <td>2003-01-30</td>\n",
       "      <td>7.16</td>\n",
       "      <td>18.95</td>\n",
       "      <td>27.37</td>\n",
       "    </tr>\n",
       "    <tr>\n",
       "      <td>2003-01-31</td>\n",
       "      <td>7.18</td>\n",
       "      <td>18.65</td>\n",
       "      <td>28.13</td>\n",
       "    </tr>\n",
       "    <tr>\n",
       "      <td>2003-02-03</td>\n",
       "      <td>7.33</td>\n",
       "      <td>19.08</td>\n",
       "      <td>28.52</td>\n",
       "    </tr>\n",
       "    <tr>\n",
       "      <td>2003-02-04</td>\n",
       "      <td>7.30</td>\n",
       "      <td>18.59</td>\n",
       "      <td>28.52</td>\n",
       "    </tr>\n",
       "    <tr>\n",
       "      <td>2003-02-05</td>\n",
       "      <td>7.22</td>\n",
       "      <td>18.45</td>\n",
       "      <td>28.11</td>\n",
       "    </tr>\n",
       "    <tr>\n",
       "      <td>2003-02-06</td>\n",
       "      <td>7.22</td>\n",
       "      <td>18.63</td>\n",
       "      <td>27.87</td>\n",
       "    </tr>\n",
       "  </tbody>\n",
       "</table>\n",
       "</div>"
      ],
      "text/plain": [
       "            AAPL   MSFT    XOM\n",
       "2003-01-30  7.16  18.95  27.37\n",
       "2003-01-31  7.18  18.65  28.13\n",
       "2003-02-03  7.33  19.08  28.52\n",
       "2003-02-04  7.30  18.59  28.52\n",
       "2003-02-05  7.22  18.45  28.11\n",
       "2003-02-06  7.22  18.63  27.87"
      ]
     },
     "execution_count": 17,
     "metadata": {},
     "output_type": "execute_result"
    }
   ],
   "source": [
    "close_px = close_px.resample('B').ffill()\n",
    "close_px.iloc[20:26]"
   ]
  },
  {
   "cell_type": "markdown",
   "metadata": {},
   "source": [
    "### rolling 함수\n",
    "groupby나 resample과 유사하게 동작하지만 그룹을 생성하는 대신 250일(아래 예제 기준) 크기의 움직이는 창을 그룹핑할 수 있는 객체 생성"
   ]
  },
  {
   "cell_type": "code",
   "execution_count": 48,
   "metadata": {},
   "outputs": [
    {
     "data": {
      "text/plain": [
       "Text(0.5, 1.0, '애플 주가의 250일 이동평균')"
      ]
     },
     "execution_count": 48,
     "metadata": {},
     "output_type": "execute_result"
    },
    {
     "data": {
      "image/png": "[encoded data removed]",
      "text/plain": [
       "<Figure size 432x288 with 1 Axes>"
      ]
     },
     "metadata": {
      "needs_background": "light"
     },
     "output_type": "display_data"
    }
   ],
   "source": [
    "close_px.AAPL.plot()\n",
    "close_px.AAPL.rolling(250).mean().plot()\n",
    "plt.title('애플 주가의 250일 이동평균')"
   ]
  },
  {
   "cell_type": "code",
   "execution_count": 29,
   "metadata": {},
   "outputs": [
    {
     "data": {
      "text/plain": [
       "<matplotlib.axes._subplots.AxesSubplot at 0x1756c11be08>"
      ]
     },
     "execution_count": 29,
     "metadata": {},
     "output_type": "execute_result"
    },
    {
     "data": {
      "image/png": "[encoded data removed]",
      "text/plain": [
       "<Figure size 432x288 with 1 Axes>"
      ]
     },
     "metadata": {
      "needs_background": "light"
     },
     "output_type": "display_data"
    }
   ],
   "source": [
    "# 249개의 결측치가 존재\n",
    "close_px.rolling(250).mean().plot()"
   ]
  },
  {
   "cell_type": "code",
   "execution_count": 72,
   "metadata": {},
   "outputs": [
    {
     "data": {
      "text/plain": [
       "<matplotlib.axes._subplots.AxesSubplot at 0x1756f7bac48>"
      ]
     },
     "execution_count": 72,
     "metadata": {},
     "output_type": "execute_result"
    },
    {
     "data": {
      "image/png": "[encoded data removed]",
      "text/plain": [
       "<Figure size 432x288 with 1 Axes>"
      ]
     },
     "metadata": {
      "needs_background": "light"
     },
     "output_type": "display_data"
    }
   ],
   "source": [
    "# 위와 비교\n",
    "\n",
    "close_px.resample('250d').mean().plot()"
   ]
  },
  {
   "cell_type": "markdown",
   "metadata": {},
   "source": [
    "결측치가 없는 것이 좋지만 시계열의 시작 지점에서는 필연적으로 window보다 적은 기간의 데이터를 가지고 있으므로 이를 처리하기 위해 rolling 함수의 동작 방식은 변경될 수 있다."
   ]
  },
  {
   "cell_type": "code",
   "execution_count": 53,
   "metadata": {},
   "outputs": [
    {
     "data": {
      "text/plain": [
       "2003-01-02          NaN\n",
       "2003-01-03          NaN\n",
       "2003-01-06          NaN\n",
       "2003-01-07          NaN\n",
       "2003-01-08          NaN\n",
       "                ...    \n",
       "2011-10-10    347.58772\n",
       "2011-10-11    347.95668\n",
       "2011-10-12    348.33412\n",
       "2011-10-13    348.74688\n",
       "2011-10-14    349.23096\n",
       "Freq: B, Name: AAPL, Length: 2292, dtype: float64"
      ]
     },
     "execution_count": 53,
     "metadata": {},
     "output_type": "execute_result"
    }
   ],
   "source": [
    "# 250일 간의 이동평균이되 250개의 데이터가 없을 경우 최소 10일 간의 이동평균\n",
    "close_px.AAPL.rolling(250,min_periods=10).mean()\n",
    "\n",
    "# close_px.AAPL.rolling(250).mean()이면 249번째 데이터까지는 결측치"
   ]
  },
  {
   "cell_type": "code",
   "execution_count": 59,
   "metadata": {},
   "outputs": [
    {
     "data": {
      "text/plain": [
       "2003-12-15        NaN\n",
       "2003-12-16        NaN\n",
       "2003-12-17    9.22340\n",
       "2003-12-18    9.23388\n",
       "Freq: B, Name: AAPL, dtype: float64"
      ]
     },
     "execution_count": 59,
     "metadata": {},
     "output_type": "execute_result"
    }
   ],
   "source": [
    "close_px.AAPL.rolling(250).mean()[247:251]"
   ]
  },
  {
   "cell_type": "code",
   "execution_count": 35,
   "metadata": {},
   "outputs": [
    {
     "data": {
      "text/plain": [
       "Text(0.5, 1.0, '애플의 250일 일별 수익 표준편차')"
      ]
     },
     "execution_count": 35,
     "metadata": {},
     "output_type": "execute_result"
    },
    {
     "data": {
      "image/png": "[encoded data removed]",
      "text/plain": [
       "<Figure size 432x288 with 1 Axes>"
      ]
     },
     "metadata": {
      "needs_background": "light"
     },
     "output_type": "display_data"
    }
   ],
   "source": [
    "appl_std250 = close_px.AAPL.rolling(250,min_periods=10).std()\n",
    "appl_std250.plot()\n",
    "plt.title('애플의 250일 일별 수익 표준편차')"
   ]
  },
  {
   "cell_type": "code",
   "execution_count": 60,
   "metadata": {},
   "outputs": [],
   "source": [
    "# expanding 함수\n",
    "# 확장자 평균을 구하기 위해서 rolling 대신 사용\n",
    "# 확장자 평균은 시계열의 시작 지점에서부터 창의 크기가 시계열의 전체 크기가 될 때까지 점점 창의 크기를 늘린다.\n",
    "\n",
    "expanding_mean = appl_std250.expanding().mean()"
   ]
  },
  {
   "cell_type": "code",
   "execution_count": 77,
   "metadata": {},
   "outputs": [
    {
     "data": {
      "text/html": [
       "<div>\n",
       "<style scoped>\n",
       "    .dataframe tbody tr th:only-of-type {\n",
       "        vertical-align: middle;\n",
       "    }\n",
       "\n",
       "    .dataframe tbody tr th {\n",
       "        vertical-align: top;\n",
       "    }\n",
       "\n",
       "    .dataframe thead th {\n",
       "        text-align: right;\n",
       "    }\n",
       "</style>\n",
       "<table border=\"1\" class=\"dataframe\">\n",
       "  <thead>\n",
       "    <tr style=\"text-align: right;\">\n",
       "      <th></th>\n",
       "      <th>AAPL</th>\n",
       "      <th>MSFT</th>\n",
       "      <th>XOM</th>\n",
       "    </tr>\n",
       "  </thead>\n",
       "  <tbody>\n",
       "    <tr>\n",
       "      <td>2003-01-02</td>\n",
       "      <td>7.400000</td>\n",
       "      <td>21.110000</td>\n",
       "      <td>29.220000</td>\n",
       "    </tr>\n",
       "    <tr>\n",
       "      <td>2003-01-03</td>\n",
       "      <td>7.425000</td>\n",
       "      <td>21.125000</td>\n",
       "      <td>29.230000</td>\n",
       "    </tr>\n",
       "    <tr>\n",
       "      <td>2003-01-06</td>\n",
       "      <td>7.433333</td>\n",
       "      <td>21.256667</td>\n",
       "      <td>29.473333</td>\n",
       "    </tr>\n",
       "    <tr>\n",
       "      <td>2003-01-07</td>\n",
       "      <td>7.432500</td>\n",
       "      <td>21.425000</td>\n",
       "      <td>29.342500</td>\n",
       "    </tr>\n",
       "    <tr>\n",
       "      <td>2003-01-08</td>\n",
       "      <td>7.402000</td>\n",
       "      <td>21.402000</td>\n",
       "      <td>29.240000</td>\n",
       "    </tr>\n",
       "    <tr>\n",
       "      <td>...</td>\n",
       "      <td>...</td>\n",
       "      <td>...</td>\n",
       "      <td>...</td>\n",
       "    </tr>\n",
       "    <tr>\n",
       "      <td>2011-10-10</td>\n",
       "      <td>389.351429</td>\n",
       "      <td>25.602143</td>\n",
       "      <td>72.527857</td>\n",
       "    </tr>\n",
       "    <tr>\n",
       "      <td>2011-10-11</td>\n",
       "      <td>388.505000</td>\n",
       "      <td>25.674286</td>\n",
       "      <td>72.835000</td>\n",
       "    </tr>\n",
       "    <tr>\n",
       "      <td>2011-10-12</td>\n",
       "      <td>388.531429</td>\n",
       "      <td>25.810000</td>\n",
       "      <td>73.400714</td>\n",
       "    </tr>\n",
       "    <tr>\n",
       "      <td>2011-10-13</td>\n",
       "      <td>388.826429</td>\n",
       "      <td>25.961429</td>\n",
       "      <td>73.905000</td>\n",
       "    </tr>\n",
       "    <tr>\n",
       "      <td>2011-10-14</td>\n",
       "      <td>391.038000</td>\n",
       "      <td>26.048667</td>\n",
       "      <td>74.185333</td>\n",
       "    </tr>\n",
       "  </tbody>\n",
       "</table>\n",
       "<p>2292 rows × 3 columns</p>\n",
       "</div>"
      ],
      "text/plain": [
       "                  AAPL       MSFT        XOM\n",
       "2003-01-02    7.400000  21.110000  29.220000\n",
       "2003-01-03    7.425000  21.125000  29.230000\n",
       "2003-01-06    7.433333  21.256667  29.473333\n",
       "2003-01-07    7.432500  21.425000  29.342500\n",
       "2003-01-08    7.402000  21.402000  29.240000\n",
       "...                ...        ...        ...\n",
       "2011-10-10  389.351429  25.602143  72.527857\n",
       "2011-10-11  388.505000  25.674286  72.835000\n",
       "2011-10-12  388.531429  25.810000  73.400714\n",
       "2011-10-13  388.826429  25.961429  73.905000\n",
       "2011-10-14  391.038000  26.048667  74.185333\n",
       "\n",
       "[2292 rows x 3 columns]"
      ]
     },
     "execution_count": 77,
     "metadata": {},
     "output_type": "execute_result"
    }
   ],
   "source": [
    "# rolling 함수는 고정 크기의 기간 지정 문자열을 넘겨 호출할 수 있다. 빈도가 불규칙한 시계열에 유용\n",
    "\n",
    "close_px.rolling('20D').mean()"
   ]
  },
  {
   "cell_type": "code",
   "execution_count": 75,
   "metadata": {},
   "outputs": [
    {
     "data": {
      "text/html": [
       "<div>\n",
       "<style scoped>\n",
       "    .dataframe tbody tr th:only-of-type {\n",
       "        vertical-align: middle;\n",
       "    }\n",
       "\n",
       "    .dataframe tbody tr th {\n",
       "        vertical-align: top;\n",
       "    }\n",
       "\n",
       "    .dataframe thead th {\n",
       "        text-align: right;\n",
       "    }\n",
       "</style>\n",
       "<table border=\"1\" class=\"dataframe\">\n",
       "  <thead>\n",
       "    <tr style=\"text-align: right;\">\n",
       "      <th></th>\n",
       "      <th>AAPL</th>\n",
       "      <th>MSFT</th>\n",
       "      <th>XOM</th>\n",
       "    </tr>\n",
       "  </thead>\n",
       "  <tbody>\n",
       "    <tr>\n",
       "      <td>2003-01-02</td>\n",
       "      <td>NaN</td>\n",
       "      <td>NaN</td>\n",
       "      <td>NaN</td>\n",
       "    </tr>\n",
       "    <tr>\n",
       "      <td>2003-01-03</td>\n",
       "      <td>NaN</td>\n",
       "      <td>NaN</td>\n",
       "      <td>NaN</td>\n",
       "    </tr>\n",
       "    <tr>\n",
       "      <td>2003-01-06</td>\n",
       "      <td>NaN</td>\n",
       "      <td>NaN</td>\n",
       "      <td>NaN</td>\n",
       "    </tr>\n",
       "    <tr>\n",
       "      <td>2003-01-07</td>\n",
       "      <td>NaN</td>\n",
       "      <td>NaN</td>\n",
       "      <td>NaN</td>\n",
       "    </tr>\n",
       "    <tr>\n",
       "      <td>2003-01-08</td>\n",
       "      <td>NaN</td>\n",
       "      <td>NaN</td>\n",
       "      <td>NaN</td>\n",
       "    </tr>\n",
       "    <tr>\n",
       "      <td>...</td>\n",
       "      <td>...</td>\n",
       "      <td>...</td>\n",
       "      <td>...</td>\n",
       "    </tr>\n",
       "    <tr>\n",
       "      <td>2011-10-10</td>\n",
       "      <td>392.1690</td>\n",
       "      <td>25.9635</td>\n",
       "      <td>72.7975</td>\n",
       "    </tr>\n",
       "    <tr>\n",
       "      <td>2011-10-11</td>\n",
       "      <td>392.9525</td>\n",
       "      <td>26.0115</td>\n",
       "      <td>73.0285</td>\n",
       "    </tr>\n",
       "    <tr>\n",
       "      <td>2011-10-12</td>\n",
       "      <td>393.5970</td>\n",
       "      <td>26.0345</td>\n",
       "      <td>73.2545</td>\n",
       "    </tr>\n",
       "    <tr>\n",
       "      <td>2011-10-13</td>\n",
       "      <td>394.3705</td>\n",
       "      <td>26.0440</td>\n",
       "      <td>73.3725</td>\n",
       "    </tr>\n",
       "    <tr>\n",
       "      <td>2011-10-14</td>\n",
       "      <td>395.4455</td>\n",
       "      <td>26.0515</td>\n",
       "      <td>73.5505</td>\n",
       "    </tr>\n",
       "  </tbody>\n",
       "</table>\n",
       "<p>2292 rows × 3 columns</p>\n",
       "</div>"
      ],
      "text/plain": [
       "                AAPL     MSFT      XOM\n",
       "2003-01-02       NaN      NaN      NaN\n",
       "2003-01-03       NaN      NaN      NaN\n",
       "2003-01-06       NaN      NaN      NaN\n",
       "2003-01-07       NaN      NaN      NaN\n",
       "2003-01-08       NaN      NaN      NaN\n",
       "...              ...      ...      ...\n",
       "2011-10-10  392.1690  25.9635  72.7975\n",
       "2011-10-11  392.9525  26.0115  73.0285\n",
       "2011-10-12  393.5970  26.0345  73.2545\n",
       "2011-10-13  394.3705  26.0440  73.3725\n",
       "2011-10-14  395.4455  26.0515  73.5505\n",
       "\n",
       "[2292 rows x 3 columns]"
      ]
     },
     "execution_count": 75,
     "metadata": {},
     "output_type": "execute_result"
    }
   ],
   "source": [
    "close_px.rolling(20).mean()"
   ]
  },
  {
   "cell_type": "code",
   "execution_count": 81,
   "metadata": {},
   "outputs": [
    {
     "data": {
      "text/plain": [
       "AAPL    395.4455\n",
       "MSFT     26.0515\n",
       "XOM      73.5505\n",
       "dtype: float64"
      ]
     },
     "execution_count": 81,
     "metadata": {},
     "output_type": "execute_result"
    }
   ],
   "source": [
    "close_px[-20:].mean()"
   ]
  },
  {
   "cell_type": "code",
   "execution_count": 84,
   "metadata": {},
   "outputs": [
    {
     "data": {
      "text/plain": [
       "AAPL    391.038000\n",
       "MSFT     26.048667\n",
       "XOM      74.185333\n",
       "dtype: float64"
      ]
     },
     "execution_count": 84,
     "metadata": {},
     "output_type": "execute_result"
    }
   ],
   "source": [
    "close_px[-15:].mean()"
   ]
  },
  {
   "cell_type": "markdown",
   "metadata": {},
   "source": [
    "'20D'와 20이 차이나는 이유는 '20D'의 경우 날짜 20일(중간에 휴일 다 포함)의 평균을 계산하고 20의 경우 20개의 행(휴일 미포함)의 평균을 계산하기 때문"
   ]
  },
  {
   "cell_type": "markdown",
   "metadata": {},
   "source": [
    "## 지수 가중 함수\n",
    "균등한 가중치를 가지는 관찰과 함께 고정 크기 창을 사용하는 다른 방법은 감쇠인자(decay factor) 상수에 좀 더 많은 가중치를 줘서 더 최근 값을 관찰하는 것이다. 감쇠인자 상수를 지정하는데 널리 쓰이는 방법은 기간을 이용하는 것이다.\n",
    "\n",
    "pandas는 rolling이나 expanding과 함께 사용할 수 잇는 ewm 연산을 제공한다."
   ]
  },
  {
   "cell_type": "code",
   "execution_count": 5,
   "metadata": {},
   "outputs": [
    {
     "data": {
      "text/plain": [
       "2006-01-03     74.75\n",
       "2006-01-04     74.97\n",
       "2006-01-05     74.38\n",
       "2006-01-06     76.30\n",
       "2006-01-09     76.05\n",
       "               ...  \n",
       "2007-12-24    198.80\n",
       "2007-12-26    198.95\n",
       "2007-12-27    198.57\n",
       "2007-12-28    199.83\n",
       "2007-12-31    198.08\n",
       "Name: AAPL, Length: 502, dtype: float64"
      ]
     },
     "execution_count": 5,
     "metadata": {},
     "output_type": "execute_result"
    }
   ],
   "source": [
    "aapl_px = close_px.AAPL['2006':'2007']\n",
    "aapl_px"
   ]
  },
  {
   "cell_type": "code",
   "execution_count": 11,
   "metadata": {},
   "outputs": [
    {
     "data": {
      "text/plain": [
       "<matplotlib.legend.Legend at 0x1dee74756c8>"
      ]
     },
     "execution_count": 11,
     "metadata": {},
     "output_type": "execute_result"
    },
    {
     "data": {
      "image/png": "[encoded data removed]",
      "text/plain": [
       "<Figure size 432x288 with 1 Axes>"
      ]
     },
     "metadata": {
      "needs_background": "light"
     },
     "output_type": "display_data"
    }
   ],
   "source": [
    "# ewm 메서드 사용\n",
    "ewma30 = aapl_px.ewm(span=30).mean()\n",
    "\n",
    "# 이동평균과 비교\n",
    "m30 = aapl_px.rolling(30,min_periods=20).mean()\n",
    "m30.plot(style='b--',label='Simple MA')\n",
    "ewma30.plot(style='r-',label=\"EW MA\")\n",
    "plt.legend()"
   ]
  },
  {
   "cell_type": "markdown",
   "metadata": {},
   "source": [
    "## 이진 이동창 함수"
   ]
  },
  {
   "cell_type": "code",
   "execution_count": 12,
   "metadata": {},
   "outputs": [],
   "source": [
    "spx_px = close_px_all['SPX']\n",
    "spx_rets = spx_px.pct_change()\n",
    "returns = close_px.pct_change()"
   ]
  },
  {
   "cell_type": "code",
   "execution_count": 17,
   "metadata": {},
   "outputs": [
    {
     "data": {
      "text/html": [
       "<div>\n",
       "<style scoped>\n",
       "    .dataframe tbody tr th:only-of-type {\n",
       "        vertical-align: middle;\n",
       "    }\n",
       "\n",
       "    .dataframe tbody tr th {\n",
       "        vertical-align: top;\n",
       "    }\n",
       "\n",
       "    .dataframe thead th {\n",
       "        text-align: right;\n",
       "    }\n",
       "</style>\n",
       "<table border=\"1\" class=\"dataframe\">\n",
       "  <thead>\n",
       "    <tr style=\"text-align: right;\">\n",
       "      <th></th>\n",
       "      <th>AAPL</th>\n",
       "      <th>MSFT</th>\n",
       "      <th>XOM</th>\n",
       "    </tr>\n",
       "  </thead>\n",
       "  <tbody>\n",
       "    <tr>\n",
       "      <td>2003-01-02</td>\n",
       "      <td>NaN</td>\n",
       "      <td>NaN</td>\n",
       "      <td>NaN</td>\n",
       "    </tr>\n",
       "    <tr>\n",
       "      <td>2003-01-03</td>\n",
       "      <td>0.006757</td>\n",
       "      <td>0.001421</td>\n",
       "      <td>0.000684</td>\n",
       "    </tr>\n",
       "    <tr>\n",
       "      <td>2003-01-06</td>\n",
       "      <td>0.000000</td>\n",
       "      <td>0.017975</td>\n",
       "      <td>0.024624</td>\n",
       "    </tr>\n",
       "    <tr>\n",
       "      <td>2003-01-07</td>\n",
       "      <td>-0.002685</td>\n",
       "      <td>0.019052</td>\n",
       "      <td>-0.033712</td>\n",
       "    </tr>\n",
       "    <tr>\n",
       "      <td>2003-01-08</td>\n",
       "      <td>-0.020188</td>\n",
       "      <td>-0.028272</td>\n",
       "      <td>-0.004145</td>\n",
       "    </tr>\n",
       "    <tr>\n",
       "      <td>...</td>\n",
       "      <td>...</td>\n",
       "      <td>...</td>\n",
       "      <td>...</td>\n",
       "    </tr>\n",
       "    <tr>\n",
       "      <td>2011-10-10</td>\n",
       "      <td>0.051406</td>\n",
       "      <td>0.026286</td>\n",
       "      <td>0.036977</td>\n",
       "    </tr>\n",
       "    <tr>\n",
       "      <td>2011-10-11</td>\n",
       "      <td>0.029526</td>\n",
       "      <td>0.002227</td>\n",
       "      <td>-0.000131</td>\n",
       "    </tr>\n",
       "    <tr>\n",
       "      <td>2011-10-12</td>\n",
       "      <td>0.004747</td>\n",
       "      <td>-0.001481</td>\n",
       "      <td>0.011669</td>\n",
       "    </tr>\n",
       "    <tr>\n",
       "      <td>2011-10-13</td>\n",
       "      <td>0.015515</td>\n",
       "      <td>0.008160</td>\n",
       "      <td>-0.010238</td>\n",
       "    </tr>\n",
       "    <tr>\n",
       "      <td>2011-10-14</td>\n",
       "      <td>0.033225</td>\n",
       "      <td>0.003311</td>\n",
       "      <td>0.022784</td>\n",
       "    </tr>\n",
       "  </tbody>\n",
       "</table>\n",
       "<p>2214 rows × 3 columns</p>\n",
       "</div>"
      ],
      "text/plain": [
       "                AAPL      MSFT       XOM\n",
       "2003-01-02       NaN       NaN       NaN\n",
       "2003-01-03  0.006757  0.001421  0.000684\n",
       "2003-01-06  0.000000  0.017975  0.024624\n",
       "2003-01-07 -0.002685  0.019052 -0.033712\n",
       "2003-01-08 -0.020188 -0.028272 -0.004145\n",
       "...              ...       ...       ...\n",
       "2011-10-10  0.051406  0.026286  0.036977\n",
       "2011-10-11  0.029526  0.002227 -0.000131\n",
       "2011-10-12  0.004747 -0.001481  0.011669\n",
       "2011-10-13  0.015515  0.008160 -0.010238\n",
       "2011-10-14  0.033225  0.003311  0.022784\n",
       "\n",
       "[2214 rows x 3 columns]"
      ]
     },
     "execution_count": 17,
     "metadata": {},
     "output_type": "execute_result"
    }
   ],
   "source": [
    "# pct_change는 현재값/이전값(period 옵션)\n",
    "returns"
   ]
  },
  {
   "cell_type": "code",
   "execution_count": 34,
   "metadata": {},
   "outputs": [
    {
     "data": {
      "text/plain": [
       "<matplotlib.axes._subplots.AxesSubplot at 0x1deec4e5908>"
      ]
     },
     "execution_count": 34,
     "metadata": {},
     "output_type": "execute_result"
    },
    {
     "data": {
      "image/png": "[encoded data removed]",
      "text/plain": [
       "<Figure size 432x288 with 1 Axes>"
      ]
     },
     "metadata": {
      "needs_background": "light"
     },
     "output_type": "display_data"
    }
   ],
   "source": [
    "corr = returns.rolling(125,min_periods=100).corr(spx_rets)\n",
    "corr.plot()"
   ]
  },
  {
   "cell_type": "code",
   "execution_count": null,
   "metadata": {},
   "outputs": [],
   "source": []
  }
 ],
 "metadata": {
  "kernelspec": {
   "display_name": "Python 3",
   "language": "python",
   "name": "python3"
  },
  "language_info": {
   "codemirror_mode": {
    "name": "ipython",
    "version": 3
   },
   "file_extension": ".py",
   "mimetype": "text/x-python",
   "name": "python",
   "nbconvert_exporter": "python",
   "pygments_lexer": "ipython3",
   "version": "3.7.4"
  }
 },
 "nbformat": 4,
 "nbformat_minor": 2
}
