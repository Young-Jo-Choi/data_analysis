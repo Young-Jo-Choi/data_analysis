{
 "cells": [
  {
   "cell_type": "code",
   "execution_count": 1,
   "metadata": {},
   "outputs": [],
   "source": [
    "import numpy as np\n",
    "import pandas as pd\n",
    "import sqlite3"
   ]
  },
  {
   "cell_type": "code",
   "execution_count": 2,
   "metadata": {},
   "outputs": [],
   "source": [
    "# 있으면 있는거 조회, 없으면 생성\n",
    "conn = sqlite3.connect('test.db')"
   ]
  },
  {
   "cell_type": "code",
   "execution_count": 3,
   "metadata": {},
   "outputs": [],
   "source": [
    "cur = conn.cursor()"
   ]
  },
  {
   "cell_type": "code",
   "execution_count": 7,
   "metadata": {},
   "outputs": [
    {
     "data": {
      "text/plain": [
       "<sqlite3.Cursor at 0x194e38b5880>"
      ]
     },
     "execution_count": 7,
     "metadata": {},
     "output_type": "execute_result"
    }
   ],
   "source": [
    "cur.execute('drop table emp_c')"
   ]
  },
  {
   "cell_type": "code",
   "execution_count": 9,
   "metadata": {},
   "outputs": [
    {
     "data": {
      "text/plain": [
       "<sqlite3.Cursor at 0x194e38b5880>"
      ]
     },
     "execution_count": 9,
     "metadata": {},
     "output_type": "execute_result"
    }
   ],
   "source": [
    "cur.execute('''CREATE TABLE EMP_C\n",
    "(\n",
    "EMP_NO NUMBER NOT NULL,\n",
    "EMP_NM VARCHAR2(100) NOT NULL,\n",
    "GENDER_CD VARCHAR(2),\n",
    "BIRTH_YMD VARCHAR2(8) NOT NULL,\n",
    "ORG_CD VARCHAR2(7),\n",
    "--POS_CD VARCHAR2(10),\n",
    "--POS_GRD_CD VARCHAR2(10),\n",
    "RETIRE_YMD DATE,\n",
    "HIRE_YMD DATE,\n",
    "NOTE VARCHAR2(100)\n",
    ")''')"
   ]
  },
  {
   "cell_type": "code",
   "execution_count": 11,
   "metadata": {
    "scrolled": true
   },
   "outputs": [
    {
     "data": {
      "text/plain": [
       "<sqlite3.Cursor at 0x194e38b5880>"
      ]
     },
     "execution_count": 11,
     "metadata": {},
     "output_type": "execute_result"
    }
   ],
   "source": [
    "cur.execute(\"INSERT INTO EMP_C (EMP_NO, EMP_NM,GENDER_CD,BIRTH_YMD,ORG_CD,RETIRE_YMD,HIRE_YMD,NOTE) VALUES ('10001389','이ㅇ혁','1','19390519','A100000','19981030','19960207','')\")"
   ]
  },
  {
   "cell_type": "code",
   "execution_count": 12,
   "metadata": {},
   "outputs": [
    {
     "data": {
      "text/plain": [
       "<sqlite3.Cursor at 0x194e38b5880>"
      ]
     },
     "execution_count": 12,
     "metadata": {},
     "output_type": "execute_result"
    }
   ],
   "source": [
    "cur.execute(\"INSERT INTO EMP_C (EMP_NO, EMP_NM,GENDER_CD,BIRTH_YMD,ORG_CD,RETIRE_YMD,HIRE_YMD,NOTE) VALUES ('10001392','권ㅇ혁','1','19400611','A100000','19980226','19960207','');\")"
   ]
  },
  {
   "cell_type": "code",
   "execution_count": 15,
   "metadata": {},
   "outputs": [
    {
     "data": {
      "text/plain": [
       "<sqlite3.Cursor at 0x194e38b5880>"
      ]
     },
     "execution_count": 15,
     "metadata": {},
     "output_type": "execute_result"
    }
   ],
   "source": [
    "cur.execute(\"INSERT INTO EMP_C (EMP_NO, EMP_NM,GENDER_CD,BIRTH_YMD,ORG_CD,RETIRE_YMD,HIRE_YMD,NOTE) VALUES ('10001404','황ㅇ남','1','19410407','A100000','19990227','19960207','');\")"
   ]
  },
  {
   "cell_type": "code",
   "execution_count": 28,
   "metadata": {},
   "outputs": [
    {
     "data": {
      "text/plain": [
       "<sqlite3.Cursor at 0x194e38b5880>"
      ]
     },
     "execution_count": 28,
     "metadata": {},
     "output_type": "execute_result"
    }
   ],
   "source": [
    "# 여러 줄 실행\n",
    "cur.executemany(\"insert into emp_c values (?,?,?,?,?,?,?,?)\",\n",
    "               [('10003150','강ㅇ원','1','19501219','A100100','20100713','20041101',''),\n",
    "               ('11500894','강ㅇ선','2','19721207','A123980','99991231','19950123',''),\n",
    "               ('10003730','김ㅇ현','2','19550721','A132310','20100108','20060201',''),\n",
    "               ('11513147','고ㅇ준','1','19550207','A159020','20050225','19781206','')])"
   ]
  },
  {
   "cell_type": "code",
   "execution_count": 29,
   "metadata": {},
   "outputs": [],
   "source": [
    "# 변경 사항 저장\n",
    "conn.commit()"
   ]
  },
  {
   "cell_type": "code",
   "execution_count": 30,
   "metadata": {},
   "outputs": [],
   "source": [
    "# db와의 연겷 해제\n",
    "conn.close()"
   ]
  },
  {
   "cell_type": "code",
   "execution_count": 37,
   "metadata": {},
   "outputs": [],
   "source": [
    "# 다시 연결\n",
    "conn = sqlite3.connect('test.db')\n",
    "cur = conn.cursor()"
   ]
  },
  {
   "cell_type": "code",
   "execution_count": 34,
   "metadata": {},
   "outputs": [
    {
     "name": "stdout",
     "output_type": "stream",
     "text": [
      "(10001389, '이ㅇ혁', '1', '19390519', 'A100000', 19981030, 19960207, '')\n",
      "(10001392, '권ㅇ혁', '1', '19400611', 'A100000', 19980226, 19960207, '')\n",
      "(10001404, '황ㅇ남', '1', '19410407', 'A100000', 19990227, 19960207, '')\n",
      "(10003150, '강ㅇ원', '1', '19501219', 'A100100', 20100713, 20041101, '')\n",
      "(11500894, '강ㅇ선', '2', '19721207', 'A123980', 99991231, 19950123, '')\n",
      "(10003730, '김ㅇ현', '2', '19550721', 'A132310', 20100108, 20060201, '')\n",
      "(11513147, '고ㅇ준', '1', '19550207', 'A159020', 20050225, 19781206, '')\n"
     ]
    }
   ],
   "source": [
    "# execute된 것들만 출력한다.\n",
    "cur.execute('select * from emp_c')\n",
    "rows = cur.fetchall()\n",
    "for row in rows:\n",
    "    print(row)"
   ]
  },
  {
   "cell_type": "code",
   "execution_count": 35,
   "metadata": {},
   "outputs": [
    {
     "name": "stdout",
     "output_type": "stream",
     "text": [
      "(11500894, '강ㅇ선', '2')\n",
      "(10003730, '김ㅇ현', '2')\n"
     ]
    }
   ],
   "source": [
    "# 조건 추가, alias도 사용\n",
    "cur.execute('select a.emp_no, a.emp_nm, a.gender_cd from emp_c a where a.gender_cd = 2')\n",
    "rows = cur.fetchall()\n",
    "for row in rows:\n",
    "    print(row)"
   ]
  },
  {
   "cell_type": "code",
   "execution_count": 38,
   "metadata": {},
   "outputs": [],
   "source": [
    "# pandas의 DataFrame으로 읽어들이기\n",
    "cur.execute(\"SELECT * FROM emp_c\")\n",
    "# fetchall()은 execute로 실행된 모든 행들\n",
    "rows = cur.fetchall() \n",
    "cols = [column[0] for column in cur.description] \n",
    "df = pd.DataFrame.from_records(data=rows, columns=cols) \n"
   ]
  },
  {
   "cell_type": "code",
   "execution_count": 39,
   "metadata": {},
   "outputs": [
    {
     "data": {
      "text/plain": [
       "(('EMP_NO', None, None, None, None, None, None),\n",
       " ('EMP_NM', None, None, None, None, None, None),\n",
       " ('GENDER_CD', None, None, None, None, None, None),\n",
       " ('BIRTH_YMD', None, None, None, None, None, None),\n",
       " ('ORG_CD', None, None, None, None, None, None),\n",
       " ('RETIRE_YMD', None, None, None, None, None, None),\n",
       " ('HIRE_YMD', None, None, None, None, None, None),\n",
       " ('NOTE', None, None, None, None, None, None))"
      ]
     },
     "execution_count": 39,
     "metadata": {},
     "output_type": "execute_result"
    }
   ],
   "source": [
    "# 여기서 첫째 원소만 선택하면 컬럼이 된다.\n",
    "cur.description"
   ]
  },
  {
   "cell_type": "code",
   "execution_count": 40,
   "metadata": {},
   "outputs": [
    {
     "data": {
      "text/html": [
       "<div>\n",
       "<style scoped>\n",
       "    .dataframe tbody tr th:only-of-type {\n",
       "        vertical-align: middle;\n",
       "    }\n",
       "\n",
       "    .dataframe tbody tr th {\n",
       "        vertical-align: top;\n",
       "    }\n",
       "\n",
       "    .dataframe thead th {\n",
       "        text-align: right;\n",
       "    }\n",
       "</style>\n",
       "<table border=\"1\" class=\"dataframe\">\n",
       "  <thead>\n",
       "    <tr style=\"text-align: right;\">\n",
       "      <th></th>\n",
       "      <th>EMP_NO</th>\n",
       "      <th>EMP_NM</th>\n",
       "      <th>GENDER_CD</th>\n",
       "      <th>BIRTH_YMD</th>\n",
       "      <th>ORG_CD</th>\n",
       "      <th>RETIRE_YMD</th>\n",
       "      <th>HIRE_YMD</th>\n",
       "      <th>NOTE</th>\n",
       "    </tr>\n",
       "  </thead>\n",
       "  <tbody>\n",
       "    <tr>\n",
       "      <td>0</td>\n",
       "      <td>10001389</td>\n",
       "      <td>이ㅇ혁</td>\n",
       "      <td>1</td>\n",
       "      <td>19390519</td>\n",
       "      <td>A100000</td>\n",
       "      <td>19981030</td>\n",
       "      <td>19960207</td>\n",
       "      <td></td>\n",
       "    </tr>\n",
       "    <tr>\n",
       "      <td>1</td>\n",
       "      <td>10001392</td>\n",
       "      <td>권ㅇ혁</td>\n",
       "      <td>1</td>\n",
       "      <td>19400611</td>\n",
       "      <td>A100000</td>\n",
       "      <td>19980226</td>\n",
       "      <td>19960207</td>\n",
       "      <td></td>\n",
       "    </tr>\n",
       "    <tr>\n",
       "      <td>2</td>\n",
       "      <td>10001404</td>\n",
       "      <td>황ㅇ남</td>\n",
       "      <td>1</td>\n",
       "      <td>19410407</td>\n",
       "      <td>A100000</td>\n",
       "      <td>19990227</td>\n",
       "      <td>19960207</td>\n",
       "      <td></td>\n",
       "    </tr>\n",
       "    <tr>\n",
       "      <td>3</td>\n",
       "      <td>10003150</td>\n",
       "      <td>강ㅇ원</td>\n",
       "      <td>1</td>\n",
       "      <td>19501219</td>\n",
       "      <td>A100100</td>\n",
       "      <td>20100713</td>\n",
       "      <td>20041101</td>\n",
       "      <td></td>\n",
       "    </tr>\n",
       "    <tr>\n",
       "      <td>4</td>\n",
       "      <td>11500894</td>\n",
       "      <td>강ㅇ선</td>\n",
       "      <td>2</td>\n",
       "      <td>19721207</td>\n",
       "      <td>A123980</td>\n",
       "      <td>99991231</td>\n",
       "      <td>19950123</td>\n",
       "      <td></td>\n",
       "    </tr>\n",
       "    <tr>\n",
       "      <td>5</td>\n",
       "      <td>10003730</td>\n",
       "      <td>김ㅇ현</td>\n",
       "      <td>2</td>\n",
       "      <td>19550721</td>\n",
       "      <td>A132310</td>\n",
       "      <td>20100108</td>\n",
       "      <td>20060201</td>\n",
       "      <td></td>\n",
       "    </tr>\n",
       "    <tr>\n",
       "      <td>6</td>\n",
       "      <td>11513147</td>\n",
       "      <td>고ㅇ준</td>\n",
       "      <td>1</td>\n",
       "      <td>19550207</td>\n",
       "      <td>A159020</td>\n",
       "      <td>20050225</td>\n",
       "      <td>19781206</td>\n",
       "      <td></td>\n",
       "    </tr>\n",
       "  </tbody>\n",
       "</table>\n",
       "</div>"
      ],
      "text/plain": [
       "     EMP_NO EMP_NM GENDER_CD BIRTH_YMD   ORG_CD  RETIRE_YMD  HIRE_YMD NOTE\n",
       "0  10001389    이ㅇ혁         1  19390519  A100000    19981030  19960207     \n",
       "1  10001392    권ㅇ혁         1  19400611  A100000    19980226  19960207     \n",
       "2  10001404    황ㅇ남         1  19410407  A100000    19990227  19960207     \n",
       "3  10003150    강ㅇ원         1  19501219  A100100    20100713  20041101     \n",
       "4  11500894    강ㅇ선         2  19721207  A123980    99991231  19950123     \n",
       "5  10003730    김ㅇ현         2  19550721  A132310    20100108  20060201     \n",
       "6  11513147    고ㅇ준         1  19550207  A159020    20050225  19781206     "
      ]
     },
     "execution_count": 40,
     "metadata": {},
     "output_type": "execute_result"
    }
   ],
   "source": [
    "conn.close() \n",
    "df"
   ]
  },
  {
   "cell_type": "code",
   "execution_count": null,
   "metadata": {},
   "outputs": [],
   "source": []
  }
 ],
 "metadata": {
  "kernelspec": {
   "display_name": "Python 3",
   "language": "python",
   "name": "python3"
  },
  "language_info": {
   "codemirror_mode": {
    "name": "ipython",
    "version": 3
   },
   "file_extension": ".py",
   "mimetype": "text/x-python",
   "name": "python",
   "nbconvert_exporter": "python",
   "pygments_lexer": "ipython3",
   "version": "3.7.4"
  }
 },
 "nbformat": 4,
 "nbformat_minor": 2
}
