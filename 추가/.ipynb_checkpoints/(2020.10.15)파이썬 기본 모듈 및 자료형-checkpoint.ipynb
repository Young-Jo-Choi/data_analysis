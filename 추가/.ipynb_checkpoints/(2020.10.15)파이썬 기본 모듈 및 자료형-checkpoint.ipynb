{
 "cells": [
  {
   "cell_type": "code",
   "execution_count": 1,
   "metadata": {},
   "outputs": [],
   "source": [
    "path = '(2020.10.15)temp_folder'"
   ]
  },
  {
   "cell_type": "markdown",
   "metadata": {},
   "source": [
    "# os\n",
    "기능이 아주 많은데 흔히 사용하는 기능만 서술"
   ]
  },
  {
   "cell_type": "code",
   "execution_count": 1,
   "metadata": {},
   "outputs": [],
   "source": [
    "import os"
   ]
  },
  {
   "cell_type": "code",
   "execution_count": 4,
   "metadata": {},
   "outputs": [
    {
     "data": {
      "text/plain": [
       "'C:\\\\Users\\\\hp\\\\Desktop\\\\최영조\\\\코딩공부\\\\data_analysis_exercise\\\\추가'"
      ]
     },
     "execution_count": 4,
     "metadata": {},
     "output_type": "execute_result"
    }
   ],
   "source": [
    "# 현재 작업하는 디렉토리\n",
    "os.getcwd()"
   ]
  },
  {
   "cell_type": "code",
   "execution_count": 8,
   "metadata": {},
   "outputs": [
    {
     "data": {
      "text/plain": [
       "'C:\\\\Users\\\\hp\\\\Desktop\\\\최영조\\\\코딩공부\\\\data_analysis_exercise\\\\추가\\\\(2020.10.15)temp_folder'"
      ]
     },
     "execution_count": 8,
     "metadata": {},
     "output_type": "execute_result"
    }
   ],
   "source": [
    "# 현재 작업하는 디렉토리 변경\n",
    "os.chdir(path)\n",
    "# 모든 getcwd에 적용가능(다른 .py파일로부터 읽어오는 함수도 마찬가지다)\n",
    "os.getcwd()\n",
    "\n",
    "# 코랩에서 드라이브 연동시 편리함"
   ]
  },
  {
   "cell_type": "code",
   "execution_count": 9,
   "metadata": {},
   "outputs": [],
   "source": [
    "os.chdir('../')"
   ]
  },
  {
   "cell_type": "code",
   "execution_count": 11,
   "metadata": {},
   "outputs": [],
   "source": [
    "# 경로 설정. 절대경로가 아니라면 현재 작업폴더를 기준으로 새 경로 생성\n",
    "path2 = os.path.join(path,'temp_folder2')"
   ]
  },
  {
   "cell_type": "code",
   "execution_count": 14,
   "metadata": {},
   "outputs": [],
   "source": [
    "# 폴더 생성(별다른 설정이 없으면 현재 디렉토리)\n",
    "os.makedirs(os.path.join(path2,'temp_folder3'))"
   ]
  },
  {
   "cell_type": "code",
   "execution_count": 17,
   "metadata": {},
   "outputs": [
    {
     "data": {
      "text/plain": [
       "'.'"
      ]
     },
     "execution_count": 17,
     "metadata": {},
     "output_type": "execute_result"
    }
   ],
   "source": [
    "os.curdir"
   ]
  },
  {
   "cell_type": "code",
   "execution_count": 2,
   "metadata": {},
   "outputs": [],
   "source": [
    "os.chdir('C:/Users/hp/Desktop/실행결과들')"
   ]
  },
  {
   "cell_type": "code",
   "execution_count": 15,
   "metadata": {},
   "outputs": [
    {
     "data": {
      "text/plain": [
       "['graph_with_[9, 9, 9],60,3600,1602562795,error_0.015699999406933784.png',\n",
       " 'graph_with_[9, 9, 9],70,4900,1602566598,error_0.04879999905824661.png',\n",
       " 'graph_with_[9, 9, 9],80,6400,1602568369,error_0.03709999844431877.png',\n",
       " 'graph_with_[9, 9, 9],90,8100,1602644209,error_0.016599999740719795.png',\n",
       " '실수']"
      ]
     },
     "execution_count": 15,
     "metadata": {},
     "output_type": "execute_result"
    }
   ],
   "source": [
    "# 다음과 같은 방식으로 폴더(지정된 경로)내 모든 파일 및 폴더를 리스트로 읽어들일 수 있다.\n",
    "file_list = os.listdir(os.getcwd())\n",
    "file_list[-5:]"
   ]
  },
  {
   "cell_type": "markdown",
   "metadata": {},
   "source": [
    "# zipfile\n",
    "비슷한 기능으로는 tarfile이 존재(tar형식으로 압축된 파일에 대해)"
   ]
  },
  {
   "cell_type": "code",
   "execution_count": 5,
   "metadata": {},
   "outputs": [],
   "source": [
    "from zipfile import ZipFile, ZIP_DEFLATED"
   ]
  },
  {
   "cell_type": "code",
   "execution_count": 15,
   "metadata": {},
   "outputs": [],
   "source": [
    "# 현재 알집파일만 존재하고 압축해제는 되지 않은 상태\n",
    "z = ZipFile('(2020.10.15)temp_folder/smsspamcollection.zip','r')\n",
    "# 압축해제를 하지 않은채로 알집내부 파일에 접근가능\n",
    "file = z.read('SMSSpamCollection')"
   ]
  },
  {
   "cell_type": "code",
   "execution_count": 21,
   "metadata": {},
   "outputs": [
    {
     "data": {
      "text/plain": [
       "b'ham\\tGo until jurong point, crazy.. Available only in bugis n great world la e buffet... Cine there g'"
      ]
     },
     "execution_count": 21,
     "metadata": {},
     "output_type": "execute_result"
    }
   ],
   "source": [
    "file[:100]"
   ]
  },
  {
   "cell_type": "code",
   "execution_count": 22,
   "metadata": {},
   "outputs": [
    {
     "data": {
      "text/plain": [
       "'ham\\tGo until jurong point, crazy.. Available only in bugis n great world la e buffet... Cine there g'"
      ]
     },
     "execution_count": 22,
     "metadata": {},
     "output_type": "execute_result"
    }
   ],
   "source": [
    "text_data = file.decode()\n",
    "# 원하는 형식으로 encoding한 후\n",
    "text_data2 = text_data.encode('ascii',errors='ignore')\n",
    "# 다시 decode\n",
    "text_data3 = text_data2.decode().split('\\n')\n",
    "\n",
    "text_data[:100]"
   ]
  },
  {
   "cell_type": "code",
   "execution_count": 19,
   "metadata": {},
   "outputs": [
    {
     "data": {
      "text/plain": [
       "'(2020.10.15)temp_folder\\\\readme'"
      ]
     },
     "execution_count": 19,
     "metadata": {},
     "output_type": "execute_result"
    }
   ],
   "source": [
    "# 설정된 경로에 압축파일내의 원하는 파일만 꺼낼 수 있음\n",
    "z.extract('readme',path=path)"
   ]
  },
  {
   "cell_type": "markdown",
   "metadata": {},
   "source": [
    "## 간단한 csv 파일생성 및 압축"
   ]
  },
  {
   "cell_type": "code",
   "execution_count": 4,
   "metadata": {},
   "outputs": [],
   "source": [
    "from sklearn.datasets import load_boston\n",
    "import pandas as pd\n",
    "\n",
    "boston = load_boston()\n",
    "df = pd.DataFrame(boston.data,columns=boston.feature_names)\n",
    "df.to_csv(os.path.join(path,'boston.csv'),index=False)"
   ]
  },
  {
   "cell_type": "code",
   "execution_count": 15,
   "metadata": {},
   "outputs": [],
   "source": [
    "# 이렇게 해도 압축이 가능하지만 경로까지 포함해서 압축하므로 작업 디렉토리를 아예 옮겨서 압축하는 것이 좋다.\n",
    "'''temp_zip = ZipFile(os.path.join(path,'boston.zip'), 'w')\n",
    "temp_zip.write(os.path.join(path,'boston.csv'), compress_type=ZIP_DEFLATED)\n",
    " \n",
    "temp_zip.close()'''\n"
   ]
  },
  {
   "cell_type": "code",
   "execution_count": 6,
   "metadata": {},
   "outputs": [],
   "source": [
    "os.chdir(path)\n",
    "temp_zip = ZipFile('boston.zip','w')\n",
    "temp_zip.write('boston.csv',compress_type=ZIP_DEFLATED)\n",
    "temp_zip.close()\n",
    "os.chdir('../')"
   ]
  },
  {
   "cell_type": "code",
   "execution_count": 8,
   "metadata": {},
   "outputs": [
    {
     "data": {
      "text/plain": [
       "'C:\\\\Users\\\\hp\\\\Desktop\\\\최영조\\\\코딩공부\\\\data_analysis_exercise\\\\추가'"
      ]
     },
     "execution_count": 8,
     "metadata": {},
     "output_type": "execute_result"
    }
   ],
   "source": [
    "os.getcwd()"
   ]
  },
  {
   "cell_type": "code",
   "execution_count": 21,
   "metadata": {},
   "outputs": [
    {
     "data": {
      "text/plain": [
       "['boston.csv']"
      ]
     },
     "execution_count": 21,
     "metadata": {},
     "output_type": "execute_result"
    }
   ],
   "source": [
    "# namelist를 쓰면 압축파일내의 파일명을 볼 수 있다.\n",
    "z2.namelist()"
   ]
  },
  {
   "cell_type": "markdown",
   "metadata": {},
   "source": [
    "## pandas에서 활용"
   ]
  },
  {
   "cell_type": "code",
   "execution_count": 22,
   "metadata": {},
   "outputs": [
    {
     "data": {
      "text/html": [
       "<div>\n",
       "<style scoped>\n",
       "    .dataframe tbody tr th:only-of-type {\n",
       "        vertical-align: middle;\n",
       "    }\n",
       "\n",
       "    .dataframe tbody tr th {\n",
       "        vertical-align: top;\n",
       "    }\n",
       "\n",
       "    .dataframe thead th {\n",
       "        text-align: right;\n",
       "    }\n",
       "</style>\n",
       "<table border=\"1\" class=\"dataframe\">\n",
       "  <thead>\n",
       "    <tr style=\"text-align: right;\">\n",
       "      <th></th>\n",
       "      <th>CRIM</th>\n",
       "      <th>ZN</th>\n",
       "      <th>INDUS</th>\n",
       "      <th>CHAS</th>\n",
       "      <th>NOX</th>\n",
       "      <th>RM</th>\n",
       "      <th>AGE</th>\n",
       "      <th>DIS</th>\n",
       "      <th>RAD</th>\n",
       "      <th>TAX</th>\n",
       "      <th>PTRATIO</th>\n",
       "      <th>B</th>\n",
       "      <th>LSTAT</th>\n",
       "    </tr>\n",
       "  </thead>\n",
       "  <tbody>\n",
       "    <tr>\n",
       "      <td>0</td>\n",
       "      <td>0.00632</td>\n",
       "      <td>18.0</td>\n",
       "      <td>2.31</td>\n",
       "      <td>0.0</td>\n",
       "      <td>0.538</td>\n",
       "      <td>6.575</td>\n",
       "      <td>65.2</td>\n",
       "      <td>4.0900</td>\n",
       "      <td>1.0</td>\n",
       "      <td>296.0</td>\n",
       "      <td>15.3</td>\n",
       "      <td>396.90</td>\n",
       "      <td>4.98</td>\n",
       "    </tr>\n",
       "    <tr>\n",
       "      <td>1</td>\n",
       "      <td>0.02731</td>\n",
       "      <td>0.0</td>\n",
       "      <td>7.07</td>\n",
       "      <td>0.0</td>\n",
       "      <td>0.469</td>\n",
       "      <td>6.421</td>\n",
       "      <td>78.9</td>\n",
       "      <td>4.9671</td>\n",
       "      <td>2.0</td>\n",
       "      <td>242.0</td>\n",
       "      <td>17.8</td>\n",
       "      <td>396.90</td>\n",
       "      <td>9.14</td>\n",
       "    </tr>\n",
       "    <tr>\n",
       "      <td>2</td>\n",
       "      <td>0.02729</td>\n",
       "      <td>0.0</td>\n",
       "      <td>7.07</td>\n",
       "      <td>0.0</td>\n",
       "      <td>0.469</td>\n",
       "      <td>7.185</td>\n",
       "      <td>61.1</td>\n",
       "      <td>4.9671</td>\n",
       "      <td>2.0</td>\n",
       "      <td>242.0</td>\n",
       "      <td>17.8</td>\n",
       "      <td>392.83</td>\n",
       "      <td>4.03</td>\n",
       "    </tr>\n",
       "    <tr>\n",
       "      <td>3</td>\n",
       "      <td>0.03237</td>\n",
       "      <td>0.0</td>\n",
       "      <td>2.18</td>\n",
       "      <td>0.0</td>\n",
       "      <td>0.458</td>\n",
       "      <td>6.998</td>\n",
       "      <td>45.8</td>\n",
       "      <td>6.0622</td>\n",
       "      <td>3.0</td>\n",
       "      <td>222.0</td>\n",
       "      <td>18.7</td>\n",
       "      <td>394.63</td>\n",
       "      <td>2.94</td>\n",
       "    </tr>\n",
       "    <tr>\n",
       "      <td>4</td>\n",
       "      <td>0.06905</td>\n",
       "      <td>0.0</td>\n",
       "      <td>2.18</td>\n",
       "      <td>0.0</td>\n",
       "      <td>0.458</td>\n",
       "      <td>7.147</td>\n",
       "      <td>54.2</td>\n",
       "      <td>6.0622</td>\n",
       "      <td>3.0</td>\n",
       "      <td>222.0</td>\n",
       "      <td>18.7</td>\n",
       "      <td>396.90</td>\n",
       "      <td>5.33</td>\n",
       "    </tr>\n",
       "  </tbody>\n",
       "</table>\n",
       "</div>"
      ],
      "text/plain": [
       "      CRIM    ZN  INDUS  CHAS    NOX     RM   AGE     DIS  RAD    TAX  \\\n",
       "0  0.00632  18.0   2.31   0.0  0.538  6.575  65.2  4.0900  1.0  296.0   \n",
       "1  0.02731   0.0   7.07   0.0  0.469  6.421  78.9  4.9671  2.0  242.0   \n",
       "2  0.02729   0.0   7.07   0.0  0.469  7.185  61.1  4.9671  2.0  242.0   \n",
       "3  0.03237   0.0   2.18   0.0  0.458  6.998  45.8  6.0622  3.0  222.0   \n",
       "4  0.06905   0.0   2.18   0.0  0.458  7.147  54.2  6.0622  3.0  222.0   \n",
       "\n",
       "   PTRATIO       B  LSTAT  \n",
       "0     15.3  396.90   4.98  \n",
       "1     17.8  396.90   9.14  \n",
       "2     17.8  392.83   4.03  \n",
       "3     18.7  394.63   2.94  \n",
       "4     18.7  396.90   5.33  "
      ]
     },
     "execution_count": 22,
     "metadata": {},
     "output_type": "execute_result"
    }
   ],
   "source": [
    "# pandas의 읽어들이는 함수는 compression 인자를 통해 압축해제 없이 바로 가져올 수 있게한다.(zipfile 모듈 불필요)\n",
    "df2 = pd.read_csv(os.path.join(path,'boston.zip'), compression='zip')\n",
    "df2.head()"
   ]
  },
  {
   "cell_type": "markdown",
   "metadata": {},
   "source": [
    "# Queue\n",
    "queue는 선입선출(FIFO) 기반의 자료구조"
   ]
  },
  {
   "cell_type": "markdown",
   "metadata": {},
   "source": [
    "## Queue - list"
   ]
  },
  {
   "cell_type": "code",
   "execution_count": 23,
   "metadata": {},
   "outputs": [
    {
     "name": "stdout",
     "output_type": "stream",
     "text": [
      "[3, 4, 5, 6, 7]\n",
      "3\n",
      "4\n",
      "[5, 6, 7]\n"
     ]
    }
   ],
   "source": [
    "# 자료의 입력과 제거\n",
    "queue = [3,4,5]\n",
    "queue.append(6)\n",
    "queue.append(7)\n",
    "print(queue)\n",
    "# 앞에서부터 제거\n",
    "print(queue.pop(0))\n",
    "print(queue.pop(0))\n",
    "\n",
    "print(queue)"
   ]
  },
  {
   "cell_type": "code",
   "execution_count": 24,
   "metadata": {},
   "outputs": [
    {
     "name": "stdout",
     "output_type": "stream",
     "text": [
      "[2, 1, 5, 6, 7]\n",
      "7\n",
      "6\n",
      "[2, 1, 5]\n"
     ]
    }
   ],
   "source": [
    "# 추가할 위치와 데이터 \n",
    "queue.insert(0,1)\n",
    "queue.insert(0,2)\n",
    "print(queue)\n",
    "# 뒤에서부터 제거\n",
    "print(queue.pop())\n",
    "print(queue.pop())\n",
    "\n",
    "print(queue)"
   ]
  },
  {
   "cell_type": "markdown",
   "metadata": {},
   "source": [
    "리스트는 무작위 접근의 연산에 있어서 앞에서 데이터를 제거할 때마다 모든 데이터를 한칸씩 당겨야하므로 연산 비용이 크다."
   ]
  },
  {
   "cell_type": "markdown",
   "metadata": {},
   "source": [
    "## Queue - deque\n",
    "double-ended queue의 약자로써 양방향 추가 제거가 가능, list에는 없는 popleft 메서드를 제공하는데 list의 pop(0)과 동일하다.<br> 데이터의 흐름은 list처럼 뒤에서 앞으로 흐른다."
   ]
  },
  {
   "cell_type": "code",
   "execution_count": 28,
   "metadata": {},
   "outputs": [
    {
     "name": "stdout",
     "output_type": "stream",
     "text": [
      "deque([3, 4, 5, 6, 7])\n",
      "3\n",
      "4\n",
      "deque([5, 6, 7])\n"
     ]
    }
   ],
   "source": [
    "from collections import deque\n",
    "queue = deque([3,4,5])\n",
    "queue.append(6)\n",
    "queue.append(7)\n",
    "print(queue)\n",
    "\n",
    "print(queue.popleft())\n",
    "print(queue.popleft())\n",
    "print(queue)"
   ]
  },
  {
   "cell_type": "code",
   "execution_count": 29,
   "metadata": {},
   "outputs": [
    {
     "name": "stdout",
     "output_type": "stream",
     "text": [
      "deque([1, 2, 5, 6, 7])\n",
      "7\n",
      "deque([1, 2, 5, 6])\n"
     ]
    }
   ],
   "source": [
    "# 데이터를 앞에서부터 삽입하는 appendleft 메서드 역시 존재\n",
    "queue.appendleft(2)\n",
    "queue.appendleft(1)\n",
    "print(queue)\n",
    "\n",
    "print(queue.pop())\n",
    "print(queue)"
   ]
  },
  {
   "cell_type": "markdown",
   "metadata": {},
   "source": [
    "dequeue의 경우 popleft, appendleft를 이용하면 시간복잡도가 작아 연산비용을 아낄 수 있지만 무작위 접근으로 조회를 하기 위해서는 list와 같은 연산비용이 소모된다.\n",
    "\n",
    "## Queue - queue\n",
    "queue모듈의 Qeueu 클래스를 사용하면 방향성이 존재하지 않는다. 그렇기 때문에 앞,뒤 구분 없이 put(x)과 get() 메서드를 이용해 데이터를 추가/제거한다.<br>\n",
    "주로 멀티 쓰레딩(threading) 환경에서 사용되며 내부적으로 라킹(locking)을 지원하여 여러 개의 쓰레드가 동시에 데이터를 추가하거나 삭제할 수 있다."
   ]
  },
  {
   "cell_type": "code",
   "execution_count": 30,
   "metadata": {},
   "outputs": [
    {
     "name": "stdout",
     "output_type": "stream",
     "text": [
      "<queue.Queue object at 0x0000019DB0B25B88>\n",
      "12\n",
      "6\n",
      "<queue.Queue object at 0x0000019DB0B25B88>\n"
     ]
    }
   ],
   "source": [
    "from queue import Queue\n",
    "queue = Queue()\n",
    "queue.put(12)\n",
    "queue.put(6)\n",
    "queue.put(20)\n",
    "print(queue)  # 순서가 따로 존재하지 않기 때문에 출력해서 볼 수는 없다.\n",
    "\n",
    "print(queue.get())  # FIFO\n",
    "print(queue.get())\n",
    "print(queue)"
   ]
  },
  {
   "cell_type": "markdown",
   "metadata": {},
   "source": [
    "queue 역시 dequeue처럼 데이터 추가/제거에는 연산비용이 적지만 접근에는 큰 연산비용이 든다.\n",
    "더 많은 기능은 [공식홈페이지](https://docs.python.org/3/library/queue.html) 참고"
   ]
  },
  {
   "cell_type": "markdown",
   "metadata": {},
   "source": [
    "# 우선순위 큐(PriorityQueue)\n",
    "선입선출의 특성가진 일반적인 큐의 자료구조와 달리 추가될 때 순서와 관계없이 제거될 때는 가장 작은 데이터부터 제거한다.<br>(내부적으로 정렬 매커니즘이 존재)"
   ]
  },
  {
   "cell_type": "code",
   "execution_count": 31,
   "metadata": {},
   "outputs": [
    {
     "name": "stdout",
     "output_type": "stream",
     "text": [
      "<queue.PriorityQueue object at 0x0000019DB0D552C8>\n",
      "6\n",
      "12\n",
      "17\n",
      "<queue.PriorityQueue object at 0x0000019DB0D552C8>\n"
     ]
    }
   ],
   "source": [
    "from queue import PriorityQueue\n",
    "# 우선순위 큐의 사이즈는 기본적으로 무한대이지만 최대크기를 제한할 수 있다.\n",
    "queue = PriorityQueue(maxsize=10)\n",
    "queue.put(12)\n",
    "queue.put(6)\n",
    "queue.put(20)\n",
    "queue.put(17)\n",
    "print(queue)  # 순서가 따로 존재하지 않기 때문에 출력해서 볼 수는 없다.\n",
    "\n",
    "print(queue.get()) # 가장 작은 순서로 제거된다.\n",
    "print(queue.get())\n",
    "print(queue.get())\n",
    "print(queue)"
   ]
  },
  {
   "cell_type": "code",
   "execution_count": 35,
   "metadata": {},
   "outputs": [
    {
     "name": "stdout",
     "output_type": "stream",
     "text": [
      "이승만\n",
      "(2, '윤보선')\n",
      "박정희\n"
     ]
    }
   ],
   "source": [
    "# 오름차순 대신 다른 정렬기준을 줄 수 있다. 튜플형식으로 (우선순위, '값')의 형태를 입력하면 된다.\n",
    "queue = PriorityQueue()\n",
    "queue.put((3,'박정희'))\n",
    "queue.put((2,'윤보선'))\n",
    "queue.put((4,'최규하'))\n",
    "queue.put((1,'이승만'))\n",
    "queue.put((5,'전두환'))\n",
    "\n",
    "print(queue.get()[1])\n",
    "print(queue.get())\n",
    "print(queue.get()[1])"
   ]
  },
  {
   "cell_type": "markdown",
   "metadata": {},
   "source": [
    "# pickle\n",
    "pickle은 파이썬의 객체를 외부에 저장해두는 기능을 한다. list나 dictionary의 크기가 매우 크거나 복잡한 연산을 통해 생성된 경우 pickle 객체를 만들어 외부에 저장해둠으로써 연산비용을 아낄 수 있다."
   ]
  },
  {
   "cell_type": "code",
   "execution_count": 36,
   "metadata": {},
   "outputs": [
    {
     "data": {
      "text/plain": [
       "[0, 1, 8, 27, 64, 125, 216, 343, 512, 729]"
      ]
     },
     "execution_count": 36,
     "metadata": {},
     "output_type": "execute_result"
    }
   ],
   "source": [
    "# 다음과 같은 리스트를 계속적으로 사용해야하는데 매번 같은 연산을 반복하기 부담스러울 수 있다.\n",
    "temp_list = []\n",
    "for i in range(10):\n",
    "    temp_list.append(i**3)\n",
    "temp_list"
   ]
  },
  {
   "cell_type": "code",
   "execution_count": 39,
   "metadata": {},
   "outputs": [],
   "source": [
    "# pickle 파일 생성\n",
    "import pickle\n",
    "f = open(os.path.join(path,'temp_pickle.pickle'),'wb')\n",
    "pickle.dump(temp_list,f)\n",
    "f.close()"
   ]
  },
  {
   "cell_type": "code",
   "execution_count": 40,
   "metadata": {},
   "outputs": [
    {
     "data": {
      "text/plain": [
       "[0, 1, 8, 27, 64, 125, 216, 343, 512, 729]"
      ]
     },
     "execution_count": 40,
     "metadata": {},
     "output_type": "execute_result"
    }
   ],
   "source": [
    "# 생성된 pickle 파일 읽기\n",
    "g = open(os.path.join(path,'temp_pickle.pickle'),'rb')\n",
    "data = pickle.load(g)\n",
    "data"
   ]
  },
  {
   "cell_type": "markdown",
   "metadata": {},
   "source": [
    "# easydict\n",
    "easydict는 dictionary를 쉽게 만들어주는 라이브러리이다. 중첩된 dictionary에 대해서도 만들기 쉽게 때문에 json객체를 생성할 때 매우 편리하다."
   ]
  },
  {
   "cell_type": "code",
   "execution_count": 2,
   "metadata": {},
   "outputs": [],
   "source": [
    "from easydict import EasyDict as edict\n",
    "temp_dict = edict()\n",
    "temp_dict.A = edict()\n",
    "temp_dict.A.a = [112,3,3,4,5,1111,67,98]\n",
    "temp_dict.b = [123123]"
   ]
  },
  {
   "cell_type": "code",
   "execution_count": 3,
   "metadata": {},
   "outputs": [
    {
     "data": {
      "text/plain": [
       "{'A': {'a': [112, 3, 3, 4, 5, 1111, 67, 98]}, 'b': [123123]}"
      ]
     },
     "execution_count": 3,
     "metadata": {},
     "output_type": "execute_result"
    }
   ],
   "source": [
    "temp_dict"
   ]
  },
  {
   "cell_type": "markdown",
   "metadata": {},
   "source": [
    "# argparser\n",
    "argparser는 cmd 혹은 terminal에서 실행되는 함수이다. 해당 함수를 가진 .py(혹은 .ipynb) 파일을 실행해도 제대로 동작하지 않고 cmd에서 해당 경로를 찾아 \"python \\~\\~.py --무엇 무엇\"과 같은 명령어를 통해 수행된다. 이런 류의 명령어는 readme파일에 담아두는 것이 일반적이며 딥러닝 등에서 많이 사용한다."
   ]
  },
  {
   "cell_type": "code",
   "execution_count": null,
   "metadata": {},
   "outputs": [],
   "source": [
    "import argparse\n",
    "\n",
    "# 실행하지 마시오!!\n",
    "def parse_args():\n",
    "    parser = argparse.ArgumentParser(description='neural network for solving PDE')\n",
    "\n",
    "    parser.add_argument('--network', dest='network',\n",
    "                        help='name of the network \\n' + '-options: mlp, resnet',\n",
    "                        default='resnet', type=str)\n",
    "    parser.add_argument('--diff_eq', dest='differential_equation',\n",
    "                        help='name of differential equation',\n",
    "                        default='poisson2D', type=str)\n",
    "    parser.add_argument('--domain', dest='domain',\n",
    "                        help='name of domain \\n' + '-options: interval, rectangle',\n",
    "                        default='rectangle', type=str)\n",
    "    parser.add_argument('--pde_solver', dest='pde_solver',\n",
    "                        help='name of pde solver \\n' + '-options: Galerkin, Ritz',\n",
    "                        default='galerkin', type=str)\n",
    "    parser.add_argument('--optimizer', dest='optimizer',\n",
    "                        help='name of optimizer \\n' + '-options: adam, adagrad, adadelta, rmsprop, momentum',\n",
    "                        default='adam', type=str)\n",
    "    parser.add_argument('--output_directory', dest='output_dir',\n",
    "                        help='name of output folder \\n' + 'sub-folder of output folder',\n",
    "                        default='default', type=str)\n",
    "    parser.add_argument('--random_seed', dest='random_seed',\n",
    "                        help='global random seed',\n",
    "                        default=None, type=int)\n",
    "\n",
    "    if len(sys.argv) == 1:\n",
    "        parser.print_help(sys.stderr)\n",
    "        sys.exit(1)\n",
    "\n",
    "    arguments = parser.parse_args()\n",
    "    return arguments\n",
    "\n",
    "args = parse_args()"
   ]
  },
  {
   "cell_type": "markdown",
   "metadata": {},
   "source": [
    "와 같은 방식으로 arguments를 구성한다. 명령 프롬프트에서 다음과 같은 명령어를 실행<br>\n",
    "python main.py --network resnet --diff_eq poisson_2d_problem1 --domain rectangle --pde_solver galerkin --optimizer adam --output_directory poisson_2d --random_seed 123<br>\n",
    "argparser로 구성된 객체(--이하)에 그 뒤에오는 것을 입력값으로 한다는 의미이다.<br>\n",
    "ex) network는 resnet으로, diff_eq는 poisson_2d_problem1으로.\n",
    "\n",
    "add_argument 메서드는 여러 가지 입력값을 받는다.<br>\n",
    "- argument의 이름을 지정하기 위해서는 --name과 같은 방식으로 지정한다.\n",
    "- dest : arg.dest(name)는 명령프롬프트에서 해당 객체로 입력된 값을 반환한다.\n",
    "    - ex) network = args.network.lower()\n",
    "- help : python argparseTest.py -h로 실행하면 작성자가 입력해둔 설명을 볼 수 있다.\n",
    "- type : 말 그대로 type이다.\n",
    "- positiona/optional : 이름앞에 -가 붙어있으면 optional, 없으면 positional\n",
    "    - optional은 필수 값이 아니며 (cmd에) 입력하지 않을 경우 default로 지정한 값이 입력된다.\n",
    "    - positional 인자는 반드시 값을 지정해두어야 한다\n",
    "    - positional 인자는 반드시 순서를 지켜서, optional은 순서와 관계없이 넣으면 된다.\n",
    "- action : 기본값은 'store' : 인자 이름 바로 뒤의 값을 해당 인자에 저장시킨다.\n",
    "    - 여러가지 action의 옵션이 있으나 자세한 것은 생량\n",
    "- choice : choice를 지정하면 값의 범위를 제한하는 것이 가능한다.\n",
    "\n"
   ]
  },
  {
   "cell_type": "code",
   "execution_count": null,
   "metadata": {},
   "outputs": [],
   "source": []
  }
 ],
 "metadata": {
  "kernelspec": {
   "display_name": "Python 3",
   "language": "python",
   "name": "python3"
  },
  "language_info": {
   "codemirror_mode": {
    "name": "ipython",
    "version": 3
   },
   "file_extension": ".py",
   "mimetype": "text/x-python",
   "name": "python",
   "nbconvert_exporter": "python",
   "pygments_lexer": "ipython3",
   "version": "3.7.4"
  }
 },
 "nbformat": 4,
 "nbformat_minor": 2
}
