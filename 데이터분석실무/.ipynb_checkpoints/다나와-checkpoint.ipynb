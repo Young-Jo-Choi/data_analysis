{
 "cells": [
  {
   "cell_type": "markdown",
   "metadata": {},
   "source": [
    "# 어떤 무선청소기의 인기가 좋을까\n",
    "다나와 : 온라인 쇼핑몰, 쇼셜커머스 등 전 상품에 대한 가격비교 사이트"
   ]
  },
  {
   "cell_type": "code",
   "execution_count": 1,
   "metadata": {},
   "outputs": [],
   "source": [
    "url = 'http://search.danawa.com/dsearch.php?k1=%EB%AC%B4%EC%84%A0%EC%B2%AD%EC%86%8C%EA%B8%B0&module=goods&act=dispMain'"
   ]
  },
  {
   "cell_type": "code",
   "execution_count": 4,
   "metadata": {},
   "outputs": [],
   "source": [
    "from selenium import webdriver"
   ]
  },
  {
   "cell_type": "code",
   "execution_count": 5,
   "metadata": {},
   "outputs": [],
   "source": [
    "driver = webdriver.Chrome('C:/Users/hp/Desktop/최영조/chromedriver.exe')"
   ]
  },
  {
   "cell_type": "code",
   "execution_count": 6,
   "metadata": {},
   "outputs": [],
   "source": [
    "driver.get(url)"
   ]
  },
  {
   "cell_type": "code",
   "execution_count": 8,
   "metadata": {},
   "outputs": [],
   "source": [
    "html = driver.page_source\n",
    "\n",
    "from bs4 import BeautifulSoup\n",
    "soup = BeautifulSoup(html,'html.parser')"
   ]
  },
  {
   "cell_type": "code",
   "execution_count": 11,
   "metadata": {},
   "outputs": [
    {
     "data": {
      "text/plain": [
       "32"
      ]
     },
     "execution_count": 11,
     "metadata": {},
     "output_type": "execute_result"
    }
   ],
   "source": [
    "len(soup.select('div.prod_main_info'))"
   ]
  },
  {
   "cell_type": "code",
   "execution_count": 81,
   "metadata": {},
   "outputs": [
    {
     "data": {
      "text/plain": [
       "'원더스리빙 원더스 다이나킹 Z9'"
      ]
     },
     "execution_count": 81,
     "metadata": {},
     "output_type": "execute_result"
    }
   ],
   "source": [
    "first_item = soup.select('div.prod_main_info')[0]\n",
    "first_item.select('p.prod_name')[0].text.strip().split('\\n')[0]"
   ]
  },
  {
   "cell_type": "code",
   "execution_count": 63,
   "metadata": {},
   "outputs": [
    {
     "data": {
      "text/plain": [
       "'핸디/스틱청소기  / 핸디+스틱형  / 무선형  / 전압: 28.8V / 헤파필터  / 듀얼싸이클론  / 6단계여과  / BLDC모터  / 흡입력 : 160AW  / 흡입력 : 22000Pa  / 먼지통용량: 0.7L / 충전시간 : 4시간30분  / 사용시간 : 1시간5분  / 배터리 : 리튬이온  / 용량 : 2500mAh  / 거치대  / 배터리잔량표시  / 셀프스탠딩  / 프리볼트  / 무게 : 2.5kg  / 소비전력 : 450W  / 브러쉬: 바닥, 펫, 멀티, 틈새, 솔형, 침구, 연장호스, 플렉스연장관 / 크기(가로x세로x깊이): 250x1096x198mm'"
      ]
     },
     "execution_count": 63,
     "metadata": {},
     "output_type": "execute_result"
    }
   ],
   "source": [
    "first_item = soup.select('div.prod_main_info')[0]\n",
    "spec = ''.join(''.join(first_item.select('div.spec_list')[0].text.strip().split('\\n')).split('\\t'))\n",
    "spec"
   ]
  },
  {
   "cell_type": "code",
   "execution_count": 79,
   "metadata": {},
   "outputs": [
    {
     "data": {
      "text/plain": [
       "299000"
      ]
     },
     "execution_count": 79,
     "metadata": {},
     "output_type": "execute_result"
    }
   ],
   "source": [
    "first_item = soup.select('div.prod_main_info')[0]\n",
    "price = int(first_item.select('p.price_sect > a > strong')[0].text.replace(\",\",\"\"))\n",
    "price"
   ]
  },
  {
   "cell_type": "code",
   "execution_count": 90,
   "metadata": {},
   "outputs": [
    {
     "name": "stdout",
     "output_type": "stream",
     "text": [
      "32\n"
     ]
    }
   ],
   "source": [
    "prod_data = []\n",
    "items = soup.select('div.prod_main_info')\n",
    "for i in range(len(items)):\n",
    "    item = items[i]\n",
    "    try:\n",
    "        title = item.select('p.prod_name')[0].text.strip().split('\\n')[0]\n",
    "    except:\n",
    "        title = ''\n",
    "    try:\n",
    "        spec = ''.join(''.join(item.select('div.spec_list')[0].text.strip().split('\\n')).split('\\t'))\n",
    "    except:\n",
    "        sepc = \"\"\n",
    "    try:\n",
    "        price = int(item.select('p.price_sect > a > strong')[0].text.replace(\",\",\"\"))\n",
    "    except:\n",
    "        price = 0\n",
    "    prod_data.append([title,spec,price])\n",
    "\n",
    "print(len(prod_data))"
   ]
  },
  {
   "cell_type": "code",
   "execution_count": 93,
   "metadata": {},
   "outputs": [],
   "source": [
    "prod_item = soup.select('div.prod_main_info')"
   ]
  },
  {
   "cell_type": "code",
   "execution_count": 5,
   "metadata": {},
   "outputs": [],
   "source": [
    "def get_information(prod_item):\n",
    "    prod_data = []\n",
    "    items = prod_item\n",
    "    for i in range(len(items)):\n",
    "        item = items[i]\n",
    "        try:\n",
    "            title = item.select('p.prod_name')[0].text.strip().split('\\n')[0]\n",
    "        except:\n",
    "            title = ''\n",
    "        try:\n",
    "            spec = ''.join(''.join(item.select('div.spec_list')[0].text.strip().split('\\n')).split('\\t'))\n",
    "        except:\n",
    "            sepc = \"\"\n",
    "        try:\n",
    "            price = int(item.select('p.price_sect > a > strong')[0].text.replace(\",\",\"\"))\n",
    "        except:\n",
    "            price = 0\n",
    "        prod_data.append([title,spec,price])\n",
    "\n",
    "    return prod_data"
   ]
  },
  {
   "cell_type": "code",
   "execution_count": null,
   "metadata": {},
   "outputs": [],
   "source": [
    "# 1페이지\n",
    "url1 = 'http://search.danawa.com/dsearch.php?k1=%EB%AC%B4%EC%84%A0%EC%B2%AD%EC%86%8C%EA%B8%B0&module=goods&act=dispMain'\n",
    "\n",
    "# 2페이지\n",
    "url2 = '''http://search.danawa.com/dsearch.php?\n",
    "    query=%EB%AC%B4%EC%84%A0%EC%B2%AD%EC%86%8C%EA%B8%B0&\n",
    "    originalQuery=%EB%AC%B4%EC%84%A0%EC%B2%AD%EC%86%8C%EA%B8%B0&\n",
    "    volumeType=allvs&page=2&limit=30&sort=saveDESC&list=list&boost=true&addDelivery=N&tab=goods'''\n",
    "\n",
    "# 3페이지\n",
    "url3 = \"\"\"http://search.danawa.com/dsearch.php?\n",
    "    query=%EB%AC%B4%EC%84%A0%EC%B2%AD%EC%86%8C%EA%B8%B0&\n",
    "    originalQuery=%EB%AC%B4%EC%84%A0%EC%B2%AD%EC%86%8C%EA%B8%B0&\n",
    "    previousKeyword=%EB%AC%B4%EC%84%A0%EC%B2%AD%EC%86%8C%EA%B8%B0&\n",
    "    volumeType=allvs&page=3&limit=30&sort=saveDESC&list=list&boost=true&addDelivery=N&tab=goods&tab=goods\"\"\"\n",
    "\n",
    "# query와 page 변수만 맞추면 나머지 url은 부가적인 부분이므로 무시해도 좋음"
   ]
  },
  {
   "cell_type": "code",
   "execution_count": 3,
   "metadata": {},
   "outputs": [],
   "source": [
    "def search_url(key_word,page):\n",
    "    url = '''http://search.danawa.com/dsearch.php?query={}&volumeType=allvs\n",
    "    &page={}&limit=30&sort=saveDESC&list=list&boost=true&addDelivery=N&tab=goods'''.format(key_word,page)\n",
    "    return url"
   ]
  },
  {
   "cell_type": "code",
   "execution_count": 103,
   "metadata": {},
   "outputs": [
    {
     "name": "stdout",
     "output_type": "stream",
     "text": [
      "Requirement already satisfied: tqdm in c:\\users\\hp\\anaconda3\\lib\\site-packages (4.36.1)\n"
     ]
    }
   ],
   "source": [
    "!pip install tqdm\n",
    "\n",
    "# tqdm 모듈은 전체 과정 중 현재 진행 단계, 지금까지의 소요시간, 1회 작업 시 소요시간, 예상 완료시간 등을 확인할 수 있음\n",
    "# 반복문 하나를 실행하는 것을 iteration이 실행되었다함"
   ]
  },
  {
   "cell_type": "code",
   "execution_count": 107,
   "metadata": {},
   "outputs": [
    {
     "data": {
      "application/vnd.jupyter.widget-view+json": {
       "model_id": "b63d8c83cd15403f9217a4f25229cca0",
       "version_major": 2,
       "version_minor": 0
      },
      "text/plain": [
       "HBox(children=(IntProgress(value=0, max=10), HTML(value='')))"
      ]
     },
     "metadata": {},
     "output_type": "display_data"
    },
    {
     "name": "stdout",
     "output_type": "stream",
     "text": [
      "\n"
     ]
    }
   ],
   "source": [
    "# 이런 식으로 사용한다.\n",
    "\n",
    "import time\n",
    "from tqdm import tqdm_notebook\n",
    "\n",
    "total_page = 10\n",
    "for page in tqdm_notebook(range(1,total_page+1)):\n",
    "    time.sleep(2)\n",
    "\n"
   ]
  },
  {
   "cell_type": "code",
   "execution_count": 6,
   "metadata": {},
   "outputs": [
    {
     "data": {
      "application/vnd.jupyter.widget-view+json": {
       "model_id": "7a2425b9447e4d598f63415dc6af5c17",
       "version_major": 2,
       "version_minor": 0
      },
      "text/plain": [
       "HBox(children=(IntProgress(value=0, max=10), HTML(value='')))"
      ]
     },
     "metadata": {},
     "output_type": "display_data"
    },
    {
     "name": "stdout",
     "output_type": "stream",
     "text": [
      "\n"
     ]
    }
   ],
   "source": [
    "# 임포트부터 다시\n",
    "\n",
    "from selenium import webdriver\n",
    "import time\n",
    "from bs4 import BeautifulSoup\n",
    "from tqdm import tqdm_notebook\n",
    "\n",
    "driver = webdriver.Chrome('C:/Users/hp/Desktop/최영조/chromedriver.exe')\n",
    "# 암묵적으로 웹 자원 로드를 위해 3초간 기다림\n",
    "driver.implicitly_wait(3)\n",
    "\n",
    "keyword = '무선청소기'\n",
    "total_page = 10\n",
    "\n",
    "informations=[]\n",
    "\n",
    "for page in tqdm_notebook(range(1,total_page+1)):\n",
    "    url = search_url(keyword,page)\n",
    "    driver.get(url)\n",
    "    # 페이지 로딩 완료를 위한 시간으로 5초씩 배당\n",
    "    time.sleep(5)\n",
    "    \n",
    "    html = driver.page_source\n",
    "    soup = BeautifulSoup(html)\n",
    "    \n",
    "    prod_item = soup.select('div.prod_main_info')\n",
    "    \n",
    "    prod_list = get_information(prod_item)\n",
    "    informations = informations + prod_list\n",
    "    "
   ]
  },
  {
   "cell_type": "code",
   "execution_count": 7,
   "metadata": {},
   "outputs": [
    {
     "data": {
      "text/plain": [
       "['삼성전자 제트 VS20R9078S2',\n",
       " '핸디/스틱청소기 / 핸디+스틱형 / 무선형 / 전압: 21.9V / 헤파필터 / 싸이클론 / 5단계여과 / 인버터모터 / 흡입력: 200W / 먼지통용량: 0.5L / 충전시간: 3시간30분 / 사용시간: 120분 / 배터리: 리튬이온 (2개) / 브러쉬: 바닥, 솔형, 틈새, 침구, 물걸레, 연장관 / 거치대 / 디스플레이표시창 / 물걸레 / 프리볼트 / 무게: 2.7kg / 색상:티탄+블루 / 소비전력: 550W / 알레르기인증(BAF) / 미세먼지인증(SLG) / 크기(가로x세로x깊이): 250x1136x215mm',\n",
       " 799290]"
      ]
     },
     "execution_count": 7,
     "metadata": {},
     "output_type": "execute_result"
    }
   ],
   "source": [
    "informations[3]"
   ]
  },
  {
   "cell_type": "code",
   "execution_count": 115,
   "metadata": {},
   "outputs": [
    {
     "data": {
      "text/plain": [
       "302"
      ]
     },
     "execution_count": 115,
     "metadata": {},
     "output_type": "execute_result"
    }
   ],
   "source": [
    "len(informations)"
   ]
  },
  {
   "cell_type": "code",
   "execution_count": 122,
   "metadata": {},
   "outputs": [],
   "source": [
    "import pandas as pd"
   ]
  },
  {
   "cell_type": "code",
   "execution_count": 123,
   "metadata": {},
   "outputs": [],
   "source": [
    "data = pd.DataFrame(informations)\n",
    "data.columns=['상품명','스펙_목록','가격']\n",
    "data.to_excel('asd.xlsx',index=False)"
   ]
  },
  {
   "cell_type": "markdown",
   "metadata": {},
   "source": [
    "# 데이터 전처리\n",
    "1. 상품명 데이터에서 회사명과 제품명 분리\n",
    "2. 일반 문자열로 저장된 스펙 목록을 필요한 스펙으로 분류 및 단위 통합"
   ]
  },
  {
   "cell_type": "code",
   "execution_count": 124,
   "metadata": {},
   "outputs": [
    {
     "data": {
      "text/html": [
       "<div>\n",
       "<style scoped>\n",
       "    .dataframe tbody tr th:only-of-type {\n",
       "        vertical-align: middle;\n",
       "    }\n",
       "\n",
       "    .dataframe tbody tr th {\n",
       "        vertical-align: top;\n",
       "    }\n",
       "\n",
       "    .dataframe thead th {\n",
       "        text-align: right;\n",
       "    }\n",
       "</style>\n",
       "<table border=\"1\" class=\"dataframe\">\n",
       "  <thead>\n",
       "    <tr style=\"text-align: right;\">\n",
       "      <th></th>\n",
       "      <th>상품명</th>\n",
       "      <th>스펙_목록</th>\n",
       "      <th>가격</th>\n",
       "    </tr>\n",
       "  </thead>\n",
       "  <tbody>\n",
       "    <tr>\n",
       "      <td>0</td>\n",
       "      <td>델로라 V11 파워 300W</td>\n",
       "      <td>핸디/스틱청소기  / 핸디+스틱형  / 무선형  / 전압: 29.6V / 헤파필터 ...</td>\n",
       "      <td>139000</td>\n",
       "    </tr>\n",
       "    <tr>\n",
       "      <td>1</td>\n",
       "      <td>원더스리빙 원더스 다이나킹 Z9</td>\n",
       "      <td>핸디/스틱청소기  / 핸디+스틱형  / 무선형  / 전압: 28.8V / 헤파필터 ...</td>\n",
       "      <td>299000</td>\n",
       "    </tr>\n",
       "    <tr>\n",
       "      <td>2</td>\n",
       "      <td>델로라 V11 파워 300W</td>\n",
       "      <td>핸디/스틱청소기 / 핸디+스틱형 / 무선형 / 전압: 29.6V / 헤파필터 / 싸...</td>\n",
       "      <td>139000</td>\n",
       "    </tr>\n",
       "    <tr>\n",
       "      <td>3</td>\n",
       "      <td>삼성전자 제트 VS20R9078S2</td>\n",
       "      <td>핸디/스틱청소기 / 핸디+스틱형 / 무선형 / 전압: 21.9V / 헤파필터 / 싸...</td>\n",
       "      <td>799330</td>\n",
       "    </tr>\n",
       "    <tr>\n",
       "      <td>4</td>\n",
       "      <td>샤오미 드리미 V10</td>\n",
       "      <td>핸디/스틱청소기 / 핸디+스틱형 / 무선형 / 전압: 25.2V / 헤파필터 / H...</td>\n",
       "      <td>171760</td>\n",
       "    </tr>\n",
       "  </tbody>\n",
       "</table>\n",
       "</div>"
      ],
      "text/plain": [
       "                   상품명                                              스펙_목록  \\\n",
       "0      델로라 V11 파워 300W  핸디/스틱청소기  / 핸디+스틱형  / 무선형  / 전압: 29.6V / 헤파필터 ...   \n",
       "1    원더스리빙 원더스 다이나킹 Z9  핸디/스틱청소기  / 핸디+스틱형  / 무선형  / 전압: 28.8V / 헤파필터 ...   \n",
       "2      델로라 V11 파워 300W  핸디/스틱청소기 / 핸디+스틱형 / 무선형 / 전압: 29.6V / 헤파필터 / 싸...   \n",
       "3  삼성전자 제트 VS20R9078S2  핸디/스틱청소기 / 핸디+스틱형 / 무선형 / 전압: 21.9V / 헤파필터 / 싸...   \n",
       "4          샤오미 드리미 V10  핸디/스틱청소기 / 핸디+스틱형 / 무선형 / 전압: 25.2V / 헤파필터 / H...   \n",
       "\n",
       "       가격  \n",
       "0  139000  \n",
       "1  299000  \n",
       "2  139000  \n",
       "3  799330  \n",
       "4  171760  "
      ]
     },
     "execution_count": 124,
     "metadata": {},
     "output_type": "execute_result"
    }
   ],
   "source": [
    "data.head()"
   ]
  },
  {
   "cell_type": "code",
   "execution_count": 126,
   "metadata": {},
   "outputs": [
    {
     "name": "stdout",
     "output_type": "stream",
     "text": [
      "<class 'pandas.core.frame.DataFrame'>\n",
      "RangeIndex: 302 entries, 0 to 301\n",
      "Data columns (total 3 columns):\n",
      "상품명      302 non-null object\n",
      "스펙_목록    302 non-null object\n",
      "가격       302 non-null int64\n",
      "dtypes: int64(1), object(2)\n",
      "memory usage: 7.2+ KB\n"
     ]
    }
   ],
   "source": [
    "data.info()"
   ]
  },
  {
   "cell_type": "code",
   "execution_count": 127,
   "metadata": {},
   "outputs": [
    {
     "data": {
      "text/plain": [
       "0                            델로라 V11 파워 300W\n",
       "1                          원더스리빙 원더스 다이나킹 Z9\n",
       "2                            델로라 V11 파워 300W\n",
       "3                        삼성전자 제트 VS20R9078S2\n",
       "4                                샤오미 드리미 V10\n",
       "5    샤오미 SHUNZAO 차량용 무선청소기 2세대 Z1 PRO (해외구매)\n",
       "6                          원더스리빙 원더스 다이나킹 Z9\n",
       "7                          LG전자 코드제로 A9 A978\n",
       "8                                 다이슨 V8 플러피\n",
       "9                          LG전자 코드제로 A9 A951\n",
       "Name: 상품명, dtype: object"
      ]
     },
     "execution_count": 127,
     "metadata": {},
     "output_type": "execute_result"
    }
   ],
   "source": [
    "data['상품명'][:10]"
   ]
  },
  {
   "cell_type": "code",
   "execution_count": 131,
   "metadata": {},
   "outputs": [
    {
     "data": {
      "text/plain": [
       "['델로라', 'V11 파워 300W']"
      ]
     },
     "execution_count": 131,
     "metadata": {},
     "output_type": "execute_result"
    }
   ],
   "source": [
    "data['상품명'][0].split(' ',1)"
   ]
  },
  {
   "cell_type": "code",
   "execution_count": 133,
   "metadata": {
    "scrolled": true
   },
   "outputs": [
    {
     "name": "stdout",
     "output_type": "stream",
     "text": [
      "302\n",
      "['델로라', '원더스리빙', '델로라', '삼성전자', '샤오미']\n",
      "302\n",
      "['V11 파워 300W', '원더스 다이나킹 Z9', 'V11 파워 300W', '제트 VS20R9078S2', '드리미 V10']\n"
     ]
    }
   ],
   "source": [
    "company_list = []\n",
    "product_list = []\n",
    "for title in data['상품명']:\n",
    "    company_list.append(title.split(' ',1)[0])\n",
    "    product_list.append(title.split(' ',1)[1])\n",
    "\n",
    "print(len(company_list))\n",
    "print(company_list[:5])\n",
    "print(len(product_list))\n",
    "print(product_list[:5])"
   ]
  },
  {
   "cell_type": "code",
   "execution_count": 138,
   "metadata": {},
   "outputs": [
    {
     "data": {
      "text/plain": [
       "21"
      ]
     },
     "execution_count": 138,
     "metadata": {},
     "output_type": "execute_result"
    }
   ],
   "source": [
    "len(data['스펙_목록'][0].split(' / '))"
   ]
  },
  {
   "cell_type": "code",
   "execution_count": 139,
   "metadata": {},
   "outputs": [
    {
     "data": {
      "text/plain": [
       "23"
      ]
     },
     "execution_count": 139,
     "metadata": {},
     "output_type": "execute_result"
    }
   ],
   "source": [
    "len(data['스펙_목록'][1].split(' / '))"
   ]
  },
  {
   "cell_type": "code",
   "execution_count": 141,
   "metadata": {},
   "outputs": [
    {
     "data": {
      "text/plain": [
       "['핸디/스틱청소기 ',\n",
       " '핸디+스틱형 ',\n",
       " '무선형 ',\n",
       " '전압: 29.6V',\n",
       " '헤파필터 ',\n",
       " '싸이클론 ',\n",
       " '4단계여과 ',\n",
       " 'BLDC모터 ',\n",
       " '흡입력 : 22000Pa ',\n",
       " '먼지통용량: 0.6L',\n",
       " '충전시간 : 5시간 ',\n",
       " '사용시간 : 1시간10분 ',\n",
       " '배터리 : 리튬이온 ',\n",
       " '용량 : 2500mAh ',\n",
       " '브러쉬: 바닥 , 솔형 , 틈새 , 침구 , 연장관 ',\n",
       " 'LED라이트 ',\n",
       " '거치대 ',\n",
       " '무게 : 3.89kg ',\n",
       " '색상:레드, 블랙 ',\n",
       " '소비전력 : 300W ',\n",
       " '크기(가로x세로x깊이): 239x1255x105mm']"
      ]
     },
     "execution_count": 141,
     "metadata": {},
     "output_type": "execute_result"
    }
   ],
   "source": [
    "first_product = data['스펙_목록'][0].split(' / ')\n",
    "first_product"
   ]
  },
  {
   "cell_type": "markdown",
   "metadata": {},
   "source": [
    "추출할 정보: 카테고리, 사용시간, 흡입력\n",
    "- 카테고리: 리스트의 첫 번째 위치\n",
    "- 사용시간 :  사용시간: 00분처럼 사용시간이라는 문구가 명시돼있음\n",
    "- 흡입력 : 흡입력: 000Pa,000AW 같은 문구가 명시되어있음"
   ]
  },
  {
   "cell_type": "code",
   "execution_count": 142,
   "metadata": {},
   "outputs": [
    {
     "data": {
      "text/plain": [
       "'핸디/스틱청소기 '"
      ]
     },
     "execution_count": 142,
     "metadata": {},
     "output_type": "execute_result"
    }
   ],
   "source": [
    "category = first_product[0]\n",
    "category"
   ]
  },
  {
   "cell_type": "code",
   "execution_count": 145,
   "metadata": {},
   "outputs": [
    {
     "name": "stdout",
     "output_type": "stream",
     "text": [
      "1시간10분\n",
      "22000Pa\n"
     ]
    }
   ],
   "source": [
    "for spec in first_product:\n",
    "    if '사용시간' in spec:\n",
    "        time_spec = spec.split(':')[1].strip()\n",
    "    elif '흡입력' in spec:\n",
    "        suction_spec = spec.split(':')[1].strip()\n",
    "print(time_spec)\n",
    "print(suction_spec)"
   ]
  },
  {
   "cell_type": "code",
   "execution_count": 146,
   "metadata": {},
   "outputs": [
    {
     "name": "stdout",
     "output_type": "stream",
     "text": [
      "['핸디/스틱청소기', '핸디/스틱청소기', '핸디/스틱청소기']\n",
      "['1시간10분', '1시간5분', '1시간10분']\n",
      "['22000Pa', '22000Pa', '22000Pa']\n"
     ]
    }
   ],
   "source": [
    "category_list=[]\n",
    "time_spec_list=[]\n",
    "suction_spec_list=[]\n",
    "\n",
    "for long_spec in data['스펙_목록']:\n",
    "    spec_list = long_spec.split(' / ')\n",
    "    category_list.append(spec_list[0].strip())\n",
    "    for spec in spec_list:\n",
    "        if '사용시간' in spec:\n",
    "            time_spec = spec.split(':')[1].strip()\n",
    "        elif '흡입력' in spec:\n",
    "            suction_spec = spec.split(':')[1].strip()\n",
    "    time_spec_list.append(time_spec)\n",
    "    suction_spec_list.append(suction_spec)\n",
    "\n",
    "print(category_list[:3])\n",
    "print(time_spec_list[:3])\n",
    "print(suction_spec_list[:3])\n",
    "    "
   ]
  },
  {
   "cell_type": "code",
   "execution_count": 147,
   "metadata": {},
   "outputs": [
    {
     "data": {
      "text/plain": [
       "['1시간10분',\n",
       " '1시간5분',\n",
       " '1시간10분',\n",
       " '120분',\n",
       " '1시간',\n",
       " '30분',\n",
       " '1시간5분',\n",
       " '80분',\n",
       " '40분',\n",
       " '80분',\n",
       " '2시간',\n",
       " '60분',\n",
       " '42분',\n",
       " '1시간',\n",
       " '17분',\n",
       " '30분',\n",
       " '1시간20분',\n",
       " '40분',\n",
       " '40분',\n",
       " '1시간',\n",
       " '30분',\n",
       " '20분',\n",
       " '80분',\n",
       " '45분',\n",
       " '80분',\n",
       " '60분',\n",
       " '60분',\n",
       " '55분',\n",
       " '1시간',\n",
       " '50분',\n",
       " '1시간20분',\n",
       " '1시간',\n",
       " '60분',\n",
       " '120분',\n",
       " '1시간',\n",
       " '50분',\n",
       " '30분',\n",
       " '40분',\n",
       " '1시간',\n",
       " '2시간',\n",
       " '45분',\n",
       " '60분',\n",
       " '10분',\n",
       " '40분',\n",
       " '18분',\n",
       " '12분',\n",
       " '40분',\n",
       " '2시간',\n",
       " '35분',\n",
       " '1시간',\n",
       " '48분',\n",
       " '30분',\n",
       " '80분',\n",
       " '55분',\n",
       " '40분',\n",
       " '2시간',\n",
       " '30분',\n",
       " '45분',\n",
       " '45분',\n",
       " '12분',\n",
       " '60분',\n",
       " '40분',\n",
       " '40분',\n",
       " '60분',\n",
       " '20분',\n",
       " '1시간20분',\n",
       " '40분',\n",
       " '40분',\n",
       " '40분(강), 70분(약)',\n",
       " '25분',\n",
       " '13분29초',\n",
       " '50분',\n",
       " '40분',\n",
       " '80분',\n",
       " '42분',\n",
       " '30분',\n",
       " '40분',\n",
       " '40분',\n",
       " '30분',\n",
       " '30분',\n",
       " '40분',\n",
       " '40분',\n",
       " '30분',\n",
       " '40분',\n",
       " '40분',\n",
       " '60분',\n",
       " '40분',\n",
       " '40분',\n",
       " '40분',\n",
       " '40분',\n",
       " '80분',\n",
       " '35분',\n",
       " '30분',\n",
       " '40분',\n",
       " '80분',\n",
       " '60분',\n",
       " '20~30분',\n",
       " '50분',\n",
       " '30분',\n",
       " '45분',\n",
       " '80분',\n",
       " '40분',\n",
       " '50분',\n",
       " '60분',\n",
       " '30분',\n",
       " '20분',\n",
       " '24분',\n",
       " '48분',\n",
       " '1시간20분',\n",
       " '1시간20분',\n",
       " '20분',\n",
       " '42분',\n",
       " '30분',\n",
       " '60분',\n",
       " '48분',\n",
       " '30분',\n",
       " '35분',\n",
       " '60분',\n",
       " '60분',\n",
       " '1시간',\n",
       " '2시간',\n",
       " '1시간',\n",
       " '35분',\n",
       " '30분',\n",
       " '16분',\n",
       " '30분',\n",
       " '9분',\n",
       " '20분',\n",
       " '5시간',\n",
       " '30분',\n",
       " '30분',\n",
       " '40분',\n",
       " '30분',\n",
       " '2시간',\n",
       " '30분',\n",
       " '30분',\n",
       " '40분',\n",
       " '30분',\n",
       " '30분',\n",
       " '40분',\n",
       " '1시간',\n",
       " '60분',\n",
       " '25분',\n",
       " '30분',\n",
       " '30분',\n",
       " '30분',\n",
       " '35분',\n",
       " '22분',\n",
       " '30분',\n",
       " '1시간',\n",
       " '30분',\n",
       " '48분',\n",
       " '1시간',\n",
       " '15분',\n",
       " '40분',\n",
       " '25분',\n",
       " '55분',\n",
       " '12~30분',\n",
       " '20분',\n",
       " '48분',\n",
       " '1시간',\n",
       " '15분',\n",
       " '40분',\n",
       " '40분',\n",
       " '20분',\n",
       " '60분',\n",
       " '1시간50분',\n",
       " '35분',\n",
       " '35분',\n",
       " '12~15분',\n",
       " '35분',\n",
       " '40분',\n",
       " '80분',\n",
       " '40분',\n",
       " '30분',\n",
       " '30분',\n",
       " '11분',\n",
       " '35분',\n",
       " '30분',\n",
       " '30분',\n",
       " '15분',\n",
       " '30분',\n",
       " '1시간20분',\n",
       " '60분',\n",
       " '30분',\n",
       " '20분',\n",
       " '50분',\n",
       " '35분',\n",
       " '1시간',\n",
       " '9분',\n",
       " '50분',\n",
       " '40분',\n",
       " '15분',\n",
       " '30분',\n",
       " '50분',\n",
       " '2시간',\n",
       " '20분',\n",
       " '50분',\n",
       " '28분',\n",
       " '48분',\n",
       " '35분',\n",
       " '24분',\n",
       " '50분',\n",
       " '1시간',\n",
       " '50분',\n",
       " '40분',\n",
       " '1시간',\n",
       " '2시간',\n",
       " '35분',\n",
       " '40분',\n",
       " '30분',\n",
       " '15분',\n",
       " '7~10분',\n",
       " '30분',\n",
       " '20분',\n",
       " '60분',\n",
       " '25분',\n",
       " '35분',\n",
       " '30분',\n",
       " '55분',\n",
       " '50분',\n",
       " '30분',\n",
       " '1시간25분',\n",
       " '15분',\n",
       " '40분',\n",
       " '40분',\n",
       " '2시간',\n",
       " '1시간',\n",
       " '1시간',\n",
       " '10~15분',\n",
       " '21분',\n",
       " '15분',\n",
       " '40분',\n",
       " '5분~10분',\n",
       " '40분',\n",
       " '48분',\n",
       " '48분',\n",
       " '1시간',\n",
       " '15분',\n",
       " '40분',\n",
       " '60분',\n",
       " '60분',\n",
       " '2시간',\n",
       " '15~18분',\n",
       " '60분',\n",
       " '35분',\n",
       " '40분',\n",
       " '40분',\n",
       " '1시간',\n",
       " '40분',\n",
       " '40분',\n",
       " '40분',\n",
       " '30분',\n",
       " '120분',\n",
       " '55분',\n",
       " '40분',\n",
       " '40분',\n",
       " '120분',\n",
       " '흡입 60분, 물걸레 300분',\n",
       " '40분',\n",
       " '30분',\n",
       " '40분',\n",
       " '15분',\n",
       " '30분',\n",
       " '40분',\n",
       " '1시간~1시간30분',\n",
       " '40분',\n",
       " '40분',\n",
       " '40분',\n",
       " '40분',\n",
       " '40분',\n",
       " '35분',\n",
       " '35분',\n",
       " '60분',\n",
       " '11분',\n",
       " '45분',\n",
       " '30분',\n",
       " '45분',\n",
       " '45분',\n",
       " '12분',\n",
       " '30분',\n",
       " '30분',\n",
       " '35분',\n",
       " '60분',\n",
       " '1시간',\n",
       " '12분',\n",
       " '30분',\n",
       " '15분',\n",
       " '30분',\n",
       " '35분',\n",
       " '35분',\n",
       " '60분',\n",
       " '30분',\n",
       " '30분',\n",
       " '20분',\n",
       " '30분',\n",
       " '20분',\n",
       " '60분',\n",
       " '45분',\n",
       " '40분',\n",
       " '40분',\n",
       " '1시간50분']"
      ]
     },
     "execution_count": 147,
     "metadata": {},
     "output_type": "execute_result"
    }
   ],
   "source": [
    "time_spec_list"
   ]
  },
  {
   "cell_type": "code",
   "execution_count": 164,
   "metadata": {},
   "outputs": [],
   "source": [
    "# 시간 통일\n",
    "\n",
    "def convert_time_minute(time):\n",
    "    try:\n",
    "        if '시간' in time:\n",
    "            hour = time.split('시간')[0]\n",
    "            if '분' in time:\n",
    "                minute = time.split('시간')[-1].split('분')[0]\n",
    "            else:\n",
    "                minute = 0\n",
    "        else:\n",
    "            hour = 0\n",
    "            minute = time.split('분')[0]\n",
    "        return int(hour)*60+int(minute)\n",
    "    except:\n",
    "        return None"
   ]
  },
  {
   "cell_type": "code",
   "execution_count": 179,
   "metadata": {},
   "outputs": [],
   "source": [
    "# 기억: 이런식으로 작성하면 오류가 날 가능성이 매우매우 높으므로 함수 작성시 항상 try,except return None 구문을 이용할 것\n",
    "\n",
    "def convert_time_minute2(time):\n",
    "    if '시간' in time:\n",
    "        hour = time.split('시간')[0]\n",
    "        if '분' in time:\n",
    "            minute = time.split('시간')[-1].split('분')[0]\n",
    "        else:\n",
    "            minute = 0\n",
    "    else:\n",
    "        hour = 0\n",
    "        minute = time.split('분')[0]\n",
    "    return int(hour)*60+int(minute)"
   ]
  },
  {
   "cell_type": "code",
   "execution_count": 153,
   "metadata": {},
   "outputs": [
    {
     "name": "stdout",
     "output_type": "stream",
     "text": [
      "90\n",
      "180\n",
      "60\n",
      "135\n"
     ]
    }
   ],
   "source": [
    "a= ['1시간30분','3시간','60분','2시간15분']\n",
    "for i in a:\n",
    "    j=convert_time_minute(i)\n",
    "    print(j)"
   ]
  },
  {
   "cell_type": "code",
   "execution_count": 166,
   "metadata": {},
   "outputs": [
    {
     "data": {
      "text/plain": [
       "0       70.0\n",
       "1       65.0\n",
       "2       70.0\n",
       "3      120.0\n",
       "4       60.0\n",
       "       ...  \n",
       "297     60.0\n",
       "298     45.0\n",
       "299     40.0\n",
       "300     40.0\n",
       "301    110.0\n",
       "Length: 302, dtype: float64"
      ]
     },
     "execution_count": 166,
     "metadata": {},
     "output_type": "execute_result"
    }
   ],
   "source": [
    "time_spec_Series = pd.Series(time_spec_list).map(convert_time_minute)\n",
    "time_spec_Series"
   ]
  },
  {
   "cell_type": "code",
   "execution_count": 170,
   "metadata": {},
   "outputs": [
    {
     "data": {
      "text/html": [
       "<div>\n",
       "<style scoped>\n",
       "    .dataframe tbody tr th:only-of-type {\n",
       "        vertical-align: middle;\n",
       "    }\n",
       "\n",
       "    .dataframe tbody tr th {\n",
       "        vertical-align: top;\n",
       "    }\n",
       "\n",
       "    .dataframe thead th {\n",
       "        text-align: right;\n",
       "    }\n",
       "</style>\n",
       "<table border=\"1\" class=\"dataframe\">\n",
       "  <thead>\n",
       "    <tr style=\"text-align: right;\">\n",
       "      <th></th>\n",
       "      <th>상품명</th>\n",
       "      <th>스펙_목록</th>\n",
       "      <th>가격</th>\n",
       "      <th>지속시간</th>\n",
       "    </tr>\n",
       "  </thead>\n",
       "  <tbody>\n",
       "    <tr>\n",
       "      <td>0</td>\n",
       "      <td>델로라 V11 파워 300W</td>\n",
       "      <td>핸디/스틱청소기  / 핸디+스틱형  / 무선형  / 전압: 29.6V / 헤파필터 ...</td>\n",
       "      <td>139000</td>\n",
       "      <td>70.0</td>\n",
       "    </tr>\n",
       "    <tr>\n",
       "      <td>1</td>\n",
       "      <td>원더스리빙 원더스 다이나킹 Z9</td>\n",
       "      <td>핸디/스틱청소기  / 핸디+스틱형  / 무선형  / 전압: 28.8V / 헤파필터 ...</td>\n",
       "      <td>299000</td>\n",
       "      <td>65.0</td>\n",
       "    </tr>\n",
       "    <tr>\n",
       "      <td>2</td>\n",
       "      <td>델로라 V11 파워 300W</td>\n",
       "      <td>핸디/스틱청소기 / 핸디+스틱형 / 무선형 / 전압: 29.6V / 헤파필터 / 싸...</td>\n",
       "      <td>139000</td>\n",
       "      <td>70.0</td>\n",
       "    </tr>\n",
       "    <tr>\n",
       "      <td>3</td>\n",
       "      <td>삼성전자 제트 VS20R9078S2</td>\n",
       "      <td>핸디/스틱청소기 / 핸디+스틱형 / 무선형 / 전압: 21.9V / 헤파필터 / 싸...</td>\n",
       "      <td>799330</td>\n",
       "      <td>120.0</td>\n",
       "    </tr>\n",
       "    <tr>\n",
       "      <td>4</td>\n",
       "      <td>샤오미 드리미 V10</td>\n",
       "      <td>핸디/스틱청소기 / 핸디+스틱형 / 무선형 / 전압: 25.2V / 헤파필터 / H...</td>\n",
       "      <td>171760</td>\n",
       "      <td>60.0</td>\n",
       "    </tr>\n",
       "  </tbody>\n",
       "</table>\n",
       "</div>"
      ],
      "text/plain": [
       "                   상품명                                              스펙_목록  \\\n",
       "0      델로라 V11 파워 300W  핸디/스틱청소기  / 핸디+스틱형  / 무선형  / 전압: 29.6V / 헤파필터 ...   \n",
       "1    원더스리빙 원더스 다이나킹 Z9  핸디/스틱청소기  / 핸디+스틱형  / 무선형  / 전압: 28.8V / 헤파필터 ...   \n",
       "2      델로라 V11 파워 300W  핸디/스틱청소기 / 핸디+스틱형 / 무선형 / 전압: 29.6V / 헤파필터 / 싸...   \n",
       "3  삼성전자 제트 VS20R9078S2  핸디/스틱청소기 / 핸디+스틱형 / 무선형 / 전압: 21.9V / 헤파필터 / 싸...   \n",
       "4          샤오미 드리미 V10  핸디/스틱청소기 / 핸디+스틱형 / 무선형 / 전압: 25.2V / 헤파필터 / H...   \n",
       "\n",
       "       가격   지속시간  \n",
       "0  139000   70.0  \n",
       "1  299000   65.0  \n",
       "2  139000   70.0  \n",
       "3  799330  120.0  \n",
       "4  171760   60.0  "
      ]
     },
     "execution_count": 170,
     "metadata": {},
     "output_type": "execute_result"
    }
   ],
   "source": [
    "data['지속시간']=time_spec_Series\n",
    "data.head()"
   ]
  },
  {
   "cell_type": "code",
   "execution_count": 172,
   "metadata": {},
   "outputs": [],
   "source": [
    "# 무선청소기 흡입력 단위 통일시키기\n",
    "\n",
    "# 대략 1W = 1AW = 100PA로 간주"
   ]
  },
  {
   "cell_type": "code",
   "execution_count": 174,
   "metadata": {},
   "outputs": [
    {
     "data": {
      "text/plain": [
       "['22000Pa',\n",
       " '22000Pa',\n",
       " '22000Pa',\n",
       " '200W',\n",
       " '22000Pa',\n",
       " '12,000Pa',\n",
       " '22000Pa',\n",
       " '140W',\n",
       " '155AW',\n",
       " '140W',\n",
       " '140W',\n",
       " '220AW',\n",
       " '220AW',\n",
       " '26000Pa',\n",
       " '12,000Pa',\n",
       " '7,000Pa',\n",
       " '150W',\n",
       " '150W',\n",
       " '140W',\n",
       " '185AW',\n",
       " '185AW',\n",
       " '60W',\n",
       " '140W',\n",
       " '9000Pa',\n",
       " '140W',\n",
       " '200W',\n",
       " '20000Pa',\n",
       " '20000Pa',\n",
       " '200W',\n",
       " '200W',\n",
       " '150W',\n",
       " '26000Pa',\n",
       " '26000Pa',\n",
       " '200W',\n",
       " '22000Pa',\n",
       " '22000Pa',\n",
       " '22000Pa',\n",
       " '22000Pa',\n",
       " '185AW',\n",
       " '200W',\n",
       " '200W',\n",
       " '160AW',\n",
       " '160AW',\n",
       " '130W',\n",
       " '6,200Pa',\n",
       " '6,200Pa',\n",
       " '6,200Pa',\n",
       " '200W',\n",
       " '10000Pa',\n",
       " '22000Pa',\n",
       " '22000Pa',\n",
       " '22000Pa',\n",
       " '22000Pa',\n",
       " '22000Pa',\n",
       " '155AW',\n",
       " '200W',\n",
       " '5,000Pa',\n",
       " '25000Pa',\n",
       " '100AW',\n",
       " '35AW',\n",
       " '35AW',\n",
       " '155AW',\n",
       " '9000Pa',\n",
       " '9000Pa',\n",
       " '9000Pa',\n",
       " '9000Pa',\n",
       " '9000Pa',\n",
       " '18500Pa',\n",
       " '18500Pa',\n",
       " '6000Pa',\n",
       " '6000Pa',\n",
       " '6000Pa',\n",
       " '155W',\n",
       " '155W',\n",
       " '155W',\n",
       " '155W',\n",
       " '7000Pa',\n",
       " '7000Pa',\n",
       " '19000Pa',\n",
       " '19000Pa',\n",
       " '150W',\n",
       " '155AW',\n",
       " '155AW',\n",
       " '115W',\n",
       " '150W',\n",
       " '200W',\n",
       " '115AW',\n",
       " '115AW',\n",
       " '155AW',\n",
       " '7000Pa',\n",
       " '140W',\n",
       " '18000Pa',\n",
       " '100AW',\n",
       " '12000Pa',\n",
       " '140W',\n",
       " '140W',\n",
       " '7000Pa',\n",
       " '25000Pa',\n",
       " '17000Pa',\n",
       " '17000Pa',\n",
       " '140W',\n",
       " '140W',\n",
       " '140W',\n",
       " '140W',\n",
       " '18000Pa',\n",
       " '100AW',\n",
       " '100AW',\n",
       " '100AW',\n",
       " '150W',\n",
       " '150W',\n",
       " '4,800Pa',\n",
       " '4,800Pa',\n",
       " '100AW',\n",
       " '20000Pa',\n",
       " '20000Pa',\n",
       " '20000Pa',\n",
       " '22000Pa',\n",
       " '200W',\n",
       " '200W',\n",
       " '200W',\n",
       " '200W',\n",
       " '23500Pa',\n",
       " '23500Pa',\n",
       " '19000Pa',\n",
       " '5,500Pa',\n",
       " '5,500Pa',\n",
       " '60W',\n",
       " '4500Pa',\n",
       " '4500Pa',\n",
       " '17000Pa',\n",
       " '22000Pa',\n",
       " '150W',\n",
       " '150W',\n",
       " '200W',\n",
       " '200W',\n",
       " '200W',\n",
       " '25000Pa',\n",
       " '25000Pa',\n",
       " '25000Pa',\n",
       " '25000Pa',\n",
       " '25000Pa',\n",
       " '200W',\n",
       " '12000Pa',\n",
       " '12000Pa',\n",
       " '12000Pa',\n",
       " '17000Pa',\n",
       " '12000Pa',\n",
       " '13000Pa',\n",
       " '13000Pa',\n",
       " '185AW',\n",
       " '120W',\n",
       " '120W',\n",
       " '20000Pa',\n",
       " '5,800Pa',\n",
       " '130W',\n",
       " '4,800Pa',\n",
       " '4,800Pa',\n",
       " '4,800Pa',\n",
       " '2,000Pa',\n",
       " '2,000Pa',\n",
       " '160AW',\n",
       " '5900Pa',\n",
       " '5900Pa',\n",
       " '22000Pa',\n",
       " '5,500Pa',\n",
       " '200W',\n",
       " '200W',\n",
       " '18000Pa',\n",
       " '25W',\n",
       " '35W',\n",
       " '35W',\n",
       " '25000Pa',\n",
       " '140W',\n",
       " '22000Pa',\n",
       " '22000Pa',\n",
       " '6000Pa',\n",
       " '6000Pa',\n",
       " '6000Pa',\n",
       " '6000Pa',\n",
       " '6000Pa',\n",
       " '6000Pa',\n",
       " '6000Pa',\n",
       " '6000Pa',\n",
       " '6000Pa',\n",
       " '6000Pa',\n",
       " '5,200Pa',\n",
       " '25000Pa',\n",
       " '20000Pa',\n",
       " '185AW',\n",
       " '185AW',\n",
       " '25000Pa',\n",
       " '180W',\n",
       " '180W',\n",
       " '180W',\n",
       " '180W',\n",
       " '200W',\n",
       " '30W',\n",
       " '8500Pa',\n",
       " '8500Pa',\n",
       " '8500Pa',\n",
       " '1,3000Pa',\n",
       " '1,3000Pa',\n",
       " '20000Pa',\n",
       " '22000Pa',\n",
       " '22000Pa',\n",
       " '150W',\n",
       " '150W',\n",
       " '150W',\n",
       " '9000Pa',\n",
       " '150W',\n",
       " '22000Pa',\n",
       " '86W',\n",
       " '86W',\n",
       " '86W',\n",
       " '86W',\n",
       " '86W',\n",
       " '20000Pa',\n",
       " '19000Pa',\n",
       " '19000Pa',\n",
       " '19000Pa',\n",
       " '19000Pa',\n",
       " '22000Pa',\n",
       " '19000Pa',\n",
       " '19000Pa',\n",
       " '150W',\n",
       " '150W',\n",
       " '200W',\n",
       " '20000Pa',\n",
       " '20000Pa',\n",
       " '20000Pa',\n",
       " '4,000Pa',\n",
       " '4,000Pa',\n",
       " '20000Pa',\n",
       " '35W',\n",
       " '22000Pa',\n",
       " '22000Pa',\n",
       " '22000Pa',\n",
       " '185AW',\n",
       " '185AW',\n",
       " '185AW',\n",
       " '185AW',\n",
       " '185AW',\n",
       " '200W',\n",
       " '200W',\n",
       " '160AW',\n",
       " '8000Pa',\n",
       " '18000Pa',\n",
       " '18000Pa',\n",
       " '10000Pa',\n",
       " '10000Pa',\n",
       " '10000Pa',\n",
       " '10000Pa',\n",
       " '18000Pa',\n",
       " '200W',\n",
       " '200W',\n",
       " '200W',\n",
       " '200W',\n",
       " '200W',\n",
       " '200W',\n",
       " '200W',\n",
       " '200W',\n",
       " '150W',\n",
       " '150W',\n",
       " '5500Pa',\n",
       " '115AW',\n",
       " '140W',\n",
       " '140W',\n",
       " '140W',\n",
       " '140W',\n",
       " '140W',\n",
       " '250W',\n",
       " '250W',\n",
       " '250W',\n",
       " '250W',\n",
       " '250W',\n",
       " '13000Pa',\n",
       " '17000Pa',\n",
       " '20000Pa',\n",
       " '20000Pa',\n",
       " '20000Pa',\n",
       " '4,500Pa',\n",
       " '100AW',\n",
       " '18000Pa',\n",
       " '18000Pa',\n",
       " '21000Pa',\n",
       " '21000Pa',\n",
       " '8000Pa',\n",
       " '5,000Pa',\n",
       " '100AW',\n",
       " '19000Pa',\n",
       " '19000Pa',\n",
       " '19000Pa',\n",
       " '19000Pa',\n",
       " '19000Pa',\n",
       " '90W',\n",
       " '6000Pa',\n",
       " '6000Pa',\n",
       " '120AW',\n",
       " '120AW',\n",
       " '120AW',\n",
       " '18AW',\n",
       " '18AW']"
      ]
     },
     "execution_count": 174,
     "metadata": {},
     "output_type": "execute_result"
    }
   ],
   "source": [
    "suction_spec_list"
   ]
  },
  {
   "cell_type": "code",
   "execution_count": 180,
   "metadata": {},
   "outputs": [],
   "source": [
    "def get_suction(value):\n",
    "    try:\n",
    "        value = value.upper()\n",
    "        if 'AW' in value or 'W' in value:\n",
    "            result = value.replace(\"A\",\"\").replace(\"W\",\"\")\n",
    "            result = int(result.replace(',',''))\n",
    "        elif \"PA\" in value:\n",
    "            result = value.replace(\"PA\",\"\")\n",
    "            result = int(result.replace(\",\",\"\"))/100\n",
    "        else:\n",
    "            result = None\n",
    "        return result\n",
    "    except:\n",
    "        return None"
   ]
  },
  {
   "cell_type": "code",
   "execution_count": 182,
   "metadata": {},
   "outputs": [
    {
     "name": "stdout",
     "output_type": "stream",
     "text": [
      "100\n",
      "0.5\n",
      "31\n"
     ]
    }
   ],
   "source": [
    "ls = [\"100AW\",\"50pa\",\"31w\"]\n",
    "for i in ls:\n",
    "    print(get_suction(i))"
   ]
  },
  {
   "cell_type": "code",
   "execution_count": 185,
   "metadata": {},
   "outputs": [
    {
     "data": {
      "text/html": [
       "<div>\n",
       "<style scoped>\n",
       "    .dataframe tbody tr th:only-of-type {\n",
       "        vertical-align: middle;\n",
       "    }\n",
       "\n",
       "    .dataframe tbody tr th {\n",
       "        vertical-align: top;\n",
       "    }\n",
       "\n",
       "    .dataframe thead th {\n",
       "        text-align: right;\n",
       "    }\n",
       "</style>\n",
       "<table border=\"1\" class=\"dataframe\">\n",
       "  <thead>\n",
       "    <tr style=\"text-align: right;\">\n",
       "      <th></th>\n",
       "      <th>상품명</th>\n",
       "      <th>스펙_목록</th>\n",
       "      <th>가격</th>\n",
       "      <th>지속시간</th>\n",
       "      <th>성능</th>\n",
       "    </tr>\n",
       "  </thead>\n",
       "  <tbody>\n",
       "    <tr>\n",
       "      <td>0</td>\n",
       "      <td>델로라 V11 파워 300W</td>\n",
       "      <td>핸디/스틱청소기  / 핸디+스틱형  / 무선형  / 전압: 29.6V / 헤파필터 ...</td>\n",
       "      <td>139000</td>\n",
       "      <td>70.0</td>\n",
       "      <td>220.0</td>\n",
       "    </tr>\n",
       "    <tr>\n",
       "      <td>1</td>\n",
       "      <td>원더스리빙 원더스 다이나킹 Z9</td>\n",
       "      <td>핸디/스틱청소기  / 핸디+스틱형  / 무선형  / 전압: 28.8V / 헤파필터 ...</td>\n",
       "      <td>299000</td>\n",
       "      <td>65.0</td>\n",
       "      <td>220.0</td>\n",
       "    </tr>\n",
       "    <tr>\n",
       "      <td>2</td>\n",
       "      <td>델로라 V11 파워 300W</td>\n",
       "      <td>핸디/스틱청소기 / 핸디+스틱형 / 무선형 / 전압: 29.6V / 헤파필터 / 싸...</td>\n",
       "      <td>139000</td>\n",
       "      <td>70.0</td>\n",
       "      <td>220.0</td>\n",
       "    </tr>\n",
       "    <tr>\n",
       "      <td>3</td>\n",
       "      <td>삼성전자 제트 VS20R9078S2</td>\n",
       "      <td>핸디/스틱청소기 / 핸디+스틱형 / 무선형 / 전압: 21.9V / 헤파필터 / 싸...</td>\n",
       "      <td>799330</td>\n",
       "      <td>120.0</td>\n",
       "      <td>200.0</td>\n",
       "    </tr>\n",
       "    <tr>\n",
       "      <td>4</td>\n",
       "      <td>샤오미 드리미 V10</td>\n",
       "      <td>핸디/스틱청소기 / 핸디+스틱형 / 무선형 / 전압: 25.2V / 헤파필터 / H...</td>\n",
       "      <td>171760</td>\n",
       "      <td>60.0</td>\n",
       "      <td>220.0</td>\n",
       "    </tr>\n",
       "    <tr>\n",
       "      <td>...</td>\n",
       "      <td>...</td>\n",
       "      <td>...</td>\n",
       "      <td>...</td>\n",
       "      <td>...</td>\n",
       "      <td>...</td>\n",
       "    </tr>\n",
       "    <tr>\n",
       "      <td>297</td>\n",
       "      <td>샤오미 드리미 V9B</td>\n",
       "      <td>핸디/스틱청소기 / 핸디+스틱형 / 무선형 / 전압: 25.2V / 헤파필터 / 싸...</td>\n",
       "      <td>141100</td>\n",
       "      <td>60.0</td>\n",
       "      <td>120.0</td>\n",
       "    </tr>\n",
       "    <tr>\n",
       "      <td>298</td>\n",
       "      <td>테팔 TY7231</td>\n",
       "      <td>핸디/스틱청소기 / 핸디+스틱형 / 무선형 / 전압: 22V / 싸이클론 / DC모...</td>\n",
       "      <td>211000</td>\n",
       "      <td>45.0</td>\n",
       "      <td>120.0</td>\n",
       "    </tr>\n",
       "    <tr>\n",
       "      <td>299</td>\n",
       "      <td>한경희생활과학 VS-1000MB</td>\n",
       "      <td>핸디/스틱청소기 / 핸디+스틱형 / 무선형 / 전압: 14.4V / 헤파필터 / 싸...</td>\n",
       "      <td>83910</td>\n",
       "      <td>40.0</td>\n",
       "      <td>120.0</td>\n",
       "    </tr>\n",
       "    <tr>\n",
       "      <td>300</td>\n",
       "      <td>블랙앤데커 DVJ315B</td>\n",
       "      <td>핸디/스틱청소기 / 핸디형 / 무선형 / 전압: 10.8V / 흡입력: 18AW /...</td>\n",
       "      <td>63000</td>\n",
       "      <td>40.0</td>\n",
       "      <td>18.0</td>\n",
       "    </tr>\n",
       "    <tr>\n",
       "      <td>301</td>\n",
       "      <td>코끼리 제로맙</td>\n",
       "      <td>물걸레청소기 / 스틱형 / 물걸레전용 / 왕복식 / 무선형 / 전압: 11.1V /...</td>\n",
       "      <td>119000</td>\n",
       "      <td>110.0</td>\n",
       "      <td>18.0</td>\n",
       "    </tr>\n",
       "  </tbody>\n",
       "</table>\n",
       "<p>302 rows × 5 columns</p>\n",
       "</div>"
      ],
      "text/plain": [
       "                     상품명                                              스펙_목록  \\\n",
       "0        델로라 V11 파워 300W  핸디/스틱청소기  / 핸디+스틱형  / 무선형  / 전압: 29.6V / 헤파필터 ...   \n",
       "1      원더스리빙 원더스 다이나킹 Z9  핸디/스틱청소기  / 핸디+스틱형  / 무선형  / 전압: 28.8V / 헤파필터 ...   \n",
       "2        델로라 V11 파워 300W  핸디/스틱청소기 / 핸디+스틱형 / 무선형 / 전압: 29.6V / 헤파필터 / 싸...   \n",
       "3    삼성전자 제트 VS20R9078S2  핸디/스틱청소기 / 핸디+스틱형 / 무선형 / 전압: 21.9V / 헤파필터 / 싸...   \n",
       "4            샤오미 드리미 V10  핸디/스틱청소기 / 핸디+스틱형 / 무선형 / 전압: 25.2V / 헤파필터 / H...   \n",
       "..                   ...                                                ...   \n",
       "297          샤오미 드리미 V9B  핸디/스틱청소기 / 핸디+스틱형 / 무선형 / 전압: 25.2V / 헤파필터 / 싸...   \n",
       "298            테팔 TY7231  핸디/스틱청소기 / 핸디+스틱형 / 무선형 / 전압: 22V / 싸이클론 / DC모...   \n",
       "299    한경희생활과학 VS-1000MB  핸디/스틱청소기 / 핸디+스틱형 / 무선형 / 전압: 14.4V / 헤파필터 / 싸...   \n",
       "300        블랙앤데커 DVJ315B  핸디/스틱청소기 / 핸디형 / 무선형 / 전압: 10.8V / 흡입력: 18AW /...   \n",
       "301              코끼리 제로맙  물걸레청소기 / 스틱형 / 물걸레전용 / 왕복식 / 무선형 / 전압: 11.1V /...   \n",
       "\n",
       "         가격   지속시간     성능  \n",
       "0    139000   70.0  220.0  \n",
       "1    299000   65.0  220.0  \n",
       "2    139000   70.0  220.0  \n",
       "3    799330  120.0  200.0  \n",
       "4    171760   60.0  220.0  \n",
       "..      ...    ...    ...  \n",
       "297  141100   60.0  120.0  \n",
       "298  211000   45.0  120.0  \n",
       "299   83910   40.0  120.0  \n",
       "300   63000   40.0   18.0  \n",
       "301  119000  110.0   18.0  \n",
       "\n",
       "[302 rows x 5 columns]"
      ]
     },
     "execution_count": 185,
     "metadata": {},
     "output_type": "execute_result"
    }
   ],
   "source": [
    "data['성능'] = pd.Series(suction_spec_list).map(get_suction)\n",
    "data"
   ]
  },
  {
   "cell_type": "code",
   "execution_count": 187,
   "metadata": {},
   "outputs": [],
   "source": [
    "# time_spec_Series\n",
    "suction_Series = pd.Series(suction_spec_list).map(get_suction)\n",
    "\n",
    "# category_list\n",
    "# company_list\n",
    "# product_list"
   ]
  },
  {
   "cell_type": "code",
   "execution_count": 189,
   "metadata": {},
   "outputs": [
    {
     "data": {
      "text/html": [
       "<div>\n",
       "<style scoped>\n",
       "    .dataframe tbody tr th:only-of-type {\n",
       "        vertical-align: middle;\n",
       "    }\n",
       "\n",
       "    .dataframe tbody tr th {\n",
       "        vertical-align: top;\n",
       "    }\n",
       "\n",
       "    .dataframe thead th {\n",
       "        text-align: right;\n",
       "    }\n",
       "</style>\n",
       "<table border=\"1\" class=\"dataframe\">\n",
       "  <thead>\n",
       "    <tr style=\"text-align: right;\">\n",
       "      <th></th>\n",
       "      <th>카테고리</th>\n",
       "      <th>회사명</th>\n",
       "      <th>제품</th>\n",
       "      <th>가격</th>\n",
       "      <th>사용시간</th>\n",
       "      <th>흡입력</th>\n",
       "    </tr>\n",
       "  </thead>\n",
       "  <tbody>\n",
       "    <tr>\n",
       "      <td>0</td>\n",
       "      <td>핸디/스틱청소기</td>\n",
       "      <td>델로라</td>\n",
       "      <td>V11 파워 300W</td>\n",
       "      <td>139000</td>\n",
       "      <td>70.0</td>\n",
       "      <td>220.0</td>\n",
       "    </tr>\n",
       "    <tr>\n",
       "      <td>1</td>\n",
       "      <td>핸디/스틱청소기</td>\n",
       "      <td>원더스리빙</td>\n",
       "      <td>원더스 다이나킹 Z9</td>\n",
       "      <td>299000</td>\n",
       "      <td>65.0</td>\n",
       "      <td>220.0</td>\n",
       "    </tr>\n",
       "    <tr>\n",
       "      <td>2</td>\n",
       "      <td>핸디/스틱청소기</td>\n",
       "      <td>델로라</td>\n",
       "      <td>V11 파워 300W</td>\n",
       "      <td>139000</td>\n",
       "      <td>70.0</td>\n",
       "      <td>220.0</td>\n",
       "    </tr>\n",
       "    <tr>\n",
       "      <td>3</td>\n",
       "      <td>핸디/스틱청소기</td>\n",
       "      <td>삼성전자</td>\n",
       "      <td>제트 VS20R9078S2</td>\n",
       "      <td>799330</td>\n",
       "      <td>120.0</td>\n",
       "      <td>200.0</td>\n",
       "    </tr>\n",
       "    <tr>\n",
       "      <td>4</td>\n",
       "      <td>핸디/스틱청소기</td>\n",
       "      <td>샤오미</td>\n",
       "      <td>드리미 V10</td>\n",
       "      <td>171760</td>\n",
       "      <td>60.0</td>\n",
       "      <td>220.0</td>\n",
       "    </tr>\n",
       "  </tbody>\n",
       "</table>\n",
       "</div>"
      ],
      "text/plain": [
       "       카테고리    회사명              제품      가격   사용시간    흡입력\n",
       "0  핸디/스틱청소기    델로라     V11 파워 300W  139000   70.0  220.0\n",
       "1  핸디/스틱청소기  원더스리빙     원더스 다이나킹 Z9  299000   65.0  220.0\n",
       "2  핸디/스틱청소기    델로라     V11 파워 300W  139000   70.0  220.0\n",
       "3  핸디/스틱청소기   삼성전자  제트 VS20R9078S2  799330  120.0  200.0\n",
       "4  핸디/스틱청소기    샤오미         드리미 V10  171760   60.0  220.0"
      ]
     },
     "execution_count": 189,
     "metadata": {},
     "output_type": "execute_result"
    }
   ],
   "source": [
    "df = pd.DataFrame([])\n",
    "df['카테고리'] = category_list\n",
    "df['회사명'] = company_list\n",
    "df['제품'] = product_list\n",
    "df['가격'] = data['가격']\n",
    "df['사용시간'] = time_spec_Series\n",
    "df['흡입력'] = suction_Series\n",
    "df.head()"
   ]
  },
  {
   "cell_type": "code",
   "execution_count": 191,
   "metadata": {},
   "outputs": [
    {
     "data": {
      "text/plain": [
       "핸디/스틱청소기    249\n",
       "물걸레청소기       31\n",
       "차량용청소기       17\n",
       "침구청소기         3\n",
       "업소용청소기        1\n",
       "진공청소기         1\n",
       "Name: 카테고리, dtype: int64"
      ]
     },
     "execution_count": 191,
     "metadata": {},
     "output_type": "execute_result"
    }
   ],
   "source": [
    "df['카테고리'].value_counts()"
   ]
  },
  {
   "cell_type": "markdown",
   "metadata": {},
   "source": [
    "### 잠시 기억할 것\n",
    "ㅇㄹ.isin([리스트])"
   ]
  },
  {
   "cell_type": "code",
   "execution_count": 9,
   "metadata": {},
   "outputs": [],
   "source": [
    "import pandas as pd"
   ]
  },
  {
   "cell_type": "code",
   "execution_count": 16,
   "metadata": {},
   "outputs": [
    {
     "data": {
      "text/html": [
       "<div>\n",
       "<style scoped>\n",
       "    .dataframe tbody tr th:only-of-type {\n",
       "        vertical-align: middle;\n",
       "    }\n",
       "\n",
       "    .dataframe tbody tr th {\n",
       "        vertical-align: top;\n",
       "    }\n",
       "\n",
       "    .dataframe thead th {\n",
       "        text-align: right;\n",
       "    }\n",
       "</style>\n",
       "<table border=\"1\" class=\"dataframe\">\n",
       "  <thead>\n",
       "    <tr style=\"text-align: right;\">\n",
       "      <th></th>\n",
       "      <th>카테고리</th>\n",
       "      <th>회사명</th>\n",
       "      <th>제품</th>\n",
       "      <th>가격</th>\n",
       "      <th>사용시간</th>\n",
       "      <th>흡입력</th>\n",
       "    </tr>\n",
       "  </thead>\n",
       "  <tbody>\n",
       "    <tr>\n",
       "      <td>0</td>\n",
       "      <td>핸디/스틱청소기</td>\n",
       "      <td>델로라</td>\n",
       "      <td>V11 파워 300W</td>\n",
       "      <td>139000</td>\n",
       "      <td>70.0</td>\n",
       "      <td>220</td>\n",
       "    </tr>\n",
       "    <tr>\n",
       "      <td>1</td>\n",
       "      <td>핸디/스틱청소기</td>\n",
       "      <td>원더스리빙</td>\n",
       "      <td>원더스 다이나킹 Z9</td>\n",
       "      <td>299000</td>\n",
       "      <td>65.0</td>\n",
       "      <td>220</td>\n",
       "    </tr>\n",
       "    <tr>\n",
       "      <td>2</td>\n",
       "      <td>핸디/스틱청소기</td>\n",
       "      <td>델로라</td>\n",
       "      <td>V11 파워 300W</td>\n",
       "      <td>139000</td>\n",
       "      <td>70.0</td>\n",
       "      <td>220</td>\n",
       "    </tr>\n",
       "    <tr>\n",
       "      <td>3</td>\n",
       "      <td>핸디/스틱청소기</td>\n",
       "      <td>삼성전자</td>\n",
       "      <td>제트 VS20R9078S2</td>\n",
       "      <td>799330</td>\n",
       "      <td>120.0</td>\n",
       "      <td>200</td>\n",
       "    </tr>\n",
       "    <tr>\n",
       "      <td>4</td>\n",
       "      <td>핸디/스틱청소기</td>\n",
       "      <td>샤오미</td>\n",
       "      <td>드리미 V10</td>\n",
       "      <td>171760</td>\n",
       "      <td>60.0</td>\n",
       "      <td>220</td>\n",
       "    </tr>\n",
       "  </tbody>\n",
       "</table>\n",
       "</div>"
      ],
      "text/plain": [
       "       카테고리    회사명              제품      가격   사용시간  흡입력\n",
       "0  핸디/스틱청소기    델로라     V11 파워 300W  139000   70.0  220\n",
       "1  핸디/스틱청소기  원더스리빙     원더스 다이나킹 Z9  299000   65.0  220\n",
       "2  핸디/스틱청소기    델로라     V11 파워 300W  139000   70.0  220\n",
       "3  핸디/스틱청소기   삼성전자  제트 VS20R9078S2  799330  120.0  200\n",
       "4  핸디/스틱청소기    샤오미         드리미 V10  171760   60.0  220"
      ]
     },
     "execution_count": 16,
     "metadata": {},
     "output_type": "execute_result"
    }
   ],
   "source": [
    "df = pd.read_excel('April5.xlsx',index_col=0)\n",
    "df.head()"
   ]
  },
  {
   "cell_type": "code",
   "execution_count": 17,
   "metadata": {},
   "outputs": [
    {
     "data": {
      "text/plain": [
       "핸디/스틱청소기    249\n",
       "물걸레청소기       31\n",
       "차량용청소기       17\n",
       "침구청소기         3\n",
       "업소용청소기        1\n",
       "진공청소기         1\n",
       "Name: 카테고리, dtype: int64"
      ]
     },
     "execution_count": 17,
     "metadata": {},
     "output_type": "execute_result"
    }
   ],
   "source": [
    "df['카테고리'].value_counts()"
   ]
  },
  {
   "cell_type": "code",
   "execution_count": 24,
   "metadata": {},
   "outputs": [
    {
     "data": {
      "text/html": [
       "<div>\n",
       "<style scoped>\n",
       "    .dataframe tbody tr th:only-of-type {\n",
       "        vertical-align: middle;\n",
       "    }\n",
       "\n",
       "    .dataframe tbody tr th {\n",
       "        vertical-align: top;\n",
       "    }\n",
       "\n",
       "    .dataframe thead th {\n",
       "        text-align: right;\n",
       "    }\n",
       "</style>\n",
       "<table border=\"1\" class=\"dataframe\">\n",
       "  <thead>\n",
       "    <tr style=\"text-align: right;\">\n",
       "      <th></th>\n",
       "      <th>카테고리</th>\n",
       "      <th>회사명</th>\n",
       "      <th>제품</th>\n",
       "      <th>가격</th>\n",
       "      <th>사용시간</th>\n",
       "      <th>흡입력</th>\n",
       "    </tr>\n",
       "  </thead>\n",
       "  <tbody>\n",
       "    <tr>\n",
       "      <td>0</td>\n",
       "      <td>핸디/스틱청소기</td>\n",
       "      <td>델로라</td>\n",
       "      <td>V11 파워 300W</td>\n",
       "      <td>139000</td>\n",
       "      <td>70.0</td>\n",
       "      <td>220</td>\n",
       "    </tr>\n",
       "    <tr>\n",
       "      <td>1</td>\n",
       "      <td>핸디/스틱청소기</td>\n",
       "      <td>원더스리빙</td>\n",
       "      <td>원더스 다이나킹 Z9</td>\n",
       "      <td>299000</td>\n",
       "      <td>65.0</td>\n",
       "      <td>220</td>\n",
       "    </tr>\n",
       "    <tr>\n",
       "      <td>2</td>\n",
       "      <td>핸디/스틱청소기</td>\n",
       "      <td>델로라</td>\n",
       "      <td>V11 파워 300W</td>\n",
       "      <td>139000</td>\n",
       "      <td>70.0</td>\n",
       "      <td>220</td>\n",
       "    </tr>\n",
       "    <tr>\n",
       "      <td>3</td>\n",
       "      <td>핸디/스틱청소기</td>\n",
       "      <td>삼성전자</td>\n",
       "      <td>제트 VS20R9078S2</td>\n",
       "      <td>799330</td>\n",
       "      <td>120.0</td>\n",
       "      <td>200</td>\n",
       "    </tr>\n",
       "    <tr>\n",
       "      <td>4</td>\n",
       "      <td>핸디/스틱청소기</td>\n",
       "      <td>샤오미</td>\n",
       "      <td>드리미 V10</td>\n",
       "      <td>171760</td>\n",
       "      <td>60.0</td>\n",
       "      <td>220</td>\n",
       "    </tr>\n",
       "  </tbody>\n",
       "</table>\n",
       "</div>"
      ],
      "text/plain": [
       "       카테고리    회사명              제품      가격   사용시간  흡입력\n",
       "0  핸디/스틱청소기    델로라     V11 파워 300W  139000   70.0  220\n",
       "1  핸디/스틱청소기  원더스리빙     원더스 다이나킹 Z9  299000   65.0  220\n",
       "2  핸디/스틱청소기    델로라     V11 파워 300W  139000   70.0  220\n",
       "3  핸디/스틱청소기   삼성전자  제트 VS20R9078S2  799330  120.0  200\n",
       "4  핸디/스틱청소기    샤오미         드리미 V10  171760   60.0  220"
      ]
     },
     "execution_count": 24,
     "metadata": {},
     "output_type": "execute_result"
    }
   ],
   "source": [
    "final = df[df['카테고리'].isin(['핸디/스틱청소기'])]\n",
    "final.head()"
   ]
  },
  {
   "cell_type": "code",
   "execution_count": 25,
   "metadata": {},
   "outputs": [],
   "source": [
    "final.to_excel('aaa.xlsx',index=False)"
   ]
  },
  {
   "cell_type": "markdown",
   "metadata": {},
   "source": [
    "### 가격, 사용시간, 흡입력 등 특징에 따른 인기 제품 간 비교 분석을 진행"
   ]
  },
  {
   "cell_type": "code",
   "execution_count": 31,
   "metadata": {},
   "outputs": [
    {
     "data": {
      "text/html": [
       "<div>\n",
       "<style scoped>\n",
       "    .dataframe tbody tr th:only-of-type {\n",
       "        vertical-align: middle;\n",
       "    }\n",
       "\n",
       "    .dataframe tbody tr th {\n",
       "        vertical-align: top;\n",
       "    }\n",
       "\n",
       "    .dataframe thead th {\n",
       "        text-align: right;\n",
       "    }\n",
       "</style>\n",
       "<table border=\"1\" class=\"dataframe\">\n",
       "  <thead>\n",
       "    <tr style=\"text-align: right;\">\n",
       "      <th></th>\n",
       "      <th>카테고리</th>\n",
       "      <th>회사명</th>\n",
       "      <th>제품</th>\n",
       "      <th>가격</th>\n",
       "      <th>사용시간</th>\n",
       "      <th>흡입력</th>\n",
       "    </tr>\n",
       "  </thead>\n",
       "  <tbody>\n",
       "    <tr>\n",
       "      <td>32</td>\n",
       "      <td>핸디/스틱청소기</td>\n",
       "      <td>다이슨</td>\n",
       "      <td>V10 플러피</td>\n",
       "      <td>654650</td>\n",
       "      <td>60.0</td>\n",
       "      <td>260</td>\n",
       "    </tr>\n",
       "    <tr>\n",
       "      <td>13</td>\n",
       "      <td>핸디/스틱청소기</td>\n",
       "      <td>샤오미</td>\n",
       "      <td>SHUNZAO Z11 PRO</td>\n",
       "      <td>175000</td>\n",
       "      <td>60.0</td>\n",
       "      <td>260</td>\n",
       "    </tr>\n",
       "    <tr>\n",
       "      <td>31</td>\n",
       "      <td>핸디/스틱청소기</td>\n",
       "      <td>샤오미</td>\n",
       "      <td>SHUNZAO Z11</td>\n",
       "      <td>153640</td>\n",
       "      <td>60.0</td>\n",
       "      <td>260</td>\n",
       "    </tr>\n",
       "    <tr>\n",
       "      <td>97</td>\n",
       "      <td>핸디/스틱청소기</td>\n",
       "      <td>DIBEA</td>\n",
       "      <td>M500 퀀텀</td>\n",
       "      <td>259000</td>\n",
       "      <td>50.0</td>\n",
       "      <td>250</td>\n",
       "    </tr>\n",
       "    <tr>\n",
       "      <td>271</td>\n",
       "      <td>핸디/스틱청소기</td>\n",
       "      <td>롯데알미늄</td>\n",
       "      <td>LS295</td>\n",
       "      <td>169000</td>\n",
       "      <td>35.0</td>\n",
       "      <td>250</td>\n",
       "    </tr>\n",
       "  </tbody>\n",
       "</table>\n",
       "</div>"
      ],
      "text/plain": [
       "         카테고리    회사명               제품      가격  사용시간  흡입력\n",
       "32   핸디/스틱청소기    다이슨          V10 플러피  654650  60.0  260\n",
       "13   핸디/스틱청소기    샤오미  SHUNZAO Z11 PRO  175000  60.0  260\n",
       "31   핸디/스틱청소기    샤오미      SHUNZAO Z11  153640  60.0  260\n",
       "97   핸디/스틱청소기  DIBEA          M500 퀀텀  259000  50.0  250\n",
       "271  핸디/스틱청소기  롯데알미늄            LS295  169000  35.0  250"
      ]
     },
     "execution_count": 31,
     "metadata": {},
     "output_type": "execute_result"
    }
   ],
   "source": [
    "sort_by_suction = final.sort_values(by='흡입력',ascending=False)\n",
    "sort_by_suction.head()"
   ]
  },
  {
   "cell_type": "code",
   "execution_count": 33,
   "metadata": {},
   "outputs": [
    {
     "data": {
      "text/html": [
       "<div>\n",
       "<style scoped>\n",
       "    .dataframe tbody tr th:only-of-type {\n",
       "        vertical-align: middle;\n",
       "    }\n",
       "\n",
       "    .dataframe tbody tr th {\n",
       "        vertical-align: top;\n",
       "    }\n",
       "\n",
       "    .dataframe thead th {\n",
       "        text-align: right;\n",
       "    }\n",
       "</style>\n",
       "<table border=\"1\" class=\"dataframe\">\n",
       "  <thead>\n",
       "    <tr style=\"text-align: right;\">\n",
       "      <th></th>\n",
       "      <th>카테고리</th>\n",
       "      <th>회사명</th>\n",
       "      <th>제품</th>\n",
       "      <th>가격</th>\n",
       "      <th>사용시간</th>\n",
       "      <th>흡입력</th>\n",
       "    </tr>\n",
       "  </thead>\n",
       "  <tbody>\n",
       "    <tr>\n",
       "      <td>207</td>\n",
       "      <td>핸디/스틱청소기</td>\n",
       "      <td>샤오미</td>\n",
       "      <td>이지에 YE-01</td>\n",
       "      <td>28490</td>\n",
       "      <td>120.0</td>\n",
       "      <td>150</td>\n",
       "    </tr>\n",
       "    <tr>\n",
       "      <td>242</td>\n",
       "      <td>핸디/스틱청소기</td>\n",
       "      <td>삼성전자</td>\n",
       "      <td>제트 VS20T9279S6</td>\n",
       "      <td>1185530</td>\n",
       "      <td>120.0</td>\n",
       "      <td>200</td>\n",
       "    </tr>\n",
       "    <tr>\n",
       "      <td>47</td>\n",
       "      <td>핸디/스틱청소기</td>\n",
       "      <td>삼성전자</td>\n",
       "      <td>제트 VS20T9278S3</td>\n",
       "      <td>1186540</td>\n",
       "      <td>120.0</td>\n",
       "      <td>200</td>\n",
       "    </tr>\n",
       "    <tr>\n",
       "      <td>55</td>\n",
       "      <td>핸디/스틱청소기</td>\n",
       "      <td>삼성전자</td>\n",
       "      <td>제트 VS20T9279S6CS</td>\n",
       "      <td>1274560</td>\n",
       "      <td>120.0</td>\n",
       "      <td>200</td>\n",
       "    </tr>\n",
       "    <tr>\n",
       "      <td>133</td>\n",
       "      <td>핸디/스틱청소기</td>\n",
       "      <td>삼성전자</td>\n",
       "      <td>제트 VS20T8282B2CS</td>\n",
       "      <td>1357880</td>\n",
       "      <td>120.0</td>\n",
       "      <td>200</td>\n",
       "    </tr>\n",
       "  </tbody>\n",
       "</table>\n",
       "</div>"
      ],
      "text/plain": [
       "         카테고리   회사명                제품       가격   사용시간  흡입력\n",
       "207  핸디/스틱청소기   샤오미         이지에 YE-01    28490  120.0  150\n",
       "242  핸디/스틱청소기  삼성전자    제트 VS20T9279S6  1185530  120.0  200\n",
       "47   핸디/스틱청소기  삼성전자    제트 VS20T9278S3  1186540  120.0  200\n",
       "55   핸디/스틱청소기  삼성전자  제트 VS20T9279S6CS  1274560  120.0  200\n",
       "133  핸디/스틱청소기  삼성전자  제트 VS20T8282B2CS  1357880  120.0  200"
      ]
     },
     "execution_count": 33,
     "metadata": {},
     "output_type": "execute_result"
    }
   ],
   "source": [
    "sort_by_duration = final.sort_values(by='사용시간',ascending=False)\n",
    "sort_by_duration.head()"
   ]
  },
  {
   "cell_type": "code",
   "execution_count": 35,
   "metadata": {},
   "outputs": [
    {
     "data": {
      "text/html": [
       "<div>\n",
       "<style scoped>\n",
       "    .dataframe tbody tr th:only-of-type {\n",
       "        vertical-align: middle;\n",
       "    }\n",
       "\n",
       "    .dataframe tbody tr th {\n",
       "        vertical-align: top;\n",
       "    }\n",
       "\n",
       "    .dataframe thead th {\n",
       "        text-align: right;\n",
       "    }\n",
       "</style>\n",
       "<table border=\"1\" class=\"dataframe\">\n",
       "  <thead>\n",
       "    <tr style=\"text-align: right;\">\n",
       "      <th></th>\n",
       "      <th>카테고리</th>\n",
       "      <th>회사명</th>\n",
       "      <th>제품</th>\n",
       "      <th>가격</th>\n",
       "      <th>사용시간</th>\n",
       "      <th>흡입력</th>\n",
       "    </tr>\n",
       "  </thead>\n",
       "  <tbody>\n",
       "    <tr>\n",
       "      <td>3</td>\n",
       "      <td>핸디/스틱청소기</td>\n",
       "      <td>삼성전자</td>\n",
       "      <td>제트 VS20R9078S2</td>\n",
       "      <td>799330</td>\n",
       "      <td>120.0</td>\n",
       "      <td>200</td>\n",
       "    </tr>\n",
       "    <tr>\n",
       "      <td>33</td>\n",
       "      <td>핸디/스틱청소기</td>\n",
       "      <td>삼성전자</td>\n",
       "      <td>제트 VS20R9078S3</td>\n",
       "      <td>883620</td>\n",
       "      <td>120.0</td>\n",
       "      <td>200</td>\n",
       "    </tr>\n",
       "    <tr>\n",
       "      <td>39</td>\n",
       "      <td>핸디/스틱청소기</td>\n",
       "      <td>삼성전자</td>\n",
       "      <td>제트 VS20T9278S7</td>\n",
       "      <td>1216760</td>\n",
       "      <td>120.0</td>\n",
       "      <td>200</td>\n",
       "    </tr>\n",
       "    <tr>\n",
       "      <td>47</td>\n",
       "      <td>핸디/스틱청소기</td>\n",
       "      <td>삼성전자</td>\n",
       "      <td>제트 VS20T9278S3</td>\n",
       "      <td>1186540</td>\n",
       "      <td>120.0</td>\n",
       "      <td>200</td>\n",
       "    </tr>\n",
       "    <tr>\n",
       "      <td>55</td>\n",
       "      <td>핸디/스틱청소기</td>\n",
       "      <td>삼성전자</td>\n",
       "      <td>제트 VS20T9279S6CS</td>\n",
       "      <td>1274560</td>\n",
       "      <td>120.0</td>\n",
       "      <td>200</td>\n",
       "    </tr>\n",
       "  </tbody>\n",
       "</table>\n",
       "</div>"
      ],
      "text/plain": [
       "        카테고리   회사명                제품       가격   사용시간  흡입력\n",
       "3   핸디/스틱청소기  삼성전자    제트 VS20R9078S2   799330  120.0  200\n",
       "33  핸디/스틱청소기  삼성전자    제트 VS20R9078S3   883620  120.0  200\n",
       "39  핸디/스틱청소기  삼성전자    제트 VS20T9278S7  1216760  120.0  200\n",
       "47  핸디/스틱청소기  삼성전자    제트 VS20T9278S3  1186540  120.0  200\n",
       "55  핸디/스틱청소기  삼성전자  제트 VS20T9279S6CS  1274560  120.0  200"
      ]
     },
     "execution_count": 35,
     "metadata": {},
     "output_type": "execute_result"
    }
   ],
   "source": [
    "# 두 개의 컬럼을 기준으로 정렬, 사용시간이 우선순위\n",
    "\n",
    "sort_by_two_standard = final.sort_values(by=['사용시간','흡입력'],ascending=False)\n",
    "sort_by_two_standard.head()"
   ]
  },
  {
   "cell_type": "markdown",
   "metadata": {},
   "source": [
    "### 가성비 좋은 제품 살펴보기\n",
    "우선 각 모델을 가격, 흡입력, 사용시간의 평균 들과 비교하겠음"
   ]
  },
  {
   "cell_type": "code",
   "execution_count": 43,
   "metadata": {},
   "outputs": [
    {
     "name": "stdout",
     "output_type": "stream",
     "text": [
      "가격 평균: 374321.0843373494, 흡입력 평균: 155.93172690763052, 사용시간 평균: 47.231404958677686\n"
     ]
    }
   ],
   "source": [
    "price_mean = final['가격'].mean()\n",
    "suction_mean = final['흡입력'].mean()\n",
    "duration_mean = final['사용시간'].mean()\n",
    "print(\"가격 평균: {}, 흡입력 평균: {}, 사용시간 평균: {}\".format(price_mean,suction_mean,duration_mean))"
   ]
  },
  {
   "cell_type": "code",
   "execution_count": 54,
   "metadata": {},
   "outputs": [
    {
     "data": {
      "text/html": [
       "<div>\n",
       "<style scoped>\n",
       "    .dataframe tbody tr th:only-of-type {\n",
       "        vertical-align: middle;\n",
       "    }\n",
       "\n",
       "    .dataframe tbody tr th {\n",
       "        vertical-align: top;\n",
       "    }\n",
       "\n",
       "    .dataframe thead th {\n",
       "        text-align: right;\n",
       "    }\n",
       "</style>\n",
       "<table border=\"1\" class=\"dataframe\">\n",
       "  <thead>\n",
       "    <tr style=\"text-align: right;\">\n",
       "      <th></th>\n",
       "      <th>카테고리</th>\n",
       "      <th>회사명</th>\n",
       "      <th>제품</th>\n",
       "      <th>가격</th>\n",
       "      <th>사용시간</th>\n",
       "      <th>흡입력</th>\n",
       "    </tr>\n",
       "  </thead>\n",
       "  <tbody>\n",
       "    <tr>\n",
       "      <td>0</td>\n",
       "      <td>핸디/스틱청소기</td>\n",
       "      <td>델로라</td>\n",
       "      <td>V11 파워 300W</td>\n",
       "      <td>139000</td>\n",
       "      <td>70.0</td>\n",
       "      <td>220</td>\n",
       "    </tr>\n",
       "    <tr>\n",
       "      <td>1</td>\n",
       "      <td>핸디/스틱청소기</td>\n",
       "      <td>원더스리빙</td>\n",
       "      <td>원더스 다이나킹 Z9</td>\n",
       "      <td>299000</td>\n",
       "      <td>65.0</td>\n",
       "      <td>220</td>\n",
       "    </tr>\n",
       "    <tr>\n",
       "      <td>2</td>\n",
       "      <td>핸디/스틱청소기</td>\n",
       "      <td>델로라</td>\n",
       "      <td>V11 파워 300W</td>\n",
       "      <td>139000</td>\n",
       "      <td>70.0</td>\n",
       "      <td>220</td>\n",
       "    </tr>\n",
       "    <tr>\n",
       "      <td>4</td>\n",
       "      <td>핸디/스틱청소기</td>\n",
       "      <td>샤오미</td>\n",
       "      <td>드리미 V10</td>\n",
       "      <td>171760</td>\n",
       "      <td>60.0</td>\n",
       "      <td>220</td>\n",
       "    </tr>\n",
       "    <tr>\n",
       "      <td>6</td>\n",
       "      <td>핸디/스틱청소기</td>\n",
       "      <td>원더스리빙</td>\n",
       "      <td>원더스 다이나킹 Z9</td>\n",
       "      <td>299000</td>\n",
       "      <td>65.0</td>\n",
       "      <td>220</td>\n",
       "    </tr>\n",
       "  </tbody>\n",
       "</table>\n",
       "</div>"
      ],
      "text/plain": [
       "       카테고리    회사명           제품      가격  사용시간  흡입력\n",
       "0  핸디/스틱청소기    델로라  V11 파워 300W  139000  70.0  220\n",
       "1  핸디/스틱청소기  원더스리빙  원더스 다이나킹 Z9  299000  65.0  220\n",
       "2  핸디/스틱청소기    델로라  V11 파워 300W  139000  70.0  220\n",
       "4  핸디/스틱청소기    샤오미      드리미 V10  171760  60.0  220\n",
       "6  핸디/스틱청소기  원더스리빙  원더스 다이나킹 Z9  299000  65.0  220"
      ]
     },
     "execution_count": 54,
     "metadata": {},
     "output_type": "execute_result"
    }
   ],
   "source": [
    "# 가격은 평균 이하, 흡입력과 사용시간은 평균 이상인 제품은 무엇이 있을까.\n",
    "\n",
    "cond = (final['가격']<=price_mean)&(final['흡입력']>=suction_mean)&(final['사용시간']>=duration_mean)\n",
    "good_products = final[cond]\n",
    "good_products.head()"
   ]
  },
  {
   "cell_type": "code",
   "execution_count": 55,
   "metadata": {},
   "outputs": [
    {
     "data": {
      "text/html": [
       "<div>\n",
       "<style scoped>\n",
       "    .dataframe tbody tr th:only-of-type {\n",
       "        vertical-align: middle;\n",
       "    }\n",
       "\n",
       "    .dataframe tbody tr th {\n",
       "        vertical-align: top;\n",
       "    }\n",
       "\n",
       "    .dataframe thead th {\n",
       "        text-align: right;\n",
       "    }\n",
       "</style>\n",
       "<table border=\"1\" class=\"dataframe\">\n",
       "  <thead>\n",
       "    <tr style=\"text-align: right;\">\n",
       "      <th></th>\n",
       "      <th>카테고리</th>\n",
       "      <th>회사명</th>\n",
       "      <th>제품</th>\n",
       "      <th>가격</th>\n",
       "      <th>사용시간</th>\n",
       "      <th>흡입력</th>\n",
       "    </tr>\n",
       "  </thead>\n",
       "  <tbody>\n",
       "    <tr>\n",
       "      <td>0</td>\n",
       "      <td>핸디/스틱청소기</td>\n",
       "      <td>델로라</td>\n",
       "      <td>V11 파워 300W</td>\n",
       "      <td>139000</td>\n",
       "      <td>70.0</td>\n",
       "      <td>220</td>\n",
       "    </tr>\n",
       "    <tr>\n",
       "      <td>2</td>\n",
       "      <td>핸디/스틱청소기</td>\n",
       "      <td>델로라</td>\n",
       "      <td>V11 파워 300W</td>\n",
       "      <td>139000</td>\n",
       "      <td>70.0</td>\n",
       "      <td>220</td>\n",
       "    </tr>\n",
       "    <tr>\n",
       "      <td>1</td>\n",
       "      <td>핸디/스틱청소기</td>\n",
       "      <td>원더스리빙</td>\n",
       "      <td>원더스 다이나킹 Z9</td>\n",
       "      <td>299000</td>\n",
       "      <td>65.0</td>\n",
       "      <td>220</td>\n",
       "    </tr>\n",
       "    <tr>\n",
       "      <td>6</td>\n",
       "      <td>핸디/스틱청소기</td>\n",
       "      <td>원더스리빙</td>\n",
       "      <td>원더스 다이나킹 Z9</td>\n",
       "      <td>299000</td>\n",
       "      <td>65.0</td>\n",
       "      <td>220</td>\n",
       "    </tr>\n",
       "    <tr>\n",
       "      <td>13</td>\n",
       "      <td>핸디/스틱청소기</td>\n",
       "      <td>샤오미</td>\n",
       "      <td>SHUNZAO Z11 PRO</td>\n",
       "      <td>175000</td>\n",
       "      <td>60.0</td>\n",
       "      <td>260</td>\n",
       "    </tr>\n",
       "  </tbody>\n",
       "</table>\n",
       "</div>"
      ],
      "text/plain": [
       "        카테고리    회사명               제품      가격  사용시간  흡입력\n",
       "0   핸디/스틱청소기    델로라      V11 파워 300W  139000  70.0  220\n",
       "2   핸디/스틱청소기    델로라      V11 파워 300W  139000  70.0  220\n",
       "1   핸디/스틱청소기  원더스리빙      원더스 다이나킹 Z9  299000  65.0  220\n",
       "6   핸디/스틱청소기  원더스리빙      원더스 다이나킹 Z9  299000  65.0  220\n",
       "13  핸디/스틱청소기    샤오미  SHUNZAO Z11 PRO  175000  60.0  260"
      ]
     },
     "execution_count": 55,
     "metadata": {},
     "output_type": "execute_result"
    }
   ],
   "source": [
    "final_products = good_products.sort_values(by=['사용시간','흡입력'],ascending=False)\n",
    "final_products.head()"
   ]
  },
  {
   "cell_type": "markdown",
   "metadata": {},
   "source": [
    "### 데이터 시각화\n",
    "seaborn의 scatterplot() 함수를 이용<br>\n",
    "차트의 한글 깨짐 방지를 위한 코드 추가"
   ]
  },
  {
   "cell_type": "code",
   "execution_count": 52,
   "metadata": {},
   "outputs": [],
   "source": [
    "from matplotlib import font_manager, rc\n",
    "import matplotlib.pyplot as plt\n",
    "import seaborn as sns\n",
    "import platform\n",
    "\n",
    "# 그래프에서 한글 표기를 위한 글꼴 변경(윈도우)\n",
    "font_path = ''\n",
    "font_path = 'c:/Windows/Fonts/malgun.ttf'\n",
    "font_name = font_manager.FontProperties(fname = font_path).get_name()\n",
    "rc('font',family = font_name)\n",
    "\n",
    "%matplotlib inline"
   ]
  },
  {
   "cell_type": "code",
   "execution_count": 53,
   "metadata": {},
   "outputs": [
    {
     "data": {
      "text/plain": [
       "34"
      ]
     },
     "execution_count": 53,
     "metadata": {},
     "output_type": "execute_result"
    }
   ],
   "source": [
    "len(final_products)"
   ]
  },
  {
   "cell_type": "code",
   "execution_count": 56,
   "metadata": {},
   "outputs": [
    {
     "data": {
      "text/plain": [
       "249"
      ]
     },
     "execution_count": 56,
     "metadata": {},
     "output_type": "execute_result"
    }
   ],
   "source": [
    "len(final)"
   ]
  },
  {
   "cell_type": "code",
   "execution_count": 59,
   "metadata": {},
   "outputs": [
    {
     "data": {
      "text/plain": [
       "카테고리    0\n",
       "회사명     0\n",
       "제품      0\n",
       "가격      0\n",
       "사용시간    7\n",
       "흡입력     0\n",
       "dtype: int64"
      ]
     },
     "execution_count": 59,
     "metadata": {},
     "output_type": "execute_result"
    }
   ],
   "source": [
    "final.isnull().sum()"
   ]
  },
  {
   "cell_type": "code",
   "execution_count": 61,
   "metadata": {},
   "outputs": [
    {
     "data": {
      "text/plain": [
       "242"
      ]
     },
     "execution_count": 61,
     "metadata": {},
     "output_type": "execute_result"
    }
   ],
   "source": [
    "# 정확한 차트를 그리기 위해 빈 값이 포함되어있으면 삭제하도록 하자.\n",
    "\n",
    "chart_data = final.dropna(axis=0)\n",
    "len(chart_data)"
   ]
  },
  {
   "cell_type": "code",
   "execution_count": 65,
   "metadata": {},
   "outputs": [],
   "source": [
    "# 흡입력.사용시간의 최대,최소,평균\n",
    "suction_max = chart_data['흡입력'].max()\n",
    "suction_min = chart_data['흡입력'].min()\n",
    "suction_mean = chart_data['흡입력'].mean()\n",
    "\n",
    "duration_max = chart_data['사용시간'].max()\n",
    "duration_min = chart_data['사용시간'].min()\n",
    "duration_mean = chart_data['사용시간'].mean()\n"
   ]
  },
  {
   "cell_type": "code",
   "execution_count": 64,
   "metadata": {},
   "outputs": [
    {
     "data": {
      "text/plain": [
       "<matplotlib.axes._subplots.AxesSubplot at 0x1fa0d06d9c8>"
      ]
     },
     "execution_count": 64,
     "metadata": {},
     "output_type": "execute_result"
    },
    {
     "data": {
      "image/png": "[encoded data removed]",
      "text/plain": [
       "<Figure size 1440x720 with 1 Axes>"
      ]
     },
     "metadata": {
      "needs_background": "light"
     },
     "output_type": "display_data"
    }
   ],
   "source": [
    "# 데이터의 분포를 그림, hue는 변수별로 색을 다르게 함\n",
    "\n",
    "plt.figure(figsize=(20,10))\n",
    "plt.title(\"무선 핸디/스틱청소기 차트\")\n",
    "\n",
    "# sizes 튜플은 minimum과 maximum\n",
    "sns.scatterplot(x='흡입력',y='사용시간',size = '가격',hue=chart_data['회사명'],data=chart_data,sizes=(10,1000),legend=False)"
   ]
  },
  {
   "cell_type": "code",
   "execution_count": 69,
   "metadata": {},
   "outputs": [
    {
     "data": {
      "text/plain": [
       "[<matplotlib.lines.Line2D at 0x1fa0de86f48>]"
      ]
     },
     "execution_count": 69,
     "metadata": {},
     "output_type": "execute_result"
    },
    {
     "data": {
      "image/png": "[encoded data removed]",
      "text/plain": [
       "<Figure size 432x288 with 1 Axes>"
      ]
     },
     "metadata": {
      "needs_background": "light"
     },
     "output_type": "display_data"
    }
   ],
   "source": [
    "# lw는 linewidth, 위 분포도에 합칠 것, 그래프의 빨간 선은 흡입력과 사용시간의 평균시간\n",
    "\n",
    "plt.plot([0,suction_max],[duration_mean,duration_mean],'r--',lw=1)     \n",
    "plt.plot([suction_mean,suction_mean],[0,duration_max],'r--',lw=1)"
   ]
  },
  {
   "cell_type": "code",
   "execution_count": 70,
   "metadata": {},
   "outputs": [
    {
     "data": {
      "image/png": "[encoded data removed]",
      "text/plain": [
       "<Figure size 1440x720 with 1 Axes>"
      ]
     },
     "metadata": {
      "needs_background": "light"
     },
     "output_type": "display_data"
    }
   ],
   "source": [
    "plt.figure(figsize=(20,10))\n",
    "plt.title(\"무선 핸디/스틱청소기 차트\")\n",
    "sns.scatterplot(x='흡입력',y='사용시간',size = '가격',hue=chart_data['회사명'],data=chart_data,sizes=(10,1000),legend=False)\n",
    "plt.plot([0,suction_max],[duration_mean,duration_mean],'r--',lw=1)     \n",
    "plt.plot([suction_mean,suction_mean],[0,duration_max],'r--',lw=1)\n",
    "plt.show()"
   ]
  },
  {
   "cell_type": "markdown",
   "metadata": {},
   "source": [
    "# 인기제품의 시각화"
   ]
  },
  {
   "cell_type": "code",
   "execution_count": 72,
   "metadata": {},
   "outputs": [
    {
     "data": {
      "text/html": [
       "<div>\n",
       "<style scoped>\n",
       "    .dataframe tbody tr th:only-of-type {\n",
       "        vertical-align: middle;\n",
       "    }\n",
       "\n",
       "    .dataframe tbody tr th {\n",
       "        vertical-align: top;\n",
       "    }\n",
       "\n",
       "    .dataframe thead th {\n",
       "        text-align: right;\n",
       "    }\n",
       "</style>\n",
       "<table border=\"1\" class=\"dataframe\">\n",
       "  <thead>\n",
       "    <tr style=\"text-align: right;\">\n",
       "      <th></th>\n",
       "      <th>카테고리</th>\n",
       "      <th>회사명</th>\n",
       "      <th>제품</th>\n",
       "      <th>가격</th>\n",
       "      <th>사용시간</th>\n",
       "      <th>흡입력</th>\n",
       "    </tr>\n",
       "  </thead>\n",
       "  <tbody>\n",
       "    <tr>\n",
       "      <td>0</td>\n",
       "      <td>핸디/스틱청소기</td>\n",
       "      <td>델로라</td>\n",
       "      <td>V11 파워 300W</td>\n",
       "      <td>139000</td>\n",
       "      <td>70.0</td>\n",
       "      <td>220</td>\n",
       "    </tr>\n",
       "    <tr>\n",
       "      <td>1</td>\n",
       "      <td>핸디/스틱청소기</td>\n",
       "      <td>원더스리빙</td>\n",
       "      <td>원더스 다이나킹 Z9</td>\n",
       "      <td>299000</td>\n",
       "      <td>65.0</td>\n",
       "      <td>220</td>\n",
       "    </tr>\n",
       "    <tr>\n",
       "      <td>2</td>\n",
       "      <td>핸디/스틱청소기</td>\n",
       "      <td>델로라</td>\n",
       "      <td>V11 파워 300W</td>\n",
       "      <td>139000</td>\n",
       "      <td>70.0</td>\n",
       "      <td>220</td>\n",
       "    </tr>\n",
       "    <tr>\n",
       "      <td>3</td>\n",
       "      <td>핸디/스틱청소기</td>\n",
       "      <td>삼성전자</td>\n",
       "      <td>제트 VS20R9078S2</td>\n",
       "      <td>799330</td>\n",
       "      <td>120.0</td>\n",
       "      <td>200</td>\n",
       "    </tr>\n",
       "    <tr>\n",
       "      <td>4</td>\n",
       "      <td>핸디/스틱청소기</td>\n",
       "      <td>샤오미</td>\n",
       "      <td>드리미 V10</td>\n",
       "      <td>171760</td>\n",
       "      <td>60.0</td>\n",
       "      <td>220</td>\n",
       "    </tr>\n",
       "  </tbody>\n",
       "</table>\n",
       "</div>"
      ],
      "text/plain": [
       "       카테고리    회사명              제품      가격   사용시간  흡입력\n",
       "0  핸디/스틱청소기    델로라     V11 파워 300W  139000   70.0  220\n",
       "1  핸디/스틱청소기  원더스리빙     원더스 다이나킹 Z9  299000   65.0  220\n",
       "2  핸디/스틱청소기    델로라     V11 파워 300W  139000   70.0  220\n",
       "3  핸디/스틱청소기   삼성전자  제트 VS20R9078S2  799330  120.0  200\n",
       "4  핸디/스틱청소기    샤오미         드리미 V10  171760   60.0  220"
      ]
     },
     "execution_count": 72,
     "metadata": {},
     "output_type": "execute_result"
    }
   ],
   "source": [
    "# 인기있는 상위 20개의 제품\n",
    "\n",
    "chart_data_selected = chart_data[:20]\n",
    "chart_data_selected.head()"
   ]
  },
  {
   "cell_type": "code",
   "execution_count": 87,
   "metadata": {},
   "outputs": [
    {
     "data": {
      "image/png": "[encoded data removed]",
      "text/plain": [
       "<Figure size 1440x720 with 1 Axes>"
      ]
     },
     "metadata": {
      "needs_background": "light"
     },
     "output_type": "display_data"
    }
   ],
   "source": [
    "# 흡입력.사용시간의 최대,최소,평균\n",
    "suction_max = chart_data_selected['흡입력'].max()\n",
    "suction_min = chart_data_selected['흡입력'].min()\n",
    "suction_mean = chart_data_selected['흡입력'].mean()\n",
    "\n",
    "duration_max = chart_data_selected['사용시간'].max()\n",
    "duration_min = chart_data_selected['사용시간'].min()\n",
    "duration_mean = chart_data_selected['사용시간'].mean()\n",
    "\n",
    "plt.figure(figsize=(20,10))\n",
    "plt.title(\"무선 핸디/스틱청소기 TOP 20\")\n",
    "\n",
    "# 헷갈리게도 size와 sizes 옵션이 따로 있음\n",
    "\n",
    "sns.scatterplot(x='흡입력',y='사용시간',size = '가격',\n",
    "                hue=chart_data_selected['회사명'],\n",
    "                data=chart_data_selected,\n",
    "                sizes=(100,2000),\n",
    "               )\n",
    "plt.plot([suction_min,suction_max],[duration_mean,duration_mean],'r--',lw=1)     \n",
    "plt.plot([suction_mean,suction_mean],[duration_min,duration_max],'r--',lw=1)\n",
    "\n",
    "# iterrows ??\n",
    "\n",
    "for index, row in chart_data_selected.iterrows():\n",
    "    x = row['흡입력']\n",
    "    y = row['사용시간']\n",
    "    s = row['제품'].split(' ')[0]\n",
    "    # x,y는 텍스트가 입력될 위치실제로 입력되는 값은 s \n",
    "    plt.text(x,y,s,size=20)\n",
    "\n",
    "plt.show()\n",
    "\n",
    "# size를 이미 가격으로 지정함"
   ]
  },
  {
   "cell_type": "code",
   "execution_count": 78,
   "metadata": {},
   "outputs": [
    {
     "data": {
      "text/plain": [
       "array(['델로라', '원더스리빙', '삼성전자', '샤오미', 'LG전자', '다이슨', '일렉트로룩스', '무궁화전자',\n",
       "       'DIBEA'], dtype=object)"
      ]
     },
     "execution_count": 78,
     "metadata": {},
     "output_type": "execute_result"
    }
   ],
   "source": [
    "chart_data_selected['회사명'].unique()"
   ]
  },
  {
   "cell_type": "markdown",
   "metadata": {},
   "source": [
    "#### 범례를 회사명까지만 나오게는 할 수 없을까?"
   ]
  },
  {
   "cell_type": "code",
   "execution_count": null,
   "metadata": {},
   "outputs": [],
   "source": []
  }
 ],
 "metadata": {
  "kernelspec": {
   "display_name": "Python 3",
   "language": "python",
   "name": "python3"
  },
  "language_info": {
   "codemirror_mode": {
    "name": "ipython",
    "version": 3
   },
   "file_extension": ".py",
   "mimetype": "text/x-python",
   "name": "python",
   "nbconvert_exporter": "python",
   "pygments_lexer": "ipython3",
   "version": "3.7.4"
  }
 },
 "nbformat": 4,
 "nbformat_minor": 2
}
