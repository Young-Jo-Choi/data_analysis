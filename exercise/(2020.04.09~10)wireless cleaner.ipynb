{
 "cells": [
  {
   "cell_type": "markdown",
   "metadata": {},
   "source": [
    "# 무선청소기 인기 제품\n",
    "- '다나와'에서 노트북 검색 후 제품, 가격, 스펙 등의 요소들을 DataFrame으로 읽어들임\n",
    "- 스펙에 따라 쉽게 눈에 들어오도록 전처리 진행\n",
    "- 시각화도 더불어 진행"
   ]
  },
  {
   "cell_type": "code",
   "execution_count": 1,
   "metadata": {},
   "outputs": [],
   "source": [
    "# 다나와 무선청소기 검색 1페이지\n",
    "url_1page = '''http://search.danawa.com/dsearch.php?query=%EB%AC%B4%EC%84%A0%EC%B2%AD%EC%86%8C%EA%B8%B0&tab=main'''\n",
    "\n",
    "# 다나와 무선청소기 검색 2페이지\n",
    "url_2page = '''http://search.danawa.com/dsearch.php?\n",
    "query=%EB%AC%B4%EC%84%A0%EC%B2%AD%EC%86%8C%EA%B8%B0&\n",
    "originalQuery=%EB%AC%B4%EC%84%A0%EC%B2%AD%EC%86%8C%EA%B8%B0&\n",
    "previousKeyword=%EC%84%B8%ED%83%81%EA%B8%B0&volumeType=allvs&\n",
    "page=2&limit=30&sort=saveDESC&list=list&boost=true&addDelivery=N&tab=goods'''\n",
    "\n",
    "# 다나와 무선청소기 검색 3페이지\n",
    "url_3page = '''http://search.danawa.com/dsearch.php?\n",
    "query=%EB%AC%B4%EC%84%A0%EC%B2%AD%EC%86%8C%EA%B8%B0&\n",
    "originalQuery=%EB%AC%B4%EC%84%A0%EC%B2%AD%EC%86%8C%EA%B8%B0&\n",
    "previousKeyword=%EB%AC%B4%EC%84%A0%EC%B2%AD%EC%86%8C%EA%B8%B0&volumeType=allvs&\n",
    "page=3&limit=30&sort=saveDESC&list=list&boost=true&addDelivery=N&tab=goods&tab=goods'''\n",
    "\n",
    "# 다나와 무선청소기 검색 4페이지\n",
    "url_4page = '''http://search.danawa.com/dsearch.php?\n",
    "query=%EB%AC%B4%EC%84%A0%EC%B2%AD%EC%86%8C%EA%B8%B0&\n",
    "originalQuery=%EB%AC%B4%EC%84%A0%EC%B2%AD%EC%86%8C%EA%B8%B0&\n",
    "previousKeyword=%EB%AC%B4%EC%84%A0%EC%B2%AD%EC%86%8C%EA%B8%B0&volumeType=allvs&\n",
    "page=4&limit=30&sort=saveDESC&list=list&boost=true&addDelivery=N&tab=goods&tab=goods'''\n",
    "\n",
    "\n",
    "# 해당 url에서 php의 query 변수와 page 변수를 원하는대로 맞춰주면 된다."
   ]
  },
  {
   "cell_type": "code",
   "execution_count": 5,
   "metadata": {},
   "outputs": [],
   "source": [
    "# 다나 홈페이지에서 원하는 제품을 검색하는 함수\n",
    "\n",
    "def searching(product,page=1):\n",
    "    try:\n",
    "        if page==1:\n",
    "            url = '''http://search.danawa.com/dsearch.php?query={}&tab=main'''.format(product)\n",
    "        else:\n",
    "            url = '''http://search.danawa.com/dsearch.php?query={}&volumeType=allvs\n",
    "            &page={}&limit=30&sort=saveDESC&list=list&boost=true&addDelivery=N&tab=goods'''.format(product,page)\n",
    "        return url\n",
    "    except:\n",
    "        print(\"product는 문자열로, page는 숫자로 넣었는지 확인하시오.\")"
   ]
  },
  {
   "cell_type": "code",
   "execution_count": 9,
   "metadata": {},
   "outputs": [],
   "source": [
    "url = searching('무선청소기',1)"
   ]
  },
  {
   "cell_type": "code",
   "execution_count": 2,
   "metadata": {},
   "outputs": [],
   "source": [
    "from selenium import webdriver"
   ]
  },
  {
   "cell_type": "code",
   "execution_count": 10,
   "metadata": {},
   "outputs": [],
   "source": [
    "driver = webdriver.Chrome('C:/Users/hp/Desktop/최영조/chromedriver.exe')\n",
    "driver.get(url)"
   ]
  },
  {
   "cell_type": "code",
   "execution_count": 11,
   "metadata": {},
   "outputs": [],
   "source": [
    "html = driver.page_source"
   ]
  },
  {
   "cell_type": "code",
   "execution_count": 3,
   "metadata": {},
   "outputs": [],
   "source": [
    "from bs4 import BeautifulSoup"
   ]
  },
  {
   "cell_type": "code",
   "execution_count": 13,
   "metadata": {},
   "outputs": [],
   "source": [
    "soup = BeautifulSoup(html,'html.parser')"
   ]
  },
  {
   "cell_type": "code",
   "execution_count": 14,
   "metadata": {},
   "outputs": [
    {
     "data": {
      "text/plain": [
       "<div class=\"prod_main_info\">\n",
       "<div class=\"thumb_info\">\n",
       "<div class=\"thumb_image\">\n",
       "<a class=\"thumb_link click_log_product_adReader_img_\" data-sale-seq=\"\" href=\"http://prod.danawa.com/info/?pcode=9913740&amp;keyword=%EB%AC%B4%EC%84%A0%EC%B2%AD%EC%86%8C%EA%B8%B0&amp;cate=103740\" id=\"thumbLink_9913740_adLeader\" onmousedown=\"_trkEventLog('통합검색_광고상품_원더스리빙 원더스 다이나킹 Z9');\" target=\"_blank\">\n",
       "<img alt=\"원더스리빙 원더스 다이나킹 Z9\" onerror=\"this.src='http://img.danawa.com/new/noData/img/noImg_130.gif'\" src=\"http://img.danawa.com/prod_img/500000/740/913/img/9913740_1.jpg?shrink=160:160&amp;_v=20200325131326\"/>\n",
       "</a>\n",
       "<a class=\"btn_view_zoom\" data-assemblygallerycategory=\"N\" href=\"#\" id=\"imageZoom_9913740_adLeader\" onclick=\"return false;\"><span class=\"ico i_zoom_vw\"></span>이미지보기</a>\n",
       "</div>\n",
       "</div>\n",
       "<div class=\"prod_info\">\n",
       "<p class=\"prod_name click_log_product_adReader_title_\">\n",
       "<a href=\"http://prod.danawa.com/info/?pcode=9913740&amp;keyword=%EB%AC%B4%EC%84%A0%EC%B2%AD%EC%86%8C%EA%B8%B0&amp;cate=103740\" onmousedown=\"_trkEventLog('통합검색_광고상품_원더스리빙 원더스 다이나킹 Z9');\" target=\"_blank\">원더스리빙 원더스 다이나킹 Z9</a>\n",
       "<span class=\"head_ico_wrap\">\n",
       "<a class=\"head_ico hico_brand\" href=\"http://prod.danawa.com/info/?pcode=9913740&amp;keyword=%EB%AC%B4%EC%84%A0%EC%B2%AD%EC%86%8C%EA%B8%B0&amp;cate=103740\" onmousedown=\"_trkEventLog('통합검색_광고상품_원더스리빙 원더스 다이나킹 Z9');\" target=\"_blank\">광고상품</a>\n",
       "</span>\n",
       "</p>\n",
       "<dl class=\"prod_spec_set\">\n",
       "<dt class=\"screen_out\">상세 스펙</dt>\n",
       "<dd>\n",
       "<div class=\"spec_list\">\n",
       "<a class=\"view_dic\" href=\"#\" onclick=\"$.termDicViewLink(8501,'view',this,0,72,80); return false;\">핸디/스틱청소기</a>\n",
       "\t \t\t\t\t\t\t\t\t / <a class=\"view_dic\" href=\"#\" onclick=\"$.termDicViewLink(7445,'view',this,0,72,80); return false;\">핸디+스틱형</a>\n",
       "\t \t\t\t\t\t\t\t\t / <a class=\"view_dic\" href=\"#\" onclick=\"$.termDicViewLink(14900,'view',this,0,72,80); return false;\">무선형</a>\n",
       "\t \t\t\t\t\t\t\t\t / 전압: 28.8V / <a class=\"view_dic\" href=\"#\" onclick=\"$.termDicViewLink(14801,'view',this,0,72,80); return false;\">헤파필터</a>\n",
       "\t \t\t\t\t\t\t\t\t / <a class=\"view_dic\" href=\"#\" onclick=\"$.termDicViewLink(4000,'view',this,0,72,80); return false;\">듀얼싸이클론</a>\n",
       "\t \t\t\t\t\t\t\t\t / <a class=\"view_dic\" href=\"#\" onclick=\"$.termDicViewLink(30024,'view',this,0,72,80); return false;\">6단계여과</a>\n",
       "\t \t\t\t\t\t\t\t\t / <a class=\"view_dic\" href=\"#\" onclick=\"$.termDicViewLink(31525,'view',this,0,72,80); return false;\">BLDC모터</a>\n",
       "\t \t\t\t\t\t\t\t\t / <a class=\"view_dic\" href=\"#\" onclick=\"$.termDicViewLink(3996,'view',this,0,72,80); return false;\">흡입력</a>\n",
       "\t \t\t\t\t\t\t\t\t: <a class=\"view_dic\" href=\"#\" onclick=\"$.termDicViewLink(3996,'view',this,0,72,80); return false;\">160AW</a>\n",
       "\t \t\t\t\t\t\t\t\t / <a class=\"view_dic\" href=\"#\" onclick=\"$.termDicViewLink(3996,'view',this,0,72,80); return false;\">흡입력</a>\n",
       "\t \t\t\t\t\t\t\t\t: <a class=\"view_dic\" href=\"#\" onclick=\"$.termDicViewLink(3996,'view',this,0,72,80); return false;\">22000Pa</a>\n",
       "\t \t\t\t\t\t\t\t\t / 먼지통용량: 0.7L / <a class=\"view_dic\" href=\"#\" onclick=\"$.termDicViewLink(14921,'view',this,0,72,80); return false;\">충전시간</a>\n",
       "\t \t\t\t\t\t\t\t\t: <a class=\"view_dic\" href=\"#\" onclick=\"$.termDicViewLink(14921,'view',this,0,72,80); return false;\">4시간30분</a>\n",
       "\t \t\t\t\t\t\t\t\t / <a class=\"view_dic\" href=\"#\" onclick=\"$.termDicViewLink(8515,'view',this,0,72,80); return false;\">사용시간</a>\n",
       "\t \t\t\t\t\t\t\t\t: <a class=\"view_dic\" href=\"#\" onclick=\"$.termDicViewLink(8515,'view',this,0,72,80); return false;\">1시간5분</a>\n",
       "\t \t\t\t\t\t\t\t\t / <a class=\"view_dic\" href=\"#\" onclick=\"$.termDicViewLink(21681,'view',this,0,72,80); return false;\">배터리</a>\n",
       "\t \t\t\t\t\t\t\t\t: <a class=\"view_dic\" href=\"#\" onclick=\"$.termDicViewLink(27314,'view',this,0,72,80); return false;\">리튬이온</a>\n",
       "\t \t\t\t\t\t\t\t\t / <a class=\"view_dic\" href=\"#\" onclick=\"$.termDicViewLink(22694,'view',this,0,72,80); return false;\">용량</a>\n",
       "\t \t\t\t\t\t\t\t\t: <a class=\"view_dic\" href=\"#\" onclick=\"$.termDicViewLink(22694,'view',this,0,72,80); return false;\">2500mAh</a>\n",
       "\t \t\t\t\t\t\t\t\t / <a class=\"view_dic\" href=\"#\" onclick=\"$.termDicViewLink(30019,'view',this,0,72,80); return false;\">거치대</a>\n",
       "\t \t\t\t\t\t\t\t\t / <a class=\"view_dic\" href=\"#\" onclick=\"$.termDicViewLink(27321,'view',this,0,72,80); return false;\">배터리잔량표시</a>\n",
       "\t \t\t\t\t\t\t\t\t / <a class=\"view_dic\" href=\"#\" onclick=\"$.termDicViewLink(27318,'view',this,0,72,80); return false;\">셀프스탠딩</a>\n",
       "\t \t\t\t\t\t\t\t\t / <a class=\"view_dic\" href=\"#\" onclick=\"$.termDicViewLink(4623,'view',this,0,72,80); return false;\">프리볼트</a>\n",
       "\t \t\t\t\t\t\t\t\t / <a class=\"view_dic\" href=\"#\" onclick=\"$.termDicViewLink(27312,'view',this,0,72,80); return false;\">무게</a>\n",
       "\t \t\t\t\t\t\t\t\t: <a class=\"view_dic\" href=\"#\" onclick=\"$.termDicViewLink(27312,'view',this,0,72,80); return false;\">2.5kg</a>\n",
       "\t \t\t\t\t\t\t\t\t / <a class=\"view_dic\" href=\"#\" onclick=\"$.termDicViewLink(1743,'view',this,0,72,80); return false;\">소비전력</a>\n",
       "\t \t\t\t\t\t\t\t\t: <a class=\"view_dic\" href=\"#\" onclick=\"$.termDicViewLink(1743,'view',this,0,72,80); return false;\">450W</a>\n",
       "\t \t\t\t\t\t\t\t\t / 브러쉬: 바닥, 펫, 멀티, 틈새, 솔형, 침구, 연장호스, 플렉스연장관 / 크기(가로x세로x깊이): 250x1096x198mm\t\t\t\t\t\t\t\t</div>\n",
       "</dd>\n",
       "</dl>\n",
       "<div class=\"relation_goods_unit\" id=\"relation_goods_unit_9913740\"><dl class=\"unit_goods_list\"><dt class=\"title_unit\">관련용품▶</dt><dd class=\"unit_lists\"><a class=\"unit_link view_dic\" data-relationcode=\"10150971\" href=\"#\" onclick=\"return false;\">헤파필터+폼필터</a></dd></dl></div>\n",
       "<div class=\"prod_sub_info\">\n",
       "<div class=\"prod_sub_meta\">\n",
       "<dl class=\"meta_item mt_date\">\n",
       "<dt>등록월</dt>\n",
       "<dd>2019.11</dd>\n",
       "</dl>\n",
       "<dl class=\"meta_item\">\n",
       "<dt class=\"screen_out\">관심상품</dt>\n",
       "<dd><a href=\"#\" onclick=\"javascript:$.danawaAddProductToWishList(this,'9913740','search'); return false;\" title=\"관심상품에 담기\">관심상품</a></dd>\n",
       "<span class=\"blind\" id=\"title_9913740\">원더스리빙 원더스 다이나킹 Z9</span>\n",
       "</dl>\n",
       "</div>\n",
       "<dl class=\"prod_category_location\">\n",
       "<dt class=\"screen_out\">상품분류</dt>\n",
       "<dd>\n",
       "<a href=\"http://prod.danawa.com/list/?cate=103740\" onmousedown=\"80\" target=\"\"><span>생활가전</span> &gt; <span>청소기</span> &gt; <span>핸디/스틱</span></a> <div class=\"more_cate_layer\" style=\"display:none; z-index: 1;\">\n",
       "<ul class=\"list_category_location\">\n",
       "</ul>\n",
       "</div>\n",
       "</dd>\n",
       "</dl>\n",
       "</div>\n",
       "</div>\n",
       "<div class=\"prod_pricelist\" data-cate=\"72|80|81|0\">\n",
       "<ul>\n",
       "<li id=\"productInfoDetail_9913740\">\n",
       "<p class=\"chk_sect\">\n",
       "\t\t\t\t\t\t\t\t\t8몰\t\t\t\t\t\t\t\t\t\t\t\t\t\t\t\t\t\t\t<label for=\"adverProdCompareCheck_9913740\">\n",
       "<input id=\"adverProdCompareCheck_9913740\" type=\"checkbox\"/><strong>상품비교</strong>\n",
       "</label>\n",
       "<input name=\"compareValue\" type=\"hidden\" value=\"9913740\"/>\n",
       "<input name=\"compareRepValue\" type=\"hidden\" value=\"9913740\"/>\n",
       "<input id=\"min_price_9913740\" type=\"hidden\" value=\"299000\"/>\n",
       "</p>\n",
       "<p class=\"price_sect\">\n",
       "<a class=\"click_log_product_adReader_price_\" href=\"http://prod.danawa.com/info/?pcode=9913740&amp;keyword=%EB%AC%B4%EC%84%A0%EC%B2%AD%EC%86%8C%EA%B8%B0&amp;cate=103740\" onmousedown=\"_trkEventLog('통합검색_광고상품_원더스리빙 원더스 다이나킹 Z9');\" target=\"_blank\"><strong>299,000</strong>원</a>\n",
       "<span class=\"more_btn_wrap\">\n",
       "<button class=\"ico i_more adIcon\">가격정보 더보기</button>\n",
       "<span class=\"layer_price_more\" id=\"layer_price_more_ad_9913740\"></span>\n",
       "<span class=\"sep_line\"></span>\n",
       "</span>\n",
       "</p>\n",
       "</li>\n",
       "</ul>\n",
       "</div>\n",
       "</div>"
      ]
     },
     "execution_count": 14,
     "metadata": {},
     "output_type": "execute_result"
    }
   ],
   "source": [
    "full_info = soup.select('div.prod_main_info')\n",
    "first_info = full_info[0]\n",
    "first_info"
   ]
  },
  {
   "cell_type": "code",
   "execution_count": 15,
   "metadata": {},
   "outputs": [
    {
     "data": {
      "text/plain": [
       "'원더스리빙 원더스 다이나킹 Z9'"
      ]
     },
     "execution_count": 15,
     "metadata": {},
     "output_type": "execute_result"
    }
   ],
   "source": [
    "name = first_info.select('p>a')[0].text\n",
    "name"
   ]
  },
  {
   "cell_type": "code",
   "execution_count": 16,
   "metadata": {},
   "outputs": [
    {
     "data": {
      "text/plain": [
       "'핸디/스틱청소기  / 핸디+스틱형  / 무선형  / 전압: 28.8V / 헤파필터  / 듀얼싸이클론  / 6단계여과  / BLDC모터  / 흡입력 : 160AW  / 흡입력 : 22000Pa  / 먼지통용량: 0.7L / 충전시간 : 4시간30분  / 사용시간 : 1시간5분  / 배터리 : 리튬이온  / 용량 : 2500mAh  / 거치대  / 배터리잔량표시  / 셀프스탠딩  / 프리볼트  / 무게 : 2.5kg  / 소비전력 : 450W  / 브러쉬: 바닥, 펫, 멀티, 틈새, 솔형, 침구, 연장호스, 플렉스연장관 / 크기(가로x세로x깊이): 250x1096x198mm'"
      ]
     },
     "execution_count": 16,
     "metadata": {},
     "output_type": "execute_result"
    }
   ],
   "source": [
    "spec = first_info.select('div.spec_list')[0].text.replace(\"\\t\",\"\").replace(\"\\n\",\"\")\n",
    "spec"
   ]
  },
  {
   "cell_type": "code",
   "execution_count": 17,
   "metadata": {},
   "outputs": [
    {
     "data": {
      "text/plain": [
       "299000"
      ]
     },
     "execution_count": 17,
     "metadata": {},
     "output_type": "execute_result"
    }
   ],
   "source": [
    "price = int(first_info.select('p.price_sect strong')[0].text.replace(\",\",\"\"))\n",
    "price"
   ]
  },
  {
   "cell_type": "code",
   "execution_count": 26,
   "metadata": {},
   "outputs": [
    {
     "data": {
      "text/plain": [
       "[<strong>887,170</strong>, <strong>836,400</strong>, <strong>871,220</strong>]"
      ]
     },
     "execution_count": 26,
     "metadata": {},
     "output_type": "execute_result"
    }
   ],
   "source": [
    "# 여러 개의 가격이 표시되는 경우가 종종 있는데 가장 저렴한 가격을 선택하도록 한다.\n",
    "full_info[7].select('p.price_sect strong')"
   ]
  },
  {
   "cell_type": "code",
   "execution_count": 32,
   "metadata": {},
   "outputs": [
    {
     "data": {
      "text/plain": [
       "836400"
      ]
     },
     "execution_count": 32,
     "metadata": {},
     "output_type": "execute_result"
    }
   ],
   "source": [
    "import numpy as np\n",
    "price_list=[]\n",
    "for i in range(len(full_info[7].select('p.price_sect strong'))):\n",
    "    price = int(full_info[7].select('p.price_sect strong')[i].text.replace(\",\",\"\"))\n",
    "    price_list.append(price)\n",
    "                \n",
    "price = np.array(price_list).min()\n",
    "price"
   ]
  },
  {
   "cell_type": "code",
   "execution_count": 4,
   "metadata": {},
   "outputs": [],
   "source": [
    "import pandas as pd\n",
    "import time\n",
    "from tqdm import tqdm_notebook\n",
    "import numpy as np"
   ]
  },
  {
   "cell_type": "code",
   "execution_count": 37,
   "metadata": {},
   "outputs": [
    {
     "data": {
      "application/vnd.jupyter.widget-view+json": {
       "model_id": "d51db91f04c34b81b0c587366d7436bd",
       "version_major": 2,
       "version_minor": 0
      },
      "text/plain": [
       "HBox(children=(IntProgress(value=0, max=30), HTML(value='')))"
      ]
     },
     "metadata": {},
     "output_type": "display_data"
    },
    {
     "name": "stdout",
     "output_type": "stream",
     "text": [
      "\n"
     ]
    },
    {
     "data": {
      "text/plain": [
       "[['샤오미 드리미 V10P',\n",
       "  '핸디/스틱청소기 / 핸디+스틱형 / 무선형 / 전압: 25.2V / 헤파필터 / 싸이클론 / 5단계여과 / BLDC모터 / 흡입력: 140AW / 흡입력: 22000Pa / 먼지통용량: 0.5L / 충전시간: 3시간30분 / 사용시간: 1시간 / 배터리: 리튬이온 / 용량: 2500mAh / 브러쉬: 바닥, 솔형, 틈새, 침구, 연장관 / 거치대 / 무게: 1.5kg / 색상:화이트 / 소비전력: 450W / 크기(가로x세로): 258x1226mm',\n",
       "  297990],\n",
       " ['삼성전자 제트 VS20R9048SB',\n",
       "  '핸디/스틱청소기 / 핸디+스틱형 / 무선형 / 전압: 21.9V / 헤파필터 / 싸이클론 / 5단계여과 / 인버터모터 / 흡입력: 200W / 먼지통용량: 0.5L / 충전시간: 3시간30분 / 사용시간: 1시간 / 배터리: 리튬이온 / 브러쉬: 바닥, 솔형, 틈새, 침구, 물걸레, 연장관 / 거치대 / 디스플레이표시창 / 프리볼트 / 무게: 2.7kg / 색상:실버블루 / 소비전력: 550W / 알레르기인증(BAF) / 미세먼지인증(SLG) / 크기(가로x세로x깊이): 250x1136x215mm',\n",
       "  696600],\n",
       " ['샤오미 SHUNZAO Z11',\n",
       "  '핸디/스틱청소기 / 핸디+스틱형 / 무선형 / 전압: 25.2V / 헤파필터 / 싸이클론 / 5단계여과 / 흡입력: 150AW / 흡입력: 26000Pa / 먼지통용량: 0.5L / 충전시간: 3시간 / 사용시간: 1시간 / 배터리: 리튬이온 / 용량: 2500mAh / 브러쉬: 바닥, 솔형, 틈새, 침구, 연장관 / 거치대 / 디스플레이표시창 / 배터리잔량표시 / 색상:화이트 ',\n",
       "  152090],\n",
       " ['아이코넬 차량용 청소기 ICL-V01',\n",
       "  '차량용청소기 / 유무선 / 12V / 흡입력: 5,000Pa / 최대출력: 120W / 헤파필터 / 스테인리스 필터 / 추가노즐: 틈새, 솔브러쉬, 연장호스 / 사용시간: 30분 / 코드길이: 4.5m / 크기: 375x84x86mm / 색상: 네이비, 블랙',\n",
       "  48760],\n",
       " ['휴스톰 HS-9000',\n",
       "  '물걸레청소기 / 스틱형 / 물걸레전용 / 회전식 / 무선형 / 전압: 14.6V / 충전시간: 4시간 / 사용시간: 30분 / 배터리: 리튬이온 / 용량: 2850mAh / LED라이트 / 가구손상방지 / 각도조절 / 셀프스탠딩 / 무게: 3.6kg / 색상:블랙 / 모터과열방지 / 과충전방지 / 오토스토핑 / 패드: 극세사(벨크로형) / 크기(가로x세로x깊이): 410x860x256mm',\n",
       "  874220],\n",
       " ['델첸 퍼스널 무선 미니 차량용 핸디청소기 DC-C01',\n",
       "  '차량용청소기 / 무선 / 흡입력: 6,200Pa / 최대출력: 70W / 2중필터 / 헤파필터 / 추가노즐: 틈새, 솔브러쉬 / 사용시간: 18분 / 충전시간: 1시간30분~2시간 / 크기: 73x305mm / 무게: 703g / 충전방식: USB C타입',\n",
       "  59000],\n",
       " ['ABKO 오엘라 네오스핀 OBC-AW09WH',\n",
       "  '핸디/스틱청소기 / 스틱형 / 무선형 / 전압: 3.7V / 충전시간: 4~5시간 / 사용시간: 50분 / 배터리: 리튬이온 / 용량: 1950mAh / 무게: 0.86kg / 소비전력: 8W / 생활방수 / 브러쉬: 원형, 평면, 틈새',\n",
       "  64900],\n",
       " ['삼성전자 제트 VS20R9078S3',\n",
       "  '핸디/스틱청소기 / 핸디+스틱형 / 무선형 / 전압: 21.9V / 헤파필터 / 싸이클론 / 5단계여과 / 인버터모터 / 흡입력: 200W / 먼지통용량: 0.5L / 충전시간: 3시간30분 / 사용시간: 120분 / 배터리: 리튬이온 (2개) / 브러쉬: 바닥, 솔형, 틈새, 침구, 물걸레, 연장관 / 거치대 / 디스플레이표시창 / 물걸레 / 프리볼트 / 무게: 2.7kg / 색상:티탄+그레이 / 소비전력: 550W / 알레르기인증(BAF) / 미세먼지인증(SLG) / 크기(가로x세로x깊이): 250x1136x215mm',\n",
       "  874220],\n",
       " ['다이슨 V8 슬림 플러피+',\n",
       "  '핸디/스틱청소기 / 핸디+스틱형 / 무선형 / 싸이클론 / 충전시간: 5시간 / 사용시간: 40분 / 도킹스테이션 / 무게: 2.15kg / 색상:레드 / 브러쉬: 슬림소프트롤러헤드, 라이트파이프크레비스툴, 콤비네이션툴, 미니모터툴, 미니소프트더스팅브러쉬, 매트리스툴 / 크기(가로x세로x깊이): 250x1284x220mm',\n",
       "  545720],\n",
       " ['삼성전자 VC-H22',\n",
       "  '핸디/스틱청소기 / 핸디형 / 무선형 / 충전시간: 8시간 / 사용시간: 10분 / 배터리: 니켈수소 / 무게: 0.76kg / 소비전력: 48W / 크기(가로x세로x깊이): 103x317x174mm',\n",
       "  34640],\n",
       " ['다이슨 V11 플러피',\n",
       "  '핸디/스틱청소기 / 핸디+스틱형 / 무선형 / 싸이클론 / 흡입력: 185AW / 먼지통용량: 0.54L / 충전시간: 4시간30분 / 사용시간: 1시간 / 거치대 / 도킹스테이션 / 디스플레이표시창 / 무게: 2.95kg / 색상:니켈레드 / 소비전력: 545W / 브러쉬: 소프트롤러클리너헤드, 콤비네이션툴, 크레비스툴, 미니모터툴, 소프트더스팅브러쉬, 매트리스툴, 연장호스 / 크기(가로x세로x깊이): 261x1280x250mm',\n",
       "  874220],\n",
       " ['DIBEA DW200',\n",
       "  '핸디/스틱청소기 / 핸디+스틱형 / 무선형 / 전압: 22.2V / 싸이클론 / 4단계여과 / 흡입력: 10000Pa / 먼지통용량: 0.5L / 충전시간: 4~5시간 / 사용시간: 35분 / 배터리: 리튬이온 / 용량: 2200mAh / 브러쉬: 바닥, 솔형, 틈새, 연장관 / 무게: 2kg / 색상:화이트 / 소비전력: 150W / 100V / 변환어댑터: 필요 / 크기(가로x세로x깊이): 210x1040x104mm',\n",
       "  64240],\n",
       " ['일렉트로룩스 퓨어 Q9 PQ91-3BW',\n",
       "  '핸디/스틱청소기 / 핸디+스틱형 / 무선형 / 전압: 25.2V / 싸이클론 / 5단계여과 / 먼지통용량: 0.3L / 충전시간: 4시간 / 사용시간: 55분 / 배터리: 리튬이온 / LED라이트 / 거치대 / 브러쉬자동청소 / 셀프스탠딩 / 무게: 2.75kg / 색상:사틴화이트 / 브러쉬: 바닥, UV베드, 틈새, 더스팅, 슈퍼롱, 사선 / 크기(가로x세로x깊이): 256x1100x130mm',\n",
       "  356890],\n",
       " ['삼성전자 제트 VS20T9279S6CS',\n",
       "  '핸디/스틱청소기 / 핸디+스틱형 / 무선형 / 전압: 21.9V / 헤파필터 / 싸이클론 / 5단계여과 / 인버터모터 / 흡입력: 200W / 먼지통용량: 0.5L / 충전시간: 3시간30분 / 사용시간: 2시간 / 배터리: 리튬이온 (2개) / 브러쉬: 바닥, 솔형, 틈새, 펫, 물걸레, 연장관 / 거치대 / 디스플레이표시창 / 프리볼트 / 색상:티탄블루 / 소비전력: 550W / 미세먼지인증(SLG) / 크기(가로x세로x깊이): 250x1136x215mm / [VCA-SAE90A] 청정스테이션 / 색상: 블랙 / 크기(가로x세로x깊이): 185x600x180mm',\n",
       "  1181650],\n",
       " ['샤오미 드리미 CC',\n",
       "  '물걸레청소기 / 스틱형 / 물걸레전용 / 회전식 / 무선형 / 전압: 7.4V / BLDC모터 / 충전시간: 4시간30분 / 사용시간: 40분 / 배터리: 리튬이온 / 용량: 2200mAh / 물분사 / LED라이트 / 각도조절 / 무게: 2.5kg / 소비전력: 40W / 색상:화이트 / 모터과열방지 / 과충전방지 / 오토스토핑 / 패드: 향균초극세사 / 크기(가로x세로x깊이): 370x1200x180mm',\n",
       "  89860],\n",
       " ['DIBEA TSX-25000A',\n",
       "  '핸디/스틱청소기 / 핸디+스틱형 / 무선형 / 전압: 29.6V / 헤파필터 / H13급 / 싸이클론 / BLDC모터 / 흡입력: 25000Pa / 먼지통용량: 0.5L / 충전시간: 2시간 / 사용시간: 45분 / 배터리: 리튬이온 / 용량: 2000mAh / 브러쉬: 바닥, 솔형, 틈새, 침구, 연장관 / LED라이트 / 거치대 / 무게: 1.35kg / 색상:블랙 / 소비전력: 400W / 크기(가로x세로x깊이): 256x1172x217xmm',\n",
       "  220140],\n",
       " ['삼성전자 제트 VS20T9278S7',\n",
       "  '핸디/스틱청소기 / 핸디+스틱형 / 무선형 / 전압: 21.9V / 헤파필터 / 싸이클론 / 5단계여과 / 인버터모터 / 흡입력: 200W / 먼지통용량: 0.5L / 충전시간: 3시간30분 / 사용시간: 2시간 / 배터리: 리튬이온 (2개) / 브러쉬: 바닥, 솔형, 틈새, 침구, 물걸레, 연장관 / 거치대 / 디스플레이표시창 / 프리볼트 / 색상:티탄골드 / 소비전력: 550W / 미세먼지인증(SLG) / 크기(가로x세로x깊이): 250x1136x215mm',\n",
       "  1200600],\n",
       " ['DIBEA M500 프로',\n",
       "  '핸디/스틱청소기 / 핸디+스틱형 / 무선형 / 헤파필터 / H13급 / 싸이클론 / 흡입력: 22000Pa / 먼지통용량: 0.5L / 충전시간: 4시간 / 사용시간: 30분 / 배터리: 리튬이온 / 용량: 2200mAh / 브러쉬: 바닥, 솔형, 틈새, 연장관 / 무게: 2.2kg / 소비전력: 250W / 크기(가로x세로x깊이): 260x1140x214mm',\n",
       "  178800],\n",
       " ['삼성전자 뉴파워건 130',\n",
       "  '핸디/스틱청소기 / 핸디+스틱형 / 무선형 / 전압: 32.4V / 헤파필터 / 싸이클론 / 5단계여과 / 인버터모터 / 흡입력: 130W / 충전시간: 4시간30분 / 사용시간: 40분 / 배터리: 리튬이온 / 브러쉬: 바닥, 솔형, 틈새 / 무게: 2.95kg / 색상:에어본블랙 / 소비전력: 400W / 플렉스핸들 / 크기(가로x세로x깊이): 252x1110x315mm',\n",
       "  874220],\n",
       " ['다이슨 V8 앱솔루트',\n",
       "  '핸디/스틱청소기 / 핸디+스틱형 / 무선형 / 헤파필터 / 싸이클론 / 흡입력: 155AW / 충전시간: 5시간 / 사용시간: 40분 / 도킹스테이션 / 프리볼트 / 무게: 2.61kg / 소비전력: 485W / 110V / 변환어댑터: 필요 / 브러쉬: 소프트롤러클리너헤드, 다이렉트드라이브클리너헤드, 미니모토라이즈드툴, 콤비네이션툴, 솔트더스팅브러쉬, 크레비스노즐 / 크기(가로x세로x깊이): 250x1244x224mm',\n",
       "  874220],\n",
       " ['삼성전자 제트 VS20T9278S3',\n",
       "  '핸디/스틱청소기 / 핸디+스틱형 / 무선형 / 전압: 21.9V / 헤파필터 / 싸이클론 / 5단계여과 / 인버터모터 / 흡입력: 200W / 먼지통용량: 0.5L / 충전시간: 3시간30분 / 사용시간: 2시간 / 배터리: 리튬이온 (2개) / 브러쉬: 바닥, 솔형, 틈새, 침구, 물걸레, 연장관 / 거치대 / 디스플레이표시창 / 프리볼트 / 색상:티탄실버 / 소비전력: 550W / 미세먼지인증(SLG) / 크기(가로x세로x깊이): 250x1136x215mm',\n",
       "  1134500],\n",
       " ['일렉트로룩스 퓨어 Q9 PQ91-3EM',\n",
       "  '핸디/스틱청소기 / 핸디+스틱형 / 무선형 / 전압: 25.2V / 싸이클론 / 5단계여과 / 먼지통용량: 0.3L / 충전시간: 4시간 / 사용시간: 55분 / 배터리: 리튬이온 / LED라이트 / 거치대 / 브러쉬자동청소 / 셀프스탠딩 / 무게: 2.75kg / 색상:마호가니브론즈 / 브러쉬: 바닥, 틈새, 슈퍼롱, 사선 / 크기(가로x세로x깊이): 256x1100x130mm',\n",
       "  302690],\n",
       " ['샤오미 드리미 V8',\n",
       "  '핸디/스틱청소기 / 핸디+스틱형 / 무선형 / 전압: 25.2V / 헤파필터 / 싸이클론 / 5단계여과 / 흡입력: 100AW / 먼지통용량: 0.5L / 충전시간: 3시간 / 사용시간: 45분 / 브러쉬: 바닥, 솔형, 틈새, 침구, 연장관 / 거치대 / 무게: 1.5kg / 색상:화이트 / 소비전력: 350W ',\n",
       "  104500],\n",
       " ['다이슨 V7 플러피',\n",
       "  '핸디/스틱청소기 / 핸디+스틱형 / 무선형 / 전압: 21.6V / 싸이클론 / 흡입력: 100AW / 충전시간: 3시간30분 / 사용시간: 30분 / 배터리: 리튬이온 / 도킹스테이션 / 무게: 2.32kg / 소비전력: 350W / 브러쉬: 소프트롤러클리너헤드, 미니모토라이즈드툴, 콤비네이션툴, 크레비스툴, 미니소프트더스팅브러쉬툴 / 크기(가로x세로x깊이): 250x1243x210mm',\n",
       "  874220],\n",
       " ['다이슨 V11 컴플리트',\n",
       "  '핸디/스틱청소기 / 핸디+스틱형 / 무선형 / 싸이클론 / 흡입력: 185AW / 먼지통용량: 0.54L / 충전시간: 4시간30분 / 사용시간: 1시간 / 거치대 / 도킹스테이션 / 디스플레이표시창 / 무게: 2.95kg / 색상:니켈블루 / 브러쉬: 소프트롤러클리너헤드, 하이토크드라이브헤드, 콤비네이션툴, 크레비스툴, 미니모터툴, 소프트더스팅브러쉬, 매트리스툴, 스터번더트브러쉬 / 크기(가로x세로x깊이): 250x1280x261mm',\n",
       "  788990],\n",
       " ['경성오토비스 KAC-7100',\n",
       "  '물걸레청소기 / 스틱형 / 물걸레전용 / 왕복식 / 무선형 / 전압: 10.86V / 충전시간: 3시간 / 사용시간: 1시간20분 / 배터리: 리튬이온 / 용량: 2050mAh / 각도조절 / 풋터치버튼 / 무게: 3.1kg / 소비전력: 30W / 색상:네이비 / 패드: 극세사(벨크로형)  / 크기(가로x세로x깊이): 270x1180x270mm',\n",
       "  127260],\n",
       " ['일렉트로룩스 에르고라피도 파워프로 ZB3414AK',\n",
       "  '핸디/스틱청소기 / 핸디+스틱형 / 무선형 / 전압: 18V / 4단계여과 / 먼지통용량: 0.42L / 충전시간: 4시간 / 사용시간: 48분 / 배터리: 리튬이온 / 거치대 / 셀프스탠딩 / 무게: 3.3kg / 색상:소프트핑크 / 알레르기인증(BAF) / 브러쉬: 파워프로롤러, 베드프로미니, 수퍼롱, 패브릭, 틈새, 플렉시호스',\n",
       "  205790],\n",
       " ['삼성전자 VC-H71',\n",
       "  '핸디/스틱청소기 / 핸디+스틱형 / 무선형 / 충전시간: 8시간 / 사용시간: 12분 / 배터리: 니켈수소 / 셀프스탠딩 / 무게: 1kg / 색상:에어본+내츄럴그레이 / 소비전력: 48W / 크기(가로x세로x깊이): 342x265x119mm',\n",
       "  44750],\n",
       " ['캐치웰 CV6',\n",
       "  '핸디/스틱청소기 / 핸디+스틱형 / 무선형 / 전압: 22.2V / 헤파필터 / 듀얼싸이클론 / 흡입력: 9000Pa / 충전시간: 4시간 / 사용시간: 40분 / 배터리: 리튬이온 / 브러쉬: 바닥, 솔형, 틈새, 연장관 / 도킹스테이션 / 무게: 1.89kg / 색상:레드 ',\n",
       "  281000],\n",
       " ['LG전자 코드제로 S86',\n",
       "  '핸디/스틱청소기 / 핸디+스틱형 / 무선형 / 인버터모터 / 충전시간: 4시간30분 / 사용시간: 40분(강), 70분(약) / 배터리: 리튬이온 / 브러쉬: 바닥, 솔형, 틈새 / LED라이트 / 배터리잔량표시 / 무게: 2.8kg / 색상:샤이니레드 / 소비전력: 90W / 크기(가로x세로x깊이): 190x1105x270mm',\n",
       "  874220]]"
      ]
     },
     "execution_count": 37,
     "metadata": {},
     "output_type": "execute_result"
    }
   ],
   "source": [
    "# 1페이지 전체적으로 잘 작동하는지 테스트해본다.\n",
    "# 1페이지에 잘 동작하면 2,3 페이지 등으로 바꿔서 테스트해본다.\n",
    "# 아래 tqdm은 혹시 에러가 있을 때 어느 부분에서 발생하는지 체크하기 위함\n",
    "\n",
    "url = searching('무선청소기',2)\n",
    "driver = webdriver.Chrome('C:/Users/hp/Desktop/최영조/chromedriver.exe')\n",
    "driver.get(url)\n",
    "time.sleep(2)\n",
    "information=[]\n",
    "html = driver.page_source\n",
    "soup = BeautifulSoup(html,'html.parser')\n",
    "full_info = soup.select('div.prod_main_info')\n",
    "time.sleep(1)\n",
    "\n",
    "for i in tqdm_notebook(range(30)):\n",
    "    item_info = full_info[i]\n",
    "    name = item_info.select('p>a')[0].text\n",
    "    spec = item_info.select('div.spec_list')[0].text.replace(\"\\t\",\"\").replace(\"\\n\",\"\")\n",
    "    \n",
    "    middle_check = full_info[i].select('p.price_sect strong')\n",
    "    if len(middle_check)==1:\n",
    "        price = int(item_info.select('p.price_sect strong')[0].text.replace(\",\",\"\"))\n",
    "    else:\n",
    "        price_list=[]\n",
    "        for i in range(len(full_info[7].select('p.price_sect strong'))):\n",
    "            price = int(full_info[7].select('p.price_sect strong')[i].text.replace(\",\",\"\"))\n",
    "            price_list.append(price)\n",
    "                \n",
    "        price = np.array(price_list).min()\n",
    "        \n",
    "    information.append([name,spec,price])\n",
    "information"
   ]
  },
  {
   "cell_type": "code",
   "execution_count": 5,
   "metadata": {},
   "outputs": [
    {
     "data": {
      "application/vnd.jupyter.widget-view+json": {
       "model_id": "ec008665db744c99ac469f37498f1d1f",
       "version_major": 2,
       "version_minor": 0
      },
      "text/plain": [
       "HBox(children=(IntProgress(value=0, max=10), HTML(value='')))"
      ]
     },
     "metadata": {},
     "output_type": "display_data"
    },
    {
     "name": "stdout",
     "output_type": "stream",
     "text": [
      "\n"
     ]
    },
    {
     "data": {
      "text/html": [
       "<div>\n",
       "<style scoped>\n",
       "    .dataframe tbody tr th:only-of-type {\n",
       "        vertical-align: middle;\n",
       "    }\n",
       "\n",
       "    .dataframe tbody tr th {\n",
       "        vertical-align: top;\n",
       "    }\n",
       "\n",
       "    .dataframe thead th {\n",
       "        text-align: right;\n",
       "    }\n",
       "</style>\n",
       "<table border=\"1\" class=\"dataframe\">\n",
       "  <thead>\n",
       "    <tr style=\"text-align: right;\">\n",
       "      <th></th>\n",
       "      <th>제품명</th>\n",
       "      <th>스펙</th>\n",
       "      <th>가격</th>\n",
       "    </tr>\n",
       "  </thead>\n",
       "  <tbody>\n",
       "    <tr>\n",
       "      <td>0</td>\n",
       "      <td>델로라 V11 파워 300W</td>\n",
       "      <td>핸디/스틱청소기  / 핸디+스틱형  / 무선형  / 전압: 29.6V / 헤파필터 ...</td>\n",
       "      <td>139000</td>\n",
       "    </tr>\n",
       "    <tr>\n",
       "      <td>1</td>\n",
       "      <td>원더스리빙 원더스 다이나킹 Z9</td>\n",
       "      <td>핸디/스틱청소기  / 핸디+스틱형  / 무선형  / 전압: 28.8V / 헤파필터 ...</td>\n",
       "      <td>299000</td>\n",
       "    </tr>\n",
       "    <tr>\n",
       "      <td>2</td>\n",
       "      <td>델로라 V11 파워 300W</td>\n",
       "      <td>핸디/스틱청소기 / 핸디+스틱형 / 무선형 / 전압: 29.6V / 헤파필터 / 싸...</td>\n",
       "      <td>139000</td>\n",
       "    </tr>\n",
       "    <tr>\n",
       "      <td>3</td>\n",
       "      <td>샤오미 드리미 V10</td>\n",
       "      <td>핸디/스틱청소기 / 핸디+스틱형 / 무선형 / 전압: 25.2V / 헤파필터 / H...</td>\n",
       "      <td>171760</td>\n",
       "    </tr>\n",
       "    <tr>\n",
       "      <td>4</td>\n",
       "      <td>원더스리빙 원더스 다이나킹 Z9</td>\n",
       "      <td>핸디/스틱청소기 / 핸디+스틱형 / 무선형 / 전압: 28.8V / 헤파필터 / 듀...</td>\n",
       "      <td>299000</td>\n",
       "    </tr>\n",
       "  </tbody>\n",
       "</table>\n",
       "</div>"
      ],
      "text/plain": [
       "                 제품명                                                 스펙  \\\n",
       "0    델로라 V11 파워 300W  핸디/스틱청소기  / 핸디+스틱형  / 무선형  / 전압: 29.6V / 헤파필터 ...   \n",
       "1  원더스리빙 원더스 다이나킹 Z9  핸디/스틱청소기  / 핸디+스틱형  / 무선형  / 전압: 28.8V / 헤파필터 ...   \n",
       "2    델로라 V11 파워 300W  핸디/스틱청소기 / 핸디+스틱형 / 무선형 / 전압: 29.6V / 헤파필터 / 싸...   \n",
       "3        샤오미 드리미 V10  핸디/스틱청소기 / 핸디+스틱형 / 무선형 / 전압: 25.2V / 헤파필터 / H...   \n",
       "4  원더스리빙 원더스 다이나킹 Z9  핸디/스틱청소기 / 핸디+스틱형 / 무선형 / 전압: 28.8V / 헤파필터 / 듀...   \n",
       "\n",
       "       가격  \n",
       "0  139000  \n",
       "1  299000  \n",
       "2  139000  \n",
       "3  171760  \n",
       "4  299000  "
      ]
     },
     "execution_count": 5,
     "metadata": {},
     "output_type": "execute_result"
    }
   ],
   "source": [
    "# 전체 페이지를 순환하는 과정이 문제가 없는지 체크해본다.\n",
    "information=[]\n",
    "\n",
    "product='무선청소기'\n",
    "# 모든 페이지는 1000페이지가 넘어간다.. 어차피 목표는 인기제품들을 분류하는 것이므로 10페이지 정도만 순환하도록 한다.\n",
    "total_page=10  \n",
    "\n",
    "driver = webdriver.Chrome('C:/Users/hp/Desktop/최영조/chromedriver.exe')\n",
    "\n",
    "for k in tqdm_notebook(range(1,total_page+1)):\n",
    "    url = searching(product,k)\n",
    "    driver.get(url)\n",
    "    time.sleep(2)\n",
    "    \n",
    "    html = driver.page_source\n",
    "    soup = BeautifulSoup(html,'html.parser')\n",
    "    full_info = soup.select('div.prod_main_info')\n",
    "    time.sleep(1)\n",
    "    \n",
    "    # 이유는 잘 모르겠으나 1페이지의 경우 32개의 상품이 게시되어있고, 나머지 페이지는 30개씩 게시되어있다.\n",
    "    if k == 1:\n",
    "        l=32\n",
    "    else:\n",
    "        l=30\n",
    "\n",
    "    for i in range(l):\n",
    "        item_info = full_info[i]\n",
    "        name = item_info.select('p>a')[0].text\n",
    "        spec = item_info.select('div.spec_list')[0].text.replace(\"\\t\",\"\").replace(\"\\n\",\"\")\n",
    "        \n",
    "        \n",
    "        # 이미 한번 돌려본 결과 품절된 제품은 가격이 표시되지 않아 에러가 났었음. 그러한 에러를 방지하기 위함\n",
    "        try:\n",
    "            middle_check = full_info[i].select('p.price_sect strong')\n",
    "            if len(middle_check)==1:\n",
    "                price = int(item_info.select('p.price_sect strong')[0].text.replace(\",\",\"\"))\n",
    "            else:\n",
    "                price_list=[]\n",
    "                for i in range(len(full_info[7].select('p.price_sect strong'))):\n",
    "                    price = int(full_info[7].select('p.price_sect strong')[i].text.replace(\",\",\"\"))\n",
    "                    price_list.append(price)\n",
    "                    price = np.array(price_list).min()\n",
    "        except:\n",
    "            price= None\n",
    "        information.append([name,spec,price])\n",
    "        \n",
    "info2_df = pd.DataFrame(information,columns=['제품명','스펙','가격'])\n",
    "info2_df.head()"
   ]
  },
  {
   "cell_type": "code",
   "execution_count": 19,
   "metadata": {},
   "outputs": [],
   "source": [
    "# 정상적으로 작동한다면 이를 함수로 만들어 사용한다.\n",
    "\n",
    "def get_information(product,total_page):\n",
    "    information=[]\n",
    "    from tqdm import tqdm_notebook\n",
    "    import pandas as pd\n",
    "    import time\n",
    "    import numpy as np\n",
    "    from selenium import webdriver\n",
    "    from bs4 import BeautifulSoup\n",
    "\n",
    "\n",
    "    driver = webdriver.Chrome('C:/Users/hp/Desktop/최영조/chromedriver.exe')\n",
    "\n",
    "    for k in tqdm_notebook(range(1,total_page+1)):\n",
    "        url = searching(product,k)\n",
    "        driver.get(url)\n",
    "        time.sleep(2)\n",
    "\n",
    "        html = driver.page_source\n",
    "        soup = BeautifulSoup(html,'html.parser')\n",
    "        full_info = soup.select('div.prod_main_info')\n",
    "        time.sleep(1)\n",
    "\n",
    "        if k == 1:\n",
    "            l=32\n",
    "        else:\n",
    "            l=30\n",
    "\n",
    "        for i in range(l):\n",
    "            item_info = full_info[i]\n",
    "            name = item_info.select('p>a')[0].text\n",
    "            spec = item_info.select('div.spec_list')[0].text.replace(\"\\t\",\"\").replace(\"\\n\",\"\")\n",
    "            try:\n",
    "                middle_check = full_info[i].select('p.price_sect strong')\n",
    "                if len(middle_check)==1:\n",
    "                    price = int(item_info.select('p.price_sect strong')[0].text.replace(\",\",\"\"))\n",
    "                else:\n",
    "                    price_list=[]\n",
    "                    for i in range(len(full_info[7].select('p.price_sect strong'))):\n",
    "                        price = int(full_info[7].select('p.price_sect strong')[i].text.replace(\",\",\"\"))\n",
    "                        price_list.append(price)\n",
    "                    price = np.array(price_list).min()\n",
    "            except:\n",
    "                price= None\n",
    "            \n",
    "            information.append([name,spec,price])\n",
    "\n",
    "    info_df = pd.DataFrame(information,columns=['제품명','스펙','가격'])\n",
    "    return info_df\n",
    "                        \n",
    "                        \n"
   ]
  },
  {
   "cell_type": "code",
   "execution_count": 24,
   "metadata": {},
   "outputs": [
    {
     "data": {
      "application/vnd.jupyter.widget-view+json": {
       "model_id": "78c7daef55fc45b183575a7902e304d5",
       "version_major": 2,
       "version_minor": 0
      },
      "text/plain": [
       "HBox(children=(IntProgress(value=0, max=10), HTML(value='')))"
      ]
     },
     "metadata": {},
     "output_type": "display_data"
    },
    {
     "name": "stdout",
     "output_type": "stream",
     "text": [
      "\n"
     ]
    }
   ],
   "source": [
    "result = get_information('무선청소기',10)"
   ]
  },
  {
   "cell_type": "code",
   "execution_count": 25,
   "metadata": {},
   "outputs": [
    {
     "data": {
      "text/html": [
       "<div>\n",
       "<style scoped>\n",
       "    .dataframe tbody tr th:only-of-type {\n",
       "        vertical-align: middle;\n",
       "    }\n",
       "\n",
       "    .dataframe tbody tr th {\n",
       "        vertical-align: top;\n",
       "    }\n",
       "\n",
       "    .dataframe thead th {\n",
       "        text-align: right;\n",
       "    }\n",
       "</style>\n",
       "<table border=\"1\" class=\"dataframe\">\n",
       "  <thead>\n",
       "    <tr style=\"text-align: right;\">\n",
       "      <th></th>\n",
       "      <th>제품명</th>\n",
       "      <th>스펙</th>\n",
       "      <th>가격</th>\n",
       "    </tr>\n",
       "  </thead>\n",
       "  <tbody>\n",
       "    <tr>\n",
       "      <td>0</td>\n",
       "      <td>델로라 V11 파워 300W</td>\n",
       "      <td>핸디/스틱청소기  / 핸디+스틱형  / 무선형  / 전압: 29.6V / 헤파필터 ...</td>\n",
       "      <td>139000</td>\n",
       "    </tr>\n",
       "    <tr>\n",
       "      <td>1</td>\n",
       "      <td>원더스리빙 원더스 다이나킹 Z9</td>\n",
       "      <td>핸디/스틱청소기  / 핸디+스틱형  / 무선형  / 전압: 28.8V / 헤파필터 ...</td>\n",
       "      <td>299000</td>\n",
       "    </tr>\n",
       "    <tr>\n",
       "      <td>2</td>\n",
       "      <td>델로라 V11 파워 300W</td>\n",
       "      <td>핸디/스틱청소기 / 핸디+스틱형 / 무선형 / 전압: 29.6V / 헤파필터 / 싸...</td>\n",
       "      <td>139000</td>\n",
       "    </tr>\n",
       "    <tr>\n",
       "      <td>3</td>\n",
       "      <td>샤오미 드리미 V10</td>\n",
       "      <td>핸디/스틱청소기 / 핸디+스틱형 / 무선형 / 전압: 25.2V / 헤파필터 / H...</td>\n",
       "      <td>171760</td>\n",
       "    </tr>\n",
       "    <tr>\n",
       "      <td>4</td>\n",
       "      <td>원더스리빙 원더스 다이나킹 Z9</td>\n",
       "      <td>핸디/스틱청소기 / 핸디+스틱형 / 무선형 / 전압: 28.8V / 헤파필터 / 듀...</td>\n",
       "      <td>299000</td>\n",
       "    </tr>\n",
       "  </tbody>\n",
       "</table>\n",
       "</div>"
      ],
      "text/plain": [
       "                 제품명                                                 스펙  \\\n",
       "0    델로라 V11 파워 300W  핸디/스틱청소기  / 핸디+스틱형  / 무선형  / 전압: 29.6V / 헤파필터 ...   \n",
       "1  원더스리빙 원더스 다이나킹 Z9  핸디/스틱청소기  / 핸디+스틱형  / 무선형  / 전압: 28.8V / 헤파필터 ...   \n",
       "2    델로라 V11 파워 300W  핸디/스틱청소기 / 핸디+스틱형 / 무선형 / 전압: 29.6V / 헤파필터 / 싸...   \n",
       "3        샤오미 드리미 V10  핸디/스틱청소기 / 핸디+스틱형 / 무선형 / 전압: 25.2V / 헤파필터 / H...   \n",
       "4  원더스리빙 원더스 다이나킹 Z9  핸디/스틱청소기 / 핸디+스틱형 / 무선형 / 전압: 28.8V / 헤파필터 / 듀...   \n",
       "\n",
       "       가격  \n",
       "0  139000  \n",
       "1  299000  \n",
       "2  139000  \n",
       "3  171760  \n",
       "4  299000  "
      ]
     },
     "execution_count": 25,
     "metadata": {},
     "output_type": "execute_result"
    }
   ],
   "source": [
    "result.head()"
   ]
  },
  {
   "cell_type": "code",
   "execution_count": 11,
   "metadata": {},
   "outputs": [
    {
     "data": {
      "text/plain": [
       "제품명    0\n",
       "스펙     0\n",
       "가격     0\n",
       "dtype: int64"
      ]
     },
     "execution_count": 11,
     "metadata": {},
     "output_type": "execute_result"
    }
   ],
   "source": [
    "result.isnull().sum()\n",
    "# 가격에 결측치가 존재하지 않음"
   ]
  },
  {
   "cell_type": "code",
   "execution_count": 26,
   "metadata": {},
   "outputs": [],
   "source": [
    "# 정상적으로 나온 결과를 엑셀로 저장함\n",
    "result.to_excel('cleaner.xlsx',index=False)"
   ]
  },
  {
   "cell_type": "markdown",
   "metadata": {},
   "source": [
    "## 크롤링해서 얻은 데이터를 전처리"
   ]
  },
  {
   "cell_type": "code",
   "execution_count": 2,
   "metadata": {},
   "outputs": [],
   "source": [
    "import pandas as pd\n",
    "import matplotlib as plt\n",
    "import seaborn as sns"
   ]
  },
  {
   "cell_type": "code",
   "execution_count": 3,
   "metadata": {},
   "outputs": [
    {
     "data": {
      "text/html": [
       "<div>\n",
       "<style scoped>\n",
       "    .dataframe tbody tr th:only-of-type {\n",
       "        vertical-align: middle;\n",
       "    }\n",
       "\n",
       "    .dataframe tbody tr th {\n",
       "        vertical-align: top;\n",
       "    }\n",
       "\n",
       "    .dataframe thead th {\n",
       "        text-align: right;\n",
       "    }\n",
       "</style>\n",
       "<table border=\"1\" class=\"dataframe\">\n",
       "  <thead>\n",
       "    <tr style=\"text-align: right;\">\n",
       "      <th></th>\n",
       "      <th>제품명</th>\n",
       "      <th>스펙</th>\n",
       "      <th>가격</th>\n",
       "    </tr>\n",
       "  </thead>\n",
       "  <tbody>\n",
       "    <tr>\n",
       "      <td>0</td>\n",
       "      <td>델로라 V11 파워 300W</td>\n",
       "      <td>핸디/스틱청소기  / 핸디+스틱형  / 무선형  / 전압: 29.6V / 헤파필터 ...</td>\n",
       "      <td>139000</td>\n",
       "    </tr>\n",
       "    <tr>\n",
       "      <td>1</td>\n",
       "      <td>원더스리빙 원더스 다이나킹 Z9</td>\n",
       "      <td>핸디/스틱청소기  / 핸디+스틱형  / 무선형  / 전압: 28.8V / 헤파필터 ...</td>\n",
       "      <td>299000</td>\n",
       "    </tr>\n",
       "    <tr>\n",
       "      <td>2</td>\n",
       "      <td>델로라 V11 파워 300W</td>\n",
       "      <td>핸디/스틱청소기 / 핸디+스틱형 / 무선형 / 전압: 29.6V / 헤파필터 / 싸...</td>\n",
       "      <td>139000</td>\n",
       "    </tr>\n",
       "    <tr>\n",
       "      <td>3</td>\n",
       "      <td>샤오미 드리미 V10</td>\n",
       "      <td>핸디/스틱청소기 / 핸디+스틱형 / 무선형 / 전압: 25.2V / 헤파필터 / H...</td>\n",
       "      <td>171760</td>\n",
       "    </tr>\n",
       "    <tr>\n",
       "      <td>4</td>\n",
       "      <td>원더스리빙 원더스 다이나킹 Z9</td>\n",
       "      <td>핸디/스틱청소기 / 핸디+스틱형 / 무선형 / 전압: 28.8V / 헤파필터 / 듀...</td>\n",
       "      <td>299000</td>\n",
       "    </tr>\n",
       "  </tbody>\n",
       "</table>\n",
       "</div>"
      ],
      "text/plain": [
       "                 제품명                                                 스펙  \\\n",
       "0    델로라 V11 파워 300W  핸디/스틱청소기  / 핸디+스틱형  / 무선형  / 전압: 29.6V / 헤파필터 ...   \n",
       "1  원더스리빙 원더스 다이나킹 Z9  핸디/스틱청소기  / 핸디+스틱형  / 무선형  / 전압: 28.8V / 헤파필터 ...   \n",
       "2    델로라 V11 파워 300W  핸디/스틱청소기 / 핸디+스틱형 / 무선형 / 전압: 29.6V / 헤파필터 / 싸...   \n",
       "3        샤오미 드리미 V10  핸디/스틱청소기 / 핸디+스틱형 / 무선형 / 전압: 25.2V / 헤파필터 / H...   \n",
       "4  원더스리빙 원더스 다이나킹 Z9  핸디/스틱청소기 / 핸디+스틱형 / 무선형 / 전압: 28.8V / 헤파필터 / 듀...   \n",
       "\n",
       "       가격  \n",
       "0  139000  \n",
       "1  299000  \n",
       "2  139000  \n",
       "3  171760  \n",
       "4  299000  "
      ]
     },
     "execution_count": 3,
     "metadata": {},
     "output_type": "execute_result"
    }
   ],
   "source": [
    "df = pd.read_excel('cleaner.xlsx')\n",
    "df.head()"
   ]
  },
  {
   "cell_type": "markdown",
   "metadata": {},
   "source": [
    "### 스펙 컬럼의 데이터들이 난잡한 문자열로 되어있으니 이를 정리해준다.\n",
    "무선청소기의 여러 스펙 중 흡입력과 가용시간을 기준으로 순위를 분류할 것이므로 두 스펙만 따로 빼오도록 한다."
   ]
  },
  {
   "cell_type": "code",
   "execution_count": 4,
   "metadata": {},
   "outputs": [
    {
     "data": {
      "text/plain": [
       "'핸디/스틱청소기  / 핸디+스틱형  / 무선형  / 전압: 29.6V / 헤파필터  / 싸이클론  / 4단계여과  / BLDC모터  / 흡입력 : 22000Pa  / 먼지통용량: 0.6L / 충전시간 : 5시간  / 사용시간 : 1시간10분  / 배터리 : 리튬이온  / 용량 : 2500mAh  / 브러쉬: 바닥 , 솔형 , 틈새 , 침구 , 연장관  / LED라이트  / 거치대  / 무게 : 3.89kg  / 색상:레드, 블랙  / 소비전력 : 300W  / 크기(가로x세로x깊이): 239x1255x105mm'"
      ]
     },
     "execution_count": 4,
     "metadata": {},
     "output_type": "execute_result"
    }
   ],
   "source": [
    "df['스펙'][0]"
   ]
  },
  {
   "cell_type": "code",
   "execution_count": 5,
   "metadata": {},
   "outputs": [
    {
     "data": {
      "text/plain": [
       "'핸디/스틱청소기  / 핸디+스틱형  / 무선형  / 전압: 28.8V / 헤파필터  / 듀얼싸이클론  / 6단계여과  / BLDC모터  / 흡입력 : 160AW  / 흡입력 : 22000Pa  / 먼지통용량: 0.7L / 충전시간 : 4시간30분  / 사용시간 : 1시간5분  / 배터리 : 리튬이온  / 용량 : 2500mAh  / 거치대  / 배터리잔량표시  / 셀프스탠딩  / 프리볼트  / 무게 : 2.5kg  / 소비전력 : 450W  / 브러쉬: 바닥, 펫, 멀티, 틈새, 솔형, 침구, 연장호스, 플렉스연장관 / 크기(가로x세로x깊이): 250x1096x198mm'"
      ]
     },
     "execution_count": 5,
     "metadata": {},
     "output_type": "execute_result"
    }
   ],
   "source": [
    "df['스펙'][1]"
   ]
  },
  {
   "cell_type": "markdown",
   "metadata": {},
   "source": [
    "- 1번 째에는 해당 청소기의 종류\n",
    "- 가용시간은 사용시간:00 이런 형식\n",
    "- 흡입력은 흡입력:00 이런 형식"
   ]
  },
  {
   "cell_type": "code",
   "execution_count": 6,
   "metadata": {},
   "outputs": [
    {
     "data": {
      "text/plain": [
       "['핸디',\n",
       " '스틱청소기  ',\n",
       " ' 핸디+스틱형  ',\n",
       " ' 무선형  ',\n",
       " ' 전압: 29.6V ',\n",
       " ' 헤파필터  ',\n",
       " ' 싸이클론  ',\n",
       " ' 4단계여과  ',\n",
       " ' BLDC모터  ',\n",
       " ' 흡입력 : 22000Pa  ',\n",
       " ' 먼지통용량: 0.6L ',\n",
       " ' 충전시간 : 5시간  ',\n",
       " ' 사용시간 : 1시간10분  ',\n",
       " ' 배터리 : 리튬이온  ',\n",
       " ' 용량 : 2500mAh  ',\n",
       " ' 브러쉬: 바닥 , 솔형 , 틈새 , 침구 , 연장관  ',\n",
       " ' LED라이트  ',\n",
       " ' 거치대  ',\n",
       " ' 무게 : 3.89kg  ',\n",
       " ' 색상:레드, 블랙  ',\n",
       " ' 소비전력 : 300W  ',\n",
       " ' 크기(가로x세로x깊이): 239x1255x105mm']"
      ]
     },
     "execution_count": 6,
     "metadata": {},
     "output_type": "execute_result"
    }
   ],
   "source": [
    "spec_list = df['스펙'][0].split('/')\n",
    "spec_list"
   ]
  },
  {
   "cell_type": "code",
   "execution_count": 7,
   "metadata": {},
   "outputs": [
    {
     "data": {
      "text/plain": [
       "'핸디/스틱청소기'"
      ]
     },
     "execution_count": 7,
     "metadata": {},
     "output_type": "execute_result"
    }
   ],
   "source": [
    "종류 = (spec_list[0]+'/'+spec_list[1]).strip()\n",
    "종류"
   ]
  },
  {
   "cell_type": "code",
   "execution_count": 8,
   "metadata": {},
   "outputs": [
    {
     "name": "stdout",
     "output_type": "stream",
     "text": [
      "델로라\n",
      "V11 파워 300W\n"
     ]
    }
   ],
   "source": [
    "company = df['제품명'][0].split(\" \",1)[0]\n",
    "product = df['제품명'][0].split(\" \",1)[1]\n",
    "print(company)\n",
    "print(product)"
   ]
  },
  {
   "cell_type": "code",
   "execution_count": 9,
   "metadata": {},
   "outputs": [
    {
     "data": {
      "text/plain": [
       "'1시간10분'"
      ]
     },
     "execution_count": 9,
     "metadata": {},
     "output_type": "execute_result"
    }
   ],
   "source": [
    "for spec in spec_list:\n",
    "    if '사용시간' in spec:\n",
    "        사용시간 = spec.split(':')[1].strip()\n",
    "사용시간"
   ]
  },
  {
   "cell_type": "code",
   "execution_count": 10,
   "metadata": {},
   "outputs": [
    {
     "data": {
      "text/plain": [
       "'22000Pa'"
      ]
     },
     "execution_count": 10,
     "metadata": {},
     "output_type": "execute_result"
    }
   ],
   "source": [
    "for spec in spec_list:\n",
    "    if '흡입력' in spec:\n",
    "        흡입력 = spec.split(':')[1].strip()\n",
    "흡입력"
   ]
  },
  {
   "cell_type": "code",
   "execution_count": 11,
   "metadata": {},
   "outputs": [
    {
     "name": "stdout",
     "output_type": "stream",
     "text": [
      "['핸디/스틱청소기', '핸디/스틱청소기', '핸디/스틱청소기', '핸디/스틱청소기']\n",
      "['1시간10분', '1시간5분', '1시간10분', '1시간']\n",
      "['22000Pa', '22000Pa', '22000Pa', '22000Pa']\n",
      "['델로라', '원더스리빙', '델로라', '샤오미']\n",
      "['V11 파워 300W', '원더스 다이나킹 Z9', 'V11 파워 300W', '드리미 V10']\n"
     ]
    }
   ],
   "source": [
    "# 전체 로우에 대해 실행\n",
    "sort_list=[]\n",
    "duration_list=[]\n",
    "suction_list=[]\n",
    "company_list=[]\n",
    "product_list=[]\n",
    "for i in range(len(df)):\n",
    "    spec_list = df['스펙'][i].split('/')\n",
    "    종류 = (spec_list[0]+'/'+spec_list[1]).strip()\n",
    "    company = df['제품명'][i].split(\" \",1)[0]\n",
    "    product = df['제품명'][i].split(\" \",1)[1]\n",
    "    for spec in spec_list:\n",
    "        if '사용시간' in spec:\n",
    "            사용시간 = spec.split(':')[1].strip()\n",
    "    for spec in spec_list:\n",
    "        if '흡입력' in spec:\n",
    "            흡입력 = spec.split(':')[1].strip()\n",
    "    sort_list.append(종류)\n",
    "    duration_list.append(사용시간)\n",
    "    suction_list.append(흡입력)\n",
    "    company_list.append(company)\n",
    "    product_list.append(product)\n",
    "print(sort_list[:4])\n",
    "print(duration_list[:4])\n",
    "print(suction_list[:4])\n",
    "print(company_list[:4])\n",
    "print(product_list[:4])"
   ]
  },
  {
   "cell_type": "code",
   "execution_count": 12,
   "metadata": {},
   "outputs": [
    {
     "data": {
      "text/html": [
       "<div>\n",
       "<style scoped>\n",
       "    .dataframe tbody tr th:only-of-type {\n",
       "        vertical-align: middle;\n",
       "    }\n",
       "\n",
       "    .dataframe tbody tr th {\n",
       "        vertical-align: top;\n",
       "    }\n",
       "\n",
       "    .dataframe thead th {\n",
       "        text-align: right;\n",
       "    }\n",
       "</style>\n",
       "<table border=\"1\" class=\"dataframe\">\n",
       "  <thead>\n",
       "    <tr style=\"text-align: right;\">\n",
       "      <th></th>\n",
       "      <th>회사명</th>\n",
       "      <th>제품명</th>\n",
       "      <th>종류</th>\n",
       "      <th>사용시간</th>\n",
       "      <th>흡입력</th>\n",
       "      <th>가격</th>\n",
       "    </tr>\n",
       "  </thead>\n",
       "  <tbody>\n",
       "    <tr>\n",
       "      <td>0</td>\n",
       "      <td>델로라</td>\n",
       "      <td>V11 파워 300W</td>\n",
       "      <td>핸디/스틱청소기</td>\n",
       "      <td>1시간10분</td>\n",
       "      <td>22000Pa</td>\n",
       "      <td>139000</td>\n",
       "    </tr>\n",
       "    <tr>\n",
       "      <td>1</td>\n",
       "      <td>원더스리빙</td>\n",
       "      <td>원더스 다이나킹 Z9</td>\n",
       "      <td>핸디/스틱청소기</td>\n",
       "      <td>1시간5분</td>\n",
       "      <td>22000Pa</td>\n",
       "      <td>299000</td>\n",
       "    </tr>\n",
       "    <tr>\n",
       "      <td>2</td>\n",
       "      <td>델로라</td>\n",
       "      <td>V11 파워 300W</td>\n",
       "      <td>핸디/스틱청소기</td>\n",
       "      <td>1시간10분</td>\n",
       "      <td>22000Pa</td>\n",
       "      <td>139000</td>\n",
       "    </tr>\n",
       "    <tr>\n",
       "      <td>3</td>\n",
       "      <td>샤오미</td>\n",
       "      <td>드리미 V10</td>\n",
       "      <td>핸디/스틱청소기</td>\n",
       "      <td>1시간</td>\n",
       "      <td>22000Pa</td>\n",
       "      <td>171760</td>\n",
       "    </tr>\n",
       "    <tr>\n",
       "      <td>4</td>\n",
       "      <td>원더스리빙</td>\n",
       "      <td>원더스 다이나킹 Z9</td>\n",
       "      <td>핸디/스틱청소기</td>\n",
       "      <td>1시간5분</td>\n",
       "      <td>22000Pa</td>\n",
       "      <td>299000</td>\n",
       "    </tr>\n",
       "  </tbody>\n",
       "</table>\n",
       "</div>"
      ],
      "text/plain": [
       "     회사명          제품명        종류    사용시간      흡입력      가격\n",
       "0    델로라  V11 파워 300W  핸디/스틱청소기  1시간10분  22000Pa  139000\n",
       "1  원더스리빙  원더스 다이나킹 Z9  핸디/스틱청소기   1시간5분  22000Pa  299000\n",
       "2    델로라  V11 파워 300W  핸디/스틱청소기  1시간10분  22000Pa  139000\n",
       "3    샤오미      드리미 V10  핸디/스틱청소기     1시간  22000Pa  171760\n",
       "4  원더스리빙  원더스 다이나킹 Z9  핸디/스틱청소기   1시간5분  22000Pa  299000"
      ]
     },
     "execution_count": 12,
     "metadata": {},
     "output_type": "execute_result"
    }
   ],
   "source": [
    "sumarized_df = pd.DataFrame([company_list,product_list,sort_list,duration_list,suction_list]).T\n",
    "sumarized_df.columns = ['회사명','제품명','종류','사용시간','흡입력']\n",
    "sumarized_df['가격']=df['가격']\n",
    "sumarized_df.head()"
   ]
  },
  {
   "cell_type": "code",
   "execution_count": 13,
   "metadata": {},
   "outputs": [
    {
     "data": {
      "text/plain": [
       "종류\n",
       "로봇청소기 / 유리청소        20710.000000\n",
       "물걸레청소기 / 스틱+핸디형    316205.000000\n",
       "물걸레청소기 / 스틱형       193313.125000\n",
       "업소용청소기 / 건습식       299000.000000\n",
       "진공청소기 / 무선형         60350.000000\n",
       "차량용청소기 / 무선        119802.500000\n",
       "차량용청소기 / 어댑터        10560.000000\n",
       "차량용청소기 / 유무선        48760.000000\n",
       "침구청소기 / 핸디형         71040.000000\n",
       "핸디/스틱청소기           319303.421687\n",
       "Name: 가격, dtype: float64"
      ]
     },
     "execution_count": 13,
     "metadata": {},
     "output_type": "execute_result"
    }
   ],
   "source": [
    "sumarized_df.groupby('종류')['가격'].mean()"
   ]
  },
  {
   "cell_type": "markdown",
   "metadata": {},
   "source": [
    "### 비교가 가능하도록 사용시간과 흡입력 컬럼의 데이터의 단위를 모두 통일시키고 숫자형으로 만듦"
   ]
  },
  {
   "cell_type": "code",
   "execution_count": 14,
   "metadata": {},
   "outputs": [
    {
     "data": {
      "text/plain": [
       "핸디/스틱청소기           249\n",
       "물걸레청소기 / 스틱형        32\n",
       "차량용청소기 / 무선         12\n",
       "침구청소기 / 핸디형          2\n",
       "물걸레청소기 / 스틱+핸디형      2\n",
       "진공청소기 / 무선형          1\n",
       "업소용청소기 / 건습식         1\n",
       "로봇청소기 / 유리청소         1\n",
       "차량용청소기 / 유무선         1\n",
       "차량용청소기 / 어댑터         1\n",
       "Name: 종류, dtype: int64"
      ]
     },
     "execution_count": 14,
     "metadata": {},
     "output_type": "execute_result"
    }
   ],
   "source": [
    "sumarized_df.종류.value_counts()"
   ]
  },
  {
   "cell_type": "code",
   "execution_count": 15,
   "metadata": {},
   "outputs": [
    {
     "data": {
      "text/html": [
       "<div>\n",
       "<style scoped>\n",
       "    .dataframe tbody tr th:only-of-type {\n",
       "        vertical-align: middle;\n",
       "    }\n",
       "\n",
       "    .dataframe tbody tr th {\n",
       "        vertical-align: top;\n",
       "    }\n",
       "\n",
       "    .dataframe thead th {\n",
       "        text-align: right;\n",
       "    }\n",
       "</style>\n",
       "<table border=\"1\" class=\"dataframe\">\n",
       "  <thead>\n",
       "    <tr style=\"text-align: right;\">\n",
       "      <th></th>\n",
       "      <th>회사명</th>\n",
       "      <th>제품명</th>\n",
       "      <th>종류</th>\n",
       "      <th>사용시간</th>\n",
       "      <th>흡입력</th>\n",
       "      <th>가격</th>\n",
       "    </tr>\n",
       "  </thead>\n",
       "  <tbody>\n",
       "    <tr>\n",
       "      <td>0</td>\n",
       "      <td>델로라</td>\n",
       "      <td>V11 파워 300W</td>\n",
       "      <td>핸디/스틱청소기</td>\n",
       "      <td>1시간10분</td>\n",
       "      <td>22000Pa</td>\n",
       "      <td>139000</td>\n",
       "    </tr>\n",
       "    <tr>\n",
       "      <td>1</td>\n",
       "      <td>원더스리빙</td>\n",
       "      <td>원더스 다이나킹 Z9</td>\n",
       "      <td>핸디/스틱청소기</td>\n",
       "      <td>1시간5분</td>\n",
       "      <td>22000Pa</td>\n",
       "      <td>299000</td>\n",
       "    </tr>\n",
       "    <tr>\n",
       "      <td>2</td>\n",
       "      <td>델로라</td>\n",
       "      <td>V11 파워 300W</td>\n",
       "      <td>핸디/스틱청소기</td>\n",
       "      <td>1시간10분</td>\n",
       "      <td>22000Pa</td>\n",
       "      <td>139000</td>\n",
       "    </tr>\n",
       "    <tr>\n",
       "      <td>3</td>\n",
       "      <td>샤오미</td>\n",
       "      <td>드리미 V10</td>\n",
       "      <td>핸디/스틱청소기</td>\n",
       "      <td>1시간</td>\n",
       "      <td>22000Pa</td>\n",
       "      <td>171760</td>\n",
       "    </tr>\n",
       "    <tr>\n",
       "      <td>4</td>\n",
       "      <td>원더스리빙</td>\n",
       "      <td>원더스 다이나킹 Z9</td>\n",
       "      <td>핸디/스틱청소기</td>\n",
       "      <td>1시간5분</td>\n",
       "      <td>22000Pa</td>\n",
       "      <td>299000</td>\n",
       "    </tr>\n",
       "  </tbody>\n",
       "</table>\n",
       "</div>"
      ],
      "text/plain": [
       "     회사명          제품명        종류    사용시간      흡입력      가격\n",
       "0    델로라  V11 파워 300W  핸디/스틱청소기  1시간10분  22000Pa  139000\n",
       "1  원더스리빙  원더스 다이나킹 Z9  핸디/스틱청소기   1시간5분  22000Pa  299000\n",
       "2    델로라  V11 파워 300W  핸디/스틱청소기  1시간10분  22000Pa  139000\n",
       "3    샤오미      드리미 V10  핸디/스틱청소기     1시간  22000Pa  171760\n",
       "4  원더스리빙  원더스 다이나킹 Z9  핸디/스틱청소기   1시간5분  22000Pa  299000"
      ]
     },
     "execution_count": 15,
     "metadata": {},
     "output_type": "execute_result"
    }
   ],
   "source": [
    "# 청소기 종류가 다른 것끼리 사용시간, 흡입력을 비교하는 것은 의미가 없으므로 핸디/스틱 청소기만 살펴보도록 하자.\n",
    "\n",
    "cond = (sumarized_df['종류'] =='핸디/스틱청소기')\n",
    "sumarized_df=sumarized_df[cond]\n",
    "sumarized_df.reset_index(inplace=True,drop=True)\n",
    "sumarized_df.head()"
   ]
  },
  {
   "cell_type": "code",
   "execution_count": 16,
   "metadata": {},
   "outputs": [
    {
     "data": {
      "text/plain": [
       "핸디/스틱청소기    249\n",
       "Name: 종류, dtype: int64"
      ]
     },
     "execution_count": 16,
     "metadata": {},
     "output_type": "execute_result"
    }
   ],
   "source": [
    "sumarized_df.종류.value_counts()"
   ]
  },
  {
   "cell_type": "markdown",
   "metadata": {},
   "source": [
    "#### 사용시간은 모두 분 단위로 통일"
   ]
  },
  {
   "cell_type": "code",
   "execution_count": 17,
   "metadata": {},
   "outputs": [
    {
     "data": {
      "text/plain": [
       "['20~30분', '10~15분', '12~15분', '12~30분', '5분~10분', '20~30분']"
      ]
     },
     "execution_count": 17,
     "metadata": {},
     "output_type": "execute_result"
    }
   ],
   "source": [
    "# 단 ~기호가 들어있는 값들이 존재\n",
    "\n",
    "g=sumarized_df['사용시간']\n",
    "k=[]\n",
    "for i in g:\n",
    "    if '~' in i:\n",
    "        k.append(i)\n",
    "k"
   ]
  },
  {
   "cell_type": "code",
   "execution_count": 18,
   "metadata": {},
   "outputs": [],
   "source": [
    "#  시간이 붙은 값들에는 ~가 없다. 분에 ~가 있는 값들을 고려해 함수를 작성\n",
    "\n",
    "def time_to_minute(time):\n",
    "    try:\n",
    "        if '시간' in time:\n",
    "            hour = int(time.split('시간')[0])\n",
    "\n",
    "            if '분' in time:\n",
    "                minute = int(time.split('시간')[1][:-1])\n",
    "            else:\n",
    "                minute = 0\n",
    "        else:\n",
    "            hour=0\n",
    "            if '~' in time:\n",
    "                min_time = int(time.split('~')[0].replace(\"분\",\"\"))\n",
    "                max_time = int(time.split('~')[1].replace(\"분\",\"\"))\n",
    "                minute = (min_time+max_time)/2\n",
    "            else:\n",
    "                minute = int(time.split('분')[-2])\n",
    "\n",
    "\n",
    "        duration = hour*60 + minute\n",
    "        return duration\n",
    "    except:\n",
    "        return None"
   ]
  },
  {
   "cell_type": "code",
   "execution_count": 19,
   "metadata": {},
   "outputs": [],
   "source": [
    "testdata = sumarized_df['사용시간'].map(time_to_minute)"
   ]
  },
  {
   "cell_type": "code",
   "execution_count": 20,
   "metadata": {},
   "outputs": [
    {
     "data": {
      "text/plain": [
       "1"
      ]
     },
     "execution_count": 20,
     "metadata": {},
     "output_type": "execute_result"
    }
   ],
   "source": [
    "testdata.isnull().sum()"
   ]
  },
  {
   "cell_type": "code",
   "execution_count": 21,
   "metadata": {},
   "outputs": [
    {
     "data": {
      "text/plain": [
       "51   NaN\n",
       "Name: 사용시간, dtype: float64"
      ]
     },
     "execution_count": 21,
     "metadata": {},
     "output_type": "execute_result"
    }
   ],
   "source": [
    "testdata[testdata.isnull()==True]"
   ]
  },
  {
   "cell_type": "code",
   "execution_count": 22,
   "metadata": {},
   "outputs": [
    {
     "data": {
      "text/plain": [
       "'40분'"
      ]
     },
     "execution_count": 22,
     "metadata": {},
     "output_type": "execute_result"
    }
   ],
   "source": [
    "sumarized_df['사용시간'][61]"
   ]
  },
  {
   "cell_type": "code",
   "execution_count": 23,
   "metadata": {},
   "outputs": [],
   "source": [
    "# 딱 하나만 오류를 일으키므로 수동으로 넣어주도록 한다.\n",
    "testdata[61]=55\n",
    "sumarized_df['사용시간'] = testdata"
   ]
  },
  {
   "cell_type": "code",
   "execution_count": 24,
   "metadata": {},
   "outputs": [
    {
     "data": {
      "text/html": [
       "<div>\n",
       "<style scoped>\n",
       "    .dataframe tbody tr th:only-of-type {\n",
       "        vertical-align: middle;\n",
       "    }\n",
       "\n",
       "    .dataframe tbody tr th {\n",
       "        vertical-align: top;\n",
       "    }\n",
       "\n",
       "    .dataframe thead th {\n",
       "        text-align: right;\n",
       "    }\n",
       "</style>\n",
       "<table border=\"1\" class=\"dataframe\">\n",
       "  <thead>\n",
       "    <tr style=\"text-align: right;\">\n",
       "      <th></th>\n",
       "      <th>회사명</th>\n",
       "      <th>제품명</th>\n",
       "      <th>종류</th>\n",
       "      <th>사용시간</th>\n",
       "      <th>흡입력</th>\n",
       "      <th>가격</th>\n",
       "    </tr>\n",
       "  </thead>\n",
       "  <tbody>\n",
       "    <tr>\n",
       "      <td>0</td>\n",
       "      <td>델로라</td>\n",
       "      <td>V11 파워 300W</td>\n",
       "      <td>핸디/스틱청소기</td>\n",
       "      <td>70.0</td>\n",
       "      <td>22000Pa</td>\n",
       "      <td>139000</td>\n",
       "    </tr>\n",
       "    <tr>\n",
       "      <td>1</td>\n",
       "      <td>원더스리빙</td>\n",
       "      <td>원더스 다이나킹 Z9</td>\n",
       "      <td>핸디/스틱청소기</td>\n",
       "      <td>65.0</td>\n",
       "      <td>22000Pa</td>\n",
       "      <td>299000</td>\n",
       "    </tr>\n",
       "    <tr>\n",
       "      <td>2</td>\n",
       "      <td>델로라</td>\n",
       "      <td>V11 파워 300W</td>\n",
       "      <td>핸디/스틱청소기</td>\n",
       "      <td>70.0</td>\n",
       "      <td>22000Pa</td>\n",
       "      <td>139000</td>\n",
       "    </tr>\n",
       "    <tr>\n",
       "      <td>3</td>\n",
       "      <td>샤오미</td>\n",
       "      <td>드리미 V10</td>\n",
       "      <td>핸디/스틱청소기</td>\n",
       "      <td>60.0</td>\n",
       "      <td>22000Pa</td>\n",
       "      <td>171760</td>\n",
       "    </tr>\n",
       "    <tr>\n",
       "      <td>4</td>\n",
       "      <td>원더스리빙</td>\n",
       "      <td>원더스 다이나킹 Z9</td>\n",
       "      <td>핸디/스틱청소기</td>\n",
       "      <td>65.0</td>\n",
       "      <td>22000Pa</td>\n",
       "      <td>299000</td>\n",
       "    </tr>\n",
       "  </tbody>\n",
       "</table>\n",
       "</div>"
      ],
      "text/plain": [
       "     회사명          제품명        종류  사용시간      흡입력      가격\n",
       "0    델로라  V11 파워 300W  핸디/스틱청소기  70.0  22000Pa  139000\n",
       "1  원더스리빙  원더스 다이나킹 Z9  핸디/스틱청소기  65.0  22000Pa  299000\n",
       "2    델로라  V11 파워 300W  핸디/스틱청소기  70.0  22000Pa  139000\n",
       "3    샤오미      드리미 V10  핸디/스틱청소기  60.0  22000Pa  171760\n",
       "4  원더스리빙  원더스 다이나킹 Z9  핸디/스틱청소기  65.0  22000Pa  299000"
      ]
     },
     "execution_count": 24,
     "metadata": {},
     "output_type": "execute_result"
    }
   ],
   "source": [
    "sumarized_df.head()"
   ]
  },
  {
   "cell_type": "markdown",
   "metadata": {},
   "source": [
    "#### 흡입력의 단위 역시 통일\n",
    "대략 1W = 1AW = 100PA로 간주"
   ]
  },
  {
   "cell_type": "code",
   "execution_count": 25,
   "metadata": {},
   "outputs": [],
   "source": [
    "def convert(suction):\n",
    "    try:\n",
    "        suction = suction.upper()\n",
    "        # W가 있는지 조건을 먼저 묻는다면 AW에도 W있어 오류날 수 있음\n",
    "        if 'AW' in suction or 'W' in suction:\n",
    "            suction = int(suction.replace('A',\"\").replace('W',\"\"))\n",
    "        else:\n",
    "            suction = int(suction[:-2])/100\n",
    "        return suction\n",
    "    \n",
    "    except:\n",
    "        return None"
   ]
  },
  {
   "cell_type": "code",
   "execution_count": 26,
   "metadata": {},
   "outputs": [],
   "source": [
    "testdata = sumarized_df['흡입력'].map(convert)"
   ]
  },
  {
   "cell_type": "code",
   "execution_count": 27,
   "metadata": {},
   "outputs": [
    {
     "data": {
      "text/plain": [
       "5"
      ]
     },
     "execution_count": 27,
     "metadata": {},
     "output_type": "execute_result"
    }
   ],
   "source": [
    "testdata.isnull().sum()"
   ]
  },
  {
   "cell_type": "code",
   "execution_count": 28,
   "metadata": {},
   "outputs": [],
   "source": [
    "num = testdata[testdata.isnull()==True].index"
   ]
  },
  {
   "cell_type": "code",
   "execution_count": 29,
   "metadata": {},
   "outputs": [
    {
     "data": {
      "text/plain": [
       "Int64Index([12, 30, 123, 124, 166], dtype='int64')"
      ]
     },
     "execution_count": 29,
     "metadata": {},
     "output_type": "execute_result"
    }
   ],
   "source": [
    "num"
   ]
  },
  {
   "cell_type": "code",
   "execution_count": 30,
   "metadata": {},
   "outputs": [
    {
     "data": {
      "text/plain": [
       "'12,000Pa'"
      ]
     },
     "execution_count": 30,
     "metadata": {},
     "output_type": "execute_result"
    }
   ],
   "source": [
    "sumarized_df['흡입력'][12]"
   ]
  },
  {
   "cell_type": "code",
   "execution_count": 31,
   "metadata": {},
   "outputs": [],
   "source": [
    "# 쉼표(,)로 인해 에러가 났으니 그 부분을 수정해 함수를 다시 만든다.\n",
    "\n",
    "def convert(suction):\n",
    "    try:\n",
    "        suction = suction.upper()\n",
    "        # W가 있는지 조건을 먼저 묻는다면 AW에도 W있어 오류날 수 있음\n",
    "        if 'AW' in suction or 'W' in suction:\n",
    "            suction = int(suction.replace('A',\"\").replace('W',\"\").replace(',',\"\"))\n",
    "        else:\n",
    "            suction = int(suction.replace(',',\"\")[:-2])/100\n",
    "        return suction\n",
    "    \n",
    "    except:\n",
    "        return None"
   ]
  },
  {
   "cell_type": "code",
   "execution_count": 32,
   "metadata": {},
   "outputs": [],
   "source": [
    "testdata = sumarized_df['흡입력'].map(convert)"
   ]
  },
  {
   "cell_type": "code",
   "execution_count": 33,
   "metadata": {},
   "outputs": [
    {
     "data": {
      "text/plain": [
       "0"
      ]
     },
     "execution_count": 33,
     "metadata": {},
     "output_type": "execute_result"
    }
   ],
   "source": [
    "testdata.isnull().sum()"
   ]
  },
  {
   "cell_type": "code",
   "execution_count": 34,
   "metadata": {},
   "outputs": [],
   "source": [
    "sumarized_df['흡입력'] = testdata"
   ]
  },
  {
   "cell_type": "code",
   "execution_count": 35,
   "metadata": {},
   "outputs": [
    {
     "data": {
      "text/html": [
       "<div>\n",
       "<style scoped>\n",
       "    .dataframe tbody tr th:only-of-type {\n",
       "        vertical-align: middle;\n",
       "    }\n",
       "\n",
       "    .dataframe tbody tr th {\n",
       "        vertical-align: top;\n",
       "    }\n",
       "\n",
       "    .dataframe thead th {\n",
       "        text-align: right;\n",
       "    }\n",
       "</style>\n",
       "<table border=\"1\" class=\"dataframe\">\n",
       "  <thead>\n",
       "    <tr style=\"text-align: right;\">\n",
       "      <th></th>\n",
       "      <th>회사명</th>\n",
       "      <th>제품명</th>\n",
       "      <th>종류</th>\n",
       "      <th>사용시간</th>\n",
       "      <th>흡입력</th>\n",
       "      <th>가격</th>\n",
       "    </tr>\n",
       "  </thead>\n",
       "  <tbody>\n",
       "    <tr>\n",
       "      <td>0</td>\n",
       "      <td>델로라</td>\n",
       "      <td>V11 파워 300W</td>\n",
       "      <td>핸디/스틱청소기</td>\n",
       "      <td>70.0</td>\n",
       "      <td>220.0</td>\n",
       "      <td>139000</td>\n",
       "    </tr>\n",
       "    <tr>\n",
       "      <td>1</td>\n",
       "      <td>원더스리빙</td>\n",
       "      <td>원더스 다이나킹 Z9</td>\n",
       "      <td>핸디/스틱청소기</td>\n",
       "      <td>65.0</td>\n",
       "      <td>220.0</td>\n",
       "      <td>299000</td>\n",
       "    </tr>\n",
       "    <tr>\n",
       "      <td>2</td>\n",
       "      <td>델로라</td>\n",
       "      <td>V11 파워 300W</td>\n",
       "      <td>핸디/스틱청소기</td>\n",
       "      <td>70.0</td>\n",
       "      <td>220.0</td>\n",
       "      <td>139000</td>\n",
       "    </tr>\n",
       "    <tr>\n",
       "      <td>3</td>\n",
       "      <td>샤오미</td>\n",
       "      <td>드리미 V10</td>\n",
       "      <td>핸디/스틱청소기</td>\n",
       "      <td>60.0</td>\n",
       "      <td>220.0</td>\n",
       "      <td>171760</td>\n",
       "    </tr>\n",
       "    <tr>\n",
       "      <td>4</td>\n",
       "      <td>원더스리빙</td>\n",
       "      <td>원더스 다이나킹 Z9</td>\n",
       "      <td>핸디/스틱청소기</td>\n",
       "      <td>65.0</td>\n",
       "      <td>220.0</td>\n",
       "      <td>299000</td>\n",
       "    </tr>\n",
       "  </tbody>\n",
       "</table>\n",
       "</div>"
      ],
      "text/plain": [
       "     회사명          제품명        종류  사용시간    흡입력      가격\n",
       "0    델로라  V11 파워 300W  핸디/스틱청소기  70.0  220.0  139000\n",
       "1  원더스리빙  원더스 다이나킹 Z9  핸디/스틱청소기  65.0  220.0  299000\n",
       "2    델로라  V11 파워 300W  핸디/스틱청소기  70.0  220.0  139000\n",
       "3    샤오미      드리미 V10  핸디/스틱청소기  60.0  220.0  171760\n",
       "4  원더스리빙  원더스 다이나킹 Z9  핸디/스틱청소기  65.0  220.0  299000"
      ]
     },
     "execution_count": 35,
     "metadata": {},
     "output_type": "execute_result"
    }
   ],
   "source": [
    "sumarized_df.head()"
   ]
  },
  {
   "cell_type": "markdown",
   "metadata": {},
   "source": [
    "### seaborn의 scatterplot을 이용해 시각화"
   ]
  },
  {
   "cell_type": "code",
   "execution_count": 36,
   "metadata": {},
   "outputs": [],
   "source": [
    "# 사용시간과 흡입력의 최대,최소,평균을 구한다.\n",
    "suction_max = sumarized_df['흡입력'].max()\n",
    "suction_min = sumarized_df['흡입력'].min()\n",
    "suction_mean = sumarized_df['흡입력'].mean()\n",
    "\n",
    "duration_max = sumarized_df['사용시간'].max()\n",
    "duration_min = sumarized_df['사용시간'].min()\n",
    "duration_mean = sumarized_df['사용시간'].mean()\n",
    "\n",
    "price_max = sumarized_df['가격'].max()\n",
    "price_min = sumarized_df['가격'].min()\n",
    "price_mean = sumarized_df['가격'].mean()\n"
   ]
  },
  {
   "cell_type": "code",
   "execution_count": 37,
   "metadata": {},
   "outputs": [],
   "source": [
    "# 차트의 한글 깨짐 방지를 위한 코드 추가\n",
    "\n",
    "from matplotlib import font_manager, rc\n",
    "import matplotlib.pyplot as plt\n",
    "import seaborn as sns\n",
    "import platform\n",
    "\n",
    "# 그래프에서 한글 표기를 위한 글꼴 변경(윈도우)\n",
    "font_path = ''\n",
    "font_path = 'c:/Windows/Fonts/malgun.ttf'\n",
    "font_name = font_manager.FontProperties(fname = font_path).get_name()\n",
    "rc('font',family = font_name)\n",
    "\n",
    "%matplotlib inline"
   ]
  },
  {
   "cell_type": "code",
   "execution_count": 38,
   "metadata": {},
   "outputs": [
    {
     "data": {
      "text/plain": [
       "<matplotlib.axes._subplots.AxesSubplot at 0x1ee40d059c8>"
      ]
     },
     "execution_count": 38,
     "metadata": {},
     "output_type": "execute_result"
    },
    {
     "data": {
      "image/png": "[encoded data removed]",
      "text/plain": [
       "<Figure size 1440x720 with 1 Axes>"
      ]
     },
     "metadata": {
      "needs_background": "light"
     },
     "output_type": "display_data"
    }
   ],
   "source": [
    "plt.figure(figsize=(20,10))\n",
    "\n",
    "sns.scatterplot(x='흡입력',y='사용시간',data = sumarized_df, hue = '회사명', size='가격',sizes=(10,1000),legend=False)"
   ]
  },
  {
   "cell_type": "code",
   "execution_count": 39,
   "metadata": {},
   "outputs": [
    {
     "data": {
      "text/plain": [
       "[<matplotlib.lines.Line2D at 0x1ee424f6588>]"
      ]
     },
     "execution_count": 39,
     "metadata": {},
     "output_type": "execute_result"
    },
    {
     "data": {
      "image/png": "[encoded data removed]",
      "text/plain": [
       "<Figure size 432x288 with 1 Axes>"
      ]
     },
     "metadata": {
      "needs_background": "light"
     },
     "output_type": "display_data"
    }
   ],
   "source": [
    "# 다음과 같은 평균선을 추가\n",
    "\n",
    "plt.plot([duration_min,suction_max],[duration_mean,duration_mean])\n",
    "plt.plot([suction_mean,suction_mean],[duration_min,duration_max])"
   ]
  },
  {
   "cell_type": "code",
   "execution_count": 40,
   "metadata": {},
   "outputs": [
    {
     "data": {
      "text/plain": [
       "<Figure size 432x288 with 0 Axes>"
      ]
     },
     "metadata": {},
     "output_type": "display_data"
    },
    {
     "data": {
      "image/png": "[encoded data removed]",
      "text/plain": [
       "<Figure size 1440x720 with 1 Axes>"
      ]
     },
     "metadata": {
      "needs_background": "light"
     },
     "output_type": "display_data"
    }
   ],
   "source": [
    "plt.figure()\n",
    "plt.figure(figsize=(20,10))\n",
    "sns.scatterplot(x='흡입력',y='사용시간',data = sumarized_df, hue = '회사명', size='가격',sizes=(10,1000),legend=False)\n",
    "plt.plot([duration_min,suction_max],[duration_mean,duration_mean])\n",
    "plt.plot([suction_mean,suction_mean],[duration_min,duration_max])\n",
    "plt.show()"
   ]
  },
  {
   "cell_type": "code",
   "execution_count": 41,
   "metadata": {},
   "outputs": [
    {
     "data": {
      "text/plain": [
       "<Figure size 432x288 with 0 Axes>"
      ]
     },
     "metadata": {},
     "output_type": "display_data"
    },
    {
     "data": {
      "image/png": "[encoded data removed]",
      "text/plain": [
       "<Figure size 1440x720 with 1 Axes>"
      ]
     },
     "metadata": {
      "needs_background": "light"
     },
     "output_type": "display_data"
    }
   ],
   "source": [
    "# 인기있는 제품 top20 에 대해서는 정보를 바로 얻을 수 있게 text를 추가\n",
    "popular = sumarized_df.head(20)\n",
    "\n",
    "plt.figure()\n",
    "plt.figure(figsize=(20,10))\n",
    "plt.title(\"Top 20 products\")\n",
    "sns.scatterplot(x='흡입력',y='사용시간',data = popular, hue = '회사명', size='가격',sizes=(100,1000))\n",
    "plt.plot([duration_min,suction_max],[duration_mean,duration_mean])\n",
    "plt.plot([suction_mean,suction_mean],[duration_min,duration_max])\n",
    "\n",
    "for i in range(len(popular)):\n",
    "    product = popular.iloc[i]\n",
    "    x = product['흡입력']\n",
    "    y = product['사용시간']\n",
    "    \n",
    "    s = product['제품명'].split(\" \")[0]\n",
    "    \n",
    "    plt.text(x,y,s,size=15)\n",
    "    \n",
    "    \n",
    "plt.show()\n",
    "\n"
   ]
  },
  {
   "cell_type": "code",
   "execution_count": 42,
   "metadata": {},
   "outputs": [
    {
     "data": {
      "text/plain": [
       "array(['델로라', '원더스리빙', '샤오미', '삼성전자', 'LG전자', '다이슨', '일렉트로룩스', 'DIBEA'],\n",
       "      dtype=object)"
      ]
     },
     "execution_count": 42,
     "metadata": {},
     "output_type": "execute_result"
    }
   ],
   "source": [
    "popular['회사명'].unique()"
   ]
  },
  {
   "cell_type": "code",
   "execution_count": 45,
   "metadata": {},
   "outputs": [],
   "source": [
    "# 이미지를 참고해 원하는 제품의 상세스펙을 볼 수 있다.\n",
    "\n",
    "def search_spec(company,product,a):\n",
    "    try:\n",
    "        products = popular['회사명'] +' '+ popular['제품명']\n",
    "        products_df = pd.DataFrame(products,columns=['제품명'])\n",
    "        merged = pd.merge(products_df,df,on='제품명')\n",
    "        \n",
    "        product = company+' '+product\n",
    "        \n",
    "        cond = (merged['제품명']==product)\n",
    "        \n",
    "        result = merged[cond]\n",
    "        print(\"전체 {}개가 검색됩니다.다른 것도 검색해보시기 바랍니다.\".format(len(result)))\n",
    "        \n",
    "        price = result.iloc[a-1,2]\n",
    "        print(\"가격은 {}원입니다.\".format(price))\n",
    "        spec = result.iloc[a-1,1]\n",
    "        print(\"상세 스펙은 다음과 같습니다.\\n\"+spec)\n",
    "    except:\n",
    "        print('회사명과 제품명, 그리고 입력한 숫자만큼 제품이 존재하는지 확인하시오.')"
   ]
  },
  {
   "cell_type": "code",
   "execution_count": 46,
   "metadata": {},
   "outputs": [
    {
     "name": "stdout",
     "output_type": "stream",
     "text": [
      "전체 4개가 검색됩니다.다른 것도 검색해보시기 바랍니다.\n",
      "가격은 139000원입니다.\n",
      "상세 스펙은 다음과 같습니다.\n",
      "핸디/스틱청소기  / 핸디+스틱형  / 무선형  / 전압: 29.6V / 헤파필터  / 싸이클론  / 4단계여과  / BLDC모터  / 흡입력 : 22000Pa  / 먼지통용량: 0.6L / 충전시간 : 5시간  / 사용시간 : 1시간10분  / 배터리 : 리튬이온  / 용량 : 2500mAh  / 브러쉬: 바닥 , 솔형 , 틈새 , 침구 , 연장관  / LED라이트  / 거치대  / 무게 : 3.89kg  / 색상:레드, 블랙  / 소비전력 : 300W  / 크기(가로x세로x깊이): 239x1255x105mm\n"
     ]
    }
   ],
   "source": [
    "search_spec('델로라','V11 파워 300W',1)"
   ]
  },
  {
   "cell_type": "code",
   "execution_count": null,
   "metadata": {},
   "outputs": [],
   "source": []
  },
  {
   "cell_type": "code",
   "execution_count": null,
   "metadata": {},
   "outputs": [],
   "source": []
  }
 ],
 "metadata": {
  "kernelspec": {
   "display_name": "Python 3",
   "language": "python",
   "name": "python3"
  },
  "language_info": {
   "codemirror_mode": {
    "name": "ipython",
    "version": 3
   },
   "file_extension": ".py",
   "mimetype": "text/x-python",
   "name": "python",
   "nbconvert_exporter": "python",
   "pygments_lexer": "ipython3",
   "version": "3.7.4"
  }
 },
 "nbformat": 4,
 "nbformat_minor": 2
}
