{
 "cells": [
  {
   "cell_type": "code",
   "execution_count": 2,
   "metadata": {},
   "outputs": [],
   "source": [
    "import pandas as pd"
   ]
  },
  {
   "cell_type": "code",
   "execution_count": 43,
   "metadata": {},
   "outputs": [],
   "source": [
    "region = {'서울특별시':'b','6대 광역시':['d','f'],'경기도':'h','강원도':'j','충청도':'l','전라도':'n','경상도':'p','제주도':'r'}"
   ]
  },
  {
   "cell_type": "code",
   "execution_count": 83,
   "metadata": {
    "scrolled": true
   },
   "outputs": [
    {
     "data": {
      "text/html": [
       "<div>\n",
       "<style scoped>\n",
       "    .dataframe tbody tr th:only-of-type {\n",
       "        vertical-align: middle;\n",
       "    }\n",
       "\n",
       "    .dataframe tbody tr th {\n",
       "        vertical-align: top;\n",
       "    }\n",
       "\n",
       "    .dataframe thead th {\n",
       "        text-align: right;\n",
       "    }\n",
       "</style>\n",
       "<table border=\"1\" class=\"dataframe\">\n",
       "  <thead>\n",
       "    <tr style=\"text-align: right;\">\n",
       "      <th></th>\n",
       "      <th>서울특별시</th>\n",
       "      <th>6대 광역시</th>\n",
       "      <th>경기도</th>\n",
       "      <th>강원도</th>\n",
       "      <th>충청도</th>\n",
       "      <th>전라도</th>\n",
       "      <th>경상도</th>\n",
       "      <th>제주도</th>\n",
       "    </tr>\n",
       "  </thead>\n",
       "  <tbody>\n",
       "    <tr>\n",
       "      <td>0</td>\n",
       "      <td>KAIST(서울캠퍼스)</td>\n",
       "      <td>KAIST</td>\n",
       "      <td>가천대학교</td>\n",
       "      <td>가톨릭관동대학교</td>\n",
       "      <td>건국대학교(글로컬캠퍼스)</td>\n",
       "      <td>광주가톨릭대학교</td>\n",
       "      <td>가야대학교</td>\n",
       "      <td>제주국제대학교</td>\n",
       "    </tr>\n",
       "    <tr>\n",
       "      <td>1</td>\n",
       "      <td>KC대학교</td>\n",
       "      <td>KAIST(문지캠퍼스)</td>\n",
       "      <td>가톨릭대학교</td>\n",
       "      <td>강릉원주대학교</td>\n",
       "      <td>건양대학교</td>\n",
       "      <td>군산대학교</td>\n",
       "      <td>가야대학교(고령캠퍼스)</td>\n",
       "      <td>제주대학교</td>\n",
       "    </tr>\n",
       "    <tr>\n",
       "      <td>2</td>\n",
       "      <td>가톨릭대학교(성신교정)</td>\n",
       "      <td>UNIST</td>\n",
       "      <td>강남대학교</td>\n",
       "      <td>강릉원주대학교(원주캠퍼스)</td>\n",
       "      <td>경찰대학</td>\n",
       "      <td>동신대학교</td>\n",
       "      <td>가톨릭상지대학교</td>\n",
       "      <td>제주대학교(사라캠퍼스)</td>\n",
       "    </tr>\n",
       "    <tr>\n",
       "      <td>3</td>\n",
       "      <td>가톨릭대학교(성의교정)</td>\n",
       "      <td>가천대학교(메디컬캠퍼스)</td>\n",
       "      <td>경기대학교</td>\n",
       "      <td>강원대학교</td>\n",
       "      <td>고려대학교(세종캠퍼스)</td>\n",
       "      <td>목포가톨릭대학교</td>\n",
       "      <td>거제대학교</td>\n",
       "      <td>한국방송통신대학교(제주지역대학)</td>\n",
       "    </tr>\n",
       "    <tr>\n",
       "      <td>4</td>\n",
       "      <td>감리교신학대학교</td>\n",
       "      <td>건양대학교대전메디컬캠퍼스</td>\n",
       "      <td>경동대학교 Metropol캠퍼스</td>\n",
       "      <td>강원대학교(도계캠퍼스)</td>\n",
       "      <td>고신대학교(천안캠퍼스)</td>\n",
       "      <td>목포대학교</td>\n",
       "      <td>경남과학기술대학교</td>\n",
       "      <td>0</td>\n",
       "    </tr>\n",
       "    <tr>\n",
       "      <td>5</td>\n",
       "      <td>건국대학교</td>\n",
       "      <td>건양사이버대학교</td>\n",
       "      <td>경인교육대학교(경기캠퍼스)</td>\n",
       "      <td>강원대학교(삼척캠퍼스)</td>\n",
       "      <td>공군사관학교</td>\n",
       "      <td>목포대학교(목포캠퍼스)</td>\n",
       "      <td>경남도립거창대학(본교)</td>\n",
       "      <td>0</td>\n",
       "    </tr>\n",
       "    <tr>\n",
       "      <td>6</td>\n",
       "      <td>경기대학교(서울캠퍼스)</td>\n",
       "      <td>경북대학교</td>\n",
       "      <td>경희대학교(국제캠퍼스)</td>\n",
       "      <td>경동대학교</td>\n",
       "      <td>공주교육대학교</td>\n",
       "      <td>목포해양대학교</td>\n",
       "      <td>경남도립남해대학(본교)</td>\n",
       "      <td>0</td>\n",
       "    </tr>\n",
       "    <tr>\n",
       "      <td>7</td>\n",
       "      <td>경희대학교</td>\n",
       "      <td>경성대학교</td>\n",
       "      <td>국제사이버대학교</td>\n",
       "      <td>경동대학교 Medical캠퍼스</td>\n",
       "      <td>공주대학교</td>\n",
       "      <td>세한대학교</td>\n",
       "      <td>경남대학교</td>\n",
       "      <td>0</td>\n",
       "    </tr>\n",
       "    <tr>\n",
       "      <td>8</td>\n",
       "      <td>경희사이버대학교</td>\n",
       "      <td>경인교육대학교</td>\n",
       "      <td>단국대학교</td>\n",
       "      <td>경동대학교 설악제2캠퍼스</td>\n",
       "      <td>공주대학교(예산캠퍼스)</td>\n",
       "      <td>순천대학교</td>\n",
       "      <td>경북과학대학교</td>\n",
       "      <td>0</td>\n",
       "    </tr>\n",
       "    <tr>\n",
       "      <td>9</td>\n",
       "      <td>고려대학교</td>\n",
       "      <td>계명대학교</td>\n",
       "      <td>대진대학교</td>\n",
       "      <td>상지대학교</td>\n",
       "      <td>공주대학교(천안캠퍼스)</td>\n",
       "      <td>영산선학대학교</td>\n",
       "      <td>경북대학교(상주캠퍼스)</td>\n",
       "      <td>0</td>\n",
       "    </tr>\n",
       "  </tbody>\n",
       "</table>\n",
       "</div>"
      ],
      "text/plain": [
       "          서울특별시         6대 광역시                경기도               강원도  \\\n",
       "0  KAIST(서울캠퍼스)          KAIST              가천대학교          가톨릭관동대학교   \n",
       "1         KC대학교   KAIST(문지캠퍼스)             가톨릭대학교           강릉원주대학교   \n",
       "2  가톨릭대학교(성신교정)          UNIST              강남대학교    강릉원주대학교(원주캠퍼스)   \n",
       "3  가톨릭대학교(성의교정)  가천대학교(메디컬캠퍼스)              경기대학교             강원대학교   \n",
       "4      감리교신학대학교  건양대학교대전메디컬캠퍼스  경동대학교 Metropol캠퍼스      강원대학교(도계캠퍼스)   \n",
       "5         건국대학교       건양사이버대학교     경인교육대학교(경기캠퍼스)      강원대학교(삼척캠퍼스)   \n",
       "6  경기대학교(서울캠퍼스)          경북대학교       경희대학교(국제캠퍼스)             경동대학교   \n",
       "7         경희대학교          경성대학교           국제사이버대학교  경동대학교 Medical캠퍼스   \n",
       "8      경희사이버대학교        경인교육대학교              단국대학교     경동대학교 설악제2캠퍼스   \n",
       "9         고려대학교          계명대학교              대진대학교             상지대학교   \n",
       "\n",
       "             충청도           전라도           경상도                제주도  \n",
       "0  건국대학교(글로컬캠퍼스)      광주가톨릭대학교         가야대학교            제주국제대학교  \n",
       "1          건양대학교         군산대학교  가야대학교(고령캠퍼스)              제주대학교  \n",
       "2           경찰대학         동신대학교      가톨릭상지대학교       제주대학교(사라캠퍼스)  \n",
       "3   고려대학교(세종캠퍼스)      목포가톨릭대학교         거제대학교  한국방송통신대학교(제주지역대학)  \n",
       "4   고신대학교(천안캠퍼스)         목포대학교     경남과학기술대학교                  0  \n",
       "5         공군사관학교  목포대학교(목포캠퍼스)  경남도립거창대학(본교)                  0  \n",
       "6        공주교육대학교       목포해양대학교  경남도립남해대학(본교)                  0  \n",
       "7          공주대학교         세한대학교         경남대학교                  0  \n",
       "8   공주대학교(예산캠퍼스)         순천대학교       경북과학대학교                  0  \n",
       "9   공주대학교(천안캠퍼스)       영산선학대학교  경북대학교(상주캠퍼스)                  0  "
      ]
     },
     "execution_count": 83,
     "metadata": {},
     "output_type": "execute_result"
    }
   ],
   "source": [
    "df = pd.DataFrame([])\n",
    "for key,value in region.items():\n",
    "    if key != '6대 광역시':\n",
    "        df2 = pd.read_excel('university.xlsx',usecols=value,header=1)\n",
    "        df = pd.concat([df,df2],axis=1)\n",
    "    else:\n",
    "        df3 = pd.read_excel('university.xlsx',usecols=value[0],header=1)\n",
    "        df4 = pd.read_excel('university.xlsx',usecols=value[1],header=1).dropna()\n",
    "        df4.columns=[\"6대 광역시\"]\n",
    "        df3 = df3.append(df4,ignore_index=True)\n",
    "        df = pd.concat([df,df3],axis=1)\n",
    "df = df.fillna(0)\n",
    "df.head(10)"
   ]
  },
  {
   "cell_type": "markdown",
   "metadata": {},
   "source": [
    "# 이번에는 대학들의 위치를 시각화 해보자(위의 데이터프레임과 무관)"
   ]
  },
  {
   "cell_type": "markdown",
   "metadata": {},
   "source": [
    "대학들의 위치를 표시해줄 것인데 등록금이 비싼 대학들일수록 크게 표시해주자.<br>\n",
    "단지 너무 많이 표시하면 지도가 어지러워지니 대학순위에서 top30에 들어간다는 대학들만 표시하도록 하자."
   ]
  },
  {
   "cell_type": "code",
   "execution_count": 1,
   "metadata": {},
   "outputs": [],
   "source": [
    "# 대학 순위는 2014년 이과 정시 기준으로 다음 사이트에서 가져온다.\n",
    "# 카이스트와 포스텍은 정시모집을 하지않아 해당 순위에 포함되어 있지 않다.\n",
    "\n",
    "url = 'http://daehakin.com/rank_ja'\n",
    "\n",
    "from selenium import webdriver\n",
    "driver = webdriver.Chrome('C:/Users/hp/Desktop/최영조/chromedriver.exe')\n",
    "driver.get(url)"
   ]
  },
  {
   "cell_type": "code",
   "execution_count": 2,
   "metadata": {},
   "outputs": [],
   "source": [
    "html = driver.page_source\n",
    "from bs4 import BeautifulSoup\n",
    "soup = BeautifulSoup(html,'html.parser')"
   ]
  },
  {
   "cell_type": "code",
   "execution_count": 3,
   "metadata": {},
   "outputs": [
    {
     "data": {
      "text/plain": [
       "'서울대학교'"
      ]
     },
     "execution_count": 3,
     "metadata": {},
     "output_type": "execute_result"
    }
   ],
   "source": [
    "soup.select('td.m_no')[1].text[1:].replace(\" \",\"\")[:-1]"
   ]
  },
  {
   "cell_type": "code",
   "execution_count": 56,
   "metadata": {},
   "outputs": [
    {
     "data": {
      "text/plain": [
       "'고려대학교'"
      ]
     },
     "execution_count": 56,
     "metadata": {},
     "output_type": "execute_result"
    }
   ],
   "source": [
    "soup.select('td.m_no')[13].text[1:].replace(\" \",\"\")[:-1]"
   ]
  },
  {
   "cell_type": "code",
   "execution_count": 4,
   "metadata": {},
   "outputs": [
    {
     "data": {
      "text/plain": [
       "1          서울대학교\n",
       "2          연세대학교\n",
       "3          고려대학교\n",
       "4         성균관대학교\n",
       "5          한양대학교\n",
       "6          서강대학교\n",
       "7      울산과학기술대학교\n",
       "8          중앙대학교\n",
       "9          경희대학교\n",
       "10       서울시립대학교\n",
       "11       이화여자대학교\n",
       "12         건국대학교\n",
       "13         홍익대학교\n",
       "14         동국대학교\n",
       "15     경희대학교(수원)\n",
       "16       숙명여자대학교\n",
       "17         인하대학교\n",
       "18         아주대학교\n",
       "19     서울과학기술대학교\n",
       "20       한국항공대학교\n",
       "21         한동대학교\n",
       "22         숭실대학교\n",
       "23         국민대학교\n",
       "24        가톨릭대학교\n",
       "25    한양대학교(에리카)\n",
       "26       성신여자대학교\n",
       "27     단국대학교(죽전)\n",
       "28         세종대학교\n",
       "29         광운대학교\n",
       "30     경북대학교(대구)\n",
       "dtype: object"
      ]
     },
     "execution_count": 4,
     "metadata": {},
     "output_type": "execute_result"
    }
   ],
   "source": [
    "# 찾고자하는 정보는 top30\n",
    "import pandas as pd\n",
    "names=pd.Series([])\n",
    "k=1\n",
    "complicated_tags = soup.select('td.m_no')\n",
    "for i in [k*6+1 for k in range(30)]:\n",
    "    name = complicated_tags[i].text[1:].replace(\" \",\"\")[:-1]\n",
    "    names[k]=name\n",
    "    k += 1\n",
    "names"
   ]
  },
  {
   "cell_type": "markdown",
   "metadata": {},
   "source": [
    "### 네이버에 검색되는 등록금 정보를 가져오도록 합시다."
   ]
  },
  {
   "cell_type": "code",
   "execution_count": 5,
   "metadata": {},
   "outputs": [],
   "source": [
    "url2 = 'https://www.naver.com/'"
   ]
  },
  {
   "cell_type": "code",
   "execution_count": 6,
   "metadata": {},
   "outputs": [],
   "source": [
    "driver.get(url2)"
   ]
  },
  {
   "cell_type": "code",
   "execution_count": 7,
   "metadata": {},
   "outputs": [
    {
     "data": {
      "text/plain": [
       "'연평균 4,238,900원'"
      ]
     },
     "execution_count": 7,
     "metadata": {},
     "output_type": "execute_result"
    }
   ],
   "source": [
    "# 원래 다음 코드들처럼 검색창에 각 대학명을 검색하면서 정보를 가져오려 했는데 이전 키워드를 지우는 법을 몰라 다른 방법을 쓰기로 한다.\n",
    "\n",
    "search_box = driver.find_element_by_xpath('//*[@id=\"query\"]')\n",
    "search_box.send_keys(\"충남대학교\")\n",
    "search_box.submit()\n",
    "selector = '#main_pack > div.sc.cs_university._cs_university_single > div.api_subject_bx > div.university_area > div._tabWrapper > div:nth-child(4) > div > div:nth-child(1) > div > ul > li.chart_list_box.tuition > div > div.chart_top > p.chart_text._text'\n",
    "tution = driver.find_element_by_css_selector(selector).text\n",
    "tution"
   ]
  },
  {
   "cell_type": "code",
   "execution_count": 19,
   "metadata": {},
   "outputs": [
    {
     "data": {
      "text/plain": [
       "4238900"
      ]
     },
     "execution_count": 19,
     "metadata": {},
     "output_type": "execute_result"
    }
   ],
   "source": [
    "int(''.join(tution[4:-1].split(',')))"
   ]
  },
  {
   "cell_type": "code",
   "execution_count": 20,
   "metadata": {},
   "outputs": [],
   "source": [
    "url2 = 'https://www.naver.com/'\n",
    "driver.get(url2)"
   ]
  },
  {
   "cell_type": "code",
   "execution_count": 8,
   "metadata": {},
   "outputs": [
    {
     "data": {
      "text/plain": [
       "[6011200,\n",
       " 9153700,\n",
       " 8260900,\n",
       " 8373600,\n",
       " 8477700,\n",
       " 7947800,\n",
       " 6165900,\n",
       " 7879000,\n",
       " 7859200,\n",
       " 2391400,\n",
       " 8634700,\n",
       " 8230900,\n",
       " 8271000,\n",
       " 7939200,\n",
       " 7859200,\n",
       " 8024600,\n",
       " 7669700,\n",
       " 8259700,\n",
       " 5422300,\n",
       " 8468000,\n",
       " 7131400,\n",
       " 7923800,\n",
       " 7904200,\n",
       " 6919800,\n",
       " 8477700,\n",
       " 7759600,\n",
       " 8004900,\n",
       " 7857500,\n",
       " 7816000,\n",
       " 4447600]"
      ]
     },
     "execution_count": 8,
     "metadata": {},
     "output_type": "execute_result"
    }
   ],
   "source": [
    "selector = '#main_pack > div.sc.cs_university._cs_university_single > div.api_subject_bx > div.university_area > div._tabWrapper > div:nth-child(4) > div > div:nth-child(1) > div > ul > li.chart_list_box.tuition > div > div.chart_top > p.chart_text._text'\n",
    "\n",
    "tutions=[]\n",
    "import time\n",
    "for i,name in enumerate(names.values):\n",
    "    if name[-1]==')':\n",
    "        idx = name.index('(')\n",
    "        name=name[:idx]            #경희대학교(수원) 이런식으로는 등록금이 바로 검색되지 않는다.\n",
    "            \n",
    "    url = 'https://search.naver.com/search.naver?sm=top_hty&fbm=1&ie=utf8&query=' + name\n",
    "    driver.get(url)\n",
    "    time.sleep(1)   # 컴퓨터 속도가 코드 속도를 따라가지 못할 경우 대비해 매 구간마다 1초간 휴식\n",
    "    \n",
    "    tution = driver.find_element_by_css_selector(selector).text\n",
    "    tution_int = int(''.join(tution[4:-1].split(',')))\n",
    "    tutions.append(tution_int)\n",
    "tutions"
   ]
  },
  {
   "cell_type": "code",
   "execution_count": 9,
   "metadata": {},
   "outputs": [
    {
     "data": {
      "text/plain": [
       "30"
      ]
     },
     "execution_count": 9,
     "metadata": {},
     "output_type": "execute_result"
    }
   ],
   "source": [
    "len(tutions)"
   ]
  },
  {
   "cell_type": "code",
   "execution_count": 10,
   "metadata": {},
   "outputs": [
    {
     "data": {
      "text/html": [
       "<div>\n",
       "<style scoped>\n",
       "    .dataframe tbody tr th:only-of-type {\n",
       "        vertical-align: middle;\n",
       "    }\n",
       "\n",
       "    .dataframe tbody tr th {\n",
       "        vertical-align: top;\n",
       "    }\n",
       "\n",
       "    .dataframe thead th {\n",
       "        text-align: right;\n",
       "    }\n",
       "</style>\n",
       "<table border=\"1\" class=\"dataframe\">\n",
       "  <thead>\n",
       "    <tr style=\"text-align: right;\">\n",
       "      <th></th>\n",
       "      <th>대학명</th>\n",
       "      <th>tution</th>\n",
       "    </tr>\n",
       "  </thead>\n",
       "  <tbody>\n",
       "    <tr>\n",
       "      <td>1</td>\n",
       "      <td>서울대학교</td>\n",
       "      <td>6011200</td>\n",
       "    </tr>\n",
       "    <tr>\n",
       "      <td>2</td>\n",
       "      <td>연세대학교</td>\n",
       "      <td>9153700</td>\n",
       "    </tr>\n",
       "    <tr>\n",
       "      <td>3</td>\n",
       "      <td>고려대학교</td>\n",
       "      <td>8260900</td>\n",
       "    </tr>\n",
       "    <tr>\n",
       "      <td>4</td>\n",
       "      <td>성균관대학교</td>\n",
       "      <td>8373600</td>\n",
       "    </tr>\n",
       "    <tr>\n",
       "      <td>5</td>\n",
       "      <td>한양대학교</td>\n",
       "      <td>8477700</td>\n",
       "    </tr>\n",
       "  </tbody>\n",
       "</table>\n",
       "</div>"
      ],
      "text/plain": [
       "      대학명   tution\n",
       "1   서울대학교  6011200\n",
       "2   연세대학교  9153700\n",
       "3   고려대학교  8260900\n",
       "4  성균관대학교  8373600\n",
       "5   한양대학교  8477700"
      ]
     },
     "execution_count": 10,
     "metadata": {},
     "output_type": "execute_result"
    }
   ],
   "source": [
    "university_df=pd.DataFrame(names)\n",
    "university_df['tution']=tutions\n",
    "university_df.columns=['대학명','tution']\n",
    "university_df.head()"
   ]
  },
  {
   "cell_type": "code",
   "execution_count": 11,
   "metadata": {},
   "outputs": [],
   "source": [
    "import requests"
   ]
  },
  {
   "cell_type": "code",
   "execution_count": 12,
   "metadata": {},
   "outputs": [],
   "source": [
    "# 위치를 찾는 함수, 입력한 input값과 유사한 위치들이 여러 개 검색되는데 그 중 가장 상위에 위치한 장소를 반환한다.\n",
    "# 카카오API를 이용한다.(headers의 Authorization에 해당하는 값은 카카오로부터 부여받은 코드이다.)\n",
    "def find_places(searching):\n",
    "    \n",
    "    url = 'https://dapi.kakao.com/v2/local/search/keyword.json?query={}'.format(searching)\n",
    "    headers = {\n",
    "        \"Authorization\": \"보안상 감춤\"\n",
    "        }\n",
    "    places = requests.get(url, headers = headers).json()['documents']\n",
    "    \n",
    "    place = places[0]\n",
    "    name = place['place_name']\n",
    "    x = place['x']\n",
    "    y = place['y']\n",
    "    data = [name,x,y,searching]\n",
    "    \n",
    "    return data"
   ]
  },
  {
   "cell_type": "code",
   "execution_count": 13,
   "metadata": {},
   "outputs": [
    {
     "data": {
      "text/plain": [
       "['경복궁', '126.976896737645', '37.5776087830657', '경복궁']"
      ]
     },
     "execution_count": 13,
     "metadata": {},
     "output_type": "execute_result"
    }
   ],
   "source": [
    "find_places('경복궁')"
   ]
  },
  {
   "cell_type": "code",
   "execution_count": 14,
   "metadata": {},
   "outputs": [],
   "source": [
    "lats=[]\n",
    "lngs=[]\n",
    "for name in university_df['대학명']:\n",
    "    lng = find_places(name)[1]\n",
    "    lat = find_places(name)[2]\n",
    "    lngs.append(lng)\n",
    "    lats.append(lat)"
   ]
  },
  {
   "cell_type": "code",
   "execution_count": 15,
   "metadata": {},
   "outputs": [],
   "source": [
    "university_df['경도']=lngs\n",
    "university_df['위도']=lats"
   ]
  },
  {
   "cell_type": "code",
   "execution_count": 16,
   "metadata": {},
   "outputs": [
    {
     "data": {
      "text/html": [
       "<div>\n",
       "<style scoped>\n",
       "    .dataframe tbody tr th:only-of-type {\n",
       "        vertical-align: middle;\n",
       "    }\n",
       "\n",
       "    .dataframe tbody tr th {\n",
       "        vertical-align: top;\n",
       "    }\n",
       "\n",
       "    .dataframe thead th {\n",
       "        text-align: right;\n",
       "    }\n",
       "</style>\n",
       "<table border=\"1\" class=\"dataframe\">\n",
       "  <thead>\n",
       "    <tr style=\"text-align: right;\">\n",
       "      <th></th>\n",
       "      <th>대학명</th>\n",
       "      <th>tution</th>\n",
       "      <th>경도</th>\n",
       "      <th>위도</th>\n",
       "    </tr>\n",
       "  </thead>\n",
       "  <tbody>\n",
       "    <tr>\n",
       "      <td>1</td>\n",
       "      <td>서울대학교</td>\n",
       "      <td>6011200</td>\n",
       "      <td>126.95405010385163</td>\n",
       "      <td>37.4619673728413</td>\n",
       "    </tr>\n",
       "    <tr>\n",
       "      <td>2</td>\n",
       "      <td>연세대학교</td>\n",
       "      <td>9153700</td>\n",
       "      <td>126.938389155713</td>\n",
       "      <td>37.5655576723744</td>\n",
       "    </tr>\n",
       "    <tr>\n",
       "      <td>3</td>\n",
       "      <td>고려대학교</td>\n",
       "      <td>8260900</td>\n",
       "      <td>127.031685000726</td>\n",
       "      <td>37.5898422803883</td>\n",
       "    </tr>\n",
       "    <tr>\n",
       "      <td>4</td>\n",
       "      <td>성균관대학교</td>\n",
       "      <td>8373600</td>\n",
       "      <td>126.99396747284503</td>\n",
       "      <td>37.58831649367718</td>\n",
       "    </tr>\n",
       "    <tr>\n",
       "      <td>5</td>\n",
       "      <td>한양대학교</td>\n",
       "      <td>8477700</td>\n",
       "      <td>127.04532959264</td>\n",
       "      <td>37.5577588114444</td>\n",
       "    </tr>\n",
       "  </tbody>\n",
       "</table>\n",
       "</div>"
      ],
      "text/plain": [
       "      대학명   tution                  경도                 위도\n",
       "1   서울대학교  6011200  126.95405010385163   37.4619673728413\n",
       "2   연세대학교  9153700    126.938389155713   37.5655576723744\n",
       "3   고려대학교  8260900    127.031685000726   37.5898422803883\n",
       "4  성균관대학교  8373600  126.99396747284503  37.58831649367718\n",
       "5   한양대학교  8477700     127.04532959264   37.5577588114444"
      ]
     },
     "execution_count": 16,
     "metadata": {},
     "output_type": "execute_result"
    }
   ],
   "source": [
    "university_df.head()"
   ]
  },
  {
   "cell_type": "code",
   "execution_count": 17,
   "metadata": {},
   "outputs": [
    {
     "data": {
      "text/html": [
       "<div>\n",
       "<style scoped>\n",
       "    .dataframe tbody tr th:only-of-type {\n",
       "        vertical-align: middle;\n",
       "    }\n",
       "\n",
       "    .dataframe tbody tr th {\n",
       "        vertical-align: top;\n",
       "    }\n",
       "\n",
       "    .dataframe thead th {\n",
       "        text-align: right;\n",
       "    }\n",
       "</style>\n",
       "<table border=\"1\" class=\"dataframe\">\n",
       "  <thead>\n",
       "    <tr style=\"text-align: right;\">\n",
       "      <th></th>\n",
       "      <th>대학명</th>\n",
       "      <th>tution</th>\n",
       "      <th>경도</th>\n",
       "      <th>위도</th>\n",
       "      <th>저렴한_등록금순위</th>\n",
       "    </tr>\n",
       "  </thead>\n",
       "  <tbody>\n",
       "    <tr>\n",
       "      <td>10</td>\n",
       "      <td>서울시립대학교</td>\n",
       "      <td>2391400</td>\n",
       "      <td>127.058813732892</td>\n",
       "      <td>37.5839898437514</td>\n",
       "      <td>1</td>\n",
       "    </tr>\n",
       "    <tr>\n",
       "      <td>30</td>\n",
       "      <td>경북대학교(대구)</td>\n",
       "      <td>4447600</td>\n",
       "      <td>128.612177806453</td>\n",
       "      <td>35.8906303894606</td>\n",
       "      <td>2</td>\n",
       "    </tr>\n",
       "    <tr>\n",
       "      <td>19</td>\n",
       "      <td>서울과학기술대학교</td>\n",
       "      <td>5422300</td>\n",
       "      <td>127.077526020922</td>\n",
       "      <td>37.6318648220506</td>\n",
       "      <td>3</td>\n",
       "    </tr>\n",
       "    <tr>\n",
       "      <td>1</td>\n",
       "      <td>서울대학교</td>\n",
       "      <td>6011200</td>\n",
       "      <td>126.95405010385163</td>\n",
       "      <td>37.4619673728413</td>\n",
       "      <td>4</td>\n",
       "    </tr>\n",
       "    <tr>\n",
       "      <td>7</td>\n",
       "      <td>울산과학기술대학교</td>\n",
       "      <td>6165900</td>\n",
       "      <td>129.18895608272277</td>\n",
       "      <td>35.57419096895384</td>\n",
       "      <td>5</td>\n",
       "    </tr>\n",
       "  </tbody>\n",
       "</table>\n",
       "</div>"
      ],
      "text/plain": [
       "          대학명   tution                  경도                 위도  저렴한_등록금순위\n",
       "10    서울시립대학교  2391400    127.058813732892   37.5839898437514          1\n",
       "30  경북대학교(대구)  4447600    128.612177806453   35.8906303894606          2\n",
       "19  서울과학기술대학교  5422300    127.077526020922   37.6318648220506          3\n",
       "1       서울대학교  6011200  126.95405010385163   37.4619673728413          4\n",
       "7   울산과학기술대학교  6165900  129.18895608272277  35.57419096895384          5"
      ]
     },
     "execution_count": 17,
     "metadata": {},
     "output_type": "execute_result"
    }
   ],
   "source": [
    "university = university_df.sort_values(by='tution')\n",
    "university['저렴한_등록금순위']=range(1,len(university['대학명'])+1)\n",
    "university.head()"
   ]
  },
  {
   "cell_type": "code",
   "execution_count": 18,
   "metadata": {},
   "outputs": [],
   "source": [
    "import folium"
   ]
  },
  {
   "cell_type": "code",
   "execution_count": 19,
   "metadata": {
    "scrolled": true
   },
   "outputs": [
    {
     "data": {
      "text/html": [
       "<div style=\"width:100%;\"><div style=\"position:relative;width:100%;height:0;padding-bottom:60%;\"><iframe src=\"about:blank\" style=\"position:absolute;width:100%;height:100%;left:0;top:0;border:none !important;\" data-html=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 onload=\"this.contentDocument.open();this.contentDocument.write(atob(this.getAttribute('data-html')));this.contentDocument.close();\" allowfullscreen webkitallowfullscreen mozallowfullscreen></iframe></div></div>"
      ],
      "text/plain": [
       "<folium.folium.Map at 0x1f8bbf06b48>"
      ]
     },
     "execution_count": 19,
     "metadata": {},
     "output_type": "execute_result"
    }
   ],
   "source": [
    "# 주요 대학이 서울경기에 몰려있으므로 서울특별시의 위도:37.56667경도:126.97806를 기준으로 지도 생성\n",
    "korea_map = folium.Map([37.56667,126.97806],zoom_start=10)\n",
    "korea_map"
   ]
  },
  {
   "cell_type": "code",
   "execution_count": 21,
   "metadata": {},
   "outputs": [
    {
     "data": {
      "text/html": [
       "<div style=\"width:100%;\"><div style=\"position:relative;width:100%;height:0;padding-bottom:60%;\"><iframe src=\"about:blank\" style=\"position:absolute;width:100%;height:100%;left:0;top:0;border:none !important;\" data-html=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 onload=\"this.contentDocument.open();this.contentDocument.write(atob(this.getAttribute('data-html')));this.contentDocument.close();\" allowfullscreen webkitallowfullscreen mozallowfullscreen></iframe></div></div>"
      ],
      "text/plain": [
       "<folium.folium.Map at 0x1f8be4fe988>"
      ]
     },
     "execution_count": 21,
     "metadata": {},
     "output_type": "execute_result"
    }
   ],
   "source": [
    "korea_map = folium.Map([37.56667,126.97806],zoom_start=10)\n",
    "korea_map\n",
    "\n",
    "for i in range(len(university)):\n",
    "    \n",
    "    selected_row = university.iloc[i]\n",
    "    lat = selected_row['위도']\n",
    "    lng = selected_row['경도']\n",
    "    tution = selected_row['tution']\n",
    "    name = selected_row['대학명']\n",
    "    rank = int(selected_row['저렴한_등록금순위'])\n",
    "    if rank>=15:\n",
    "        Color = 'red'\n",
    "    else:\n",
    "        Color = 'blue'\n",
    "    folium.CircleMarker((lat,lng),radius=(rank**1/2),color=Color,popup=name+\":\"+str(tution)).add_to(korea_map)\n",
    "\n",
    "korea_map\n",
    "\n",
    "# 마우스로 클릭하면 대학명과 등록금이 같이 표시되도록 했으나 주피터노트북이 한글을 인지하지 못해 깨지는 현상이 생김"
   ]
  },
  {
   "cell_type": "code",
   "execution_count": 22,
   "metadata": {},
   "outputs": [],
   "source": [
    "# html파일로 저장하면 한글 깨짐이 사라진다.\n",
    "korea_map.save('university.html')"
   ]
  },
  {
   "cell_type": "code",
   "execution_count": null,
   "metadata": {},
   "outputs": [],
   "source": []
  }
 ],
 "metadata": {
  "kernelspec": {
   "display_name": "Python 3",
   "language": "python",
   "name": "python3"
  },
  "language_info": {
   "codemirror_mode": {
    "name": "ipython",
    "version": 3
   },
   "file_extension": ".py",
   "mimetype": "text/x-python",
   "name": "python",
   "nbconvert_exporter": "python",
   "pygments_lexer": "ipython3",
   "version": "3.7.4"
  }
 },
 "nbformat": 4,
 "nbformat_minor": 2
}
