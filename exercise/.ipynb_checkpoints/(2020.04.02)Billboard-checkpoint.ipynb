{
 "cells": [
  {
   "cell_type": "markdown",
   "metadata": {},
   "source": [
    "## 빌보드 차트의 핫 아티스트"
   ]
  },
  {
   "cell_type": "code",
   "execution_count": 1,
   "metadata": {},
   "outputs": [],
   "source": [
    "url = 'https://www.billboard.com/charts/'+'artist-100'"
   ]
  },
  {
   "cell_type": "code",
   "execution_count": 3,
   "metadata": {},
   "outputs": [],
   "source": [
    "from selenium import webdriver"
   ]
  },
  {
   "cell_type": "code",
   "execution_count": 4,
   "metadata": {},
   "outputs": [],
   "source": [
    "driver = webdriver.Chrome('C:/Users/hp/Desktop/최영조/chromedriver.exe')\n",
    "driver.get(url)\n",
    "html = driver.page_source"
   ]
  },
  {
   "cell_type": "code",
   "execution_count": 2,
   "metadata": {},
   "outputs": [],
   "source": [
    "from bs4 import BeautifulSoup"
   ]
  },
  {
   "cell_type": "code",
   "execution_count": 21,
   "metadata": {},
   "outputs": [],
   "source": [
    "soup = BeautifulSoup(html,'html.parser')"
   ]
  },
  {
   "cell_type": "markdown",
   "metadata": {},
   "source": [
    "### 현재 1위 아티스트는 The Weeknd, 2위는 Lil Uzi Vert"
   ]
  },
  {
   "cell_type": "code",
   "execution_count": 45,
   "metadata": {},
   "outputs": [
    {
     "data": {
      "text/plain": [
       "[<div class=\"chart-list-item__title\">\n",
       " <span class=\"chart-list-item__title-text\">\n",
       " <a href=\"/music/the-weeknd\">\n",
       " The Weeknd\n",
       " </a>\n",
       " </span>\n",
       " </div>, <div class=\"chart-list-item__title\">\n",
       " <span class=\"chart-list-item__title-text\">\n",
       " <a href=\"/music/lil-uzi-vert\">\n",
       " Lil Uzi Vert\n",
       " </a>\n",
       " </span>\n",
       " </div>, <div class=\"chart-list-item__title\">\n",
       " <span class=\"chart-list-item__title-text\">\n",
       " <a href=\"/music/kenny-rogers\">\n",
       " Kenny Rogers\n",
       " </a>\n",
       " </span>\n",
       " </div>, <div class=\"chart-list-item__title\">\n",
       " <span class=\"chart-list-item__title-text\">\n",
       " <a href=\"/music/post-malone\">\n",
       " Post Malone\n",
       " </a>\n",
       " </span>\n",
       " </div>, <div class=\"chart-list-item__title\">\n",
       " <span class=\"chart-list-item__title-text\">\n",
       " <a href=\"/music/conan-gray\">\n",
       " Conan Gray\n",
       " </a>\n",
       " </span>\n",
       " </div>, <div class=\"chart-list-item__title\">\n",
       " <span class=\"chart-list-item__title-text\">\n",
       " <a href=\"/music/billie-eilish\">\n",
       " Billie Eilish\n",
       " </a>\n",
       " </span>\n",
       " </div>, <div class=\"chart-list-item__title\">\n",
       " <span class=\"chart-list-item__title-text\">\n",
       " Lil Baby\n",
       " </span>\n",
       " </div>, <div class=\"chart-list-item__title\">\n",
       " <span class=\"chart-list-item__title-text\">\n",
       " <a href=\"/music/roddy-ricch\">\n",
       " Roddy Ricch\n",
       " </a>\n",
       " </span>\n",
       " </div>, <div class=\"chart-list-item__title\">\n",
       " <span class=\"chart-list-item__title-text\">\n",
       " <a href=\"/music/luke-combs\">\n",
       " Luke Combs\n",
       " </a>\n",
       " </span>\n",
       " </div>, <div class=\"chart-list-item__title\">\n",
       " <span class=\"chart-list-item__title-text\">\n",
       " <a href=\"/music/justin-bieber\">\n",
       " Justin Bieber\n",
       " </a>\n",
       " </span>\n",
       " </div>, <div class=\"chart-list-item__title\">\n",
       " <span class=\"chart-list-item__title-text\">\n",
       " <a href=\"/music/bts\">\n",
       " BTS\n",
       " </a>\n",
       " </span>\n",
       " </div>, <div class=\"chart-list-item__title\">\n",
       " <span class=\"chart-list-item__title-text\">\n",
       " <a href=\"/music/dua-lipa\">\n",
       " Dua Lipa\n",
       " </a>\n",
       " </span>\n",
       " </div>, <div class=\"chart-list-item__title\">\n",
       " <span class=\"chart-list-item__title-text\">\n",
       " <a href=\"/music/bad-bunny\">\n",
       " Bad Bunny\n",
       " </a>\n",
       " </span>\n",
       " </div>, <div class=\"chart-list-item__title\">\n",
       " <span class=\"chart-list-item__title-text\">\n",
       " DaBaby\n",
       " </span>\n",
       " </div>, <div class=\"chart-list-item__title\">\n",
       " <span class=\"chart-list-item__title-text\">\n",
       " <a href=\"/music/harry-styles\">\n",
       " Harry Styles\n",
       " </a>\n",
       " </span>\n",
       " </div>, <div class=\"chart-list-item__title\">\n",
       " <span class=\"chart-list-item__title-text\">\n",
       " <a href=\"/music/kelsea-ballerini\">\n",
       " Kelsea Ballerini\n",
       " </a>\n",
       " </span>\n",
       " </div>, <div class=\"chart-list-item__title\">\n",
       " <span class=\"chart-list-item__title-text\">\n",
       " <a href=\"/music/halsey\">\n",
       " Halsey\n",
       " </a>\n",
       " </span>\n",
       " </div>, <div class=\"chart-list-item__title\">\n",
       " <span class=\"chart-list-item__title-text\">\n",
       " Doja Cat\n",
       " </span>\n",
       " </div>, <div class=\"chart-list-item__title\">\n",
       " <span class=\"chart-list-item__title-text\">\n",
       " <a href=\"/music/j-balvin\">\n",
       " J Balvin\n",
       " </a>\n",
       " </span>\n",
       " </div>, <div class=\"chart-list-item__title\">\n",
       " <span class=\"chart-list-item__title-text\">\n",
       " <a href=\"/music/lewis-capaldi\">\n",
       " Lewis Capaldi\n",
       " </a>\n",
       " </span>\n",
       " </div>, <div class=\"chart-list-item__title\">\n",
       " <span class=\"chart-list-item__title-text\">\n",
       " <a href=\"/music/juice-wrld\">\n",
       " Juice WRLD\n",
       " </a>\n",
       " </span>\n",
       " </div>, <div class=\"chart-list-item__title\">\n",
       " <span class=\"chart-list-item__title-text\">\n",
       " <a href=\"/music/drake\">\n",
       " Drake\n",
       " </a>\n",
       " </span>\n",
       " </div>, <div class=\"chart-list-item__title\">\n",
       " <span class=\"chart-list-item__title-text\">\n",
       " <a href=\"/music/megan-thee-stallion\">\n",
       " Megan Thee Stallion\n",
       " </a>\n",
       " </span>\n",
       " </div>, <div class=\"chart-list-item__title\">\n",
       " <span class=\"chart-list-item__title-text\">\n",
       " <a href=\"/music/jonas-brothers\">\n",
       " Jonas Brothers\n",
       " </a>\n",
       " </span>\n",
       " </div>, <div class=\"chart-list-item__title\">\n",
       " <span class=\"chart-list-item__title-text\">\n",
       " <a href=\"/music/khalid\">\n",
       " Khalid\n",
       " </a>\n",
       " </span>\n",
       " </div>, <div class=\"chart-list-item__title\">\n",
       " <span class=\"chart-list-item__title-text\">\n",
       " <a href=\"/music/ed-sheeran\">\n",
       " Ed Sheeran\n",
       " </a>\n",
       " </span>\n",
       " </div>, <div class=\"chart-list-item__title\">\n",
       " <span class=\"chart-list-item__title-text\">\n",
       " <a href=\"/music/taylor-swift\">\n",
       " Taylor Swift\n",
       " </a>\n",
       " </span>\n",
       " </div>, <div class=\"chart-list-item__title\">\n",
       " <span class=\"chart-list-item__title-text\">\n",
       " <a href=\"/music/maroon-5\">\n",
       " Maroon 5\n",
       " </a>\n",
       " </span>\n",
       " </div>, <div class=\"chart-list-item__title\">\n",
       " <span class=\"chart-list-item__title-text\">\n",
       " <a href=\"/music/5-seconds-of-summer\">\n",
       " 5 Seconds Of Summer\n",
       " </a>\n",
       " </span>\n",
       " </div>, <div class=\"chart-list-item__title\">\n",
       " <span class=\"chart-list-item__title-text\">\n",
       " <a href=\"/music/youngboy-never-broke-again\">\n",
       " YoungBoy Never Broke Again\n",
       " </a>\n",
       " </span>\n",
       " </div>, <div class=\"chart-list-item__title\">\n",
       " <span class=\"chart-list-item__title-text\">\n",
       " <a href=\"/music/kane-brown\">\n",
       " Kane Brown\n",
       " </a>\n",
       " </span>\n",
       " </div>, <div class=\"chart-list-item__title\">\n",
       " <span class=\"chart-list-item__title-text\">\n",
       " <a href=\"/music/lady-gaga\">\n",
       " Lady Gaga\n",
       " </a>\n",
       " </span>\n",
       " </div>, <div class=\"chart-list-item__title\">\n",
       " <span class=\"chart-list-item__title-text\">\n",
       " <a href=\"/music/morgan-wallen\">\n",
       " Morgan Wallen\n",
       " </a>\n",
       " </span>\n",
       " </div>, <div class=\"chart-list-item__title\">\n",
       " <span class=\"chart-list-item__title-text\">\n",
       " <a href=\"/music/future\">\n",
       " Future\n",
       " </a>\n",
       " </span>\n",
       " </div>, <div class=\"chart-list-item__title\">\n",
       " <span class=\"chart-list-item__title-text\">\n",
       " <a href=\"/music/camila-cabello\">\n",
       " Camila Cabello\n",
       " </a>\n",
       " </span>\n",
       " </div>, <div class=\"chart-list-item__title\">\n",
       " <span class=\"chart-list-item__title-text\">\n",
       " <a href=\"/music/jhene-aiko\">\n",
       " Jhene Aiko\n",
       " </a>\n",
       " </span>\n",
       " </div>, <div class=\"chart-list-item__title\">\n",
       " <span class=\"chart-list-item__title-text\">\n",
       " <a href=\"/music/arizona-zervas\">\n",
       " Arizona Zervas\n",
       " </a>\n",
       " </span>\n",
       " </div>, <div class=\"chart-list-item__title\">\n",
       " <span class=\"chart-list-item__title-text\">\n",
       " <a href=\"/music/tones-and-i\">\n",
       " Tones And I\n",
       " </a>\n",
       " </span>\n",
       " </div>, <div class=\"chart-list-item__title\">\n",
       " <span class=\"chart-list-item__title-text\">\n",
       " <a href=\"/music/maren-morris\">\n",
       " Maren Morris\n",
       " </a>\n",
       " </span>\n",
       " </div>, <div class=\"chart-list-item__title\">\n",
       " <span class=\"chart-list-item__title-text\">\n",
       " <a href=\"/music/lizzo\">\n",
       " Lizzo\n",
       " </a>\n",
       " </span>\n",
       " </div>, <div class=\"chart-list-item__title\">\n",
       " <span class=\"chart-list-item__title-text\">\n",
       " <a href=\"/music/blackbear\">\n",
       " blackbear\n",
       " </a>\n",
       " </span>\n",
       " </div>, <div class=\"chart-list-item__title\">\n",
       " <span class=\"chart-list-item__title-text\">\n",
       " <a href=\"/music/sam-smith\">\n",
       " Sam Smith\n",
       " </a>\n",
       " </span>\n",
       " </div>, <div class=\"chart-list-item__title\">\n",
       " <span class=\"chart-list-item__title-text\">\n",
       " <a href=\"/music/dan-shay\">\n",
       " Dan + Shay\n",
       " </a>\n",
       " </span>\n",
       " </div>, <div class=\"chart-list-item__title\">\n",
       " <span class=\"chart-list-item__title-text\">\n",
       " <a href=\"/music/sam-hunt\">\n",
       " Sam Hunt\n",
       " </a>\n",
       " </span>\n",
       " </div>, <div class=\"chart-list-item__title\">\n",
       " <span class=\"chart-list-item__title-text\">\n",
       " <a href=\"/music/nct-127\">\n",
       " NCT 127\n",
       " </a>\n",
       " </span>\n",
       " </div>, <div class=\"chart-list-item__title\">\n",
       " <span class=\"chart-list-item__title-text\">\n",
       " <a href=\"/music/travis-scott\">\n",
       " Travis Scott\n",
       " </a>\n",
       " </span>\n",
       " </div>, <div class=\"chart-list-item__title\">\n",
       " <span class=\"chart-list-item__title-text\">\n",
       " <a href=\"/music/imagine-dragons\">\n",
       " Imagine Dragons\n",
       " </a>\n",
       " </span>\n",
       " </div>, <div class=\"chart-list-item__title\">\n",
       " <span class=\"chart-list-item__title-text\">\n",
       " <a href=\"/music/blake-shelton\">\n",
       " Blake Shelton\n",
       " </a>\n",
       " </span>\n",
       " </div>, <div class=\"chart-list-item__title\">\n",
       " <span class=\"chart-list-item__title-text\">\n",
       " <a href=\"/music/selena-gomez\">\n",
       " Selena Gomez\n",
       " </a>\n",
       " </span>\n",
       " </div>, <div class=\"chart-list-item__title\">\n",
       " <span class=\"chart-list-item__title-text\">\n",
       " <a href=\"/music/jason-aldean\">\n",
       " Jason Aldean\n",
       " </a>\n",
       " </span>\n",
       " </div>, <div class=\"chart-list-item__title\">\n",
       " <span class=\"chart-list-item__title-text\">\n",
       " <a href=\"/music/eminem\">\n",
       " Eminem\n",
       " </a>\n",
       " </span>\n",
       " </div>, <div class=\"chart-list-item__title\">\n",
       " <span class=\"chart-list-item__title-text\">\n",
       " <a href=\"/music/luke-bryan\">\n",
       " Luke Bryan\n",
       " </a>\n",
       " </span>\n",
       " </div>, <div class=\"chart-list-item__title\">\n",
       " <span class=\"chart-list-item__title-text\">\n",
       " <a href=\"/music/queen\">\n",
       " Queen\n",
       " </a>\n",
       " </span>\n",
       " </div>, <div class=\"chart-list-item__title\">\n",
       " <span class=\"chart-list-item__title-text\">\n",
       " <a href=\"/music/panic-at-the-disco-2\">\n",
       " Panic! At The Disco\n",
       " </a>\n",
       " </span>\n",
       " </div>, <div class=\"chart-list-item__title\">\n",
       " <span class=\"chart-list-item__title-text\">\n",
       " <a href=\"/music/grateful-dead\">\n",
       " Grateful Dead\n",
       " </a>\n",
       " </span>\n",
       " </div>, <div class=\"chart-list-item__title\">\n",
       " <span class=\"chart-list-item__title-text\">\n",
       " <a href=\"/music/chris-brown\">\n",
       " Chris Brown\n",
       " </a>\n",
       " </span>\n",
       " </div>, <div class=\"chart-list-item__title\">\n",
       " <span class=\"chart-list-item__title-text\">\n",
       " <a href=\"/music/shawn-mendes\">\n",
       " Shawn Mendes\n",
       " </a>\n",
       " </span>\n",
       " </div>, <div class=\"chart-list-item__title\">\n",
       " <span class=\"chart-list-item__title-text\">\n",
       " <a href=\"/music/gunna\">\n",
       " Gunna\n",
       " </a>\n",
       " </span>\n",
       " </div>, <div class=\"chart-list-item__title\">\n",
       " <span class=\"chart-list-item__title-text\">\n",
       " Gabby Barrett\n",
       " </span>\n",
       " </div>, <div class=\"chart-list-item__title\">\n",
       " <span class=\"chart-list-item__title-text\">\n",
       " <a href=\"/music/bruno-mars\">\n",
       " Bruno Mars\n",
       " </a>\n",
       " </span>\n",
       " </div>, <div class=\"chart-list-item__title\">\n",
       " <span class=\"chart-list-item__title-text\">\n",
       " <a href=\"/music/rod-wave\">\n",
       " Rod Wave\n",
       " </a>\n",
       " </span>\n",
       " </div>, <div class=\"chart-list-item__title\">\n",
       " <span class=\"chart-list-item__title-text\">\n",
       " <a href=\"/music/adam-lambert\">\n",
       " Adam Lambert\n",
       " </a>\n",
       " </span>\n",
       " </div>, <div class=\"chart-list-item__title\">\n",
       " <span class=\"chart-list-item__title-text\">\n",
       " <a href=\"/music/the-beatles\">\n",
       " The Beatles\n",
       " </a>\n",
       " </span>\n",
       " </div>, <div class=\"chart-list-item__title\">\n",
       " <span class=\"chart-list-item__title-text\">\n",
       " <a href=\"/music/young-thug\">\n",
       " Young Thug\n",
       " </a>\n",
       " </span>\n",
       " </div>, <div class=\"chart-list-item__title\">\n",
       " <span class=\"chart-list-item__title-text\">\n",
       " <a href=\"/music/old-dominion\">\n",
       " Old Dominion\n",
       " </a>\n",
       " </span>\n",
       " </div>, <div class=\"chart-list-item__title\">\n",
       " <span class=\"chart-list-item__title-text\">\n",
       " <a href=\"/music/brett-young\">\n",
       " Brett Young\n",
       " </a>\n",
       " </span>\n",
       " </div>, <div class=\"chart-list-item__title\">\n",
       " <span class=\"chart-list-item__title-text\">\n",
       " <a href=\"/music/ariana-grande\">\n",
       " Ariana Grande\n",
       " </a>\n",
       " </span>\n",
       " </div>, <div class=\"chart-list-item__title\">\n",
       " <span class=\"chart-list-item__title-text\">\n",
       " <a href=\"/music/summer-walker\">\n",
       " Summer Walker\n",
       " </a>\n",
       " </span>\n",
       " </div>, <div class=\"chart-list-item__title\">\n",
       " <span class=\"chart-list-item__title-text\">\n",
       " <a href=\"/music/pop-smoke\">\n",
       " Pop Smoke\n",
       " </a>\n",
       " </span>\n",
       " </div>, <div class=\"chart-list-item__title\">\n",
       " <span class=\"chart-list-item__title-text\">\n",
       " <a href=\"/music/h-e-r\">\n",
       " H.E.R.\n",
       " </a>\n",
       " </span>\n",
       " </div>, <div class=\"chart-list-item__title\">\n",
       " <span class=\"chart-list-item__title-text\">\n",
       " <a href=\"/music/thomas-rhett\">\n",
       " Thomas Rhett\n",
       " </a>\n",
       " </span>\n",
       " </div>, <div class=\"chart-list-item__title\">\n",
       " <span class=\"chart-list-item__title-text\">\n",
       " Trevor Daniel\n",
       " </span>\n",
       " </div>, <div class=\"chart-list-item__title\">\n",
       " <span class=\"chart-list-item__title-text\">\n",
       " <a href=\"/music/jordan-davis\">\n",
       " Jordan Davis\n",
       " </a>\n",
       " </span>\n",
       " </div>, <div class=\"chart-list-item__title\">\n",
       " <span class=\"chart-list-item__title-text\">\n",
       " <a href=\"/music/childish-gambino\">\n",
       " Childish Gambino\n",
       " </a>\n",
       " </span>\n",
       " </div>, <div class=\"chart-list-item__title\">\n",
       " <span class=\"chart-list-item__title-text\">\n",
       " <a href=\"/music/don-toliver\">\n",
       " Don Toliver\n",
       " </a>\n",
       " </span>\n",
       " </div>, <div class=\"chart-list-item__title\">\n",
       " <span class=\"chart-list-item__title-text\">\n",
       " <a href=\"/music/demi-lovato\">\n",
       " Demi Lovato\n",
       " </a>\n",
       " </span>\n",
       " </div>, <div class=\"chart-list-item__title\">\n",
       " <span class=\"chart-list-item__title-text\">\n",
       " <a href=\"/music/dolly-parton\">\n",
       " Dolly Parton\n",
       " </a>\n",
       " </span>\n",
       " </div>, <div class=\"chart-list-item__title\">\n",
       " <span class=\"chart-list-item__title-text\">\n",
       " <a href=\"/music/james-taylor\">\n",
       " James Taylor\n",
       " </a>\n",
       " </span>\n",
       " </div>, <div class=\"chart-list-item__title\">\n",
       " <span class=\"chart-list-item__title-text\">\n",
       " <a href=\"/music/lil-mosey\">\n",
       " Lil Mosey\n",
       " </a>\n",
       " </span>\n",
       " </div>, <div class=\"chart-list-item__title\">\n",
       " <span class=\"chart-list-item__title-text\">\n",
       " <a href=\"/music/jake-owen\">\n",
       " Jake Owen\n",
       " </a>\n",
       " </span>\n",
       " </div>, <div class=\"chart-list-item__title\">\n",
       " <span class=\"chart-list-item__title-text\">\n",
       " <a href=\"/music/mustard\">\n",
       " Mustard\n",
       " </a>\n",
       " </span>\n",
       " </div>, <div class=\"chart-list-item__title\">\n",
       " <span class=\"chart-list-item__title-text\">\n",
       " <a href=\"/music/niall-horan\">\n",
       " Niall Horan\n",
       " </a>\n",
       " </span>\n",
       " </div>, <div class=\"chart-list-item__title\">\n",
       " <span class=\"chart-list-item__title-text\">\n",
       " <a href=\"/music/lauren-daigle\">\n",
       " Lauren Daigle\n",
       " </a>\n",
       " </span>\n",
       " </div>, <div class=\"chart-list-item__title\">\n",
       " <span class=\"chart-list-item__title-text\">\n",
       " <a href=\"/music/justin-timberlake\">\n",
       " Justin Timberlake\n",
       " </a>\n",
       " </span>\n",
       " </div>, <div class=\"chart-list-item__title\">\n",
       " <span class=\"chart-list-item__title-text\">\n",
       " <a href=\"/music/exo\">\n",
       " EXO\n",
       " </a>\n",
       " </span>\n",
       " </div>, <div class=\"chart-list-item__title\">\n",
       " <span class=\"chart-list-item__title-text\">\n",
       " <a href=\"/music/xxxtentacion\">\n",
       " XXXTENTACION\n",
       " </a>\n",
       " </span>\n",
       " </div>, <div class=\"chart-list-item__title\">\n",
       " <span class=\"chart-list-item__title-text\">\n",
       " <a href=\"/music/nle-choppa\">\n",
       " NLE Choppa\n",
       " </a>\n",
       " </span>\n",
       " </div>, <div class=\"chart-list-item__title\">\n",
       " <span class=\"chart-list-item__title-text\">\n",
       " <a href=\"/music/ingrid-andress\">\n",
       " Ingrid Andress\n",
       " </a>\n",
       " </span>\n",
       " </div>, <div class=\"chart-list-item__title\">\n",
       " <span class=\"chart-list-item__title-text\">\n",
       " <a href=\"/music/lil-nas-x\">\n",
       " Lil Nas X\n",
       " </a>\n",
       " </span>\n",
       " </div>, <div class=\"chart-list-item__title\">\n",
       " <span class=\"chart-list-item__title-text\">\n",
       " <a href=\"/music/fleetwood-mac\">\n",
       " Fleetwood Mac\n",
       " </a>\n",
       " </span>\n",
       " </div>, <div class=\"chart-list-item__title\">\n",
       " <span class=\"chart-list-item__title-text\">\n",
       " <a href=\"/music/a-boogie-wit-da-hoodie\">\n",
       " A Boogie Wit da Hoodie\n",
       " </a>\n",
       " </span>\n",
       " </div>, <div class=\"chart-list-item__title\">\n",
       " <span class=\"chart-list-item__title-text\">\n",
       " <a href=\"/music/ynw-melly\">\n",
       " YNW Melly\n",
       " </a>\n",
       " </span>\n",
       " </div>, <div class=\"chart-list-item__title\">\n",
       " <span class=\"chart-list-item__title-text\">\n",
       " <a href=\"/music/pnk\">\n",
       " P!nk\n",
       " </a>\n",
       " </span>\n",
       " </div>, <div class=\"chart-list-item__title\">\n",
       " <span class=\"chart-list-item__title-text\">\n",
       " SHAED\n",
       " </span>\n",
       " </div>, <div class=\"chart-list-item__title\">\n",
       " <span class=\"chart-list-item__title-text\">\n",
       " SAINt JHN\n",
       " </span>\n",
       " </div>, <div class=\"chart-list-item__title\">\n",
       " <span class=\"chart-list-item__title-text\">\n",
       " <a href=\"/music/chris-stapleton\">\n",
       " Chris Stapleton\n",
       " </a>\n",
       " </span>\n",
       " </div>, <div class=\"chart-list-item__title\">\n",
       " <span class=\"chart-list-item__title-text\">\n",
       " <a href=\"/music/jon-pardi\">\n",
       " Jon Pardi\n",
       " </a>\n",
       " </span>\n",
       " </div>, <div class=\"chart-list-item__title\">\n",
       " <span class=\"chart-list-item__title-text\">\n",
       " <a href=\"/music/lee-brice\">\n",
       " Lee Brice\n",
       " </a>\n",
       " </span>\n",
       " </div>, <div class=\"chart-list-item__title\">\n",
       " <span class=\"chart-list-item__title-text\">\n",
       " <a href=\"/music/elton-john\">\n",
       " Elton John\n",
       " </a>\n",
       " </span>\n",
       " </div>, <div class=\"chart-list-item__title\">\n",
       " <span class=\"chart-list-item__title-text\">\n",
       " <a href=\"/music/dustin-lynch\">\n",
       " Dustin Lynch\n",
       " </a>\n",
       " </span>\n",
       " </div>]"
      ]
     },
     "execution_count": 45,
     "metadata": {},
     "output_type": "execute_result"
    }
   ],
   "source": [
    "soup.select('div.chart-list-item__title')"
   ]
  },
  {
   "cell_type": "code",
   "execution_count": 46,
   "metadata": {},
   "outputs": [
    {
     "data": {
      "text/plain": [
       "100"
      ]
     },
     "execution_count": 46,
     "metadata": {},
     "output_type": "execute_result"
    }
   ],
   "source": [
    "len(soup.select('div.chart-list-item__title'))"
   ]
  },
  {
   "cell_type": "code",
   "execution_count": 47,
   "metadata": {},
   "outputs": [],
   "source": [
    "tags = soup.select('div.chart-list-item__title>span>a')"
   ]
  },
  {
   "cell_type": "code",
   "execution_count": 48,
   "metadata": {},
   "outputs": [
    {
     "data": {
      "text/plain": [
       "93"
      ]
     },
     "execution_count": 48,
     "metadata": {},
     "output_type": "execute_result"
    }
   ],
   "source": [
    "len(tags)"
   ]
  },
  {
   "cell_type": "code",
   "execution_count": 44,
   "metadata": {},
   "outputs": [],
   "source": [
    "# >span>a를 사용해서 찾으면 93명 밖에 없기 때문에 정확한 정보가 아님.다른 코드로 찾아야함.\n",
    "# 일일이 코드를 읽고 있기에는 시간낭비이므로 시리즈를 만들어 실제 사이트와 비교하겠음\n",
    "# 아래 Series를 만든 코드는 문제를 찾아낸 후 그대로 재활용할 것임"
   ]
  },
  {
   "cell_type": "code",
   "execution_count": 29,
   "metadata": {},
   "outputs": [
    {
     "data": {
      "text/plain": [
       "'The Weeknd'"
      ]
     },
     "execution_count": 29,
     "metadata": {},
     "output_type": "execute_result"
    }
   ],
   "source": [
    "soup.select('div.chart-list-item__title>span>a')[0].text[1:-1]"
   ]
  },
  {
   "cell_type": "code",
   "execution_count": 30,
   "metadata": {},
   "outputs": [
    {
     "data": {
      "text/plain": [
       "'Lil Uzi Vert'"
      ]
     },
     "execution_count": 30,
     "metadata": {},
     "output_type": "execute_result"
    }
   ],
   "source": [
    "soup.select('div.chart-list-item__title>span>a')[1].text[1:-1]"
   ]
  },
  {
   "cell_type": "code",
   "execution_count": 3,
   "metadata": {},
   "outputs": [],
   "source": [
    "import pandas as pd"
   ]
  },
  {
   "cell_type": "code",
   "execution_count": 34,
   "metadata": {},
   "outputs": [
    {
     "data": {
      "text/plain": [
       "0          The Weeknd\n",
       "1        Lil Uzi Vert\n",
       "2        Kenny Rogers\n",
       "3         Post Malone\n",
       "4          Conan Gray\n",
       "           ...       \n",
       "88    Chris Stapleton\n",
       "89          Jon Pardi\n",
       "90          Lee Brice\n",
       "91         Elton John\n",
       "92       Dustin Lynch\n",
       "Length: 93, dtype: object"
      ]
     },
     "execution_count": 34,
     "metadata": {},
     "output_type": "execute_result"
    }
   ],
   "source": [
    "artists = pd.Series([])\n",
    "for i in range(len(tags)):\n",
    "    artist = soup.select('div.chart-list-item__title>span>a')[i].text[1:-1]\n",
    "    artists[i] = artist\n",
    "artists"
   ]
  },
  {
   "cell_type": "code",
   "execution_count": 49,
   "metadata": {},
   "outputs": [
    {
     "data": {
      "text/plain": [
       "'Roddy Ricch'"
      ]
     },
     "execution_count": 49,
     "metadata": {},
     "output_type": "execute_result"
    }
   ],
   "source": [
    "artists[6]"
   ]
  },
  {
   "cell_type": "code",
   "execution_count": 50,
   "metadata": {},
   "outputs": [],
   "source": [
    "# 사이트에는 7위인 Lil Baby가 담기지 않았으므로 Lil Baby의 근방을 탐색\n",
    "# --> a태그가 없는 아티스트들이 발견되었으므로 select함수의 파라미터를 수정"
   ]
  },
  {
   "cell_type": "code",
   "execution_count": 51,
   "metadata": {},
   "outputs": [
    {
     "data": {
      "text/plain": [
       "100"
      ]
     },
     "execution_count": 51,
     "metadata": {},
     "output_type": "execute_result"
    }
   ],
   "source": [
    "tags = soup.select('div.chart-list-item__title>span')\n",
    "len(tags)"
   ]
  },
  {
   "cell_type": "code",
   "execution_count": 54,
   "metadata": {},
   "outputs": [
    {
     "data": {
      "text/plain": [
       "[<span class=\"chart-list-item__title-text\">\n",
       " <a href=\"/music/the-weeknd\">\n",
       " The Weeknd\n",
       " </a>\n",
       " </span>, <span class=\"chart-list-item__title-text\">\n",
       " <a href=\"/music/lil-uzi-vert\">\n",
       " Lil Uzi Vert\n",
       " </a>\n",
       " </span>, <span class=\"chart-list-item__title-text\">\n",
       " <a href=\"/music/kenny-rogers\">\n",
       " Kenny Rogers\n",
       " </a>\n",
       " </span>, <span class=\"chart-list-item__title-text\">\n",
       " <a href=\"/music/post-malone\">\n",
       " Post Malone\n",
       " </a>\n",
       " </span>, <span class=\"chart-list-item__title-text\">\n",
       " <a href=\"/music/conan-gray\">\n",
       " Conan Gray\n",
       " </a>\n",
       " </span>, <span class=\"chart-list-item__title-text\">\n",
       " <a href=\"/music/billie-eilish\">\n",
       " Billie Eilish\n",
       " </a>\n",
       " </span>, <span class=\"chart-list-item__title-text\">\n",
       " Lil Baby\n",
       " </span>, <span class=\"chart-list-item__title-text\">\n",
       " <a href=\"/music/roddy-ricch\">\n",
       " Roddy Ricch\n",
       " </a>\n",
       " </span>, <span class=\"chart-list-item__title-text\">\n",
       " <a href=\"/music/luke-combs\">\n",
       " Luke Combs\n",
       " </a>\n",
       " </span>, <span class=\"chart-list-item__title-text\">\n",
       " <a href=\"/music/justin-bieber\">\n",
       " Justin Bieber\n",
       " </a>\n",
       " </span>, <span class=\"chart-list-item__title-text\">\n",
       " <a href=\"/music/bts\">\n",
       " BTS\n",
       " </a>\n",
       " </span>, <span class=\"chart-list-item__title-text\">\n",
       " <a href=\"/music/dua-lipa\">\n",
       " Dua Lipa\n",
       " </a>\n",
       " </span>, <span class=\"chart-list-item__title-text\">\n",
       " <a href=\"/music/bad-bunny\">\n",
       " Bad Bunny\n",
       " </a>\n",
       " </span>, <span class=\"chart-list-item__title-text\">\n",
       " DaBaby\n",
       " </span>, <span class=\"chart-list-item__title-text\">\n",
       " <a href=\"/music/harry-styles\">\n",
       " Harry Styles\n",
       " </a>\n",
       " </span>, <span class=\"chart-list-item__title-text\">\n",
       " <a href=\"/music/kelsea-ballerini\">\n",
       " Kelsea Ballerini\n",
       " </a>\n",
       " </span>, <span class=\"chart-list-item__title-text\">\n",
       " <a href=\"/music/halsey\">\n",
       " Halsey\n",
       " </a>\n",
       " </span>, <span class=\"chart-list-item__title-text\">\n",
       " Doja Cat\n",
       " </span>, <span class=\"chart-list-item__title-text\">\n",
       " <a href=\"/music/j-balvin\">\n",
       " J Balvin\n",
       " </a>\n",
       " </span>, <span class=\"chart-list-item__title-text\">\n",
       " <a href=\"/music/lewis-capaldi\">\n",
       " Lewis Capaldi\n",
       " </a>\n",
       " </span>, <span class=\"chart-list-item__title-text\">\n",
       " <a href=\"/music/juice-wrld\">\n",
       " Juice WRLD\n",
       " </a>\n",
       " </span>, <span class=\"chart-list-item__title-text\">\n",
       " <a href=\"/music/drake\">\n",
       " Drake\n",
       " </a>\n",
       " </span>, <span class=\"chart-list-item__title-text\">\n",
       " <a href=\"/music/megan-thee-stallion\">\n",
       " Megan Thee Stallion\n",
       " </a>\n",
       " </span>, <span class=\"chart-list-item__title-text\">\n",
       " <a href=\"/music/jonas-brothers\">\n",
       " Jonas Brothers\n",
       " </a>\n",
       " </span>, <span class=\"chart-list-item__title-text\">\n",
       " <a href=\"/music/khalid\">\n",
       " Khalid\n",
       " </a>\n",
       " </span>, <span class=\"chart-list-item__title-text\">\n",
       " <a href=\"/music/ed-sheeran\">\n",
       " Ed Sheeran\n",
       " </a>\n",
       " </span>, <span class=\"chart-list-item__title-text\">\n",
       " <a href=\"/music/taylor-swift\">\n",
       " Taylor Swift\n",
       " </a>\n",
       " </span>, <span class=\"chart-list-item__title-text\">\n",
       " <a href=\"/music/maroon-5\">\n",
       " Maroon 5\n",
       " </a>\n",
       " </span>, <span class=\"chart-list-item__title-text\">\n",
       " <a href=\"/music/5-seconds-of-summer\">\n",
       " 5 Seconds Of Summer\n",
       " </a>\n",
       " </span>, <span class=\"chart-list-item__title-text\">\n",
       " <a href=\"/music/youngboy-never-broke-again\">\n",
       " YoungBoy Never Broke Again\n",
       " </a>\n",
       " </span>, <span class=\"chart-list-item__title-text\">\n",
       " <a href=\"/music/kane-brown\">\n",
       " Kane Brown\n",
       " </a>\n",
       " </span>, <span class=\"chart-list-item__title-text\">\n",
       " <a href=\"/music/lady-gaga\">\n",
       " Lady Gaga\n",
       " </a>\n",
       " </span>, <span class=\"chart-list-item__title-text\">\n",
       " <a href=\"/music/morgan-wallen\">\n",
       " Morgan Wallen\n",
       " </a>\n",
       " </span>, <span class=\"chart-list-item__title-text\">\n",
       " <a href=\"/music/future\">\n",
       " Future\n",
       " </a>\n",
       " </span>, <span class=\"chart-list-item__title-text\">\n",
       " <a href=\"/music/camila-cabello\">\n",
       " Camila Cabello\n",
       " </a>\n",
       " </span>, <span class=\"chart-list-item__title-text\">\n",
       " <a href=\"/music/jhene-aiko\">\n",
       " Jhene Aiko\n",
       " </a>\n",
       " </span>, <span class=\"chart-list-item__title-text\">\n",
       " <a href=\"/music/arizona-zervas\">\n",
       " Arizona Zervas\n",
       " </a>\n",
       " </span>, <span class=\"chart-list-item__title-text\">\n",
       " <a href=\"/music/tones-and-i\">\n",
       " Tones And I\n",
       " </a>\n",
       " </span>, <span class=\"chart-list-item__title-text\">\n",
       " <a href=\"/music/maren-morris\">\n",
       " Maren Morris\n",
       " </a>\n",
       " </span>, <span class=\"chart-list-item__title-text\">\n",
       " <a href=\"/music/lizzo\">\n",
       " Lizzo\n",
       " </a>\n",
       " </span>, <span class=\"chart-list-item__title-text\">\n",
       " <a href=\"/music/blackbear\">\n",
       " blackbear\n",
       " </a>\n",
       " </span>, <span class=\"chart-list-item__title-text\">\n",
       " <a href=\"/music/sam-smith\">\n",
       " Sam Smith\n",
       " </a>\n",
       " </span>, <span class=\"chart-list-item__title-text\">\n",
       " <a href=\"/music/dan-shay\">\n",
       " Dan + Shay\n",
       " </a>\n",
       " </span>, <span class=\"chart-list-item__title-text\">\n",
       " <a href=\"/music/sam-hunt\">\n",
       " Sam Hunt\n",
       " </a>\n",
       " </span>, <span class=\"chart-list-item__title-text\">\n",
       " <a href=\"/music/nct-127\">\n",
       " NCT 127\n",
       " </a>\n",
       " </span>, <span class=\"chart-list-item__title-text\">\n",
       " <a href=\"/music/travis-scott\">\n",
       " Travis Scott\n",
       " </a>\n",
       " </span>, <span class=\"chart-list-item__title-text\">\n",
       " <a href=\"/music/imagine-dragons\">\n",
       " Imagine Dragons\n",
       " </a>\n",
       " </span>, <span class=\"chart-list-item__title-text\">\n",
       " <a href=\"/music/blake-shelton\">\n",
       " Blake Shelton\n",
       " </a>\n",
       " </span>, <span class=\"chart-list-item__title-text\">\n",
       " <a href=\"/music/selena-gomez\">\n",
       " Selena Gomez\n",
       " </a>\n",
       " </span>, <span class=\"chart-list-item__title-text\">\n",
       " <a href=\"/music/jason-aldean\">\n",
       " Jason Aldean\n",
       " </a>\n",
       " </span>, <span class=\"chart-list-item__title-text\">\n",
       " <a href=\"/music/eminem\">\n",
       " Eminem\n",
       " </a>\n",
       " </span>, <span class=\"chart-list-item__title-text\">\n",
       " <a href=\"/music/luke-bryan\">\n",
       " Luke Bryan\n",
       " </a>\n",
       " </span>, <span class=\"chart-list-item__title-text\">\n",
       " <a href=\"/music/queen\">\n",
       " Queen\n",
       " </a>\n",
       " </span>, <span class=\"chart-list-item__title-text\">\n",
       " <a href=\"/music/panic-at-the-disco-2\">\n",
       " Panic! At The Disco\n",
       " </a>\n",
       " </span>, <span class=\"chart-list-item__title-text\">\n",
       " <a href=\"/music/grateful-dead\">\n",
       " Grateful Dead\n",
       " </a>\n",
       " </span>, <span class=\"chart-list-item__title-text\">\n",
       " <a href=\"/music/chris-brown\">\n",
       " Chris Brown\n",
       " </a>\n",
       " </span>, <span class=\"chart-list-item__title-text\">\n",
       " <a href=\"/music/shawn-mendes\">\n",
       " Shawn Mendes\n",
       " </a>\n",
       " </span>, <span class=\"chart-list-item__title-text\">\n",
       " <a href=\"/music/gunna\">\n",
       " Gunna\n",
       " </a>\n",
       " </span>, <span class=\"chart-list-item__title-text\">\n",
       " Gabby Barrett\n",
       " </span>, <span class=\"chart-list-item__title-text\">\n",
       " <a href=\"/music/bruno-mars\">\n",
       " Bruno Mars\n",
       " </a>\n",
       " </span>, <span class=\"chart-list-item__title-text\">\n",
       " <a href=\"/music/rod-wave\">\n",
       " Rod Wave\n",
       " </a>\n",
       " </span>, <span class=\"chart-list-item__title-text\">\n",
       " <a href=\"/music/adam-lambert\">\n",
       " Adam Lambert\n",
       " </a>\n",
       " </span>, <span class=\"chart-list-item__title-text\">\n",
       " <a href=\"/music/the-beatles\">\n",
       " The Beatles\n",
       " </a>\n",
       " </span>, <span class=\"chart-list-item__title-text\">\n",
       " <a href=\"/music/young-thug\">\n",
       " Young Thug\n",
       " </a>\n",
       " </span>, <span class=\"chart-list-item__title-text\">\n",
       " <a href=\"/music/old-dominion\">\n",
       " Old Dominion\n",
       " </a>\n",
       " </span>, <span class=\"chart-list-item__title-text\">\n",
       " <a href=\"/music/brett-young\">\n",
       " Brett Young\n",
       " </a>\n",
       " </span>, <span class=\"chart-list-item__title-text\">\n",
       " <a href=\"/music/ariana-grande\">\n",
       " Ariana Grande\n",
       " </a>\n",
       " </span>, <span class=\"chart-list-item__title-text\">\n",
       " <a href=\"/music/summer-walker\">\n",
       " Summer Walker\n",
       " </a>\n",
       " </span>, <span class=\"chart-list-item__title-text\">\n",
       " <a href=\"/music/pop-smoke\">\n",
       " Pop Smoke\n",
       " </a>\n",
       " </span>, <span class=\"chart-list-item__title-text\">\n",
       " <a href=\"/music/h-e-r\">\n",
       " H.E.R.\n",
       " </a>\n",
       " </span>, <span class=\"chart-list-item__title-text\">\n",
       " <a href=\"/music/thomas-rhett\">\n",
       " Thomas Rhett\n",
       " </a>\n",
       " </span>, <span class=\"chart-list-item__title-text\">\n",
       " Trevor Daniel\n",
       " </span>, <span class=\"chart-list-item__title-text\">\n",
       " <a href=\"/music/jordan-davis\">\n",
       " Jordan Davis\n",
       " </a>\n",
       " </span>, <span class=\"chart-list-item__title-text\">\n",
       " <a href=\"/music/childish-gambino\">\n",
       " Childish Gambino\n",
       " </a>\n",
       " </span>, <span class=\"chart-list-item__title-text\">\n",
       " <a href=\"/music/don-toliver\">\n",
       " Don Toliver\n",
       " </a>\n",
       " </span>, <span class=\"chart-list-item__title-text\">\n",
       " <a href=\"/music/demi-lovato\">\n",
       " Demi Lovato\n",
       " </a>\n",
       " </span>, <span class=\"chart-list-item__title-text\">\n",
       " <a href=\"/music/dolly-parton\">\n",
       " Dolly Parton\n",
       " </a>\n",
       " </span>, <span class=\"chart-list-item__title-text\">\n",
       " <a href=\"/music/james-taylor\">\n",
       " James Taylor\n",
       " </a>\n",
       " </span>, <span class=\"chart-list-item__title-text\">\n",
       " <a href=\"/music/lil-mosey\">\n",
       " Lil Mosey\n",
       " </a>\n",
       " </span>, <span class=\"chart-list-item__title-text\">\n",
       " <a href=\"/music/jake-owen\">\n",
       " Jake Owen\n",
       " </a>\n",
       " </span>, <span class=\"chart-list-item__title-text\">\n",
       " <a href=\"/music/mustard\">\n",
       " Mustard\n",
       " </a>\n",
       " </span>, <span class=\"chart-list-item__title-text\">\n",
       " <a href=\"/music/niall-horan\">\n",
       " Niall Horan\n",
       " </a>\n",
       " </span>, <span class=\"chart-list-item__title-text\">\n",
       " <a href=\"/music/lauren-daigle\">\n",
       " Lauren Daigle\n",
       " </a>\n",
       " </span>, <span class=\"chart-list-item__title-text\">\n",
       " <a href=\"/music/justin-timberlake\">\n",
       " Justin Timberlake\n",
       " </a>\n",
       " </span>, <span class=\"chart-list-item__title-text\">\n",
       " <a href=\"/music/exo\">\n",
       " EXO\n",
       " </a>\n",
       " </span>, <span class=\"chart-list-item__title-text\">\n",
       " <a href=\"/music/xxxtentacion\">\n",
       " XXXTENTACION\n",
       " </a>\n",
       " </span>, <span class=\"chart-list-item__title-text\">\n",
       " <a href=\"/music/nle-choppa\">\n",
       " NLE Choppa\n",
       " </a>\n",
       " </span>, <span class=\"chart-list-item__title-text\">\n",
       " <a href=\"/music/ingrid-andress\">\n",
       " Ingrid Andress\n",
       " </a>\n",
       " </span>, <span class=\"chart-list-item__title-text\">\n",
       " <a href=\"/music/lil-nas-x\">\n",
       " Lil Nas X\n",
       " </a>\n",
       " </span>, <span class=\"chart-list-item__title-text\">\n",
       " <a href=\"/music/fleetwood-mac\">\n",
       " Fleetwood Mac\n",
       " </a>\n",
       " </span>, <span class=\"chart-list-item__title-text\">\n",
       " <a href=\"/music/a-boogie-wit-da-hoodie\">\n",
       " A Boogie Wit da Hoodie\n",
       " </a>\n",
       " </span>, <span class=\"chart-list-item__title-text\">\n",
       " <a href=\"/music/ynw-melly\">\n",
       " YNW Melly\n",
       " </a>\n",
       " </span>, <span class=\"chart-list-item__title-text\">\n",
       " <a href=\"/music/pnk\">\n",
       " P!nk\n",
       " </a>\n",
       " </span>, <span class=\"chart-list-item__title-text\">\n",
       " SHAED\n",
       " </span>, <span class=\"chart-list-item__title-text\">\n",
       " SAINt JHN\n",
       " </span>, <span class=\"chart-list-item__title-text\">\n",
       " <a href=\"/music/chris-stapleton\">\n",
       " Chris Stapleton\n",
       " </a>\n",
       " </span>, <span class=\"chart-list-item__title-text\">\n",
       " <a href=\"/music/jon-pardi\">\n",
       " Jon Pardi\n",
       " </a>\n",
       " </span>, <span class=\"chart-list-item__title-text\">\n",
       " <a href=\"/music/lee-brice\">\n",
       " Lee Brice\n",
       " </a>\n",
       " </span>, <span class=\"chart-list-item__title-text\">\n",
       " <a href=\"/music/elton-john\">\n",
       " Elton John\n",
       " </a>\n",
       " </span>, <span class=\"chart-list-item__title-text\">\n",
       " <a href=\"/music/dustin-lynch\">\n",
       " Dustin Lynch\n",
       " </a>\n",
       " </span>]"
      ]
     },
     "execution_count": 54,
     "metadata": {},
     "output_type": "execute_result"
    }
   ],
   "source": [
    "tags"
   ]
  },
  {
   "cell_type": "code",
   "execution_count": 55,
   "metadata": {},
   "outputs": [
    {
     "data": {
      "text/plain": [
       "<span class=\"chart-list-item__title-text\">\n",
       "<a href=\"/music/the-weeknd\">\n",
       "The Weeknd\n",
       "</a>\n",
       "</span>"
      ]
     },
     "execution_count": 55,
     "metadata": {},
     "output_type": "execute_result"
    }
   ],
   "source": [
    "tags[0]"
   ]
  },
  {
   "cell_type": "code",
   "execution_count": 56,
   "metadata": {},
   "outputs": [
    {
     "data": {
      "text/plain": [
       "'\\n\\nThe Weeknd\\n\\n'"
      ]
     },
     "execution_count": 56,
     "metadata": {},
     "output_type": "execute_result"
    }
   ],
   "source": [
    "tags[0].text"
   ]
  },
  {
   "cell_type": "code",
   "execution_count": 58,
   "metadata": {},
   "outputs": [
    {
     "data": {
      "text/plain": [
       "'The Weeknd'"
      ]
     },
     "execution_count": 58,
     "metadata": {},
     "output_type": "execute_result"
    }
   ],
   "source": [
    "tags[0].text[2:-2]"
   ]
  },
  {
   "cell_type": "code",
   "execution_count": 61,
   "metadata": {},
   "outputs": [
    {
     "data": {
      "text/plain": [
       "0          The Weeknd\n",
       "1        Lil Uzi Vert\n",
       "2        Kenny Rogers\n",
       "3         Post Malone\n",
       "4          Conan Gray\n",
       "           ...       \n",
       "95    Chris Stapleton\n",
       "96          Jon Pardi\n",
       "97          Lee Brice\n",
       "98         Elton John\n",
       "99       Dustin Lynch\n",
       "Length: 100, dtype: object"
      ]
     },
     "execution_count": 61,
     "metadata": {},
     "output_type": "execute_result"
    }
   ],
   "source": [
    "# 문제를 찾았으니 약간의 수정을 거쳐 방금 Series를 생성한 코드를 재활용\n",
    "artists = pd.Series([])\n",
    "for i in range(len(tags)):\n",
    "    artist = soup.select('div.chart-list-item__title>span')[i].text[2:-2]\n",
    "    artists[i] = artist\n",
    "artists"
   ]
  },
  {
   "cell_type": "code",
   "execution_count": 64,
   "metadata": {},
   "outputs": [
    {
     "data": {
      "text/plain": [
       "1           The Weeknd\n",
       "2         Lil Uzi Vert\n",
       "3         Kenny Rogers\n",
       "4          Post Malone\n",
       "5           Conan Gray\n",
       "            ...       \n",
       "96     Chris Stapleton\n",
       "97           Jon Pardi\n",
       "98           Lee Brice\n",
       "99          Elton John\n",
       "100       Dustin Lynch\n",
       "Length: 100, dtype: object"
      ]
     },
     "execution_count": 64,
     "metadata": {},
     "output_type": "execute_result"
    }
   ],
   "source": [
    "# 이왕이면 사이트의 순위와 인덱스를 똑같게 수정\n",
    "artists.index=range(1,101)\n",
    "artists"
   ]
  },
  {
   "cell_type": "markdown",
   "metadata": {},
   "source": [
    "## 이번에는 핫 100 곡들"
   ]
  },
  {
   "cell_type": "code",
   "execution_count": 4,
   "metadata": {},
   "outputs": [],
   "source": [
    "url = 'https://www.billboard.com/charts/hot-100'\n",
    "# 현재 크롤링을 위한 창은 닫혀있음"
   ]
  },
  {
   "cell_type": "code",
   "execution_count": 5,
   "metadata": {},
   "outputs": [],
   "source": [
    "driver = webdriver.Chrome('C:/Users/hp/Desktop/최영조/chromedriver.exe')\n",
    "driver.get(url)"
   ]
  },
  {
   "cell_type": "markdown",
   "metadata": {},
   "source": [
    "### 현재 1위 곡은 The Weeknd의 Blinding Lights, 2위 곡은 Roddy Ricch의 The Box"
   ]
  },
  {
   "cell_type": "code",
   "execution_count": 6,
   "metadata": {},
   "outputs": [],
   "source": [
    "html = driver.page_source"
   ]
  },
  {
   "cell_type": "code",
   "execution_count": 7,
   "metadata": {},
   "outputs": [],
   "source": [
    "soup = BeautifulSoup(html,'html.parser')"
   ]
  },
  {
   "cell_type": "code",
   "execution_count": 8,
   "metadata": {},
   "outputs": [
    {
     "data": {
      "text/plain": [
       "100"
      ]
     },
     "execution_count": 8,
     "metadata": {},
     "output_type": "execute_result"
    }
   ],
   "source": [
    "len(soup.select('span.chart-element__information'))"
   ]
  },
  {
   "cell_type": "code",
   "execution_count": 9,
   "metadata": {},
   "outputs": [
    {
     "data": {
      "text/plain": [
       "[<span class=\"chart-element__information\"><span class=\"chart-element__information__song text--truncate color--primary\">Blinding Lights</span><span class=\"chart-element__information__artist text--truncate color--secondary\">The Weeknd</span><span class=\"chart-element__information__delta color--secondary\"><span class=\"chart-element__information__delta__text text--default\">+1</span><span class=\"chart-element__information__delta__text text--last\">2 Last Week</span><span class=\"chart-element__information__delta__text text--peak\">1 Peak Rank</span><span class=\"chart-element__information__delta__text text--week\">17 Weeks on Chart</span></span></span>,\n",
       " <span class=\"chart-element__information\"><span class=\"chart-element__information__song text--truncate color--primary\">The Box</span><span class=\"chart-element__information__artist text--truncate color--secondary\">Roddy Ricch</span><span class=\"chart-element__information__delta color--secondary\"><span class=\"chart-element__information__delta__text text--default\">-1</span><span class=\"chart-element__information__delta__text text--last\">1 Last Week</span><span class=\"chart-element__information__delta__text text--peak\">1 Peak Rank</span><span class=\"chart-element__information__delta__text text--week\">16 Weeks on Chart</span></span></span>,\n",
       " <span class=\"chart-element__information\"><span class=\"chart-element__information__song text--truncate color--primary\">Don't Start Now</span><span class=\"chart-element__information__artist text--truncate color--secondary\">Dua Lipa</span><span class=\"chart-element__information__delta color--secondary\"><span class=\"chart-element__information__delta__text text--default\">-</span><span class=\"chart-element__information__delta__text text--last\">3 Last Week</span><span class=\"chart-element__information__delta__text text--peak\">2 Peak Rank</span><span class=\"chart-element__information__delta__text text--week\">21 Weeks on Chart</span></span></span>,\n",
       " <span class=\"chart-element__information\"><span class=\"chart-element__information__song text--truncate color--primary\">Heartless</span><span class=\"chart-element__information__artist text--truncate color--secondary\">The Weeknd</span><span class=\"chart-element__information__delta color--secondary\"><span class=\"chart-element__information__delta__text text--default\">+12</span><span class=\"chart-element__information__delta__text text--last\">16 Last Week</span><span class=\"chart-element__information__delta__text text--peak\">1 Peak Rank</span><span class=\"chart-element__information__delta__text text--week\">18 Weeks on Chart</span></span></span>,\n",
       " <span class=\"chart-element__information\"><span class=\"chart-element__information__song text--truncate color--primary\">Circles</span><span class=\"chart-element__information__artist text--truncate color--secondary\">Post Malone</span><span class=\"chart-element__information__delta color--secondary\"><span class=\"chart-element__information__delta__text text--default\">-</span><span class=\"chart-element__information__delta__text text--last\">5 Last Week</span><span class=\"chart-element__information__delta__text text--peak\">1 Peak Rank</span><span class=\"chart-element__information__delta__text text--week\">30 Weeks on Chart</span></span></span>,\n",
       " <span class=\"chart-element__information\"><span class=\"chart-element__information__song text--truncate color--primary\">Life Is Good</span><span class=\"chart-element__information__artist text--truncate color--secondary\">Future Featuring Drake</span><span class=\"chart-element__information__delta color--secondary\"><span class=\"chart-element__information__delta__text text--default\">-2</span><span class=\"chart-element__information__delta__text text--last\">4 Last Week</span><span class=\"chart-element__information__delta__text text--peak\">2 Peak Rank</span><span class=\"chart-element__information__delta__text text--week\">11 Weeks on Chart</span></span></span>,\n",
       " <span class=\"chart-element__information\"><span class=\"chart-element__information__song text--truncate color--primary\">Adore You</span><span class=\"chart-element__information__artist text--truncate color--secondary\">Harry Styles</span><span class=\"chart-element__information__delta color--secondary\"><span class=\"chart-element__information__delta__text text--default\">-</span><span class=\"chart-element__information__delta__text text--last\">7 Last Week</span><span class=\"chart-element__information__delta__text text--peak\">7 Peak Rank</span><span class=\"chart-element__information__delta__text text--week\">16 Weeks on Chart</span></span></span>,\n",
       " <span class=\"chart-element__information\"><span class=\"chart-element__information__song text--truncate color--primary\">Intentions</span><span class=\"chart-element__information__artist text--truncate color--secondary\">Justin Bieber Featuring Quavo</span><span class=\"chart-element__information__delta color--secondary\"><span class=\"chart-element__information__delta__text text--default\">-</span><span class=\"chart-element__information__delta__text text--last\">8 Last Week</span><span class=\"chart-element__information__delta__text text--peak\">8 Peak Rank</span><span class=\"chart-element__information__delta__text text--week\">7 Weeks on Chart</span></span></span>,\n",
       " <span class=\"chart-element__information\"><span class=\"chart-element__information__song text--truncate color--primary\">Say So</span><span class=\"chart-element__information__artist text--truncate color--secondary\">Doja Cat</span><span class=\"chart-element__information__delta color--secondary\"><span class=\"chart-element__information__delta__text text--default\">+5</span><span class=\"chart-element__information__delta__text text--last\">14 Last Week</span><span class=\"chart-element__information__delta__text text--peak\">9 Peak Rank</span><span class=\"chart-element__information__delta__text text--week\">12 Weeks on Chart</span></span></span>,\n",
       " <span class=\"chart-element__information\"><span class=\"chart-element__information__song text--truncate color--primary\">Roxanne</span><span class=\"chart-element__information__artist text--truncate color--secondary\">Arizona Zervas</span><span class=\"chart-element__information__delta color--secondary\"><span class=\"chart-element__information__delta__text text--default\">-4</span><span class=\"chart-element__information__delta__text text--last\">6 Last Week</span><span class=\"chart-element__information__delta__text text--peak\">4 Peak Rank</span><span class=\"chart-element__information__delta__text text--week\">21 Weeks on Chart</span></span></span>,\n",
       " <span class=\"chart-element__information\"><span class=\"chart-element__information__song text--truncate color--primary\">Someone You Loved</span><span class=\"chart-element__information__artist text--truncate color--secondary\">Lewis Capaldi</span><span class=\"chart-element__information__delta color--secondary\"><span class=\"chart-element__information__delta__text text--default\">-2</span><span class=\"chart-element__information__delta__text text--last\">9 Last Week</span><span class=\"chart-element__information__delta__text text--peak\">1 Peak Rank</span><span class=\"chart-element__information__delta__text text--week\">46 Weeks on Chart</span></span></span>,\n",
       " <span class=\"chart-element__information\"><span class=\"chart-element__information__song text--truncate color--primary\">everything i wanted</span><span class=\"chart-element__information__artist text--truncate color--secondary\">Billie Eilish</span><span class=\"chart-element__information__delta color--secondary\"><span class=\"chart-element__information__delta__text text--default\">-2</span><span class=\"chart-element__information__delta__text text--last\">10 Last Week</span><span class=\"chart-element__information__delta__text text--peak\">8 Peak Rank</span><span class=\"chart-element__information__delta__text text--week\">20 Weeks on Chart</span></span></span>,\n",
       " <span class=\"chart-element__information\"><span class=\"chart-element__information__song text--truncate color--primary\">Hot Girl Bummer</span><span class=\"chart-element__information__artist text--truncate color--secondary\">blackbear</span><span class=\"chart-element__information__delta color--secondary\"><span class=\"chart-element__information__delta__text text--default\">-2</span><span class=\"chart-element__information__delta__text text--last\">11 Last Week</span><span class=\"chart-element__information__delta__text text--peak\">11 Peak Rank</span><span class=\"chart-element__information__delta__text text--week\">28 Weeks on Chart</span></span></span>,\n",
       " <span class=\"chart-element__information\"><span class=\"chart-element__information__song text--truncate color--primary\">Memories</span><span class=\"chart-element__information__artist text--truncate color--secondary\">Maroon 5</span><span class=\"chart-element__information__delta color--secondary\"><span class=\"chart-element__information__delta__text text--default\">-2</span><span class=\"chart-element__information__delta__text text--last\">12 Last Week</span><span class=\"chart-element__information__delta__text text--peak\">2 Peak Rank</span><span class=\"chart-element__information__delta__text text--week\">27 Weeks on Chart</span></span></span>,\n",
       " <span class=\"chart-element__information\"><span class=\"chart-element__information__song text--truncate color--primary\">Dance Monkey</span><span class=\"chart-element__information__artist text--truncate color--secondary\">Tones And I</span><span class=\"chart-element__information__delta color--secondary\"><span class=\"chart-element__information__delta__text text--default\">-</span><span class=\"chart-element__information__delta__text text--last\">15 Last Week</span><span class=\"chart-element__information__delta__text text--peak\">4 Peak Rank</span><span class=\"chart-element__information__delta__text text--week\">25 Weeks on Chart</span></span></span>,\n",
       " <span class=\"chart-element__information\"><span class=\"chart-element__information__song text--truncate color--primary\">In Your Eyes</span><span class=\"chart-element__information__artist text--truncate color--secondary\">The Weeknd</span><span class=\"chart-element__information__delta color--secondary\"><span class=\"chart-element__information__delta__text text--default\">-</span><span class=\"chart-element__information__delta__text text--last\">- Last Week</span><span class=\"chart-element__information__delta__text text--peak\">16 Peak Rank</span><span class=\"chart-element__information__delta__text text--week\">1 Weeks on Chart</span></span></span>,\n",
       " <span class=\"chart-element__information\"><span class=\"chart-element__information__song text--truncate color--primary\">The Bones</span><span class=\"chart-element__information__artist text--truncate color--secondary\">Maren Morris</span><span class=\"chart-element__information__delta color--secondary\"><span class=\"chart-element__information__delta__text text--default\">-</span><span class=\"chart-element__information__delta__text text--last\">17 Last Week</span><span class=\"chart-element__information__delta__text text--peak\">17 Peak Rank</span><span class=\"chart-element__information__delta__text text--week\">27 Weeks on Chart</span></span></span>,\n",
       " <span class=\"chart-element__information\"><span class=\"chart-element__information__song text--truncate color--primary\">My Oh My</span><span class=\"chart-element__information__artist text--truncate color--secondary\">Camila Cabello Featuring DaBaby</span><span class=\"chart-element__information__delta color--secondary\"><span class=\"chart-element__information__delta__text text--default\">-</span><span class=\"chart-element__information__delta__text text--last\">18 Last Week</span><span class=\"chart-element__information__delta__text text--peak\">18 Peak Rank</span><span class=\"chart-element__information__delta__text text--week\">16 Weeks on Chart</span></span></span>,\n",
       " <span class=\"chart-element__information\"><span class=\"chart-element__information__song text--truncate color--primary\">10,000 Hours</span><span class=\"chart-element__information__artist text--truncate color--secondary\">Dan + Shay &amp; Justin Bieber</span><span class=\"chart-element__information__delta color--secondary\"><span class=\"chart-element__information__delta__text text--default\">+3</span><span class=\"chart-element__information__delta__text text--last\">22 Last Week</span><span class=\"chart-element__information__delta__text text--peak\">4 Peak Rank</span><span class=\"chart-element__information__delta__text text--week\">25 Weeks on Chart</span></span></span>,\n",
       " <span class=\"chart-element__information\"><span class=\"chart-element__information__song text--truncate color--primary\">Savage</span><span class=\"chart-element__information__artist text--truncate color--secondary\">Megan Thee Stallion</span><span class=\"chart-element__information__delta color--secondary\"><span class=\"chart-element__information__delta__text text--default\">+78</span><span class=\"chart-element__information__delta__text text--last\">98 Last Week</span><span class=\"chart-element__information__delta__text text--peak\">20 Peak Rank</span><span class=\"chart-element__information__delta__text text--week\">2 Weeks on Chart</span></span></span>,\n",
       " <span class=\"chart-element__information\"><span class=\"chart-element__information__song text--truncate color--primary\">Alone Again</span><span class=\"chart-element__information__artist text--truncate color--secondary\">The Weeknd</span><span class=\"chart-element__information__delta color--secondary\"><span class=\"chart-element__information__delta__text text--default\">-</span><span class=\"chart-element__information__delta__text text--last\">- Last Week</span><span class=\"chart-element__information__delta__text text--peak\">21 Peak Rank</span><span class=\"chart-element__information__delta__text text--week\">1 Weeks on Chart</span></span></span>,\n",
       " <span class=\"chart-element__information\"><span class=\"chart-element__information__song text--truncate color--primary\">After Hours</span><span class=\"chart-element__information__artist text--truncate color--secondary\">The Weeknd</span><span class=\"chart-element__information__delta color--secondary\"><span class=\"chart-element__information__delta__text text--default\">-</span><span class=\"chart-element__information__delta__text text--last\">- Last Week</span><span class=\"chart-element__information__delta__text text--peak\">20 Peak Rank</span><span class=\"chart-element__information__delta__text text--week\">5 Weeks on Chart</span></span></span>,\n",
       " <span class=\"chart-element__information\"><span class=\"chart-element__information__song text--truncate color--primary\">Ballin'</span><span class=\"chart-element__information__artist text--truncate color--secondary\">Mustard &amp; Roddy Ricch</span><span class=\"chart-element__information__delta color--secondary\"><span class=\"chart-element__information__delta__text text--default\">-2</span><span class=\"chart-element__information__delta__text text--last\">21 Last Week</span><span class=\"chart-element__information__delta__text text--peak\">11 Peak Rank</span><span class=\"chart-element__information__delta__text text--week\">36 Weeks on Chart</span></span></span>,\n",
       " <span class=\"chart-element__information\"><span class=\"chart-element__information__song text--truncate color--primary\">Scared To Live</span><span class=\"chart-element__information__artist text--truncate color--secondary\">The Weeknd</span><span class=\"chart-element__information__delta color--secondary\"><span class=\"chart-element__information__delta__text text--default\">-</span><span class=\"chart-element__information__delta__text text--last\">- Last Week</span><span class=\"chart-element__information__delta__text text--peak\">24 Peak Rank</span><span class=\"chart-element__information__delta__text text--week\">1 Weeks on Chart</span></span></span>,\n",
       " <span class=\"chart-element__information\"><span class=\"chart-element__information__song text--truncate color--primary\">Hardest To Love</span><span class=\"chart-element__information__artist text--truncate color--secondary\">The Weeknd</span><span class=\"chart-element__information__delta color--secondary\"><span class=\"chart-element__information__delta__text text--default\">-</span><span class=\"chart-element__information__delta__text text--last\">- Last Week</span><span class=\"chart-element__information__delta__text text--peak\">25 Peak Rank</span><span class=\"chart-element__information__delta__text text--week\">1 Weeks on Chart</span></span></span>,\n",
       " <span class=\"chart-element__information\"><span class=\"chart-element__information__song text--truncate color--primary\">RITMO (Bad Boys For Life)</span><span class=\"chart-element__information__artist text--truncate color--secondary\">The Black Eyed Peas X J Balvin</span><span class=\"chart-element__information__delta color--secondary\"><span class=\"chart-element__information__delta__text text--default\">+4</span><span class=\"chart-element__information__delta__text text--last\">30 Last Week</span><span class=\"chart-element__information__delta__text text--peak\">26 Peak Rank</span><span class=\"chart-element__information__delta__text text--week\">18 Weeks on Chart</span></span></span>,\n",
       " <span class=\"chart-element__information\"><span class=\"chart-element__information__song text--truncate color--primary\">Stupid Love</span><span class=\"chart-element__information__artist text--truncate color--secondary\">Lady Gaga</span><span class=\"chart-element__information__delta color--secondary\"><span class=\"chart-element__information__delta__text text--default\">-2</span><span class=\"chart-element__information__delta__text text--last\">25 Last Week</span><span class=\"chart-element__information__delta__text text--peak\">5 Peak Rank</span><span class=\"chart-element__information__delta__text text--week\">4 Weeks on Chart</span></span></span>,\n",
       " <span class=\"chart-element__information\"><span class=\"chart-element__information__song text--truncate color--primary\">Too Late</span><span class=\"chart-element__information__artist text--truncate color--secondary\">The Weeknd</span><span class=\"chart-element__information__delta color--secondary\"><span class=\"chart-element__information__delta__text text--default\">-</span><span class=\"chart-element__information__delta__text text--last\">- Last Week</span><span class=\"chart-element__information__delta__text text--peak\">28 Peak Rank</span><span class=\"chart-element__information__delta__text text--week\">1 Weeks on Chart</span></span></span>,\n",
       " <span class=\"chart-element__information\"><span class=\"chart-element__information__song text--truncate color--primary\">Falling</span><span class=\"chart-element__information__artist text--truncate color--secondary\">Trevor Daniel</span><span class=\"chart-element__information__delta color--secondary\"><span class=\"chart-element__information__delta__text text--default\">-</span><span class=\"chart-element__information__delta__text text--last\">29 Last Week</span><span class=\"chart-element__information__delta__text text--peak\">25 Peak Rank</span><span class=\"chart-element__information__delta__text text--week\">19 Weeks on Chart</span></span></span>,\n",
       " <span class=\"chart-element__information\"><span class=\"chart-element__information__song text--truncate color--primary\">I Hope</span><span class=\"chart-element__information__artist text--truncate color--secondary\">Gabby Barrett</span><span class=\"chart-element__information__delta color--secondary\"><span class=\"chart-element__information__delta__text text--default\">+6</span><span class=\"chart-element__information__delta__text text--last\">36 Last Week</span><span class=\"chart-element__information__delta__text text--peak\">30 Peak Rank</span><span class=\"chart-element__information__delta__text text--week\">13 Weeks on Chart</span></span></span>,\n",
       " <span class=\"chart-element__information\"><span class=\"chart-element__information__song text--truncate color--primary\">BOP</span><span class=\"chart-element__information__artist text--truncate color--secondary\">DaBaby</span><span class=\"chart-element__information__delta color--secondary\"><span class=\"chart-element__information__delta__text text--default\">-7</span><span class=\"chart-element__information__delta__text text--last\">24 Last Week</span><span class=\"chart-element__information__delta__text text--peak\">11 Peak Rank</span><span class=\"chart-element__information__delta__text text--week\">26 Weeks on Chart</span></span></span>,\n",
       " <span class=\"chart-element__information\"><span class=\"chart-element__information__song text--truncate color--primary\">Snowchild</span><span class=\"chart-element__information__artist text--truncate color--secondary\">The Weeknd</span><span class=\"chart-element__information__delta color--secondary\"><span class=\"chart-element__information__delta__text text--default\">-</span><span class=\"chart-element__information__delta__text text--last\">- Last Week</span><span class=\"chart-element__information__delta__text text--peak\">32 Peak Rank</span><span class=\"chart-element__information__delta__text text--week\">1 Weeks on Chart</span></span></span>,\n",
       " <span class=\"chart-element__information\"><span class=\"chart-element__information__song text--truncate color--primary\">You should be sad</span><span class=\"chart-element__information__artist text--truncate color--secondary\">Halsey</span><span class=\"chart-element__information__delta color--secondary\"><span class=\"chart-element__information__delta__text text--default\">+1</span><span class=\"chart-element__information__delta__text text--last\">34 Last Week</span><span class=\"chart-element__information__delta__text text--peak\">26 Peak Rank</span><span class=\"chart-element__information__delta__text text--week\">11 Weeks on Chart</span></span></span>,\n",
       " <span class=\"chart-element__information\"><span class=\"chart-element__information__song text--truncate color--primary\">No Guidance</span><span class=\"chart-element__information__artist text--truncate color--secondary\">Chris Brown Featuring Drake</span><span class=\"chart-element__information__delta color--secondary\"><span class=\"chart-element__information__delta__text text--default\">-2</span><span class=\"chart-element__information__delta__text text--last\">32 Last Week</span><span class=\"chart-element__information__delta__text text--peak\">5 Peak Rank</span><span class=\"chart-element__information__delta__text text--week\">42 Weeks on Chart</span></span></span>,\n",
       " <span class=\"chart-element__information\"><span class=\"chart-element__information__song text--truncate color--primary\">Suicidal</span><span class=\"chart-element__information__artist text--truncate color--secondary\">YNW Melly &amp; Juice WRLD</span><span class=\"chart-element__information__delta color--secondary\"><span class=\"chart-element__information__delta__text text--default\">-15</span><span class=\"chart-element__information__delta__text text--last\">20 Last Week</span><span class=\"chart-element__information__delta__text text--peak\">20 Peak Rank</span><span class=\"chart-element__information__delta__text text--week\">17 Weeks on Chart</span></span></span>,\n",
       " <span class=\"chart-element__information\"><span class=\"chart-element__information__song text--truncate color--primary\">High Fashion</span><span class=\"chart-element__information__artist text--truncate color--secondary\">Roddy Ricch Featuring Mustard</span><span class=\"chart-element__information__delta color--secondary\"><span class=\"chart-element__information__delta__text text--default\">-3</span><span class=\"chart-element__information__delta__text text--last\">33 Last Week</span><span class=\"chart-element__information__delta__text text--peak\">20 Peak Rank</span><span class=\"chart-element__information__delta__text text--week\">13 Weeks on Chart</span></span></span>,\n",
       " <span class=\"chart-element__information\"><span class=\"chart-element__information__song text--truncate color--primary\">Blueberry Faygo</span><span class=\"chart-element__information__artist text--truncate color--secondary\">Lil Mosey</span><span class=\"chart-element__information__delta color--secondary\"><span class=\"chart-element__information__delta__text text--default\">+1</span><span class=\"chart-element__information__delta__text text--last\">38 Last Week</span><span class=\"chart-element__information__delta__text text--peak\">37 Peak Rank</span><span class=\"chart-element__information__delta__text text--week\">7 Weeks on Chart</span></span></span>,\n",
       " <span class=\"chart-element__information\"><span class=\"chart-element__information__song text--truncate color--primary\">Godzilla</span><span class=\"chart-element__information__artist text--truncate color--secondary\">Eminem Featuring Juice WRLD</span><span class=\"chart-element__information__delta color--secondary\"><span class=\"chart-element__information__delta__text text--default\">-15</span><span class=\"chart-element__information__delta__text text--last\">23 Last Week</span><span class=\"chart-element__information__delta__text text--peak\">3 Peak Rank</span><span class=\"chart-element__information__delta__text text--week\">10 Weeks on Chart</span></span></span>,\n",
       " <span class=\"chart-element__information\"><span class=\"chart-element__information__song text--truncate color--primary\">Escape From LA</span><span class=\"chart-element__information__artist text--truncate color--secondary\">The Weeknd</span><span class=\"chart-element__information__delta color--secondary\"><span class=\"chart-element__information__delta__text text--default\">-</span><span class=\"chart-element__information__delta__text text--last\">- Last Week</span><span class=\"chart-element__information__delta__text text--peak\">39 Peak Rank</span><span class=\"chart-element__information__delta__text text--week\">1 Weeks on Chart</span></span></span>,\n",
       " <span class=\"chart-element__information\"><span class=\"chart-element__information__song text--truncate color--primary\">Homesick</span><span class=\"chart-element__information__artist text--truncate color--secondary\">Kane Brown</span><span class=\"chart-element__information__delta color--secondary\"><span class=\"chart-element__information__delta__text text--default\">-5</span><span class=\"chart-element__information__delta__text text--last\">35 Last Week</span><span class=\"chart-element__information__delta__text text--peak\">35 Peak Rank</span><span class=\"chart-element__information__delta__text text--week\">19 Weeks on Chart</span></span></span>,\n",
       " <span class=\"chart-element__information\"><span class=\"chart-element__information__song text--truncate color--primary\">Save Your Tears</span><span class=\"chart-element__information__artist text--truncate color--secondary\">The Weeknd</span><span class=\"chart-element__information__delta color--secondary\"><span class=\"chart-element__information__delta__text text--default\">-</span><span class=\"chart-element__information__delta__text text--last\">- Last Week</span><span class=\"chart-element__information__delta__text text--peak\">41 Peak Rank</span><span class=\"chart-element__information__delta__text text--week\">1 Weeks on Chart</span></span></span>,\n",
       " <span class=\"chart-element__information\"><span class=\"chart-element__information__song text--truncate color--primary\">Woah</span><span class=\"chart-element__information__artist text--truncate color--secondary\">Lil Baby</span><span class=\"chart-element__information__delta color--secondary\"><span class=\"chart-element__information__delta__text text--default\">-14</span><span class=\"chart-element__information__delta__text text--last\">28 Last Week</span><span class=\"chart-element__information__delta__text text--peak\">15 Peak Rank</span><span class=\"chart-element__information__delta__text text--week\">20 Weeks on Chart</span></span></span>,\n",
       " <span class=\"chart-element__information\"><span class=\"chart-element__information__song text--truncate color--primary\">Heart On Ice</span><span class=\"chart-element__information__artist text--truncate color--secondary\">Rod Wave</span><span class=\"chart-element__information__delta color--secondary\"><span class=\"chart-element__information__delta__text text--default\">-3</span><span class=\"chart-element__information__delta__text text--last\">40 Last Week</span><span class=\"chart-element__information__delta__text text--peak\">40 Peak Rank</span><span class=\"chart-element__information__delta__text text--week\">20 Weeks on Chart</span></span></span>,\n",
       " <span class=\"chart-element__information\"><span class=\"chart-element__information__song text--truncate color--primary\">Nobody But You</span><span class=\"chart-element__information__artist text--truncate color--secondary\">Blake Shelton Duet With Gwen Stefani</span><span class=\"chart-element__information__delta color--secondary\"><span class=\"chart-element__information__delta__text text--default\">+9</span><span class=\"chart-element__information__delta__text text--last\">53 Last Week</span><span class=\"chart-element__information__delta__text text--peak\">43 Peak Rank</span><span class=\"chart-element__information__delta__text text--week\">11 Weeks on Chart</span></span></span>,\n",
       " <span class=\"chart-element__information\"><span class=\"chart-element__information__song text--truncate color--primary\">Faith</span><span class=\"chart-element__information__artist text--truncate color--secondary\">The Weeknd</span><span class=\"chart-element__information__delta color--secondary\"><span class=\"chart-element__information__delta__text text--default\">-</span><span class=\"chart-element__information__delta__text text--last\">- Last Week</span><span class=\"chart-element__information__delta__text text--peak\">45 Peak Rank</span><span class=\"chart-element__information__delta__text text--week\">1 Weeks on Chart</span></span></span>,\n",
       " <span class=\"chart-element__information\"><span class=\"chart-element__information__song text--truncate color--primary\">What She Wants Tonight</span><span class=\"chart-element__information__artist text--truncate color--secondary\">Luke Bryan</span><span class=\"chart-element__information__delta color--secondary\"><span class=\"chart-element__information__delta__text text--default\">+3</span><span class=\"chart-element__information__delta__text text--last\">49 Last Week</span><span class=\"chart-element__information__delta__text text--peak\">46 Peak Rank</span><span class=\"chart-element__information__delta__text text--week\">14 Weeks on Chart</span></span></span>,\n",
       " <span class=\"chart-element__information\"><span class=\"chart-element__information__song text--truncate color--primary\">Lose You To Love Me</span><span class=\"chart-element__information__artist text--truncate color--secondary\">Selena Gomez</span><span class=\"chart-element__information__delta color--secondary\"><span class=\"chart-element__information__delta__text text--default\">-16</span><span class=\"chart-element__information__delta__text text--last\">31 Last Week</span><span class=\"chart-element__information__delta__text text--peak\">1 Peak Rank</span><span class=\"chart-element__information__delta__text text--week\">23 Weeks on Chart</span></span></span>,\n",
       " <span class=\"chart-element__information\"><span class=\"chart-element__information__song text--truncate color--primary\">I Love Me</span><span class=\"chart-element__information__artist text--truncate color--secondary\">Demi Lovato</span><span class=\"chart-element__information__delta color--secondary\"><span class=\"chart-element__information__delta__text text--default\">-5</span><span class=\"chart-element__information__delta__text text--last\">43 Last Week</span><span class=\"chart-element__information__delta__text text--peak\">18 Peak Rank</span><span class=\"chart-element__information__delta__text text--week\">3 Weeks on Chart</span></span></span>,\n",
       " <span class=\"chart-element__information\"><span class=\"chart-element__information__song text--truncate color--primary\">Slow Dance In A Parking Lot</span><span class=\"chart-element__information__artist text--truncate color--secondary\">Jordan Davis</span><span class=\"chart-element__information__delta color--secondary\"><span class=\"chart-element__information__delta__text text--default\">+10</span><span class=\"chart-element__information__delta__text text--last\">59 Last Week</span><span class=\"chart-element__information__delta__text text--peak\">49 Peak Rank</span><span class=\"chart-element__information__delta__text text--week\">12 Weeks on Chart</span></span></span>,\n",
       " <span class=\"chart-element__information\"><span class=\"chart-element__information__song text--truncate color--primary\">Homemade</span><span class=\"chart-element__information__artist text--truncate color--secondary\">Jake Owen</span><span class=\"chart-element__information__delta color--secondary\"><span class=\"chart-element__information__delta__text text--default\">-11</span><span class=\"chart-element__information__delta__text text--last\">39 Last Week</span><span class=\"chart-element__information__delta__text text--peak\">39 Peak Rank</span><span class=\"chart-element__information__delta__text text--week\">9 Weeks on Chart</span></span></span>,\n",
       " <span class=\"chart-element__information\"><span class=\"chart-element__information__song text--truncate color--primary\">Slide</span><span class=\"chart-element__information__artist text--truncate color--secondary\">H.E.R. Featuring YG</span><span class=\"chart-element__information__delta color--secondary\"><span class=\"chart-element__information__delta__text text--default\">-4</span><span class=\"chart-element__information__delta__text text--last\">47 Last Week</span><span class=\"chart-element__information__delta__text text--peak\">47 Peak Rank</span><span class=\"chart-element__information__delta__text text--week\">14 Weeks on Chart</span></span></span>,\n",
       " <span class=\"chart-element__information\"><span class=\"chart-element__information__song text--truncate color--primary\">BEST ON EARTH</span><span class=\"chart-element__information__artist text--truncate color--secondary\">Russ &amp; BIA</span><span class=\"chart-element__information__delta color--secondary\"><span class=\"chart-element__information__delta__text text--default\">-6</span><span class=\"chart-element__information__delta__text text--last\">46 Last Week</span><span class=\"chart-element__information__delta__text text--peak\">46 Peak Rank</span><span class=\"chart-element__information__delta__text text--week\">16 Weeks on Chart</span></span></span>,\n",
       " <span class=\"chart-element__information\"><span class=\"chart-element__information__song text--truncate color--primary\">Chasin' You</span><span class=\"chart-element__information__artist text--truncate color--secondary\">Morgan Wallen</span><span class=\"chart-element__information__delta color--secondary\"><span class=\"chart-element__information__delta__text text--default\">+5</span><span class=\"chart-element__information__delta__text text--last\">58 Last Week</span><span class=\"chart-element__information__delta__text text--peak\">53 Peak Rank</span><span class=\"chart-element__information__delta__text text--week\">9 Weeks on Chart</span></span></span>,\n",
       " <span class=\"chart-element__information\"><span class=\"chart-element__information__song text--truncate color--primary\">Myron</span><span class=\"chart-element__information__artist text--truncate color--secondary\">Lil Uzi Vert</span><span class=\"chart-element__information__delta color--secondary\"><span class=\"chart-element__information__delta__text text--default\">-41</span><span class=\"chart-element__information__delta__text text--last\">13 Last Week</span><span class=\"chart-element__information__delta__text text--peak\">13 Peak Rank</span><span class=\"chart-element__information__delta__text text--week\">2 Weeks on Chart</span></span></span>,\n",
       " <span class=\"chart-element__information\"><span class=\"chart-element__information__song text--truncate color--primary\">Roses (Imanbek Remix)</span><span class=\"chart-element__information__artist text--truncate color--secondary\">SAINt JHN</span><span class=\"chart-element__information__delta color--secondary\"><span class=\"chart-element__information__delta__text text--default\">-</span><span class=\"chart-element__information__delta__text text--last\">- Last Week</span><span class=\"chart-element__information__delta__text text--peak\">55 Peak Rank</span><span class=\"chart-element__information__delta__text text--week\">1 Weeks on Chart</span></span></span>,\n",
       " <span class=\"chart-element__information\"><span class=\"chart-element__information__song text--truncate color--primary\">More Hearts Than Mine</span><span class=\"chart-element__information__artist text--truncate color--secondary\">Ingrid Andress</span><span class=\"chart-element__information__delta color--secondary\"><span class=\"chart-element__information__delta__text text--default\">-</span><span class=\"chart-element__information__delta__text text--last\">56 Last Week</span><span class=\"chart-element__information__delta__text text--peak\">56 Peak Rank</span><span class=\"chart-element__information__delta__text text--week\">13 Weeks on Chart</span></span></span>,\n",
       " <span class=\"chart-element__information\"><span class=\"chart-element__information__song text--truncate color--primary\">WHATS POPPIN</span><span class=\"chart-element__information__artist text--truncate color--secondary\">Jack Harlow</span><span class=\"chart-element__information__delta color--secondary\"><span class=\"chart-element__information__delta__text text--default\">-9</span><span class=\"chart-element__information__delta__text text--last\">48 Last Week</span><span class=\"chart-element__information__delta__text text--peak\">48 Peak Rank</span><span class=\"chart-element__information__delta__text text--week\">7 Weeks on Chart</span></span></span>,\n",
       " <span class=\"chart-element__information\"><span class=\"chart-element__information__song text--truncate color--primary\">Dior</span><span class=\"chart-element__information__artist text--truncate color--secondary\">Pop Smoke</span><span class=\"chart-element__information__delta color--secondary\"><span class=\"chart-element__information__delta__text text--default\">-8</span><span class=\"chart-element__information__delta__text text--last\">50 Last Week</span><span class=\"chart-element__information__delta__text text--peak\">30 Peak Rank</span><span class=\"chart-element__information__delta__text text--week\">6 Weeks on Chart</span></span></span>,\n",
       " <span class=\"chart-element__information\"><span class=\"chart-element__information__song text--truncate color--primary\">death bed</span><span class=\"chart-element__information__artist text--truncate color--secondary\">Powfu Featuring beabadoobee</span><span class=\"chart-element__information__delta color--secondary\"><span class=\"chart-element__information__delta__text text--default\">+12</span><span class=\"chart-element__information__delta__text text--last\">71 Last Week</span><span class=\"chart-element__information__delta__text text--peak\">59 Peak Rank</span><span class=\"chart-element__information__delta__text text--week\">2 Weeks on Chart</span></span></span>,\n",
       " <span class=\"chart-element__information\"><span class=\"chart-element__information__song text--truncate color--primary\">Sum 2 Prove</span><span class=\"chart-element__information__artist text--truncate color--secondary\">Lil Baby</span><span class=\"chart-element__information__delta color--secondary\"><span class=\"chart-element__information__delta__text text--default\">-9</span><span class=\"chart-element__information__delta__text text--last\">51 Last Week</span><span class=\"chart-element__information__delta__text text--peak\">16 Peak Rank</span><span class=\"chart-element__information__delta__text text--week\">11 Weeks on Chart</span></span></span>,\n",
       " <span class=\"chart-element__information\"><span class=\"chart-element__information__song text--truncate color--primary\">Catch</span><span class=\"chart-element__information__artist text--truncate color--secondary\">Brett Young</span><span class=\"chart-element__information__delta color--secondary\"><span class=\"chart-element__information__delta__text text--default\">+4</span><span class=\"chart-element__information__delta__text text--last\">65 Last Week</span><span class=\"chart-element__information__delta__text text--peak\">61 Peak Rank</span><span class=\"chart-element__information__delta__text text--week\">9 Weeks on Chart</span></span></span>,\n",
       " <span class=\"chart-element__information\"><span class=\"chart-element__information__song text--truncate color--primary\">Sunday Best</span><span class=\"chart-element__information__artist text--truncate color--secondary\">Surfaces</span><span class=\"chart-element__information__delta color--secondary\"><span class=\"chart-element__information__delta__text text--default\">+12</span><span class=\"chart-element__information__delta__text text--last\">74 Last Week</span><span class=\"chart-element__information__delta__text text--peak\">62 Peak Rank</span><span class=\"chart-element__information__delta__text text--week\">4 Weeks on Chart</span></span></span>,\n",
       " <span class=\"chart-element__information\"><span class=\"chart-element__information__song text--truncate color--primary\">Does To Me</span><span class=\"chart-element__information__artist text--truncate color--secondary\">Luke Combs Featuring Eric Church</span><span class=\"chart-element__information__delta color--secondary\"><span class=\"chart-element__information__delta__text text--default\">+23</span><span class=\"chart-element__information__delta__text text--last\">86 Last Week</span><span class=\"chart-element__information__delta__text text--peak\">63 Peak Rank</span><span class=\"chart-element__information__delta__text text--week\">2 Weeks on Chart</span></span></span>,\n",
       " <span class=\"chart-element__information\"><span class=\"chart-element__information__song text--truncate color--primary\">I Hope You're Happy Now</span><span class=\"chart-element__information__artist text--truncate color--secondary\">Carly Pearce &amp; Lee Brice</span><span class=\"chart-element__information__delta color--secondary\"><span class=\"chart-element__information__delta__text text--default\">+17</span><span class=\"chart-element__information__delta__text text--last\">81 Last Week</span><span class=\"chart-element__information__delta__text text--peak\">64 Peak Rank</span><span class=\"chart-element__information__delta__text text--week\">12 Weeks on Chart</span></span></span>,\n",
       " <span class=\"chart-element__information\"><span class=\"chart-element__information__song text--truncate color--primary\">homecoming queen?</span><span class=\"chart-element__information__artist text--truncate color--secondary\">Kelsea Ballerini</span><span class=\"chart-element__information__delta color--secondary\"><span class=\"chart-element__information__delta__text text--default\">-</span><span class=\"chart-element__information__delta__text text--last\">- Last Week</span><span class=\"chart-element__information__delta__text text--peak\">65 Peak Rank</span><span class=\"chart-element__information__delta__text text--week\">13 Weeks on Chart</span></span></span>,\n",
       " <span class=\"chart-element__information\"><span class=\"chart-element__information__song text--truncate color--primary\">Tusa</span><span class=\"chart-element__information__artist text--truncate color--secondary\">Karol G &amp; Nicki Minaj</span><span class=\"chart-element__information__delta color--secondary\"><span class=\"chart-element__information__delta__text text--default\">-2</span><span class=\"chart-element__information__delta__text text--last\">64 Last Week</span><span class=\"chart-element__information__delta__text text--peak\">42 Peak Rank</span><span class=\"chart-element__information__delta__text text--week\">17 Weeks on Chart</span></span></span>,\n",
       " <span class=\"chart-element__information\"><span class=\"chart-element__information__song text--truncate color--primary\">P*$$y Fairy (OTW)</span><span class=\"chart-element__information__artist text--truncate color--secondary\">Jhene Aiko</span><span class=\"chart-element__information__delta color--secondary\"><span class=\"chart-element__information__delta__text text--default\">-6</span><span class=\"chart-element__information__delta__text text--last\">61 Last Week</span><span class=\"chart-element__information__delta__text text--peak\">40 Peak Rank</span><span class=\"chart-element__information__delta__text text--week\">10 Weeks on Chart</span></span></span>,\n",
       " <span class=\"chart-element__information\"><span class=\"chart-element__information__song text--truncate color--primary\">Beer Can't Fix</span><span class=\"chart-element__information__artist text--truncate color--secondary\">Thomas Rhett Featuring Jon Pardi</span><span class=\"chart-element__information__delta color--secondary\"><span class=\"chart-element__information__delta__text text--default\">+23</span><span class=\"chart-element__information__delta__text text--last\">91 Last Week</span><span class=\"chart-element__information__delta__text text--peak\">68 Peak Rank</span><span class=\"chart-element__information__delta__text text--week\">2 Weeks on Chart</span></span></span>,\n",
       " <span class=\"chart-element__information\"><span class=\"chart-element__information__song text--truncate color--primary\">Repeat After Me (Interlude)</span><span class=\"chart-element__information__artist text--truncate color--secondary\">The Weeknd</span><span class=\"chart-element__information__delta color--secondary\"><span class=\"chart-element__information__delta__text text--default\">-</span><span class=\"chart-element__information__delta__text text--last\">- Last Week</span><span class=\"chart-element__information__delta__text text--peak\">69 Peak Rank</span><span class=\"chart-element__information__delta__text text--week\">1 Weeks on Chart</span></span></span>,\n",
       " <span class=\"chart-element__information\"><span class=\"chart-element__information__song text--truncate color--primary\">P2</span><span class=\"chart-element__information__artist text--truncate color--secondary\">Lil Uzi Vert</span><span class=\"chart-element__information__delta color--secondary\"><span class=\"chart-element__information__delta__text text--default\">-33</span><span class=\"chart-element__information__delta__text text--last\">37 Last Week</span><span class=\"chart-element__information__delta__text text--peak\">11 Peak Rank</span><span class=\"chart-element__information__delta__text text--week\">3 Weeks on Chart</span></span></span>,\n",
       " <span class=\"chart-element__information\"><span class=\"chart-element__information__song text--truncate color--primary\">Supalonely</span><span class=\"chart-element__information__artist text--truncate color--secondary\">BENEE Featuring Gus Dapperton</span><span class=\"chart-element__information__delta color--secondary\"><span class=\"chart-element__information__delta__text text--default\">+17</span><span class=\"chart-element__information__delta__text text--last\">88 Last Week</span><span class=\"chart-element__information__delta__text text--peak\">71 Peak Rank</span><span class=\"chart-element__information__delta__text text--week\">2 Weeks on Chart</span></span></span>,\n",
       " <span class=\"chart-element__information\"><span class=\"chart-element__information__song text--truncate color--primary\">What A Man Gotta Do</span><span class=\"chart-element__information__artist text--truncate color--secondary\">Jonas Brothers</span><span class=\"chart-element__information__delta color--secondary\"><span class=\"chart-element__information__delta__text text--default\">-9</span><span class=\"chart-element__information__delta__text text--last\">63 Last Week</span><span class=\"chart-element__information__delta__text text--peak\">16 Peak Rank</span><span class=\"chart-element__information__delta__text text--week\">10 Weeks on Chart</span></span></span>,\n",
       " <span class=\"chart-element__information\"><span class=\"chart-element__information__song text--truncate color--primary\">That Way</span><span class=\"chart-element__information__artist text--truncate color--secondary\">Lil Uzi Vert</span><span class=\"chart-element__information__delta color--secondary\"><span class=\"chart-element__information__delta__text text--default\">-32</span><span class=\"chart-element__information__delta__text text--last\">41 Last Week</span><span class=\"chart-element__information__delta__text text--peak\">20 Peak Rank</span><span class=\"chart-element__information__delta__text text--week\">4 Weeks on Chart</span></span></span>,\n",
       " <span class=\"chart-element__information\"><span class=\"chart-element__information__song text--truncate color--primary\">Baby Pluto</span><span class=\"chart-element__information__artist text--truncate color--secondary\">Lil Uzi Vert</span><span class=\"chart-element__information__delta color--secondary\"><span class=\"chart-element__information__delta__text text--default\">-47</span><span class=\"chart-element__information__delta__text text--last\">27 Last Week</span><span class=\"chart-element__information__delta__text text--peak\">6 Peak Rank</span><span class=\"chart-element__information__delta__text text--week\">3 Weeks on Chart</span></span></span>,\n",
       " <span class=\"chart-element__information\"><span class=\"chart-element__information__song text--truncate color--primary\">Oprah's Bank Account</span><span class=\"chart-element__information__artist text--truncate color--secondary\">Lil Yachty, Drake &amp; DaBaby</span><span class=\"chart-element__information__delta color--secondary\"><span class=\"chart-element__information__delta__text text--default\">-20</span><span class=\"chart-element__information__delta__text text--last\">55 Last Week</span><span class=\"chart-element__information__delta__text text--peak\">55 Peak Rank</span><span class=\"chart-element__information__delta__text text--week\">3 Weeks on Chart</span></span></span>,\n",
       " <span class=\"chart-element__information\"><span class=\"chart-element__information__song text--truncate color--primary\">B.S.</span><span class=\"chart-element__information__artist text--truncate color--secondary\">Jhene Aiko Featuring H.E.R.</span><span class=\"chart-element__information__delta color--secondary\"><span class=\"chart-element__information__delta__text text--default\">-19</span><span class=\"chart-element__information__delta__text text--last\">57 Last Week</span><span class=\"chart-element__information__delta__text text--peak\">24 Peak Rank</span><span class=\"chart-element__information__delta__text text--week\">3 Weeks on Chart</span></span></span>,\n",
       " <span class=\"chart-element__information\"><span class=\"chart-element__information__song text--truncate color--primary\">Before You Go</span><span class=\"chart-element__information__artist text--truncate color--secondary\">Lewis Capaldi</span><span class=\"chart-element__information__delta color--secondary\"><span class=\"chart-element__information__delta__text text--default\">+20</span><span class=\"chart-element__information__delta__text text--last\">97 Last Week</span><span class=\"chart-element__information__delta__text text--peak\">71 Peak Rank</span><span class=\"chart-element__information__delta__text text--week\">8 Weeks on Chart</span></span></span>,\n",
       " <span class=\"chart-element__information\"><span class=\"chart-element__information__song text--truncate color--primary\">OUT WEST</span><span class=\"chart-element__information__artist text--truncate color--secondary\">JACKBOYS Featuring Young Thug</span><span class=\"chart-element__information__delta color--secondary\"><span class=\"chart-element__information__delta__text text--default\">-</span><span class=\"chart-element__information__delta__text text--last\">- Last Week</span><span class=\"chart-element__information__delta__text text--peak\">38 Peak Rank</span><span class=\"chart-element__information__delta__text text--week\">11 Weeks on Chart</span></span></span>,\n",
       " <span class=\"chart-element__information\"><span class=\"chart-element__information__song text--truncate color--primary\">The Other Side</span><span class=\"chart-element__information__artist text--truncate color--secondary\">SZA X Justin Timberlake</span><span class=\"chart-element__information__delta color--secondary\"><span class=\"chart-element__information__delta__text text--default\">-2</span><span class=\"chart-element__information__delta__text text--last\">77 Last Week</span><span class=\"chart-element__information__delta__text text--peak\">61 Peak Rank</span><span class=\"chart-element__information__delta__text text--week\">4 Weeks on Chart</span></span></span>,\n",
       " <span class=\"chart-element__information\"><span class=\"chart-element__information__song text--truncate color--primary\">Until I Bleed Out</span><span class=\"chart-element__information__artist text--truncate color--secondary\">The Weeknd</span><span class=\"chart-element__information__delta color--secondary\"><span class=\"chart-element__information__delta__text text--default\">-</span><span class=\"chart-element__information__delta__text text--last\">- Last Week</span><span class=\"chart-element__information__delta__text text--peak\">80 Peak Rank</span><span class=\"chart-element__information__delta__text text--week\">1 Weeks on Chart</span></span></span>,\n",
       " <span class=\"chart-element__information\"><span class=\"chart-element__information__song text--truncate color--primary\">B.I.T.C.H.</span><span class=\"chart-element__information__artist text--truncate color--secondary\">Megan Thee Stallion</span><span class=\"chart-element__information__delta color--secondary\"><span class=\"chart-element__information__delta__text text--default\">-2</span><span class=\"chart-element__information__delta__text text--last\">79 Last Week</span><span class=\"chart-element__information__delta__text text--peak\">31 Peak Rank</span><span class=\"chart-element__information__delta__text text--week\">7 Weeks on Chart</span></span></span>,\n",
       " <span class=\"chart-element__information\"><span class=\"chart-element__information__song text--truncate color--primary\">Know Your Worth</span><span class=\"chart-element__information__artist text--truncate color--secondary\">Khalid x Disclosure</span><span class=\"chart-element__information__delta color--secondary\"><span class=\"chart-element__information__delta__text text--default\">+11</span><span class=\"chart-element__information__delta__text text--last\">93 Last Week</span><span class=\"chart-element__information__delta__text text--peak\">57 Peak Rank</span><span class=\"chart-element__information__delta__text text--week\">7 Weeks on Chart</span></span></span>,\n",
       " <span class=\"chart-element__information\"><span class=\"chart-element__information__song text--truncate color--primary\">Yummy</span><span class=\"chart-element__information__artist text--truncate color--secondary\">Justin Bieber</span><span class=\"chart-element__information__delta color--secondary\"><span class=\"chart-element__information__delta__text text--default\">-5</span><span class=\"chart-element__information__delta__text text--last\">78 Last Week</span><span class=\"chart-element__information__delta__text text--peak\">2 Peak Rank</span><span class=\"chart-element__information__delta__text text--week\">12 Weeks on Chart</span></span></span>,\n",
       " <span class=\"chart-element__information\"><span class=\"chart-element__information__song text--truncate color--primary\">To Die For</span><span class=\"chart-element__information__artist text--truncate color--secondary\">Sam Smith</span><span class=\"chart-element__information__delta color--secondary\"><span class=\"chart-element__information__delta__text text--default\">-</span><span class=\"chart-element__information__delta__text text--last\">84 Last Week</span><span class=\"chart-element__information__delta__text text--peak\">46 Peak Rank</span><span class=\"chart-element__information__delta__text text--week\">6 Weeks on Chart</span></span></span>,\n",
       " <span class=\"chart-element__information\"><span class=\"chart-element__information__song text--truncate color--primary\">Grace</span><span class=\"chart-element__information__artist text--truncate color--secondary\">Lil Baby &amp; 42 Dugg</span><span class=\"chart-element__information__delta color--secondary\"><span class=\"chart-element__information__delta__text text--default\">-10</span><span class=\"chart-element__information__delta__text text--last\">75 Last Week</span><span class=\"chart-element__information__delta__text text--peak\">48 Peak Rank</span><span class=\"chart-element__information__delta__text text--week\">4 Weeks on Chart</span></span></span>,\n",
       " <span class=\"chart-element__information\"><span class=\"chart-element__information__song text--truncate color--primary\">Bean (Kobe)</span><span class=\"chart-element__information__artist text--truncate color--secondary\">Lil Uzi Vert Featuring Chief Keef</span><span class=\"chart-element__information__delta color--secondary\"><span class=\"chart-element__information__delta__text text--default\">-67</span><span class=\"chart-element__information__delta__text text--last\">19 Last Week</span><span class=\"chart-element__information__delta__text text--peak\">19 Peak Rank</span><span class=\"chart-element__information__delta__text text--week\">2 Weeks on Chart</span></span></span>,\n",
       " <span class=\"chart-element__information\"><span class=\"chart-element__information__song text--truncate color--primary\">Lo Mein</span><span class=\"chart-element__information__artist text--truncate color--secondary\">Lil Uzi Vert</span><span class=\"chart-element__information__delta color--secondary\"><span class=\"chart-element__information__delta__text text--default\">-45</span><span class=\"chart-element__information__delta__text text--last\">42 Last Week</span><span class=\"chart-element__information__delta__text text--peak\">8 Peak Rank</span><span class=\"chart-element__information__delta__text text--week\">3 Weeks on Chart</span></span></span>,\n",
       " <span class=\"chart-element__information\"><span class=\"chart-element__information__song text--truncate color--primary\">Come Thru</span><span class=\"chart-element__information__artist text--truncate color--secondary\">Summer Walker &amp; Usher</span><span class=\"chart-element__information__delta color--secondary\"><span class=\"chart-element__information__delta__text text--default\">+11</span><span class=\"chart-element__information__delta__text text--last\">99 Last Week</span><span class=\"chart-element__information__delta__text text--peak\">42 Peak Rank</span><span class=\"chart-element__information__delta__text text--week\">13 Weeks on Chart</span></span></span>,\n",
       " <span class=\"chart-element__information\"><span class=\"chart-element__information__song text--truncate color--primary\">Emotionally Scarred</span><span class=\"chart-element__information__artist text--truncate color--secondary\">Lil Baby</span><span class=\"chart-element__information__delta color--secondary\"><span class=\"chart-element__information__delta__text text--default\">-4</span><span class=\"chart-element__information__delta__text text--last\">85 Last Week</span><span class=\"chart-element__information__delta__text text--peak\">31 Peak Rank</span><span class=\"chart-element__information__delta__text text--week\">4 Weeks on Chart</span></span></span>,\n",
       " <span class=\"chart-element__information\"><span class=\"chart-element__information__song text--truncate color--primary\">Heartless</span><span class=\"chart-element__information__artist text--truncate color--secondary\">Diplo Presents Thomas Wesley Featuring Morgan Wallen</span><span class=\"chart-element__information__delta color--secondary\"><span class=\"chart-element__information__delta__text text--default\">-</span><span class=\"chart-element__information__delta__text text--last\">- Last Week</span><span class=\"chart-element__information__delta__text text--peak\">73 Peak Rank</span><span class=\"chart-element__information__delta__text text--week\">9 Weeks on Chart</span></span></span>,\n",
       " <span class=\"chart-element__information\"><span class=\"chart-element__information__song text--truncate color--primary\">Heatin Up</span><span class=\"chart-element__information__artist text--truncate color--secondary\">Lil Baby &amp; Gunna</span><span class=\"chart-element__information__delta color--secondary\"><span class=\"chart-element__information__delta__text text--default\">-18</span><span class=\"chart-element__information__delta__text text--last\">73 Last Week</span><span class=\"chart-element__information__delta__text text--peak\">18 Peak Rank</span><span class=\"chart-element__information__delta__text text--week\">4 Weeks on Chart</span></span></span>,\n",
       " <span class=\"chart-element__information\"><span class=\"chart-element__information__song text--truncate color--primary\">Si Veo A Tu Mama</span><span class=\"chart-element__information__artist text--truncate color--secondary\">Bad Bunny</span><span class=\"chart-element__information__delta color--secondary\"><span class=\"chart-element__information__delta__text text--default\">-22</span><span class=\"chart-element__information__delta__text text--last\">70 Last Week</span><span class=\"chart-element__information__delta__text text--peak\">32 Peak Rank</span><span class=\"chart-element__information__delta__text text--week\">4 Weeks on Chart</span></span></span>,\n",
       " <span class=\"chart-element__information\"><span class=\"chart-element__information__song text--truncate color--primary\">Yessirskiii</span><span class=\"chart-element__information__artist text--truncate color--secondary\">Lil Uzi Vert &amp; 21 Savage</span><span class=\"chart-element__information__delta color--secondary\"><span class=\"chart-element__information__delta__text text--default\">-67</span><span class=\"chart-element__information__delta__text text--last\">26 Last Week</span><span class=\"chart-element__information__delta__text text--peak\">26 Peak Rank</span><span class=\"chart-element__information__delta__text text--week\">2 Weeks on Chart</span></span></span>,\n",
       " <span class=\"chart-element__information\"><span class=\"chart-element__information__song text--truncate color--primary\">Walk Em Down</span><span class=\"chart-element__information__artist text--truncate color--secondary\">NLE Choppa Featuring Roddy Ricch</span><span class=\"chart-element__information__delta color--secondary\"><span class=\"chart-element__information__delta__text text--default\">-</span><span class=\"chart-element__information__delta__text text--last\">- Last Week</span><span class=\"chart-element__information__delta__text text--peak\">94 Peak Rank</span><span class=\"chart-element__information__delta__text text--week\">1 Weeks on Chart</span></span></span>,\n",
       " <span class=\"chart-element__information\"><span class=\"chart-element__information__song text--truncate color--primary\">the other girl</span><span class=\"chart-element__information__artist text--truncate color--secondary\">Kelsea Ballerini x Halsey</span><span class=\"chart-element__information__delta color--secondary\"><span class=\"chart-element__information__delta__text text--default\">-</span><span class=\"chart-element__information__delta__text text--last\">- Last Week</span><span class=\"chart-element__information__delta__text text--peak\">95 Peak Rank</span><span class=\"chart-element__information__delta__text text--week\">1 Weeks on Chart</span></span></span>,\n",
       " <span class=\"chart-element__information\"><span class=\"chart-element__information__song text--truncate color--primary\">Make No Sense</span><span class=\"chart-element__information__artist text--truncate color--secondary\">YoungBoy Never Broke Again</span><span class=\"chart-element__information__delta color--secondary\"><span class=\"chart-element__information__delta__text text--default\">+4</span><span class=\"chart-element__information__delta__text text--last\">100 Last Week</span><span class=\"chart-element__information__delta__text text--peak\">57 Peak Rank</span><span class=\"chart-element__information__delta__text text--week\">19 Weeks on Chart</span></span></span>,\n",
       " <span class=\"chart-element__information\"><span class=\"chart-element__information__song text--truncate color--primary\">Into The Unknown</span><span class=\"chart-element__information__artist text--truncate color--secondary\">Idina Menzel &amp; AURORA</span><span class=\"chart-element__information__delta color--secondary\"><span class=\"chart-element__information__delta__text text--default\">-</span><span class=\"chart-element__information__delta__text text--last\">- Last Week</span><span class=\"chart-element__information__delta__text text--peak\">46 Peak Rank</span><span class=\"chart-element__information__delta__text text--week\">11 Weeks on Chart</span></span></span>,\n",
       " <span class=\"chart-element__information\"><span class=\"chart-element__information__song text--truncate color--primary\">Go Stupid</span><span class=\"chart-element__information__artist text--truncate color--secondary\">Polo G Featuring NLE Choppa &amp; Stunna 4 Vegas</span><span class=\"chart-element__information__delta color--secondary\"><span class=\"chart-element__information__delta__text text--default\">-2</span><span class=\"chart-element__information__delta__text text--last\">96 Last Week</span><span class=\"chart-element__information__delta__text text--peak\">60 Peak Rank</span><span class=\"chart-element__information__delta__text text--week\">6 Weeks on Chart</span></span></span>,\n",
       " <span class=\"chart-element__information\"><span class=\"chart-element__information__song text--truncate color--primary\">Vete</span><span class=\"chart-element__information__artist text--truncate color--secondary\">Bad Bunny</span><span class=\"chart-element__information__delta color--secondary\"><span class=\"chart-element__information__delta__text text--default\">-7</span><span class=\"chart-element__information__delta__text text--last\">92 Last Week</span><span class=\"chart-element__information__delta__text text--peak\">33 Peak Rank</span><span class=\"chart-element__information__delta__text text--week\">17 Weeks on Chart</span></span></span>,\n",
       " <span class=\"chart-element__information\"><span class=\"chart-element__information__song text--truncate color--primary\">La Dificil</span><span class=\"chart-element__information__artist text--truncate color--secondary\">Bad Bunny</span><span class=\"chart-element__information__delta color--secondary\"><span class=\"chart-element__information__delta__text text--default\">-20</span><span class=\"chart-element__information__delta__text text--last\">80 Last Week</span><span class=\"chart-element__information__delta__text text--peak\">33 Peak Rank</span><span class=\"chart-element__information__delta__text text--week\">4 Weeks on Chart</span></span></span>]"
      ]
     },
     "execution_count": 9,
     "metadata": {},
     "output_type": "execute_result"
    }
   ],
   "source": [
    "soup.select('span.chart-element__information')"
   ]
  },
  {
   "cell_type": "code",
   "execution_count": 35,
   "metadata": {},
   "outputs": [],
   "source": [
    "tags = soup.select('span.chart-element__information')"
   ]
  },
  {
   "cell_type": "code",
   "execution_count": 11,
   "metadata": {},
   "outputs": [
    {
     "data": {
      "text/plain": [
       "<span class=\"chart-element__information\"><span class=\"chart-element__information__song text--truncate color--primary\">Blinding Lights</span><span class=\"chart-element__information__artist text--truncate color--secondary\">The Weeknd</span><span class=\"chart-element__information__delta color--secondary\"><span class=\"chart-element__information__delta__text text--default\">+1</span><span class=\"chart-element__information__delta__text text--last\">2 Last Week</span><span class=\"chart-element__information__delta__text text--peak\">1 Peak Rank</span><span class=\"chart-element__information__delta__text text--week\">17 Weeks on Chart</span></span></span>"
      ]
     },
     "execution_count": 11,
     "metadata": {},
     "output_type": "execute_result"
    }
   ],
   "source": [
    "tag = tags[0]\n",
    "tag"
   ]
  },
  {
   "cell_type": "code",
   "execution_count": 15,
   "metadata": {},
   "outputs": [
    {
     "data": {
      "text/plain": [
       "[<span class=\"chart-element__information__song text--truncate color--primary\">Blinding Lights</span>,\n",
       " <span class=\"chart-element__information__artist text--truncate color--secondary\">The Weeknd</span>,\n",
       " <span class=\"chart-element__information__delta color--secondary\"><span class=\"chart-element__information__delta__text text--default\">+1</span><span class=\"chart-element__information__delta__text text--last\">2 Last Week</span><span class=\"chart-element__information__delta__text text--peak\">1 Peak Rank</span><span class=\"chart-element__information__delta__text text--week\">17 Weeks on Chart</span></span>,\n",
       " <span class=\"chart-element__information__delta__text text--default\">+1</span>,\n",
       " <span class=\"chart-element__information__delta__text text--last\">2 Last Week</span>,\n",
       " <span class=\"chart-element__information__delta__text text--peak\">1 Peak Rank</span>,\n",
       " <span class=\"chart-element__information__delta__text text--week\">17 Weeks on Chart</span>]"
      ]
     },
     "execution_count": 15,
     "metadata": {},
     "output_type": "execute_result"
    }
   ],
   "source": [
    "tag('span')"
   ]
  },
  {
   "cell_type": "code",
   "execution_count": 18,
   "metadata": {},
   "outputs": [],
   "source": [
    "song = tag('span')[0].text"
   ]
  },
  {
   "cell_type": "code",
   "execution_count": 19,
   "metadata": {},
   "outputs": [],
   "source": [
    "singer = tag('span')[1].text"
   ]
  },
  {
   "cell_type": "code",
   "execution_count": 29,
   "metadata": {},
   "outputs": [
    {
     "data": {
      "text/plain": [
       "'2'"
      ]
     },
     "execution_count": 29,
     "metadata": {},
     "output_type": "execute_result"
    }
   ],
   "source": [
    "last_week = tag('span')[4].text.split(' ')[0]\n",
    "last_week"
   ]
  },
  {
   "cell_type": "code",
   "execution_count": 26,
   "metadata": {},
   "outputs": [
    {
     "data": {
      "text/plain": [
       "'1'"
      ]
     },
     "execution_count": 26,
     "metadata": {},
     "output_type": "execute_result"
    }
   ],
   "source": [
    "peak = tag('span')[5].text.split(' ')[0]\n",
    "peak"
   ]
  },
  {
   "cell_type": "code",
   "execution_count": 27,
   "metadata": {},
   "outputs": [
    {
     "data": {
      "text/plain": [
       "'17'"
      ]
     },
     "execution_count": 27,
     "metadata": {},
     "output_type": "execute_result"
    }
   ],
   "source": [
    "duration = tag('span')[6].text.split(' ')[0]\n",
    "duration"
   ]
  },
  {
   "cell_type": "code",
   "execution_count": 66,
   "metadata": {},
   "outputs": [
    {
     "data": {
      "text/html": [
       "<div>\n",
       "<style scoped>\n",
       "    .dataframe tbody tr th:only-of-type {\n",
       "        vertical-align: middle;\n",
       "    }\n",
       "\n",
       "    .dataframe tbody tr th {\n",
       "        vertical-align: top;\n",
       "    }\n",
       "\n",
       "    .dataframe thead th {\n",
       "        text-align: right;\n",
       "    }\n",
       "</style>\n",
       "<table border=\"1\" class=\"dataframe\">\n",
       "  <thead>\n",
       "    <tr style=\"text-align: right;\">\n",
       "      <th></th>\n",
       "      <th>song</th>\n",
       "      <th>singer</th>\n",
       "      <th>last_week</th>\n",
       "      <th>peak</th>\n",
       "      <th>duration</th>\n",
       "    </tr>\n",
       "  </thead>\n",
       "  <tbody>\n",
       "    <tr>\n",
       "      <td>1</td>\n",
       "      <td>Blinding Lights</td>\n",
       "      <td>The Weeknd</td>\n",
       "      <td>2</td>\n",
       "      <td>1</td>\n",
       "      <td>17</td>\n",
       "    </tr>\n",
       "    <tr>\n",
       "      <td>2</td>\n",
       "      <td>The Box</td>\n",
       "      <td>Roddy Ricch</td>\n",
       "      <td>1</td>\n",
       "      <td>1</td>\n",
       "      <td>16</td>\n",
       "    </tr>\n",
       "    <tr>\n",
       "      <td>3</td>\n",
       "      <td>Don't Start Now</td>\n",
       "      <td>Dua Lipa</td>\n",
       "      <td>3</td>\n",
       "      <td>2</td>\n",
       "      <td>21</td>\n",
       "    </tr>\n",
       "    <tr>\n",
       "      <td>4</td>\n",
       "      <td>Heartless</td>\n",
       "      <td>The Weeknd</td>\n",
       "      <td>16</td>\n",
       "      <td>1</td>\n",
       "      <td>18</td>\n",
       "    </tr>\n",
       "    <tr>\n",
       "      <td>5</td>\n",
       "      <td>Circles</td>\n",
       "      <td>Post Malone</td>\n",
       "      <td>5</td>\n",
       "      <td>1</td>\n",
       "      <td>30</td>\n",
       "    </tr>\n",
       "    <tr>\n",
       "      <td>...</td>\n",
       "      <td>...</td>\n",
       "      <td>...</td>\n",
       "      <td>...</td>\n",
       "      <td>...</td>\n",
       "      <td>...</td>\n",
       "    </tr>\n",
       "    <tr>\n",
       "      <td>96</td>\n",
       "      <td>Make No Sense</td>\n",
       "      <td>YoungBoy Never Broke Again</td>\n",
       "      <td>100</td>\n",
       "      <td>57</td>\n",
       "      <td>19</td>\n",
       "    </tr>\n",
       "    <tr>\n",
       "      <td>97</td>\n",
       "      <td>Into The Unknown</td>\n",
       "      <td>Idina Menzel &amp; AURORA</td>\n",
       "      <td>-</td>\n",
       "      <td>46</td>\n",
       "      <td>11</td>\n",
       "    </tr>\n",
       "    <tr>\n",
       "      <td>98</td>\n",
       "      <td>Go Stupid</td>\n",
       "      <td>Polo G Featuring NLE Choppa &amp; Stunna 4 Vegas</td>\n",
       "      <td>96</td>\n",
       "      <td>60</td>\n",
       "      <td>6</td>\n",
       "    </tr>\n",
       "    <tr>\n",
       "      <td>99</td>\n",
       "      <td>Vete</td>\n",
       "      <td>Bad Bunny</td>\n",
       "      <td>92</td>\n",
       "      <td>33</td>\n",
       "      <td>17</td>\n",
       "    </tr>\n",
       "    <tr>\n",
       "      <td>100</td>\n",
       "      <td>La Dificil</td>\n",
       "      <td>Bad Bunny</td>\n",
       "      <td>80</td>\n",
       "      <td>33</td>\n",
       "      <td>4</td>\n",
       "    </tr>\n",
       "  </tbody>\n",
       "</table>\n",
       "<p>100 rows × 5 columns</p>\n",
       "</div>"
      ],
      "text/plain": [
       "                 song                                        singer last_week  \\\n",
       "1     Blinding Lights                                    The Weeknd         2   \n",
       "2             The Box                                   Roddy Ricch         1   \n",
       "3     Don't Start Now                                      Dua Lipa         3   \n",
       "4           Heartless                                    The Weeknd        16   \n",
       "5             Circles                                   Post Malone         5   \n",
       "..                ...                                           ...       ...   \n",
       "96      Make No Sense                    YoungBoy Never Broke Again       100   \n",
       "97   Into The Unknown                         Idina Menzel & AURORA         -   \n",
       "98          Go Stupid  Polo G Featuring NLE Choppa & Stunna 4 Vegas        96   \n",
       "99               Vete                                     Bad Bunny        92   \n",
       "100        La Dificil                                     Bad Bunny        80   \n",
       "\n",
       "    peak duration  \n",
       "1      1       17  \n",
       "2      1       16  \n",
       "3      2       21  \n",
       "4      1       18  \n",
       "5      1       30  \n",
       "..   ...      ...  \n",
       "96    57       19  \n",
       "97    46       11  \n",
       "98    60        6  \n",
       "99    33       17  \n",
       "100   33        4  \n",
       "\n",
       "[100 rows x 5 columns]"
      ]
     },
     "execution_count": 66,
     "metadata": {},
     "output_type": "execute_result"
    }
   ],
   "source": [
    "songs=[]\n",
    "singers=[]\n",
    "last_weeks=[]\n",
    "peaks=[]\n",
    "durations=[]\n",
    "\n",
    "for i in range(len(tags)):\n",
    "    tag = tags[i]\n",
    "    songs.append(tag('span')[0].text)\n",
    "    singers.append(tag('span')[1].text)\n",
    "    last_weeks.append(tag('span')[4].text.split(' ')[0])\n",
    "    peaks.append(tag('span')[5].text.split(' ')[0])\n",
    "    durations.append(tag('span')[6].text.split(' ')[0])\n",
    "    \n",
    "df = pd.DataFrame({'song':songs,'singer':singers,'last_week':last_weeks,'peak':peaks,'duration':durations},index=range(1,101))\n",
    "df"
   ]
  },
  {
   "cell_type": "markdown",
   "metadata": {},
   "source": [
    "# 현재까지의 내용을 바탕으로 매일매일의 차트를 새로 출력해주는 함수를 만들 것"
   ]
  },
  {
   "cell_type": "code",
   "execution_count": 3,
   "metadata": {},
   "outputs": [],
   "source": [
    "# 아티스트\n",
    "def billboard_artist():\n",
    "    from datetime import datetime\n",
    "    from selenium import webdriver\n",
    "    from bs4 import BeautifulSoup\n",
    "    import pandas as pd\n",
    "    url = 'https://www.billboard.com/charts/'+'artist-100'\n",
    "    driver = webdriver.Chrome('C:/Users/hp/Desktop/최영조/chromedriver.exe')\n",
    "    driver.get(url)\n",
    "    html = driver.page_source\n",
    "    soup = BeautifulSoup(html,'html.parser')\n",
    "    tags = soup.select('div.chart-list-item__title>span')\n",
    "\n",
    "    artists = pd.Series([])\n",
    "    for i in range(len(tags)):\n",
    "        artist = soup.select('div.chart-list-item__title>span')[i].text[2:-2]\n",
    "        artists[i] = artist\n",
    "    artists.index=range(1,101)\n",
    "    \n",
    "    driver.close()\n",
    "    \n",
    "    now = datetime.now()\n",
    "    \n",
    "    print('{}년 {}월 {}일 빌보드 Artist 100 순위'.format(now.year,now.month,now.day))\n",
    "    return artists"
   ]
  },
  {
   "cell_type": "code",
   "execution_count": 4,
   "metadata": {},
   "outputs": [
    {
     "name": "stdout",
     "output_type": "stream",
     "text": [
      "2020년 4월 3일 빌보드 Artist 100 순위\n",
      "time : 18.41643714904785\n"
     ]
    }
   ],
   "source": [
    "import time\n",
    "start = time.time()\n",
    " \n",
    " \n",
    "artist = billboard_artist()\n",
    "  \n",
    "print(\"time :\", time.time() - start)"
   ]
  },
  {
   "cell_type": "code",
   "execution_count": 5,
   "metadata": {},
   "outputs": [
    {
     "data": {
      "text/plain": [
       "1           The Weeknd\n",
       "2         Lil Uzi Vert\n",
       "3         Kenny Rogers\n",
       "4          Post Malone\n",
       "5           Conan Gray\n",
       "            ...       \n",
       "96     Chris Stapleton\n",
       "97           Jon Pardi\n",
       "98           Lee Brice\n",
       "99          Elton John\n",
       "100       Dustin Lynch\n",
       "Length: 100, dtype: object"
      ]
     },
     "execution_count": 5,
     "metadata": {},
     "output_type": "execute_result"
    }
   ],
   "source": [
    "artist"
   ]
  },
  {
   "cell_type": "code",
   "execution_count": 6,
   "metadata": {},
   "outputs": [],
   "source": [
    "# 핫 100\n",
    "def billboard_hot100():\n",
    "    from datetime import datetime\n",
    "    from selenium import webdriver\n",
    "    from bs4 import BeautifulSoup\n",
    "    import pandas as pd\n",
    "    url = 'https://www.billboard.com/charts/hot-100'\n",
    "    driver = webdriver.Chrome('C:/Users/hp/Desktop/최영조/chromedriver.exe')\n",
    "    driver.get(url)\n",
    "    html = driver.page_source\n",
    "    soup = BeautifulSoup(html,'html.parser')\n",
    "    \n",
    "    tags = soup.select('span.chart-element__information')\n",
    "    \n",
    "    songs=[]\n",
    "    singers=[]\n",
    "    last_weeks=[]\n",
    "    peaks=[]\n",
    "    durations=[]\n",
    "\n",
    "    for i in range(len(tags)):\n",
    "        tag = tags[i]\n",
    "        songs.append(tag('span')[0].text)\n",
    "        singers.append(tag('span')[1].text)\n",
    "        last_weeks.append(tag('span')[4].text.split(' ')[0])\n",
    "        peaks.append(tag('span')[5].text.split(' ')[0])\n",
    "        durations.append(tag('span')[6].text.split(' ')[0])\n",
    "    df = pd.DataFrame({'song':songs,'singer':singers,'last_week':last_weeks,'peak':peaks,'duration':durations},index=range(1,101))\n",
    "    \n",
    "    driver.close()\n",
    "    \n",
    "    now = datetime.now()\n",
    "    print('{}년 {}월 {}일 빌보드 HOT 100 순위'.format(now.year,now.month,now.day))\n",
    "    \n",
    "    return df"
   ]
  },
  {
   "cell_type": "code",
   "execution_count": 8,
   "metadata": {},
   "outputs": [
    {
     "name": "stdout",
     "output_type": "stream",
     "text": [
      "2020년 4월 3일 빌보드 HOT 100 순위\n",
      "time : 9.489389657974243\n"
     ]
    }
   ],
   "source": [
    "import time\n",
    "start = time.time()\n",
    " \n",
    " \n",
    "hot100 = billboard_hot100()\n",
    "  \n",
    "print(\"time :\", time.time() - start)"
   ]
  },
  {
   "cell_type": "code",
   "execution_count": 9,
   "metadata": {},
   "outputs": [
    {
     "data": {
      "text/html": [
       "<div>\n",
       "<style scoped>\n",
       "    .dataframe tbody tr th:only-of-type {\n",
       "        vertical-align: middle;\n",
       "    }\n",
       "\n",
       "    .dataframe tbody tr th {\n",
       "        vertical-align: top;\n",
       "    }\n",
       "\n",
       "    .dataframe thead th {\n",
       "        text-align: right;\n",
       "    }\n",
       "</style>\n",
       "<table border=\"1\" class=\"dataframe\">\n",
       "  <thead>\n",
       "    <tr style=\"text-align: right;\">\n",
       "      <th></th>\n",
       "      <th>song</th>\n",
       "      <th>singer</th>\n",
       "      <th>last_week</th>\n",
       "      <th>peak</th>\n",
       "      <th>duration</th>\n",
       "    </tr>\n",
       "  </thead>\n",
       "  <tbody>\n",
       "    <tr>\n",
       "      <td>1</td>\n",
       "      <td>Blinding Lights</td>\n",
       "      <td>The Weeknd</td>\n",
       "      <td>2</td>\n",
       "      <td>1</td>\n",
       "      <td>17</td>\n",
       "    </tr>\n",
       "    <tr>\n",
       "      <td>2</td>\n",
       "      <td>The Box</td>\n",
       "      <td>Roddy Ricch</td>\n",
       "      <td>1</td>\n",
       "      <td>1</td>\n",
       "      <td>16</td>\n",
       "    </tr>\n",
       "    <tr>\n",
       "      <td>3</td>\n",
       "      <td>Don't Start Now</td>\n",
       "      <td>Dua Lipa</td>\n",
       "      <td>3</td>\n",
       "      <td>2</td>\n",
       "      <td>21</td>\n",
       "    </tr>\n",
       "    <tr>\n",
       "      <td>4</td>\n",
       "      <td>Heartless</td>\n",
       "      <td>The Weeknd</td>\n",
       "      <td>16</td>\n",
       "      <td>1</td>\n",
       "      <td>18</td>\n",
       "    </tr>\n",
       "    <tr>\n",
       "      <td>5</td>\n",
       "      <td>Circles</td>\n",
       "      <td>Post Malone</td>\n",
       "      <td>5</td>\n",
       "      <td>1</td>\n",
       "      <td>30</td>\n",
       "    </tr>\n",
       "    <tr>\n",
       "      <td>...</td>\n",
       "      <td>...</td>\n",
       "      <td>...</td>\n",
       "      <td>...</td>\n",
       "      <td>...</td>\n",
       "      <td>...</td>\n",
       "    </tr>\n",
       "    <tr>\n",
       "      <td>96</td>\n",
       "      <td>Make No Sense</td>\n",
       "      <td>YoungBoy Never Broke Again</td>\n",
       "      <td>100</td>\n",
       "      <td>57</td>\n",
       "      <td>19</td>\n",
       "    </tr>\n",
       "    <tr>\n",
       "      <td>97</td>\n",
       "      <td>Into The Unknown</td>\n",
       "      <td>Idina Menzel &amp; AURORA</td>\n",
       "      <td>-</td>\n",
       "      <td>46</td>\n",
       "      <td>11</td>\n",
       "    </tr>\n",
       "    <tr>\n",
       "      <td>98</td>\n",
       "      <td>Go Stupid</td>\n",
       "      <td>Polo G Featuring NLE Choppa &amp; Stunna 4 Vegas</td>\n",
       "      <td>96</td>\n",
       "      <td>60</td>\n",
       "      <td>6</td>\n",
       "    </tr>\n",
       "    <tr>\n",
       "      <td>99</td>\n",
       "      <td>Vete</td>\n",
       "      <td>Bad Bunny</td>\n",
       "      <td>92</td>\n",
       "      <td>33</td>\n",
       "      <td>17</td>\n",
       "    </tr>\n",
       "    <tr>\n",
       "      <td>100</td>\n",
       "      <td>La Dificil</td>\n",
       "      <td>Bad Bunny</td>\n",
       "      <td>80</td>\n",
       "      <td>33</td>\n",
       "      <td>4</td>\n",
       "    </tr>\n",
       "  </tbody>\n",
       "</table>\n",
       "<p>100 rows × 5 columns</p>\n",
       "</div>"
      ],
      "text/plain": [
       "                 song                                        singer last_week  \\\n",
       "1     Blinding Lights                                    The Weeknd         2   \n",
       "2             The Box                                   Roddy Ricch         1   \n",
       "3     Don't Start Now                                      Dua Lipa         3   \n",
       "4           Heartless                                    The Weeknd        16   \n",
       "5             Circles                                   Post Malone         5   \n",
       "..                ...                                           ...       ...   \n",
       "96      Make No Sense                    YoungBoy Never Broke Again       100   \n",
       "97   Into The Unknown                         Idina Menzel & AURORA         -   \n",
       "98          Go Stupid  Polo G Featuring NLE Choppa & Stunna 4 Vegas        96   \n",
       "99               Vete                                     Bad Bunny        92   \n",
       "100        La Dificil                                     Bad Bunny        80   \n",
       "\n",
       "    peak duration  \n",
       "1      1       17  \n",
       "2      1       16  \n",
       "3      2       21  \n",
       "4      1       18  \n",
       "5      1       30  \n",
       "..   ...      ...  \n",
       "96    57       19  \n",
       "97    46       11  \n",
       "98    60        6  \n",
       "99    33       17  \n",
       "100   33        4  \n",
       "\n",
       "[100 rows x 5 columns]"
      ]
     },
     "execution_count": 9,
     "metadata": {},
     "output_type": "execute_result"
    }
   ],
   "source": [
    "hot100"
   ]
  },
  {
   "cell_type": "markdown",
   "metadata": {},
   "source": [
    "### 선정된 아티스트 중 몇명 정도가 hot100에 노래를 올렸는지 알아보자"
   ]
  },
  {
   "cell_type": "code",
   "execution_count": 54,
   "metadata": {},
   "outputs": [],
   "source": [
    "singer_counts = hot100['singer'].value_counts()"
   ]
  },
  {
   "cell_type": "code",
   "execution_count": 55,
   "metadata": {},
   "outputs": [
    {
     "data": {
      "text/plain": [
       "The Weeknd                              14\n",
       "Lil Uzi Vert                             5\n",
       "Bad Bunny                                3\n",
       "Lil Baby                                 3\n",
       "Lewis Capaldi                            2\n",
       "                                        ..\n",
       "Dan + Shay & Justin Bieber               1\n",
       "Sam Smith                                1\n",
       "Maren Morris                             1\n",
       "Blake Shelton Duet With Gwen Stefani     1\n",
       "Maroon 5                                 1\n",
       "Name: hits, Length: 77, dtype: int64"
      ]
     },
     "execution_count": 55,
     "metadata": {},
     "output_type": "execute_result"
    }
   ],
   "source": [
    "singer_counts.rename('hits',inplace=True)\n",
    "singer_counts"
   ]
  },
  {
   "cell_type": "code",
   "execution_count": 18,
   "metadata": {},
   "outputs": [],
   "source": [
    "valid_singer_counts = singer_counts[singer_counts.values>=2]"
   ]
  },
  {
   "cell_type": "code",
   "execution_count": 16,
   "metadata": {},
   "outputs": [],
   "source": [
    "import matplotlib.pyplot as plt\n",
    "import seaborn as sns"
   ]
  },
  {
   "cell_type": "code",
   "execution_count": 20,
   "metadata": {},
   "outputs": [
    {
     "data": {
      "text/plain": [
       "<matplotlib.axes._subplots.AxesSubplot at 0x2d39dc2b348>"
      ]
     },
     "execution_count": 20,
     "metadata": {},
     "output_type": "execute_result"
    },
    {
     "data": {
      "image/png": "[encoded data removed]",
      "text/plain": [
       "<Figure size 432x288 with 1 Axes>"
      ]
     },
     "metadata": {
      "needs_background": "light"
     },
     "output_type": "display_data"
    }
   ],
   "source": [
    "sns.barplot(x=valid_singer_counts.index,y=valid_singer_counts.values)"
   ]
  },
  {
   "cell_type": "code",
   "execution_count": 24,
   "metadata": {},
   "outputs": [
    {
     "data": {
      "text/plain": [
       "1       True\n",
       "2       True\n",
       "3      False\n",
       "4       True\n",
       "5      False\n",
       "       ...  \n",
       "96     False\n",
       "97     False\n",
       "98     False\n",
       "99     False\n",
       "100    False\n",
       "Length: 100, dtype: bool"
      ]
     },
     "execution_count": 24,
     "metadata": {},
     "output_type": "execute_result"
    }
   ],
   "source": [
    "relation = artist.isin(singer_counts.index)\n",
    "relation"
   ]
  },
  {
   "cell_type": "markdown",
   "metadata": {},
   "source": [
    "100인으로 선정된 아티스트 가운데 35명 정도가 hot100에 곡을 올렸다.(2020년 4월 3일 기준)"
   ]
  },
  {
   "cell_type": "code",
   "execution_count": 25,
   "metadata": {},
   "outputs": [
    {
     "data": {
      "text/plain": [
       "35"
      ]
     },
     "execution_count": 25,
     "metadata": {},
     "output_type": "execute_result"
    }
   ],
   "source": [
    "relation.sum()"
   ]
  },
  {
   "cell_type": "code",
   "execution_count": 30,
   "metadata": {},
   "outputs": [
    {
     "data": {
      "text/html": [
       "<div>\n",
       "<style scoped>\n",
       "    .dataframe tbody tr th:only-of-type {\n",
       "        vertical-align: middle;\n",
       "    }\n",
       "\n",
       "    .dataframe tbody tr th {\n",
       "        vertical-align: top;\n",
       "    }\n",
       "\n",
       "    .dataframe thead th {\n",
       "        text-align: right;\n",
       "    }\n",
       "</style>\n",
       "<table border=\"1\" class=\"dataframe\">\n",
       "  <thead>\n",
       "    <tr style=\"text-align: right;\">\n",
       "      <th></th>\n",
       "      <th>artist</th>\n",
       "    </tr>\n",
       "  </thead>\n",
       "  <tbody>\n",
       "    <tr>\n",
       "      <td>1</td>\n",
       "      <td>The Weeknd</td>\n",
       "    </tr>\n",
       "    <tr>\n",
       "      <td>2</td>\n",
       "      <td>Lil Uzi Vert</td>\n",
       "    </tr>\n",
       "    <tr>\n",
       "      <td>3</td>\n",
       "      <td>Kenny Rogers</td>\n",
       "    </tr>\n",
       "    <tr>\n",
       "      <td>4</td>\n",
       "      <td>Post Malone</td>\n",
       "    </tr>\n",
       "    <tr>\n",
       "      <td>5</td>\n",
       "      <td>Conan Gray</td>\n",
       "    </tr>\n",
       "    <tr>\n",
       "      <td>...</td>\n",
       "      <td>...</td>\n",
       "    </tr>\n",
       "    <tr>\n",
       "      <td>96</td>\n",
       "      <td>Chris Stapleton</td>\n",
       "    </tr>\n",
       "    <tr>\n",
       "      <td>97</td>\n",
       "      <td>Jon Pardi</td>\n",
       "    </tr>\n",
       "    <tr>\n",
       "      <td>98</td>\n",
       "      <td>Lee Brice</td>\n",
       "    </tr>\n",
       "    <tr>\n",
       "      <td>99</td>\n",
       "      <td>Elton John</td>\n",
       "    </tr>\n",
       "    <tr>\n",
       "      <td>100</td>\n",
       "      <td>Dustin Lynch</td>\n",
       "    </tr>\n",
       "  </tbody>\n",
       "</table>\n",
       "<p>100 rows × 1 columns</p>\n",
       "</div>"
      ],
      "text/plain": [
       "              artist\n",
       "1         The Weeknd\n",
       "2       Lil Uzi Vert\n",
       "3       Kenny Rogers\n",
       "4        Post Malone\n",
       "5         Conan Gray\n",
       "..               ...\n",
       "96   Chris Stapleton\n",
       "97         Jon Pardi\n",
       "98         Lee Brice\n",
       "99        Elton John\n",
       "100     Dustin Lynch\n",
       "\n",
       "[100 rows x 1 columns]"
      ]
     },
     "execution_count": 30,
     "metadata": {},
     "output_type": "execute_result"
    }
   ],
   "source": [
    "import pandas as pd\n",
    "artist = pd.DataFrame(artist,columns=['artist'])\n",
    "artist"
   ]
  },
  {
   "cell_type": "code",
   "execution_count": 59,
   "metadata": {},
   "outputs": [
    {
     "data": {
      "text/html": [
       "<div>\n",
       "<style scoped>\n",
       "    .dataframe tbody tr th:only-of-type {\n",
       "        vertical-align: middle;\n",
       "    }\n",
       "\n",
       "    .dataframe tbody tr th {\n",
       "        vertical-align: top;\n",
       "    }\n",
       "\n",
       "    .dataframe thead th {\n",
       "        text-align: right;\n",
       "    }\n",
       "</style>\n",
       "<table border=\"1\" class=\"dataframe\">\n",
       "  <thead>\n",
       "    <tr style=\"text-align: right;\">\n",
       "      <th></th>\n",
       "      <th>hits</th>\n",
       "    </tr>\n",
       "  </thead>\n",
       "  <tbody>\n",
       "    <tr>\n",
       "      <td>The Weeknd</td>\n",
       "      <td>14</td>\n",
       "    </tr>\n",
       "    <tr>\n",
       "      <td>Lil Uzi Vert</td>\n",
       "      <td>5</td>\n",
       "    </tr>\n",
       "    <tr>\n",
       "      <td>Bad Bunny</td>\n",
       "      <td>3</td>\n",
       "    </tr>\n",
       "    <tr>\n",
       "      <td>Lil Baby</td>\n",
       "      <td>3</td>\n",
       "    </tr>\n",
       "    <tr>\n",
       "      <td>Lewis Capaldi</td>\n",
       "      <td>2</td>\n",
       "    </tr>\n",
       "    <tr>\n",
       "      <td>...</td>\n",
       "      <td>...</td>\n",
       "    </tr>\n",
       "    <tr>\n",
       "      <td>Dan + Shay &amp; Justin Bieber</td>\n",
       "      <td>1</td>\n",
       "    </tr>\n",
       "    <tr>\n",
       "      <td>Sam Smith</td>\n",
       "      <td>1</td>\n",
       "    </tr>\n",
       "    <tr>\n",
       "      <td>Maren Morris</td>\n",
       "      <td>1</td>\n",
       "    </tr>\n",
       "    <tr>\n",
       "      <td>Blake Shelton Duet With Gwen Stefani</td>\n",
       "      <td>1</td>\n",
       "    </tr>\n",
       "    <tr>\n",
       "      <td>Maroon 5</td>\n",
       "      <td>1</td>\n",
       "    </tr>\n",
       "  </tbody>\n",
       "</table>\n",
       "<p>77 rows × 1 columns</p>\n",
       "</div>"
      ],
      "text/plain": [
       "                                      hits\n",
       "The Weeknd                              14\n",
       "Lil Uzi Vert                             5\n",
       "Bad Bunny                                3\n",
       "Lil Baby                                 3\n",
       "Lewis Capaldi                            2\n",
       "...                                    ...\n",
       "Dan + Shay & Justin Bieber               1\n",
       "Sam Smith                                1\n",
       "Maren Morris                             1\n",
       "Blake Shelton Duet With Gwen Stefani     1\n",
       "Maroon 5                                 1\n",
       "\n",
       "[77 rows x 1 columns]"
      ]
     },
     "execution_count": 59,
     "metadata": {},
     "output_type": "execute_result"
    }
   ],
   "source": [
    "singer_counts_table = pd.DataFrame(singer_counts)\n",
    "singer_counts_table"
   ]
  },
  {
   "cell_type": "code",
   "execution_count": 94,
   "metadata": {},
   "outputs": [
    {
     "data": {
      "text/html": [
       "<div>\n",
       "<style scoped>\n",
       "    .dataframe tbody tr th:only-of-type {\n",
       "        vertical-align: middle;\n",
       "    }\n",
       "\n",
       "    .dataframe tbody tr th {\n",
       "        vertical-align: top;\n",
       "    }\n",
       "\n",
       "    .dataframe thead th {\n",
       "        text-align: right;\n",
       "    }\n",
       "</style>\n",
       "<table border=\"1\" class=\"dataframe\">\n",
       "  <thead>\n",
       "    <tr style=\"text-align: right;\">\n",
       "      <th></th>\n",
       "      <th>artist</th>\n",
       "      <th>hits</th>\n",
       "      <th>rank</th>\n",
       "    </tr>\n",
       "  </thead>\n",
       "  <tbody>\n",
       "    <tr>\n",
       "      <td>0</td>\n",
       "      <td>The Weeknd</td>\n",
       "      <td>14.0</td>\n",
       "      <td>1.0</td>\n",
       "    </tr>\n",
       "    <tr>\n",
       "      <td>1</td>\n",
       "      <td>Lil Uzi Vert</td>\n",
       "      <td>5.0</td>\n",
       "      <td>2.0</td>\n",
       "    </tr>\n",
       "    <tr>\n",
       "      <td>2</td>\n",
       "      <td>Kenny Rogers</td>\n",
       "      <td>0.0</td>\n",
       "      <td>3.0</td>\n",
       "    </tr>\n",
       "    <tr>\n",
       "      <td>3</td>\n",
       "      <td>Post Malone</td>\n",
       "      <td>1.0</td>\n",
       "      <td>4.0</td>\n",
       "    </tr>\n",
       "    <tr>\n",
       "      <td>4</td>\n",
       "      <td>Conan Gray</td>\n",
       "      <td>0.0</td>\n",
       "      <td>5.0</td>\n",
       "    </tr>\n",
       "    <tr>\n",
       "      <td>...</td>\n",
       "      <td>...</td>\n",
       "      <td>...</td>\n",
       "      <td>...</td>\n",
       "    </tr>\n",
       "    <tr>\n",
       "      <td>137</td>\n",
       "      <td>YNW Melly &amp; Juice WRLD</td>\n",
       "      <td>1.0</td>\n",
       "      <td>101.0</td>\n",
       "    </tr>\n",
       "    <tr>\n",
       "      <td>138</td>\n",
       "      <td>Mustard &amp; Roddy Ricch</td>\n",
       "      <td>1.0</td>\n",
       "      <td>101.0</td>\n",
       "    </tr>\n",
       "    <tr>\n",
       "      <td>139</td>\n",
       "      <td>Luke Combs Featuring Eric Church</td>\n",
       "      <td>1.0</td>\n",
       "      <td>101.0</td>\n",
       "    </tr>\n",
       "    <tr>\n",
       "      <td>140</td>\n",
       "      <td>Dan + Shay &amp; Justin Bieber</td>\n",
       "      <td>1.0</td>\n",
       "      <td>101.0</td>\n",
       "    </tr>\n",
       "    <tr>\n",
       "      <td>141</td>\n",
       "      <td>Blake Shelton Duet With Gwen Stefani</td>\n",
       "      <td>1.0</td>\n",
       "      <td>101.0</td>\n",
       "    </tr>\n",
       "  </tbody>\n",
       "</table>\n",
       "<p>142 rows × 3 columns</p>\n",
       "</div>"
      ],
      "text/plain": [
       "                                   artist  hits   rank\n",
       "0                              The Weeknd  14.0    1.0\n",
       "1                            Lil Uzi Vert   5.0    2.0\n",
       "2                            Kenny Rogers   0.0    3.0\n",
       "3                             Post Malone   1.0    4.0\n",
       "4                              Conan Gray   0.0    5.0\n",
       "..                                    ...   ...    ...\n",
       "137                YNW Melly & Juice WRLD   1.0  101.0\n",
       "138                 Mustard & Roddy Ricch   1.0  101.0\n",
       "139      Luke Combs Featuring Eric Church   1.0  101.0\n",
       "140            Dan + Shay & Justin Bieber   1.0  101.0\n",
       "141  Blake Shelton Duet With Gwen Stefani   1.0  101.0\n",
       "\n",
       "[142 rows x 3 columns]"
      ]
     },
     "execution_count": 94,
     "metadata": {},
     "output_type": "execute_result"
    }
   ],
   "source": [
    "merged_artist = pd.merge(left=artist,right=singer_counts_table,left_on='artist',right_index=True,how='outer')\n",
    "merged_artist.fillna(value=0,inplace=True)\n",
    "merged_artist['rank'] = merged_artist.index.fillna(101)\n",
    "merged_artist.index=range(len(merged_artist))\n",
    "merged_artist"
   ]
  },
  {
   "cell_type": "code",
   "execution_count": 95,
   "metadata": {},
   "outputs": [
    {
     "data": {
      "text/plain": [
       "0.12101219817301245"
      ]
     },
     "execution_count": 95,
     "metadata": {},
     "output_type": "execute_result"
    }
   ],
   "source": [
    "# 상관계수를 구할 것인데 순위를 나타내는 숫자는 작을수록 좋고 히트곡수는 클수록 좋으므로 절대값을 붙인다.\n",
    "# 히트곡이 없으면 0개, 아티스트 100순위권에 없으면 101순위 부여하고 계산\n",
    "\n",
    "abs(merged_artist['hits'].corr(merged_artist['rank']))\n"
   ]
  },
  {
   "cell_type": "code",
   "execution_count": 96,
   "metadata": {},
   "outputs": [
    {
     "data": {
      "text/plain": [
       "<matplotlib.axes._subplots.AxesSubplot at 0x2d3a0a2cfc8>"
      ]
     },
     "execution_count": 96,
     "metadata": {},
     "output_type": "execute_result"
    },
    {
     "data": {
      "image/png": "[encoded data removed]",
      "text/plain": [
       "<Figure size 432x288 with 1 Axes>"
      ]
     },
     "metadata": {
      "needs_background": "light"
     },
     "output_type": "display_data"
    }
   ],
   "source": [
    "merged_artist.plot(y='hits',x='rank')"
   ]
  },
  {
   "cell_type": "code",
   "execution_count": 90,
   "metadata": {},
   "outputs": [
    {
     "data": {
      "text/html": [
       "<div>\n",
       "<style scoped>\n",
       "    .dataframe tbody tr th:only-of-type {\n",
       "        vertical-align: middle;\n",
       "    }\n",
       "\n",
       "    .dataframe tbody tr th {\n",
       "        vertical-align: top;\n",
       "    }\n",
       "\n",
       "    .dataframe thead th {\n",
       "        text-align: right;\n",
       "    }\n",
       "</style>\n",
       "<table border=\"1\" class=\"dataframe\">\n",
       "  <thead>\n",
       "    <tr style=\"text-align: right;\">\n",
       "      <th></th>\n",
       "      <th>artist</th>\n",
       "      <th>hits</th>\n",
       "      <th>rank</th>\n",
       "    </tr>\n",
       "  </thead>\n",
       "  <tbody>\n",
       "    <tr>\n",
       "      <td>0</td>\n",
       "      <td>The Weeknd</td>\n",
       "      <td>14</td>\n",
       "      <td>1</td>\n",
       "    </tr>\n",
       "    <tr>\n",
       "      <td>1</td>\n",
       "      <td>Lil Uzi Vert</td>\n",
       "      <td>5</td>\n",
       "      <td>2</td>\n",
       "    </tr>\n",
       "    <tr>\n",
       "      <td>2</td>\n",
       "      <td>Post Malone</td>\n",
       "      <td>1</td>\n",
       "      <td>4</td>\n",
       "    </tr>\n",
       "    <tr>\n",
       "      <td>3</td>\n",
       "      <td>Billie Eilish</td>\n",
       "      <td>1</td>\n",
       "      <td>6</td>\n",
       "    </tr>\n",
       "    <tr>\n",
       "      <td>4</td>\n",
       "      <td>Roddy Ricch</td>\n",
       "      <td>1</td>\n",
       "      <td>8</td>\n",
       "    </tr>\n",
       "  </tbody>\n",
       "</table>\n",
       "</div>"
      ],
      "text/plain": [
       "          artist  hits  rank\n",
       "0     The Weeknd    14     1\n",
       "1   Lil Uzi Vert     5     2\n",
       "2    Post Malone     1     4\n",
       "3  Billie Eilish     1     6\n",
       "4    Roddy Ricch     1     8"
      ]
     },
     "execution_count": 90,
     "metadata": {},
     "output_type": "execute_result"
    }
   ],
   "source": [
    "merged_artist = pd.merge(left=artist,right=singer_counts_table,left_on='artist',right_index=True,how='inner')\n",
    "merged_artist.fillna(value=0,inplace=True)\n",
    "merged_artist['rank'] = merged_artist.index.fillna(101)\n",
    "merged_artist.index=range(len(merged_artist))\n",
    "merged_artist.head()"
   ]
  },
  {
   "cell_type": "code",
   "execution_count": 91,
   "metadata": {},
   "outputs": [
    {
     "data": {
      "text/plain": [
       "0.33840248944537665"
      ]
     },
     "execution_count": 91,
     "metadata": {},
     "output_type": "execute_result"
    }
   ],
   "source": [
    "# 히트곡이 없거나, 순위권에 없는 사람은 예외로 하고 계산\n",
    "\n",
    "\n",
    "abs(merged_artist['hits'].corr(merged_artist['rank']))\n"
   ]
  },
  {
   "cell_type": "code",
   "execution_count": null,
   "metadata": {},
   "outputs": [],
   "source": []
  },
  {
   "cell_type": "code",
   "execution_count": null,
   "metadata": {},
   "outputs": [],
   "source": []
  }
 ],
 "metadata": {
  "kernelspec": {
   "display_name": "Python 3",
   "language": "python",
   "name": "python3"
  },
  "language_info": {
   "codemirror_mode": {
    "name": "ipython",
    "version": 3
   },
   "file_extension": ".py",
   "mimetype": "text/x-python",
   "name": "python",
   "nbconvert_exporter": "python",
   "pygments_lexer": "ipython3",
   "version": "3.7.4"
  }
 },
 "nbformat": 4,
 "nbformat_minor": 2
}
