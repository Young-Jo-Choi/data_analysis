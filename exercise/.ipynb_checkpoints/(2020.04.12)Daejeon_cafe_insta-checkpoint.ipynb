{
 "cells": [
  {
   "cell_type": "markdown",
   "metadata": {},
   "source": [
    "### 이 파일은 데이터의 개수가 빈약해 효과적인 결과물을 얻지 못했다.<br> '대전카페'외에 비슷한 키워드를 여러개 검색해 1000개 이상의 데이터를 얻었다면 좀 더 좋았을듯 하다. "
   ]
  },
  {
   "cell_type": "markdown",
   "metadata": {},
   "source": [
    "# 인스타그램 '대전카페' 키워드 검색"
   ]
  },
  {
   "cell_type": "code",
   "execution_count": 18,
   "metadata": {},
   "outputs": [],
   "source": [
    "import pandas as pd\n",
    "from selenium import webdriver\n",
    "from bs4 import BeautifulSoup\n",
    "import time"
   ]
  },
  {
   "cell_type": "code",
   "execution_count": 19,
   "metadata": {},
   "outputs": [],
   "source": [
    "def url_making(keyword):\n",
    "    url = 'https://www.instagram.com/explore/tags/{}/?hl=ko'.format(keyword)\n",
    "    return url"
   ]
  },
  {
   "cell_type": "code",
   "execution_count": 5,
   "metadata": {},
   "outputs": [],
   "source": [
    "driver = webdriver.Chrome('C:/Users/hp/Desktop/최영조/chromedriver.exe')"
   ]
  },
  {
   "cell_type": "code",
   "execution_count": 161,
   "metadata": {},
   "outputs": [],
   "source": [
    "url = url_making('대전카페')"
   ]
  },
  {
   "cell_type": "code",
   "execution_count": 164,
   "metadata": {},
   "outputs": [],
   "source": [
    "driver.get(url)"
   ]
  },
  {
   "cell_type": "markdown",
   "metadata": {},
   "source": [
    "## 잠시 코드 실행을 멈추고 로그인하시오."
   ]
  },
  {
   "cell_type": "markdown",
   "metadata": {},
   "source": [
    "## 제일 상위 게시글을 클릭 후 다음 게시글로 이동"
   ]
  },
  {
   "cell_type": "code",
   "execution_count": 13,
   "metadata": {},
   "outputs": [],
   "source": [
    "selector = '#react-root > section > main > article > div.EZdmt > div > div > div:nth-child(1) > div:nth-child(1) > a > div > div._9AhH0'"
   ]
  },
  {
   "cell_type": "code",
   "execution_count": 14,
   "metadata": {},
   "outputs": [],
   "source": [
    "first = driver.find_element_by_css_selector(selector)\n",
    "first.click()"
   ]
  },
  {
   "cell_type": "code",
   "execution_count": 36,
   "metadata": {},
   "outputs": [],
   "source": [
    "next_selector = 'body > div._2dDPU.CkGkG > div.EfHg9 > div > div > a._65Bje.coreSpriteRightPaginationArrow'\n",
    "next_button = driver.find_element_by_css_selector(next_selector)\n",
    "next_button.click()"
   ]
  },
  {
   "cell_type": "markdown",
   "metadata": {},
   "source": [
    "## 정보 수집\n",
    "수집할 정보는 태그, 좋아요 수, 게시날짜, 장소"
   ]
  },
  {
   "cell_type": "code",
   "execution_count": 45,
   "metadata": {},
   "outputs": [],
   "source": [
    "html = driver.page_source\n",
    "soup = BeautifulSoup(html,'html.parser')"
   ]
  },
  {
   "cell_type": "code",
   "execution_count": 52,
   "metadata": {},
   "outputs": [
    {
     "ename": "IndexError",
     "evalue": "list index out of range",
     "output_type": "error",
     "traceback": [
      "\u001b[1;31m---------------------------------------------------------------------------\u001b[0m",
      "\u001b[1;31mIndexError\u001b[0m                                Traceback (most recent call last)",
      "\u001b[1;32m<ipython-input-52-25de67a301cb>\u001b[0m in \u001b[0;36m<module>\u001b[1;34m\u001b[0m\n\u001b[0;32m      1\u001b[0m \u001b[1;31m# 좋아요 개수( 좋아요가 1개인 경우는 span태그가 없음)\u001b[0m\u001b[1;33m\u001b[0m\u001b[1;33m\u001b[0m\u001b[1;33m\u001b[0m\u001b[0m\n\u001b[1;32m----> 2\u001b[1;33m \u001b[0mlike\u001b[0m \u001b[1;33m=\u001b[0m \u001b[0mint\u001b[0m\u001b[1;33m(\u001b[0m\u001b[0msoup\u001b[0m\u001b[1;33m.\u001b[0m\u001b[0mselect\u001b[0m\u001b[1;33m(\u001b[0m\u001b[1;34m'div.Nm9Fw'\u001b[0m\u001b[1;33m)\u001b[0m\u001b[1;33m[\u001b[0m\u001b[1;36m0\u001b[0m\u001b[1;33m]\u001b[0m\u001b[1;33m.\u001b[0m\u001b[0mselect\u001b[0m\u001b[1;33m(\u001b[0m\u001b[1;34m'span'\u001b[0m\u001b[1;33m)\u001b[0m\u001b[1;33m[\u001b[0m\u001b[1;36m0\u001b[0m\u001b[1;33m]\u001b[0m\u001b[1;33m.\u001b[0m\u001b[0mtext\u001b[0m\u001b[1;33m.\u001b[0m\u001b[0mreplace\u001b[0m\u001b[1;33m(\u001b[0m\u001b[1;34m','\u001b[0m\u001b[1;33m,\u001b[0m\u001b[1;34m''\u001b[0m\u001b[1;33m)\u001b[0m\u001b[1;33m)\u001b[0m\u001b[1;33m\u001b[0m\u001b[1;33m\u001b[0m\u001b[0m\n\u001b[0m\u001b[0;32m      3\u001b[0m \u001b[0mlike\u001b[0m\u001b[1;33m\u001b[0m\u001b[1;33m\u001b[0m\u001b[0m\n",
      "\u001b[1;31mIndexError\u001b[0m: list index out of range"
     ]
    }
   ],
   "source": [
    "# 좋아요 개수( 좋아요가 1개인 경우는 span태그가 없음)\n",
    "like = int(soup.select('div.Nm9Fw')[0].select('span')[0].text.replace(',',''))\n",
    "like"
   ]
  },
  {
   "cell_type": "code",
   "execution_count": 49,
   "metadata": {},
   "outputs": [
    {
     "data": {
      "text/plain": [
       "<div class=\"Nm9Fw\"><button class=\"sqdOP yWX7d _8A5w5\" type=\"button\">좋아요 1개</button></div>"
      ]
     },
     "execution_count": 49,
     "metadata": {},
     "output_type": "execute_result"
    }
   ],
   "source": [
    "soup.select('div.Nm9Fw')[0].select"
   ]
  },
  {
   "cell_type": "code",
   "execution_count": 47,
   "metadata": {},
   "outputs": [
    {
     "data": {
      "text/plain": [
       "['#전포카페',\n",
       " '#대흥동카페',\n",
       " '#은행동카페',\n",
       " '#선화동카페',\n",
       " '#대전카페',\n",
       " '#대전카페추천',\n",
       " '#대전카페투어',\n",
       " '#대흥동',\n",
       " '#페이크',\n",
       " '#은행동카페',\n",
       " '#둔산동카페',\n",
       " '#대전커피',\n",
       " '#대전여행',\n",
       " '#대전데이트',\n",
       " '#대전대흥동카페',\n",
       " '#대전대흥동카페추천',\n",
       " '#대전가볼만한곳',\n",
       " '#대전맛집',\n",
       " '#대흥동맛집',\n",
       " '#대전대흥동맛집',\n",
       " '#동명동카페',\n",
       " '#갈마동카페',\n",
       " '#소제동카페',\n",
       " '#천안카페',\n",
       " '#청주카페',\n",
       " '#한남동카페',\n",
       " '#성수동카페',\n",
       " '#을지로카페',\n",
       " '#이태원카페',\n",
       " '#삼덕동카페',\n",
       " '#세종카페']"
      ]
     },
     "execution_count": 47,
     "metadata": {},
     "output_type": "execute_result"
    }
   ],
   "source": [
    "# 해시태그 목록(해시태그를 아예 걸어놓지 않는 경우도 있음 유의하기)\n",
    "content = soup.select('div.C4VMK a.xil3i')\n",
    "tag_list = []\n",
    "for i in range(len(content)):\n",
    "    tag = content[i].text\n",
    "    tag_list.append(tag)\n",
    "tag_list"
   ]
  },
  {
   "cell_type": "code",
   "execution_count": 97,
   "metadata": {},
   "outputs": [
    {
     "data": {
      "text/plain": [
       "'2020-04-12'"
      ]
     },
     "execution_count": 97,
     "metadata": {},
     "output_type": "execute_result"
    }
   ],
   "source": [
    "# 게시 날짜\n",
    "date = soup.select('div.k_Q0X.NnvRN time')[0]['datetime'][:10]\n",
    "date"
   ]
  },
  {
   "cell_type": "code",
   "execution_count": 103,
   "metadata": {},
   "outputs": [
    {
     "data": {
      "text/plain": [
       "'에이치피'"
      ]
     },
     "execution_count": 103,
     "metadata": {},
     "output_type": "execute_result"
    }
   ],
   "source": [
    "# 장소(비어있는 경우 매우 많음)\n",
    "place = soup.select('div.JF9hh>a')[0].text\n",
    "place"
   ]
  },
  {
   "cell_type": "markdown",
   "metadata": {},
   "source": [
    "## 페이지 전체적으로 정보를 수집하는 함수를 만들자"
   ]
  },
  {
   "cell_type": "code",
   "execution_count": 96,
   "metadata": {},
   "outputs": [],
   "source": [
    "def get_information():\n",
    "    try:\n",
    "        informations=[]\n",
    "\n",
    "        html = driver.page_source\n",
    "        soup = BeautifulSoup(html,'html.parser')\n",
    "        try:\n",
    "            like = int(soup.select('div.Nm9Fw')[0].select('span')[0].text.replace(',',''))\n",
    "        except:\n",
    "            like = 1\n",
    "\n",
    "        content = soup.select('div.C4VMK a.xil3i')\n",
    "        tag_list = []\n",
    "        for i in range(len(content)):\n",
    "            tag = content[i].text\n",
    "            tag_list.append(tag)\n",
    "        tag = ''.join(tag_list)\n",
    "\n",
    "        date = soup.select('div.k_Q0X.NnvRN time')[0]['datetime'][:10]\n",
    "\n",
    "        try:\n",
    "            place = soup.select('div.JF9hh>a')[0].text\n",
    "        except:\n",
    "            place = None\n",
    "\n",
    "        informations.append(date)\n",
    "        informations.append(place)\n",
    "        informations.append(like)\n",
    "        informations.append(tag)\n",
    "        return informations\n",
    "    except:\n",
    "        return [None,None,None,None]"
   ]
  },
  {
   "cell_type": "code",
   "execution_count": 68,
   "metadata": {},
   "outputs": [
    {
     "data": {
      "text/plain": [
       "['2020-04-12', '소제화실', 1, '#소제동카페#대전#대전카페#소제화실']"
      ]
     },
     "execution_count": 68,
     "metadata": {},
     "output_type": "execute_result"
    }
   ],
   "source": [
    "test = get_information()\n",
    "test"
   ]
  },
  {
   "cell_type": "code",
   "execution_count": 130,
   "metadata": {},
   "outputs": [
    {
     "data": {
      "text/plain": [
       "4"
      ]
     },
     "execution_count": 130,
     "metadata": {},
     "output_type": "execute_result"
    }
   ],
   "source": [
    "len(test[0])"
   ]
  },
  {
   "cell_type": "markdown",
   "metadata": {},
   "source": [
    "## 페이지를 순환하며 정보를 수집하는 알고리즘"
   ]
  },
  {
   "cell_type": "code",
   "execution_count": 55,
   "metadata": {},
   "outputs": [
    {
     "data": {
      "text/html": [
       "<div>\n",
       "<style scoped>\n",
       "    .dataframe tbody tr th:only-of-type {\n",
       "        vertical-align: middle;\n",
       "    }\n",
       "\n",
       "    .dataframe tbody tr th {\n",
       "        vertical-align: top;\n",
       "    }\n",
       "\n",
       "    .dataframe thead th {\n",
       "        text-align: right;\n",
       "    }\n",
       "</style>\n",
       "<table border=\"1\" class=\"dataframe\">\n",
       "  <thead>\n",
       "    <tr style=\"text-align: right;\">\n",
       "      <th></th>\n",
       "      <th>작성일</th>\n",
       "      <th>장소</th>\n",
       "      <th>좋아요</th>\n",
       "      <th>해시태그</th>\n",
       "    </tr>\n",
       "  </thead>\n",
       "  <tbody>\n",
       "    <tr>\n",
       "      <td>0</td>\n",
       "      <td>2020-04-11</td>\n",
       "      <td>Daejeon</td>\n",
       "      <td>436</td>\n",
       "      <td></td>\n",
       "    </tr>\n",
       "    <tr>\n",
       "      <td>1</td>\n",
       "      <td>2020-04-11</td>\n",
       "      <td>Kafe.Moment</td>\n",
       "      <td>137</td>\n",
       "      <td></td>\n",
       "    </tr>\n",
       "    <tr>\n",
       "      <td>2</td>\n",
       "      <td>2020-04-11</td>\n",
       "      <td>Daejeon, South Korea</td>\n",
       "      <td>336</td>\n",
       "      <td>#마스터피스</td>\n",
       "    </tr>\n",
       "    <tr>\n",
       "      <td>3</td>\n",
       "      <td>2020-04-12</td>\n",
       "      <td>에이치피</td>\n",
       "      <td>298</td>\n",
       "      <td>#대전#대전카페#대흥동#선화동#대흥동카페#선화동카페#에이치피#카페스타그램#신상카페#...</td>\n",
       "    </tr>\n",
       "    <tr>\n",
       "      <td>4</td>\n",
       "      <td>2020-04-10</td>\n",
       "      <td>Eventide</td>\n",
       "      <td>444</td>\n",
       "      <td></td>\n",
       "    </tr>\n",
       "    <tr>\n",
       "      <td>5</td>\n",
       "      <td>2020-04-10</td>\n",
       "      <td>Daejeon</td>\n",
       "      <td>444</td>\n",
       "      <td>#피버브리즈</td>\n",
       "    </tr>\n",
       "    <tr>\n",
       "      <td>6</td>\n",
       "      <td>2020-04-11</td>\n",
       "      <td>템포러리스탑</td>\n",
       "      <td>203</td>\n",
       "      <td>#트윈즈#디지털노마드</td>\n",
       "    </tr>\n",
       "    <tr>\n",
       "      <td>7</td>\n",
       "      <td>2020-04-11</td>\n",
       "      <td>크래커 Kräcker</td>\n",
       "      <td>306</td>\n",
       "      <td></td>\n",
       "    </tr>\n",
       "    <tr>\n",
       "      <td>8</td>\n",
       "      <td>2020-04-08</td>\n",
       "      <td>Daejeon, South Korea</td>\n",
       "      <td>579</td>\n",
       "      <td></td>\n",
       "    </tr>\n",
       "    <tr>\n",
       "      <td>9</td>\n",
       "      <td>2020-04-12</td>\n",
       "      <td>대전어딘가</td>\n",
       "      <td>1</td>\n",
       "      <td>#전포카페#대흥동카페#은행동카페#선화동카페#대전카페#대전카페추천#대전카페투어#대흥동...</td>\n",
       "    </tr>\n",
       "  </tbody>\n",
       "</table>\n",
       "</div>"
      ],
      "text/plain": [
       "          작성일                    장소  좋아요  \\\n",
       "0  2020-04-11               Daejeon  436   \n",
       "1  2020-04-11           Kafe.Moment  137   \n",
       "2  2020-04-11  Daejeon, South Korea  336   \n",
       "3  2020-04-12                  에이치피  298   \n",
       "4  2020-04-10              Eventide  444   \n",
       "5  2020-04-10               Daejeon  444   \n",
       "6  2020-04-11                템포러리스탑  203   \n",
       "7  2020-04-11           크래커 Kräcker  306   \n",
       "8  2020-04-08  Daejeon, South Korea  579   \n",
       "9  2020-04-12                 대전어딘가    1   \n",
       "\n",
       "                                                해시태그  \n",
       "0                                                     \n",
       "1                                                     \n",
       "2                                             #마스터피스  \n",
       "3  #대전#대전카페#대흥동#선화동#대흥동카페#선화동카페#에이치피#카페스타그램#신상카페#...  \n",
       "4                                                     \n",
       "5                                             #피버브리즈  \n",
       "6                                        #트윈즈#디지털노마드  \n",
       "7                                                     \n",
       "8                                                     \n",
       "9  #전포카페#대흥동카페#은행동카페#선화동카페#대전카페#대전카페추천#대전카페투어#대흥동...  "
      ]
     },
     "execution_count": 55,
     "metadata": {},
     "output_type": "execute_result"
    }
   ],
   "source": [
    "# 시작은 인스타그램에서 '대전카페'만 검색한 상황\n",
    "\n",
    "first_selector = '''#react-root > section > main >\n",
    "article > div.EZdmt > div > div > div:nth-child(1) > div:nth-child(1) > a > div > div._9AhH0'''\n",
    "next_selector = 'body > div._2dDPU.CkGkG > div.EfHg9 > div > div > a._65Bje.coreSpriteRightPaginationArrow'\n",
    "first = driver.find_element_by_css_selector(first_selector)\n",
    "first.click()\n",
    "\n",
    "# 일단 시험삼아 10개의 페이지만 탐색\n",
    "all_informations = []\n",
    "informations=[]\n",
    "import time\n",
    "for i in range(10):\n",
    "    informations = get_information()\n",
    "    next_button = driver.find_element_by_css_selector(next_selector)\n",
    "    next_button.click()\n",
    "    time.sleep(1)\n",
    "    all_informations.append(informations)\n",
    "    informations=[]\n",
    "    \n",
    "result = pd.DataFrame(all_informations,columns=['작성일','장소','좋아요','해시태그'])\n",
    "result"
   ]
  },
  {
   "cell_type": "markdown",
   "metadata": {},
   "source": [
    "# 처음 화면의 로그인부터"
   ]
  },
  {
   "cell_type": "code",
   "execution_count": 30,
   "metadata": {},
   "outputs": [],
   "source": [
    "url = url_making('대전카페')\n",
    "driver = webdriver.Chrome('C:/Users/hp/Desktop/최영조/chromedriver.exe')\n",
    "driver.get(url)"
   ]
  },
  {
   "cell_type": "code",
   "execution_count": 33,
   "metadata": {},
   "outputs": [],
   "source": [
    "# 인스타 첫 화면에서 로그인하는 함수\n",
    "def log_in(MyID,Mypassword):\n",
    "\n",
    "    log_select = '#react-root > section > nav > div._8MQSO.Cx7Bp > div > div > div.ctQZg > div > span > a:nth-child(1) > button'\n",
    "    log_in = driver.find_element_by_css_selector(log_select)\n",
    "    log_in.click()\n",
    "    time.sleep(1)\n",
    "\n",
    "    id_selector = '#react-root > section > main > div > article > div > div:nth-child(1) > div > form > div:nth-child(2) > div > label > input'\n",
    "    id_cell = driver.find_element_by_css_selector(id_selector)\n",
    "    id_cell.send_keys(MyID)\n",
    "    time.sleep(1)\n",
    "\n",
    "    password_selector = '#react-root > section > main > div > article > div > div:nth-child(1) > div > form > div:nth-child(3) > div > label > input'\n",
    "    password_cell = driver.find_element_by_css_selector(password_selector)\n",
    "    password_cell.send_keys(Mypassword)\n",
    "    time.sleep(1)\n",
    "\n",
    "    log_in_button_selector = '#react-root > section > main > div > article > div > div:nth-child(1) > div > form > div:nth-child(4)'\n",
    "    log_in_button = driver.find_element_by_css_selector(log_in_button_selector)\n",
    "    log_in_button.click()\n",
    "    print('로그인이 완료될 때까지 몇 초간 기다리시오.')"
   ]
  },
  {
   "cell_type": "code",
   "execution_count": 32,
   "metadata": {},
   "outputs": [],
   "source": [
    "log_in('01057792284','rhlwjdrh12')"
   ]
  },
  {
   "cell_type": "markdown",
   "metadata": {},
   "source": [
    "# 여러 페이지를 순환하며 정보를 수집하는 함수"
   ]
  },
  {
   "cell_type": "code",
   "execution_count": 73,
   "metadata": {},
   "outputs": [],
   "source": [
    "from tqdm import tqdm_notebook"
   ]
  },
  {
   "cell_type": "code",
   "execution_count": 97,
   "metadata": {},
   "outputs": [],
   "source": [
    "def find_informations(last_page):\n",
    "    first_selector = '''#react-root > section > main >\n",
    "    article > div.EZdmt > div > div > div:nth-child(1) > div:nth-child(1) > a > div > div._9AhH0'''\n",
    "    next_selector = 'body > div._2dDPU.CkGkG > div.EfHg9 > div > div > a._65Bje.coreSpriteRightPaginationArrow'\n",
    "    first = driver.find_element_by_css_selector(first_selector)\n",
    "    first.click()\n",
    "\n",
    "    all_informations = []\n",
    "    informations=[]\n",
    "    import time\n",
    "    for i in tqdm_notebook(range(last_page)):\n",
    "        informations = get_information()\n",
    "        next_button = driver.find_element_by_css_selector(next_selector)\n",
    "        next_button.click()\n",
    "        time.sleep(1)\n",
    "        all_informations.append(informations)\n",
    "\n",
    "    result = pd.DataFrame(all_informations,columns=['작성일','장소','좋아요','해시태그'])\n",
    "\n",
    "    return result"
   ]
  },
  {
   "cell_type": "code",
   "execution_count": 98,
   "metadata": {},
   "outputs": [
    {
     "data": {
      "application/vnd.jupyter.widget-view+json": {
       "model_id": "4d4346e0ba37424d941ccc6d3a5bcc94",
       "version_major": 2,
       "version_minor": 0
      },
      "text/plain": [
       "HBox(children=(IntProgress(value=0, max=350), HTML(value='')))"
      ]
     },
     "metadata": {},
     "output_type": "display_data"
    },
    {
     "name": "stdout",
     "output_type": "stream",
     "text": [
      "\n"
     ]
    }
   ],
   "source": [
    "# 게시물 중 로딩화면만 나오고 로딩이 되지 않는 경우가 있음. 그런 경우는 None 데이터로 취급\n",
    "\n",
    "final = find_informations(350)"
   ]
  },
  {
   "cell_type": "code",
   "execution_count": 99,
   "metadata": {},
   "outputs": [
    {
     "data": {
      "text/html": [
       "<div>\n",
       "<style scoped>\n",
       "    .dataframe tbody tr th:only-of-type {\n",
       "        vertical-align: middle;\n",
       "    }\n",
       "\n",
       "    .dataframe tbody tr th {\n",
       "        vertical-align: top;\n",
       "    }\n",
       "\n",
       "    .dataframe thead th {\n",
       "        text-align: right;\n",
       "    }\n",
       "</style>\n",
       "<table border=\"1\" class=\"dataframe\">\n",
       "  <thead>\n",
       "    <tr style=\"text-align: right;\">\n",
       "      <th></th>\n",
       "      <th>작성일</th>\n",
       "      <th>장소</th>\n",
       "      <th>좋아요</th>\n",
       "      <th>해시태그</th>\n",
       "    </tr>\n",
       "  </thead>\n",
       "  <tbody>\n",
       "    <tr>\n",
       "      <td>0</td>\n",
       "      <td>2020-04-11</td>\n",
       "      <td>Daejeon</td>\n",
       "      <td>436.0</td>\n",
       "      <td></td>\n",
       "    </tr>\n",
       "    <tr>\n",
       "      <td>1</td>\n",
       "      <td>2020-04-11</td>\n",
       "      <td>Kafe.Moment</td>\n",
       "      <td>137.0</td>\n",
       "      <td></td>\n",
       "    </tr>\n",
       "    <tr>\n",
       "      <td>2</td>\n",
       "      <td>2020-04-11</td>\n",
       "      <td>Daejeon, South Korea</td>\n",
       "      <td>336.0</td>\n",
       "      <td>#마스터피스</td>\n",
       "    </tr>\n",
       "    <tr>\n",
       "      <td>3</td>\n",
       "      <td>2020-04-12</td>\n",
       "      <td>에이치피</td>\n",
       "      <td>307.0</td>\n",
       "      <td>#대전#대전카페#대흥동#선화동#대흥동카페#선화동카페#에이치피#카페스타그램#신상카페#...</td>\n",
       "    </tr>\n",
       "    <tr>\n",
       "      <td>4</td>\n",
       "      <td>2020-04-10</td>\n",
       "      <td>Eventide</td>\n",
       "      <td>444.0</td>\n",
       "      <td></td>\n",
       "    </tr>\n",
       "    <tr>\n",
       "      <td>...</td>\n",
       "      <td>...</td>\n",
       "      <td>...</td>\n",
       "      <td>...</td>\n",
       "      <td>...</td>\n",
       "    </tr>\n",
       "    <tr>\n",
       "      <td>345</td>\n",
       "      <td>2020-04-12</td>\n",
       "      <td>None</td>\n",
       "      <td>29.0</td>\n",
       "      <td>#카페#당진카페#서산카페#당진여행#충남카페#충남여행#당진데이트#당진맛집#서산맛집#당...</td>\n",
       "    </tr>\n",
       "    <tr>\n",
       "      <td>346</td>\n",
       "      <td>2020-04-12</td>\n",
       "      <td>Daejeon</td>\n",
       "      <td>37.0</td>\n",
       "      <td>#인아웃#인아웃유성점#대전카페#대전카페투어#대전카페추천#대전신상카페#신상카페투어#세...</td>\n",
       "    </tr>\n",
       "    <tr>\n",
       "      <td>347</td>\n",
       "      <td>2020-04-12</td>\n",
       "      <td>공주한옥카페엣지</td>\n",
       "      <td>32.0</td>\n",
       "      <td></td>\n",
       "    </tr>\n",
       "    <tr>\n",
       "      <td>348</td>\n",
       "      <td>2020-04-12</td>\n",
       "      <td>인아웃 유성</td>\n",
       "      <td>54.0</td>\n",
       "      <td>#구암동#구암동카페#구암동맛집#인아웃#인아웃유성점#대전#대전카페#대전맛집#대전카페추...</td>\n",
       "    </tr>\n",
       "    <tr>\n",
       "      <td>349</td>\n",
       "      <td>2020-04-12</td>\n",
       "      <td>비건바닐라</td>\n",
       "      <td>34.0</td>\n",
       "      <td>#비건바닐라베이커리#not달걀우유버터#4#비건#채식#베지테리언#비건빵#비건베이킹#비...</td>\n",
       "    </tr>\n",
       "  </tbody>\n",
       "</table>\n",
       "<p>350 rows × 4 columns</p>\n",
       "</div>"
      ],
      "text/plain": [
       "            작성일                    장소    좋아요  \\\n",
       "0    2020-04-11               Daejeon  436.0   \n",
       "1    2020-04-11           Kafe.Moment  137.0   \n",
       "2    2020-04-11  Daejeon, South Korea  336.0   \n",
       "3    2020-04-12                  에이치피  307.0   \n",
       "4    2020-04-10              Eventide  444.0   \n",
       "..          ...                   ...    ...   \n",
       "345  2020-04-12                  None   29.0   \n",
       "346  2020-04-12               Daejeon   37.0   \n",
       "347  2020-04-12              공주한옥카페엣지   32.0   \n",
       "348  2020-04-12                인아웃 유성   54.0   \n",
       "349  2020-04-12                 비건바닐라   34.0   \n",
       "\n",
       "                                                  해시태그  \n",
       "0                                                       \n",
       "1                                                       \n",
       "2                                               #마스터피스  \n",
       "3    #대전#대전카페#대흥동#선화동#대흥동카페#선화동카페#에이치피#카페스타그램#신상카페#...  \n",
       "4                                                       \n",
       "..                                                 ...  \n",
       "345  #카페#당진카페#서산카페#당진여행#충남카페#충남여행#당진데이트#당진맛집#서산맛집#당...  \n",
       "346  #인아웃#인아웃유성점#대전카페#대전카페투어#대전카페추천#대전신상카페#신상카페투어#세...  \n",
       "347                                                     \n",
       "348  #구암동#구암동카페#구암동맛집#인아웃#인아웃유성점#대전#대전카페#대전맛집#대전카페추...  \n",
       "349  #비건바닐라베이커리#not달걀우유버터#4#비건#채식#베지테리언#비건빵#비건베이킹#비...  \n",
       "\n",
       "[350 rows x 4 columns]"
      ]
     },
     "execution_count": 99,
     "metadata": {},
     "output_type": "execute_result"
    }
   ],
   "source": [
    "final"
   ]
  },
  {
   "cell_type": "code",
   "execution_count": 101,
   "metadata": {},
   "outputs": [],
   "source": [
    "final.to_excel('insta_Daejeon_cafe.xlsx')"
   ]
  },
  {
   "cell_type": "markdown",
   "metadata": {},
   "source": [
    "# 데이터 시각화"
   ]
  },
  {
   "cell_type": "code",
   "execution_count": 1,
   "metadata": {},
   "outputs": [],
   "source": [
    "import pandas as pd"
   ]
  },
  {
   "cell_type": "code",
   "execution_count": 7,
   "metadata": {},
   "outputs": [],
   "source": [
    "final = pd.read_excel('insta_Daejeon_cafe.xlsx')\n",
    "del final['Unnamed: 0']"
   ]
  },
  {
   "cell_type": "code",
   "execution_count": 9,
   "metadata": {},
   "outputs": [
    {
     "data": {
      "text/html": [
       "<div>\n",
       "<style scoped>\n",
       "    .dataframe tbody tr th:only-of-type {\n",
       "        vertical-align: middle;\n",
       "    }\n",
       "\n",
       "    .dataframe tbody tr th {\n",
       "        vertical-align: top;\n",
       "    }\n",
       "\n",
       "    .dataframe thead th {\n",
       "        text-align: right;\n",
       "    }\n",
       "</style>\n",
       "<table border=\"1\" class=\"dataframe\">\n",
       "  <thead>\n",
       "    <tr style=\"text-align: right;\">\n",
       "      <th></th>\n",
       "      <th>작성일</th>\n",
       "      <th>장소</th>\n",
       "      <th>좋아요</th>\n",
       "      <th>해시태그</th>\n",
       "    </tr>\n",
       "  </thead>\n",
       "  <tbody>\n",
       "    <tr>\n",
       "      <td>0</td>\n",
       "      <td>2020-04-11</td>\n",
       "      <td>Daejeon</td>\n",
       "      <td>436.0</td>\n",
       "      <td>NaN</td>\n",
       "    </tr>\n",
       "    <tr>\n",
       "      <td>1</td>\n",
       "      <td>2020-04-11</td>\n",
       "      <td>Kafe.Moment</td>\n",
       "      <td>137.0</td>\n",
       "      <td>NaN</td>\n",
       "    </tr>\n",
       "    <tr>\n",
       "      <td>2</td>\n",
       "      <td>2020-04-11</td>\n",
       "      <td>Daejeon, South Korea</td>\n",
       "      <td>336.0</td>\n",
       "      <td>#마스터피스</td>\n",
       "    </tr>\n",
       "    <tr>\n",
       "      <td>3</td>\n",
       "      <td>2020-04-12</td>\n",
       "      <td>에이치피</td>\n",
       "      <td>307.0</td>\n",
       "      <td>#대전#대전카페#대흥동#선화동#대흥동카페#선화동카페#에이치피#카페스타그램#신상카페#...</td>\n",
       "    </tr>\n",
       "    <tr>\n",
       "      <td>4</td>\n",
       "      <td>2020-04-10</td>\n",
       "      <td>Eventide</td>\n",
       "      <td>444.0</td>\n",
       "      <td>NaN</td>\n",
       "    </tr>\n",
       "    <tr>\n",
       "      <td>...</td>\n",
       "      <td>...</td>\n",
       "      <td>...</td>\n",
       "      <td>...</td>\n",
       "      <td>...</td>\n",
       "    </tr>\n",
       "    <tr>\n",
       "      <td>345</td>\n",
       "      <td>2020-04-12</td>\n",
       "      <td>NaN</td>\n",
       "      <td>29.0</td>\n",
       "      <td>#카페#당진카페#서산카페#당진여행#충남카페#충남여행#당진데이트#당진맛집#서산맛집#당...</td>\n",
       "    </tr>\n",
       "    <tr>\n",
       "      <td>346</td>\n",
       "      <td>2020-04-12</td>\n",
       "      <td>Daejeon</td>\n",
       "      <td>37.0</td>\n",
       "      <td>#인아웃#인아웃유성점#대전카페#대전카페투어#대전카페추천#대전신상카페#신상카페투어#세...</td>\n",
       "    </tr>\n",
       "    <tr>\n",
       "      <td>347</td>\n",
       "      <td>2020-04-12</td>\n",
       "      <td>공주한옥카페엣지</td>\n",
       "      <td>32.0</td>\n",
       "      <td>NaN</td>\n",
       "    </tr>\n",
       "    <tr>\n",
       "      <td>348</td>\n",
       "      <td>2020-04-12</td>\n",
       "      <td>인아웃 유성</td>\n",
       "      <td>54.0</td>\n",
       "      <td>#구암동#구암동카페#구암동맛집#인아웃#인아웃유성점#대전#대전카페#대전맛집#대전카페추...</td>\n",
       "    </tr>\n",
       "    <tr>\n",
       "      <td>349</td>\n",
       "      <td>2020-04-12</td>\n",
       "      <td>비건바닐라</td>\n",
       "      <td>34.0</td>\n",
       "      <td>#비건바닐라베이커리#not달걀우유버터#4#비건#채식#베지테리언#비건빵#비건베이킹#비...</td>\n",
       "    </tr>\n",
       "  </tbody>\n",
       "</table>\n",
       "<p>350 rows × 4 columns</p>\n",
       "</div>"
      ],
      "text/plain": [
       "            작성일                    장소    좋아요  \\\n",
       "0    2020-04-11               Daejeon  436.0   \n",
       "1    2020-04-11           Kafe.Moment  137.0   \n",
       "2    2020-04-11  Daejeon, South Korea  336.0   \n",
       "3    2020-04-12                  에이치피  307.0   \n",
       "4    2020-04-10              Eventide  444.0   \n",
       "..          ...                   ...    ...   \n",
       "345  2020-04-12                   NaN   29.0   \n",
       "346  2020-04-12               Daejeon   37.0   \n",
       "347  2020-04-12              공주한옥카페엣지   32.0   \n",
       "348  2020-04-12                인아웃 유성   54.0   \n",
       "349  2020-04-12                 비건바닐라   34.0   \n",
       "\n",
       "                                                  해시태그  \n",
       "0                                                  NaN  \n",
       "1                                                  NaN  \n",
       "2                                               #마스터피스  \n",
       "3    #대전#대전카페#대흥동#선화동#대흥동카페#선화동카페#에이치피#카페스타그램#신상카페#...  \n",
       "4                                                  NaN  \n",
       "..                                                 ...  \n",
       "345  #카페#당진카페#서산카페#당진여행#충남카페#충남여행#당진데이트#당진맛집#서산맛집#당...  \n",
       "346  #인아웃#인아웃유성점#대전카페#대전카페투어#대전카페추천#대전신상카페#신상카페투어#세...  \n",
       "347                                                NaN  \n",
       "348  #구암동#구암동카페#구암동맛집#인아웃#인아웃유성점#대전#대전카페#대전맛집#대전카페추...  \n",
       "349  #비건바닐라베이커리#not달걀우유버터#4#비건#채식#베지테리언#비건빵#비건베이킹#비...  \n",
       "\n",
       "[350 rows x 4 columns]"
      ]
     },
     "execution_count": 9,
     "metadata": {},
     "output_type": "execute_result"
    }
   ],
   "source": [
    "final"
   ]
  },
  {
   "cell_type": "markdown",
   "metadata": {},
   "source": [
    "## 해시태그 빈도 집계"
   ]
  },
  {
   "cell_type": "code",
   "execution_count": 22,
   "metadata": {},
   "outputs": [
    {
     "data": {
      "text/html": [
       "<div>\n",
       "<style scoped>\n",
       "    .dataframe tbody tr th:only-of-type {\n",
       "        vertical-align: middle;\n",
       "    }\n",
       "\n",
       "    .dataframe tbody tr th {\n",
       "        vertical-align: top;\n",
       "    }\n",
       "\n",
       "    .dataframe thead th {\n",
       "        text-align: right;\n",
       "    }\n",
       "</style>\n",
       "<table border=\"1\" class=\"dataframe\">\n",
       "  <thead>\n",
       "    <tr style=\"text-align: right;\">\n",
       "      <th></th>\n",
       "      <th>작성일</th>\n",
       "      <th>장소</th>\n",
       "      <th>좋아요</th>\n",
       "      <th>해시태그</th>\n",
       "    </tr>\n",
       "  </thead>\n",
       "  <tbody>\n",
       "    <tr>\n",
       "      <td>2</td>\n",
       "      <td>2020-04-11</td>\n",
       "      <td>Daejeon, South Korea</td>\n",
       "      <td>336.0</td>\n",
       "      <td>#마스터피스</td>\n",
       "    </tr>\n",
       "    <tr>\n",
       "      <td>3</td>\n",
       "      <td>2020-04-12</td>\n",
       "      <td>에이치피</td>\n",
       "      <td>307.0</td>\n",
       "      <td>#대전#대전카페#대흥동#선화동#대흥동카페#선화동카페#에이치피#카페스타그램#신상카페#...</td>\n",
       "    </tr>\n",
       "    <tr>\n",
       "      <td>5</td>\n",
       "      <td>2020-04-10</td>\n",
       "      <td>Daejeon</td>\n",
       "      <td>444.0</td>\n",
       "      <td>#피버브리즈</td>\n",
       "    </tr>\n",
       "    <tr>\n",
       "      <td>6</td>\n",
       "      <td>2020-04-11</td>\n",
       "      <td>템포러리스탑</td>\n",
       "      <td>203.0</td>\n",
       "      <td>#트윈즈#디지털노마드</td>\n",
       "    </tr>\n",
       "    <tr>\n",
       "      <td>9</td>\n",
       "      <td>2020-04-12</td>\n",
       "      <td>대전어딘가</td>\n",
       "      <td>1.0</td>\n",
       "      <td>#전포카페#대흥동카페#은행동카페#선화동카페#대전카페#대전카페추천#대전카페투어#대흥동...</td>\n",
       "    </tr>\n",
       "    <tr>\n",
       "      <td>...</td>\n",
       "      <td>...</td>\n",
       "      <td>...</td>\n",
       "      <td>...</td>\n",
       "      <td>...</td>\n",
       "    </tr>\n",
       "    <tr>\n",
       "      <td>344</td>\n",
       "      <td>2020-04-12</td>\n",
       "      <td>NaN</td>\n",
       "      <td>8.0</td>\n",
       "      <td>#티라미수#쑥인절미케이크#머랭쿠키#초코케이크#황등카페#익산카페#황등맛집#익산맛집#종...</td>\n",
       "    </tr>\n",
       "    <tr>\n",
       "      <td>345</td>\n",
       "      <td>2020-04-12</td>\n",
       "      <td>NaN</td>\n",
       "      <td>29.0</td>\n",
       "      <td>#카페#당진카페#서산카페#당진여행#충남카페#충남여행#당진데이트#당진맛집#서산맛집#당...</td>\n",
       "    </tr>\n",
       "    <tr>\n",
       "      <td>346</td>\n",
       "      <td>2020-04-12</td>\n",
       "      <td>Daejeon</td>\n",
       "      <td>37.0</td>\n",
       "      <td>#인아웃#인아웃유성점#대전카페#대전카페투어#대전카페추천#대전신상카페#신상카페투어#세...</td>\n",
       "    </tr>\n",
       "    <tr>\n",
       "      <td>348</td>\n",
       "      <td>2020-04-12</td>\n",
       "      <td>인아웃 유성</td>\n",
       "      <td>54.0</td>\n",
       "      <td>#구암동#구암동카페#구암동맛집#인아웃#인아웃유성점#대전#대전카페#대전맛집#대전카페추...</td>\n",
       "    </tr>\n",
       "    <tr>\n",
       "      <td>349</td>\n",
       "      <td>2020-04-12</td>\n",
       "      <td>비건바닐라</td>\n",
       "      <td>34.0</td>\n",
       "      <td>#비건바닐라베이커리#not달걀우유버터#4#비건#채식#베지테리언#비건빵#비건베이킹#비...</td>\n",
       "    </tr>\n",
       "  </tbody>\n",
       "</table>\n",
       "<p>259 rows × 4 columns</p>\n",
       "</div>"
      ],
      "text/plain": [
       "            작성일                    장소    좋아요  \\\n",
       "2    2020-04-11  Daejeon, South Korea  336.0   \n",
       "3    2020-04-12                  에이치피  307.0   \n",
       "5    2020-04-10               Daejeon  444.0   \n",
       "6    2020-04-11                템포러리스탑  203.0   \n",
       "9    2020-04-12                 대전어딘가    1.0   \n",
       "..          ...                   ...    ...   \n",
       "344  2020-04-12                   NaN    8.0   \n",
       "345  2020-04-12                   NaN   29.0   \n",
       "346  2020-04-12               Daejeon   37.0   \n",
       "348  2020-04-12                인아웃 유성   54.0   \n",
       "349  2020-04-12                 비건바닐라   34.0   \n",
       "\n",
       "                                                  해시태그  \n",
       "2                                               #마스터피스  \n",
       "3    #대전#대전카페#대흥동#선화동#대흥동카페#선화동카페#에이치피#카페스타그램#신상카페#...  \n",
       "5                                               #피버브리즈  \n",
       "6                                          #트윈즈#디지털노마드  \n",
       "9    #전포카페#대흥동카페#은행동카페#선화동카페#대전카페#대전카페추천#대전카페투어#대흥동...  \n",
       "..                                                 ...  \n",
       "344  #티라미수#쑥인절미케이크#머랭쿠키#초코케이크#황등카페#익산카페#황등맛집#익산맛집#종...  \n",
       "345  #카페#당진카페#서산카페#당진여행#충남카페#충남여행#당진데이트#당진맛집#서산맛집#당...  \n",
       "346  #인아웃#인아웃유성점#대전카페#대전카페투어#대전카페추천#대전신상카페#신상카페투어#세...  \n",
       "348  #구암동#구암동카페#구암동맛집#인아웃#인아웃유성점#대전#대전카페#대전맛집#대전카페추...  \n",
       "349  #비건바닐라베이커리#not달걀우유버터#4#비건#채식#베지테리언#비건빵#비건베이킹#비...  \n",
       "\n",
       "[259 rows x 4 columns]"
      ]
     },
     "execution_count": 22,
     "metadata": {},
     "output_type": "execute_result"
    }
   ],
   "source": [
    "# 일단 해시태그가 빈 값인 셀들은 전부 제거한다.\n",
    "cond = final['해시태그'].isnull()\n",
    "using_data = final[cond==False]\n",
    "using_data"
   ]
  },
  {
   "cell_type": "code",
   "execution_count": 24,
   "metadata": {},
   "outputs": [
    {
     "data": {
      "text/plain": [
       "작성일       0\n",
       "장소      112\n",
       "좋아요       0\n",
       "해시태그      0\n",
       "dtype: int64"
      ]
     },
     "execution_count": 24,
     "metadata": {},
     "output_type": "execute_result"
    }
   ],
   "source": [
    "using_data.isnull().sum(axis=0)"
   ]
  },
  {
   "cell_type": "code",
   "execution_count": 25,
   "metadata": {},
   "outputs": [],
   "source": [
    "tags = using_data['해시태그']"
   ]
  },
  {
   "cell_type": "code",
   "execution_count": 33,
   "metadata": {},
   "outputs": [
    {
     "data": {
      "text/plain": [
       "['마스터피스', '대전', '대전카페', '대흥동', '선화동', '대흥동카페']"
      ]
     },
     "execution_count": 33,
     "metadata": {},
     "output_type": "execute_result"
    }
   ],
   "source": [
    "tag_list = []\n",
    "for tag in tags:\n",
    "    tag = tag.replace(\" \",\"\")\n",
    "    tag_word = tag.split('#')[1:]\n",
    "    tag_list += tag_word\n",
    "tag_list[:6]"
   ]
  },
  {
   "cell_type": "code",
   "execution_count": 34,
   "metadata": {},
   "outputs": [
    {
     "data": {
      "text/plain": [
       "4347"
      ]
     },
     "execution_count": 34,
     "metadata": {},
     "output_type": "execute_result"
    }
   ],
   "source": [
    "len(tag_list)"
   ]
  },
  {
   "cell_type": "code",
   "execution_count": 36,
   "metadata": {},
   "outputs": [
    {
     "data": {
      "text/plain": [
       "대전카페      201\n",
       "대전         95\n",
       "대전맛집       54\n",
       "일상         45\n",
       "청주카페       40\n",
       "         ... \n",
       "강서동카페       1\n",
       "신상카페투어      1\n",
       "대전까눌레       1\n",
       "갈레트브루통      1\n",
       "커피숍         1\n",
       "Length: 1848, dtype: int64"
      ]
     },
     "execution_count": 36,
     "metadata": {},
     "output_type": "execute_result"
    }
   ],
   "source": [
    "tag_Series = pd.Series(tag_list)\n",
    "counted = tag_Series.value_counts()\n",
    "counted"
   ]
  },
  {
   "cell_type": "code",
   "execution_count": 68,
   "metadata": {},
   "outputs": [
    {
     "data": {
      "text/plain": [
       "대전카페         201\n",
       "대전            95\n",
       "대전맛집          54\n",
       "일상            45\n",
       "청주카페          40\n",
       "대흥동카페         31\n",
       "좋아요           30\n",
       "ootd          30\n",
       "카페투어          30\n",
       "갈마동카페         30\n",
       "데일리           30\n",
       "카페            29\n",
       "대전카페추천        29\n",
       "세종카페          28\n",
       "맞팔            28\n",
       "데일리룩          27\n",
       "카페스타그램        27\n",
       "청주            27\n",
       "소통            26\n",
       "천안카페          26\n",
       "선팔            24\n",
       "dailylook     23\n",
       "🙋‍            23\n",
       "대구카페          23\n",
       "은행동카페         21\n",
       "daily         19\n",
       "도안동카페         19\n",
       "둔산동카페         19\n",
       "좋아요반사         19\n",
       "좋반            19\n",
       "dtype: int64"
      ]
     },
     "execution_count": 68,
     "metadata": {},
     "output_type": "execute_result"
    }
   ],
   "source": [
    "# 상위 30개 빈도수의 태그만 집계하도록 한다.\n",
    "\n",
    "popular_tags = counted.head(30)\n",
    "popular_tags"
   ]
  },
  {
   "cell_type": "code",
   "execution_count": 52,
   "metadata": {},
   "outputs": [],
   "source": [
    "import matplotlib.pyplot as plt"
   ]
  },
  {
   "cell_type": "code",
   "execution_count": 53,
   "metadata": {},
   "outputs": [],
   "source": [
    "# matplotlib의 한글깨짐 방지\n",
    "\n",
    "from matplotlib import font_manager,rc\n",
    "import platform\n",
    "\n",
    "path = 'c:/windows/Fonts/malgun.ttf'\n",
    "font_name = font_manager.FontProperties(fname=path).get_name()\n",
    "rc('font',family = font_name)"
   ]
  },
  {
   "cell_type": "code",
   "execution_count": 59,
   "metadata": {},
   "outputs": [
    {
     "data": {
      "text/plain": [
       "<matplotlib.axes._subplots.AxesSubplot at 0x2669a43d488>"
      ]
     },
     "execution_count": 59,
     "metadata": {},
     "output_type": "execute_result"
    },
    {
     "name": "stderr",
     "output_type": "stream",
     "text": [
      "C:\\Users\\hp\\Anaconda3\\lib\\site-packages\\matplotlib\\backends\\backend_agg.py:211: RuntimeWarning: Glyph 55357 missing from current font.\n",
      "  font.set_text(s, 0.0, flags=flags)\n",
      "C:\\Users\\hp\\Anaconda3\\lib\\site-packages\\matplotlib\\backends\\backend_agg.py:211: RuntimeWarning: Glyph 56907 missing from current font.\n",
      "  font.set_text(s, 0.0, flags=flags)\n",
      "C:\\Users\\hp\\Anaconda3\\lib\\site-packages\\matplotlib\\backends\\backend_agg.py:180: RuntimeWarning: Glyph 55357 missing from current font.\n",
      "  font.set_text(s, 0, flags=flags)\n",
      "C:\\Users\\hp\\Anaconda3\\lib\\site-packages\\matplotlib\\backends\\backend_agg.py:180: RuntimeWarning: Glyph 56907 missing from current font.\n",
      "  font.set_text(s, 0, flags=flags)\n"
     ]
    },
    {
     "data": {
      "image/png": "[encoded data removed]",
      "text/plain": [
       "<Figure size 720x576 with 1 Axes>"
      ]
     },
     "metadata": {
      "needs_background": "light"
     },
     "output_type": "display_data"
    }
   ],
   "source": [
    "plt.figure(figsize=(10,8))\n",
    "popular_tags.plot(x=popular_tags.index ,y=popular_tags.values,kind='barh')"
   ]
  },
  {
   "cell_type": "markdown",
   "metadata": {},
   "source": [
    "## wordcloud를 통해 태그를 나타내기"
   ]
  },
  {
   "cell_type": "code",
   "execution_count": 76,
   "metadata": {},
   "outputs": [],
   "source": [
    "from wordcloud import WordCloud\n",
    "import platform\n",
    "\n",
    "font_path = 'c:/Windows/Fonts/malgun.ttf'"
   ]
  },
  {
   "cell_type": "code",
   "execution_count": 78,
   "metadata": {},
   "outputs": [
    {
     "data": {
      "text/plain": [
       "(-0.5, 799.5, 399.5, -0.5)"
      ]
     },
     "execution_count": 78,
     "metadata": {},
     "output_type": "execute_result"
    },
    {
     "data": {
      "image/png": "[encoded data removed]",
      "text/plain": [
       "<Figure size 1080x720 with 1 Axes>"
      ]
     },
     "metadata": {
      "needs_background": "light"
     },
     "output_type": "display_data"
    }
   ],
   "source": [
    "wordcloud = WordCloud(font_path = font_path,\n",
    "                      background_color='white',\n",
    "                     max_words=100,\n",
    "                     relative_scaling=0.3,\n",
    "                     width = 800,\n",
    "                     height = 400\n",
    "                     ).generate_from_frequencies(popular_tags)\n",
    "plt.figure(figsize=(15,10))\n",
    "plt.imshow(wordcloud)\n",
    "plt.axis('off')"
   ]
  },
  {
   "cell_type": "markdown",
   "metadata": {},
   "source": [
    "# 언급된 장소를 기준으로 지도에 시각화해보기"
   ]
  },
  {
   "cell_type": "code",
   "execution_count": 80,
   "metadata": {},
   "outputs": [
    {
     "data": {
      "text/html": [
       "<div>\n",
       "<style scoped>\n",
       "    .dataframe tbody tr th:only-of-type {\n",
       "        vertical-align: middle;\n",
       "    }\n",
       "\n",
       "    .dataframe tbody tr th {\n",
       "        vertical-align: top;\n",
       "    }\n",
       "\n",
       "    .dataframe thead th {\n",
       "        text-align: right;\n",
       "    }\n",
       "</style>\n",
       "<table border=\"1\" class=\"dataframe\">\n",
       "  <thead>\n",
       "    <tr style=\"text-align: right;\">\n",
       "      <th></th>\n",
       "      <th>작성일</th>\n",
       "      <th>장소</th>\n",
       "      <th>좋아요</th>\n",
       "      <th>해시태그</th>\n",
       "    </tr>\n",
       "  </thead>\n",
       "  <tbody>\n",
       "    <tr>\n",
       "      <td>0</td>\n",
       "      <td>2020-04-11</td>\n",
       "      <td>Daejeon</td>\n",
       "      <td>436.0</td>\n",
       "      <td>NaN</td>\n",
       "    </tr>\n",
       "    <tr>\n",
       "      <td>1</td>\n",
       "      <td>2020-04-11</td>\n",
       "      <td>Kafe.Moment</td>\n",
       "      <td>137.0</td>\n",
       "      <td>NaN</td>\n",
       "    </tr>\n",
       "    <tr>\n",
       "      <td>2</td>\n",
       "      <td>2020-04-11</td>\n",
       "      <td>Daejeon, South Korea</td>\n",
       "      <td>336.0</td>\n",
       "      <td>#마스터피스</td>\n",
       "    </tr>\n",
       "    <tr>\n",
       "      <td>3</td>\n",
       "      <td>2020-04-12</td>\n",
       "      <td>에이치피</td>\n",
       "      <td>307.0</td>\n",
       "      <td>#대전#대전카페#대흥동#선화동#대흥동카페#선화동카페#에이치피#카페스타그램#신상카페#...</td>\n",
       "    </tr>\n",
       "    <tr>\n",
       "      <td>4</td>\n",
       "      <td>2020-04-10</td>\n",
       "      <td>Eventide</td>\n",
       "      <td>444.0</td>\n",
       "      <td>NaN</td>\n",
       "    </tr>\n",
       "    <tr>\n",
       "      <td>...</td>\n",
       "      <td>...</td>\n",
       "      <td>...</td>\n",
       "      <td>...</td>\n",
       "      <td>...</td>\n",
       "    </tr>\n",
       "    <tr>\n",
       "      <td>345</td>\n",
       "      <td>2020-04-12</td>\n",
       "      <td>NaN</td>\n",
       "      <td>29.0</td>\n",
       "      <td>#카페#당진카페#서산카페#당진여행#충남카페#충남여행#당진데이트#당진맛집#서산맛집#당...</td>\n",
       "    </tr>\n",
       "    <tr>\n",
       "      <td>346</td>\n",
       "      <td>2020-04-12</td>\n",
       "      <td>Daejeon</td>\n",
       "      <td>37.0</td>\n",
       "      <td>#인아웃#인아웃유성점#대전카페#대전카페투어#대전카페추천#대전신상카페#신상카페투어#세...</td>\n",
       "    </tr>\n",
       "    <tr>\n",
       "      <td>347</td>\n",
       "      <td>2020-04-12</td>\n",
       "      <td>공주한옥카페엣지</td>\n",
       "      <td>32.0</td>\n",
       "      <td>NaN</td>\n",
       "    </tr>\n",
       "    <tr>\n",
       "      <td>348</td>\n",
       "      <td>2020-04-12</td>\n",
       "      <td>인아웃 유성</td>\n",
       "      <td>54.0</td>\n",
       "      <td>#구암동#구암동카페#구암동맛집#인아웃#인아웃유성점#대전#대전카페#대전맛집#대전카페추...</td>\n",
       "    </tr>\n",
       "    <tr>\n",
       "      <td>349</td>\n",
       "      <td>2020-04-12</td>\n",
       "      <td>비건바닐라</td>\n",
       "      <td>34.0</td>\n",
       "      <td>#비건바닐라베이커리#not달걀우유버터#4#비건#채식#베지테리언#비건빵#비건베이킹#비...</td>\n",
       "    </tr>\n",
       "  </tbody>\n",
       "</table>\n",
       "<p>350 rows × 4 columns</p>\n",
       "</div>"
      ],
      "text/plain": [
       "            작성일                    장소    좋아요  \\\n",
       "0    2020-04-11               Daejeon  436.0   \n",
       "1    2020-04-11           Kafe.Moment  137.0   \n",
       "2    2020-04-11  Daejeon, South Korea  336.0   \n",
       "3    2020-04-12                  에이치피  307.0   \n",
       "4    2020-04-10              Eventide  444.0   \n",
       "..          ...                   ...    ...   \n",
       "345  2020-04-12                   NaN   29.0   \n",
       "346  2020-04-12               Daejeon   37.0   \n",
       "347  2020-04-12              공주한옥카페엣지   32.0   \n",
       "348  2020-04-12                인아웃 유성   54.0   \n",
       "349  2020-04-12                 비건바닐라   34.0   \n",
       "\n",
       "                                                  해시태그  \n",
       "0                                                  NaN  \n",
       "1                                                  NaN  \n",
       "2                                               #마스터피스  \n",
       "3    #대전#대전카페#대흥동#선화동#대흥동카페#선화동카페#에이치피#카페스타그램#신상카페#...  \n",
       "4                                                  NaN  \n",
       "..                                                 ...  \n",
       "345  #카페#당진카페#서산카페#당진여행#충남카페#충남여행#당진데이트#당진맛집#서산맛집#당...  \n",
       "346  #인아웃#인아웃유성점#대전카페#대전카페투어#대전카페추천#대전신상카페#신상카페투어#세...  \n",
       "347                                                NaN  \n",
       "348  #구암동#구암동카페#구암동맛집#인아웃#인아웃유성점#대전#대전카페#대전맛집#대전카페추...  \n",
       "349  #비건바닐라베이커리#not달걀우유버터#4#비건#채식#베지테리언#비건빵#비건베이킹#비...  \n",
       "\n",
       "[350 rows x 4 columns]"
      ]
     },
     "execution_count": 80,
     "metadata": {},
     "output_type": "execute_result"
    }
   ],
   "source": [
    "final"
   ]
  },
  {
   "cell_type": "code",
   "execution_count": 82,
   "metadata": {},
   "outputs": [],
   "source": [
    "# 장소 컬럼이 비어있는 로우는 전부 삭제\n",
    "\n",
    "cond = final['장소'].isnull()\n",
    "using_data = final[cond==False]"
   ]
  },
  {
   "cell_type": "code",
   "execution_count": 83,
   "metadata": {},
   "outputs": [
    {
     "data": {
      "text/html": [
       "<div>\n",
       "<style scoped>\n",
       "    .dataframe tbody tr th:only-of-type {\n",
       "        vertical-align: middle;\n",
       "    }\n",
       "\n",
       "    .dataframe tbody tr th {\n",
       "        vertical-align: top;\n",
       "    }\n",
       "\n",
       "    .dataframe thead th {\n",
       "        text-align: right;\n",
       "    }\n",
       "</style>\n",
       "<table border=\"1\" class=\"dataframe\">\n",
       "  <thead>\n",
       "    <tr style=\"text-align: right;\">\n",
       "      <th></th>\n",
       "      <th>작성일</th>\n",
       "      <th>장소</th>\n",
       "      <th>좋아요</th>\n",
       "      <th>해시태그</th>\n",
       "    </tr>\n",
       "  </thead>\n",
       "  <tbody>\n",
       "    <tr>\n",
       "      <td>0</td>\n",
       "      <td>2020-04-11</td>\n",
       "      <td>Daejeon</td>\n",
       "      <td>436.0</td>\n",
       "      <td>NaN</td>\n",
       "    </tr>\n",
       "    <tr>\n",
       "      <td>1</td>\n",
       "      <td>2020-04-11</td>\n",
       "      <td>Kafe.Moment</td>\n",
       "      <td>137.0</td>\n",
       "      <td>NaN</td>\n",
       "    </tr>\n",
       "    <tr>\n",
       "      <td>2</td>\n",
       "      <td>2020-04-11</td>\n",
       "      <td>Daejeon, South Korea</td>\n",
       "      <td>336.0</td>\n",
       "      <td>#마스터피스</td>\n",
       "    </tr>\n",
       "    <tr>\n",
       "      <td>3</td>\n",
       "      <td>2020-04-12</td>\n",
       "      <td>에이치피</td>\n",
       "      <td>307.0</td>\n",
       "      <td>#대전#대전카페#대흥동#선화동#대흥동카페#선화동카페#에이치피#카페스타그램#신상카페#...</td>\n",
       "    </tr>\n",
       "    <tr>\n",
       "      <td>4</td>\n",
       "      <td>2020-04-10</td>\n",
       "      <td>Eventide</td>\n",
       "      <td>444.0</td>\n",
       "      <td>NaN</td>\n",
       "    </tr>\n",
       "    <tr>\n",
       "      <td>...</td>\n",
       "      <td>...</td>\n",
       "      <td>...</td>\n",
       "      <td>...</td>\n",
       "      <td>...</td>\n",
       "    </tr>\n",
       "    <tr>\n",
       "      <td>343</td>\n",
       "      <td>2020-04-12</td>\n",
       "      <td>Buttercup</td>\n",
       "      <td>20.0</td>\n",
       "      <td>#buttercup#버터컵#대전카페#대전맛집#대전여행#대전데이트#대전신상카페#대전카...</td>\n",
       "    </tr>\n",
       "    <tr>\n",
       "      <td>346</td>\n",
       "      <td>2020-04-12</td>\n",
       "      <td>Daejeon</td>\n",
       "      <td>37.0</td>\n",
       "      <td>#인아웃#인아웃유성점#대전카페#대전카페투어#대전카페추천#대전신상카페#신상카페투어#세...</td>\n",
       "    </tr>\n",
       "    <tr>\n",
       "      <td>347</td>\n",
       "      <td>2020-04-12</td>\n",
       "      <td>공주한옥카페엣지</td>\n",
       "      <td>32.0</td>\n",
       "      <td>NaN</td>\n",
       "    </tr>\n",
       "    <tr>\n",
       "      <td>348</td>\n",
       "      <td>2020-04-12</td>\n",
       "      <td>인아웃 유성</td>\n",
       "      <td>54.0</td>\n",
       "      <td>#구암동#구암동카페#구암동맛집#인아웃#인아웃유성점#대전#대전카페#대전맛집#대전카페추...</td>\n",
       "    </tr>\n",
       "    <tr>\n",
       "      <td>349</td>\n",
       "      <td>2020-04-12</td>\n",
       "      <td>비건바닐라</td>\n",
       "      <td>34.0</td>\n",
       "      <td>#비건바닐라베이커리#not달걀우유버터#4#비건#채식#베지테리언#비건빵#비건베이킹#비...</td>\n",
       "    </tr>\n",
       "  </tbody>\n",
       "</table>\n",
       "<p>203 rows × 4 columns</p>\n",
       "</div>"
      ],
      "text/plain": [
       "            작성일                    장소    좋아요  \\\n",
       "0    2020-04-11               Daejeon  436.0   \n",
       "1    2020-04-11           Kafe.Moment  137.0   \n",
       "2    2020-04-11  Daejeon, South Korea  336.0   \n",
       "3    2020-04-12                  에이치피  307.0   \n",
       "4    2020-04-10              Eventide  444.0   \n",
       "..          ...                   ...    ...   \n",
       "343  2020-04-12             Buttercup   20.0   \n",
       "346  2020-04-12               Daejeon   37.0   \n",
       "347  2020-04-12              공주한옥카페엣지   32.0   \n",
       "348  2020-04-12                인아웃 유성   54.0   \n",
       "349  2020-04-12                 비건바닐라   34.0   \n",
       "\n",
       "                                                  해시태그  \n",
       "0                                                  NaN  \n",
       "1                                                  NaN  \n",
       "2                                               #마스터피스  \n",
       "3    #대전#대전카페#대흥동#선화동#대흥동카페#선화동카페#에이치피#카페스타그램#신상카페#...  \n",
       "4                                                  NaN  \n",
       "..                                                 ...  \n",
       "343  #buttercup#버터컵#대전카페#대전맛집#대전여행#대전데이트#대전신상카페#대전카...  \n",
       "346  #인아웃#인아웃유성점#대전카페#대전카페투어#대전카페추천#대전신상카페#신상카페투어#세...  \n",
       "347                                                NaN  \n",
       "348  #구암동#구암동카페#구암동맛집#인아웃#인아웃유성점#대전#대전카페#대전맛집#대전카페추...  \n",
       "349  #비건바닐라베이커리#not달걀우유버터#4#비건#채식#베지테리언#비건빵#비건베이킹#비...  \n",
       "\n",
       "[203 rows x 4 columns]"
      ]
     },
     "execution_count": 83,
     "metadata": {},
     "output_type": "execute_result"
    }
   ],
   "source": [
    "using_data"
   ]
  },
  {
   "cell_type": "code",
   "execution_count": 93,
   "metadata": {},
   "outputs": [
    {
     "data": {
      "text/plain": [
       "Daejeon                  True\n",
       "Daejeon, South Korea     True\n",
       "갤러리아타임월드                 True\n",
       "한밭수목원                    True\n",
       "대전 소제동                   True\n",
       "                        ...  \n",
       "오아커피                    False\n",
       "프락틱                     False\n",
       "켑트커피                    False\n",
       "LoungeX                 False\n",
       "부안 어딘가                  False\n",
       "Name: 장소, Length: 119, dtype: bool"
      ]
     },
     "execution_count": 93,
     "metadata": {},
     "output_type": "execute_result"
    }
   ],
   "source": [
    "# 세 번 이상 언급된 장소만 집계\n",
    "\n",
    "cond = (using_data.장소.value_counts()>=3)\n",
    "cond"
   ]
  },
  {
   "cell_type": "code",
   "execution_count": 97,
   "metadata": {},
   "outputs": [
    {
     "data": {
      "text/html": [
       "<div>\n",
       "<style scoped>\n",
       "    .dataframe tbody tr th:only-of-type {\n",
       "        vertical-align: middle;\n",
       "    }\n",
       "\n",
       "    .dataframe tbody tr th {\n",
       "        vertical-align: top;\n",
       "    }\n",
       "\n",
       "    .dataframe thead th {\n",
       "        text-align: right;\n",
       "    }\n",
       "</style>\n",
       "<table border=\"1\" class=\"dataframe\">\n",
       "  <thead>\n",
       "    <tr style=\"text-align: right;\">\n",
       "      <th></th>\n",
       "      <th>작성일</th>\n",
       "      <th>장소</th>\n",
       "      <th>좋아요</th>\n",
       "      <th>해시태그</th>\n",
       "      <th>장소at_least_three_times</th>\n",
       "    </tr>\n",
       "  </thead>\n",
       "  <tbody>\n",
       "    <tr>\n",
       "      <td>0</td>\n",
       "      <td>2020-04-11</td>\n",
       "      <td>Daejeon</td>\n",
       "      <td>436.0</td>\n",
       "      <td>NaN</td>\n",
       "      <td>True</td>\n",
       "    </tr>\n",
       "    <tr>\n",
       "      <td>5</td>\n",
       "      <td>2020-04-10</td>\n",
       "      <td>Daejeon</td>\n",
       "      <td>444.0</td>\n",
       "      <td>#피버브리즈</td>\n",
       "      <td>True</td>\n",
       "    </tr>\n",
       "    <tr>\n",
       "      <td>14</td>\n",
       "      <td>2020-04-12</td>\n",
       "      <td>Daejeon</td>\n",
       "      <td>17.0</td>\n",
       "      <td>NaN</td>\n",
       "      <td>True</td>\n",
       "    </tr>\n",
       "    <tr>\n",
       "      <td>18</td>\n",
       "      <td>2020-04-12</td>\n",
       "      <td>Daejeon</td>\n",
       "      <td>4.0</td>\n",
       "      <td>#오네스트홈#맞춤이불#오더메이드#린넨#이불#겨울이불#가수원동#대전#세종#혼수이불#신...</td>\n",
       "      <td>True</td>\n",
       "    </tr>\n",
       "    <tr>\n",
       "      <td>19</td>\n",
       "      <td>2020-04-12</td>\n",
       "      <td>Daejeon</td>\n",
       "      <td>4.0</td>\n",
       "      <td>#오네스트홈#맞춤이불#오더메이드#린넨#이불#겨울이불#가수원동#대전#세종#혼수이불#신...</td>\n",
       "      <td>True</td>\n",
       "    </tr>\n",
       "    <tr>\n",
       "      <td>...</td>\n",
       "      <td>...</td>\n",
       "      <td>...</td>\n",
       "      <td>...</td>\n",
       "      <td>...</td>\n",
       "      <td>...</td>\n",
       "    </tr>\n",
       "    <tr>\n",
       "      <td>331</td>\n",
       "      <td>2020-04-12</td>\n",
       "      <td>갈마동</td>\n",
       "      <td>124.0</td>\n",
       "      <td>NaN</td>\n",
       "      <td>False</td>\n",
       "    </tr>\n",
       "    <tr>\n",
       "      <td>338</td>\n",
       "      <td>2020-04-12</td>\n",
       "      <td>대전 노은동</td>\n",
       "      <td>17.0</td>\n",
       "      <td>NaN</td>\n",
       "      <td>False</td>\n",
       "    </tr>\n",
       "    <tr>\n",
       "      <td>339</td>\n",
       "      <td>2020-04-12</td>\n",
       "      <td>카페도브테일</td>\n",
       "      <td>36.0</td>\n",
       "      <td>#티라미수#티라미수맛집#청주티라미수#인생티라미수#청주#청주카페#청주맛집#감성카페#신...</td>\n",
       "      <td>False</td>\n",
       "    </tr>\n",
       "    <tr>\n",
       "      <td>343</td>\n",
       "      <td>2020-04-12</td>\n",
       "      <td>Buttercup</td>\n",
       "      <td>20.0</td>\n",
       "      <td>#buttercup#버터컵#대전카페#대전맛집#대전여행#대전데이트#대전신상카페#대전카...</td>\n",
       "      <td>False</td>\n",
       "    </tr>\n",
       "    <tr>\n",
       "      <td>347</td>\n",
       "      <td>2020-04-12</td>\n",
       "      <td>공주한옥카페엣지</td>\n",
       "      <td>32.0</td>\n",
       "      <td>NaN</td>\n",
       "      <td>False</td>\n",
       "    </tr>\n",
       "  </tbody>\n",
       "</table>\n",
       "<p>203 rows × 5 columns</p>\n",
       "</div>"
      ],
      "text/plain": [
       "            작성일         장소    좋아요  \\\n",
       "0    2020-04-11    Daejeon  436.0   \n",
       "5    2020-04-10    Daejeon  444.0   \n",
       "14   2020-04-12    Daejeon   17.0   \n",
       "18   2020-04-12    Daejeon    4.0   \n",
       "19   2020-04-12    Daejeon    4.0   \n",
       "..          ...        ...    ...   \n",
       "331  2020-04-12        갈마동  124.0   \n",
       "338  2020-04-12     대전 노은동   17.0   \n",
       "339  2020-04-12     카페도브테일   36.0   \n",
       "343  2020-04-12  Buttercup   20.0   \n",
       "347  2020-04-12   공주한옥카페엣지   32.0   \n",
       "\n",
       "                                                  해시태그  장소at_least_three_times  \n",
       "0                                                  NaN                    True  \n",
       "5                                               #피버브리즈                    True  \n",
       "14                                                 NaN                    True  \n",
       "18   #오네스트홈#맞춤이불#오더메이드#린넨#이불#겨울이불#가수원동#대전#세종#혼수이불#신...                    True  \n",
       "19   #오네스트홈#맞춤이불#오더메이드#린넨#이불#겨울이불#가수원동#대전#세종#혼수이불#신...                    True  \n",
       "..                                                 ...                     ...  \n",
       "331                                                NaN                   False  \n",
       "338                                                NaN                   False  \n",
       "339  #티라미수#티라미수맛집#청주티라미수#인생티라미수#청주#청주카페#청주맛집#감성카페#신...                   False  \n",
       "343  #buttercup#버터컵#대전카페#대전맛집#대전여행#대전데이트#대전신상카페#대전카...                   False  \n",
       "347                                                NaN                   False  \n",
       "\n",
       "[203 rows x 5 columns]"
      ]
     },
     "execution_count": 97,
     "metadata": {},
     "output_type": "execute_result"
    }
   ],
   "source": [
    "merged = pd.merge(using_data,cond,left_on='장소',right_index=True,suffixes = ['','at_least_three_times'])\n",
    "merged"
   ]
  },
  {
   "cell_type": "code",
   "execution_count": 103,
   "metadata": {},
   "outputs": [
    {
     "data": {
      "text/html": [
       "<div>\n",
       "<style scoped>\n",
       "    .dataframe tbody tr th:only-of-type {\n",
       "        vertical-align: middle;\n",
       "    }\n",
       "\n",
       "    .dataframe tbody tr th {\n",
       "        vertical-align: top;\n",
       "    }\n",
       "\n",
       "    .dataframe thead th {\n",
       "        text-align: right;\n",
       "    }\n",
       "</style>\n",
       "<table border=\"1\" class=\"dataframe\">\n",
       "  <thead>\n",
       "    <tr style=\"text-align: right;\">\n",
       "      <th></th>\n",
       "      <th>작성일</th>\n",
       "      <th>장소</th>\n",
       "      <th>좋아요</th>\n",
       "      <th>해시태그</th>\n",
       "    </tr>\n",
       "  </thead>\n",
       "  <tbody>\n",
       "    <tr>\n",
       "      <td>0</td>\n",
       "      <td>2020-04-11</td>\n",
       "      <td>Daejeon</td>\n",
       "      <td>436.0</td>\n",
       "      <td>NaN</td>\n",
       "    </tr>\n",
       "    <tr>\n",
       "      <td>5</td>\n",
       "      <td>2020-04-10</td>\n",
       "      <td>Daejeon</td>\n",
       "      <td>444.0</td>\n",
       "      <td>#피버브리즈</td>\n",
       "    </tr>\n",
       "    <tr>\n",
       "      <td>14</td>\n",
       "      <td>2020-04-12</td>\n",
       "      <td>Daejeon</td>\n",
       "      <td>17.0</td>\n",
       "      <td>NaN</td>\n",
       "    </tr>\n",
       "    <tr>\n",
       "      <td>18</td>\n",
       "      <td>2020-04-12</td>\n",
       "      <td>Daejeon</td>\n",
       "      <td>4.0</td>\n",
       "      <td>#오네스트홈#맞춤이불#오더메이드#린넨#이불#겨울이불#가수원동#대전#세종#혼수이불#신...</td>\n",
       "    </tr>\n",
       "    <tr>\n",
       "      <td>19</td>\n",
       "      <td>2020-04-12</td>\n",
       "      <td>Daejeon</td>\n",
       "      <td>4.0</td>\n",
       "      <td>#오네스트홈#맞춤이불#오더메이드#린넨#이불#겨울이불#가수원동#대전#세종#혼수이불#신...</td>\n",
       "    </tr>\n",
       "    <tr>\n",
       "      <td>...</td>\n",
       "      <td>...</td>\n",
       "      <td>...</td>\n",
       "      <td>...</td>\n",
       "      <td>...</td>\n",
       "    </tr>\n",
       "    <tr>\n",
       "      <td>111</td>\n",
       "      <td>2019-05-26</td>\n",
       "      <td>갤러리아타임월드</td>\n",
       "      <td>339.0</td>\n",
       "      <td>#🙋‍</td>\n",
       "    </tr>\n",
       "    <tr>\n",
       "      <td>112</td>\n",
       "      <td>2019-05-25</td>\n",
       "      <td>갤러리아타임월드</td>\n",
       "      <td>223.0</td>\n",
       "      <td>#🙋‍</td>\n",
       "    </tr>\n",
       "    <tr>\n",
       "      <td>74</td>\n",
       "      <td>2020-04-12</td>\n",
       "      <td>한밭수목원</td>\n",
       "      <td>27.0</td>\n",
       "      <td>#대전#대전카페#대전맛집#24#97#follow#일상#daily#fff#lol#선팔...</td>\n",
       "    </tr>\n",
       "    <tr>\n",
       "      <td>124</td>\n",
       "      <td>2020-04-12</td>\n",
       "      <td>한밭수목원</td>\n",
       "      <td>18.0</td>\n",
       "      <td>#대전#대전카페#대전맛집#24#97#follow#일상#daily#fff#lol#선팔...</td>\n",
       "    </tr>\n",
       "    <tr>\n",
       "      <td>239</td>\n",
       "      <td>2020-04-12</td>\n",
       "      <td>한밭수목원</td>\n",
       "      <td>18.0</td>\n",
       "      <td>#한밭수목원#크리스피도넛#도넛맛집#신제품#소통#대전맛집#대전맘#좋아요반사#일상#빵순...</td>\n",
       "    </tr>\n",
       "  </tbody>\n",
       "</table>\n",
       "<p>73 rows × 4 columns</p>\n",
       "</div>"
      ],
      "text/plain": [
       "            작성일        장소    좋아요  \\\n",
       "0    2020-04-11   Daejeon  436.0   \n",
       "5    2020-04-10   Daejeon  444.0   \n",
       "14   2020-04-12   Daejeon   17.0   \n",
       "18   2020-04-12   Daejeon    4.0   \n",
       "19   2020-04-12   Daejeon    4.0   \n",
       "..          ...       ...    ...   \n",
       "111  2019-05-26  갤러리아타임월드  339.0   \n",
       "112  2019-05-25  갤러리아타임월드  223.0   \n",
       "74   2020-04-12     한밭수목원   27.0   \n",
       "124  2020-04-12     한밭수목원   18.0   \n",
       "239  2020-04-12     한밭수목원   18.0   \n",
       "\n",
       "                                                  해시태그  \n",
       "0                                                  NaN  \n",
       "5                                               #피버브리즈  \n",
       "14                                                 NaN  \n",
       "18   #오네스트홈#맞춤이불#오더메이드#린넨#이불#겨울이불#가수원동#대전#세종#혼수이불#신...  \n",
       "19   #오네스트홈#맞춤이불#오더메이드#린넨#이불#겨울이불#가수원동#대전#세종#혼수이불#신...  \n",
       "..                                                 ...  \n",
       "111                                                #🙋‍  \n",
       "112                                                #🙋‍  \n",
       "74   #대전#대전카페#대전맛집#24#97#follow#일상#daily#fff#lol#선팔...  \n",
       "124  #대전#대전카페#대전맛집#24#97#follow#일상#daily#fff#lol#선팔...  \n",
       "239  #한밭수목원#크리스피도넛#도넛맛집#신제품#소통#대전맛집#대전맘#좋아요반사#일상#빵순...  \n",
       "\n",
       "[73 rows x 4 columns]"
      ]
     },
     "execution_count": 103,
     "metadata": {},
     "output_type": "execute_result"
    }
   ],
   "source": [
    "cond = (merged['장소at_least_three_times'] == True)\n",
    "good_data = merged[cond]\n",
    "good_refined_place = good_data.drop('장소at_least_three_times',axis=1)\n",
    "good_refined_place"
   ]
  },
  {
   "cell_type": "code",
   "execution_count": 107,
   "metadata": {},
   "outputs": [
    {
     "data": {
      "text/plain": [
       "Daejeon                 43\n",
       "Daejeon, South Korea    20\n",
       "갤러리아타임월드                 4\n",
       "한밭수목원                    3\n",
       "대전 소제동                   3\n",
       "Name: 장소, dtype: int64"
      ]
     },
     "execution_count": 107,
     "metadata": {},
     "output_type": "execute_result"
    }
   ],
   "source": [
    "good_refined_place.장소.value_counts()"
   ]
  },
  {
   "cell_type": "code",
   "execution_count": 115,
   "metadata": {},
   "outputs": [
    {
     "data": {
      "text/html": [
       "<div>\n",
       "<style scoped>\n",
       "    .dataframe tbody tr th:only-of-type {\n",
       "        vertical-align: middle;\n",
       "    }\n",
       "\n",
       "    .dataframe tbody tr th {\n",
       "        vertical-align: top;\n",
       "    }\n",
       "\n",
       "    .dataframe thead th {\n",
       "        text-align: right;\n",
       "    }\n",
       "</style>\n",
       "<table border=\"1\" class=\"dataframe\">\n",
       "  <thead>\n",
       "    <tr style=\"text-align: right;\">\n",
       "      <th></th>\n",
       "      <th>작성일</th>\n",
       "      <th>장소</th>\n",
       "      <th>좋아요</th>\n",
       "      <th>해시태그</th>\n",
       "    </tr>\n",
       "  </thead>\n",
       "  <tbody>\n",
       "    <tr>\n",
       "      <td>40</td>\n",
       "      <td>2020-04-12</td>\n",
       "      <td>대전 소제동</td>\n",
       "      <td>38.0</td>\n",
       "      <td>#디지털노마드#대전카페#소제동#라운지엑스#새벽갬성#뉴스킨제품#뉴스킨사업#뉴스킨비지니...</td>\n",
       "    </tr>\n",
       "    <tr>\n",
       "      <td>215</td>\n",
       "      <td>2020-04-12</td>\n",
       "      <td>대전 소제동</td>\n",
       "      <td>8.0</td>\n",
       "      <td>#대전#대전소제동#소제동#대전맛집#소제동맛집#대전카페#소제동카페#소제동파운드#파운드...</td>\n",
       "    </tr>\n",
       "    <tr>\n",
       "      <td>333</td>\n",
       "      <td>2020-04-12</td>\n",
       "      <td>대전 소제동</td>\n",
       "      <td>89.0</td>\n",
       "      <td>#대전카페#대전신상카페#소제동카페#소제동카페추천#카페스타그램☕️#카페스타그램#대전가...</td>\n",
       "    </tr>\n",
       "  </tbody>\n",
       "</table>\n",
       "</div>"
      ],
      "text/plain": [
       "            작성일      장소   좋아요  \\\n",
       "40   2020-04-12  대전 소제동  38.0   \n",
       "215  2020-04-12  대전 소제동   8.0   \n",
       "333  2020-04-12  대전 소제동  89.0   \n",
       "\n",
       "                                                  해시태그  \n",
       "40   #디지털노마드#대전카페#소제동#라운지엑스#새벽갬성#뉴스킨제품#뉴스킨사업#뉴스킨비지니...  \n",
       "215  #대전#대전소제동#소제동#대전맛집#소제동맛집#대전카페#소제동카페#소제동파운드#파운드...  \n",
       "333  #대전카페#대전신상카페#소제동카페#소제동카페추천#카페스타그램☕️#카페스타그램#대전가...  "
      ]
     },
     "execution_count": 115,
     "metadata": {},
     "output_type": "execute_result"
    }
   ],
   "source": [
    "cond = good_refined_place['장소'] == '대전 소제동'\n",
    "good_refined_place[cond]"
   ]
  },
  {
   "cell_type": "code",
   "execution_count": 121,
   "metadata": {},
   "outputs": [
    {
     "data": {
      "text/html": [
       "<div>\n",
       "<style scoped>\n",
       "    .dataframe tbody tr th:only-of-type {\n",
       "        vertical-align: middle;\n",
       "    }\n",
       "\n",
       "    .dataframe tbody tr th {\n",
       "        vertical-align: top;\n",
       "    }\n",
       "\n",
       "    .dataframe thead th {\n",
       "        text-align: right;\n",
       "    }\n",
       "</style>\n",
       "<table border=\"1\" class=\"dataframe\">\n",
       "  <thead>\n",
       "    <tr style=\"text-align: right;\">\n",
       "      <th></th>\n",
       "      <th>좋아요</th>\n",
       "    </tr>\n",
       "    <tr>\n",
       "      <th>장소</th>\n",
       "      <th></th>\n",
       "    </tr>\n",
       "  </thead>\n",
       "  <tbody>\n",
       "    <tr>\n",
       "      <td>Daejeon</td>\n",
       "      <td>10997.0</td>\n",
       "    </tr>\n",
       "    <tr>\n",
       "      <td>Daejeon, South Korea</td>\n",
       "      <td>5396.0</td>\n",
       "    </tr>\n",
       "    <tr>\n",
       "      <td>갤러리아타임월드</td>\n",
       "      <td>1140.0</td>\n",
       "    </tr>\n",
       "    <tr>\n",
       "      <td>대전 소제동</td>\n",
       "      <td>135.0</td>\n",
       "    </tr>\n",
       "    <tr>\n",
       "      <td>한밭수목원</td>\n",
       "      <td>63.0</td>\n",
       "    </tr>\n",
       "  </tbody>\n",
       "</table>\n",
       "</div>"
      ],
      "text/plain": [
       "                          좋아요\n",
       "장소                           \n",
       "Daejeon               10997.0\n",
       "Daejeon, South Korea   5396.0\n",
       "갤러리아타임월드               1140.0\n",
       "대전 소제동                  135.0\n",
       "한밭수목원                    63.0"
      ]
     },
     "execution_count": 121,
     "metadata": {},
     "output_type": "execute_result"
    }
   ],
   "source": [
    "result = good_refined_place.groupby('장소').sum()\n",
    "result"
   ]
  },
  {
   "cell_type": "code",
   "execution_count": 127,
   "metadata": {},
   "outputs": [
    {
     "data": {
      "text/html": [
       "<div>\n",
       "<style scoped>\n",
       "    .dataframe tbody tr th:only-of-type {\n",
       "        vertical-align: middle;\n",
       "    }\n",
       "\n",
       "    .dataframe tbody tr th {\n",
       "        vertical-align: top;\n",
       "    }\n",
       "\n",
       "    .dataframe thead th {\n",
       "        text-align: right;\n",
       "    }\n",
       "</style>\n",
       "<table border=\"1\" class=\"dataframe\">\n",
       "  <thead>\n",
       "    <tr style=\"text-align: right;\">\n",
       "      <th></th>\n",
       "      <th>좋아요</th>\n",
       "    </tr>\n",
       "    <tr>\n",
       "      <th>장소</th>\n",
       "      <th></th>\n",
       "    </tr>\n",
       "  </thead>\n",
       "  <tbody>\n",
       "    <tr>\n",
       "      <td>갤러리아타임월드</td>\n",
       "      <td>1140.0</td>\n",
       "    </tr>\n",
       "    <tr>\n",
       "      <td>대전 소제동</td>\n",
       "      <td>135.0</td>\n",
       "    </tr>\n",
       "    <tr>\n",
       "      <td>한밭수목원</td>\n",
       "      <td>63.0</td>\n",
       "    </tr>\n",
       "  </tbody>\n",
       "</table>\n",
       "</div>"
      ],
      "text/plain": [
       "             좋아요\n",
       "장소              \n",
       "갤러리아타임월드  1140.0\n",
       "대전 소제동     135.0\n",
       "한밭수목원       63.0"
      ]
     },
     "execution_count": 127,
     "metadata": {},
     "output_type": "execute_result"
    }
   ],
   "source": [
    "# 특정 장소를 표기하기에 부적절한 태그는 장소명은 제외\n",
    "using_delete = ['Daejeon','Daejeon, South Korea']\n",
    "\n",
    "cond = result.index.isin(using_delete)\n",
    "final_result = result[cond==False]\n",
    "final_result"
   ]
  },
  {
   "cell_type": "code",
   "execution_count": 129,
   "metadata": {},
   "outputs": [],
   "source": [
    "# 카카오 API를 이용하여 경도와 위도를 찾아주는 함수\n",
    "import requests\n",
    "\n",
    "def find_places(searching):\n",
    "    \n",
    "    url = 'https://dapi.kakao.com/v2/local/search/keyword.json?query={}'.format(searching)\n",
    "    headers = {\n",
    "        \"Authorization\": \"보안상 감춤\"\n",
    "        }\n",
    "    places = requests.get(url, headers = headers).json()['documents']\n",
    "    \n",
    "    place = places[0]\n",
    "    name = place['place_name']\n",
    "    x = place['x']\n",
    "    y = place['y']\n",
    "    data = [name,x,y,searching]\n",
    "    \n",
    "    return data"
   ]
  },
  {
   "cell_type": "code",
   "execution_count": 130,
   "metadata": {},
   "outputs": [
    {
     "data": {
      "text/plain": [
       "['경복궁', '126.976896737645', '37.5776087830657', '경복궁']"
      ]
     },
     "execution_count": 130,
     "metadata": {},
     "output_type": "execute_result"
    }
   ],
   "source": [
    "find_places('경복궁')"
   ]
  },
  {
   "cell_type": "code",
   "execution_count": 134,
   "metadata": {},
   "outputs": [
    {
     "data": {
      "text/plain": [
       "['장충체육회 개방화장실', '126.996491881683', '37.5499900470833', '남산 화장실']"
      ]
     },
     "execution_count": 134,
     "metadata": {},
     "output_type": "execute_result"
    }
   ],
   "source": [
    "find_places('남산 화장실')"
   ]
  },
  {
   "cell_type": "code",
   "execution_count": 135,
   "metadata": {},
   "outputs": [
    {
     "data": {
      "text/plain": [
       "['한밭수목원', '127.388037583592', '36.3691431776998', '대전']"
      ]
     },
     "execution_count": 135,
     "metadata": {},
     "output_type": "execute_result"
    }
   ],
   "source": [
    "find_places('대전')"
   ]
  },
  {
   "cell_type": "code",
   "execution_count": 140,
   "metadata": {},
   "outputs": [
    {
     "name": "stderr",
     "output_type": "stream",
     "text": [
      "C:\\Users\\hp\\Anaconda3\\lib\\site-packages\\ipykernel_launcher.py:8: SettingWithCopyWarning: \n",
      "A value is trying to be set on a copy of a slice from a DataFrame.\n",
      "Try using .loc[row_indexer,col_indexer] = value instead\n",
      "\n",
      "See the caveats in the documentation: http://pandas.pydata.org/pandas-docs/stable/user_guide/indexing.html#returning-a-view-versus-a-copy\n",
      "  \n",
      "C:\\Users\\hp\\Anaconda3\\lib\\site-packages\\ipykernel_launcher.py:9: SettingWithCopyWarning: \n",
      "A value is trying to be set on a copy of a slice from a DataFrame.\n",
      "Try using .loc[row_indexer,col_indexer] = value instead\n",
      "\n",
      "See the caveats in the documentation: http://pandas.pydata.org/pandas-docs/stable/user_guide/indexing.html#returning-a-view-versus-a-copy\n",
      "  if __name__ == '__main__':\n"
     ]
    }
   ],
   "source": [
    "lats=[]\n",
    "lngs=[]\n",
    "for place in final_result.index:\n",
    "    lat = find_places(place)[2]\n",
    "    lng = find_places(place)[1]\n",
    "    lats.append(lat)\n",
    "    lngs.append(lng)\n",
    "final_result['경도'] = lngs\n",
    "final_result['위도'] = lats"
   ]
  },
  {
   "cell_type": "code",
   "execution_count": 141,
   "metadata": {},
   "outputs": [
    {
     "data": {
      "text/html": [
       "<div>\n",
       "<style scoped>\n",
       "    .dataframe tbody tr th:only-of-type {\n",
       "        vertical-align: middle;\n",
       "    }\n",
       "\n",
       "    .dataframe tbody tr th {\n",
       "        vertical-align: top;\n",
       "    }\n",
       "\n",
       "    .dataframe thead th {\n",
       "        text-align: right;\n",
       "    }\n",
       "</style>\n",
       "<table border=\"1\" class=\"dataframe\">\n",
       "  <thead>\n",
       "    <tr style=\"text-align: right;\">\n",
       "      <th></th>\n",
       "      <th>좋아요</th>\n",
       "      <th>경도</th>\n",
       "      <th>위도</th>\n",
       "    </tr>\n",
       "    <tr>\n",
       "      <th>장소</th>\n",
       "      <th></th>\n",
       "      <th></th>\n",
       "      <th></th>\n",
       "    </tr>\n",
       "  </thead>\n",
       "  <tbody>\n",
       "    <tr>\n",
       "      <td>갤러리아타임월드</td>\n",
       "      <td>1140.0</td>\n",
       "      <td>127.3781779488938</td>\n",
       "      <td>36.35181278538463</td>\n",
       "    </tr>\n",
       "    <tr>\n",
       "      <td>대전 소제동</td>\n",
       "      <td>135.0</td>\n",
       "      <td>127.435815161145</td>\n",
       "      <td>36.3325061707031</td>\n",
       "    </tr>\n",
       "    <tr>\n",
       "      <td>한밭수목원</td>\n",
       "      <td>63.0</td>\n",
       "      <td>127.388037583592</td>\n",
       "      <td>36.3691431776998</td>\n",
       "    </tr>\n",
       "  </tbody>\n",
       "</table>\n",
       "</div>"
      ],
      "text/plain": [
       "             좋아요                 경도                 위도\n",
       "장소                                                    \n",
       "갤러리아타임월드  1140.0  127.3781779488938  36.35181278538463\n",
       "대전 소제동     135.0   127.435815161145   36.3325061707031\n",
       "한밭수목원       63.0   127.388037583592   36.3691431776998"
      ]
     },
     "execution_count": 141,
     "metadata": {},
     "output_type": "execute_result"
    }
   ],
   "source": [
    "final_result"
   ]
  },
  {
   "cell_type": "code",
   "execution_count": 146,
   "metadata": {},
   "outputs": [
    {
     "data": {
      "text/html": [
       "<div>\n",
       "<style scoped>\n",
       "    .dataframe tbody tr th:only-of-type {\n",
       "        vertical-align: middle;\n",
       "    }\n",
       "\n",
       "    .dataframe tbody tr th {\n",
       "        vertical-align: top;\n",
       "    }\n",
       "\n",
       "    .dataframe thead th {\n",
       "        text-align: right;\n",
       "    }\n",
       "</style>\n",
       "<table border=\"1\" class=\"dataframe\">\n",
       "  <thead>\n",
       "    <tr style=\"text-align: right;\">\n",
       "      <th></th>\n",
       "      <th>장소</th>\n",
       "      <th>좋아요</th>\n",
       "      <th>경도</th>\n",
       "      <th>위도</th>\n",
       "    </tr>\n",
       "  </thead>\n",
       "  <tbody>\n",
       "    <tr>\n",
       "      <td>0</td>\n",
       "      <td>갤러리아타임월드</td>\n",
       "      <td>1140.0</td>\n",
       "      <td>127.3781779488938</td>\n",
       "      <td>36.35181278538463</td>\n",
       "    </tr>\n",
       "    <tr>\n",
       "      <td>1</td>\n",
       "      <td>대전 소제동</td>\n",
       "      <td>135.0</td>\n",
       "      <td>127.435815161145</td>\n",
       "      <td>36.3325061707031</td>\n",
       "    </tr>\n",
       "    <tr>\n",
       "      <td>2</td>\n",
       "      <td>한밭수목원</td>\n",
       "      <td>63.0</td>\n",
       "      <td>127.388037583592</td>\n",
       "      <td>36.3691431776998</td>\n",
       "    </tr>\n",
       "  </tbody>\n",
       "</table>\n",
       "</div>"
      ],
      "text/plain": [
       "         장소     좋아요                 경도                 위도\n",
       "0  갤러리아타임월드  1140.0  127.3781779488938  36.35181278538463\n",
       "1    대전 소제동   135.0   127.435815161145   36.3325061707031\n",
       "2     한밭수목원    63.0   127.388037583592   36.3691431776998"
      ]
     },
     "execution_count": 146,
     "metadata": {},
     "output_type": "execute_result"
    }
   ],
   "source": [
    "final_result.reset_index(level=['장소'], inplace = True)\n",
    "final_result"
   ]
  },
  {
   "cell_type": "code",
   "execution_count": 2,
   "metadata": {},
   "outputs": [],
   "source": [
    "import folium"
   ]
  },
  {
   "cell_type": "code",
   "execution_count": 3,
   "metadata": {},
   "outputs": [
    {
     "data": {
      "text/html": [
       "<div style=\"width:100%;\"><div style=\"position:relative;width:100%;height:0;padding-bottom:60%;\"><iframe src=\"about:blank\" style=\"position:absolute;width:100%;height:100%;left:0;top:0;border:none !important;\" data-html=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 onload=\"this.contentDocument.open();this.contentDocument.write(atob(this.getAttribute('data-html')));this.contentDocument.close();\" allowfullscreen webkitallowfullscreen mozallowfullscreen></iframe></div></div>"
      ],
      "text/plain": [
       "<folium.folium.Map at 0x27dcae22348>"
      ]
     },
     "execution_count": 3,
     "metadata": {},
     "output_type": "execute_result"
    }
   ],
   "source": [
    "Daejeon_map = folium.Map(location = [36.3691431776998,127.388037583592],zoom_start=12)\n",
    "Daejeon_map"
   ]
  },
  {
   "cell_type": "code",
   "execution_count": 153,
   "metadata": {},
   "outputs": [
    {
     "data": {
      "text/html": [
       "<div style=\"width:100%;\"><div style=\"position:relative;width:100%;height:0;padding-bottom:60%;\"><iframe src=\"about:blank\" style=\"position:absolute;width:100%;height:100%;left:0;top:0;border:none !important;\" data-html=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 onload=\"this.contentDocument.open();this.contentDocument.write(atob(this.getAttribute('data-html')));this.contentDocument.close();\" allowfullscreen webkitallowfullscreen mozallowfullscreen></iframe></div></div>"
      ],
      "text/plain": [
       "<folium.folium.Map at 0x266a1e00dc8>"
      ]
     },
     "execution_count": 153,
     "metadata": {},
     "output_type": "execute_result"
    }
   ],
   "source": [
    "import numpy as np\n",
    "for i in range(len(final_result)):\n",
    "    using_row = final_result.iloc[i]\n",
    "    lat = using_row[3]\n",
    "    lng = using_row[2]\n",
    "    place = using_row[0]\n",
    "    Size = np.sqrt(int(using_row[1]))*50\n",
    "    folium.Circle(location = [lat,lng],radius = Size,popup=place).add_to(Daejeon_map)\n",
    "Daejeon_map"
   ]
  },
  {
   "cell_type": "code",
   "execution_count": 156,
   "metadata": {},
   "outputs": [],
   "source": [
    "Daejeon_map.save('Daejeon_cafe.html')"
   ]
  },
  {
   "cell_type": "markdown",
   "metadata": {},
   "source": [
    "# 결론 :  수집한 데이터의 개수가 빈약해 원하는만큼의 결과를 얻지 못했다.\n",
    "### (시각화된 결과물은 Daejeon_cafe.html이라는 이름으로 저장되어있다.)"
   ]
  },
  {
   "cell_type": "code",
   "execution_count": null,
   "metadata": {},
   "outputs": [],
   "source": []
  }
 ],
 "metadata": {
  "kernelspec": {
   "display_name": "Python 3",
   "language": "python",
   "name": "python3"
  },
  "language_info": {
   "codemirror_mode": {
    "name": "ipython",
    "version": 3
   },
   "file_extension": ".py",
   "mimetype": "text/x-python",
   "name": "python",
   "nbconvert_exporter": "python",
   "pygments_lexer": "ipython3",
   "version": "3.7.4"
  }
 },
 "nbformat": 4,
 "nbformat_minor": 2
}
