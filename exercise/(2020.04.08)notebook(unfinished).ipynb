{
 "cells": [
  {
   "cell_type": "markdown",
   "metadata": {},
   "source": [
    "# 성능별 노트북 인기 요소\n",
    "- '다나와'에서 노트북 검색 후 제품, 가격, 스펙 등의 요소들을 DataFrame으로 읽어들임\n",
    "- 성능별로 순위를 매기고 실제 인기 순위와 일치하는 정도를 파악\n",
    "- 시각화도 더불어 진행"
   ]
  },
  {
   "cell_type": "code",
   "execution_count": 4,
   "metadata": {},
   "outputs": [],
   "source": [
    "# 다나와 노트북 검색 1페이지\n",
    "url_1page = '''http://search.danawa.com/dsearch.php?query=%EB%85%B8%ED%8A%B8%EB%B6%81&tab=main'''\n",
    "\n",
    "# 다나와 노트북 검색 2페이지\n",
    "url_2page = '''http://search.danawa.com/dsearch.php?\n",
    "query={}&originalQuery={}&volumeType=allvs&\n",
    "page={}&limit=30&sort=saveDESC&list=list&boost=true&addDelivery=N&tab=goods'''\n",
    "\n",
    "# 다나와 노트북 검색 3페이지\n",
    "url_3page = '''http://search.danawa.com/dsearch.php?\n",
    "query{}&originalQuery={}&\n",
    "previousKeyword={}&volumeType=allvs&\n",
    "page=3&limit=30&sort=saveDESC&list=list&boost=true&addDelivery=N&tab=goods&tab=goods'''\n",
    "\n",
    "'''http://search.danawa.com/dsearch.php?query={}&volumeType=allvs\n",
    "    &page={}&limit=30&sort=saveDESC&list=list&boost=true&addDelivery=N&tab=goods'''\n",
    "\n",
    "# 해당 url에서 php의 query 변수와 page 변수를 원하는대로 맞춰주면 된다."
   ]
  },
  {
   "cell_type": "code",
   "execution_count": 1,
   "metadata": {},
   "outputs": [],
   "source": [
    "# 다나 홈페이지에서 원하는 제품을 검색하는 함수\n",
    "\n",
    "def searching(product,page=1):\n",
    "    try:\n",
    "        if page==1:\n",
    "            url = 'http://search.danawa.com/dsearch.php?k1=%EB%85%B8%ED%8A%B8%EB%B6%81&module=goods&act=dispMain'\n",
    "        else:\n",
    "            url = '''http://search.danawa.com/dsearch.php?query={}&volumeType=allvs\n",
    "            &page={}&limit=30&sort=saveDESC&list=list&boost=true&addDelivery=N&tab=goods'''.format(product,page)\n",
    "        return url\n",
    "    except:\n",
    "        print(\"product는 문자열로, page는 숫자로 넣었는지 확인하시오.\")"
   ]
  },
  {
   "cell_type": "code",
   "execution_count": 2,
   "metadata": {},
   "outputs": [],
   "source": [
    "url = searching('노트북',1)"
   ]
  },
  {
   "cell_type": "code",
   "execution_count": 4,
   "metadata": {},
   "outputs": [],
   "source": [
    "from selenium import webdriver\n",
    "driver = webdriver.Chrome('C:/Users/hp/Desktop/최영조/chromedriver.exe')\n",
    "driver.get(url)"
   ]
  },
  {
   "cell_type": "code",
   "execution_count": 5,
   "metadata": {},
   "outputs": [],
   "source": [
    "html = driver.page_source"
   ]
  },
  {
   "cell_type": "code",
   "execution_count": 6,
   "metadata": {},
   "outputs": [],
   "source": [
    "from bs4 import BeautifulSoup"
   ]
  },
  {
   "cell_type": "code",
   "execution_count": 7,
   "metadata": {},
   "outputs": [],
   "source": [
    "soup = BeautifulSoup(html,'html.parser')"
   ]
  },
  {
   "cell_type": "code",
   "execution_count": 8,
   "metadata": {},
   "outputs": [
    {
     "data": {
      "text/plain": [
       "<div class=\"prod_main_info\">\n",
       "<div class=\"thumb_info\">\n",
       "<div class=\"thumb_image\">\n",
       "<a class=\"thumb_link click_log_product_adReader_img_\" data-sale-seq=\"\" href=\"http://prod.danawa.com/info/?pcode=10094031&amp;keyword=%EB%85%B8%ED%8A%B8%EB%B6%81&amp;cate=112758\" id=\"thumbLink_10094031_adLeader\" onmousedown=\"_trkEventLog('통합검색_광고상품_LG전자 2020 그램17 17ZD90N-VX70K(SSD 256GB)');\" target=\"_blank\">\n",
       "<img alt=\"LG전자 2020 그램17 17ZD90N-VX70K (SSD 256GB)\" onerror=\"this.src='http://img.danawa.com/new/noData/img/noImg_130.gif'\" src=\"http://img.danawa.com/prod_img/500000/031/094/img/10094031_1.jpg?shrink=160:160&amp;_v=20200306134324\"/>\n",
       "</a>\n",
       "<a class=\"btn_view_zoom\" data-assemblygallerycategory=\"N\" href=\"#\" id=\"imageZoom_10094031_adLeader\" onclick=\"return false;\"><span class=\"ico i_zoom_vw\"></span>이미지보기</a>\n",
       "</div>\n",
       "</div>\n",
       "<div class=\"prod_info\">\n",
       "<p class=\"prod_name click_log_product_adReader_title_\">\n",
       "<a href=\"http://prod.danawa.com/info/?pcode=10094031&amp;keyword=%EB%85%B8%ED%8A%B8%EB%B6%81&amp;cate=112758\" onmousedown=\"_trkEventLog('통합검색_광고상품_LG전자 2020 그램17 17ZD90N-VX70K(SSD 256GB)');\" target=\"_blank\">LG전자 2020 그램17 17ZD90N-VX70K (SSD 256GB)</a>\n",
       "<span class=\"head_ico_wrap\">\n",
       "<a class=\"head_ico hico_brand\" href=\"http://prod.danawa.com/info/?pcode=10094031&amp;keyword=%EB%85%B8%ED%8A%B8%EB%B6%81&amp;cate=112758\" onmousedown=\"_trkEventLog('통합검색_광고상품_LG전자 2020 그램17 17ZD90N-VX70K(SSD 256GB)');\" target=\"_blank\">광고상품</a>\n",
       "</span>\n",
       "</p>\n",
       "<dl class=\"prod_spec_set\">\n",
       "<dt class=\"screen_out\">상세 스펙</dt>\n",
       "<dd>\n",
       "<div class=\"spec_list\">\n",
       "<a class=\"view_dic\" href=\"#\" onclick=\"$.termDicViewLink(1476,'view',this,0,860,869); return false;\">43.1cm(17인치)</a>\n",
       "\t \t\t\t\t\t\t\t\t / <a class=\"view_dic\" href=\"#\" onclick=\"$.termDicViewLink(1706,'view',this,0,860,869); return false;\">인텔</a>\n",
       "\t \t\t\t\t\t\t\t\t / <a class=\"view_dic\" href=\"#\" onclick=\"$.termDicViewLink(210460,'view',this,0,860,869); return false;\">코어i7-10세대</a>\n",
       "\t \t\t\t\t\t\t\t\t / <a class=\"view_dic\" href=\"#\" onclick=\"$.termDicViewLink(210460,'view',this,0,860,869); return false;\">아이스레이크</a>\n",
       "\t \t\t\t\t\t\t\t\t / i7-1065G7 1.3GHz(3.9GHz) / <a class=\"view_dic\" href=\"#\" onclick=\"$.termDicViewLink(22143,'view',this,0,860,869); return false;\">쿼드코어</a>\n",
       "\t \t\t\t\t\t\t\t\t / <a class=\"view_dic\" href=\"#\" onclick=\"$.termDicViewLink(1708,'view',this,0,860,869); return false;\">2560x1600(WQXGA)</a>\n",
       "\t \t\t\t\t\t\t\t\t / <a class=\"view_dic\" href=\"#\" onclick=\"$.termDicViewLink(3871,'view',this,0,860,869); return false;\">광시야각(IPS)</a>\n",
       "\t \t\t\t\t\t\t\t\t / <a class=\"view_dic\" href=\"#\" onclick=\"$.termDicViewLink(26549,'view',this,0,860,869); return false;\">슬림형 베젤</a>\n",
       "\t \t\t\t\t\t\t\t\t / <a class=\"view_dic\" href=\"#\" onclick=\"$.termDicViewLink(23556,'view',this,0,860,869); return false;\">DDR4</a>\n",
       "\t \t\t\t\t\t\t\t\t / <a class=\"view_dic\" href=\"#\" onclick=\"$.termDicViewLink(288,'view',this,0,860,869); return false;\">8GB</a>\n",
       "\t \t\t\t\t\t\t\t\t / <a class=\"view_dic\" href=\"#\" onclick=\"$.termDicViewLink(25742,'view',this,0,860,869); return false;\">M.2(NVMe)</a>\n",
       "\t \t\t\t\t\t\t\t\t / <a class=\"view_dic\" href=\"#\" onclick=\"$.termDicViewLink(2,'view',this,0,860,869); return false;\">256GB</a>\n",
       "\t \t\t\t\t\t\t\t\t / Iris Plus Graphics / 802.11ax 무선랜 / <a class=\"view_dic\" href=\"#\" onclick=\"$.termDicViewLink(3515,'view',this,0,860,869); return false;\">블루투스</a>\n",
       "\t \t\t\t\t\t\t\t\t / <a class=\"view_dic\" href=\"#\" onclick=\"$.termDicViewLink(290,'view',this,0,860,869); return false;\">HDMI</a>\n",
       "\t \t\t\t\t\t\t\t\t / <a class=\"view_dic\" href=\"#\" onclick=\"$.termDicViewLink(212773,'view',this,0,860,869); return false;\">웹캠(HD)</a>\n",
       "\t \t\t\t\t\t\t\t\t / <a class=\"view_dic\" href=\"#\" onclick=\"$.termDicViewLink(2305,'view',this,0,860,869); return false;\">썬더볼트</a>\n",
       "\t \t\t\t\t\t\t\t\t: <a class=\"view_dic\" href=\"#\" onclick=\"$.termDicViewLink(2305,'view',this,0,860,869); return false;\">1개</a>\n",
       "\t \t\t\t\t\t\t\t\t / <a class=\"view_dic\" href=\"#\" onclick=\"$.termDicViewLink(25932,'view',this,0,860,869); return false;\">USB 3.1 Type-C</a>\n",
       "\t \t\t\t\t\t\t\t\t / <a class=\"view_dic\" href=\"#\" onclick=\"$.termDicViewLink(24262,'view',this,0,860,869); return false;\">USB 3.1</a>\n",
       "\t \t\t\t\t\t\t\t\t / <a class=\"view_dic\" href=\"#\" onclick=\"$.termDicViewLink(29970,'view',this,0,860,869); return false;\">UFS</a>\n",
       "\t \t\t\t\t\t\t\t\t / MicroSD카드 / <a class=\"view_dic\" href=\"#\" onclick=\"$.termDicViewLink(332,'view',this,0,860,869); return false;\">숫자 키패드</a>\n",
       "\t \t\t\t\t\t\t\t\t / <a class=\"view_dic\" href=\"#\" onclick=\"$.termDicViewLink(335,'view',this,0,860,869); return false;\">키보드 라이트</a>\n",
       "\t \t\t\t\t\t\t\t\t / <a class=\"view_dic\" href=\"#\" onclick=\"$.termDicViewLink(29574,'view',this,0,860,869); return false;\">MIL-STD</a>\n",
       "\t \t\t\t\t\t\t\t\t / <a class=\"view_dic\" href=\"#\" onclick=\"$.termDicViewLink(330,'view',this,0,860,869); return false;\">지문 인식</a>\n",
       "\t \t\t\t\t\t\t\t\t / <a class=\"view_dic\" href=\"#\" onclick=\"$.termDicViewLink(31513,'view',this,0,860,869); return false;\">USB-PD</a>\n",
       "\t \t\t\t\t\t\t\t\t / <a class=\"view_dic\" href=\"#\" onclick=\"$.termDicViewLink(1990,'view',this,0,860,869); return false;\">80Wh</a>\n",
       "\t \t\t\t\t\t\t\t\t / <a class=\"view_dic\" href=\"#\" onclick=\"$.termDicViewLink(324,'view',this,0,860,869); return false;\">운영체제 미포함</a>\n",
       "\t \t\t\t\t\t\t\t\t / <a class=\"view_dic\" href=\"#\" onclick=\"$.termDicViewLink(25877,'view',this,0,860,869); return false;\">두께</a>\n",
       "\t \t\t\t\t\t\t\t\t: <a class=\"view_dic\" href=\"#\" onclick=\"$.termDicViewLink(25877,'view',this,0,860,869); return false;\">17.4mm</a>\n",
       "\t \t\t\t\t\t\t\t\t / <a class=\"view_dic\" href=\"#\" onclick=\"$.termDicViewLink(1478,'view',this,0,860,869); return false;\">1.35kg</a>\n",
       "\t \t\t\t\t\t\t\t\t / 일반유통상품 / <a class=\"view_dic\" href=\"#\" onclick=\"$.termDicViewLink(28127,'view',this,0,860,869); return false;\">용도</a>\n",
       "\t \t\t\t\t\t\t\t\t: <a class=\"view_dic\" href=\"#\" onclick=\"$.termDicViewLink(25544,'view',this,0,860,869); return false;\">사무/인강용</a>\n",
       "\t \t\t\t\t\t\t\t\t, <a class=\"view_dic\" href=\"#\" onclick=\"$.termDicViewLink(25542,'view',this,0,860,869); return false;\">휴대용</a>\n",
       "\t \t\t\t\t\t\t\t\t / 색상: 화이트\t\t\t\t\t\t\t\t</div>\n",
       "</dd>\n",
       "</dl>\n",
       "<div class=\"relation_goods_unit\" id=\"relation_goods_unit_10094031\"></div>\n",
       "<div class=\"prod_sub_info\">\n",
       "<div class=\"prod_sub_meta\">\n",
       "<dl class=\"meta_item mt_date\">\n",
       "<dt>등록월</dt>\n",
       "<dd>2019.12</dd>\n",
       "</dl>\n",
       "<dl class=\"meta_item\">\n",
       "<dt class=\"screen_out\">관심상품</dt>\n",
       "<dd><a href=\"#\" onclick=\"javascript:$.danawaAddProductToWishList(this,'10094031','search'); return false;\" title=\"관심상품에 담기\">관심상품</a></dd>\n",
       "<span class=\"blind\" id=\"title_10094031\">LG전자 2020 그램17 17ZD90N-VX70K</span>\n",
       "</dl>\n",
       "</div>\n",
       "<dl class=\"prod_category_location\">\n",
       "<dt class=\"screen_out\">상품분류</dt>\n",
       "<dd>\n",
       "<a href=\"http://prod.danawa.com/list/?cate=112758\" onmousedown=\"869\" target=\"\"><span>노트북/태블릿PC</span> &gt; <span>노트북</span></a> <div class=\"more_cate_layer\" style=\"display:none; z-index: 1;\">\n",
       "<ul class=\"list_category_location\">\n",
       "</ul>\n",
       "</div>\n",
       "</dd>\n",
       "</dl>\n",
       "</div>\n",
       "</div>\n",
       "<div class=\"prod_pricelist\" data-cate=\"860|869|10581|0\">\n",
       "<ul>\n",
       "<li id=\"productInfoDetail_10094031\">\n",
       "<p class=\"chk_sect\">\n",
       "\t\t\t\t\t\t\t\t\t174몰\t\t\t\t\t\t\t\t\t\t\t\t\t\t\t\t\t\t\t<label for=\"adverProdCompareCheck_10094031\">\n",
       "<input id=\"adverProdCompareCheck_10094031\" type=\"checkbox\"/><strong>상품비교</strong>\n",
       "</label>\n",
       "<input name=\"compareValue\" type=\"hidden\" value=\"10094031\"/>\n",
       "<input name=\"compareRepValue\" type=\"hidden\" value=\"10094031\"/>\n",
       "<input id=\"min_price_10094031\" type=\"hidden\" value=\"1642000\"/>\n",
       "</p>\n",
       "<p class=\"price_sect\">\n",
       "<a class=\"click_log_product_adReader_price_\" href=\"http://prod.danawa.com/info/?pcode=10094031&amp;keyword=%EB%85%B8%ED%8A%B8%EB%B6%81&amp;cate=112758\" onmousedown=\"_trkEventLog('통합검색_광고상품_LG전자 2020 그램17 17ZD90N-VX70K(SSD 256GB)');\" target=\"_blank\"><strong>1,642,000</strong>원</a>\n",
       "<span class=\"more_btn_wrap\">\n",
       "<button class=\"ico i_more adIcon\">가격정보 더보기</button>\n",
       "<span class=\"layer_price_more\" id=\"layer_price_more_ad_10094031\"></span>\n",
       "<span class=\"sep_line\"></span>\n",
       "</span>\n",
       "</p>\n",
       "</li>\n",
       "</ul>\n",
       "</div>\n",
       "</div>"
      ]
     },
     "execution_count": 8,
     "metadata": {},
     "output_type": "execute_result"
    }
   ],
   "source": [
    "full_info = soup.select('div.prod_main_info')\n",
    "first_info = full_info[0]\n",
    "first_info"
   ]
  },
  {
   "cell_type": "code",
   "execution_count": 9,
   "metadata": {},
   "outputs": [
    {
     "data": {
      "text/plain": [
       "'LG전자 2020 그램17 17ZD90N-VX70K (SSD 256GB)'"
      ]
     },
     "execution_count": 9,
     "metadata": {},
     "output_type": "execute_result"
    }
   ],
   "source": [
    "name = first_info.select('p>a')[0].text\n",
    "name"
   ]
  },
  {
   "cell_type": "code",
   "execution_count": 10,
   "metadata": {},
   "outputs": [
    {
     "data": {
      "text/plain": [
       "'43.1cm(17인치)  / 인텔  / 코어i7-10세대  / 아이스레이크  / i7-1065G7 1.3GHz(3.9GHz) / 쿼드코어  / 2560x1600(WQXGA)  / 광시야각(IPS)  / 슬림형 베젤  / DDR4  / 8GB  / M.2(NVMe)  / 256GB  / Iris Plus Graphics / 802.11ax 무선랜 / 블루투스  / HDMI  / 웹캠(HD)  / 썬더볼트 : 1개  / USB 3.1 Type-C  / USB 3.1  / UFS  / MicroSD카드 / 숫자 키패드  / 키보드 라이트  / MIL-STD  / 지문 인식  / USB-PD  / 80Wh  / 운영체제 미포함  / 두께 : 17.4mm  / 1.35kg  / 일반유통상품 / 용도 : 사무/인강용 , 휴대용  / 색상: 화이트'"
      ]
     },
     "execution_count": 10,
     "metadata": {},
     "output_type": "execute_result"
    }
   ],
   "source": [
    "spec = first_info.select('div.spec_list')[0].text.replace(\"\\t\",\"\").replace(\"\\n\",\"\")\n",
    "spec"
   ]
  },
  {
   "cell_type": "code",
   "execution_count": 11,
   "metadata": {},
   "outputs": [
    {
     "data": {
      "text/plain": [
       "1642000"
      ]
     },
     "execution_count": 11,
     "metadata": {},
     "output_type": "execute_result"
    }
   ],
   "source": [
    "price = int(first_info.select('p.price_sect strong')[0].text.replace(\",\",\"\"))\n",
    "price"
   ]
  },
  {
   "cell_type": "code",
   "execution_count": 12,
   "metadata": {},
   "outputs": [
    {
     "data": {
      "text/plain": [
       "[<strong>3,017,000</strong>]"
      ]
     },
     "execution_count": 12,
     "metadata": {},
     "output_type": "execute_result"
    }
   ],
   "source": [
    "# 여러 개의 가격이 표시되는 경우가 종종 있는데 기본 옵션만 포함된 첫 째 가격을 고려하도록 합시다.\n",
    "full_info[4].select('p.price_sect strong')"
   ]
  },
  {
   "cell_type": "code",
   "execution_count": 13,
   "metadata": {},
   "outputs": [
    {
     "data": {
      "text/plain": [
       "'http://search.danawa.com/dsearch.php?query=노트북&volumeType=allvs\\n            &page=2&limit=30&sort=saveDESC&list=list&boost=true&addDelivery=N&tab=goods'"
      ]
     },
     "execution_count": 13,
     "metadata": {},
     "output_type": "execute_result"
    }
   ],
   "source": [
    "searching('노트북',2)"
   ]
  },
  {
   "cell_type": "code",
   "execution_count": 14,
   "metadata": {},
   "outputs": [],
   "source": [
    "import pandas as pd\n",
    "import time\n",
    "from tqdm import tqdm_notebook"
   ]
  },
  {
   "cell_type": "code",
   "execution_count": 15,
   "metadata": {},
   "outputs": [
    {
     "data": {
      "application/vnd.jupyter.widget-view+json": {
       "model_id": "14a602efa3e34fcba533090cf824c3ec",
       "version_major": 2,
       "version_minor": 0
      },
      "text/plain": [
       "HBox(children=(IntProgress(value=0, max=30), HTML(value='')))"
      ]
     },
     "metadata": {},
     "output_type": "display_data"
    },
    {
     "ename": "IndexError",
     "evalue": "list index out of range",
     "output_type": "error",
     "traceback": [
      "\u001b[1;31m---------------------------------------------------------------------------\u001b[0m",
      "\u001b[1;31mIndexError\u001b[0m                                Traceback (most recent call last)",
      "\u001b[1;32m<ipython-input-15-42ab81aeb399>\u001b[0m in \u001b[0;36m<module>\u001b[1;34m\u001b[0m\n\u001b[0;32m     11\u001b[0m \u001b[1;33m\u001b[0m\u001b[0m\n\u001b[0;32m     12\u001b[0m \u001b[1;32mfor\u001b[0m \u001b[0mi\u001b[0m \u001b[1;32min\u001b[0m \u001b[0mtqdm_notebook\u001b[0m\u001b[1;33m(\u001b[0m\u001b[0mrange\u001b[0m\u001b[1;33m(\u001b[0m\u001b[1;36m30\u001b[0m\u001b[1;33m)\u001b[0m\u001b[1;33m)\u001b[0m\u001b[1;33m:\u001b[0m\u001b[1;33m\u001b[0m\u001b[1;33m\u001b[0m\u001b[0m\n\u001b[1;32m---> 13\u001b[1;33m     \u001b[0mitem_info\u001b[0m \u001b[1;33m=\u001b[0m \u001b[0mfull_info\u001b[0m\u001b[1;33m[\u001b[0m\u001b[0mi\u001b[0m\u001b[1;33m]\u001b[0m\u001b[1;33m\u001b[0m\u001b[1;33m\u001b[0m\u001b[0m\n\u001b[0m\u001b[0;32m     14\u001b[0m     \u001b[0mname\u001b[0m \u001b[1;33m=\u001b[0m \u001b[0mitem_info\u001b[0m\u001b[1;33m.\u001b[0m\u001b[0mselect\u001b[0m\u001b[1;33m(\u001b[0m\u001b[1;34m'p>a'\u001b[0m\u001b[1;33m)\u001b[0m\u001b[1;33m[\u001b[0m\u001b[1;36m0\u001b[0m\u001b[1;33m]\u001b[0m\u001b[1;33m.\u001b[0m\u001b[0mtext\u001b[0m\u001b[1;33m\u001b[0m\u001b[1;33m\u001b[0m\u001b[0m\n\u001b[0;32m     15\u001b[0m     \u001b[0mspec\u001b[0m \u001b[1;33m=\u001b[0m \u001b[0mitem_info\u001b[0m\u001b[1;33m.\u001b[0m\u001b[0mselect\u001b[0m\u001b[1;33m(\u001b[0m\u001b[1;34m'div.spec_list'\u001b[0m\u001b[1;33m)\u001b[0m\u001b[1;33m[\u001b[0m\u001b[1;36m0\u001b[0m\u001b[1;33m]\u001b[0m\u001b[1;33m.\u001b[0m\u001b[0mtext\u001b[0m\u001b[1;33m.\u001b[0m\u001b[0mreplace\u001b[0m\u001b[1;33m(\u001b[0m\u001b[1;34m\"\\t\"\u001b[0m\u001b[1;33m,\u001b[0m\u001b[1;34m\"\"\u001b[0m\u001b[1;33m)\u001b[0m\u001b[1;33m.\u001b[0m\u001b[0mreplace\u001b[0m\u001b[1;33m(\u001b[0m\u001b[1;34m\"\\n\"\u001b[0m\u001b[1;33m,\u001b[0m\u001b[1;34m\"\"\u001b[0m\u001b[1;33m)\u001b[0m\u001b[1;33m\u001b[0m\u001b[1;33m\u001b[0m\u001b[0m\n",
      "\u001b[1;31mIndexError\u001b[0m: list index out of range"
     ]
    }
   ],
   "source": [
    "# 1페이지 외에 다른 페이지들도 정상적으로 작동하는지 체크해본다.\n",
    "\n",
    "url = searching('노트북',2)\n",
    "driver.get(url)\n",
    "time.sleep(2)\n",
    "information=[]\n",
    "html = driver.page_source\n",
    "soup = BeautifulSoup(html,'html.parser')\n",
    "full_info = soup.select('div.prod_main_info')\n",
    "time.sleep(1)\n",
    "\n",
    "for i in tqdm_notebook(range(30)):\n",
    "    item_info = full_info[i]\n",
    "    name = item_info.select('p>a')[0].text\n",
    "    spec = item_info.select('div.spec_list')[0].text.replace(\"\\t\",\"\").replace(\"\\n\",\"\")\n",
    "    price = int(item_info.select('p.price_sect strong')[0].text.replace(\",\",\"\"))\n",
    "    information.append([name,spec,price])\n",
    "information"
   ]
  },
  {
   "cell_type": "code",
   "execution_count": null,
   "metadata": {},
   "outputs": [],
   "source": [
    "# 전체 페이지를 순환하는 과정이 문제가 없는지 체크해본다.\n",
    "information=[]\n",
    "from tqdm import tqdm_notebook\n",
    "import pandas as pd\n",
    "import time\n",
    "\n",
    "product='노트북'\n",
    "total_page=10\n",
    "\n",
    "driver = webdriver.Chrome('C:/Users/hp/Desktop/최영조/chromedriver.exe')\n",
    "\n",
    "for k in tqdm_notebook(range(1,total_page+1)):\n",
    "    url = searching(product,k)\n",
    "    driver.get(url)\n",
    "    time.sleep(2)\n",
    "    \n",
    "    html = driver.page_source\n",
    "    soup = BeautifulSoup(html,'html.parser')\n",
    "    full_info = soup.select('div.prod_main_info')\n",
    "    time.sleep(1)\n",
    "    \n",
    "    if k == 1:\n",
    "        l=32\n",
    "    else:\n",
    "        l=30\n",
    "\n",
    "    for i in range(l):\n",
    "        item_info = full_info[i]\n",
    "        name = item_info.select('p>a')[0].text\n",
    "        spec = item_info.select('div.spec_list')[0].text.replace(\"\\t\",\"\").replace(\"\\n\",\"\")\n",
    "        \n",
    "        \n",
    "        # 이미 한번 돌려본 결과 품절된 제품은 가격이 표시되지 않아 에러가 났었음. 그러한 에러를 방지하기 위함\n",
    "        try:\n",
    "            price = int(item_info.select('p.price_sect strong')[0].text.replace(\",\",\"\"))\n",
    "        except:\n",
    "            price= None\n",
    "        information.append([name,spec,price])\n",
    "        \n",
    "info2_df = pd.DataFrame(information,colums=['제품명','스펙','가격'])\n",
    "info2_df.head()"
   ]
  },
  {
   "cell_type": "code",
   "execution_count": 18,
   "metadata": {},
   "outputs": [],
   "source": [
    "# 정상적으로 작동한다면 이를 함수로 만들어 사용한다.\n",
    "\n",
    "def get_information(product,total_page):\n",
    "    information=[]\n",
    "    from tqdm import tqdm_notebook\n",
    "    import pandas as pd\n",
    "    import time\n",
    "\n",
    "\n",
    "    driver = webdriver.Chrome('C:/Users/hp/Desktop/최영조/chromedriver.exe')\n",
    "\n",
    "    for k in tqdm_notebook(range(1,total_page+1)):\n",
    "        url = searching(product,k)\n",
    "        driver.get(url)\n",
    "        time.sleep(2)\n",
    "\n",
    "        html = driver.page_source\n",
    "        soup = BeautifulSoup(html,'html.parser')\n",
    "        full_info = soup.select('div.prod_main_info')\n",
    "        time.sleep(1)\n",
    "\n",
    "        if k == 1:\n",
    "            l=32\n",
    "        else:\n",
    "            l=30\n",
    "\n",
    "        for i in range(l):\n",
    "            item_info = full_info[i]\n",
    "            name = item_info.select('p>a')[0].text\n",
    "            spec = item_info.select('div.spec_list')[0].text.replace(\"\\t\",\"\").replace(\"\\n\",\"\")\n",
    "            try:\n",
    "                price = int(item_info.select('p.price_sect strong')[0].text.replace(\",\",\"\"))\n",
    "            except:\n",
    "                price= None\n",
    "            information.append([name,spec,price])\n",
    "\n",
    "    info_df = pd.DataFrame(information,columns=['제품명','스펙','가격'])\n",
    "    return info_df\n",
    "                        \n",
    "                        \n"
   ]
  },
  {
   "cell_type": "code",
   "execution_count": 19,
   "metadata": {},
   "outputs": [
    {
     "data": {
      "application/vnd.jupyter.widget-view+json": {
       "model_id": "64b262c64bc340918bbac73c20c40e81",
       "version_major": 2,
       "version_minor": 0
      },
      "text/plain": [
       "HBox(children=(IntProgress(value=0, max=10), HTML(value='')))"
      ]
     },
     "metadata": {},
     "output_type": "display_data"
    },
    {
     "name": "stdout",
     "output_type": "stream",
     "text": [
      "\n"
     ]
    }
   ],
   "source": [
    "result = get_information('노트북',10)"
   ]
  },
  {
   "cell_type": "code",
   "execution_count": 20,
   "metadata": {},
   "outputs": [
    {
     "data": {
      "text/html": [
       "<div>\n",
       "<style scoped>\n",
       "    .dataframe tbody tr th:only-of-type {\n",
       "        vertical-align: middle;\n",
       "    }\n",
       "\n",
       "    .dataframe tbody tr th {\n",
       "        vertical-align: top;\n",
       "    }\n",
       "\n",
       "    .dataframe thead th {\n",
       "        text-align: right;\n",
       "    }\n",
       "</style>\n",
       "<table border=\"1\" class=\"dataframe\">\n",
       "  <thead>\n",
       "    <tr style=\"text-align: right;\">\n",
       "      <th></th>\n",
       "      <th>제품명</th>\n",
       "      <th>스펙</th>\n",
       "      <th>가격</th>\n",
       "    </tr>\n",
       "  </thead>\n",
       "  <tbody>\n",
       "    <tr>\n",
       "      <td>0</td>\n",
       "      <td>LG전자 2020 그램17 17ZD90N-VX70K (SSD 256GB)</td>\n",
       "      <td>43.1cm(17인치)  / 인텔  / 코어i7-10세대  / 아이스레이크  / i...</td>\n",
       "      <td>1692000.0</td>\n",
       "    </tr>\n",
       "    <tr>\n",
       "      <td>1</td>\n",
       "      <td>레노버 LEGION Y540-15IRH i7 Prime (SSD 256GB)</td>\n",
       "      <td>39.62cm(15.6인치)  / 인텔  / 코어i7-9세대  / 커피레이크-R  ...</td>\n",
       "      <td>1190000.0</td>\n",
       "    </tr>\n",
       "    <tr>\n",
       "      <td>2</td>\n",
       "      <td>MSI 크리에이터 17M A9SD-i7</td>\n",
       "      <td>43.94cm(17.3인치) / 인텔 / 코어i7-9세대 / 커피레이크-R / i7...</td>\n",
       "      <td>1369000.0</td>\n",
       "    </tr>\n",
       "    <tr>\n",
       "      <td>3</td>\n",
       "      <td>LG전자 2019 울트라PC 15UD590-GX50K WIN10</td>\n",
       "      <td>39.62cm(15.6인치) / 인텔 / 코어i5-8세대 / 위스키레이크 / i5-...</td>\n",
       "      <td>903000.0</td>\n",
       "    </tr>\n",
       "    <tr>\n",
       "      <td>4</td>\n",
       "      <td>LG전자 2020 울트라PC 15U70N-GR56K</td>\n",
       "      <td>39.6cm(15.6인치) / 인텔 / 코어i5-10세대 / 코멧레이크 / i5-1...</td>\n",
       "      <td>1059000.0</td>\n",
       "    </tr>\n",
       "  </tbody>\n",
       "</table>\n",
       "</div>"
      ],
      "text/plain": [
       "                                          제품명  \\\n",
       "0    LG전자 2020 그램17 17ZD90N-VX70K (SSD 256GB)   \n",
       "1  레노버 LEGION Y540-15IRH i7 Prime (SSD 256GB)   \n",
       "2                       MSI 크리에이터 17M A9SD-i7   \n",
       "3         LG전자 2019 울트라PC 15UD590-GX50K WIN10   \n",
       "4                LG전자 2020 울트라PC 15U70N-GR56K   \n",
       "\n",
       "                                                  스펙         가격  \n",
       "0  43.1cm(17인치)  / 인텔  / 코어i7-10세대  / 아이스레이크  / i...  1692000.0  \n",
       "1  39.62cm(15.6인치)  / 인텔  / 코어i7-9세대  / 커피레이크-R  ...  1190000.0  \n",
       "2  43.94cm(17.3인치) / 인텔 / 코어i7-9세대 / 커피레이크-R / i7...  1369000.0  \n",
       "3  39.62cm(15.6인치) / 인텔 / 코어i5-8세대 / 위스키레이크 / i5-...   903000.0  \n",
       "4  39.6cm(15.6인치) / 인텔 / 코어i5-10세대 / 코멧레이크 / i5-1...  1059000.0  "
      ]
     },
     "execution_count": 20,
     "metadata": {},
     "output_type": "execute_result"
    }
   ],
   "source": [
    "result.head()"
   ]
  },
  {
   "cell_type": "code",
   "execution_count": 22,
   "metadata": {},
   "outputs": [
    {
     "data": {
      "text/plain": [
       "제품명    0\n",
       "스펙     0\n",
       "가격     1\n",
       "dtype: int64"
      ]
     },
     "execution_count": 22,
     "metadata": {},
     "output_type": "execute_result"
    }
   ],
   "source": [
    "result.isnull().sum()\n",
    "# 가격에 하나의 결측치가 존재"
   ]
  },
  {
   "cell_type": "code",
   "execution_count": 21,
   "metadata": {},
   "outputs": [],
   "source": [
    "# 정상적으로 나온 결과를 엑셀로 저장함\n",
    "result.to_excel('notebook.xlsx')"
   ]
  },
  {
   "cell_type": "markdown",
   "metadata": {},
   "source": [
    "## 크롤링해서 얻은 데이터를 전처리"
   ]
  },
  {
   "cell_type": "code",
   "execution_count": 16,
   "metadata": {},
   "outputs": [],
   "source": [
    "import pandas as pd\n",
    "import matplotlib as plt\n",
    "import seaborn as sns"
   ]
  },
  {
   "cell_type": "code",
   "execution_count": 17,
   "metadata": {},
   "outputs": [
    {
     "data": {
      "text/html": [
       "<div>\n",
       "<style scoped>\n",
       "    .dataframe tbody tr th:only-of-type {\n",
       "        vertical-align: middle;\n",
       "    }\n",
       "\n",
       "    .dataframe tbody tr th {\n",
       "        vertical-align: top;\n",
       "    }\n",
       "\n",
       "    .dataframe thead th {\n",
       "        text-align: right;\n",
       "    }\n",
       "</style>\n",
       "<table border=\"1\" class=\"dataframe\">\n",
       "  <thead>\n",
       "    <tr style=\"text-align: right;\">\n",
       "      <th></th>\n",
       "      <th>Unnamed: 0</th>\n",
       "      <th>제품명</th>\n",
       "      <th>스펙</th>\n",
       "      <th>가격</th>\n",
       "    </tr>\n",
       "  </thead>\n",
       "  <tbody>\n",
       "    <tr>\n",
       "      <td>0</td>\n",
       "      <td>0</td>\n",
       "      <td>LG전자 2020 그램17 17ZD90N-VX70K (SSD 256GB)</td>\n",
       "      <td>43.1cm(17인치)  / 인텔  / 코어i7-10세대  / 아이스레이크  / i...</td>\n",
       "      <td>1692000.0</td>\n",
       "    </tr>\n",
       "    <tr>\n",
       "      <td>1</td>\n",
       "      <td>1</td>\n",
       "      <td>레노버 LEGION Y540-15IRH i7 Prime (SSD 256GB)</td>\n",
       "      <td>39.62cm(15.6인치)  / 인텔  / 코어i7-9세대  / 커피레이크-R  ...</td>\n",
       "      <td>1190000.0</td>\n",
       "    </tr>\n",
       "    <tr>\n",
       "      <td>2</td>\n",
       "      <td>2</td>\n",
       "      <td>MSI 크리에이터 17M A9SD-i7</td>\n",
       "      <td>43.94cm(17.3인치) / 인텔 / 코어i7-9세대 / 커피레이크-R / i7...</td>\n",
       "      <td>1369000.0</td>\n",
       "    </tr>\n",
       "    <tr>\n",
       "      <td>3</td>\n",
       "      <td>3</td>\n",
       "      <td>LG전자 2019 울트라PC 15UD590-GX50K WIN10</td>\n",
       "      <td>39.62cm(15.6인치) / 인텔 / 코어i5-8세대 / 위스키레이크 / i5-...</td>\n",
       "      <td>903000.0</td>\n",
       "    </tr>\n",
       "    <tr>\n",
       "      <td>4</td>\n",
       "      <td>4</td>\n",
       "      <td>LG전자 2020 울트라PC 15U70N-GR56K</td>\n",
       "      <td>39.6cm(15.6인치) / 인텔 / 코어i5-10세대 / 코멧레이크 / i5-1...</td>\n",
       "      <td>1059000.0</td>\n",
       "    </tr>\n",
       "  </tbody>\n",
       "</table>\n",
       "</div>"
      ],
      "text/plain": [
       "   Unnamed: 0                                         제품명  \\\n",
       "0           0    LG전자 2020 그램17 17ZD90N-VX70K (SSD 256GB)   \n",
       "1           1  레노버 LEGION Y540-15IRH i7 Prime (SSD 256GB)   \n",
       "2           2                       MSI 크리에이터 17M A9SD-i7   \n",
       "3           3         LG전자 2019 울트라PC 15UD590-GX50K WIN10   \n",
       "4           4                LG전자 2020 울트라PC 15U70N-GR56K   \n",
       "\n",
       "                                                  스펙         가격  \n",
       "0  43.1cm(17인치)  / 인텔  / 코어i7-10세대  / 아이스레이크  / i...  1692000.0  \n",
       "1  39.62cm(15.6인치)  / 인텔  / 코어i7-9세대  / 커피레이크-R  ...  1190000.0  \n",
       "2  43.94cm(17.3인치) / 인텔 / 코어i7-9세대 / 커피레이크-R / i7...  1369000.0  \n",
       "3  39.62cm(15.6인치) / 인텔 / 코어i5-8세대 / 위스키레이크 / i5-...   903000.0  \n",
       "4  39.6cm(15.6인치) / 인텔 / 코어i5-10세대 / 코멧레이크 / i5-1...  1059000.0  "
      ]
     },
     "execution_count": 17,
     "metadata": {},
     "output_type": "execute_result"
    }
   ],
   "source": [
    "result = pd.read_excel('notebook.xlsx')\n",
    "result.head()"
   ]
  },
  {
   "cell_type": "markdown",
   "metadata": {},
   "source": [
    "### 스펙에 해당하는 컬럼이 난잡한 문자열로 되어 있으니 필요한 성능만을 꺼내도록 합시다.\n",
    "(노트북을 잘 모르기에 성능에 관한 것은 인터넷 정보에 상당부분 의존했습니다.)\n",
    "- CPU: 셀러론->팬티엄->i3->i5, 세대는 최신으로 올수록 좋은 것(9세대<10세대)"
   ]
  },
  {
   "cell_type": "code",
   "execution_count": 9,
   "metadata": {},
   "outputs": [
    {
     "data": {
      "text/plain": [
       "'43.1cm(17인치)  / 인텔  / 코어i7-10세대  / 아이스레이크  / i7-1065G7 1.3GHz(3.9GHz) / 쿼드코어  / 2560x1600(WQXGA)  / 광시야각(IPS)  / 슬림형 베젤  / DDR4  / 8GB  / M.2(NVMe)  / 256GB  / Iris Plus Graphics / 802.11ax 무선랜 / 블루투스  / HDMI  / 웹캠(HD)  / 썬더볼트 : 1개  / USB 3.1 Type-C  / USB 3.1  / UFS  / MicroSD카드 / 숫자 키패드  / 키보드 라이트  / MIL-STD  / 지문 인식  / 80Wh  / 운영체제 미포함  / 두께 : 17.4mm  / 1.35kg  / 일반유통상품 / 용도 : 사무/인강용 , 휴대용  / 색상: 화이트'"
      ]
     },
     "execution_count": 9,
     "metadata": {},
     "output_type": "execute_result"
    }
   ],
   "source": [
    "result.스펙[0]\n",
    "\n",
    "# CPU : 코어i7-10세대\n",
    "# 무게 : 1.35kg\n",
    "# SSD : 256GB\n",
    "# 배터리 : 80kw\n",
    "# 운영체재 미포함\n",
    "# 지문인식"
   ]
  },
  {
   "cell_type": "markdown",
   "metadata": {},
   "source": [
    "# 새로 만든 것\n",
    "# 나중에 수정"
   ]
  },
  {
   "cell_type": "code",
   "execution_count": 21,
   "metadata": {},
   "outputs": [],
   "source": [
    "result.drop(['Unnamed: 0'],axis=1,inplace=True)"
   ]
  },
  {
   "cell_type": "code",
   "execution_count": 22,
   "metadata": {},
   "outputs": [
    {
     "data": {
      "text/html": [
       "<div>\n",
       "<style scoped>\n",
       "    .dataframe tbody tr th:only-of-type {\n",
       "        vertical-align: middle;\n",
       "    }\n",
       "\n",
       "    .dataframe tbody tr th {\n",
       "        vertical-align: top;\n",
       "    }\n",
       "\n",
       "    .dataframe thead th {\n",
       "        text-align: right;\n",
       "    }\n",
       "</style>\n",
       "<table border=\"1\" class=\"dataframe\">\n",
       "  <thead>\n",
       "    <tr style=\"text-align: right;\">\n",
       "      <th></th>\n",
       "      <th>제품명</th>\n",
       "      <th>스펙</th>\n",
       "      <th>가격</th>\n",
       "    </tr>\n",
       "  </thead>\n",
       "  <tbody>\n",
       "    <tr>\n",
       "      <td>0</td>\n",
       "      <td>LG전자 2020 그램17 17ZD90N-VX70K (SSD 256GB)</td>\n",
       "      <td>43.1cm(17인치)  / 인텔  / 코어i7-10세대  / 아이스레이크  / i...</td>\n",
       "      <td>1692000.0</td>\n",
       "    </tr>\n",
       "    <tr>\n",
       "      <td>1</td>\n",
       "      <td>레노버 LEGION Y540-15IRH i7 Prime (SSD 256GB)</td>\n",
       "      <td>39.62cm(15.6인치)  / 인텔  / 코어i7-9세대  / 커피레이크-R  ...</td>\n",
       "      <td>1190000.0</td>\n",
       "    </tr>\n",
       "    <tr>\n",
       "      <td>2</td>\n",
       "      <td>MSI 크리에이터 17M A9SD-i7</td>\n",
       "      <td>43.94cm(17.3인치) / 인텔 / 코어i7-9세대 / 커피레이크-R / i7...</td>\n",
       "      <td>1369000.0</td>\n",
       "    </tr>\n",
       "    <tr>\n",
       "      <td>3</td>\n",
       "      <td>LG전자 2019 울트라PC 15UD590-GX50K WIN10</td>\n",
       "      <td>39.62cm(15.6인치) / 인텔 / 코어i5-8세대 / 위스키레이크 / i5-...</td>\n",
       "      <td>903000.0</td>\n",
       "    </tr>\n",
       "    <tr>\n",
       "      <td>4</td>\n",
       "      <td>LG전자 2020 울트라PC 15U70N-GR56K</td>\n",
       "      <td>39.6cm(15.6인치) / 인텔 / 코어i5-10세대 / 코멧레이크 / i5-1...</td>\n",
       "      <td>1059000.0</td>\n",
       "    </tr>\n",
       "    <tr>\n",
       "      <td>...</td>\n",
       "      <td>...</td>\n",
       "      <td>...</td>\n",
       "      <td>...</td>\n",
       "    </tr>\n",
       "    <tr>\n",
       "      <td>297</td>\n",
       "      <td>레노버 씽크북 14s-IML 20RSA001KR</td>\n",
       "      <td>35.56cm(14인치) / 인텔 / 코어i7-10세대 / 코멧레이크 / i7-10...</td>\n",
       "      <td>1025000.0</td>\n",
       "    </tr>\n",
       "    <tr>\n",
       "      <td>298</td>\n",
       "      <td>한성컴퓨터 TFG277GSW 아방가르드</td>\n",
       "      <td>43.94cm(17.3인치) / 인텔 / 코어i7-9세대 / 커피레이크-R / i7...</td>\n",
       "      <td>1988000.0</td>\n",
       "    </tr>\n",
       "    <tr>\n",
       "      <td>299</td>\n",
       "      <td>레노버 LEGION Y540-15IRH i7 Blade 2060</td>\n",
       "      <td>39.62cm(15.6인치) / 인텔 / 코어i7-9세대 / 커피레이크-R / i7...</td>\n",
       "      <td>1397000.0</td>\n",
       "    </tr>\n",
       "    <tr>\n",
       "      <td>300</td>\n",
       "      <td>MSI WT73VR 7RM</td>\n",
       "      <td>43.94cm(17.3인치) / 인텔 / 제온 / 카비레이크 / E3-1505Mv6...</td>\n",
       "      <td>6490000.0</td>\n",
       "    </tr>\n",
       "    <tr>\n",
       "      <td>301</td>\n",
       "      <td>레노버 Yoga BOOK C930 ZA3S0079KR</td>\n",
       "      <td>27.4cm(10.9인치) / 인텔 / 코어M / 카비레이크 / m3-7Y30 1G...</td>\n",
       "      <td>860000.0</td>\n",
       "    </tr>\n",
       "  </tbody>\n",
       "</table>\n",
       "<p>302 rows × 3 columns</p>\n",
       "</div>"
      ],
      "text/plain": [
       "                                            제품명  \\\n",
       "0      LG전자 2020 그램17 17ZD90N-VX70K (SSD 256GB)   \n",
       "1    레노버 LEGION Y540-15IRH i7 Prime (SSD 256GB)   \n",
       "2                         MSI 크리에이터 17M A9SD-i7   \n",
       "3           LG전자 2019 울트라PC 15UD590-GX50K WIN10   \n",
       "4                  LG전자 2020 울트라PC 15U70N-GR56K   \n",
       "..                                          ...   \n",
       "297                  레노버 씽크북 14s-IML 20RSA001KR   \n",
       "298                       한성컴퓨터 TFG277GSW 아방가르드   \n",
       "299         레노버 LEGION Y540-15IRH i7 Blade 2060   \n",
       "300                              MSI WT73VR 7RM   \n",
       "301               레노버 Yoga BOOK C930 ZA3S0079KR   \n",
       "\n",
       "                                                    스펙         가격  \n",
       "0    43.1cm(17인치)  / 인텔  / 코어i7-10세대  / 아이스레이크  / i...  1692000.0  \n",
       "1    39.62cm(15.6인치)  / 인텔  / 코어i7-9세대  / 커피레이크-R  ...  1190000.0  \n",
       "2    43.94cm(17.3인치) / 인텔 / 코어i7-9세대 / 커피레이크-R / i7...  1369000.0  \n",
       "3    39.62cm(15.6인치) / 인텔 / 코어i5-8세대 / 위스키레이크 / i5-...   903000.0  \n",
       "4    39.6cm(15.6인치) / 인텔 / 코어i5-10세대 / 코멧레이크 / i5-1...  1059000.0  \n",
       "..                                                 ...        ...  \n",
       "297  35.56cm(14인치) / 인텔 / 코어i7-10세대 / 코멧레이크 / i7-10...  1025000.0  \n",
       "298  43.94cm(17.3인치) / 인텔 / 코어i7-9세대 / 커피레이크-R / i7...  1988000.0  \n",
       "299  39.62cm(15.6인치) / 인텔 / 코어i7-9세대 / 커피레이크-R / i7...  1397000.0  \n",
       "300  43.94cm(17.3인치) / 인텔 / 제온 / 카비레이크 / E3-1505Mv6...  6490000.0  \n",
       "301  27.4cm(10.9인치) / 인텔 / 코어M / 카비레이크 / m3-7Y30 1G...   860000.0  \n",
       "\n",
       "[302 rows x 3 columns]"
      ]
     },
     "execution_count": 22,
     "metadata": {},
     "output_type": "execute_result"
    }
   ],
   "source": [
    "result"
   ]
  },
  {
   "cell_type": "code",
   "execution_count": 23,
   "metadata": {},
   "outputs": [
    {
     "data": {
      "text/plain": [
       "제품명    0\n",
       "스펙     0\n",
       "가격     1\n",
       "dtype: int64"
      ]
     },
     "execution_count": 23,
     "metadata": {},
     "output_type": "execute_result"
    }
   ],
   "source": [
    "result.isnull().sum()"
   ]
  },
  {
   "cell_type": "code",
   "execution_count": 27,
   "metadata": {},
   "outputs": [],
   "source": [
    "result2 = result[result['가격'].isnull()==False]"
   ]
  },
  {
   "cell_type": "code",
   "execution_count": 29,
   "metadata": {},
   "outputs": [
    {
     "data": {
      "text/plain": [
       "제품명    0\n",
       "스펙     0\n",
       "가격     0\n",
       "dtype: int64"
      ]
     },
     "execution_count": 29,
     "metadata": {},
     "output_type": "execute_result"
    }
   ],
   "source": [
    "result2.isnull().sum()"
   ]
  },
  {
   "cell_type": "code",
   "execution_count": null,
   "metadata": {},
   "outputs": [],
   "source": []
  }
 ],
 "metadata": {
  "kernelspec": {
   "display_name": "Python 3",
   "language": "python",
   "name": "python3"
  },
  "language_info": {
   "codemirror_mode": {
    "name": "ipython",
    "version": 3
   },
   "file_extension": ".py",
   "mimetype": "text/x-python",
   "name": "python",
   "nbconvert_exporter": "python",
   "pygments_lexer": "ipython3",
   "version": "3.7.4"
  }
 },
 "nbformat": 4,
 "nbformat_minor": 2
}
