{
 "cells": [
  {
   "cell_type": "code",
   "execution_count": 2,
   "metadata": {},
   "outputs": [],
   "source": [
    "import numpy as np\n",
    "import pandas as pd\n",
    "from scipy import stats"
   ]
  },
  {
   "cell_type": "markdown",
   "metadata": {},
   "source": [
    "# T-검정\n",
    "## 일표본 T-검정"
   ]
  },
  {
   "cell_type": "code",
   "execution_count": 3,
   "metadata": {},
   "outputs": [
    {
     "name": "stdout",
     "output_type": "stream",
     "text": [
      "평균 : 10.004707240081995, 분산 : 3.997456829579718\n",
      "평균 : 10.055494229069078, 분산 : 8.99130725100136\n"
     ]
    }
   ],
   "source": [
    "data1 = stats.norm.rvs(loc=10, scale=2, size=500, random_state = 2022)\n",
    "data2 = stats.t.rvs(loc=10, scale=2, df=3, size=500, random_state=2022)\n",
    "print(f'평균 : {data1.mean()}, 분산 : {data1.var()}')\n",
    "print(f'평균 : {data2.mean()}, 분산 : {data2.var()}')"
   ]
  },
  {
   "cell_type": "markdown",
   "metadata": {},
   "source": [
    "귀무가설 : 모평균의 값은 $u_0$이다.<br>\n",
    "t-test를 수행하기 위해서는 정규성을 먼저 점검해야한다."
   ]
  },
  {
   "cell_type": "code",
   "execution_count": 4,
   "metadata": {},
   "outputs": [
    {
     "name": "stdout",
     "output_type": "stream",
     "text": [
      "p_value of shapiro-wilk test with data1 : 0.5016745924949646,\n",
      "p_value of shapiro-wilk test with data2 : 3.5778968153553185e-15\n"
     ]
    }
   ],
   "source": [
    "# 정규성 입증\n",
    "_,p_val1 = stats.shapiro(data1)\n",
    "_,p_val2 = stats.shapiro(data2)\n",
    "print(f'p_value of shapiro-wilk test with data1 : {p_val1},\\np_value of shapiro-wilk test with data2 : {p_val2}')"
   ]
  },
  {
   "cell_type": "markdown",
   "metadata": {},
   "source": [
    "데이터가 정규분포를 따른다는 가정을 만족하는 경우 t-test, 정규성을 만족하지 못할 경우 wilcoxon test를 이용해 가설을 검정할 수 있다."
   ]
  },
  {
   "cell_type": "code",
   "execution_count": 5,
   "metadata": {},
   "outputs": [
    {
     "name": "stdout",
     "output_type": "stream",
     "text": [
      "Ttest_1sampResult(statistic=0.05259261081891289, pvalue=0.9580775517179503)\n",
      "WilcoxonResult(statistic=62011.0, pvalue=0.8493435848163181)\n"
     ]
    }
   ],
   "source": [
    "print(stats.ttest_1samp(data1,10))\n",
    "print(stats.wilcoxon(data2-10))"
   ]
  },
  {
   "cell_type": "markdown",
   "metadata": {},
   "source": [
    "## 대응표본 T-검정\n",
    "단일모집단에 대해 어떤 행동을 수행한 경우 그 행동 수행에 따른 평균 차이를 비교, 표본의 크기가 같음<br>\n",
    "ex) 어떤 실험군에 대해 혈압약의 투약 효과를 측정하고자 투약 이전과 이후의 혈압 수치를 비교할 수 있음\n",
    "\n",
    "귀무가설 : 두 데이터셋의 모평균간 차이가 없다."
   ]
  },
  {
   "cell_type": "code",
   "execution_count": 6,
   "metadata": {},
   "outputs": [
    {
     "data": {
      "text/plain": [
       "Ttest_relResult(statistic=-4.743416490252569, pvalue=0.0005269356285082765)"
      ]
     },
     "execution_count": 6,
     "metadata": {},
     "output_type": "execute_result"
    }
   ],
   "source": [
    "# 수면제 복용 전과 후의 수면시간\n",
    "before = np.array([7,3,4,5,2,1,6,6,5,4])\n",
    "after = np.array([8,4,5,6,2,3,6,8,6,5])\n",
    "# ttest_rel은 related\n",
    "# less는 before < after라는 뜻\n",
    "stats.ttest_rel(before, after,alternative='less')"
   ]
  },
  {
   "cell_type": "code",
   "execution_count": 7,
   "metadata": {},
   "outputs": [
    {
     "data": {
      "text/plain": [
       "Ttest_relResult(statistic=-4.743416490252569, pvalue=0.001053871257016553)"
      ]
     },
     "execution_count": 7,
     "metadata": {},
     "output_type": "execute_result"
    }
   ],
   "source": [
    "stats.ttest_rel(before, after,alternative='two-sided')"
   ]
  },
  {
   "cell_type": "code",
   "execution_count": 8,
   "metadata": {},
   "outputs": [
    {
     "data": {
      "text/plain": [
       "Ttest_relResult(statistic=-4.743416490252569, pvalue=0.9994730643714917)"
      ]
     },
     "execution_count": 8,
     "metadata": {},
     "output_type": "execute_result"
    }
   ],
   "source": [
    "stats.ttest_rel(before, after,alternative='greater')"
   ]
  },
  {
   "cell_type": "code",
   "execution_count": 13,
   "metadata": {},
   "outputs": [
    {
     "data": {
      "text/plain": [
       "LeveneResult(statistic=0.0, pvalue=1.0)"
      ]
     },
     "execution_count": 13,
     "metadata": {},
     "output_type": "execute_result"
    }
   ],
   "source": [
    "stats.levene(before, after)"
   ]
  },
  {
   "cell_type": "markdown",
   "metadata": {},
   "source": [
    "## 독립표본 T-검정\n",
    "귀무가설 : 두 데이터셋의 모평균간 차이가 없다.<br>\n",
    "등분산성에 따라 절차가 다르기 때문에 미리 등분산 검정을 실시해야한다."
   ]
  },
  {
   "cell_type": "code",
   "execution_count": 18,
   "metadata": {},
   "outputs": [
    {
     "data": {
      "text/html": [
       "<div>\n",
       "<style scoped>\n",
       "    .dataframe tbody tr th:only-of-type {\n",
       "        vertical-align: middle;\n",
       "    }\n",
       "\n",
       "    .dataframe tbody tr th {\n",
       "        vertical-align: top;\n",
       "    }\n",
       "\n",
       "    .dataframe thead th {\n",
       "        text-align: right;\n",
       "    }\n",
       "</style>\n",
       "<table border=\"1\" class=\"dataframe\">\n",
       "  <thead>\n",
       "    <tr style=\"text-align: right;\">\n",
       "      <th></th>\n",
       "      <th>Sex</th>\n",
       "      <th>Bwt</th>\n",
       "      <th>Hwt</th>\n",
       "    </tr>\n",
       "  </thead>\n",
       "  <tbody>\n",
       "    <tr>\n",
       "      <td>0</td>\n",
       "      <td>F</td>\n",
       "      <td>2.0</td>\n",
       "      <td>7.0</td>\n",
       "    </tr>\n",
       "    <tr>\n",
       "      <td>1</td>\n",
       "      <td>F</td>\n",
       "      <td>2.0</td>\n",
       "      <td>7.4</td>\n",
       "    </tr>\n",
       "    <tr>\n",
       "      <td>2</td>\n",
       "      <td>F</td>\n",
       "      <td>2.0</td>\n",
       "      <td>9.5</td>\n",
       "    </tr>\n",
       "    <tr>\n",
       "      <td>3</td>\n",
       "      <td>F</td>\n",
       "      <td>2.1</td>\n",
       "      <td>7.2</td>\n",
       "    </tr>\n",
       "    <tr>\n",
       "      <td>4</td>\n",
       "      <td>F</td>\n",
       "      <td>2.1</td>\n",
       "      <td>7.3</td>\n",
       "    </tr>\n",
       "  </tbody>\n",
       "</table>\n",
       "</div>"
      ],
      "text/plain": [
       "  Sex  Bwt  Hwt\n",
       "0   F  2.0  7.0\n",
       "1   F  2.0  7.4\n",
       "2   F  2.0  9.5\n",
       "3   F  2.1  7.2\n",
       "4   F  2.1  7.3"
      ]
     },
     "execution_count": 18,
     "metadata": {},
     "output_type": "execute_result"
    }
   ],
   "source": [
    "cats = pd.read_csv('datasets/cats.csv')\n",
    "cats = cats.drop('Unnamed: 0',axis=1)\n",
    "cats.head()"
   ]
  },
  {
   "cell_type": "code",
   "execution_count": 19,
   "metadata": {},
   "outputs": [],
   "source": [
    "cats_female = cats[cats['Sex']=='F']\n",
    "cats_male = cats[cats['Sex']=='M']"
   ]
  },
  {
   "cell_type": "code",
   "execution_count": 21,
   "metadata": {},
   "outputs": [
    {
     "name": "stdout",
     "output_type": "stream",
     "text": [
      "ShapiroResult(statistic=0.9788321852684021, pvalue=0.11895745247602463)\n",
      "ShapiroResult(statistic=0.8909613490104675, pvalue=0.0003754299250431359)\n"
     ]
    }
   ],
   "source": [
    "# 정규성을 만족하지 않으므로 Levene 테스트 진행\n",
    "print(stats.shapiro(cats_male['Bwt']))\n",
    "print(stats.shapiro(cats_female['Bwt']))"
   ]
  },
  {
   "cell_type": "code",
   "execution_count": 25,
   "metadata": {},
   "outputs": [
    {
     "data": {
      "text/plain": [
       "LeveneResult(statistic=19.43101190877999, pvalue=2.0435285255189404e-05)"
      ]
     },
     "execution_count": 25,
     "metadata": {},
     "output_type": "execute_result"
    }
   ],
   "source": [
    "# 등분산성을 만족하지 않음\n",
    "stats.levene(cats_male['Bwt'], cats_female['Bwt'])"
   ]
  },
  {
   "cell_type": "code",
   "execution_count": 27,
   "metadata": {},
   "outputs": [
    {
     "data": {
      "text/plain": [
       "Ttest_indResult(statistic=8.70948849909559, pvalue=8.831034455859356e-15)"
      ]
     },
     "execution_count": 27,
     "metadata": {},
     "output_type": "execute_result"
    }
   ],
   "source": [
    "# 등분산에 관한 인자를 넣어준다.\n",
    "\n",
    "# 귀무가설을 기각하고 '고양이 성별에 따른 몸무게에는 통계적으로 유의한 차이가 존재한다' 결론 지을 수 있다.\n",
    "stats.ttest_ind(cats_male['Bwt'], cats_female['Bwt'],equal_var=False)"
   ]
  },
  {
   "cell_type": "code",
   "execution_count": 32,
   "metadata": {},
   "outputs": [
    {
     "data": {
      "text/plain": [
       "Sex\n",
       "F    2.359574\n",
       "M    2.900000\n",
       "Name: Bwt, dtype: float64"
      ]
     },
     "execution_count": 32,
     "metadata": {},
     "output_type": "execute_result"
    }
   ],
   "source": [
    "cats.groupby('Sex').mean()['Bwt']"
   ]
  },
  {
   "cell_type": "code",
   "execution_count": 33,
   "metadata": {},
   "outputs": [
    {
     "data": {
      "text/plain": [
       "Ttest_indResult(statistic=8.70948849909559, pvalue=4.415517227929678e-15)"
      ]
     },
     "execution_count": 33,
     "metadata": {},
     "output_type": "execute_result"
    }
   ],
   "source": [
    "stats.ttest_ind(cats_male['Bwt'], cats_female['Bwt'],equal_var=False,alternative='greater')"
   ]
  },
  {
   "cell_type": "markdown",
   "metadata": {},
   "source": [
    "# 교차분석(with chi-square distribution)\n",
    "## 적합성 검정(동질성 검정)\n",
    "실험에서 얻어진 관측값과 이론적으로 예상한 값들이 일치하는지를 검정<br>\n",
    "귀무가설 : 실제 분포와 이론적 분포간 차이가 없다.<br>\n",
    "대립가설 : 두 분포가 일치하지 않는다."
   ]
  },
  {
   "cell_type": "code",
   "execution_count": 36,
   "metadata": {},
   "outputs": [],
   "source": [
    "survey = pd.read_csv('datasets/survey.csv',index_col=0)"
   ]
  },
  {
   "cell_type": "code",
   "execution_count": 38,
   "metadata": {},
   "outputs": [
    {
     "data": {
      "text/html": [
       "<div>\n",
       "<style scoped>\n",
       "    .dataframe tbody tr th:only-of-type {\n",
       "        vertical-align: middle;\n",
       "    }\n",
       "\n",
       "    .dataframe tbody tr th {\n",
       "        vertical-align: top;\n",
       "    }\n",
       "\n",
       "    .dataframe thead th {\n",
       "        text-align: right;\n",
       "    }\n",
       "</style>\n",
       "<table border=\"1\" class=\"dataframe\">\n",
       "  <thead>\n",
       "    <tr style=\"text-align: right;\">\n",
       "      <th></th>\n",
       "      <th>Sex</th>\n",
       "      <th>Wr.Hnd</th>\n",
       "      <th>NW.Hnd</th>\n",
       "      <th>W.Hnd</th>\n",
       "      <th>Fold</th>\n",
       "      <th>Pulse</th>\n",
       "      <th>Clap</th>\n",
       "      <th>Exer</th>\n",
       "      <th>Smoke</th>\n",
       "      <th>Height</th>\n",
       "      <th>M.I</th>\n",
       "      <th>Age</th>\n",
       "    </tr>\n",
       "  </thead>\n",
       "  <tbody>\n",
       "    <tr>\n",
       "      <td>1</td>\n",
       "      <td>Female</td>\n",
       "      <td>18.5</td>\n",
       "      <td>18.0</td>\n",
       "      <td>Right</td>\n",
       "      <td>R on L</td>\n",
       "      <td>92.0</td>\n",
       "      <td>Left</td>\n",
       "      <td>Some</td>\n",
       "      <td>Never</td>\n",
       "      <td>173.0</td>\n",
       "      <td>Metric</td>\n",
       "      <td>18.250</td>\n",
       "    </tr>\n",
       "    <tr>\n",
       "      <td>2</td>\n",
       "      <td>Male</td>\n",
       "      <td>19.5</td>\n",
       "      <td>20.5</td>\n",
       "      <td>Left</td>\n",
       "      <td>R on L</td>\n",
       "      <td>104.0</td>\n",
       "      <td>Left</td>\n",
       "      <td>None</td>\n",
       "      <td>Regul</td>\n",
       "      <td>177.8</td>\n",
       "      <td>Imperial</td>\n",
       "      <td>17.583</td>\n",
       "    </tr>\n",
       "    <tr>\n",
       "      <td>3</td>\n",
       "      <td>Male</td>\n",
       "      <td>18.0</td>\n",
       "      <td>13.3</td>\n",
       "      <td>Right</td>\n",
       "      <td>L on R</td>\n",
       "      <td>87.0</td>\n",
       "      <td>Neither</td>\n",
       "      <td>None</td>\n",
       "      <td>Occas</td>\n",
       "      <td>NaN</td>\n",
       "      <td>NaN</td>\n",
       "      <td>16.917</td>\n",
       "    </tr>\n",
       "    <tr>\n",
       "      <td>4</td>\n",
       "      <td>Male</td>\n",
       "      <td>18.8</td>\n",
       "      <td>18.9</td>\n",
       "      <td>Right</td>\n",
       "      <td>R on L</td>\n",
       "      <td>NaN</td>\n",
       "      <td>Neither</td>\n",
       "      <td>None</td>\n",
       "      <td>Never</td>\n",
       "      <td>160.0</td>\n",
       "      <td>Metric</td>\n",
       "      <td>20.333</td>\n",
       "    </tr>\n",
       "    <tr>\n",
       "      <td>5</td>\n",
       "      <td>Male</td>\n",
       "      <td>20.0</td>\n",
       "      <td>20.0</td>\n",
       "      <td>Right</td>\n",
       "      <td>Neither</td>\n",
       "      <td>35.0</td>\n",
       "      <td>Right</td>\n",
       "      <td>Some</td>\n",
       "      <td>Never</td>\n",
       "      <td>165.0</td>\n",
       "      <td>Metric</td>\n",
       "      <td>23.667</td>\n",
       "    </tr>\n",
       "  </tbody>\n",
       "</table>\n",
       "</div>"
      ],
      "text/plain": [
       "      Sex  Wr.Hnd  NW.Hnd  W.Hnd     Fold  Pulse     Clap  Exer  Smoke  \\\n",
       "1  Female    18.5    18.0  Right   R on L   92.0     Left  Some  Never   \n",
       "2    Male    19.5    20.5   Left   R on L  104.0     Left  None  Regul   \n",
       "3    Male    18.0    13.3  Right   L on R   87.0  Neither  None  Occas   \n",
       "4    Male    18.8    18.9  Right   R on L    NaN  Neither  None  Never   \n",
       "5    Male    20.0    20.0  Right  Neither   35.0    Right  Some  Never   \n",
       "\n",
       "   Height       M.I     Age  \n",
       "1   173.0    Metric  18.250  \n",
       "2   177.8  Imperial  17.583  \n",
       "3     NaN       NaN  16.917  \n",
       "4   160.0    Metric  20.333  \n",
       "5   165.0    Metric  23.667  "
      ]
     },
     "execution_count": 38,
     "metadata": {},
     "output_type": "execute_result"
    }
   ],
   "source": [
    "survey.head()"
   ]
  },
  {
   "cell_type": "markdown",
   "metadata": {},
   "source": [
    "R의 chisq.test와는 다른 제약사항으로 f_obs의 합과 f_exp의 합이 같아야함<br>\n",
    "$\\textbf{f_obs의 값은 그대로 두고, f_exp를 비율에 맞게 바꿔줄 것}$\n",
    "\n",
    "다음 예시는 왼손잡이와 오른손잡이의 비율이 2:8이 맞는지 검정하는 것"
   ]
  },
  {
   "cell_type": "code",
   "execution_count": 80,
   "metadata": {},
   "outputs": [
    {
     "data": {
      "text/plain": [
       "Power_divergenceResult(statistic=22.58050847457627, pvalue=2.0151876969887844e-06)"
      ]
     },
     "execution_count": 80,
     "metadata": {},
     "output_type": "execute_result"
    }
   ],
   "source": [
    "observed = survey['W.Hnd'].value_counts()\n",
    "stats.chisquare(f_obs = observed.sort_values(),\n",
    "                f_exp = np.array([0.2,0.8])*observed.sum())"
   ]
  },
  {
   "cell_type": "code",
   "execution_count": null,
   "metadata": {},
   "outputs": [],
   "source": []
  }
 ],
 "metadata": {
  "kernelspec": {
   "display_name": "Python 3",
   "language": "python",
   "name": "python3"
  },
  "language_info": {
   "codemirror_mode": {
    "name": "ipython",
    "version": 3
   },
   "file_extension": ".py",
   "mimetype": "text/x-python",
   "name": "python",
   "nbconvert_exporter": "python",
   "pygments_lexer": "ipython3",
   "version": "3.7.4"
  }
 },
 "nbformat": 4,
 "nbformat_minor": 2
}
