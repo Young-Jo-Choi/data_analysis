{
 "cells": [
  {
   "cell_type": "code",
   "execution_count": 1,
   "metadata": {},
   "outputs": [],
   "source": [
    "import numpy as np\n",
    "import pandas as pd\n",
    "from scipy import stats\n",
    "import matplotlib.pyplot as plt\n",
    "%matplotlib inline"
   ]
  },
  {
   "cell_type": "code",
   "execution_count": 2,
   "metadata": {},
   "outputs": [],
   "source": [
    "from statsmodels.formula.api import ols\n",
    "from statsmodels.stats.anova import anova_lm"
   ]
  },
  {
   "cell_type": "markdown",
   "metadata": {},
   "source": [
    "# 일원배치 분산분석(one-way ANOVA)\n",
    "가정\n",
    "1. 각 집단의 측정치는 서로 독립이며, 정규분포를 따른다.\n",
    "2. 등분산 가정을 만족한다.\n",
    "\n",
    "using data : sepal width (cm) of iris data<br>\n",
    "귀무가설 : 세 가지 종에 대해 sepal width의 평균이 모두 같다."
   ]
  },
  {
   "cell_type": "code",
   "execution_count": 3,
   "metadata": {},
   "outputs": [
    {
     "data": {
      "text/html": [
       "<div>\n",
       "<style scoped>\n",
       "    .dataframe tbody tr th:only-of-type {\n",
       "        vertical-align: middle;\n",
       "    }\n",
       "\n",
       "    .dataframe tbody tr th {\n",
       "        vertical-align: top;\n",
       "    }\n",
       "\n",
       "    .dataframe thead th {\n",
       "        text-align: right;\n",
       "    }\n",
       "</style>\n",
       "<table border=\"1\" class=\"dataframe\">\n",
       "  <thead>\n",
       "    <tr style=\"text-align: right;\">\n",
       "      <th></th>\n",
       "      <th>sepal length (cm)</th>\n",
       "      <th>sepal width (cm)</th>\n",
       "      <th>petal length (cm)</th>\n",
       "      <th>petal width (cm)</th>\n",
       "      <th>species</th>\n",
       "    </tr>\n",
       "  </thead>\n",
       "  <tbody>\n",
       "    <tr>\n",
       "      <td>0</td>\n",
       "      <td>5.1</td>\n",
       "      <td>3.5</td>\n",
       "      <td>1.4</td>\n",
       "      <td>0.2</td>\n",
       "      <td>setosa</td>\n",
       "    </tr>\n",
       "    <tr>\n",
       "      <td>1</td>\n",
       "      <td>4.9</td>\n",
       "      <td>3.0</td>\n",
       "      <td>1.4</td>\n",
       "      <td>0.2</td>\n",
       "      <td>setosa</td>\n",
       "    </tr>\n",
       "    <tr>\n",
       "      <td>2</td>\n",
       "      <td>4.7</td>\n",
       "      <td>3.2</td>\n",
       "      <td>1.3</td>\n",
       "      <td>0.2</td>\n",
       "      <td>setosa</td>\n",
       "    </tr>\n",
       "    <tr>\n",
       "      <td>3</td>\n",
       "      <td>4.6</td>\n",
       "      <td>3.1</td>\n",
       "      <td>1.5</td>\n",
       "      <td>0.2</td>\n",
       "      <td>setosa</td>\n",
       "    </tr>\n",
       "    <tr>\n",
       "      <td>4</td>\n",
       "      <td>5.0</td>\n",
       "      <td>3.6</td>\n",
       "      <td>1.4</td>\n",
       "      <td>0.2</td>\n",
       "      <td>setosa</td>\n",
       "    </tr>\n",
       "  </tbody>\n",
       "</table>\n",
       "</div>"
      ],
      "text/plain": [
       "   sepal length (cm)  sepal width (cm)  petal length (cm)  petal width (cm)  \\\n",
       "0                5.1               3.5                1.4               0.2   \n",
       "1                4.9               3.0                1.4               0.2   \n",
       "2                4.7               3.2                1.3               0.2   \n",
       "3                4.6               3.1                1.5               0.2   \n",
       "4                5.0               3.6                1.4               0.2   \n",
       "\n",
       "  species  \n",
       "0  setosa  \n",
       "1  setosa  \n",
       "2  setosa  \n",
       "3  setosa  \n",
       "4  setosa  "
      ]
     },
     "execution_count": 3,
     "metadata": {},
     "output_type": "execute_result"
    }
   ],
   "source": [
    "from sklearn.datasets import load_iris\n",
    "iris = load_iris()\n",
    "iris_df = pd.DataFrame(iris.data, columns=iris.feature_names)\n",
    "iris_df['species'] = iris.target\n",
    "iris_df['species'] = iris_df['species'].map(dict(zip([0,1,2],iris.target_names)))\n",
    "iris_df.head()"
   ]
  },
  {
   "cell_type": "code",
   "execution_count": 49,
   "metadata": {},
   "outputs": [
    {
     "data": {
      "text/plain": [
       "<matplotlib.axes._subplots.AxesSubplot at 0x20d92e8ee88>"
      ]
     },
     "execution_count": 49,
     "metadata": {},
     "output_type": "execute_result"
    },
    {
     "data": {
      "image/png": "[encoded data removed]",
      "text/plain": [
       "<Figure size 432x288 with 1 Axes>"
      ]
     },
     "metadata": {
      "needs_background": "light"
     },
     "output_type": "display_data"
    }
   ],
   "source": [
    "iris_df[['species','sepal width (cm)']].boxplot(column='sepal width (cm)',by='species')"
   ]
  },
  {
   "cell_type": "code",
   "execution_count": null,
   "metadata": {},
   "outputs": [],
   "source": [
    "data1 = iris_df.loc[iris_df['species'] == 'setosa','sepal width (cm)']\n",
    "data2 = iris_df.loc[iris_df['species'] == 'versicolor','sepal width (cm)']\n",
    "data3 = iris_df.loc[iris_df['species'] == 'virginica','sepal width (cm)']"
   ]
  },
  {
   "cell_type": "code",
   "execution_count": 66,
   "metadata": {},
   "outputs": [
    {
     "name": "stdout",
     "output_type": "stream",
     "text": [
      "6.0160314822070716e-05\n",
      "ShapiroResult(statistic=0.97171950340271, pvalue=0.2715264856815338)\n",
      "ShapiroResult(statistic=0.9741330742835999, pvalue=0.33798879384994507)\n",
      "ShapiroResult(statistic=0.9673910140991211, pvalue=0.1809043288230896)\n",
      "BartlettResult(statistic=2.0910752014391774, pvalue=0.35150280041581317)\n"
     ]
    }
   ],
   "source": [
    "# 독립성 가정은 만족하지 않지만 학습용이므로 일단은 그냥 진행\n",
    "_,pval,_,_ = stats.chi2_contingency(pd.crosstab(iris_df['species'],iris_df['sepal width (cm)']))\n",
    "print(pval)\n",
    "# 정규성 가정 만족\n",
    "print(stats.shapiro(data1))\n",
    "print(stats.shapiro(data2))\n",
    "print(stats.shapiro(data3))\n",
    "# 등분산 가정 만족\n",
    "print(stats.bartlett(data1,data2,data3))"
   ]
  },
  {
   "cell_type": "code",
   "execution_count": 4,
   "metadata": {},
   "outputs": [
    {
     "data": {
      "text/plain": [
       "F_onewayResult(statistic=49.160040089612075, pvalue=4.492017133309115e-17)"
      ]
     },
     "execution_count": 4,
     "metadata": {},
     "output_type": "execute_result"
    }
   ],
   "source": [
    "# scipy를 이용\n",
    "stats.f_oneway(data1,data2,data3)"
   ]
  },
  {
   "cell_type": "code",
   "execution_count": 5,
   "metadata": {},
   "outputs": [],
   "source": [
    "# stats model을 이용\n",
    "\n",
    "# 주의 : 컬럼 이름에 공백이나 괄호처럼 부적절한 문자가 포함되어있다면 에러가 날 수 있음\n",
    "iris_df.rename(columns = {'sepal width (cm)':'sepal_width'},inplace=True)"
   ]
  },
  {
   "cell_type": "code",
   "execution_count": 8,
   "metadata": {},
   "outputs": [
    {
     "data": {
      "text/html": [
       "<div>\n",
       "<style scoped>\n",
       "    .dataframe tbody tr th:only-of-type {\n",
       "        vertical-align: middle;\n",
       "    }\n",
       "\n",
       "    .dataframe tbody tr th {\n",
       "        vertical-align: top;\n",
       "    }\n",
       "\n",
       "    .dataframe thead th {\n",
       "        text-align: right;\n",
       "    }\n",
       "</style>\n",
       "<table border=\"1\" class=\"dataframe\">\n",
       "  <thead>\n",
       "    <tr style=\"text-align: right;\">\n",
       "      <th></th>\n",
       "      <th>df</th>\n",
       "      <th>sum_sq</th>\n",
       "      <th>mean_sq</th>\n",
       "      <th>F</th>\n",
       "      <th>PR(&gt;F)</th>\n",
       "    </tr>\n",
       "  </thead>\n",
       "  <tbody>\n",
       "    <tr>\n",
       "      <td>species</td>\n",
       "      <td>2.0</td>\n",
       "      <td>11.344933</td>\n",
       "      <td>5.672467</td>\n",
       "      <td>49.16004</td>\n",
       "      <td>4.492017e-17</td>\n",
       "    </tr>\n",
       "    <tr>\n",
       "      <td>Residual</td>\n",
       "      <td>147.0</td>\n",
       "      <td>16.962000</td>\n",
       "      <td>0.115388</td>\n",
       "      <td>NaN</td>\n",
       "      <td>NaN</td>\n",
       "    </tr>\n",
       "  </tbody>\n",
       "</table>\n",
       "</div>"
      ],
      "text/plain": [
       "             df     sum_sq   mean_sq         F        PR(>F)\n",
       "species     2.0  11.344933  5.672467  49.16004  4.492017e-17\n",
       "Residual  147.0  16.962000  0.115388       NaN           NaN"
      ]
     },
     "execution_count": 8,
     "metadata": {},
     "output_type": "execute_result"
    }
   ],
   "source": [
    "model = ols('sepal_width ~ species', iris_df).fit()\n",
    "anova_lm(model)"
   ]
  },
  {
   "cell_type": "markdown",
   "metadata": {},
   "source": [
    "검정 결과 : 귀무가설을 기각하여 세가지 종에 따른 꽃받침 폭의 평균이 모두 동일하지는 않다고 결론 내릴 수 있다.<br>\n",
    "단, 각각이 모두 다른지 셋 중 2개는 같은지까지는 당장 알 수 없고 이에 대한 사후 검정을 수행해야한다.\n",
    "\n",
    "## 일원배치 분산분석의 사후 검정\n",
    "### 1. Bonferroni correction"
   ]
  },
  {
   "cell_type": "code",
   "execution_count": 36,
   "metadata": {
    "scrolled": true
   },
   "outputs": [
    {
     "data": {
      "text/html": [
       "<table class=\"simpletable\">\n",
       "<caption>Test Multiple Comparison ttest_ind \n",
       "FWER=0.05 method=bonf\n",
       "alphacSidak=0.02, alphacBonf=0.017</caption>\n",
       "<tr>\n",
       "    <th>group1</th>     <th>group2</th>    <th>stat</th>    <th>pval</th>  <th>pval_corr</th> <th>reject</th>\n",
       "</tr>\n",
       "<tr>\n",
       "    <td>setosa</td>   <td>versicolor</td>  <td>9.455</td>    <td>0.0</td>     <td>0.0</td>     <td>True</td> \n",
       "</tr>\n",
       "<tr>\n",
       "    <td>setosa</td>    <td>virginica</td> <td>6.4503</td>    <td>0.0</td>     <td>0.0</td>     <td>True</td> \n",
       "</tr>\n",
       "<tr>\n",
       "  <td>versicolor</td>  <td>virginica</td> <td>-3.2058</td> <td>0.0018</td>  <td>0.0055</td>    <td>True</td> \n",
       "</tr>\n",
       "</table>"
      ],
      "text/plain": [
       "<class 'statsmodels.iolib.table.SimpleTable'>"
      ]
     },
     "execution_count": 36,
     "metadata": {},
     "output_type": "execute_result"
    }
   ],
   "source": [
    "from statsmodels.sandbox.stats.multicomp import MultiComparison\n",
    "comp = MultiComparison(iris_df['sepal_width'],iris_df['species'])\n",
    "# method = 'bonf'\n",
    "result = comp.allpairtest(stats.ttest_ind, method='bonf')\n",
    "result[0]"
   ]
  },
  {
   "cell_type": "markdown",
   "metadata": {},
   "source": [
    "### 2. TukeyHSD"
   ]
  },
  {
   "cell_type": "code",
   "execution_count": 38,
   "metadata": {},
   "outputs": [
    {
     "data": {
      "text/html": [
       "<table class=\"simpletable\">\n",
       "<caption>Multiple Comparison of Means - Tukey HSD, FWER=0.05</caption>\n",
       "<tr>\n",
       "    <th>group1</th>     <th>group2</th>   <th>meandiff</th>  <th>p-adj</th>  <th>lower</th>   <th>upper</th>  <th>reject</th>\n",
       "</tr>\n",
       "<tr>\n",
       "    <td>setosa</td>   <td>versicolor</td>  <td>-0.658</td>   <td>0.001</td> <td>-0.8189</td> <td>-0.4971</td>  <td>True</td> \n",
       "</tr>\n",
       "<tr>\n",
       "    <td>setosa</td>    <td>virginica</td>  <td>-0.454</td>   <td>0.001</td> <td>-0.6149</td> <td>-0.2931</td>  <td>True</td> \n",
       "</tr>\n",
       "<tr>\n",
       "  <td>versicolor</td>  <td>virginica</td>   <td>0.204</td>  <td>0.0088</td> <td>0.0431</td>  <td>0.3649</td>   <td>True</td> \n",
       "</tr>\n",
       "</table>"
      ],
      "text/plain": [
       "<class 'statsmodels.iolib.table.SimpleTable'>"
      ]
     },
     "execution_count": 38,
     "metadata": {},
     "output_type": "execute_result"
    }
   ],
   "source": [
    "from statsmodels.stats.multicomp import pairwise_tukeyhsd\n",
    "result = pairwise_tukeyhsd(iris_df['sepal_width'],iris_df['species'],alpha=0.05,)\n",
    "result.summary()"
   ]
  },
  {
   "cell_type": "code",
   "execution_count": 42,
   "metadata": {},
   "outputs": [
    {
     "data": {
      "image/png": "[encoded data removed]",
      "text/plain": [
       "<Figure size 720x432 with 1 Axes>"
      ]
     },
     "execution_count": 42,
     "metadata": {},
     "output_type": "execute_result"
    },
    {
     "data": {
      "image/png": "[encoded data removed]",
      "text/plain": [
       "<Figure size 720x432 with 1 Axes>"
      ]
     },
     "metadata": {
      "needs_background": "light"
     },
     "output_type": "display_data"
    }
   ],
   "source": [
    "result.plot_simultaneous()"
   ]
  },
  {
   "cell_type": "markdown",
   "metadata": {},
   "source": [
    "## 이원배치 분산분석(two-way ANOVA)\n",
    "가정\n",
    "1. 각 집단의 측정치는 서로 독립이며, 정규분포를 따른다.\n",
    "2. 등분산 가정을 만족한다.\n",
    "\n",
    "using data : mtcars datasets in R language<br>\n",
    "사용변수 : cyl(실린더의 개수) 변수, am(변속기 종류) 변수를 이용해 mpg(주행거리) 평균에 유의미한 차이가 있는지 체크<br>\n",
    "\n",
    "주 효과 : 다른 요인과 상관없이, 한 요인의 수준에 따라 효과가 유의미하게 달라지는 경우<br>\n",
    "상호작용 효과 : 한 요인의 수준에 따른 종속변수 변화 차이가 또 다른 요인의 수준과 맞물려 달라지는 경우\n",
    "\n",
    "귀무가설1 : 실린더 개수에 따른 주행거리 차이는 존재하지 않는다.<br>\n",
    "귀무가설2 : 변속기 종류에 따른 주행거리 차이는 존재하지 않는다.<br>\n",
    "귀무가설3 : 변속기 종류와 실린더 개수 간에는 상호작용 효과가 없다.(상호작용 항을 사용할 경우)\n",
    "\n",
    "두 개의 독립변수값에 따르는 데이터의 주효과와 상호작용효과에 대한 검정을 수행한다.<br>\n",
    "\\+ : 여러개의 독립변수 연결<br>\n",
    ". : 종속변수 제외 모든 변수를 독립변수로 지정<br>\n",
    "\\- : 제외하고자 하는 독립변수 지정<br>\n",
    "\\: : 두 변수간 상호작용\n",
    "\\* : 주효과 + 상호작용 항 역시 포함"
   ]
  },
  {
   "cell_type": "code",
   "execution_count": 56,
   "metadata": {},
   "outputs": [],
   "source": [
    "mtcars_df = pd.read_csv('datasets/mtcars.csv',index_col=0)"
   ]
  },
  {
   "cell_type": "code",
   "execution_count": 57,
   "metadata": {},
   "outputs": [
    {
     "data": {
      "text/html": [
       "<div>\n",
       "<style scoped>\n",
       "    .dataframe tbody tr th:only-of-type {\n",
       "        vertical-align: middle;\n",
       "    }\n",
       "\n",
       "    .dataframe tbody tr th {\n",
       "        vertical-align: top;\n",
       "    }\n",
       "\n",
       "    .dataframe thead th {\n",
       "        text-align: right;\n",
       "    }\n",
       "</style>\n",
       "<table border=\"1\" class=\"dataframe\">\n",
       "  <thead>\n",
       "    <tr style=\"text-align: right;\">\n",
       "      <th></th>\n",
       "      <th>mpg</th>\n",
       "      <th>cyl</th>\n",
       "      <th>disp</th>\n",
       "      <th>hp</th>\n",
       "      <th>drat</th>\n",
       "      <th>wt</th>\n",
       "      <th>qsec</th>\n",
       "      <th>vs</th>\n",
       "      <th>am</th>\n",
       "      <th>gear</th>\n",
       "      <th>carb</th>\n",
       "    </tr>\n",
       "  </thead>\n",
       "  <tbody>\n",
       "    <tr>\n",
       "      <td>Mazda RX4</td>\n",
       "      <td>21.0</td>\n",
       "      <td>6</td>\n",
       "      <td>160.0</td>\n",
       "      <td>110</td>\n",
       "      <td>3.90</td>\n",
       "      <td>2.620</td>\n",
       "      <td>16.46</td>\n",
       "      <td>0</td>\n",
       "      <td>1</td>\n",
       "      <td>4</td>\n",
       "      <td>4</td>\n",
       "    </tr>\n",
       "    <tr>\n",
       "      <td>Mazda RX4 Wag</td>\n",
       "      <td>21.0</td>\n",
       "      <td>6</td>\n",
       "      <td>160.0</td>\n",
       "      <td>110</td>\n",
       "      <td>3.90</td>\n",
       "      <td>2.875</td>\n",
       "      <td>17.02</td>\n",
       "      <td>0</td>\n",
       "      <td>1</td>\n",
       "      <td>4</td>\n",
       "      <td>4</td>\n",
       "    </tr>\n",
       "    <tr>\n",
       "      <td>Datsun 710</td>\n",
       "      <td>22.8</td>\n",
       "      <td>4</td>\n",
       "      <td>108.0</td>\n",
       "      <td>93</td>\n",
       "      <td>3.85</td>\n",
       "      <td>2.320</td>\n",
       "      <td>18.61</td>\n",
       "      <td>1</td>\n",
       "      <td>1</td>\n",
       "      <td>4</td>\n",
       "      <td>1</td>\n",
       "    </tr>\n",
       "    <tr>\n",
       "      <td>Hornet 4 Drive</td>\n",
       "      <td>21.4</td>\n",
       "      <td>6</td>\n",
       "      <td>258.0</td>\n",
       "      <td>110</td>\n",
       "      <td>3.08</td>\n",
       "      <td>3.215</td>\n",
       "      <td>19.44</td>\n",
       "      <td>1</td>\n",
       "      <td>0</td>\n",
       "      <td>3</td>\n",
       "      <td>1</td>\n",
       "    </tr>\n",
       "    <tr>\n",
       "      <td>Hornet Sportabout</td>\n",
       "      <td>18.7</td>\n",
       "      <td>8</td>\n",
       "      <td>360.0</td>\n",
       "      <td>175</td>\n",
       "      <td>3.15</td>\n",
       "      <td>3.440</td>\n",
       "      <td>17.02</td>\n",
       "      <td>0</td>\n",
       "      <td>0</td>\n",
       "      <td>3</td>\n",
       "      <td>2</td>\n",
       "    </tr>\n",
       "  </tbody>\n",
       "</table>\n",
       "</div>"
      ],
      "text/plain": [
       "                    mpg  cyl   disp   hp  drat     wt   qsec  vs  am  gear  \\\n",
       "Mazda RX4          21.0    6  160.0  110  3.90  2.620  16.46   0   1     4   \n",
       "Mazda RX4 Wag      21.0    6  160.0  110  3.90  2.875  17.02   0   1     4   \n",
       "Datsun 710         22.8    4  108.0   93  3.85  2.320  18.61   1   1     4   \n",
       "Hornet 4 Drive     21.4    6  258.0  110  3.08  3.215  19.44   1   0     3   \n",
       "Hornet Sportabout  18.7    8  360.0  175  3.15  3.440  17.02   0   0     3   \n",
       "\n",
       "                   carb  \n",
       "Mazda RX4             4  \n",
       "Mazda RX4 Wag         4  \n",
       "Datsun 710            1  \n",
       "Hornet 4 Drive        1  \n",
       "Hornet Sportabout     2  "
      ]
     },
     "execution_count": 57,
     "metadata": {},
     "output_type": "execute_result"
    }
   ],
   "source": [
    "mtcars_df.head()"
   ]
  },
  {
   "cell_type": "code",
   "execution_count": 88,
   "metadata": {},
   "outputs": [],
   "source": [
    "# 범주형 변수는 숫자로 넣으면 값이 틀릴 수 있으므로 string으로 변환 후 검정 수행\n",
    "mtcars_df['cyl'] = mtcars_df['cyl'].astype('str')\n",
    "mtcars_df['am'] = mtcars_df['am'].astype('str')"
   ]
  },
  {
   "cell_type": "code",
   "execution_count": 89,
   "metadata": {},
   "outputs": [],
   "source": [
    "# 가정은 일단 무시\n",
    "formula = 'mpg~cyl*am'\n",
    "model = ols(formula, mtcars_df).fit()"
   ]
  },
  {
   "cell_type": "code",
   "execution_count": 90,
   "metadata": {},
   "outputs": [
    {
     "data": {
      "text/html": [
       "<div>\n",
       "<style scoped>\n",
       "    .dataframe tbody tr th:only-of-type {\n",
       "        vertical-align: middle;\n",
       "    }\n",
       "\n",
       "    .dataframe tbody tr th {\n",
       "        vertical-align: top;\n",
       "    }\n",
       "\n",
       "    .dataframe thead th {\n",
       "        text-align: right;\n",
       "    }\n",
       "</style>\n",
       "<table border=\"1\" class=\"dataframe\">\n",
       "  <thead>\n",
       "    <tr style=\"text-align: right;\">\n",
       "      <th></th>\n",
       "      <th>df</th>\n",
       "      <th>sum_sq</th>\n",
       "      <th>mean_sq</th>\n",
       "      <th>F</th>\n",
       "      <th>PR(&gt;F)</th>\n",
       "    </tr>\n",
       "  </thead>\n",
       "  <tbody>\n",
       "    <tr>\n",
       "      <td>cyl</td>\n",
       "      <td>2.0</td>\n",
       "      <td>824.784590</td>\n",
       "      <td>412.392295</td>\n",
       "      <td>44.851657</td>\n",
       "      <td>3.725274e-09</td>\n",
       "    </tr>\n",
       "    <tr>\n",
       "      <td>am</td>\n",
       "      <td>1.0</td>\n",
       "      <td>36.766919</td>\n",
       "      <td>36.766919</td>\n",
       "      <td>3.998759</td>\n",
       "      <td>5.608373e-02</td>\n",
       "    </tr>\n",
       "    <tr>\n",
       "      <td>cyl:am</td>\n",
       "      <td>2.0</td>\n",
       "      <td>25.436511</td>\n",
       "      <td>12.718256</td>\n",
       "      <td>1.383233</td>\n",
       "      <td>2.686140e-01</td>\n",
       "    </tr>\n",
       "    <tr>\n",
       "      <td>Residual</td>\n",
       "      <td>26.0</td>\n",
       "      <td>239.059167</td>\n",
       "      <td>9.194583</td>\n",
       "      <td>NaN</td>\n",
       "      <td>NaN</td>\n",
       "    </tr>\n",
       "  </tbody>\n",
       "</table>\n",
       "</div>"
      ],
      "text/plain": [
       "            df      sum_sq     mean_sq          F        PR(>F)\n",
       "cyl        2.0  824.784590  412.392295  44.851657  3.725274e-09\n",
       "am         1.0   36.766919   36.766919   3.998759  5.608373e-02\n",
       "cyl:am     2.0   25.436511   12.718256   1.383233  2.686140e-01\n",
       "Residual  26.0  239.059167    9.194583        NaN           NaN"
      ]
     },
     "execution_count": 90,
     "metadata": {},
     "output_type": "execute_result"
    }
   ],
   "source": [
    "anova_lm(model)"
   ]
  },
  {
   "cell_type": "markdown",
   "metadata": {},
   "source": [
    "실린더 개수에 따른 주행거리 평균차이는 통계적으로 유의함을 확인할 수 있으나 변속기 종류에 대한 주효과 검정과 상호작용효과에 대한 귀무가설은 기각하지 않는다."
   ]
  },
  {
   "cell_type": "code",
   "execution_count": 95,
   "metadata": {},
   "outputs": [
    {
     "data": {
      "text/html": [
       "<table class=\"simpletable\">\n",
       "<caption>Multiple Comparison of Means - Tukey HSD, FWER=0.05</caption>\n",
       "<tr>\n",
       "  <th>group1</th> <th>group2</th> <th>meandiff</th>  <th>p-adj</th>   <th>lower</th>   <th>upper</th>  <th>reject</th>\n",
       "</tr>\n",
       "<tr>\n",
       "     <td>4</td>      <td>6</td>    <td>-6.9208</td>  <td>0.001</td> <td>-10.7686</td> <td>-3.073</td>   <td>True</td> \n",
       "</tr>\n",
       "<tr>\n",
       "     <td>4</td>      <td>8</td>   <td>-11.5636</td>  <td>0.001</td> <td>-14.7701</td> <td>-8.3571</td>  <td>True</td> \n",
       "</tr>\n",
       "<tr>\n",
       "     <td>6</td>      <td>8</td>    <td>-4.6429</td> <td>0.0112</td>  <td>-8.3268</td> <td>-0.9589</td>  <td>True</td> \n",
       "</tr>\n",
       "</table>"
      ],
      "text/plain": [
       "<class 'statsmodels.iolib.table.SimpleTable'>"
      ]
     },
     "execution_count": 95,
     "metadata": {},
     "output_type": "execute_result"
    }
   ],
   "source": [
    "result = pairwise_tukeyhsd(mtcars_df['mpg'],mtcars_df['cyl'],alpha=0.05)\n",
    "result.summary()"
   ]
  },
  {
   "cell_type": "markdown",
   "metadata": {},
   "source": [
    "각 요인을 따로 일원배치분산분석을 돌린 경우"
   ]
  },
  {
   "cell_type": "code",
   "execution_count": 98,
   "metadata": {},
   "outputs": [
    {
     "data": {
      "text/html": [
       "<div>\n",
       "<style scoped>\n",
       "    .dataframe tbody tr th:only-of-type {\n",
       "        vertical-align: middle;\n",
       "    }\n",
       "\n",
       "    .dataframe tbody tr th {\n",
       "        vertical-align: top;\n",
       "    }\n",
       "\n",
       "    .dataframe thead th {\n",
       "        text-align: right;\n",
       "    }\n",
       "</style>\n",
       "<table border=\"1\" class=\"dataframe\">\n",
       "  <thead>\n",
       "    <tr style=\"text-align: right;\">\n",
       "      <th></th>\n",
       "      <th>df</th>\n",
       "      <th>sum_sq</th>\n",
       "      <th>mean_sq</th>\n",
       "      <th>F</th>\n",
       "      <th>PR(&gt;F)</th>\n",
       "    </tr>\n",
       "  </thead>\n",
       "  <tbody>\n",
       "    <tr>\n",
       "      <td>cyl</td>\n",
       "      <td>2.0</td>\n",
       "      <td>824.784590</td>\n",
       "      <td>412.392295</td>\n",
       "      <td>39.697515</td>\n",
       "      <td>4.978919e-09</td>\n",
       "    </tr>\n",
       "    <tr>\n",
       "      <td>Residual</td>\n",
       "      <td>29.0</td>\n",
       "      <td>301.262597</td>\n",
       "      <td>10.388365</td>\n",
       "      <td>NaN</td>\n",
       "      <td>NaN</td>\n",
       "    </tr>\n",
       "  </tbody>\n",
       "</table>\n",
       "</div>"
      ],
      "text/plain": [
       "            df      sum_sq     mean_sq          F        PR(>F)\n",
       "cyl        2.0  824.784590  412.392295  39.697515  4.978919e-09\n",
       "Residual  29.0  301.262597   10.388365        NaN           NaN"
      ]
     },
     "execution_count": 98,
     "metadata": {},
     "output_type": "execute_result"
    }
   ],
   "source": [
    "anova_lm(ols('mpg~cyl', mtcars_df).fit())"
   ]
  },
  {
   "cell_type": "code",
   "execution_count": 99,
   "metadata": {},
   "outputs": [
    {
     "data": {
      "text/html": [
       "<div>\n",
       "<style scoped>\n",
       "    .dataframe tbody tr th:only-of-type {\n",
       "        vertical-align: middle;\n",
       "    }\n",
       "\n",
       "    .dataframe tbody tr th {\n",
       "        vertical-align: top;\n",
       "    }\n",
       "\n",
       "    .dataframe thead th {\n",
       "        text-align: right;\n",
       "    }\n",
       "</style>\n",
       "<table border=\"1\" class=\"dataframe\">\n",
       "  <thead>\n",
       "    <tr style=\"text-align: right;\">\n",
       "      <th></th>\n",
       "      <th>df</th>\n",
       "      <th>sum_sq</th>\n",
       "      <th>mean_sq</th>\n",
       "      <th>F</th>\n",
       "      <th>PR(&gt;F)</th>\n",
       "    </tr>\n",
       "  </thead>\n",
       "  <tbody>\n",
       "    <tr>\n",
       "      <td>am</td>\n",
       "      <td>1.0</td>\n",
       "      <td>405.150588</td>\n",
       "      <td>405.150588</td>\n",
       "      <td>16.860279</td>\n",
       "      <td>0.000285</td>\n",
       "    </tr>\n",
       "    <tr>\n",
       "      <td>Residual</td>\n",
       "      <td>30.0</td>\n",
       "      <td>720.896599</td>\n",
       "      <td>24.029887</td>\n",
       "      <td>NaN</td>\n",
       "      <td>NaN</td>\n",
       "    </tr>\n",
       "  </tbody>\n",
       "</table>\n",
       "</div>"
      ],
      "text/plain": [
       "            df      sum_sq     mean_sq          F    PR(>F)\n",
       "am         1.0  405.150588  405.150588  16.860279  0.000285\n",
       "Residual  30.0  720.896599   24.029887        NaN       NaN"
      ]
     },
     "execution_count": 99,
     "metadata": {},
     "output_type": "execute_result"
    }
   ],
   "source": [
    "anova_lm(ols('mpg~am', mtcars_df).fit())"
   ]
  },
  {
   "cell_type": "code",
   "execution_count": null,
   "metadata": {},
   "outputs": [],
   "source": []
  }
 ],
 "metadata": {
  "kernelspec": {
   "display_name": "Python 3",
   "language": "python",
   "name": "python3"
  },
  "language_info": {
   "codemirror_mode": {
    "name": "ipython",
    "version": 3
   },
   "file_extension": ".py",
   "mimetype": "text/x-python",
   "name": "python",
   "nbconvert_exporter": "python",
   "pygments_lexer": "ipython3",
   "version": "3.7.4"
  }
 },
 "nbformat": 4,
 "nbformat_minor": 2
}
