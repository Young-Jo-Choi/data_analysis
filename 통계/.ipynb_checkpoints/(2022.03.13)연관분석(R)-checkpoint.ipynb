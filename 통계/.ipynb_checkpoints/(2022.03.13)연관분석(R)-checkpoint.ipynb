{
 "cells": [
  {
   "cell_type": "code",
   "execution_count": null,
   "metadata": {},
   "outputs": [],
   "source": [
    "# 연관분석 : 기업의 DB내에서 상품 구매, 서비스 등 일련의 거래 또는 사건들 간의 규칙을 발견하기 위해 적용\n",
    "\n",
    "## 장바구니 분석 : 장바구니에 무엇이 '같이' 들어있는지 분석\n",
    "## 서열분석 : 'A를 산 다음 B를 산다.'\n",
    "## 측도\n",
    "##  - 지지도(support) : P(A∩B) : A와 B를 동시에 포함하는 거래의 비율\n",
    "##  - 신뢰도(confidence) : P(B|A)=지지도/P(A) : 항목 A를 포함하는 거래 중 A와 B가 같이 포함될 확률 \n",
    "##  - 향상도(lift) : P(B|A)/P(B)=P(A∩B)/P(A)P(B)=신뢰도/P(B) \n",
    "##                 : A가 구매되지 않았을때 품목 B의 구매확률에 비해 A가 구매됐을때 품목 B의 구매확률의 증가비\n",
    "## Apriori 알고리즘 : 최소 지지도보다 큰 지지도 값을 갖는 품목의 집합을 빈발항목집합(frequent item set)이라고 한다.\n",
    "##                  최소 지지도 이상의 빈발항목집합을 찾은 후 그것들에 대해서만 연관규칙을 계산한다."
   ]
  },
  {
   "cell_type": "code",
   "execution_count": null,
   "metadata": {},
   "outputs": [],
   "source": [
    "library(arules)"
   ]
  }
 ],
 "metadata": {
  "kernelspec": {
   "display_name": "R",
   "language": "R",
   "name": "ir"
  },
  "language_info": {
   "codemirror_mode": "r",
   "file_extension": ".r",
   "mimetype": "text/x-r-source",
   "name": "R",
   "pygments_lexer": "r",
   "version": "3.6.1"
  }
 },
 "nbformat": 4,
 "nbformat_minor": 2
}
