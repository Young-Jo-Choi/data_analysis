{
 "cells": [
  {
   "cell_type": "code",
   "execution_count": 1,
   "metadata": {},
   "outputs": [],
   "source": [
    "import scipy as sp\n",
    "from scipy import stats\n",
    "import numpy as np\n",
    "import pandas as pd\n",
    "import matplotlib.pyplot as plt\n",
    "import seaborn as sns"
   ]
  },
  {
   "cell_type": "markdown",
   "metadata": {},
   "source": [
    "# 확률밀도함수\n",
    "$f(x) \\sim N(4, 0.81)$"
   ]
  },
  {
   "cell_type": "code",
   "execution_count": 2,
   "metadata": {},
   "outputs": [
    {
     "data": {
      "text/plain": [
       "0.23910273444781227"
      ]
     },
     "execution_count": 2,
     "metadata": {},
     "output_type": "execute_result"
    }
   ],
   "source": [
    "# 정규분포\n",
    "stats.norm.pdf(loc=4,  # 평균\n",
    "              scale = 0.9,  # 표준편차\n",
    "              x = 3)"
   ]
  },
  {
   "cell_type": "code",
   "execution_count": 3,
   "metadata": {},
   "outputs": [
    {
     "data": {
      "text/plain": [
       "[<matplotlib.lines.Line2D at 0x1934c9aa2c8>]"
      ]
     },
     "execution_count": 3,
     "metadata": {},
     "output_type": "execute_result"
    },
    {
     "data": {
      "image/png": "[encoded data removed]",
      "text/plain": [
       "<Figure size 432x288 with 1 Axes>"
      ]
     },
     "metadata": {
      "needs_background": "light"
     },
     "output_type": "display_data"
    }
   ],
   "source": [
    "x_range = np.arange(1, 7.1, 0.1)\n",
    "plt.plot(x_range, \n",
    "         stats.norm.pdf(x = x_range,loc=4, scale=0.9)\n",
    "        )"
   ]
  },
  {
   "cell_type": "markdown",
   "metadata": {},
   "source": [
    "${\\huge t = \\frac{\\bar{X}-\\mu}{s/\\sqrt{n}}}, df = n-1$ <br>\n",
    "모집단은 표준정규분포"
   ]
  },
  {
   "cell_type": "code",
   "execution_count": 4,
   "metadata": {},
   "outputs": [
    {
     "data": {
      "text/plain": [
       "[<matplotlib.lines.Line2D at 0x1934aa21048>]"
      ]
     },
     "execution_count": 4,
     "metadata": {},
     "output_type": "execute_result"
    },
    {
     "data": {
      "image/png": "[encoded data removed]",
      "text/plain": [
       "<Figure size 432x288 with 1 Axes>"
      ]
     },
     "metadata": {
      "needs_background": "light"
     },
     "output_type": "display_data"
    }
   ],
   "source": [
    "# t 분포\n",
    "x_range = np.arange(1, 7.1, 0.1)\n",
    "plt.plot(x_range, \n",
    "         stats.t.pdf(df = 1, x = x_range,loc=4, scale=0.9)\n",
    "        )"
   ]
  },
  {
   "cell_type": "markdown",
   "metadata": {},
   "source": [
    "마찬가지로 stats.chi2,  stats.f.p 등으로 chi-square, F distribution 표현 가능\n",
    "\n",
    "${\\huge {\\chi}^2(n-1) = \\frac{(n-1)s^2}{\\sigma^2}}$, 모집단은 정규분포<br>\n",
    "${\\huge F(v_1,v_2) = \\frac{U/v_1}{V/v_2}}$, $U$ and $V$ are chi-square distribution of which degrees of freedom are $v_1$ and $v_2$"
   ]
  },
  {
   "cell_type": "code",
   "execution_count": 11,
   "metadata": {},
   "outputs": [],
   "source": [
    "from sklearn.datasets import load_boston\n",
    "boston = load_boston()\n",
    "boston_df = pd.DataFrame(boston.data, columns = boston.feature_names)\n",
    "boston_df['정규1'] = np.random.normal(5,2,boston_df.shape[0])\n",
    "boston_df['정규2'] = np.random.normal(5,2,boston_df.shape[0])\n",
    "boston_df['정규3'] = np.random.normal(5,2.5,boston_df.shape[0])\n",
    "boston_df['RAD2'] = boston_df['RAD'] + np.random.randint(1,4,size=boston_df.shape[0])\n",
    "# rvs 메서드는 무작위 추출\n",
    "boston_df['t분포1'] = stats.t.rvs(df = 1, loc=4, scale=0.9, size=boston_df.shape[0])"
   ]
  },
  {
   "cell_type": "code",
   "execution_count": 12,
   "metadata": {},
   "outputs": [
    {
     "name": "stdout",
     "output_type": "stream",
     "text": [
      "(506, 18)\n"
     ]
    }
   ],
   "source": [
    "boston_df.head()\n",
    "print(boston_df.shape)"
   ]
  },
  {
   "cell_type": "markdown",
   "metadata": {},
   "source": [
    "# 정규성 검정\n",
    "Shapiro-Wilk normality test(표본수가 2000미만), Kolmogorov-Smirnov test 1sample(표본수 2000이상)<br>\n",
    "두 검정의 귀무가설이 '데이터가 정규분포에서 추출되었다' 이므로 유의수준에 따라 p-value가 크다면 정규분포임을 가정하면 된다.<br>\n",
    "표본 수가 30이상이면 모집단의 분포와 상관없이 중심극한정리에 의해 '표본평균'의 분포가 정규분포를 따른다는 사실이 알려져있다.<br>\n",
    "30 미만의 표본에 대해 shapiro-wilk test를 사용해 정규성이 보인다면 ttest, 정규성이 보이지 않는다면 wilkoxon test를 사용하면 된다."
   ]
  },
  {
   "cell_type": "code",
   "execution_count": 13,
   "metadata": {},
   "outputs": [
    {
     "data": {
      "text/plain": [
       "(0.9988706111907959, 0.7995812296867371)"
      ]
     },
     "execution_count": 13,
     "metadata": {},
     "output_type": "execute_result"
    }
   ],
   "source": [
    "from scipy.stats import shapiro\n",
    "\n",
    "# 귀무가설 : 모집단이 정규분포를 만족한다.\n",
    "x = np.random.normal(0, 1, 1000)\n",
    "shapiro(x)"
   ]
  },
  {
   "cell_type": "code",
   "execution_count": 14,
   "metadata": {},
   "outputs": [
    {
     "data": {
      "text/plain": [
       "KstestResult(statistic=0.023495164270292634, pvalue=0.6389905398203484)"
      ]
     },
     "execution_count": 14,
     "metadata": {},
     "output_type": "execute_result"
    }
   ],
   "source": [
    "from scipy.stats import kstest #1samp kstest\n",
    "\n",
    "# 귀무가설 : 모집단이 정규분포를 만족한다.\n",
    "x = np.random.normal(0, 1, 1000)\n",
    "kstest(x,'norm')"
   ]
  },
  {
   "cell_type": "code",
   "execution_count": 15,
   "metadata": {},
   "outputs": [
    {
     "name": "stdout",
     "output_type": "stream",
     "text": [
      "변수 CRIM는 정규성을 만족하지 않음, p_value = 1.3285517473179391e-36\n",
      "변수 ZN는 정규성을 만족하지 않음, p_value = 7.882576753156324e-34\n",
      "변수 INDUS는 정규성을 만족하지 않음, p_value = 1.0641241829131273e-17\n",
      "변수 CHAS는 정규성을 만족하지 않음, p_value = 2.350467979135232e-40\n",
      "변수 NOX는 정규성을 만족하지 않음, p_value = 5.775580887027246e-14\n",
      "변수 RM는 정규성을 만족하지 않음, p_value = 2.4114604757485836e-10\n",
      "변수 AGE는 정규성을 만족하지 않음, p_value = 2.2305888882906016e-18\n",
      "변수 DIS는 정규성을 만족하지 않음, p_value = 2.1851281171594835e-17\n",
      "변수 RAD는 정규성을 만족하지 않음, p_value = 8.072442074667418e-30\n",
      "변수 TAX는 정규성을 만족하지 않음, p_value = 1.1629455306806005e-23\n",
      "변수 PTRATIO는 정규성을 만족하지 않음, p_value = 2.360196096158779e-17\n",
      "변수 B는 정규성을 만족하지 않음, p_value = 6.058352525766807e-36\n",
      "변수 LSTAT는 정규성을 만족하지 않음, p_value = 8.285112504911873e-14\n",
      "변수 정규1는 정규성을 만족, p_value = 0.15542516112327576\n",
      "변수 정규2는 정규성을 만족, p_value = 0.8281761407852173\n",
      "변수 정규3는 정규성을 만족, p_value = 0.7853167057037354\n",
      "변수 RAD2는 정규성을 만족하지 않음, p_value = 2.3629039487280127e-28\n",
      "변수 t분포1는 정규성을 만족하지 않음, p_value = 6.232975569316786e-42\n"
     ]
    }
   ],
   "source": [
    "for var in boston_df.columns:\n",
    "    _,p_value = shapiro(boston_df[var])\n",
    "    if p_value <= 0.05:\n",
    "        print(f'변수 {var}는 정규성을 만족하지 않음, p_value = {p_value}')\n",
    "    else:\n",
    "        print(f'변수 {var}는 정규성을 만족, p_value = {p_value}')"
   ]
  },
  {
   "cell_type": "markdown",
   "metadata": {},
   "source": [
    "참고) Kolmogorov-Smirnov test 2sample는 두 집단이 같은 분포로부터 추출된 것인지 확인한다.<br>\n",
    "귀무가설 : both samples come from a population with the same distribution<br>\n",
    "1sample은 shapiro 검정과 거의 비슷하게 사용할 수 있음"
   ]
  },
  {
   "cell_type": "code",
   "execution_count": 16,
   "metadata": {},
   "outputs": [
    {
     "name": "stdout",
     "output_type": "stream",
     "text": [
      "변수 정규1과 정규2는 같은 분포, p_value = 0.7257637653344432\n"
     ]
    }
   ],
   "source": [
    "from scipy.stats import ks_2samp\n",
    "\n",
    "for i, var1 in enumerate(boston_df.columns):\n",
    "    for j,var2 in enumerate(boston_df.columns[i+1:]):\n",
    "        _,p_value = ks_2samp(boston_df[var1], boston_df[var2])\n",
    "        if p_value > 0.05:\n",
    "            print(f'변수 {var1}과 {var2}는 같은 분포, p_value = {p_value}')            "
   ]
  },
  {
   "cell_type": "markdown",
   "metadata": {},
   "source": [
    "# 독립성 검정\n",
    "독립성 검정은 chi-square distribution을 이용할 수 있다.<br>\n",
    "귀무가설 : 두 요인이 독립<br>단 두 요인으로 이뤄진 어떤 데이터셋에 대해 그 두 요인이 독립인지를 체크하는 것이므로 pandas의 cross tab을 이용해 데이터 형태를 바꿔야한다."
   ]
  },
  {
   "cell_type": "code",
   "execution_count": 45,
   "metadata": {
    "scrolled": true
   },
   "outputs": [
    {
     "name": "stdout",
     "output_type": "stream",
     "text": [
      "(9, 13)\n"
     ]
    },
    {
     "data": {
      "text/html": [
       "<div>\n",
       "<style scoped>\n",
       "    .dataframe tbody tr th:only-of-type {\n",
       "        vertical-align: middle;\n",
       "    }\n",
       "\n",
       "    .dataframe tbody tr th {\n",
       "        vertical-align: top;\n",
       "    }\n",
       "\n",
       "    .dataframe thead th {\n",
       "        text-align: right;\n",
       "    }\n",
       "</style>\n",
       "<table border=\"1\" class=\"dataframe\">\n",
       "  <thead>\n",
       "    <tr style=\"text-align: right;\">\n",
       "      <th>RAD2</th>\n",
       "      <th>2.0</th>\n",
       "      <th>3.0</th>\n",
       "      <th>4.0</th>\n",
       "      <th>5.0</th>\n",
       "      <th>6.0</th>\n",
       "      <th>7.0</th>\n",
       "      <th>8.0</th>\n",
       "      <th>9.0</th>\n",
       "      <th>10.0</th>\n",
       "      <th>11.0</th>\n",
       "      <th>25.0</th>\n",
       "      <th>26.0</th>\n",
       "      <th>27.0</th>\n",
       "    </tr>\n",
       "    <tr>\n",
       "      <th>RAD</th>\n",
       "      <th></th>\n",
       "      <th></th>\n",
       "      <th></th>\n",
       "      <th></th>\n",
       "      <th></th>\n",
       "      <th></th>\n",
       "      <th></th>\n",
       "      <th></th>\n",
       "      <th></th>\n",
       "      <th></th>\n",
       "      <th></th>\n",
       "      <th></th>\n",
       "      <th></th>\n",
       "    </tr>\n",
       "  </thead>\n",
       "  <tbody>\n",
       "    <tr>\n",
       "      <td>1.0</td>\n",
       "      <td>5</td>\n",
       "      <td>8</td>\n",
       "      <td>7</td>\n",
       "      <td>0</td>\n",
       "      <td>0</td>\n",
       "      <td>0</td>\n",
       "      <td>0</td>\n",
       "      <td>0</td>\n",
       "      <td>0</td>\n",
       "      <td>0</td>\n",
       "      <td>0</td>\n",
       "      <td>0</td>\n",
       "      <td>0</td>\n",
       "    </tr>\n",
       "    <tr>\n",
       "      <td>2.0</td>\n",
       "      <td>0</td>\n",
       "      <td>13</td>\n",
       "      <td>4</td>\n",
       "      <td>7</td>\n",
       "      <td>0</td>\n",
       "      <td>0</td>\n",
       "      <td>0</td>\n",
       "      <td>0</td>\n",
       "      <td>0</td>\n",
       "      <td>0</td>\n",
       "      <td>0</td>\n",
       "      <td>0</td>\n",
       "      <td>0</td>\n",
       "    </tr>\n",
       "    <tr>\n",
       "      <td>3.0</td>\n",
       "      <td>0</td>\n",
       "      <td>0</td>\n",
       "      <td>17</td>\n",
       "      <td>13</td>\n",
       "      <td>8</td>\n",
       "      <td>0</td>\n",
       "      <td>0</td>\n",
       "      <td>0</td>\n",
       "      <td>0</td>\n",
       "      <td>0</td>\n",
       "      <td>0</td>\n",
       "      <td>0</td>\n",
       "      <td>0</td>\n",
       "    </tr>\n",
       "    <tr>\n",
       "      <td>4.0</td>\n",
       "      <td>0</td>\n",
       "      <td>0</td>\n",
       "      <td>0</td>\n",
       "      <td>33</td>\n",
       "      <td>43</td>\n",
       "      <td>34</td>\n",
       "      <td>0</td>\n",
       "      <td>0</td>\n",
       "      <td>0</td>\n",
       "      <td>0</td>\n",
       "      <td>0</td>\n",
       "      <td>0</td>\n",
       "      <td>0</td>\n",
       "    </tr>\n",
       "    <tr>\n",
       "      <td>5.0</td>\n",
       "      <td>0</td>\n",
       "      <td>0</td>\n",
       "      <td>0</td>\n",
       "      <td>0</td>\n",
       "      <td>41</td>\n",
       "      <td>33</td>\n",
       "      <td>41</td>\n",
       "      <td>0</td>\n",
       "      <td>0</td>\n",
       "      <td>0</td>\n",
       "      <td>0</td>\n",
       "      <td>0</td>\n",
       "      <td>0</td>\n",
       "    </tr>\n",
       "    <tr>\n",
       "      <td>6.0</td>\n",
       "      <td>0</td>\n",
       "      <td>0</td>\n",
       "      <td>0</td>\n",
       "      <td>0</td>\n",
       "      <td>0</td>\n",
       "      <td>8</td>\n",
       "      <td>5</td>\n",
       "      <td>13</td>\n",
       "      <td>0</td>\n",
       "      <td>0</td>\n",
       "      <td>0</td>\n",
       "      <td>0</td>\n",
       "      <td>0</td>\n",
       "    </tr>\n",
       "    <tr>\n",
       "      <td>7.0</td>\n",
       "      <td>0</td>\n",
       "      <td>0</td>\n",
       "      <td>0</td>\n",
       "      <td>0</td>\n",
       "      <td>0</td>\n",
       "      <td>0</td>\n",
       "      <td>4</td>\n",
       "      <td>5</td>\n",
       "      <td>8</td>\n",
       "      <td>0</td>\n",
       "      <td>0</td>\n",
       "      <td>0</td>\n",
       "      <td>0</td>\n",
       "    </tr>\n",
       "    <tr>\n",
       "      <td>8.0</td>\n",
       "      <td>0</td>\n",
       "      <td>0</td>\n",
       "      <td>0</td>\n",
       "      <td>0</td>\n",
       "      <td>0</td>\n",
       "      <td>0</td>\n",
       "      <td>0</td>\n",
       "      <td>8</td>\n",
       "      <td>9</td>\n",
       "      <td>7</td>\n",
       "      <td>0</td>\n",
       "      <td>0</td>\n",
       "      <td>0</td>\n",
       "    </tr>\n",
       "    <tr>\n",
       "      <td>24.0</td>\n",
       "      <td>0</td>\n",
       "      <td>0</td>\n",
       "      <td>0</td>\n",
       "      <td>0</td>\n",
       "      <td>0</td>\n",
       "      <td>0</td>\n",
       "      <td>0</td>\n",
       "      <td>0</td>\n",
       "      <td>0</td>\n",
       "      <td>0</td>\n",
       "      <td>46</td>\n",
       "      <td>42</td>\n",
       "      <td>44</td>\n",
       "    </tr>\n",
       "  </tbody>\n",
       "</table>\n",
       "</div>"
      ],
      "text/plain": [
       "RAD2  2.0   3.0   4.0   5.0   6.0   7.0   8.0   9.0   10.0  11.0  25.0  26.0  \\\n",
       "RAD                                                                            \n",
       "1.0      5     8     7     0     0     0     0     0     0     0     0     0   \n",
       "2.0      0    13     4     7     0     0     0     0     0     0     0     0   \n",
       "3.0      0     0    17    13     8     0     0     0     0     0     0     0   \n",
       "4.0      0     0     0    33    43    34     0     0     0     0     0     0   \n",
       "5.0      0     0     0     0    41    33    41     0     0     0     0     0   \n",
       "6.0      0     0     0     0     0     8     5    13     0     0     0     0   \n",
       "7.0      0     0     0     0     0     0     4     5     8     0     0     0   \n",
       "8.0      0     0     0     0     0     0     0     8     9     7     0     0   \n",
       "24.0     0     0     0     0     0     0     0     0     0     0    46    42   \n",
       "\n",
       "RAD2  27.0  \n",
       "RAD         \n",
       "1.0      0  \n",
       "2.0      0  \n",
       "3.0      0  \n",
       "4.0      0  \n",
       "5.0      0  \n",
       "6.0      0  \n",
       "7.0      0  \n",
       "8.0      0  \n",
       "24.0    44  "
      ]
     },
     "execution_count": 45,
     "metadata": {},
     "output_type": "execute_result"
    }
   ],
   "source": [
    "boston_df_RAD_crosstab = pd.crosstab(boston_df['RAD'], boston_df['RAD2'])\n",
    "print(boston_df_RAD_crosstab.shape)\n",
    "boston_df_RAD_crosstab"
   ]
  },
  {
   "cell_type": "code",
   "execution_count": 48,
   "metadata": {},
   "outputs": [
    {
     "name": "stdout",
     "output_type": "stream",
     "text": [
      "2.4221916920184e-310\n"
     ]
    }
   ],
   "source": [
    "from scipy.stats import chi2_contingency\n",
    "\n",
    "statics,p_val,degree_of_freedom,expected_frequencies = chi2_contingency(boston_df_RAD_crosstab)\n",
    "# p_value가 낮으므로 두 요인은 독립이 아니다\n",
    "print(p_val)"
   ]
  },
  {
   "cell_type": "code",
   "execution_count": 51,
   "metadata": {},
   "outputs": [
    {
     "data": {
      "text/html": [
       "<div>\n",
       "<style scoped>\n",
       "    .dataframe tbody tr th:only-of-type {\n",
       "        vertical-align: middle;\n",
       "    }\n",
       "\n",
       "    .dataframe tbody tr th {\n",
       "        vertical-align: top;\n",
       "    }\n",
       "\n",
       "    .dataframe thead th {\n",
       "        text-align: right;\n",
       "    }\n",
       "</style>\n",
       "<table border=\"1\" class=\"dataframe\">\n",
       "  <thead>\n",
       "    <tr style=\"text-align: right;\">\n",
       "      <th></th>\n",
       "      <th>sepal length (cm)</th>\n",
       "      <th>sepal width (cm)</th>\n",
       "      <th>petal length (cm)</th>\n",
       "      <th>petal width (cm)</th>\n",
       "      <th>target</th>\n",
       "    </tr>\n",
       "  </thead>\n",
       "  <tbody>\n",
       "    <tr>\n",
       "      <td>0</td>\n",
       "      <td>5.1</td>\n",
       "      <td>3.5</td>\n",
       "      <td>1.4</td>\n",
       "      <td>0.2</td>\n",
       "      <td>0</td>\n",
       "    </tr>\n",
       "    <tr>\n",
       "      <td>1</td>\n",
       "      <td>4.9</td>\n",
       "      <td>3.0</td>\n",
       "      <td>1.4</td>\n",
       "      <td>0.2</td>\n",
       "      <td>0</td>\n",
       "    </tr>\n",
       "    <tr>\n",
       "      <td>2</td>\n",
       "      <td>4.7</td>\n",
       "      <td>3.2</td>\n",
       "      <td>1.3</td>\n",
       "      <td>0.2</td>\n",
       "      <td>0</td>\n",
       "    </tr>\n",
       "    <tr>\n",
       "      <td>3</td>\n",
       "      <td>4.6</td>\n",
       "      <td>3.1</td>\n",
       "      <td>1.5</td>\n",
       "      <td>0.2</td>\n",
       "      <td>0</td>\n",
       "    </tr>\n",
       "    <tr>\n",
       "      <td>4</td>\n",
       "      <td>5.0</td>\n",
       "      <td>3.6</td>\n",
       "      <td>1.4</td>\n",
       "      <td>0.2</td>\n",
       "      <td>0</td>\n",
       "    </tr>\n",
       "  </tbody>\n",
       "</table>\n",
       "</div>"
      ],
      "text/plain": [
       "   sepal length (cm)  sepal width (cm)  petal length (cm)  petal width (cm)  \\\n",
       "0                5.1               3.5                1.4               0.2   \n",
       "1                4.9               3.0                1.4               0.2   \n",
       "2                4.7               3.2                1.3               0.2   \n",
       "3                4.6               3.1                1.5               0.2   \n",
       "4                5.0               3.6                1.4               0.2   \n",
       "\n",
       "   target  \n",
       "0       0  \n",
       "1       0  \n",
       "2       0  \n",
       "3       0  \n",
       "4       0  "
      ]
     },
     "execution_count": 51,
     "metadata": {},
     "output_type": "execute_result"
    }
   ],
   "source": [
    "from sklearn.datasets import load_iris\n",
    "iris = load_iris()\n",
    "iris_df = pd.DataFrame(iris.data, columns = iris.feature_names)\n",
    "iris_df['target'] = iris.target\n",
    "iris_df.head()"
   ]
  },
  {
   "cell_type": "code",
   "execution_count": 57,
   "metadata": {},
   "outputs": [
    {
     "name": "stdout",
     "output_type": "stream",
     "text": [
      "sepal length (cm)와 sepal width (cm)는 독립임을 기각하지 않음, p-value : 0.1734974858880997\n",
      "sepal length (cm)와 petal length (cm)는 독립이 아님, p-value : 3.764941244872783e-17\n",
      "sepal length (cm)와 petal width (cm)는 독립이 아님, p-value : 0.03578992364751769\n",
      "sepal length (cm)와 target는 독립이 아님, p-value : 6.665987344005466e-09\n",
      "sepal width (cm)와 petal length (cm)는 독립이 아님, p-value : 0.04221952235087161\n",
      "sepal width (cm)와 petal width (cm)는 독립이 아님, p-value : 0.00012743323857428585\n",
      "sepal width (cm)와 target는 독립이 아님, p-value : 6.016031482207116e-05\n",
      "petal length (cm)와 petal width (cm)는 독립이 아님, p-value : 5.142730245997467e-09\n",
      "petal length (cm)와 target는 독립이 아님, p-value : 1.1775672327529825e-21\n",
      "petal width (cm)와 target는 독립이 아님, p-value : 2.1648103108815957e-35\n"
     ]
    }
   ],
   "source": [
    "iris_crosstab = pd.crosstab(iris_df['sepal width (cm)'], iris_df['target'],margins = True)\n",
    "\n",
    "for i in range(iris_df.shape[1]):\n",
    "    for j in range(i+1,iris_df.shape[1]):\n",
    "        iris_crosstab = pd.crosstab(iris_df.iloc[:,i],iris_df.iloc[:,j])\n",
    "        _,p_val,_,_ = chi2_contingency(iris_crosstab)\n",
    "        if p_val < 0.05:\n",
    "            print(f'{iris_df.columns[i]}와 {iris_df.columns[j]}는 독립이 아님, p-value : {p_val}')\n",
    "        else:\n",
    "            print(f'{iris_df.columns[i]}와 {iris_df.columns[j]}는 독립임을 기각하지 않음, p-value : {p_val}')"
   ]
  },
  {
   "cell_type": "markdown",
   "metadata": {},
   "source": [
    "# 등분산성\n",
    "기본적으로 F분포를 이용해 분산의 비가 1이 되는지 검정한다.<br>\n",
    "Bartlett's test : 정규성을 따를때 수행 <br>\n",
    "Levene’s test : 정규분포와 무관하게 연속적인 분포로부터 데이터를 구했을 때<br>\n",
    "(정규성이 확실하다면 bartlett's test가 정확하다.)\n",
    "\n",
    "귀무가설 : 데이터셋의 분산이 같다."
   ]
  },
  {
   "cell_type": "code",
   "execution_count": 61,
   "metadata": {},
   "outputs": [
    {
     "name": "stdout",
     "output_type": "stream",
     "text": [
      "BartlettResult(statistic=0.3692618218799806, pvalue=0.5434069136204824)\n",
      "BartlettResult(statistic=41.955302497835206, pvalue=9.338380734086142e-11)\n"
     ]
    }
   ],
   "source": [
    "from scipy.stats import bartlett\n",
    "print(bartlett(boston_df['정규1'],boston_df['정규2']))\n",
    "print(bartlett(boston_df['정규1'],boston_df['정규3']))"
   ]
  },
  {
   "cell_type": "code",
   "execution_count": 81,
   "metadata": {},
   "outputs": [
    {
     "name": "stdout",
     "output_type": "stream",
     "text": [
      "LeveneResult(statistic=0.7217568113327782, pvalue=0.3957719950478993)\n"
     ]
    }
   ],
   "source": [
    "from scipy.stats import levene\n",
    "print(levene(\n",
    "    stats.t.rvs(df = 6, loc=2, scale=0.9, size=500),\n",
    "    stats.t.rvs(df = 6, loc=14, scale=0.9, size=500))\n",
    "     )\n"
   ]
  },
  {
   "cell_type": "code",
   "execution_count": 78,
   "metadata": {},
   "outputs": [
    {
     "data": {
      "text/plain": [
       "0.8834534251405167"
      ]
     },
     "execution_count": 78,
     "metadata": {},
     "output_type": "execute_result"
    }
   ],
   "source": [
    "stats.norm.rvs(loc=4, scale=0.9,size=1000).std()"
   ]
  },
  {
   "cell_type": "code",
   "execution_count": 64,
   "metadata": {},
   "outputs": [
    {
     "name": "stdout",
     "output_type": "stream",
     "text": [
      "BartlettResult(statistic=0.013388950197698328, pvalue=0.9078818802880294)\n",
      "LeveneResult(statistic=0.16198563466484842, pvalue=0.6874200973649995)\n"
     ]
    }
   ],
   "source": [
    "# 정규분포를 따르지 않는 데이터 비교\n",
    "print(bartlett(boston_df['RAD'],boston_df['RAD2']))\n",
    "print(levene(boston_df['RAD'],boston_df['RAD2']))"
   ]
  },
  {
   "cell_type": "code",
   "execution_count": 86,
   "metadata": {},
   "outputs": [
    {
     "name": "stdout",
     "output_type": "stream",
     "text": [
      "BartlettResult(statistic=1268.7104436537188, pvalue=9.05713457936833e-275)\n"
     ]
    }
   ],
   "source": [
    "# 세개 이상도 가능\n",
    "print(bartlett(boston_df['RAD'],boston_df['RAD2'],boston_df['CRIM'],boston_df['AGE']))"
   ]
  },
  {
   "cell_type": "markdown",
   "metadata": {},
   "source": [
    "# 분산에 대한 추정\n",
    "(해당 함수가 제공되지 않으므로 직접 구현)\n",
    "\n",
    "모집단이 정규분포이고 분산이 ${\\sigma}^2$일 때, 크기가 n인 표본에 대한 분산 $s^2$은 다음과 같은 성질을 만족한다.<br>\n",
    "${\\huge \\frac{(n-1)s^2}{{\\sigma}^2} \\sim {\\chi}^2(n-1)}$\n",
    "\n",
    "여기서<br>\n",
    "$s^2 = \\frac{\\sum_{i=1}^{n}{(X_i - \\bar{X})}^2}{n-1}$\n",
    "\n",
    "얻은 표본을 가지고 모분산이 특정 어떤 값일 것이라고 추정하는 것은 chi-square 분포를 이용해 해결할 수 있다."
   ]
  },
  {
   "cell_type": "code",
   "execution_count": 182,
   "metadata": {},
   "outputs": [
    {
     "name": "stdout",
     "output_type": "stream",
     "text": [
      "(100, 1)\n",
      "모평균 : 10, 표본의 평균 : 10.15702690382739\n",
      "모분산 : 20, 표본의 분산 : 19.827766423748677, 표본분산(s^2) : 20.028046892675434\n"
     ]
    }
   ],
   "source": [
    "np.random.seed(1234)\n",
    "\n",
    "n=100\n",
    "entire_mean = 10\n",
    "entire_var = 20\n",
    "x = np.random.normal(loc = entire_mean, scale = np.sqrt(entire_var), size = (n,1))\n",
    "\n",
    "print(x.shape)\n",
    "print(f'모평균 : {entire_mean}, 표본의 평균 : {x.mean()}')\n",
    "# x.var(ddof=1)는 n/(n-1)*x.var()와 같다.(unbiased)\n",
    "print(f'모분산 : {entire_var}, 표본의 분산 : {x.var()}, 표본분산(s^2) : {x.var(ddof=1)}')"
   ]
  },
  {
   "cell_type": "code",
   "execution_count": 192,
   "metadata": {},
   "outputs": [
    {
     "name": "stdout",
     "output_type": "stream",
     "text": [
      "132.18510949165787\n"
     ]
    }
   ],
   "source": [
    "# 모분산이 var_estimation인지 추정\n",
    "# 대립가설 : var_estimation보다 크다(greater) / 작다(less).\n",
    "\n",
    "var_estimation = 15\n",
    "alternative = 'two_sided'\n",
    "alpha = 0.05\n",
    "temp_alpha = alpha\n",
    "\n",
    "chi_static = (n-1)*x.var(ddof=1)/var_estimation\n",
    "if alternative == 'two_sided':\n",
    "    temp_alpha = alpha/2\n",
    "lower_standard = chi_dist.ppf(temp_alpha)\n",
    "upper_standard = chi_dist.ppf(1-temp_alpha)\n",
    "\n",
    "print(chi_static)"
   ]
  },
  {
   "cell_type": "code",
   "execution_count": 193,
   "metadata": {},
   "outputs": [
    {
     "data": {
      "text/plain": [
       "<matplotlib.lines.Line2D at 0x1b663562348>"
      ]
     },
     "execution_count": 193,
     "metadata": {},
     "output_type": "execute_result"
    },
    {
     "data": {
      "image/png": "[encoded data removed]",
      "text/plain": [
       "<Figure size 432x288 with 1 Axes>"
      ]
     },
     "metadata": {
      "needs_background": "light"
     },
     "output_type": "display_data"
    }
   ],
   "source": [
    "chi_dist = stats.chi2(df=n-1)\n",
    "xx = np.linspace(50,150,2000)\n",
    "plt.plot(xx,chi_dist.pdf(xx))\n",
    "\n",
    "plt.axvline(chi_static,0,1,color = 'red')\n",
    "plt.axvline(lower_standard,0,1)\n",
    "plt.axvline(upper_standard,0,1)"
   ]
  },
  {
   "cell_type": "code",
   "execution_count": 199,
   "metadata": {},
   "outputs": [
    {
     "data": {
      "image/png": "[encoded data removed]",
      "text/plain": [
       "<Figure size 432x288 with 1 Axes>"
      ]
     },
     "metadata": {
      "needs_background": "light"
     },
     "output_type": "display_data"
    }
   ],
   "source": [
    "plt.plot(xx,chi_dist.pdf(xx))\n",
    "\n",
    "plt.axvline(chi_static,0,1,color = 'red')\n",
    "plt.axvline(lower_standard,0,1)\n",
    "plt.axvline(upper_standard,0,1)\n",
    "if alternative=='less':\n",
    "    plt.fill([50,50, chi_static,chi_static],[0,chi_dist.pdf(50),chi_dist.pdf(chi_static),0],color='lightgray')\n",
    "elif alternative=='greater':\n",
    "    plt.fill([chi_static,chi_static,150,150],[0,chi_dist.pdf(chi_static),chi_dist.pdf(150),0],color='lightgray')\n",
    "elif alternative=='two_sided':\n",
    "    pass\n",
    "else:\n",
    "    raise ValueError"
   ]
  },
  {
   "cell_type": "code",
   "execution_count": 202,
   "metadata": {},
   "outputs": [
    {
     "name": "stdout",
     "output_type": "stream",
     "text": [
      "H0 : variance = 15, H1 : variance is not equal to 15\n",
      "critical region : static <= 73.36108019128368 or >= 128.4219886438403\n",
      "chi_static : 132.18510949165787, p_value : 0.02903693562749443, alpha : 0.025\n",
      "reject H0 and accept H1\n"
     ]
    }
   ],
   "source": [
    "cdf = chi_dist.cdf(chi_static)\n",
    "p_val = cdf if alternative=='less' else 1-cdf if alternative=='greater' else np.nan\n",
    "p_val = 2*np.min([cdf,1-cdf]) if alternative=='two_sided' else p_val\n",
    "if alternative == 'two_sided':\n",
    "    print(f'H0 : variance = {var_estimation}, H1 : variance is not equal to {var_estimation}')\n",
    "    print(f'critical region : static <= {lower_standard} or >= {upper_standard}')\n",
    "else:\n",
    "    print(f'H0 : variance = {var_estimation}, H1 : variance is {alternative} than {var_estimation}')\n",
    "    print(f'critical region : static <= {lower_standard}') if alternative=='less' else print(f'critical region : static >= {upper_standard}') \n",
    "    \n",
    "print(f'chi_static : {chi_static}, p_value : {p_val}, alpha : {temp_alpha}')\n",
    "\n",
    "if p_val < alpha:\n",
    "    print('reject H0 and accept H1')\n",
    "else:\n",
    "    print('do not reject H0')"
   ]
  },
  {
   "cell_type": "code",
   "execution_count": 196,
   "metadata": {},
   "outputs": [
    {
     "data": {
      "text/plain": [
       "0.9854815321862528"
      ]
     },
     "execution_count": 196,
     "metadata": {},
     "output_type": "execute_result"
    }
   ],
   "source": [
    "cdf"
   ]
  },
  {
   "cell_type": "code",
   "execution_count": 210,
   "metadata": {},
   "outputs": [],
   "source": [
    "# 함수화\n",
    "def single_variance_test(array,var_estimated,alternative,alpha=0.05):\n",
    "    \n",
    "    from scipy import stats\n",
    "    n = len(array)\n",
    "    chi_dist = stats.chi2(df=n-1)\n",
    "\n",
    "    if alternative == 'two_sided':\n",
    "        temp_alpha = alpha/2\n",
    "    else:\n",
    "        temp_alpha = alpha\n",
    "    chi_static = (n-1)*array.var(ddof=1)/var_estimated\n",
    "    cdf = chi_dist.cdf(chi_static)\n",
    "    p_val = cdf if alternative=='less' else 1-cdf if alternative=='greater' else np.nan\n",
    "    p_val = 2*np.min([cdf,1-cdf]) if alternative=='two_sided' else p_val\n",
    "    \n",
    "    lower_standard = chi_dist.ppf(temp_alpha)\n",
    "    upper_standard = chi_dist.ppf(1-temp_alpha)\n",
    "    if alternative == 'two_sided':\n",
    "        print(f'H0 : variance = {var_estimated}, H1 : variance is not equal to {var_estimated}')\n",
    "        print(f'critical region : static <= {lower_standard} or >= {upper_standard}')\n",
    "    else:\n",
    "        print(f'H0 : variance = {var_estimated}, H1 : variance is {alternative} than {var_estimated}')\n",
    "        print(f'critical region : static <= {lower_standard}') if alternative=='less' else print(f'critical region : static >= {upper_standard}') \n",
    "\n",
    "    print(f'chi_static : {chi_static}, p_value : {p_val}, alpha : {alpha}')\n",
    "\n",
    "    if p_val < alpha:\n",
    "        print('reject H0 and accept H1')\n",
    "    else:\n",
    "        print('do not reject H0')\n",
    "\n",
    "    return chi_static, p_val"
   ]
  },
  {
   "cell_type": "code",
   "execution_count": 211,
   "metadata": {},
   "outputs": [
    {
     "name": "stdout",
     "output_type": "stream",
     "text": [
      "H0 : variance = 15, H1 : variance is not equal to 15\n",
      "critical region : static <= 73.36108019128368 or >= 128.4219886438403\n",
      "chi_static : 132.18510949165787, p_value : 0.02903693562749443, alpha : 0.05\n",
      "reject H0 and accept H1\n"
     ]
    },
    {
     "data": {
      "text/plain": [
       "(132.18510949165787, 0.02903693562749443)"
      ]
     },
     "execution_count": 211,
     "metadata": {},
     "output_type": "execute_result"
    }
   ],
   "source": [
    "single_variance_test(x,15,'two_sided')"
   ]
  },
  {
   "cell_type": "markdown",
   "metadata": {},
   "source": [
    "# 상관계수 검정\n",
    "귀무가설 : 두 데이터셋 사이에는 상관관계가 없다.(상관계수=0)<br>\n",
    "대립가설 : 두 데이터셋 사이에 상관관계가 있다.(상관계수$\\neq$0)"
   ]
  },
  {
   "cell_type": "code",
   "execution_count": 13,
   "metadata": {},
   "outputs": [
    {
     "name": "stdout",
     "output_type": "stream",
     "text": [
      "상관계수 : -0.7426106572325056, p_value : 0.15055580885344558\n"
     ]
    }
   ],
   "source": [
    "r,p_value = stats.pearsonr([1, 2, 3, 4, 5], [10, 9, 2.5, 6, 4])\n",
    "print(f'상관계수 : {r}, p_value : {p_value}')"
   ]
  },
  {
   "cell_type": "markdown",
   "metadata": {},
   "source": [
    "귀무가설을 기각하지 못하므로 상관계수를 활용하지 않는다."
   ]
  },
  {
   "cell_type": "code",
   "execution_count": 25,
   "metadata": {},
   "outputs": [],
   "source": [
    "air = pd.read_csv('datasets/airquality.csv')\n",
    "air = air.dropna(subset=['Ozone','Wind'])"
   ]
  },
  {
   "cell_type": "code",
   "execution_count": 26,
   "metadata": {},
   "outputs": [
    {
     "data": {
      "text/plain": [
       "(-0.6015465298889501, 9.271973903938236e-13)"
      ]
     },
     "execution_count": 26,
     "metadata": {},
     "output_type": "execute_result"
    }
   ],
   "source": [
    "stats.pearsonr(air['Ozone'],air['Wind'])"
   ]
  },
  {
   "cell_type": "markdown",
   "metadata": {},
   "source": [
    "검정 결과 p_value가 9.271973903938236e-13이므로 유의수준 0.05 하에서 귀무가설을 기각한다.<br>\n",
    "Ozone과 Wind간 상관계수는 0이 아니며, 계산된 -0.60154653을 상관계수로 활용할 수 있다."
   ]
  },
  {
   "cell_type": "code",
   "execution_count": null,
   "metadata": {},
   "outputs": [],
   "source": []
  }
 ],
 "metadata": {
  "kernelspec": {
   "display_name": "Python 3",
   "language": "python",
   "name": "python3"
  },
  "language_info": {
   "codemirror_mode": {
    "name": "ipython",
    "version": 3
   },
   "file_extension": ".py",
   "mimetype": "text/x-python",
   "name": "python",
   "nbconvert_exporter": "python",
   "pygments_lexer": "ipython3",
   "version": "3.7.4"
  }
 },
 "nbformat": 4,
 "nbformat_minor": 2
}
