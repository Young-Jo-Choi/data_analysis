{
  "nbformat": 4,
  "nbformat_minor": 0,
  "metadata": {
    "colab": {
      "name": "(2020.10.22)14장 CNNs.ipynb",
      "provenance": []
    },
    "kernelspec": {
      "name": "python3",
      "display_name": "Python 3"
    }
  },
  "cells": [
    {
      "cell_type": "code",
      "metadata": {
        "id": "g_xgdlONhJy3"
      },
      "source": [
        "import tensorflow as tf\n",
        "from tensorflow import keras\n",
        "import numpy as np\n",
        "import pandas as pd\n",
        "import matplotlib.pyplot as plt\n",
        "%matplotlib inline"
      ],
      "execution_count": null,
      "outputs": []
    },
    {
      "cell_type": "markdown",
      "metadata": {
        "id": "ThT3EkGzhv8K"
      },
      "source": [
        "# ResNet\n",
        "잔차 네트워크를 사용<br>\n",
        "처음 구상된 ResNet은 152개의 층으로 구성된 깊은 CNN인데 이런 깊은 네트워크를 훈련시킬 수 있는 핵심 요소는 스킵 연결(skip connection, shortcut connection)이다. 즉 어떤 층에 주입되는 신호가 상위 층의 출력에 더해지는 형태이다.\n",
        "\n",
        "신경망을 훈련시킬 때는 목적 함수 $h(x)$를 훈련시키는 것이 목표이다. 만일 입력 x를 네트워크의 출력에 더한다면 네트워크는 $h(x)$ 대신 $f(x) = h(x) - x$를 학습하게 된다. 이를 잔차 학습이라한다.\n",
        "\n",
        "일반적인 신경망을 초기화할 때는 가중치가 0에 가깝기 때문에 네트워크도 0에 가까운 값을 출력한다. 스킵 연결을 추가하면 네트워크는 입력값과 같은 값을 출력하게 된다. 즉, 초기 단계에서는 항등함수에 가깝게 모델링된다. 목적 함수가 항등 함수에 가깝다면 훈련 속도가 매우 빨라지게 된다.<br>\n",
        "또 스킵 연결을 많이 추가하면 일부 층이 아직 학습되지 않았더라도 네트워크는 훈련을 시작할 수 있다. 스킵 연결 덕분에 입력 신호가 전체 네트워크에 손쉽게 영향을 미치게 된다. <br>심층 잔차 네트워크는 스킵 연결을 가진 작은 신경망인 잔차 유닛(RU,residual unit)을 쌓은 것으로 볼 수 있다."
      ]
    },
    {
      "cell_type": "markdown",
      "metadata": {
        "id": "8D0mT9Pdn54m"
      },
      "source": [
        "## 구현\n",
        "ResNet - 34 모델"
      ]
    },
    {
      "cell_type": "code",
      "metadata": {
        "id": "thStNhNjibf3"
      },
      "source": [
        "# ResidualUnit 층 구성(p571 그림 14-18 구현, main_layers가 오른쪽 모듈, skip_layers가 왼쪽 모듈)\n",
        "class ResidualUnit(keras.layers.Layer):\n",
        "  def __init__(self,filters,strides=1,activation='relu',**kwargs):\n",
        "    super().__init__(**kwargs)\n",
        "    self.activation = keras.activations.get(activation)\n",
        "    self.main_layers = [\n",
        "                        keras.layers.Conv2D(filters,3,strides=strides,\n",
        "                                            padding='same',use_bias=False),\n",
        "                        keras.layers.BatchNormalization(),\n",
        "                        self.activation,\n",
        "                        keras.layers.Conv2D(filters,3,strides=1,\n",
        "                                            padding='same',use_bias=False),\n",
        "                        keras.layers.BatchNormalization()]\n",
        "    self.skip_layers = []\n",
        "    if strides > 1:\n",
        "      self.skip_layers =[\n",
        "                         keras.layers.Conv2D(filters,1,strides=strides,\n",
        "                                             padding='same',use_bias=False),\n",
        "                         keras.layers.BatchNormalization()]\n",
        "  def call(self,inputs):\n",
        "    Z = inputs\n",
        "    for layer in self.main_layers:\n",
        "      Z = layer(Z)\n",
        "\n",
        "    skip_Z = inputs\n",
        "    for layer in self.skip_layers:\n",
        "      skip_Z = layer(skip_Z)\n",
        "    return self.activation(Z+skip_Z)"
      ],
      "execution_count": null,
      "outputs": []
    },
    {
      "cell_type": "code",
      "metadata": {
        "id": "ph90JnNovnun"
      },
      "source": [
        "# ResNet-34 모델\n",
        "model = keras.Sequential()\n",
        "model.add(keras.layers.Conv2D(64,7,strides=2,input_shape=[224,224,3],padding='same',use_bias=False))\n",
        "model.add(keras.layers.BatchNormalization())\n",
        "model.add(keras.layers.Activation('relu'))\n",
        "model.add(keras.layers.MaxPool2D(pool_size=3,strides=2,padding='same'))\n",
        "# 처음 3개 RU는 64개의 필터, 그다음 4개는 128개를 가지는 식\n",
        "prev_filters = 64\n",
        "for filters in [64]*3+[128]*4+[256]*6+[512]*3:\n",
        "  strides = 1 if filters == prev_filters else 2\n",
        "  model.add(ResidualUnit(filters.strides=strides))\n",
        "  prev_filters = filters\n",
        "model.add(keras.layers.GlobalAvgPool2D())\n",
        "model.add(keras.layers.Flatten())\n",
        "model.add(keras.layers.Dense(10,activation='softmax'))"
      ],
      "execution_count": null,
      "outputs": []
    },
    {
      "cell_type": "markdown",
      "metadata": {
        "id": "OyS5K_TkxTqa"
      },
      "source": [
        "# 케라스에서 제공하는 사전훈련된 모델 사용하기"
      ]
    },
    {
      "cell_type": "code",
      "metadata": {
        "id": "7O4IZQr3xUNG",
        "outputId": "e5771c78-5919-4fed-cc70-24a325180a8f",
        "colab": {
          "base_uri": "https://localhost:8080/",
          "height": 52
        }
      },
      "source": [
        "# keras.applications 패키지에 사전훈련된 모델들이 내장되어있다.\n",
        "# ResNet - 50 모델을 만들고 이미지넷 데이터셋에서 사전훈련된 가중치를 다운로드한다.\n",
        "model = keras.applications.resnet50.ResNet50(weights='imagenet')"
      ],
      "execution_count": null,
      "outputs": [
        {
          "output_type": "stream",
          "text": [
            "Downloading data from https://storage.googleapis.com/tensorflow/keras-applications/resnet/resnet50_weights_tf_dim_ordering_tf_kernels.h5\n",
            "102973440/102967424 [==============================] - 1s 0us/step\n"
          ],
          "name": "stdout"
        }
      ]
    },
    {
      "cell_type": "code",
      "metadata": {
        "id": "vr4ZQUw15VZh"
      },
      "source": [
        "# model.summary()로 확인해보면 224x224 픽셀 크기의 이미지를 기대하는데 다른 크기라면 tf.image.resize() 함수로 이미지의 크기를 바꿔야한다.\n",
        "images_resized = tf.image.resize(images,[224,224])"
      ],
      "execution_count": null,
      "outputs": []
    },
    {
      "cell_type": "code",
      "metadata": {
        "id": "ot7TgW-HyIfd"
      },
      "source": [
        "# 사전 훈련된 모델은 이미지가 0~1 혹은 -1~1 사이의 입력을 기대한다. 이를 위해 모델마다 이미지를 전처리해주는 preprocess_input()함수가 제공된다.\n",
        "# 픽셀 값이 0~255 사이로 가정하기 때문에 0~1 사이로 바뀐 이미지는 255를 곱해주어야한다.\n",
        "inputs = keras.applications.resnet50.preprocess_input(images_resized*255)"
      ],
      "execution_count": null,
      "outputs": []
    }
  ]
}