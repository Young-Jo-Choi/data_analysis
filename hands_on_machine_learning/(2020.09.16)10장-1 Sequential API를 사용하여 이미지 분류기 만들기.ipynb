{
 "cells": [
  {
   "cell_type": "code",
   "execution_count": 1,
   "metadata": {},
   "outputs": [],
   "source": [
    "import tensorflow as tf\n",
    "from tensorflow import keras"
   ]
  },
  {
   "cell_type": "code",
   "execution_count": 2,
   "metadata": {},
   "outputs": [
    {
     "data": {
      "text/plain": [
       "'2.1.0'"
      ]
     },
     "execution_count": 2,
     "metadata": {},
     "output_type": "execute_result"
    }
   ],
   "source": [
    "tf.__version__"
   ]
  },
  {
   "cell_type": "code",
   "execution_count": 3,
   "metadata": {},
   "outputs": [
    {
     "data": {
      "text/plain": [
       "'2.2.4-tf'"
      ]
     },
     "execution_count": 3,
     "metadata": {},
     "output_type": "execute_result"
    }
   ],
   "source": [
    "keras.__version__"
   ]
  },
  {
   "cell_type": "code",
   "execution_count": 4,
   "metadata": {},
   "outputs": [],
   "source": [
    "import numpy as np\n",
    "import pandas as pd\n",
    "import matplotlib.pyplot as plt"
   ]
  },
  {
   "cell_type": "markdown",
   "metadata": {},
   "source": [
    "# Sequential API를 사용하여 이미지 분류기 만들기"
   ]
  },
  {
   "cell_type": "code",
   "execution_count": 5,
   "metadata": {},
   "outputs": [],
   "source": [
    "# fashion_mnist\n",
    "fashion_mnist = keras.datasets.fashion_mnist\n",
    "(X_train_full,y_train_full),(X_test,y_test) = fashion_mnist.load_data()"
   ]
  },
  {
   "cell_type": "code",
   "execution_count": 6,
   "metadata": {},
   "outputs": [
    {
     "data": {
      "text/plain": [
       "(60000, 28, 28)"
      ]
     },
     "execution_count": 6,
     "metadata": {},
     "output_type": "execute_result"
    }
   ],
   "source": [
    "X_train_full.shape"
   ]
  },
  {
   "cell_type": "code",
   "execution_count": 7,
   "metadata": {},
   "outputs": [],
   "source": [
    "# 검증셋을 나눠주기 + 각 픽셀을 255로 나눠 스케일 맞추기(정수형으로 되어있기에 실수타입이 되도록 255.0으로 나눠준다.)\n",
    "X_valid,X_train = X_train_full[:5000]/255.0, X_train_full[5000:]/255.0\n",
    "y_valid,y_train = y_train_full[:5000], y_train_full[5000:]\n",
    "X_test = X_test/255.0"
   ]
  },
  {
   "cell_type": "code",
   "execution_count": 8,
   "metadata": {},
   "outputs": [
    {
     "data": {
      "text/plain": [
       "'Coat'"
      ]
     },
     "execution_count": 8,
     "metadata": {},
     "output_type": "execute_result"
    }
   ],
   "source": [
    "class_names = ['T-shirt/top','Trouser','Pullover','Dress','Coat',\n",
    "               'Sandal','Shirt','Sneaker','Bag','Ankle boot']\n",
    "class_names[y_train[0]]"
   ]
  },
  {
   "cell_type": "markdown",
   "metadata": {},
   "source": [
    "## 신경망 구성"
   ]
  },
  {
   "cell_type": "code",
   "execution_count": 9,
   "metadata": {},
   "outputs": [],
   "source": [
    "# Sequential 모델을 만든다. 순서대로 연결된 층을 일렬로 쌓아 구성\n",
    "model = keras.models.Sequential()\n",
    "\n",
    "# 첫 번째 층을 만들고 모델에 추가. Flatten층은 입력 이미지를 1D 배열로 변환(X를 입력받으면 X.reshape(-1,1)을 계산)\n",
    "model.add(keras.layers.Flatten(input_shape=[28,28]))\n",
    "\n",
    "# 뉴런 300개를 가진 Dense 은닉층, 가중치 행렬을 관리. 편향 역시 벡터로 관리\n",
    "model.add(keras.layers.Dense(300,activation='relu'))\n",
    "\n",
    "model.add(keras.layers.Dense(100,activation='relu'))\n",
    "\n",
    "# 10개의 뉴런을 가진 Dense 출력층. 배타적인 클래스이므로 소프트맥스 활성화 함수\n",
    "model.add(keras.layers.Dense(10,activation='softmax'))\n",
    "\n",
    "# activation='relu'와 activation=keras.activations.relu는 동일"
   ]
  },
  {
   "cell_type": "code",
   "execution_count": 10,
   "metadata": {},
   "outputs": [
    {
     "data": {
      "text/plain": [
       "\"model = keras.models.Sequential([\\n    keras.layers.Flatten(input_shape=[28,28]),\\n    keras.layers.Dense(300,activation='relu'),\\n    keras.layers.Dense(100,activation='relu'),\\n    keras.layers.Dense(10,activation='softmax')\\n])\""
      ]
     },
     "execution_count": 10,
     "metadata": {},
     "output_type": "execute_result"
    }
   ],
   "source": [
    "# 위에서 처럼 층을 하나씩 추가하지 않고 Sequential 모델을 만들 때 층의 리스트를 전달할 수 있다.\n",
    "'''model = keras.models.Sequential([\n",
    "    keras.layers.Flatten(input_shape=[28,28]),\n",
    "    keras.layers.Dense(300,activation='relu'),\n",
    "    keras.layers.Dense(100,activation='relu'),\n",
    "    keras.layers.Dense(10,activation='softmax')\n",
    "])'''\n"
   ]
  },
  {
   "cell_type": "code",
   "execution_count": 11,
   "metadata": {},
   "outputs": [
    {
     "name": "stdout",
     "output_type": "stream",
     "text": [
      "Model: \"sequential\"\n",
      "_________________________________________________________________\n",
      "Layer (type)                 Output Shape              Param #   \n",
      "=================================================================\n",
      "flatten (Flatten)            (None, 784)               0         \n",
      "_________________________________________________________________\n",
      "dense (Dense)                (None, 300)               235500    \n",
      "_________________________________________________________________\n",
      "dense_1 (Dense)              (None, 100)               30100     \n",
      "_________________________________________________________________\n",
      "dense_2 (Dense)              (None, 10)                1010      \n",
      "=================================================================\n",
      "Total params: 266,610\n",
      "Trainable params: 266,610\n",
      "Non-trainable params: 0\n",
      "_________________________________________________________________\n"
     ]
    }
   ],
   "source": [
    "# summary 메서드는 모델에 있는 모든 층을 출력, \n",
    "# 층의 이름(지정하지 않으면 자동 생성), 출력 크기(None은 어떤 값도 가능하다는 의미), 파라미터 개수(훈련된/훈련되지 않은)\n",
    "\n",
    "model.summary()"
   ]
  },
  {
   "cell_type": "markdown",
   "metadata": {},
   "source": [
    "Dense 층은 보통 많은 파라미터를 갖는다. 예를 들어 첫 번째 은닉층은 784 $*$ 300개의 연결 가중치와 300개의 편향을 갖는다."
   ]
  },
  {
   "cell_type": "code",
   "execution_count": 12,
   "metadata": {},
   "outputs": [
    {
     "data": {
      "text/plain": [
       "[<tensorflow.python.keras.layers.core.Flatten at 0x244c8db0608>,\n",
       " <tensorflow.python.keras.layers.core.Dense at 0x244c8a956c8>,\n",
       " <tensorflow.python.keras.layers.core.Dense at 0x244c8dbc1c8>,\n",
       " <tensorflow.python.keras.layers.core.Dense at 0x244c8a320c8>]"
      ]
     },
     "execution_count": 12,
     "metadata": {},
     "output_type": "execute_result"
    }
   ],
   "source": [
    "model.layers"
   ]
  },
  {
   "cell_type": "code",
   "execution_count": 13,
   "metadata": {},
   "outputs": [
    {
     "data": {
      "text/plain": [
       "'dense'"
      ]
     },
     "execution_count": 13,
     "metadata": {},
     "output_type": "execute_result"
    }
   ],
   "source": [
    "model.layers[1].name"
   ]
  },
  {
   "cell_type": "code",
   "execution_count": 14,
   "metadata": {},
   "outputs": [
    {
     "data": {
      "text/plain": [
       "True"
      ]
     },
     "execution_count": 14,
     "metadata": {},
     "output_type": "execute_result"
    }
   ],
   "source": [
    "model.get_layer('dense') is model.layers[1]"
   ]
  },
  {
   "cell_type": "code",
   "execution_count": 15,
   "metadata": {},
   "outputs": [
    {
     "name": "stdout",
     "output_type": "stream",
     "text": [
      "(784, 300) (300,)\n"
     ]
    }
   ],
   "source": [
    "# 층의 모든 파라미터 get_weights() 메서드와 set_weights() 메서드를 사용\n",
    "weights, biases = model.layers[1].get_weights()\n",
    "\n",
    "print(weights.shape, biases.shape)"
   ]
  },
  {
   "cell_type": "code",
   "execution_count": 16,
   "metadata": {},
   "outputs": [
    {
     "data": {
      "text/plain": [
       "array([[-0.00710981, -0.01924034,  0.02872763, ..., -0.01799007,\n",
       "        -0.04818275,  0.06534488],\n",
       "       [-0.01813029,  0.02275556,  0.06764273, ..., -0.00759526,\n",
       "         0.06813465, -0.05018887],\n",
       "       [ 0.01659564,  0.042197  ,  0.0059118 , ..., -0.01761984,\n",
       "         0.01273237, -0.01192956],\n",
       "       ...,\n",
       "       [ 0.06856352,  0.05677265,  0.0054921 , ..., -0.00972063,\n",
       "         0.0670988 , -0.00762928],\n",
       "       [ 0.01269901,  0.04947313, -0.04431393, ..., -0.03295083,\n",
       "        -0.05193832,  0.03092962],\n",
       "       [-0.02280881,  0.01902147,  0.05711229, ..., -0.02241674,\n",
       "         0.02507134,  0.07179983]], dtype=float32)"
      ]
     },
     "execution_count": 16,
     "metadata": {},
     "output_type": "execute_result"
    }
   ],
   "source": [
    "# 초기값은 랜덤 생성\n",
    "weights"
   ]
  },
  {
   "cell_type": "code",
   "execution_count": 17,
   "metadata": {},
   "outputs": [
    {
     "data": {
      "text/plain": [
       "array([0., 0., 0., 0., 0., 0., 0., 0., 0., 0., 0., 0., 0., 0., 0., 0., 0.,\n",
       "       0., 0., 0., 0., 0., 0., 0., 0., 0., 0., 0., 0., 0., 0., 0., 0., 0.,\n",
       "       0., 0., 0., 0., 0., 0., 0., 0., 0., 0., 0., 0., 0., 0., 0., 0., 0.,\n",
       "       0., 0., 0., 0., 0., 0., 0., 0., 0., 0., 0., 0., 0., 0., 0., 0., 0.,\n",
       "       0., 0., 0., 0., 0., 0., 0., 0., 0., 0., 0., 0., 0., 0., 0., 0., 0.,\n",
       "       0., 0., 0., 0., 0., 0., 0., 0., 0., 0., 0., 0., 0., 0., 0., 0., 0.,\n",
       "       0., 0., 0., 0., 0., 0., 0., 0., 0., 0., 0., 0., 0., 0., 0., 0., 0.,\n",
       "       0., 0., 0., 0., 0., 0., 0., 0., 0., 0., 0., 0., 0., 0., 0., 0., 0.,\n",
       "       0., 0., 0., 0., 0., 0., 0., 0., 0., 0., 0., 0., 0., 0., 0., 0., 0.,\n",
       "       0., 0., 0., 0., 0., 0., 0., 0., 0., 0., 0., 0., 0., 0., 0., 0., 0.,\n",
       "       0., 0., 0., 0., 0., 0., 0., 0., 0., 0., 0., 0., 0., 0., 0., 0., 0.,\n",
       "       0., 0., 0., 0., 0., 0., 0., 0., 0., 0., 0., 0., 0., 0., 0., 0., 0.,\n",
       "       0., 0., 0., 0., 0., 0., 0., 0., 0., 0., 0., 0., 0., 0., 0., 0., 0.,\n",
       "       0., 0., 0., 0., 0., 0., 0., 0., 0., 0., 0., 0., 0., 0., 0., 0., 0.,\n",
       "       0., 0., 0., 0., 0., 0., 0., 0., 0., 0., 0., 0., 0., 0., 0., 0., 0.,\n",
       "       0., 0., 0., 0., 0., 0., 0., 0., 0., 0., 0., 0., 0., 0., 0., 0., 0.,\n",
       "       0., 0., 0., 0., 0., 0., 0., 0., 0., 0., 0., 0., 0., 0., 0., 0., 0.,\n",
       "       0., 0., 0., 0., 0., 0., 0., 0., 0., 0., 0.], dtype=float32)"
      ]
     },
     "execution_count": 17,
     "metadata": {},
     "output_type": "execute_result"
    }
   ],
   "source": [
    "# 처음에는 0으로 초기화\n",
    "biases"
   ]
  },
  {
   "cell_type": "markdown",
   "metadata": {},
   "source": [
    "Dense 층은 대칭성을 깨뜨리기 위해 연결 가중치를 무작위로 초기화한다. 편향은 0으로 초기화한다.\n",
    "\n",
    "다른 초기화 방법을 사용하고 싶으면 kernel_initializer와 bias_initializer 매개변수를 설정할 수 있다.(11장)"
   ]
  },
  {
   "cell_type": "markdown",
   "metadata": {},
   "source": [
    "## 모델 컴파일"
   ]
  },
  {
   "cell_type": "code",
   "execution_count": 18,
   "metadata": {},
   "outputs": [],
   "source": [
    "# keras.losses.sparse_categorical_crossentropy를 사용하는 것과 동일\n",
    "# keras.optimizers.SGD()와 동일\n",
    "# [keras.metrics.sparse_categorical_accuracy]와 동일\n",
    "\n",
    "model.compile(loss='sparse_categorical_crossentropy', \n",
    "              optimizer='sgd', \n",
    "              metrics=['accuracy'])"
   ]
  },
  {
   "cell_type": "markdown",
   "metadata": {},
   "source": [
    "레이블이 정수 하나로 이루어져 있고 클래스가 배타적이므로 \"sparse_categorical_crossentropy\" 손실을 사용<br>\n",
    "(샘플마다 클래스별 확률을 가지고 있다면 \"categorical_crossentropy\" 손실을 사용)\n",
    "\n",
    "이진 분류를 사용한다면 출력층에 \"softmax\" 함수 대신 \"sigmoid\" 함수를 사용하고 \"binary_crossentropy\" 손실을 사용한다.\n",
    "\n",
    "tip) 희소한 레이블을 원-핫 벡터 레이블로 변환하려면 keras.utils.to_categorical()함수 사용, 그 반대는 np.argmax(axis=1)\n",
    "\n",
    "\"sgd\"는 확률적 경사하강법을 사용하여 모델을 훈련한다는 의미. 후진 모드 자동 미분과 경사 하강법을 수행<br>\n",
    "(SGD를 사용할 때는 학습률 튜닝이 중요, 기본 학습률(lr 파라미터)은 0.01)"
   ]
  },
  {
   "cell_type": "markdown",
   "metadata": {},
   "source": [
    "## 모델 훈련과 평가"
   ]
  },
  {
   "cell_type": "code",
   "execution_count": 19,
   "metadata": {},
   "outputs": [
    {
     "name": "stdout",
     "output_type": "stream",
     "text": [
      "Train on 55000 samples, validate on 5000 samples\n",
      "Epoch 1/10\n",
      "55000/55000 [==============================] - 6s 117us/sample - loss: 0.7095 - accuracy: 0.7696 - val_loss: 0.5030 - val_accuracy: 0.8300\n",
      "Epoch 2/10\n",
      "55000/55000 [==============================] - 6s 100us/sample - loss: 0.4841 - accuracy: 0.8305 - val_loss: 0.5189 - val_accuracy: 0.8092\n",
      "Epoch 3/10\n",
      "55000/55000 [==============================] - 6s 102us/sample - loss: 0.4408 - accuracy: 0.8449 - val_loss: 0.4357 - val_accuracy: 0.8460\n",
      "Epoch 4/10\n",
      "55000/55000 [==============================] - 6s 100us/sample - loss: 0.4122 - accuracy: 0.8547 - val_loss: 0.4109 - val_accuracy: 0.8532\n",
      "Epoch 5/10\n",
      "55000/55000 [==============================] - 5s 99us/sample - loss: 0.3916 - accuracy: 0.8623 - val_loss: 0.3764 - val_accuracy: 0.8702\n",
      "Epoch 6/10\n",
      "55000/55000 [==============================] - 5s 100us/sample - loss: 0.3766 - accuracy: 0.8674 - val_loss: 0.3748 - val_accuracy: 0.8716\n",
      "Epoch 7/10\n",
      "55000/55000 [==============================] - 6s 100us/sample - loss: 0.3633 - accuracy: 0.8704 - val_loss: 0.3581 - val_accuracy: 0.8768\n",
      "Epoch 8/10\n",
      "55000/55000 [==============================] - 6s 105us/sample - loss: 0.3515 - accuracy: 0.8750 - val_loss: 0.3486 - val_accuracy: 0.8778\n",
      "Epoch 9/10\n",
      "55000/55000 [==============================] - 6s 105us/sample - loss: 0.3417 - accuracy: 0.8776 - val_loss: 0.3462 - val_accuracy: 0.8806\n",
      "Epoch 10/10\n",
      "55000/55000 [==============================] - 6s 109us/sample - loss: 0.3318 - accuracy: 0.8821 - val_loss: 0.3363 - val_accuracy: 0.8820\n"
     ]
    }
   ],
   "source": [
    "history = model.fit(X_train,y_train,epochs=10, validation_data=(X_valid,y_valid))"
   ]
  },
  {
   "cell_type": "markdown",
   "metadata": {},
   "source": [
    "### 검증셋\n",
    "케라스는 에포크가 끝날 때마다 검증 세트를 사용해 손실과 추가적인 측정 지표를 계산한다. 이 지표는 모델이 얼마나 잘 수행되는지 확인하는데 유용하다.\n",
    "\n",
    "validation_data 매개변수에 검증 세트를 전달하는 대신 케라스가 검증에 사용할 훈련 세트의 비율을 지정할 수 있다. 예를 들어 validataion_split=0.1로 쓰면 케라스는 검증에 데이터의 마지막 10%를 사용한다.\n",
    "\n",
    "### 편중된 클래스\n",
    "편중된 클래스의 경우 fit()할 때 class_weight 매개변수를 지정하는 것이 좋다. 적게 등장하는 클래스는 높은 가중치를 부여하고 많이 등장하는 클래스는 낮은 가중치를 부여한다. 케라스가 손실을 계산할 때 이 가중치를 사용한다.\n",
    "\n",
    "샘플별로 가중치를 부여하고 싶다면 sample_weight 매개변수를 지정한다.<br>(class_weight와 sample_weight가 모두 지정되면 케라스는 두 값을 곱하여 사용한다) <br>(예를 들어 전문가가 할당한 레이블이고 나머지는 다른 방법으로 레이블이 할당된 경우라면)\n",
    "\n",
    "validation_data 튜플의 세 번째 원소로 검증 세트에 대한 가중치를 지정할 수 있다.(클래스 가중치는 지정 못함)"
   ]
  },
  {
   "cell_type": "code",
   "execution_count": 33,
   "metadata": {},
   "outputs": [
    {
     "data": {
      "text/html": [
       "<div>\n",
       "<style scoped>\n",
       "    .dataframe tbody tr th:only-of-type {\n",
       "        vertical-align: middle;\n",
       "    }\n",
       "\n",
       "    .dataframe tbody tr th {\n",
       "        vertical-align: top;\n",
       "    }\n",
       "\n",
       "    .dataframe thead th {\n",
       "        text-align: right;\n",
       "    }\n",
       "</style>\n",
       "<table border=\"1\" class=\"dataframe\">\n",
       "  <thead>\n",
       "    <tr style=\"text-align: right;\">\n",
       "      <th></th>\n",
       "      <th>loss</th>\n",
       "      <th>accuracy</th>\n",
       "      <th>val_loss</th>\n",
       "      <th>val_accuracy</th>\n",
       "    </tr>\n",
       "  </thead>\n",
       "  <tbody>\n",
       "    <tr>\n",
       "      <td>0</td>\n",
       "      <td>0.709453</td>\n",
       "      <td>0.769600</td>\n",
       "      <td>0.502995</td>\n",
       "      <td>0.8300</td>\n",
       "    </tr>\n",
       "    <tr>\n",
       "      <td>1</td>\n",
       "      <td>0.484058</td>\n",
       "      <td>0.830527</td>\n",
       "      <td>0.518901</td>\n",
       "      <td>0.8092</td>\n",
       "    </tr>\n",
       "    <tr>\n",
       "      <td>2</td>\n",
       "      <td>0.440791</td>\n",
       "      <td>0.844945</td>\n",
       "      <td>0.435710</td>\n",
       "      <td>0.8460</td>\n",
       "    </tr>\n",
       "    <tr>\n",
       "      <td>3</td>\n",
       "      <td>0.412183</td>\n",
       "      <td>0.854673</td>\n",
       "      <td>0.410946</td>\n",
       "      <td>0.8532</td>\n",
       "    </tr>\n",
       "    <tr>\n",
       "      <td>4</td>\n",
       "      <td>0.391645</td>\n",
       "      <td>0.862273</td>\n",
       "      <td>0.376366</td>\n",
       "      <td>0.8702</td>\n",
       "    </tr>\n",
       "    <tr>\n",
       "      <td>5</td>\n",
       "      <td>0.376585</td>\n",
       "      <td>0.867418</td>\n",
       "      <td>0.374781</td>\n",
       "      <td>0.8716</td>\n",
       "    </tr>\n",
       "    <tr>\n",
       "      <td>6</td>\n",
       "      <td>0.363274</td>\n",
       "      <td>0.870436</td>\n",
       "      <td>0.358098</td>\n",
       "      <td>0.8768</td>\n",
       "    </tr>\n",
       "    <tr>\n",
       "      <td>7</td>\n",
       "      <td>0.351494</td>\n",
       "      <td>0.875000</td>\n",
       "      <td>0.348614</td>\n",
       "      <td>0.8778</td>\n",
       "    </tr>\n",
       "    <tr>\n",
       "      <td>8</td>\n",
       "      <td>0.341654</td>\n",
       "      <td>0.877600</td>\n",
       "      <td>0.346196</td>\n",
       "      <td>0.8806</td>\n",
       "    </tr>\n",
       "    <tr>\n",
       "      <td>9</td>\n",
       "      <td>0.331791</td>\n",
       "      <td>0.882055</td>\n",
       "      <td>0.336284</td>\n",
       "      <td>0.8820</td>\n",
       "    </tr>\n",
       "  </tbody>\n",
       "</table>\n",
       "</div>"
      ],
      "text/plain": [
       "       loss  accuracy  val_loss  val_accuracy\n",
       "0  0.709453  0.769600  0.502995        0.8300\n",
       "1  0.484058  0.830527  0.518901        0.8092\n",
       "2  0.440791  0.844945  0.435710        0.8460\n",
       "3  0.412183  0.854673  0.410946        0.8532\n",
       "4  0.391645  0.862273  0.376366        0.8702\n",
       "5  0.376585  0.867418  0.374781        0.8716\n",
       "6  0.363274  0.870436  0.358098        0.8768\n",
       "7  0.351494  0.875000  0.348614        0.8778\n",
       "8  0.341654  0.877600  0.346196        0.8806\n",
       "9  0.331791  0.882055  0.336284        0.8820"
      ]
     },
     "execution_count": 33,
     "metadata": {},
     "output_type": "execute_result"
    }
   ],
   "source": [
    "pd.DataFrame(history.history)"
   ]
  },
  {
   "cell_type": "code",
   "execution_count": 20,
   "metadata": {},
   "outputs": [
    {
     "data": {
      "image/png": "[encoded data removed]",
      "text/plain": [
       "<Figure size 432x288 with 1 Axes>"
      ]
     },
     "metadata": {
      "needs_background": "light"
     },
     "output_type": "display_data"
    }
   ],
   "source": [
    "# fit()메서드가 반환하는 history 객체에는 훈련파라미터(history.params), 수행된 에포크 리스트(history.epoch)가 포함된다.\n",
    "# histort.history는 에포크가 끝날 때마다 훈련 세트와 검증 세트에 대한 손실과 측정한 지표를 담은 딕셔너리이다.\n",
    "\n",
    "import pandas as pd\n",
    "import matplotlib.pyplot as plt\n",
    "\n",
    "pd.DataFrame(history.history).plot()\n",
    "plt.grid(True)\n",
    "plt.gca().set_ylim(0,1)\n",
    "plt.show()"
   ]
  },
  {
   "cell_type": "code",
   "execution_count": 21,
   "metadata": {},
   "outputs": [
    {
     "name": "stdout",
     "output_type": "stream",
     "text": [
      "10000/10000 [==============================] - 1s 60us/sample - loss: 0.3756 - accuracy: 0.8659\n"
     ]
    },
    {
     "data": {
      "text/plain": [
       "[0.3756352069377899, 0.8659]"
      ]
     },
     "execution_count": 21,
     "metadata": {},
     "output_type": "execute_result"
    }
   ],
   "source": [
    "model.evaluate(X_test,y_test)"
   ]
  },
  {
   "cell_type": "markdown",
   "metadata": {},
   "source": [
    "## 예측"
   ]
  },
  {
   "cell_type": "code",
   "execution_count": 22,
   "metadata": {},
   "outputs": [
    {
     "data": {
      "text/plain": [
       "array([[0.  , 0.  , 0.  , 0.  , 0.  , 0.03, 0.  , 0.08, 0.  , 0.89],\n",
       "       [0.  , 0.  , 0.96, 0.  , 0.01, 0.  , 0.03, 0.  , 0.  , 0.  ],\n",
       "       [0.  , 1.  , 0.  , 0.  , 0.  , 0.  , 0.  , 0.  , 0.  , 0.  ]],\n",
       "      dtype=float32)"
      ]
     },
     "execution_count": 22,
     "metadata": {},
     "output_type": "execute_result"
    }
   ],
   "source": [
    "# 첫 세개의 샘플에 대해 각 클래스에 속할 확률 추정\n",
    "X_new = X_test[:3]\n",
    "y_proba = model.predict(X_new)\n",
    "y_proba.round(2)"
   ]
  },
  {
   "cell_type": "code",
   "execution_count": 23,
   "metadata": {},
   "outputs": [],
   "source": [
    "import numpy as np"
   ]
  },
  {
   "cell_type": "code",
   "execution_count": 24,
   "metadata": {},
   "outputs": [
    {
     "data": {
      "text/plain": [
       "Text(0.5, 1.0, 'Pullover')"
      ]
     },
     "execution_count": 24,
     "metadata": {},
     "output_type": "execute_result"
    },
    {
     "data": {
      "image/png": "[encoded data removed]",
      "text/plain": [
       "<Figure size 432x288 with 1 Axes>"
      ]
     },
     "metadata": {
      "needs_background": "light"
     },
     "output_type": "display_data"
    }
   ],
   "source": [
    "i=1\n",
    "plt.imshow(X_test[i])\n",
    "plt.title(class_names[np.argmax(model.predict(np.array([X_test[i]])))])"
   ]
  },
  {
   "cell_type": "code",
   "execution_count": 25,
   "metadata": {},
   "outputs": [
    {
     "data": {
      "text/plain": [
       "array([9, 2, 1], dtype=int64)"
      ]
     },
     "execution_count": 25,
     "metadata": {},
     "output_type": "execute_result"
    }
   ],
   "source": [
    "# predict는 확률을 반환\n",
    "# predict_classes는 클래스를 반환\n",
    "\n",
    "y_pred = model.predict_classes(X_new)\n",
    "y_pred"
   ]
  },
  {
   "cell_type": "code",
   "execution_count": 26,
   "metadata": {},
   "outputs": [
    {
     "data": {
      "text/plain": [
       "array(['Ankle boot', 'Pullover', 'Trouser'], dtype='<U11')"
      ]
     },
     "execution_count": 26,
     "metadata": {},
     "output_type": "execute_result"
    }
   ],
   "source": [
    "np.array(class_names)[y_pred]"
   ]
  },
  {
   "cell_type": "code",
   "execution_count": null,
   "metadata": {},
   "outputs": [],
   "source": []
  }
 ],
 "metadata": {
  "kernelspec": {
   "display_name": "Python 3",
   "language": "python",
   "name": "python3"
  },
  "language_info": {
   "codemirror_mode": {
    "name": "ipython",
    "version": 3
   },
   "file_extension": ".py",
   "mimetype": "text/x-python",
   "name": "python",
   "nbconvert_exporter": "python",
   "pygments_lexer": "ipython3",
   "version": "3.7.4"
  }
 },
 "nbformat": 4,
 "nbformat_minor": 2
}
