{
  "nbformat": 4,
  "nbformat_minor": 0,
  "metadata": {
    "colab": {
      "provenance": [],
      "gpuType": "T4"
    },
    "kernelspec": {
      "name": "python3",
      "display_name": "Python 3"
    },
    "language_info": {
      "name": "python"
    },
    "accelerator": "GPU"
  },
  "cells": [
    {
      "cell_type": "code",
      "source": [
        "!pip install torchdata==0.5.1 torchtext==0.14.1"
      ],
      "metadata": {
        "id": "k-dUSNxDHK5K"
      },
      "execution_count": null,
      "outputs": []
    },
    {
      "cell_type": "code",
      "source": [
        "import numpy as np\n",
        "import torch\n",
        "import torchtext"
      ],
      "metadata": {
        "id": "JJfkXbPBHexa"
      },
      "execution_count": 3,
      "outputs": []
    },
    {
      "cell_type": "code",
      "source": [
        "# 뉴스기사 데이터, 라벨은 기사의 주제 분야임\n",
        "dataset_train_AG_NEWS, dataset_test_AG_NEWS = torchtext.datasets.AG_NEWS(root='./data/')\n",
        "classes = ['World', 'Sports', 'Business', 'Sci/Tech']"
      ],
      "metadata": {
        "id": "s5_jfQSpIxJf"
      },
      "execution_count": 4,
      "outputs": []
    },
    {
      "cell_type": "code",
      "source": [
        "next(iter(dataset_train_AG_NEWS))"
      ],
      "metadata": {
        "colab": {
          "base_uri": "https://localhost:8080/"
        },
        "id": "LVKB8HvgI5kE",
        "outputId": "3b07fb95-dff4-4b77-aab9-f4ca21a4430f"
      },
      "execution_count": 7,
      "outputs": [
        {
          "output_type": "execute_result",
          "data": {
            "text/plain": [
              "(3,\n",
              " \"Wall St. Bears Claw Back Into the Black (Reuters) Reuters - Short-sellers, Wall Street's dwindling\\\\band of ultra-cynics, are seeing green again.\")"
            ]
          },
          "metadata": {},
          "execution_count": 7
        }
      ]
    },
    {
      "cell_type": "code",
      "source": [
        "dataset_train_AG_NEWS = list(dataset_train_AG_NEWS)\n",
        "dataset_test_AG_NEWS = list(dataset_test_AG_NEWS)\n",
        "dataset_train_AG_NEWS[0]"
      ],
      "metadata": {
        "colab": {
          "base_uri": "https://localhost:8080/"
        },
        "id": "LvFe4wwZJ5id",
        "outputId": "4af09acb-9fa0-4b9d-935b-8f5ba5f80a3b"
      },
      "execution_count": 13,
      "outputs": [
        {
          "output_type": "execute_result",
          "data": {
            "text/plain": [
              "(3,\n",
              " \"Wall St. Bears Claw Back Into the Black (Reuters) Reuters - Short-sellers, Wall Street's dwindling\\\\band of ultra-cynics, are seeing green again.\")"
            ]
          },
          "metadata": {},
          "execution_count": 13
        }
      ]
    },
    {
      "cell_type": "code",
      "source": [
        "# tokenizer 불러오기\n",
        "tokenizer = torchtext.data.utils.get_tokenizer('basic_english')\n",
        "# torchtext.data.utils.get_tokenizer('spacy')\n",
        "tokenizer('Hello World!')"
      ],
      "metadata": {
        "colab": {
          "base_uri": "https://localhost:8080/"
        },
        "id": "Sq_AbAhvJIaR",
        "outputId": "1ea66e32-7cd0-4d70-d753-da84e095cff8"
      },
      "execution_count": 9,
      "outputs": [
        {
          "output_type": "execute_result",
          "data": {
            "text/plain": [
              "['hello', 'world', '!']"
            ]
          },
          "metadata": {},
          "execution_count": 9
        }
      ]
    },
    {
      "cell_type": "code",
      "source": [
        "import collections\n",
        "counter = collections.Counter()\n",
        "for (label, line) in dataset_train_AG_NEWS:\n",
        "    counter.update(tokenizer(line))"
      ],
      "metadata": {
        "id": "f5hqp9fdJPXv"
      },
      "execution_count": 15,
      "outputs": []
    },
    {
      "cell_type": "code",
      "source": [
        "counter.most_common(5)"
      ],
      "metadata": {
        "colab": {
          "base_uri": "https://localhost:8080/"
        },
        "id": "RrTQBz1mKi_k",
        "outputId": "8ab742fe-77fc-4607-f6c0-095ed8785d6a"
      },
      "execution_count": 17,
      "outputs": [
        {
          "output_type": "execute_result",
          "data": {
            "text/plain": [
              "[('.', 225971), ('the', 203843), (',', 165685), ('to', 119205), ('a', 110153)]"
            ]
          },
          "metadata": {},
          "execution_count": 17
        }
      ]
    },
    {
      "cell_type": "code",
      "source": [
        "len(counter)"
      ],
      "metadata": {
        "colab": {
          "base_uri": "https://localhost:8080/"
        },
        "id": "48v6GR6PKuWx",
        "outputId": "87354701-19b0-44dd-fc7f-1e9b2e2d9474"
      },
      "execution_count": 18,
      "outputs": [
        {
          "output_type": "execute_result",
          "data": {
            "text/plain": [
              "95810"
            ]
          },
          "metadata": {},
          "execution_count": 18
        }
      ]
    },
    {
      "cell_type": "code",
      "source": [
        "# torch의 vocabulary를 만들어준다. -> 번호가 매겨져 있는 dictionary 형태임 (빈도수와 관련 있는 번호는 아님)\n",
        "vocab = torchtext.vocab.vocab(counter, min_freq= 1)\n",
        "print(f\"Vocab size if {len(vocab)}\")\n",
        "print(vocab.get_itos()[50:53],',', vocab.get_stoi()['on'],',',vocab.get_stoi()['another'],',',vocab.get_stoi()['part'])"
      ],
      "metadata": {
        "colab": {
          "base_uri": "https://localhost:8080/"
        },
        "id": "Ld6NROO7Kqe0",
        "outputId": "3ca626c4-7514-407f-9e1a-db7568b79072"
      },
      "execution_count": 29,
      "outputs": [
        {
          "output_type": "stream",
          "name": "stdout",
          "text": [
            "Vocab size if 95810\n",
            "['on', 'another', 'part'] , 50 , 51 , 52\n"
          ]
        }
      ]
    },
    {
      "cell_type": "code",
      "source": [
        "def encode(x):\n",
        "    return [vocab.get_stoi()[s] for n, s in enumerate(tokenizer(x))]\n",
        "def decode(x):\n",
        "    return [vocab.get_itos()[i] for n, i in enumerate(x)]\n",
        "\n",
        "print(encode('I love to play with my words'))\n",
        "print(decode(encode('I love to play with my words')))"
      ],
      "metadata": {
        "colab": {
          "base_uri": "https://localhost:8080/"
        },
        "id": "fZTNuahgL-J9",
        "outputId": "366b4e06-b8d6-435b-933b-e2b4ea425fce"
      },
      "execution_count": 33,
      "outputs": [
        {
          "output_type": "stream",
          "name": "stdout",
          "text": [
            "[599, 3279, 97, 1220, 329, 225, 7368]\n",
            "['i', 'love', 'to', 'play', 'with', 'my', 'words']\n"
          ]
        }
      ]
    },
    {
      "cell_type": "markdown",
      "source": [
        "counter vectorization"
      ],
      "metadata": {
        "id": "uTIFqYgjXZXz"
      }
    },
    {
      "cell_type": "code",
      "source": [
        "# 예시\n",
        "from sklearn.feature_extraction.text import CountVectorizer\n",
        "vectorizer = CountVectorizer()\n",
        "corpus = [\n",
        "        'I like hot dogs.',\n",
        "        'The dog ran fast.',\n",
        "        'Its hot outside.',\n",
        "    ]\n",
        "vectorizer.fit(corpus)\n",
        "print(vectorizer.vocabulary_)\n",
        "print(vectorizer.transform(['My dog likes hot dogs on a hot day.']).toarray())\n",
        "\n",
        "# dog(0)가 1번, dogs(1)가 1번, hot(3)가 2번"
      ],
      "metadata": {
        "colab": {
          "base_uri": "https://localhost:8080/"
        },
        "id": "hTNDG9wgVGHR",
        "outputId": "449659c8-cee3-47e1-f9e7-c5cf6e4919ae"
      },
      "execution_count": 36,
      "outputs": [
        {
          "output_type": "stream",
          "name": "stdout",
          "text": [
            "{'like': 5, 'hot': 3, 'dogs': 1, 'the': 8, 'dog': 0, 'ran': 7, 'fast': 2, 'its': 4, 'outside': 6}\n"
          ]
        },
        {
          "output_type": "execute_result",
          "data": {
            "text/plain": [
              "array([[1, 1, 0, 2, 0, 0, 0, 0, 0]])"
            ]
          },
          "metadata": {},
          "execution_count": 36
        }
      ]
    },
    {
      "cell_type": "code",
      "source": [
        "# counter vectorization 하는 것임\n",
        "def to_bow(text, bow_vocab_size=len(vocab)):\n",
        "    res = torch.zeros(bow_vocab_size)\n",
        "    for i in encode(text):\n",
        "        if i<bow_vocab_size:\n",
        "            res[i] += 1\n",
        "    return res\n",
        "\n",
        "example = dataset_train_AG_NEWS[128][1]\n",
        "print(example)\n",
        "print(encode(example))\n",
        "print(to_bow(example))"
      ],
      "metadata": {
        "colab": {
          "base_uri": "https://localhost:8080/"
        },
        "id": "JV91b8YyVXvD",
        "outputId": "60981bf1-5249-4f1e-c6f1-4b1451974d13"
      },
      "execution_count": 42,
      "outputs": [
        {
          "output_type": "stream",
          "name": "stdout",
          "text": [
            "Space Science Pioneer Van Allen Questions Human Spaceflight (SPACE.com) SPACE.com - A leading space scientist has called to question the validity of human spaceflight, suggesting that sending astronauts outward from Earth is outdated, too costly, and the science returned is trivial.\n",
            "[1509, 1469, 1976, 1977, 1978, 1979, 1585, 1980, 9, 1509, 2, 168, 11, 1509, 2, 168, 12, 36, 1082, 1509, 1873, 35, 1778, 97, 1852, 7, 1981, 19, 1585, 1980, 14, 1982, 260, 1983, 1492, 1984, 78, 1833, 179, 1985, 14, 1136, 1986, 14, 41, 7, 1469, 1987, 179, 1988, 2]\n",
            "tensor([0., 0., 3.,  ..., 0., 0., 0.])\n"
          ]
        }
      ]
    },
    {
      "cell_type": "markdown",
      "source": [
        "DataLoader"
      ],
      "metadata": {
        "id": "SO_RPkkBb2AU"
      }
    },
    {
      "cell_type": "code",
      "source": [
        "from torch.utils.data import DataLoader\n",
        "\n",
        "dataloader_train_AG_NEWS = DataLoader(dataset_train_AG_NEWS, batch_size=4, shuffle=True)\n",
        "dataloader_test_AG_NEWS = DataLoader(dataset_test_AG_NEWS, batch_size=4, shuffle=True)"
      ],
      "metadata": {
        "id": "VqyWE6WBYtoL"
      },
      "execution_count": 45,
      "outputs": []
    },
    {
      "cell_type": "code",
      "source": [
        "c = next(iter(dataloader_train_AG_NEWS))\n",
        "c"
      ],
      "metadata": {
        "colab": {
          "base_uri": "https://localhost:8080/"
        },
        "id": "NBaAkJkjbxna",
        "outputId": "2f0e01a4-4a62-4bab-b520-97578ed48e18"
      },
      "execution_count": 47,
      "outputs": [
        {
          "output_type": "execute_result",
          "data": {
            "text/plain": [
              "[tensor([3, 4, 2, 2]),\n",
              " (\"Survey: Incentives dim US cars' image  DETROIT -- The cash rebates and financing deals that Detroit's Big Three automakers have used to drive business in recent years are diminishing the value of their vehicles in the eyes of consumers, a new quarterly survey of customer satisfaction indicates.\",\n",
              "  'Macromedia upgrading Flex presentation server Macromedia on Monday will introduce an upgrade to its Flex presentation server and framework for building rich Internet applications, with improvements in data display, visualization, styling, and performance.',\n",
              "  'Schwartzel has a very bright future He is so young and so good that the mere sight of him hitting a golf ball might be enough to induce an older player to give up, go into a dark room and babble quietly to himself.',\n",
              "  'Victorious Vaughan on the right path to glory Michael Vaughan has endured a lean time in one-day cricket but show him an Australian cricketer and he is a man transformed. Yesterday, at Edgbaston, he excelled as batsman, bowler ')]"
            ]
          },
          "metadata": {},
          "execution_count": 47
        }
      ]
    },
    {
      "cell_type": "code",
      "source": [
        "# collate_fn을 사용하면 원하는 형태로 바꿔서 loader를 내보낼 수 있음\n",
        "# (주로 dataset이 고정길이가 아닌 경우 padding을 위해 많이 사용함)\n",
        "\n",
        "def bowify(b):\n",
        "    return (\n",
        "            torch.stack([to_bow(t[1]) for t in b]),\n",
        "            torch.LongTensor([t[0]-1 for t in b]),\n",
        "    )\n",
        "dataloader_train_AG_NEWS = DataLoader(dataset_train_AG_NEWS, batch_size=4, collate_fn=bowify, shuffle=True)\n",
        "dataloader_test_AG_NEWS = DataLoader(dataset_test_AG_NEWS, batch_size=4, collate_fn=bowify, shuffle=True)\n",
        "c = next(iter(dataloader_train_AG_NEWS))\n",
        "c"
      ],
      "metadata": {
        "colab": {
          "base_uri": "https://localhost:8080/"
        },
        "id": "Gpz6QiVHb-06",
        "outputId": "01609eb0-f808-4cdd-b0c6-e2b8b6057cf9"
      },
      "execution_count": 48,
      "outputs": [
        {
          "output_type": "execute_result",
          "data": {
            "text/plain": [
              "(tensor([[0., 0., 3.,  ..., 0., 0., 0.],\n",
              "         [0., 0., 1.,  ..., 0., 0., 0.],\n",
              "         [0., 0., 5.,  ..., 0., 0., 0.],\n",
              "         [0., 0., 4.,  ..., 0., 0., 0.]]),\n",
              " tensor([2, 3, 3, 3]))"
            ]
          },
          "metadata": {},
          "execution_count": 48
        }
      ]
    },
    {
      "cell_type": "code",
      "source": [
        "c[0].shape"
      ],
      "metadata": {
        "colab": {
          "base_uri": "https://localhost:8080/"
        },
        "id": "XhXZ01Xgc-hP",
        "outputId": "4525e9c2-5ad0-4571-c333-d2a5c9291a94"
      },
      "execution_count": 49,
      "outputs": [
        {
          "output_type": "execute_result",
          "data": {
            "text/plain": [
              "torch.Size([4, 95810])"
            ]
          },
          "metadata": {},
          "execution_count": 49
        }
      ]
    }
  ]
}