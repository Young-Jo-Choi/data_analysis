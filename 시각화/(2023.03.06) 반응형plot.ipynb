{
 "cells": [
  {
   "cell_type": "code",
   "execution_count": 21,
   "metadata": {},
   "outputs": [],
   "source": [
    "import numpy as np\n",
    "from matplotlib import pyplot as plt\n",
    "from IPython.html.widgets import interact\n",
    "from math import pi"
   ]
  },
  {
   "cell_type": "code",
   "execution_count": 41,
   "metadata": {},
   "outputs": [],
   "source": [
    "def normal_dist(mu, sigma):\n",
    "    x = np.linspace(mu-3.3*sigma, mu+3.3*sigma)\n",
    "    y = (1/(sigma*np.sqrt(2*pi)))*np.exp((-(x-mu)**2)/((sigma**2)*2))\n",
    "    plt.plot(x,y, color='k')\n",
    "    plt.axvline(mu-2.58*sigma, color='r')\n",
    "    plt.axvline(mu+2.58*sigma, color='r')\n",
    "    plt.axvline(mu-1.96*sigma, color='b')\n",
    "    plt.axvline(mu+1.96*sigma, color='b')\n",
    "    plt.ylim([0,0.3])\n",
    "    plt.show()"
   ]
  },
  {
   "cell_type": "code",
   "execution_count": 42,
   "metadata": {},
   "outputs": [
    {
     "data": {
      "application/vnd.jupyter.widget-view+json": {
       "model_id": "81113b75ada249caa5adcf39ed863508",
       "version_major": 2,
       "version_minor": 0
      },
      "text/plain": [
       "interactive(children=(IntSlider(value=5, description='mu', max=10), FloatSlider(value=2.5, description='sigma'…"
      ]
     },
     "metadata": {},
     "output_type": "display_data"
    }
   ],
   "source": [
    "interact(normal_dist, mu=(0,10,1), sigma=(0.01,5,0.01))\n",
    "plt.show()"
   ]
  },
  {
   "cell_type": "code",
   "execution_count": null,
   "metadata": {},
   "outputs": [],
   "source": []
  }
 ],
 "metadata": {
  "kernelspec": {
   "display_name": "Python 3 (ipykernel)",
   "language": "python",
   "name": "python3"
  },
  "language_info": {
   "codemirror_mode": {
    "name": "ipython",
    "version": 3
   },
   "file_extension": ".py",
   "mimetype": "text/x-python",
   "name": "python",
   "nbconvert_exporter": "python",
   "pygments_lexer": "ipython3",
   "version": "3.7.4"
  }
 },
 "nbformat": 4,
 "nbformat_minor": 2
}
