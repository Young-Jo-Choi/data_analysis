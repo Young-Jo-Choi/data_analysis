{
 "cells": [
  {
   "cell_type": "markdown",
   "metadata": {},
   "source": [
    "# 시계열 시뮬레이션\n",
    "동일한 시계열에서는 두 데이터가 서로 다른 시간에 일어나므로 정확히 비교하는 것은 어렵다. 그렇기 때문에 특정 시간에 발생 가능한 일을 예측하려면 시뮬레이션이 필요하다.\n",
    "\n",
    "시뮬레이션과 예측은 둘다 시스템의 유동성과 파라미터에 대한 가설을 세운 다음 가설을 기반으로 생성될 데이터를 추론한다. 하지만 다음과 같은 차이점이 존재한다.\n",
    "- 정성적 관측을 예측보다 시뮬레이션에 통합하는 것이 더 쉬울 수 있다.\n",
    "- 시뮬레이션은 확장 가능한 형태로 실행되므로 여러 가지 시나리오를 관찰할 수 있다. 반면에 예측은 시뮬레이션보다 더 신중하게 처리되어야 한다.\n",
    "- 시뮬레이션은 가상이므로 실제 자원의 투입이 없어 예측에 비해 위험 부담이 적다."
   ]
  },
  {
   "cell_type": "code",
   "execution_count": 8,
   "metadata": {},
   "outputs": [],
   "source": [
    "import numpy as np\n",
    "import pandas as pd"
   ]
  },
  {
   "cell_type": "code",
   "execution_count": 12,
   "metadata": {},
   "outputs": [],
   "source": [
    "years = list(map(str,range(2014,2019)))\n",
    "status = ['bronze','silver','gold','inactive']\n",
    "\n",
    "memberYears = np.random.choice(years, 1000, p=[0.1, 0.1, 0.15, 0.30, 0.35])\n",
    "memberStatus = np.random.choice(status, 1000, p=[0.5, 0.3, 0.1, 0.1])"
   ]
  },
  {
   "cell_type": "code",
   "execution_count": 13,
   "metadata": {},
   "outputs": [],
   "source": [
    "YearJoined = pd.DataFrame({'yearJoined':memberYears,\n",
    "                          'memberStats':memberStatus})"
   ]
  },
  {
   "cell_type": "code",
   "execution_count": null,
   "metadata": {},
   "outputs": [],
   "source": []
  }
 ],
 "metadata": {
  "kernelspec": {
   "display_name": "Python 3",
   "language": "python",
   "name": "python3"
  },
  "language_info": {
   "codemirror_mode": {
    "name": "ipython",
    "version": 3
   },
   "file_extension": ".py",
   "mimetype": "text/x-python",
   "name": "python",
   "nbconvert_exporter": "python",
   "pygments_lexer": "ipython3",
   "version": "3.7.4"
  }
 },
 "nbformat": 4,
 "nbformat_minor": 2
}
