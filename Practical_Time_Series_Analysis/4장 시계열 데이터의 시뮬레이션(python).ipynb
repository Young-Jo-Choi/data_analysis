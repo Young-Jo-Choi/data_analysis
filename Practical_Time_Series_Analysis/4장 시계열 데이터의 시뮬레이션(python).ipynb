{
 "cells": [
  {
   "cell_type": "markdown",
   "metadata": {},
   "source": [
    "# 시계열 시뮬레이션\n",
    "동일한 시계열에서는 두 데이터가 서로 다른 시간에 일어나므로 정확히 비교하는 것은 어렵다. 그렇기 때문에 특정 시간에 발생 가능한 일을 예측하려면 시뮬레이션이 필요하다.\n",
    "\n",
    "시뮬레이션과 예측은 둘다 시스템의 유동성과 파라미터에 대한 가설을 세운 다음 가설을 기반으로 생성될 데이터를 추론한다. 하지만 다음과 같은 차이점이 존재한다.\n",
    "- 정성적 관측을 예측보다 시뮬레이션에 통합하는 것이 더 쉬울 수 있다.\n",
    "- 시뮬레이션은 확장 가능한 형태로 실행되므로 여러 가지 시나리오를 관찰할 수 있다. 반면에 예측은 시뮬레이션보다 더 신중하게 처리되어야 한다.\n",
    "- 시뮬레이션은 가상이므로 실제 자원의 투입이 없어 예측에 비해 위험 부담이 적다."
   ]
  },
  {
   "cell_type": "code",
   "execution_count": 1,
   "metadata": {},
   "outputs": [],
   "source": [
    "import numpy as np\n",
    "import pandas as pd"
   ]
  },
  {
   "cell_type": "code",
   "execution_count": 39,
   "metadata": {},
   "outputs": [],
   "source": [
    "years = list(map(str,range(2014,2019)))\n",
    "status = ['bronze','silver','gold','inactive']\n",
    "\n",
    "memberYears = np.random.choice(years, 1000, p=[0.1, 0.1, 0.15, 0.30, 0.35])\n",
    "memberStatus = np.random.choice(status, 1000, p=[0.5, 0.3, 0.1, 0.1])\n",
    "\n",
    "yearJoined = pd.DataFrame({'yearJoined':memberYears,\n",
    "                          'memberStats':memberStatus})"
   ]
  },
  {
   "cell_type": "code",
   "execution_count": 40,
   "metadata": {},
   "outputs": [
    {
     "data": {
      "text/plain": [
       "yearJoined  memberStats\n",
       "2014        bronze         48.0\n",
       "            silver         32.7\n",
       "            gold           11.2\n",
       "            inactive        8.2\n",
       "2015        bronze         55.0\n",
       "            silver         26.6\n",
       "            gold            9.2\n",
       "            inactive        9.2\n",
       "2016        bronze         48.3\n",
       "            silver         29.1\n",
       "            gold           14.6\n",
       "            inactive        7.9\n",
       "2017        bronze         49.2\n",
       "            silver         29.7\n",
       "            gold           10.7\n",
       "            inactive       10.4\n",
       "2018        bronze         48.9\n",
       "            silver         34.8\n",
       "            inactive        9.5\n",
       "            gold            6.8\n",
       "Name: memberStats, dtype: float64"
      ]
     },
     "execution_count": 40,
     "metadata": {},
     "output_type": "execute_result"
    }
   ],
   "source": [
    "yearJoined.groupby('yearJoined')['memberStats'].value_counts(normalize = True).map(lambda x:np.round(x,3))*100"
   ]
  },
  {
   "cell_type": "markdown",
   "metadata": {},
   "source": [
    "주별로 회원의 이메일 열람 시점을 나타내는 테이블을 만든다.<br>\n",
    "이메일에 관한 회원들의 행동 패턴은 다음 세 가지로 정의된다.\n",
    "- 열람한 적 없음\n",
    "- 일정 수준의 이메일 열람 및 참여율\n",
    "- 참여 수준의 증가 또는 감소"
   ]
  },
  {
   "cell_type": "code",
   "execution_count": 23,
   "metadata": {},
   "outputs": [],
   "source": [
    "# 매주 발송하는 이메일의 양\n",
    "NUM_EMAILS_SENT_WEEKLY = 3\n",
    "\n",
    "# 서로 다른 패턴을 위한 몇 가지 함수를 정의한다.\n",
    "def never_opens(period_rng):\n",
    "    return []\n",
    "def constant_open_rate(period_rng):\n",
    "    n, p = NUM_EMAILS_SENT_WEEKLY, np.random.uniform(0,1)\n",
    "    num_opened = np.random.binomial(n, p, len(period_rng))\n",
    "    return num_opened\n",
    "def increasing_open_rate(period_rng):\n",
    "    return open_rate_with_factor_change(period_rng, np.random.uniform(1.01, 1.30))\n",
    "def decreasinf_open_rate(period_rng):\n",
    "    return open_rate_with_factor_change(period_rng, np.random.uniform(0.5, 0.99))\n",
    "\n",
    "def open_rate_with_factor_change(period_rng, fac):\n",
    "    if len(period_rng) < 1:\n",
    "        return []\n",
    "    times = np.random.randint(0, len(period_rng), int(0.1* len(period_rng)))\n",
    "    num_opened = np.zeros(len(period_rng))\n",
    "    for prd in range(0, len(period_rng),2):\n",
    "        try:\n",
    "            n, p = NUM_EMAILS_SENT_WEEKLY, np.random.uniform(0,1)\n",
    "            num_opened[prd:(prd+2)] = np.random.binomial(n,p,2)\n",
    "            p = np.max(np.min(1,p*fac),0)\n",
    "        except:\n",
    "            num_opened[prd] = np.random.binomial(n,p,1)\n",
    "    for t in times:\n",
    "        num_opened[t] = 0\n",
    "    return num_opened"
   ]
  },
  {
   "cell_type": "markdown",
   "metadata": {},
   "source": [
    "- 이메일을 한 번도 열람하지 않음 : never_opens()\n",
    "- 매주 같은 양의 이메일을 열람 : constant_open_rate()\n",
    "- 매주 열람한 이메일의 양이 줄어드는 회원 : decreasing_open_rate()\n",
    "- 매주 열람한 이메일의 양이 늘어나는 회원 : increasing_open_rate()\n",
    "\n",
    "너무 단순한 시뮬레이션은 깊은 통찰을 주지 못하므로, 회원의 행동을 정의하는 가설을 고려한 모델을 만들고 그 가설에 기반한 시뮬레이션이 실제 데이터와 맞아떨어지는지를 검증해야한다.\n",
    "\n",
    "- 회원 자격의 기간에 따라서 기부의 전체 횟수를 정함\n",
    "- 회원별 재정 상태를 만들었는데,이는 한 사람의 안정적인 재산의 양이 기부의 양에 밀접한 관련이 있다는 가설에 기반"
   ]
  },
  {
   "cell_type": "code",
   "execution_count": 47,
   "metadata": {},
   "outputs": [],
   "source": [
    "def produce_donations(period_rng, member_behavior, num_emails, use_id, member_join_year):\n",
    "    donation_amounts = np.array([0, 25, 50, 75, 100, 250, 500, 1000, 1500, 2000])\n",
    "    member_has = np.random.choice(donation_amounts)\n",
    "    email_fraction = num_emails / (NUM_EMAILS_SENT_WEEKLY * len(period_rng))\n",
    "    \n",
    "    member_gives = member_has * email_fraction\n",
    "    member_gives_idx = np.where(member_gives >= donation_amounts)[0][-1]\n",
    "    member_gives_idx = max( min(member_gives_idx,len(donation_amounts)-2),  1)\n",
    "    \n",
    "    num_times_gave = np.random.poisson(2)*(2018-member_join_year)\n",
    "    times = np.random.randint(0, len(period_rng), num_times_gave)\n",
    "    dons = pd.DataFrame({'member':[], 'amount':[], 'timestamp':[]})\n",
    "    \n",
    "    for n in range(num_times_gave):\n",
    "        donation = donation_amounts[member_gives_idx + np.random.binomial(1, 0.3)]\n",
    "        ts = str(period_rng[times[n]].start_time + random_weekly_time_delta())\n",
    "        dons = dons.append(pd.DataFrame({'member':[use_id], 'amount':[donation], 'timestamp':[ts]}))\n",
    "                           \n",
    "        if dons.shape[0] > 0:\n",
    "            dons = dons[dons['amount'] != 0]\n",
    "            # 기부액이 0인 경우는 보고하지 않음\n",
    "            \n",
    "            return dons\n",
    "\n",
    "# 특정 주 내의 시간을 무작위로 고르기 위한 유틸리티 함수\n",
    "def random_weekly_time_delta():\n",
    "    days_of_week = list(range(7))\n",
    "    hours_of_day = list(range(11,23))\n",
    "    minute_of_hour = list(range(60))\n",
    "    second_of_minute = list(range(60))\n",
    "    return pd.Timedelta(str(np.random.choice(days_of_week)) + ' days')+\\\n",
    "            pd.Timedelta(str(np.random.choice(hours_of_day)) + ' hours')+\\\n",
    "            pd.Timedelta(str(np.random.choice(minute_of_hour)) + ' minutes')+\\\n",
    "            pd.Timedelta(str(np.random.choice(second_of_minute)) + ' seconds')"
   ]
  },
  {
   "cell_type": "code",
   "execution_count": 48,
   "metadata": {},
   "outputs": [
    {
     "name": "stderr",
     "output_type": "stream",
     "text": [
      "C:\\Users\\hp\\Anaconda3\\lib\\site-packages\\pandas\\core\\frame.py:7123: FutureWarning: Sorting because non-concatenation axis is not aligned. A future version\n",
      "of pandas will change to not sort by default.\n",
      "\n",
      "To accept the future behavior, pass 'sort=False'.\n",
      "\n",
      "To retain the current behavior and silence the warning, pass 'sort=True'.\n",
      "\n",
      "  sort=sort,\n"
     ]
    }
   ],
   "source": [
    "# 시뮬레이션에 필요한 코드를 한 군데로 모음\n",
    "# 가입 이후의 시점에만 모든 사건이 발생할 수 있고, 이메일 열람 사건과 기부 사건이 약간의 관계를 갖도록 만들어준다.\n",
    "\n",
    "behaviors = [never_opens, constant_open_rate, increasing_open_rate, decreasinf_open_rate]\n",
    "member_behaviors = np.random.choice(behaviors, 1000, [0.2, 0.5, 0.1, 0.2])\n",
    "\n",
    "rng = pd.period_range('2015-02-14','2018-06-01',freq='W')\n",
    "emails = pd.DataFrame({'member':[], 'week':[], 'emailsOpened':[]})\n",
    "donations = pd.DataFrame({'member':[], 'amount':[], 'tunestamp':[]})\n",
    "\n",
    "for idx in range(yearJoined.shape[0]):\n",
    "    join_date = pd.Timestamp(yearJoined.iloc[idx].yearJoined)+\\\n",
    "                pd.Timedelta(str(np.random.randint(0,365))+' days')\n",
    "    join_date = min(join_date, pd.Timestamp('2018-06-01'))\n",
    "    \n",
    "    member_rng = rng[rng > join_date]\n",
    "    \n",
    "    if len(member_rng) < 1:\n",
    "        continue\n",
    "    info = member_behaviors[idx](member_rng)\n",
    "    if len(info) == len(member_rng):\n",
    "        emails = emails.append(pd.DataFrame(\n",
    "        {'member':[idx]*len(info),\n",
    "        'week':[str(r.start_time) for r in member_rng],\n",
    "        'emailsOpened':info}))\n",
    "        donations = donations.append(\n",
    "        produce_donations(member_rng, member_behaviors[idx],sum(info),idx, join_date.year))"
   ]
  },
  {
   "cell_type": "code",
   "execution_count": 54,
   "metadata": {},
   "outputs": [],
   "source": [
    "import matplotlib.pyplot as plt\n",
    "%matplotlib inline"
   ]
  },
  {
   "cell_type": "code",
   "execution_count": 55,
   "metadata": {},
   "outputs": [
    {
     "data": {
      "text/plain": [
       "<matplotlib.axes._subplots.AxesSubplot at 0x231f4a8f848>"
      ]
     },
     "execution_count": 55,
     "metadata": {},
     "output_type": "execute_result"
    },
    {
     "data": {
      "image/png": "[encoded data removed]",
      "text/plain": [
       "<Figure size 432x288 with 1 Axes>"
      ]
     },
     "metadata": {
      "needs_background": "light"
     },
     "output_type": "display_data"
    }
   ],
   "source": [
    "df = donations\n",
    "df.set_index(pd.to_datetime(df.timestamp),inplace=True)\n",
    "df.sort_index(inplace = True)\n",
    "df.groupby(pd.Grouper(freq='M')).amount.sum().plot()"
   ]
  },
  {
   "cell_type": "code",
   "execution_count": 50,
   "metadata": {},
   "outputs": [
    {
     "data": {
      "text/html": [
       "<div>\n",
       "<style scoped>\n",
       "    .dataframe tbody tr th:only-of-type {\n",
       "        vertical-align: middle;\n",
       "    }\n",
       "\n",
       "    .dataframe tbody tr th {\n",
       "        vertical-align: top;\n",
       "    }\n",
       "\n",
       "    .dataframe thead th {\n",
       "        text-align: right;\n",
       "    }\n",
       "</style>\n",
       "<table border=\"1\" class=\"dataframe\">\n",
       "  <thead>\n",
       "    <tr style=\"text-align: right;\">\n",
       "      <th></th>\n",
       "      <th>amount</th>\n",
       "      <th>member</th>\n",
       "      <th>timestamp</th>\n",
       "      <th>tunestamp</th>\n",
       "    </tr>\n",
       "  </thead>\n",
       "  <tbody>\n",
       "    <tr>\n",
       "      <td>0</td>\n",
       "      <td>25.0</td>\n",
       "      <td>5.0</td>\n",
       "      <td>2018-03-07 13:25:09</td>\n",
       "      <td>NaN</td>\n",
       "    </tr>\n",
       "    <tr>\n",
       "      <td>0</td>\n",
       "      <td>25.0</td>\n",
       "      <td>6.0</td>\n",
       "      <td>2018-03-15 22:14:57</td>\n",
       "      <td>NaN</td>\n",
       "    </tr>\n",
       "    <tr>\n",
       "      <td>0</td>\n",
       "      <td>100.0</td>\n",
       "      <td>7.0</td>\n",
       "      <td>2017-09-25 13:10:03</td>\n",
       "      <td>NaN</td>\n",
       "    </tr>\n",
       "    <tr>\n",
       "      <td>0</td>\n",
       "      <td>1000.0</td>\n",
       "      <td>8.0</td>\n",
       "      <td>2016-04-14 17:03:04</td>\n",
       "      <td>NaN</td>\n",
       "    </tr>\n",
       "    <tr>\n",
       "      <td>0</td>\n",
       "      <td>25.0</td>\n",
       "      <td>10.0</td>\n",
       "      <td>2017-01-23 15:30:07</td>\n",
       "      <td>NaN</td>\n",
       "    </tr>\n",
       "    <tr>\n",
       "      <td>...</td>\n",
       "      <td>...</td>\n",
       "      <td>...</td>\n",
       "      <td>...</td>\n",
       "      <td>...</td>\n",
       "    </tr>\n",
       "    <tr>\n",
       "      <td>0</td>\n",
       "      <td>50.0</td>\n",
       "      <td>986.0</td>\n",
       "      <td>2018-01-15 12:11:09</td>\n",
       "      <td>NaN</td>\n",
       "    </tr>\n",
       "    <tr>\n",
       "      <td>0</td>\n",
       "      <td>50.0</td>\n",
       "      <td>990.0</td>\n",
       "      <td>2017-10-02 14:13:35</td>\n",
       "      <td>NaN</td>\n",
       "    </tr>\n",
       "    <tr>\n",
       "      <td>0</td>\n",
       "      <td>25.0</td>\n",
       "      <td>992.0</td>\n",
       "      <td>2016-08-19 18:12:22</td>\n",
       "      <td>NaN</td>\n",
       "    </tr>\n",
       "    <tr>\n",
       "      <td>0</td>\n",
       "      <td>25.0</td>\n",
       "      <td>995.0</td>\n",
       "      <td>2017-12-17 13:41:54</td>\n",
       "      <td>NaN</td>\n",
       "    </tr>\n",
       "    <tr>\n",
       "      <td>0</td>\n",
       "      <td>25.0</td>\n",
       "      <td>999.0</td>\n",
       "      <td>2017-08-28 20:21:59</td>\n",
       "      <td>NaN</td>\n",
       "    </tr>\n",
       "  </tbody>\n",
       "</table>\n",
       "<p>426 rows × 4 columns</p>\n",
       "</div>"
      ],
      "text/plain": [
       "    amount  member            timestamp  tunestamp\n",
       "0     25.0     5.0  2018-03-07 13:25:09        NaN\n",
       "0     25.0     6.0  2018-03-15 22:14:57        NaN\n",
       "0    100.0     7.0  2017-09-25 13:10:03        NaN\n",
       "0   1000.0     8.0  2016-04-14 17:03:04        NaN\n",
       "0     25.0    10.0  2017-01-23 15:30:07        NaN\n",
       "..     ...     ...                  ...        ...\n",
       "0     50.0   986.0  2018-01-15 12:11:09        NaN\n",
       "0     50.0   990.0  2017-10-02 14:13:35        NaN\n",
       "0     25.0   992.0  2016-08-19 18:12:22        NaN\n",
       "0     25.0   995.0  2017-12-17 13:41:54        NaN\n",
       "0     25.0   999.0  2017-08-28 20:21:59        NaN\n",
       "\n",
       "[426 rows x 4 columns]"
      ]
     },
     "execution_count": 50,
     "metadata": {},
     "output_type": "execute_result"
    }
   ],
   "source": [
    "donations"
   ]
  },
  {
   "cell_type": "code",
   "execution_count": null,
   "metadata": {},
   "outputs": [],
   "source": []
  }
 ],
 "metadata": {
  "kernelspec": {
   "display_name": "Python 3",
   "language": "python",
   "name": "python3"
  },
  "language_info": {
   "codemirror_mode": {
    "name": "ipython",
    "version": 3
   },
   "file_extension": ".py",
   "mimetype": "text/x-python",
   "name": "python",
   "nbconvert_exporter": "python",
   "pygments_lexer": "ipython3",
   "version": "3.7.4"
  }
 },
 "nbformat": 4,
 "nbformat_minor": 2
}
