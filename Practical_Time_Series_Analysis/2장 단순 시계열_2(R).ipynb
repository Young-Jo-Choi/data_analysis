{
 "cells": [
  {
   "cell_type": "markdown",
   "metadata": {},
   "source": [
    "# R\n",
    "# 데이터 정리\n",
    "1. 누락된 데이터(결측치)\n",
    "2. 시계열 빈도 변경(업샘플링, 다운샘플링)\n",
    "3. 데이터 평활\n",
    "4. 데이터의 계절적 변동 문제 해결\n",
    "5. 의도치 않은 사전관찰 방지\n",
    "\n",
    "## 1. 누락된 데이터 다루기\n",
    "해결법으로는 다음과 같은 방법이 있다.<br>\n",
    "- 대치법(imputation) : 데이터셋 전체의 관측에 기반해 누락된 데이터를 채워넣는다.\n",
    "- 보간법(interpolation) :  대치법의 한 형태로 인접한 데이터를 사용하여 누락된 데이터를 추정\n",
    "- 영향받은 기간 삭제 : 누락된 기간을 사용하지 않음"
   ]
  },
  {
   "cell_type": "code",
   "execution_count": 1,
   "metadata": {},
   "outputs": [],
   "source": [
    "options( warn = -1 )"
   ]
  },
  {
   "cell_type": "code",
   "execution_count": 3,
   "metadata": {},
   "outputs": [],
   "source": [
    "# 누락된 데이터에 대치법을 시험하기 위한 데이터셋 준비\n",
    "\n",
    "# zoo 패키지는 시계열 기능 제공\n",
    "library(zoo)\n",
    "require(zoo)\n",
    "# data.table은 고성능 자료구조\n",
    "library(data.table)\n",
    "require(data.table)"
   ]
  },
  {
   "cell_type": "code",
   "execution_count": 4,
   "metadata": {},
   "outputs": [
    {
     "name": "stderr",
     "output_type": "stream",
     "text": [
      "Using libcurl 7.64.1 with Schannel\n"
     ]
    }
   ],
   "source": [
    "library(curl)"
   ]
  },
  {
   "cell_type": "code",
   "execution_count": 5,
   "metadata": {},
   "outputs": [],
   "source": [
    "# 1948년 이후 미국의 월간 실업 자료\n",
    "unemp <- fread(\"https://raw.githubusercontent.com/PracticalTimeSeriesAnalysis/BookRepo/master/Ch02/data/UNRATE.csv\")"
   ]
  },
  {
   "cell_type": "code",
   "execution_count": 6,
   "metadata": {},
   "outputs": [
    {
     "data": {
      "text/html": [
       "<table>\n",
       "<thead><tr><th scope=col>DATE</th><th scope=col>UNRATE</th></tr></thead>\n",
       "<tbody>\n",
       "\t<tr><td>1948-01-01</td><td>3.4       </td></tr>\n",
       "\t<tr><td>1948-02-01</td><td>3.8       </td></tr>\n",
       "\t<tr><td>1948-03-01</td><td>4.0       </td></tr>\n",
       "\t<tr><td>1948-04-01</td><td>3.9       </td></tr>\n",
       "\t<tr><td>1948-05-01</td><td>3.5       </td></tr>\n",
       "\t<tr><td>1948-06-01</td><td>3.6       </td></tr>\n",
       "</tbody>\n",
       "</table>\n"
      ],
      "text/latex": [
       "\\begin{tabular}{r|ll}\n",
       " DATE & UNRATE\\\\\n",
       "\\hline\n",
       "\t 1948-01-01 & 3.4       \\\\\n",
       "\t 1948-02-01 & 3.8       \\\\\n",
       "\t 1948-03-01 & 4.0       \\\\\n",
       "\t 1948-04-01 & 3.9       \\\\\n",
       "\t 1948-05-01 & 3.5       \\\\\n",
       "\t 1948-06-01 & 3.6       \\\\\n",
       "\\end{tabular}\n"
      ],
      "text/markdown": [
       "\n",
       "| DATE | UNRATE |\n",
       "|---|---|\n",
       "| 1948-01-01 | 3.4        |\n",
       "| 1948-02-01 | 3.8        |\n",
       "| 1948-03-01 | 4.0        |\n",
       "| 1948-04-01 | 3.9        |\n",
       "| 1948-05-01 | 3.5        |\n",
       "| 1948-06-01 | 3.6        |\n",
       "\n"
      ],
      "text/plain": [
       "  DATE       UNRATE\n",
       "1 1948-01-01 3.4   \n",
       "2 1948-02-01 3.8   \n",
       "3 1948-03-01 4.0   \n",
       "4 1948-04-01 3.9   \n",
       "5 1948-05-01 3.5   \n",
       "6 1948-06-01 3.6   "
      ]
     },
     "metadata": {},
     "output_type": "display_data"
    }
   ],
   "source": [
    "head(unemp)"
   ]
  },
  {
   "cell_type": "code",
   "execution_count": 7,
   "metadata": {},
   "outputs": [],
   "source": [
    "unemp[, DATE := as.Date(DATE)]\n",
    "setkey(unemp, DATE)"
   ]
  },
  {
   "cell_type": "code",
   "execution_count": 8,
   "metadata": {},
   "outputs": [
    {
     "data": {
      "text/html": [
       "'Date'"
      ],
      "text/latex": [
       "'Date'"
      ],
      "text/markdown": [
       "'Date'"
      ],
      "text/plain": [
       "[1] \"Date\""
      ]
     },
     "metadata": {},
     "output_type": "display_data"
    }
   ],
   "source": [
    "class(unemp[1,DATE])"
   ]
  },
  {
   "cell_type": "code",
   "execution_count": 9,
   "metadata": {},
   "outputs": [],
   "source": [
    "## 임의로 누락된 데이터로 구성된 데이터셋을 생성\n",
    "rand.unemp.idx <- sample(1:nrow(unemp), 0.1*nrow(unemp))\n",
    "rand.unemp <- unemp[-rand.unemp.idx]\n",
    "\n",
    "## 실업률이 높을 때 누락될 가능성이 더 높은 데이터로 구성된 데이터셋을 생성\n",
    "high.unemp.idx <- which(unemp$UNRATE > 8)\n",
    "num.to.select <-0.2* length(high.unemp.idx)\n",
    "\n",
    "high.unemp.idx <- sample(high.unemp.idx,)   # 무작위 추출, 크기를 지정하지 않았으면 무작위로 뒤섞음\n",
    "bias.unemp <- unemp[-high.unemp.idx]"
   ]
  },
  {
   "cell_type": "code",
   "execution_count": 10,
   "metadata": {},
   "outputs": [],
   "source": [
    "all.dates <- seq(from = unemp$DATE[1], to = tail(unemp$DATE,1), by = 'months')\n",
    "\n",
    "# data.table의 롤링 조인 연산 (설정된 기본키에 따라 조인한다. setkey)\n",
    "# 타임스탬프가 일치하지 않을때 직전 시점까지의 데이터로 조인해준다.\n",
    "rand.unemp = rand.unemp[J(all.dates),roll=0]   # key value가 all_dates인 것에 대해 조인 -> 760개의 데이터가 844개로 늘어남\n",
    "bias.unemp = bias.unemp[J(all.dates),roll=0]\n",
    "rand.unemp[,rpt := is.na(UNRATE)]"
   ]
  },
  {
   "cell_type": "code",
   "execution_count": 11,
   "metadata": {},
   "outputs": [
    {
     "data": {
      "text/html": [
       "84"
      ],
      "text/latex": [
       "84"
      ],
      "text/markdown": [
       "84"
      ],
      "text/plain": [
       "[1] 84"
      ]
     },
     "metadata": {},
     "output_type": "display_data"
    }
   ],
   "source": [
    "sum(rand.unemp$rpt)"
   ]
  },
  {
   "cell_type": "markdown",
   "metadata": {},
   "source": [
    "누락된 값들이 포함된 데이터셋이 만들어졌으니 값을 채울 수 있는 방법들을 살펴보도록 한다.\n",
    "\n",
    "### forward fill\n",
    "결측값이 나타나기 직전의 값으로 결측값을 채운다.<br>\n",
    "수식이나 논리가 필요없기 때문에 계산이 간단하고 쉽게 적용할 수 있다.<br>\n",
    "backward fill도 있으나 사전관찰이기 때문에 특정 상황하에서만 사용한다."
   ]
  },
  {
   "cell_type": "code",
   "execution_count": 12,
   "metadata": {},
   "outputs": [
    {
     "name": "stdout",
     "output_type": "stream",
     "text": [
      "[1] \"역삼각형 부분은 forward fill로 채워진 부분\"\n"
     ]
    },
    {
     "data": {
      "text/plain": [
       "NULL"
      ]
     },
     "metadata": {},
     "output_type": "display_data"
    },
    {
     "data": {
      "text/plain": [
       "NULL"
      ]
     },
     "metadata": {},
     "output_type": "display_data"
    },
    {
     "data": {
      "text/plain": [
       "NULL"
      ]
     },
     "metadata": {},
     "output_type": "display_data"
    },
    {
     "data": {
      "image/png": "[encoded data removed]",
      "text/plain": [
       "plot without title"
      ]
     },
     "metadata": {},
     "output_type": "display_data"
    }
   ],
   "source": [
    "# zoo패키지의 na.locf 함수 사용\n",
    "rand.unemp[,impute.ff := na.locf(UNRATE, na.rm = FALSE)]\n",
    "bias.unemp[,impute.ff := na.locf(UNRATE, na.rm = FALSE)]\n",
    "\n",
    "## 평평한 부분을 보여주는 샘플 그래프\n",
    "print('역삼각형 부분은 forward fill로 채워진 부분')\n",
    "unemp[350:400, plot(DATE, UNRATE, col=1, lwd=2, type='b')]\n",
    "rand.unemp[350:400, lines(DATE, impute.ff, col=2, lwd=2, lty=2)]\n",
    "rand.unemp[350:400][rpt == TRUE, points(DATE, impute.ff, col=2, pch=6, cex=2)]"
   ]
  },
  {
   "cell_type": "markdown",
   "metadata": {},
   "source": [
    "### 이동평균(moving average)\n",
    "전체 평균에 관한 개별 데이터값을 의심할 만한 이유가 있다면 포워드 필보다는 이동평균을 사용해야한다.<br>\n",
    "포워드 필에 의해 채워진 값은 누락된 값의 실제 관측 값보다 임의의 노이즈를 포함하는데 이동평균은 이러한 노이즈의 일부를 제거할 수 있다.<br>\n",
    "\n",
    "사전관찰을 방지하기 위해서는 누락이 발생되기 전의 데이터만 사용해야한다."
   ]
  },
  {
   "cell_type": "code",
   "execution_count": 13,
   "metadata": {},
   "outputs": [
    {
     "name": "stdout",
     "output_type": "stream",
     "text": [
      "[1] \"녹색은 사전관찰을 배제하기 위해 앞의 세 포인트들로 평균, 붉은 색은 앞 뒤 데이터를 모두 사용해 이동평균한 것\"\n"
     ]
    },
    {
     "data": {
      "text/plain": [
       "NULL"
      ]
     },
     "metadata": {},
     "output_type": "display_data"
    },
    {
     "data": {
      "text/plain": [
       "NULL"
      ]
     },
     "metadata": {},
     "output_type": "display_data"
    },
    {
     "data": {
      "text/plain": [
       "NULL"
      ]
     },
     "metadata": {},
     "output_type": "display_data"
    },
    {
     "data": {
      "text/plain": [
       "NULL"
      ]
     },
     "metadata": {},
     "output_type": "display_data"
    },
    {
     "data": {
      "text/plain": [
       "NULL"
      ]
     },
     "metadata": {},
     "output_type": "display_data"
    },
    {
     "data": {
      "image/png": "[encoded data removed]",
      "text/plain": [
       "plot without title"
      ]
     },
     "metadata": {},
     "output_type": "display_data"
    }
   ],
   "source": [
    "# 마지막 값을 색인하고 이 값을 사용해 누락 여부의 검사 및 대체\n",
    "rand.unemp[, impute.rm.nolookahead := rollapply(c(NA,NA, UNRATE),3,\n",
    "                                                  function(x){\n",
    "                                                      if (!is.na(x[3])) x[3] else mean(x, na.rm=T)\n",
    "                                                  })]\n",
    "bias.unemp[, impute.rm.nolookahead := rollapply(c(NA,NA, UNRATE),3,\n",
    "                                                  function(x){\n",
    "                                                      if (!is.na(x[3])) x[3] else mean(x, na.rm=T)\n",
    "                                                  })]\n",
    "\n",
    "# 사전관찰을 고려하지 않는 경우 앞뒤 데이터를 모두 활용하는 rolling window 적용가능\n",
    "rand.unemp[,complete.rm := rollapply(c(NA, UNRATE, NA),3,\n",
    "                                    function(x){\n",
    "                                        if (!is.na(x[2])) x[2]\n",
    "                                        else mean(x,na.rm = T)\n",
    "                                    })]\n",
    "print('녹색은 사전관찰을 배제하기 위해 앞의 세 포인트들로 평균, 붉은 색은 앞 뒤 데이터를 모두 사용해 이동평균한 것')\n",
    "unemp[350:400, plot(DATE, UNRATE, col=1, lwd=2, type='b')]\n",
    "rand.unemp[350:400, lines(DATE, impute.rm.nolookahead, col=3, lwd=2, lty=2)]\n",
    "rand.unemp[350:400][rpt == TRUE, points(DATE, impute.rm.nolookahead, col=3, pch=2, cex=2)]\n",
    "rand.unemp[350:400, lines(DATE, complete.rm, col=2, lwd=2, lty=2)]\n",
    "rand.unemp[350:400][rpt == TRUE, points(DATE, complete.rm, col=2, pch=6, cex=2)]"
   ]
  },
  {
   "cell_type": "markdown",
   "metadata": {},
   "source": [
    "롤링 평균에 의한 데이터 대치는 데이터셋의 분산 정도를 줄여주기 때문에 모델 지표 계산시 성능을 과대 평가하는 문제에 맞닥드릴 수 있다.\n",
    "\n",
    "## 보간법\n",
    "- 선형보간법(linear interpolation) : 누락된 데이터가 주변 데티터에 선형적인 일관성을 갖도록 제한 $\\rightarrow$ 시간에 따라 시스템이 동작하는 방법을 이미 알고 있고, 그 지식을 활용할 때 유용(대치에 선험성(prior)을 사용할 수 있음)\n"
   ]
  },
  {
   "cell_type": "code",
   "execution_count": 14,
   "metadata": {},
   "outputs": [
    {
     "name": "stdout",
     "output_type": "stream",
     "text": [
      "[1] \"붉은 선은 선형보간, 녹색 선은 다항식 보간\"\n"
     ]
    },
    {
     "data": {
      "text/plain": [
       "NULL"
      ]
     },
     "metadata": {},
     "output_type": "display_data"
    },
    {
     "data": {
      "text/plain": [
       "NULL"
      ]
     },
     "metadata": {},
     "output_type": "display_data"
    },
    {
     "data": {
      "text/plain": [
       "NULL"
      ]
     },
     "metadata": {},
     "output_type": "display_data"
    },
    {
     "data": {
      "image/png": "[encoded data removed]",
      "text/plain": [
       "plot without title"
      ]
     },
     "metadata": {},
     "output_type": "display_data"
    }
   ],
   "source": [
    "# 과거와 미래 데이터 모두를 사용해 보간법을 적용\n",
    "\n",
    "## 선형 보간법\n",
    "rand.unemp[, impute.li := na.approx(UNRATE)]\n",
    "bias.unemp[, impute.li := na.approx(UNRATE)]\n",
    "\n",
    "## 다항식 보간법\n",
    "rand.unemp[, impute.sp := na.spline(UNRATE)]\n",
    "bias.unemp[, impute.sp := na.spline(UNRATE)]\n",
    "\n",
    "print('붉은 선은 선형보간, 녹색 선은 다항식 보간')\n",
    "use.idx = 120:150\n",
    "unemp[use.idx, plot(DATE,UNRATE, col=1, type='b')]\n",
    "rand.unemp[use.idx, lines(DATE, impute.li, col=2, lwd=2, lty=2)]\n",
    "rand.unemp[use.idx, lines(DATE, impute.sp, col=3, lwd=2, lty=2)]"
   ]
  },
  {
   "cell_type": "markdown",
   "metadata": {},
   "source": [
    "## 비교\n",
    "평균제곱오차가 높은 비율로 나열"
   ]
  },
  {
   "cell_type": "code",
   "execution_count": 15,
   "metadata": {
    "scrolled": true
   },
   "outputs": [
    {
     "data": {
      "text/html": [
       "<table>\n",
       "<thead><tr><th scope=col>impute.li</th><th scope=col>impute.sp</th><th scope=col>complete.rm</th><th scope=col>impute.ff</th><th scope=col>impute.rm.nolookahead</th></tr></thead>\n",
       "<tbody>\n",
       "\t<tr><td>0.001424105</td><td>0.00151109 </td><td>0.001561019</td><td>0.003672986</td><td>0.005536137</td></tr>\n",
       "</tbody>\n",
       "</table>\n"
      ],
      "text/latex": [
       "\\begin{tabular}{r|lllll}\n",
       " impute.li & impute.sp & complete.rm & impute.ff & impute.rm.nolookahead\\\\\n",
       "\\hline\n",
       "\t 0.001424105 & 0.00151109  & 0.001561019 & 0.003672986 & 0.005536137\\\\\n",
       "\\end{tabular}\n"
      ],
      "text/markdown": [
       "\n",
       "| impute.li | impute.sp | complete.rm | impute.ff | impute.rm.nolookahead |\n",
       "|---|---|---|---|---|\n",
       "| 0.001424105 | 0.00151109  | 0.001561019 | 0.003672986 | 0.005536137 |\n",
       "\n"
      ],
      "text/plain": [
       "  impute.li   impute.sp  complete.rm impute.ff   impute.rm.nolookahead\n",
       "1 0.001424105 0.00151109 0.001561019 0.003672986 0.005536137          "
      ]
     },
     "metadata": {},
     "output_type": "display_data"
    }
   ],
   "source": [
    "sort(rand.unemp[,lapply(.SD, function(x) mean((x-unemp$UNRATE)^2, na.rm=T)), \n",
    "                        .SDcols = c('impute.ff','complete.rm','impute.rm.nolookahead','impute.li','impute.sp')])"
   ]
  },
  {
   "cell_type": "code",
   "execution_count": 16,
   "metadata": {},
   "outputs": [
    {
     "data": {
      "text/html": [
       "TRUE"
      ],
      "text/latex": [
       "TRUE"
      ],
      "text/markdown": [
       "TRUE"
      ],
      "text/plain": [
       "[1] TRUE"
      ]
     },
     "metadata": {},
     "output_type": "display_data"
    }
   ],
   "source": [
    "setequal(rand.unemp[,.SD],rand.unemp)"
   ]
  },
  {
   "cell_type": "markdown",
   "metadata": {},
   "source": [
    "## 업샘플링과 다운샘플링\n",
    "\n",
    "### 다운샘플링\n",
    "데이터의 빈도를 줄임<br>\n",
    "- 원본 데이터의 시간 단위가 실용적이지 않은 경우\n",
    "    - ex) 너무 잦은 측정\n",
    "- 계절 주기의 특정 부분에 집중하는 경우\n",
    "    - 데이터의 전반적인 계절성에 신경쓰기 보다 하나의 특정 계절에만 초점을 맞추는 시계열 데이터\n",
    "- 더 낮은 빈도의 데이터에 맞추는 경우\n",
    "    - 평균, 합계, 나중 데이터에 가중치를 주는 가중 평균 등을 사용"
   ]
  },
  {
   "cell_type": "code",
   "execution_count": 18,
   "metadata": {},
   "outputs": [
    {
     "data": {
      "text/html": [
       "<table>\n",
       "<thead><tr><th scope=col>DATE</th><th scope=col>UNRATE</th></tr></thead>\n",
       "<tbody>\n",
       "\t<tr><td>1948-01-01</td><td>3.4       </td></tr>\n",
       "\t<tr><td>1949-01-01</td><td>4.3       </td></tr>\n",
       "\t<tr><td>1950-01-01</td><td>6.5       </td></tr>\n",
       "\t<tr><td>1951-01-01</td><td>3.7       </td></tr>\n",
       "\t<tr><td>1952-01-01</td><td>3.2       </td></tr>\n",
       "\t<tr><td>1953-01-01</td><td>2.9       </td></tr>\n",
       "</tbody>\n",
       "</table>\n"
      ],
      "text/latex": [
       "\\begin{tabular}{r|ll}\n",
       " DATE & UNRATE\\\\\n",
       "\\hline\n",
       "\t 1948-01-01 & 3.4       \\\\\n",
       "\t 1949-01-01 & 4.3       \\\\\n",
       "\t 1950-01-01 & 6.5       \\\\\n",
       "\t 1951-01-01 & 3.7       \\\\\n",
       "\t 1952-01-01 & 3.2       \\\\\n",
       "\t 1953-01-01 & 2.9       \\\\\n",
       "\\end{tabular}\n"
      ],
      "text/markdown": [
       "\n",
       "| DATE | UNRATE |\n",
       "|---|---|\n",
       "| 1948-01-01 | 3.4        |\n",
       "| 1949-01-01 | 4.3        |\n",
       "| 1950-01-01 | 6.5        |\n",
       "| 1951-01-01 | 3.7        |\n",
       "| 1952-01-01 | 3.2        |\n",
       "| 1953-01-01 | 2.9        |\n",
       "\n"
      ],
      "text/plain": [
       "  DATE       UNRATE\n",
       "1 1948-01-01 3.4   \n",
       "2 1949-01-01 4.3   \n",
       "3 1950-01-01 6.5   \n",
       "4 1951-01-01 3.7   \n",
       "5 1952-01-01 3.2   \n",
       "6 1953-01-01 2.9   "
      ]
     },
     "metadata": {},
     "output_type": "display_data"
    }
   ],
   "source": [
    "# 1월 데이터에 집중\n",
    "head(unemp[seq.int(from=1, to=nrow(unemp),  by=12)])"
   ]
  },
  {
   "cell_type": "code",
   "execution_count": 21,
   "metadata": {},
   "outputs": [
    {
     "data": {
      "text/html": [
       "<table>\n",
       "<thead><tr><th scope=col>format</th><th scope=col>V1</th></tr></thead>\n",
       "<tbody>\n",
       "\t<tr><td>1948    </td><td>3.750000</td></tr>\n",
       "\t<tr><td>1949    </td><td>6.050000</td></tr>\n",
       "\t<tr><td>1950    </td><td>5.208333</td></tr>\n",
       "\t<tr><td>1951    </td><td>3.283333</td></tr>\n",
       "\t<tr><td>1952    </td><td>3.025000</td></tr>\n",
       "\t<tr><td>1953    </td><td>2.925000</td></tr>\n",
       "</tbody>\n",
       "</table>\n"
      ],
      "text/latex": [
       "\\begin{tabular}{r|ll}\n",
       " format & V1\\\\\n",
       "\\hline\n",
       "\t 1948     & 3.750000\\\\\n",
       "\t 1949     & 6.050000\\\\\n",
       "\t 1950     & 5.208333\\\\\n",
       "\t 1951     & 3.283333\\\\\n",
       "\t 1952     & 3.025000\\\\\n",
       "\t 1953     & 2.925000\\\\\n",
       "\\end{tabular}\n"
      ],
      "text/markdown": [
       "\n",
       "| format | V1 |\n",
       "|---|---|\n",
       "| 1948     | 3.750000 |\n",
       "| 1949     | 6.050000 |\n",
       "| 1950     | 5.208333 |\n",
       "| 1951     | 3.283333 |\n",
       "| 1952     | 3.025000 |\n",
       "| 1953     | 2.925000 |\n",
       "\n"
      ],
      "text/plain": [
       "  format V1      \n",
       "1 1948   3.750000\n",
       "2 1949   6.050000\n",
       "3 1950   5.208333\n",
       "4 1951   3.283333\n",
       "5 1952   3.025000\n",
       "6 1953   2.925000"
      ]
     },
     "metadata": {},
     "output_type": "display_data"
    }
   ],
   "source": [
    "# 년도별 실업률의 평균\n",
    "head(unemp[,mean(UNRATE), by=format(DATE,'%Y')])"
   ]
  },
  {
   "cell_type": "markdown",
   "metadata": {},
   "source": [
    "### 업샘플링\n",
    "실제로 측정하는 것은 아니지만 측정된 데이터에서 더 조밀한 시간의 데이터를 얻기 위한 시도 $\\rightarrow$더 많은 시간의 레이블이 추가되는 것은 맞지만, 더 많은 정보 자체가 추가되는 것은 아님\n",
    "- 시계열이 불규칙적인 상황\n",
    "    - 데이터 사이의 시차보다 더 높은 빈도로 전체 데이터를 변환할 가능성이 높기 때문에 업샘플링의 한 형태로 볼 수 있다.$\\rightarrow$롤링 조인 사용\n",
    "- 입력이 서로 다른 빈도로 샘플링된 상황\n",
    "    - 서로 다른 빈도를 같은 시간대로 정렬하기 위해 업샘플링이 필요하지만 사전관찰의 위험이 따름"
   ]
  },
  {
   "cell_type": "code",
   "execution_count": 43,
   "metadata": {},
   "outputs": [],
   "source": [
    "# 시계열이 불규칙적인 상황\n",
    "all.dates <- seq(from = unemp$DATE[1], to=tail(unemp$DATE,1),by = 'months')\n",
    "setkey(rand.unemp, DATE)\n",
    "rand.unemp = rand.unemp[J(all.dates), roll=0]"
   ]
  },
  {
   "cell_type": "code",
   "execution_count": 45,
   "metadata": {},
   "outputs": [
    {
     "data": {
      "text/html": [
       "<table>\n",
       "<thead><tr><th scope=col>DATE</th><th scope=col>UNRATE</th></tr></thead>\n",
       "<tbody>\n",
       "\t<tr><td>1948-01-01</td><td>3.4       </td></tr>\n",
       "\t<tr><td>1948-01-02</td><td>3.4       </td></tr>\n",
       "\t<tr><td>1948-01-03</td><td>3.4       </td></tr>\n",
       "\t<tr><td>1948-01-04</td><td>3.4       </td></tr>\n",
       "\t<tr><td>1948-01-05</td><td>3.4       </td></tr>\n",
       "\t<tr><td>1948-01-06</td><td>3.4       </td></tr>\n",
       "</tbody>\n",
       "</table>\n"
      ],
      "text/latex": [
       "\\begin{tabular}{r|ll}\n",
       " DATE & UNRATE\\\\\n",
       "\\hline\n",
       "\t 1948-01-01 & 3.4       \\\\\n",
       "\t 1948-01-02 & 3.4       \\\\\n",
       "\t 1948-01-03 & 3.4       \\\\\n",
       "\t 1948-01-04 & 3.4       \\\\\n",
       "\t 1948-01-05 & 3.4       \\\\\n",
       "\t 1948-01-06 & 3.4       \\\\\n",
       "\\end{tabular}\n"
      ],
      "text/markdown": [
       "\n",
       "| DATE | UNRATE |\n",
       "|---|---|\n",
       "| 1948-01-01 | 3.4        |\n",
       "| 1948-01-02 | 3.4        |\n",
       "| 1948-01-03 | 3.4        |\n",
       "| 1948-01-04 | 3.4        |\n",
       "| 1948-01-05 | 3.4        |\n",
       "| 1948-01-06 | 3.4        |\n",
       "\n"
      ],
      "text/plain": [
       "  DATE       UNRATE\n",
       "1 1948-01-01 3.4   \n",
       "2 1948-01-02 3.4   \n",
       "3 1948-01-03 3.4   \n",
       "4 1948-01-04 3.4   \n",
       "5 1948-01-05 3.4   \n",
       "6 1948-01-06 3.4   "
      ]
     },
     "metadata": {},
     "output_type": "display_data"
    }
   ],
   "source": [
    "# 입력이 서로 다른 빈도로 샘플링된 상황\n",
    "all.dates <- seq(from = unemp$DATE[1], to=tail(unemp$DATE,1),by = 'days')\n",
    "daily.unemployment = unemp[J(all.dates), roll=31]\n",
    "head(daily.unemployment)"
   ]
  },
  {
   "cell_type": "markdown",
   "metadata": {},
   "source": [
    "## 데이터 평활\n",
    "데이터 평활의 이유 : 측정의 오류, 높게 튀는 측정치(정확한 것일지라도 근복적인 공정을 반영한 결과가 아닐 가능성 있음) 두 개를 모두 제거하기 위해 이동평균을 사용해 볼 수 있다.\n",
    "\n",
    "### 지수평활\n",
    "최근에 측정된 데이터에 더 큰 가중치를 주고 싶은 경우<br>\n",
    "시간 $t$에서 평활된 값 : $S_t = d \\times S_{t-1} + (1-d) \\times x_t$<br>\n",
    "시간 $t-1$에서 평활된 값 : $S_{t-1} = d \\times S_{t-2} + (1-d) \\times x_{t-1}$\n",
    "\n",
    "$\\Rightarrow S_t = d\\times(d\\times S_{t-2} + (1-d)\\times x_{t-1})+(1-d)\\times x_t$<br>\n",
    "$\\Rightarrow d^3 \\times x_{t-3} + d^2 \\times x_{t-2} + d \\times x_{t-1}$과 같은 연쇄적 형태\n",
    "\n",
    "$\\Rightarrow$ 파이썬 코드로 소개"
   ]
  },
  {
   "cell_type": "markdown",
   "metadata": {},
   "source": [
    "# 계절성 데이터\n",
    "일련의 동작이 정해진 기간 동안 반복되는 시계열<br>\n",
    "순환성 시계열 역시 반복적인 동작을 보이기는 하지만, 기간이 가변적이라는 점이 다름(ex)주식시장의 호황과 불황 주기)"
   ]
  },
  {
   "cell_type": "code",
   "execution_count": 46,
   "metadata": {},
   "outputs": [
    {
     "data": {
      "image/png": "[encoded data removed]",
      "text/plain": [
       "plot without title"
      ]
     },
     "metadata": {},
     "output_type": "display_data"
    }
   ],
   "source": [
    "plot(stl(AirPassengers,'periodic'))"
   ]
  },
  {
   "cell_type": "code",
   "execution_count": null,
   "metadata": {},
   "outputs": [],
   "source": []
  }
 ],
 "metadata": {
  "kernelspec": {
   "display_name": "R",
   "language": "R",
   "name": "ir"
  },
  "language_info": {
   "codemirror_mode": "r",
   "file_extension": ".r",
   "mimetype": "text/x-r-source",
   "name": "R",
   "pygments_lexer": "r",
   "version": "3.6.1"
  }
 },
 "nbformat": 4,
 "nbformat_minor": 2
}
