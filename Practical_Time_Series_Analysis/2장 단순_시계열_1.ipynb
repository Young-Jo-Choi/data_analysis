{
 "cells": [
  {
   "cell_type": "code",
   "execution_count": 1,
   "metadata": {},
   "outputs": [],
   "source": [
    "import numpy as np\n",
    "import matplotlib.pyplot as plt\n",
    "import pandas as pd\n",
    "import seaborn as sns"
   ]
  },
  {
   "cell_type": "code",
   "execution_count": 2,
   "metadata": {},
   "outputs": [],
   "source": [
    "import warnings\n",
    "warnings.filterwarnings('ignore')\n",
    "from IPython.display import display\n",
    "import os"
   ]
  },
  {
   "cell_type": "code",
   "execution_count": 3,
   "metadata": {},
   "outputs": [],
   "source": [
    "from datetime import datetime"
   ]
  },
  {
   "cell_type": "markdown",
   "metadata": {},
   "source": [
    "시간에 대응할 수 있는 변수가 존재하는 데이터셋이라면 시계열이 있다고 본다.\n",
    "\n",
    "# 테이블 집합에서 시계열 데이터 집합 개선하기\n",
    "\n",
    "시계열의 대표적 예는 SQL DB에 저장된 상태 및 이벤트형 데이터로부터 추출된 데이터이다. 다음과 같이 시계열 분석에 도움이 되는 요소가 추가되어있다고 가정해보자.\n",
    "1. 시간이 지나면서 바뀌는 메일 수신자의 반응 : 메일을 읽었는가 읽지 않았는가\n",
    "2. 멤버십 내역 : 회원이 회원 자격을 상실한 기간이 있었는가\n",
    "3. 거래 내역 : 소비자가 특정 항목을 언제 구매할지 예측할 수 있는가\n",
    "\n",
    "위와 같은 것들은 몇가지 시계열 기법으로 살펴볼 수 있다.\n",
    "1. 메일에 응답한 회원과 회원별 응답 시간의 관계를 히스토그램으로 만들어서 메일 수신에 따른 회원의 피로감을 알 수 있다.\n",
    "2. 기부 예측은 시계열 예측 문제로 전환할 수 있다.\n",
    "3.  중요한 상황에서 회원의 행동 자취에 대한 전형적인 패턴의 유무를 검사해볼 수 있다. ex)이메일 세 개를 연달아 지움\n",
    "\n",
    "보통의 DB 스키마를 설계할 때 시계열 분석을 고려하지 않는것이 보통이다. 이러한 경우 서로 다른 테이블과 자료로부터 시계열을 수집하고 구성할 필요가 있다.\n",
    "\n",
    "## 시계열 데이터 집합 조립\n",
    "다음과 같은 데이터가 생성되어 있다고 하자 (인덱스 무시)"
   ]
  },
  {
   "cell_type": "code",
   "execution_count": 4,
   "metadata": {},
   "outputs": [],
   "source": [
    "YearJoined = pd.read_csv(\"https://raw.githubusercontent.com/PracticalTimeSeriesAnalysis/BookRepo/master/Ch02/data/year_joined.csv\")\n",
    "emails = pd.read_csv(\"https://raw.githubusercontent.com/PracticalTimeSeriesAnalysis/BookRepo/master/Ch02/data/emails.csv\")\n",
    "donations = pd.read_csv(\"https://raw.githubusercontent.com/PracticalTimeSeriesAnalysis/BookRepo/master/Ch02/data/donations.csv\")\n"
   ]
  },
  {
   "cell_type": "code",
   "execution_count": 5,
   "metadata": {},
   "outputs": [
    {
     "data": {
      "text/html": [
       "<div>\n",
       "<style scoped>\n",
       "    .dataframe tbody tr th:only-of-type {\n",
       "        vertical-align: middle;\n",
       "    }\n",
       "\n",
       "    .dataframe tbody tr th {\n",
       "        vertical-align: top;\n",
       "    }\n",
       "\n",
       "    .dataframe thead th {\n",
       "        text-align: right;\n",
       "    }\n",
       "</style>\n",
       "<table border=\"1\" class=\"dataframe\">\n",
       "  <thead>\n",
       "    <tr style=\"text-align: right;\">\n",
       "      <th></th>\n",
       "      <th>user</th>\n",
       "      <th>userStats</th>\n",
       "      <th>yearJoined</th>\n",
       "    </tr>\n",
       "  </thead>\n",
       "  <tbody>\n",
       "    <tr>\n",
       "      <td>0</td>\n",
       "      <td>0</td>\n",
       "      <td>silver</td>\n",
       "      <td>2014</td>\n",
       "    </tr>\n",
       "    <tr>\n",
       "      <td>1</td>\n",
       "      <td>1</td>\n",
       "      <td>silver</td>\n",
       "      <td>2015</td>\n",
       "    </tr>\n",
       "    <tr>\n",
       "      <td>2</td>\n",
       "      <td>2</td>\n",
       "      <td>silver</td>\n",
       "      <td>2016</td>\n",
       "    </tr>\n",
       "    <tr>\n",
       "      <td>3</td>\n",
       "      <td>3</td>\n",
       "      <td>bronze</td>\n",
       "      <td>2018</td>\n",
       "    </tr>\n",
       "    <tr>\n",
       "      <td>4</td>\n",
       "      <td>4</td>\n",
       "      <td>silver</td>\n",
       "      <td>2018</td>\n",
       "    </tr>\n",
       "  </tbody>\n",
       "</table>\n",
       "</div>"
      ],
      "text/plain": [
       "   user userStats  yearJoined\n",
       "0     0    silver        2014\n",
       "1     1    silver        2015\n",
       "2     2    silver        2016\n",
       "3     3    bronze        2018\n",
       "4     4    silver        2018"
      ]
     },
     "metadata": {},
     "output_type": "display_data"
    },
    {
     "data": {
      "text/html": [
       "<div>\n",
       "<style scoped>\n",
       "    .dataframe tbody tr th:only-of-type {\n",
       "        vertical-align: middle;\n",
       "    }\n",
       "\n",
       "    .dataframe tbody tr th {\n",
       "        vertical-align: top;\n",
       "    }\n",
       "\n",
       "    .dataframe thead th {\n",
       "        text-align: right;\n",
       "    }\n",
       "</style>\n",
       "<table border=\"1\" class=\"dataframe\">\n",
       "  <thead>\n",
       "    <tr style=\"text-align: right;\">\n",
       "      <th></th>\n",
       "      <th>emailsOpened</th>\n",
       "      <th>user</th>\n",
       "      <th>week</th>\n",
       "    </tr>\n",
       "  </thead>\n",
       "  <tbody>\n",
       "    <tr>\n",
       "      <td>0</td>\n",
       "      <td>3.0</td>\n",
       "      <td>1.0</td>\n",
       "      <td>2015-06-29 00:00:00</td>\n",
       "    </tr>\n",
       "    <tr>\n",
       "      <td>1</td>\n",
       "      <td>2.0</td>\n",
       "      <td>1.0</td>\n",
       "      <td>2015-07-13 00:00:00</td>\n",
       "    </tr>\n",
       "    <tr>\n",
       "      <td>2</td>\n",
       "      <td>2.0</td>\n",
       "      <td>1.0</td>\n",
       "      <td>2015-07-20 00:00:00</td>\n",
       "    </tr>\n",
       "    <tr>\n",
       "      <td>3</td>\n",
       "      <td>3.0</td>\n",
       "      <td>1.0</td>\n",
       "      <td>2015-07-27 00:00:00</td>\n",
       "    </tr>\n",
       "    <tr>\n",
       "      <td>4</td>\n",
       "      <td>1.0</td>\n",
       "      <td>1.0</td>\n",
       "      <td>2015-08-03 00:00:00</td>\n",
       "    </tr>\n",
       "  </tbody>\n",
       "</table>\n",
       "</div>"
      ],
      "text/plain": [
       "   emailsOpened  user                 week\n",
       "0           3.0   1.0  2015-06-29 00:00:00\n",
       "1           2.0   1.0  2015-07-13 00:00:00\n",
       "2           2.0   1.0  2015-07-20 00:00:00\n",
       "3           3.0   1.0  2015-07-27 00:00:00\n",
       "4           1.0   1.0  2015-08-03 00:00:00"
      ]
     },
     "metadata": {},
     "output_type": "display_data"
    },
    {
     "data": {
      "text/html": [
       "<div>\n",
       "<style scoped>\n",
       "    .dataframe tbody tr th:only-of-type {\n",
       "        vertical-align: middle;\n",
       "    }\n",
       "\n",
       "    .dataframe tbody tr th {\n",
       "        vertical-align: top;\n",
       "    }\n",
       "\n",
       "    .dataframe thead th {\n",
       "        text-align: right;\n",
       "    }\n",
       "</style>\n",
       "<table border=\"1\" class=\"dataframe\">\n",
       "  <thead>\n",
       "    <tr style=\"text-align: right;\">\n",
       "      <th></th>\n",
       "      <th>amount</th>\n",
       "      <th>timestamp</th>\n",
       "      <th>user</th>\n",
       "    </tr>\n",
       "  </thead>\n",
       "  <tbody>\n",
       "    <tr>\n",
       "      <td>0</td>\n",
       "      <td>25.0</td>\n",
       "      <td>2017-11-12 11:13:44</td>\n",
       "      <td>0.0</td>\n",
       "    </tr>\n",
       "    <tr>\n",
       "      <td>1</td>\n",
       "      <td>50.0</td>\n",
       "      <td>2015-08-25 19:01:45</td>\n",
       "      <td>0.0</td>\n",
       "    </tr>\n",
       "    <tr>\n",
       "      <td>2</td>\n",
       "      <td>25.0</td>\n",
       "      <td>2015-03-26 12:03:47</td>\n",
       "      <td>0.0</td>\n",
       "    </tr>\n",
       "    <tr>\n",
       "      <td>3</td>\n",
       "      <td>50.0</td>\n",
       "      <td>2016-07-06 12:24:55</td>\n",
       "      <td>0.0</td>\n",
       "    </tr>\n",
       "    <tr>\n",
       "      <td>4</td>\n",
       "      <td>50.0</td>\n",
       "      <td>2016-05-11 18:13:04</td>\n",
       "      <td>1.0</td>\n",
       "    </tr>\n",
       "  </tbody>\n",
       "</table>\n",
       "</div>"
      ],
      "text/plain": [
       "   amount            timestamp  user\n",
       "0    25.0  2017-11-12 11:13:44   0.0\n",
       "1    50.0  2015-08-25 19:01:45   0.0\n",
       "2    25.0  2015-03-26 12:03:47   0.0\n",
       "3    50.0  2016-07-06 12:24:55   0.0\n",
       "4    50.0  2016-05-11 18:13:04   1.0"
      ]
     },
     "metadata": {},
     "output_type": "display_data"
    }
   ],
   "source": [
    "display(YearJoined.head())\n",
    "display(emails.head())\n",
    "display(donations.head())"
   ]
  },
  {
   "cell_type": "code",
   "execution_count": 6,
   "metadata": {},
   "outputs": [
    {
     "name": "stdout",
     "output_type": "stream",
     "text": [
      "(1000, 3) (25488, 3) (2676, 3)\n"
     ]
    }
   ],
   "source": [
    "print(YearJoined.shape, emails.shape, donations.shape)"
   ]
  },
  {
   "cell_type": "code",
   "execution_count": 7,
   "metadata": {},
   "outputs": [
    {
     "data": {
      "text/html": [
       "<div>\n",
       "<style scoped>\n",
       "    .dataframe tbody tr th:only-of-type {\n",
       "        vertical-align: middle;\n",
       "    }\n",
       "\n",
       "    .dataframe tbody tr th {\n",
       "        vertical-align: top;\n",
       "    }\n",
       "\n",
       "    .dataframe thead th {\n",
       "        text-align: right;\n",
       "    }\n",
       "</style>\n",
       "<table border=\"1\" class=\"dataframe\">\n",
       "  <thead>\n",
       "    <tr style=\"text-align: right;\">\n",
       "      <th></th>\n",
       "      <th>yearJoined</th>\n",
       "    </tr>\n",
       "    <tr>\n",
       "      <th>userStats</th>\n",
       "      <th></th>\n",
       "    </tr>\n",
       "  </thead>\n",
       "  <tbody>\n",
       "    <tr>\n",
       "      <td>1</td>\n",
       "      <td>1000</td>\n",
       "    </tr>\n",
       "  </tbody>\n",
       "</table>\n",
       "</div>"
      ],
      "text/plain": [
       "           yearJoined\n",
       "userStats            \n",
       "1                1000"
      ]
     },
     "execution_count": 7,
     "metadata": {},
     "output_type": "execute_result"
    }
   ],
   "source": [
    "# 1000명의 모든 회원이 단 하나의 상태만을 가진다. \n",
    "# 그러므로 YearJoined는 각 회원이 가입한 연도와 더불어 현재 또는 가입 당시의 상태를 나타낼 가능성이 높다.\n",
    "YearJoined.groupby('user').count().groupby('userStats').count()"
   ]
  },
  {
   "cell_type": "markdown",
   "metadata": {},
   "source": [
    "### 사전관찰(look-ahead)\n",
    "데이터를 통해 실제로 알아야하는 시점보다 더 일찍 미래에 대한 사실을 발견하는 방법. 어떨게든 미래에 일어날 일에 대한 정보가 모델에서 시간을 거슬러 전파되어 모델의 초기 동작에 영향을 주는 방법이다.<br>\n",
    "과거 데이터 분석에 회원의 현재 상태를 적용하면 그때는 알 수 없는 시계열 모델에 무언가를 입력해주기 때문에 사전관찰이라고 볼 수 있다.\n",
    "\n",
    "### email 데이터\n",
    "week열의 경우 데이터가 매주 특정 시점 또는 매주의 기간에 대한 기록임을 알 수 있다. 일부 중요한 특징들을 평가해봐야하는데 예를 들어 어떤 방식으로 주(week)를 시간(time)으로 표현했는지와 같은 것이다. 일반적으로 산업에서 사용하는 방법과 비교하여 이상하게 주가 나눠져 있다면 어떤 방식을 사용했는지 알아야한다. 대개 일요일\\~토요일 혹은 월요일\\~일요일로 주를 정하는 것이 좋다. 1월 1일을 한 주의 시작으로 정해서는 안된다.<br>\n",
    "어떤 주에 null이 있는지 역시 확인해야한다. 즉 특정 회원이 단 한번도 이메일을 열람하지 않은 주가 있는지에 대한 것이다. 시간 지향적인 모델을 만든다면 이런 사실이 중요한데 아무런 일도 발생하지 않은 주 역시 데이터의 일부이기 때문이다."
   ]
  },
  {
   "cell_type": "code",
   "execution_count": 8,
   "metadata": {},
   "outputs": [
    {
     "data": {
      "text/html": [
       "<div>\n",
       "<style scoped>\n",
       "    .dataframe tbody tr th:only-of-type {\n",
       "        vertical-align: middle;\n",
       "    }\n",
       "\n",
       "    .dataframe tbody tr th {\n",
       "        vertical-align: top;\n",
       "    }\n",
       "\n",
       "    .dataframe thead th {\n",
       "        text-align: right;\n",
       "    }\n",
       "</style>\n",
       "<table border=\"1\" class=\"dataframe\">\n",
       "  <thead>\n",
       "    <tr style=\"text-align: right;\">\n",
       "      <th></th>\n",
       "      <th>emailsOpened</th>\n",
       "      <th>user</th>\n",
       "      <th>week</th>\n",
       "    </tr>\n",
       "  </thead>\n",
       "  <tbody>\n",
       "  </tbody>\n",
       "</table>\n",
       "</div>"
      ],
      "text/plain": [
       "Empty DataFrame\n",
       "Columns: [emailsOpened, user, week]\n",
       "Index: []"
      ]
     },
     "execution_count": 8,
     "metadata": {},
     "output_type": "execute_result"
    }
   ],
   "source": [
    "# null이 아예 발생하지 않았거나 모든 회원이 이메일을 열람했다는 이벤트가 적어도 하나 존재한다는 두 가지 가능성이 있다.\n",
    "# 이메일을 열람하도록 사람들을 유도하는 것은 어렵기 때문에 모든 회원이 매주 적어도 한 번은 이메일을 열람한다는 것은 가능성이 낮다.\n",
    "emails[emails.emailsOpened < 1]"
   ]
  },
  {
   "cell_type": "code",
   "execution_count": 9,
   "metadata": {},
   "outputs": [
    {
     "data": {
      "text/plain": [
       "3.0    15350\n",
       "1.0     5070\n",
       "2.0     5068\n",
       "Name: emailsOpened, dtype: int64"
      ]
     },
     "execution_count": 9,
     "metadata": {},
     "output_type": "execute_result"
    }
   ],
   "source": [
    "emails.emailsOpened.value_counts()"
   ]
  },
  {
   "cell_type": "code",
   "execution_count": 10,
   "metadata": {},
   "outputs": [
    {
     "data": {
      "text/html": [
       "<div>\n",
       "<style scoped>\n",
       "    .dataframe tbody tr th:only-of-type {\n",
       "        vertical-align: middle;\n",
       "    }\n",
       "\n",
       "    .dataframe tbody tr th {\n",
       "        vertical-align: top;\n",
       "    }\n",
       "\n",
       "    .dataframe thead th {\n",
       "        text-align: right;\n",
       "    }\n",
       "</style>\n",
       "<table border=\"1\" class=\"dataframe\">\n",
       "  <thead>\n",
       "    <tr style=\"text-align: right;\">\n",
       "      <th></th>\n",
       "      <th>emailsOpened</th>\n",
       "      <th>user</th>\n",
       "      <th>week</th>\n",
       "    </tr>\n",
       "  </thead>\n",
       "  <tbody>\n",
       "    <tr>\n",
       "      <td>25464</td>\n",
       "      <td>1.0</td>\n",
       "      <td>998.0</td>\n",
       "      <td>2017-12-04 00:00:00</td>\n",
       "    </tr>\n",
       "    <tr>\n",
       "      <td>25465</td>\n",
       "      <td>3.0</td>\n",
       "      <td>998.0</td>\n",
       "      <td>2017-12-11 00:00:00</td>\n",
       "    </tr>\n",
       "    <tr>\n",
       "      <td>25466</td>\n",
       "      <td>3.0</td>\n",
       "      <td>998.0</td>\n",
       "      <td>2017-12-18 00:00:00</td>\n",
       "    </tr>\n",
       "    <tr>\n",
       "      <td>25467</td>\n",
       "      <td>3.0</td>\n",
       "      <td>998.0</td>\n",
       "      <td>2018-01-01 00:00:00</td>\n",
       "    </tr>\n",
       "    <tr>\n",
       "      <td>25468</td>\n",
       "      <td>3.0</td>\n",
       "      <td>998.0</td>\n",
       "      <td>2018-01-08 00:00:00</td>\n",
       "    </tr>\n",
       "    <tr>\n",
       "      <td>25469</td>\n",
       "      <td>2.0</td>\n",
       "      <td>998.0</td>\n",
       "      <td>2018-01-15 00:00:00</td>\n",
       "    </tr>\n",
       "    <tr>\n",
       "      <td>25470</td>\n",
       "      <td>3.0</td>\n",
       "      <td>998.0</td>\n",
       "      <td>2018-01-22 00:00:00</td>\n",
       "    </tr>\n",
       "    <tr>\n",
       "      <td>25471</td>\n",
       "      <td>2.0</td>\n",
       "      <td>998.0</td>\n",
       "      <td>2018-01-29 00:00:00</td>\n",
       "    </tr>\n",
       "    <tr>\n",
       "      <td>25472</td>\n",
       "      <td>3.0</td>\n",
       "      <td>998.0</td>\n",
       "      <td>2018-02-05 00:00:00</td>\n",
       "    </tr>\n",
       "    <tr>\n",
       "      <td>25473</td>\n",
       "      <td>3.0</td>\n",
       "      <td>998.0</td>\n",
       "      <td>2018-02-12 00:00:00</td>\n",
       "    </tr>\n",
       "    <tr>\n",
       "      <td>25474</td>\n",
       "      <td>3.0</td>\n",
       "      <td>998.0</td>\n",
       "      <td>2018-02-19 00:00:00</td>\n",
       "    </tr>\n",
       "    <tr>\n",
       "      <td>25475</td>\n",
       "      <td>2.0</td>\n",
       "      <td>998.0</td>\n",
       "      <td>2018-02-26 00:00:00</td>\n",
       "    </tr>\n",
       "    <tr>\n",
       "      <td>25476</td>\n",
       "      <td>2.0</td>\n",
       "      <td>998.0</td>\n",
       "      <td>2018-03-05 00:00:00</td>\n",
       "    </tr>\n",
       "    <tr>\n",
       "      <td>25477</td>\n",
       "      <td>3.0</td>\n",
       "      <td>998.0</td>\n",
       "      <td>2018-03-12 00:00:00</td>\n",
       "    </tr>\n",
       "    <tr>\n",
       "      <td>25478</td>\n",
       "      <td>2.0</td>\n",
       "      <td>998.0</td>\n",
       "      <td>2018-03-19 00:00:00</td>\n",
       "    </tr>\n",
       "    <tr>\n",
       "      <td>25479</td>\n",
       "      <td>2.0</td>\n",
       "      <td>998.0</td>\n",
       "      <td>2018-03-26 00:00:00</td>\n",
       "    </tr>\n",
       "    <tr>\n",
       "      <td>25480</td>\n",
       "      <td>3.0</td>\n",
       "      <td>998.0</td>\n",
       "      <td>2018-04-02 00:00:00</td>\n",
       "    </tr>\n",
       "    <tr>\n",
       "      <td>25481</td>\n",
       "      <td>3.0</td>\n",
       "      <td>998.0</td>\n",
       "      <td>2018-04-09 00:00:00</td>\n",
       "    </tr>\n",
       "    <tr>\n",
       "      <td>25482</td>\n",
       "      <td>3.0</td>\n",
       "      <td>998.0</td>\n",
       "      <td>2018-04-16 00:00:00</td>\n",
       "    </tr>\n",
       "    <tr>\n",
       "      <td>25483</td>\n",
       "      <td>3.0</td>\n",
       "      <td>998.0</td>\n",
       "      <td>2018-04-30 00:00:00</td>\n",
       "    </tr>\n",
       "    <tr>\n",
       "      <td>25484</td>\n",
       "      <td>3.0</td>\n",
       "      <td>998.0</td>\n",
       "      <td>2018-05-07 00:00:00</td>\n",
       "    </tr>\n",
       "    <tr>\n",
       "      <td>25485</td>\n",
       "      <td>3.0</td>\n",
       "      <td>998.0</td>\n",
       "      <td>2018-05-14 00:00:00</td>\n",
       "    </tr>\n",
       "    <tr>\n",
       "      <td>25486</td>\n",
       "      <td>3.0</td>\n",
       "      <td>998.0</td>\n",
       "      <td>2018-05-21 00:00:00</td>\n",
       "    </tr>\n",
       "    <tr>\n",
       "      <td>25487</td>\n",
       "      <td>3.0</td>\n",
       "      <td>998.0</td>\n",
       "      <td>2018-05-28 00:00:00</td>\n",
       "    </tr>\n",
       "  </tbody>\n",
       "</table>\n",
       "</div>"
      ],
      "text/plain": [
       "       emailsOpened   user                 week\n",
       "25464           1.0  998.0  2017-12-04 00:00:00\n",
       "25465           3.0  998.0  2017-12-11 00:00:00\n",
       "25466           3.0  998.0  2017-12-18 00:00:00\n",
       "25467           3.0  998.0  2018-01-01 00:00:00\n",
       "25468           3.0  998.0  2018-01-08 00:00:00\n",
       "25469           2.0  998.0  2018-01-15 00:00:00\n",
       "25470           3.0  998.0  2018-01-22 00:00:00\n",
       "25471           2.0  998.0  2018-01-29 00:00:00\n",
       "25472           3.0  998.0  2018-02-05 00:00:00\n",
       "25473           3.0  998.0  2018-02-12 00:00:00\n",
       "25474           3.0  998.0  2018-02-19 00:00:00\n",
       "25475           2.0  998.0  2018-02-26 00:00:00\n",
       "25476           2.0  998.0  2018-03-05 00:00:00\n",
       "25477           3.0  998.0  2018-03-12 00:00:00\n",
       "25478           2.0  998.0  2018-03-19 00:00:00\n",
       "25479           2.0  998.0  2018-03-26 00:00:00\n",
       "25480           3.0  998.0  2018-04-02 00:00:00\n",
       "25481           3.0  998.0  2018-04-09 00:00:00\n",
       "25482           3.0  998.0  2018-04-16 00:00:00\n",
       "25483           3.0  998.0  2018-04-30 00:00:00\n",
       "25484           3.0  998.0  2018-05-07 00:00:00\n",
       "25485           3.0  998.0  2018-05-14 00:00:00\n",
       "25486           3.0  998.0  2018-05-21 00:00:00\n",
       "25487           3.0  998.0  2018-05-28 00:00:00"
      ]
     },
     "execution_count": 10,
     "metadata": {},
     "output_type": "execute_result"
    }
   ],
   "source": [
    "# 특정 한 회원에 대한 기록을 살펴봄으로써 둘 중 무엇인지 판단할 수 있다.\n",
    "# 일부 주가 누락되었음 확인(2017.12.25)\n",
    "emails[emails.user == 998]"
   ]
  },
  {
   "cell_type": "code",
   "execution_count": 11,
   "metadata": {},
   "outputs": [
    {
     "name": "stdout",
     "output_type": "stream",
     "text": [
      "(24, 3)\n",
      "25.0\n"
     ]
    }
   ],
   "source": [
    "# 다음 두 개를 비교해 확인할 수도 있다. (모든 주가 포함되었다면 24개가 아니라 26개가 있어야함)\n",
    "print(emails[emails.user == 998].shape)\n",
    "print((datetime.strptime(np.max(emails[emails.user == 998].week),'%Y-%m-%d %H:%M:%S') - datetime.strptime(np.min(emails[emails.user == 998].week),'%Y-%m-%d %H:%M:%S')).days/7)"
   ]
  },
  {
   "cell_type": "code",
   "execution_count": 12,
   "metadata": {},
   "outputs": [],
   "source": [
    "def email_response(member):\n",
    "    maximum = datetime.strptime(np.max(emails[emails.user == member].week),'%Y-%m-%d %H:%M:%S')\n",
    "    minimum = datetime.strptime(np.min(emails[emails.user == member].week),'%Y-%m-%d %H:%M:%S')\n",
    "    return (maximum - minimum).days/7 - 24 + 1"
   ]
  },
  {
   "cell_type": "code",
   "execution_count": 13,
   "metadata": {},
   "outputs": [
    {
     "data": {
      "text/plain": [
       "0      129.0\n",
       "1      -16.0\n",
       "2       28.0\n",
       "3       54.0\n",
       "4       74.0\n",
       "       ...  \n",
       "534    -23.0\n",
       "535     -2.0\n",
       "536     14.0\n",
       "537     67.0\n",
       "538      2.0\n",
       "Length: 539, dtype: float64"
      ]
     },
     "execution_count": 13,
     "metadata": {},
     "output_type": "execute_result"
    }
   ],
   "source": [
    "pd.Series(np.unique(emails.user)).map(email_response)"
   ]
  },
  {
   "cell_type": "markdown",
   "metadata": {},
   "source": [
    "누락된 주가 있기 때문에 그부분을 채워 완전한 데이터셋을 완성하도록 한다. 코드를 직접 작성해도 되지만 판다스의 색인 기능을 이용해 해결하기로 한다."
   ]
  },
  {
   "cell_type": "code",
   "execution_count": 14,
   "metadata": {},
   "outputs": [],
   "source": [
    "# 모든 회원과 주에 대한 조합을 생성 (cartesian product를 생성)\n",
    "complete_idx = pd.MultiIndex.from_product((set(emails.week), set(emails.user)))\n",
    "\n",
    "# 재색인\n",
    "all_email = emails.set_index(['week','user']).reindex(complete_idx,fill_value=0).reset_index()\n",
    "all_email.columns = ['week', 'user', 'emailsOpened']"
   ]
  },
  {
   "cell_type": "code",
   "execution_count": 15,
   "metadata": {},
   "outputs": [
    {
     "data": {
      "text/html": [
       "<div>\n",
       "<style scoped>\n",
       "    .dataframe tbody tr th:only-of-type {\n",
       "        vertical-align: middle;\n",
       "    }\n",
       "\n",
       "    .dataframe tbody tr th {\n",
       "        vertical-align: top;\n",
       "    }\n",
       "\n",
       "    .dataframe thead th {\n",
       "        text-align: right;\n",
       "    }\n",
       "</style>\n",
       "<table border=\"1\" class=\"dataframe\">\n",
       "  <thead>\n",
       "    <tr style=\"text-align: right;\">\n",
       "      <th></th>\n",
       "      <th>week</th>\n",
       "      <th>user</th>\n",
       "      <th>emailsOpened</th>\n",
       "    </tr>\n",
       "  </thead>\n",
       "  <tbody>\n",
       "    <tr>\n",
       "      <td>63062</td>\n",
       "      <td>2015-02-09 00:00:00</td>\n",
       "      <td>998.0</td>\n",
       "      <td>0.0</td>\n",
       "    </tr>\n",
       "    <tr>\n",
       "      <td>40424</td>\n",
       "      <td>2015-02-16 00:00:00</td>\n",
       "      <td>998.0</td>\n",
       "      <td>0.0</td>\n",
       "    </tr>\n",
       "    <tr>\n",
       "      <td>4850</td>\n",
       "      <td>2015-02-23 00:00:00</td>\n",
       "      <td>998.0</td>\n",
       "      <td>0.0</td>\n",
       "    </tr>\n",
       "    <tr>\n",
       "      <td>26949</td>\n",
       "      <td>2015-03-02 00:00:00</td>\n",
       "      <td>998.0</td>\n",
       "      <td>0.0</td>\n",
       "    </tr>\n",
       "    <tr>\n",
       "      <td>51743</td>\n",
       "      <td>2015-03-09 00:00:00</td>\n",
       "      <td>998.0</td>\n",
       "      <td>0.0</td>\n",
       "    </tr>\n",
       "    <tr>\n",
       "      <td>...</td>\n",
       "      <td>...</td>\n",
       "      <td>...</td>\n",
       "      <td>...</td>\n",
       "    </tr>\n",
       "    <tr>\n",
       "      <td>11318</td>\n",
       "      <td>2018-04-30 00:00:00</td>\n",
       "      <td>998.0</td>\n",
       "      <td>3.0</td>\n",
       "    </tr>\n",
       "    <tr>\n",
       "      <td>67374</td>\n",
       "      <td>2018-05-07 00:00:00</td>\n",
       "      <td>998.0</td>\n",
       "      <td>3.0</td>\n",
       "    </tr>\n",
       "    <tr>\n",
       "      <td>19403</td>\n",
       "      <td>2018-05-14 00:00:00</td>\n",
       "      <td>998.0</td>\n",
       "      <td>3.0</td>\n",
       "    </tr>\n",
       "    <tr>\n",
       "      <td>56594</td>\n",
       "      <td>2018-05-21 00:00:00</td>\n",
       "      <td>998.0</td>\n",
       "      <td>3.0</td>\n",
       "    </tr>\n",
       "    <tr>\n",
       "      <td>73303</td>\n",
       "      <td>2018-05-28 00:00:00</td>\n",
       "      <td>998.0</td>\n",
       "      <td>3.0</td>\n",
       "    </tr>\n",
       "  </tbody>\n",
       "</table>\n",
       "<p>173 rows × 3 columns</p>\n",
       "</div>"
      ],
      "text/plain": [
       "                      week   user  emailsOpened\n",
       "63062  2015-02-09 00:00:00  998.0           0.0\n",
       "40424  2015-02-16 00:00:00  998.0           0.0\n",
       "4850   2015-02-23 00:00:00  998.0           0.0\n",
       "26949  2015-03-02 00:00:00  998.0           0.0\n",
       "51743  2015-03-09 00:00:00  998.0           0.0\n",
       "...                    ...    ...           ...\n",
       "11318  2018-04-30 00:00:00  998.0           3.0\n",
       "67374  2018-05-07 00:00:00  998.0           3.0\n",
       "19403  2018-05-14 00:00:00  998.0           3.0\n",
       "56594  2018-05-21 00:00:00  998.0           3.0\n",
       "73303  2018-05-28 00:00:00  998.0           3.0\n",
       "\n",
       "[173 rows x 3 columns]"
      ]
     },
     "execution_count": 15,
     "metadata": {},
     "output_type": "execute_result"
    }
   ],
   "source": [
    "# 다시한번 998번 회원을 확인\n",
    "all_email[all_email.user == 998].sort_values('week')\n"
   ]
  },
  {
   "cell_type": "code",
   "execution_count": 16,
   "metadata": {},
   "outputs": [
    {
     "data": {
      "text/plain": [
       "(93247, 3)"
      ]
     },
     "execution_count": 16,
     "metadata": {},
     "output_type": "execute_result"
    }
   ],
   "source": [
    "all_email.shape"
   ]
  },
  {
   "cell_type": "markdown",
   "metadata": {},
   "source": [
    "0이 많이 등장하는데 회원 가입 전단계라 회원의 이메일 주소가 목록에 포함되지 않아 발생하는 값이다. 회원의 최초 이메일 수신 시점에 대한 정확한 데이터가 없으므로 주어진 데이터로부터 이를 도출해야한다."
   ]
  },
  {
   "cell_type": "code",
   "execution_count": 17,
   "metadata": {},
   "outputs": [],
   "source": [
    "cutoff_dates = emails.groupby('user').week.agg(['min','max']).reset_index()"
   ]
  },
  {
   "cell_type": "code",
   "execution_count": 18,
   "metadata": {},
   "outputs": [
    {
     "data": {
      "text/html": [
       "<div>\n",
       "<style scoped>\n",
       "    .dataframe tbody tr th:only-of-type {\n",
       "        vertical-align: middle;\n",
       "    }\n",
       "\n",
       "    .dataframe tbody tr th {\n",
       "        vertical-align: top;\n",
       "    }\n",
       "\n",
       "    .dataframe thead th {\n",
       "        text-align: right;\n",
       "    }\n",
       "</style>\n",
       "<table border=\"1\" class=\"dataframe\">\n",
       "  <thead>\n",
       "    <tr style=\"text-align: right;\">\n",
       "      <th></th>\n",
       "      <th>user</th>\n",
       "      <th>min</th>\n",
       "      <th>max</th>\n",
       "    </tr>\n",
       "  </thead>\n",
       "  <tbody>\n",
       "    <tr>\n",
       "      <td>0</td>\n",
       "      <td>1.0</td>\n",
       "      <td>2015-06-29 00:00:00</td>\n",
       "      <td>2018-05-28 00:00:00</td>\n",
       "    </tr>\n",
       "    <tr>\n",
       "      <td>1</td>\n",
       "      <td>3.0</td>\n",
       "      <td>2018-03-05 00:00:00</td>\n",
       "      <td>2018-04-23 00:00:00</td>\n",
       "    </tr>\n",
       "    <tr>\n",
       "      <td>2</td>\n",
       "      <td>5.0</td>\n",
       "      <td>2017-06-05 00:00:00</td>\n",
       "      <td>2018-05-28 00:00:00</td>\n",
       "    </tr>\n",
       "    <tr>\n",
       "      <td>3</td>\n",
       "      <td>6.0</td>\n",
       "      <td>2016-12-05 00:00:00</td>\n",
       "      <td>2018-05-28 00:00:00</td>\n",
       "    </tr>\n",
       "    <tr>\n",
       "      <td>4</td>\n",
       "      <td>9.0</td>\n",
       "      <td>2016-07-18 00:00:00</td>\n",
       "      <td>2018-05-28 00:00:00</td>\n",
       "    </tr>\n",
       "  </tbody>\n",
       "</table>\n",
       "</div>"
      ],
      "text/plain": [
       "   user                  min                  max\n",
       "0   1.0  2015-06-29 00:00:00  2018-05-28 00:00:00\n",
       "1   3.0  2018-03-05 00:00:00  2018-04-23 00:00:00\n",
       "2   5.0  2017-06-05 00:00:00  2018-05-28 00:00:00\n",
       "3   6.0  2016-12-05 00:00:00  2018-05-28 00:00:00\n",
       "4   9.0  2016-07-18 00:00:00  2018-05-28 00:00:00"
      ]
     },
     "execution_count": 18,
     "metadata": {},
     "output_type": "execute_result"
    }
   ],
   "source": [
    "cutoff_dates.head()"
   ]
  },
  {
   "cell_type": "code",
   "execution_count": 19,
   "metadata": {},
   "outputs": [],
   "source": [
    "# 위 데이터프레임을 이용해 단순히 0이 아닌 값이 나타나기 전의 값은 아예 삭제하도록 한다.\n",
    "for i in range(len(cutoff_dates)):\n",
    "    user = cutoff_dates.iloc[i,0]\n",
    "    minimum = cutoff_dates.iloc[i,1]\n",
    "    maximum = cutoff_dates.iloc[i,2]\n",
    "    \n",
    "    cond1 = all_email['week']<minimum\n",
    "    cond2 = all_email['week']>maximum\n",
    "    cond3 = all_email['user'] == user\n",
    "    \n",
    "    cond1_3 = cond1&cond3\n",
    "    cond2_3 = cond2&cond3\n",
    "    \n",
    "    all_email.drop(all_email[cond1_3|cond2_3].index,inplace=True)\n",
    "    "
   ]
  },
  {
   "cell_type": "code",
   "execution_count": 20,
   "metadata": {},
   "outputs": [
    {
     "data": {
      "text/plain": [
       "(31836, 3)"
      ]
     },
     "execution_count": 20,
     "metadata": {},
     "output_type": "execute_result"
    }
   ],
   "source": [
    "all_email.shape"
   ]
  },
  {
   "cell_type": "markdown",
   "metadata": {},
   "source": [
    "시간을 인식할 수 있는 형태, 특히 타임스탬프의 생성 방식과 그 의미에 따라 데이터를 저장해야한다. \n",
    "\n",
    "이메일에 대한 반응과 기부의 상관관계를 알고 싶다면 다음과 같은 방식을 고려해볼 수 있다.\n",
    "- 순간 순간 기록된 데이터를 주 단위로 기부금을 취합한다면 이메일 데이터와 기간 단위의 비교가 가능해진다. 따라서 회원의 이메일 응답과 기부가 어떤 식으로 연관이 있는지에 대해 합리적으로 조사할 수 있다.\n",
    "- 전 주의 열람된 이메일 개수(EmailOpened)를 주어진 주의 기부금 예측 변수로 취급할 수 있다. 여기서 전 주를 사용하는 이유는 EailsOpened이 해당 주에 대한 요약 통계이기 때문이다. 가령 수요일의 기부를 예측하고자 한다면 EmailsOpened가 월요일부터 일요일까지 일어난 이메일 열람 행동을 요약한다고 가정해보자. 이 둘의 대상 주가 같다면 특정 회원이 기부를 한 다음에 어떤 일을 할지에 대한 정보를 잠재적으로 얻게 된다. 기부를 한 다음에 오는 금요일에 기부자가 이메일을 열람할지에 대한 경우를 예로 들 수 있다.\n",
    "\n",
    "## 발견된 시계열 구성\n",
    "이메일과 기부 데이터를 연관시키고자 하는데 기부 데이터를 다운샘플링하여 주간 시계열로 바꿀 수 있다."
   ]
  },
  {
   "cell_type": "code",
   "execution_count": 21,
   "metadata": {},
   "outputs": [],
   "source": [
    "donations['timestamp'] = pd.to_datetime(donations['timestamp'])\n",
    "donations.set_index('timestamp',inplace=True)"
   ]
  },
  {
   "cell_type": "code",
   "execution_count": 22,
   "metadata": {},
   "outputs": [
    {
     "data": {
      "text/html": [
       "<div>\n",
       "<style scoped>\n",
       "    .dataframe tbody tr th:only-of-type {\n",
       "        vertical-align: middle;\n",
       "    }\n",
       "\n",
       "    .dataframe tbody tr th {\n",
       "        vertical-align: top;\n",
       "    }\n",
       "\n",
       "    .dataframe thead th {\n",
       "        text-align: right;\n",
       "    }\n",
       "</style>\n",
       "<table border=\"1\" class=\"dataframe\">\n",
       "  <thead>\n",
       "    <tr style=\"text-align: right;\">\n",
       "      <th></th>\n",
       "      <th>amount</th>\n",
       "      <th>user</th>\n",
       "    </tr>\n",
       "    <tr>\n",
       "      <th>timestamp</th>\n",
       "      <th></th>\n",
       "      <th></th>\n",
       "    </tr>\n",
       "  </thead>\n",
       "  <tbody>\n",
       "    <tr>\n",
       "      <td>2017-11-12 11:13:44</td>\n",
       "      <td>25.0</td>\n",
       "      <td>0.0</td>\n",
       "    </tr>\n",
       "    <tr>\n",
       "      <td>2015-08-25 19:01:45</td>\n",
       "      <td>50.0</td>\n",
       "      <td>0.0</td>\n",
       "    </tr>\n",
       "    <tr>\n",
       "      <td>2015-03-26 12:03:47</td>\n",
       "      <td>25.0</td>\n",
       "      <td>0.0</td>\n",
       "    </tr>\n",
       "    <tr>\n",
       "      <td>2016-07-06 12:24:55</td>\n",
       "      <td>50.0</td>\n",
       "      <td>0.0</td>\n",
       "    </tr>\n",
       "    <tr>\n",
       "      <td>2016-05-11 18:13:04</td>\n",
       "      <td>50.0</td>\n",
       "      <td>1.0</td>\n",
       "    </tr>\n",
       "  </tbody>\n",
       "</table>\n",
       "</div>"
      ],
      "text/plain": [
       "                     amount  user\n",
       "timestamp                        \n",
       "2017-11-12 11:13:44    25.0   0.0\n",
       "2015-08-25 19:01:45    50.0   0.0\n",
       "2015-03-26 12:03:47    25.0   0.0\n",
       "2016-07-06 12:24:55    50.0   0.0\n",
       "2016-05-11 18:13:04    50.0   1.0"
      ]
     },
     "metadata": {},
     "output_type": "display_data"
    }
   ],
   "source": [
    "display(donations.head())"
   ]
  },
  {
   "cell_type": "code",
   "execution_count": 23,
   "metadata": {},
   "outputs": [
    {
     "data": {
      "text/plain": [
       "user   timestamp \n",
       "0.0    2015-03-30      25.0\n",
       "       2015-04-06       0.0\n",
       "       2015-04-13       0.0\n",
       "       2015-04-20       0.0\n",
       "       2015-04-27       0.0\n",
       "                      ...  \n",
       "995.0  2017-09-11       0.0\n",
       "       2017-09-18       0.0\n",
       "       2017-09-25       0.0\n",
       "       2017-10-02    1000.0\n",
       "998.0  2018-01-08      50.0\n",
       "Name: amount, Length: 32352, dtype: float64"
      ]
     },
     "execution_count": 23,
     "metadata": {},
     "output_type": "execute_result"
    }
   ],
   "source": [
    "# resample은 고정된 빈도로 시계열을 변환할 수 있다. 당연히 누락값이 발생할 수 있다.\n",
    "# 각 회원의 부분집합에 대한 데이터프레임을 구하여 주단위로 그룹화하여 기부금 총액을 구하고 기부가 없는 주는 삭제한다.\n",
    "agg_don = donations.groupby('user').apply(lambda df:df['amount'].resample(\"W-MON\").sum().dropna())\n",
    "agg_don"
   ]
  },
  {
   "cell_type": "code",
   "execution_count": 24,
   "metadata": {},
   "outputs": [
    {
     "data": {
      "text/html": [
       "<div>\n",
       "<style scoped>\n",
       "    .dataframe tbody tr th:only-of-type {\n",
       "        vertical-align: middle;\n",
       "    }\n",
       "\n",
       "    .dataframe tbody tr th {\n",
       "        vertical-align: top;\n",
       "    }\n",
       "\n",
       "    .dataframe thead th {\n",
       "        text-align: right;\n",
       "    }\n",
       "</style>\n",
       "<table border=\"1\" class=\"dataframe\">\n",
       "  <thead>\n",
       "    <tr style=\"text-align: right;\">\n",
       "      <th></th>\n",
       "      <th>week</th>\n",
       "      <th>user</th>\n",
       "      <th>emailsOpened</th>\n",
       "    </tr>\n",
       "  </thead>\n",
       "  <tbody>\n",
       "    <tr>\n",
       "      <td>0</td>\n",
       "      <td>2017-12-04 00:00:00</td>\n",
       "      <td>1.0</td>\n",
       "      <td>3.0</td>\n",
       "    </tr>\n",
       "    <tr>\n",
       "      <td>2</td>\n",
       "      <td>2017-12-04 00:00:00</td>\n",
       "      <td>5.0</td>\n",
       "      <td>1.0</td>\n",
       "    </tr>\n",
       "    <tr>\n",
       "      <td>3</td>\n",
       "      <td>2017-12-04 00:00:00</td>\n",
       "      <td>6.0</td>\n",
       "      <td>2.0</td>\n",
       "    </tr>\n",
       "    <tr>\n",
       "      <td>4</td>\n",
       "      <td>2017-12-04 00:00:00</td>\n",
       "      <td>9.0</td>\n",
       "      <td>3.0</td>\n",
       "    </tr>\n",
       "    <tr>\n",
       "      <td>6</td>\n",
       "      <td>2017-12-04 00:00:00</td>\n",
       "      <td>14.0</td>\n",
       "      <td>2.0</td>\n",
       "    </tr>\n",
       "  </tbody>\n",
       "</table>\n",
       "</div>"
      ],
      "text/plain": [
       "                  week  user  emailsOpened\n",
       "0  2017-12-04 00:00:00   1.0           3.0\n",
       "2  2017-12-04 00:00:00   5.0           1.0\n",
       "3  2017-12-04 00:00:00   6.0           2.0\n",
       "4  2017-12-04 00:00:00   9.0           3.0\n",
       "6  2017-12-04 00:00:00  14.0           2.0"
      ]
     },
     "metadata": {},
     "output_type": "display_data"
    }
   ],
   "source": [
    "# 동일한 빈도로 샘플링된 기부와 이메일 정보를 하나로 합쳐볼 수 있다.\n",
    "# 모든 주를 같은 요일로 간단하게 고정하여 각 회원의 정보에 접근하여 회원별 이메일 및 기부에 대한 데이터프레임을 통합한다.\n",
    "display(all_email.head())"
   ]
  },
  {
   "cell_type": "code",
   "execution_count": 25,
   "metadata": {
    "scrolled": false
   },
   "outputs": [],
   "source": [
    "merged_df = pd.DataFrame()\n",
    "for member, member_email in all_email.groupby('user'):\n",
    "    # 특정 회원의 기부 데이터\n",
    "    member_donations = agg_don[agg_don.index.get_level_values('user')==member]\n",
    "    # 재색인\n",
    "    member_donations = member_donations.droplevel(0)\n",
    "    member_email.set_index('week',inplace=True)\n",
    "    member_email.sort_index(inplace = True)\n",
    "    \n",
    "    # 병합\n",
    "    df = pd.merge(member_email, member_donations, how='left',\n",
    "                 left_index = True, right_index=True)\n",
    "    df.fillna(0)\n",
    "    \n",
    "    merged_df = merged_df.append(df.reset_index()[['user', 'week', 'emailsOpened', 'amount']])"
   ]
  },
  {
   "cell_type": "code",
   "execution_count": 31,
   "metadata": {},
   "outputs": [
    {
     "data": {
      "text/html": [
       "<div>\n",
       "<style scoped>\n",
       "    .dataframe tbody tr th:only-of-type {\n",
       "        vertical-align: middle;\n",
       "    }\n",
       "\n",
       "    .dataframe tbody tr th {\n",
       "        vertical-align: top;\n",
       "    }\n",
       "\n",
       "    .dataframe thead th {\n",
       "        text-align: right;\n",
       "    }\n",
       "</style>\n",
       "<table border=\"1\" class=\"dataframe\">\n",
       "  <thead>\n",
       "    <tr style=\"text-align: right;\">\n",
       "      <th></th>\n",
       "      <th>user</th>\n",
       "      <th>week</th>\n",
       "      <th>emailsOpened</th>\n",
       "      <th>amount</th>\n",
       "    </tr>\n",
       "  </thead>\n",
       "  <tbody>\n",
       "    <tr>\n",
       "      <td>0</td>\n",
       "      <td>1.0</td>\n",
       "      <td>2015-06-29 00:00:00</td>\n",
       "      <td>3.0</td>\n",
       "      <td>NaN</td>\n",
       "    </tr>\n",
       "    <tr>\n",
       "      <td>1</td>\n",
       "      <td>1.0</td>\n",
       "      <td>2015-07-06 00:00:00</td>\n",
       "      <td>0.0</td>\n",
       "      <td>NaN</td>\n",
       "    </tr>\n",
       "    <tr>\n",
       "      <td>2</td>\n",
       "      <td>1.0</td>\n",
       "      <td>2015-07-13 00:00:00</td>\n",
       "      <td>2.0</td>\n",
       "      <td>NaN</td>\n",
       "    </tr>\n",
       "    <tr>\n",
       "      <td>3</td>\n",
       "      <td>1.0</td>\n",
       "      <td>2015-07-20 00:00:00</td>\n",
       "      <td>2.0</td>\n",
       "      <td>NaN</td>\n",
       "    </tr>\n",
       "    <tr>\n",
       "      <td>4</td>\n",
       "      <td>1.0</td>\n",
       "      <td>2015-07-27 00:00:00</td>\n",
       "      <td>3.0</td>\n",
       "      <td>NaN</td>\n",
       "    </tr>\n",
       "  </tbody>\n",
       "</table>\n",
       "</div>"
      ],
      "text/plain": [
       "   user                 week  emailsOpened  amount\n",
       "0   1.0  2015-06-29 00:00:00           3.0     NaN\n",
       "1   1.0  2015-07-06 00:00:00           0.0     NaN\n",
       "2   1.0  2015-07-13 00:00:00           2.0     NaN\n",
       "3   1.0  2015-07-20 00:00:00           2.0     NaN\n",
       "4   1.0  2015-07-27 00:00:00           3.0     NaN"
      ]
     },
     "execution_count": 31,
     "metadata": {},
     "output_type": "execute_result"
    }
   ],
   "source": [
    "merged_df.head()"
   ]
  },
  {
   "cell_type": "markdown",
   "metadata": {},
   "source": [
    "이메일 응답을 기부 관련 '상태' 변수로 다룰 수도 있지만, 사전관찰을 방지하려면 전 주의 상태를 이월해야한다. 이메일 응답 방식에 회원의 다음 기부를 예측하는 모델을 만들고자 할 때 시간에 따른 이메일 열람의 행동 패턴을 하나의 지표로 고려해야한다. 그러면 한 주의 기부금을 기부가 발생하기 전 주의 이메일 응답 방식에 따라서 정렬해야 한다.(shift 연산자 사용)"
   ]
  },
  {
   "cell_type": "code",
   "execution_count": 33,
   "metadata": {},
   "outputs": [
    {
     "data": {
      "text/html": [
       "<div>\n",
       "<style scoped>\n",
       "    .dataframe tbody tr th:only-of-type {\n",
       "        vertical-align: middle;\n",
       "    }\n",
       "\n",
       "    .dataframe tbody tr th {\n",
       "        vertical-align: top;\n",
       "    }\n",
       "\n",
       "    .dataframe thead th {\n",
       "        text-align: right;\n",
       "    }\n",
       "</style>\n",
       "<table border=\"1\" class=\"dataframe\">\n",
       "  <thead>\n",
       "    <tr style=\"text-align: right;\">\n",
       "      <th></th>\n",
       "      <th>user</th>\n",
       "      <th>week</th>\n",
       "      <th>emailsOpened</th>\n",
       "      <th>amount</th>\n",
       "      <th>target</th>\n",
       "    </tr>\n",
       "  </thead>\n",
       "  <tbody>\n",
       "    <tr>\n",
       "      <td>0</td>\n",
       "      <td>998.0</td>\n",
       "      <td>2017-12-04</td>\n",
       "      <td>1.0</td>\n",
       "      <td>0.0</td>\n",
       "      <td>0.0</td>\n",
       "    </tr>\n",
       "    <tr>\n",
       "      <td>1</td>\n",
       "      <td>998.0</td>\n",
       "      <td>2017-12-11</td>\n",
       "      <td>3.0</td>\n",
       "      <td>0.0</td>\n",
       "      <td>0.0</td>\n",
       "    </tr>\n",
       "    <tr>\n",
       "      <td>2</td>\n",
       "      <td>998.0</td>\n",
       "      <td>2017-12-18</td>\n",
       "      <td>3.0</td>\n",
       "      <td>0.0</td>\n",
       "      <td>0.0</td>\n",
       "    </tr>\n",
       "    <tr>\n",
       "      <td>3</td>\n",
       "      <td>998.0</td>\n",
       "      <td>2017-12-25</td>\n",
       "      <td>0.0</td>\n",
       "      <td>0.0</td>\n",
       "      <td>0.0</td>\n",
       "    </tr>\n",
       "    <tr>\n",
       "      <td>4</td>\n",
       "      <td>998.0</td>\n",
       "      <td>2018-01-01</td>\n",
       "      <td>3.0</td>\n",
       "      <td>0.0</td>\n",
       "      <td>0.0</td>\n",
       "    </tr>\n",
       "    <tr>\n",
       "      <td>5</td>\n",
       "      <td>998.0</td>\n",
       "      <td>2018-01-08</td>\n",
       "      <td>3.0</td>\n",
       "      <td>50.0</td>\n",
       "      <td>0.0</td>\n",
       "    </tr>\n",
       "    <tr>\n",
       "      <td>6</td>\n",
       "      <td>998.0</td>\n",
       "      <td>2018-01-15</td>\n",
       "      <td>2.0</td>\n",
       "      <td>0.0</td>\n",
       "      <td>50.0</td>\n",
       "    </tr>\n",
       "    <tr>\n",
       "      <td>7</td>\n",
       "      <td>998.0</td>\n",
       "      <td>2018-01-22</td>\n",
       "      <td>3.0</td>\n",
       "      <td>0.0</td>\n",
       "      <td>0.0</td>\n",
       "    </tr>\n",
       "  </tbody>\n",
       "</table>\n",
       "</div>"
      ],
      "text/plain": [
       "    user       week  emailsOpened  amount  target\n",
       "0  998.0 2017-12-04           1.0     0.0     0.0\n",
       "1  998.0 2017-12-11           3.0     0.0     0.0\n",
       "2  998.0 2017-12-18           3.0     0.0     0.0\n",
       "3  998.0 2017-12-25           0.0     0.0     0.0\n",
       "4  998.0 2018-01-01           3.0     0.0     0.0\n",
       "5  998.0 2018-01-08           3.0    50.0     0.0\n",
       "6  998.0 2018-01-15           2.0     0.0    50.0\n",
       "7  998.0 2018-01-22           3.0     0.0     0.0"
      ]
     },
     "execution_count": 33,
     "metadata": {},
     "output_type": "execute_result"
    }
   ],
   "source": [
    "df = merged_df[merged_df['user']==998]\n",
    "df['target'] = df['amount'].shift(1)\n",
    "df = df.fillna(0)\n",
    "df.head(8)"
   ]
  },
  {
   "cell_type": "markdown",
   "metadata": {},
   "source": [
    "### 시계열에 특화된 데이터 재구성 기법\n",
    "- 해결하고자 하는 문제에 맞는 형태로 데이터의 간격을 교정한다.(종종 필요 이상으로 구체적인 시간 정보를 제공하기도함)\n",
    "- 사전관찰을 피하기 위해 가용 데이터를 생산하는 타임스탬프를 데이터에 사용하지 않는 방법을 이해한다.\n",
    "- 아무 일도 일어나지 않았다하더라도 관련된 모든 기간을 기록한다. 합계가 0일지라도, 다른 정보들처럼 유익한 정보가 된다.\n",
    "\n",
    "\n",
    "# 타임스탬프의 문제점\n",
    "## 무엇에 대한 타임스탬프인가 정의\n",
    "타임스탬프의 사건의 시간이 무엇에 의해 정해졌는지 최대한 알아보는 일이 중요하다.(명료성) 예를 들어 오프라인에서 모바일 앱 사용 후 휴대전화가 온라인으로 바뀔 때 서버로 로그 정보가 전송되는데 이 때 기록된 타임스탬프가 사용자의 작업 시작 시점, 앱이 기록한 작업의 시점, 데이터가 서버에서 앱으로 다운로드된 가장 마지막 시점 등 여러 의미를 가질 수 있다. 혹은 시간 자체를 무시할  수 있는 옵션에 대한 인터페이스가 제공될 수도 있다.\n",
    "\n",
    "이때 타임스탬프의 의미를 추론할 수 있는지 여부를 파악하기 위해 몇 가지 조사를 해볼 수 있다.\n",
    "- 타임스탬프 의미에 대해 초기 가설을 세워보고 여러 사용자 데이터를 통해 동일 패턴이 유지되는지, 이례적 패턴이 나타나는지 확인해본다.\n",
    "- 타임스탬프 의미에 대한 가설을 시험해본다.\n",
    "    - 타임스탬프가 현지 시간을 의미하는지 세계 표준 시간을 의미하는지\n",
    "    - 시간이 사용자의 행동을 반영하는지 아니면 연결과 같은 외부 제약을 반영하는지"
   ]
  },
  {
   "cell_type": "code",
   "execution_count": null,
   "metadata": {},
   "outputs": [],
   "source": [
    "# 절대적 시간(세계 표준시)에 기반한 타임스탬프를 활용하면 기록된 타임스탬프 간 시차를 계산할 수 있다.\n",
    "df['dt'] = df['time'] - df['time'].shift(-1)\n",
    "\n",
    "# dt가 사용자 행동에 대한 것이라면 네트워크 연결이나 소프트웨어에 관련한 행동보다 주기적인 성향이 더 강할 가능성이 높다.\n",
    "# dt가 네트워크 연결에 대한 것이면 서버가 뢀성될 가능성이 높은 시점을 찾을 수도 있다."
   ]
  },
  {
   "cell_type": "markdown",
   "metadata": {},
   "source": [
    "## 의미있는 시간 규모\n",
    "- 인지편향을 줄이고자 데이터의 시간을 일 단위에서 주 단위로 바꾸는 것을 고려해볼 수 있다.\n",
    "- 사람의 혈당이 빠르게 변하는 속도에는 한계가 있는데 일련의 혈당 수치가 초 단위로 기록된다면 이를 개별적으로 다루기보다 평균으로 취급하는 것이 좋다."
   ]
  }
 ],
 "metadata": {
  "celltoolbar": "Raw Cell Format",
  "kernelspec": {
   "display_name": "Python 3",
   "language": "python",
   "name": "python3"
  },
  "language_info": {
   "codemirror_mode": {
    "name": "ipython",
    "version": 3
   },
   "file_extension": ".py",
   "mimetype": "text/x-python",
   "name": "python",
   "nbconvert_exporter": "python",
   "pygments_lexer": "ipython3",
   "version": "3.7.4"
  }
 },
 "nbformat": 4,
 "nbformat_minor": 2
}
