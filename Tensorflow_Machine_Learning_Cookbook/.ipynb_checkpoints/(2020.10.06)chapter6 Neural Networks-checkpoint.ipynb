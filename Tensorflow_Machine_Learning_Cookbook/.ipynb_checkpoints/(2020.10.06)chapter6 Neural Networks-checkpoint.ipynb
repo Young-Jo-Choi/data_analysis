{
 "cells": [
  {
   "cell_type": "code",
   "execution_count": 5,
   "metadata": {},
   "outputs": [
    {
     "name": "stdout",
     "output_type": "stream",
     "text": [
      "WARNING:tensorflow:From C:\\Users\\hp\\Anaconda3\\lib\\site-packages\\tensorflow_core\\python\\compat\\v2_compat.py:88: disable_resource_variables (from tensorflow.python.ops.variable_scope) is deprecated and will be removed in a future version.\n",
      "Instructions for updating:\n",
      "non-resource variables are not supported in the long term\n"
     ]
    }
   ],
   "source": [
    "import tensorflow.compat.v1 as tf\n",
    "tf.disable_v2_behavior()\n",
    "import numpy as np\n",
    "import matplotlib.pyplot as plt\n",
    "%matplotlib inline\n",
    "import pandas as pd"
   ]
  },
  {
   "cell_type": "markdown",
   "metadata": {},
   "source": [
    "# Introduction\n",
    "신경망이라는 것은 기본적으로 input data의 행렬에 적용되는 연산의 나열이다. 이런 연산은 보통은 덧셈과 곱셈의 모음에 비선형 함수의 적용과 같다.<br> 한 예로 logistic regression은 sigmoid 함수가 적용된 경사항의 합인 것이다. <br>\n",
    "신경망은 각 연산들과 비선형 함수(절대값, maximum, minimum 등)들을 조합함으로써 이런 조각들을 더 일반화한 것이다.\n",
    "\n",
    "중요한 신경망의 기술은 back propagation(역전파)라고 불리는 것이다. 역전파는 모델 variable들을 학습률과 loss 함수의 결과를 토대로 업데이트하는 절차이다. 이미 chapter 3,4에서 역전파를 사용한 바가 있다.\n",
    "\n",
    "또 다른 중요한 특징은 비선형 함수의 사용에 관한 것이다. 신경망은 더하기와 곱하기 연산의 조합이기 때문에 비선형 데이터 세트에 대해서는 적용되기 어렵다. 이런 점을 해결하기 위해 비선형 함수를 신경망에 사용함으로써 대부분의 비선형적인 상황에 신경망을 적용할 수 있게 만들어준다.\n",
    "\n",
    "또 중요하게 기억해야할 것은 다른 알고리즘들과 마찬가지로 신경망은 하이퍼파라미터 선택에 민감하다는 것이다. <br>\n",
    "이번 장을 통해 learning rate, loss functions, optimization procedures에 대해 알아보도록 한다."
   ]
  },
  {
   "cell_type": "markdown",
   "metadata": {},
   "source": [
    "# Implementing operational gates\n",
    "$f(x) = a{\\cdot}x$<br>\n",
    "이러한 게이트를 최적화하기 위해 input a를 variable로, input x를 placeholder로써 선언한다. 이것이 의미하는 바는 텐서플로우가 a 값을 변화시키기 위해 노력하고, x 값은 변화시키지 않는다는 것이다. loss 함수는 output과 target value(=50)의 차이가 되도록 만든다.\n",
    "\n",
    "$f(x) = a{\\cdot}x +b$<br>\n",
    "마찬가지로 a와 b를 variable로, x를 placeholder로 선언한다. output은 50이라는 값을 가진 target value쪽으로 최적화되도록 한다. 두 번째 예에서 흥미로운 것은 solution이 하나가 아니라는 것이다. 변수들의 매우 많은 조합들이 output의 값을 50이 되도록 허용한다. \n",
    "\n",
    "신경망에서 중간값을 지니는 model variable들을 고려하지 않고, 대신 원하는 output에 중점을 두도록 한다."
   ]
  },
  {
   "cell_type": "code",
   "execution_count": 2,
   "metadata": {},
   "outputs": [
    {
     "name": "stdout",
     "output_type": "stream",
     "text": [
      "7.0 * 5.0 = 35.0\n",
      "8.5 * 5.0 = 42.5\n",
      "9.25 * 5.0 = 46.25\n",
      "9.625 * 5.0 = 48.125\n",
      "9.8125 * 5.0 = 49.0625\n",
      "9.90625 * 5.0 = 49.53125\n",
      "9.953125 * 5.0 = 49.765625\n",
      "9.9765625 * 5.0 = 49.8828125\n",
      "9.98828125 * 5.0 = 49.94140625\n",
      "9.994140625 * 5.0 = 49.970703125\n"
     ]
    }
   ],
   "source": [
    "# f(x) = a*x\n",
    "\n",
    "# 1. 2.\n",
    "sess = tf.Session()\n",
    "a = tf.Variable(tf.constant(4.))\n",
    "x_val = 5.\n",
    "x_data = tf.placeholder(dtype=tf.float32)\n",
    "y_target = 50.\n",
    "\n",
    "# 3.\n",
    "multiplication = tf.multiply(a,x_data)\n",
    "\n",
    "# 4.\n",
    "loss = tf.square(tf.subtract(multiplication,y_target))\n",
    "\n",
    "# 5. \n",
    "init = tf.global_variables_initializer()\n",
    "sess.run(init)\n",
    "my_opt = tf.train.GradientDescentOptimizer(0.01)\n",
    "train_step = my_opt.minimize(loss)\n",
    "\n",
    "# 6.\n",
    "for i in range(10):\n",
    "    sess.run(train_step,feed_dict={x_data:x_val})\n",
    "    a_val = sess.run(a)\n",
    "    mult_output = sess.run(multiplication,feed_dict = {x_data:x_val})\n",
    "    print('{} * {} = {}'.format(a_val,x_val,mult_output))"
   ]
  },
  {
   "cell_type": "code",
   "execution_count": 4,
   "metadata": {},
   "outputs": [
    {
     "name": "stdout",
     "output_type": "stream",
     "text": [
      "5.400000095367432 * 5.0 + 1.8799999952316284 = 28.8799991607666\n",
      "7.51200008392334 * 5.0 + 2.3024001121520996 = 39.86240005493164\n",
      "8.52575969696045 * 5.0 + 2.5051522254943848 = 45.13395309448242\n",
      "9.012364387512207 * 5.0 + 2.602473258972168 = 47.6642951965332\n",
      "9.24593448638916 * 5.0 + 2.6491873264312744 = 48.87886047363281\n",
      "9.358048439025879 * 5.0 + 2.671610116958618 = 49.46185302734375\n",
      "9.411863327026367 * 5.0 + 2.682373046875 = 49.74169158935547\n",
      "9.437694549560547 * 5.0 + 2.6875391006469727 = 49.87601089477539\n",
      "9.450093269348145 * 5.0 + 2.690018892288208 = 49.94048309326172\n",
      "9.456045150756836 * 5.0 + 2.691209316253662 = 49.971435546875\n"
     ]
    }
   ],
   "source": [
    "# f(x) = a*x + b\n",
    "\n",
    "#\n",
    "a = tf.Variable(tf.constant(1.))\n",
    "b = tf.Variable(tf.constant(1.))\n",
    "x_val = 5.\n",
    "x_data = tf.placeholder(dtype = tf.float32)\n",
    "y_target = 50.\n",
    "two_gate = tf.add(tf.multiply(a,x_data),b)\n",
    "\n",
    "loss = tf.square(tf.subtract(two_gate,y_target))\n",
    "\n",
    "my_opt = tf.train.GradientDescentOptimizer(0.01)\n",
    "train_step = my_opt.minimize(loss)\n",
    "\n",
    "init = tf.global_variables_initializer()\n",
    "sess.run(init)\n",
    "\n",
    "for i in range(10):\n",
    "    sess.run(train_step,feed_dict={x_data:x_val})\n",
    "    a_val = sess.run(a)\n",
    "    b_val = sess.run(b)\n",
    "    mult_output = sess.run(two_gate,feed_dict = {x_data:x_val})\n",
    "    print('{} * {} + {} = {}'.format(a_val,x_val,b_val,mult_output))"
   ]
  },
  {
   "cell_type": "code",
   "execution_count": null,
   "metadata": {},
   "outputs": [],
   "source": [
    "a = tf.Variable(tf.constant(1.))\n",
    "b = tf.Variable(tf.constant(1.))\n",
    "x_val = 5.\n",
    "x_data = tf.placeholder(dtype = tf.float32)\n",
    "y_target = 50.\n",
    "two_gate = tf.add(tf.multiply(a,x_data),b)\n",
    "\n",
    "loss = tf.square(tf.subtract(two_gate,y_target))\n",
    "\n",
    "my_opt = tf.train.GradientDescentOptimizer(0.01)\n",
    "train_step = my_opt.minimize(loss)\n",
    "\n",
    "init = tf.global_variables_initializer()\n",
    "sess.run(init)\n",
    "\n",
    "for i in range(10):\n",
    "    sess.run(train_step,feed_dict={x_data:x_val})\n",
    "    a_val = sess.run(a)\n",
    "    b_val = sess.run(b)\n",
    "    mult_output = sess.run(two_gate,feed_dict = {x_data:x_val})\n",
    "    print('{} * {} + {} = {}'.format(a_val,x_val,b_val,mult_output))"
   ]
  },
  {
   "cell_type": "markdown",
   "metadata": {},
   "source": [
    "중요한 것은 두 번째 예시의 솔루션은 유니크하지 않다는 것이다. 신경망에서는 그것이 별로 중요하지 않다. 그저 모든 파라미터들이 loss를 줄이는데에 초점을 두고 있다. 최종적인 솔루션 a,b는 초기값이 뭐였는지에 초점을 두고 있다. 만일 두 value가 1이 아닌 다른 값으로 초기화 되었다면 각 반복마다 다른 모델 variable들을 보았을 것이다.\n",
    "\n",
    "이런 과정은 텐서플로우의 역전파 과정을 통해 이루어진다. 텐서플로우는 모델의 연산과 variable 값을 추적하고 (최적화 알고리즘 특징과 loss 함수의 output 관점에서) 조정을 만들어낸다.\n",
    "\n",
    "이런 것을 조금 더 확장시킬 수 있는데 어떤 input은 variable이고 어떤 input은 data일 경우이다. 중요한 것은 텐서플로우가 loss을 최적화하기 위해 variable로 선언된 것은 수정해나가지만 placeholder로 선언된 data는 수정하지 않는다는 것이다.\n",
    "\n",
    "연산 그래프를 추적하고 매 스텝마다 모델 variable을 자동으로 업데이트하는 내장된 능력은 텐서플로우의 가장 강력하고 훌륭한 특성이다. "
   ]
  },
  {
   "cell_type": "markdown",
   "metadata": {},
   "source": [
    "# Working with gates and activation functions\n",
    "다른 연산 게이트를 연결해보도록 하자. 이런 연결은 activation 함수를 통해 이뤄질 것이다.\n",
    "\n",
    "$sigmoid(x) = \\sigma(x) = {1 \\over {1+e^{x}}}$<br>\n",
    "$ReLU(x) = max(0,x)$\n",
    "\n",
    "loss 함수는 L2 norm을 사용하고 타겟 값은 0.75를 사용할 것이다. batch data는 평균 2, 표준편차가 0.1인 정규분포에서 추출된 것을 사용할 것이다."
   ]
  },
  {
   "cell_type": "code",
   "execution_count": 32,
   "metadata": {},
   "outputs": [],
   "source": [
    "# 1.\n",
    "tf.set_random_seed(5)\n",
    "np.random.seed(42)\n",
    "sess  = tf.Session()\n",
    "\n",
    "# 2.\n",
    "batch_size = 50\n",
    "a1 = tf.Variable(tf.random_normal(shape=[1,1]))\n",
    "b1 = tf.Variable(tf.random_uniform(shape=[1,1]))\n",
    "a2 = tf.Variable(tf.random_normal(shape=[1,1]))\n",
    "b2 = tf.Variable(tf.random_uniform(shape=[1,1]))\n",
    "\n",
    "x = np.random.normal(2,0.1,500)\n",
    "x_data = tf.placeholder(shape=[None,1],dtype=tf.float32)\n",
    "\n",
    "# 3.\n",
    "sigmoid_activation = tf.sigmoid(tf.add(tf.matmul(x_data,a1),b1))\n",
    "relu_activation = tf.nn.relu(tf.add(tf.matmul(x_data,a2),b2))\n",
    "\n",
    "# 4.\n",
    "loss1 = tf.reduce_mean(tf.square(tf.subtract(sigmoid_activation,0.75)))\n",
    "loss2 = tf.reduce_mean(tf.square(tf.subtract(relu_activation,0.75)))\n",
    "\n",
    "# 5.\n",
    "my_opt = tf.train.GradientDescentOptimizer(0.01)\n",
    "train_step_sigmoid = my_opt.minimize(loss1)\n",
    "train_step_relu = my_opt.minimize(loss2)"
   ]
  },
  {
   "cell_type": "code",
   "execution_count": 33,
   "metadata": {},
   "outputs": [],
   "source": [
    "# 6.\n",
    "init = tf.global_variables_initializer()\n",
    "sess.run(init)\n",
    "\n",
    "loss_vec_sigmoid=[]\n",
    "loss_vec_relu=[]\n",
    "activation_sigmoid=[]\n",
    "activation_relu=[]\n",
    "\n",
    "for i in range(750):\n",
    "    rand_indices = np.random.choice(len(x),size=batch_size)\n",
    "    x_vals = x[rand_indices].reshape(-1,1)\n",
    "    sess.run(train_step_sigmoid,feed_dict={x_data:x_vals})\n",
    "    sess.run(train_step_relu,feed_dict={x_data:x_vals})\n",
    "    \n",
    "    loss_vec_sigmoid.append(sess.run(loss1,feed_dict={x_data:x_vals}))\n",
    "    loss_vec_relu.append(sess.run(loss2,feed_dict={x_data:x_vals}))\n",
    "    \n",
    "    activation_sigmoid.append(np.mean(sess.run(sigmoid_activation,feed_dict={x_data:x_vals})))\n",
    "    activation_relu.append(np.mean(sess.run(relu_activation,feed_dict={x_data:x_vals})))"
   ]
  },
  {
   "cell_type": "code",
   "execution_count": 35,
   "metadata": {},
   "outputs": [
    {
     "data": {
      "image/png": "[encoded data removed]",
      "text/plain": [
       "<Figure size 576x288 with 2 Axes>"
      ]
     },
     "metadata": {
      "needs_background": "light"
     },
     "output_type": "display_data"
    }
   ],
   "source": [
    "fig,ax = plt.subplots(1,2,figsize=(8,4))\n",
    "ax[0].plot(activation_sigmoid,'k-',label='Sigmoid activation')\n",
    "ax[0].plot(activation_relu,'r--',label='ReLU activation')\n",
    "\n",
    "\n",
    "ax[1].plot(loss_vec_sigmoid,'k-',label='Sigmoid Loss')\n",
    "ax[1].plot(loss_vec_relu,'r--',label='ReLU Loss')\n",
    "\n",
    "for axes in ax:\n",
    "    axes.set_xlim([0,750])\n",
    "    axes.set_ylim([0,1.0])\n",
    "    axes.set_title('Activation Outputs')\n",
    "    axes.set_xlabel('Generation')\n",
    "    axes.set_ylabel('Outputs')\n",
    "    axes.legend(loc='upper right')\n",
    "    \n",
    "plt.tight_layout()"
   ]
  },
  {
   "cell_type": "markdown",
   "metadata": {},
   "source": [
    "relu 활성화 함수의 모양을 보면 sigmoid 함수보다도 더 zero value를 돌려낸다. 이런 타입의 행동을 sparsity라고 여긴다. 이런 sparsity는 수렴의 속도가 빨라지는 결과를 만들지만 그래디언트 조정을 상실한 결과를 만든다.\n",
    "\n",
    "반면에 sigmoid 활성화 함수는 매우 잘 통제된 그래디언트를 가지면서도 ReLU 함수만큼 extreme한 값을 가질 위험을 감수하지 않는다.\n",
    "\n",
    "대부분의 활성화 함수는 relu와 비슷한 형태를 갖거나 (ex)softplus,Leaky ReLU 등) sigmoid 함수와 비슷한 형태를 갖는다(ex)tanh,heavyside step, arctangent 등). 어찌되었든 활성화 함수의 선택은 신경망의 수렴과 output에 큰 영향을 미친다는 것을 아는게 중요하다."
   ]
  },
  {
   "cell_type": "markdown",
   "metadata": {},
   "source": [
    "# Implementing a one-layer neural network\n",
    "iris 데이터셋을 가지고 신경망을 구성해보도록 한다.\n",
    "\n",
    "하나의 은닉층을 만들어 볼 것인데 이 은닉층은 fully connected neural network가 행렬 연산에 기초를 두고 있다는 사실을 이해하는데 있어 중요하다. 마찬가지로 데이터의 차원과 행렬이 올바로 정렬되는 것 역시 중요하다.\n",
    "\n",
    "다음은 회귀 문제이므로 mse를 loss 함수로 사용하도록 한다."
   ]
  },
  {
   "cell_type": "code",
   "execution_count": 3,
   "metadata": {},
   "outputs": [],
   "source": [
    "# 1.\n",
    "from sklearn.datasets import load_iris\n",
    "\n",
    "# 2 .\n",
    "iris = load_iris()\n",
    "iris_df = pd.DataFrame(iris.data, columns = iris.feature_names)"
   ]
  },
  {
   "cell_type": "code",
   "execution_count": 4,
   "metadata": {},
   "outputs": [
    {
     "data": {
      "text/html": [
       "<div>\n",
       "<style scoped>\n",
       "    .dataframe tbody tr th:only-of-type {\n",
       "        vertical-align: middle;\n",
       "    }\n",
       "\n",
       "    .dataframe tbody tr th {\n",
       "        vertical-align: top;\n",
       "    }\n",
       "\n",
       "    .dataframe thead th {\n",
       "        text-align: right;\n",
       "    }\n",
       "</style>\n",
       "<table border=\"1\" class=\"dataframe\">\n",
       "  <thead>\n",
       "    <tr style=\"text-align: right;\">\n",
       "      <th></th>\n",
       "      <th>sepal length (cm)</th>\n",
       "      <th>sepal width (cm)</th>\n",
       "      <th>petal length (cm)</th>\n",
       "      <th>petal width (cm)</th>\n",
       "    </tr>\n",
       "  </thead>\n",
       "  <tbody>\n",
       "    <tr>\n",
       "      <td>0</td>\n",
       "      <td>5.1</td>\n",
       "      <td>3.5</td>\n",
       "      <td>1.4</td>\n",
       "      <td>0.2</td>\n",
       "    </tr>\n",
       "    <tr>\n",
       "      <td>1</td>\n",
       "      <td>4.9</td>\n",
       "      <td>3.0</td>\n",
       "      <td>1.4</td>\n",
       "      <td>0.2</td>\n",
       "    </tr>\n",
       "    <tr>\n",
       "      <td>2</td>\n",
       "      <td>4.7</td>\n",
       "      <td>3.2</td>\n",
       "      <td>1.3</td>\n",
       "      <td>0.2</td>\n",
       "    </tr>\n",
       "    <tr>\n",
       "      <td>3</td>\n",
       "      <td>4.6</td>\n",
       "      <td>3.1</td>\n",
       "      <td>1.5</td>\n",
       "      <td>0.2</td>\n",
       "    </tr>\n",
       "    <tr>\n",
       "      <td>4</td>\n",
       "      <td>5.0</td>\n",
       "      <td>3.6</td>\n",
       "      <td>1.4</td>\n",
       "      <td>0.2</td>\n",
       "    </tr>\n",
       "    <tr>\n",
       "      <td>...</td>\n",
       "      <td>...</td>\n",
       "      <td>...</td>\n",
       "      <td>...</td>\n",
       "      <td>...</td>\n",
       "    </tr>\n",
       "    <tr>\n",
       "      <td>145</td>\n",
       "      <td>6.7</td>\n",
       "      <td>3.0</td>\n",
       "      <td>5.2</td>\n",
       "      <td>2.3</td>\n",
       "    </tr>\n",
       "    <tr>\n",
       "      <td>146</td>\n",
       "      <td>6.3</td>\n",
       "      <td>2.5</td>\n",
       "      <td>5.0</td>\n",
       "      <td>1.9</td>\n",
       "    </tr>\n",
       "    <tr>\n",
       "      <td>147</td>\n",
       "      <td>6.5</td>\n",
       "      <td>3.0</td>\n",
       "      <td>5.2</td>\n",
       "      <td>2.0</td>\n",
       "    </tr>\n",
       "    <tr>\n",
       "      <td>148</td>\n",
       "      <td>6.2</td>\n",
       "      <td>3.4</td>\n",
       "      <td>5.4</td>\n",
       "      <td>2.3</td>\n",
       "    </tr>\n",
       "    <tr>\n",
       "      <td>149</td>\n",
       "      <td>5.9</td>\n",
       "      <td>3.0</td>\n",
       "      <td>5.1</td>\n",
       "      <td>1.8</td>\n",
       "    </tr>\n",
       "  </tbody>\n",
       "</table>\n",
       "<p>150 rows × 4 columns</p>\n",
       "</div>"
      ],
      "text/plain": [
       "     sepal length (cm)  sepal width (cm)  petal length (cm)  petal width (cm)\n",
       "0                  5.1               3.5                1.4               0.2\n",
       "1                  4.9               3.0                1.4               0.2\n",
       "2                  4.7               3.2                1.3               0.2\n",
       "3                  4.6               3.1                1.5               0.2\n",
       "4                  5.0               3.6                1.4               0.2\n",
       "..                 ...               ...                ...               ...\n",
       "145                6.7               3.0                5.2               2.3\n",
       "146                6.3               2.5                5.0               1.9\n",
       "147                6.5               3.0                5.2               2.0\n",
       "148                6.2               3.4                5.4               2.3\n",
       "149                5.9               3.0                5.1               1.8\n",
       "\n",
       "[150 rows x 4 columns]"
      ]
     },
     "execution_count": 4,
     "metadata": {},
     "output_type": "execute_result"
    }
   ],
   "source": [
    "iris_df"
   ]
  },
  {
   "cell_type": "code",
   "execution_count": 86,
   "metadata": {},
   "outputs": [],
   "source": [
    "# 4.\n",
    "from sklearn.model_selection import train_test_split\n",
    "x_vals_train,x_vals_test,y_vals_train,y_vals_test = train_test_split(iris_df.iloc[:,0:3],iris_df.iloc[:,3],test_size=0.8)\n",
    "\n",
    "from sklearn.preprocessing import MinMaxScaler\n",
    "scaler = MinMaxScaler()\n",
    "x_vals_train = scaler.fit_transform(x_vals_train)\n",
    "x_vals_test = scaler.transform(x_vals_test)"
   ]
  },
  {
   "cell_type": "code",
   "execution_count": 87,
   "metadata": {},
   "outputs": [],
   "source": [
    "# 5.\n",
    "batch_size = 50\n",
    "x_data = tf.placeholder(shape=[None,3],dtype=tf.float32)\n",
    "y_target = tf.placeholder(shape=[None,1],dtype=tf.float32)"
   ]
  },
  {
   "cell_type": "code",
   "execution_count": 88,
   "metadata": {},
   "outputs": [],
   "source": [
    "# 6. 중요한 것은 hidden layer에 대해 적절한 모양으로 모델 variable을 선언하는 것이다.\n",
    "# 은닉층의 사이즈는 원하는 어떤 모양이든 될 수 있고, 5개의 노드를 가진 은닉층을 만들기로 한다.\n",
    "\n",
    "hidden_layer_nodes = 5\n",
    "A1 = tf.Variable(tf.random_normal(shape=[3,hidden_layer_nodes])) # -> shape:[None,hidden_layer_nodes]으로 만든다.\n",
    "b1 = tf.Variable(tf.random_normal(shape=[hidden_layer_nodes]))\n",
    "A2 = tf.Variable(tf.random_normal(shape=[hidden_layer_nodes,1]))\n",
    "b2 = tf.Variable(tf.random_normal(shape=[1]))"
   ]
  },
  {
   "cell_type": "code",
   "execution_count": 89,
   "metadata": {},
   "outputs": [],
   "source": [
    "# 7. 모델을 두 step으로 선언. 첫 번째 스텝은 은닉층을 만들어내고, 두 번째 스텝은 출력층(final_output)을 만들어낸다.\n",
    "hidden_output = tf.nn.relu(tf.add(tf.matmul(x_data,A1),b1))\n",
    "final_output = tf.nn.relu(tf.add(tf.matmul(hidden_output,A2),b2))\n",
    "\n",
    "# 8. \n",
    "loss  = tf.reduce_mean(tf.square(y_target - final_output))\n",
    "\n",
    "# 9.\n",
    "my_opt = tf.train.GradientDescentOptimizer(0.005)\n",
    "train_step = my_opt.minimize(loss)"
   ]
  },
  {
   "cell_type": "code",
   "execution_count": 90,
   "metadata": {},
   "outputs": [
    {
     "name": "stdout",
     "output_type": "stream",
     "text": [
      "Generation : 50, Loss = 0.7637465000152588 \n",
      "Generation : 100, Loss = 0.5152580142021179 \n",
      "Generation : 150, Loss = 0.342691034078598 \n",
      "Generation : 200, Loss = 0.18745914101600647 \n",
      "Generation : 250, Loss = 0.1859291046857834 \n",
      "Generation : 300, Loss = 0.12277150899171829 \n",
      "Generation : 350, Loss = 0.1194532960653305 \n",
      "Generation : 400, Loss = 0.13153590261936188 \n",
      "Generation : 450, Loss = 0.0807112529873848 \n",
      "Generation : 500, Loss = 0.07261840999126434 \n"
     ]
    }
   ],
   "source": [
    "# 10.\n",
    "init = tf.global_variables_initializer()\n",
    "sess.run(init)\n",
    "\n",
    "loss_vec = []\n",
    "test_loss = []\n",
    "for i in range(500):\n",
    "    rand_index = np.random.choice(len(x_vals_train),size=batch_size)\n",
    "    rand_x = x_vals_train[rand_index].reshape(-1,3)\n",
    "    rand_y = y_vals_train.values[rand_index].reshape(-1,1)\n",
    "    sess.run(train_step,feed_dict={x_data:rand_x,y_target:rand_y})\n",
    "    \n",
    "    temp_loss = sess.run(loss,feed_dict={x_data:rand_x,y_target:rand_y})\n",
    "    loss_vec.append(np.sqrt(temp_loss))\n",
    "    \n",
    "    test_temp_loss = sess.run(loss,feed_dict = {x_data:x_vals_test.reshape(-1,3),y_target:y_vals_test.values.reshape(-1,1)})\n",
    "    test_loss.append(np.sqrt(test_temp_loss))\n",
    "    if (i+1)%50==0:\n",
    "        print('Generation : {}, Loss = {} '.format(i+1,temp_loss))"
   ]
  },
  {
   "cell_type": "code",
   "execution_count": 91,
   "metadata": {},
   "outputs": [
    {
     "data": {
      "text/plain": [
       "<matplotlib.legend.Legend at 0x1548e4a2d48>"
      ]
     },
     "execution_count": 91,
     "metadata": {},
     "output_type": "execute_result"
    },
    {
     "data": {
      "image/png": "[encoded data removed]",
      "text/plain": [
       "<Figure size 432x288 with 1 Axes>"
      ]
     },
     "metadata": {
      "needs_background": "light"
     },
     "output_type": "display_data"
    }
   ],
   "source": [
    "plt.plot(loss_vec,'k-',label='Train Loss')\n",
    "plt.plot(test_loss,'r--',label='Test Loss')\n",
    "plt.title('MSE')\n",
    "plt.xlabel('Generation')\n",
    "plt.ylabel('Loss')\n",
    "plt.legend(loc='upper right')"
   ]
  },
  {
   "cell_type": "markdown",
   "metadata": {},
   "source": [
    "입력층(3개) -> 은닉층(5개) : 15 weights + 5 biases<br>\n",
    "은닉층(5개) -> 출력층(1개) : 5 weights + 1 bias<br>\n",
    "-> 26 variables\n",
    "\n",
    "train data와 test data의 loss를 보건대 모델이 언제 과대적합을 시작하는지 확인할 수 있다.<br>\n",
    "또 확인할 수 있는 것은 train set loss는 test set loss만큼이나 부드럽지는 않다는 것이다. 여기에는 두 가지 이유가 있다.\n",
    "1. 우리는 test set보다 작은 크기의 배치를 사용하고 있다.\n",
    "2. train set에서 학습 중에 있으며 test set은 모델 variables에 영향을 미치지 않는다는 것이다."
   ]
  },
  {
   "cell_type": "markdown",
   "metadata": {},
   "source": [
    "# Implementing different layers\n",
    "어떻게 다른 층(layer)을 구현하는지 아는 것은 매우 중요한 문제이다. 이전 recipe에서 완전 연결 층을 구현하는 것을 살펴보았는데 텐서플로우에는 좀 더 다양한 타입의 layer에 대해 구현된 내장함수들이 많다. 가장 인기있는 층은 convolutional layer와 maxpool layer이다. 어떻게 input 데이터와 완전 연결된 데이터와 함께 구현하는지 살펴보도록 한다.\n",
    "\n",
    "우선은 이러한 층들이 1차원 데이터에 어떻게 적용되는지, 그리고 2차원 데이터에는 어떻게 적용되는지 살피도록 한다.\n",
    "\n",
    "신경망은 어떤 모양으로든 layered될 수 있는반면 가장 일반적인 사용방법 중 하나는 convolutional layer와 fully-connected layer(완전연결층)을 사용하여 먼저 feature를 만드는 것이다. 만일 너무 많은 feature가 있다면 maxpool layer를 사용하는 것이 일반적이다. 이러한 layer를 사용한 후 비선형 층을 쓰는데 흔히 활성화 함수로써 소개된다. Convolutional neural networks(CNNs)를 사용한다는 것은 일반적으로 convolutional, maxpool, activation,convolutional, maxpool, activation form을 갖는다는 것이다.\n"
   ]
  },
  {
   "cell_type": "markdown",
   "metadata": {},
   "source": [
    "### 1차원 데이터"
   ]
  },
  {
   "cell_type": "code",
   "execution_count": 62,
   "metadata": {},
   "outputs": [],
   "source": [
    "sess = tf.Session()\n",
    "# 1. 2. data의 random array를 생성\n",
    "data_size = 25\n",
    "data_1d = np.random.normal(size=data_size)\n",
    "x_input_1d = tf.placeholder(dtype=tf.float32,shape=[data_size])"
   ]
  },
  {
   "cell_type": "markdown",
   "metadata": {},
   "source": [
    "(아래 함수에 대한 상술)<br>\n",
    "텐서플로우의 layer 함수는 4D data를 다루기 위해 고안되었다. (4D = \\[batch_size,width,height,channels\\])<br>\n",
    "차원을 확장(extend)하거나 필요한 경우 감소(collapse)시키기 위해 input data와 output를 수정할 필요가 있다.<br>\n",
    "우리 데이터의 경우 batch_size=1, width=1, height=25, channel_size=1를 갖는다. \n",
    "\n",
    "차원을 확장(expand)하기 위해서는 expand_dims() 함수를 사용하고, 차원을 감소(collapse)시키기 위해서는 squeeze() 함수를 사용하도록 한다. convolutional layer의 output은 $output\\_size = {(W-F+2P) \\over {S+1}}$로 계산된다. W는 input_size, F는 filter size, P는 padding size, S는 stride size이다."
   ]
  },
  {
   "cell_type": "code",
   "execution_count": 63,
   "metadata": {},
   "outputs": [],
   "source": [
    "# 3. convolutional layer를 만드는 함수를 정의\n",
    "def conv_layer_1d(input_1d, my_filter):\n",
    "    # Make 1d input into 4d\n",
    "    input_2d = tf.expand_dims(input_1d,0)\n",
    "    input_3d = tf.expand_dims(input_2d,0)\n",
    "    input_4d = tf.expand_dims(input_3d,3)\n",
    "    # Perform convolution\n",
    "    convolution_output = tf.nn.conv2d(input_4d,filter=my_filter,\n",
    "                                      strides=[1,1,1,1],padding='VALID')\n",
    "    # Now drop extra dimensions\n",
    "    conv_output_1d = tf.squeeze(convolution_output)\n",
    "    return (conv_output_1d)\n",
    "\n",
    "my_filter = tf.Variable(tf.random_normal(shape=[1,5,1,1]))\n",
    "my_convolution_output = conv_layer_1d(x_input_1d, my_filter)"
   ]
  },
  {
   "cell_type": "code",
   "execution_count": 64,
   "metadata": {},
   "outputs": [],
   "source": [
    "# 다음과 같은 모양의 tensor에 conv2d를 적용한다.\n",
    "input_1d = data_1d\n",
    "input_2d = tf.expand_dims(input_1d,0)\n",
    "input_3d = tf.expand_dims(input_2d,0)\n",
    "input_4d = tf.expand_dims(input_3d,3)"
   ]
  },
  {
   "cell_type": "code",
   "execution_count": 65,
   "metadata": {},
   "outputs": [
    {
     "data": {
      "text/plain": [
       "TensorShape([Dimension(1), Dimension(1), Dimension(25), Dimension(1)])"
      ]
     },
     "execution_count": 65,
     "metadata": {},
     "output_type": "execute_result"
    }
   ],
   "source": [
    "input_4d.shape"
   ]
  },
  {
   "cell_type": "code",
   "execution_count": 66,
   "metadata": {},
   "outputs": [
    {
     "data": {
      "text/plain": [
       "TensorShape([Dimension(21)])"
      ]
     },
     "execution_count": 66,
     "metadata": {},
     "output_type": "execute_result"
    }
   ],
   "source": [
    "conv_layer_1d(tf.constant(data_1d,dtype=tf.float32),my_filter).shape"
   ]
  },
  {
   "cell_type": "code",
   "execution_count": 67,
   "metadata": {},
   "outputs": [],
   "source": [
    "# 4. 텐서플로우의 activation 함수는 element_wise하게 작동하는 것이 default이다.\n",
    "# 이것이 의미하는 것은 관심 layer에서 활성화 함수를 호출해야함을 의미한다.\n",
    "def activation(input_1d):\n",
    "    return tf.nn.relu(input_1d)\n",
    "my_activation_output = activation(my_convolution_output)"
   ]
  },
  {
   "cell_type": "code",
   "execution_count": 68,
   "metadata": {},
   "outputs": [],
   "source": [
    "# 5. maxpool layer함수를 선언. maxpool : moving window across out one-dimensional vector\n",
    "# 이 example을 위해 width를 5로 가지도록 초기화하도록 한다.\n",
    "\n",
    "# maxpool 인수가 filter를 가지지는 못하지만 그외에는 convolutional layer와 비슷하게 size, stride, padding option을 가지고 있다.\n",
    "# 5 width의 유효한 padding의 window를 가지고 있으므로 output array는 4개 가량 적은 entry를 가지고 있다.\n",
    "\n",
    "def max_pool(input_1d,width):\n",
    "    # 1d input을 4d로 만든다.\n",
    "    input_2d = tf.expand_dims(input_1d,0)\n",
    "    input_3d = tf.expand_dims(input_2d,0)\n",
    "    input_4d = tf.expand_dims(input_3d,3)\n",
    "    # Perform the max pool operation\n",
    "    pool_output = tf.nn.max_pool(input_4d,ksize=[1,1,width,1],\n",
    "                                 strides=[1,1,1,1],padding='VALID')\n",
    "    pool_output_1d = tf.squeeze(pool_output)\n",
    "    return pool_output_1d\n",
    "\n",
    "my_maxpool_output = max_pool(my_activation_output,width=5)"
   ]
  },
  {
   "cell_type": "code",
   "execution_count": 69,
   "metadata": {},
   "outputs": [],
   "source": [
    "# 6. 연결할 마지막 층은 완전 연결층이다. 여기서 1d array를 넣고 나타내는 value들의 숫자를 출력하는 함수를 만들기로 한다.\n",
    "# 1d array로 행렬 곱을 하기 위해서는 2d로 차원을 확장해야한다.\n",
    "\n",
    "def fully_connected(input_layer,num_outputs):\n",
    "    # Create weights (이 예제 기준으로 17x5 모양의 weight)\n",
    "    weight_shape = tf.squeeze(tf.stack([tf.shape(input_layer),[num_outputs]]))\n",
    "    weight = tf.random_normal(weight_shape,stddev=0.1)\n",
    "    bias = tf.random_normal(shape=[num_outputs])\n",
    "    # Make input into 2d : (이 예제 기준 17의 길이를 갖는 1d array->(1,17) 모양으로)\n",
    "    input_layer_2d = tf.expand_dims(input_layer,0)\n",
    "    # Perform fully connected operations : [1,17]x[17x5] -> [1x5]\n",
    "    full_output = tf.add(tf.matmul(input_layer_2d,weight),bias)\n",
    "    # Drop extra dimensions\n",
    "    full_output_1d = tf.squeeze(full_output)\n",
    "    return full_output_1d\n",
    "\n",
    "my_full_output = fully_connected(my_maxpool_output,5)"
   ]
  },
  {
   "cell_type": "code",
   "execution_count": 70,
   "metadata": {},
   "outputs": [
    {
     "data": {
      "text/plain": [
       "<tf.Tensor 'Squeeze_34:0' shape=(17,) dtype=float32>"
      ]
     },
     "execution_count": 70,
     "metadata": {},
     "output_type": "execute_result"
    }
   ],
   "source": [
    "my_maxpool_output"
   ]
  },
  {
   "cell_type": "code",
   "execution_count": 71,
   "metadata": {},
   "outputs": [
    {
     "data": {
      "text/plain": [
       "<tf.Tensor 'Shape_16:0' shape=(1,) dtype=int32>"
      ]
     },
     "execution_count": 71,
     "metadata": {},
     "output_type": "execute_result"
    }
   ],
   "source": [
    "tf.shape(my_maxpool_output)"
   ]
  },
  {
   "cell_type": "code",
   "execution_count": 74,
   "metadata": {},
   "outputs": [
    {
     "data": {
      "text/plain": [
       "array([17,  5])"
      ]
     },
     "execution_count": 74,
     "metadata": {},
     "output_type": "execute_result"
    }
   ],
   "source": [
    "tf.squeeze(tf.stack([tf.shape(my_maxpool_output),[5]])).eval(session=tf.Session())"
   ]
  },
  {
   "cell_type": "code",
   "execution_count": 52,
   "metadata": {},
   "outputs": [
    {
     "data": {
      "text/plain": [
       "<tf.Tensor 'Squeeze_28:0' shape=(5,) dtype=float32>"
      ]
     },
     "execution_count": 52,
     "metadata": {},
     "output_type": "execute_result"
    }
   ],
   "source": [
    "fully_connected(my_maxpool_output,5)"
   ]
  },
  {
   "cell_type": "code",
   "execution_count": 25,
   "metadata": {},
   "outputs": [
    {
     "name": "stdout",
     "output_type": "stream",
     "text": [
      "Input = array of length 25, \n",
      " Convolution w/filter, length = 5, stride size = 1, results in an array of length 21:\n",
      "[ 0.85500693 -1.33999     0.64210904 -0.94360477  0.5096399   0.10311145\n",
      " -0.49917123 -0.9249848   1.3018596   0.94368243 -0.2605578  -1.3951972\n",
      "  1.7582327  -0.33547372 -1.3130535   1.1222476   0.6201909  -2.749828\n",
      "  1.9849247   0.6371075  -3.0177479 ]\n",
      "\n",
      "Input = the above array of length 21, \n",
      "Relu element wise returns the array of length 21:\n",
      "[ 0.85500693 -0.          0.64210904 -0.          0.5096399   0.10311145\n",
      " -0.         -0.          1.3018596   0.94368243 -0.         -0.\n",
      "  1.7582327  -0.         -0.          1.1222476   0.6201909  -0.\n",
      "  1.9849247   0.6371075  -0.        ]\n",
      "\n",
      "Input = the above array of length 21\n",
      "MaxPool, window length = 5, stride size = 1, results in the array of length 17:\n",
      "[0.85500693 0.64210904 0.64210904 0.5096399  1.3018596  1.3018596\n",
      " 1.3018596  1.3018596  1.7582327  1.7582327  1.7582327  1.7582327\n",
      " 1.7582327  1.1222476  1.9849247  1.9849247  1.9849247 ]\n",
      "\n",
      "Input = the above array of length 17\n",
      "Fully connected layer on all four rows with five outputs:\n",
      "[ 0.7166205   0.13746268  0.9144955  -1.7155596   0.41182023]\n"
     ]
    }
   ],
   "source": [
    "# 7.\n",
    "init = tf.global_variables_initializer()\n",
    "sess.run(init)\n",
    "feeddict = {x_input_1d:data_1d}\n",
    "# Convolution Output\n",
    "print('Input = array of length 25, \\n Convolution w/filter, length = 5, stride size = 1, results in an array of length 21:')\n",
    "print(sess.run(my_convolution_output,feed_dict = feeddict))\n",
    "# Activation Output\n",
    "print('\\nInput = the above array of length 21, \\nRelu element wise returns the array of length 21:')\n",
    "print(sess.run(my_activation_output,feed_dict = feeddict))\n",
    "# Maxpool Output\n",
    "print('\\nInput = the above array of length 21')\n",
    "print('MaxPool, window length = 5, stride size = 1, results in the array of length 17:')\n",
    "print(sess.run(my_maxpool_output,feed_dict=feeddict))\n",
    "# Fully Connected Output\n",
    "print('\\nInput = the above array of length 17')\n",
    "print('Fully connected layer on all four rows with five outputs:')\n",
    "print(sess.run(my_full_output,feed_dict=feeddict))\n"
   ]
  },
  {
   "cell_type": "markdown",
   "metadata": {},
   "source": [
    "### 2차원 데이터"
   ]
  },
  {
   "cell_type": "code",
   "execution_count": 75,
   "metadata": {},
   "outputs": [],
   "source": [
    "# 1. 2.\n",
    "sess = tf.Session()\n",
    "data_size = [10,10]\n",
    "data_2d = np.random.normal(size=data_size)\n",
    "x_input_2d = tf.placeholder(dtype = tf.float32, shape = data_size)"
   ]
  },
  {
   "cell_type": "code",
   "execution_count": 76,
   "metadata": {},
   "outputs": [],
   "source": [
    "# 3. 1d 데이터와 마찬가지로 convolutional layer 함수를 정의한다. 우리 데이터는 이미 weight와 height를 갖고 있다.\n",
    "# batch_size와 channel size를 1씩 갖도록 차원을 확장하도록 한다.\n",
    "# filter는 2x2 filter를 사용하고 두 방향으로 모두 stride를 2씩 갖도록 한다.\n",
    "# valid padding : no zeros padding\n",
    "# input : 10x10 -> output : 5x5\n",
    "\n",
    "def conv_layer_2d(input_2d,mt_filter):\n",
    "    # 차원 확장\n",
    "    input_3d = tf.expand_dims(input_2d,0)\n",
    "    input_4d = tf.expand_dims(input_3d,3)\n",
    "    # Perform convolution\n",
    "    convolution_output = tf.nn.conv2d(input_4d,filter=my_filter,strides = [1,2,2,1],padding='VALID')\n",
    "    # 필요없는 차원 제거\n",
    "    conv_output_2d = tf.squeeze(convolution_output)\n",
    "    return (conv_output_2d)\n",
    "\n",
    "my_filter = tf.Variable(tf.random_normal(shape=[2,2,1,1]))\n",
    "my_convolution_output = conv_layer_2d(x_input_2d,my_filter)\n",
    "\n",
    "# 4. activation layer\n",
    "def activation(input_2d):\n",
    "    return tf.nn.relu(input_2d)\n",
    "my_activation_output = activation(my_convolution_output)\n",
    "\n",
    "# 5. maxpool\n",
    "def max_pool(input_2d,width,height):\n",
    "    # 2d를 4d로 차원 확장\n",
    "    input_3d = tf.expand_dims(input_2d,0)\n",
    "    input_4d = tf.expand_dims(input_3d,3)\n",
    "    # maxpooling 수행\n",
    "    pool_output = tf.nn.max_pool(input_4d,ksize = [1,height,width,1],strides=[1,1,1,1],padding='VALID')\n",
    "    # 필요없는 차원 제거\n",
    "    pool_output_2d = tf.squeeze(pool_output)\n",
    "    return pool_output_2d\n",
    "my_maxpool_output = max_pool(my_activation_output,width=2,height=2)"
   ]
  },
  {
   "cell_type": "code",
   "execution_count": 78,
   "metadata": {},
   "outputs": [],
   "source": [
    "# 6. 완전 연결층\n",
    "def fully_connected(input_layer,num_outputs):\n",
    "    # 1d로 펼침\n",
    "    flat_input = tf.reshape(input_layer,[-1])\n",
    "    # weight를 생성\n",
    "    weight_shape = tf.squeeze(tf.stack([tf.shape(flat_input),[num_outputs]]))\n",
    "    weight = tf.random_normal(weight_shape,mean=0.0,stddev=0.1)\n",
    "    bias = tf.random_normal(shape=[num_outputs])\n",
    "    # 2d로의 변환\n",
    "    input_2d = tf.expand_dims(flat_input,0)\n",
    "    # fully connected 연산을 수행\n",
    "    full_output = tf.add(tf.matmul(input_2d,weight),bias)\n",
    "    # 필요없는 차원을 제거\n",
    "    full_output_2d = tf.squeeze(full_output)\n",
    "    return full_output_2d\n",
    "my_full_output = fully_connected(my_maxpool_output,5)"
   ]
  },
  {
   "cell_type": "code",
   "execution_count": 83,
   "metadata": {},
   "outputs": [
    {
     "data": {
      "text/plain": [
       "array([[ 0.17721072, -0.15488986, -0.21260242,  0.56059575, -1.01949807,\n",
       "         0.34864558, -0.92424455,  0.38667968,  2.13895705,  0.11211288],\n",
       "       [-1.69107549,  0.344585  , -1.62572456, -0.10437404, -0.62266953,\n",
       "         0.96705597, -0.34790584, -2.20265757,  0.03885886,  0.17812878],\n",
       "       [-0.37412396, -0.75113919,  0.22029483,  0.80759555,  0.59531153,\n",
       "        -0.58223202, -1.66206051,  0.52841887,  0.85563953,  0.19457634],\n",
       "       [-1.40625657,  0.58830619, -1.04350326,  1.15999962, -0.2132167 ,\n",
       "         0.61869452, -0.42279259,  1.30269224, -1.09047714, -1.59157658],\n",
       "       [ 0.7414246 ,  1.20427545, -1.28800571, -0.34962957,  0.43371646,\n",
       "        -0.31518817,  0.84201078,  1.50614737,  0.91363906, -1.7109076 ],\n",
       "       [ 0.15793178,  1.63096007,  0.93616584,  0.31390313, -0.01115182,\n",
       "         0.31788095,  1.49017361, -1.05622525, -1.16677253,  0.94474135],\n",
       "       [-1.04024967,  0.69313684, -0.96980658,  1.28890584,  0.51221698,\n",
       "         0.03034874,  2.69279536,  0.79885362, -0.61899279, -0.41437526],\n",
       "       [-0.15821399,  0.68218829,  0.15987396,  0.58227165,  1.09210807,\n",
       "         0.08291235, -1.56983979,  0.64976762, -0.00837142, -0.32102294],\n",
       "       [-0.02398268,  1.70303131,  0.76484213, -0.7113921 , -1.98328304,\n",
       "         1.09115234,  0.10262709, -1.17905702, -0.42112421, -0.7140345 ],\n",
       "       [-1.55869048,  0.76388507,  0.25189676,  0.10182506, -0.61072482,\n",
       "         1.80764986,  0.39537451,  0.60763306,  0.08873117,  1.13873516]])"
      ]
     },
     "execution_count": 83,
     "metadata": {},
     "output_type": "execute_result"
    }
   ],
   "source": [
    "data_2d"
   ]
  },
  {
   "cell_type": "code",
   "execution_count": 80,
   "metadata": {},
   "outputs": [
    {
     "name": "stdout",
     "output_type": "stream",
     "text": [
      "Input = [10x10] array, \n",
      " 2x2 Convolutional, stride size = [2x2], results in the [5x5] array :\n",
      "[[ 4.09        3.384551    1.2959204   2.016204   -1.8889536 ]\n",
      " [ 4.539055    0.6745458   0.64520067  0.84590125  2.5430877 ]\n",
      " [-3.4590359  -1.0130177   0.0205945  -5.9580374   4.2465076 ]\n",
      " [-0.19592144 -1.8482584  -3.138966    0.44034484  1.2248111 ]\n",
      " [ 1.0040102  -0.18489403  0.4785836   0.3788745   0.57940215]]\n",
      "\n",
      "Input = the above [5x5] array, \n",
      "Relu element wise returns the [5x5] array :\n",
      "[[ 4.09        3.384551    1.2959204   2.016204   -0.        ]\n",
      " [ 4.539055    0.6745458   0.64520067  0.84590125  2.5430877 ]\n",
      " [-0.         -0.          0.0205945  -0.          4.2465076 ]\n",
      " [-0.         -0.         -0.          0.44034484  1.2248111 ]\n",
      " [ 1.0040102  -0.          0.4785836   0.3788745   0.57940215]]\n",
      "\n",
      "Input = the above [5x5] array\n",
      "MaxPool, stride size = [1x1], results in the [4x4] array : \n",
      "[[ 4.539055    3.384551    2.016204    2.5430877 ]\n",
      " [ 4.539055    0.6745458   0.84590125  4.2465076 ]\n",
      " [-0.          0.0205945   0.44034484  4.2465076 ]\n",
      " [ 1.0040102   0.4785836   0.4785836   1.2248111 ]]\n",
      "\n",
      "Input = the above [4x4] array\n",
      "Fully connected layer on all four rows with five outputs:\n",
      "[-0.5016035   0.18248013 -0.01385403 -1.1688994   2.3926067 ]\n"
     ]
    }
   ],
   "source": [
    "# 7.\n",
    "init = tf.global_variables_initializer()\n",
    "sess.run(init)\n",
    "feeddict = {x_input_2d:data_2d}\n",
    "# Convolution Output\n",
    "print('Input = [10x10] array, \\n 2x2 Convolutional, stride size = [2x2], results in the [5x5] array :')\n",
    "print(sess.run(my_convolution_output,feed_dict = feeddict))\n",
    "# Activation Output\n",
    "print('\\nInput = the above [5x5] array, \\nRelu element wise returns the [5x5] array :')\n",
    "print(sess.run(my_activation_output,feed_dict = feeddict))\n",
    "# Maxpool Output\n",
    "print('\\nInput = the above [5x5] array')\n",
    "print('MaxPool, stride size = [1x1], results in the [4x4] array : ')\n",
    "print(sess.run(my_maxpool_output,feed_dict=feeddict))\n",
    "# Fully Connected Output\n",
    "print('\\nInput = the above [4x4] array')\n",
    "print('Fully connected layer on all four rows with five outputs:')\n",
    "print(sess.run(my_full_output,feed_dict=feeddict))\n"
   ]
  },
  {
   "cell_type": "markdown",
   "metadata": {},
   "source": [
    "convolutional layer의 filter는 filter : \\[filter_height, filter_width, in_channels, out_channels\\] 형식<br>\n",
    "maxpooling은 해당 필터(?)에서 가장 큰 값 하나만을 추출<br>\n",
    "stride는 매번 이동하는 칸"
   ]
  },
  {
   "cell_type": "code",
   "execution_count": 90,
   "metadata": {},
   "outputs": [],
   "source": [
    "temp_filter = tf.constant(np.array([[3,4],[3,4]]))\n",
    "temp_tensor=tf.constant([[1,2,3],[4,5,6],[7,8,9]])"
   ]
  },
  {
   "cell_type": "code",
   "execution_count": 92,
   "metadata": {},
   "outputs": [],
   "source": [
    "temp_filter2 = tf.expand_dims(temp_filter,2)\n",
    "temp_filter3 = tf.expand_dims(temp_filter2,3)\n",
    "temp_tensor2 = tf.expand_dims(temp_tensor,0)\n",
    "temp_tensor3 = tf.expand_dims(temp_tensor2,3)"
   ]
  },
  {
   "cell_type": "code",
   "execution_count": 93,
   "metadata": {},
   "outputs": [],
   "source": [
    "convolution_output = tf.nn.conv2d(temp_tensor3,filter=temp_filter3,strides = [1,1,1,1],padding='VALID')"
   ]
  },
  {
   "cell_type": "markdown",
   "metadata": {},
   "source": [
    "convolutional과 maxpool layer가 텐서플로우에서 1d, 2d 데이터에 대해 어떻게 동작하는지 알아야한다. input 데이터의 사이즈와 상관없이 같은 사이즈의 output을 얻을 수 있는데 이것은 신경망의 유연성을 설명하는데 아주 중요하다.\n",
    "\n",
    "이번 section은 신경망의 연산에서 shape와 size의 중요성을 강조하고 있다."
   ]
  },
  {
   "cell_type": "markdown",
   "metadata": {},
   "source": [
    "# Using a multilayer neural network\n",
    "이제 실제 데이터(birth_data)를 다층 신경망을 이용해 적용하도록 한다.\n",
    "\n",
    "여지껏 익혀온 다층 신경망에 관한 방법을 저체중 출산 데이터로부터 출산 체중을 예측하는데 초점을 두고 사용해보도록 한다.<br>\n",
    "실제 출산시 체중을 타겟으로 만들고 일단은 회귀 문제를 수행한 뒤, 2,500 그램 이상, 2,500 그램 이하로 분류하는 accuracy를 측정하도록 한다."
   ]
  },
  {
   "cell_type": "code",
   "execution_count": 14,
   "metadata": {},
   "outputs": [
    {
     "name": "stdout",
     "output_type": "stream",
     "text": [
      "189\n"
     ]
    },
    {
     "data": {
      "text/html": [
       "<div>\n",
       "<style scoped>\n",
       "    .dataframe tbody tr th:only-of-type {\n",
       "        vertical-align: middle;\n",
       "    }\n",
       "\n",
       "    .dataframe tbody tr th {\n",
       "        vertical-align: top;\n",
       "    }\n",
       "\n",
       "    .dataframe thead th {\n",
       "        text-align: right;\n",
       "    }\n",
       "</style>\n",
       "<table border=\"1\" class=\"dataframe\">\n",
       "  <thead>\n",
       "    <tr style=\"text-align: right;\">\n",
       "      <th></th>\n",
       "      <th>LOW</th>\n",
       "      <th>AGE</th>\n",
       "      <th>LWT</th>\n",
       "      <th>RACE</th>\n",
       "      <th>SMOKE</th>\n",
       "      <th>PTL</th>\n",
       "      <th>HT</th>\n",
       "      <th>UI</th>\n",
       "      <th>BWT</th>\n",
       "    </tr>\n",
       "  </thead>\n",
       "  <tbody>\n",
       "    <tr>\n",
       "      <td>0</td>\n",
       "      <td>1</td>\n",
       "      <td>28</td>\n",
       "      <td>113</td>\n",
       "      <td>1</td>\n",
       "      <td>1</td>\n",
       "      <td>1</td>\n",
       "      <td>0</td>\n",
       "      <td>1</td>\n",
       "      <td>709</td>\n",
       "    </tr>\n",
       "    <tr>\n",
       "      <td>1</td>\n",
       "      <td>1</td>\n",
       "      <td>29</td>\n",
       "      <td>130</td>\n",
       "      <td>0</td>\n",
       "      <td>0</td>\n",
       "      <td>0</td>\n",
       "      <td>0</td>\n",
       "      <td>1</td>\n",
       "      <td>1021</td>\n",
       "    </tr>\n",
       "    <tr>\n",
       "      <td>2</td>\n",
       "      <td>1</td>\n",
       "      <td>34</td>\n",
       "      <td>187</td>\n",
       "      <td>1</td>\n",
       "      <td>1</td>\n",
       "      <td>0</td>\n",
       "      <td>1</td>\n",
       "      <td>0</td>\n",
       "      <td>1135</td>\n",
       "    </tr>\n",
       "    <tr>\n",
       "      <td>3</td>\n",
       "      <td>1</td>\n",
       "      <td>25</td>\n",
       "      <td>105</td>\n",
       "      <td>1</td>\n",
       "      <td>0</td>\n",
       "      <td>1</td>\n",
       "      <td>1</td>\n",
       "      <td>0</td>\n",
       "      <td>1330</td>\n",
       "    </tr>\n",
       "    <tr>\n",
       "      <td>4</td>\n",
       "      <td>1</td>\n",
       "      <td>25</td>\n",
       "      <td>85</td>\n",
       "      <td>1</td>\n",
       "      <td>0</td>\n",
       "      <td>0</td>\n",
       "      <td>0</td>\n",
       "      <td>1</td>\n",
       "      <td>1474</td>\n",
       "    </tr>\n",
       "  </tbody>\n",
       "</table>\n",
       "</div>"
      ],
      "text/plain": [
       "   LOW  AGE  LWT  RACE  SMOKE  PTL  HT  UI   BWT\n",
       "0    1   28  113     1      1    1   0   1   709\n",
       "1    1   29  130     0      0    0   0   1  1021\n",
       "2    1   34  187     1      1    0   1   0  1135\n",
       "3    1   25  105     1      0    1   1   0  1330\n",
       "4    1   25   85     1      0    0   0   1  1474"
      ]
     },
     "execution_count": 14,
     "metadata": {},
     "output_type": "execute_result"
    }
   ],
   "source": [
    "# 1.\n",
    "sess = tf.Session()\n",
    "df = pd.read_excel('birth.xlsx')\n",
    "print(len(df))\n",
    "df.head()"
   ]
  },
  {
   "cell_type": "code",
   "execution_count": 15,
   "metadata": {},
   "outputs": [],
   "source": [
    "# 2.\n",
    "x_vals = df.iloc[:,0:8].values\n",
    "y_vals = df.iloc[:,8].values\n",
    "\n",
    "# 3. \n",
    "\n",
    "\n",
    "# 4. 학습,테스트 데이터로 분할 & activation 함수에 0~1로 스케일링 되어있으면 수렴하는데 좋다.\n",
    "\n",
    "from sklearn.model_selection import train_test_split\n",
    "x_vals_train,x_vals_test,y_vals_train,y_vals_test = train_test_split(x_vals,y_vals,\n",
    "                                            test_size=0.2)\n",
    "\n",
    "target_train = x_vals_train[:,0]\n",
    "target_test = x_vals_test[:,0]\n",
    "\n",
    "x_vals_train = x_vals_train[:,1:8]\n",
    "x_vals_test = x_vals_test[:,1:8]\n",
    "\n",
    "from sklearn.preprocessing import MinMaxScaler\n",
    "scaler = MinMaxScaler()\n",
    "x_vals_train_scaled = scaler.fit_transform(x_vals_train)\n",
    "x_vals_test_scaled = scaler.transform(x_vals_test)\n",
    "train_max,train_min = x_vals.max(), x_vals.min()"
   ]
  },
  {
   "cell_type": "code",
   "execution_count": 202,
   "metadata": {},
   "outputs": [],
   "source": [
    "# 5. 다층을 가진 신경망이므로 비슷하게 초기 가중치를 결정\n",
    "def init_weight(shape,st_dev):\n",
    "    weight = tf.Variable(tf.random_normal(shape=shape,stddev=st_dev))\n",
    "    return weight\n",
    "def init_bias(shape,st_dev):\n",
    "    bias = tf.Variable(tf.random_normal(shape,stddev=st_dev))\n",
    "    return bias\n",
    "\n",
    "# 6.\n",
    "x_data = tf.placeholder(shape=[None,7],dtype=tf.float32)\n",
    "y_target = tf.placeholder(shape=[None,1],dtype=tf.float32)\n",
    "\n",
    "# 7. 완전 연결층을 정의\n",
    "def fully_connected(input_layer,weights,biases):\n",
    "    layer = tf.add(tf.matmul(input_layer,weights),biases)\n",
    "    return layer"
   ]
  },
  {
   "cell_type": "code",
   "execution_count": 203,
   "metadata": {},
   "outputs": [],
   "source": [
    "# 8. 모델 정의\n",
    "# 각 층에 대해 가중치 행렬을 초기화하고, 편향 행렬(벡터) 역시 초기화하고 완전 연결층 연산을 수행한다.\n",
    "# 이번 예시를 위해 은닉층으로 25,10,3개의 layer를 사용할 것이다.\n",
    "\n",
    "# first hidden layer\n",
    "weight_1 = init_weight(shape=[7,25],st_dev=10.0)\n",
    "bias_1 = init_bias(shape=[25],st_dev=10.0)\n",
    "layer_1 = fully_connected(x_data, weight_1,bias_1)\n",
    "\n",
    "# second hidden layer\n",
    "weight_2 = init_weight(shape=[25,10],st_dev=10.0)\n",
    "bias_2 = init_bias(shape=[10],st_dev=10.0)\n",
    "layer_2 = fully_connected(layer_1, weight_2,bias_2)\n",
    "\n",
    "# third hidden layer\n",
    "weight_3 = init_weight(shape=[10,3],st_dev=10.0)\n",
    "bias_3 = init_bias(shape=[3],st_dev=10.0)\n",
    "layer_3 = fully_connected(layer_2, weight_3,bias_3)\n",
    "\n",
    "# Output layer\n",
    "weight_4 = init_weight(shape=[3,1],st_dev=10.0)\n",
    "bias_4 = init_bias(shape=[1],st_dev=10.0)\n",
    "final_output = fully_connected(layer_3, weight_4,bias_4)"
   ]
  },
  {
   "cell_type": "code",
   "execution_count": 204,
   "metadata": {},
   "outputs": [],
   "source": [
    "# 9. L1 loss를 사용, optimization을 Adam으로 사용\n",
    "loss = tf.reduce_mean(tf.abs(y_target-final_output))\n",
    "my_opt = tf.train.AdamOptimizer(0.05)\n",
    "train_step = my_opt.minimize(loss)"
   ]
  },
  {
   "cell_type": "code",
   "execution_count": 205,
   "metadata": {},
   "outputs": [
    {
     "name": "stdout",
     "output_type": "stream",
     "text": [
      "Generation : 25, loss : 52350.89453125\n",
      "Generation : 50, loss : 22455.349609375\n",
      "Generation : 75, loss : 10942.4208984375\n",
      "Generation : 100, loss : 3715.3232421875\n",
      "Generation : 125, loss : 1424.37744140625\n",
      "Generation : 150, loss : 1079.5841064453125\n",
      "Generation : 175, loss : 874.40283203125\n",
      "Generation : 200, loss : 597.4435424804688\n"
     ]
    }
   ],
   "source": [
    "# 10.\n",
    "init = tf.global_variables_initializer()\n",
    "sess.run(init)\n",
    "\n",
    "loss_vec = []\n",
    "test_vec = []\n",
    "for i in range(200):\n",
    "    rand_index = np.random.choice(len(x_vals_train_scaled),size = batch_size)\n",
    "    rand_x = x_vals_train_scaled[rand_index].reshape(-1,7)\n",
    "    rand_y = y_vals_train[rand_index].reshape(-1,1)\n",
    "    sess.run(train_step,feed_dict={x_data:rand_x,y_target:rand_y})\n",
    "    \n",
    "    temp_loss = sess.run(loss,feed_dict={x_data:rand_x,y_target:rand_y})\n",
    "    loss_vec.append(temp_loss)\n",
    "    \n",
    "    test_temp_loss = sess.run(loss,feed_dict={x_data:x_vals_test_scaled,y_target:y_vals_test.reshape(-1,1)})\n",
    "    test_vec.append(test_temp_loss)\n",
    "    \n",
    "    if (i+1)%25 == 0:\n",
    "        print('Generation : {}, loss : {}'.format(i+1,temp_loss))"
   ]
  },
  {
   "cell_type": "code",
   "execution_count": 206,
   "metadata": {},
   "outputs": [
    {
     "data": {
      "text/plain": [
       "<matplotlib.legend.Legend at 0x2493f27db48>"
      ]
     },
     "execution_count": 206,
     "metadata": {},
     "output_type": "execute_result"
    },
    {
     "data": {
      "image/png": "[encoded data removed]",
      "text/plain": [
       "<Figure size 432x288 with 1 Axes>"
      ]
     },
     "metadata": {
      "needs_background": "light"
     },
     "output_type": "display_data"
    }
   ],
   "source": [
    "fig,ax = plt.subplots(1,1)\n",
    "ax.plot(loss_vec,'k-',label='Train Loss')\n",
    "ax.plot(test_vec,'r--',label='Test Loss')\n",
    "ax.set_title('Loss per Generation')\n",
    "ax.set_xlabel('Generation')\n",
    "ax.set_ylabel('Loss')\n",
    "ax.set_xlim([0,200])\n",
    "ax.legend(loc='upper right')"
   ]
  },
  {
   "cell_type": "code",
   "execution_count": 207,
   "metadata": {},
   "outputs": [
    {
     "name": "stdout",
     "output_type": "stream",
     "text": [
      "Train Accuracy : 0.6688741721854304, \n",
      "Test Accuracy : 0.7631578947368421\n"
     ]
    }
   ],
   "source": [
    "# 13. 분류의 정확도를 측정할 것인데 여러 층을 쌓은 효과가 3장의 logistc regression만큼 된다는 것을 확인할 수 있다.\n",
    "test_preds = [x[0] for x in sess.run(final_output,feed_dict={x_data:x_vals_test_scaled})]\n",
    "train_preds = [x[0] for x in sess.run(final_output,feed_dict={x_data:x_vals_train_scaled})]\n",
    "\n",
    "test_preds = np.array([1.0 if x<2500.0 else 0.0 for x in test_preds])\n",
    "train_preds = np.array([1.0 if x<2500.0 else 0.0 for x in train_preds])\n",
    "\n",
    "test_acc = np.mean([x==y for x,y, in zip(target_test,test_preds)])\n",
    "train_acc = np.mean([x==y for x,y in zip(target_train,train_preds)])\n",
    "\n",
    "print('Train Accuracy : {}, \\nTest Accuracy : {}'.format(train_acc,test_acc))"
   ]
  },
  {
   "cell_type": "markdown",
   "metadata": {},
   "source": [
    "# Improving the predictions of linear models\n",
    "다층 신경망을 쌓음으로써 logistic 회귀의 성능을 높이도록 한다.\n",
    "\n",
    "모델 : sigmoid activation을 가진 은닉층 2개"
   ]
  },
  {
   "cell_type": "code",
   "execution_count": 32,
   "metadata": {},
   "outputs": [],
   "source": [
    "sess = tf.Session()"
   ]
  },
  {
   "cell_type": "code",
   "execution_count": 33,
   "metadata": {},
   "outputs": [],
   "source": [
    "# 방금 데이터를 재활용(x_vals_train_scaled,x_vals_test_scaled,y_train,y_test,temp_train,temp_test)\n",
    "\n",
    "# 3. \n",
    "batch_size = 25\n",
    "x_data = tf.placeholder(shape=[None,7],dtype=tf.float32)\n",
    "y_target = tf.placeholder(shape=[None,1],dtype=tf.float32)\n",
    "\n",
    "# 4. 층의 변수들을 초기화하는 함수 정의\n",
    "# 더 나은 logistic 모델을 만들기 위해 입력층에 대해 logistic layer를 반환하는 층을 만들기로 한다.\n",
    "# =완전 연결층을 사용하고 각 layer에 대해 sigmoid 값을 반환한다는 의미\n",
    "# loss 함수는 마지막 층의 sigmoid를 포함하게 되므로 마지막 층에 대해서는 sigmoid를 반환하지 않도록 특정해줘야 한다.\n",
    "\n",
    "def init_variable(shape):\n",
    "    return tf.Variable(tf.random_normal(shape=shape))\n",
    "def logistic(input_layer,multiplication_weight,bias_weight,activation=True):\n",
    "    linear_layer = tf.add(tf.matmul(input_layer,multiplication_weight),bias_weight)\n",
    "    if activation:\n",
    "        return tf.nn.sigmoid(linear_layer)\n",
    "    else:\n",
    "        return linear_layer"
   ]
  },
  {
   "cell_type": "code",
   "execution_count": 34,
   "metadata": {},
   "outputs": [],
   "source": [
    "# 5. 두 개의 층에 대한 변수 선언\n",
    "A1 = init_variable(shape=[7,14])\n",
    "b1 = init_variable(shape=[14])\n",
    "logistic_layer1 = logistic(x_data,A1,b1)\n",
    "\n",
    "A2 = init_variable(shape=[14,5])\n",
    "b2 = init_variable(shape=[5])\n",
    "logistic_layer2 = logistic(logistic_layer1,A2,b2)\n",
    "\n",
    "A3 = init_variable(shape=[5,1])\n",
    "b3 = init_variable(shape=[1])\n",
    "final_output = logistic(logistic_layer2,A3,b3,activation=False)\n",
    "\n",
    "# 6. \n",
    "loss = tf.reduce_mean(tf.nn.sigmoid_cross_entropy_with_logits(logits=final_output,labels=y_target))\n",
    "my_opt = tf.train.AdamOptimizer(learning_rate=0.002)\n",
    "train_step = my_opt.minimize(loss)\n",
    "\n",
    "# 7.\n",
    "prediction = tf.round(tf.nn.sigmoid(final_output))\n",
    "predictions_correct = tf.cast(tf.equal(prediction,y_target),tf.float32)\n",
    "accuracy = tf.reduce_mean(predictions_correct)"
   ]
  },
  {
   "cell_type": "code",
   "execution_count": 35,
   "metadata": {},
   "outputs": [
    {
     "name": "stdout",
     "output_type": "stream",
     "text": [
      "Generation = 150, Loss = 0.5275853872299194\n",
      "train_acc = 0.695364236831665, test_acc = 0.6578947305679321\n",
      "Generation = 300, Loss = 0.654752790927887\n",
      "train_acc = 0.695364236831665, test_acc = 0.6578947305679321\n",
      "Generation = 450, Loss = 0.46533676981925964\n",
      "train_acc = 0.695364236831665, test_acc = 0.6578947305679321\n",
      "Generation = 600, Loss = 0.5805413722991943\n",
      "train_acc = 0.695364236831665, test_acc = 0.6578947305679321\n",
      "Generation = 750, Loss = 0.6249353289604187\n",
      "train_acc = 0.7086092829704285, test_acc = 0.7105262875556946\n",
      "Generation = 900, Loss = 0.4473070502281189\n",
      "train_acc = 0.7284768223762512, test_acc = 0.7368420958518982\n",
      "Generation = 1050, Loss = 0.5268428921699524\n",
      "train_acc = 0.7549669146537781, test_acc = 0.7368420958518982\n",
      "Generation = 1200, Loss = 0.5404184460639954\n",
      "train_acc = 0.7417218685150146, test_acc = 0.7368420958518982\n",
      "Generation = 1350, Loss = 0.5382269024848938\n",
      "train_acc = 0.7350993156433105, test_acc = 0.7368420958518982\n",
      "Generation = 1500, Loss = 0.6370311379432678\n",
      "train_acc = 0.7284768223762512, test_acc = 0.7368420958518982\n"
     ]
    }
   ],
   "source": [
    "# 8 .\n",
    "init = tf.global_variables_initializer()\n",
    "sess.run(init)\n",
    "train_acc = []\n",
    "test_acc = []\n",
    "loss_vec = []\n",
    "for i in range(1500):\n",
    "    rand_index = np.random.choice(len(x_vals_train),size=batch_size)\n",
    "    rand_x = x_vals_train_scaled[rand_index].reshape(-1,7)\n",
    "    rand_y = target_train[rand_index].reshape(-1,1)\n",
    "    sess.run(train_step,feed_dict = {x_data:rand_x,y_target:rand_y})\n",
    "    \n",
    "    temp_loss = sess.run(loss,feed_dict={x_data:rand_x,y_target:rand_y})\n",
    "    loss_vec.append(temp_loss)\n",
    "    \n",
    "    temp_acc_train = sess.run(accuracy,feed_dict={x_data:x_vals_train_scaled,y_target:target_train.reshape(-1,1)})\n",
    "    train_acc.append(temp_acc_train)\n",
    "    \n",
    "    temp_acc_test = sess.run(accuracy,feed_dict={x_data:x_vals_test_scaled,y_target:target_test.reshape(-1,1)})\n",
    "    test_acc.append(temp_acc_test)\n",
    "    \n",
    "    if (i+1)%150 ==0:\n",
    "        print('Generation = {}, Loss = {}\\ntrain_acc = {}, test_acc = {}'.\\\n",
    "              format(i+1,temp_loss,temp_acc_train,temp_acc_test))"
   ]
  },
  {
   "cell_type": "code",
   "execution_count": 36,
   "metadata": {},
   "outputs": [
    {
     "data": {
      "text/plain": [
       "<matplotlib.legend.Legend at 0x20aab5fd5c8>"
      ]
     },
     "execution_count": 36,
     "metadata": {},
     "output_type": "execute_result"
    },
    {
     "data": {
      "image/png": "[encoded data removed]",
      "text/plain": [
       "<Figure size 864x432 with 2 Axes>"
      ]
     },
     "metadata": {
      "needs_background": "light"
     },
     "output_type": "display_data"
    }
   ],
   "source": [
    "fig, ax = plt.subplots(1,2,figsize=(12,6))\n",
    "ax[0].plot(loss_vec,'k--')\n",
    "ax[0].set_title('Cross Entropy Loss per Generation')\n",
    "ax[0].set_xlabel('Generation')\n",
    "ax[0].set_ylabel('Cross Entropy Loss')\n",
    "\n",
    "ax[1].plot(train_acc,'k-',label='Train Set Accuracy')\n",
    "ax[1].plot(test_acc,'r--',label='Test Set Accuracy')\n",
    "ax[1].set_title('Train and Test Accuracy')\n",
    "ax[1].set_xlabel('Generation')\n",
    "ax[1].set_ylabel('Accuracy')\n",
    "ax[1].legend(loc='lower right')"
   ]
  },
  {
   "cell_type": "markdown",
   "metadata": {},
   "source": [
    "언더피팅이 일어났을 경우에는 모델의 깊이나 iteration 횟수를 늘려봐야한다. \n",
    "<br>오버피팅의 경우 데이터를 학습 데이터를 추가하거나 규제항을 더하는 방법으로 접근할 수 있을 것이다.\n",
    "\n",
    "한 가지 중요한 것은 선형모델만큼 우리의 모델이 직관적이지는 않다는 점이다. 선형모델의 계수들은 feature의 중요도를 나타내는데 비해 신경망은 해석하기 어려운 모델 계수들을 가지고 있다."
   ]
  },
  {
   "cell_type": "markdown",
   "metadata": {},
   "source": [
    "# Learning to play Tic Tac Toe는 생략"
   ]
  }
 ],
 "metadata": {
  "kernelspec": {
   "display_name": "Python 3",
   "language": "python",
   "name": "python3"
  },
  "language_info": {
   "codemirror_mode": {
    "name": "ipython",
    "version": 3
   },
   "file_extension": ".py",
   "mimetype": "text/x-python",
   "name": "python",
   "nbconvert_exporter": "python",
   "pygments_lexer": "ipython3",
   "version": "3.7.4"
  }
 },
 "nbformat": 4,
 "nbformat_minor": 2
}
