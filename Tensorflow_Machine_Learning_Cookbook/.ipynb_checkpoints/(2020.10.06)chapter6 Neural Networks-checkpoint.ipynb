{
 "cells": [
  {
   "cell_type": "code",
   "execution_count": 2,
   "metadata": {},
   "outputs": [],
   "source": [
    "import tensorflow.compat.v1 as tf\n",
    "tf.disable_v2_behavior()\n",
    "import numpy as np\n",
    "import matplotlib.pyplot as plt\n",
    "%matplotlib inline\n",
    "import pandas as pd"
   ]
  },
  {
   "cell_type": "markdown",
   "metadata": {},
   "source": [
    "# Introduction\n",
    "신경망이라는 것은 기본적으로 input data의 행렬에 적용되는 연산의 나열이다. 이런 연산은 보통은 덧셈과 곱셈의 모음에 비선형 함수의 적용과 같다.<br> 한 예로 logistic regression은 sigmoid 함수가 적용된 경사항의 합인 것이다. <br>\n",
    "신경망은 각 연산들과 비선형 함수(절대값, maximum, minimum 등)들을 조합함으로써 이런 조각들을 더 일반화한 것이다.\n",
    "\n",
    "중요한 신경망의 기술은 back propagation(역전파)라고 불리는 것이다. 역전파는 모델 variable들을 학습률과 loss 함수의 결과를 토대로 업데이트하는 절차이다. 이미 chapter 3,4에서 역전파를 사용한 바가 있다.\n",
    "\n",
    "또 다른 중요한 특징은 비선형 함수의 사용에 관한 것이다. 신경망은 더하기와 곱하기 연산의 조합이기 때문에 비선형 데이터 세트에 대해서는 적용되기 어렵다. 이런 점을 해결하기 위해 비선형 함수를 신경망에 사용함으로써 대부분의 비선형적인 상황에 신경망을 적용할 수 있게 만들어준다.\n",
    "\n",
    "또 중요하게 기억해야할 것은 다른 알고리즘들과 마찬가지로 신경망은 하이퍼파라미터 선택에 민감하다는 것이다. <br>\n",
    "이번 장을 통해 learning rate, loss functions, optimization procedures에 대해 알아보도록 한다."
   ]
  },
  {
   "cell_type": "markdown",
   "metadata": {},
   "source": [
    "# Implementing operational gates\n",
    "$f(x) = a{\\cdot}x$<br>\n",
    "이러한 게이트를 최적화하기 위해 input a를 variable로, input x를 placeholder로써 선언한다. 이것이 의미하는 바는 텐서플로우가 a 값을 변화시키기 위해 노력하고, x 값은 변화시키지 않는다는 것이다. loss 함수는 output과 target value(=50)의 차이가 되도록 만든다.\n",
    "\n",
    "$f(x) = a{\\cdot}x +b$<br>\n",
    "마찬가지로 a와 b를 variable로, x를 placeholder로 선언한다. output은 50이라는 값을 가진 target value쪽으로 최적화되도록 한다. 두 번째 예에서 흥미로훈 것은 solution이 하나가 아니라는 것이다. 변수들의 매우 많은 조합들이 output의 값을 50이 되도록 허용한다. \n",
    "\n",
    "신경망에서 중간값을 지니는 model variable들을 고려하지 않고, 대신 원하는 output에 중점을 두도록 한다."
   ]
  },
  {
   "cell_type": "code",
   "execution_count": 2,
   "metadata": {},
   "outputs": [
    {
     "name": "stdout",
     "output_type": "stream",
     "text": [
      "7.0 * 5.0 = 35.0\n",
      "8.5 * 5.0 = 42.5\n",
      "9.25 * 5.0 = 46.25\n",
      "9.625 * 5.0 = 48.125\n",
      "9.8125 * 5.0 = 49.0625\n",
      "9.90625 * 5.0 = 49.53125\n",
      "9.953125 * 5.0 = 49.765625\n",
      "9.9765625 * 5.0 = 49.8828125\n",
      "9.98828125 * 5.0 = 49.94140625\n",
      "9.994140625 * 5.0 = 49.970703125\n"
     ]
    }
   ],
   "source": [
    "# f(x) = a*x\n",
    "\n",
    "# 1. 2.\n",
    "sess = tf.Session()\n",
    "a = tf.Variable(tf.constant(4.))\n",
    "x_val = 5.\n",
    "x_data = tf.placeholder(dtype=tf.float32)\n",
    "y_target = 50.\n",
    "\n",
    "# 3.\n",
    "multiplication = tf.multiply(a,x_data)\n",
    "\n",
    "# 4.\n",
    "loss = tf.square(tf.subtract(multiplication,y_target))\n",
    "\n",
    "# 5. \n",
    "init = tf.global_variables_initializer()\n",
    "sess.run(init)\n",
    "my_opt = tf.train.GradientDescentOptimizer(0.01)\n",
    "train_step = my_opt.minimize(loss)\n",
    "\n",
    "# 6.\n",
    "for i in range(10):\n",
    "    sess.run(train_step,feed_dict={x_data:x_val})\n",
    "    a_val = sess.run(a)\n",
    "    mult_output = sess.run(multiplication,feed_dict = {x_data:x_val})\n",
    "    print('{} * {} = {}'.format(a_val,x_val,mult_output))"
   ]
  },
  {
   "cell_type": "code",
   "execution_count": 4,
   "metadata": {},
   "outputs": [
    {
     "name": "stdout",
     "output_type": "stream",
     "text": [
      "5.400000095367432 * 5.0 + 1.8799999952316284 = 28.8799991607666\n",
      "7.51200008392334 * 5.0 + 2.3024001121520996 = 39.86240005493164\n",
      "8.52575969696045 * 5.0 + 2.5051522254943848 = 45.13395309448242\n",
      "9.012364387512207 * 5.0 + 2.602473258972168 = 47.6642951965332\n",
      "9.24593448638916 * 5.0 + 2.6491873264312744 = 48.87886047363281\n",
      "9.358048439025879 * 5.0 + 2.671610116958618 = 49.46185302734375\n",
      "9.411863327026367 * 5.0 + 2.682373046875 = 49.74169158935547\n",
      "9.437694549560547 * 5.0 + 2.6875391006469727 = 49.87601089477539\n",
      "9.450093269348145 * 5.0 + 2.690018892288208 = 49.94048309326172\n",
      "9.456045150756836 * 5.0 + 2.691209316253662 = 49.971435546875\n"
     ]
    }
   ],
   "source": [
    "# f(x) = a*x + b\n",
    "\n",
    "#\n",
    "a = tf.Variable(tf.constant(1.))\n",
    "b = tf.Variable(tf.constant(1.))\n",
    "x_val = 5.\n",
    "x_data = tf.placeholder(dtype = tf.float32)\n",
    "y_target = 50.\n",
    "two_gate = tf.add(tf.multiply(a,x_data),b)\n",
    "\n",
    "loss = tf.square(tf.subtract(two_gate,y_target))\n",
    "\n",
    "my_opt = tf.train.GradientDescentOptimizer(0.01)\n",
    "train_step = my_opt.minimize(loss)\n",
    "\n",
    "init = tf.global_variables_initializer()\n",
    "sess.run(init)\n",
    "\n",
    "for i in range(10):\n",
    "    sess.run(train_step,feed_dict={x_data:x_val})\n",
    "    a_val = sess.run(a)\n",
    "    b_val = sess.run(b)\n",
    "    mult_output = sess.run(two_gate,feed_dict = {x_data:x_val})\n",
    "    print('{} * {} + {} = {}'.format(a_val,x_val,b_val,mult_output))"
   ]
  },
  {
   "cell_type": "markdown",
   "metadata": {},
   "source": [
    "중요한 것은 두 번째 예시의 솔루션은 유니크하지 않다는 것이다. 신경망에서는 그것이 별로 중요하지 않다. 그저 모든 파라미터들이 loss를 줄이는데에 초점을 두고 있다. 최종적인 솔루션 a,b는 초기값이 뭐였는지에 초점을 두고 있다. 만일 두 value가 1이 아닌 다른 값으로 초기화 되었다면 각 반복마다 다른 모델 variable들을 보았을 것이다.\n",
    "\n",
    "이런 과정은 텐서플로우의 역전파 과정을 통해 이루어진다. 텐서플로우는 모델의 연산과 variable 값을 추적하고 (최적화 알고리즘 특징과 loss 함수의 output 관점에서) 조정을 만들어낸다.\n",
    "\n",
    "이런 것을 조금 더 확장시킬 수 있는데 어떤 input은 variable이고 어떤 input은 data일 경우이다. 중요한 것은 텐서플로우가 loss을 최적화하기 위해 variable로 선언된 것은 수정해나가지만 placeholder로 선언된 data는 수정하지 않는다는 것이다.\n",
    "\n",
    "연산 그래프를 추적하고 매 스텝마다 모델 variable을 자동으로 업데이트하는 내장된 능력은 텐서플로우의 가장 강력하고 훌륭한 특성이다. "
   ]
  },
  {
   "cell_type": "markdown",
   "metadata": {},
   "source": [
    "# Working with gates and activation functions\n",
    "다른 연산 게이트를 연결해보도록 하자. 이런 연결은 activation 함수를 통해 이뤄질 것이다.\n",
    "\n",
    "$sigmoid(x) = \\sigma(x) = {1 \\over {1+e^{x}}}$<br>\n",
    "$ReLU(x) = max(0,x)$\n",
    "\n",
    "loss 함수는 L2 norm을 사용하고 타겟 값은 0.75를 사용할 것이다. batch data는 평균 2, 표준편차가 0.1인 정규분포에서 추출된 것을 사용할 것이다."
   ]
  },
  {
   "cell_type": "code",
   "execution_count": 32,
   "metadata": {},
   "outputs": [],
   "source": [
    "# 1.\n",
    "tf.set_random_seed(5)\n",
    "np.random.seed(42)\n",
    "sess  = tf.Session()\n",
    "\n",
    "# 2.\n",
    "batch_size = 50\n",
    "a1 = tf.Variable(tf.random_normal(shape=[1,1]))\n",
    "b1 = tf.Variable(tf.random_uniform(shape=[1,1]))\n",
    "a2 = tf.Variable(tf.random_normal(shape=[1,1]))\n",
    "b2 = tf.Variable(tf.random_uniform(shape=[1,1]))\n",
    "\n",
    "x = np.random.normal(2,0.1,500)\n",
    "x_data = tf.placeholder(shape=[None,1],dtype=tf.float32)\n",
    "\n",
    "# 3.\n",
    "sigmoid_activation = tf.sigmoid(tf.add(tf.matmul(x_data,a1),b1))\n",
    "relu_activation = tf.nn.relu(tf.add(tf.matmul(x_data,a2),b2))\n",
    "\n",
    "# 4.\n",
    "loss1 = tf.reduce_mean(tf.square(tf.subtract(sigmoid_activation,0.75)))\n",
    "loss2 = tf.reduce_mean(tf.square(tf.subtract(relu_activation,0.75)))\n",
    "\n",
    "# 5.\n",
    "my_opt = tf.train.GradientDescentOptimizer(0.01)\n",
    "train_step_sigmoid = my_opt.minimize(loss1)\n",
    "train_step_relu = my_opt.minimize(loss2)"
   ]
  },
  {
   "cell_type": "code",
   "execution_count": 33,
   "metadata": {},
   "outputs": [],
   "source": [
    "# 6.\n",
    "init = tf.global_variables_initializer()\n",
    "sess.run(init)\n",
    "\n",
    "loss_vec_sigmoid=[]\n",
    "loss_vec_relu=[]\n",
    "activation_sigmoid=[]\n",
    "activation_relu=[]\n",
    "\n",
    "for i in range(750):\n",
    "    rand_indices = np.random.choice(len(x),size=batch_size)\n",
    "    x_vals = x[rand_indices].reshape(-1,1)\n",
    "    sess.run(train_step_sigmoid,feed_dict={x_data:x_vals})\n",
    "    sess.run(train_step_relu,feed_dict={x_data:x_vals})\n",
    "    \n",
    "    loss_vec_sigmoid.append(sess.run(loss1,feed_dict={x_data:x_vals}))\n",
    "    loss_vec_relu.append(sess.run(loss2,feed_dict={x_data:x_vals}))\n",
    "    \n",
    "    activation_sigmoid.append(np.mean(sess.run(sigmoid_activation,feed_dict={x_data:x_vals})))\n",
    "    activation_relu.append(np.mean(sess.run(relu_activation,feed_dict={x_data:x_vals})))"
   ]
  },
  {
   "cell_type": "code",
   "execution_count": 35,
   "metadata": {},
   "outputs": [
    {
     "data": {
      "image/png": "[encoded data removed]",
      "text/plain": [
       "<Figure size 576x288 with 2 Axes>"
      ]
     },
     "metadata": {
      "needs_background": "light"
     },
     "output_type": "display_data"
    }
   ],
   "source": [
    "fig,ax = plt.subplots(1,2,figsize=(8,4))\n",
    "ax[0].plot(activation_sigmoid,'k-',label='Sigmoid activation')\n",
    "ax[0].plot(activation_relu,'r--',label='ReLU activation')\n",
    "\n",
    "\n",
    "ax[1].plot(loss_vec_sigmoid,'k-',label='Sigmoid Loss')\n",
    "ax[1].plot(loss_vec_relu,'r--',label='ReLU Loss')\n",
    "\n",
    "for axes in ax:\n",
    "    axes.set_xlim([0,750])\n",
    "    axes.set_ylim([0,1.0])\n",
    "    axes.set_title('Activation Outputs')\n",
    "    axes.set_xlabel('Generation')\n",
    "    axes.set_ylabel('Outputs')\n",
    "    axes.legend(loc='upper right')\n",
    "    \n",
    "plt.tight_layout()"
   ]
  },
  {
   "cell_type": "markdown",
   "metadata": {},
   "source": [
    "relu 활성화 함수의 모양을 보면 sigmoid 함수보다도 더 zero value를 돌려낸다. 이런 타입의 행동을 sparsity라고 여긴다. 이런 sparsity는 수렴의 속도가 빨라지는 결과를 만들지만 그래디언트 조정을 상실한 결과를 만든다.\n",
    "\n",
    "반면에 sigmoid 활성화 함수는 매우 잘 통제된 그래디언트를 가지면서도 ReLU 함수만큼 extreme한 값을 가질 위험을 감수하지 않는다.\n",
    "\n",
    "대부분의 활성화 함수는 relu와 비슷한 형태를 갖거나 (ex)softplus,Leaky ReLU 등) sigmoid 함수와 비슷한 형태를 갖는다(ex)tanh,heavyside step, arctangent 등). 어찌되었든 활성화 함수의 선택은 신경망의 수렴과 output에 큰 영향을 미친다는 것을 아는게 중요하다."
   ]
  },
  {
   "cell_type": "markdown",
   "metadata": {},
   "source": [
    "# Implementing a one-layer neural network\n",
    "iris 데이터셋을 가지고 신경망을 구성해보도록 한다.\n",
    "\n",
    "하나의 은닉층을 만들어 볼 것인데 이 은닉층은 fully connected neural network가 행렬 연산에 기초를 두고 있다는 사실을 이해하는데 중요하다. 마찬가지로 데이터의 차원과 행렬이 올바로 정렬되는 것 역시 중요하다.\n",
    "\n",
    "다음은 회귀 문제이므로 mse를 loss 함수로 사용하도록 한다."
   ]
  },
  {
   "cell_type": "code",
   "execution_count": 85,
   "metadata": {},
   "outputs": [],
   "source": [
    "# 1.\n",
    "from sklearn.datasets import load_iris\n",
    "\n",
    "# 2 .\n",
    "iris = load_iris()\n",
    "iris_df = pd.DataFrame(iris.data, columns = iris.feature_names)"
   ]
  },
  {
   "cell_type": "code",
   "execution_count": 86,
   "metadata": {},
   "outputs": [],
   "source": [
    "# 4.\n",
    "from sklearn.model_selection import train_test_split\n",
    "x_vals_train,x_vals_test,y_vals_train,y_vals_test = train_test_split(iris_df.iloc[:,0:3],iris_df.iloc[:,3],test_size=0.8)\n",
    "\n",
    "from sklearn.preprocessing import MinMaxScaler\n",
    "scaler = MinMaxScaler()\n",
    "x_vals_train = scaler.fit_transform(x_vals_train)\n",
    "x_vals_test = scaler.transform(x_vals_test)"
   ]
  },
  {
   "cell_type": "code",
   "execution_count": 87,
   "metadata": {},
   "outputs": [],
   "source": [
    "# 5.\n",
    "batch_size = 50\n",
    "x_data = tf.placeholder(shape=[None,3],dtype=tf.float32)\n",
    "y_target = tf.placeholder(shape=[None,1],dtype=tf.float32)"
   ]
  },
  {
   "cell_type": "code",
   "execution_count": 88,
   "metadata": {},
   "outputs": [],
   "source": [
    "# 6. 중요한 것은 hidden layer에 대해 적절한 모양으로 모델 variable을 선언하는 것이다.\n",
    "# 은닉층의 사이즈는 원하는 어떤 모양이든 될 수 있고, 5개의 노드를 가진 은닉층을 만들기로 한다.\n",
    "\n",
    "hidden_layer_nodes = 5\n",
    "A1 = tf.Variable(tf.random_normal(shape=[3,hidden_layer_nodes])) #->shape:[None,hidden_layer_nodes]으로 만든다.\n",
    "b1 = tf.Variable(tf.random_normal(shape=[hidden_layer_nodes]))\n",
    "A2 = tf.Variable(tf.random_normal(shape=[hidden_layer_nodes,1]))\n",
    "b2 = tf.Variable(tf.random_normal(shape=[1]))"
   ]
  },
  {
   "cell_type": "code",
   "execution_count": 89,
   "metadata": {},
   "outputs": [],
   "source": [
    "# 7. 모델을 두 step으로 선언. 첫 번째 스텝은 은닉층을 만들어내고, 두 번째 스텝은 출력층(final_output)을 만들어낸다.\n",
    "hidden_output = tf.nn.relu(tf.add(tf.matmul(x_data,A1),b1))\n",
    "final_output = tf.nn.relu(tf.add(tf.matmul(hidden_output,A2),b2))\n",
    "\n",
    "# 8. \n",
    "loss  = tf.reduce_mean(tf.square(y_target - final_output))\n",
    "\n",
    "# 9.\n",
    "my_opt = tf.train.GradientDescentOptimizer(0.005)\n",
    "train_step = my_opt.minimize(loss)"
   ]
  },
  {
   "cell_type": "code",
   "execution_count": 90,
   "metadata": {},
   "outputs": [
    {
     "name": "stdout",
     "output_type": "stream",
     "text": [
      "Generation : 50, Loss = 0.7637465000152588 \n",
      "Generation : 100, Loss = 0.5152580142021179 \n",
      "Generation : 150, Loss = 0.342691034078598 \n",
      "Generation : 200, Loss = 0.18745914101600647 \n",
      "Generation : 250, Loss = 0.1859291046857834 \n",
      "Generation : 300, Loss = 0.12277150899171829 \n",
      "Generation : 350, Loss = 0.1194532960653305 \n",
      "Generation : 400, Loss = 0.13153590261936188 \n",
      "Generation : 450, Loss = 0.0807112529873848 \n",
      "Generation : 500, Loss = 0.07261840999126434 \n"
     ]
    }
   ],
   "source": [
    "# 10.\n",
    "init = tf.global_variables_initializer()\n",
    "sess.run(init)\n",
    "\n",
    "loss_vec = []\n",
    "test_loss = []\n",
    "for i in range(500):\n",
    "    rand_index = np.random.choice(len(x_vals_train),size=batch_size)\n",
    "    rand_x = x_vals_train[rand_index].reshape(-1,3)\n",
    "    rand_y = y_vals_train.values[rand_index].reshape(-1,1)\n",
    "    sess.run(train_step,feed_dict={x_data:rand_x,y_target:rand_y})\n",
    "    \n",
    "    temp_loss = sess.run(loss,feed_dict={x_data:rand_x,y_target:rand_y})\n",
    "    loss_vec.append(np.sqrt(temp_loss))\n",
    "    \n",
    "    test_temp_loss = sess.run(loss,feed_dict = {x_data:x_vals_test.reshape(-1,3),y_target:y_vals_test.values.reshape(-1,1)})\n",
    "    test_loss.append(np.sqrt(test_temp_loss))\n",
    "    if (i+1)%50==0:\n",
    "        print('Generation : {}, Loss = {} '.format(i+1,temp_loss))"
   ]
  },
  {
   "cell_type": "code",
   "execution_count": 91,
   "metadata": {},
   "outputs": [
    {
     "data": {
      "text/plain": [
       "<matplotlib.legend.Legend at 0x1548e4a2d48>"
      ]
     },
     "execution_count": 91,
     "metadata": {},
     "output_type": "execute_result"
    },
    {
     "data": {
      "image/png": "[encoded data removed]",
      "text/plain": [
       "<Figure size 432x288 with 1 Axes>"
      ]
     },
     "metadata": {
      "needs_background": "light"
     },
     "output_type": "display_data"
    }
   ],
   "source": [
    "plt.plot(loss_vec,'k-',label='Train Loss')\n",
    "plt.plot(test_loss,'r--',label='Test Loss')\n",
    "plt.title('MSE')\n",
    "plt.xlabel('Generation')\n",
    "plt.ylabel('Loss')\n",
    "plt.legend(loc='upper right')"
   ]
  },
  {
   "cell_type": "markdown",
   "metadata": {},
   "source": [
    "입력층(3개) -> 은닉층(5개) : 15 weights + 5 biases<br>\n",
    "은닉층(5개) -> 출력층(1개) : 5 weights + 1 bias<br>\n",
    "-> 26 variables\n",
    "\n",
    "train data와 test data의 loss를 보건대 모델이 언제 과대적합을 시작하는지 확인할 수 있다.<br>\n",
    "또 확인할 수 있는 것은 train set loss는 test set loss만큼이나 부드럽지는 않다는 것이다. 여기에는 두 가지 이유가 있다.\n",
    "1. 우리는 test set보다 작은 크기의 배치를 사용하고 있다.\n",
    "2. train set에서 학습 중에 있으며 test set은 모델 variables에 영향을 미치지 않는다는 것이다."
   ]
  },
  {
   "cell_type": "markdown",
   "metadata": {},
   "source": [
    "# Implementing different layers\n",
    "어떨게 다른 층(layer)을 구현하는지 아는 것은 매우 중요한 문제이다. 이전 recipe에서 완전 연결 층을 구현하는 것을 살펴보았는데 텐서플로우에는 좀 더 다양한 타입의 layer에 대해 구현된 내장함수들이 많다. 가장 인기있는 층은 convolutional layer와 maxpool layer이다. 어떻게 input 데이터와 완전 연결된 데이터와 함께 구현하는지 살펴보도록 한다.\n",
    "\n",
    "우선은 이러한 층등이 1차원 데이터에 어떻게 적용되는지, 그리고 2차원 데이터에는 어떻게 적용되는지 살피도록 한다.\n",
    "\n",
    "신경망은 어떤 모양으로든 layered될 수 있는반면 가장 일반적인 사용방법 중 하나는 convolutional layer와 fully-connected layer(완전연결층)을 사용하여 먼저 feature를 만드는 것이다. 만일 너무 많은 feature가 있다면 maxpool layer를 사용하는 것이 일반적이다. 이러한 layer를 사용한 후 비선형 층을 쓰는데 흔히 활성화 함수로써 소개된다. Convolutional neural networks(CNNs)를 사용한다는 것은 일반저긍로 convoutional, maxpool, activation,convolutional, maxpool, activation form을 갖는다는 것이다.\n"
   ]
  },
  {
   "cell_type": "code",
   "execution_count": 50,
   "metadata": {},
   "outputs": [],
   "source": [
    "# 1차원 데이터\n",
    "\n",
    "# 1. 2. data의 random array를 생성\n",
    "data_size = 25\n",
    "data_1d = np.random.normal(size=data_size)\n",
    "x_input_1d = tf.placeholder(dtype=tf.float32,shape=[data_size])"
   ]
  },
  {
   "cell_type": "markdown",
   "metadata": {},
   "source": [
    "(아래 함수에 대한 상술)<br>\n",
    "텐서플로우의 layer 함수는 4D data를 다루기 위해 고안되었다. (4D = \\[batch_size,width,height,channels\\])<br>\n",
    "차원을 확장(extend)하거나 필요한 경우 감소(collapse)시키기 위해 input data와 output를 수정할 필요가 있다.<br>\n",
    "우리 데이터의 경우 batch_size=1, width=1, height=25, channel_size=1를 갖는다. \n",
    "\n",
    "차원을 확장(expand)하기 위해서는 expand_dims() 함수를 사용하고, 차원을 감소(collapse)시키기 위해서는 squeeze() 함수를 사용하도록 한다. convolutional layer의 output은 $output\\_size = {(W-F+2P) \\over {S+1}}$로 계산된다. W는 input_size, F는 filter size, P는 padding size, S는 stride size이다."
   ]
  },
  {
   "cell_type": "code",
   "execution_count": 51,
   "metadata": {},
   "outputs": [],
   "source": [
    "# 3. convolutional layer를 만드는 함수를 정의\n",
    "def conv_layer_1d(input_1d, my_filter):\n",
    "    # Make 1d input into 4d\n",
    "    input_2d = tf.expand_dims(input_1d,0)\n",
    "    input_3d = tf.expand_dims(input_2d,0)\n",
    "    input_4d = tf.expand_dims(input_3d,3)\n",
    "    # Perform convolution\n",
    "    convolution_output = tf.nn.conv2d(input_4d,filter=my_filter,strides=[1,1,1,1],padding='VALID')\n",
    "    # Now drop extra dimensions\n",
    "    conv_output_1d = tf.squeeze(convolution_output)\n",
    "    return (conv_output_1d)\n",
    "\n",
    "my_filter = tf.Variable(tf.random_normal(shape=[1,5,1,1]))\n",
    "my_convolution_output = conv_layer_1d(x_input_1d, my_filter)"
   ]
  },
  {
   "cell_type": "code",
   "execution_count": 52,
   "metadata": {},
   "outputs": [],
   "source": [
    "# 4. 텐서플로우의 activation 함수는 element_wise하게 작동하는 것이 default이다.\n",
    "# 이것이 의미하는 것은 관심 layer에서 활성화 함수를 호출해야함을 의미한다.\n",
    "def activation(input_1d):\n",
    "    return tf.nn.relu(input_1d)\n",
    "my_activation_output = activation(my_convolution_output)"
   ]
  },
  {
   "cell_type": "code",
   "execution_count": 53,
   "metadata": {},
   "outputs": [],
   "source": [
    "# 5. maxpool layer함수를 선언. maxpool : moving window across out one-dimensional vector\n",
    "# 이 example을 위해 width를 5로 가지도록 초기화하도록 한다.\n",
    "\n",
    "# maxpool 인수가 filter를 가지지는 못하지만 그외에는 convolutional layer와 비슷하게 size, stride, padding option을 가지고 있다.\n",
    "# 5 width의 유효한 padding의 window를 가지고 있으므로 output array는 4개 가량 적은 entry를 가지고 있다.\n",
    "\n",
    "def max_pool(input_1d,width):\n",
    "    # 1d input을 4d로 만든다.\n",
    "    input_2d = tf.expand_dims(input_1d,0)\n",
    "    input_3d = tf.expand_dims(input_2d,0)\n",
    "    input_4d = tf.expand_dims(input_3d,3)\n",
    "    # Perform the max pool operation\n",
    "    pool_output = tf.nn.max_pool(input_4d,ksize=[1,1,width,1],strides=[1,1,1,1],padding='VALID')\n",
    "    pool_output_1d = tf.squeeze(pool_output)\n",
    "    return pool_output_1d\n",
    "\n",
    "my_maxpool_output = max_pool(my_activation_output,width=5)"
   ]
  },
  {
   "cell_type": "code",
   "execution_count": 54,
   "metadata": {},
   "outputs": [],
   "source": [
    "# 6. 연결할 마지막 층은 완전 연결층이다. 여기서 1d array를 넣고 나타내는 value들의 숫자를 출력하는 함수를 만들기로 한다.\n",
    "# 1d array로 행렬 곱을 하기 위해서는 2d로 차원을 확장해야한다.\n",
    "\n",
    "def fully_connected(input_layer,num_outputs):\n",
    "    # Create weights\n",
    "    weight_shape = tf.squeeze(tf.stack([tf.shape(input_layer),[num_outputs]]))\n",
    "    weight = tf.random_normal(weight_shape,stddev=0.1)\n",
    "    bias = tf.random_normal(shape=[num_outputs])\n",
    "    # Make input into 2d\n",
    "    input_layer_2d = tf.expand_dims(input_layer,0)\n",
    "    # Perform fully connected operations\n",
    "    full_output = tf.add(tf.matmul(input_layer_2d,weight),bias)\n",
    "    # Drop extra dimensions\n",
    "    full_output_1d = tf.squeeze(full_output)\n",
    "    return full_output_1d\n",
    "\n",
    "my_full_output = fully_connected(my_maxpool_output,5)"
   ]
  },
  {
   "cell_type": "code",
   "execution_count": 55,
   "metadata": {},
   "outputs": [
    {
     "name": "stdout",
     "output_type": "stream",
     "text": [
      "Input = array of length 25, \n",
      " Convolution w/filter, length = 5, stride size = 1, results in an array of length 21:\n",
      "[ 2.1260946  -1.2378231  -2.456676   -1.1459155   1.3697324   0.14272945\n",
      " -0.50754696  0.8518854   2.0475147  -2.7864265   2.8696089  -1.56621\n",
      "  1.7251074  -1.317322   -0.81745183 -2.4236124   1.3836945  -1.839399\n",
      " -1.0876572   1.5594971  -0.317252  ]\n",
      "\n",
      "Input = the above array of length 21, \n",
      "Relu element wise returns the array of length 21:\n",
      "[ 2.1260946  -0.         -0.         -0.          1.3697324   0.14272945\n",
      " -0.          0.8518854   2.0475147  -0.          2.8696089  -0.\n",
      "  1.7251074  -0.         -0.         -0.          1.3836945  -0.\n",
      " -0.          1.5594971  -0.        ]\n",
      "\n",
      "Input = the above array of length 21\n",
      "MaxPool, window length = 5, stride size = 1, results in the array of length 17:\n",
      "[2.1260946 1.3697324 1.3697324 1.3697324 2.0475147 2.0475147 2.8696089\n",
      " 2.8696089 2.8696089 2.8696089 2.8696089 1.7251074 1.7251074 1.3836945\n",
      " 1.3836945 1.5594971 1.5594971]\n",
      "\n",
      "Input = the above array of length 17\n",
      "Fully connected layer on all four rows with five outputs:\n",
      "[ 0.08274195 -0.40032056  0.29141122  0.42492476  0.22537866]\n"
     ]
    }
   ],
   "source": [
    "# 7.\n",
    "init = tf.global_variables_initializer()\n",
    "sess.run(init)\n",
    "feeddict = {x_input_1d:data_1d}\n",
    "# Convolution Output\n",
    "print('Input = array of length 25, \\n Convolution w/filter, length = 5, stride size = 1, results in an array of length 21:')\n",
    "print(sess.run(my_convolution_output,feed_dict = feeddict))\n",
    "# Activation Output\n",
    "print('\\nInput = the above array of length 21, \\nRelu element wise returns the array of length 21:')\n",
    "print(sess.run(my_activation_output,feed_dict = feeddict))\n",
    "# Maxpool Output\n",
    "print('\\nInput = the above array of length 21')\n",
    "print('MaxPool, window length = 5, stride size = 1, results in the array of length 17:')\n",
    "print(sess.run(my_maxpool_output,feed_dict=feeddict))\n",
    "# Fully Connected Output\n",
    "print('\\nInput = the above array of length 17')\n",
    "print('Fully connected layer on all four rows with five outputs:')\n",
    "print(sess.run(my_full_output,feed_dict=feeddict))\n"
   ]
  },
  {
   "cell_type": "code",
   "execution_count": null,
   "metadata": {},
   "outputs": [],
   "source": []
  }
 ],
 "metadata": {
  "kernelspec": {
   "display_name": "Python 3",
   "language": "python",
   "name": "python3"
  },
  "language_info": {
   "codemirror_mode": {
    "name": "ipython",
    "version": 3
   },
   "file_extension": ".py",
   "mimetype": "text/x-python",
   "name": "python",
   "nbconvert_exporter": "python",
   "pygments_lexer": "ipython3",
   "version": "3.7.4"
  }
 },
 "nbformat": 4,
 "nbformat_minor": 2
}
