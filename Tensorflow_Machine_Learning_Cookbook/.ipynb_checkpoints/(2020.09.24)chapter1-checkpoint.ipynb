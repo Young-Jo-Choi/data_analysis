{
 "cells": [
  {
   "cell_type": "code",
   "execution_count": 1,
   "metadata": {
    "scrolled": true
   },
   "outputs": [
    {
     "name": "stdout",
     "output_type": "stream",
     "text": [
      "WARNING:tensorflow:From C:\\Users\\hp\\Anaconda3\\lib\\site-packages\\tensorflow_core\\python\\compat\\v2_compat.py:88: disable_resource_variables (from tensorflow.python.ops.variable_scope) is deprecated and will be removed in a future version.\n",
      "Instructions for updating:\n",
      "non-resource variables are not supported in the long term\n"
     ]
    }
   ],
   "source": [
    "import tensorflow.compat.v1 as tf\n",
    "tf.disable_v2_behavior()\n",
    "import numpy as np"
   ]
  },
  {
   "cell_type": "code",
   "execution_count": 5,
   "metadata": {},
   "outputs": [],
   "source": [
    "import tensorflow as tf2"
   ]
  },
  {
   "cell_type": "code",
   "execution_count": 2,
   "metadata": {},
   "outputs": [
    {
     "data": {
      "text/plain": [
       "'2.1.0'"
      ]
     },
     "execution_count": 2,
     "metadata": {},
     "output_type": "execute_result"
    }
   ],
   "source": [
    "tf.__version__"
   ]
  },
  {
   "cell_type": "markdown",
   "metadata": {},
   "source": [
    "# 목차\n",
    "- 어떻게 텐서플로우가 동작하는지 이해\n",
    "- variable과 tensor 선언하기\n",
    "- placeholder와 variable 사용하기\n",
    "- 행렬을 이용한 작업\n",
    "- 연산(operation)을 선언하기\n",
    "- 활성화 함수(activation function) 구현\n",
    "- 데이터 소스로부터 작업하기\n",
    "- 추가적인 데이터 리소스에 대한 지식"
   ]
  },
  {
   "cell_type": "markdown",
   "metadata": {},
   "source": [
    "## computational graph??"
   ]
  },
  {
   "cell_type": "code",
   "execution_count": 3,
   "metadata": {},
   "outputs": [],
   "source": [
    "import scipy"
   ]
  },
  {
   "cell_type": "code",
   "execution_count": 4,
   "metadata": {},
   "outputs": [
    {
     "data": {
      "text/plain": [
       "'1.4.1'"
      ]
     },
     "execution_count": 4,
     "metadata": {},
     "output_type": "execute_result"
    }
   ],
   "source": [
    "scipy.__version__"
   ]
  },
  {
   "cell_type": "markdown",
   "metadata": {},
   "source": [
    "tensor는 텐서플로우가 computational graph에서의 연산에 사용하는 주요 데이터 구조이다. 이러한 텐서를 변수로 혹은 placeholder로 변수를 입력받게 하는 방식으로 선언할 수 있다.\n",
    "\n",
    "tensor는 일반화된 벡터나 행렬을 가리키는 수학적 용어이다. (n-dimensional)"
   ]
  },
  {
   "cell_type": "markdown",
   "metadata": {},
   "source": [
    "# 1. Fixed tensors"
   ]
  },
  {
   "cell_type": "code",
   "execution_count": 8,
   "metadata": {},
   "outputs": [
    {
     "data": {
      "text/plain": [
       "<tf.Tensor 'zeros_1:0' shape=(3, 4) dtype=float32>"
      ]
     },
     "execution_count": 8,
     "metadata": {},
     "output_type": "execute_result"
    }
   ],
   "source": [
    "# row_dim과 col_dim은 임의로 3,4로 지정\n",
    "row_dim = 3\n",
    "col_dim = 4\n",
    "\n",
    "# zero_filled\n",
    "tf.zeros([row_dim,col_dim])"
   ]
  },
  {
   "cell_type": "code",
   "execution_count": 24,
   "metadata": {},
   "outputs": [
    {
     "data": {
      "text/plain": [
       "array([[1., 1., 1., 1.],\n",
       "       [1., 1., 1., 1.],\n",
       "       [1., 1., 1., 1.]], dtype=float32)"
      ]
     },
     "execution_count": 24,
     "metadata": {},
     "output_type": "execute_result"
    }
   ],
   "source": [
    "# one_filled\n",
    "# .eval 이후는 numpy ndarray로의 변환\n",
    "tf.ones([row_dim,col_dim]).eval(session=tf.compat.v1.Session())"
   ]
  },
  {
   "cell_type": "code",
   "execution_count": 23,
   "metadata": {},
   "outputs": [
    {
     "data": {
      "text/plain": [
       "array([[42, 42, 42, 42],\n",
       "       [42, 42, 42, 42],\n",
       "       [42, 42, 42, 42]])"
      ]
     },
     "execution_count": 23,
     "metadata": {},
     "output_type": "execute_result"
    }
   ],
   "source": [
    "# 한가지 실수로 채워넣기\n",
    "tf.fill([row_dim,col_dim],42).eval(session=tf.compat.v1.Session())"
   ]
  },
  {
   "cell_type": "code",
   "execution_count": 26,
   "metadata": {},
   "outputs": [
    {
     "data": {
      "text/plain": [
       "array([1, 2, 3])"
      ]
     },
     "execution_count": 26,
     "metadata": {},
     "output_type": "execute_result"
    }
   ],
   "source": [
    "tf.constant([1,2,3]).eval(session=tf.Session())"
   ]
  },
  {
   "cell_type": "code",
   "execution_count": 35,
   "metadata": {},
   "outputs": [
    {
     "data": {
      "text/plain": [
       "array([[0., 0., 0., 0.],\n",
       "       [0., 0., 0., 0.],\n",
       "       [0., 0., 0., 0.]], dtype=float32)"
      ]
     },
     "execution_count": 35,
     "metadata": {},
     "output_type": "execute_result"
    }
   ],
   "source": [
    "# 같은 모양으로 그리기(넘파이와 거의 똑같음)\n",
    "tf.zeros_like(tf.ones([row_dim,col_dim])).eval(session=tf.Session())"
   ]
  },
  {
   "cell_type": "markdown",
   "metadata": {},
   "source": [
    "### 수열형의 텐서"
   ]
  },
  {
   "cell_type": "code",
   "execution_count": 44,
   "metadata": {},
   "outputs": [
    {
     "data": {
      "text/plain": [
       "array([0.        , 0.11111111, 0.22222222, 0.33333334, 0.44444445,\n",
       "       0.5555556 , 0.6666667 , 0.7777778 , 0.8888889 , 1.        ],\n",
       "      dtype=float32)"
      ]
     },
     "execution_count": 44,
     "metadata": {},
     "output_type": "execute_result"
    }
   ],
   "source": [
    "# start와 stop의 입력시 float32등 숫자형 일치시키기\n",
    "\n",
    "# np.linspae\n",
    "tf.linspace(start=0.0,stop=1.0,num=10).eval(session=tf.Session())"
   ]
  },
  {
   "cell_type": "code",
   "execution_count": 46,
   "metadata": {},
   "outputs": [
    {
     "data": {
      "text/plain": [
       "array([ 6,  9, 12])"
      ]
     },
     "execution_count": 46,
     "metadata": {},
     "output_type": "execute_result"
    }
   ],
   "source": [
    "# np.arange, 마찬가지로 limit value는 포함하지 않음\n",
    "tf.range(start=6,limit=15,delta=3).eval(session=tf.Session())"
   ]
  },
  {
   "cell_type": "code",
   "execution_count": 48,
   "metadata": {},
   "outputs": [
    {
     "data": {
      "text/plain": [
       "array([[4.3961215, 3.0063372, 6.2001805, 6.6501245, 3.4738169, 6.538987 ],\n",
       "       [4.9947004, 6.999621 , 6.322201 , 3.9658976, 6.678405 , 6.7363205],\n",
       "       [5.7357764, 3.556116 , 6.066332 , 5.2297235, 6.2499537, 5.736044 ],\n",
       "       [6.138161 , 4.93826  , 6.0576644, 6.6783338, 5.8296943, 6.9140005],\n",
       "       [3.9436488, 6.8203554, 4.6164513, 5.3022976, 3.8386493, 5.7699113]],\n",
       "      dtype=float32)"
      ]
     },
     "execution_count": 48,
     "metadata": {},
     "output_type": "execute_result"
    }
   ],
   "source": [
    "# random tensors : 균등분포, maxval은 포함하지 않음\n",
    "tf.random_uniform([5,6],minval=3,maxval=7).eval(session=tf.Session())"
   ]
  },
  {
   "cell_type": "code",
   "execution_count": 50,
   "metadata": {},
   "outputs": [
    {
     "data": {
      "text/plain": [
       "array([[-0.25134802,  0.5084948 , -0.37794843,  0.669408  ],\n",
       "       [-0.7183273 , -0.40160498, -1.383239  , -1.5141692 ],\n",
       "       [ 0.44382015,  0.02938556, -0.07745433, -1.3333354 ]],\n",
       "      dtype=float32)"
      ]
     },
     "execution_count": 50,
     "metadata": {},
     "output_type": "execute_result"
    }
   ],
   "source": [
    "# 정규분포\n",
    "a = tf.random_normal([3,4],mean=0.0,stddev=1.0).eval(session=tf.Session())\n",
    "a"
   ]
  },
  {
   "cell_type": "code",
   "execution_count": null,
   "metadata": {},
   "outputs": [],
   "source": [
    "import matplotlib.pyplot as plt"
   ]
  },
  {
   "cell_type": "code",
   "execution_count": 69,
   "metadata": {},
   "outputs": [
    {
     "data": {
      "image/png": "[encoded data removed]",
      "text/plain": [
       "<Figure size 432x288 with 1 Axes>"
      ]
     },
     "metadata": {
      "needs_background": "light"
     },
     "output_type": "display_data"
    }
   ],
   "source": [
    "plt.figure()\n",
    "plt.plot(np.sort(a.ravel()))\n",
    "plt.show()"
   ]
  },
  {
   "cell_type": "code",
   "execution_count": 124,
   "metadata": {},
   "outputs": [],
   "source": [
    "# 특정 범위를 넘어가지 않도록 추출\n",
    "a = tf.truncated_normal([3,4],mean=0.0,stddev=1.0)"
   ]
  },
  {
   "cell_type": "code",
   "execution_count": 128,
   "metadata": {},
   "outputs": [
    {
     "data": {
      "text/plain": [
       "array([[-0.21813223, -0.06844778, -0.83623564,  0.12293678],\n",
       "       [-0.64290786, -1.6388993 , -0.33893353, -0.9748463 ],\n",
       "       [-0.34337524, -0.2738293 , -1.582459  ,  0.6101997 ]],\n",
       "      dtype=float32)"
      ]
     },
     "execution_count": 128,
     "metadata": {},
     "output_type": "execute_result"
    }
   ],
   "source": [
    "# a에는 연산 자체가 저장된 것이기 때문에 실행할 때마다 출력되는 값은 바뀐다.\n",
    "a.eval(session=tf.Session())"
   ]
  },
  {
   "cell_type": "code",
   "execution_count": 90,
   "metadata": {},
   "outputs": [
    {
     "data": {
      "text/plain": [
       "<tf.Tensor 'RandomShuffle_2:0' shape=(3, 4) dtype=float32>"
      ]
     },
     "execution_count": 90,
     "metadata": {},
     "output_type": "execute_result"
    }
   ],
   "source": [
    "tf.random_shuffle(a)"
   ]
  },
  {
   "cell_type": "code",
   "execution_count": 127,
   "metadata": {},
   "outputs": [
    {
     "data": {
      "text/plain": [
       "array([[ 1.4250612 ,  1.0004096 ,  0.04918485, -0.42009258],\n",
       "       [-0.5157017 ,  0.26853025,  0.7740727 ,  1.6220611 ],\n",
       "       [ 0.944217  ,  0.3857075 , -0.01823856, -0.5555014 ]],\n",
       "      dtype=float32)"
      ]
     },
     "execution_count": 127,
     "metadata": {},
     "output_type": "execute_result"
    }
   ],
   "source": [
    "a.eval(session=tf.Session())"
   ]
  },
  {
   "cell_type": "code",
   "execution_count": 100,
   "metadata": {},
   "outputs": [
    {
     "data": {
      "text/plain": [
       "array([1, 2, 3, 4])"
      ]
     },
     "execution_count": 100,
     "metadata": {},
     "output_type": "execute_result"
    }
   ],
   "source": [
    "# random_shuffle은 무작위로 섞는 함수\n",
    "b = tf.constant([1,2,3,4])\n",
    "b.eval(session=tf.Session())"
   ]
  },
  {
   "cell_type": "code",
   "execution_count": 101,
   "metadata": {},
   "outputs": [
    {
     "data": {
      "text/plain": [
       "array([2, 3, 1, 4])"
      ]
     },
     "execution_count": 101,
     "metadata": {},
     "output_type": "execute_result"
    }
   ],
   "source": [
    "tf.random_shuffle(b).eval(session=tf.Session())"
   ]
  },
  {
   "cell_type": "code",
   "execution_count": 102,
   "metadata": {},
   "outputs": [
    {
     "data": {
      "text/plain": [
       "array([1, 2, 3, 4])"
      ]
     },
     "execution_count": 102,
     "metadata": {},
     "output_type": "execute_result"
    }
   ],
   "source": [
    "b.eval(session=tf.Session())"
   ]
  },
  {
   "cell_type": "code",
   "execution_count": 118,
   "metadata": {},
   "outputs": [
    {
     "data": {
      "text/plain": [
       "array([3, 4])"
      ]
     },
     "execution_count": 118,
     "metadata": {},
     "output_type": "execute_result"
    }
   ],
   "source": [
    "# 지정한 사이즈만큼만 추출, 순서는 바뀌지 않는듯\n",
    "tf.random_crop(b,size = [2]).eval(session=tf.Session())"
   ]
  },
  {
   "cell_type": "code",
   "execution_count": 114,
   "metadata": {},
   "outputs": [
    {
     "data": {
      "text/plain": [
       "array([3, 2])"
      ]
     },
     "execution_count": 114,
     "metadata": {},
     "output_type": "execute_result"
    }
   ],
   "source": [
    "tf.random_crop(tf.random_shuffle(b),size = [2]).eval(session=tf.Session())"
   ]
  },
  {
   "cell_type": "code",
   "execution_count": 121,
   "metadata": {},
   "outputs": [
    {
     "data": {
      "text/plain": [
       "array([ 0.08337564,  1.2965627 , -1.9087688 , -0.04520847,  0.81096053,\n",
       "        0.6169037 , -0.57745504, -0.4884011 , -1.290058  , -0.971127  ,\n",
       "       -0.55146724, -2.4092832 ,  0.800579  ,  0.5222268 ,  0.08332071],\n",
       "      dtype=float32)"
      ]
     },
     "execution_count": 121,
     "metadata": {},
     "output_type": "execute_result"
    }
   ],
   "source": [
    "a = tf.random_normal([15],mean=0.0,stddev=1.0)\n",
    "a.eval(session=tf.Session())\n"
   ]
  },
  {
   "cell_type": "code",
   "execution_count": 123,
   "metadata": {},
   "outputs": [
    {
     "data": {
      "text/plain": [
       "array([-0.3082119 , -0.6461586 ,  1.640089  , -1.7608972 ,  0.60581094],\n",
       "      dtype=float32)"
      ]
     },
     "execution_count": 123,
     "metadata": {},
     "output_type": "execute_result"
    }
   ],
   "source": [
    "tf.random_crop(a,size=[5]).eval(session=tf.Session())"
   ]
  },
  {
   "cell_type": "code",
   "execution_count": 132,
   "metadata": {},
   "outputs": [
    {
     "data": {
      "text/plain": [
       "<tf.Variable 'Variable_2:0' shape=(3, 4) dtype=float32_ref>"
      ]
     },
     "execution_count": 132,
     "metadata": {},
     "output_type": "execute_result"
    }
   ],
   "source": [
    "tf.Variable(tf.zeros([3,4]))"
   ]
  },
  {
   "cell_type": "code",
   "execution_count": 136,
   "metadata": {},
   "outputs": [
    {
     "data": {
      "text/plain": [
       "array([10, 15])"
      ]
     },
     "execution_count": 136,
     "metadata": {},
     "output_type": "execute_result"
    }
   ],
   "source": [
    "tf.convert_to_tensor(np.arange(10,20,5)).eval(session=tf.Session())"
   ]
  },
  {
   "cell_type": "markdown",
   "metadata": {},
   "source": [
    "# placeholder와 variable\n",
    "데이터를 만들때 가장 중요한 구분은 데이터가 placeholder인지 variable인지 구분하는 것이다.<br>\n",
    "Variable은 알고리즘의 모델 파라미터로서 텐서플로우는 알고리즘에 최적화시키기 위해 variable이 변화하는 것을 keep track한다.<br>\n",
    "Placeholder는 특정 타입과 shape의 데이터를 feed in 하도록 하거나 computational graph의 결과에 의존하는 오브젝트이다. 가령 expected outcome of a computation"
   ]
  },
  {
   "cell_type": "markdown",
   "metadata": {},
   "source": [
    "constant는 변하지 않는 상수 생성<br>\n",
    "variable은 값이 바뀔 수 있는 변수 생성<br>\n",
    "placeholder는 일정 값을 받을 수 있는 그릇을 생성. feed_dict={x='들어갈 값'}과 같은 식을 지정"
   ]
  },
  {
   "cell_type": "code",
   "execution_count": 155,
   "metadata": {},
   "outputs": [
    {
     "data": {
      "text/plain": [
       "array([[ 0.3461583 ,  0.86342144],\n",
       "       [-0.24850059,  0.40374428]], dtype=float32)"
      ]
     },
     "execution_count": 155,
     "metadata": {},
     "output_type": "execute_result"
    }
   ],
   "source": [
    "# variable 만들기\n",
    "my_var = tf.Variable(tf.random_normal([2,2]))\n",
    "sess = tf.Session()\n",
    "# 초기화 실행\n",
    "initialize_op = tf.global_variables_initializer()\n",
    "sess.run(initialize_op)\n",
    "sess.run(my_var)"
   ]
  },
  {
   "cell_type": "code",
   "execution_count": 157,
   "metadata": {},
   "outputs": [
    {
     "data": {
      "text/plain": [
       "array([[ 0.3461583 ,  0.86342144],\n",
       "       [-0.24850059,  0.40374428]], dtype=float32)"
      ]
     },
     "execution_count": 157,
     "metadata": {},
     "output_type": "execute_result"
    }
   ],
   "source": [
    "# 현재 sess에는 my_var(정규분포에서 2x2 배열을 추출하는 연산)이 다음과 같은 연산으로 고정되어 있다.\n",
    "sess.run(my_var)"
   ]
  },
  {
   "cell_type": "code",
   "execution_count": 158,
   "metadata": {},
   "outputs": [
    {
     "data": {
      "text/plain": [
       "array([[ 0.3461583 ,  0.86342144],\n",
       "       [-0.24850059,  0.40374428]], dtype=float32)"
      ]
     },
     "execution_count": 158,
     "metadata": {},
     "output_type": "execute_result"
    }
   ],
   "source": [
    "# 연산이 고정되어 있기 때문에 여러번 시행해도 마찬가지 결과\n",
    "sess.run(my_var)"
   ]
  },
  {
   "cell_type": "code",
   "execution_count": 159,
   "metadata": {},
   "outputs": [],
   "source": [
    "# placeholder\n",
    "sess = tf.Session()\n",
    "x = tf.placeholder(tf.float32,shape=[2,2])\n",
    "# idenetity는 입력받은 tensor와 똑같은 값, 모양으로 돌려준다.\n",
    "y = tf.identity(x)"
   ]
  },
  {
   "cell_type": "code",
   "execution_count": 168,
   "metadata": {},
   "outputs": [
    {
     "data": {
      "text/plain": [
       "array([-5.        , -3.8888888 , -2.7777777 , -1.6666665 , -0.55555534,\n",
       "        0.5555558 ,  1.666667  ,  2.7777781 ,  3.8888893 ,  5.        ],\n",
       "      dtype=float32)"
      ]
     },
     "execution_count": 168,
     "metadata": {},
     "output_type": "execute_result"
    }
   ],
   "source": [
    "a = tf.linspace(-5.0,5.0,10)\n",
    "a.eval(session=tf.Session()\n",
    "      )"
   ]
  },
  {
   "cell_type": "code",
   "execution_count": 169,
   "metadata": {},
   "outputs": [],
   "source": [
    "bb = tf.identity(a)"
   ]
  },
  {
   "cell_type": "code",
   "execution_count": 170,
   "metadata": {},
   "outputs": [
    {
     "data": {
      "text/plain": [
       "array([-5.        , -3.8888888 , -2.7777777 , -1.6666665 , -0.55555534,\n",
       "        0.5555558 ,  1.666667  ,  2.7777781 ,  3.8888893 ,  5.        ],\n",
       "      dtype=float32)"
      ]
     },
     "execution_count": 170,
     "metadata": {},
     "output_type": "execute_result"
    }
   ],
   "source": [
    "bb.eval(session=tf.Session()\n",
    "       )"
   ]
  },
  {
   "cell_type": "code",
   "execution_count": 184,
   "metadata": {},
   "outputs": [
    {
     "name": "stdout",
     "output_type": "stream",
     "text": [
      "[[0.9626578  0.61157995]\n",
      " [0.92176723 0.11649749]]\n"
     ]
    }
   ],
   "source": [
    "# placeholder, placeholder로 정의된 x에 데이터를 feed in 시켜서 y로 정의한 연산을 수행\n",
    "sess = tf.Session()\n",
    "x = tf.placeholder(tf.float32,shape=[2,2])\n",
    "y = tf.identity(x)\n",
    "x_vals = np.random.rand(2,2)\n",
    "# sess.run(x,feed_dict={x:x_vals})하면 self-referencing error가 발생\n",
    "print(sess.run(y,feed_dict={x:x_vals}))"
   ]
  },
  {
   "cell_type": "code",
   "execution_count": 183,
   "metadata": {},
   "outputs": [
    {
     "name": "stdout",
     "output_type": "stream",
     "text": [
      "[2. 4. 6.]\n"
     ]
    }
   ],
   "source": [
    "input_data = [1,2,3]\n",
    "x=tf.placeholder(dtype=tf.float32)\n",
    "y=x*2\n",
    "sess = tf.Session()\n",
    "print(sess.run(y,feed_dict={x:input_data}))"
   ]
  },
  {
   "cell_type": "code",
   "execution_count": null,
   "metadata": {},
   "outputs": [],
   "source": [
    "# more\n",
    "# global_variables_initializer()는 전역적인 변수의 초기화\n",
    "# 만일 하나하나의 변수를 초기화하고 싶다면 다음과 같이 하면 된다.\n",
    "sess = tf.Session()\n",
    "first_var = tf.Variable(tf.zeros([2,3]))\n",
    "sess.run(first_var.initializer)\n",
    "\n",
    "second_var = tf.Variable(tf.zeros_like(first_var))\n",
    "sess.run(second_var.initializer)"
   ]
  },
  {
   "cell_type": "markdown",
   "metadata": {},
   "source": [
    "# Working with Matrices"
   ]
  },
  {
   "cell_type": "code",
   "execution_count": 186,
   "metadata": {},
   "outputs": [
    {
     "name": "stdout",
     "output_type": "stream",
     "text": [
      "[[1. 0. 0.]\n",
      " [0. 1. 0.]\n",
      " [0. 0. 1.]]\n"
     ]
    }
   ],
   "source": [
    "sess = tf.Session()\n",
    "identity_matrix = tf.diag([1.0,1.0,1.0])\n",
    "A = tf.truncated_normal([2,3])\n",
    "B = tf.fill([2,3],5.0)\n",
    "C = tf.random_uniform([3,2])\n",
    "D = tf.convert_to_tensor(np.array([[1.,2.,3.],[-3.,-7.,-1.],[0.,5.,-2]]))\n",
    "print(sess.run(identity_matrix))"
   ]
  },
  {
   "cell_type": "code",
   "execution_count": 188,
   "metadata": {},
   "outputs": [
    {
     "name": "stdout",
     "output_type": "stream",
     "text": [
      "[[-0.00683559  0.6061261  -0.32261357]\n",
      " [-0.07779917  0.943377    1.0902816 ]]\n"
     ]
    }
   ],
   "source": [
    "# 실행할 때마다 바뀌는 것은 당연\n",
    "print(sess.run(A))"
   ]
  },
  {
   "cell_type": "code",
   "execution_count": 189,
   "metadata": {},
   "outputs": [
    {
     "data": {
      "text/plain": [
       "array([[5., 5., 5.],\n",
       "       [5., 5., 5.]], dtype=float32)"
      ]
     },
     "execution_count": 189,
     "metadata": {},
     "output_type": "execute_result"
    }
   ],
   "source": [
    "sess.run(B)"
   ]
  },
  {
   "cell_type": "code",
   "execution_count": 190,
   "metadata": {},
   "outputs": [
    {
     "data": {
      "text/plain": [
       "array([[0.53742945, 0.44842672],\n",
       "       [0.45616376, 0.79423213],\n",
       "       [0.7733774 , 0.07006311]], dtype=float32)"
      ]
     },
     "execution_count": 190,
     "metadata": {},
     "output_type": "execute_result"
    }
   ],
   "source": [
    "sess.run(C)"
   ]
  },
  {
   "cell_type": "code",
   "execution_count": 191,
   "metadata": {},
   "outputs": [
    {
     "data": {
      "text/plain": [
       "array([[ 1.,  2.,  3.],\n",
       "       [-3., -7., -1.],\n",
       "       [ 0.,  5., -2.]])"
      ]
     },
     "execution_count": 191,
     "metadata": {},
     "output_type": "execute_result"
    }
   ],
   "source": [
    "sess.run(D)"
   ]
  },
  {
   "cell_type": "markdown",
   "metadata": {},
   "source": [
    "## 행렬 연산"
   ]
  },
  {
   "cell_type": "code",
   "execution_count": 194,
   "metadata": {},
   "outputs": [
    {
     "data": {
      "text/plain": [
       "array([[6.136733 , 3.3192015, 3.4051886],\n",
       "       [3.9672287, 3.0563953, 4.3515034]], dtype=float32)"
      ]
     },
     "execution_count": 194,
     "metadata": {},
     "output_type": "execute_result"
    }
   ],
   "source": [
    "# A가 새로 실행되므로 위의 결과를 더한 것과는 값이 다를 수 있다.\n",
    "sess.run(A+B)"
   ]
  },
  {
   "cell_type": "code",
   "execution_count": 195,
   "metadata": {},
   "outputs": [
    {
     "data": {
      "text/plain": [
       "array([[0., 0., 0.],\n",
       "       [0., 0., 0.]], dtype=float32)"
      ]
     },
     "execution_count": 195,
     "metadata": {},
     "output_type": "execute_result"
    }
   ],
   "source": [
    "sess.run(B-B)"
   ]
  },
  {
   "cell_type": "code",
   "execution_count": 196,
   "metadata": {},
   "outputs": [
    {
     "data": {
      "text/plain": [
       "array([[0., 0., 0.],\n",
       "       [0., 0., 0.]], dtype=float32)"
      ]
     },
     "execution_count": 196,
     "metadata": {},
     "output_type": "execute_result"
    }
   ],
   "source": [
    "sess.run(A-A)"
   ]
  },
  {
   "cell_type": "code",
   "execution_count": 197,
   "metadata": {},
   "outputs": [
    {
     "data": {
      "text/plain": [
       "array([[5., 5., 5.],\n",
       "       [5., 5., 5.]], dtype=float32)"
      ]
     },
     "execution_count": 197,
     "metadata": {},
     "output_type": "execute_result"
    }
   ],
   "source": [
    "sess.run(tf.matmul(B,identity_matrix))"
   ]
  },
  {
   "cell_type": "code",
   "execution_count": 198,
   "metadata": {},
   "outputs": [
    {
     "data": {
      "text/plain": [
       "array([[0.592121  , 0.5631949 , 0.38090456],\n",
       "       [0.7576839 , 0.8206432 , 0.12021339]], dtype=float32)"
      ]
     },
     "execution_count": 198,
     "metadata": {},
     "output_type": "execute_result"
    }
   ],
   "source": [
    "sess.run(tf.transpose(C))"
   ]
  },
  {
   "cell_type": "code",
   "execution_count": 200,
   "metadata": {},
   "outputs": [
    {
     "data": {
      "text/plain": [
       "-37.99999999999999"
      ]
     },
     "execution_count": 200,
     "metadata": {},
     "output_type": "execute_result"
    }
   ],
   "source": [
    "sess.run(tf.matrix_determinant(D))"
   ]
  },
  {
   "cell_type": "code",
   "execution_count": 202,
   "metadata": {},
   "outputs": [
    {
     "data": {
      "text/plain": [
       "array([[-0.5       , -0.5       , -0.5       ],\n",
       "       [ 0.15789474,  0.05263158,  0.21052632],\n",
       "       [ 0.39473684,  0.13157895,  0.02631579]])"
      ]
     },
     "execution_count": 202,
     "metadata": {},
     "output_type": "execute_result"
    }
   ],
   "source": [
    "sess.run(tf.matrix_inverse(D))"
   ]
  },
  {
   "cell_type": "code",
   "execution_count": 205,
   "metadata": {},
   "outputs": [
    {
     "data": {
      "text/plain": [
       "array([[ 1.,  0.,  0.],\n",
       "       [ 0.,  1.,  0.],\n",
       "       [ 0., -0.,  1.]])"
      ]
     },
     "execution_count": 205,
     "metadata": {},
     "output_type": "execute_result"
    }
   ],
   "source": [
    "sess.run(tf.matmul(tf.matrix_inverse(D),D)).round(2)"
   ]
  },
  {
   "cell_type": "code",
   "execution_count": 209,
   "metadata": {},
   "outputs": [
    {
     "data": {
      "text/plain": [
       "array([[1., 0., 0.],\n",
       "       [0., 1., 0.],\n",
       "       [0., 0., 1.]], dtype=float32)"
      ]
     },
     "execution_count": 209,
     "metadata": {},
     "output_type": "execute_result"
    }
   ],
   "source": [
    "# Decomposition\n",
    "sess.run(tf.cholesky(identity_matrix))"
   ]
  },
  {
   "cell_type": "code",
   "execution_count": 263,
   "metadata": {
    "scrolled": true
   },
   "outputs": [
    {
     "name": "stdout",
     "output_type": "stream",
     "text": [
      "[-10.65907521  -0.22750691   2.88658212] \n",
      "\n",
      " [[ 0.21749542  0.63250104 -0.74339638]\n",
      " [ 0.84526515  0.2587998   0.46749277]\n",
      " [-0.4880805   0.73004459  0.47834331]]\n"
     ]
    }
   ],
   "source": [
    "# eigenvalues와 eigenvectors\n",
    "val,vec = sess.run(tf.self_adjoint_eig(D))\n",
    "print(val,'\\n\\n',vec)"
   ]
  },
  {
   "cell_type": "markdown",
   "metadata": {},
   "source": [
    "# Declaring operations\n",
    "사칙연산 : add,sub,mul,div\n"
   ]
  },
  {
   "cell_type": "code",
   "execution_count": 295,
   "metadata": {},
   "outputs": [
    {
     "name": "stdout",
     "output_type": "stream",
     "text": [
      "0\n",
      "0.75\n"
     ]
    }
   ],
   "source": [
    "# div는 input과 같은 타입의 결과물을 반환한다.\n",
    "# truediv는 input의 타입과 관계없음\n",
    "print(sess.run(tf.div(3,4)))\n",
    "print(sess.run(tf.truediv(3,4)))"
   ]
  },
  {
   "cell_type": "code",
   "execution_count": 296,
   "metadata": {},
   "outputs": [
    {
     "name": "stdout",
     "output_type": "stream",
     "text": [
      "0.75\n"
     ]
    }
   ],
   "source": [
    "print(sess.run(tf.div(3.,4.)))"
   ]
  },
  {
   "cell_type": "code",
   "execution_count": 297,
   "metadata": {},
   "outputs": [
    {
     "data": {
      "text/plain": [
       "0.0"
      ]
     },
     "execution_count": 297,
     "metadata": {},
     "output_type": "execute_result"
    }
   ],
   "source": [
    "# 가장 가까운 정수로 내림(가우스 함수)(정수부분)(몫)\n",
    "sess.run(tf.floordiv(3.0,4.0))"
   ]
  },
  {
   "cell_type": "code",
   "execution_count": 298,
   "metadata": {},
   "outputs": [
    {
     "data": {
      "text/plain": [
       "-1.0"
      ]
     },
     "execution_count": 298,
     "metadata": {},
     "output_type": "execute_result"
    }
   ],
   "source": [
    "sess.run(tf.floordiv(-3.0,4.0))"
   ]
  },
  {
   "cell_type": "code",
   "execution_count": 299,
   "metadata": {},
   "outputs": [
    {
     "data": {
      "text/plain": [
       "2.0"
      ]
     },
     "execution_count": 299,
     "metadata": {},
     "output_type": "execute_result"
    }
   ],
   "source": [
    "# 나머지를 반환\n",
    "sess.run(tf.mod(22.0,5.0))"
   ]
  },
  {
   "cell_type": "code",
   "execution_count": 301,
   "metadata": {},
   "outputs": [
    {
     "data": {
      "text/plain": [
       "array([0., 0., 1.], dtype=float32)"
      ]
     },
     "execution_count": 301,
     "metadata": {},
     "output_type": "execute_result"
    }
   ],
   "source": [
    "# 외적(cross_product)\n",
    "sess.run(tf.cross([1.,0.,0.],[0.,1.,0.]))"
   ]
  },
  {
   "cell_type": "code",
   "execution_count": 302,
   "metadata": {},
   "outputs": [],
   "source": [
    "a = tf.abs(-3)"
   ]
  },
  {
   "cell_type": "code",
   "execution_count": 303,
   "metadata": {},
   "outputs": [
    {
     "data": {
      "text/plain": [
       "<tf.Tensor 'Abs:0' shape=() dtype=int32>"
      ]
     },
     "execution_count": 303,
     "metadata": {},
     "output_type": "execute_result"
    }
   ],
   "source": [
    "a"
   ]
  },
  {
   "cell_type": "code",
   "execution_count": 304,
   "metadata": {},
   "outputs": [
    {
     "data": {
      "text/plain": [
       "3"
      ]
     },
     "execution_count": 304,
     "metadata": {},
     "output_type": "execute_result"
    }
   ],
   "source": [
    "sess.run(a)"
   ]
  },
  {
   "cell_type": "code",
   "execution_count": 306,
   "metadata": {},
   "outputs": [
    {
     "data": {
      "text/plain": [
       "1.0"
      ]
     },
     "execution_count": 306,
     "metadata": {},
     "output_type": "execute_result"
    }
   ],
   "source": [
    "sess.run(tf.tan(np.pi/4.))"
   ]
  },
  {
   "cell_type": "code",
   "execution_count": 308,
   "metadata": {},
   "outputs": [
    {
     "data": {
      "text/plain": [
       "362"
      ]
     },
     "execution_count": 308,
     "metadata": {},
     "output_type": "execute_result"
    }
   ],
   "source": [
    "def custom_polynomial(value):\n",
    "    return 3*tf.square(value)-value+10\n",
    "sess.run(custom_polynomial(11))"
   ]
  },
  {
   "cell_type": "code",
   "execution_count": 311,
   "metadata": {},
   "outputs": [
    {
     "data": {
      "text/plain": [
       "[<matplotlib.lines.Line2D at 0x20278b3e908>]"
      ]
     },
     "execution_count": 311,
     "metadata": {},
     "output_type": "execute_result"
    },
    {
     "data": {
      "image/png": "[encoded data removed]",
      "text/plain": [
       "<Figure size 432x288 with 1 Axes>"
      ]
     },
     "metadata": {
      "needs_background": "light"
     },
     "output_type": "display_data"
    }
   ],
   "source": [
    "x_list = np.linspace(0,10,100)\n",
    "y_list =[]\n",
    "for x in x_list:\n",
    "    y_list.append(sess.run(custom_polynomial(x)))\n",
    "plt.plot(x_list,y_list)"
   ]
  },
  {
   "cell_type": "markdown",
   "metadata": {},
   "source": [
    "# Implementing activation functions\n",
    "신경망이 비선형 출력을 근사화시키는 역할"
   ]
  },
  {
   "cell_type": "code",
   "execution_count": null,
   "metadata": {},
   "outputs": [],
   "source": []
  }
 ],
 "metadata": {
  "kernelspec": {
   "display_name": "Python 3",
   "language": "python",
   "name": "python3"
  },
  "language_info": {
   "codemirror_mode": {
    "name": "ipython",
    "version": 3
   },
   "file_extension": ".py",
   "mimetype": "text/x-python",
   "name": "python",
   "nbconvert_exporter": "python",
   "pygments_lexer": "ipython3",
   "version": "3.7.4"
  }
 },
 "nbformat": 4,
 "nbformat_minor": 2
}
