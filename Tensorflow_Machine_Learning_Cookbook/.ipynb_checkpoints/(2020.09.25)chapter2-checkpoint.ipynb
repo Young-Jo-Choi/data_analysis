{
 "cells": [
  {
   "cell_type": "markdown",
   "metadata": {},
   "source": [
    "# The TensorFlow Way "
   ]
  },
  {
   "cell_type": "code",
   "execution_count": 1,
   "metadata": {},
   "outputs": [
    {
     "name": "stdout",
     "output_type": "stream",
     "text": [
      "WARNING:tensorflow:From C:\\Users\\hp\\Anaconda3\\lib\\site-packages\\tensorflow_core\\python\\compat\\v2_compat.py:88: disable_resource_variables (from tensorflow.python.ops.variable_scope) is deprecated and will be removed in a future version.\n",
      "Instructions for updating:\n",
      "non-resource variables are not supported in the long term\n"
     ]
    }
   ],
   "source": [
    "import tensorflow.compat.v1 as tf\n",
    "tf.disable_v2_behavior()\n",
    "import numpy as np"
   ]
  },
  {
   "cell_type": "markdown",
   "metadata": {},
   "source": [
    "# Operations in a computational graph"
   ]
  },
  {
   "cell_type": "code",
   "execution_count": 2,
   "metadata": {},
   "outputs": [
    {
     "name": "stdout",
     "output_type": "stream",
     "text": [
      "3.0\n",
      "9.0\n",
      "15.0\n",
      "21.0\n",
      "27.0\n"
     ]
    }
   ],
   "source": [
    "sess = tf.Session()\n",
    "\n",
    "x_vals = np.array([1.,3.,5.,7.,9.])\n",
    "x_data = tf.placeholder(tf.float32)\n",
    "m_const = tf.constant(3.)\n",
    "my_product = tf.multiply(x_data,m_const)\n",
    "for x_val in x_vals:\n",
    "    print(sess.run(my_product,feed_dict={x_data:x_val}))"
   ]
  },
  {
   "cell_type": "markdown",
   "metadata": {},
   "source": [
    "# Layering nested operations\n",
    "연산 그래프에서 다층 연산을 쌓는 방법\n",
    "\n",
    "다음 예시를 참조"
   ]
  },
  {
   "cell_type": "code",
   "execution_count": 20,
   "metadata": {},
   "outputs": [],
   "source": [
    "# 1. feed in하고 placeholder에 대응할 데이터를 정의한다.\n",
    "my_array = np.array([[1.,3.,5.,7.,9.],\n",
    "                    [-2.,0.,2.,4.,6.],\n",
    "                    [-6.,-3.,0.,3.,6.]])\n",
    "x_vals = np.array([my_array,my_array+1])\n",
    "x_data = tf.placeholder(tf.float32,shape=(3,5))\n",
    "# x_data = tf.placeholder(tf.float32,shape=(None,None))으로 쓰는 것도 가능"
   ]
  },
  {
   "cell_type": "code",
   "execution_count": 21,
   "metadata": {},
   "outputs": [],
   "source": [
    "# 2. 행렬곱에 사용할 상수를 정의한다.\n",
    "m1 = tf.constant([[1.],[0.],[-1.],[2.],[4.]])\n",
    "m2 = tf.constant([[2.]])\n",
    "a1= tf.constant([[10.]])"
   ]
  },
  {
   "cell_type": "code",
   "execution_count": 22,
   "metadata": {},
   "outputs": [],
   "source": [
    "# 3. 연산을 선언하고 연상들을 그래프에 추가한다.\n",
    "prod1 = tf.matmul(x_data,m1)\n",
    "prod2 = tf.matmul(prod1,m2)\n",
    "add1 = tf.add(prod2,a1)"
   ]
  },
  {
   "cell_type": "code",
   "execution_count": 23,
   "metadata": {},
   "outputs": [
    {
     "name": "stdout",
     "output_type": "stream",
     "text": [
      "[[102.]\n",
      " [ 66.]\n",
      " [ 58.]]\n",
      "[[114.]\n",
      " [ 78.]\n",
      " [ 70.]]\n"
     ]
    }
   ],
   "source": [
    "# 4. 그래프에 데이터를 feed 한다.\n",
    "for x_val in x_vals:\n",
    "    print(sess.run(add1,feed_dict={x_data:x_val}))"
   ]
  },
  {
   "cell_type": "markdown",
   "metadata": {},
   "source": [
    "placeholder 정의할 때 shape를 지정해야하는데 여러가지일 수 있는 모양을 None으로 대체할 수 있다.<br>\n",
    "단 fixed size로 차원을 standardizing하려할 떄 사이즈를 정확히 입력해야하므로 가능한한 차원을 제대로 입력해주는 것이 좋다."
   ]
  },
  {
   "cell_type": "markdown",
   "metadata": {},
   "source": [
    "# Working with multiple layers\n",
    "custom layer를 비롯해 다양한 층을 가장 좋게 쌓는 법을 학습한다.\n",
    "\n",
    "예를 들어 어떤 이미지를 대표하는 데이터를 만들어내고자할 때 이런 연산을 이해하는 가장 좋은 방법은 example과 연산을 수행할 built-in 층을 어떻게 사용할지 살펴보는 것이다. 이런 탐색을 수행할 첫번쨰 층을 moving window라고 부른다."
   ]
  },
  {
   "cell_type": "code",
   "execution_count": 24,
   "metadata": {},
   "outputs": [],
   "source": [
    "# 1. 2D 이미지 생성(4x4 pixel), 4개의 차원으로 구성하는데 첫번째와 마지막 차원은 1 사이즈를 갖는다.\n",
    "# 각각 이미지 넘버, 높이, 깊이, 채널\n",
    "\n",
    "x_shape = [1,4,4,1]\n",
    "x_val = np.random.uniform(size=x_shape)"
   ]
  },
  {
   "cell_type": "code",
   "execution_count": 25,
   "metadata": {},
   "outputs": [],
   "source": [
    "# 2. 심플 이미지를 feed할 수 있는 placeholder를 정의\n",
    "x_data = tf.placeholder(tf.float32,shape=x_shape)"
   ]
  },
  {
   "cell_type": "code",
   "execution_count": 26,
   "metadata": {},
   "outputs": [],
   "source": [
    "# 3. 4x4이미지에 대한 moving_window를 만들기 위해 2x2 모양의 창을 사용해 convolute하는 내장함수를 사용하기로 한다.(conv2d)\n",
    "\n",
    "my_filter = tf.constant(0.25,shape=[2,2,1,1])\n",
    "my_strides = [1,2,2,1]\n",
    "mov_avg_layer = tf.nn.conv2d(x_data,filter = my_filter,strides = my_strides,\n",
    "                            padding='SAME',name='Moving_Avg_Window')"
   ]
  },
  {
   "cell_type": "markdown",
   "metadata": {},
   "source": [
    "Output_size = (W-F+2P)/S + 1, W : input_size, F : filter_size, P : padding of zeros, S : stride"
   ]
  },
  {
   "cell_type": "code",
   "execution_count": 28,
   "metadata": {},
   "outputs": [],
   "source": [
    "# 4. moving_window의 2x2 결과에 대해 연산을 수행할 custom 층을 정의\n",
    "# squeeze 함수는 차원 중 사이즈가 1인 것을 찾아 제거한다. ex) [[[[1],[2]],[[3],[4]]]] -> [[1,2],[3,4]]\n",
    "\n",
    "def custom_layer(input_matrix):\n",
    "    input_matrix_squeezed = tf.squeeze(input_matrix)\n",
    "    A = tf.constant([[1.,2.],[-1.,3.]])\n",
    "    b = tf.constant(1.,shape=[2,2])\n",
    "    temp1 = tf.matmul(A,input_matrix_squeezed)\n",
    "    temp = tf.add(temp1,b) # Ax+b\n",
    "    return tf.sigmoid(temp)"
   ]
  },
  {
   "cell_type": "code",
   "execution_count": 29,
   "metadata": {},
   "outputs": [
    {
     "name": "stdout",
     "output_type": "stream",
     "text": [
      "[[0.91568214 0.8890658 ]\n",
      " [0.8505936  0.7587084 ]]\n"
     ]
    }
   ],
   "source": [
    "# 5. name_scope를 통해 새로운 층을 쌓을 수 있는데 이는 연산 그래프에서 identifiable하고 collapsible(접을 수 있는),expandable하다.\n",
    "with tf.name_scope('Custom_Layer') as scope:\n",
    "    custom_layer1 = custom_layer(mov_avg_layer)\n",
    "    print(sess.run(custom_layer1,feed_dict={x_data:x_val}))"
   ]
  },
  {
   "cell_type": "markdown",
   "metadata": {},
   "source": [
    "# Implementing loss functions\n",
    "loss function은 타겟과 예측을 비교해 수치적인 차이를 나타낸다."
   ]
  },
  {
   "cell_type": "code",
   "execution_count": 6,
   "metadata": {},
   "outputs": [],
   "source": [
    "import matplotlib.pyplot as plt\n",
    "%matplotlib inline"
   ]
  },
  {
   "cell_type": "code",
   "execution_count": 43,
   "metadata": {},
   "outputs": [],
   "source": [
    "# 1. \n",
    "x_vals = tf.linspace(-1.,1.,500)\n",
    "target = tf.constant(0.)\n",
    "\n",
    "# 2. L2 norm : Euclidean loss function, a great loss 타겟을 향해 수렴하는데 그 차이가 0에 가까워질 수록 천천히 수렴한다.\n",
    "# 내장함수 : tf.nn.l2_loss()\n",
    "l2_y_vals = tf.square(target - x_vals)\n",
    "l2_y_out = sess.run(l2_y_vals)\n",
    "\n",
    "# 3. L1 norm : Huber loss function, 큰 값에 대해 steep 하지 않은 것이 장점. 하지만 smooth하지 않아 잘 수렴하지 않을 수 있다.\n",
    "l1_y_vals = tf.abs(target-x_vals)\n",
    "l1_y_out = sess.run(l1_y_vals)\n",
    "\n",
    "# 4. Pseudo-Huber loss : continuous and smooth approximation to Huber loss function.\n",
    "# delta 파라미터에 의존해 얼마나 steep할지 결정된다.\n",
    "delta1 = tf.constant(0.25)\n",
    "phuber1_y_vals = tf.multiply(tf.square(delta1),tf.sqrt(1.+tf.square((target-x_vals)/delta1))-1.)\n",
    "phuber1_y_out = sess.run(phuber1_y_vals)\n",
    "\n",
    "delta2 = tf.constant(5.)\n",
    "phuber2_y_vals = tf.multiply(tf.square(delta2),tf.sqrt(1.+tf.square((target-x_vals)/delta2))-1.)\n",
    "phuber2_y_out = sess.run(phuber2_y_vals)"
   ]
  },
  {
   "cell_type": "markdown",
   "metadata": {},
   "source": [
    "그외 다양한 loss function 들<br>\n",
    "\n",
    "7.8번은 비슷한데 8번은 sigmoid를 한번 적용하고 log안에 집어넣는다.<br>\n",
    "https://gombru.github.io/2018/05/23/cross_entropy_loss/ 참고"
   ]
  },
  {
   "cell_type": "code",
   "execution_count": 44,
   "metadata": {},
   "outputs": [
    {
     "data": {
      "text/plain": [
       "<matplotlib.legend.Legend at 0x2ba9d2aea48>"
      ]
     },
     "execution_count": 44,
     "metadata": {},
     "output_type": "execute_result"
    },
    {
     "data": {
      "image/png": "[encoded data removed]",
      "text/plain": [
       "<Figure size 432x288 with 1 Axes>"
      ]
     },
     "metadata": {
      "needs_background": "light"
     },
     "output_type": "display_data"
    }
   ],
   "source": [
    "x_array = sess.run(x_vals)\n",
    "plt.plot(x_array,l2_y_out,'b-',label='L2 Loss')\n",
    "plt.plot(x_array,l1_y_out,'r--',label='L1 Loss')\n",
    "plt.plot(x_array,phuber1_y_out,'k-.',label='P-Huber Loss(0.25)')\n",
    "plt.plot(x_array,phuber2_y_out,'g:',label='P-Huber Loss(5.0)')\n",
    "plt.ylim(-0.2,0.4)\n",
    "plt.legend(loc='lower right',prop={'size':11})"
   ]
  },
  {
   "cell_type": "code",
   "execution_count": 3,
   "metadata": {},
   "outputs": [
    {
     "data": {
      "text/plain": [
       "(100,)"
      ]
     },
     "execution_count": 3,
     "metadata": {},
     "output_type": "execute_result"
    }
   ],
   "source": [
    "np.random.normal(1,0.1,100).shape"
   ]
  },
  {
   "cell_type": "code",
   "execution_count": 5,
   "metadata": {},
   "outputs": [
    {
     "data": {
      "text/plain": [
       "(100,)"
      ]
     },
     "execution_count": 5,
     "metadata": {},
     "output_type": "execute_result"
    }
   ],
   "source": [
    "np.concatenate((np.repeat(0,50),np.repeat(0,50))).shape"
   ]
  },
  {
   "cell_type": "code",
   "execution_count": null,
   "metadata": {},
   "outputs": [],
   "source": [
    "# tf.expand_dims(행렬, 위치=0,1,2,...)\n",
    "# 해당 위치에 차원을 추가\n",
    "# ex)B = tf.expand_dims(A,1) : A.shape=(2,2,2) -> B.shape(2,1,2,2)"
   ]
  },
  {
   "cell_type": "markdown",
   "metadata": {},
   "source": [
    "# Working with batch and stochastic training\n",
    "오직 하나의 데이터로부터 역전파 연산을 수행하는 것은 매우 이상한 학습 프로세스가 될 수 있고, 한번에 너무 큰 배치를 이요하는 것은 연산 비용이 많이 든다. 올바른 타입의 학습을 고르는 것은 머신러닝 알고리즘이 해로 수렴하는데 있어 매우 중요하다.\n",
    "\n",
    "Stochastic 학습이란 한번에 오직 하나의 데이터 pair를 이용해 과정을 진행해 나가는 것이다. 트레이닝에 있어서의 배치는 하나에서부터 데이터셋 전체까지 다양하게 선택할 수 있다."
   ]
  },
  {
   "cell_type": "code",
   "execution_count": 51,
   "metadata": {},
   "outputs": [],
   "source": [
    "sess = tf.Session()\n",
    "\n",
    "# 1.\n",
    "batch_size = 20\n",
    "\n",
    "# 2. 데이터 선언\n",
    "x_vals = np.random.normal(1,0.1,100)\n",
    "y_vals = np.repeat(10.,100)\n",
    "# 이전에 챕터 1에서는 20으로 명시해두었지만 None으로 일반화하는 것도 가능하다.\n",
    "x_data = tf.placeholder(shape=[None,1],dtype=tf.float32)\n",
    "y_target = tf.placeholder(shape=[None,1],dtype=tf.float32)\n",
    "A = tf.Variable(tf.random_normal(shape=[1,1]))\n",
    "\n",
    "# 3. 연산 선언\n",
    "my_output = tf.matmul(x_data,A)"
   ]
  },
  {
   "cell_type": "code",
   "execution_count": 52,
   "metadata": {},
   "outputs": [],
   "source": [
    "# 4. loss 함수 선언 : L2 norm\n",
    "loss = tf.reduce_mean(tf.square(my_output - y_target))\n",
    "\n",
    "# 5. optimizer 선언 (초기화 직전)\n",
    "my_opt = tf.train.GradientDescentOptimizer(0.02)\n",
    "train_step = my_opt.minimize(loss)\n",
    "init = tf.global_variables_initializer()\n",
    "sess.run(init)"
   ]
  },
  {
   "cell_type": "code",
   "execution_count": 53,
   "metadata": {},
   "outputs": [
    {
     "name": "stdout",
     "output_type": "stream",
     "text": [
      "Step #5A = [[1.0330156]]\n",
      "Loss =  81.06793\n",
      "Step #10A = [[2.6760044]]\n",
      "Loss =  52.158913\n",
      "Step #15A = [[4.025011]]\n",
      "Loss =  35.00647\n",
      "Step #20A = [[5.1215672]]\n",
      "Loss =  24.88947\n",
      "Step #25A = [[6.003374]]\n",
      "Loss =  16.061527\n",
      "Step #30A = [[6.730427]]\n",
      "Loss =  11.213324\n",
      "Step #35A = [[7.3128567]]\n",
      "Loss =  7.9525604\n",
      "Step #40A = [[7.7976546]]\n",
      "Loss =  6.2259226\n",
      "Step #45A = [[8.194846]]\n",
      "Loss =  2.968799\n",
      "Step #50A = [[8.5182705]]\n",
      "Loss =  2.9906743\n",
      "Step #55A = [[8.765683]]\n",
      "Loss =  2.139413\n",
      "Step #60A = [[8.97167]]\n",
      "Loss =  1.7558815\n",
      "Step #65A = [[9.130928]]\n",
      "Loss =  1.8605238\n",
      "Step #70A = [[9.2996435]]\n",
      "Loss =  1.4699075\n",
      "Step #75A = [[9.408749]]\n",
      "Loss =  0.83209383\n",
      "Step #80A = [[9.493129]]\n",
      "Loss =  1.3426905\n",
      "Step #85A = [[9.545008]]\n",
      "Loss =  1.342288\n",
      "Step #90A = [[9.626984]]\n",
      "Loss =  1.1457132\n",
      "Step #95A = [[9.693028]]\n",
      "Loss =  1.3378861\n",
      "Step #100A = [[9.725347]]\n",
      "Loss =  0.8200917\n"
     ]
    }
   ],
   "source": [
    "# 6. training step을 반복, 시간에 따른 loss를 비교하고 sgd에 대한 배치학습을 비교하고자 하므로,\n",
    "# 매 10번 간격마다 loss 함수를 저장한다.\n",
    "\n",
    "loss_batch = []\n",
    "for i in range(100):\n",
    "    rand_index = np.random.choice(100,size=batch_size)\n",
    "    rand_x = np.transpose([x_vals[rand_index]])\n",
    "    rand_y = np.transpose([y_vals[rand_index]])\n",
    "    sess.run(train_step, feed_dict={x_data:rand_x, y_target:rand_y})\n",
    "    if (i+1) % 5 == 0:\n",
    "        print('Step #' + str(i+1)+ 'A = '+str(sess.run(A)))\n",
    "        temp_loss = sess.run(loss,feed_dict={x_data:rand_x,y_target:rand_y})\n",
    "        print('Loss = ',str(temp_loss))\n",
    "        loss_batch.append(temp_loss)"
   ]
  },
  {
   "cell_type": "code",
   "execution_count": 54,
   "metadata": {},
   "outputs": [
    {
     "name": "stdout",
     "output_type": "stream",
     "text": [
      "Step #5A = [[0.52456963]]\n",
      "Loss =  90.71841\n",
      "Step #10A = [[2.2984028]]\n",
      "Loss =  60.421215\n",
      "Step #15A = [[3.7266347]]\n",
      "Loss =  43.861786\n",
      "Step #20A = [[4.895607]]\n",
      "Loss =  22.516327\n",
      "Step #25A = [[5.831299]]\n",
      "Loss =  18.10992\n",
      "Step #30A = [[6.6151085]]\n",
      "Loss =  13.307697\n",
      "Step #35A = [[7.2856493]]\n",
      "Loss =  17.18947\n",
      "Step #40A = [[7.7528005]]\n",
      "Loss =  4.353859\n",
      "Step #45A = [[8.1886635]]\n",
      "Loss =  7.3730073\n",
      "Step #50A = [[8.489073]]\n",
      "Loss =  4.332226\n",
      "Step #55A = [[8.662735]]\n",
      "Loss =  0.46409455\n",
      "Step #60A = [[8.968719]]\n",
      "Loss =  1.3282632\n",
      "Step #65A = [[9.036872]]\n",
      "Loss =  0.6613004\n",
      "Step #70A = [[9.163707]]\n",
      "Loss =  0.5496086\n",
      "Step #75A = [[9.276388]]\n",
      "Loss =  0.74735045\n",
      "Step #80A = [[9.462588]]\n",
      "Loss =  1.0445821\n",
      "Step #85A = [[9.572483]]\n",
      "Loss =  1.1466041\n",
      "Step #90A = [[9.628677]]\n",
      "Loss =  0.47340006\n",
      "Step #95A = [[9.694491]]\n",
      "Loss =  0.91582304\n",
      "Step #100A = [[9.719352]]\n",
      "Loss =  5.685331\n"
     ]
    }
   ],
   "source": [
    "# 이번엔 배치 사이즈 없이 sgd를 수행\n",
    "sess.run(init)\n",
    "loss_stochastic = []\n",
    "for i in range(100):\n",
    "    rand_index = np.random.choice(100)\n",
    "    rand_x = np.array([x_vals[rand_index]]).reshape(-1,1)\n",
    "    rand_y = np.array([y_vals[rand_index]]).reshape(-1,1)\n",
    "    sess.run(train_step, feed_dict={x_data:rand_x, y_target:rand_y})\n",
    "    if (i+1) % 5 == 0:\n",
    "        print('Step #' + str(i+1)+ 'A = '+str(sess.run(A)))\n",
    "        temp_loss = sess.run(loss,feed_dict={x_data:rand_x, y_target:rand_y})\n",
    "        print('Loss = ',str(temp_loss))\n",
    "        loss_stochastic.append(temp_loss)"
   ]
  },
  {
   "cell_type": "code",
   "execution_count": 55,
   "metadata": {},
   "outputs": [
    {
     "data": {
      "text/plain": [
       "<matplotlib.legend.Legend at 0x18304d625c8>"
      ]
     },
     "execution_count": 55,
     "metadata": {},
     "output_type": "execute_result"
    },
    {
     "data": {
      "image/png": "[encoded data removed]",
      "text/plain": [
       "<Figure size 432x288 with 1 Axes>"
      ]
     },
     "metadata": {
      "needs_background": "light"
     },
     "output_type": "display_data"
    }
   ],
   "source": [
    "fig,ax = plt.subplots(1,1)\n",
    "ax.plot(range(0,100,5),loss_stochastic,'b-',label='Stochastic Loss')\n",
    "ax.plot(range(0,100,5),loss_batch,'r--',label='Batch size=20 Loss')\n",
    "ax.legend()"
   ]
  },
  {
   "cell_type": "markdown",
   "metadata": {},
   "source": [
    "batch에서의 loss가 더 smooth한 것을 확인할 수 있다."
   ]
  },
  {
   "cell_type": "markdown",
   "metadata": {},
   "source": [
    "# Combinig everything together\n",
    "iris 분류 문제를 통해 체크해볼 것"
   ]
  },
  {
   "cell_type": "code",
   "execution_count": 56,
   "metadata": {},
   "outputs": [],
   "source": [
    "# 1.\n",
    "from sklearn.datasets import load_iris\n",
    "iris = load_iris()\n",
    "\n",
    "# 2.\n",
    "# 원래 iris 데이터는 삼진분류이지만 이진분류 문제로 바꿔서 수행해본다.\n",
    "binary_target = np.array([1. if x==0 else 0. for x in iris.target])\n",
    "# 특성도 두개만 사용한다.\n",
    "iris_2d = np.array([[x[2],x[3]] for x in iris.data])"
   ]
  },
  {
   "cell_type": "code",
   "execution_count": 58,
   "metadata": {},
   "outputs": [],
   "source": [
    "# 3. \n",
    "batch_size = 20\n",
    "x1_data = tf.placeholder(shape=[None,1],dtype=tf.float32)\n",
    "x2_data = tf.placeholder(shape=[None,1],dtype=tf.float32)\n",
    "y_target = tf.placeholder(shape=[None,1],dtype=tf.float32)\n",
    "A = tf.Variable(tf.random_normal(shape=[1,1]))\n",
    "b = tf.Variable(tf.random_normal(shape=[1,1]))\n",
    "# tf.float32을 사용하는 것 대신 floats에 대한 byte를 낮춤으로서 performance를 향상시킬 수 있다."
   ]
  },
  {
   "cell_type": "code",
   "execution_count": 69,
   "metadata": {},
   "outputs": [],
   "source": [
    "# 4. linear model을 정의 : x2 = x1*A + b\n",
    "# loss function을 x2 - x1*A - b로 바로 정의하지 않고 sigmoid를 이용한 entropy함수로 정의한다.\n",
    "my_mult = tf.matmul(x2_data,A)\n",
    "my_add = tf.add(my_mult,b)\n",
    "my_output = tf.subtract(x1_data,my_add)\n",
    "xentropy = tf.nn.sigmoid_cross_entropy_with_logits(logits=my_output,labels=y_target)\n",
    "\n",
    "# 5.\n",
    "my_opt = tf.train.GradientDescentOptimizer(0.05)\n",
    "train_step = my_opt.minimize(xentropy)"
   ]
  },
  {
   "cell_type": "code",
   "execution_count": 71,
   "metadata": {
    "scrolled": true
   },
   "outputs": [
    {
     "name": "stdout",
     "output_type": "stream",
     "text": [
      "Step # 200 A = [[8.817873]] b = [[-3.6621735]]\n",
      "Step # 400 A = [[10.289753]] b = [[-4.8236656]]\n",
      "Step # 600 A = [[11.17636]] b = [[-5.513713]]\n",
      "Step # 800 A = [[11.8661995]] b = [[-6.033299]]\n",
      "Step # 1000 A = [[12.435761]] b = [[-6.426067]]\n"
     ]
    }
   ],
   "source": [
    "# 6.\n",
    "init = tf.global_variables_initializer()\n",
    "sess.run(init)\n",
    "\n",
    "for i in range(1000):\n",
    "    rand_index = np.random.choice(len(iris_2d),size=batch_size)\n",
    "    rand_x = iris_2d[rand_index]\n",
    "    rand_x1 = np.array([[x[0]] for x in rand_x])\n",
    "    rand_x2 = np.array([[x[1]] for x in rand_x])\n",
    "    rand_y = np.array([[y] for y in binary_target[rand_index]])\n",
    "    sess.run(train_step, feed_dict = {x1_data:rand_x1, x2_data:rand_x2, y_target:rand_y})\n",
    "    if (i+1) % 200 == 0:\n",
    "        print('Step # '+str(i+1)+' A = '+str(sess.run(A))+ ' b = '+str(sess.run(b)))"
   ]
  },
  {
   "cell_type": "code",
   "execution_count": 75,
   "metadata": {},
   "outputs": [
    {
     "data": {
      "text/plain": [
       "<matplotlib.legend.Legend at 0x183099325c8>"
      ]
     },
     "execution_count": 75,
     "metadata": {},
     "output_type": "execute_result"
    },
    {
     "data": {
      "image/png": "[encoded data removed]",
      "text/plain": [
       "<Figure size 432x288 with 1 Axes>"
      ]
     },
     "metadata": {
      "needs_background": "light"
     },
     "output_type": "display_data"
    }
   ],
   "source": [
    "[[slope]] = sess.run(A)\n",
    "[[intercept]] = sess.run(b)\n",
    "x = np.linspace(0,3,50)\n",
    "ablineValues = []\n",
    "for i in x:\n",
    "    ablineValues.append(slope*i+intercept)\n",
    "    \n",
    "setosa_x = [a[1] for i,a in enumerate(iris_2d) if binary_target[i]==1]\n",
    "setosa_y = [a[0] for i,a in enumerate(iris_2d) if binary_target[i]==1]\n",
    "non_setosa_x = [a[1] for i,a in enumerate(iris_2d) if binary_target[i]==0]\n",
    "non_setosa_y = [a[0] for i,a in enumerate(iris_2d) if binary_target[i]==0]\n",
    "\n",
    "plt.plot(setosa_x,setosa_y,'rx',ms=10,mew=2,label='setosa')\n",
    "plt.plot(non_setosa_x,non_setosa_y,'ro',label='Non-setosa')\n",
    "plt.plot(x,ablineValues,'b-')\n",
    "plt.xlim([0.0,2.7])\n",
    "plt.ylim([0.0,7.1])\n",
    "plt.suptitle('Linear Seperator for I.setosa',fontsize=20)\n",
    "plt.xlabel('Petal Length')\n",
    "plt.ylabel('Petal Width')\n",
    "plt.legend(loc='lower right')"
   ]
  },
  {
   "cell_type": "markdown",
   "metadata": {},
   "source": [
    "# Evaluating models\n",
    "훈련 도중에 모델을 평가하는 것은 알고리즘에 대한 인사이트와 디버그와 모델의 전체적인 향상, 변화에 대한 힌트를 제공한다.\n",
    "\n",
    "훈련 이후에는 training set과 test set을 나눠 모델을 평가한다.\n",
    "\n",
    "만일 우리가 배치 트레이닝을 수행했다면 그러한 배치에서의 예측에 모델을 재활용할 수 있다. 만일 stochastic하게 트레이닝을 수행했다면 아마 배치에서 데이터를 처리하는 evaluator를 따로 분리해야할 것이다.\n",
    "\n",
    "모델 output에 대한 변환을 수행하는 loss function(예를 들어 sigmoid cross entropy with logits)을 모델에 포함시켰다면, 예측에 대한 정확도를 계산하도록 고려해야만 한다.\n",
    "\n",
    "평가에 있어서 중요한 또 한가지는 모델이 회귀모델인가, 분류모델인가이다.\n",
    "\n",
    "회귀모델에서는 연속적인 수를 예측한다. 그렇기 때문에 타겟이 카테고리로 나눠지지 않는다. 이런 회귀모델을 평가하기 위해 실제값과 예측값의 차이를 측정하는 수단을 생각해야만 한다.\n",
    "\n",
    "분류모델은 수치적인 입력값에 기초한 카테고리를 예측하는 것이다. 실제 예측값은 1과 0의 연속된 수열로 나타나게 된다. 회귀모델에서의 loss 함수는 모델이 얼마나 잘 작동하고 있는지 측정하는데 유용하지 않다. 보통은 올바로 분류된 카테고리의 퍼센테이지를 계산하는 정확도를 사용한다.\n",
    "\n",
    "두 모델을 사용해보는데 있어 이미 사용한 예시를 다시 실행해볼 것이다."
   ]
  },
  {
   "cell_type": "code",
   "execution_count": 77,
   "metadata": {},
   "outputs": [],
   "source": [
    "# 1. \n",
    "sess = tf.Session()\n",
    "x_vals = np.random.normal(1,0.1,100)\n",
    "y_vals = np.repeat(10.,100)\n",
    "x_data = tf.placeholder(shape=[None,1],dtype=tf.float32)\n",
    "y_target = tf.placeholder(shape=[None,1],dtype=tf.float32)\n",
    "\n",
    "batch_size = 25\n",
    "\n",
    "train_indices = np.random.choice(len(x_vals),round(len(x_vals)*0.8),replace=False)\n",
    "test_indices = np.array(list(set(range(len(x_vals)))-set(train_indices)))\n",
    "\n",
    "x_vals_train = x_vals[train_indices]\n",
    "x_vals_test = x_vals[test_indices]\n",
    "y_vals_train = y_vals[train_indices]\n",
    "y_vals_test = y_vals[test_indices]\n",
    "A = tf.Variable(tf.random_normal(shape=[1,1]))"
   ]
  },
  {
   "cell_type": "code",
   "execution_count": 78,
   "metadata": {},
   "outputs": [],
   "source": [
    "# 2.\n",
    "my_output = tf.matmul(x_data,A)\n",
    "loss = tf.reduce_mean(tf.square(my_output - y_target))\n",
    "my_opt = tf.train.GradientDescentOptimizer(0.02)\n",
    "train_step = my_opt.minimize(loss)\n",
    "\n",
    "init = tf.global_variables_initializer()\n"
   ]
  },
  {
   "cell_type": "code",
   "execution_count": 84,
   "metadata": {},
   "outputs": [
    {
     "name": "stdout",
     "output_type": "stream",
     "text": [
      "Step #25 A = [[6.330137]]\n",
      "Loss = 13.6523905\n",
      "Step #50 A = [[8.602901]]\n",
      "Loss = 2.6414142\n",
      "Step #75 A = [[9.4002075]]\n",
      "Loss = 0.96566564\n",
      "Step #100 A = [[9.667089]]\n",
      "Loss = 0.5310863\n"
     ]
    }
   ],
   "source": [
    "# 3.\n",
    "sess.run(init)\n",
    "for i in range(100):\n",
    "    rand_index = np.random.choice(len(x_vals_train),size=batch_size)\n",
    "    rand_x = np.transpose(x_vals_train[rand_index]).reshape(-1,1)\n",
    "    rand_y = np.transpose(y_vals_train[rand_index]).reshape(-1,1)\n",
    "    sess.run(train_step,feed_dict={x_data:rand_x, y_target:rand_y})\n",
    "    if (i+1) % 25 == 0:\n",
    "        print('Step #'+str(i+1)+' A = '+str(sess.run(A)))\n",
    "        print('Loss = '+str(sess.run(loss,feed_dict={x_data:rand_x,y_target:rand_y})))"
   ]
  },
  {
   "cell_type": "code",
   "execution_count": 85,
   "metadata": {},
   "outputs": [
    {
     "name": "stdout",
     "output_type": "stream",
     "text": [
      "MSE on test :  0.73\n",
      "MSE on train :  0.98\n"
     ]
    }
   ],
   "source": [
    "# 4. 평가, MSE를 loss function으로 train set과 test set에 대해 결과값을 확인\n",
    "mse_test = sess.run(loss,feed_dict={x_data:np.transpose([x_vals_test]),y_target:np.transpose([y_vals_test])})\n",
    "mse_train = sess.run(loss,feed_dict={x_data:np.transpose([x_vals_train]),y_target:np.transpose([y_vals_train])})\n",
    "print('MSE on test : ', str(np.round(mse_test,2)))\n",
    "print('MSE on train : ',str(np.round(mse_train,2)))"
   ]
  },
  {
   "cell_type": "code",
   "execution_count": 92,
   "metadata": {},
   "outputs": [
    {
     "name": "stdout",
     "output_type": "stream",
     "text": [
      "Step # 200  A = [5.3465548]\n",
      "Loss = 2.1872895\n",
      "Step # 400  A = [1.3843098]\n",
      "Loss = 0.3265123\n",
      "Step # 600  A = [0.08986155]\n",
      "Loss = 0.28043517\n",
      "Step # 800  A = [-0.17464866]\n",
      "Loss = 0.2827501\n",
      "Step # 1000  A = [-0.23102422]\n",
      "Loss = 0.3024962\n",
      "Step # 1200  A = [-0.2194466]\n",
      "Loss = 0.2688021\n",
      "Step # 1400  A = [-0.24143176]\n",
      "Loss = 0.24090368\n",
      "Step # 1600  A = [-0.21704295]\n",
      "Loss = 0.235616\n",
      "Step # 1800  A = [-0.20388797]\n",
      "Loss = 0.2404653\n"
     ]
    }
   ],
   "source": [
    "# 다른 데이터. 같은 과정(단 이번에는 분류)\n",
    "sess = tf.Session()\n",
    "sess.run(tf.global_variables_initializer())\n",
    "x_vals = np.concatenate((np.random.normal(-1,1,50),np.random.normal(2,1,50)))\n",
    "y_vals = np.concatenate((np.repeat(0.,50),np.repeat(1.,50)))\n",
    "\n",
    "x_data = tf.placeholder(shape=[1,None],dtype=tf.float32)\n",
    "y_target = tf.placeholder(shape=[1,None],dtype=tf.float32)\n",
    "\n",
    "batch_size = 25\n",
    "\n",
    "train_indices = np.random.choice(len(x_vals),round(len(x_vals)*0.8),replace=False)\n",
    "test_indices = np.array(list(set(range(len(x_vals)))-set(train_indices)))\n",
    "\n",
    "x_vals_train = x_vals[train_indices]\n",
    "x_vals_test = x_vals[test_indices]\n",
    "y_vals_train = y_vals[train_indices]\n",
    "y_vals_test = y_vals[test_indices]\n",
    "A = tf.Variable(tf.random_normal(mean=10,shape=[1]))\n",
    "\n",
    "my_output = tf.add(x_data,A)\n",
    "init = tf.initialize_all_variables()\n",
    "sess.run(init)\n",
    "xentropy = tf.reduce_mean(tf.nn.sigmoid_cross_entropy_with_logits(logits = my_output,labels = y_target))\n",
    "my_opt = tf.train.GradientDescentOptimizer(0.05)\n",
    "train_step = my_opt.minimize(xentropy)\n",
    "\n",
    "for i in range(1800):\n",
    "    rand_index = np.random.choice(len(x_vals_train),size=batch_size)\n",
    "    rand_x = np.array([x_vals_train[rand_index]]).reshape(1,-1)\n",
    "    rand_y = np.array([y_vals_train[rand_index]]).reshape(1,-1)\n",
    "    sess.run(train_step,feed_dict={x_data:rand_x, y_target:rand_y})\n",
    "    if (i+1)%200==0:\n",
    "        print('Step # {}  A = {}'.format(i+1,sess.run(A)))\n",
    "        print('Loss = '+str(sess.run(xentropy,feed_dict={x_data:rand_x, y_target:rand_y})))"
   ]
  },
  {
   "cell_type": "code",
   "execution_count": 96,
   "metadata": {},
   "outputs": [
    {
     "name": "stdout",
     "output_type": "stream",
     "text": [
      "Accuracy on train set : 0.9375\n",
      "Accuracy on test set : 0.9\n"
     ]
    }
   ],
   "source": [
    "# 평가(evaluate)\n",
    "y_prediction = tf.squeeze(tf.round(tf.nn.sigmoid(tf.add(x_data,A))))\n",
    "correct_prediction = tf.equal(y_prediction, y_target)\n",
    "accuracy = tf.reduce_mean(tf.cast(correct_prediction,tf.float32))\n",
    "acc_value_test = sess.run(accuracy,feed_dict={x_data:[x_vals_test],y_target:[y_vals_test]})\n",
    "acc_value_train = sess.run(accuracy,feed_dict={x_data:[x_vals_train],y_target:[y_vals_train]})\n",
    "\n",
    "print('Accuracy on train set : '+str(acc_value_train))\n",
    "print('Accuracy on test set : '+str(acc_value_test))"
   ]
  },
  {
   "cell_type": "code",
   "execution_count": 101,
   "metadata": {},
   "outputs": [
    {
     "data": {
      "text/plain": [
       "Text(0.5, 1.0, 'Binary Classifier, Accuracy=0.8999999761581421')"
      ]
     },
     "execution_count": 101,
     "metadata": {},
     "output_type": "execute_result"
    },
    {
     "data": {
      "image/png": "[encoded data removed]",
      "text/plain": [
       "<Figure size 432x288 with 1 Axes>"
      ]
     },
     "metadata": {
      "needs_background": "light"
     },
     "output_type": "display_data"
    }
   ],
   "source": [
    "# 그림\n",
    "A_result = sess.run(A)\n",
    "bins = np.linspace(-5,5,50)\n",
    "plt.hist(x_vals[0:50],bins,alpha=0.5,label='N(-1,1)',color='green')\n",
    "plt.hist(x_vals[50:100],bins[0:50],alpha=0.5,label='N(2,1)',color='red')\n",
    "plt.plot((A_result,A_result),(0,8),'k--',linewidth=3,label='A = {}'.format(np.round(A_result,2)))\n",
    "plt.legend(loc='upper right')\n",
    "plt.title('Binary Classifier, Accuracy={}'.format(np.round(acc_value_test,2)))"
   ]
  },
  {
   "cell_type": "code",
   "execution_count": 102,
   "metadata": {},
   "outputs": [
    {
     "data": {
      "text/plain": [
       "array([-0.20388797], dtype=float32)"
      ]
     },
     "execution_count": 102,
     "metadata": {},
     "output_type": "execute_result"
    }
   ],
   "source": [
    "A_result"
   ]
  },
  {
   "cell_type": "code",
   "execution_count": null,
   "metadata": {},
   "outputs": [],
   "source": []
  }
 ],
 "metadata": {
  "kernelspec": {
   "display_name": "Python 3",
   "language": "python",
   "name": "python3"
  },
  "language_info": {
   "codemirror_mode": {
    "name": "ipython",
    "version": 3
   },
   "file_extension": ".py",
   "mimetype": "text/x-python",
   "name": "python",
   "nbconvert_exporter": "python",
   "pygments_lexer": "ipython3",
   "version": "3.7.4"
  }
 },
 "nbformat": 4,
 "nbformat_minor": 2
}
