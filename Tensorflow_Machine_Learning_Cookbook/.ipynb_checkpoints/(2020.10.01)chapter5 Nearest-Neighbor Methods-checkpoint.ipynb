{
 "cells": [
  {
   "cell_type": "code",
   "execution_count": 2,
   "metadata": {},
   "outputs": [
    {
     "name": "stdout",
     "output_type": "stream",
     "text": [
      "WARNING:tensorflow:From C:\\Users\\hp\\Anaconda3\\lib\\site-packages\\tensorflow_core\\python\\compat\\v2_compat.py:88: disable_resource_variables (from tensorflow.python.ops.variable_scope) is deprecated and will be removed in a future version.\n",
      "Instructions for updating:\n",
      "non-resource variables are not supported in the long term\n"
     ]
    }
   ],
   "source": [
    "import tensorflow.compat.v1 as tf\n",
    "tf.disable_v2_behavior()\n",
    "import numpy as np\n",
    "import matplotlib.pyplot as plt\n",
    "%matplotlib inline\n",
    "import pandas as pd"
   ]
  },
  {
   "cell_type": "markdown",
   "metadata": {},
   "source": [
    "# Introduction\n",
    "최근접 이웃 방법은 거리 개념에 기초를 둔 방법이다. 훈련세트에서 각 데이터 포인트들이 얼마나 가까이에 위치하는지를 고려해 예측을 만들어낸다. 가장 간단한 방법에서 예측 클래스는 가장 가까운 데이터 포인트 클래스와 같다.<br>\n",
    "하지만 거의 대부분의 데이터셋은 어느정도의 노이즈를 포함한다. 그렇기 때문에 k개의 최근접 이웃들의 평균을 취해서 예측을 하는 k최근접 이웃 알고리즘을 사용한다. 실제적인 방법은 우리가 회귀 문제를 수행하느냐 분류 문제를 수행하느냐에 의존한다.\n",
    "\n",
    "분류 문제의 경우 voting scheme을 최대화함으로서 예측을 수행하는데 그 식은 다음과 같다.<br>\n",
    "$f(z) = max_j \\sum_{i=1}^k \\phi(d_{ij})I_{ij}$<br>\n",
    "$f(z)$는 모든 클래스들,j에 대해 maximum weighted value이다. 여기서 예측 지점에서 훈련 지점 i까지의 weighted distance(가중 거리)는 $\\phi(d_{ij})$로 주어지며, $I_{ij}$는 데이터 포인트 i가 클래스 j에 있는지 나타내는 indicator function이다. \n",
    "\n",
    "회귀 문제의 경우 예측은 k개의 가장 가까운 것들의 가중 평균으로 구해진다.<br>\n",
    "$f(z)={1 \\over k}\\sum_{i=1}^k \\phi(d_i)y_{i}$\n",
    "\n",
    "distance metric의 선택 역시 매우 중요한 것은 확실하다. 여기서는 L1과 L2 norm을 사용하도록 한다.\n",
    "\n",
    "어떻게 거리를 재는지 방법 역시 선택해야하는데 직접적으로 거리 자체를 재는 방법도 있겠으나 멀리 떨어진 포인트는 훨씬 작은 영향을 미치게 된다. 가장 흔한 방법은 거리의 역수를 정규화하는 것이다.\n",
    "\n",
    "k최근접 이웃은 집계의 방식을 사용하기 때문에 예측이 실제 값에 비해서 덜 극적이고 덜 변화할 것이다. 이 영향의 정도는 k의 선택에 따라 결정될 것이다."
   ]
  },
  {
   "cell_type": "markdown",
   "metadata": {},
   "source": [
    "# Working with nearest-neighbors\n",
    "수치적인 특징과 연속적인 타겟값을 갖는 데이터를 가지고 실습"
   ]
  },
  {
   "cell_type": "code",
   "execution_count": 2,
   "metadata": {},
   "outputs": [],
   "source": [
    "# 1. \n",
    "import requests\n",
    "sess = tf.Session()\n",
    "\n",
    "# 2. \n",
    "housing_url = 'https://archive.ics.uci.edu/ml/machine-learning-databases/housing/housing.data'\n",
    "housing_header = ['CRIM', 'ZN', 'INDUS', 'CHAS', 'NOX', 'RM', 'AGE', 'DIS', 'RAD', 'TAX', 'PTRATIO', 'B', 'LSTAT', 'MEDV']\n",
    "cols_used = ['CRIM', 'INDUS', 'NOX', 'RM', 'AGE', 'DIS', 'TAX', 'PTRATIO', 'B', 'LSTAT']\n",
    "\n",
    "num_features = len(cols_used)\n",
    "\n",
    "housing_file = requests.get(housing_url)\n",
    "housing_data = [[float(x) for x in y.split(' ') if len(x)>=1] for y in housing_file.text.split('\\n') if len(y)>=1]\n",
    "\n",
    "# 3. MEDV(집값의 평균)을 예측, ZN,CHAS,RAD는 사용하지 않음\n",
    "y_vals = np.transpose([np.array([y[13] for y in housing_data])])\n",
    "x_vals = np.array([[x for i,x in enumerate(y) if housing_header[i] in cols_used] for y in housing_data])"
   ]
  },
  {
   "cell_type": "code",
   "execution_count": 3,
   "metadata": {},
   "outputs": [],
   "source": [
    "# min-max sacling (np.ptp는 range 곧 최대값-최소값)\n",
    "x_vals = (x_vals - x_vals.min(0)) / x_vals.ptp(0)"
   ]
  },
  {
   "cell_type": "code",
   "execution_count": 4,
   "metadata": {},
   "outputs": [],
   "source": [
    "# 4. \n",
    "from sklearn.model_selection import train_test_split\n",
    "x_vals_train,x_vals_test,y_vals_train,y_vals_test = train_test_split(x_vals,y_vals,test_size = 0.2)"
   ]
  },
  {
   "cell_type": "code",
   "execution_count": 5,
   "metadata": {},
   "outputs": [],
   "source": [
    "# 5.\n",
    "k = 4\n",
    "batch_size = len(x_vals_test)\n",
    "\n",
    "# 6. train 시킬 모델 변수가 존재하지 않으며 training set으로부터 모델이 결정된다.\n",
    "x_data_train = tf.placeholder(shape=[None,num_features],dtype=tf.float32)\n",
    "x_data_test = tf.placeholder(shape=[None,num_features],dtype=tf.float32)\n",
    "y_target_train = tf.placeholder(shape=[None,1],dtype=tf.float32)\n",
    "y_target_test = tf.placeholder(shape=[None,1],dtype=tf.float32)"
   ]
  },
  {
   "cell_type": "code",
   "execution_count": 6,
   "metadata": {},
   "outputs": [],
   "source": [
    "# 7 . distance 함수를 정의(여기서는 L1을 사용)\n",
    "# expand_dims 함수는 지정한 위치(여기서는 1)에 차원을 추가\n",
    "# 연산의 모양이 이해가 안가면 아래를 참조\n",
    "# 테스트세트의 데이터들에서 훈련세트의 각각의 데이터들까지의 거리를 구하기 위해서임\n",
    "distance = tf.reduce_sum(tf.abs(tf.subtract(x_data_train,tf.expand_dims(x_data_test,1))),reduction_indices=2)"
   ]
  },
  {
   "cell_type": "code",
   "execution_count": 7,
   "metadata": {},
   "outputs": [
    {
     "data": {
      "text/plain": [
       "array([[[1, 2]],\n",
       "\n",
       "       [[3, 4]]])"
      ]
     },
     "execution_count": 7,
     "metadata": {},
     "output_type": "execute_result"
    }
   ],
   "source": [
    "sess.run(tf.expand_dims(tf.constant([[1,2],[3,4]]),1))"
   ]
  },
  {
   "cell_type": "code",
   "execution_count": 8,
   "metadata": {},
   "outputs": [
    {
     "data": {
      "text/plain": [
       "array([[[ 0,  0],\n",
       "        [-2, -2]],\n",
       "\n",
       "       [[ 2,  2],\n",
       "        [ 0,  0]]])"
      ]
     },
     "execution_count": 8,
     "metadata": {},
     "output_type": "execute_result"
    }
   ],
   "source": [
    "# 브로드캐스팅된 모습을 상상\n",
    "sess.run(tf.subtract(tf.expand_dims(tf.constant([[1,2],[3,4]]),1),tf.constant([[1,2],[3,4]])))"
   ]
  },
  {
   "cell_type": "code",
   "execution_count": 9,
   "metadata": {},
   "outputs": [
    {
     "data": {
      "text/plain": [
       "array([[[ 0,  0],\n",
       "        [ 2,  2]],\n",
       "\n",
       "       [[-2, -2],\n",
       "        [ 0,  0]]])"
      ]
     },
     "execution_count": 9,
     "metadata": {},
     "output_type": "execute_result"
    }
   ],
   "source": [
    "sess.run(tf.subtract(tf.constant([[1,2],[3,4]]),tf.expand_dims(tf.constant([[1,2],[3,4]]),1)))"
   ]
  },
  {
   "cell_type": "code",
   "execution_count": 10,
   "metadata": {},
   "outputs": [
    {
     "name": "stdout",
     "output_type": "stream",
     "text": [
      "WARNING:tensorflow:From C:\\Users\\hp\\Anaconda3\\lib\\site-packages\\tensorflow_core\\python\\util\\dispatch.py:180: calling squeeze (from tensorflow.python.ops.array_ops) with squeeze_dims is deprecated and will be removed in a future version.\n",
      "Instructions for updating:\n",
      "Use the `axis` argument instead\n"
     ]
    }
   ],
   "source": [
    "# 8. 예측 함수 정의, 이를 위해 top_k()라는 함수를 이용할 것인데 텐서에서 가장 큰 값들(k개)의 값과 인덱스를 반환해주는 함수이다.\n",
    "# top_k_vals, top_k_indices는 2차원으로 생성된 텐서([None,k])\n",
    "# 가장 작은 거리의 인덱스들을 구하기보다 k개의 가장 큰 negative distance를 구하도록 한다.\n",
    "# prediction을 선언하고 MSE 역시 선언한다.\n",
    "\n",
    "top_k_xvals, top_k_indices = tf.nn.top_k(tf.negative(distance),k=k)\n",
    "# top k 개의 합->1차원으로 축소된 텐서를 2차원으로 확장: [None,1]\n",
    "x_sums = tf.expand_dims(tf.reduce_sum(top_k_xvals,1),1)\n",
    "# 식을 직접 작성해 확인 : x_sums가 axis=1 방향으로 4번 반복되는 모습\n",
    "x_sums_repeated = tf.matmul(x_sums,tf.ones([1,k],tf.float32))\n",
    "# 가장 큰 k개의 합으로 나눠 값들을 합이 1이 되도록 스케일링(가중평균의 가중치로 사용할 것임)\n",
    "x_val_weights = tf.expand_dims(tf.divide(top_k_xvals,x_sums_repeated),1)\n",
    "\n",
    "# gather : params에 입력 받은 벡터들 중 indices로 입력한 위치값들을 찾아 반환\n",
    "top_k_yvals = tf.gather(params = y_target_train,indices = top_k_indices)\n",
    "# squeeze 함수는 차원의 사이즈 중 값이 1인 것을 찾아 그 차원을 제거한다.\n",
    "# batch_matmul이 책에 나와있는 코드지만 버전이 업데이트되며 사라졌다. 대신 matmul을 쓰기로한다.\n",
    "prediction = tf.squeeze(tf.matmul(x_val_weights,top_k_yvals),squeeze_dims=[1])\n",
    "# batch_size가 test_set의 길이 전부임\n",
    "mse = tf.divide(tf.reduce_sum(tf.square(tf.subtract(prediction,y_target_test))),batch_size)"
   ]
  },
  {
   "cell_type": "code",
   "execution_count": 11,
   "metadata": {},
   "outputs": [
    {
     "data": {
      "text/plain": [
       "''"
      ]
     },
     "execution_count": 11,
     "metadata": {},
     "output_type": "execute_result"
    }
   ],
   "source": [
    "'''from sklearn.datasets import load_iris\n",
    "iris = load_iris()\n",
    "vvv,iii = tf.nn.top_k(iris.data)\n",
    "vvv.eval(session=tf.Session()).shape'''\n",
    "''''''\n",
    "# top_k_xvals가 이해 안가면 실행시켜보시오"
   ]
  },
  {
   "cell_type": "code",
   "execution_count": 12,
   "metadata": {},
   "outputs": [
    {
     "data": {
      "text/plain": [
       "array([[ 5, 11],\n",
       "       [17, 23]])"
      ]
     },
     "execution_count": 12,
     "metadata": {},
     "output_type": "execute_result"
    }
   ],
   "source": [
    "# batch_matmul이 이해 안간다면 실행시켜 보시오\n",
    "# matmul로 대체 가능\n",
    "a = tf.constant([[[1,2],[3,4]],[[5,6],[7,8]]])\n",
    "b = tf.constant([[[1],[2]],[[1],[2]]])\n",
    "tf.squeeze(tf.matmul(a,b)).eval(session=tf.Session())"
   ]
  },
  {
   "cell_type": "code",
   "execution_count": 13,
   "metadata": {},
   "outputs": [
    {
     "name": "stdout",
     "output_type": "stream",
     "text": [
      "Batch # 1, MSE : 10.208000183105469\n",
      "min_index=0 ,max_index=102\n"
     ]
    }
   ],
   "source": [
    "# 9.\n",
    "num_loops = int(np.ceil(len(x_vals_test)/batch_size))\n",
    "init = tf.global_variables_initializer()\n",
    "sess.run(init)\n",
    "\n",
    "for i in range(num_loops):\n",
    "    min_index = i*batch_size\n",
    "    max_index = min((i+1)*batch_size,len(x_vals_train))\n",
    "    x_batch = x_vals_test[min_index:max_index]\n",
    "    y_batch = y_vals_test[min_index:max_index]\n",
    "    predictions = sess.run(prediction, feed_dict={x_data_train:x_vals_train,x_data_test:x_batch, \n",
    "                                                  y_target_train:y_vals_train,y_target_test:y_batch})\n",
    "    batch_mse = sess.run(mse,feed_dict={x_data_train:x_vals_train,x_data_test:x_batch, \n",
    "                                                  y_target_train:y_vals_train,y_target_test:y_batch})\n",
    "    print('Batch # {}, MSE : {}'.format(i+1,np.round(batch_mse,3)))\n",
    "    print('min_index={} ,max_index={}'.format(min_index,max_index))"
   ]
  },
  {
   "cell_type": "code",
   "execution_count": 178,
   "metadata": {},
   "outputs": [],
   "source": [
    "import seaborn as sns"
   ]
  },
  {
   "cell_type": "code",
   "execution_count": 17,
   "metadata": {},
   "outputs": [
    {
     "data": {
      "text/plain": [
       "<matplotlib.legend.Legend at 0x2120c6e2108>"
      ]
     },
     "execution_count": 17,
     "metadata": {},
     "output_type": "execute_result"
    },
    {
     "data": {
      "image/png": "[encoded data removed]",
      "text/plain": [
       "<Figure size 432x288 with 1 Axes>"
      ]
     },
     "metadata": {
      "needs_background": "light"
     },
     "output_type": "display_data"
    }
   ],
   "source": [
    "bins = np.linspace(5,50,45)\n",
    "sns.distplot(predictions,bins,label='Prediction')\n",
    "sns.distplot(y_batch,bins,label='Actual')\n",
    "plt.title('Histogram of predicted and Acutal Values')\n",
    "plt.xlabel('Med Home Value in $1,000s')\n",
    "plt.ylabel('Frequency')\n",
    "plt.legend(loc='best')"
   ]
  },
  {
   "cell_type": "code",
   "execution_count": 18,
   "metadata": {},
   "outputs": [
    {
     "data": {
      "text/plain": [
       "<matplotlib.legend.Legend at 0x2120c82fbc8>"
      ]
     },
     "execution_count": 18,
     "metadata": {},
     "output_type": "execute_result"
    },
    {
     "data": {
      "image/png": "[encoded data removed]",
      "text/plain": [
       "<Figure size 432x288 with 1 Axes>"
      ]
     },
     "metadata": {
      "needs_background": "light"
     },
     "output_type": "display_data"
    }
   ],
   "source": [
    "bins = np.linspace(5,50,45)\n",
    "plt.hist(predictions,bins,alpha=0.5,label='Prediction')\n",
    "plt.hist(y_batch,bins,alpha=0.5,label='Actual')\n",
    "plt.title('Histogram of predicted and Acutal Values')\n",
    "plt.xlabel('Med Home Value in $1,000s')\n",
    "plt.ylabel('Frequency')\n",
    "plt.legend(loc='best')"
   ]
  },
  {
   "cell_type": "markdown",
   "metadata": {},
   "source": [
    "어려운 것 중 하나는 적절한 k를 선택하는 것이다. k가 4(예시임)정도까지는 MSE가 감소하다가 그 이상 커질수록 MSE는 커지나 예측의 변동이 작아지는 것을 확인할 수 있다.\n",
    "\n",
    "최근접 알고리즘에서 모델은 훈련세트 그 자체이다. 그렇기에 모델에서 다른 변수를 훈련시킬 필요가 없다. cross-validation을 통해 적절한 k만 결정한다면 MSE를 최소화할 수 있다.\n",
    "\n",
    "위의 예시에서 k최근접 이웃 알고리즘에서 가중치를 거리(distance)에 기반해 바로 선택했으나 다른 방법들 역시 고려할 수 있다. 흔한 방법 중 하나는 거리의 제곱 행렬의 역행렬로 가중치를 갖는 것이다."
   ]
  },
  {
   "cell_type": "markdown",
   "metadata": {},
   "source": [
    "# Working with text based distances\n",
    "Levenshtein distance(edit distance)라는 것을 사용해 텐서플로우에서 어떻게 텍스트 간의 거리를 측정하는지 알아보도록 한다.<br>\n",
    "최근접 이웃 방법에서 텍스트를 갖는 특징들을 포함해 사용하기 위해 중요한 개념이다.\n",
    "\n",
    "Levenstein 거리는 한 string에서 다른 string으로 가기 위한 최소한의 단계의 숫자를 뜻한다. 문자를 삽입하거나 삭제하거나 다른 것으로 대체하는 등의 편집이 허용된다. 텐서플로우에서는 edit_distance() 함수로 구현되어있다. 단 edit_distance 함수를 사용하기 위해서 각각의 문자를 sparse한 텐서로 만들 필요가 있다."
   ]
  },
  {
   "cell_type": "code",
   "execution_count": 34,
   "metadata": {},
   "outputs": [
    {
     "data": {
      "text/plain": [
       "array([[2.]], dtype=float32)"
      ]
     },
     "execution_count": 34,
     "metadata": {},
     "output_type": "execute_result"
    }
   ],
   "source": [
    "# 1. \n",
    "# 2. 두 단어 간 거리가 어떻게 계산되는지 확인하기 위해 beer와 beer라는 문자열 리스트를 만들고 3D 행렬로 바꾼다.\n",
    "# 입력해야할 파라미터로는 문자 인덱스들, 행렬의 모양, 텐서에서 어떤 문자를 우리가 원하는지\n",
    "# normalize =True:정규화된 거리를 구할지(두번째 단어의 글자 수로 나눈 것) False:전체적인 거리를 구할지 결정\n",
    "hypothesis = list('bear')\n",
    "truth = list('beers')\n",
    "# SparseTensor : 입력한 index들에 value를 채워넣고 나머지는 전부 0으로 채워넣음(?)\n",
    "# dense_shape=[1,1,1], 1x1x1개의 원소를 갖는 3차원 텐서\n",
    "h1 = tf.SparseTensor(indices=[[0,0,0],[0,0,1],[0,0,2],[0,0,3]],values=hypothesis,dense_shape=[1,1,1])\n",
    "t1 = tf.SparseTensor([[0,0,0],[0,0,1],[0,0,2],[0,0,3],[0,0,4]],truth,[1,1,1])\n",
    "\n",
    "sess.run(tf.edit_distance(h1,t1,normalize=False))"
   ]
  },
  {
   "cell_type": "code",
   "execution_count": 20,
   "metadata": {},
   "outputs": [
    {
     "data": {
      "text/plain": [
       "SparseTensorValue(indices=array([[0, 0, 1],\n",
       "       [0, 0, 2],\n",
       "       [0, 0, 2],\n",
       "       [0, 0, 3],\n",
       "       [0, 0, 4]], dtype=int64), values=array([b'b', b'e', b'e', b'r', b's'], dtype=object), dense_shape=array([1, 1, 1], dtype=int64))"
      ]
     },
     "execution_count": 20,
     "metadata": {},
     "output_type": "execute_result"
    }
   ],
   "source": [
    "t1.eval(session=tf.Session())"
   ]
  },
  {
   "cell_type": "code",
   "execution_count": 44,
   "metadata": {},
   "outputs": [
    {
     "data": {
      "text/plain": [
       "array([[0.4, 0.2]], dtype=float32)"
      ]
     },
     "execution_count": 44,
     "metadata": {},
     "output_type": "execute_result"
    }
   ],
   "source": [
    "# 3. \n",
    "hypothesis2 = list('bearbeer')\n",
    "truth2 = list('beersbeers')\n",
    "h2 = tf.SparseTensor([[0,0,0],[0,0,1],[0,0,2],[0,0,3],[0,1,0],[0,1,1],[0,1,2],[0,1,3]],hypothesis2,[1,2,4])\n",
    "# indices\n",
    "# 단어 하나하나마다의 인덱스 : 1번째 컬럼(아래 셀 참고),\n",
    "# 한 단어내에서 의미가 끊기는 단위 : 2번째 컬럼,\n",
    "# 각 (끊어진) 단어에 대한 길이 : 3번째 컬럼(?)\n",
    "# dense_shape 파라미터는 몇 개의 단어가 몇 개의 의미로 끊기고 각 몇 글자씩인지 나타내는 듯\n",
    "# value에는 1차원 리스트를 넣음\n",
    "t2 = tf.SparseTensor([[0,0,0],[0,0,1],[0,0,2],[0,0,3],[0,0,4],[0,1,0],[0,1,1],[0,1,2],[0,1,3],[0,1,4]],truth2,[1,2,5])\n",
    "\n",
    "sess.run(tf.edit_distance(h2,t2,normalize=True))"
   ]
  },
  {
   "cell_type": "code",
   "execution_count": 45,
   "metadata": {},
   "outputs": [
    {
     "data": {
      "text/plain": [
       "array([[2., 1.]], dtype=float32)"
      ]
     },
     "execution_count": 45,
     "metadata": {},
     "output_type": "execute_result"
    }
   ],
   "source": [
    "sess.run(tf.edit_distance(h2,t2,normalize=False))\n",
    "# bear과 beers는 두 번의 수정\n",
    "# beer과 beers는 한 번의 수정"
   ]
  },
  {
   "cell_type": "code",
   "execution_count": 42,
   "metadata": {},
   "outputs": [
    {
     "data": {
      "text/plain": [
       "array([[3., 4.]], dtype=float32)"
      ]
     },
     "execution_count": 42,
     "metadata": {},
     "output_type": "execute_result"
    }
   ],
   "source": [
    "# 3. \n",
    "hypothesis2 = list('pokaricolaik')\n",
    "truth2 = list('pokalymcokecok')\n",
    "h2 = tf.SparseTensor([[0,0,0],[0,0,1],[0,0,2],[0,0,3],[0,0,4],[0,0,5],[0,1,0],[0,1,1],[0,1,2],[0,1,3],[0,1,4],[0,1,5]],\n",
    "                     hypothesis2,[1,2,6])\n",
    "\n",
    "t2 = tf.SparseTensor([[0,0,0],[0,0,1],[0,0,2],[0,0,3],[0,0,4],[0,0,5],[0,0,6],[0,1,0],[0,1,1],[0,1,2],[0,1,3],[0,1,4],[0,1,5],[0,1,6]],\n",
    "                     truth2,[1,2,7])\n",
    "\n",
    "sess.run(tf.edit_distance(h2,t2,normalize=False))\n",
    "#pokari, pokalym\n",
    "#colaik, cokecok"
   ]
  },
  {
   "cell_type": "code",
   "execution_count": 43,
   "metadata": {},
   "outputs": [
    {
     "data": {
      "text/plain": [
       "array([[0.42857143, 0.5714286 ]], dtype=float32)"
      ]
     },
     "execution_count": 43,
     "metadata": {},
     "output_type": "execute_result"
    }
   ],
   "source": [
    "sess.run(tf.edit_distance(h2,t2,normalize=True))"
   ]
  },
  {
   "cell_type": "code",
   "execution_count": 46,
   "metadata": {},
   "outputs": [
    {
     "data": {
      "text/plain": [
       "array([[0.4],\n",
       "       [0.6],\n",
       "       [1. ],\n",
       "       [1. ]], dtype=float32)"
      ]
     },
     "execution_count": 46,
     "metadata": {},
     "output_type": "execute_result"
    }
   ],
   "source": [
    "# 4. 두 words의 세트를 다른 word로부터 비교하는 더 효과적인 방법\n",
    "\n",
    "hypothesis_words = ['bear','bar','tensor','flow']\n",
    "truth_word = ['beers']\n",
    "num_h_words = len(hypothesis_words)\n",
    "\n",
    "h_indices = [[xi,0,yi] for xi,x in enumerate(hypothesis_words) for yi,y in enumerate(x)]\n",
    "h_chars = list(''.join(hypothesis_words))\n",
    "h3 = tf.SparseTensor(h_indices,h_chars,[num_h_words,1,1])\n",
    "\n",
    "# truth_word의 원소가 하나 뿐이니 비교를 위해 4개로 확장\n",
    "truth_word_vec = truth_word*num_h_words\n",
    "\n",
    "t_indices = [[xi,0,yi] for xi,x in enumerate(truth_word_vec) for yi,y in enumerate(x)]\n",
    "t_chars = list(''.join(truth_word_vec))\n",
    "t3 = tf.SparseTensor(t_indices,t_chars,[num_h_words,1,1])\n",
    "\n",
    "sess.run(tf.edit_distance(h3,t3,normalize=True))"
   ]
  },
  {
   "cell_type": "code",
   "execution_count": 23,
   "metadata": {},
   "outputs": [
    {
     "data": {
      "text/plain": [
       "array([[0.4],\n",
       "       [0.6],\n",
       "       [1. ],\n",
       "       [1. ]], dtype=float32)"
      ]
     },
     "execution_count": 23,
     "metadata": {},
     "output_type": "execute_result"
    }
   ],
   "source": [
    "# 5. placeholder를 이용해 어떻게 두 단어 리스트 간 edit distance를 계산하는지 살펴본다.\n",
    "# 다른 모든 것은 동일하나 sparse tensor 대신 SparseTensorValue()를 사용한다.\n",
    "\n",
    "def create_sparse_vec(word_list):\n",
    "    num_words = len(word_list)\n",
    "    indices = [[xi,0,yi] for xi,x in enumerate(word_list) for yi,y in enumerate(x)]\n",
    "    chars = list(''.join(word_list))\n",
    "    return (tf.SparseTensorValue(indices,chars,[num_words,1,1]))\n",
    "\n",
    "hyp_string_sparse = create_sparse_vec(hypothesis_words)\n",
    "truth_string_sparse = create_sparse_vec(truth_word*len(hypothesis_words))\n",
    "\n",
    "hyp_input = tf.sparse_placeholder(dtype=tf.string)\n",
    "truth_input = tf.sparse_placeholder(dtype=tf.string)\n",
    "\n",
    "edit_distances = tf.edit_distance(hyp_input,truth_input,normalize=True)\n",
    "\n",
    "feed_dict = {hyp_input:hyp_string_sparse, truth_input:truth_string_sparse}\n",
    "\n",
    "sess.run(edit_distances,feed_dict=feed_dict)"
   ]
  },
  {
   "cell_type": "markdown",
   "metadata": {},
   "source": [
    "거리를 계산하는 여러 가지 방법으로는\n",
    "- Hamming distance : $D(s_1,s_2) = \\sum_{i}I_i$,  $I$는 두 문자가 같은지 아닌지 나타내는 indicator 함수다.\n",
    "- Cosine distance\n",
    "- Jacard distance"
   ]
  },
  {
   "cell_type": "markdown",
   "metadata": {},
   "source": [
    "# Computing with mixed distance functions\n",
    "만일 여러 개의 feature들을 가지고 있는 데이터를 다룬다면 각 feature들은 다르게 스케일링 될 수 있다고 인지해야한다.\n",
    "\n",
    "이번 section에서 housing value prediction을 어떻게 향상시킬 수 있는지 살펴보도록 한다.\n",
    "\n",
    "최근접 알고리즘에서는 변수들을 다르게 스케일링 해주는 것이 중요하다. 특히 이번 section에서 볼 것은 feature variance를 사용해 거리 를 스케일하는 것이다.\n",
    "<br>다음과 같은 weight matrix를 사용한다.\n",
    "$D(x,y) = \\sqrt{{(x-y)}^T{\\cdot}A{\\cdot}(x-y)}$\n",
    "<br>여기서 A는 각각의 feature에 대해서 거리 metirc을 스케일하는데 사용되는 diagonal weight matrix다."
   ]
  },
  {
   "cell_type": "code",
   "execution_count": 168,
   "metadata": {},
   "outputs": [],
   "source": [
    "# 1. \n",
    "sess = tf.Session()\n",
    "\n",
    "# 2. \n",
    "housing_url = 'https://archive.ics.uci.edu/ml/machine-learning-databases/housing/housing.data'\n",
    "housing_header = ['CRIM', 'ZN', 'INDUS', 'CHAS', 'NOX', 'RM', 'AGE', 'DIS', 'RAD', 'TAX', 'PTRATIO', 'B', 'LSTAT', 'MEDV']\n",
    "cols_used = ['CRIM', 'INDUS', 'NOX', 'RM', 'AGE', 'DIS', 'TAX', 'PTRATIO', 'B', 'LSTAT']\n",
    "\n",
    "num_features = len(cols_used)\n",
    "\n",
    "housing_file = requests.get(housing_url)\n",
    "housing_data = [[float(x) for x in y.split(' ') if len(x)>=1] for y in housing_file.text.split('\\n') if len(y)>=1]\n",
    "\n",
    "# 3. MEDV(집값의 평균)을 예측, ZN,CHAS,RAD는 사용하지 않음\n",
    "y_vals = np.transpose([np.array([y[13] for y in housing_data])])\n",
    "x_vals = np.array([[x for i,x in enumerate(y) if housing_header[i] in cols_used] for y in housing_data])"
   ]
  },
  {
   "cell_type": "code",
   "execution_count": 169,
   "metadata": {},
   "outputs": [],
   "source": [
    "# 3. 스케일링\n",
    "x_vals = (x_vals - x_vals.min(0))/x_vals.ptp(0)"
   ]
  },
  {
   "cell_type": "code",
   "execution_count": 170,
   "metadata": {},
   "outputs": [],
   "source": [
    "# 4. diagonal-weight matrix 생성 : distance metric에 대해 각 특징들의 표준편차로 나누는 스케일링을 제공\n",
    "weight_diagonal = x_vals.std(axis = 0)\n",
    "# cast는 텐서로 반환(type을 tf.float32)\n",
    "weight_matrix = tf.cast(tf.diag(weight_diagonal),dtype=tf.float32)"
   ]
  },
  {
   "cell_type": "code",
   "execution_count": 173,
   "metadata": {},
   "outputs": [],
   "source": [
    "# 5. \n",
    "from sklearn.model_selection import train_test_split\n",
    "x_vals_train,x_vals_test,y_vals_train,y_vals_test = train_test_split(x_vals,y_vals,test_size=0.2)\n",
    "\n",
    "k = 4\n",
    "batch_size = len(x_vals_test)\n",
    "\n",
    "# 6. x,y의 train,test 각 placeholder->4개\n",
    "x_data_train = tf.placeholder(shape=[None,num_features],dtype=tf.float32)\n",
    "x_data_test = tf.placeholder(shape=[None,num_features],dtype=tf.float32)\n",
    "y_target_train = tf.placeholder(shape=[None,1],dtype=tf.float32)\n",
    "y_target_test = tf.placeholder(shape=[None,1],dtype=tf.float32)"
   ]
  },
  {
   "cell_type": "code",
   "execution_count": 174,
   "metadata": {},
   "outputs": [],
   "source": [
    "# 7. distance function을 정의 (가독성 좋게 몇 개 요소로 나눠서 정의)\n",
    "# 완벽하게 이해하기는 어려우므로 대강 이해(그래도 대강은 이해하고 넘어갈 것..)\n",
    "\n",
    "# 행의 개수가 다른데 test 데이터의 차원을 확장함으로서 계산가능\n",
    "# 공식에서의 (x-y)^T(?): shape : [batch_size,train 데이터 개수,num_features]\n",
    "subtraction_term = tf.subtract(x_data_train,tf.expand_dims(x_data_test,1))\n",
    "\n",
    "# tile : 앞의 행렬을 하나처럼 취급하고 그 행렬이 뒤의 파라미터인 사이즈만큼 이어붙혀지도록 한다.\n",
    "first_product = tf.matmul(subtraction_term, tf.tile(tf.expand_dims(weight_matrix,0),[batch_size,1,1]))\n",
    "\n",
    "second_product = tf.matmul(first_product,tf.transpose(subtraction_term,perm=[0,2,1]))\n",
    "distance = tf.sqrt(tf.matrix_diag_part(second_product))"
   ]
  },
  {
   "cell_type": "code",
   "execution_count": 175,
   "metadata": {},
   "outputs": [
    {
     "data": {
      "text/plain": [
       "(3, 10, 2)"
      ]
     },
     "execution_count": 175,
     "metadata": {},
     "output_type": "execute_result"
    }
   ],
   "source": [
    "# 연산이 이해가 안가면 참조\n",
    "nn = tf.constant([[3,1],[4,1],[5,1],[6,1],[7,1],[8,1],[9,1],[10,1],[11,1],[12,1]])\n",
    "mm = tf.constant([[1,2],[-1,2],[0,2]])\n",
    "\n",
    "sess.run(tf.subtract(nn,tf.expand_dims(mm,1))).shape\n",
    "# 10x2 - 3x1x2"
   ]
  },
  {
   "cell_type": "code",
   "execution_count": 176,
   "metadata": {},
   "outputs": [],
   "source": [
    "# 8 .\n",
    "top_k_xvals,top_k_indices = tf.nn.top_k(tf.negative(distance),k=k)\n",
    "x_sums = tf.expand_dims(tf.reduce_sum(top_k_xvals,1),1)\n",
    "x_sums_repeated = tf.matmul(x_sums,tf.ones([1,k],tf.float32))\n",
    "x_val_weights = tf.expand_dims(tf.div(top_k_xvals,x_sums_repeated),1)\n",
    "\n",
    "top_k_yvals = tf.gather(y_target_train,top_k_indices)\n",
    "\n",
    "prediction = tf.squeeze(tf.matmul(x_val_weights,top_k_yvals),axis=[1])\n",
    "\n",
    "# 9.\n",
    "mse = tf.divide(tf.reduce_sum(tf.square(tf.subtract(prediction,y_target_test))),batch_size)"
   ]
  },
  {
   "cell_type": "code",
   "execution_count": 177,
   "metadata": {},
   "outputs": [
    {
     "name": "stdout",
     "output_type": "stream",
     "text": [
      "Batch # 1, MSE: 22.063800811767578\n"
     ]
    }
   ],
   "source": [
    "# 10.\n",
    "init = tf.global_variables_initializer()\n",
    "sess.run(init)\n",
    "num_loops = int(np.ceil(len(x_vals_test)/batch_size))\n",
    "for i in range(num_loops):\n",
    "    min_index = i*batch_size\n",
    "    max_index = min((i+1)*batch_size,len(x_vals_train))\n",
    "    x_batch = x_vals_test[min_index:max_index]\n",
    "    y_batch = y_vals_test[min_index:max_index]\n",
    "    predictions = sess.run(prediction,feed_dict={x_data_train:x_vals_train,x_data_test:x_batch,\n",
    "                                                y_target_train:y_vals_train, y_target_test:y_batch})\n",
    "    batch_mse = sess.run(mse,feed_dict={x_data_train:x_vals_train,x_data_test:x_batch,\n",
    "                                                y_target_train:y_vals_train, y_target_test:y_batch})\n",
    "    print('Batch # {}, MSE: {}'.format(i+1,np.round(batch_mse,4)))"
   ]
  },
  {
   "cell_type": "code",
   "execution_count": 201,
   "metadata": {},
   "outputs": [
    {
     "data": {
      "text/plain": [
       "(5, 50)"
      ]
     },
     "execution_count": 201,
     "metadata": {},
     "output_type": "execute_result"
    },
    {
     "data": {
      "image/png": "[encoded data removed]",
      "text/plain": [
       "<Figure size 432x288 with 1 Axes>"
      ]
     },
     "metadata": {
      "needs_background": "light"
     },
     "output_type": "display_data"
    }
   ],
   "source": [
    "bins = np.linspace(5,50,45)\n",
    "plt.hist(predictions,bins,alpha=0.5,label='Prediction',color='blue')\n",
    "plt.hist(y_batch,bins,alpha=0.5,label='Actual',color='red')\n",
    "plt.title('Histogram of Predicted and Actual Values')\n",
    "plt.xlabel('Med Home Values in $1,000s')\n",
    "plt.ylabel('Frequency')\n",
    "plt.legend(loc='best')\n",
    "plt.xlim(5,50)"
   ]
  },
  {
   "cell_type": "markdown",
   "metadata": {},
   "source": [
    "# Using an address matching example\n",
    "텍스트와 수치 특성을 모두 포함하는 경우\n",
    "\n",
    "최근접 이웃은 주소 매칭에 있어서 가장 훌륭한 알고리즘이다. 주소 매칭에 있어서 오탈자, 다른 도시, 다른 ZIP 코드를 가지고 있으면서도 같은 주소를 가리키는 경우들이 있다. 최근접 이웃 알고리즘은 이런 경우 그것들이 실제로 같은 곳을 가리킨다는 것을 확인 시켜줄 수 있을 것이다. \n",
    "\n",
    "거리 주소와 ZIP 코드와 이루어진 두 데이터셋을 생성할 것인데 하나의 데이터셋은 거리 주소에서 매우 많은 오탈자를 가지고 있다. 오탈자가 없는 데이터셋을 gold standard로 취급하고 오탈자 주소로부터 가장 가까운 주소를 찾아낼 것이다. 거리 주소에 대해서는 string distance 함수, ZIP 코드에 대해서는 numerical distance의 함수를 이용한다."
   ]
  },
  {
   "cell_type": "code",
   "execution_count": 263,
   "metadata": {},
   "outputs": [],
   "source": [
    "# 1. 2. 데이터생성\n",
    "import random\n",
    "import string\n",
    "n=10\n",
    "street_names = ['abbey','baker','canal','donner','elm']\n",
    "street_type = ['rd','st','ln','pass','ave']\n",
    "rand_zips = [random.randint(65000,65999) for i in range(5)]\n",
    "\n",
    "numbers = [random.randint(1,999) for i in range(n)]\n",
    "streets = [random.choice(street_names) for i in range(n)]\n",
    "street_suffs = [random.choice(street_type) for i in range(n)]\n",
    "zips = [random.choice(rand_zips) for i in range(n)]\n",
    "\n",
    "full_streets = [str(x)+' '+y+' '+z for x,y,z in zip(numbers,streets,street_suffs)]\n",
    "reference_data = [list(x) for x in zip(full_streets,zips)]"
   ]
  },
  {
   "cell_type": "code",
   "execution_count": 264,
   "metadata": {},
   "outputs": [
    {
     "data": {
      "text/plain": [
       "[['52 canal ave', 65628],\n",
       " ['946 baker st', 65580],\n",
       " ['629 elm ave', 65127],\n",
       " ['909 donner pass', 65580],\n",
       " ['212 elm ln', 65885],\n",
       " ['808 elm pass', 65628],\n",
       " ['198 elm ln', 65127],\n",
       " ['970 elm st', 65135],\n",
       " ['841 donner ln', 65135],\n",
       " ['888 baker rd', 65885]]"
      ]
     },
     "execution_count": 264,
     "metadata": {},
     "output_type": "execute_result"
    }
   ],
   "source": [
    "reference_data"
   ]
  },
  {
   "cell_type": "code",
   "execution_count": 265,
   "metadata": {},
   "outputs": [],
   "source": [
    "# 3. test 데이터를 생성하기 위해 랜덤하게 오탈자를 만드는 함수를 정의\n",
    "def create_typo(s,prob=0.75):\n",
    "    if random.uniform(0,1)<prob:\n",
    "        rand_ind = random.choice(range(len(s)))\n",
    "        s_list = list(s)\n",
    "        # string.ascii_lowercase는 알파벳 소문자 전체-> 아무거나 골라서 s에 랜덤한 인덱스에 집어넣는다.(0.75의 확률로)\n",
    "        s_list[rand_ind] = random.choice(string.ascii_lowercase)\n",
    "        s = ''.join(s_list)\n",
    "    return s\n",
    "\n",
    "# 거리이름에 오탈자를 만들고 ZIP 코드와 다시 결합(reference_data와 같은 형태)\n",
    "typo_streets = [create_typo(x) for x in streets]\n",
    "typo_full_streets = [str(x)+' '+y+' '+z for x,y,z in zip(numbers,typo_streets,street_suffs)]\n",
    "test_data = [list(x) for x in zip(typo_full_streets,zips)]"
   ]
  },
  {
   "cell_type": "code",
   "execution_count": 266,
   "metadata": {},
   "outputs": [],
   "source": [
    "# 4. 네 개의 placeholder를 정의\n",
    "test_address = tf.sparse_placeholder(dtype=tf.string)\n",
    "test_zip = tf.placeholder(shape=[None,1],dtype=tf.float32)\n",
    "ref_address = tf.sparse_placeholder(dtype=tf.string)\n",
    "ref_zip = tf.placeholder(shape=[None,n],dtype=tf.float32)\n",
    "\n",
    "# 5. numerical zip distance와 edit distance를 정의\n",
    "# 이미 위에서 다루었듯 zip_dist에는 test_zip에 들어있는 원소들에 대해 모든 ref_zip의 각각 거리가 들어있다.\n",
    "zip_dist = tf.square(tf.subtract(ref_zip,test_zip))\n",
    "\n",
    "address_dist = tf.edit_distance(test_address,ref_address,normalize=True)"
   ]
  },
  {
   "cell_type": "code",
   "execution_count": 267,
   "metadata": {},
   "outputs": [],
   "source": [
    "# 6. zip distance와 address distance를 유사하게 바꾼다.\n",
    "# 두 개가 완전히 같을 때는 1, 완전히 다를 때는 0과 가깝게\n",
    "\n",
    "# test_zip의 원소들 기준으로 ref_zip 원소들과의 가장 먼 거리와 가장 짧은 거리 반환\n",
    "zip_max = tf.gather(tf.squeeze(zip_dist),tf.argmax(zip_dist,1))\n",
    "zip_min = tf.gather(tf.squeeze(zip_dist),tf.argmin(zip_dist,1))\n",
    "\n",
    "# min-max\n",
    "zip_sim = tf.divide(tf.subtract(zip_max,zip_dist),tf.subtract(zip_max,zip_min))\n",
    "# 정규화된 edit_distance 기준으로 0이면 똑같은 단어이고, 1이면 아주 많이 수정해야하는 단어이므로 1을 빼준다.\n",
    "address_sim = tf.subtract(1.,address_dist)"
   ]
  },
  {
   "cell_type": "code",
   "execution_count": 268,
   "metadata": {},
   "outputs": [],
   "source": [
    "# 7. 두 유사도를 결합하기 위해 두 개의 가중평균을 취한다. \n",
    "\n",
    "# 일단은 동일한 가중치를 취하지만 우리가 어떤 것을 얼마나 더 신뢰하느냐에 따라 가중치 조정을 하면 된다.\n",
    "# 가장 높은 유사도를 갖는 reference set에서의 index 반환\n",
    "address_weight = 0.5\n",
    "zip_weight = 1.-address_weight\n",
    "\n",
    "weighted_sim = tf.add(tf.transpose(tf.multiply(address_weight,address_sim)),tf.multiply(zip_weight,zip_sim))\n",
    "top_match_index = tf.argmax(weighted_sim,1)"
   ]
  },
  {
   "cell_type": "code",
   "execution_count": 269,
   "metadata": {},
   "outputs": [],
   "source": [
    "# 8. edit distance를 이용하기 위해 sparse matrix로 바꿔주는 과정이 필요하다.\n",
    "def sparse_from_word_vec(word_vec):\n",
    "    num_words = len(word_vec)\n",
    "    indices = [[xi,0,yi] for xi,x in enumerate(word_vec) for yi,y in enumerate(x)]\n",
    "    chars = list(''.join(word_vec))\n",
    "    return tf.SparseTensorValue(indices,chars,[num_words,1,1])\n",
    "\n",
    "# 9. 주소와 zip code분리\n",
    "reference_addresses = [x[0] for x in reference_data]\n",
    "reference_zips = np.array([[x[1] for x in reference_data]])"
   ]
  },
  {
   "cell_type": "code",
   "execution_count": 270,
   "metadata": {},
   "outputs": [
    {
     "name": "stdout",
     "output_type": "stream",
     "text": [
      "Address : 52 cmnal ave, 65628\n",
      "Match : 52 canal ave , 65628\n",
      "Address : 946 baker st, 65580\n",
      "Match : 946 baker st , 65580\n",
      "Address : 629 elj ave, 65127\n",
      "Match : 629 elm ave , 65127\n",
      "Address : 909 dynner pass, 65580\n",
      "Match : 909 donner pass , 65580\n",
      "Address : 212 blm ln, 65885\n",
      "Match : 212 elm ln , 65885\n",
      "Address : 808 eim pass, 65628\n",
      "Match : 808 elm pass , 65628\n",
      "Address : 198 ewm ln, 65127\n",
      "Match : 198 elm ln , 65127\n",
      "Address : 970 ebm st, 65135\n",
      "Match : 970 elm st , 65135\n",
      "Address : 841 donner ln, 65135\n",
      "Match : 841 donner ln , 65135\n",
      "Address : 888 bhker rd, 65885\n",
      "Match : 888 baker rd , 65885\n"
     ]
    }
   ],
   "source": [
    "# 10. 8번의 함수 실행\n",
    "sparse_ref_set = sparse_from_word_vec(reference_addresses)\n",
    "\n",
    "sess.run(init)\n",
    "# 11. loop\n",
    "for i in range(n):\n",
    "    test_address_entry = test_data[i][0]\n",
    "    test_zip_entry = [[test_data[i][1]]]\n",
    "    # sparse address vector 생성\n",
    "    test_address_repeated = [test_address_entry]*n\n",
    "    sparse_test_set = sparse_from_word_vec(test_address_repeated)\n",
    "    feeddict = {test_address:sparse_test_set,\n",
    "               test_zip:test_zip_entry,\n",
    "               ref_address:sparse_ref_set,\n",
    "               ref_zip:reference_zips}\n",
    "    best_match = sess.run(top_match_index,feed_dict=feeddict)\n",
    "    best_street = reference_addresses[best_match[0]]\n",
    "    [best_zip] = reference_zips[0][best_match]\n",
    "    [[test_zip_]] = test_zip_entry\n",
    "    print('Address : {}, {}'.format(test_address_entry,test_zip_))\n",
    "    print('Match : {} , {}'.format(best_street,best_zip))"
   ]
  },
  {
   "cell_type": "markdown",
   "metadata": {},
   "source": [
    "주소 매칭 문제를 이해하는데 있어서 가장 어려운 것은 가중치를 정하는 것과 어떻게 distance를 스케일링 하느냐이다. 이런 과정은 데이터 자체에 대한 탐색과 통찰이 될 수 있다. 또 실제 주소를 다룰 때 여기서 사용되지 않은 다른 요소를 사용하게 될 수도 있다. 거리 넘버를 거리 주소에서 분리된 무엇인가로 여길 수도 있고, 혹은 도시나 주 같은 다른 어떤 요소를 가질 수동 있다.<br>\n",
    "(수치적인 데이터를 다룰 때 수치 그 자체로 계산할 수도 있지만 문자로서 생각해 edit distance를 계산할 수도 있을 것이다.)"
   ]
  },
  {
   "cell_type": "markdown",
   "metadata": {},
   "source": [
    "# Usinf nearest-neighbors for image recognition\n",
    "최근접 이웃 알고리즘은 이미지 인식에도 쓰일 수 있다. 다양한 신경망을 사용하게 되겠지만 신경망 없이 이미지 처리한 것에 대한 결과를 비교하는 것도 의미가 있을 것이다.\n",
    "\n",
    "MNIST dataset을 이용한다 : 28x28(=784) pixel의 수천 개의 이미지로 이루어져있다.<br>\n",
    "이번 절에서 k=4인 알고리즘을 이용해 예측을 수행하도록 한다."
   ]
  },
  {
   "cell_type": "code",
   "execution_count": 1,
   "metadata": {},
   "outputs": [],
   "source": [
    "# 1.\n",
    "from PIL import Image"
   ]
  },
  {
   "cell_type": "code",
   "execution_count": 48,
   "metadata": {},
   "outputs": [],
   "source": [
    "sess = tf.Session()"
   ]
  },
  {
   "cell_type": "code",
   "execution_count": 104,
   "metadata": {},
   "outputs": [],
   "source": [
    "# 2.\n",
    "from tensorflow import keras\n",
    "mnist = keras.datasets.mnist\n",
    "X_vals = mnist.load_data()"
   ]
  },
  {
   "cell_type": "code",
   "execution_count": 105,
   "metadata": {},
   "outputs": [
    {
     "data": {
      "text/plain": [
       "array([[0., 0., 0., ..., 0., 0., 0.],\n",
       "       [1., 0., 0., ..., 0., 0., 0.],\n",
       "       [0., 0., 0., ..., 0., 0., 0.],\n",
       "       ...,\n",
       "       [0., 0., 0., ..., 0., 0., 0.],\n",
       "       [0., 0., 0., ..., 0., 0., 0.],\n",
       "       [0., 0., 0., ..., 0., 1., 0.]])"
      ]
     },
     "execution_count": 105,
     "metadata": {},
     "output_type": "execute_result"
    }
   ],
   "source": [
    "y_vals"
   ]
  },
  {
   "cell_type": "code",
   "execution_count": 106,
   "metadata": {},
   "outputs": [
    {
     "name": "stdout",
     "output_type": "stream",
     "text": [
      "(60000, 784) (60000,)\n"
     ]
    }
   ],
   "source": [
    "x_vals = np.array(X_vals[0][0]).reshape(-1,784)\n",
    "y_vals = np.array(X_vals[0][1])\n",
    "print(x_vals.shape,y_vals.shape)"
   ]
  },
  {
   "cell_type": "code",
   "execution_count": 107,
   "metadata": {},
   "outputs": [],
   "source": [
    "from sklearn.preprocessing import OneHotEncoder\n",
    "encoder = OneHotEncoder()\n",
    "encoder.fit(y_vals.reshape(-1,1))\n",
    "y_vals = encoder.transform(y_vals.reshape(-1,1)).toarray()"
   ]
  },
  {
   "cell_type": "code",
   "execution_count": 108,
   "metadata": {},
   "outputs": [
    {
     "data": {
      "text/plain": [
       "(60000, 10)"
      ]
     },
     "execution_count": 108,
     "metadata": {},
     "output_type": "execute_result"
    }
   ],
   "source": [
    "y_vals.shape"
   ]
  },
  {
   "cell_type": "code",
   "execution_count": 109,
   "metadata": {},
   "outputs": [
    {
     "data": {
      "text/plain": [
       "array([[0., 0., 0., 0., 0., 1., 0., 0., 0., 0.],\n",
       "       [1., 0., 0., 0., 0., 0., 0., 0., 0., 0.],\n",
       "       [0., 0., 0., 0., 1., 0., 0., 0., 0., 0.]])"
      ]
     },
     "execution_count": 109,
     "metadata": {},
     "output_type": "execute_result"
    }
   ],
   "source": [
    "y_vals[0:3]"
   ]
  },
  {
   "cell_type": "code",
   "execution_count": 110,
   "metadata": {},
   "outputs": [],
   "source": [
    "# 3.\n",
    "train_size = 1000\n",
    "test_size = 102\n",
    "rand_train_indices = np.random.choice(len(x_vals),train_size,replace=True)\n",
    "rand_test_indices = np.random.choice(len(x_vals),test_size,replace=True)\n",
    "\n",
    "x_vals_train = x_vals[rand_train_indices]\n",
    "x_vals_test = x_vals[rand_test_indices]\n",
    "y_vals_train = y_vals[rand_train_indices]\n",
    "y_vals_test = y_vals[rand_test_indices]"
   ]
  },
  {
   "cell_type": "code",
   "execution_count": 111,
   "metadata": {},
   "outputs": [
    {
     "data": {
      "text/plain": [
       "(1000, 784)"
      ]
     },
     "execution_count": 111,
     "metadata": {},
     "output_type": "execute_result"
    }
   ],
   "source": [
    "x_vals_train.shape"
   ]
  },
  {
   "cell_type": "code",
   "execution_count": 174,
   "metadata": {},
   "outputs": [],
   "source": [
    "# 4.\n",
    "k = 4\n",
    "batch_size = 6\n",
    "\n",
    "# 5. \n",
    "x_data_train = tf.placeholder(shape=[None,28*28],dtype=tf.float32)\n",
    "x_data_test = tf.placeholder(shape=[None,28*28],dtype=tf.float32)\n",
    "y_target_train = tf.placeholder(shape=[None,10],dtype=tf.float32)\n",
    "y_target_test = tf.placeholder(shape=[None,10],dtype=tf.float32)\n",
    "\n",
    "# 6. L1 metric을 distance metric으로 사용\n",
    "distance = tf.reduce_sum(tf.abs(tf.subtract(x_data_train,tf.expand_dims(x_data_test,1))),axis=2)"
   ]
  },
  {
   "cell_type": "code",
   "execution_count": 123,
   "metadata": {},
   "outputs": [
    {
     "data": {
      "text/plain": [
       "<tf.Tensor 'Sum_15:0' shape=(?, ?) dtype=float32>"
      ]
     },
     "execution_count": 123,
     "metadata": {},
     "output_type": "execute_result"
    }
   ],
   "source": [
    "distance"
   ]
  },
  {
   "cell_type": "code",
   "execution_count": 175,
   "metadata": {},
   "outputs": [],
   "source": [
    "# 7.\n",
    "# 각 test data에서 가장 가까운 train data 네개씩 할당: [batch_size,1000]의 shape\n",
    "top_k_vals, top_k_indices = tf.nn.top_k(tf.negative(distance),k=k)\n",
    "# 그 네 개에 대해 타깃값인 10개(one-hot)씩 할당 : [None,4,10]의 shape\n",
    "prediction_indices = tf.gather(y_target_train,top_k_indices)\n",
    "# 1번 차원에 대해 그 sum을 구함 : 가장 가까운 4개들을 합쳐서 값을 구함 : [None,10]의 shape\n",
    "count_of_predictions = tf.reduce_sum(prediction_indices,reduction_indices=1)\n",
    "# 10개짜리 원핫 인코딩이 더해져->[0,0,3,0,0,0,0,0,1,0]-> index 2를 출력(prediction)\n",
    "prediction = tf.argmax(count_of_predictions,axis=1)"
   ]
  },
  {
   "cell_type": "code",
   "execution_count": 176,
   "metadata": {},
   "outputs": [],
   "source": [
    "# 8.\n",
    "num_loops = int(np.ceil(len(x_vals_test)/batch_size))\n",
    "test_output = []\n",
    "actual_vals = []\n",
    "\n",
    "init = tf.global_variables_initializer()\n",
    "sess.run(init)\n",
    "for i in range(num_loops):\n",
    "    min_index = i*batch_size\n",
    "    max_index = min((i+1)*batch_size,len(x_vals_train))\n",
    "    x_batch = x_vals_test[min_index:max_index]\n",
    "    y_batch = y_vals_test[min_index:max_index]\n",
    "    predictions = sess.run(prediction, feed_dict={x_data_train:x_vals_train,x_data_test:x_batch,\n",
    "                                                 y_target_train:y_vals_train,y_target_test:y_batch})\n",
    "    test_output.extend(predictions)\n",
    "    actual_vals.extend(np.argmax(y_batch,axis=1))"
   ]
  },
  {
   "cell_type": "code",
   "execution_count": 158,
   "metadata": {},
   "outputs": [
    {
     "data": {
      "text/plain": [
       "(6, 1000)"
      ]
     },
     "execution_count": 158,
     "metadata": {},
     "output_type": "execute_result"
    }
   ],
   "source": [
    "sess.run(distance,feed_dict={x_data_train:x_vals_train,x_data_test:x_batch}).shape"
   ]
  },
  {
   "cell_type": "code",
   "execution_count": 159,
   "metadata": {},
   "outputs": [
    {
     "data": {
      "text/plain": [
       "(6, 4)"
      ]
     },
     "execution_count": 159,
     "metadata": {},
     "output_type": "execute_result"
    }
   ],
   "source": [
    "sess.run(top_k_indices,feed_dict={x_data_train:x_vals_train,x_data_test:x_batch}).shape"
   ]
  },
  {
   "cell_type": "code",
   "execution_count": 150,
   "metadata": {},
   "outputs": [
    {
     "data": {
      "text/plain": [
       "array([[    -0.,  -2361.,  -2548.,  -2865.],\n",
       "       [    -0.,  -9764., -10072., -10210.],\n",
       "       [    -0., -10007., -10264., -10264.],\n",
       "       [    -0., -11166., -11390., -11421.],\n",
       "       [    -0.,  -7475.,  -8127.,  -8170.],\n",
       "       [    -0.,  -9993., -11489., -11770.]], dtype=float32)"
      ]
     },
     "execution_count": 150,
     "metadata": {},
     "output_type": "execute_result"
    }
   ],
   "source": [
    "sess.run(top_k_vals,feed_dict={x_data_train:x_vals,x_data_test:x_batch})"
   ]
  },
  {
   "cell_type": "code",
   "execution_count": 160,
   "metadata": {
    "scrolled": true
   },
   "outputs": [
    {
     "data": {
      "text/plain": [
       "(6, 4, 10)"
      ]
     },
     "execution_count": 160,
     "metadata": {},
     "output_type": "execute_result"
    }
   ],
   "source": [
    "sess.run(prediction_indices,feed_dict={x_data_train:x_vals_train,x_data_test:x_batch,y_target_train:y_vals_train}).shape"
   ]
  },
  {
   "cell_type": "code",
   "execution_count": 162,
   "metadata": {},
   "outputs": [
    {
     "data": {
      "text/plain": [
       "array([[0., 1., 0., 0., 0., 0., 0., 0., 0., 0.],\n",
       "       [0., 1., 0., 0., 0., 0., 0., 0., 0., 0.],\n",
       "       [0., 1., 0., 0., 0., 0., 0., 0., 0., 0.],\n",
       "       [0., 1., 0., 0., 0., 0., 0., 0., 0., 0.]], dtype=float32)"
      ]
     },
     "execution_count": 162,
     "metadata": {},
     "output_type": "execute_result"
    }
   ],
   "source": [
    "sess.run(prediction_indices,feed_dict={x_data_train:x_vals_train,x_data_test:x_batch,y_target_train:y_vals_train})[0]"
   ]
  },
  {
   "cell_type": "code",
   "execution_count": 161,
   "metadata": {},
   "outputs": [
    {
     "data": {
      "text/plain": [
       "(6, 10)"
      ]
     },
     "execution_count": 161,
     "metadata": {},
     "output_type": "execute_result"
    }
   ],
   "source": [
    "sess.run(count_of_predictions,feed_dict={x_data_train:x_vals_train,x_data_test:x_batch,y_target_train:y_vals_train}).shape"
   ]
  },
  {
   "cell_type": "code",
   "execution_count": 170,
   "metadata": {},
   "outputs": [
    {
     "data": {
      "text/plain": [
       "array([[0., 4., 0., 0., 0., 0., 0., 0., 0., 0.],\n",
       "       [0., 0., 0., 0., 0., 0., 0., 1., 2., 1.],\n",
       "       [0., 0., 0., 0., 2., 0., 0., 0., 0., 2.],\n",
       "       [4., 0., 0., 0., 0., 0., 0., 0., 0., 0.],\n",
       "       [0., 0., 0., 0., 4., 0., 0., 0., 0., 0.],\n",
       "       [0., 0., 0., 0., 2., 0., 0., 0., 0., 2.]], dtype=float32)"
      ]
     },
     "execution_count": 170,
     "metadata": {},
     "output_type": "execute_result"
    }
   ],
   "source": [
    "temp_onehot = sess.run(count_of_predictions,feed_dict={x_data_train:x_vals_train,x_data_test:x_batch,y_target_train:y_vals_train})\n",
    "temp_onehot"
   ]
  },
  {
   "cell_type": "code",
   "execution_count": 173,
   "metadata": {},
   "outputs": [
    {
     "data": {
      "text/plain": [
       "array([1, 8, 4, 0, 4, 4], dtype=int64)"
      ]
     },
     "execution_count": 173,
     "metadata": {},
     "output_type": "execute_result"
    }
   ],
   "source": [
    "sess.run(tf.argmax(temp_onehot,axis=1))"
   ]
  },
  {
   "cell_type": "code",
   "execution_count": 168,
   "metadata": {},
   "outputs": [
    {
     "data": {
      "text/plain": [
       "array([3, 0, 0, 0, 4, 0, 0, 1, 1, 2], dtype=int64)"
      ]
     },
     "execution_count": 168,
     "metadata": {},
     "output_type": "execute_result"
    }
   ],
   "source": [
    "sess.run(prediction,feed_dict={x_data_train:x_vals_train,x_data_test:x_batch,y_target_train:y_vals_train})"
   ]
  },
  {
   "cell_type": "code",
   "execution_count": 177,
   "metadata": {},
   "outputs": [
    {
     "name": "stdout",
     "output_type": "stream",
     "text": [
      "test set에서의 정확도 : 0.8529411764705873\n"
     ]
    }
   ],
   "source": [
    "# 9.\n",
    "accuracy = sum([1./test_size for i in range(test_size) if test_output[i]==actual_vals[i]])\n",
    "print('test set에서의 정확도 : ' + str(accuracy))"
   ]
  },
  {
   "cell_type": "code",
   "execution_count": 178,
   "metadata": {},
   "outputs": [
    {
     "data": {
      "image/png": "[encoded data removed]",
      "text/plain": [
       "<Figure size 432x288 with 6 Axes>"
      ]
     },
     "metadata": {
      "needs_background": "light"
     },
     "output_type": "display_data"
    }
   ],
   "source": [
    "# 10.\n",
    "actuals = np.argmax(y_batch,axis=1)\n",
    "Nrows = 2\n",
    "Ncols = 3\n",
    "for i in range(len(actuals)):\n",
    "    plt.subplot(Nrows,Ncols,i+1)\n",
    "    plt.imshow(np.reshape(x_batch[i],[28,28]),cmap='Greys_r')\n",
    "    plt.title('Actual : '+str(actuals[i])+ ' Pred : '+str(predictions[i]),fontsize=10)\n",
    "    frame = plt.gca()\n",
    "    frame.axes.get_xaxis().set_visible(False)\n",
    "    frame.axes.get_yaxis().set_visible(False)"
   ]
  },
  {
   "cell_type": "code",
   "execution_count": null,
   "metadata": {},
   "outputs": [],
   "source": []
  }
 ],
 "metadata": {
  "kernelspec": {
   "display_name": "Python 3",
   "language": "python",
   "name": "python3"
  },
  "language_info": {
   "codemirror_mode": {
    "name": "ipython",
    "version": 3
   },
   "file_extension": ".py",
   "mimetype": "text/x-python",
   "name": "python",
   "nbconvert_exporter": "python",
   "pygments_lexer": "ipython3",
   "version": "3.7.4"
  }
 },
 "nbformat": 4,
 "nbformat_minor": 2
}
