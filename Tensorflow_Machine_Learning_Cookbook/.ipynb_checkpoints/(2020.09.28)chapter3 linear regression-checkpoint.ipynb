{
 "cells": [
  {
   "cell_type": "code",
   "execution_count": 1,
   "metadata": {},
   "outputs": [
    {
     "name": "stdout",
     "output_type": "stream",
     "text": [
      "WARNING:tensorflow:From C:\\Users\\hp\\Anaconda3\\lib\\site-packages\\tensorflow_core\\python\\compat\\v2_compat.py:88: disable_resource_variables (from tensorflow.python.ops.variable_scope) is deprecated and will be removed in a future version.\n",
      "Instructions for updating:\n",
      "non-resource variables are not supported in the long term\n"
     ]
    }
   ],
   "source": [
    "import tensorflow.compat.v1 as tf\n",
    "tf.disable_v2_behavior()\n",
    "import numpy as np"
   ]
  },
  {
   "cell_type": "markdown",
   "metadata": {},
   "source": [
    "수학적인 공식을 이용해 선형회귀를 풀어내는 방법부터 텐서플로우의 패러다임을 이용해 일반적인 선형회귀와 그 변형 방법들을 수행해볼 것임"
   ]
  },
  {
   "cell_type": "code",
   "execution_count": 2,
   "metadata": {},
   "outputs": [],
   "source": [
    "import matplotlib.pyplot as plt"
   ]
  },
  {
   "cell_type": "code",
   "execution_count": 3,
   "metadata": {},
   "outputs": [],
   "source": [
    "%matplotlib inline"
   ]
  },
  {
   "cell_type": "markdown",
   "metadata": {},
   "source": [
    "# Using the matrix inverse method\n",
    "이차원의 선형 회귀에 대해 역행렬 방법을 사용<br>\n",
    "$Ax = b$<br>\n",
    "$x$ = ${(A^{T}A)}^{-1}A^{T}b$"
   ]
  },
  {
   "cell_type": "code",
   "execution_count": 7,
   "metadata": {},
   "outputs": [],
   "source": [
    "# 1.\n",
    "sess = tf.Session()\n",
    "x_vals = np.linspace(0,10,100)\n",
    "y_vals = x_vals + np.random.normal(0,1,100)"
   ]
  },
  {
   "cell_type": "code",
   "execution_count": 23,
   "metadata": {},
   "outputs": [],
   "source": [
    "# 2.\n",
    "x_vals_column = np.transpose(np.matrix(x_vals))\n",
    "# 상수항\n",
    "one_column = np.transpose(np.matrix(np.repeat(1,100)))\n",
    "A = np.column_stack((x_vals_column,one_column))\n",
    "b = np.transpose(np.matrix(y_vals))"
   ]
  },
  {
   "cell_type": "code",
   "execution_count": 25,
   "metadata": {},
   "outputs": [],
   "source": [
    "# 3. A와 b를 텐서로\n",
    "A_tensor = tf.constant(A)\n",
    "b_tensor = tf.constant(b)\n",
    "\n",
    "# 4. 수식 정의\n",
    "tA_A = tf.matmul(tf.transpose(A_tensor),A_tensor)\n",
    "tA_A_inv = tf.matrix_inverse(tA_A)\n",
    "product = tf.matmul(tA_A_inv,tf.transpose(A_tensor))\n",
    "solution = tf.matmul(product,b_tensor)\n",
    "solution_eval = sess.run(solution)"
   ]
  },
  {
   "cell_type": "code",
   "execution_count": 26,
   "metadata": {},
   "outputs": [
    {
     "name": "stdout",
     "output_type": "stream",
     "text": [
      "slope : 1.01185105742357\n",
      "y_intercept : -0.1668922657687122\n"
     ]
    }
   ],
   "source": [
    "# 5. coefficients 추출\n",
    "slope = solution_eval[0][0]\n",
    "y_intercept = solution_eval[1][0]\n",
    "print('slope : '+str(slope))\n",
    "print('y_intercept : '+str(y_intercept))"
   ]
  },
  {
   "cell_type": "code",
   "execution_count": 28,
   "metadata": {},
   "outputs": [
    {
     "data": {
      "text/plain": [
       "<matplotlib.legend.Legend at 0x2c93c4f8ec8>"
      ]
     },
     "execution_count": 28,
     "metadata": {},
     "output_type": "execute_result"
    },
    {
     "data": {
      "image/png": "[encoded data removed]",
      "text/plain": [
       "<Figure size 432x288 with 1 Axes>"
      ]
     },
     "metadata": {
      "needs_background": "light"
     },
     "output_type": "display_data"
    }
   ],
   "source": [
    "best_fit=[]\n",
    "for i in x_vals:\n",
    "    best_fit.append(slope*i+y_intercept)\n",
    "    \n",
    "plt.plot(x_vals,y_vals,'o',label='Data')\n",
    "plt.plot(x_vals,best_fit,'r-',label='Best fit line',linewidth=3)\n",
    "plt.legend(loc='upper left')"
   ]
  },
  {
   "cell_type": "markdown",
   "metadata": {},
   "source": [
    "# Implementing a decompostion method\n",
    "행렬 분해를 사용, 특히 그중에서도 텐서플로우에 관련 함수가 내장된 Cholesky 분해를 사용\n",
    "\n",
    "Cholesky 분해는 행렬을 서로가 전치 관계인 상삼각행렬, 하삼각행렬로 분해한다.$A=LL^T$($L$은 하삼각행렬,대각성분은 모두 양의 실수)\n",
    "\n",
    "단계) $Ax=b$\n",
    "1. $LL^{T}x=b$\n",
    "2. $Ly = b$\n",
    "3. $L^{T}x = y$"
   ]
  },
  {
   "cell_type": "code",
   "execution_count": 30,
   "metadata": {},
   "outputs": [],
   "source": [
    "# 1.\n",
    "sess = tf.Session()\n",
    "x_vals = np.linspace(0,10,100)\n",
    "y_vals = x_vals + np.random.normal(0,1,100)\n",
    "x_vals_column = np.transpose(np.matrix(x_vals))\n",
    "one_column = np.transpose(np.matrix(np.repeat(1,100)))\n",
    "A = np.c_[x_vals_column,one_column]\n",
    "b = np.transpose(np.matrix(y_vals))\n",
    "A_tensor = tf.constant(A)\n",
    "b_tensor = tf.constant(b)"
   ]
  },
  {
   "cell_type": "code",
   "execution_count": 33,
   "metadata": {},
   "outputs": [],
   "source": [
    "# 2. Cholesky decomposition of (A^T)A\n",
    "# 그 이유는 행렬을 이용한 선형회귀 공식 생각\n",
    "tA_A = tf.matmul(tf.transpose(A_tensor),A_tensor)\n",
    "L = tf.cholesky(tA_A)\n",
    "tA_b = tf.matmul(tf.transpose(A_tensor),b)\n",
    "# Ly = b\n",
    "sol1 = tf.matrix_solve(L,tA_b)\n",
    "# L^T x = y\n",
    "sol2 = tf.matrix_solve(tf.transpose(L),sol1)"
   ]
  },
  {
   "cell_type": "code",
   "execution_count": 41,
   "metadata": {},
   "outputs": [
    {
     "name": "stdout",
     "output_type": "stream",
     "text": [
      "기울기 : 0.9925198173505693, y절편 : -0.11497070728628721\n"
     ]
    }
   ],
   "source": [
    "# 3. 계수 추출\n",
    "solution_eval = sess.run(sol2)\n",
    "slope = solution_eval[0,0]\n",
    "y_intercept = solution_eval[1,0]\n",
    "print('기울기 : {}, y절편 : {}'.format(slope,y_intercept))"
   ]
  },
  {
   "cell_type": "code",
   "execution_count": 42,
   "metadata": {},
   "outputs": [
    {
     "data": {
      "text/plain": [
       "<matplotlib.legend.Legend at 0x2c93df83648>"
      ]
     },
     "execution_count": 42,
     "metadata": {},
     "output_type": "execute_result"
    },
    {
     "data": {
      "image/png": "[encoded data removed]",
      "text/plain": [
       "<Figure size 432x288 with 1 Axes>"
      ]
     },
     "metadata": {
      "needs_background": "light"
     },
     "output_type": "display_data"
    }
   ],
   "source": [
    "# 4.\n",
    "best_fit = []\n",
    "for i in x_vals:\n",
    "    best_fit.append(slope*i+y_intercept)\n",
    "plt.plot(x_vals,y_vals,'o',label='Data')\n",
    "plt.plot(x_vals,best_fit,'r-',label='Best fit line',linewidth=3)\n",
    "plt.legend(loc='upper left')"
   ]
  },
  {
   "cell_type": "markdown",
   "metadata": {},
   "source": [
    "매우 큰 사이즈의 데이터에 대해서 이와 같이 효율적이고 수치적으로 안정된 방법을 채택할 수 있다."
   ]
  },
  {
   "cell_type": "markdown",
   "metadata": {},
   "source": [
    "# Learninig the TensorFlow wat of linear regression\n",
    "비록 수치적 방법과 행렬 분해의 방법은 매우  강력하지만 텐서플로우는 계수와 절편을 찾는데 있어서 또 다른 방법을 가지고 있다.<br>\n",
    "텐서플로우는 반복적으로, 점진적으로 loss를 최소화하는 최상의 파라미터를 학습해나간다.\n",
    "\n",
    "이 방법에서 배치 사이즈의 데이터 포인트들을 통해 텐서플로우는 계수, 절편을 업데이트한다. iris 데이터를 가지고 확인해보도록 한다."
   ]
  },
  {
   "cell_type": "code",
   "execution_count": 45,
   "metadata": {},
   "outputs": [],
   "source": [
    "# x : petal width, y : sepal length \n",
    "# loss : L2 loss function\n",
    "\n",
    "# 1.\n",
    "from sklearn.datasets import load_iris\n",
    "iris = load_iris()\n",
    "import pandas as pd\n",
    "iris_df = pd.DataFrame(iris.data, columns = iris.feature_names)"
   ]
  },
  {
   "cell_type": "code",
   "execution_count": 54,
   "metadata": {},
   "outputs": [],
   "source": [
    "x_vals = iris_df.iloc[:,3].values\n",
    "y_vals = iris_df.iloc[:,0].values"
   ]
  },
  {
   "cell_type": "code",
   "execution_count": 56,
   "metadata": {},
   "outputs": [],
   "source": [
    "# 2. \n",
    "learning_rate = 0.05\n",
    "batch_size = 25\n",
    "x_data = tf.placeholder(shape=[None,1],dtype=tf.float32)\n",
    "y_target = tf.placeholder(shape=[None,1],dtype=tf.float32)\n",
    "A = tf.Variable(tf.random_normal(shape=[1,1]))\n",
    "b = tf.Variable(tf.random_normal(shape=[1,1]))\n",
    "\n",
    "# 3. \n",
    "model_output = tf.add(tf.matmul(x_data,A),b)"
   ]
  },
  {
   "cell_type": "code",
   "execution_count": 57,
   "metadata": {},
   "outputs": [],
   "source": [
    "# 4. \n",
    "loss = tf.reduce_mean(tf.square(y_target - model_output))\n",
    "init = tf.global_variables_initializer()\n",
    "\n",
    "my_opt = tf.train.GradientDescentOptimizer(learning_rate)\n",
    "train_step = my_opt.minimize(loss)"
   ]
  },
  {
   "cell_type": "code",
   "execution_count": 62,
   "metadata": {},
   "outputs": [
    {
     "name": "stdout",
     "output_type": "stream",
     "text": [
      "Step #25 A = [[2.1516454]] b = [[2.917051]]\n",
      "Loss = 1.5731555\n",
      "Step #50 A = [[1.629958]] b = [[3.6585915]]\n",
      "Loss = 0.6893855\n",
      "Step #75 A = [[1.2901562]] b = [[4.0630217]]\n",
      "Loss = 0.3700493\n",
      "Step #100 A = [[1.2026834]] b = [[4.349563]]\n",
      "Loss = 0.26592693\n"
     ]
    }
   ],
   "source": [
    "# 5.\n",
    "sess.run(init)\n",
    "\n",
    "loss_vec = []\n",
    "for i in range(100):\n",
    "    rand_index = np.random.choice(len(x_vals),size=batch_size)\n",
    "    rand_x = x_vals[rand_index].reshape(-1,1)\n",
    "    rand_y = y_vals[rand_index].reshape(-1,1)\n",
    "    sess.run(train_step,feed_dict={x_data:rand_x,y_target:rand_y})\n",
    "    temp_loss = sess.run(loss,feed_dict={x_data:rand_x,y_target:rand_y})\n",
    "    loss_vec.append(temp_loss)\n",
    "    if (i+1) % 25 ==0:\n",
    "        print('Step #'+str(i+1)+' A = '+str(sess.run(A))+' b = '+str(sess.run(b)))\n",
    "        print('Loss = '+str(temp_loss))"
   ]
  },
  {
   "cell_type": "code",
   "execution_count": 68,
   "metadata": {},
   "outputs": [
    {
     "data": {
      "image/png": "[encoded data removed]",
      "text/plain": [
       "<Figure size 432x288 with 2 Axes>"
      ]
     },
     "metadata": {
      "needs_background": "light"
     },
     "output_type": "display_data"
    }
   ],
   "source": [
    "[slope] = sess.run(A)\n",
    "[y_intercept] = sess.run(b)\n",
    "best_fit = []\n",
    "for i in x_vals:\n",
    "    best_fit.append(slope*i+y_intercept)\n",
    "    \n",
    "fig,ax = plt.subplots(1,2)\n",
    "ax[0].plot(x_vals,y_vals,'o',label='Data')\n",
    "ax[0].plot(x_vals,best_fit,'r-',label='Best fit line',linewidth = 3)\n",
    "ax[0].legend(loc='best')\n",
    "ax[0].set_title('Sepal Length vs Petal Width')\n",
    "ax[0].set_xlabel('Petal Width')\n",
    "ax[0].set_ylabel('Sepal Length')\n",
    "\n",
    "ax[1].plot(loss_vec,'k-')\n",
    "ax[1].set_title('L2 Loss per Generation')\n",
    "ax[1].set_xlabel('Generation')\n",
    "ax[1].set_ylabel('L2 Loss')\n",
    "\n",
    "fig.tight_layout()"
   ]
  },
  {
   "cell_type": "markdown",
   "metadata": {},
   "source": [
    "최적의 line으로의 수렴은 반복의 횟수, 배치 사이즈, 학습률, loss 함수 등에 의존한다.<br>\n",
    "시간 경과에 따른 loss 함수의 변화를 관찰하는 것은 언제나 좋은 시도로서 하이퍼파라미터 조정, 문제점 파악 등을 돕는 역할을 한다."
   ]
  },
  {
   "cell_type": "markdown",
   "metadata": {},
   "source": [
    "# Understanding loss function in linear regression\n",
    "각각 L1, L2 loss 함수를 가질 때 선형회귀 식의 수렴에의 영향도를 체크하도록 한다."
   ]
  },
  {
   "cell_type": "code",
   "execution_count": 86,
   "metadata": {},
   "outputs": [],
   "source": [
    "# 1.\n",
    "iris = load_iris()\n",
    "iris_df = pd.DataFrame(iris.data, columns = iris.feature_names)\n",
    "\n",
    "x_vals = iris_df.iloc[:,3].values\n",
    "y_vals = iris_df.iloc[:,0].values\n",
    "\n",
    "learning_rate = 0.4\n",
    "iterations = 50\n",
    "batch_size = 25\n",
    "x_data = tf.placeholder(shape=[None,1],dtype=tf.float32)\n",
    "y_target = tf.placeholder(shape=[None,1],dtype=tf.float32)\n",
    "A = tf.Variable(tf.random_normal(shape=[1,1]))\n",
    "b = tf.Variable(tf.random_normal(shape=[1,1]))\n",
    "\n",
    "model_output = tf.add(tf.matmul(x_data,A),b)"
   ]
  },
  {
   "cell_type": "code",
   "execution_count": 87,
   "metadata": {},
   "outputs": [
    {
     "name": "stdout",
     "output_type": "stream",
     "text": [
      "Step #25 A = [[0.7336235]] b = [[4.6239796]]\n",
      "Loss = 0.408835\n",
      "Step #50 A = [[0.79922366]] b = [[4.6399794]]\n",
      "Loss = 0.30534488\n"
     ]
    }
   ],
   "source": [
    "# 2. L1 함수\n",
    "loss_l1 = tf.reduce_mean(tf.abs(y_target - model_output))\n",
    "\n",
    "# 3. \n",
    "init = tf.global_variables_initializer()\n",
    "my_opt_l1 = tf.train.GradientDescentOptimizer(learning_rate=learning_rate)\n",
    "train_step_l1 = my_opt_l1.minimize(loss_l1)\n",
    "\n",
    "loss_vec_l1=[]\n",
    "sess.run(init)\n",
    "\n",
    "for i in range(iterations):\n",
    "    rand_index = np.random.choice(len(x_vals),size=batch_size)\n",
    "    rand_x = x_vals[rand_index].reshape(-1,1)\n",
    "    rand_y = y_vals[rand_index].reshape(-1,1)\n",
    "    sess.run(train_step_l1,feed_dict={x_data:rand_x,y_target:rand_y})\n",
    "    temp_loss_l1 = sess.run(loss_l1,feed_dict={x_data:rand_x,y_target:rand_y})\n",
    "    loss_vec_l1.append(temp_loss_l1)\n",
    "    if (i+1) % 25 ==0:\n",
    "        print('Step #'+str(i+1)+' A = '+str(sess.run(A))+' b = '+str(sess.run(b)))\n",
    "        print('Loss = '+str(temp_loss_l1))"
   ]
  },
  {
   "cell_type": "code",
   "execution_count": 88,
   "metadata": {},
   "outputs": [
    {
     "name": "stdout",
     "output_type": "stream",
     "text": [
      "Step #25 A = [[2024.831]] b = [[1548.6321]]\n",
      "Loss = 18641864.0\n",
      "Step #50 A = [[-1204720.6]] b = [[-1087496.2]]\n",
      "Loss = 5759168000000.0\n"
     ]
    }
   ],
   "source": [
    "# 2. L2 함수\n",
    "loss_l2 = tf.reduce_mean(tf.square(y_target - model_output))\n",
    "\n",
    "# 3. \n",
    "init = tf.global_variables_initializer()\n",
    "my_opt_l2 = tf.train.GradientDescentOptimizer(learning_rate=learning_rate)\n",
    "train_step_l2 = my_opt_l1.minimize(loss_l2)\n",
    "\n",
    "loss_vec_l2=[]\n",
    "sess.run(init)\n",
    "\n",
    "for i in range(iterations):\n",
    "    rand_index = np.random.choice(len(x_vals),size=batch_size)\n",
    "    rand_x = x_vals[rand_index].reshape(-1,1)\n",
    "    rand_y = y_vals[rand_index].reshape(-1,1)\n",
    "    sess.run(train_step_l2,feed_dict={x_data:rand_x,y_target:rand_y})\n",
    "    temp_loss_l2 = sess.run(loss_l2,feed_dict={x_data:rand_x,y_target:rand_y})\n",
    "    loss_vec_l2.append(temp_loss_l2)\n",
    "    if (i+1) % 25 ==0:\n",
    "        print('Step #'+str(i+1)+' A = '+str(sess.run(A))+' b = '+str(sess.run(b)))\n",
    "        print('Loss = '+str(temp_loss_l2))"
   ]
  },
  {
   "cell_type": "code",
   "execution_count": 81,
   "metadata": {},
   "outputs": [
    {
     "data": {
      "text/plain": [
       "<matplotlib.legend.Legend at 0x2c94706dd48>"
      ]
     },
     "execution_count": 81,
     "metadata": {},
     "output_type": "execute_result"
    },
    {
     "data": {
      "image/png": "[encoded data removed]",
      "text/plain": [
       "<Figure size 432x288 with 1 Axes>"
      ]
     },
     "metadata": {
      "needs_background": "light"
     },
     "output_type": "display_data"
    }
   ],
   "source": [
    "plt.plot(loss_vec_l1,'k-',label='L1 Loss')\n",
    "plt.plot(loss_vec_l2,'r--',label='L2 Loss')\n",
    "plt.title('L1 and L2 Loss per Generation, learning rate={}'.format(learning_rate))\n",
    "plt.xlabel('Generation')\n",
    "plt.ylabel(\"L1 Loss\")\n",
    "plt.legend(loc='best')"
   ]
  },
  {
   "cell_type": "code",
   "execution_count": 85,
   "metadata": {},
   "outputs": [
    {
     "data": {
      "text/plain": [
       "<matplotlib.legend.Legend at 0x2c947100b48>"
      ]
     },
     "execution_count": 85,
     "metadata": {},
     "output_type": "execute_result"
    },
    {
     "data": {
      "image/png": "[encoded data removed]",
      "text/plain": [
       "<Figure size 432x288 with 1 Axes>"
      ]
     },
     "metadata": {
      "needs_background": "light"
     },
     "output_type": "display_data"
    }
   ],
   "source": [
    "plt.plot(loss_vec_l1,'k-',label='L1 Loss')\n",
    "plt.plot(loss_vec_l2,'r--',label='L2 Loss')\n",
    "plt.title('L1 and L2 Loss per Generation, learning rate={}'.format(learning_rate))\n",
    "plt.xlabel('Generation')\n",
    "plt.ylabel(\"L1 Loss\")\n",
    "plt.legend(loc='best')"
   ]
  },
  {
   "cell_type": "markdown",
   "metadata": {},
   "source": [
    "학습률 0.05에서는 더 낮은 값으로 잘 수렴하기에 l2 loss 함수가 더 선호된다.<br>\n",
    "학습률 0.4에서는 L2는 발산하지만 반면에 L1은 수렴한다."
   ]
  },
  {
   "cell_type": "markdown",
   "metadata": {},
   "source": [
    "# Implementing deming regression\n",
    "좀 다른 방식으로 model line과 데이터 포인터 간의 거리를 측정하도록 한다.<br>\n",
    "deming regression은 몇가지 다른 이름으로 불리는데 total regression, orthogonal distance regression(ODR), shortest-distance regression 등이다.\n",
    "\n",
    "일반적인 least square 선혀회귀가 수직적인 거리를 최소화하는 것이라면 deming regression은 line으로의 거리를 최소화한다. deming regression을 수행하기 위해서는 loss 함수를 수정해야한다. line과 포인트 간의 수직 거리를 계산하는 방법은 공식으로 알려져 있는데 이를 텐서플로우 방식으로 수행하도록 한다."
   ]
  },
  {
   "cell_type": "code",
   "execution_count": 149,
   "metadata": {},
   "outputs": [],
   "source": [
    "# 1.\n",
    "iris = load_iris()\n",
    "iris_df = pd.DataFrame(iris.data, columns = iris.feature_names)\n",
    "\n",
    "x_vals = iris_df.iloc[:,3].values\n",
    "y_vals = iris_df.iloc[:,0].values\n",
    "\n",
    "batch_size = 50\n",
    "learning_rate = 0.1\n",
    "\n",
    "x_data = tf.placeholder(shape=[None,1],dtype=tf.float32)\n",
    "y_target = tf.placeholder(shape=[None,1],dtype=tf.float32)\n",
    "A = tf.Variable(tf.random_normal(shape=[1,1]))\n",
    "b = tf.Variable(tf.random_normal(shape=[1,1]))\n",
    "\n",
    "model_output = tf.add(tf.matmul(x_data,A),b)"
   ]
  },
  {
   "cell_type": "markdown",
   "metadata": {},
   "source": [
    "$d = {{|y_0 - (mx_0 + b)|} \\over {\\sqrt{m^2+1}}}$\n",
    "<br>for $ y = mx+b$"
   ]
  },
  {
   "cell_type": "code",
   "execution_count": 150,
   "metadata": {},
   "outputs": [],
   "source": [
    "# 2. loss 함수 정의\n",
    "deming_numerator = tf.abs(tf.subtract(y_target,tf.add(tf.matmul(x_data,A),b)))\n",
    "deming_denominator = tf.sqrt(tf.add(tf.square(A),1))\n",
    "loss = tf.reduce_mean(tf.truediv(deming_numerator,deming_denominator))"
   ]
  },
  {
   "cell_type": "code",
   "execution_count": 151,
   "metadata": {},
   "outputs": [
    {
     "name": "stdout",
     "output_type": "stream",
     "text": [
      "Step # 50 A = [[3.3000953]], b = [[1.1587678]]\n",
      "Loss = 0.5043794512748718\n",
      "Step # 100 A = [[3.3200476]], b = [[1.3629982]]\n",
      "Loss = 0.44300171732902527\n",
      "Step # 150 A = [[3.2312593]], b = [[1.4896708]]\n",
      "Loss = 0.4109637141227722\n",
      "Step # 200 A = [[3.1320078]], b = [[1.6199594]]\n",
      "Loss = 0.40111908316612244\n",
      "Step # 250 A = [[3.033632]], b = [[1.7633489]]\n",
      "Loss = 0.5141685009002686\n",
      "Step # 300 A = [[2.9734232]], b = [[1.9325832]]\n",
      "Loss = 0.42856696248054504\n",
      "Step # 350 A = [[2.874579]], b = [[2.0778084]]\n",
      "Loss = 0.4150766134262085\n",
      "Step # 400 A = [[2.7607589]], b = [[2.2272906]]\n",
      "Loss = 0.3936412036418915\n"
     ]
    }
   ],
   "source": [
    "# 3.\n",
    "init = tf.global_variables_initializer()\n",
    "sess.run(init)\n",
    "my_opt = tf.train.GradientDescentOptimizer(learning_rate)\n",
    "train_step = my_opt.minimize(loss)\n",
    "\n",
    "loss_vec = []\n",
    "for i in range(400):\n",
    "    rand_index = np.random.choice(len(x_vals),size=batch_size)\n",
    "    rand_x = x_vals[rand_index].reshape(-1,1)\n",
    "    rand_y = y_vals[rand_index].reshape(-1,1)\n",
    "    sess.run(train_step, feed_dict = {x_data:rand_x,y_target:rand_y})\n",
    "    temp_loss = sess.run(loss,feed_dict={x_data:rand_x,y_target:rand_y})\n",
    "    loss_vec.append(temp_loss)\n",
    "    \n",
    "    if (i+1)%50 == 0:\n",
    "        print('Step # {} A = {}, b = {}'.format(i+1,sess.run(A),sess.run(b)))\n",
    "        print('Loss = {}'.format(temp_loss))"
   ]
  },
  {
   "cell_type": "code",
   "execution_count": 152,
   "metadata": {},
   "outputs": [
    {
     "data": {
      "text/plain": [
       "Text(0, 0.5, 'sepal length')"
      ]
     },
     "execution_count": 152,
     "metadata": {},
     "output_type": "execute_result"
    },
    {
     "data": {
      "image/png": "[encoded data removed]",
      "text/plain": [
       "<Figure size 432x288 with 1 Axes>"
      ]
     },
     "metadata": {
      "needs_background": "light"
     },
     "output_type": "display_data"
    }
   ],
   "source": [
    "[slope] = sess.run(A)\n",
    "[y_intercept] = sess.run(b)\n",
    "best_fit = []\n",
    "for i in x_vals:\n",
    "    best_fit.append(slope*i + y_intercept)\n",
    "\n",
    "plt.plot(x_vals,y_vals,'o',label='Data')\n",
    "plt.plot(x_vals,best_fit,'r-',label='Best fit line',linewidth=3)\n",
    "plt.legend(loc='best')\n",
    "plt.title('Sepal Length vs Petal Width')\n",
    "plt.xlabel('petal width')\n",
    "plt.ylabel('sepal length')"
   ]
  },
  {
   "cell_type": "code",
   "execution_count": 161,
   "metadata": {},
   "outputs": [
    {
     "data": {
      "text/plain": [
       "array([0.88858025, 4.77762942])"
      ]
     },
     "execution_count": 161,
     "metadata": {},
     "output_type": "execute_result"
    }
   ],
   "source": [
    "A = np.c_[x_vals,np.repeat(1,len(x_vals))]\n",
    "b = y_vals\n",
    "np.linalg.inv(np.transpose(A).dot(A)).dot(np.transpose(A)).dot(b)"
   ]
  },
  {
   "cell_type": "markdown",
   "metadata": {},
   "source": [
    "# Implementing lasso and ridge regression\n",
    "계수를 규제하기 위해 규제항(regularization term)을 넣는다. 몇가지 이유가 있는데 가장 일반적인 이유는 의존 변수에 영향을 행사하는 특징들을 제한하기 위해서이다. 이는 loss 함수에 항을 하나 추가함으로서 구현할 수 있다.\n",
    "\n",
    "lasso 회귀의 경우 경사항(A)이 특정 값을 갖게 되었을 때 loss 함수를 매우 많이 증가시키는 항을 추가한다. 텐서플로우의 논리적인 연산을 이용할 수 있으나 그것과 관련된 기울기는 갖지 않는다. 대신 계단함수에 근사하는 연속함수(called continuous heavy step function) 를 이용한다. 그 값은 우리가 선택한 정규화 컷오프까지의 스케일을 갖는다.\n",
    "\n",
    "ridge 회귀의 경우 L2 norm 항을 추가한다."
   ]
  },
  {
   "cell_type": "code",
   "execution_count": 181,
   "metadata": {},
   "outputs": [],
   "source": [
    "# 1.\n",
    "iris = load_iris()\n",
    "iris_df = pd.DataFrame(iris.data, columns = iris.feature_names)\n",
    "\n",
    "x_vals = iris_df.iloc[:,3].values\n",
    "y_vals = iris_df.iloc[:,0].values\n",
    "\n",
    "batch_size = 50\n",
    "learning_rate = 0.001\n",
    "\n",
    "x_data = tf.placeholder(shape=[None,1],dtype=tf.float32)\n",
    "y_target = tf.placeholder(shape=[None,1],dtype=tf.float32)\n",
    "A = tf.Variable(tf.random_normal(shape=[1,1]))\n",
    "b = tf.Variable(tf.random_normal(shape=[1,1]))\n",
    "\n",
    "model_output = tf.add(tf.matmul(x_data,A),b)"
   ]
  },
  {
   "cell_type": "code",
   "execution_count": 182,
   "metadata": {},
   "outputs": [],
   "source": [
    "# 2. heavyside step function\n",
    "# lasso 회귀의 컷오프를 0.9로 사용한다.\n",
    "\n",
    "lasso_param = tf.constant(0.9)\n",
    "heavyside_step = tf.truediv(1.,tf.add(1.,tf.exp(tf.multiply(-100.,tf.subtract(A,lasso_param)))))\n",
    "\n",
    "regularization_param = tf.multiply(heavyside_step,99.)\n",
    "\n",
    "loss = tf.add(tf.reduce_mean(tf.square(y_target - model_output)),regularization_param)"
   ]
  },
  {
   "cell_type": "code",
   "execution_count": 183,
   "metadata": {},
   "outputs": [],
   "source": [
    "# 3.\n",
    "init = tf.global_variables_initializer()\n",
    "my_opt = tf.train.GradientDescentOptimizer(learning_rate)\n",
    "train_step = my_opt.minimize(loss)"
   ]
  },
  {
   "cell_type": "code",
   "execution_count": 185,
   "metadata": {},
   "outputs": [
    {
     "name": "stdout",
     "output_type": "stream",
     "text": [
      "Step # 300 A = [[0.83072144]], b = [[0.9472949]]\n",
      "Loss = [[15.977933]]\n",
      "Step # 600 A = [[0.8242452]], b = [[2.7054436]]\n",
      "Loss = [[4.901698]]\n",
      "Step # 900 A = [[0.8187818]], b = [[3.6767075]]\n",
      "Loss = [[1.6493381]]\n",
      "Step # 1200 A = [[0.81333005]], b = [[4.2159605]]\n",
      "Loss = [[0.7396133]]\n",
      "Step # 1500 A = [[0.8081369]], b = [[4.5138125]]\n",
      "Loss = [[0.33051082]]\n"
     ]
    }
   ],
   "source": [
    "# 4.\n",
    "sess.run(init)\n",
    "\n",
    "loss_vec = []\n",
    "for i in range(1500):\n",
    "    rand_index = np.random.choice(len(x_vals),size=batch_size)\n",
    "    rand_x = x_vals[rand_index].reshape(-1,1)\n",
    "    rand_y = y_vals[rand_index].reshape(-1,1)\n",
    "    sess.run(train_step, feed_dict = {x_data:rand_x,y_target:rand_y})\n",
    "    temp_loss = sess.run(loss,feed_dict={x_data:rand_x,y_target:rand_y})\n",
    "    loss_vec.append(temp_loss[0])\n",
    "    \n",
    "    if (i+1)%300 == 0:\n",
    "        print('Step # {} A = {}, b = {}'.format(i+1,sess.run(A),sess.run(b)))\n",
    "        print('Loss = {}'.format(temp_loss))"
   ]
  },
  {
   "cell_type": "markdown",
   "metadata": {},
   "source": [
    "너무 큰 스텝사이즈는 수렴하지 않을 수 있다."
   ]
  },
  {
   "cell_type": "code",
   "execution_count": null,
   "metadata": {},
   "outputs": [],
   "source": [
    "# ridge regression\n",
    "ridge_param = tf.constant(1.)\n",
    "ridge_loss = tf.reduce_mean(tf.sqaure(A))\n",
    "loss = tf.expand_dims(tf.add(tf.reduce_mean(tf.square(y_target - model_output)),tf.multiply(ridge_param,ridge_loss)),0)"
   ]
  },
  {
   "cell_type": "markdown",
   "metadata": {},
   "source": [
    "# Implementing elastic net regression\n",
    "L1과 L2 규제 term을 loss 함수에 추가함으로서 lasso와 ridge 회귀를 결합한 형태이다."
   ]
  },
  {
   "cell_type": "code",
   "execution_count": 4,
   "metadata": {},
   "outputs": [],
   "source": [
    "# 1. iris 데이터셋을 이용\n",
    "import pandas as pd\n",
    "from sklearn.datasets import load_iris\n",
    "iris = load_iris()\n",
    "iris_df = pd.DataFrame(iris.data,columns=iris.feature_names)"
   ]
  },
  {
   "cell_type": "code",
   "execution_count": 17,
   "metadata": {},
   "outputs": [],
   "source": [
    "sess = tf.Session()"
   ]
  },
  {
   "cell_type": "code",
   "execution_count": 9,
   "metadata": {},
   "outputs": [],
   "source": [
    "# 2.\n",
    "x_vals = iris_df.iloc[:,1:].values\n",
    "y_vals = iris_df.iloc[:,0].values"
   ]
  },
  {
   "cell_type": "code",
   "execution_count": 15,
   "metadata": {},
   "outputs": [],
   "source": [
    "# 3.\n",
    "batch_size=50\n",
    "learning_rate = 0.001\n",
    "x_data = tf.placeholder(shape=[None,3],dtype=tf.float32)\n",
    "y_target = tf.placeholder(shape=[None,1],dtype=tf.float32)\n",
    "A = tf.Variable(tf.random_normal(shape=[3,1]))\n",
    "b = tf.Variable(tf.random_normal(shape=[1,1]))\n",
    "\n",
    "model_output = tf.add(tf.matmul(x_data,A),b)"
   ]
  },
  {
   "cell_type": "code",
   "execution_count": 16,
   "metadata": {},
   "outputs": [],
   "source": [
    "# 4.\n",
    "elastic_params1 = tf.constant(1.)\n",
    "elastic_params2 = tf.constant(1.)\n",
    "l1_a_loss = tf.reduce_mean(tf.abs(A))\n",
    "l2_a_loss = tf.reduce_mean(tf.square(A))\n",
    "e1_term = tf.multiply(elastic_params1,l1_a_loss)\n",
    "e2_term = tf.multiply(elastic_params2,l2_a_loss)\n",
    "loss = tf.expand_dims(tf.add(tf.add(tf.reduce_mean(tf.square(y_target-model_output)),e1_term),e2_term),0)"
   ]
  },
  {
   "cell_type": "code",
   "execution_count": 19,
   "metadata": {},
   "outputs": [
    {
     "name": "stdout",
     "output_type": "stream",
     "text": [
      "Step # 250 A = [[ 0.37598005]\n",
      " [ 0.86029816]\n",
      " [-0.14379677]], b = [[1.3683242]]\n",
      "Loss = [1.2236863]\n",
      "Step # 500 A = [[ 0.5839785 ]\n",
      " [ 0.666327  ]\n",
      " [-0.08183318]], b = [[1.4745755]]\n",
      "Loss = [0.9132575]\n",
      "Step # 750 A = [[6.5191853e-01]\n",
      " [5.7450098e-01]\n",
      " [2.4037375e-04]], b = [[1.5518327]]\n",
      "Loss = [0.8147964]\n",
      "Step # 1000 A = [[6.7620075e-01]\n",
      " [5.3980750e-01]\n",
      " [2.4869913e-04]], b = [[1.6209438]]\n",
      "Loss = [0.79669183]\n"
     ]
    }
   ],
   "source": [
    "# 5.\n",
    "init = tf.global_variables_initializer()\n",
    "sess.run(init)\n",
    "my_opt = tf.train.GradientDescentOptimizer(learning_rate)\n",
    "train_step = my_opt.minimize(loss)\n",
    "loss_vec = []\n",
    "for i in range(1000):\n",
    "    rand_index = np.random.choice(len(x_vals),size=batch_size)\n",
    "    rand_x = x_vals[rand_index].reshape(-1,3)\n",
    "    rand_y = y_vals[rand_index].reshape(-1,1)\n",
    "    sess.run(train_step,feed_dict={x_data:rand_x,y_target:rand_y})\n",
    "    temp_loss = sess.run(loss,feed_dict={x_data:rand_x,y_target:rand_y})\n",
    "    loss_vec.append(temp_loss)\n",
    "    if (i+1)%250 == 0:\n",
    "        print('Step # {} A = {}, b = {}'.format(i+1,sess.run(A),sess.run(b)))\n",
    "        print('Loss = {}'.format(temp_loss))"
   ]
  },
  {
   "cell_type": "code",
   "execution_count": 20,
   "metadata": {},
   "outputs": [
    {
     "data": {
      "text/plain": [
       "Text(0, 0.5, 'Loss')"
      ]
     },
     "execution_count": 20,
     "metadata": {},
     "output_type": "execute_result"
    },
    {
     "data": {
      "image/png": "[encoded data removed]",
      "text/plain": [
       "<Figure size 432x288 with 1 Axes>"
      ]
     },
     "metadata": {
      "needs_background": "light"
     },
     "output_type": "display_data"
    }
   ],
   "source": [
    "plt.plot(loss_vec,'k-')\n",
    "plt.title('Loss per Generation')\n",
    "plt.xlabel('Generation')\n",
    "plt.ylabel('Loss')"
   ]
  },
  {
   "cell_type": "markdown",
   "metadata": {},
   "source": [
    "규제는 loss 함수에 적절한 항을 추가해주는 간단한 방식으로 이뤄진다."
   ]
  },
  {
   "cell_type": "markdown",
   "metadata": {},
   "source": [
    "# Implementing logistic regression\n",
    "로지스틱 회귀는 선형 모델을 이진 분류 문제 해결을 위해 약간 변형한 방식이다. 선형 output을 0과 1사이의 값을 갖는 sigmoid 함수에 넣는 방식으로 이뤄진다. 타겟은 0과 1 둘 중 하나이므로 함수의 결과 값이 일정 컷오프 이상이면 1, 이하이면 0으로 분류하는 방식을 취한다.\n",
    "\n",
    "컷오프는 0.5로 정하고 낮은 출산율을 예측하는 데이터를 이용해 실습해보도록 한다."
   ]
  },
  {
   "cell_type": "code",
   "execution_count": 48,
   "metadata": {},
   "outputs": [],
   "source": [
    "# 1.2.\n",
    "df = pd.read_excel('birth.xlsx')"
   ]
  },
  {
   "cell_type": "code",
   "execution_count": 51,
   "metadata": {},
   "outputs": [],
   "source": [
    "x_vals = df.iloc[:,1:8].values\n",
    "y_vals = df.iloc[:,0].values"
   ]
  },
  {
   "cell_type": "code",
   "execution_count": 79,
   "metadata": {},
   "outputs": [],
   "source": [
    "# 3.\n",
    "train_indices = np.random.choice(len(x_vals),round(len(x_vals)*0.8),replace=False)\n",
    "test_indices = np.array(list(set(range(len(x_vals)))-set(train_indices)))\n",
    "x_vals_train = x_vals[train_indices]\n",
    "x_vals_test = x_vals[test_indices]\n",
    "y_vals_train = y_vals[train_indices]\n",
    "y_vals_test = y_vals[test_indices]"
   ]
  },
  {
   "cell_type": "code",
   "execution_count": 80,
   "metadata": {},
   "outputs": [],
   "source": [
    "# 4.scaling(로지스틱 회귀는 특성들이 0~1 사이일 때 잘 작동한다.)\n",
    "from sklearn.preprocessing import MinMaxScaler\n",
    "scaler = MinMaxScaler()\n",
    "scaler.fit(x_vals_train)\n",
    "x_vals_train_scaled = scaler.transform(x_vals_train)\n",
    "x_vals_test_scaled = scaler.transform(x_vals_test)\n",
    "\n",
    "# 테스트셋은 훈련에 아무 영향도 미치지 않게 하는게 중요"
   ]
  },
  {
   "cell_type": "code",
   "execution_count": 81,
   "metadata": {},
   "outputs": [],
   "source": [
    "# 5.\n",
    "batch_size = 25\n",
    "x_data = tf.placeholder(shape=[None,7],dtype=tf.float32)\n",
    "y_target = tf.placeholder(shape=[None,1],dtype=tf.float32)\n",
    "A = tf.Variable(tf.random_normal(shape=[7,1]))\n",
    "b = tf.Variable(tf.random_normal(shape=[1,1]))\n",
    "model_output = tf.add(tf.matmul(x_data,A),b)\n",
    "\n",
    "# 6.\n",
    "loss = tf.reduce_mean(tf.nn.sigmoid_cross_entropy_with_logits(logits = model_output,labels = y_target))\n",
    "init = tf.global_variables_initializer()\n",
    "my_opt = tf.train.GradientDescentOptimizer(0.01)\n",
    "train_step = my_opt.minimize(loss)"
   ]
  },
  {
   "cell_type": "code",
   "execution_count": 82,
   "metadata": {},
   "outputs": [],
   "source": [
    "# 7. loss 함수를 따라 분류의 정확도를 기록한다.\n",
    "prediction = tf.round(tf.sigmoid(model_output))\n",
    "predictions_correct = tf.cast(tf.equal(prediction,y_target),tf.float32)\n",
    "accuracy = tf.reduce_mean(predictions_correct)"
   ]
  },
  {
   "cell_type": "code",
   "execution_count": 83,
   "metadata": {},
   "outputs": [],
   "source": [
    "# 8. \n",
    "sess.run(init)\n",
    "loss_vec = []\n",
    "train_acc = []\n",
    "test_acc = []\n",
    "for i in range(1500):\n",
    "    rand_index = np.random.choice(len(x_vals_train),size=batch_size)\n",
    "    rand_x = x_vals_train_scaled[rand_index].reshape(-1,7)\n",
    "    rand_y = y_vals_train[rand_index].reshape(-1,1)\n",
    "    sess.run(train_step,feed_dict = {x_data:rand_x, y_target:rand_y})\n",
    "    temp_loss = sess.run(loss,feed_dict={x_data:rand_x, y_target:rand_y})\n",
    "    loss_vec.append(temp_loss)\n",
    "    \n",
    "    temp_acc_train = sess.run(accuracy,feed_dict={x_data:x_vals_train_scaled.reshape(-1,7),y_target:y_vals_train.reshape(-1,1)})\n",
    "    train_acc.append(temp_acc_train)\n",
    "    \n",
    "    temp_acc_test = sess.run(accuracy,feed_dict={x_data:x_vals_test_scaled.reshape(-1,7),y_target:y_vals_test.reshape(-1,1)})\n",
    "    test_acc.append(temp_acc_test)"
   ]
  },
  {
   "cell_type": "code",
   "execution_count": 85,
   "metadata": {},
   "outputs": [
    {
     "data": {
      "image/png": "[encoded data removed]",
      "text/plain": [
       "<Figure size 432x288 with 2 Axes>"
      ]
     },
     "metadata": {
      "needs_background": "light"
     },
     "output_type": "display_data"
    }
   ],
   "source": [
    "# 9.\n",
    "fig,ax = plt.subplots(1,2)\n",
    "ax[0].plot(loss_vec,'k-')\n",
    "ax[0].set_title('Cross Entropy Loss per Generation')\n",
    "ax[0].set_xlabel('Generation')\n",
    "ax[0].set_ylabel('Cross Entropy Loss')\n",
    "\n",
    "ax[1].plot(train_acc,'k-',label='Train Set Accuracy')\n",
    "ax[1].plot(test_acc,'r--',label='Test Set Accuracy')\n",
    "ax[1].set_title('Train and Test Accuracy')\n",
    "ax[1].set_xlabel('Generation')\n",
    "ax[1].set_ylabel('Accuracy')\n",
    "ax[1].legend()\n",
    "\n",
    "plt.tight_layout()"
   ]
  },
  {
   "cell_type": "code",
   "execution_count": null,
   "metadata": {},
   "outputs": [],
   "source": []
  }
 ],
 "metadata": {
  "kernelspec": {
   "display_name": "Python 3",
   "language": "python",
   "name": "python3"
  },
  "language_info": {
   "codemirror_mode": {
    "name": "ipython",
    "version": 3
   },
   "file_extension": ".py",
   "mimetype": "text/x-python",
   "name": "python",
   "nbconvert_exporter": "python",
   "pygments_lexer": "ipython3",
   "version": "3.7.4"
  }
 },
 "nbformat": 4,
 "nbformat_minor": 2
}
