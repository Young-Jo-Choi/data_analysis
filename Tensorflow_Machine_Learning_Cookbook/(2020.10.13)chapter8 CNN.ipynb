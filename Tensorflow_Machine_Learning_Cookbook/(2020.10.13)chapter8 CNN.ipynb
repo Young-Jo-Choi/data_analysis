{
 "cells": [
  {
   "cell_type": "code",
   "execution_count": 1,
   "metadata": {},
   "outputs": [
    {
     "name": "stdout",
     "output_type": "stream",
     "text": [
      "WARNING:tensorflow:From C:\\Users\\hp\\Anaconda3\\lib\\site-packages\\tensorflow_core\\python\\compat\\v2_compat.py:88: disable_resource_variables (from tensorflow.python.ops.variable_scope) is deprecated and will be removed in a future version.\n",
      "Instructions for updating:\n",
      "non-resource variables are not supported in the long term\n"
     ]
    }
   ],
   "source": [
    "import tensorflow.compat.v1 as tf\n",
    "tf.disable_v2_behavior()\n",
    "import numpy as np\n",
    "import matplotlib.pyplot as plt\n",
    "%matplotlib inline\n",
    "import pandas as pd"
   ]
  },
  {
   "cell_type": "code",
   "execution_count": 2,
   "metadata": {},
   "outputs": [],
   "source": [
    "from matplotlib import font_manager,rc,rcParams\n",
    "import platform\n",
    "\n",
    "if platform.system() == 'Windows':\n",
    "    path = 'c:/windows/Fonts/malgun.ttf'\n",
    "    font_name = font_manager.FontProperties(fname=path).get_name()\n",
    "    rc('font',family = font_name)\n",
    "elif platform.system() == 'Darwin':\n",
    "    rc('font',family = 'AppleGothic')\n",
    "else:\n",
    "    print('Check your OS system')\n",
    "    \n",
    "rcParams['axes.unicode_minus'] = False"
   ]
  },
  {
   "cell_type": "markdown",
   "metadata": {},
   "source": [
    "# Introduction\n",
    "Convolutional Neural Network(CNNs)는 지난 몇년간 이미지 인식에 있어서 주요한 돌파구 중에 하나이다. \n",
    "\n",
    "수학에서 convolution이라는 것은 다른 함수의 결과물에 덧붙여 씌워지는 함수이다. 우리의 경우 이미지를 가로지르는 행렬 연산(필터)의 적용에 대해 살펴볼 것이다. 이러한 목적을 위해 이미지를 하나의 행렬로 생각하기로한다. 행렬의 숫자들은 픽셀 혹은 이미지 속성을 나타내는 것들이다.<br>\n",
    "우리가 적용할 이런 convolutional 연산들은 이미지의 고정된 width의 filter를 이동하거나 결과를 출력하기 위해 element-wise하게 적용하는 것들을 포함한다.<br>\n",
    "보통 Filter와 Max Pool의 aggregation으로써 진행된다."
   ]
  },
  {
   "cell_type": "markdown",
   "metadata": {},
   "source": [
    "# Implementing a simple CNN\n",
    "MNIST digit 데이터에 대한 예측을 높이기 위해 네 개의 convolutional 신경망을 구성할 것이다. 처음 두 layer는 Covolution-ReLU-Max Pool로 이뤄져 있고 나머지 두 layer는 fully connected layer이다."
   ]
  },
  {
   "cell_type": "code",
   "execution_count": 3,
   "metadata": {},
   "outputs": [],
   "source": [
    "# 1.\n",
    "from tensorflow import keras"
   ]
  },
  {
   "cell_type": "code",
   "execution_count": 4,
   "metadata": {},
   "outputs": [],
   "source": [
    "mnist = keras.datasets.mnist"
   ]
  },
  {
   "cell_type": "code",
   "execution_count": 5,
   "metadata": {},
   "outputs": [],
   "source": [
    "(X_train,y_train), (X_test,y_test) = mnist.load_data(path='mnist.npz')\n",
    "# 흑백 스케일로 바꿔준다.\n",
    "X_train = X_train/255\n",
    "X_test = X_test/255"
   ]
  },
  {
   "cell_type": "code",
   "execution_count": 6,
   "metadata": {},
   "outputs": [],
   "source": [
    "# 2. 3. 이미지가 grayscale이므로 depth(number of channels)가 1이다.\n",
    "sess = tf.Session()\n",
    "\n",
    "batch_size = 100\n",
    "learning_rate = 0.005\n",
    "evaluation_size = 500\n",
    "\n",
    "image_width = X_train[0].shape[0]\n",
    "image_height = X_train[0].shape[1]\n",
    "target_size = max(y_train)+1\n",
    "\n",
    "num_channels = 1\n",
    "generations = 500\n",
    "eval_every = 5\n",
    "\n",
    "conv1_features = 25  # filter로 요약된 행렬을 25개의 층으로 갖는다는 의미. #5를 참고\n",
    "conv2_features = 50\n",
    "max_pool_size1 = 2\n",
    "max_pool_size2 = 2\n",
    "fully_connected_size1 = 100"
   ]
  },
  {
   "cell_type": "code",
   "execution_count": 7,
   "metadata": {},
   "outputs": [],
   "source": [
    "# 4. training과 test data variable들에 대해 선언, 학습과 테스트에 대해서 다른 batch_size를 적용한다. \n",
    "x_input_shape = (batch_size,image_width,image_height,num_channels)\n",
    "x_input = tf.placeholder(shape=x_input_shape,dtype=tf.float32)\n",
    "y_target = tf.placeholder(shape=(batch_size),dtype=tf.int32)\n",
    "\n",
    "eval_input_shape = (evaluation_size,image_width,image_height,num_channels)\n",
    "eval_input = tf.placeholder(tf.float32,shape=eval_input_shape)\n",
    "eval_target = tf.placeholder(tf.float32,shape=(evaluation_size))"
   ]
  },
  {
   "cell_type": "code",
   "execution_count": 8,
   "metadata": {},
   "outputs": [],
   "source": [
    "# 5. convolution 층에 대한 weights와 biases\n",
    "# filter : [filter_height, filter_width, in_channels, out_channels] \n",
    "conv1_weight = tf.Variable(tf.truncated_normal([4,4,num_channels,conv1_features],stddev=0.1,dtype=tf.float32))\n",
    "conv1_bias = tf.Variable(tf.zeros([conv1_features],dtype=tf.float32))\n",
    "\n",
    "conv2_weight = tf.Variable(tf.truncated_normal([4,4,conv1_features,conv2_features],stddev=0.1,dtype=tf.float32))\n",
    "conv2_bias = tf.Variable(tf.zeros([conv2_features],dtype=tf.float32))"
   ]
  },
  {
   "cell_type": "code",
   "execution_count": 9,
   "metadata": {},
   "outputs": [],
   "source": [
    "# 6. 완전연결층에 대한 weight와 bias\n",
    "resulting_width = image_width//(max_pool_size1*max_pool_size2)\n",
    "resulting_height = image_height//(max_pool_size1*max_pool_size2)\n",
    "\n",
    "full1_input_size = resulting_width*resulting_height*conv2_features\n",
    "full1_weight = tf.Variable(tf.truncated_normal([full1_input_size,fully_connected_size1],stddev=0.1,dtype=tf.float32))\n",
    "full1_bias = tf.Variable(tf.truncated_normal([fully_connected_size1],stddev=0.1,dtype=tf.float32))\n",
    "\n",
    "full2_weight = tf.Variable(tf.truncated_normal([fully_connected_size1,target_size],dtype=tf.float32))\n",
    "full2_bias = tf.Variable(tf.truncated_normal([target_size],stddev=0.1,dtype=tf.float32))"
   ]
  },
  {
   "cell_type": "code",
   "execution_count": 10,
   "metadata": {},
   "outputs": [],
   "source": [
    "# 7.\n",
    "def my_conv_net(input_data):\n",
    "    # First Conv-ReLU-MaxPool layer\n",
    "    conv1 = tf.nn.conv2d(input_data,conv1_weight,strides=[1,1,1,1],padding='SAME')\n",
    "    relu1 = tf.nn.relu(tf.nn.bias_add(conv1,conv1_bias))\n",
    "    max_pool1 = tf.nn.max_pool(relu1,ksize=[1,max_pool_size1,max_pool_size1,1],\n",
    "                               strides=[1,max_pool_size1,max_pool_size1,1],padding='SAME')\n",
    "    # Second Conv-ReLU-MaxPool layer\n",
    "    conv2 = tf.nn.conv2d(max_pool1,conv2_weight,strides=[1,1,1,1],padding='SAME')\n",
    "    relu2 = tf.nn.relu(tf.nn.bias_add(conv2,conv2_bias))\n",
    "    max_pool2 = tf.nn.max_pool(relu2,ksize=[1,max_pool_size2,max_pool_size2,1],\n",
    "                               strides=[1,max_pool_size2,max_pool_size2,1],padding='SAME')\n",
    "    # Transform Output into a 1xN layer for next_fully connected layer\n",
    "    final_conv_shape = max_pool2.get_shape().as_list()\n",
    "    final_shape = final_conv_shape[1]*final_conv_shape[2]*final_conv_shape[3]\n",
    "    flat_output = tf.reshape(max_pool2,shape = [final_conv_shape[0],final_shape])\n",
    "    \n",
    "    # First Fully Connected layer\n",
    "    fully_connected1 = tf.nn.relu(tf.add(tf.matmul(flat_output,full1_weight),full1_bias))\n",
    "    # Second Fully Connected layer\n",
    "    final_model_output =tf.add(tf.matmul(fully_connected1,full2_weight),full2_bias)\n",
    "    return final_model_output"
   ]
  },
  {
   "cell_type": "code",
   "execution_count": 11,
   "metadata": {},
   "outputs": [],
   "source": [
    "# 8.\n",
    "model_output = my_conv_net(x_input)\n",
    "test_model_output = my_conv_net(eval_input)\n",
    "\n",
    "# 9.\n",
    "loss = tf.reduce_mean(tf.nn.sparse_softmax_cross_entropy_with_logits(logits=model_output,labels=y_target))\n",
    "\n",
    "# 10.\n",
    "prediction = tf.nn.softmax(model_output)\n",
    "test_prediction = tf.nn.softmax(test_model_output)\n",
    "def get_accuracy(logits,targets):\n",
    "    batch_predictions = np.argmax(logits,axis=1)\n",
    "    num_correct = np.sum(np.equal(batch_predictions,targets))\n",
    "    return 100.*num_correct/batch_predictions.shape[0]"
   ]
  },
  {
   "cell_type": "code",
   "execution_count": 12,
   "metadata": {},
   "outputs": [],
   "source": [
    "# 11.\n",
    "my_optimizer = tf.train.MomentumOptimizer(learning_rate,0.9)\n",
    "train_step = my_optimizer.minimize(loss)"
   ]
  },
  {
   "cell_type": "code",
   "execution_count": 13,
   "metadata": {},
   "outputs": [
    {
     "name": "stdout",
     "output_type": "stream",
     "text": [
      "Generation # 50, Train Loss: 0.31083548069000244, Train Acc: 89.0, Test_acc : 85.0\n",
      "Generation # 100, Train Loss: 0.23121514916419983, Train Acc: 92.0, Test_acc : 93.4\n",
      "Generation # 150, Train Loss: 0.2997101843357086, Train Acc: 91.0, Test_acc : 93.8\n",
      "Generation # 200, Train Loss: 0.032414790242910385, Train Acc: 99.0, Test_acc : 95.0\n",
      "Generation # 250, Train Loss: 0.13848018646240234, Train Acc: 96.0, Test_acc : 95.4\n",
      "Generation # 300, Train Loss: 0.05913383513689041, Train Acc: 97.0, Test_acc : 96.0\n",
      "Generation # 350, Train Loss: 0.13581033051013947, Train Acc: 95.0, Test_acc : 96.6\n",
      "Generation # 400, Train Loss: 0.15678131580352783, Train Acc: 97.0, Test_acc : 95.8\n",
      "Generation # 450, Train Loss: 0.12035210430622101, Train Acc: 96.0, Test_acc : 96.4\n",
      "Generation # 500, Train Loss: 0.05856842175126076, Train Acc: 98.0, Test_acc : 97.6\n"
     ]
    }
   ],
   "source": [
    "# 12.\n",
    "init = tf.global_variables_initializer()\n",
    "sess.run(init)\n",
    "\n",
    "train_loss = []\n",
    "train_acc = []\n",
    "test_acc = []\n",
    "for i in range(generations):\n",
    "    rand_index = np.random.choice(len(X_train),size=batch_size)\n",
    "    rand_x = np.expand_dims(X_train[rand_index],3).reshape(x_input_shape)\n",
    "    rand_y = y_train[rand_index].reshape(batch_size)\n",
    "    train_dict = {x_input:rand_x,y_target:rand_y}\n",
    "    sess.run(train_step,feed_dict=train_dict)\n",
    "    \n",
    "    temp_train_loss,temp_train_preds = sess.run([loss,prediction],feed_dict=train_dict)\n",
    "    temp_train_acc = get_accuracy(temp_train_preds,rand_y)\n",
    "    if (i+1)%eval_every == 0:\n",
    "        eval_index = np.random.choice(len(X_test),size=evaluation_size)\n",
    "        eval_x = np.expand_dims(X_test[eval_index],3).reshape(eval_input_shape)\n",
    "        eval_y = y_test[eval_index].reshape(evaluation_size)\n",
    "        test_dict = {eval_input:eval_x,eval_target:eval_y}\n",
    "        test_preds = sess.run(test_prediction,feed_dict=test_dict)\n",
    "        temp_test_acc = get_accuracy(test_preds,eval_y)\n",
    "        \n",
    "        train_loss.append(temp_train_loss)\n",
    "        train_acc.append(temp_train_acc)\n",
    "        test_acc.append(temp_test_acc)\n",
    "        \n",
    "        if (i+1)%50==0:\n",
    "            print('Generation # {}, Train Loss: {}, Train Acc: {}, Test_acc : {}'\\\n",
    "                  .format(i+1,temp_train_loss,temp_train_acc,temp_test_acc))"
   ]
  },
  {
   "cell_type": "code",
   "execution_count": 16,
   "metadata": {},
   "outputs": [
    {
     "name": "stderr",
     "output_type": "stream",
     "text": [
      "No handles with labels found to put in legend.\n"
     ]
    },
    {
     "data": {
      "image/png": "[encoded data removed]",
      "text/plain": [
       "<Figure size 432x288 with 2 Axes>"
      ]
     },
     "metadata": {
      "needs_background": "light"
     },
     "output_type": "display_data"
    }
   ],
   "source": [
    "eval_indices = range(0,generations,eval_every)\n",
    "fig,ax = plt.subplots(1,2)\n",
    "\n",
    "ax[0].plot(eval_indices,train_loss,'k-')\n",
    "ax[0].set_title('Softmax Loss per Generation')\n",
    "ax[0].set_xlabel('Generation')\n",
    "ax[0].set_ylabel('Softmax Loss')\n",
    "ax[1].legend(loc='best')\n",
    "\n",
    "ax[1].plot(eval_indices,train_acc,'k--',label='Train Set Accuracy')\n",
    "ax[1].plot(eval_indices,test_acc,'r-',label='Test Set Accuracy')\n",
    "ax[1].set_title('Train and Test Accuracy')\n",
    "ax[1].set_xlabel('Generation')\n",
    "ax[1].set_ylabel('Accuracy')\n",
    "ax[1].legend(loc='best')\n",
    "\n",
    "plt.tight_layout()"
   ]
  },
  {
   "cell_type": "markdown",
   "metadata": {},
   "source": [
    "# Implementing an advanced CNN\n",
    "신경망의 깊이를 늘리는 것은 CNN 모델을 이미지 인식으로 확장시키는 것에 매우 중요하다. 만일 충분한 데이터가 있다면 모델 예측의 정확도는 높아질 것이다. CNN 모델의 깊이를 늘리는 것은 표준화된 방식이 있는데 convolution, max pool, ReLU를 세트로 만족할만한 성과가 나오는 깊이까지 확장하는 것이다. \n",
    "\n",
    "CIFAR 10 데이터를 이용해 CNN을 사용해보기로 한다. 32x32사이즈의 이미지가 10개의 클래스로 나뉜다.\n",
    "\n",
    "대부분의 이미지는 메모리에 fit하기에 너무 큰 경우가 많다. 텐서플로우를 통해 할 수 있는 것은 파일로부터 한번에 한개의 배치만을 읽어오는 파이프라인을 세팅하는 것이다. 이런 것을 하기 위해 image reader를 세팅하고 image reader에서 동작하는 batch queue를 만들기로한다.\n",
    "\n",
    "또 이미지 인식에 있어서 학습을 위해 이미지를 보내기 이전에 무작위로 perturb(동요하게 하다?)하는 것이 일반적이다. 우리는 무작위로 crop하고 flip하고 밝기를 변화시키도록 한다."
   ]
  },
  {
   "cell_type": "code",
   "execution_count": 3,
   "metadata": {},
   "outputs": [],
   "source": [
    "# 1. \n",
    "import os\n",
    "import tarfile\n",
    "from six.moves import urllib\n",
    "sess = tf.Session()"
   ]
  },
  {
   "cell_type": "code",
   "execution_count": 4,
   "metadata": {},
   "outputs": [],
   "source": [
    "# 2. 모델 파라미터를 정의\n",
    "batch_size = 128\n",
    "output_every = 50\n",
    "generations = 20000\n",
    "eval_every = 500\n",
    "image_height = 32\n",
    "image_width = 32\n",
    "\n",
    "crop_height = 24\n",
    "crop_width = 24\n",
    "\n",
    "num_channels = 3   # red, green, blue\n",
    "num_targets = 10\n",
    "\n",
    "data_dir = 'temp'\n",
    "extract_folder = 'cifar-10-batches-bin'"
   ]
  },
  {
   "cell_type": "code",
   "execution_count": 5,
   "metadata": {},
   "outputs": [],
   "source": [
    "# 3. learning rate를 점차적으로 (exponentially하게) 줄여나갈 것이다. 0.1*(0.9^(x/250)), x는 현재 generation number,\n",
    "# 기본적으로 연속적으로 줄여나가게 되지만 텐서플로우는 계산의 형태로 인자를 받는다.\n",
    "learning_rate = 0.1\n",
    "lr_decay = 0.9\n",
    "num_gens_to_wait = 250.\n",
    "\n",
    "# 4. binary CIFAR-10 image를 읽을 수 있게 파라미터 설정\n",
    "image_vec_length = image_height * image_width * num_channels\n",
    "record_length = 1+image_vec_length"
   ]
  },
  {
   "cell_type": "code",
   "execution_count": 19,
   "metadata": {},
   "outputs": [],
   "source": [
    "os.makedirs('temp')"
   ]
  },
  {
   "cell_type": "code",
   "execution_count": 21,
   "metadata": {},
   "outputs": [],
   "source": [
    "# 5.CIFAR-10 이미지를 다운 받을 url과 디렉토리\n",
    "\n",
    "if not os.path.exists(data_dir):\n",
    "    os.makedirs(data_dir)\n",
    "cifar10_url = 'http://www.cs.toronto.edu/~kriz/cifar-10-binary.tar.gz'\n",
    "data_file = os.path.join(data_dir,'cifat-10-binary.tar.gz')\n",
    "if not os.path.isfile(data_file):\n",
    "    # Download file\n",
    "    filepath,_ = urllib.request.urlretrieve(cifar10_url,data_file)"
   ]
  },
  {
   "cell_type": "code",
   "execution_count": 22,
   "metadata": {},
   "outputs": [],
   "source": [
    "# 압축풀기\n",
    "tarfile.open(filepath,'r:gz').extractall(data_dir)"
   ]
  },
  {
   "cell_type": "code",
   "execution_count": 13,
   "metadata": {},
   "outputs": [],
   "source": [
    "# 6. record reader를 세팅하고 무작위적으로 distorted된 이미지를 반환하는 함수\n",
    "def read_cifar_files(filename_queue,distorted_images=True):\n",
    "    reader = tf.FixedLengthRecordReader(record_bytes=record_length)\n",
    "    key, record_string = reader.read(filename_queue)\n",
    "    record_bytes = tf.decode_raw(input_bytes = record_string, out_type=tf.uint8)\n",
    "    # Extract Label\n",
    "    image_label = tf.cast(tf.slice(record_bytes, [0],[1]),tf.int32)\n",
    "    # Extract Image\n",
    "    image_extracted = tf.reshape(tf.slice(record_bytes,[1],[image_vec_length]),[num_channels,image_height,image_width])\n",
    "    # Reshape image\n",
    "    image_unit8image = tf.transpose(image_extracted,[1,2,0])\n",
    "    reshaped_image = tf.cast(image_unit8image, tf.float32)\n",
    "    # Randomly Crop image\n",
    "    final_image = tf.image.resize_image_with_crop_or_pad(reshaped_image,crop_width,crop_height)\n",
    "    \n",
    "    if distorted_images:\n",
    "        # Randomly flip the image horizontally, change the brightness and contrast\n",
    "        final_image = tf.image.random_flip_left_right(final_image)\n",
    "        final_image = tf.image.random_brightness(final_image,max_delta=63)\n",
    "        final_image = tf.image.random_contrast(final_image,lower=0.2,upper=1.8)\n",
    "    \n",
    "    # Normalize whitening\n",
    "    final_image = tf.image.per_image_standardization(final_image)\n",
    "    return final_image, image_label"
   ]
  },
  {
   "cell_type": "code",
   "execution_count": 7,
   "metadata": {},
   "outputs": [],
   "source": [
    "# 7. 배치 프로세서에 대해 이미지 파이프라인을 채우는 함수를 선언\n",
    "# 우선 읽어들이고자 하는 파일 리스트를 세팅, \n",
    "# 텐서플로우 내장함수를 통해 생성된 input producer object로 이미지를 읽을 방법을 설정해야한다.\n",
    "# input producer가 위에서 정의한 함수(read_cifar_files)를 통해 전해지면, batch reader를 queue에서 정의한다.(shuffle_batch() 통해)\n",
    "def input_pipeline(batch_size, train_logical=True):\n",
    "    if train_logical:\n",
    "        files = [os.path.join(data_dir,extract_folder,'data_batch_{}.bin'.format(i)) for i in range(1,6)]\n",
    "    else:\n",
    "        files = [os.path.join(data_dir,extract_folder,'test_batch.bin')]\n",
    "    filename_queue = tf.train.string_input_producer(files)\n",
    "    image, label = read_cifar_files(filename_queue)\n",
    "    min_after_dequeue = 1000  # 설정이 매우 중요. 샘플링에 관한 이미지 버퍼의 최소 사이즈로서 역할\n",
    "    capacity = min_after_dequeue +3*batch_size\n",
    "    example_batch, label_batch = tf.train.shuffle_batch([image,label], batch_size,capacity,min_after_dequeue)\n",
    "    return example_batch, label_batch"
   ]
  },
  {
   "cell_type": "code",
   "execution_count": 18,
   "metadata": {},
   "outputs": [],
   "source": [
    "# 8. 모델 함수를 정의, 두 개의 convolutional layer와 세 개의 fully-connected layer\n",
    "# 변수 선언을 더 쉽게 하기 위해 두 개의 variable function을 선언한다. \n",
    "# 두 convolutional 층은 각각 64개의 feature를 생성한다. \n",
    "# 첫 번째 완전 연결층은 384개의 은닉 노드를 가지고 두 번째 convolutional layer와 연결된다.\n",
    "# 두 번째 완전 연결층은 384개의 노드를 192개의 노드로 연결한다. \n",
    "# 마지막 완전 연결층은 192개의 노드를 우리가 예측하려하는 10개의 클래스로 연결한다.\n",
    "\n",
    "def cifar_cnn_model(input_images, batch_size, train_logical=True):\n",
    "    def truncated_normal_var(name,shape,dtype):\n",
    "        return tf.get_variable(name=name, shape=shape, dtype=dtype,\n",
    "                              initializer=tf.truncated_normal_initializer(stddev=0.05))\n",
    "    def zero_var(name,shape,dtype):\n",
    "        return tf.get_variable(name=name, shape=shape, dtype=dtype,\n",
    "                               initializer=tf.constant_initializer(0.0))\n",
    "    # First Convolutional Layer\n",
    "    with tf.variable_scope('conv1') as scope:\n",
    "        # Conv_kernel is 5x5 for all 3 colors and we will create 64 features(3개의 특징을 받아 64개를 반환하는 5x5모양 필터)\n",
    "        conv1_kernel = truncated_normal_var(name='conv_kernel1',shape=[5,5,3,64],dtype=tf.float32)\n",
    "        # We convolve across the image with a stride size of 1\n",
    "        conv1 = tf.nn.conv2d(input_images,conv1_kernel,strides=[1,1,1,1],padding='SAME')\n",
    "        # Initialize and add the bias term\n",
    "        conv1_bias = zero_var(name='conv_bias1',shape=[64],dtype=tf.float32)\n",
    "        conv1_add_bias = tf.nn.bias_add(conv1, conv1_bias)\n",
    "        # ReLU element wise\n",
    "        relu_conv1 = tf.nn.relu(conv1_add_bias)\n",
    "        \n",
    "    # Max Pooling\n",
    "    pool1 = tf.nn.max_pool(relu_conv1, ksize=[1,3,3,1],strides=[1,2,2,1],padding='SAME',name='pool_layer1')\n",
    "    # Local Response Normalization\n",
    "    norm1 = tf.nn.lrn(pool1,depth_radius=5,bias=2.0,alpha=1e-3,beta=0.75,name='norm1')\n",
    "    \n",
    "    # Second Convolutional Layer\n",
    "    with tf.variable_scope('conv2') as scope:\n",
    "        # Conv kernel is 5x5, across all prior 64 features and we create 64 more features\n",
    "        conv2_kernel = truncated_normal_var(name='conv_kernel2',shape=[5,5,64,64],dtype=tf.float32)\n",
    "        # Convolve filter across prior output with stride size of 1\n",
    "        conv2 = tf.nn.conv2d(norm1,conv2_kernel,strides=[1,1,1,1],padding='SAME')\n",
    "        # Initialize and add the bias\n",
    "        conv2_bias = zero_var(name='conv_bias2',shape=[64],dtype=tf.float32)\n",
    "        conv2_add_bias = tf.nn.bias_add(conv2,conv2_bias)\n",
    "        # ReLU element wise\n",
    "        relu_conv2 = tf.nn.relu(conv2_add_bias)\n",
    "    \n",
    "    # Max Pooling\n",
    "    pool2 = tf.nn.max_pool(relu_conv2, ksize=[1,3,3,1],strides=[1,2,2,1],padding='SAME',name='pool_layer2')\n",
    "    # Local Response Normalization (parameters from paper)\n",
    "    norm2 = tf.nn.lrn(pool2,depth_radius=5, bias=2.0,alpha=1e-3,beta=0.75,name='norm2')\n",
    "    \n",
    "    # Reshape output into a single matrix for multiplication for the fullt connected layers\n",
    "    reshaped_output = tf.reshape(norm2 ,[batch_size,-1])\n",
    "    reshaped_dim = reshaped_output.get_shape()[1].value\n",
    "    \n",
    "    # First Fully Connected Layer\n",
    "    with tf.variable_scope('full1') as scope:\n",
    "        # Fully connected layer will have 384 outputs\n",
    "        full_weight1 = truncated_normal_var(name='full_mult1',shape=[reshaped_dim,384],dtype=tf.float32)\n",
    "        full_bias1 = zero_var(name='full_bias1',shape=[384],dtype=tf.float32)\n",
    "        full_layer1 = tf.nn.relu(tf.add(tf.matmul(reshaped_output,full_weight1),full_bias1))\n",
    "        \n",
    "    # Second Fully Connected Layer\n",
    "    with tf.variable_scope('full2') as scope:\n",
    "        # Second fully connected layer has 192 outputs\n",
    "        full_weight2 = truncated_normal_var(name='full_mult2',shape=[384,192],dtype=tf.float32)\n",
    "        full_bias2 = zero_var(name='full_bias2',shape=[192],dtype=tf.float32)\n",
    "        full_layer2 = tf.nn.relu(tf.add(tf.matmul(full_layer1,full_weight2),full_bias2))\n",
    "    \n",
    "    # Final Fullt connected layer -> 10 categories for outputs\n",
    "    with tf.variable_scope('full3') as scope:\n",
    "        # Finally fully connected layer has 10 outputs\n",
    "        full_weight3 = truncated_normal_var(name='full_mult3',shape=[192,num_targets],dtype=tf.float32)\n",
    "        full_bias3 = zero_var(name='full_bias3',shape=[num_targets],dtype=tf.float32)\n",
    "        final_output = tf.add(tf.matmul(full_layer2,full_weight3),full_bias3)\n",
    "        \n",
    "        return final_output"
   ]
  },
  {
   "cell_type": "code",
   "execution_count": 19,
   "metadata": {},
   "outputs": [],
   "source": [
    "# 9. loss 함수 정의\n",
    "def cifar_loss(logits,targets):\n",
    "    # 필요없는 차원을 제거하고 타겟을 정수로 cast\n",
    "    targets = tf.squeeze(tf.cast(targets, tf.int32))\n",
    "    # \n",
    "    cross_entropy = tf.nn.sparse_softmax_cross_entropy_with_logits(logits=logits, labels=targets)\n",
    "    # 배치 사이즈네서 loss의 평균을 계산\n",
    "    cross_entropy_mean = tf.reduce_mean(cross_entropy)\n",
    "    return cross_entropy_mean\n",
    "\n",
    "# 10. train_step을 정의, learing_rate가 점차적으로 줄어들 것(지수적으로)\n",
    "def train_step(loss_value,generation_num):\n",
    "    # Our learning rate is an exponential decay (stepped down)\n",
    "    # 위에서 해당 파라미터들은 이미 정의\n",
    "    model_learning_rate = tf.train.exponential_decay(learning_rate,generation_num,num_gens_to_wait,\n",
    "                                                    lr_decay,staircase=True)\n",
    "    # \n",
    "    my_optimizer = tf.train.GradientDescentOptimizer(model_learing_rate)\n",
    "    #\n",
    "    train_step = my_optimizer.minimize(loss_value)\n",
    "    \n",
    "    return train_step\n",
    "\n",
    "# 11. accuracy를 계산하는 함수, train과 test에 대해 각각 수행할 것\n",
    "def accuracy_of_batch(logits,targets):\n",
    "    # Make sure targets are integers and drop extra dimensions\n",
    "    targets = tf.squeeze(tf.cast(targets,tf.int32))\n",
    "    # Get predicted values by finding which logits is greatest\n",
    "    batch_predictions = tf.cast(tf.argmax(logits,1),tf.int32)\n",
    "    # Check if they are equal across the batch\n",
    "    predicted_correctly = tf.equal(batch_predictions,targets)\n",
    "    # Average the 1's and 0's across the batch size\n",
    "    accuracy = tf.reduce_meam(tf.cast(predicted_correctly,tf.float32))\n",
    "    \n",
    "    return accuracy"
   ]
  },
  {
   "cell_type": "code",
   "execution_count": null,
   "metadata": {},
   "outputs": [],
   "source": [
    "# 12. image_pipeline function을 이용해 train과 test image pipeline을 각각 구축\n",
    "images, targets = input_pipeline(batch_size,train_logical=True)\n",
    "test_image,test_image = input_pipeline(batch_size,train_logical=False)\n",
    "\n",
    "# 13. 학습 output과 테스트 output에 대한 모델을 초기화할 것이다. \n",
    "# 중요한 것은 모델을 학습시킨뒤 테스트 네트워크 선언시 \n",
    "# scope.reuse_variables()를 선언함으로써 같은 모델 파리미터를 사용하게 하는 것이다.\n",
    "\n",
    "with tf.variable_scope('model_definition') as scope:\n",
    "    # Declare the training network model\n",
    "    model_output = cifar_cnn_model(images,batch_size)\n",
    "    # Use same variables within scope\n",
    "    scope.reuse_variables()\n",
    "    # Declare test model output\n",
    "    test_output = cifar_cnn_model(test_images, batch_size)\n",
    "    "
   ]
  },
  {
   "cell_type": "code",
   "execution_count": null,
   "metadata": {},
   "outputs": [],
   "source": []
  }
 ],
 "metadata": {
  "kernelspec": {
   "display_name": "Python 3",
   "language": "python",
   "name": "python3"
  },
  "language_info": {
   "codemirror_mode": {
    "name": "ipython",
    "version": 3
   },
   "file_extension": ".py",
   "mimetype": "text/x-python",
   "name": "python",
   "nbconvert_exporter": "python",
   "pygments_lexer": "ipython3",
   "version": "3.7.4"
  }
 },
 "nbformat": 4,
 "nbformat_minor": 2
}
