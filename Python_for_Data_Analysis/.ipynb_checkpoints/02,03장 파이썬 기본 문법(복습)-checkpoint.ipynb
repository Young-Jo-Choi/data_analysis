{
 "cells": [
  {
   "cell_type": "code",
   "execution_count": 1,
   "metadata": {},
   "outputs": [
    {
     "data": {
      "text/plain": [
       "True"
      ]
     },
     "execution_count": 1,
     "metadata": {},
     "output_type": "execute_result"
    }
   ],
   "source": [
    "a=5\n",
    "isinstance(a,(int,str))\n",
    "# a의 타입이 int 혹은 str인지 판단하는 함수"
   ]
  },
  {
   "cell_type": "code",
   "execution_count": 2,
   "metadata": {},
   "outputs": [
    {
     "name": "stdout",
     "output_type": "stream",
     "text": [
      "this is a string\n",
      "this is a good string\n"
     ]
    }
   ],
   "source": [
    "a='this is a string'\n",
    "b=a.replace('string','good string')         # 문자열의 replace메서드\n",
    "print(a)\n",
    "print(b)"
   ]
  },
  {
   "cell_type": "code",
   "execution_count": 6,
   "metadata": {},
   "outputs": [
    {
     "data": {
      "text/plain": [
       "'4.56 Pesos are worth KR\\\\1000'"
      ]
     },
     "execution_count": 6,
     "metadata": {},
     "output_type": "execute_result"
    }
   ],
   "source": [
    "template = '{0:.2f} {1:s} are worth KR\\{2:d}'        # 형식 기억해놓기, 몇 번째 인자+ \n",
    "                                                     # 2f: 소수점 둘째까지 표시하는 부동소수점, s: 문자열, d: 정수\n",
    "\n",
    "# format 함수\n",
    "#첫 번째 인자는 소수점 2자리까지 표시하는 부동소수점 형태\n",
    "#두 번째 인자는 문자열\n",
    "#세 번째 인자는 정수\n",
    "template.format(4.5560,'Pesos',1000)"
   ]
  },
  {
   "cell_type": "code",
   "execution_count": 7,
   "metadata": {},
   "outputs": [
    {
     "data": {
      "text/plain": [
       "True"
      ]
     },
     "execution_count": 7,
     "metadata": {},
     "output_type": "execute_result"
    }
   ],
   "source": [
    "b = 5\n",
    "c = None\n",
    "b is not None         # None은 파이썬에서 사용하는 null 값, is 혹은 is not 함수도 기억"
   ]
  },
  {
   "cell_type": "code",
   "execution_count": 15,
   "metadata": {},
   "outputs": [
    {
     "name": "stdout",
     "output_type": "stream",
     "text": [
      "2011-10-29 20:30:21\n"
     ]
    }
   ],
   "source": [
    "from datetime import datetime, date, time\n",
    "\n",
    "dt1 = datetime(2011,10,29,20,30,21)\n",
    "dt2 = datetime(2011,10,30,4,16,33)\n",
    "delta = dt2 - dt1      # datetime  객체간 차는 datetime.timedelta 객체로 반환됨\n",
    "print(dt2-delta)"
   ]
  },
  {
   "cell_type": "code",
   "execution_count": 12,
   "metadata": {},
   "outputs": [
    {
     "name": "stdout",
     "output_type": "stream",
     "text": [
      "10/29/2011\n",
      "2009-10-31 00:00:00\n"
     ]
    }
   ],
   "source": [
    "# 둘 다 날짜 형식을 변경하는데 strftime은 객체에 직접 쓰이고 datetime.strptime 메서드로 쓰임\n",
    "\n",
    "print(dt.strftime('%m/%d/%Y'))\n",
    "print(datetime.strptime('20091031','%Y%m%d'))"
   ]
  },
  {
   "cell_type": "raw",
   "metadata": {},
   "source": [
    "for, while, if, range 등은 생략\n",
    "(if 문은 한 줄로도 나타낼 수 있다.)\n",
    "(pass를 사용하면 어떤 작업도 실행하지 않음-->if 문에서 활용)"
   ]
  },
  {
   "cell_type": "markdown",
   "metadata": {},
   "source": [
    "# 튜플"
   ]
  },
  {
   "cell_type": "code",
   "execution_count": 13,
   "metadata": {},
   "outputs": [
    {
     "name": "stdout",
     "output_type": "stream",
     "text": [
      "(4, 6, 8, 's', 't', 'r', 'i', 'n', 'g')\n"
     ]
    }
   ],
   "source": [
    "# tuple()함수는 순차자료형이나 이터레이터를 튜플로 변환시켜줌\n",
    "\n",
    "a = [4,6,8]\n",
    "b = 'string'\n",
    "c = tuple(a)\n",
    "d = tuple(b)\n",
    "print(c+d)"
   ]
  },
  {
   "cell_type": "code",
   "execution_count": 18,
   "metadata": {},
   "outputs": [
    {
     "name": "stdout",
     "output_type": "stream",
     "text": [
      "5\n",
      "v: 2  w: 1\n"
     ]
    }
   ],
   "source": [
    "# 튜플에서 값 분리\n",
    "\n",
    "tup = (4,5,6)\n",
    "a,b,c = tup       #튜플을 중첩해서 사용할 수도 있음\n",
    "print(b)\n",
    "\n",
    "v=1; w=2\n",
    "w,v = v,w       # 두 변수의 순서를 뒤바꿀 수 있다.\n",
    "print('v:',v,' w:',w)"
   ]
  },
  {
   "cell_type": "code",
   "execution_count": 19,
   "metadata": {},
   "outputs": [
    {
     "name": "stdout",
     "output_type": "stream",
     "text": [
      "1 2\n",
      "[3, 4, 5]\n"
     ]
    }
   ],
   "source": [
    "# 길이를 알 수 없는 인자를 담기 위해 * 사용\n",
    "\n",
    "values=1,2,3,4,5\n",
    "a,b,*rest = values  #rest라는 이름 자체는 의미가 없으므로 *_를 사용하기도 함\n",
    "print(a,b)\n",
    "print(rest)"
   ]
  },
  {
   "cell_type": "code",
   "execution_count": 40,
   "metadata": {},
   "outputs": [
    {
     "data": {
      "text/plain": [
       "(1, 2, 3, [4, 5, 6, 7])"
      ]
     },
     "execution_count": 40,
     "metadata": {},
     "output_type": "execute_result"
    }
   ],
   "source": [
    "tup=(1,2,3,[4,5,6])\n",
    "tup[3].append(7)          # 이런 식으로 튜플 내부의 리스트를 바꿔주는 것은 가능\n",
    "tup"
   ]
  },
  {
   "cell_type": "raw",
   "metadata": {},
   "source": [
    "튜플의 메서드 tup.count(value)도 존재"
   ]
  },
  {
   "cell_type": "markdown",
   "metadata": {},
   "source": [
    "# 리스트"
   ]
  },
  {
   "cell_type": "raw",
   "metadata": {},
   "source": [
    "append 대신 list.insert(1,‘something’)을 사용하면 원하는 위치에 값을 추가할 수 있음. \n",
    "단, append에 비해 연산 비용이 많이 든다.\n",
    "pop 메서드는 특정 위치의 값을 반환하고 해당 값을 리스트에서 삭제"
   ]
  },
  {
   "cell_type": "code",
   "execution_count": 21,
   "metadata": {},
   "outputs": [
    {
     "data": {
      "text/plain": [
       "7"
      ]
     },
     "execution_count": 21,
     "metadata": {},
     "output_type": "execute_result"
    }
   ],
   "source": [
    "values=[1,3,5,7,9]\n",
    "values.pop(3)    #()안에는 위치 값을 넣는 것"
   ]
  },
  {
   "cell_type": "code",
   "execution_count": 22,
   "metadata": {},
   "outputs": [
    {
     "data": {
      "text/plain": [
       "[1, 3, 5, 9]"
      ]
     },
     "execution_count": 22,
     "metadata": {},
     "output_type": "execute_result"
    }
   ],
   "source": [
    "values"
   ]
  },
  {
   "cell_type": "raw",
   "metadata": {},
   "source": [
    "list.remove()를 이용하면 앞에서부터 해당 원소(위치값X)를 삭제해나감\n",
    "\n",
    "list.extend( , , .... )를 이용하면 여러 개의 값을 추가할 수 있음\n",
    "(큰 리스트일수록 연산비용을 줄이기 위해 append보다는 extend가 나은 선택임)\n",
    "추가로 +로 이어붙히는 것보다 extend를 이용하는 것이 더 빠르다(반복문)."
   ]
  },
  {
   "cell_type": "code",
   "execution_count": 24,
   "metadata": {},
   "outputs": [
    {
     "data": {
      "text/plain": [
       "['saw', 'small', 'singer', 'six dollar', 'South Korea']"
      ]
     },
     "execution_count": 24,
     "metadata": {},
     "output_type": "execute_result"
    }
   ],
   "source": [
    "a = ['saw','small','singer','South Korea','six dollar']\n",
    "\n",
    "# list.sort()를 이용하면 리스트 정렬 #()안에 key=len을 넣음으로서 길이 순 정렬도 가능\n",
    "a.sort(key=len)\n",
    "a"
   ]
  },
  {
   "cell_type": "code",
   "execution_count": 25,
   "metadata": {},
   "outputs": [
    {
     "name": "stdout",
     "output_type": "stream",
     "text": [
      "[1, 14, 43, 55, 69, 87]\n",
      "[1, 69, 43, 14, 87, 55]\n"
     ]
    }
   ],
   "source": [
    "# 순차자료형의 정렬된 복사본을 생성하는 sorted함수도 있음.\n",
    "\n",
    "values=[1,69,43,14,87,55]\n",
    "a=sorted(values)\n",
    "print(a)\n",
    "print(values)"
   ]
  },
  {
   "cell_type": "markdown",
   "metadata": {},
   "source": [
    "이진 탐색과 정렬된 리스트 유지하기(bisect 모듈)"
   ]
  },
  {
   "cell_type": "code",
   "execution_count": 26,
   "metadata": {},
   "outputs": [
    {
     "data": {
      "text/plain": [
       "5"
      ]
     },
     "execution_count": 26,
     "metadata": {},
     "output_type": "execute_result"
    }
   ],
   "source": [
    "import bisect\n",
    "\n",
    "a=[4, 5, 12, 13, 34, 222, 2312]\n",
    "bisect.bisect(a,221)   # 221이 리스트에 추가될 때 어느 위치에 있어야 정렬 상태 유지할 수 있는지 반환"
   ]
  },
  {
   "cell_type": "code",
   "execution_count": 28,
   "metadata": {},
   "outputs": [
    {
     "data": {
      "text/plain": [
       "[4, 5, 12, 13, 34, 221, 221, 222, 2312]"
      ]
     },
     "execution_count": 28,
     "metadata": {},
     "output_type": "execute_result"
    }
   ],
   "source": [
    "bisect.insort(a,221)  # 221을 실제 적절한 위치에 추가한 채로 반환\n",
    "a"
   ]
  },
  {
   "cell_type": "raw",
   "metadata": {},
   "source": [
    "bisect 모듈함수는 정렬되지 않는 리스트에 대해서는 부정확한 결과를 반환함"
   ]
  },
  {
   "cell_type": "markdown",
   "metadata": {},
   "source": [
    "슬라이싱"
   ]
  },
  {
   "cell_type": "raw",
   "metadata": {},
   "source": [
    "list[1:5] 와 같은 방식. list[3:4]=[6,3] 같은 방법으로 원소 바꿔주는 것도 가능\n",
    "\n",
    "두 번째 콜론 다음에 간격(step)을 지정할 수도 있음. \n",
    "list[::2]--> 하나씩 걸러서 다음 원소를 선택한 리스트가 반환될 것\n",
    "\n",
    "[::-1]을 사용하면 리스트나 튜플을 역순으로 반환"
   ]
  },
  {
   "cell_type": "markdown",
   "metadata": {},
   "source": [
    "# 내장 순차 자료형 함수"
   ]
  },
  {
   "cell_type": "markdown",
   "metadata": {},
   "source": [
    "enumerate"
   ]
  },
  {
   "cell_type": "code",
   "execution_count": 29,
   "metadata": {},
   "outputs": [
    {
     "name": "stdout",
     "output_type": "stream",
     "text": [
      "{'Korea': 0, 'China': 1, 'Japan': 2}\n",
      "{0: 'Korea', 1: 'China', 2: 'Japan'}\n"
     ]
    }
   ],
   "source": [
    "# (i, value) 튜플을 반환하는 enumerate 함수\n",
    "\n",
    "some_list=['Korea','China','Japan']\n",
    "\n",
    "some_dict={}\n",
    "for i,v in enumerate(some_list):\n",
    "    some_dict[v]=i\n",
    "print(some_dict)\n",
    "\n",
    "some_dict={}\n",
    "for i,v in enumerate(some_list):\n",
    "    some_dict[i]=v                 #i는 list내 value들의 순서에 맞는 위치값(0~len-1)\n",
    "print(some_dict)"
   ]
  },
  {
   "cell_type": "markdown",
   "metadata": {},
   "source": [
    "zip"
   ]
  },
  {
   "cell_type": "code",
   "execution_count": 32,
   "metadata": {},
   "outputs": [
    {
     "data": {
      "text/plain": [
       "[('Korea', 'Seoul'), ('China', 'Beijing'), ('Japan', 'Tokyo')]"
      ]
     },
     "execution_count": 32,
     "metadata": {},
     "output_type": "execute_result"
    }
   ],
   "source": [
    "# 튜플이나 리스트끼리 짝(?)을 지어줌\n",
    "\n",
    "seq1 = ['Korea','China',\"Japan\"]\n",
    "seq2 = ['Seoul','Beijing','Tokyo']\n",
    "\n",
    "zipped = zip(seq1,seq2)\n",
    "list(zipped)"
   ]
  },
  {
   "cell_type": "code",
   "execution_count": 33,
   "metadata": {},
   "outputs": [
    {
     "name": "stdout",
     "output_type": "stream",
     "text": [
      "0:Korea,Seoul\n",
      "1:China,Beijing\n",
      "2:Japan,Tokyo\n"
     ]
    }
   ],
   "source": [
    "# 응용   (여러 개의 순차 자료형을 동시에 순회하는 경우에 아주 많이 사용됨)\n",
    "\n",
    "seq1=['Korea','China',\"Japan\"]\n",
    "seq2=['Seoul','Beijing','Tokyo']\n",
    "\n",
    "for i,(a,b) in enumerate(zip(seq1,seq2)):\n",
    "    print('{0}:{1},{2}'.format(i,a,b))"
   ]
  },
  {
   "cell_type": "code",
   "execution_count": 34,
   "metadata": {},
   "outputs": [
    {
     "name": "stdout",
     "output_type": "stream",
     "text": [
      "('Korea', 'China', 'Japan')\n",
      "('Seoul', 'Beijing', 'Tokyo')\n"
     ]
    }
   ],
   "source": [
    "# 다시 풀어내기\n",
    "\n",
    "zipped = [('Korea', 'Seoul'), ('China', 'Beijing'), ('Japan', 'Tokyo')]   # 튜플의 리스트\n",
    "first,last = zip(*zipped)  \n",
    "print(first)\n",
    "print(last)"
   ]
  },
  {
   "cell_type": "markdown",
   "metadata": {},
   "source": [
    "reversed"
   ]
  },
  {
   "cell_type": "code",
   "execution_count": 35,
   "metadata": {},
   "outputs": [
    {
     "data": {
      "text/plain": [
       "[9, 8, 7, 6, 5, 4, 3, 2, 1, 0]"
      ]
     },
     "execution_count": 35,
     "metadata": {},
     "output_type": "execute_result"
    }
   ],
   "source": [
    "# 순차 자료형을 역순으로 순회\n",
    "\n",
    "list(reversed(range(10)))"
   ]
  },
  {
   "cell_type": "markdown",
   "metadata": {},
   "source": [
    "# 딕셔너리"
   ]
  },
  {
   "cell_type": "code",
   "execution_count": 36,
   "metadata": {},
   "outputs": [
    {
     "name": "stdout",
     "output_type": "stream",
     "text": [
      "{'a': 'John Lennon', 'd': 'Ringo Star'}\n",
      "Paul McCarteney\n"
     ]
    }
   ],
   "source": [
    "# del 예약어나 pop 메서드를 사용하여 값을 삭제할 수 있음\n",
    "\n",
    "beatles={'a':\"John Lennon\",'b':'Paul McCarteney','c':'Goerge Harrison','d':'Ringo Star'}\n",
    "del beatles['c']               # 여기서 한 번 삭제, c값은 어디에도 없음\n",
    "someone = beatles.pop('b')     # 두 번째 삭제. b값은 someone에 저장.beatles 리스트는 삭제된 채로 저장--> del과 pop 차이\n",
    "print(beatles)\n",
    "print(someone)"
   ]
  },
  {
   "cell_type": "raw",
   "metadata": {},
   "source": [
    "dict.update(other_dictionary) \n",
    "-->두 딕셔너리를 합치고 충돌하는 키는 other_dictionary를 따름"
   ]
  },
  {
   "cell_type": "markdown",
   "metadata": {},
   "source": [
    "setdefault 메서드"
   ]
  },
  {
   "cell_type": "code",
   "execution_count": 38,
   "metadata": {},
   "outputs": [
    {
     "data": {
      "text/plain": [
       "{'a': ['apple', 'atom'], 'b': ['bat', 'bar', 'book']}"
      ]
     },
     "execution_count": 38,
     "metadata": {},
     "output_type": "execute_result"
    }
   ],
   "source": [
    "words=['apple','bat','bar','atom','book']\n",
    "by_letter={}\n",
    "for word in words:\n",
    "    letter = word[0]\n",
    "    # if letter not in by_letter:\n",
    "        # by_letter[letter] = [word]\n",
    "    # else:\n",
    "        # by_letter[letter].append(word)\n",
    "    by_letter.setdefault(letter,[]).append(word)    # 위의 # 부분과 같은 역할, letter별로 리스트를 만들어 word를 추가\n",
    "by_letter"
   ]
  },
  {
   "cell_type": "code",
   "execution_count": 39,
   "metadata": {},
   "outputs": [
    {
     "name": "stdout",
     "output_type": "stream",
     "text": [
      "defaultdict(<class 'list'>, {'a': ['apple', 'atom'], 'b': ['bat', 'bar', 'book']})\n"
     ]
    }
   ],
   "source": [
    "# 혹은 collection 모듈의 defaultdict 클래스를 이용할 수 있음\n",
    "\n",
    "words=['apple','bat','bar','atom','book']\n",
    "from collections import defaultdict\n",
    "by_letter = defaultdict(list)\n",
    "for word in words:\n",
    "    by_letter[word[0]].append(word)     # word[0]별로 word를 묶어 딕셔너리 구성\n",
    "print(by_letter)"
   ]
  },
  {
   "cell_type": "raw",
   "metadata": {},
   "source": [
    "사전의 값으로는 어떤 파이썬 객체도 가능하지만 키는 스칼라형(정수,실수,문자열)이나 튜플(튜플에 저장된 값 역시 바뀌지 않는 객체)처럼 값이 바뀌지 않는 객체만 가능하다. (기술적으로 해시 가능해야 한다는 뜻)"
   ]
  },
  {
   "cell_type": "markdown",
   "metadata": {},
   "source": [
    "# set"
   ]
  },
  {
   "cell_type": "raw",
   "metadata": {},
   "source": [
    "집합간 연산 메서드\n",
    "\n",
    "a.add(x)\n",
    "a.clear() 모든 원소를 제거하고 빈 상태로 되돌림\n",
    "a.remove(x)\n",
    "a.pop() a에서 임의의 원소를 제거. 비어있는 경우 keyError를 발생\n",
    "a.union(b) 혹은 a|b\n",
    "a.update(b) 혹은 a|=b  a에 a와 b의 합집합을 대입한다.\n",
    "a.inetsetion(b) 혹은 a&b\n",
    "a.intersection_update(b) 혹은 a&=b  a에 a와 b의 교집합을 대입한다.\n",
    "a.difference(b) 혹은 a-b\n",
    "a.difference_update(b) 혹은 a-=b\n",
    "a.symmetric_difference(b) 혹은 a^b a와 b의 대칭차집합\n",
    "a.symmetric_difference_update(b) 혹은 a^=b\n",
    "a.issubset(b) a가 b의 부분집합일 때 True\n",
    "a.issuperset(b) a가 b의 초집합일 때 True\n",
    "a.isdisjoint(b) a와 b가 disjoint할 때 "
   ]
  },
  {
   "cell_type": "markdown",
   "metadata": {},
   "source": [
    "# 리스트, 집합, 사전 표기법"
   ]
  },
  {
   "cell_type": "raw",
   "metadata": {},
   "source": [
    "[expr for val in collection if condition]\n",
    "\n",
    "dict_comp = {key-expr : value-expr for value in collection if condition}\n",
    "혹은 {val : index for index, val in enumerate(strings)}\n",
    "\n",
    "set_comp = {expr for val in collection if condition}"
   ]
  },
  {
   "cell_type": "markdown",
   "metadata": {},
   "source": [
    "중첩된 리스트의 표기법"
   ]
  },
  {
   "cell_type": "code",
   "execution_count": 42,
   "metadata": {},
   "outputs": [
    {
     "data": {
      "text/plain": [
       "[1, 2, 3, 4, 5, 6, 7, 8, 9]"
      ]
     },
     "execution_count": 42,
     "metadata": {},
     "output_type": "execute_result"
    }
   ],
   "source": [
    "# result = [name for names in all_data for name in names if name.count(‘e’)>=2] 이런 식으로 여러 번의 for문,if문 중첩적용가능 \n",
    "\n",
    "some_tuple = [(1,2,3),(4,5,6),(7,8,9)]\n",
    "flattened = [x for tup in some_tuple for x in tup]   # for문이 연속적일 때 앞의 for문부터 적용\n",
    "flattened"
   ]
  },
  {
   "cell_type": "code",
   "execution_count": 43,
   "metadata": {},
   "outputs": [
    {
     "data": {
      "text/plain": [
       "[[1, 2, 3], [4, 5, 6], [7, 8, 9]]"
      ]
     },
     "execution_count": 43,
     "metadata": {},
     "output_type": "execute_result"
    }
   ],
   "source": [
    "some_tuple = [(1,2,3),(4,5,6),(7,8,9)]\n",
    "flattened = [[x for x in tup] for tup in some_tuple]   # 비슷하나 이런 경우는 순서가 다르게 됨\n",
    "flattened"
   ]
  },
  {
   "cell_type": "markdown",
   "metadata": {},
   "source": [
    "# 함수"
   ]
  },
  {
   "cell_type": "markdown",
   "metadata": {},
   "source": [
    "함수도 객체로서 리스트에 담아둘 수 있다"
   ]
  },
  {
   "cell_type": "code",
   "execution_count": 45,
   "metadata": {},
   "outputs": [
    {
     "name": "stdout",
     "output_type": "stream",
     "text": [
      "['Alabama', 'Georgia', 'Georgia', 'Georgia', 'Florida', 'Southcarolina', 'West Virginia']\n"
     ]
    }
   ],
   "source": [
    "states=['Alabama','Georgia!','Georgia','georgia','FlOrIda','southcarolina##','West virginia?']\n",
    "\n",
    "import re\n",
    "def remove_punctuation(value):\n",
    "    return re.sub('[!#?]','',value)        # re 라이브러리를 이용해 엉망인 문자열들을 정리할 것\n",
    "\n",
    "clean_ops = [str.strip, remove_punctuation,  str.title]     # 세 개의 원소 모두 함수\n",
    "\n",
    "def clean_strings(strings,ops):\n",
    "    result=[]\n",
    "    for value in strings:\n",
    "        for function in ops:           # 함수 리스트에서 함수들을 하나씩 불러와서 적용 중\n",
    "            value = function(value)\n",
    "        result.append(value)\n",
    "    return result\n",
    "\n",
    "print(clean_strings(states, clean_ops))"
   ]
  },
  {
   "cell_type": "code",
   "execution_count": 47,
   "metadata": {},
   "outputs": [
    {
     "name": "stdout",
     "output_type": "stream",
     "text": [
      "Alabama\n",
      "Georgia\n",
      "Georgia\n",
      "georgia\n",
      "FlOrIda\n",
      "southcarolina\n",
      "West virginia\n"
     ]
    }
   ],
   "source": [
    "# 내장 함수인 map을 이용하는 단순한 방법\n",
    "\n",
    "for x in map(remove_punctuation, states):\n",
    "    print(x)"
   ]
  },
  {
   "cell_type": "raw",
   "metadata": {},
   "source": [
    "참고)map 함수\n",
    "어떤 함수 f가 def든 lambda든 내장함수든 정의되어있다 할 때 \n",
    "map(f.a)는 f에 값 a를 넣었을 때의 값 반환 ( a.map(f) 같은 형태도 가능, f는 함수 대신 딕셔너리도 가능)"
   ]
  },
  {
   "cell_type": "markdown",
   "metadata": {},
   "source": [
    "익명함수(람다함수)"
   ]
  },
  {
   "cell_type": "raw",
   "metadata": {},
   "source": [
    "단순한 한 문장으로 이루어진 함수, lambda 예약어로 정의\n",
    "eq = lambda x:x*2\n",
    "eq(2)   -->(출력) 4"
   ]
  },
  {
   "cell_type": "code",
   "execution_count": 48,
   "metadata": {},
   "outputs": [
    {
     "data": {
      "text/plain": [
       "[8, 0, 2, 10, 12]"
      ]
     },
     "execution_count": 48,
     "metadata": {},
     "output_type": "execute_result"
    }
   ],
   "source": [
    "def apply_to_list(some_list, f):\n",
    "    return [f(x) for x in some_list]\n",
    "ints = [4,0,1,5,6]\n",
    "apply_to_list(ints, lambda x:x*2)"
   ]
  },
  {
   "cell_type": "code",
   "execution_count": 50,
   "metadata": {},
   "outputs": [
    {
     "data": {
      "text/plain": [
       "['aaaa', 'foo', 'abab', 'bar', 'card']"
      ]
     },
     "execution_count": 50,
     "metadata": {},
     "output_type": "execute_result"
    }
   ],
   "source": [
    "strings=['foo','card','bar','aaaa','abab']\n",
    "strings.sort(key=lambda x:len(set(list(x))))   # 집합으로 바꿨을 때의 길이를 기준으로 정렬\n",
    "strings"
   ]
  },
  {
   "cell_type": "markdown",
   "metadata": {},
   "source": [
    "itertools 함수"
   ]
  },
  {
   "cell_type": "raw",
   "metadata": {},
   "source": [
    "import itertools\n",
    "\n",
    "combinations(iterable,k) \n",
    "iterable에서 순서를 고려하지 않고 길이가 k인 모든 가능한 조합을 생성\n",
    "\n",
    "permutations(iterable,k)\n",
    "iterable에서 순서를 고려하여 길이가 k인 모든 가능한 조합을 생성 (집합론이나 통계 생각)\n",
    "\n",
    "groupby(iterable[ , keyfunc])\n",
    "iterable에서 각각의 고유한 키에 따라 그룹을 생성\n",
    "\n",
    "product(*iterables, repeat=1)\n",
    "iterable에서 카테시안 곱을 구한다. 중첩된 for문 사용과 비슷"
   ]
  },
  {
   "cell_type": "code",
   "execution_count": 54,
   "metadata": {},
   "outputs": [
    {
     "name": "stdout",
     "output_type": "stream",
     "text": [
      "('as', 'bb', 'qtq')\n",
      "('as', 'bb', 'n')\n",
      "('as', 'bb', 'hjky')\n",
      "('as', 'qtq', 'n')\n",
      "('as', 'qtq', 'hjky')\n",
      "('as', 'n', 'hjky')\n",
      "('bb', 'qtq', 'n')\n",
      "('bb', 'qtq', 'hjky')\n",
      "('bb', 'n', 'hjky')\n",
      "('qtq', 'n', 'hjky')\n"
     ]
    }
   ],
   "source": [
    "import itertools\n",
    "for i in itertools.combinations(['as','bb','qtq','n','hjky'],3):\n",
    "    print(i)"
   ]
  },
  {
   "cell_type": "markdown",
   "metadata": {},
   "source": [
    "# 에러와 예외처리"
   ]
  },
  {
   "cell_type": "raw",
   "metadata": {},
   "source": [
    "try:\n",
    "except(type of error, 생략가능, 여러 개 가능하나 이때는 괄호로 엮어야함):\n",
    "이미 아는 내용은 생략\n",
    "\n",
    "예외를 무시하지 않고, try블록의 코드가 성공적으로 수행되었는지 여부와 관계없이 실행시키고 싶은 코드는 finally 블록이용\n",
    "try:\n",
    "except:(생략 가능)\n",
    "finally:\n",
    "\n",
    "try블록이 성공적으로 되었을 경우만 수행할 코드-->else를 이용\n",
    "try:\n",
    "except:\n",
    "else: (except에 걸리지 않은 경우만 실행)\n",
    "finally:"
   ]
  },
  {
   "cell_type": "markdown",
   "metadata": {},
   "source": [
    "# 파일과 운영체제"
   ]
  },
  {
   "cell_type": "code",
   "execution_count": 7,
   "metadata": {},
   "outputs": [
    {
     "name": "stdout",
     "output_type": "stream",
     "text": [
      "or not to be\n",
      "\n"
     ]
    }
   ],
   "source": [
    "path = 'new_text.txt'      # to be /or not to be /that is the question\n",
    "f = open(path)\n",
    " #f에는 new_text의 줄들로 이터러블로 저장 (사실 문자열로 저장)\n",
    "for line in f:\n",
    "    if list(line)[0] == 't':\n",
    "        pass\n",
    "    else:\n",
    "        print(line)"
   ]
  },
  {
   "cell_type": "code",
   "execution_count": 8,
   "metadata": {},
   "outputs": [
    {
     "name": "stdout",
     "output_type": "stream",
     "text": [
      "['to be', 'or not to be', 'that is the question']\n"
     ]
    }
   ],
   "source": [
    "lines = [x.strip() for x in open(path)]\n",
    "print(lines)"
   ]
  },
  {
   "cell_type": "code",
   "execution_count": 9,
   "metadata": {},
   "outputs": [],
   "source": [
    "# 파일 객체를 생성하기 위해 open을 사용했다면 작업이 끝났을 때 명시적으로 닫아주어야함\n",
    "f.close()"
   ]
  },
  {
   "cell_type": "markdown",
   "metadata": {},
   "source": [
    "with"
   ]
  },
  {
   "cell_type": "code",
   "execution_count": 11,
   "metadata": {},
   "outputs": [
    {
     "name": "stdout",
     "output_type": "stream",
     "text": [
      "['to be', 'or not to be', 'that is the question']\n"
     ]
    }
   ],
   "source": [
    "# with 문을 사용하면 파일작업이 끝났을 때 필요한 작업을 쉽게 처리할 수 있다.\n",
    "\n",
    "path = 'new_text.txt'\n",
    "\n",
    "with open(path) as f:\n",
    "    lines = [x.rstrip() for x in f]\n",
    "    \n",
    "print(lines)\n",
    "       # with블록이 끝나는 시점 파일 핸들 f를 자동으로 닫아준다."
   ]
  },
  {
   "cell_type": "markdown",
   "metadata": {},
   "source": [
    "여러 가지 모드"
   ]
  },
  {
   "cell_type": "code",
   "execution_count": 12,
   "metadata": {},
   "outputs": [
    {
     "data": {
      "text/plain": [
       "'to be\\nor n'"
      ]
     },
     "execution_count": 12,
     "metadata": {},
     "output_type": "execute_result"
    }
   ],
   "source": [
    "path = 'new_text.txt'\n",
    "f=open(path)\n",
    "\n",
    "f.read(10)     #read 메서드는 해당 파일에서 특정 개수만큼 문자를 반환. 읽은 바이트만큼 핸들의 위치를 옮김"
   ]
  },
  {
   "cell_type": "code",
   "execution_count": 13,
   "metadata": {},
   "outputs": [
    {
     "data": {
      "text/plain": [
       "b'to be\\r\\nor '"
      ]
     },
     "execution_count": 13,
     "metadata": {},
     "output_type": "execute_result"
    }
   ],
   "source": [
    "f2=open(path,'rb')     # 이진 모드\n",
    "f2.read(10)            # 바이트 크기로 결정"
   ]
  },
  {
   "cell_type": "code",
   "execution_count": 15,
   "metadata": {},
   "outputs": [
    {
     "name": "stdout",
     "output_type": "stream",
     "text": [
      "14\n",
      "13\n"
     ]
    }
   ],
   "source": [
    "path = 'new_text.txt'\n",
    "f=open(path)\n",
    "f2=open(path,'rb')\n",
    "f.read(13)\n",
    "f2.read(13)\n",
    "\n",
    "print(f.tell())       # tell은 현재 위치를 알려줌(read에 의해 파일 핸들의 위치 옮겨짐)\n",
    "                      # 기본 인코딩에서 13개의 문자를 디코딩하기 위해 그 만큼의 바이트 필요했기 때문에 위치가 14임\n",
    "print(f2.tell())"
   ]
  },
  {
   "cell_type": "raw",
   "metadata": {},
   "source": [
    "파이썬 파일 모드(open(path,‘w’)처럼 설정)\n",
    "\n",
    "r 읽기 전용\n",
    "w 쓰기 전용. 새로운 파일을 생성한다. 같은 이름의 파일이 존재하면 덮어씀\n",
    "x 쓰기 전용. 새로운 파일을 생성한다. 같은 이름의 파일이 존재하면 실패\n",
    "a 기존 파일에 추가(파일이 존재하지 않을 경우 새로 생성)\n",
    "r+ 읽기/쓰기 모드\n",
    "b 이진 파일모드. 읽기 쓰기에 추가해서 ‘rb’,‘wb’처럼 사용\n",
    "t 텍스트 모드(자동으로 바이트를 유니코드로 디코딩), 모드를 지정하지 않으면 t가 기본 모드. 다른 모드에 추가해서 ‘rt’ 또는            ‘xt’로 사용"
   ]
  },
  {
   "cell_type": "code",
   "execution_count": 20,
   "metadata": {},
   "outputs": [
    {
     "name": "stdout",
     "output_type": "stream",
     "text": [
      "to be\n",
      "\n",
      "or not to be\n",
      "\n",
      "that is the question\n"
     ]
    }
   ],
   "source": [
    "# 파일에 텍스트를 기록하려면 write나 writelines 메서드를 사용\n",
    "\n",
    "path = 'new_text.txt'\n",
    "with open('making.txt','w') as handle:\n",
    "    handle.writelines(x for x in open(path) if len(x) > 1)  #빈 줄은 제외, 같은 내용의 파일 만들어짐\n",
    "    \n",
    "f = open('making.txt')\n",
    "for line in f:\n",
    "    print(line)\n",
    "f.close()"
   ]
  },
  {
   "cell_type": "raw",
   "metadata": {},
   "source": [
    "중요 file 메서드와 속성\n",
    "\n",
    "read([size]) \n",
    "파일에서 데이터를 읽어서 문자열로 반환. size인자를 사용해서 몇 바이트를 읽을 것인지 지정할 수 있음\n",
    "readlines([size])\n",
    "파일의 매 줄을 모두 읽어 리스트로 반환. size인자를 사용해서 얼마나 읽을 것인지 지정할 수 있음\n",
    "write(str) 전달받은 문자열을 파일에 기록\n",
    "writelines(strings) 전달받은 일련의 문자열(리스트도 받는다는 의미)을 파일에 기록\n",
    "close() 파일 핸들을 닫는다\n",
    "flush() 내부 I/O 버퍼를 디스크로 비운다.\n",
    "seek(pos) 파일 내에서 지정한 위치(정수)로 이동한다.\n",
    "tell() 현재 파일의 위치를 정수 형태로 반환한다.\n",
    "closed 파일 핸들이 닫힌 경우 True를 반환한다."
   ]
  },
  {
   "cell_type": "code",
   "execution_count": null,
   "metadata": {},
   "outputs": [],
   "source": []
  }
 ],
 "metadata": {
  "kernelspec": {
   "display_name": "Python 3",
   "language": "python",
   "name": "python3"
  },
  "language_info": {
   "codemirror_mode": {
    "name": "ipython",
    "version": 3
   },
   "file_extension": ".py",
   "mimetype": "text/x-python",
   "name": "python",
   "nbconvert_exporter": "python",
   "pygments_lexer": "ipython3",
   "version": "3.7.4"
  }
 },
 "nbformat": 4,
 "nbformat_minor": 2
}
