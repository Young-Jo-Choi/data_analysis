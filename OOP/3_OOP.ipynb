{
 "cells": [
  {
   "cell_type": "markdown",
   "metadata": {},
   "source": [
    "Class : 설계도\n",
    "Instance(Object) : 실제 데이터 -> 하나의 class로 만들어진 여러 instance는 독립적\n",
    "\n",
    "# OOP 원칙\n",
    "1. encapsulation : 객체의 attribute와 method를 하나로 묶고, 구현된 일부를 외부에 감추어 은닉\n",
    "2. abstaction : 불필요한 정보를 숨기고 정보만을 표현해 공통의 attribute이나 method를 하나로 묶어 이름 붙임\n",
    "3. Inheritance\n",
    "4. Polymorphism(다형성) : 여러 형태를 가질 수 있도록"
   ]
  },
  {
   "cell_type": "markdown",
   "metadata": {},
   "source": []
  }
 ],
 "metadata": {
  "interpreter": {
   "hash": "2e8b6890d6f7ba600d9541ee22917f92b035a5c9a232c91e200e24e1049a63c6"
  },
  "kernelspec": {
   "display_name": "Python 3.7.4 64-bit ('test_env': venv)",
   "language": "python",
   "name": "python3"
  },
  "language_info": {
   "codemirror_mode": {
    "name": "ipython",
    "version": 3
   },
   "file_extension": ".py",
   "mimetype": "text/x-python",
   "name": "python",
   "nbconvert_exporter": "python",
   "pygments_lexer": "ipython3",
   "version": "3.7.4"
  },
  "orig_nbformat": 4
 },
 "nbformat": 4,
 "nbformat_minor": 2
}
