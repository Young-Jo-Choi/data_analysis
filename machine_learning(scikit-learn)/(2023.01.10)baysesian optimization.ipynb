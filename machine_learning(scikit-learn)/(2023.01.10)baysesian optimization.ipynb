{
 "cells": [
  {
   "cell_type": "code",
   "execution_count": 1,
   "metadata": {},
   "outputs": [],
   "source": [
    "import pandas as pd\n",
    "import numpy as np\n",
    "from sklearn.datasets import load_digits\n",
    "from sklearn.model_selection import train_test_split\n",
    "from sklearn.ensemble import RandomForestClassifier\n",
    "\n",
    "digits = load_digits()\n",
    "n_samples = len(digits.images)\n",
    "data = digits.images.reshape((n_samples, -1))\n",
    "\n",
    "X_train, X_test, y_train, y_test = train_test_split(data, digits.target, test_size=0.25, random_state=0)\n",
    "clf = RandomForestClassifier(random_state=0)\n",
    "param_grid = {\n",
    "    'n_estimators': [100,150,200],\n",
    "    'criterion': ['gini', 'entropy'],\n",
    "    'min_samples_split': [2, 3, 4, 5],\n",
    "    'min_samples_leaf': [1, 2, 3, 4, 5],\n",
    "    'max_features': ['sqrt', 'log2'],\n",
    "    'max_depth': [5, 6, 7, 8]\n",
    "    }"
   ]
  },
  {
   "cell_type": "code",
   "execution_count": null,
   "metadata": {},
   "outputs": [],
   "source": [
    "from warnings import filterwarnings\n",
    "filterwarnings('ignore')"
   ]
  },
  {
   "cell_type": "markdown",
   "metadata": {},
   "source": [
    "# GridSearch"
   ]
  },
  {
   "cell_type": "code",
   "execution_count": 44,
   "metadata": {},
   "outputs": [
    {
     "name": "stdout",
     "output_type": "stream",
     "text": [
      "Fitting 5 folds for each of 960 candidates, totalling 4800 fits\n",
      "75.50424480438232 초\n"
     ]
    },
    {
     "data": {
      "text/plain": [
       "param_criterion             entropy\n",
       "param_max_depth                   8\n",
       "param_max_features             log2\n",
       "param_min_samples_leaf            1\n",
       "param_min_samples_split           3\n",
       "param_n_estimators              200\n",
       "mean_test_score            0.976247\n",
       "std_test_score             0.002945\n",
       "Name: 0, dtype: object"
      ]
     },
     "execution_count": 44,
     "metadata": {},
     "output_type": "execute_result"
    }
   ],
   "source": [
    "import time\n",
    "from sklearn.model_selection import GridSearchCV\n",
    "\n",
    "grid = GridSearchCV(clf, param_grid, cv=5, n_jobs=-1, verbose=1)\n",
    "\n",
    "start = time.time()\n",
    "grid.fit(X_train, y_train)\n",
    "print(time.time() - start, '초')\n",
    "\n",
    "pd.DataFrame(grid.cv_results_).sort_values(by='mean_test_score',ascending=False).reset_index().loc[0,\n",
    "                                ['param_criterion','param_max_depth',\n",
    "                                'param_max_features','param_min_samples_leaf',\n",
    "                                'param_min_samples_split','param_n_estimators',\n",
    "                                'mean_test_score','std_test_score']]"
   ]
  },
  {
   "cell_type": "markdown",
   "metadata": {},
   "source": [
    "# RandomSearch"
   ]
  },
  {
   "cell_type": "code",
   "execution_count": 19,
   "metadata": {},
   "outputs": [
    {
     "name": "stdout",
     "output_type": "stream",
     "text": [
      "Fitting 5 folds for each of 30 candidates, totalling 150 fits\n",
      "5.267637491226196 초\n"
     ]
    },
    {
     "data": {
      "text/plain": [
       "param_criterion             entropy\n",
       "param_max_depth                   8\n",
       "param_max_features             log2\n",
       "param_min_samples_leaf            1\n",
       "param_min_samples_split           2\n",
       "param_n_estimators              210\n",
       "mean_test_score              0.9755\n",
       "std_test_score             0.005036\n",
       "Name: 0, dtype: object"
      ]
     },
     "execution_count": 19,
     "metadata": {},
     "output_type": "execute_result"
    }
   ],
   "source": [
    "from sklearn.model_selection import RandomizedSearchCV\n",
    "from scipy import stats\n",
    "\n",
    "param_rand = {\n",
    "    'n_estimators': stats.randint(100,300+1),\n",
    "    'criterion': ['gini', 'entropy'],\n",
    "    'min_samples_split': stats.randint(2,5+1),\n",
    "    'min_samples_leaf': stats.randint(1,5+1),\n",
    "    'max_features': ['sqrt', 'log2'],\n",
    "    'max_depth': stats.randint(5,8+1)\n",
    "    }\n",
    "rand = RandomizedSearchCV(clf, param_rand, cv=5, n_jobs=-1, verbose=1, n_iter=30)\n",
    "start = time.time()\n",
    "rand.fit(X_train, y_train)\n",
    "print(time.time() - start, '초')\n",
    "\n",
    "pd.DataFrame(rand.cv_results_).sort_values(by='mean_test_score',ascending=False).reset_index().loc[0,\n",
    "                                ['param_criterion','param_max_depth',\n",
    "                                'param_max_features','param_min_samples_leaf',\n",
    "                                'param_min_samples_split','param_n_estimators',\n",
    "                                'mean_test_score','std_test_score']]"
   ]
  },
  {
   "cell_type": "markdown",
   "metadata": {},
   "source": [
    "# Baysesian Optimization\n",
    "## optuna\n",
    "sklearn과 syntax가 다르지만 같은 기능을 수행한다."
   ]
  },
  {
   "cell_type": "code",
   "execution_count": 10,
   "metadata": {},
   "outputs": [
    {
     "name": "stderr",
     "output_type": "stream",
     "text": [
      "\u001b[32m[I 2023-01-11 14:59:33,385]\u001b[0m A new study created in memory with name: no-name-9d5df858-cf76-4baa-bc31-61ca29465fd7\u001b[0m\n"
     ]
    }
   ],
   "source": [
    "import optuna\n",
    "from optuna.samplers import TPESampler\n",
    "from sklearn.model_selection import cross_val_score\n",
    "\n",
    "# maximized score를 목표로\n",
    "study = optuna.create_study(direction='maximize', sampler=TPESampler(seed=0))"
   ]
  },
  {
   "cell_type": "code",
   "execution_count": 11,
   "metadata": {},
   "outputs": [],
   "source": [
    "# study.optimize(objective, n_trials)으로 baysesian optimization을 수행\n",
    "# search space를 정의하는 함수가 필요\n",
    "# grid search에서의 탐색 범위 : \n",
    "    # 'n_estimators': [100,150,200],\n",
    "    # 'criterion': ['gini', 'entropy'],\n",
    "    # 'min_samples_split': [2, 3, 4, 5],\n",
    "    # 'min_samples_leaf': [1, 2, 3, 4, 5],\n",
    "    # 'max_features': ['sqrt', 'log2'],\n",
    "    # 'max_depth': [5, 6, 7, 8]\n",
    "\n",
    "def objective(trial):\n",
    "    # hyperparameter를 trial.suggest_로 정의\n",
    "    n_estimators = trial.suggest_int('n_estimators', 100, 200)\n",
    "    criterion = trial.suggest_categorical('criterion', ['gini', 'entropy'])\n",
    "    min_samples_split = trial.suggest_int('min_samples_split', 2, 5)\n",
    "    min_samples_leaf = trial.suggest_int('min_samples_leaf', 1, 5)\n",
    "    max_features = trial.suggest_categorical('max_features', ['sqrt', 'log2'])\n",
    "    max_depth = trial.suggest_int('max_depth', 5, 8)\n",
    "    \n",
    "    clf = RandomForestClassifier(n_estimators=n_estimators,\n",
    "                                 criterion=criterion,\n",
    "                                 min_samples_split=min_samples_split,\n",
    "                                 min_samples_leaf=min_samples_leaf,\n",
    "                                 max_features=max_features,\n",
    "                                 max_depth=max_depth,\n",
    "                                 random_state=0)\n",
    "    # cross validation score를 최대화하는 hyperparameter를 찾음\n",
    "    score = cross_val_score(clf, X_train, y_train, cv=5, n_jobs=-1).mean()\n",
    "    return score"
   ]
  },
  {
   "cell_type": "code",
   "execution_count": 12,
   "metadata": {},
   "outputs": [
    {
     "name": "stdout",
     "output_type": "stream",
     "text": [
      "13.921140193939209 초\n"
     ]
    }
   ],
   "source": [
    "# iteration마다의 verbose를 False로 설정\n",
    "optuna.logging.set_verbosity(optuna.logging.WARNING)\n",
    "start = time.time()\n",
    "study.optimize(objective, n_trials=30)\n",
    "print(time.time() - start, '초')"
   ]
  },
  {
   "cell_type": "code",
   "execution_count": 13,
   "metadata": {},
   "outputs": [
    {
     "data": {
      "text/plain": [
       "n_estimators          171\n",
       "criterion            gini\n",
       "min_samples_split       2\n",
       "min_samples_leaf        2\n",
       "max_features         sqrt\n",
       "max_depth               8\n",
       "dtype: object"
      ]
     },
     "metadata": {},
     "output_type": "display_data"
    },
    {
     "name": "stdout",
     "output_type": "stream",
     "text": [
      "best score :  0.9680737987057689\n"
     ]
    }
   ],
   "source": [
    "display(pd.Series(study.best_params))\n",
    "print('best score : ',study.best_value)"
   ]
  },
  {
   "cell_type": "markdown",
   "metadata": {},
   "source": [
    "## scikit-optimize"
   ]
  },
  {
   "cell_type": "code",
   "execution_count": 14,
   "metadata": {},
   "outputs": [
    {
     "name": "stdout",
     "output_type": "stream",
     "text": [
      "81.01210427284241 초\n"
     ]
    }
   ],
   "source": [
    "from skopt import BayesSearchCV, space\n",
    "\n",
    "param_grid = {\n",
    "    'n_estimators': space.Integer(100, 200),\n",
    "    'criterion': space.Categorical(['gini', 'entropy']),\n",
    "    'min_samples_split': space.Integer(2, 5),\n",
    "    'min_samples_leaf': space.Integer(1, 5),\n",
    "    'max_features': space.Categorical(['sqrt', 'log2']),\n",
    "    'max_depth': space.Integer(5, 8)\n",
    "    }\n",
    "\n",
    "# n_iter를 더 적게 주면 짧은 시간에도 최적근사값을 찾을 수 있음\n",
    "bayes = BayesSearchCV(clf, param_grid, cv=5, n_iter=30)\n",
    "start = time.time()\n",
    "bayes.fit(X_train, y_train)\n",
    "print(time.time() - start, '초')"
   ]
  },
  {
   "cell_type": "code",
   "execution_count": 15,
   "metadata": {},
   "outputs": [
    {
     "data": {
      "text/plain": [
       "param_criterion             entropy\n",
       "param_max_depth                   8\n",
       "param_max_features             sqrt\n",
       "param_min_samples_leaf            3\n",
       "param_min_samples_split           5\n",
       "param_n_estimators              200\n",
       "mean_test_score            0.974754\n",
       "std_test_score             0.002817\n",
       "Name: 0, dtype: object"
      ]
     },
     "execution_count": 15,
     "metadata": {},
     "output_type": "execute_result"
    }
   ],
   "source": [
    "pd.DataFrame(bayes.cv_results_).sort_values(by='mean_test_score',ascending=False).reset_index().loc[0,\n",
    "                                ['param_criterion','param_max_depth',\n",
    "                                'param_max_features','param_min_samples_leaf',\n",
    "                                'param_min_samples_split','param_n_estimators',\n",
    "                                'mean_test_score','std_test_score']]"
   ]
  }
 ],
 "metadata": {
  "kernelspec": {
   "display_name": "Python 3.8.13 ('choi': conda)",
   "language": "python",
   "name": "python3"
  },
  "language_info": {
   "codemirror_mode": {
    "name": "ipython",
    "version": 3
   },
   "file_extension": ".py",
   "mimetype": "text/x-python",
   "name": "python",
   "nbconvert_exporter": "python",
   "pygments_lexer": "ipython3",
   "version": "3.8.13"
  },
  "orig_nbformat": 4,
  "vscode": {
   "interpreter": {
    "hash": "1f1ea343d18a0e98dbd50f4a3341f5f39bd7be7d912eea72d8401c1237c2e901"
   }
  }
 },
 "nbformat": 4,
 "nbformat_minor": 2
}
