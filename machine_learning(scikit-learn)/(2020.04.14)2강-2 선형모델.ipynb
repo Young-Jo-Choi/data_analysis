{
 "cells": [
  {
   "cell_type": "code",
   "execution_count": 1,
   "metadata": {},
   "outputs": [
    {
     "name": "stderr",
     "output_type": "stream",
     "text": [
      "C:\\Users\\hp\\Anaconda3\\lib\\site-packages\\sklearn\\externals\\six.py:31: FutureWarning: The module is deprecated in version 0.21 and will be removed in version 0.23 since we've dropped support for Python 2.7. Please rely on the official version of six (https://pypi.org/project/six/).\n",
      "  \"(https://pypi.org/project/six/).\", FutureWarning)\n",
      "C:\\Users\\hp\\Anaconda3\\lib\\site-packages\\sklearn\\externals\\joblib\\__init__.py:15: FutureWarning: sklearn.externals.joblib is deprecated in 0.21 and will be removed in 0.23. Please import this functionality directly from joblib, which can be installed with: pip install joblib. If this warning is raised when loading pickled models, you may need to re-serialize those models with scikit-learn 0.21+.\n",
      "  warnings.warn(msg, category=FutureWarning)\n"
     ]
    }
   ],
   "source": [
    "import pandas as pd\n",
    "import numpy as np\n",
    "from IPython.display import display\n",
    "import matplotlib.pyplot as plt\n",
    "import mglearn\n",
    "%matplotlib inline"
   ]
  },
  {
   "cell_type": "code",
   "execution_count": 2,
   "metadata": {},
   "outputs": [],
   "source": [
    "# 차트의 한글 깨짐 방지를 위한 코드 추가\n",
    "\n",
    "from matplotlib import font_manager, rc\n",
    "import platform\n",
    "\n",
    "# 그래프에서 한글 표기를 위한 글꼴 변경(윈도우)\n",
    "font_path = ''\n",
    "font_path = 'c:/Windows/Fonts/malgun.ttf'\n",
    "font_name = font_manager.FontProperties(fname = font_path).get_name()\n",
    "rc('font',family = font_name)\n",
    "\n",
    "%matplotlib inline"
   ]
  },
  {
   "cell_type": "markdown",
   "metadata": {},
   "source": [
    "# 선형 모델\n",
    "입력 특성에 대한 선형 함수를 만들어 예측을 수행\n",
    "\n",
    "$y = w[0]*x[0]+....w[p]*x[p]+b$\n",
    "\n",
    "w와 b는 파라미터, x[i]는 각각의 데이터 포인트에 대한 특성"
   ]
  },
  {
   "cell_type": "code",
   "execution_count": 3,
   "metadata": {},
   "outputs": [
    {
     "name": "stdout",
     "output_type": "stream",
     "text": [
      "w[0]: 0.393906  b: -0.031804\n"
     ]
    },
    {
     "name": "stderr",
     "output_type": "stream",
     "text": [
      "C:\\Users\\hp\\Anaconda3\\lib\\site-packages\\matplotlib\\backends\\backend_agg.py:211: RuntimeWarning: Glyph 8722 missing from current font.\n",
      "  font.set_text(s, 0.0, flags=flags)\n",
      "C:\\Users\\hp\\Anaconda3\\lib\\site-packages\\matplotlib\\backends\\backend_agg.py:180: RuntimeWarning: Glyph 8722 missing from current font.\n",
      "  font.set_text(s, 0, flags=flags)\n"
     ]
    },
    {
     "data": {
      "image/png": "[encoded data removed]",
      "text/plain": [
       "<Figure size 576x576 with 1 Axes>"
      ]
     },
     "metadata": {
      "needs_background": "light"
     },
     "output_type": "display_data"
    }
   ],
   "source": [
    "mglearn.plots.plot_linear_regression_wave()"
   ]
  },
  {
   "cell_type": "markdown",
   "metadata": {},
   "source": [
    "특성이 많은 데이터셋이라면 매우 훌륭한 기능. 특히 훈련 데이터보다 특성이 더 많은 경우에는 어떤 타깃 y도 완벽히 모델링된다.(선형대수를 생각)"
   ]
  },
  {
   "cell_type": "markdown",
   "metadata": {},
   "source": [
    "## 선형 회귀(최소제곱법)\n",
    "예측과 훈련 세트 사이의 평균제곱오차를 최소화하는 파라미터 찾음"
   ]
  },
  {
   "cell_type": "code",
   "execution_count": 4,
   "metadata": {},
   "outputs": [],
   "source": [
    "from sklearn.model_selection import train_test_split"
   ]
  },
  {
   "cell_type": "code",
   "execution_count": 5,
   "metadata": {},
   "outputs": [],
   "source": [
    "from sklearn.linear_model import LinearRegression\n",
    "X,y = mglearn.datasets.make_wave(n_samples=60)\n",
    "X_train,X_test,y_train,y_test = train_test_split(X,y,random_state=42)"
   ]
  },
  {
   "cell_type": "code",
   "execution_count": 6,
   "metadata": {},
   "outputs": [],
   "source": [
    "lr = LinearRegression().fit(X_train,y_train)"
   ]
  },
  {
   "cell_type": "code",
   "execution_count": 7,
   "metadata": {},
   "outputs": [
    {
     "data": {
      "text/plain": [
       "array([0.39390555])"
      ]
     },
     "execution_count": 7,
     "metadata": {},
     "output_type": "execute_result"
    }
   ],
   "source": [
    "# w(가중치 혹은 계수), 입력 특성에 하나씩 대응하는 NumPy 배열\n",
    "lr.coef_"
   ]
  },
  {
   "cell_type": "code",
   "execution_count": 8,
   "metadata": {},
   "outputs": [
    {
     "data": {
      "text/plain": [
       "-0.031804343026759746"
      ]
     },
     "execution_count": 8,
     "metadata": {},
     "output_type": "execute_result"
    }
   ],
   "source": [
    "# b(편향, 절편), 실수 값 하나\n",
    "lr.intercept_"
   ]
  },
  {
   "cell_type": "code",
   "execution_count": 9,
   "metadata": {},
   "outputs": [
    {
     "data": {
      "text/plain": [
       "0.6700890315075756"
      ]
     },
     "execution_count": 9,
     "metadata": {},
     "output_type": "execute_result"
    }
   ],
   "source": [
    "lr.score(X_train,y_train)"
   ]
  },
  {
   "cell_type": "code",
   "execution_count": 10,
   "metadata": {},
   "outputs": [
    {
     "data": {
      "text/plain": [
       "0.65933685968637"
      ]
     },
     "execution_count": 10,
     "metadata": {},
     "output_type": "execute_result"
    }
   ],
   "source": [
    "lr.score(X_test,y_test)"
   ]
  },
  {
   "cell_type": "markdown",
   "metadata": {},
   "source": [
    "결과 값이 그다지 좋지 않지만 훈련세트와 테스트 세트의 점수가 비슷하므로 과소적합인 상태<br>\n",
    "(1차원 데이터셋에서는 과대적합을 걱정할 필요가 없다.)\n",
    "\n",
    "다음 보스턴 주택가격 데이터셋을 살펴보자. 샘플이 506개, 특성은 유도된 것을 합쳐 104개이다."
   ]
  },
  {
   "cell_type": "code",
   "execution_count": 11,
   "metadata": {},
   "outputs": [],
   "source": [
    "X,y = mglearn.datasets.load_extended_boston()"
   ]
  },
  {
   "cell_type": "code",
   "execution_count": 12,
   "metadata": {},
   "outputs": [],
   "source": [
    "X_train,X_test,y_train,y_test = train_test_split(X,y)\n",
    "lr = LinearRegression().fit(X_train,y_train)"
   ]
  },
  {
   "cell_type": "code",
   "execution_count": 13,
   "metadata": {},
   "outputs": [
    {
     "data": {
      "text/plain": [
       "0.9452004775203007"
      ]
     },
     "execution_count": 13,
     "metadata": {},
     "output_type": "execute_result"
    }
   ],
   "source": [
    "lr.score(X_train,y_train)"
   ]
  },
  {
   "cell_type": "code",
   "execution_count": 14,
   "metadata": {},
   "outputs": [
    {
     "data": {
      "text/plain": [
       "0.771770864233623"
      ]
     },
     "execution_count": 14,
     "metadata": {},
     "output_type": "execute_result"
    }
   ],
   "source": [
    "lr.score(X_test,y_test)"
   ]
  },
  {
   "cell_type": "markdown",
   "metadata": {},
   "source": [
    "이는 과대적합이 되었다는 의미. 복잡도를 제어할 수 있는 모델이 필요"
   ]
  },
  {
   "cell_type": "markdown",
   "metadata": {},
   "source": [
    "## 리지 회귀\n",
    "선형 회귀처럼 예측 함수를 사용하지만 가능한 가중치(w)의 절대값을 0에 가깝게 만든다.<br>\n",
    "모든 특성이 출력에 주는 영향을 최소한으로 만들기를 원함(기울기를 작게 만든다.) 이런 제약을 '규제'(regularization)라고 한다.<br>\n",
    "규제란 과대적합이 되지 않도록 모델을 강제로 제한한다는 의미.(리지 회귀에서의 방식을 L2규제라고 한다.)"
   ]
  },
  {
   "cell_type": "code",
   "execution_count": 15,
   "metadata": {},
   "outputs": [],
   "source": [
    "from sklearn.linear_model import Ridge\n",
    "rigde = Ridge().fit(X_train,y_train)"
   ]
  },
  {
   "cell_type": "code",
   "execution_count": 16,
   "metadata": {},
   "outputs": [
    {
     "data": {
      "text/plain": [
       "0.8629586617736985"
      ]
     },
     "execution_count": 16,
     "metadata": {},
     "output_type": "execute_result"
    }
   ],
   "source": [
    "rigde.score(X_train,y_train)"
   ]
  },
  {
   "cell_type": "code",
   "execution_count": 17,
   "metadata": {},
   "outputs": [
    {
     "data": {
      "text/plain": [
       "0.8353652119011855"
      ]
     },
     "execution_count": 17,
     "metadata": {},
     "output_type": "execute_result"
    }
   ],
   "source": [
    "rigde.score(X_test,y_test)"
   ]
  },
  {
   "cell_type": "markdown",
   "metadata": {},
   "source": [
    "훈련 세트에서의 점수는 선형회귀보다 낮지만 테스트 세트에서의 점수는 더 높다. 곧 과대적합이 적어진다는 의미\n",
    "\n",
    "Rigde 모델은 단순하게 (계수를 0에 가깝게) 해주고 훈련 세트에 대한 성능 사이를 절충할 방법을 제공. 사용자는 alpha 매개변수로 훈련세트의 성능 대비 모델을 얼마마 단순화할지 지정할 수 있다.<br>\n",
    "alpha 값을 높이면 계수를 0에 더 가깝게 만들어 훈련 세트의 성능은 나빠지지만 일반화에는 도움을 줄 수 있다.(과대적합의 감소)<br>\n",
    "alpha=0.00001이면 선형회귀와 똑같은 score를 얻는다. 디폴트값은 1이다."
   ]
  },
  {
   "cell_type": "code",
   "execution_count": 19,
   "metadata": {},
   "outputs": [],
   "source": [
    "ridge10 = Ridge(alpha=10).fit(X_train,y_train)"
   ]
  },
  {
   "cell_type": "code",
   "execution_count": 20,
   "metadata": {},
   "outputs": [
    {
     "data": {
      "text/plain": [
       "0.7630327926090442"
      ]
     },
     "execution_count": 20,
     "metadata": {},
     "output_type": "execute_result"
    }
   ],
   "source": [
    "ridge10.score(X_train,y_train)"
   ]
  },
  {
   "cell_type": "code",
   "execution_count": 21,
   "metadata": {},
   "outputs": [
    {
     "data": {
      "text/plain": [
       "0.7140578903541998"
      ]
     },
     "execution_count": 21,
     "metadata": {},
     "output_type": "execute_result"
    }
   ],
   "source": [
    "ridge10.score(X_test,y_test)"
   ]
  },
  {
   "cell_type": "code",
   "execution_count": 25,
   "metadata": {},
   "outputs": [
    {
     "name": "stdout",
     "output_type": "stream",
     "text": [
      "alpha가 0.01일 때 훈련세트의 score : 0.94\n",
      "alpha가 0.01일 때 테스트 세트의 score : 0.82 \n",
      "\n",
      "alpha가 0.1일 때 훈련세트의 score : 0.91\n",
      "alpha가 0.1일 때 테스트 세트의 score : 0.84 \n",
      "\n",
      "alpha가 1일 때 훈련세트의 score : 0.86\n",
      "alpha가 1일 때 테스트 세트의 score : 0.84 \n",
      "\n",
      "alpha가 3일 때 훈련세트의 score : 0.82\n",
      "alpha가 3일 때 테스트 세트의 score : 0.79 \n",
      "\n",
      "alpha가 6일 때 훈련세트의 score : 0.79\n",
      "alpha가 6일 때 테스트 세트의 score : 0.75 \n",
      "\n",
      "alpha가 10일 때 훈련세트의 score : 0.76\n",
      "alpha가 10일 때 테스트 세트의 score : 0.71 \n",
      "\n"
     ]
    }
   ],
   "source": [
    "alphas=[0.01, 0.1, 1, 3, 6, 10]\n",
    "for i in alphas:\n",
    "    ridge = Ridge(alpha=i).fit(X_train,y_train)\n",
    "    print(\"alpha가 {}일 때 훈련세트의 score : {:.2f}\".format(i,ridge.score(X_train,y_train)))\n",
    "    print(\"alpha가 {}일 때 테스트 세트의 score : {:.2f} \\n\".format(i,ridge.score(X_test,y_test)))\n"
   ]
  },
  {
   "cell_type": "markdown",
   "metadata": {},
   "source": [
    "## 라소\n",
    "계수를 0 가깝게 하는 것은 리지 회귀와 비슷하나 방식이 조금 다르다.(L1 규제)<br>\n",
    "어떤 계수는 정말로 0이 된다. 이 말인 즉슨 모델에서 완전히 제외되는 특성이 생긴다는 의미이다. 특성 선택(feature selection)이 자동으로 이뤄진다고 볼 수 있다. <br> 일부 계수를 0으로 만들면 모델을 이해하기 쉬워지고 모델의 가장 중요한 특성이 무엇인지 드러내준다."
   ]
  },
  {
   "cell_type": "code",
   "execution_count": 29,
   "metadata": {},
   "outputs": [],
   "source": [
    "from sklearn.linear_model import Lasso\n",
    "\n",
    "lasso = Lasso().fit(X_train,y_train)"
   ]
  },
  {
   "cell_type": "code",
   "execution_count": 30,
   "metadata": {},
   "outputs": [
    {
     "data": {
      "text/plain": [
       "0.2579922625616202"
      ]
     },
     "execution_count": 30,
     "metadata": {},
     "output_type": "execute_result"
    }
   ],
   "source": [
    "lasso.score(X_train,y_train)"
   ]
  },
  {
   "cell_type": "code",
   "execution_count": 31,
   "metadata": {},
   "outputs": [
    {
     "data": {
      "text/plain": [
       "0.22067823998785419"
      ]
     },
     "execution_count": 31,
     "metadata": {},
     "output_type": "execute_result"
    }
   ],
   "source": [
    "lasso.score(X_test,y_test)"
   ]
  },
  {
   "cell_type": "code",
   "execution_count": 32,
   "metadata": {},
   "outputs": [
    {
     "data": {
      "text/plain": [
       "3"
      ]
     },
     "execution_count": 32,
     "metadata": {},
     "output_type": "execute_result"
    }
   ],
   "source": [
    "np.sum(lasso.coef_ != 0)"
   ]
  },
  {
   "cell_type": "code",
   "execution_count": 37,
   "metadata": {},
   "outputs": [
    {
     "data": {
      "text/plain": [
       "(506, 104)"
      ]
     },
     "execution_count": 37,
     "metadata": {},
     "output_type": "execute_result"
    }
   ],
   "source": [
    "X.shape"
   ]
  },
  {
   "cell_type": "markdown",
   "metadata": {},
   "source": [
    "훈련과 테스트셋 모두에서 결과가 좋지 않음. 이는 과소적합이며 104개의 특성 중 3개의 특성만을 사용한 것을 알 수 있다.<br>\n",
    "Lasso 역시 alpha 매개변수를 지원하는데 이를 바꿔가며 사용해보겠다."
   ]
  },
  {
   "cell_type": "code",
   "execution_count": 45,
   "metadata": {},
   "outputs": [
    {
     "name": "stdout",
     "output_type": "stream",
     "text": [
      "alpha가 0.01일 때 훈련세트의 score : 0.89\n",
      "alpha가 0.01일 때 테스트 세트의 score : 0.82\n",
      "alpha가 0.01일 때 계수의 개수 : 35 \n",
      "\n",
      "alpha가 0.1일 때 훈련세트의 score : 0.74\n",
      "alpha가 0.1일 때 테스트 세트의 score : 0.70\n",
      "alpha가 0.1일 때 계수의 개수 : 7 \n",
      "\n",
      "alpha가 1일 때 훈련세트의 score : 0.26\n",
      "alpha가 1일 때 테스트 세트의 score : 0.22\n",
      "alpha가 1일 때 계수의 개수 : 3 \n",
      "\n",
      "alpha가 3일 때 훈련세트의 score : 0.00\n",
      "alpha가 3일 때 테스트 세트의 score : -0.00\n",
      "alpha가 3일 때 계수의 개수 : 0 \n",
      "\n",
      "alpha가 6일 때 훈련세트의 score : 0.00\n",
      "alpha가 6일 때 테스트 세트의 score : -0.00\n",
      "alpha가 6일 때 계수의 개수 : 0 \n",
      "\n",
      "alpha가 10일 때 훈련세트의 score : 0.00\n",
      "alpha가 10일 때 테스트 세트의 score : -0.00\n",
      "alpha가 10일 때 계수의 개수 : 0 \n",
      "\n"
     ]
    }
   ],
   "source": [
    "# max_iter(반복하는 최대 횟수)\n",
    "alphas=[0.01, 0.1, 1, 3, 6, 10]\n",
    "for i in alphas:\n",
    "    lasso = Lasso(alpha=i,max_iter=100000).fit(X_train,y_train)\n",
    "    print(\"alpha가 {}일 때 훈련세트의 score : {:.2f}\".format(i,lasso.score(X_train,y_train)))\n",
    "    print(\"alpha가 {}일 때 테스트 세트의 score : {:.2f}\".format(i,lasso.score(X_test,y_test)))\n",
    "    print(\"alpha가 {}일 때 계수의 개수 : {} \\n\".format(i,np.sum(lasso.coef_!=0)))"
   ]
  },
  {
   "cell_type": "markdown",
   "metadata": {},
   "source": [
    "alpha 값을 낮추면 모델의 복잡도가 증가하여 성능이 좋아진다. 그러나 Lasso 역시 alpha가 너무 낮으면 과대적합이 발생한다."
   ]
  },
  {
   "cell_type": "code",
   "execution_count": 46,
   "metadata": {},
   "outputs": [
    {
     "name": "stdout",
     "output_type": "stream",
     "text": [
      "alpha가 0.0001일 때 훈련세트의 score : 0.94\n",
      "alpha가 0.0001일 때 테스트 세트의 score : 0.79\n",
      "alpha가 0.0001일 때 계수의 개수 : 92 \n",
      "\n"
     ]
    }
   ],
   "source": [
    "i=0.0001\n",
    "lasso = Lasso(alpha=i,max_iter=100000).fit(X_train,y_train)\n",
    "print(\"alpha가 {}일 때 훈련세트의 score : {:.2f}\".format(i,lasso.score(X_train,y_train)))\n",
    "print(\"alpha가 {}일 때 테스트 세트의 score : {:.2f}\".format(i,lasso.score(X_test,y_test)))\n",
    "print(\"alpha가 {}일 때 계수의 개수 : {} \\n\".format(i,np.sum(lasso.coef_!=0)))"
   ]
  },
  {
   "cell_type": "markdown",
   "metadata": {},
   "source": [
    "실제로 리지와 라소 두 모델 중 리지 회귀를 더 선호한다. 하지만 특성이 많고 그중 일부분만 중요하다면 Lasso가 더 좋은 모델일 수 있다.<br> 또 분석하기 쉬운 모델을 원한다면 Lasso가 입력 특성 중 일부만 사용하므로 쉽게 해석할 수 있는 모델을 만들어줄 것이다.\n",
    "\n",
    "scikit-learn은 Lasso와 Ridge의 패널티를 결합한 ElasticNet도 제공한다. 최상의 성능을 내지만 L1 규제와 L2 규제를 위한 매개변수 두 개를 조정해야한다.<br>l1_ratio는 0과 1사이를 지정하여 L1와 L2의 비율을 조정"
   ]
  },
  {
   "cell_type": "markdown",
   "metadata": {},
   "source": [
    "## 분류용 선형 모델\n",
    "$y = w[0]*x[0]+....w[p]*x[p]+b > 0 $\n",
    "\n",
    "선형회귀와 아주 비슷. 하지만 특성들의 가중치 합을 그냥 사용하는 대신 예측한 값을 임계치 0과 비교.<br>\n",
    "0보다 작으면 클래스를 -1이라 예측, 0보다 크면 +1이라 예측\n",
    "\n",
    "회귀용 선형 모델에서는 출력 y이 특성의 선형함수이다. 분류용 선형 모델에서는 결정 경계가 입력의 선형함수이다. 다른 말로 하면 선형 분류기는 선, 평면, 초평면을 사용해서 두개의 클래스를 구분하는 분류기\n",
    "\n",
    "알고리즘\n",
    "- 특정 계수와 절편의 조합이 훈련 데이터에 얼마나 잘 맞는지 측정하는 방법\n",
    "- 사용할 수 있는 규제가 있는지, 있다면 어느 방법인지\n",
    "수학적인 이유로 알고리즘이 만드는 잘못된 분류의 수를 최소화하도록 w와 b를 조정하는 것은 불가능\n",
    "\n",
    "가장 잘 알려진 선형 분류 알고리즘은 '로지스틱 회귀'와 '서포트 벡터 머신(svm)'"
   ]
  },
  {
   "cell_type": "code",
   "execution_count": 47,
   "metadata": {},
   "outputs": [],
   "source": [
    "# 로지스틱 회귀(회귀가 들어가지만 회귀가 아닌 분류 알고리즘)\n",
    "from sklearn.linear_model import LogisticRegression\n",
    "# 서포트 벡터 머신(svm)\n",
    "from sklearn.svm import LinearSVC"
   ]
  },
  {
   "cell_type": "code",
   "execution_count": 53,
   "metadata": {},
   "outputs": [
    {
     "name": "stderr",
     "output_type": "stream",
     "text": [
      "C:\\Users\\hp\\Anaconda3\\lib\\site-packages\\sklearn\\utils\\deprecation.py:87: FutureWarning: Function make_blobs is deprecated; Please import make_blobs directly from scikit-learn\n",
      "  warnings.warn(msg, category=FutureWarning)\n",
      "C:\\Users\\hp\\Anaconda3\\lib\\site-packages\\sklearn\\svm\\_base.py:947: ConvergenceWarning: Liblinear failed to converge, increase the number of iterations.\n",
      "  \"the number of iterations.\", ConvergenceWarning)\n"
     ]
    },
    {
     "data": {
      "text/plain": [
       "<matplotlib.legend.Legend at 0x2b02771ec88>"
      ]
     },
     "execution_count": 53,
     "metadata": {},
     "output_type": "execute_result"
    },
    {
     "data": {
      "image/png": "[encoded data removed]",
      "text/plain": [
       "<Figure size 720x216 with 2 Axes>"
      ]
     },
     "metadata": {},
     "output_type": "display_data"
    }
   ],
   "source": [
    "# forge 데이터셋을 이용\n",
    "X, y = mglearn.datasets.make_forge()\n",
    "\n",
    "fig,axes = plt.subplots(1,2,figsize=(10,3))\n",
    "\n",
    "for model,ax in zip([LinearSVC(),LogisticRegression()],axes):\n",
    "    clf = model.fit(X,y)\n",
    "    mglearn.plots.plot_2d_separator(clf,X,fill=False,eps=0.5,ax=ax,alpha=0.7)\n",
    "    mglearn.discrete_scatter(X[:,0],X[:,1],y,ax=ax)\n",
    "    \n",
    "    ax.set_title(clf.__class__.__name__)\n",
    "    ax.set_xlabel(\"특성 0\")\n",
    "    ax.set_ylabel(\"특성 1\")\n",
    "axes[0].legend()"
   ]
  },
  {
   "cell_type": "markdown",
   "metadata": {},
   "source": [
    "결정 경계를 기준으로 클래스 0과 1을 분류<br>기본적으로 두 모델은 L2 규제를 사용\n",
    "\n",
    "규제 강도를 결정하는 매개변수는 C, C가 높아지면 규제 강도가 감소한다. 규제가 강해지면 과소적합, 규제가 약해지면 과대적합이 발생한다. <br>규제는 곧 일반화\n",
    "\n",
    "C가 높아지면 모델은 계수 벡터(w)가 0에 가까워지도록 만든다. C가 높아지면 개개의 데이터 포인터를 정확히 분류하며, C가 낮아지면 데이터 포인터 중 다수에 맞추려고 노력한다."
   ]
  },
  {
   "cell_type": "code",
   "execution_count": 54,
   "metadata": {},
   "outputs": [
    {
     "data": {
      "image/png": "[encoded data removed]",
      "text/plain": [
       "<Figure size 864x288 with 3 Axes>"
      ]
     },
     "metadata": {},
     "output_type": "display_data"
    }
   ],
   "source": [
    "mglearn.plots.plot_linear_svc_regularization()"
   ]
  },
  {
   "cell_type": "markdown",
   "metadata": {},
   "source": [
    "고차원에서는 분류에 대한 선형 모델이 매우 강력해지며 틍성이 많아지면 과대적합되지 않도록 하는 것이 매우 중요해진다."
   ]
  },
  {
   "cell_type": "code",
   "execution_count": 62,
   "metadata": {},
   "outputs": [
    {
     "name": "stdout",
     "output_type": "stream",
     "text": [
      "c=0.001일 때 훈련 데이터의 성과: 0.95\n",
      "c=0.001일 때 테스트 데이터의 성과: 0.93 \n",
      "\n",
      "c=1일 때 훈련 데이터의 성과: 0.95\n",
      "c=1일 때 테스트 데이터의 성과: 0.96 \n",
      "\n",
      "c=100일 때 훈련 데이터의 성과: 0.96\n",
      "c=100일 때 테스트 데이터의 성과: 0.97 \n",
      "\n"
     ]
    },
    {
     "name": "stderr",
     "output_type": "stream",
     "text": [
      "C:\\Users\\hp\\Anaconda3\\lib\\site-packages\\sklearn\\linear_model\\_logistic.py:940: ConvergenceWarning: lbfgs failed to converge (status=1):\n",
      "STOP: TOTAL NO. of ITERATIONS REACHED LIMIT.\n",
      "\n",
      "Increase the number of iterations (max_iter) or scale the data as shown in:\n",
      "    https://scikit-learn.org/stable/modules/preprocessing.html\n",
      "Please also refer to the documentation for alternative solver options:\n",
      "    https://scikit-learn.org/stable/modules/linear_model.html#logistic-regression\n",
      "  extra_warning_msg=_LOGISTIC_SOLVER_CONVERGENCE_MSG)\n",
      "C:\\Users\\hp\\Anaconda3\\lib\\site-packages\\sklearn\\linear_model\\_logistic.py:940: ConvergenceWarning: lbfgs failed to converge (status=1):\n",
      "STOP: TOTAL NO. of ITERATIONS REACHED LIMIT.\n",
      "\n",
      "Increase the number of iterations (max_iter) or scale the data as shown in:\n",
      "    https://scikit-learn.org/stable/modules/preprocessing.html\n",
      "Please also refer to the documentation for alternative solver options:\n",
      "    https://scikit-learn.org/stable/modules/linear_model.html#logistic-regression\n",
      "  extra_warning_msg=_LOGISTIC_SOLVER_CONVERGENCE_MSG)\n",
      "C:\\Users\\hp\\Anaconda3\\lib\\site-packages\\sklearn\\linear_model\\_logistic.py:940: ConvergenceWarning: lbfgs failed to converge (status=1):\n",
      "STOP: TOTAL NO. of ITERATIONS REACHED LIMIT.\n",
      "\n",
      "Increase the number of iterations (max_iter) or scale the data as shown in:\n",
      "    https://scikit-learn.org/stable/modules/preprocessing.html\n",
      "Please also refer to the documentation for alternative solver options:\n",
      "    https://scikit-learn.org/stable/modules/linear_model.html#logistic-regression\n",
      "  extra_warning_msg=_LOGISTIC_SOLVER_CONVERGENCE_MSG)\n"
     ]
    }
   ],
   "source": [
    "# 로지스틱 회귀의 파라미터: solver='liblinear', penalty=\"l1\"이면 L1 규제를 사용한다.\n",
    "# 모든 특성을 이용할지 일부 특성만을 사용할지를 결정\n",
    "\n",
    "from sklearn.datasets import load_breast_cancer\n",
    "cancer = load_breast_cancer()\n",
    "X_train,X_test,y_train,y_test = train_test_split(cancer.data, cancer.target,stratify=cancer.target, random_state=42)\n",
    "c_list = [0.001,1,100]\n",
    "for i in c_list:\n",
    "    logreg = LogisticRegression(C=i).fit(X_train,y_train)\n",
    "    print(\"c={}일 때 훈련 데이터의 성과: {:.2f}\".format(i,logreg.score(X_train,y_train)))\n",
    "    print(\"c={}일 때 테스트 데이터의 성과: {:.2f} \\n\".format(i,logreg.score(X_test,y_test)))"
   ]
  },
  {
   "cell_type": "markdown",
   "metadata": {},
   "source": [
    "### 다중 클래스 분류용 선형 모델\n",
    "로지스틱 회귀를 제외하고 대부분의 선형 분류 모델은 이진 분류만을 지원한다. 다중 클래스로 확장하는 일반적인 방법은 일대다(one-vs.-rest) 방법 : <br> 각 클래스를 다른 모든 클래스와 구분하도록 이진 분류 모델을 학습시킨다. 결국 클래스의 수만큼 이진 분류 모델이 만들어진다.<br> 예측시에는 모든 이진 분류기가 작동하여 가장 높은 점수를 내는 분류기의 클래스를 예측값으로 선택"
   ]
  },
  {
   "cell_type": "code",
   "execution_count": 65,
   "metadata": {},
   "outputs": [
    {
     "data": {
      "text/plain": [
       "<matplotlib.legend.Legend at 0x2b02910a8c8>"
      ]
     },
     "execution_count": 65,
     "metadata": {},
     "output_type": "execute_result"
    },
    {
     "data": {
      "image/png": "[encoded data removed]",
      "text/plain": [
       "<Figure size 432x288 with 1 Axes>"
      ]
     },
     "metadata": {
      "needs_background": "light"
     },
     "output_type": "display_data"
    }
   ],
   "source": [
    "# 세 개의 클래스를 가진 데이터셋\n",
    "from sklearn.datasets import make_blobs\n",
    "X,y = make_blobs(random_state=42)\n",
    "mglearn.discrete_scatter(X[:,0],X[:,1],y)\n",
    "plt.xlabel(\"특성 0\")\n",
    "plt.ylabel(\"특성 1\")\n",
    "plt.legend([\"클래스 0\",\"클래스 1\",\"클래스 2\"])"
   ]
  },
  {
   "cell_type": "code",
   "execution_count": 67,
   "metadata": {},
   "outputs": [
    {
     "name": "stdout",
     "output_type": "stream",
     "text": [
      "계수 배열의 크기:  (3, 2)\n",
      "절편 배열의 크기 (3,)\n"
     ]
    }
   ],
   "source": [
    "# 이 데이터셋으로 LinearSVC 분류기를 훈련시킴\n",
    "\n",
    "linear_svm = LinearSVC().fit(X,y)\n",
    "print(\"계수 배열의 크기: \",linear_svm.coef_.shape)\n",
    "print(\"절편 배열의 크기\",linear_svm.intercept_.shape)\n"
   ]
  },
  {
   "cell_type": "code",
   "execution_count": 68,
   "metadata": {},
   "outputs": [
    {
     "name": "stderr",
     "output_type": "stream",
     "text": [
      "C:\\Users\\hp\\Anaconda3\\lib\\site-packages\\matplotlib\\backends\\backend_agg.py:211: RuntimeWarning: Glyph 8722 missing from current font.\n",
      "  font.set_text(s, 0.0, flags=flags)\n",
      "C:\\Users\\hp\\Anaconda3\\lib\\site-packages\\matplotlib\\backends\\backend_agg.py:180: RuntimeWarning: Glyph 8722 missing from current font.\n",
      "  font.set_text(s, 0, flags=flags)\n"
     ]
    },
    {
     "data": {
      "image/png": "[encoded data removed]",
      "text/plain": [
       "<Figure size 432x288 with 1 Axes>"
      ]
     },
     "metadata": {
      "needs_background": "light"
     },
     "output_type": "display_data"
    }
   ],
   "source": [
    "# 시각화\n",
    "mglearn.discrete_scatter(X[:,0],X[:,1],y)\n",
    "line = np.linspace(-15,15)\n",
    "for coef,intercept,color in zip(linear_svm.coef_,linear_svm.intercept_,mglearn.cm3.colors):\n",
    "    plt.plot(line,-(line*coef[0]+intercept)/coef[1],c=color)\n",
    "    # 다중회귀에서의 가중치와 절편에 따른 계산은 이진분류와는 약간 차이가 있음\n",
    "    \n",
    "# 중첩되는 영역에 있는 데이터는 어떤 클래스로 분류될까? 분류 공식의 결과가 가장 높은 클래스로"
   ]
  },
  {
   "cell_type": "markdown",
   "metadata": {},
   "source": [
    "#### 요약:\n",
    "선형 모델의 주요 매개변수는 alpha이고 선형 분류 모델에서는 C, alpha가 클수록, C가 작을수록 규제가 강하고 모델이 단순해지며 과소적합이 발생할 가능성이 커진다. 보통 C와 alpha는 로그 스케일(0.1,1,10 처럼 10배씩 변경)로 최적치를 정한다.\n",
    "\n",
    "중요한 특성이 많지 않다 생각하면 L1규제를 사용하며 그렇지 않으면 기본적으로 L2 규제를 사용한다. L1 규제는 모델 해석이 중요 요소일 때도 사용할 수 있다. 몇몇 특성만 사용하므로 중요 특성이 무엇이고 그 효과가 어느 정도인지 설명하기가 쉽다.\n",
    "\n",
    "선형 모델은 학습 속도가 빠르고 예측도 빠르다. 매우 큰 데이터셋과 희소한 데이터셋에도 잘 작동한다.<br>\n",
    "수십만, 수백만 개의 샘플로 이뤄진 대용량 데이터셋이라면 기본설정보다 빨리 처리하도록 로지스특회귀와 리지 회귀에 solver='sag'옵션을 준다.\n",
    "\n",
    "회귀와 분류에서 본 공식을 사용해 예측이 어떻게 만들어지는지 비교적 쉽게 이해할 수 있다. 하지만 데이터셋의 특징들이 서로 깊게 연관되어 있을 경우 계수들의 값들이 왜 그런 값을 갖는지 분석하기가 매우 어려울 수 있다.\n",
    "\n",
    "선형 모델은 샘플에 비해 특징이 많을 때 잘 작동한다. 그러나 저차원의 데이터셋에서는 다른 모델들의 일반화 성능이 더 좋다."
   ]
  },
  {
   "cell_type": "code",
   "execution_count": null,
   "metadata": {},
   "outputs": [],
   "source": []
  }
 ],
 "metadata": {
  "kernelspec": {
   "display_name": "Python 3",
   "language": "python",
   "name": "python3"
  },
  "language_info": {
   "codemirror_mode": {
    "name": "ipython",
    "version": 3
   },
   "file_extension": ".py",
   "mimetype": "text/x-python",
   "name": "python",
   "nbconvert_exporter": "python",
   "pygments_lexer": "ipython3",
   "version": "3.7.4"
  }
 },
 "nbformat": 4,
 "nbformat_minor": 2
}
