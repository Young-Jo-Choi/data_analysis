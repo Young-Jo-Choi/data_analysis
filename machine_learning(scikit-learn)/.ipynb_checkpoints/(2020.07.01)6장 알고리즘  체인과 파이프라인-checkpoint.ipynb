{
 "cells": [
  {
   "cell_type": "code",
   "execution_count": 1,
   "metadata": {},
   "outputs": [
    {
     "name": "stderr",
     "output_type": "stream",
     "text": [
      "C:\\Users\\hp\\Anaconda3\\lib\\site-packages\\sklearn\\externals\\six.py:31: FutureWarning: The module is deprecated in version 0.21 and will be removed in version 0.23 since we've dropped support for Python 2.7. Please rely on the official version of six (https://pypi.org/project/six/).\n",
      "  \"(https://pypi.org/project/six/).\", FutureWarning)\n",
      "C:\\Users\\hp\\Anaconda3\\lib\\site-packages\\sklearn\\externals\\joblib\\__init__.py:15: FutureWarning: sklearn.externals.joblib is deprecated in 0.21 and will be removed in 0.23. Please import this functionality directly from joblib, which can be installed with: pip install joblib. If this warning is raised when loading pickled models, you may need to re-serialize those models with scikit-learn 0.21+.\n",
      "  warnings.warn(msg, category=FutureWarning)\n"
     ]
    }
   ],
   "source": [
    "import pandas as pd\n",
    "import numpy as np\n",
    "from IPython.display import display\n",
    "import matplotlib.pyplot as plt\n",
    "import mglearn"
   ]
  },
  {
   "cell_type": "code",
   "execution_count": 2,
   "metadata": {},
   "outputs": [],
   "source": [
    "from matplotlib import font_manager,rc, rcParams\n",
    "import platform\n",
    "\n",
    "if platform.system() == 'Windows':\n",
    "    path = 'c:/windows/Fonts/malgun.ttf'\n",
    "    font_name = font_manager.FontProperties(fname=path).get_name()\n",
    "    rc('font',family = font_name)\n",
    "elif platform.system() == 'Darwin':\n",
    "    rc('font',family = 'AppleGothic')\n",
    "else:\n",
    "    print('Check your OS system')\n",
    "\n",
    "rcParams['axes.unicode_minus'] = False\n",
    "\n",
    "%matplotlib inline"
   ]
  },
  {
   "cell_type": "markdown",
   "metadata": {},
   "source": [
    "데이터 변환 과정과 머신러닝 모델을 쉽게 연결해주는 Pipeline 파이썬 클래스에 대해 설명<br>\n",
    "Pipeline과 GridSearchCV를 함께 사용하여 각 처리 단계에서 필요한 매개변수 탐색을 동시에 수행할 것임\n",
    "\n",
    "모델 체인의 예시로 cancer 데이터셋을 MinMaxScaler로 전처리하여 SVM의 성능을 크게 향상 시킴(3장 파일 참고)"
   ]
  },
  {
   "cell_type": "code",
   "execution_count": 5,
   "metadata": {},
   "outputs": [
    {
     "name": "stdout",
     "output_type": "stream",
     "text": [
      "스케일 조정 이전 :  0.9370629370629371\n",
      "스케일 조정 이후 :  0.972027972027972\n"
     ]
    }
   ],
   "source": [
    "from sklearn.svm import SVC\n",
    "from sklearn.datasets import load_breast_cancer\n",
    "from sklearn.model_selection import train_test_split\n",
    "from sklearn.preprocessing import MinMaxScaler\n",
    "\n",
    "cancer = load_breast_cancer()\n",
    "X_train,X_test,y_train,y_test = train_test_split(cancer.data,cancer.target, random_state=0)\n",
    "\n",
    "svm = SVC()\n",
    "svm.fit(X_train,y_train)\n",
    "print(\"스케일 조정 이전 : \",svm.score(X_test,y_test))\n",
    "\n",
    "scaler = MinMaxScaler().fit(X_train)\n",
    "\n",
    "X_train_scaled = scaler.transform(X_train)\n",
    "X_test_scaled = scaler.transform(X_test)\n",
    "\n",
    "svm = SVC()\n",
    "svm.fit(X_train_scaled,y_train)\n",
    "\n",
    "print(\"스케일 조정 이후 : \",svm.score(X_test_scaled,y_test))"
   ]
  },
  {
   "cell_type": "markdown",
   "metadata": {},
   "source": [
    "# 데이터 전처리와 매개변수 선택\n",
    "\n",
    "GridSearchCV를 사용해 더 좋은 SVC 매개변수를 찾으려고 한다."
   ]
  },
  {
   "cell_type": "code",
   "execution_count": 14,
   "metadata": {},
   "outputs": [
    {
     "name": "stdout",
     "output_type": "stream",
     "text": [
      "최상의 교차 검증 정확도 :  0.9812311901504789\n",
      "테스트 점수 :  0.972027972027972\n",
      "최적의 매개변수 :  {'C': 1.0, 'gamma': 1.0}\n"
     ]
    }
   ],
   "source": [
    "from sklearn.model_selection import GridSearchCV\n",
    "param_grid = {'C':np.logspace(-3,2,6),'gamma':np.logspace(-3,2,6)}\n",
    "grid = GridSearchCV(SVC(),param_grid=param_grid, cv=5)\n",
    "grid.fit(X_train_scaled,y_train)\n",
    "\n",
    "print(\"최상의 교차 검증 정확도 : \",grid.best_score_)\n",
    "print('테스트 점수 : ',grid.score(X_test_scaled,y_test))\n",
    "print('최적의 매개변수 : ',grid.best_params_)"
   ]
  },
  {
   "cell_type": "markdown",
   "metadata": {},
   "source": [
    "위의 예에서 SVC의 매개변수에 대해 그리드 서치를 수행했다. 그러나 데이터의 최솟값과 최대값을 계산할 때 훈련 세트의 모든 데이터를 사용한 후 그리드 서치의 교차검증을 시행하였다. 교차 검증시 원본 훈련 세트의 일부는 훈련 폴드가 되고 일부는 검증 폴드가 되는데 검증 폴드에 있는 정보까지 검증 이전에 이미 사용한 셈이 되었다. <br>\n",
    "만일 새로운 데이터가 관측되면 이 데이터는 훈련 데이터의 스케일 조정에 사용되지 않는 것이라, 그 최소,최대값이 훈련데이터와 다를 수 있다.(다음 그림 참고)<br>\n",
    "\n",
    "교차 검증에서 최적의 매개변수를 찾지 못하고 낙관적인 결과가 만들어지게 된다. 이 문제를 해결하기 위해서는 교차 검증의 분할이 모든 전처리 과정보다 앞서 이뤄져야한다. Pipeline은 여러 처리 단계를 하나의 scikit-learn 추정기 형태로 묶어주는 파이썬 클래스이다."
   ]
  },
  {
   "cell_type": "code",
   "execution_count": 15,
   "metadata": {},
   "outputs": [
    {
     "data": {
      "image/png": "[encoded data removed]",
      "text/plain": [
       "<Figure size 1080x720 with 2 Axes>"
      ]
     },
     "metadata": {},
     "output_type": "display_data"
    }
   ],
   "source": [
    "mglearn.plots.plot_improper_processing()"
   ]
  },
  {
   "cell_type": "markdown",
   "metadata": {},
   "source": [
    "# 파이프라인 구축\n",
    "MinMaxScaler로 데이터의 스케일을 조정하고 SVM 모델을 훈련시키는 워크플로(workflow)를 Pipeline으로 어떻게 표현하는지 알아본다."
   ]
  },
  {
   "cell_type": "code",
   "execution_count": 16,
   "metadata": {},
   "outputs": [],
   "source": [
    "# 각 단계를 리스트로 전달하여 파이프라인 객체를 만든다. 각 단계는 추정기의 객체와 임의의 이름으로 구성된 튜플이다.\n",
    "# 임의의 이름은 아무 문자열이나 가능하지만 __같은 이중 밑줄 문자를 포함하면 안된다.\n",
    "from sklearn.pipeline import Pipeline\n",
    "pipe = Pipeline([('scaler',MinMaxScaler()),('svm',SVC())])\n",
    "\n",
    "# 첫 번째 단계는 scaler라는 이름으로 MinMaxScaler의 객체, 두 번째는 'svm'이라는 이름으로 SVC의 객체이다."
   ]
  },
  {
   "cell_type": "code",
   "execution_count": 17,
   "metadata": {},
   "outputs": [
    {
     "data": {
      "text/plain": [
       "Pipeline(memory=None,\n",
       "         steps=[('scaler', MinMaxScaler(copy=True, feature_range=(0, 1))),\n",
       "                ('svm',\n",
       "                 SVC(C=1.0, break_ties=False, cache_size=200, class_weight=None,\n",
       "                     coef0=0.0, decision_function_shape='ovr', degree=3,\n",
       "                     gamma='scale', kernel='rbf', max_iter=-1,\n",
       "                     probability=False, random_state=None, shrinking=True,\n",
       "                     tol=0.001, verbose=False))],\n",
       "         verbose=False)"
      ]
     },
     "execution_count": 17,
     "metadata": {},
     "output_type": "execute_result"
    }
   ],
   "source": [
    "# scikit-learn의 다른 예측 모델처럼 파이프라인에서 fit메서드로 훈련\n",
    "\n",
    "pipe.fit(X_train,y_train)\n",
    "\n",
    "# 훈련 데이터를 첫 째 단계의 fit메서드로 변환하고, 이어서 두 번째 단계의 fit 메서드로 모델을 훈련"
   ]
  },
  {
   "cell_type": "code",
   "execution_count": 18,
   "metadata": {},
   "outputs": [
    {
     "data": {
      "text/plain": [
       "0.972027972027972"
      ]
     },
     "execution_count": 18,
     "metadata": {},
     "output_type": "execute_result"
    }
   ],
   "source": [
    "pipe.score(X_test,y_test)\n",
    "\n",
    "# score메서드를 호출하면 먼저 scaler를 사용하여 테스트 데이터를 변환하고, 변환된 데이터에 SVM 모델의 score 메서드를 호출한다."
   ]
  },
  {
   "cell_type": "markdown",
   "metadata": {},
   "source": [
    "파이프라인을 사용하면 '전처리+분류' 과정을 위해 작성해야할 코드가 줄어든다."
   ]
  },
  {
   "cell_type": "markdown",
   "metadata": {},
   "source": [
    "# 그리드 서치에 파이프라인 적용하기\n",
    "매개변수 그리드를 만들 때 조금 달라지는 것이 있는데, 각 매개변수가 파이프라인의 어떤 단계에 속하는지 알려줘야한다.<br>\n",
    "파이프라인용 매개변수 그리드는 단계 이름과 매개변수 이름을 '__'(밑줄문자 2개)로 연결해 만든다."
   ]
  },
  {
   "cell_type": "code",
   "execution_count": 21,
   "metadata": {},
   "outputs": [],
   "source": [
    "param_grid = {'svm__C':np.logspace(-3,2,6),'svm__gamma':np.logspace(-3,2,6)}"
   ]
  },
  {
   "cell_type": "code",
   "execution_count": 23,
   "metadata": {},
   "outputs": [
    {
     "name": "stdout",
     "output_type": "stream",
     "text": [
      "최상의 교차 검증 정확도 :  0.9812311901504789\n",
      "테스트 점수 :  0.972027972027972\n",
      "최적의 매개변수 :  {'svm__C': 1.0, 'svm__gamma': 1.0}\n"
     ]
    }
   ],
   "source": [
    "# 이 매개변수 그리드로 GridSearchCV를 보통 때처럼 사용할 수 있다.\n",
    "grid = GridSearchCV(pipe,param_grid=param_grid,cv=5)\n",
    "grid.fit(X_train,y_train)\n",
    "\n",
    "print(\"최상의 교차 검증 정확도 : \",grid.best_score_)\n",
    "print('테스트 점수 : ',grid.score(X_test,y_test))\n",
    "print('최적의 매개변수 : ',grid.best_params_)"
   ]
  },
  {
   "cell_type": "markdown",
   "metadata": {},
   "source": [
    "이전의 그리드 서치와 다른 점은 교차 검증의 각 분할에 MinMaxScaler가 훈련폴드에 매번 적용되어, 매개변수 검색 과정에 검증 폴드의 정보가 누설되지 않는다는 점이다.(다음 그림 참고)"
   ]
  },
  {
   "cell_type": "code",
   "execution_count": 24,
   "metadata": {},
   "outputs": [
    {
     "data": {
      "image/png": "[encoded data removed]",
      "text/plain": [
       "<Figure size 1080x576 with 2 Axes>"
      ]
     },
     "metadata": {},
     "output_type": "display_data"
    }
   ],
   "source": [
    "mglearn.plots.plot_proper_processing()"
   ]
  },
  {
   "cell_type": "markdown",
   "metadata": {},
   "source": [
    "# 파이프라인 인터페이스\n",
    "파이프라인은 전처리나 분류에 국한하지 않고 어떤 추정기와도 연결할 수 있다. 예를 들어 특성 추출, 특성 선택, 스케일 변결, 분류의 총 네 단계를 포함하는 파이프라인을 만들 수도 있고, 마지막 단계가 분류 대신 회귀나 군집이 될 수도 있다.\n",
    "\n",
    "파이프라인에 들어갈 추정기는 마지막 단계를 제외하고 모두 transform 메서드를 가지고 있어야한다. 그래야 다음 단계를 위한 새로운 데이터 표현을 만들 수 있다.\n",
    "\n",
    "내부적으론는 Pipeline.fit 메서드가 실행된는 동안, 파이프라인은 각 단계에서 이전 단계의 transform의 출력을 입력으로 받아 fit과 transform의 출력을 입력으로 받아 fit과 transform 메서드를 차례로 호출한다.(혹은 fit_transform을 호출) 그리고 마지막 단계에서는 fit 메서드만 호출한다.\n",
    "\n",
    "pipeline.steps는 튜플의 메서드라 pipeline.steps[0][1]와 같은 방식으로 추정기를 조회할 수 있다."
   ]
  },
  {
   "cell_type": "code",
   "execution_count": 25,
   "metadata": {},
   "outputs": [
    {
     "data": {
      "text/plain": [
       "'\\ndef fit(self,X,y):\\n    X_transformed = X\\n    for name,esimator in self.steps[:-1]:\\n        X_transformed = esimator.fit_transform(X_transformed, y)\\n    self.steps[-1][1].fit(X_transformed,y)\\n    return self\\n\\ndef predict(self,X):\\n    X_transformed = X\\n    for step in self.steps[:-1]:\\n        X_transformed = step[1].transform(X_transformed)\\n        \\n    return self.steps[-1][1].predict(X_transformed)\\n'"
      ]
     },
     "execution_count": 25,
     "metadata": {},
     "output_type": "execute_result"
    }
   ],
   "source": [
    "# 파이프라인 메서드의 구현 형태\n",
    "# 실행하지 마시오.\n",
    "'''\n",
    "def fit(self,X,y):\n",
    "    X_transformed = X\n",
    "    for name,esimator in self.steps[:-1]:\n",
    "        X_transformed = esimator.fit_transform(X_transformed, y)\n",
    "    self.steps[-1][1].fit(X_transformed,y)\n",
    "    return self\n",
    "\n",
    "def predict(self,X):\n",
    "    X_transformed = X\n",
    "    for step in self.steps[:-1]:\n",
    "        X_transformed = step[1].transform(X_transformed)\n",
    "        \n",
    "    return self.steps[-1][1].predict(X_transformed)\n",
    "'''"
   ]
  },
  {
   "cell_type": "markdown",
   "metadata": {},
   "source": [
    "파이프라인의 마지막 단계에는 PCA나 스케일 변환 같은 것을 포함하는 방식으로 구현이 가능하다. 즉 predict는 마지막 단계에 꼭 있을 필요는 없느나 최소한 fit 메서드는 있어야한다.\n",
    "\n",
    "### make_pipeline을 사용한 파이프라인 생성\n",
    "파이프라인을 만드는게 좀 번거롭기도 하고 각 단계에 특별히 이름을 부여할 필요가 없는 경우도 있으므로 간소화된 방법을 쓸 수 있다."
   ]
  },
  {
   "cell_type": "code",
   "execution_count": 26,
   "metadata": {},
   "outputs": [],
   "source": [
    "from sklearn.pipeline import make_pipeline\n",
    "\n",
    "# 표준적인 방법\n",
    "pipe_long = Pipeline([('scaler',MinMaxScaler()),('svm',SVC(C=100))])\n",
    "\n",
    "# 간소화된 방법\n",
    "pipe_short = make_pipeline(MinMaxScaler(),SVC(C=100))"
   ]
  },
  {
   "cell_type": "markdown",
   "metadata": {},
   "source": [
    "위 두 파이프라인 객체는 똑같은 작업을 수행하지만 pipe_short의 경우 단계의 이름을 자동으로 만든다."
   ]
  },
  {
   "cell_type": "code",
   "execution_count": 27,
   "metadata": {},
   "outputs": [
    {
     "data": {
      "text/plain": [
       "[('minmaxscaler', MinMaxScaler(copy=True, feature_range=(0, 1))),\n",
       " ('svc',\n",
       "  SVC(C=100, break_ties=False, cache_size=200, class_weight=None, coef0=0.0,\n",
       "      decision_function_shape='ovr', degree=3, gamma='scale', kernel='rbf',\n",
       "      max_iter=-1, probability=False, random_state=None, shrinking=True,\n",
       "      tol=0.001, verbose=False))]"
      ]
     },
     "execution_count": 27,
     "metadata": {},
     "output_type": "execute_result"
    }
   ],
   "source": [
    "# steps 속성에 각 단계의 이름이 있다. 일반적으로 단계의 이름은 파이썬 클래스의 소문자 버전이다.\n",
    "pipe_short.steps"
   ]
  },
  {
   "cell_type": "code",
   "execution_count": 28,
   "metadata": {},
   "outputs": [
    {
     "data": {
      "text/plain": [
       "[('minmaxscaler-1', MinMaxScaler(copy=True, feature_range=(0, 1))),\n",
       " ('pca',\n",
       "  PCA(copy=True, iterated_power='auto', n_components=2, random_state=None,\n",
       "      svd_solver='auto', tol=0.0, whiten=False)),\n",
       " ('minmaxscaler-2', MinMaxScaler(copy=True, feature_range=(0, 1)))]"
      ]
     },
     "execution_count": 28,
     "metadata": {},
     "output_type": "execute_result"
    }
   ],
   "source": [
    "# 같은 클래스를 여러번 사용하면 이름 뒤에 숫자가 추가로 붙는다.\n",
    "from sklearn.decomposition import PCA\n",
    "\n",
    "pipe = make_pipeline(MinMaxScaler(),PCA(n_components=2),MinMaxScaler())\n",
    "pipe.steps"
   ]
  },
  {
   "cell_type": "markdown",
   "metadata": {},
   "source": [
    "### 단계 속성에 접근\n",
    "단계 이름을 키로 가진 딕셔너리인 named_steps 속성을 사용하면 파이프라인의 각 단계에 쉽게 접근해 속성을 확인할 수 있다."
   ]
  },
  {
   "cell_type": "code",
   "execution_count": 30,
   "metadata": {},
   "outputs": [
    {
     "data": {
      "text/plain": [
       "(2, 30)"
      ]
     },
     "execution_count": 30,
     "metadata": {},
     "output_type": "execute_result"
    }
   ],
   "source": [
    "pipe.fit(cancer.data)\n",
    "\n",
    "components = pipe.named_steps['pca'].components_\n",
    "\n",
    "components.shape"
   ]
  },
  {
   "cell_type": "markdown",
   "metadata": {},
   "source": [
    "### 그리드 서치 내의 파이프라인 속성에 접근"
   ]
  },
  {
   "cell_type": "code",
   "execution_count": 31,
   "metadata": {},
   "outputs": [
    {
     "data": {
      "text/plain": [
       "GridSearchCV(cv=5, error_score=nan,\n",
       "             estimator=Pipeline(memory=None,\n",
       "                                steps=[('standardscaler',\n",
       "                                        StandardScaler(copy=True,\n",
       "                                                       with_mean=True,\n",
       "                                                       with_std=True)),\n",
       "                                       ('logisticregression',\n",
       "                                        LogisticRegression(C=1.0,\n",
       "                                                           class_weight=None,\n",
       "                                                           dual=False,\n",
       "                                                           fit_intercept=True,\n",
       "                                                           intercept_scaling=1,\n",
       "                                                           l1_ratio=None,\n",
       "                                                           max_iter=100,\n",
       "                                                           multi_class='auto',\n",
       "                                                           n_jobs=None,\n",
       "                                                           penalty='l2',\n",
       "                                                           random_state=None,\n",
       "                                                           solver='liblinear',\n",
       "                                                           tol=0.0001,\n",
       "                                                           verbose=0,\n",
       "                                                           warm_start=False))],\n",
       "                                verbose=False),\n",
       "             iid='deprecated', n_jobs=None,\n",
       "             param_grid={'logisticregression__C': array([1.e-02, 1.e-01, 1.e+00, 1.e+01, 1.e+02])},\n",
       "             pre_dispatch='2*n_jobs', refit=True, return_train_score=False,\n",
       "             scoring=None, verbose=0)"
      ]
     },
     "execution_count": 31,
     "metadata": {},
     "output_type": "execute_result"
    }
   ],
   "source": [
    "from sklearn.preprocessing import StandardScaler\n",
    "from sklearn.linear_model import LogisticRegression\n",
    "pipe = make_pipeline(StandardScaler(),LogisticRegression(solver='liblinear'))\n",
    "param_grid = {'logisticregression__C':np.logspace(-2,2,5)}\n",
    "\n",
    "X_train,X_test,y_train,y_test = train_test_split(cancer.data,cancer.target,random_state=4)\n",
    "\n",
    "grid = GridSearchCV(pipe,param_grid,cv=5)\n",
    "grid.fit(X_train,y_train)"
   ]
  },
  {
   "cell_type": "code",
   "execution_count": 32,
   "metadata": {},
   "outputs": [
    {
     "data": {
      "text/plain": [
       "Pipeline(memory=None,\n",
       "         steps=[('standardscaler',\n",
       "                 StandardScaler(copy=True, with_mean=True, with_std=True)),\n",
       "                ('logisticregression',\n",
       "                 LogisticRegression(C=0.1, class_weight=None, dual=False,\n",
       "                                    fit_intercept=True, intercept_scaling=1,\n",
       "                                    l1_ratio=None, max_iter=100,\n",
       "                                    multi_class='auto', n_jobs=None,\n",
       "                                    penalty='l2', random_state=None,\n",
       "                                    solver='liblinear', tol=0.0001, verbose=0,\n",
       "                                    warm_start=False))],\n",
       "         verbose=False)"
      ]
     },
     "execution_count": 32,
     "metadata": {},
     "output_type": "execute_result"
    }
   ],
   "source": [
    "grid.best_estimator_"
   ]
  },
  {
   "cell_type": "code",
   "execution_count": 33,
   "metadata": {},
   "outputs": [
    {
     "data": {
      "text/plain": [
       "LogisticRegression(C=0.1, class_weight=None, dual=False, fit_intercept=True,\n",
       "                   intercept_scaling=1, l1_ratio=None, max_iter=100,\n",
       "                   multi_class='auto', n_jobs=None, penalty='l2',\n",
       "                   random_state=None, solver='liblinear', tol=0.0001, verbose=0,\n",
       "                   warm_start=False)"
      ]
     },
     "execution_count": 33,
     "metadata": {},
     "output_type": "execute_result"
    }
   ],
   "source": [
    "# 한 단계에만 접근하려면 named_steps 속성 이용\n",
    "grid.best_estimator_.named_steps['logisticregression']"
   ]
  },
  {
   "cell_type": "code",
   "execution_count": 34,
   "metadata": {},
   "outputs": [
    {
     "data": {
      "text/plain": [
       "array([[-0.38856355, -0.37529972, -0.37624793, -0.39649439, -0.11519359,\n",
       "         0.01709608, -0.3550729 , -0.38995414, -0.05780518,  0.20879795,\n",
       "        -0.49487753, -0.0036321 , -0.37122718, -0.38337777, -0.04488715,\n",
       "         0.19752816,  0.00424822, -0.04857196,  0.21023226,  0.22444999,\n",
       "        -0.54669761, -0.52542026, -0.49881157, -0.51451071, -0.39256847,\n",
       "        -0.12293451, -0.38827425, -0.4169485 , -0.32533663, -0.13926972]])"
      ]
     },
     "execution_count": 34,
     "metadata": {},
     "output_type": "execute_result"
    }
   ],
   "source": [
    "# 각 입력 특성에 연결된 계수 역시 출력할 수 있다.\n",
    "grid.best_estimator_.named_steps['logisticregression'].coef_"
   ]
  },
  {
   "cell_type": "markdown",
   "metadata": {},
   "source": [
    "# 전처리와 모델의 매개변수를 위한 그리드 서치"
   ]
  },
  {
   "cell_type": "code",
   "execution_count": 35,
   "metadata": {},
   "outputs": [],
   "source": [
    "# 다음 파이프라인은 스케일 조정, 다항식 특성 선택, 리지 회귀의 단계\n",
    "\n",
    "from sklearn.datasets import load_boston\n",
    "from sklearn.preprocessing import PolynomialFeatures\n",
    "from sklearn.linear_model import Ridge\n",
    "\n",
    "boston = load_boston()\n",
    "X_train,X_test,y_train,y_test = train_test_split(boston.data,boston.target, random_state=0)\n",
    "\n",
    "pipe = make_pipeline(StandardScaler(),PolynomialFeatures(),Ridge())"
   ]
  },
  {
   "cell_type": "code",
   "execution_count": 36,
   "metadata": {},
   "outputs": [],
   "source": [
    "param_grid = {'polynomialfeatures__degree':[1,2,3],'ridge__alpha':np.logspace(-3,2,6)}"
   ]
  },
  {
   "cell_type": "code",
   "execution_count": 37,
   "metadata": {},
   "outputs": [
    {
     "data": {
      "text/plain": [
       "GridSearchCV(cv=5, error_score=nan,\n",
       "             estimator=Pipeline(memory=None,\n",
       "                                steps=[('standardscaler',\n",
       "                                        StandardScaler(copy=True,\n",
       "                                                       with_mean=True,\n",
       "                                                       with_std=True)),\n",
       "                                       ('polynomialfeatures',\n",
       "                                        PolynomialFeatures(degree=2,\n",
       "                                                           include_bias=True,\n",
       "                                                           interaction_only=False,\n",
       "                                                           order='C')),\n",
       "                                       ('ridge',\n",
       "                                        Ridge(alpha=1.0, copy_X=True,\n",
       "                                              fit_intercept=True, max_iter=None,\n",
       "                                              normalize=False,\n",
       "                                              random_state=None, solver='auto',\n",
       "                                              tol=0.001))],\n",
       "                                verbose=False),\n",
       "             iid='deprecated', n_jobs=-1,\n",
       "             param_grid={'polynomialfeatures__degree': [1, 2, 3],\n",
       "                         'ridge__alpha': array([1.e-03, 1.e-02, 1.e-01, 1.e+00, 1.e+01, 1.e+02])},\n",
       "             pre_dispatch='2*n_jobs', refit=True, return_train_score=False,\n",
       "             scoring=None, verbose=0)"
      ]
     },
     "execution_count": 37,
     "metadata": {},
     "output_type": "execute_result"
    }
   ],
   "source": [
    "grid = GridSearchCV(pipe,param_grid=param_grid,cv=5,n_jobs=-1)\n",
    "grid.fit(X_train,y_train)"
   ]
  },
  {
   "cell_type": "code",
   "execution_count": 38,
   "metadata": {},
   "outputs": [
    {
     "data": {
      "text/plain": [
       "<matplotlib.collections.PolyCollection at 0x21258516f08>"
      ]
     },
     "execution_count": 38,
     "metadata": {},
     "output_type": "execute_result"
    },
    {
     "data": {
      "image/png": "[encoded data removed]",
      "text/plain": [
       "<Figure size 432x288 with 1 Axes>"
      ]
     },
     "metadata": {
      "needs_background": "light"
     },
     "output_type": "display_data"
    }
   ],
   "source": [
    "mglearn.tools.heatmap(grid.cv_results_['mean_test_score'].reshape(3,-1),\n",
    "                     xlabel='ridge__alpha',ylabel='polynomialfeatures__degree',\n",
    "                     xticklabels=param_grid['ridge__alpha'],yticklabels=param_grid['polynomialfeatures__degree'],vmin=0)"
   ]
  },
  {
   "cell_type": "code",
   "execution_count": 54,
   "metadata": {},
   "outputs": [
    {
     "data": {
      "text/plain": [
       "array([ 7.21915761e-01,  7.21919281e-01,  7.21954085e-01,  7.22265610e-01,\n",
       "        7.23325945e-01,  7.07951636e-01,  7.60170834e-01,  7.59448408e-01,\n",
       "        7.66651449e-01,  7.94966818e-01,  8.28726141e-01,  8.04832665e-01,\n",
       "       -5.81095202e+02, -1.60898751e+02, -1.31972858e+01, -3.17933469e-02,\n",
       "        6.48340571e-01,  6.54083028e-01])"
      ]
     },
     "execution_count": 54,
     "metadata": {},
     "output_type": "execute_result"
    }
   ],
   "source": [
    "grid.cv_results_['mean_test_score']"
   ]
  },
  {
   "cell_type": "code",
   "execution_count": 51,
   "metadata": {},
   "outputs": [
    {
     "data": {
      "text/plain": [
       "{'polynomialfeatures__degree': 2, 'ridge__alpha': 10.0}"
      ]
     },
     "execution_count": 51,
     "metadata": {},
     "output_type": "execute_result"
    }
   ],
   "source": [
    "grid.best_params_"
   ]
  },
  {
   "cell_type": "code",
   "execution_count": 55,
   "metadata": {},
   "outputs": [
    {
     "data": {
      "text/plain": [
       "0.7683045464100124"
      ]
     },
     "execution_count": 55,
     "metadata": {},
     "output_type": "execute_result"
    }
   ],
   "source": [
    "grid.score(X_test,y_test)"
   ]
  },
  {
   "cell_type": "code",
   "execution_count": 60,
   "metadata": {},
   "outputs": [
    {
     "data": {
      "text/plain": [
       "0.6272671927504455"
      ]
     },
     "execution_count": 60,
     "metadata": {},
     "output_type": "execute_result"
    }
   ],
   "source": [
    "# 다음은 다항식 특성이 없는 그리드 서치\n",
    "pipe = make_pipeline(StandardScaler(),Ridge())\n",
    "grid = GridSearchCV(pipe,{'ridge__alpha':param_grid['ridge__alpha']},cv=5)\n",
    "grid.fit(X_train,y_train)\n",
    "grid.score(X_test,y_test)"
   ]
  },
  {
   "cell_type": "markdown",
   "metadata": {},
   "source": [
    "모델의 매개변수와 함께 전처리 과정의 매개변수를 찾는 것은 매우 강력한 전략이다. 하지만 GridSearchCV는 지정한 매개변수의 모든 가능한 조합을 시도하므로 많은 매개변수를 추가할수록 만들어야할 모델이 급격히 증가한다.\n",
    "\n",
    "# 모델 선택을 위한 그리드 서치\n",
    "파이프라인을 구성하는 단계도 탐색 대상으로 삼을 수 있다. 예를 들어 StandardScaler와 MinMaxScaler 중 어떤 것을 사용할지 같은 문제이다. 이렇게 하면 탐색 범위가 넣어지므로 주의 깊게 고민해야한다. 모든 알고리즘을 시도해보는 것이 필수적인 머신러닝 전략은 아니다."
   ]
  },
  {
   "cell_type": "code",
   "execution_count": 71,
   "metadata": {},
   "outputs": [],
   "source": [
    "# 랜덤포레스트와 SVC를 비교, SVC는 데이터 스케일에 영향을 받으므로 StandardScaler를 사용할지 말지 선택해야한다.\n",
    "\n",
    "pipe = Pipeline([('preprocessing',StandardScaler()),('classifier',SVC())])\n",
    "\n",
    "# 이제 검색할 parameter_grid를 정의. classifier는 랜덤포레스트나 SVC가 되어야한다. \n",
    "# 두 모델의 매개변수와 전처리가 다르므로 비대칭 매개변수 그리드의 '리스트'를 사용\n",
    "\n",
    "from sklearn.ensemble import RandomForestClassifier\n",
    "param_grid = [{'classifier':[SVC()],'preprocessing':[StandardScaler()],\n",
    "              'classifier__gamma':np.logspace(-3,2,6),'classifier__C':np.logspace(-3,2,6)},\n",
    "             {'classifier':[RandomForestClassifier(n_estimators=100)],\n",
    "              'preprocessing':[None],'classifier__max_features':[1,2,3]}]"
   ]
  },
  {
   "cell_type": "code",
   "execution_count": 72,
   "metadata": {},
   "outputs": [
    {
     "data": {
      "text/plain": [
       "GridSearchCV(cv=5, error_score=nan,\n",
       "             estimator=Pipeline(memory=None,\n",
       "                                steps=[('preprocessing',\n",
       "                                        StandardScaler(copy=True,\n",
       "                                                       with_mean=True,\n",
       "                                                       with_std=True)),\n",
       "                                       ('classifier',\n",
       "                                        SVC(C=1.0, break_ties=False,\n",
       "                                            cache_size=200, class_weight=None,\n",
       "                                            coef0=0.0,\n",
       "                                            decision_function_shape='ovr',\n",
       "                                            degree=3, gamma='scale',\n",
       "                                            kernel='rbf', max_iter=-1,\n",
       "                                            probability=False,\n",
       "                                            random_state=None, shrinki...\n",
       "                                                                min_impurity_decrease=0.0,\n",
       "                                                                min_impurity_split=None,\n",
       "                                                                min_samples_leaf=1,\n",
       "                                                                min_samples_split=2,\n",
       "                                                                min_weight_fraction_leaf=0.0,\n",
       "                                                                n_estimators=100,\n",
       "                                                                n_jobs=None,\n",
       "                                                                oob_score=False,\n",
       "                                                                random_state=None,\n",
       "                                                                verbose=0,\n",
       "                                                                warm_start=False)],\n",
       "                          'classifier__max_features': [1, 2, 3],\n",
       "                          'preprocessing': [None]}],\n",
       "             pre_dispatch='2*n_jobs', refit=True, return_train_score=False,\n",
       "             scoring=None, verbose=0)"
      ]
     },
     "execution_count": 72,
     "metadata": {},
     "output_type": "execute_result"
    }
   ],
   "source": [
    "X_train,X_test,y_train,y_test = train_test_split(cancer.data,cancer.target,random_state=0)\n",
    "\n",
    "grid = GridSearchCV(pipe,param_grid,cv=5)\n",
    "grid.fit(X_train,y_train)"
   ]
  },
  {
   "cell_type": "code",
   "execution_count": 68,
   "metadata": {
    "scrolled": true
   },
   "outputs": [
    {
     "name": "stdout",
     "output_type": "stream",
     "text": [
      "최적의 매개변수:\n",
      "{'classifier': SVC(C=10.0, break_ties=False, cache_size=200, class_weight=None, coef0=0.0,\n",
      "    decision_function_shape='ovr', degree=3, gamma=0.01, kernel='rbf',\n",
      "    max_iter=-1, probability=False, random_state=None, shrinking=True,\n",
      "    tol=0.001, verbose=False), 'classifier__C': 10.0, 'classifier__gamma': 0.01, 'preprocessing': StandardScaler(copy=True, with_mean=True, with_std=True)} \n",
      "\n",
      "최상의 교차 검증 점수:0.9858823529411765\n",
      "테스트 세트 점수:0.9790209790209791\n"
     ]
    }
   ],
   "source": [
    "print('최적의 매개변수:\\n{}'.format(grid.best_params_),'\\n')\n",
    "print('최상의 교차 검증 점수:{}'.format(grid.best_score_))\n",
    "print('테스트 세트 점수:{}'.format(grid.score(X_test,y_test)))"
   ]
  },
  {
   "cell_type": "markdown",
   "metadata": {},
   "source": [
    "### 중복 계산 피하기\n",
    "대규모 그리드 서치를 수행할 때 종종 동일한 단계가 여러 번 수행된다. 예를 들어 classifier의 각 설정에 대해 StandardScaler가 다시 만들어진다. PCA나 NMF 같이 비용이 많이 드는 연산을 사용하면 계산 낭비가 심해진다.\n",
    "\n",
    "가장 간단한 해결책은 파이프라인의 memory 매개변수를 사용해 계산 결과를 캐싱하는 것이다. 이 매개변수는 joblib.Memory 객체나 캐싱할 경로를 받는다."
   ]
  },
  {
   "cell_type": "code",
   "execution_count": 69,
   "metadata": {},
   "outputs": [],
   "source": [
    "pipe = Pipeline([('preprocessing',StandardScaler()),('classifier',SVC())],memory='cache_folder')"
   ]
  },
  {
   "cell_type": "markdown",
   "metadata": {},
   "source": [
    "두 가지 단점이 있다.\n",
    "- 캐시는 디스크에 저장되어 관리되므로 실제 디스크에 읽고 쓰기 위해서는 직렬화가 필요하다. 즉 시간이 오래 걸리는 변환이어야 memory 매개변수를 사용하여 속도를 높이는 효과를 낼 수 있다. 단순히 스케일을 변환하는 정도의 작업이라면 memory변수를 설정하지 않는게 나을 수도 있다.\n",
    "- n_jobs 매개변수가 캐싱을 방해한다. 그리드 서치의 실행 순서에 따라 최악의 경우 캐시되기 전에 n_jobs만큼의 작업 프로세스가 동시에 동일한 계산을 중복으로 수행할 수 있다.\n",
    "\n",
    "dask-ml 라이브러리에서 제공하는 GridSearchCV를 사용하면 이런 단점을 모두 피할 수 있다."
   ]
  },
  {
   "cell_type": "code",
   "execution_count": null,
   "metadata": {},
   "outputs": [],
   "source": []
  }
 ],
 "metadata": {
  "kernelspec": {
   "display_name": "Python 3",
   "language": "python",
   "name": "python3"
  },
  "language_info": {
   "codemirror_mode": {
    "name": "ipython",
    "version": 3
   },
   "file_extension": ".py",
   "mimetype": "text/x-python",
   "name": "python",
   "nbconvert_exporter": "python",
   "pygments_lexer": "ipython3",
   "version": "3.7.4"
  }
 },
 "nbformat": 4,
 "nbformat_minor": 2
}
