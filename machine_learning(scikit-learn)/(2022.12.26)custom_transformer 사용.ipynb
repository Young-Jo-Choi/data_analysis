{
 "cells": [
  {
   "cell_type": "markdown",
   "metadata": {},
   "source": [
    "# Custom Transformer 구축\n",
    "- 적용 및 검증\n",
    "- pipeline 구축 및 cross validation 사용"
   ]
  },
  {
   "cell_type": "code",
   "execution_count": 30,
   "metadata": {},
   "outputs": [],
   "source": [
    "import pandas as pd\n",
    "import numpy as np\n",
    "from IPython.display import display\n",
    "from warnings import filterwarnings\n",
    "filterwarnings('ignore')\n",
    "\n",
    "from sklearn.datasets import load_iris\n",
    "iris = load_iris()\n",
    "\n",
    "df = pd.DataFrame(iris.data, columns=iris.feature_names)\n",
    "df['target'] = iris.target"
   ]
  },
  {
   "cell_type": "code",
   "execution_count": 31,
   "metadata": {},
   "outputs": [
    {
     "data": {
      "text/plain": [
       "sepal length (cm)     7\n",
       "sepal width (cm)     10\n",
       "petal length (cm)     3\n",
       "petal width (cm)     10\n",
       "target                0\n",
       "dtype: int64"
      ]
     },
     "execution_count": 31,
     "metadata": {},
     "output_type": "execute_result"
    }
   ],
   "source": [
    "row_null = np.random.randint(0, 150, 30)\n",
    "col_null = np.random.randint(0, 4, 30)\n",
    "\n",
    "for x,y in zip(row_null, col_null):\n",
    "    df.iloc[x, y] = np.nan\n",
    "df.isnull().sum()"
   ]
  },
  {
   "cell_type": "code",
   "execution_count": 85,
   "metadata": {},
   "outputs": [],
   "source": [
    "# custom transformer define\n",
    "from sklearn.base import BaseEstimator, TransformerMixin\n",
    "\n",
    "class fillna_median(BaseEstimator, TransformerMixin):\n",
    "    def __init__(self, continuous_cols, categorical_cols):\n",
    "        self.continuous_cols = continuous_cols\n",
    "        self.categorical_cols = categorical_cols\n",
    "    \n",
    "    def fit(self, X, y = None):\n",
    "        self.median = X[self.continuous_cols].median()\n",
    "        self.mode = X[self.categorical_cols].mode().iloc[0]\n",
    "        # fit_transform 메서드를 위해 필요\n",
    "        return self\n",
    "    \n",
    "    def transform(self, X_test):\n",
    "        X_transformed = X_test.copy()\n",
    "        X_transformed[self.continuous_cols] = X_transformed[self.continuous_cols].fillna(self.median)\n",
    "        X_transformed[self.categorical_cols] = X_transformed[self.categorical_cols].fillna(self.mode)\n",
    "        return X_transformed"
   ]
  },
  {
   "cell_type": "code",
   "execution_count": 92,
   "metadata": {},
   "outputs": [
    {
     "data": {
      "text/html": [
       "<div>\n",
       "<style scoped>\n",
       "    .dataframe tbody tr th:only-of-type {\n",
       "        vertical-align: middle;\n",
       "    }\n",
       "\n",
       "    .dataframe tbody tr th {\n",
       "        vertical-align: top;\n",
       "    }\n",
       "\n",
       "    .dataframe thead th {\n",
       "        text-align: right;\n",
       "    }\n",
       "</style>\n",
       "<table border=\"1\" class=\"dataframe\">\n",
       "  <thead>\n",
       "    <tr style=\"text-align: right;\">\n",
       "      <th></th>\n",
       "      <th>train</th>\n",
       "      <th>test</th>\n",
       "    </tr>\n",
       "  </thead>\n",
       "  <tbody>\n",
       "    <tr>\n",
       "      <th>sepal length (cm)</th>\n",
       "      <td>5</td>\n",
       "      <td>2</td>\n",
       "    </tr>\n",
       "    <tr>\n",
       "      <th>sepal width (cm)</th>\n",
       "      <td>7</td>\n",
       "      <td>3</td>\n",
       "    </tr>\n",
       "    <tr>\n",
       "      <th>petal length (cm)</th>\n",
       "      <td>2</td>\n",
       "      <td>1</td>\n",
       "    </tr>\n",
       "    <tr>\n",
       "      <th>petal width (cm)</th>\n",
       "      <td>9</td>\n",
       "      <td>1</td>\n",
       "    </tr>\n",
       "  </tbody>\n",
       "</table>\n",
       "</div>"
      ],
      "text/plain": [
       "                   train  test\n",
       "sepal length (cm)      5     2\n",
       "sepal width (cm)       7     3\n",
       "petal length (cm)      2     1\n",
       "petal width (cm)       9     1"
      ]
     },
     "metadata": {},
     "output_type": "display_data"
    }
   ],
   "source": [
    "from sklearn.model_selection import train_test_split\n",
    "X_train,X_test,y_train,y_test = train_test_split(df.drop('target', axis=1), df['target'], test_size=0.3, random_state=42)\n",
    "null_dist = pd.DataFrame()\n",
    "null_dist['train'] = X_train.isnull().sum()\n",
    "null_dist['test'] = X_test.isnull().sum()\n",
    "display(null_dist)"
   ]
  },
  {
   "cell_type": "code",
   "execution_count": 93,
   "metadata": {},
   "outputs": [
    {
     "data": {
      "text/plain": [
       "(array([12, 16, 23, 30, 30, 30, 36]), array([1, 1, 0, 0, 2, 3, 1]))"
      ]
     },
     "execution_count": 93,
     "metadata": {},
     "output_type": "execute_result"
    }
   ],
   "source": [
    "null_idx = np.where(X_test.isnull())\n",
    "null_idx"
   ]
  },
  {
   "cell_type": "code",
   "execution_count": 94,
   "metadata": {},
   "outputs": [
    {
     "data": {
      "text/html": [
       "<div>\n",
       "<style scoped>\n",
       "    .dataframe tbody tr th:only-of-type {\n",
       "        vertical-align: middle;\n",
       "    }\n",
       "\n",
       "    .dataframe tbody tr th {\n",
       "        vertical-align: top;\n",
       "    }\n",
       "\n",
       "    .dataframe thead th {\n",
       "        text-align: right;\n",
       "    }\n",
       "</style>\n",
       "<table border=\"1\" class=\"dataframe\">\n",
       "  <thead>\n",
       "    <tr style=\"text-align: right;\">\n",
       "      <th></th>\n",
       "      <th>median</th>\n",
       "      <th>mode</th>\n",
       "    </tr>\n",
       "  </thead>\n",
       "  <tbody>\n",
       "    <tr>\n",
       "      <th>sepal length (cm)</th>\n",
       "      <td>5.8</td>\n",
       "      <td>5.1</td>\n",
       "    </tr>\n",
       "    <tr>\n",
       "      <th>sepal width (cm)</th>\n",
       "      <td>3.0</td>\n",
       "      <td>3.0</td>\n",
       "    </tr>\n",
       "    <tr>\n",
       "      <th>petal length (cm)</th>\n",
       "      <td>4.4</td>\n",
       "      <td>1.4</td>\n",
       "    </tr>\n",
       "    <tr>\n",
       "      <th>petal width (cm)</th>\n",
       "      <td>1.3</td>\n",
       "      <td>0.2</td>\n",
       "    </tr>\n",
       "  </tbody>\n",
       "</table>\n",
       "</div>"
      ],
      "text/plain": [
       "                   median  mode\n",
       "sepal length (cm)     5.8   5.1\n",
       "sepal width (cm)      3.0   3.0\n",
       "petal length (cm)     4.4   1.4\n",
       "petal width (cm)      1.3   0.2"
      ]
     },
     "execution_count": 94,
     "metadata": {},
     "output_type": "execute_result"
    }
   ],
   "source": [
    "fill_val = pd.DataFrame()\n",
    "fill_val['median'] = X_train.median()\n",
    "fill_val['mode'] = X_train.mode().iloc[0]\n",
    "fill_val"
   ]
  },
  {
   "cell_type": "code",
   "execution_count": 95,
   "metadata": {},
   "outputs": [],
   "source": [
    "myTransform = fillna_median(continuous_cols = ['sepal length (cm)', 'sepal width (cm)', 'petal length (cm)'],\n",
    "                            categorical_cols = ['petal width (cm)'])"
   ]
  },
  {
   "cell_type": "code",
   "execution_count": 96,
   "metadata": {},
   "outputs": [
    {
     "data": {
      "text/plain": [
       "sepal length (cm)    0\n",
       "sepal width (cm)     0\n",
       "petal length (cm)    0\n",
       "petal width (cm)     0\n",
       "dtype: int64"
      ]
     },
     "execution_count": 96,
     "metadata": {},
     "output_type": "execute_result"
    }
   ],
   "source": [
    "X_train = myTransform.fit_transform(X_train)\n",
    "X_train.isnull().sum()"
   ]
  },
  {
   "cell_type": "code",
   "execution_count": 98,
   "metadata": {},
   "outputs": [
    {
     "data": {
      "text/html": [
       "<div>\n",
       "<style scoped>\n",
       "    .dataframe tbody tr th:only-of-type {\n",
       "        vertical-align: middle;\n",
       "    }\n",
       "\n",
       "    .dataframe tbody tr th {\n",
       "        vertical-align: top;\n",
       "    }\n",
       "\n",
       "    .dataframe thead th {\n",
       "        text-align: right;\n",
       "    }\n",
       "</style>\n",
       "<table border=\"1\" class=\"dataframe\">\n",
       "  <thead>\n",
       "    <tr style=\"text-align: right;\">\n",
       "      <th></th>\n",
       "      <th>median</th>\n",
       "      <th>mode</th>\n",
       "    </tr>\n",
       "  </thead>\n",
       "  <tbody>\n",
       "    <tr>\n",
       "      <th>sepal length (cm)</th>\n",
       "      <td>5.8</td>\n",
       "      <td>5.1</td>\n",
       "    </tr>\n",
       "    <tr>\n",
       "      <th>sepal width (cm)</th>\n",
       "      <td>3.0</td>\n",
       "      <td>3.0</td>\n",
       "    </tr>\n",
       "    <tr>\n",
       "      <th>petal length (cm)</th>\n",
       "      <td>4.4</td>\n",
       "      <td>1.4</td>\n",
       "    </tr>\n",
       "    <tr>\n",
       "      <th>petal width (cm)</th>\n",
       "      <td>1.3</td>\n",
       "      <td>0.2</td>\n",
       "    </tr>\n",
       "  </tbody>\n",
       "</table>\n",
       "</div>"
      ],
      "text/plain": [
       "                   median  mode\n",
       "sepal length (cm)     5.8   5.1\n",
       "sepal width (cm)      3.0   3.0\n",
       "petal length (cm)     4.4   1.4\n",
       "petal width (cm)      1.3   0.2"
      ]
     },
     "metadata": {},
     "output_type": "display_data"
    },
    {
     "name": "stdout",
     "output_type": "stream",
     "text": [
      "idx : (12,1), sepal width (cm) : 3.0\n",
      "idx : (16,1), sepal width (cm) : 3.0\n",
      "idx : (23,0), sepal length (cm) : 5.8\n",
      "idx : (30,0), sepal length (cm) : 5.8\n",
      "idx : (30,2), petal length (cm) : 4.4\n",
      "idx : (30,3), petal width (cm) : 0.2\n",
      "idx : (36,1), sepal width (cm) : 3.0\n"
     ]
    }
   ],
   "source": [
    "# 실제로 원하는대로 값이 채워졌는지 확인\n",
    "X_test_transformed = myTransform.transform(X_test)\n",
    "\n",
    "display(fill_val)\n",
    "\n",
    "for x,y in zip(null_idx[0], null_idx[1]):\n",
    "    print(f'idx : ({x},{y}), {df.columns[y]} : {X_test_transformed.iloc[x,y]}')\n"
   ]
  },
  {
   "cell_type": "code",
   "execution_count": 105,
   "metadata": {},
   "outputs": [
    {
     "data": {
      "text/plain": [
       "array([0.96666667, 1.        , 0.86666667, 0.96666667, 1.        ])"
      ]
     },
     "execution_count": 105,
     "metadata": {},
     "output_type": "execute_result"
    }
   ],
   "source": [
    "# pipeline을 이용한 전처리\n",
    "# cross-validation을 이용한 모델 성능 평가\n",
    "\n",
    "from sklearn.pipeline import Pipeline\n",
    "from sklearn.linear_model import LogisticRegression\n",
    "from sklearn.model_selection import cross_val_score\n",
    "\n",
    "pipe = Pipeline([('fillna',fillna_median(continuous_cols = ['sepal length (cm)', 'sepal width (cm)', 'petal length (cm)'],\n",
    "                            categorical_cols = ['petal width (cm)'])),\n",
    "                  ('lr',LogisticRegression())])\n",
    "cross_val_score(pipe, df.drop('target',axis=1), df['target'], cv=5, scoring='accuracy')"
   ]
  },
  {
   "cell_type": "code",
   "execution_count": null,
   "metadata": {},
   "outputs": [],
   "source": []
  }
 ],
 "metadata": {
  "kernelspec": {
   "display_name": "Python 3.8.13 ('choi': conda)",
   "language": "python",
   "name": "python3"
  },
  "language_info": {
   "codemirror_mode": {
    "name": "ipython",
    "version": 3
   },
   "file_extension": ".py",
   "mimetype": "text/x-python",
   "name": "python",
   "nbconvert_exporter": "python",
   "pygments_lexer": "ipython3",
   "version": "3.8.13"
  },
  "orig_nbformat": 4,
  "vscode": {
   "interpreter": {
    "hash": "1f1ea343d18a0e98dbd50f4a3341f5f39bd7be7d912eea72d8401c1237c2e901"
   }
  }
 },
 "nbformat": 4,
 "nbformat_minor": 2
}
