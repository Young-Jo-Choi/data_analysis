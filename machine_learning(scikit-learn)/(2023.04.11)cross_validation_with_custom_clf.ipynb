{
 "cells": [
  {
   "cell_type": "markdown",
   "metadata": {},
   "source": [
    "## 간단한 다중 분류 예시"
   ]
  },
  {
   "cell_type": "code",
   "execution_count": 4,
   "metadata": {},
   "outputs": [],
   "source": [
    "import numpy as np\n",
    "from sklearn.datasets import load_iris\n",
    "from sklearn.model_selection import cross_val_predict\n",
    "from sklearn.model_selection import StratifiedKFold\n",
    "from sklearn.tree import DecisionTreeClassifier"
   ]
  },
  {
   "cell_type": "code",
   "execution_count": 16,
   "metadata": {},
   "outputs": [
    {
     "name": "stdout",
     "output_type": "stream",
     "text": [
      "label\n",
      "3    122\n",
      "1     27\n",
      "2     22\n",
      "0     18\n",
      "Name: count, dtype: int64\n"
     ]
    }
   ],
   "source": [
    "# 상세 데이터는 공개 X\n",
    "# 4진 분류\n",
    "import pandas as pd\n",
    "X = pd.read_csv('X_train.csv')\n",
    "y = pd.read_csv('y_train.csv')\n",
    "y.columns = ['label']\n",
    "print(y.iloc[:,0].value_counts())\n",
    "\n",
    "# clf\n",
    "clf = DecisionTreeClassifier(random_state=0)"
   ]
  },
  {
   "cell_type": "code",
   "execution_count": 17,
   "metadata": {},
   "outputs": [
    {
     "name": "stdout",
     "output_type": "stream",
     "text": [
      "Precision :  0.8000222881175263\n",
      "Recall :  0.7936507936507936\n",
      "F1 score :  0.7960933884164737\n",
      "acc :  0.7936507936507936\n"
     ]
    }
   ],
   "source": [
    "from sklearn.metrics import accuracy_score, precision_score, recall_score, f1_score\n",
    "\n",
    "cv = StratifiedKFold(n_splits=10, random_state=0, shuffle=True)\n",
    "cross_val_pred = cross_val_predict(clf, X, y, cv=cv)\n",
    "\n",
    "print('Precision : ',precision_score(y, cross_val_pred, average='weighted'))\n",
    "print('Recall : ',recall_score(y, cross_val_pred, average='weighted'))\n",
    "print('F1 score : ',f1_score(y, cross_val_pred, average='weighted'))\n",
    "print('acc : ',accuracy_score(y, cross_val_pred))"
   ]
  },
  {
   "cell_type": "markdown",
   "metadata": {},
   "source": [
    "문제 없이 출력되는 것을 확인할 수 있다. 이제 AUROC 계산을 위해 probability를 출력하려하지만 index 문제로 출력되지 않는다.<br>\n",
    "(사실 cross_val_score로 roc_auc_ovr을 바로 계산할 수 있겠지만 여기서는 확률값 추출에 신경 쓰기로 함)"
   ]
  },
  {
   "cell_type": "code",
   "execution_count": 20,
   "metadata": {},
   "outputs": [
    {
     "name": "stdout",
     "output_type": "stream",
     "text": [
      "Error\n",
      "index 1 is out of bounds for axis 1 with size 1\n"
     ]
    },
    {
     "name": "stderr",
     "output_type": "stream",
     "text": [
      "/home/choiyj/.conda/envs/choi/lib/python3.8/site-packages/sklearn/model_selection/_validation.py:1116: RuntimeWarning: Number of classes in training fold (4) does not match total number of classes (1). Results may not be appropriate for your use case. To fix this, use a cross-validation technique resulting in properly stratified folds\n",
      "  warnings.warn(\n"
     ]
    }
   ],
   "source": [
    "from sklearn.metrics import roc_auc_score\n",
    "try:\n",
    "    cross_val_pred = cross_val_predict(clf, X, y, cv=cv, method='predict_proba')\n",
    "    print('AUC : ',roc_auc_score(y, cross_val_pred, multi_class='ovr'))\n",
    "except IndexError as e:\n",
    "    print('Error')\n",
    "    print(e)"
   ]
  },
  {
   "cell_type": "markdown",
   "metadata": {},
   "source": [
    "다음과 같은 custom classifier를 만들어 해결"
   ]
  },
  {
   "cell_type": "code",
   "execution_count": 25,
   "metadata": {},
   "outputs": [
    {
     "name": "stdout",
     "output_type": "stream",
     "text": [
      "Precision :  0.8000222881175263\n",
      "Recall :  0.7936507936507936\n",
      "F1 score :  0.7960933884164737\n",
      "AUC :  0.8262029888362413\n",
      "acc :  0.7936507936507936\n"
     ]
    }
   ],
   "source": [
    "from sklearn.base import BaseEstimator, ClassifierMixin\n",
    "\n",
    "class temp(BaseEstimator, ClassifierMixin):\n",
    "    def __init__(self,clf):\n",
    "        self.clf = clf\n",
    "    def fit(self, X, y):\n",
    "        return self.clf.fit(X, y)\n",
    "    def predict(self, X):\n",
    "        return self.clf.predict_proba(X)\n",
    "cross_val_proba = cross_val_predict(temp(clf), X, y, cv=cv)\n",
    "\n",
    "print('Precision : ',precision_score(y, cross_val_proba.argmax(axis=1), average='weighted'))\n",
    "print('Recall : ',recall_score(y, cross_val_proba.argmax(axis=1), average='weighted'))\n",
    "print('F1 score : ',f1_score(y, cross_val_proba.argmax(axis=1), average='weighted'))\n",
    "print('AUC : ',roc_auc_score(y, cross_val_proba, multi_class='ovr'))\n",
    "print('acc : ',accuracy_score(y, cross_val_proba.argmax(axis=1)))"
   ]
  },
  {
   "cell_type": "markdown",
   "metadata": {},
   "source": [
    "AUC 외 나머지 metric들은 위에서 계산한 것과 동일함을 확인할 수 있음\n",
    "\n",
    "조금 더 복잡한 pipeline도 해결 가능"
   ]
  },
  {
   "cell_type": "code",
   "execution_count": 27,
   "metadata": {},
   "outputs": [
    {
     "name": "stdout",
     "output_type": "stream",
     "text": [
      "Precision :  0.8631411347675263\n",
      "Recall :  0.8624338624338624\n",
      "F1 score :  0.8603823285730638\n",
      "AUC :  0.9548796202481853\n",
      "acc :  0.8624338624338624\n"
     ]
    }
   ],
   "source": [
    "from imblearn.combine import SMOTETomek\n",
    "from imblearn.under_sampling import TomekLinks\n",
    "from imblearn.pipeline import Pipeline, make_pipeline\n",
    "import xgboost as xgb\n",
    "\n",
    "SMOTETomek_pipeline = make_pipeline(SMOTETomek(tomek=TomekLinks(sampling_strategy='majority'), random_state=0),\n",
    "                                    xgb.XGBClassifier(tree_method='gpu_hist', gpu_id=0))\n",
    "cross_val_proba = cross_val_predict(temp(SMOTETomek_pipeline), X, y, cv=cv)\n",
    "\n",
    "print('Precision : ',precision_score(y, cross_val_proba.argmax(axis=1), average='weighted'))\n",
    "print('Recall : ',recall_score(y, cross_val_proba.argmax(axis=1), average='weighted'))\n",
    "print('F1 score : ',f1_score(y, cross_val_proba.argmax(axis=1), average='weighted'))\n",
    "print('AUC : ',roc_auc_score(y, cross_val_proba, multi_class='ovr'))\n",
    "print('acc : ',accuracy_score(y, cross_val_proba.argmax(axis=1)))"
   ]
  }
 ],
 "metadata": {
  "kernelspec": {
   "display_name": "Python 3.8.0 ('choi': conda)",
   "language": "python",
   "name": "python3"
  },
  "language_info": {
   "codemirror_mode": {
    "name": "ipython",
    "version": 3
   },
   "file_extension": ".py",
   "mimetype": "text/x-python",
   "name": "python",
   "nbconvert_exporter": "python",
   "pygments_lexer": "ipython3",
   "version": "3.8.0"
  },
  "orig_nbformat": 4,
  "vscode": {
   "interpreter": {
    "hash": "1f1ea343d18a0e98dbd50f4a3341f5f39bd7be7d912eea72d8401c1237c2e901"
   }
  }
 },
 "nbformat": 4,
 "nbformat_minor": 2
}
