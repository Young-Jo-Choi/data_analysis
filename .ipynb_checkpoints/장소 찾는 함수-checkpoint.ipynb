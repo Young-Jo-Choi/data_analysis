{
 "cells": [
  {
   "cell_type": "code",
   "execution_count": 1,
   "metadata": {},
   "outputs": [],
   "source": [
    "import requests\n",
    "def find_places(searching):\n",
    "    \n",
    "    url = 'https://dapi.kakao.com/v2/local/search/keyword.json?query={}'.format(searching)\n",
    "    headers = {\n",
    "        \"Authorization\": \"입력하시오\"\n",
    "        }\n",
    "    places = requests.get(url, headers = headers).json()['documents']\n",
    "    \n",
    "    place = places[0]\n",
    "    name = place['place_name']\n",
    "    x = place['x']\n",
    "    y = place['y']\n",
    "    data = [name,x,y,searching]\n",
    "    \n",
    "    return data"
   ]
  },
  {
   "cell_type": "code",
   "execution_count": null,
   "metadata": {},
   "outputs": [],
   "source": []
  }
 ],
 "metadata": {
  "kernelspec": {
   "display_name": "Python 3",
   "language": "python",
   "name": "python3"
  },
  "language_info": {
   "codemirror_mode": {
    "name": "ipython",
    "version": 3
   },
   "file_extension": ".py",
   "mimetype": "text/x-python",
   "name": "python",
   "nbconvert_exporter": "python",
   "pygments_lexer": "ipython3",
   "version": "3.7.4"
  }
 },
 "nbformat": 4,
 "nbformat_minor": 2
}
