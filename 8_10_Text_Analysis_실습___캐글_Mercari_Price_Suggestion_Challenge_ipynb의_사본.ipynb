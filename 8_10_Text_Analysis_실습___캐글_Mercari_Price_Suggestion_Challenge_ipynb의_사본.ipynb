{
  "nbformat": 4,
  "nbformat_minor": 0,
  "metadata": {
    "kernelspec": {
      "display_name": "Python 3",
      "language": "python",
      "name": "python3"
    },
    "language_info": {
      "codemirror_mode": {
        "name": "ipython",
        "version": 3
      },
      "file_extension": ".py",
      "mimetype": "text/x-python",
      "name": "python",
      "nbconvert_exporter": "python",
      "pygments_lexer": "ipython3",
      "version": "3.6.5"
    },
    "colab": {
      "name": "8_10_Text_Analysis_실습___캐글_Mercari_Price_Suggestion_Challenge.ipynb의 사본",
      "provenance": [],
      "collapsed_sections": [],
      "toc_visible": true
    }
  },
  "cells": [
    {
      "cell_type": "markdown",
      "metadata": {
        "id": "b_stBuEtk2NK",
        "colab_type": "text"
      },
      "source": [
        "# Mecari Price Suggestion Challenge\n",
        "- 일본의 대형 온라인 쇼핑몰인 Mercari사의 제품에 대해 가격을 예측하기 https://www.mercari.com/\n",
        "- 제품 예상 가격을판매자들에게 제공하고자 함\n",
        "- 판매자가 입력하는 제품명, 브랜드명, 카테고리, 제품설명 등의 텍스트 데이터\n",
        "- https://youtu.be/Um1e6psCj_o\n",
        "\n",
        "\n",
        "dataset: www.kaggle.com/c/mercari-price-suggestion-challenge/data\n",
        "\n",
        "- train.tsv 파일\n",
        "\n",
        "\n",
        "1.   train_id: 데이터 id (integer) - 일련번호로 매겨졌으므로 NaN데이터 없음\n",
        "2.   name: 제품명 (string)\n",
        "3. item_condition_id: 판매자가 제공하는 제품 상태 (integer levels, 1이면 new, 5이면 상태가 안 좋은 것)\n",
        "4. category_name: 카테고리 명 (string)\n",
        "5. brand_name: 브랜드 이름 (string, NaN이 포함됨)\n",
        "6. shipping: 배송비 무료 여부. 1이면 무료(판매자가 지불), 0이면 유료(구매자가 지불) (binary)\n",
        "7. item_description: 제품에 대한 설명 (string, 설명이 없는 것은 'No description yet'이라고 기록됨)\n",
        "8. price: 제품 가격. 예측을 위한 타깃 속성 (float)\n",
        "\n",
        "\n",
        "*item_description과 같은 텍스트 형태의 비정형 데이터와 다른 정형 속성을 같이 적용해 회귀를 수행함*\n",
        "\n",
        "\n",
        "의견1) 배송료도 구매를 결정하는데 중요한 역할을 하는데, 단순히 유료배송이냐 무료배송이냐만 있다. 본인은 배송료까지 포함된 금액을 물건 가격으로 보고 구매를 결정함.\n",
        "\n",
        "의견2) 이미지 정보는 포함되어 있지 않지만, 이미지 역시 가격을 측정하는데 중요한 역할을 함\n"
      ]
    },
    {
      "cell_type": "markdown",
      "metadata": {
        "id": "gVVuIcXUkvv8",
        "colab_type": "text"
      },
      "source": [
        "필요한 경우 구글드라이브 마운트"
      ]
    },
    {
      "cell_type": "code",
      "metadata": {
        "id": "Z1KPx2qveO8t",
        "colab_type": "code",
        "colab": {
          "base_uri": "https://localhost:8080/",
          "height": 126
        },
        "outputId": "5cbc4a1a-cf5d-473f-bf8a-a7735349709e"
      },
      "source": [
        "from google.colab import drive\n",
        "drive.mount('/content/drive')"
      ],
      "execution_count": 1,
      "outputs": [
        {
          "output_type": "stream",
          "text": [
            "Go to this URL in a browser: https://accounts.google.com/o/oauth2/auth?client_id=947318989803-6bn6qk8qdgf4n4g3pfee6491hc0brc4i.apps.googleusercontent.com&redirect_uri=urn%3aietf%3awg%3aoauth%3a2.0%3aoob&scope=email%20https%3a%2f%2fwww.googleapis.com%2fauth%2fdocs.test%20https%3a%2f%2fwww.googleapis.com%2fauth%2fdrive%20https%3a%2f%2fwww.googleapis.com%2fauth%2fdrive.photos.readonly%20https%3a%2f%2fwww.googleapis.com%2fauth%2fpeopleapi.readonly&response_type=code\n",
            "\n",
            "Enter your authorization code:\n",
            "··········\n",
            "Mounted at /content/drive\n"
          ],
          "name": "stdout"
        }
      ]
    },
    {
      "cell_type": "markdown",
      "metadata": {
        "id": "1jzeHXU7nBRz",
        "colab_type": "text"
      },
      "source": [
        "## import"
      ]
    },
    {
      "cell_type": "code",
      "metadata": {
        "id": "7bJZX0c9n2le",
        "colab_type": "code",
        "colab": {}
      },
      "source": [
        "import pandas as pd\n",
        "import numpy as np"
      ],
      "execution_count": 2,
      "outputs": []
    },
    {
      "cell_type": "code",
      "metadata": {
        "id": "PIF6fvTdJUin",
        "colab_type": "code",
        "colab": {}
      },
      "source": [
        "from sklearn.linear_model import Ridge , LogisticRegression\n",
        "from sklearn.model_selection import train_test_split , cross_val_score\n",
        "from sklearn.feature_extraction.text import CountVectorizer , TfidfVectorizer"
      ],
      "execution_count": 3,
      "outputs": []
    },
    {
      "cell_type": "markdown",
      "metadata": {
        "id": "QyBOdeV-JUik",
        "colab_type": "text"
      },
      "source": [
        "## 데이터 불러오기"
      ]
    },
    {
      "cell_type": "code",
      "metadata": {
        "id": "HpqIQaZtm-Ij",
        "colab_type": "code",
        "colab": {}
      },
      "source": [
        "data_path = '/content/drive/My Drive/mercari/'\n",
        "mercari_df= pd.read_csv(data_path+'train.tsv',sep='\\t')"
      ],
      "execution_count": 4,
      "outputs": []
    },
    {
      "cell_type": "markdown",
      "metadata": {
        "id": "HMPUWqFtnJL3",
        "colab_type": "text"
      },
      "source": [
        "## 데이터 살펴보기(전처리)"
      ]
    },
    {
      "cell_type": "code",
      "metadata": {
        "id": "k_Gd7afDnMjh",
        "colab_type": "code",
        "colab": {
          "base_uri": "https://localhost:8080/",
          "height": 242
        },
        "outputId": "c2405ce9-65ae-4193-9bf2-50cbf92e8628"
      },
      "source": [
        "print(mercari_df.shape)\n",
        "mercari_df.head(3)"
      ],
      "execution_count": 5,
      "outputs": [
        {
          "output_type": "stream",
          "text": [
            "(1482535, 8)\n"
          ],
          "name": "stdout"
        },
        {
          "output_type": "execute_result",
          "data": {
            "text/html": [
              "<div>\n",
              "<style scoped>\n",
              "    .dataframe tbody tr th:only-of-type {\n",
              "        vertical-align: middle;\n",
              "    }\n",
              "\n",
              "    .dataframe tbody tr th {\n",
              "        vertical-align: top;\n",
              "    }\n",
              "\n",
              "    .dataframe thead th {\n",
              "        text-align: right;\n",
              "    }\n",
              "</style>\n",
              "<table border=\"1\" class=\"dataframe\">\n",
              "  <thead>\n",
              "    <tr style=\"text-align: right;\">\n",
              "      <th></th>\n",
              "      <th>train_id</th>\n",
              "      <th>name</th>\n",
              "      <th>item_condition_id</th>\n",
              "      <th>category_name</th>\n",
              "      <th>brand_name</th>\n",
              "      <th>price</th>\n",
              "      <th>shipping</th>\n",
              "      <th>item_description</th>\n",
              "    </tr>\n",
              "  </thead>\n",
              "  <tbody>\n",
              "    <tr>\n",
              "      <th>0</th>\n",
              "      <td>0</td>\n",
              "      <td>MLB Cincinnati Reds T Shirt Size XL</td>\n",
              "      <td>3</td>\n",
              "      <td>Men/Tops/T-shirts</td>\n",
              "      <td>NaN</td>\n",
              "      <td>10.0</td>\n",
              "      <td>1</td>\n",
              "      <td>No description yet</td>\n",
              "    </tr>\n",
              "    <tr>\n",
              "      <th>1</th>\n",
              "      <td>1</td>\n",
              "      <td>Razer BlackWidow Chroma Keyboard</td>\n",
              "      <td>3</td>\n",
              "      <td>Electronics/Computers &amp; Tablets/Components &amp; P...</td>\n",
              "      <td>Razer</td>\n",
              "      <td>52.0</td>\n",
              "      <td>0</td>\n",
              "      <td>This keyboard is in great condition and works ...</td>\n",
              "    </tr>\n",
              "    <tr>\n",
              "      <th>2</th>\n",
              "      <td>2</td>\n",
              "      <td>AVA-VIV Blouse</td>\n",
              "      <td>1</td>\n",
              "      <td>Women/Tops &amp; Blouses/Blouse</td>\n",
              "      <td>Target</td>\n",
              "      <td>10.0</td>\n",
              "      <td>1</td>\n",
              "      <td>Adorable top with a hint of lace and a key hol...</td>\n",
              "    </tr>\n",
              "  </tbody>\n",
              "</table>\n",
              "</div>"
            ],
            "text/plain": [
              "   train_id  ...                                   item_description\n",
              "0         0  ...                                 No description yet\n",
              "1         1  ...  This keyboard is in great condition and works ...\n",
              "2         2  ...  Adorable top with a hint of lace and a key hol...\n",
              "\n",
              "[3 rows x 8 columns]"
            ]
          },
          "metadata": {
            "tags": []
          },
          "execution_count": 5
        }
      ]
    },
    {
      "cell_type": "code",
      "metadata": {
        "id": "RIpcu9L0JUi7",
        "colab_type": "code",
        "colab": {
          "base_uri": "https://localhost:8080/",
          "height": 284
        },
        "outputId": "f05c7df5-2c86-4f64-965f-d2b113fb453c"
      },
      "source": [
        "mercari_df.info()"
      ],
      "execution_count": 6,
      "outputs": [
        {
          "output_type": "stream",
          "text": [
            "<class 'pandas.core.frame.DataFrame'>\n",
            "RangeIndex: 1482535 entries, 0 to 1482534\n",
            "Data columns (total 8 columns):\n",
            " #   Column             Non-Null Count    Dtype  \n",
            "---  ------             --------------    -----  \n",
            " 0   train_id           1482535 non-null  int64  \n",
            " 1   name               1482535 non-null  object \n",
            " 2   item_condition_id  1482535 non-null  int64  \n",
            " 3   category_name      1476208 non-null  object \n",
            " 4   brand_name         849853 non-null   object \n",
            " 5   price              1482535 non-null  float64\n",
            " 6   shipping           1482535 non-null  int64  \n",
            " 7   item_description   1482531 non-null  object \n",
            "dtypes: float64(1), int64(3), object(4)\n",
            "memory usage: 90.5+ MB\n"
          ],
          "name": "stdout"
        }
      ]
    },
    {
      "cell_type": "code",
      "metadata": {
        "id": "jM_O5XyFnOqn",
        "colab_type": "code",
        "colab": {
          "base_uri": "https://localhost:8080/",
          "height": 88
        },
        "outputId": "411c7541-8237-4a45-e587-75dd177f8b37"
      },
      "source": [
        "mercari_df.isnull().sum()[mercari_df.isnull().sum()>0]\n",
        "\n",
        "# category_name은 약 6300건이 null\n",
        "# brand_name의 경우 가격에 영향을 미치는 주요 요인임에도 null이 무척 많다.\n",
        "# item_description은 4건이 null ==> 적절한 문자열로 치환해주자."
      ],
      "execution_count": 7,
      "outputs": [
        {
          "output_type": "execute_result",
          "data": {
            "text/plain": [
              "category_name         6327\n",
              "brand_name          632682\n",
              "item_description         4\n",
              "dtype: int64"
            ]
          },
          "metadata": {
            "tags": []
          },
          "execution_count": 7
        }
      ]
    },
    {
      "cell_type": "code",
      "metadata": {
        "id": "ZljdaZ30np-_",
        "colab_type": "code",
        "colab": {
          "base_uri": "https://localhost:8080/",
          "height": 291
        },
        "outputId": "a7b17329-2997-4e5e-aaa2-9f036838b482"
      },
      "source": [
        "np.round(mercari_df.describe(), 2)\n",
        "\n",
        "# 가격이 낮은 가격에 치우쳐있다(strongly left-skewed)\n",
        "# 75% 이상이 30달러 이하의 상품\n",
        "# 최소값은 0이라고 나온다."
      ],
      "execution_count": 8,
      "outputs": [
        {
          "output_type": "execute_result",
          "data": {
            "text/html": [
              "<div>\n",
              "<style scoped>\n",
              "    .dataframe tbody tr th:only-of-type {\n",
              "        vertical-align: middle;\n",
              "    }\n",
              "\n",
              "    .dataframe tbody tr th {\n",
              "        vertical-align: top;\n",
              "    }\n",
              "\n",
              "    .dataframe thead th {\n",
              "        text-align: right;\n",
              "    }\n",
              "</style>\n",
              "<table border=\"1\" class=\"dataframe\">\n",
              "  <thead>\n",
              "    <tr style=\"text-align: right;\">\n",
              "      <th></th>\n",
              "      <th>train_id</th>\n",
              "      <th>item_condition_id</th>\n",
              "      <th>price</th>\n",
              "      <th>shipping</th>\n",
              "    </tr>\n",
              "  </thead>\n",
              "  <tbody>\n",
              "    <tr>\n",
              "      <th>count</th>\n",
              "      <td>1482535.00</td>\n",
              "      <td>1482535.00</td>\n",
              "      <td>1482535.00</td>\n",
              "      <td>1482535.00</td>\n",
              "    </tr>\n",
              "    <tr>\n",
              "      <th>mean</th>\n",
              "      <td>741267.00</td>\n",
              "      <td>1.91</td>\n",
              "      <td>26.74</td>\n",
              "      <td>0.45</td>\n",
              "    </tr>\n",
              "    <tr>\n",
              "      <th>std</th>\n",
              "      <td>427971.14</td>\n",
              "      <td>0.90</td>\n",
              "      <td>38.59</td>\n",
              "      <td>0.50</td>\n",
              "    </tr>\n",
              "    <tr>\n",
              "      <th>min</th>\n",
              "      <td>0.00</td>\n",
              "      <td>1.00</td>\n",
              "      <td>0.00</td>\n",
              "      <td>0.00</td>\n",
              "    </tr>\n",
              "    <tr>\n",
              "      <th>25%</th>\n",
              "      <td>370633.50</td>\n",
              "      <td>1.00</td>\n",
              "      <td>10.00</td>\n",
              "      <td>0.00</td>\n",
              "    </tr>\n",
              "    <tr>\n",
              "      <th>50%</th>\n",
              "      <td>741267.00</td>\n",
              "      <td>2.00</td>\n",
              "      <td>17.00</td>\n",
              "      <td>0.00</td>\n",
              "    </tr>\n",
              "    <tr>\n",
              "      <th>75%</th>\n",
              "      <td>1111900.50</td>\n",
              "      <td>3.00</td>\n",
              "      <td>29.00</td>\n",
              "      <td>1.00</td>\n",
              "    </tr>\n",
              "    <tr>\n",
              "      <th>max</th>\n",
              "      <td>1482534.00</td>\n",
              "      <td>5.00</td>\n",
              "      <td>2009.00</td>\n",
              "      <td>1.00</td>\n",
              "    </tr>\n",
              "  </tbody>\n",
              "</table>\n",
              "</div>"
            ],
            "text/plain": [
              "         train_id  item_condition_id       price    shipping\n",
              "count  1482535.00         1482535.00  1482535.00  1482535.00\n",
              "mean    741267.00               1.91       26.74        0.45\n",
              "std     427971.14               0.90       38.59        0.50\n",
              "min          0.00               1.00        0.00        0.00\n",
              "25%     370633.50               1.00       10.00        0.00\n",
              "50%     741267.00               2.00       17.00        0.00\n",
              "75%    1111900.50               3.00       29.00        1.00\n",
              "max    1482534.00               5.00     2009.00        1.00"
            ]
          },
          "metadata": {
            "tags": []
          },
          "execution_count": 8
        }
      ]
    },
    {
      "cell_type": "code",
      "metadata": {
        "id": "uwigUhIQJUjR",
        "colab_type": "code",
        "colab": {
          "base_uri": "https://localhost:8080/",
          "height": 363
        },
        "outputId": "e67322f2-5209-4511-8996-ddcd9ee343e9"
      },
      "source": [
        "# 가격의 분포도\n",
        "\n",
        "import matplotlib.pyplot as plt\n",
        "import seaborn as sns\n",
        "%matplotlib inline\n",
        "\n",
        "y_train_df = mercari_df['price']\n",
        "plt.figure(figsize=(6,4))\n",
        "sns.distplot(y_train_df, kde=False)\n",
        "\n",
        "# 회귀에서 target값(여기서는 price)의 정규분포도는 매우 중요하다."
      ],
      "execution_count": 9,
      "outputs": [
        {
          "output_type": "stream",
          "text": [
            "/usr/local/lib/python3.6/dist-packages/statsmodels/tools/_testing.py:19: FutureWarning: pandas.util.testing is deprecated. Use the functions in the public API at pandas.testing instead.\n",
            "  import pandas.util.testing as tm\n"
          ],
          "name": "stderr"
        },
        {
          "output_type": "execute_result",
          "data": {
            "text/plain": [
              "<matplotlib.axes._subplots.AxesSubplot at 0x7f4a84d620f0>"
            ]
          },
          "metadata": {
            "tags": []
          },
          "execution_count": 9
        },
        {
          "output_type": "display_data",
          "data": {
            "image/png": "[encoded data removed]",
            "text/plain": [
              "<Figure size 432x288 with 1 Axes>"
            ]
          },
          "metadata": {
            "tags": [],
            "needs_background": "light"
          }
        }
      ]
    },
    {
      "cell_type": "code",
      "metadata": {
        "id": "qPmiS1MVolQl",
        "colab_type": "code",
        "colab": {
          "base_uri": "https://localhost:8080/",
          "height": 710
        },
        "outputId": "185042b9-c08b-4412-9a27-b4ea148c59df"
      },
      "source": [
        "# 가격이 0원인 것이 어떤 것들인지 살펴보자\n",
        "zero = mercari_df.loc[mercari_df['price'] == 0]\n",
        "zero.head(10)"
      ],
      "execution_count": 10,
      "outputs": [
        {
          "output_type": "execute_result",
          "data": {
            "text/html": [
              "<div>\n",
              "<style scoped>\n",
              "    .dataframe tbody tr th:only-of-type {\n",
              "        vertical-align: middle;\n",
              "    }\n",
              "\n",
              "    .dataframe tbody tr th {\n",
              "        vertical-align: top;\n",
              "    }\n",
              "\n",
              "    .dataframe thead th {\n",
              "        text-align: right;\n",
              "    }\n",
              "</style>\n",
              "<table border=\"1\" class=\"dataframe\">\n",
              "  <thead>\n",
              "    <tr style=\"text-align: right;\">\n",
              "      <th></th>\n",
              "      <th>train_id</th>\n",
              "      <th>name</th>\n",
              "      <th>item_condition_id</th>\n",
              "      <th>category_name</th>\n",
              "      <th>brand_name</th>\n",
              "      <th>price</th>\n",
              "      <th>shipping</th>\n",
              "      <th>item_description</th>\n",
              "    </tr>\n",
              "  </thead>\n",
              "  <tbody>\n",
              "    <tr>\n",
              "      <th>1325</th>\n",
              "      <td>1325</td>\n",
              "      <td>Alabama Crimson Tide Quality Lanyard</td>\n",
              "      <td>1</td>\n",
              "      <td>Sports &amp; Outdoors/Fan Shop/NCAA</td>\n",
              "      <td>NaN</td>\n",
              "      <td>0.0</td>\n",
              "      <td>1</td>\n",
              "      <td>TOP QUALITY THICK LANYARD Reversible sides wit...</td>\n",
              "    </tr>\n",
              "    <tr>\n",
              "      <th>2544</th>\n",
              "      <td>2544</td>\n",
              "      <td>Levi leggings</td>\n",
              "      <td>3</td>\n",
              "      <td>Women/Jeans/Slim, Skinny</td>\n",
              "      <td>Levi's®</td>\n",
              "      <td>0.0</td>\n",
              "      <td>0</td>\n",
              "      <td>Light wash. Hardly worn. Size 24 but fits like...</td>\n",
              "    </tr>\n",
              "    <tr>\n",
              "      <th>2712</th>\n",
              "      <td>2712</td>\n",
              "      <td>Simple Red Lace Lingerie Top</td>\n",
              "      <td>3</td>\n",
              "      <td>Women/Underwear/G-Strings &amp; Thongs</td>\n",
              "      <td>NaN</td>\n",
              "      <td>0.0</td>\n",
              "      <td>0</td>\n",
              "      <td>Very simple but cute, a little form fitting as...</td>\n",
              "    </tr>\n",
              "    <tr>\n",
              "      <th>3576</th>\n",
              "      <td>3576</td>\n",
              "      <td>Turquoise 15 Pc Makeup Brush Set</td>\n",
              "      <td>1</td>\n",
              "      <td>Beauty/Tools &amp; Accessories/Makeup Brushes &amp; Tools</td>\n",
              "      <td>NaN</td>\n",
              "      <td>0.0</td>\n",
              "      <td>1</td>\n",
              "      <td>1 left!</td>\n",
              "    </tr>\n",
              "    <tr>\n",
              "      <th>3761</th>\n",
              "      <td>3761</td>\n",
              "      <td>Girls size 7/8</td>\n",
              "      <td>3</td>\n",
              "      <td>Kids/Girls (4+)/Tops &amp; T-Shirts</td>\n",
              "      <td>NaN</td>\n",
              "      <td>0.0</td>\n",
              "      <td>1</td>\n",
              "      <td>5 pair gap jean excellent used condition 3 chi...</td>\n",
              "    </tr>\n",
              "    <tr>\n",
              "      <th>5237</th>\n",
              "      <td>5237</td>\n",
              "      <td>Nursing Bra</td>\n",
              "      <td>3</td>\n",
              "      <td>Women/Underwear/Bras</td>\n",
              "      <td>Motherhood Maternity</td>\n",
              "      <td>0.0</td>\n",
              "      <td>0</td>\n",
              "      <td>Used a few times but was not able to nurse</td>\n",
              "    </tr>\n",
              "    <tr>\n",
              "      <th>6175</th>\n",
              "      <td>6175</td>\n",
              "      <td>Multi Listing Bundled Package, Thanks</td>\n",
              "      <td>2</td>\n",
              "      <td>Electronics/Media/DVD</td>\n",
              "      <td>NaN</td>\n",
              "      <td>0.0</td>\n",
              "      <td>1</td>\n",
              "      <td>1)Large Collection of Full Length Strawberry S...</td>\n",
              "    </tr>\n",
              "    <tr>\n",
              "      <th>7116</th>\n",
              "      <td>7116</td>\n",
              "      <td>Nike Dri-Fit High Power Speed Tights</td>\n",
              "      <td>1</td>\n",
              "      <td>Women/Athletic Apparel/Pants, Tights, Leggings</td>\n",
              "      <td>Nike</td>\n",
              "      <td>0.0</td>\n",
              "      <td>1</td>\n",
              "      <td>Bought at Nike store in New York, Brand New, N...</td>\n",
              "    </tr>\n",
              "    <tr>\n",
              "      <th>7622</th>\n",
              "      <td>7622</td>\n",
              "      <td>Hands free earpiece</td>\n",
              "      <td>1</td>\n",
              "      <td>Electronics/Cell Phones &amp; Accessories/Headsets</td>\n",
              "      <td>NaN</td>\n",
              "      <td>0.0</td>\n",
              "      <td>0</td>\n",
              "      <td>Wireless Bluetooth hands free used with Samsun...</td>\n",
              "    </tr>\n",
              "    <tr>\n",
              "      <th>10812</th>\n",
              "      <td>10812</td>\n",
              "      <td>Vampire candy bowl</td>\n",
              "      <td>1</td>\n",
              "      <td>Home/Seasonal Décor/Halloween</td>\n",
              "      <td>NaN</td>\n",
              "      <td>0.0</td>\n",
              "      <td>0</td>\n",
              "      <td>New good condition for halloween</td>\n",
              "    </tr>\n",
              "  </tbody>\n",
              "</table>\n",
              "</div>"
            ],
            "text/plain": [
              "       train_id  ...                                   item_description\n",
              "1325       1325  ...  TOP QUALITY THICK LANYARD Reversible sides wit...\n",
              "2544       2544  ...  Light wash. Hardly worn. Size 24 but fits like...\n",
              "2712       2712  ...  Very simple but cute, a little form fitting as...\n",
              "3576       3576  ...                                            1 left!\n",
              "3761       3761  ...  5 pair gap jean excellent used condition 3 chi...\n",
              "5237       5237  ...         Used a few times but was not able to nurse\n",
              "6175       6175  ...  1)Large Collection of Full Length Strawberry S...\n",
              "7116       7116  ...  Bought at Nike store in New York, Brand New, N...\n",
              "7622       7622  ...  Wireless Bluetooth hands free used with Samsun...\n",
              "10812     10812  ...                   New good condition for halloween\n",
              "\n",
              "[10 rows x 8 columns]"
            ]
          },
          "metadata": {
            "tags": []
          },
          "execution_count": 10
        }
      ]
    },
    {
      "cell_type": "code",
      "metadata": {
        "id": "yp714lGWpM21",
        "colab_type": "code",
        "colab": {
          "base_uri": "https://localhost:8080/",
          "height": 320
        },
        "outputId": "4b08724c-83aa-4c02-8eb8-0d075d68668e"
      },
      "source": [
        "# 가격이 뭔가 이상하다. 가격과 다른 것들과의 관계를 살펴보자.\n",
        "# price와 item_condition_id의 관계 살펴보기\n",
        "\n",
        "mercari_df.boxplot('price', by='item_condition_id')"
      ],
      "execution_count": 11,
      "outputs": [
        {
          "output_type": "execute_result",
          "data": {
            "text/plain": [
              "<matplotlib.axes._subplots.AxesSubplot at 0x7f4a83afda90>"
            ]
          },
          "metadata": {
            "tags": []
          },
          "execution_count": 11
        },
        {
          "output_type": "display_data",
          "data": {
            "image/png": "[encoded data removed]",
            "text/plain": [
              "<Figure size 432x288 with 1 Axes>"
            ]
          },
          "metadata": {
            "tags": [],
            "needs_background": "light"
          }
        }
      ]
    },
    {
      "cell_type": "code",
      "metadata": {
        "id": "s2-lLq-qpm6-",
        "colab_type": "code",
        "colab": {
          "base_uri": "https://localhost:8080/",
          "height": 318
        },
        "outputId": "e215663a-cea4-41d6-999b-70781dcf1c01"
      },
      "source": [
        "# price와 shipping의 관계 살펴보기\n",
        "\n",
        "mercari_df.boxplot('price', by='shipping')"
      ],
      "execution_count": 12,
      "outputs": [
        {
          "output_type": "execute_result",
          "data": {
            "text/plain": [
              "<matplotlib.axes._subplots.AxesSubplot at 0x7f4a839e2518>"
            ]
          },
          "metadata": {
            "tags": []
          },
          "execution_count": 12
        },
        {
          "output_type": "display_data",
          "data": {
            "image/png": "[encoded data removed]",
            "text/plain": [
              "<Figure size 432x288 with 1 Axes>"
            ]
          },
          "metadata": {
            "tags": [],
            "needs_background": "light"
          }
        }
      ]
    },
    {
      "cell_type": "code",
      "metadata": {
        "id": "3vy0IwR6JUjY",
        "colab_type": "code",
        "colab": {
          "base_uri": "https://localhost:8080/",
          "height": 297
        },
        "outputId": "cb0144b2-2f35-4a9c-f2a4-57d80ee97a68"
      },
      "source": [
        "# price값이 비교적 적은 가격을 가진 데이터 값에 왜곡되어 분포되어 있으므로\n",
        "# price칼럼을 로그값으로 변환한 뒤 분포도 살펴보기 ==> 비교적 정규분포에 가깝게 됨\n",
        "\n",
        "y_train_df = np.log1p(y_train_df)\n",
        "sns.distplot(y_train_df,kde=False)"
      ],
      "execution_count": 13,
      "outputs": [
        {
          "output_type": "execute_result",
          "data": {
            "text/plain": [
              "<matplotlib.axes._subplots.AxesSubplot at 0x7f4a83967630>"
            ]
          },
          "metadata": {
            "tags": []
          },
          "execution_count": 13
        },
        {
          "output_type": "display_data",
          "data": {
            "image/png": "[encoded data removed]",
            "text/plain": [
              "<Figure size 432x288 with 1 Axes>"
            ]
          },
          "metadata": {
            "tags": [],
            "needs_background": "light"
          }
        }
      ]
    },
    {
      "cell_type": "code",
      "metadata": {
        "id": "OLkGQxwNJUjf",
        "colab_type": "code",
        "colab": {
          "base_uri": "https://localhost:8080/",
          "height": 88
        },
        "outputId": "640dd182-ff4f-4bea-fbc5-f9e77e03559e"
      },
      "source": [
        "# price를 로그값으로 변환하니 정규분포에 가깝게 되었다.\n",
        "# ==> 데이터세트의 price 칼럼 값을 로그된 값으로 변환한다. log(p+1)\n",
        "# mercari_df['log_price'] = np.log(mercari_df['price'] + 1)\n",
        "mercari_df['price'] = np.log1p(mercari_df['price'])\n",
        "mercari_df['price'].head(3)"
      ],
      "execution_count": 14,
      "outputs": [
        {
          "output_type": "execute_result",
          "data": {
            "text/plain": [
              "0    2.397895\n",
              "1    3.970292\n",
              "2    2.397895\n",
              "Name: price, dtype: float64"
            ]
          },
          "metadata": {
            "tags": []
          },
          "execution_count": 14
        }
      ]
    },
    {
      "cell_type": "code",
      "metadata": {
        "id": "cmcKpd4cqJnm",
        "colab_type": "code",
        "colab": {
          "base_uri": "https://localhost:8080/",
          "height": 320
        },
        "outputId": "7cbf2dea-26e9-44b5-ce08-09a8974ca953"
      },
      "source": [
        "mercari_df.boxplot('price', by='item_condition_id')"
      ],
      "execution_count": 15,
      "outputs": [
        {
          "output_type": "execute_result",
          "data": {
            "text/plain": [
              "<matplotlib.axes._subplots.AxesSubplot at 0x7f4a838d0358>"
            ]
          },
          "metadata": {
            "tags": []
          },
          "execution_count": 15
        },
        {
          "output_type": "display_data",
          "data": {
            "image/png": "[encoded data removed]",
            "text/plain": [
              "<Figure size 432x288 with 1 Axes>"
            ]
          },
          "metadata": {
            "tags": [],
            "needs_background": "light"
          }
        }
      ]
    },
    {
      "cell_type": "code",
      "metadata": {
        "id": "hte14ps3qetK",
        "colab_type": "code",
        "colab": {
          "base_uri": "https://localhost:8080/",
          "height": 318
        },
        "outputId": "b5ce50bf-f67a-438a-9dfb-0c330910e53f"
      },
      "source": [
        "mercari_df.boxplot('price', by='shipping')"
      ],
      "execution_count": 16,
      "outputs": [
        {
          "output_type": "execute_result",
          "data": {
            "text/plain": [
              "<matplotlib.axes._subplots.AxesSubplot at 0x7f4a837a1400>"
            ]
          },
          "metadata": {
            "tags": []
          },
          "execution_count": 16
        },
        {
          "output_type": "display_data",
          "data": {
            "image/png": "[encoded data removed]",
            "text/plain": [
              "<Figure size 432x288 with 1 Axes>"
            ]
          },
          "metadata": {
            "tags": [],
            "needs_background": "light"
          }
        }
      ]
    },
    {
      "cell_type": "markdown",
      "metadata": {
        "id": "uZcKF2V5r9GO",
        "colab_type": "text"
      },
      "source": [
        "위 차트로 봤을 때는 condition이나 shipping이 price에 영항을 미치는 것 같지는 않다.\n",
        "\n",
        "- https://www.kaggle.com/huguera/mercari-data-analysis/notebook\n",
        "\n",
        "- https://www.kaggle.com/jparajuli/mercari-price-suggestion-preliminary-analysis/notebook"
      ]
    },
    {
      "cell_type": "code",
      "metadata": {
        "id": "TuLN876gJUjo",
        "colab_type": "code",
        "colab": {
          "base_uri": "https://localhost:8080/",
          "height": 88
        },
        "outputId": "ec961d3f-332b-4d34-8dbb-71f81db13639"
      },
      "source": [
        "print(f\"Shipping 값 유형:\\n{mercari_df['shipping'].value_counts()}\")\n",
        "\n",
        "# 배송비의 유무. 비교적 균일"
      ],
      "execution_count": 17,
      "outputs": [
        {
          "output_type": "stream",
          "text": [
            "Shipping 값 유형:\n",
            "0    819435\n",
            "1    663100\n",
            "Name: shipping, dtype: int64\n"
          ],
          "name": "stdout"
        }
      ]
    },
    {
      "cell_type": "code",
      "metadata": {
        "id": "-pb5B8kJplLc",
        "colab_type": "code",
        "colab": {
          "base_uri": "https://localhost:8080/",
          "height": 141
        },
        "outputId": "4f46f08a-2bec-43af-9f5b-d49c9dc281d4"
      },
      "source": [
        "print(f\"item_condition_id 값 유형:\\n{mercari_df['item_condition_id'].value_counts()}\")\n",
        "\n",
        "# 판매자가 제공하는 제품 상태는 주로 1,2,3이다."
      ],
      "execution_count": 18,
      "outputs": [
        {
          "output_type": "stream",
          "text": [
            "item_condition_id 값 유형:\n",
            "1    640549\n",
            "3    432161\n",
            "2    375479\n",
            "4     31962\n",
            "5      2384\n",
            "Name: item_condition_id, dtype: int64\n"
          ],
          "name": "stdout"
        }
      ]
    },
    {
      "cell_type": "code",
      "metadata": {
        "id": "IqVFg7ujJUjv",
        "colab_type": "code",
        "colab": {
          "base_uri": "https://localhost:8080/",
          "height": 34
        },
        "outputId": "8d7fe815-69af-443f-c8e3-e4208f451e7b"
      },
      "source": [
        "boolean_cond= mercari_df['item_description']=='No description yet'\n",
        "mercari_df[boolean_cond]['item_description'].count()\n",
        "\n",
        "# item_description이 'No description yes'이라고 써있는 것의 개수는 82,489개\n",
        "# 이 값은 Null과 마찬가지로 의미 없는 속성값이다 ==> 적절한 값으로 변경해야 함"
      ],
      "execution_count": null,
      "outputs": [
        {
          "output_type": "execute_result",
          "data": {
            "text/plain": [
              "82489"
            ]
          },
          "metadata": {
            "tags": []
          },
          "execution_count": 22
        }
      ]
    },
    {
      "cell_type": "code",
      "metadata": {
        "id": "ez0k0sPJJUj2",
        "colab_type": "code",
        "colab": {}
      },
      "source": [
        "# category_name은 'Men/Tops/T-shirts' 형태로 됨\n",
        "# 여기서 Men은 대, Tops은 중, T-shirts는 소\n",
        "# 이 대, 중, 소를 별도의 feature로 저장해서 학습하자.\n",
        "\n",
        "# apply lambda에서 호출되는 대,중,소 분할 함수 생성, 대,중,소 값을 리스트로 반환함\n",
        "# category_name이 없는 것은 대.중.소 모두 'Other_Null'이 반환됨(약 6,300건)\n",
        "def split_cat(category_name):\n",
        "    try:\n",
        "        return category_name.split('/')\n",
        "    except:\n",
        "        return ['Other_Null', 'Other_Null', 'Other_Null']\n",
        "\n",
        "# 위의 split_cat( )을 호출하여 대,중,소 컬럼을 mercari_df에 생성. \n",
        "mercari_df['cat_dae'], mercari_df['cat_jung'], mercari_df['cat_so'] = \\\n",
        "                        zip(*mercari_df['category_name'].apply(lambda x : split_cat(x)))"
      ],
      "execution_count": 19,
      "outputs": []
    },
    {
      "cell_type": "code",
      "metadata": {
        "id": "Xp3QKGPGsMCp",
        "colab_type": "code",
        "colab": {
          "base_uri": "https://localhost:8080/",
          "height": 301
        },
        "outputId": "89158c3f-7af6-45c4-ee80-640cc28a66fc"
      },
      "source": [
        "# 대분류만 값의 유형과 건수를 살펴보고, 중분류, 소분류는 값의 유형이 많으므로 분류 갯수만 추출\n",
        "print('대분류 유형 :\\n', mercari_df['cat_dae'].value_counts())\n",
        "print('\\n중분류 갯수 :', mercari_df['cat_jung'].nunique())    # unique한 value의 개수를 나타냄\n",
        "print('소분류 갯수 :', mercari_df['cat_so'].nunique())\n",
        "\n",
        "# ==> 대,중,소 분류도 one-hot-encoding 할 예정"
      ],
      "execution_count": 20,
      "outputs": [
        {
          "output_type": "stream",
          "text": [
            "대분류 유형 :\n",
            " Women                     664385\n",
            "Beauty                    207828\n",
            "Kids                      171689\n",
            "Electronics               122690\n",
            "Men                        93680\n",
            "Home                       67871\n",
            "Vintage & Collectibles     46530\n",
            "Other                      45351\n",
            "Handmade                   30842\n",
            "Sports & Outdoors          25342\n",
            "Other_Null                  6327\n",
            "Name: cat_dae, dtype: int64\n",
            "\n",
            "중분류 갯수 : 114\n",
            "소분류 갯수 : 871\n"
          ],
          "name": "stdout"
        }
      ]
    },
    {
      "cell_type": "code",
      "metadata": {
        "id": "m-pOpdrtvl-D",
        "colab_type": "code",
        "colab": {
          "base_uri": "https://localhost:8080/",
          "height": 290
        },
        "outputId": "d8084b90-8602-4ac2-8f03-eb52592f2fb3"
      },
      "source": [
        "mercari_df.head(3)"
      ],
      "execution_count": null,
      "outputs": [
        {
          "output_type": "execute_result",
          "data": {
            "text/html": [
              "<div>\n",
              "<style scoped>\n",
              "    .dataframe tbody tr th:only-of-type {\n",
              "        vertical-align: middle;\n",
              "    }\n",
              "\n",
              "    .dataframe tbody tr th {\n",
              "        vertical-align: top;\n",
              "    }\n",
              "\n",
              "    .dataframe thead th {\n",
              "        text-align: right;\n",
              "    }\n",
              "</style>\n",
              "<table border=\"1\" class=\"dataframe\">\n",
              "  <thead>\n",
              "    <tr style=\"text-align: right;\">\n",
              "      <th></th>\n",
              "      <th>train_id</th>\n",
              "      <th>name</th>\n",
              "      <th>item_condition_id</th>\n",
              "      <th>category_name</th>\n",
              "      <th>brand_name</th>\n",
              "      <th>price</th>\n",
              "      <th>shipping</th>\n",
              "      <th>item_description</th>\n",
              "      <th>cat_dae</th>\n",
              "      <th>cat_jung</th>\n",
              "      <th>cat_so</th>\n",
              "    </tr>\n",
              "  </thead>\n",
              "  <tbody>\n",
              "    <tr>\n",
              "      <th>0</th>\n",
              "      <td>0</td>\n",
              "      <td>MLB Cincinnati Reds T Shirt Size XL</td>\n",
              "      <td>3</td>\n",
              "      <td>Men/Tops/T-shirts</td>\n",
              "      <td>NaN</td>\n",
              "      <td>2.397895</td>\n",
              "      <td>1</td>\n",
              "      <td>No description yet</td>\n",
              "      <td>Men</td>\n",
              "      <td>Tops</td>\n",
              "      <td>T-shirts</td>\n",
              "    </tr>\n",
              "    <tr>\n",
              "      <th>1</th>\n",
              "      <td>1</td>\n",
              "      <td>Razer BlackWidow Chroma Keyboard</td>\n",
              "      <td>3</td>\n",
              "      <td>Electronics/Computers &amp; Tablets/Components &amp; P...</td>\n",
              "      <td>Razer</td>\n",
              "      <td>3.970292</td>\n",
              "      <td>0</td>\n",
              "      <td>This keyboard is in great condition and works ...</td>\n",
              "      <td>Electronics</td>\n",
              "      <td>Computers &amp; Tablets</td>\n",
              "      <td>Components &amp; Parts</td>\n",
              "    </tr>\n",
              "    <tr>\n",
              "      <th>2</th>\n",
              "      <td>2</td>\n",
              "      <td>AVA-VIV Blouse</td>\n",
              "      <td>1</td>\n",
              "      <td>Women/Tops &amp; Blouses/Blouse</td>\n",
              "      <td>Target</td>\n",
              "      <td>2.397895</td>\n",
              "      <td>1</td>\n",
              "      <td>Adorable top with a hint of lace and a key hol...</td>\n",
              "      <td>Women</td>\n",
              "      <td>Tops &amp; Blouses</td>\n",
              "      <td>Blouse</td>\n",
              "    </tr>\n",
              "  </tbody>\n",
              "</table>\n",
              "</div>"
            ],
            "text/plain": [
              "   train_id  ...              cat_so\n",
              "0         0  ...            T-shirts\n",
              "1         1  ...  Components & Parts\n",
              "2         2  ...              Blouse\n",
              "\n",
              "[3 rows x 11 columns]"
            ]
          },
          "metadata": {
            "tags": []
          },
          "execution_count": 25
        }
      ]
    },
    {
      "cell_type": "code",
      "metadata": {
        "id": "hn51l1N-JUj8",
        "colab_type": "code",
        "colab": {
          "base_uri": "https://localhost:8080/",
          "height": 230
        },
        "outputId": "67410380-205f-406f-c283-15a000df5208"
      },
      "source": [
        "# brand_name, category_name, item_description에 Null이 있는 경우에는 모두 'Other Null'로 변경\n",
        "mercari_df['brand_name'] = mercari_df['brand_name'].fillna(value='Other_Null')\n",
        "mercari_df['category_name'] = mercari_df['category_name'].fillna(value='Other_Null')\n",
        "mercari_df['item_description'] = mercari_df['item_description'].fillna(value='Other_Null')\n",
        "\n",
        "# 각 컬럼별로 Null값 건수 확인\n",
        "mercari_df.isnull().sum()"
      ],
      "execution_count": 21,
      "outputs": [
        {
          "output_type": "execute_result",
          "data": {
            "text/plain": [
              "train_id             0\n",
              "name                 0\n",
              "item_condition_id    0\n",
              "category_name        0\n",
              "brand_name           0\n",
              "price                0\n",
              "shipping             0\n",
              "item_description     0\n",
              "cat_dae              0\n",
              "cat_jung             0\n",
              "cat_so               0\n",
              "dtype: int64"
            ]
          },
          "metadata": {
            "tags": []
          },
          "execution_count": 21
        }
      ]
    },
    {
      "cell_type": "markdown",
      "metadata": {
        "id": "nd1SWP8jJUkD",
        "colab_type": "text"
      },
      "source": [
        "## 피처 인코딩과 피처 벡터화\n",
        "- 칼럼을 숫자형 코드값으로 인코딩\n",
        "- 텍스트형 칼럼일 경우에는 피처 벡터화 변환"
      ]
    },
    {
      "cell_type": "markdown",
      "metadata": {
        "id": "w0P3_Wkk5Z-r",
        "colab_type": "text"
      },
      "source": [
        "### brand name - LabelBinarizer(), 원핫인코딩\n",
        "![image.png](data:image/png;base64,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)"
      ]
    },
    {
      "cell_type": "code",
      "metadata": {
        "id": "eV6QkqrpJUkE",
        "colab_type": "code",
        "colab": {
          "base_uri": "https://localhost:8080/",
          "height": 159
        },
        "outputId": "0d59bcb5-513b-4466-a958-e121edd26308"
      },
      "source": [
        "print('brand name 의 유형 건수 :', mercari_df['brand_name'].nunique())\n",
        "print('brand name sample 5건 : \\n', mercari_df['brand_name'].value_counts()[:5])\n",
        "\n",
        "# Name: brand_name, dtype: int64\n",
        "# brand_name의 경우 종류가 4810 건이지만 one-hot-encoding을 한다.(ML 모델 축에 큰 무리가 없다.)"
      ],
      "execution_count": 22,
      "outputs": [
        {
          "output_type": "stream",
          "text": [
            "brand name 의 유형 건수 : 4810\n",
            "brand name sample 5건 : \n",
            " Other_Null           632682\n",
            "PINK                  54088\n",
            "Nike                  54043\n",
            "Victoria's Secret     48036\n",
            "LuLaRoe               31024\n",
            "Name: brand_name, dtype: int64\n"
          ],
          "name": "stdout"
        }
      ]
    },
    {
      "cell_type": "markdown",
      "metadata": {
        "id": "44tkK8at0L0V",
        "colab_type": "text"
      },
      "source": [
        "### name과 item_description을 피처 벡터화\n",
        "- name : CountVectorizer()\n",
        "- item_description : TfidfVectorizer()\n",
        "\n",
        "==> 희소행렬 반환\n",
        "\n",
        "- Tokenization: splitting text into words\n",
        "- Stemming: removing word inflections (getting the root word)\n",
        "- Vectorization: reducing text to a vector with frequencies for each word"
      ]
    },
    {
      "cell_type": "markdown",
      "metadata": {
        "id": "0SEXDfRmw3OQ",
        "colab_type": "text"
      },
      "source": [
        "CountVectorizer\n",
        ": 단어들의 카운트(출현 빈도(frequency))로 여러 문서들을 벡터화. Returns an encoded vector with integer count for each word\n",
        "\n",
        "- 카운트 행렬, 단어 문서 행렬 (Term-Document Matrix, TDM))\n",
        "- 모두 소문자로 변환시키기 때문에 me 와 Me 는 모두 같은 특성이 된다.\n",
        "\n",
        "TfidfVectorizer(term-frequency times inverse documentation-frequency): Returns an encoded vector with weighted count for each word"
      ]
    },
    {
      "cell_type": "markdown",
      "metadata": {
        "id": "2lEV1FOq5ktG",
        "colab_type": "text"
      },
      "source": [
        "### name - CountVectorizer()"
      ]
    },
    {
      "cell_type": "code",
      "metadata": {
        "id": "YJRwWWlzJUkK",
        "colab_type": "code",
        "colab": {
          "base_uri": "https://localhost:8080/",
          "height": 193
        },
        "outputId": "9f854f9f-3d7e-40cb-e27a-c262213606fb"
      },
      "source": [
        "print('name 의 종류 갯수 :', mercari_df['name'].nunique())\n",
        "print('name sample 7건 : \\n', mercari_df['name'][:7])\n",
        "\n",
        "# name의 경우 종류가 1,225,273 건.\n",
        "# 개별적으로 거의 고유한 상품명을 가지고 있다.\n",
        "# 유형이 매우 많고, 적은 단어 위주의 텍스트 형태로 되어 있음\n",
        "# ==> Count 기반으로 피처 백터화 변환 적용"
      ],
      "execution_count": null,
      "outputs": [
        {
          "output_type": "stream",
          "text": [
            "name 의 종류 갯수 : 1225273\n",
            "name sample 7건 : \n",
            " 0    MLB Cincinnati Reds T Shirt Size XL\n",
            "1       Razer BlackWidow Chroma Keyboard\n",
            "2                         AVA-VIV Blouse\n",
            "3                  Leather Horse Statues\n",
            "4                   24K GOLD plated rose\n",
            "5       Bundled items requested for Ruie\n",
            "6     Acacia pacific tides santorini top\n",
            "Name: name, dtype: object\n"
          ],
          "name": "stdout"
        }
      ]
    },
    {
      "cell_type": "markdown",
      "metadata": {
        "id": "sxD7_d7U5uq1",
        "colab_type": "text"
      },
      "source": [
        "### item_description - TfidfVectorizer()"
      ]
    },
    {
      "cell_type": "code",
      "metadata": {
        "id": "Fn2pO0VSJUkR",
        "colab_type": "code",
        "colab": {
          "base_uri": "https://localhost:8080/",
          "height": 108
        },
        "outputId": "80ae35eb-d7da-4ad6-e345-1938cfea87e4"
      },
      "source": [
        "pd.set_option('max_colwidth', 200)\n",
        "\n",
        "# item_description의 평균 문자열 개수\n",
        "# 평균 문자열이 145자로 비교적 크므로 TF-IDF로 변환\n",
        "print('item_description 평균 문자열 개수:',mercari_df['item_description'].str.len().mean())\n",
        "\n",
        "mercari_df['item_description'][:2]"
      ],
      "execution_count": 23,
      "outputs": [
        {
          "output_type": "stream",
          "text": [
            "item_description 평균 문자열 개수: 145.7113889385411\n"
          ],
          "name": "stdout"
        },
        {
          "output_type": "execute_result",
          "data": {
            "text/plain": [
              "0                                                                                                                                                                              No description yet\n",
              "1    This keyboard is in great condition and works like it came out of the box. All of the ports are tested and work perfectly. The lights are customizable via the Razer Synapse app on your PC.\n",
              "Name: item_description, dtype: object"
            ]
          },
          "metadata": {
            "tags": []
          },
          "execution_count": 23
        }
      ]
    },
    {
      "cell_type": "code",
      "metadata": {
        "id": "vZlBP7ioJUkX",
        "colab_type": "code",
        "colab": {
          "base_uri": "https://localhost:8080/",
          "height": 52
        },
        "outputId": "27e4337a-f547-4556-b664-1483f3593ba8"
      },
      "source": [
        "# name 속성에 대한 feature vectorization 변환\n",
        "cnt_vec = CountVectorizer()\n",
        "X_name = cnt_vec.fit_transform(mercari_df.name)\n",
        "\n",
        "# item_description 에 대한 feature vectorization 변환 \n",
        "tfidf_descp = TfidfVectorizer(max_features = 50000, ngram_range= (1,3) , stop_words='english')\n",
        "X_descp = tfidf_descp.fit_transform(mercari_df['item_description'])\n",
        "\n",
        "print('name vectorization shape:',X_name.shape)\n",
        "print('item_description vectorization shape:',X_descp.shape)"
      ],
      "execution_count": null,
      "outputs": [
        {
          "output_type": "stream",
          "text": [
            "name vectorization shape: (1482535, 105757)\n",
            "item_description vectorization shape: (1482535, 50000)\n"
          ],
          "name": "stdout"
        }
      ]
    },
    {
      "cell_type": "markdown",
      "metadata": {
        "id": "uMID6y3JTGIO",
        "colab_type": "text"
      },
      "source": [
        "* stop_words에 대해 참고: https://wikidocs.net/22530"
      ]
    },
    {
      "cell_type": "markdown",
      "metadata": {
        "id": "lgsa7BVq0_Ky",
        "colab_type": "text"
      },
      "source": [
        "- brand_name : LabelNinarizer() - 'sparse_out = True'로 설정하면 희소 행렬 형태의 원-핫 인코딩 변환을 지원한다. \n",
        "- item_condition_id : LabelNinarizer()\n",
        "- shipping : LabelNinarizer()\n",
        "- cat_dae, cat_jung, cat_so : LabelNinarizer()"
      ]
    },
    {
      "cell_type": "markdown",
      "metadata": {
        "id": "qcmIhwfU6bmT",
        "colab_type": "text"
      },
      "source": [
        "### brand_name, item_condition_id, shipping, category(dae, jung, so) - LabelBinarizer()"
      ]
    },
    {
      "cell_type": "code",
      "metadata": {
        "id": "Zys6I7-XJUkc",
        "colab_type": "code",
        "colab": {}
      },
      "source": [
        "# 이 부분은 수행 시간이 오래 걸린다.\n",
        "\n",
        "from sklearn.preprocessing import LabelBinarizer\n",
        "\n",
        "# brand_name, item_condition_id(1~5, 5가지 유형), shipping(0 or 1, 2가지 유형) 각 피처들을 희소 행렬 원-핫 인코딩 변환\n",
        "lb_brand_name= LabelBinarizer(sparse_output=True)\n",
        "X_brand = lb_brand_name.fit_transform(mercari_df['brand_name'])\n",
        "\n",
        "lb_item_cond_id = LabelBinarizer(sparse_output=True)\n",
        "X_item_cond_id = lb_item_cond_id.fit_transform(mercari_df['item_condition_id'])\n",
        "\n",
        "lb_shipping= LabelBinarizer(sparse_output=True)\n",
        "X_shipping = lb_shipping.fit_transform(mercari_df['shipping'])\n",
        "\n",
        "# cat_dae, cat_jung, cat_so 각 피처들을 희소 행렬 원-핫 인코딩 변환\n",
        "lb_cat_dae = LabelBinarizer(sparse_output=True)\n",
        "X_cat_dae= lb_cat_dae.fit_transform(mercari_df['cat_dae'])\n",
        "\n",
        "lb_cat_jung = LabelBinarizer(sparse_output=True)\n",
        "X_cat_jung = lb_cat_jung.fit_transform(mercari_df['cat_jung'])\n",
        "\n",
        "lb_cat_so = LabelBinarizer(sparse_output=True)\n",
        "X_cat_so = lb_cat_so.fit_transform(mercari_df['cat_so'])"
      ],
      "execution_count": null,
      "outputs": []
    },
    {
      "cell_type": "code",
      "metadata": {
        "id": "gJhAh5RnJUko",
        "colab_type": "code",
        "colab": {
          "base_uri": "https://localhost:8080/",
          "height": 87
        },
        "outputId": "f47d96be-8414-408d-d9f2-a1f2c9c10f4d"
      },
      "source": [
        "print(type(X_brand), type(X_item_cond_id), type(X_shipping))\n",
        "print('X_brand_shape:{0}, X_item_cond_id shape:{1}'.format(X_brand.shape, X_item_cond_id.shape))\n",
        "print('X_shipping shape:{0}, X_cat_dae shape:{1}'.format(X_shipping.shape, X_cat_dae.shape))\n",
        "print('X_cat_jung shape:{0}, X_cat_so shape:{1}'.format(X_cat_jung.shape, X_cat_so.shape))\n",
        "\n",
        "# X_brand_shape은 칼럼이 4810개, X_cat_so도 칼럼이 871개\n",
        "# 피처 벡터화로 텍스트 형태의 문자열이 가지는 벡터 형태의 매우 많은 칼럼과 함께 결합되므로 크게 문제되지 않는다."
      ],
      "execution_count": null,
      "outputs": [
        {
          "output_type": "stream",
          "text": [
            "<class 'scipy.sparse.csr.csr_matrix'> <class 'scipy.sparse.csr.csr_matrix'> <class 'scipy.sparse.csr.csr_matrix'>\n",
            "X_brand_shape:(1482535, 4810), X_item_cond_id shape:(1482535, 5)\n",
            "X_shipping shape:(1482535, 1), X_cat_dae shape:(1482535, 11)\n",
            "X_cat_jung shape:(1482535, 114), X_cat_so shape:(1482535, 871)\n"
          ],
          "name": "stdout"
        }
      ]
    },
    {
      "cell_type": "code",
      "metadata": {
        "id": "f__1KtnWJUkv",
        "colab_type": "code",
        "colab": {
          "base_uri": "https://localhost:8080/",
          "height": 52
        },
        "outputId": "d37a4a1e-bbaa-4d3b-b2aa-071dcfc487ab"
      },
      "source": [
        "from  scipy.sparse import hstack\n",
        "import gc\n",
        "\n",
        "sparse_matrix_list = (X_name, X_descp, X_brand, X_item_cond_id,\n",
        "            X_shipping, X_cat_dae, X_cat_jung, X_cat_so)\n",
        "\n",
        "# scipy sparse 모듈의 hstack 함수를 이용하여 앞에서 인코딩과 Vectorization을 수행한 데이터 셋을 모두 결합. \n",
        "# csr : Compressed sparse row \n",
        "X_features_sparse= hstack(sparse_matrix_list).tocsr()\n",
        "print(type(X_features_sparse), X_features_sparse.shape)\n",
        "\n",
        "# 데이터 셋이 메모리를 많이 차지하므로 사용 용도가 끝났으면 바로 메모리에서 삭제. \n",
        "# 나중에 필요할 때마다 다시 결합해서 사용한다.\n",
        "del X_features_sparse\n",
        "gc.collect()    # garbage collection. 인자가 없을 경우 '전체 수거'"
      ],
      "execution_count": null,
      "outputs": [
        {
          "output_type": "stream",
          "text": [
            "<class 'scipy.sparse.csr.csr_matrix'> (1482535, 161569)\n"
          ],
          "name": "stdout"
        },
        {
          "output_type": "execute_result",
          "data": {
            "text/plain": [
              "62"
            ]
          },
          "metadata": {
            "tags": []
          },
          "execution_count": 39
        }
      ]
    },
    {
      "cell_type": "markdown",
      "metadata": {
        "id": "HIFNMYvLJUk1",
        "colab_type": "text"
      },
      "source": [
        "## 릿지 회귀 모델 구축 및 평가\n",
        "- 영향을 거의 미치지 않는 특성에 대하여 0에 가까운 가중치를 주는 방법"
      ]
    },
    {
      "cell_type": "code",
      "metadata": {
        "id": "XYI5lEmcJUk2",
        "colab_type": "code",
        "colab": {}
      },
      "source": [
        "def rmsle(y , y_pred):\n",
        "    # underflow, overflow를 막기 위해 log가 아닌 log1p로 rmsle 계산 \n",
        "    return np.sqrt(np.mean(np.power(np.log1p(y) - np.log1p(y_pred), 2)))\n",
        "\n",
        "def evaluate_org_price(y_test , preds): \n",
        "    \n",
        "    # 원본 데이터는 log1p로 변환되었으므로 exmpm1으로 원복 필요. \n",
        "    preds_exmpm = np.expm1(preds)\n",
        "    y_test_exmpm = np.expm1(y_test)\n",
        "    \n",
        "    # rmsle로 RMSLE(Root Mean Square Logarithmic Error) 값 추출\n",
        "    rmsle_result = rmsle(y_test_exmpm, preds_exmpm)\n",
        "    return rmsle_result"
      ],
      "execution_count": null,
      "outputs": []
    },
    {
      "cell_type": "code",
      "metadata": {
        "id": "8aDhpDqUJUk7",
        "colab_type": "code",
        "colab": {}
      },
      "source": [
        "import gc \n",
        "from  scipy.sparse import hstack\n",
        "\n",
        "def model_train_predict(model,matrix_list):\n",
        "    # scipy.sparse 모듈의 hstack 을 이용하여 sparse matrix 결합\n",
        "    X= hstack(matrix_list).tocsr()     \n",
        "    \n",
        "    X_train, X_test, y_train, y_test=train_test_split(X, mercari_df['price'], \n",
        "                                                      test_size=0.2, random_state=156)\n",
        "    \n",
        "    # 모델 학습 및 예측\n",
        "    model.fit(X_train , y_train)\n",
        "    preds = model.predict(X_test)\n",
        "    \n",
        "    del X , X_train , X_test , y_train \n",
        "    gc.collect()\n",
        "    \n",
        "    return preds , y_test"
      ],
      "execution_count": null,
      "outputs": []
    },
    {
      "cell_type": "code",
      "metadata": {
        "id": "VE0hxHHkJUlA",
        "colab_type": "code",
        "colab": {
          "base_uri": "https://localhost:8080/",
          "height": 52
        },
        "outputId": "d2419a64-bbe1-4b5f-ca78-4918a8a5efcb"
      },
      "source": [
        "linear_model = Ridge(solver = \"lsqr\", fit_intercept=False)\n",
        "\n",
        "sparse_matrix_list = (X_name, X_brand, X_item_cond_id,\n",
        "                      X_shipping, X_cat_dae, X_cat_jung, X_cat_so)\n",
        "linear_preds , y_test = model_train_predict(model=linear_model ,matrix_list=sparse_matrix_list)\n",
        "print('Item Description을 제외했을 때 rmsle 값:', evaluate_org_price(y_test , linear_preds))\n",
        "\n",
        "sparse_matrix_list = (X_descp, X_name, X_brand, X_item_cond_id,\n",
        "                      X_shipping, X_cat_dae, X_cat_jung, X_cat_so)\n",
        "linear_preds , y_test = model_train_predict(model=linear_model , matrix_list=sparse_matrix_list)\n",
        "print('Item Description을 포함한 rmsle 값:',  evaluate_org_price(y_test ,linear_preds))"
      ],
      "execution_count": null,
      "outputs": [
        {
          "output_type": "stream",
          "text": [
            "Item Description을 제외했을 때 rmsle 값: 0.5023727038010544\n",
            "Item Description을 포함한 rmsle 값: 0.4712195143433641\n"
          ],
          "name": "stdout"
        }
      ]
    },
    {
      "cell_type": "markdown",
      "metadata": {
        "id": "-FmiqpqnJUlH",
        "colab_type": "text"
      },
      "source": [
        "## LightGBM 회귀 모델 구축과 앙상블을 이용한 최종 예측 평가\n",
        "- 레벨을 확장하는 게 아니라, 리프(leaf)를 확장한다.\n",
        "- 빠르다. 학습 시간 단축됨\n",
        "- 메모리를 적게 쓴다.\n",
        "- max_depth를 조절할 수 있다. (overfitting에 민감)\n",
        "\n",
        "* 참고: https://nurilee.com/lightgbm-definition-parameter-tuning/"
      ]
    },
    {
      "cell_type": "code",
      "metadata": {
        "id": "qBjMEE-GJUlI",
        "colab_type": "code",
        "colab": {
          "base_uri": "https://localhost:8080/",
          "height": 34
        },
        "outputId": "ab66970a-316d-4381-acc6-4c54be64aa1d"
      },
      "source": [
        "from lightgbm import LGBMRegressor\n",
        "\n",
        "sparse_matrix_list = (X_descp, X_name, X_brand, X_item_cond_id,\n",
        "                      X_shipping, X_cat_dae, X_cat_jung, X_cat_so)\n",
        "\n",
        "# n_estinators를 조절해보자.(200~)\n",
        "lgbm_model = LGBMRegressor(n_estimators=200, learning_rate=0.5, num_leaves=125, random_state=156)\n",
        "lgbm_preds , y_test = model_train_predict(model = lgbm_model , matrix_list=sparse_matrix_list)\n",
        "print('LightGBM rmsle 값:',  evaluate_org_price(y_test , lgbm_preds))"
      ],
      "execution_count": null,
      "outputs": [
        {
          "output_type": "stream",
          "text": [
            "LightGBM rmsle 값: 0.45719580244261243\n"
          ],
          "name": "stdout"
        }
      ]
    },
    {
      "cell_type": "code",
      "metadata": {
        "id": "y0RWuUPGJUlP",
        "colab_type": "code",
        "colab": {
          "base_uri": "https://localhost:8080/",
          "height": 34
        },
        "outputId": "5e832b78-3baa-4727-e1d6-e0950e19e823"
      },
      "source": [
        "preds = lgbm_preds * 0.45 + linear_preds * 0.55\n",
        "print('LightGBM과 Ridge를 ensemble한 최종 rmsle 값:',  evaluate_org_price(y_test , preds))"
      ],
      "execution_count": null,
      "outputs": [
        {
          "output_type": "stream",
          "text": [
            "LightGBM과 Ridge를 ensemble한 최종 rmsle 값: 0.4507259214329315\n"
          ],
          "name": "stdout"
        }
      ]
    },
    {
      "cell_type": "code",
      "metadata": {
        "id": "TovTruJuJUlV",
        "colab_type": "code",
        "colab": {}
      },
      "source": [
        ""
      ],
      "execution_count": null,
      "outputs": []
    }
  ]
}