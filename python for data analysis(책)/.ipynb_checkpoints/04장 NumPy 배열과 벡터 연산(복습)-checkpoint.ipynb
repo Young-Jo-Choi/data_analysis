{
 "cells": [
  {
   "cell_type": "code",
   "execution_count": 1,
   "metadata": {
    "slideshow": {
     "slide_type": "slide"
    }
   },
   "outputs": [],
   "source": [
    "import numpy as np"
   ]
  },
  {
   "cell_type": "markdown",
   "metadata": {
    "slideshow": {
     "slide_type": "slide"
    }
   },
   "source": [
    "기본적인  NumPy관련 내용은 한글파일에 정리\n",
    "\n",
    "이  Jupyter notebook 파일은 넘파이 연산 관련하여 간략히 정리한 것임"
   ]
  },
  {
   "cell_type": "markdown",
   "metadata": {},
   "source": [
    "# ndarray 차원과 shape"
   ]
  },
  {
   "cell_type": "code",
   "execution_count": 2,
   "metadata": {},
   "outputs": [
    {
     "data": {
      "text/plain": [
       "array([[6., 7., 8., 0., 1.],\n",
       "       [1., 2., 3., 4., 5.]])"
      ]
     },
     "execution_count": 2,
     "metadata": {},
     "output_type": "execute_result"
    }
   ],
   "source": [
    "data1 = [[6, 7.5, 8, 0, 1],[1,2,3,4,5]]\n",
    "arr = np.array(data1,dtype=np.int32)     # 배열과 더불어 dtype까지 같이 입력해줄 수 있다.\n",
    "arr1 = arr.astype(np.float64)            # astype으로  dtype을 바꿀 수 있다.\n",
    "arr1"
   ]
  },
  {
   "cell_type": "code",
   "execution_count": 3,
   "metadata": {},
   "outputs": [
    {
     "data": {
      "text/plain": [
       "array([1., 2., 3.])"
      ]
     },
     "execution_count": 3,
     "metadata": {},
     "output_type": "execute_result"
    }
   ],
   "source": [
    "new_array = np.array([1,2,3],dtype=np.int32)\n",
    "new_array.astype(arr1.dtype)            # arr1.dtype으로 다른 객체의 dtype을 그대로 가져올 수 있다."
   ]
  },
  {
   "cell_type": "code",
   "execution_count": 4,
   "metadata": {},
   "outputs": [
    {
     "data": {
      "text/plain": [
       "2"
      ]
     },
     "execution_count": 4,
     "metadata": {},
     "output_type": "execute_result"
    }
   ],
   "source": [
    "arr1.ndim"
   ]
  },
  {
   "cell_type": "code",
   "execution_count": 5,
   "metadata": {},
   "outputs": [
    {
     "data": {
      "text/plain": [
       "(2, 5)"
      ]
     },
     "execution_count": 5,
     "metadata": {},
     "output_type": "execute_result"
    }
   ],
   "source": [
    "arr1.shape"
   ]
  },
  {
   "cell_type": "code",
   "execution_count": 6,
   "metadata": {},
   "outputs": [
    {
     "data": {
      "text/plain": [
       "(array([0], dtype=int64), array([2], dtype=int64))"
      ]
     },
     "execution_count": 6,
     "metadata": {},
     "output_type": "execute_result"
    }
   ],
   "source": [
    "np.where(arr1 == 8.)  # 해당 원소가 주어진 ndarray의 어디에 있는지 위치를 반환하는 메서드"
   ]
  },
  {
   "cell_type": "markdown",
   "metadata": {},
   "source": [
    "# ndarray 생성 관련 메서드"
   ]
  },
  {
   "cell_type": "code",
   "execution_count": 7,
   "metadata": {},
   "outputs": [
    {
     "data": {
      "text/plain": [
       "array([[1., 1., 1.],\n",
       "       [1., 1., 1.]])"
      ]
     },
     "execution_count": 7,
     "metadata": {},
     "output_type": "execute_result"
    }
   ],
   "source": [
    "np.ones((2,3))"
   ]
  },
  {
   "cell_type": "code",
   "execution_count": 8,
   "metadata": {},
   "outputs": [
    {
     "data": {
      "text/plain": [
       "array([[0., 0., 0., 0.],\n",
       "       [0., 0., 0., 0.],\n",
       "       [0., 0., 0., 0.]])"
      ]
     },
     "execution_count": 8,
     "metadata": {},
     "output_type": "execute_result"
    }
   ],
   "source": [
    "np.zeros((3,4))"
   ]
  },
  {
   "cell_type": "code",
   "execution_count": 9,
   "metadata": {},
   "outputs": [
    {
     "data": {
      "text/plain": [
       "array([0, 1, 2, 3, 4, 5, 6, 7, 8, 9])"
      ]
     },
     "execution_count": 9,
     "metadata": {},
     "output_type": "execute_result"
    }
   ],
   "source": [
    "np.arange(10)   # 순수 파이썬 코드의 range 같은 함수"
   ]
  },
  {
   "cell_type": "code",
   "execution_count": 10,
   "metadata": {},
   "outputs": [
    {
     "data": {
      "text/plain": [
       "array([[0.00554209, 1.97905011, 0.9531741 ],\n",
       "       [1.08232462, 0.26355285, 0.76982578]])"
      ]
     },
     "execution_count": 10,
     "metadata": {},
     "output_type": "execute_result"
    }
   ],
   "source": [
    "np.random.randn(2,3)    # 난수 생성에 관해서는 아래에 정리"
   ]
  },
  {
   "cell_type": "markdown",
   "metadata": {},
   "source": [
    "### 기타 여러 가지 생성에 관한 메서드\n",
    "\n",
    "- ones_like :　주어진 배열과 동일한 모양과 dtype을 가지는 배열을 새로 생성. 내용은 모두 1\n",
    "- zeros_like : 내용은 모두 0\n",
    "- empty, empty_like : 메모리를 할당하여 새로운 배열 생성하나 ones나 zeros처럼 값을 초기화하지는 X\n",
    "- full, full_like :  \n",
    "- eye, identity : 단위행렬 생성\n",
    "\n",
    "(like가 들어가면 input에 이미 정의된 ndarray가 들어가야함)"
   ]
  },
  {
   "cell_type": "markdown",
   "metadata": {},
   "source": [
    "# NumPy 배열의 산술 연산"
   ]
  },
  {
   "cell_type": "code",
   "execution_count": 11,
   "metadata": {},
   "outputs": [
    {
     "data": {
      "text/plain": [
       "array([[1, 2, 3],\n",
       "       [4, 5, 6]])"
      ]
     },
     "execution_count": 11,
     "metadata": {},
     "output_type": "execute_result"
    }
   ],
   "source": [
    "arr = np.array([[1,2,3],[4,5,6]])\n",
    "arr"
   ]
  },
  {
   "cell_type": "markdown",
   "metadata": {},
   "source": [
    "- arr * arr : 같은 위치 원소간 곱\n",
    "- arr +(-) arr : 배열간 덧셈(뺄셈)\n",
    "- 1 / arr : 스칼라 인자가 포함된 경우 모든 원소에 스칼라 인자가 적용\n",
    "- arr ** 0.5 : 마찬가지로 모든 원소에 0.5제곱(루트)가 적용\n"
   ]
  },
  {
   "cell_type": "code",
   "execution_count": 12,
   "metadata": {},
   "outputs": [
    {
     "data": {
      "text/plain": [
       "array([[False,  True, False],\n",
       "       [ True, False,  True]])"
      ]
     },
     "execution_count": 12,
     "metadata": {},
     "output_type": "execute_result"
    }
   ],
   "source": [
    "arr2 = np.array([[0,4,1],[7,2,12]])\n",
    "arr2 > arr  # 비교 연산은 불리언 배열을 반환"
   ]
  },
  {
   "cell_type": "markdown",
   "metadata": {},
   "source": [
    "크기가 다른 배열간 연산은 브로드캐스팅(broadcasting)이라고 하는데 자세한 것은 고급 NumPy파일 참조"
   ]
  },
  {
   "cell_type": "markdown",
   "metadata": {},
   "source": [
    "# 색인과 슬라이싱"
   ]
  },
  {
   "cell_type": "markdown",
   "metadata": {},
   "source": [
    "### 1차원 배열의 경우 파이썬 리스트와 유사함"
   ]
  },
  {
   "cell_type": "code",
   "execution_count": 13,
   "metadata": {},
   "outputs": [
    {
     "data": {
      "text/plain": [
       "array([ 6,  7, 11, 11,  1], dtype=int64)"
      ]
     },
     "execution_count": 13,
     "metadata": {},
     "output_type": "execute_result"
    }
   ],
   "source": [
    "arr = np.array([6, 7, 8, 0, 1],dtype=np.int64)\n",
    "arr[2:4]=11\n",
    "arr"
   ]
  },
  {
   "cell_type": "code",
   "execution_count": 14,
   "metadata": {},
   "outputs": [
    {
     "data": {
      "text/plain": [
       "array([ 7, 11], dtype=int64)"
      ]
     },
     "execution_count": 14,
     "metadata": {},
     "output_type": "execute_result"
    }
   ],
   "source": [
    "arr[1:3]"
   ]
  },
  {
   "cell_type": "markdown",
   "metadata": {},
   "source": [
    "### 다차원 배열\n",
    "- 축의 순서에 맞춰서 색인, 슬라이싱 해주면 된다."
   ]
  },
  {
   "cell_type": "code",
   "execution_count": 15,
   "metadata": {},
   "outputs": [
    {
     "data": {
      "text/plain": [
       "array([7, 8, 9])"
      ]
     },
     "execution_count": 15,
     "metadata": {},
     "output_type": "execute_result"
    }
   ],
   "source": [
    "arr2=np.array([[1,2,3],[4,5,6],[7,8,9]])\n",
    "arr2[2]"
   ]
  },
  {
   "cell_type": "code",
   "execution_count": 16,
   "metadata": {},
   "outputs": [
    {
     "data": {
      "text/plain": [
       "8"
      ]
     },
     "execution_count": 16,
     "metadata": {},
     "output_type": "execute_result"
    }
   ],
   "source": [
    "arr2[2][1]"
   ]
  },
  {
   "cell_type": "code",
   "execution_count": 17,
   "metadata": {},
   "outputs": [
    {
     "data": {
      "text/plain": [
       "8"
      ]
     },
     "execution_count": 17,
     "metadata": {},
     "output_type": "execute_result"
    }
   ],
   "source": [
    "arr2[2,1]   # 윗 셀과 동일함, 한 번에 색인하느냐 두 번에 걸쳐 색인하느냐 차이"
   ]
  },
  {
   "cell_type": "code",
   "execution_count": 18,
   "metadata": {},
   "outputs": [
    {
     "data": {
      "text/plain": [
       "array([3, 6, 9])"
      ]
     },
     "execution_count": 18,
     "metadata": {},
     "output_type": "execute_result"
    }
   ],
   "source": [
    "# 컬럼에 대해서만 색인하고자 할 때 \n",
    "arr2[:,2]"
   ]
  },
  {
   "cell_type": "code",
   "execution_count": 19,
   "metadata": {},
   "outputs": [
    {
     "data": {
      "text/plain": [
       "array([[1, 2, 3],\n",
       "       [4, 5, 6]])"
      ]
     },
     "execution_count": 19,
     "metadata": {},
     "output_type": "execute_result"
    }
   ],
   "source": [
    "arr2[:2]"
   ]
  },
  {
   "cell_type": "markdown",
   "metadata": {},
   "source": [
    "- arr2[:2]는 0,1번째 로우를 출력\n",
    "- arr2[:,2]는 2번째 컬럼을 출력\n",
    "\n",
    "- 콜론(:)은 전체를 선택하므로 적절히 활용해 줄 수 있다."
   ]
  },
  {
   "cell_type": "markdown",
   "metadata": {},
   "source": [
    "## 불리언 값으로 선택하기"
   ]
  },
  {
   "cell_type": "code",
   "execution_count": 20,
   "metadata": {},
   "outputs": [
    {
     "data": {
      "text/plain": [
       "array([[0.77343409, 0.79148156],\n",
       "       [0.57768296, 0.671562  ]])"
      ]
     },
     "execution_count": 20,
     "metadata": {},
     "output_type": "execute_result"
    }
   ],
   "source": [
    "names = np.array(['Bob','Joe','Will','Bob','Will','Joe','Joe'])\n",
    "data = np.random.randn(7,4)\n",
    "data.astype(np.int64)       # 랜덤 원소들로 7x4 matrix 출력\n",
    "data[names == 'Bob',2:]     # 불리언 값([T,F,F,T,F,F,F])으로 low에 대한 기준으로 삼은 것"
   ]
  },
  {
   "cell_type": "markdown",
   "metadata": {},
   "source": [
    "##### condtion = (names == ‘Bob’) | (names == ‘Will’)  처럼  | , & 등의 논리연산자 이용할 수도 있음\n",
    "단 이때는 하나의 조건끼리는 괄호( )를 이용해 묶어 주어야함 \n",
    "\n",
    "##### data[~cond] 처럼 != 혹은 ~(condition)을 이용할 수도 있음\n",
    "\n",
    "##### 불리언 배열을 이용한 슬라이싱에 값을 대입하는 것 역시 가능\n",
    "ex) data[names != ‘Joe’] =7"
   ]
  },
  {
   "cell_type": "markdown",
   "metadata": {},
   "source": [
    "## Fancy 색인\n",
    "정수 배열을 사용한 색인"
   ]
  },
  {
   "cell_type": "code",
   "execution_count": 22,
   "metadata": {},
   "outputs": [
    {
     "data": {
      "text/plain": [
       "array([[0., 0., 0., 0.],\n",
       "       [7., 7., 7., 7.],\n",
       "       [6., 6., 6., 6.],\n",
       "       [5., 5., 5., 5.],\n",
       "       [4., 4., 4., 4.],\n",
       "       [3., 3., 3., 3.],\n",
       "       [2., 2., 2., 2.],\n",
       "       [1., 1., 1., 1.]])"
      ]
     },
     "execution_count": 22,
     "metadata": {},
     "output_type": "execute_result"
    }
   ],
   "source": [
    "arr = np.empty((8,4))     # 빈 배열을 생성\n",
    "for i in range(8):\n",
    "    arr[-i]=i            # 색인을 음수로 바꾸면 마지막 로우에서부터 동작한다.\n",
    "arr"
   ]
  },
  {
   "cell_type": "code",
   "execution_count": 23,
   "metadata": {},
   "outputs": [
    {
     "data": {
      "text/plain": [
       "array([[4., 4., 4., 4.],\n",
       "       [5., 5., 5., 5.],\n",
       "       [0., 0., 0., 0.],\n",
       "       [2., 2., 2., 2.]])"
      ]
     },
     "execution_count": 23,
     "metadata": {},
     "output_type": "execute_result"
    }
   ],
   "source": [
    "# 특정한 로우를 선택하고 싶다면 그냥 원하는 순서가 명시된 정수가 담긴 ndarray나 list 넘기면 됨\n",
    "\n",
    "arr[[4,3,0,6]]    #[[]] 두 번 중첩 잊지말기"
   ]
  },
  {
   "cell_type": "code",
   "execution_count": 24,
   "metadata": {},
   "outputs": [
    {
     "data": {
      "text/plain": [
       "array([ 4, 27, 29, 10])"
      ]
     },
     "execution_count": 24,
     "metadata": {},
     "output_type": "execute_result"
    }
   ],
   "source": [
    "arr = np.arange(32).reshape((8,4))\n",
    "arr[[1,6,7,2],[0,3,1,2]]       # (1,0),(6,3),(7,1),(2,2)에 대응하는 원소들 선택"
   ]
  },
  {
   "cell_type": "markdown",
   "metadata": {},
   "source": [
    "## 배열 전치와 축 바꾸기"
   ]
  },
  {
   "cell_type": "code",
   "execution_count": 25,
   "metadata": {},
   "outputs": [
    {
     "data": {
      "text/plain": [
       "array([[ 0,  1,  2,  3,  4],\n",
       "       [ 5,  6,  7,  8,  9],\n",
       "       [10, 11, 12, 13, 14]])"
      ]
     },
     "execution_count": 25,
     "metadata": {},
     "output_type": "execute_result"
    }
   ],
   "source": [
    "A = np.arange(15).reshape((3,5))\n",
    "A"
   ]
  },
  {
   "cell_type": "code",
   "execution_count": 26,
   "metadata": {},
   "outputs": [
    {
     "data": {
      "text/plain": [
       "array([[ 0,  5, 10],\n",
       "       [ 1,  6, 11],\n",
       "       [ 2,  7, 12],\n",
       "       [ 3,  8, 13],\n",
       "       [ 4,  9, 14]])"
      ]
     },
     "execution_count": 26,
     "metadata": {},
     "output_type": "execute_result"
    }
   ],
   "source": [
    "# 2차원 배열을 한 번에 전치(transpose)\n",
    "\n",
    "A.T"
   ]
  },
  {
   "cell_type": "code",
   "execution_count": 28,
   "metadata": {},
   "outputs": [
    {
     "data": {
      "text/plain": [
       "array([[125, 140, 155, 170, 185],\n",
       "       [140, 158, 176, 194, 212],\n",
       "       [155, 176, 197, 218, 239],\n",
       "       [170, 194, 218, 242, 266],\n",
       "       [185, 212, 239, 266, 293]])"
      ]
     },
     "execution_count": 28,
     "metadata": {},
     "output_type": "execute_result"
    }
   ],
   "source": [
    "# 행렬곱(내적) 연산을 수행, 자세한 것은 아래 선형대수 참고\n",
    "\n",
    "np.dot(A.T,A)"
   ]
  },
  {
   "cell_type": "markdown",
   "metadata": {},
   "source": [
    "2차 이상의 다차원 배열의 경우 축 바꾸기"
   ]
  },
  {
   "cell_type": "code",
   "execution_count": 30,
   "metadata": {},
   "outputs": [
    {
     "data": {
      "text/plain": [
       "array([[[ 0,  1,  2,  3],\n",
       "        [ 4,  5,  6,  7]],\n",
       "\n",
       "       [[ 8,  9, 10, 11],\n",
       "        [12, 13, 14, 15]]])"
      ]
     },
     "execution_count": 30,
     "metadata": {},
     "output_type": "execute_result"
    }
   ],
   "source": [
    "arr = np.arange(16).reshape((2,2,4))\n",
    "arr"
   ]
  },
  {
   "cell_type": "code",
   "execution_count": 31,
   "metadata": {},
   "outputs": [
    {
     "data": {
      "text/plain": [
       "array([[[ 0,  1,  2,  3],\n",
       "        [ 8,  9, 10, 11]],\n",
       "\n",
       "       [[ 4,  5,  6,  7],\n",
       "        [12, 13, 14, 15]]])"
      ]
     },
     "execution_count": 31,
     "metadata": {},
     "output_type": "execute_result"
    }
   ],
   "source": [
    "# transpose 메서드를 활용해 축의 순서를 뒤바꿀 수 있다.\n",
    "\n",
    "arr.transpose((1,0,2))  # 0 번째와 1 번째 축의 순서가 뒤바뀌었고 마지막 축은 그대로 남아있음"
   ]
  },
  {
   "cell_type": "code",
   "execution_count": 33,
   "metadata": {},
   "outputs": [
    {
     "data": {
      "text/plain": [
       "array([[[ 0,  1,  2,  3],\n",
       "        [ 8,  9, 10, 11]],\n",
       "\n",
       "       [[ 4,  5,  6,  7],\n",
       "        [12, 13, 14, 15]]])"
      ]
     },
     "execution_count": 33,
     "metadata": {},
     "output_type": "execute_result"
    }
   ],
   "source": [
    "# swapaxes 메서드를 이용하면 뒤바꿀 두 개의 축만 입력하면 된다.\n",
    "\n",
    "arr.swapaxes(0,1)"
   ]
  },
  {
   "cell_type": "markdown",
   "metadata": {},
   "source": [
    "# 유니버셜 함수(ufunc)\n",
    "\n",
    "ndarray 안에 있는 데이터 원소별로 연산을 수행하는 함수\n",
    "\n",
    "하나 이상의 스칼라값을 받아 하나 이상의 스칼라 결과값을 반환하는 간단한 함수를 고속으로 수행한다."
   ]
  },
  {
   "cell_type": "markdown",
   "metadata": {},
   "source": [
    "### 단항 유니버셜 함수\n",
    "- np.sqrt(arr)\n",
    "- np.exp(arr)\n",
    "- abs,fabs : 절대값\n",
    "- ceil : 각 원소의 소수자리를 올림, floor : 내림, rint : 반올림 \n",
    "- logical_not : 각 원소의 논리 부정값(~arr과 동일)\n",
    "- sqrt, square, exp, log, log10(로그의 밑), sign, modf, isnan, 각종 삼각함수,쌍곡삼각함수,역삼각함수"
   ]
  },
  {
   "cell_type": "markdown",
   "metadata": {},
   "source": [
    "### 이항 유니버셜 함수\n",
    "두 개 이상의 인자를 취해서 단일 배열을 반환\n",
    "- x = np.random.randn(8)\n",
    "- y = np.random.randn(8)\n",
    "- np.maximum(x,y), np.minimum(x,y), fmax, fmin : NaN을 무시\n",
    "- power : 첫 번째 배열의 원소를 두 번째 배열의 원소만큼 제곱\n",
    "- mod : 첫 번째 배열의 원소를 두 번째 배열의 원소로 나눈 나머지\n",
    "- copysign : 첫 번째 배열의 원소를 두 번째 배열의 원소의 부호로 바꾼다.\n",
    "- add, subtract, multiply, divide, floor_divide(몫만 취함)\n",
    "- 불리언 배열로 반환 : greater, greater_equal, equal,less, logical_and, logical_or, logical_xor 등등"
   ]
  },
  {
   "cell_type": "code",
   "execution_count": 44,
   "metadata": {},
   "outputs": [
    {
     "name": "stdout",
     "output_type": "stream",
     "text": [
      "False\n",
      "True\n",
      "True\n",
      "False\n"
     ]
    }
   ],
   "source": [
    "print(np.logical_xor(True,True))\n",
    "print(np.logical_xor(True,False))\n",
    "print(np.logical_xor(False,True))\n",
    "print(np.logical_xor(False,False))"
   ]
  },
  {
   "cell_type": "markdown",
   "metadata": {},
   "source": [
    "### 여러 개의 배열을 반환하는 유니버셜 함수 "
   ]
  },
  {
   "cell_type": "code",
   "execution_count": 39,
   "metadata": {},
   "outputs": [
    {
     "name": "stdout",
     "output_type": "stream",
     "text": [
      "[ 0.16011076 -0.68074939  0.01647084 -0.26639325  0.70004461  0.4974153\n",
      " -0.41789561]\n",
      "[ 1. -8.  5. -5.  5.  4. -2.]\n"
     ]
    }
   ],
   "source": [
    "arr = np.random.randn(7) * 5\n",
    "\n",
    "remainder, whole_part = np.modf(arr)  # divmod의 벡터화 버전, 나머지와 몫을 반환\n",
    "print(remainder)\n",
    "print(whole_part)"
   ]
  },
  {
   "cell_type": "code",
   "execution_count": 40,
   "metadata": {},
   "outputs": [
    {
     "name": "stdout",
     "output_type": "stream",
     "text": [
      "원래 arr: [ 1.16011076 -8.68074939  5.01647084 -5.26639325  5.70004461  4.4974153\n",
      " -2.41789561]\n",
      "바뀐 arr: [1.07708438        nan 2.23974794        nan 2.38747662 2.12071104\n",
      "        nan]\n"
     ]
    },
    {
     "name": "stderr",
     "output_type": "stream",
     "text": [
      "C:\\Users\\hp\\Anaconda3\\lib\\site-packages\\ipykernel_launcher.py:3: RuntimeWarning: invalid value encountered in sqrt\n",
      "  This is separate from the ipykernel package so we can avoid doing imports until\n"
     ]
    }
   ],
   "source": [
    "# arr 자체에 결과값을 저장할 수도 있다.\n",
    "print('원래 arr:',arr)\n",
    "np.sqrt(arr,arr)\n",
    "print('바뀐 arr:',arr)   # 음수의 제곱근은 nan으로 표시됨"
   ]
  },
  {
   "cell_type": "markdown",
   "metadata": {},
   "source": [
    "# 배열을 이용한 배열지향 프로그래밍"
   ]
  },
  {
   "cell_type": "markdown",
   "metadata": {},
   "source": [
    "## 배열 연산으로 조건절 표현하기\n",
    "### numpy.where 함수 : x if 조건 else y 같은 삼항식의 벡터화된 버전"
   ]
  },
  {
   "cell_type": "code",
   "execution_count": 4,
   "metadata": {},
   "outputs": [],
   "source": [
    "xarr = np.array([1.1,1.2,1.3,1.4,1.5])\n",
    "yarr = np.array([2.1,2.2,2.3,2.4,2.5])\n",
    "cond = np.array([True,False,True,True,False])"
   ]
  },
  {
   "cell_type": "code",
   "execution_count": 5,
   "metadata": {},
   "outputs": [
    {
     "data": {
      "text/plain": [
       "[1.1, 2.2, 1.3, 1.4, 2.5]"
      ]
     },
     "execution_count": 5,
     "metadata": {},
     "output_type": "execute_result"
    }
   ],
   "source": [
    "# 순수 파이썬 코드로 condition에 따라 xarr 혹은 yarr의 값을 취하는 리스트 구현\n",
    "\n",
    "result =[(x if c else y) for x,y,c in zip(xarr, yarr, cond)]   # zip을 이용해 tuple로 묶어서 조건절을 사용하는 방법은 많이 쓰임\n",
    "result"
   ]
  },
  {
   "cell_type": "code",
   "execution_count": 6,
   "metadata": {},
   "outputs": [
    {
     "data": {
      "text/plain": [
       "array([1.1, 2.2, 1.3, 1.4, 2.5])"
      ]
     },
     "execution_count": 6,
     "metadata": {},
     "output_type": "execute_result"
    }
   ],
   "source": [
    "# 위 방법은 순수 파이썬으로 수행되므로 큰 배열을 빠르게 처리하지 못한다.\n",
    "# np.where 함수를 사용하면 아주 간결\n",
    "\n",
    "result = np.where(cond,xarr,yarr)\n",
    "result"
   ]
  },
  {
   "cell_type": "markdown",
   "metadata": {},
   "source": [
    "- 설명 : 첫 번째 인자로 불리언 배열을 받아 True면 두 번째 인자, False면 세 번째 인자에서 값을 가져온다"
   ]
  },
  {
   "cell_type": "code",
   "execution_count": 7,
   "metadata": {},
   "outputs": [
    {
     "data": {
      "text/plain": [
       "array([[ 2, -2,  2,  2],\n",
       "       [ 2, -2,  2,  2],\n",
       "       [-2,  2, -2, -2],\n",
       "       [-2, -2, -2,  2]])"
      ]
     },
     "execution_count": 7,
     "metadata": {},
     "output_type": "execute_result"
    }
   ],
   "source": [
    "# 두 번째, 세 번째 인자는 배열이 아니어도 상관없다.\n",
    "arr = np.random.randn(4,4)\n",
    "np.where(arr > 0,2,-2)"
   ]
  },
  {
   "cell_type": "code",
   "execution_count": 8,
   "metadata": {},
   "outputs": [
    {
     "data": {
      "text/plain": [
       "array([[ 2.        , -0.29744034,  2.        ,  2.        ],\n",
       "       [ 2.        , -0.69904283,  2.        ,  2.        ],\n",
       "       [-0.4937086 ,  2.        , -0.6036887 , -1.08327268],\n",
       "       [-0.84579307, -0.88161974, -0.76068062,  2.        ]])"
      ]
     },
     "execution_count": 8,
     "metadata": {},
     "output_type": "execute_result"
    }
   ],
   "source": [
    "# 스칼라와 배열을 섞어서 써도 된다.\n",
    "np.where(arr > 0,2,arr)"
   ]
  },
  {
   "cell_type": "markdown",
   "metadata": {},
   "source": [
    "## 수학 메서드와 통계 메서드\n",
    "\n",
    "계산 출력은 생략\n",
    "- sum, mean, std, var, min, max, prod\n",
    "- argmax,argmin : 최대값 원소와 최소값 원소의 색인 (중복될 경우 가장 첫 번째 색인을 반환)\n",
    "- cumsum, cumprod : 누적합,곱으로 같은 크기 배열 반환\n",
    "\n",
    "괄호() 안에 0,1 등 축의 번호를 넣어 원하는 방향으로 계산할 수 있다."
   ]
  },
  {
   "cell_type": "markdown",
   "metadata": {},
   "source": [
    "## 불리언 배열을 위한 메서드\n",
    "- any : 하나 이상이 True인지 검사\n",
    "- all : 모든 값이 True인지 검사\n",
    "\n",
    "괄호() 안에 0,1 등 축의 번호를 넣어 원하는 방향으로 계산할 수 있다."
   ]
  },
  {
   "cell_type": "markdown",
   "metadata": {},
   "source": [
    "## 정렬\n",
    "파이썬 내장 리스트처럼 sort메서드를 사용해서 정렬할 수 있다. (마찬가지로 축 번호를 줄 수 있다)\n",
    "\n",
    "여러 데이터 처리와 관련하여 정렬하는 기법들은 pandas를 참조할 것"
   ]
  },
  {
   "cell_type": "code",
   "execution_count": 10,
   "metadata": {},
   "outputs": [
    {
     "data": {
      "text/plain": [
       "-1.5677868494102187"
      ]
     },
     "execution_count": 10,
     "metadata": {},
     "output_type": "execute_result"
    }
   ],
   "source": [
    "# 정렬을 활용한 테크닉 : 5% 분위수 구하기\n",
    "\n",
    "large_arr = np.random.randn(1000)\n",
    "large_arr.sort()\n",
    "large_arr[int(0.05*len(large_arr))]"
   ]
  },
  {
   "cell_type": "markdown",
   "metadata": {},
   "source": [
    "## 집합 관련 함수 \n",
    "순수 파이썬의 집합 함수와 기능은 비슷하나 모양이 조금씩 다르다.\n",
    "- unique(x) : 배열x에서 중복된 원소 제거\n",
    "- intersect1d(x,y),union1d(x,y), setdiff1d(x,y), setxor1d(x,y) : 교집합, 합집합, 차집합, 대칭차집합\n",
    "- in1d(x,y) : x의 원소가 y의 원소에 포함되는지 나타내는 불리언 배열"
   ]
  },
  {
   "cell_type": "markdown",
   "metadata": {},
   "source": [
    "# 배열 데이터의 파일 입출력\n",
    "- np.save, np.load : 배열을 디스크에 저장하고 불러온다. 기본적으로 가공되지 않은 .npy 형식으로 저장"
   ]
  },
  {
   "cell_type": "code",
   "execution_count": 11,
   "metadata": {},
   "outputs": [],
   "source": [
    "arr = np.arange(10)\n",
    "np.save('some_array',arr)     # arr 배열을 some_array.npy라는 파일로 저장한다"
   ]
  },
  {
   "cell_type": "code",
   "execution_count": 12,
   "metadata": {},
   "outputs": [
    {
     "data": {
      "text/plain": [
       "array([0, 1, 2, 3, 4, 5, 6, 7, 8, 9])"
      ]
     },
     "execution_count": 12,
     "metadata": {},
     "output_type": "execute_result"
    }
   ],
   "source": [
    "new_arr = np.load('some_array.npy')\n",
    "new_arr"
   ]
  },
  {
   "cell_type": "markdown",
   "metadata": {},
   "source": [
    "- np.savez 함수를 이용하면 여러 개의 배열을 압축된 형식(.npz)으로 저장"
   ]
  },
  {
   "cell_type": "code",
   "execution_count": 14,
   "metadata": {},
   "outputs": [],
   "source": [
    "arr1 = np.array([1,2,3,4])\n",
    "arr2 = np.array([5,6,7,8])\n",
    "np.savez('two_arrays',a=arr1,b=arr2)"
   ]
  },
  {
   "cell_type": "code",
   "execution_count": 15,
   "metadata": {},
   "outputs": [
    {
     "data": {
      "text/plain": [
       "array([5, 6, 7, 8])"
      ]
     },
     "execution_count": 15,
     "metadata": {},
     "output_type": "execute_result"
    }
   ],
   "source": [
    "arrays = np.load('two_arrays.npz')\n",
    "arrays['b']"
   ]
  },
  {
   "cell_type": "markdown",
   "metadata": {},
   "source": [
    "# 선형대수 메서드\n",
    "- diag : 정사각 행렬의 대각/비대각 원소를 1차원 배열로 반환 or 1차원 배열을 대각선 원소로 하는 대각행렬 반환\n",
    "- eig : 정사각 행렬의 고유값, 고유벡터 계산 (x,v = eig(A))\n",
    "- dot, trace, det, inv, qr : 행렬곱, 대각선 원소 합, 행렬식, 역행렬, QR분해\n",
    "- svd : 특잇값 분해\n",
    "- solve : 정사각 행렬 A에 대해 Ax=b를 만족하는 x 구함\n",
    "- lstsq : Ax=b를 만족하는 최소제곱해를 구한다."
   ]
  },
  {
   "cell_type": "code",
   "execution_count": 16,
   "metadata": {},
   "outputs": [
    {
     "data": {
      "text/plain": [
       "array([[22, 28],\n",
       "       [49, 64]])"
      ]
     },
     "execution_count": 16,
     "metadata": {},
     "output_type": "execute_result"
    }
   ],
   "source": [
    "x = np.array([[1,2,3],[4,5,6]])\n",
    "y = np.array([[1,2],[3,4],[5,6]])\n",
    "x.dot(y)\n",
    "# 혹은 np.dot(x,y) "
   ]
  },
  {
   "cell_type": "code",
   "execution_count": 19,
   "metadata": {},
   "outputs": [
    {
     "data": {
      "text/plain": [
       "array([[22, 28],\n",
       "       [49, 64]])"
      ]
     },
     "execution_count": 19,
     "metadata": {},
     "output_type": "execute_result"
    }
   ],
   "source": [
    "x @ y  # 순수 파이썬 코드로도 행렬곱이 가능하긴 함"
   ]
  },
  {
   "cell_type": "markdown",
   "metadata": {},
   "source": [
    "### numpy.linalg는 행렬의 분할과 역행렬, 행렬식과 같은 것들을 포함하고 있다."
   ]
  },
  {
   "cell_type": "code",
   "execution_count": 26,
   "metadata": {},
   "outputs": [
    {
     "name": "stdout",
     "output_type": "stream",
     "text": [
      "[[-0.75990027 -0.41326995  0.17607125 -0.39391233  0.25610839]\n",
      " [ 0.23692284 -0.70096856  0.19303682 -0.05290174 -0.6422218 ]\n",
      " [ 0.00968913 -0.34795344 -0.93172305 -0.00278805  0.10353221]\n",
      " [-0.28890749  0.46520084 -0.24762972 -0.46435719 -0.65051715]\n",
      " [ 0.5318437  -0.01917314  0.04803529 -0.79145379  0.29676282]]\n",
      "[[ -4.57798477   3.35210703   0.7546008   -1.67421389   8.91379325]\n",
      " [  0.          -3.5391828   -2.03779851   3.32413419   0.27927354]\n",
      " [  0.           0.          -1.77823599  -0.4685411   -0.25839191]\n",
      " [  0.           0.           0.          -3.82481011 -10.82752322]\n",
      " [  0.           0.           0.           0.           0.91616431]]\n"
     ]
    }
   ],
   "source": [
    "from numpy.linalg import inv,qr\n",
    "X = np.random.randn(5,5)\n",
    "mat = X.T.dot(X)\n",
    "mat.dot(inv(mat))\n",
    "q,r = qr(mat)        # inv와 qr은 그대로 import해왔음\n",
    "print(q)    # 직교행렬\n",
    "print(r)    # 상삼각행렬"
   ]
  },
  {
   "cell_type": "markdown",
   "metadata": {},
   "source": [
    "# 난수 생성\n",
    "### numpy.random 모듈 이용\n",
    "- seed : 시드값 설정\n",
    "- permutation : 순서를 임의로 바꾸거나 임의의 순열을 반환\n",
    "- shuffle : 리스트나 배열의 순서를 뒤섞는다.\n",
    "- rand : 균등분포에서 표본추출\n",
    "- uniform : 균등분포[0,1)에서 표본 추출\n",
    "- randn : 표준편차가 1이고 평균이 0인 정규분포에서 추출\n",
    "- randint : 주어진 최소/최대 범위에서 임의의 난수 추출 \n",
    "- binomial, normal, beta, chisquare, gamma : 이항분포, 정규분포, 베타분포, 카이제곱분포, 감마분포에서 추출"
   ]
  },
  {
   "cell_type": "markdown",
   "metadata": {},
   "source": [
    "### 예)\n",
    "np.random.normal(loc=5,scale=2,size=(3,4)) \n",
    "- loc : 평균, scale : 표준편차 \n",
    "\n",
    "np.random.randint(12,13,3)  \n",
    "- (최소값, 최대값+1, 추출할 난수 개수)\n",
    "\n",
    "np.random.uniform(2,3,(4,2)) \n",
    "- [2,3)에서 4x2만큼\n",
    "\n",
    "np.random.rand(2,3) \n",
    "- 2x3개를 [0,1)에서"
   ]
  },
  {
   "cell_type": "markdown",
   "metadata": {},
   "source": [
    "# 계단 오르내리기 예제\n",
    "\n",
    "한 칸을 올라가거나 내려가거나"
   ]
  },
  {
   "cell_type": "code",
   "execution_count": 43,
   "metadata": {},
   "outputs": [],
   "source": [
    "import matplotlib.pyplot as plt"
   ]
  },
  {
   "cell_type": "code",
   "execution_count": 46,
   "metadata": {},
   "outputs": [
    {
     "data": {
      "text/plain": [
       "[<matplotlib.lines.Line2D at 0x2aae3b8e148>]"
      ]
     },
     "execution_count": 46,
     "metadata": {},
     "output_type": "execute_result"
    },
    {
     "data": {
      "image/png": "[encoded data removed]",
      "text/plain": [
       "<Figure size 432x288 with 1 Axes>"
      ]
     },
     "metadata": {
      "needs_background": "light"
     },
     "output_type": "display_data"
    }
   ],
   "source": [
    "# 순수 파이썬 코드로 구현\n",
    "\n",
    "import random\n",
    "position = 0\n",
    "walk = [position]\n",
    "steps = 1000\n",
    "for i in range(steps):\n",
    "    step =1 if random.randint(0,1) else -1  # np.random.randint는 최대값+1을 입력해야하지만 random.randint는 최대값을 입력한다\n",
    "    position += step\n",
    "    walk.append(position)\n",
    "plt.plot(walk[:100])"
   ]
  },
  {
   "cell_type": "code",
   "execution_count": 49,
   "metadata": {},
   "outputs": [
    {
     "name": "stdout",
     "output_type": "stream",
     "text": [
      "최소값: -13 \n",
      "최대값: 32\n"
     ]
    },
    {
     "data": {
      "image/png": "[encoded data removed]",
      "text/plain": [
       "<Figure size 432x288 with 1 Axes>"
      ]
     },
     "metadata": {
      "needs_background": "light"
     },
     "output_type": "display_data"
    }
   ],
   "source": [
    "# NumPy를 이용\n",
    "\n",
    "nsteps = 1000\n",
    "draws = np.random.randint(0,2,size=nsteps)\n",
    "steps = np.where(draws > 0, 1,-1)      # draws는 배열이므로 조건에 draws=1은 줄 수 없다. draws>0은 불리언 배열로 변환된다.\n",
    "walk = steps.cumsum()\n",
    "plt.plot(walk[:100])\n",
    "\n",
    "print('최소값:',walk.min(),'\\n최대값:',walk.max())"
   ]
  },
  {
   "cell_type": "code",
   "execution_count": 52,
   "metadata": {},
   "outputs": [
    {
     "data": {
      "text/plain": [
       "73"
      ]
     },
     "execution_count": 52,
     "metadata": {},
     "output_type": "execute_result"
    }
   ],
   "source": [
    "# 최초로 10칸 이상 원점에서 떨어질 때까지의 시간을 구하는 통계\n",
    "# argmax는 불리언 배열에서 최초로 True가 나오는 원소의 색인을 반환한다\n",
    "\n",
    "(np.abs(walk)>=10).argmax() \n",
    "\n",
    "# 사실 argmax는 배열 전체를 모두 확인하므로 효과적인 방법은 아니다."
   ]
  },
  {
   "cell_type": "markdown",
   "metadata": {},
   "source": [
    "### 누적합에 대한 시뮬레이션\n",
    "- 오르내리는 횟수는 1000번, 시뮬레이션은 5000번, 2차원 배열을 이용해 계산합시다."
   ]
  },
  {
   "cell_type": "code",
   "execution_count": 54,
   "metadata": {},
   "outputs": [
    {
     "data": {
      "text/plain": [
       "array([[ -1,  -2,  -1, ...,  16,  17,  16],\n",
       "       [  1,   2,   3, ...,  -2,  -3,  -2],\n",
       "       [ -1,   0,   1, ...,  14,  13,  14],\n",
       "       ...,\n",
       "       [  1,   0,   1, ...,  20,  21,  22],\n",
       "       [  1,   0,   1, ...,  46,  45,  44],\n",
       "       [ -1,   0,  -1, ..., -50, -49, -50]], dtype=int32)"
      ]
     },
     "execution_count": 54,
     "metadata": {},
     "output_type": "execute_result"
    }
   ],
   "source": [
    "nwalks = 5000\n",
    "nsteps = 1000\n",
    "draws = np.random.randint(0,2,size=(nwalks,nsteps))\n",
    "steps = np.where(draws>0,1,-1)\n",
    "walks = steps.cumsum(1)       # 0은 로우방향, 1은 컬럼방향\n",
    "walks"
   ]
  },
  {
   "cell_type": "code",
   "execution_count": 56,
   "metadata": {},
   "outputs": [
    {
     "data": {
      "text/plain": [
       "array([False,  True, False, ...,  True,  True,  True])"
      ]
     },
     "execution_count": 56,
     "metadata": {},
     "output_type": "execute_result"
    }
   ],
   "source": [
    "# 누적합이 30 혹은 -30이 되는 최소시점 계산\n",
    "# 누적합이 30에 도달하지 않는 경우가 있기 때문에 any메서드를 이용해 의미없는 행을 제거하자.\n",
    "\n",
    "more_than_thirty = (np.abs(walks)>=30).any(1) \n",
    "more_than_thirty"
   ]
  },
  {
   "cell_type": "code",
   "execution_count": 58,
   "metadata": {},
   "outputs": [
    {
     "data": {
      "text/plain": [
       "array([651, 533, 303, ..., 209, 395, 459], dtype=int64)"
      ]
     },
     "execution_count": 58,
     "metadata": {},
     "output_type": "execute_result"
    }
   ],
   "source": [
    "achievement_times = (np.abs(walks[more_than_thirty]) >= 30).argmax(1) \n",
    "# 불리언 배열로 필요한 행만 취한다 -> 30이 넘느냐 안넘느냐로 다시 불리언 배열 반환 -> 첫 번째 True를 행마다 찾아냄\n",
    "\n",
    "achievement_times"
   ]
  },
  {
   "cell_type": "code",
   "execution_count": 59,
   "metadata": {},
   "outputs": [
    {
     "data": {
      "text/plain": [
       "501.00298953662184"
      ]
     },
     "execution_count": 59,
     "metadata": {},
     "output_type": "execute_result"
    }
   ],
   "source": [
    "achievement_times.mean()   \n",
    "# 평균적으로 501번(그때그때 다를수 있음) 걸으면 30칸만큼 원점에서 멀어진다."
   ]
  },
  {
   "cell_type": "code",
   "execution_count": null,
   "metadata": {},
   "outputs": [],
   "source": []
  }
 ],
 "metadata": {
  "kernelspec": {
   "display_name": "Python 3",
   "language": "python",
   "name": "python3"
  },
  "language_info": {
   "codemirror_mode": {
    "name": "ipython",
    "version": 3
   },
   "file_extension": ".py",
   "mimetype": "text/x-python",
   "name": "python",
   "nbconvert_exporter": "python",
   "pygments_lexer": "ipython3",
   "version": "3.7.4"
  }
 },
 "nbformat": 4,
 "nbformat_minor": 2
}
